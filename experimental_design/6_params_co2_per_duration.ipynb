{
 "cells": [
  {
   "cell_type": "code",
   "execution_count": 1,
   "metadata": {},
   "outputs": [
    {
     "name": "stdout",
     "output_type": "stream",
     "text": [
      "/Users/harrysonghurst/Documents/Coursework/L48 Machine Learning and the Physical World/TrafficEmu copy\n"
     ]
    }
   ],
   "source": [
    "%cd ../"
   ]
  },
  {
   "cell_type": "code",
   "execution_count": 12,
   "metadata": {},
   "outputs": [],
   "source": [
    "# If you get a SciPy error when installing Emukit, build it from source:\n",
    "\n",
    "# git clone https://github.com/amzn/Emukit.git\n",
    "# cd Emukit\n",
    "# pip install -r requirements/requirements.txt\n",
    "# python setup.py develop"
   ]
  },
  {
   "cell_type": "code",
   "execution_count": 13,
   "metadata": {},
   "outputs": [],
   "source": [
    "import numpy as np\n",
    "import pickle\n",
    "import emukit as ek\n",
    "import GPy\n",
    "\n",
    "from emukit.model_wrappers import GPyModelWrapper\n",
    "from emukit.experimental_design.experimental_design_loop import ExperimentalDesignLoop\n",
    "from emukit.core import ParameterSpace, ContinuousParameter, DiscreteParameter\n",
    "from emukit.core.initial_designs import RandomDesign, latin_design\n",
    "from emukit.experimental_design.acquisitions import ModelVariance, IntegratedVarianceReduction\n",
    "from emukit.core.loop import UserFunctionWrapper\n",
    "from emukit.bayesian_optimization.acquisitions import ExpectedImprovement\n",
    "from emukit.bayesian_optimization.loops import BayesianOptimizationLoop\n",
    "from emukit.core.optimization import GradientAcquisitionOptimizer\n",
    "\n",
    "from sumo_grid_simulation.grid_simulation import Simulator\n",
    "import experimental_design.config as config"
   ]
  },
  {
   "cell_type": "markdown",
   "metadata": {},
   "source": [
    "### Pseudocode\n",
    "\n",
    "Fitting a gaussian process to a simulator using Emukit takes the following form (taken from L48 lectures):\n",
    "\n",
    "```\n",
    "initialize GP with some randomly chosen points\n",
    "while stopping condition is not met:\n",
    "    compute candidate point(s) using GP and acquisition funciton (model_variance) -> new point\n",
    "    evaluate this new point with our simulator/user function -> observation\n",
    "    update model with new observation -> new GP\n",
    "```"
   ]
  },
  {
   "cell_type": "markdown",
   "metadata": {},
   "source": [
    "### Simulator"
   ]
  },
  {
   "cell_type": "code",
   "execution_count": 14,
   "metadata": {},
   "outputs": [],
   "source": [
    "simulator = Simulator(end_time=300)"
   ]
  },
  {
   "cell_type": "markdown",
   "metadata": {},
   "source": [
    "### User Function\n",
    " \n",
    "This is the function we want to understand. Namedly, how are CO2 emissions and timeLoss (the time lost due to driving below the ideal speed) affected by the following parameters: \n",
    "\n",
    "```\n",
    "gridSize: the size of the grid network where the simulation is carried out\n",
    "edgeMaxSpeed: legal speed limit in m/s - this can be exceeded (11.11 == 40km/h)\n",
    "maxSpeed: the absolute maximum velocity of any vehicle in m/s (55.55 == 200 km/h)\n",
    "edgeLength: length of the roads between intersections in meters\n",
    "numLanes: number of lanes per road\n",
    "accel: The acceleration ability of vehicles in m/s^2.\n",
    "```\n",
    "\n",
    "*A complete list of parmeters analysed is discussed in our report.*"
   ]
  },
  {
   "cell_type": "code",
   "execution_count": 15,
   "metadata": {},
   "outputs": [],
   "source": [
    "def user_function_co2(X):\n",
    "    \"\"\"  X = inputs - emukit doesnt pass named args, just an NxM ndarray, N is the number of points to evaluate, M is the number of parameters per each point \"\"\"\n",
    "    result = []\n",
    "    i = 0\n",
    "    \n",
    "    print(X)\n",
    "    print(f'\\nUser function time loss called with {X.shape[0]} inputs to simulate')\n",
    "\n",
    "    \n",
    "    for gridSize, edgeMaxSpeed, maxSpeed, edgeLength, numLanes, accel in X:\n",
    "        print(f'\\nEvaluating input: {i+1} of {X.shape[0]}\\n')\n",
    "        \n",
    "        alpha = 0.005\n",
    "        max_number_of_vehicles = ((gridSize - 1) * gridSize * 2 + 4 * gridSize) * edgeLength / 5\n",
    "        period = 300/(max_number_of_vehicles * alpha)\n",
    "        \n",
    "        s = simulator.simulate(\n",
    "            gridSize      = int(gridSize),\n",
    "            edgeMaxSpeed  = edgeMaxSpeed,\n",
    "            maxSpeed      = maxSpeed,\n",
    "            edgeLength    = edgeLength,\n",
    "            numberOfLanes = int(numLanes),\n",
    "            accel         = accel,\n",
    "            trips_generator_period = period\n",
    "        )\n",
    "        # average co2 / average route duration\n",
    "        CO2 = s['CO2']/s['num_emissions_samples']\n",
    "        # average emissions / average route length\n",
    "        result.append(CO2/s['duration'])\n",
    "        i += 1\n",
    "        \n",
    "    # expand dims is essential or the acquition function breaks\n",
    "    return np.expand_dims(np.array(result), 1)  "
   ]
  },
  {
   "cell_type": "markdown",
   "metadata": {},
   "source": [
    "### Model Inputs / parameter space"
   ]
  },
  {
   "cell_type": "code",
   "execution_count": 16,
   "metadata": {},
   "outputs": [],
   "source": [
    "parameter_space = config.get_parameter_space()"
   ]
  },
  {
   "cell_type": "markdown",
   "metadata": {},
   "source": [
    "### Get init, test, and train points\n",
    "\n",
    "Train points are used to optimize a GP without experimental design - to verify experimental design works."
   ]
  },
  {
   "cell_type": "code",
   "execution_count": 17,
   "metadata": {
    "scrolled": true
   },
   "outputs": [
    {
     "name": "stdout",
     "output_type": "stream",
     "text": [
      "[[14.         18.59805717 19.51134292 65.19823397  2.          2.61577094]\n",
      " [ 9.         23.20544458 13.2807693  43.81955176  2.          1.53559613]\n",
      " [11.         17.20213138 10.91735224 69.90123432  1.          2.93029956]\n",
      " [17.         16.73615338 22.76976615 67.15033779  1.          2.47049244]\n",
      " [ 6.         17.76049183 10.07338666 50.24647143  2.          1.56798354]\n",
      " [17.         14.16070016 26.31776149 53.18111819  2.          4.95396074]\n",
      " [16.         13.31180161  9.33740209 35.83310666  2.          3.51909411]\n",
      " [10.          8.45983218  5.60962995 50.73242108  2.          4.40854239]\n",
      " [ 6.         19.2177413  25.01191026 47.50831046  3.          4.08141935]\n",
      " [18.          8.10118311 23.36086682 56.69891274  2.          4.10337899]\n",
      " [ 4.         15.82786608  9.32350735 56.55912405  2.          3.49602501]\n",
      " [18.         13.58804079 26.71059637 60.57827566  1.          1.66663273]\n",
      " [ 5.         20.76794078 12.73488779 40.05228187  2.          3.40755296]\n",
      " [ 4.         20.48113541  5.14026639 33.53914775  2.          2.21951506]\n",
      " [15.         18.82422089 14.01150027 48.17613535  2.          4.37461003]\n",
      " [18.         21.6002305  19.83914334 61.10429497  2.          2.44011101]\n",
      " [17.         20.27568653 13.0916678  36.5504232   3.          4.88131389]\n",
      " [11.         15.93548597 16.5389999  46.53952403  3.          2.08468069]\n",
      " [15.         17.05550806 24.60492633 55.77376708  2.          4.08857484]\n",
      " [ 6.         10.32402473 24.44085773 33.45373268  2.          2.6309334 ]]\n",
      "\n",
      "User function time loss called with 20 inputs to simulate\n",
      "\n",
      "Evaluating input: 1 of 20\n",
      "\n",
      " Retrying in 1 seconds\n",
      "\n",
      "Evaluating input: 2 of 20\n",
      "\n",
      " Retrying in 1 seconds\n",
      "\n",
      "Evaluating input: 3 of 20\n",
      "\n",
      " Retrying in 1 seconds\n",
      "\n",
      "Evaluating input: 4 of 20\n",
      "\n",
      " Retrying in 1 seconds\n",
      "\n",
      "Evaluating input: 5 of 20\n",
      "\n",
      " Retrying in 1 seconds\n",
      "\n",
      "Evaluating input: 6 of 20\n",
      "\n",
      " Retrying in 1 seconds\n",
      "\n",
      "Evaluating input: 7 of 20\n",
      "\n",
      " Retrying in 1 seconds\n",
      "\n",
      "Evaluating input: 8 of 20\n",
      "\n",
      " Retrying in 1 seconds\n",
      "\n",
      "Evaluating input: 9 of 20\n",
      "\n",
      " Retrying in 1 seconds\n",
      "\n",
      "Evaluating input: 10 of 20\n",
      "\n",
      " Retrying in 1 seconds\n",
      "\n",
      "Evaluating input: 11 of 20\n",
      "\n",
      " Retrying in 1 seconds\n",
      "\n",
      "Evaluating input: 12 of 20\n",
      "\n",
      " Retrying in 1 seconds\n",
      "\n",
      "Evaluating input: 13 of 20\n",
      "\n",
      " Retrying in 1 seconds\n",
      "\n",
      "Evaluating input: 14 of 20\n",
      "\n",
      " Retrying in 1 seconds\n",
      "\n",
      "Evaluating input: 15 of 20\n",
      "\n",
      " Retrying in 1 seconds\n",
      "\n",
      "Evaluating input: 16 of 20\n",
      "\n",
      " Retrying in 1 seconds\n",
      "\n",
      "Evaluating input: 17 of 20\n",
      "\n",
      " Retrying in 1 seconds\n",
      "\n",
      "Evaluating input: 18 of 20\n",
      "\n",
      " Retrying in 1 seconds\n",
      "\n",
      "Evaluating input: 19 of 20\n",
      "\n",
      " Retrying in 1 seconds\n",
      "\n",
      "Evaluating input: 20 of 20\n",
      "\n",
      " Retrying in 1 seconds\n",
      "[[ 5.         21.00200298 13.98609122 52.08223613  2.          3.18406232]\n",
      " [18.         10.69827981 11.37073015 62.54607517  1.          1.61677147]\n",
      " [20.         18.12601337  5.27164472 68.86957657  1.          3.45794885]\n",
      " [19.          8.82301492 25.76683037 52.20254846  3.          4.03072191]\n",
      " [ 3.         21.88594375  5.69186016 40.62083757  3.          3.65101326]\n",
      " [ 9.         13.13278907 17.90689568 68.09185558  3.          1.78923715]\n",
      " [12.         23.39513515 15.44146093 36.18282354  1.          2.11955167]\n",
      " [16.         18.96823597 11.1353237  43.48148705  3.          4.08175241]\n",
      " [ 7.         23.0247608   9.08412663 57.72009001  2.          4.19189927]\n",
      " [18.          8.84546017 25.37183684 54.08749164  2.          1.81020547]\n",
      " [ 7.         13.50759015  5.36030315 58.26481911  1.          2.83309381]\n",
      " [13.         14.21472171  9.94288174 69.79063199  2.          1.72634023]\n",
      " [17.         13.44343985 19.81910187 63.63317404  2.          4.08183989]\n",
      " [14.         23.59556266 20.52227684 67.64106555  1.          4.70758435]\n",
      " [ 5.         14.29865914  7.02498672 30.89584937  1.          2.04841512]\n",
      " [ 5.         12.06973861 13.44292772 37.52554646  2.          3.47915149]\n",
      " [ 9.          8.55753443 10.14918544 55.85392825  1.          1.6652    ]\n",
      " [17.         20.7946783   9.85851662 65.56080096  3.          2.96174199]\n",
      " [ 6.         22.97924213 12.45183326 68.98322191  3.          2.17962643]\n",
      " [17.         19.77790134 11.85258668 69.32218272  3.          4.23655696]\n",
      " [ 3.         18.5884319   9.85440728 45.28405606  1.          4.81710131]\n",
      " [ 8.         18.88732143  7.56954839 42.2565901   2.          2.12500351]\n",
      " [12.         22.7357357  11.67653091 62.12923479  2.          2.7461567 ]\n",
      " [ 7.         17.07549423 22.70852879 48.78489412  1.          4.9035427 ]\n",
      " [11.         16.59782898  6.38004404 48.0223769   1.          3.10929776]\n",
      " [ 3.          9.14356499  6.3577499  34.1430445   3.          2.00886911]\n",
      " [18.         15.01783693 21.90288049 45.0156252   2.          2.38773883]\n",
      " [11.         23.57458305  5.71744301 32.72575228  3.          4.39488903]\n",
      " [18.         22.4935973  21.37480627 40.51922793  1.          3.26718622]\n",
      " [ 4.         10.11816831 15.22308902 37.98019886  1.          1.97969944]\n",
      " [ 8.         16.39954236 16.48920298 69.1879424   1.          2.75204722]\n",
      " [ 7.         16.5818098  17.35519035 55.20378371  1.          3.64610369]\n",
      " [15.         18.31336382 10.85219836 67.03352492  2.          4.72776265]\n",
      " [20.          9.81658317 19.56426135 69.03346681  2.          2.8149466 ]\n",
      " [17.         21.0013791  11.76665524 52.86935393  3.          4.27815231]\n",
      " [15.         19.68043948 24.91443859 39.76701159  2.          1.86689166]\n",
      " [15.         19.23786468 26.52666461 43.848556    3.          4.22969991]\n",
      " [ 7.         18.93262598  6.65484427 43.15877526  2.          3.59091678]\n",
      " [20.         22.13890735 15.43055857 56.75230609  1.          3.67687012]\n",
      " [ 7.          9.65798167 13.5999102  64.16270591  3.          3.2481455 ]\n",
      " [ 4.         19.23328085 13.64880108 33.46876164  3.          4.89816294]\n",
      " [ 5.         14.68916027 23.55697684 46.82363214  2.          4.86792948]\n",
      " [19.         23.11370107 14.34991978 61.78952287  3.          2.81495676]\n",
      " [19.         15.23530833  6.77163703 51.46290506  2.          4.45027121]\n",
      " [15.         11.07376319 26.49689621 31.6496757   1.          2.32508971]\n",
      " [ 4.         11.62442533 25.40993337 41.35696384  3.          4.11670368]\n",
      " [10.         13.22920391  7.3016121  37.61438282  2.          2.86165753]\n",
      " [14.         17.27464406 26.88765539 42.31470437  3.          4.58541941]\n",
      " [15.         20.80793825  8.00435547 51.28978167  2.          2.28947847]\n",
      " [ 3.         18.57992638 11.47155872 49.62183608  3.          4.82835651]]\n",
      "\n",
      "User function time loss called with 50 inputs to simulate\n",
      "\n",
      "Evaluating input: 1 of 50\n",
      "\n",
      " Retrying in 1 seconds\n",
      "\n",
      "Evaluating input: 2 of 50\n",
      "\n",
      " Retrying in 1 seconds\n",
      "\n",
      "Evaluating input: 3 of 50\n",
      "\n",
      " Retrying in 1 seconds\n",
      "\n",
      "Evaluating input: 4 of 50\n",
      "\n",
      " Retrying in 1 seconds\n",
      "\n",
      "Evaluating input: 5 of 50\n",
      "\n",
      " Retrying in 1 seconds\n",
      "\n",
      "Evaluating input: 6 of 50\n",
      "\n",
      " Retrying in 1 seconds\n",
      "\n",
      "Evaluating input: 7 of 50\n",
      "\n",
      " Retrying in 1 seconds\n",
      "\n",
      "Evaluating input: 8 of 50\n",
      "\n",
      " Retrying in 1 seconds\n",
      "\n",
      "Evaluating input: 9 of 50\n",
      "\n",
      " Retrying in 1 seconds\n",
      "\n",
      "Evaluating input: 10 of 50\n",
      "\n",
      " Retrying in 1 seconds\n",
      "\n",
      "Evaluating input: 11 of 50\n",
      "\n",
      " Retrying in 1 seconds\n",
      "\n",
      "Evaluating input: 12 of 50\n",
      "\n",
      " Retrying in 1 seconds\n",
      "\n",
      "Evaluating input: 13 of 50\n",
      "\n",
      " Retrying in 1 seconds\n",
      "\n",
      "Evaluating input: 14 of 50\n",
      "\n",
      " Retrying in 1 seconds\n",
      "\n",
      "Evaluating input: 15 of 50\n",
      "\n",
      " Retrying in 1 seconds\n",
      "\n",
      "Evaluating input: 16 of 50\n",
      "\n",
      " Retrying in 1 seconds\n",
      "\n",
      "Evaluating input: 17 of 50\n",
      "\n",
      " Retrying in 1 seconds\n",
      "\n",
      "Evaluating input: 18 of 50\n",
      "\n",
      " Retrying in 1 seconds\n",
      "\n",
      "Evaluating input: 19 of 50\n",
      "\n",
      " Retrying in 1 seconds\n",
      "\n",
      "Evaluating input: 20 of 50\n",
      "\n",
      " Retrying in 1 seconds\n",
      "\n",
      "Evaluating input: 21 of 50\n",
      "\n",
      " Retrying in 1 seconds\n",
      "\n",
      "Evaluating input: 22 of 50\n",
      "\n",
      " Retrying in 1 seconds\n",
      "\n",
      "Evaluating input: 23 of 50\n",
      "\n",
      " Retrying in 1 seconds\n",
      "\n",
      "Evaluating input: 24 of 50\n",
      "\n",
      " Retrying in 1 seconds\n",
      "\n",
      "Evaluating input: 25 of 50\n",
      "\n",
      " Retrying in 1 seconds\n",
      "\n",
      "Evaluating input: 26 of 50\n",
      "\n",
      " Retrying in 1 seconds\n",
      "\n",
      "Evaluating input: 27 of 50\n",
      "\n",
      " Retrying in 1 seconds\n",
      "\n",
      "Evaluating input: 28 of 50\n",
      "\n",
      " Retrying in 1 seconds\n",
      "\n",
      "Evaluating input: 29 of 50\n",
      "\n",
      " Retrying in 1 seconds\n",
      "\n",
      "Evaluating input: 30 of 50\n",
      "\n",
      " Retrying in 1 seconds\n",
      "\n",
      "Evaluating input: 31 of 50\n",
      "\n",
      " Retrying in 1 seconds\n",
      "\n",
      "Evaluating input: 32 of 50\n",
      "\n",
      " Retrying in 1 seconds\n",
      "\n",
      "Evaluating input: 33 of 50\n",
      "\n",
      " Retrying in 1 seconds\n",
      "\n",
      "Evaluating input: 34 of 50\n",
      "\n",
      " Retrying in 1 seconds\n",
      "\n",
      "Evaluating input: 35 of 50\n",
      "\n",
      " Retrying in 1 seconds\n"
     ]
    },
    {
     "name": "stdout",
     "output_type": "stream",
     "text": [
      "\n",
      "Evaluating input: 36 of 50\n",
      "\n",
      " Retrying in 1 seconds\n",
      "\n",
      "Evaluating input: 37 of 50\n",
      "\n",
      " Retrying in 1 seconds\n",
      "\n",
      "Evaluating input: 38 of 50\n",
      "\n",
      " Retrying in 1 seconds\n",
      "\n",
      "Evaluating input: 39 of 50\n",
      "\n",
      " Retrying in 1 seconds\n",
      "\n",
      "Evaluating input: 40 of 50\n",
      "\n",
      " Retrying in 1 seconds\n",
      "\n",
      "Evaluating input: 41 of 50\n",
      "\n",
      " Retrying in 1 seconds\n",
      "\n",
      "Evaluating input: 42 of 50\n",
      "\n",
      " Retrying in 1 seconds\n",
      "\n",
      "Evaluating input: 43 of 50\n",
      "\n",
      " Retrying in 1 seconds\n",
      "\n",
      "Evaluating input: 44 of 50\n",
      "\n",
      " Retrying in 1 seconds\n",
      "\n",
      "Evaluating input: 45 of 50\n",
      "\n",
      " Retrying in 1 seconds\n",
      "\n",
      "Evaluating input: 46 of 50\n",
      "\n",
      " Retrying in 1 seconds\n",
      "\n",
      "Evaluating input: 47 of 50\n",
      "\n",
      " Retrying in 1 seconds\n",
      "\n",
      "Evaluating input: 48 of 50\n",
      "\n",
      " Retrying in 1 seconds\n",
      "\n",
      "Evaluating input: 49 of 50\n",
      "\n",
      " Retrying in 1 seconds\n",
      "\n",
      "Evaluating input: 50 of 50\n",
      "\n",
      " Retrying in 1 seconds\n",
      "[[12.         17.27478322 24.8192092  69.49051878  1.          1.54002918]\n",
      " [12.         18.75206927 10.76793955 59.34246187  1.          2.03032969]\n",
      " [20.         16.82212342 24.75484277 66.23720877  1.          3.96478421]\n",
      " ...\n",
      " [16.         21.28233441  8.09009738 42.05673412  1.          4.43055685]\n",
      " [ 7.         13.14976409 14.26970233 64.17168664  3.          3.77738842]\n",
      " [10.         21.92349937  9.50148413 67.02059058  2.          4.08560038]]\n",
      "\n",
      "User function time loss called with 270 inputs to simulate\n",
      "\n",
      "Evaluating input: 1 of 270\n",
      "\n",
      " Retrying in 1 seconds\n",
      "\n",
      "Evaluating input: 2 of 270\n",
      "\n",
      " Retrying in 1 seconds\n",
      "\n",
      "Evaluating input: 3 of 270\n",
      "\n",
      " Retrying in 1 seconds\n",
      "\n",
      "Evaluating input: 4 of 270\n",
      "\n",
      " Retrying in 1 seconds\n",
      "\n",
      "Evaluating input: 5 of 270\n",
      "\n",
      " Retrying in 1 seconds\n",
      "\n",
      "Evaluating input: 6 of 270\n",
      "\n",
      " Retrying in 1 seconds\n",
      "\n",
      "Evaluating input: 7 of 270\n",
      "\n",
      " Retrying in 1 seconds\n",
      "\n",
      "Evaluating input: 8 of 270\n",
      "\n",
      " Retrying in 1 seconds\n",
      "\n",
      "Evaluating input: 9 of 270\n",
      "\n",
      " Retrying in 1 seconds\n",
      "\n",
      "Evaluating input: 10 of 270\n",
      "\n",
      " Retrying in 1 seconds\n",
      "\n",
      "Evaluating input: 11 of 270\n",
      "\n",
      " Retrying in 1 seconds\n",
      "\n",
      "Evaluating input: 12 of 270\n",
      "\n",
      " Retrying in 1 seconds\n",
      "\n",
      "Evaluating input: 13 of 270\n",
      "\n",
      " Retrying in 1 seconds\n",
      "\n",
      "Evaluating input: 14 of 270\n",
      "\n",
      " Retrying in 1 seconds\n",
      "\n",
      "Evaluating input: 15 of 270\n",
      "\n",
      " Retrying in 1 seconds\n",
      "\n",
      "Evaluating input: 16 of 270\n",
      "\n",
      " Retrying in 1 seconds\n",
      "\n",
      "Evaluating input: 17 of 270\n",
      "\n",
      " Retrying in 1 seconds\n",
      "\n",
      "Evaluating input: 18 of 270\n",
      "\n",
      " Retrying in 1 seconds\n",
      "\n",
      "Evaluating input: 19 of 270\n",
      "\n",
      " Retrying in 1 seconds\n",
      "\n",
      "Evaluating input: 20 of 270\n",
      "\n",
      " Retrying in 1 seconds\n",
      "\n",
      "Evaluating input: 21 of 270\n",
      "\n",
      " Retrying in 1 seconds\n",
      "\n",
      "Evaluating input: 22 of 270\n",
      "\n",
      " Retrying in 1 seconds\n",
      "\n",
      "Evaluating input: 23 of 270\n",
      "\n",
      " Retrying in 1 seconds\n",
      "\n",
      "Evaluating input: 24 of 270\n",
      "\n",
      " Retrying in 1 seconds\n",
      "\n",
      "Evaluating input: 25 of 270\n",
      "\n",
      " Retrying in 1 seconds\n",
      "\n",
      "Evaluating input: 26 of 270\n",
      "\n",
      " Retrying in 1 seconds\n",
      "\n",
      "Evaluating input: 27 of 270\n",
      "\n",
      " Retrying in 1 seconds\n",
      "\n",
      "Evaluating input: 28 of 270\n",
      "\n",
      " Retrying in 1 seconds\n",
      "\n",
      "Evaluating input: 29 of 270\n",
      "\n",
      " Retrying in 1 seconds\n",
      "\n",
      "Evaluating input: 30 of 270\n",
      "\n",
      " Retrying in 1 seconds\n",
      "\n",
      "Evaluating input: 31 of 270\n",
      "\n",
      " Retrying in 1 seconds\n",
      "\n",
      "Evaluating input: 32 of 270\n",
      "\n",
      " Retrying in 1 seconds\n",
      "\n",
      "Evaluating input: 33 of 270\n",
      "\n",
      " Retrying in 1 seconds\n",
      "\n",
      "Evaluating input: 34 of 270\n",
      "\n",
      " Retrying in 1 seconds\n",
      "\n",
      "Evaluating input: 35 of 270\n",
      "\n",
      " Retrying in 1 seconds\n",
      "\n",
      "Evaluating input: 36 of 270\n",
      "\n",
      " Retrying in 1 seconds\n",
      "\n",
      "Evaluating input: 37 of 270\n",
      "\n",
      " Retrying in 1 seconds\n",
      "\n",
      "Evaluating input: 38 of 270\n",
      "\n",
      " Retrying in 1 seconds\n",
      "\n",
      "Evaluating input: 39 of 270\n",
      "\n",
      " Retrying in 1 seconds\n",
      "\n",
      "Evaluating input: 40 of 270\n",
      "\n",
      " Retrying in 1 seconds\n",
      "\n",
      "Evaluating input: 41 of 270\n",
      "\n",
      " Retrying in 1 seconds\n",
      "\n",
      "Evaluating input: 42 of 270\n",
      "\n",
      " Retrying in 1 seconds\n",
      "\n",
      "Evaluating input: 43 of 270\n",
      "\n",
      " Retrying in 1 seconds\n",
      "\n",
      "Evaluating input: 44 of 270\n",
      "\n",
      " Retrying in 1 seconds\n",
      "\n",
      "Evaluating input: 45 of 270\n",
      "\n",
      " Retrying in 1 seconds\n",
      "\n",
      "Evaluating input: 46 of 270\n",
      "\n",
      " Retrying in 1 seconds\n",
      "\n",
      "Evaluating input: 47 of 270\n",
      "\n",
      " Retrying in 1 seconds\n",
      "\n",
      "Evaluating input: 48 of 270\n",
      "\n",
      " Retrying in 1 seconds\n",
      "\n",
      "Evaluating input: 49 of 270\n",
      "\n",
      " Retrying in 1 seconds\n",
      "\n",
      "Evaluating input: 50 of 270\n",
      "\n",
      " Retrying in 1 seconds\n",
      "\n",
      "Evaluating input: 51 of 270\n",
      "\n",
      " Retrying in 1 seconds\n",
      "\n",
      "Evaluating input: 52 of 270\n",
      "\n",
      " Retrying in 1 seconds\n",
      "\n",
      "Evaluating input: 53 of 270\n",
      "\n",
      " Retrying in 1 seconds\n",
      "\n",
      "Evaluating input: 54 of 270\n",
      "\n",
      " Retrying in 1 seconds\n",
      "\n",
      "Evaluating input: 55 of 270\n",
      "\n",
      " Retrying in 1 seconds\n",
      "\n",
      "Evaluating input: 56 of 270\n",
      "\n",
      " Retrying in 1 seconds\n",
      "\n",
      "Evaluating input: 57 of 270\n",
      "\n",
      " Retrying in 1 seconds\n",
      "\n",
      "Evaluating input: 58 of 270\n",
      "\n",
      " Retrying in 1 seconds\n",
      "\n",
      "Evaluating input: 59 of 270\n",
      "\n",
      " Retrying in 1 seconds\n",
      "\n",
      "Evaluating input: 60 of 270\n",
      "\n",
      " Retrying in 1 seconds\n",
      "\n",
      "Evaluating input: 61 of 270\n",
      "\n",
      " Retrying in 1 seconds\n",
      "\n",
      "Evaluating input: 62 of 270\n",
      "\n",
      " Retrying in 1 seconds\n",
      "\n",
      "Evaluating input: 63 of 270\n",
      "\n",
      " Retrying in 1 seconds\n",
      "\n",
      "Evaluating input: 64 of 270\n",
      "\n",
      " Retrying in 1 seconds\n",
      "\n",
      "Evaluating input: 65 of 270\n",
      "\n",
      " Retrying in 1 seconds\n",
      "\n",
      "Evaluating input: 66 of 270\n",
      "\n",
      " Retrying in 1 seconds\n",
      "\n",
      "Evaluating input: 67 of 270\n",
      "\n",
      " Retrying in 1 seconds\n",
      "\n",
      "Evaluating input: 68 of 270\n",
      "\n",
      " Retrying in 1 seconds\n",
      "\n",
      "Evaluating input: 69 of 270\n",
      "\n",
      " Retrying in 1 seconds\n",
      "\n",
      "Evaluating input: 70 of 270\n",
      "\n",
      " Retrying in 1 seconds\n",
      "\n",
      "Evaluating input: 71 of 270\n",
      "\n",
      " Retrying in 1 seconds\n",
      "\n",
      "Evaluating input: 72 of 270\n",
      "\n",
      " Retrying in 1 seconds\n",
      "\n",
      "Evaluating input: 73 of 270\n",
      "\n",
      " Retrying in 1 seconds\n",
      "\n",
      "Evaluating input: 74 of 270\n",
      "\n",
      " Retrying in 1 seconds\n",
      "\n",
      "Evaluating input: 75 of 270\n",
      "\n",
      " Retrying in 1 seconds\n",
      "\n",
      "Evaluating input: 76 of 270\n",
      "\n",
      " Retrying in 1 seconds\n",
      "\n",
      "Evaluating input: 77 of 270\n",
      "\n",
      " Retrying in 1 seconds\n",
      "\n",
      "Evaluating input: 78 of 270\n",
      "\n",
      " Retrying in 1 seconds\n",
      "\n",
      "Evaluating input: 79 of 270\n",
      "\n",
      " Retrying in 1 seconds\n",
      "\n",
      "Evaluating input: 80 of 270\n",
      "\n",
      " Retrying in 1 seconds\n",
      "\n",
      "Evaluating input: 81 of 270\n",
      "\n",
      " Retrying in 1 seconds\n",
      "\n",
      "Evaluating input: 82 of 270\n",
      "\n",
      " Retrying in 1 seconds\n",
      "\n",
      "Evaluating input: 83 of 270\n",
      "\n",
      " Retrying in 1 seconds\n",
      "\n",
      "Evaluating input: 84 of 270\n",
      "\n",
      " Retrying in 1 seconds\n",
      "\n",
      "Evaluating input: 85 of 270\n",
      "\n",
      " Retrying in 1 seconds\n",
      "\n",
      "Evaluating input: 86 of 270\n",
      "\n",
      " Retrying in 1 seconds\n",
      "\n",
      "Evaluating input: 87 of 270\n",
      "\n",
      " Retrying in 1 seconds\n",
      "\n",
      "Evaluating input: 88 of 270\n",
      "\n",
      " Retrying in 1 seconds\n",
      "\n",
      "Evaluating input: 89 of 270\n",
      "\n",
      " Retrying in 1 seconds\n",
      "\n",
      "Evaluating input: 90 of 270\n",
      "\n",
      " Retrying in 1 seconds\n",
      "\n",
      "Evaluating input: 91 of 270\n",
      "\n",
      " Retrying in 1 seconds\n",
      "\n",
      "Evaluating input: 92 of 270\n",
      "\n",
      " Retrying in 1 seconds\n",
      "\n",
      "Evaluating input: 93 of 270\n",
      "\n",
      " Retrying in 1 seconds\n",
      "\n",
      "Evaluating input: 94 of 270\n",
      "\n",
      " Retrying in 1 seconds\n",
      "\n",
      "Evaluating input: 95 of 270\n",
      "\n",
      " Retrying in 1 seconds\n",
      "\n",
      "Evaluating input: 96 of 270\n",
      "\n",
      " Retrying in 1 seconds\n",
      "\n",
      "Evaluating input: 97 of 270\n",
      "\n",
      " Retrying in 1 seconds\n",
      "\n",
      "Evaluating input: 98 of 270\n",
      "\n",
      " Retrying in 1 seconds\n",
      "\n",
      "Evaluating input: 99 of 270\n",
      "\n",
      " Retrying in 1 seconds\n",
      "\n",
      "Evaluating input: 100 of 270\n",
      "\n",
      " Retrying in 1 seconds\n",
      "\n",
      "Evaluating input: 101 of 270\n",
      "\n",
      " Retrying in 1 seconds\n",
      "\n",
      "Evaluating input: 102 of 270\n",
      "\n",
      " Retrying in 1 seconds\n",
      "\n",
      "Evaluating input: 103 of 270\n",
      "\n",
      " Retrying in 1 seconds\n",
      "\n",
      "Evaluating input: 104 of 270\n",
      "\n",
      " Retrying in 1 seconds\n",
      "\n",
      "Evaluating input: 105 of 270\n",
      "\n",
      " Retrying in 1 seconds\n",
      "\n",
      "Evaluating input: 106 of 270\n",
      "\n",
      " Retrying in 1 seconds\n",
      "\n",
      "Evaluating input: 107 of 270\n",
      "\n",
      " Retrying in 1 seconds\n",
      "\n",
      "Evaluating input: 108 of 270\n",
      "\n",
      " Retrying in 1 seconds\n",
      "\n",
      "Evaluating input: 109 of 270\n",
      "\n",
      " Retrying in 1 seconds\n",
      "\n",
      "Evaluating input: 110 of 270\n",
      "\n",
      " Retrying in 1 seconds\n",
      "\n",
      "Evaluating input: 111 of 270\n",
      "\n",
      " Retrying in 1 seconds\n",
      "\n",
      "Evaluating input: 112 of 270\n",
      "\n",
      " Retrying in 1 seconds\n",
      "\n",
      "Evaluating input: 113 of 270\n",
      "\n",
      " Retrying in 1 seconds\n",
      "\n",
      "Evaluating input: 114 of 270\n",
      "\n",
      " Retrying in 1 seconds\n",
      "\n",
      "Evaluating input: 115 of 270\n",
      "\n",
      " Retrying in 1 seconds\n",
      "\n",
      "Evaluating input: 116 of 270\n",
      "\n",
      " Retrying in 1 seconds\n",
      "\n",
      "Evaluating input: 117 of 270\n",
      "\n",
      " Retrying in 1 seconds\n",
      "\n",
      "Evaluating input: 118 of 270\n",
      "\n",
      " Retrying in 1 seconds\n",
      "\n",
      "Evaluating input: 119 of 270\n",
      "\n",
      " Retrying in 1 seconds\n",
      "\n",
      "Evaluating input: 120 of 270\n",
      "\n",
      " Retrying in 1 seconds\n",
      "\n",
      "Evaluating input: 121 of 270\n",
      "\n",
      " Retrying in 1 seconds\n",
      "\n",
      "Evaluating input: 122 of 270\n",
      "\n",
      " Retrying in 1 seconds\n",
      "\n",
      "Evaluating input: 123 of 270\n",
      "\n",
      " Retrying in 1 seconds\n",
      "\n",
      "Evaluating input: 124 of 270\n",
      "\n",
      " Retrying in 1 seconds\n",
      "\n",
      "Evaluating input: 125 of 270\n",
      "\n",
      " Retrying in 1 seconds\n",
      "\n",
      "Evaluating input: 126 of 270\n",
      "\n",
      " Retrying in 1 seconds\n",
      "\n",
      "Evaluating input: 127 of 270\n",
      "\n",
      " Retrying in 1 seconds\n",
      "\n",
      "Evaluating input: 128 of 270\n",
      "\n",
      " Retrying in 1 seconds\n",
      "\n",
      "Evaluating input: 129 of 270\n",
      "\n",
      " Retrying in 1 seconds\n",
      "\n",
      "Evaluating input: 130 of 270\n",
      "\n",
      " Retrying in 1 seconds\n"
     ]
    },
    {
     "name": "stdout",
     "output_type": "stream",
     "text": [
      "\n",
      "Evaluating input: 131 of 270\n",
      "\n",
      " Retrying in 1 seconds\n",
      "\n",
      "Evaluating input: 132 of 270\n",
      "\n",
      " Retrying in 1 seconds\n",
      "\n",
      "Evaluating input: 133 of 270\n",
      "\n",
      " Retrying in 1 seconds\n",
      "\n",
      "Evaluating input: 134 of 270\n",
      "\n",
      " Retrying in 1 seconds\n",
      "\n",
      "Evaluating input: 135 of 270\n",
      "\n",
      " Retrying in 1 seconds\n",
      "\n",
      "Evaluating input: 136 of 270\n",
      "\n",
      " Retrying in 1 seconds\n",
      "\n",
      "Evaluating input: 137 of 270\n",
      "\n",
      " Retrying in 1 seconds\n",
      "\n",
      "Evaluating input: 138 of 270\n",
      "\n",
      " Retrying in 1 seconds\n",
      "\n",
      "Evaluating input: 139 of 270\n",
      "\n",
      " Retrying in 1 seconds\n",
      "\n",
      "Evaluating input: 140 of 270\n",
      "\n",
      " Retrying in 1 seconds\n",
      "\n",
      "Evaluating input: 141 of 270\n",
      "\n",
      " Retrying in 1 seconds\n",
      "\n",
      "Evaluating input: 142 of 270\n",
      "\n",
      " Retrying in 1 seconds\n",
      "\n",
      "Evaluating input: 143 of 270\n",
      "\n",
      " Retrying in 1 seconds\n",
      "\n",
      "Evaluating input: 144 of 270\n",
      "\n",
      " Retrying in 1 seconds\n",
      "\n",
      "Evaluating input: 145 of 270\n",
      "\n",
      " Retrying in 1 seconds\n",
      "\n",
      "Evaluating input: 146 of 270\n",
      "\n",
      " Retrying in 1 seconds\n",
      "\n",
      "Evaluating input: 147 of 270\n",
      "\n",
      " Retrying in 1 seconds\n",
      "\n",
      "Evaluating input: 148 of 270\n",
      "\n",
      " Retrying in 1 seconds\n",
      "\n",
      "Evaluating input: 149 of 270\n",
      "\n",
      " Retrying in 1 seconds\n",
      "\n",
      "Evaluating input: 150 of 270\n",
      "\n",
      " Retrying in 1 seconds\n",
      "\n",
      "Evaluating input: 151 of 270\n",
      "\n",
      " Retrying in 1 seconds\n",
      "\n",
      "Evaluating input: 152 of 270\n",
      "\n",
      " Retrying in 1 seconds\n",
      "\n",
      "Evaluating input: 153 of 270\n",
      "\n",
      " Retrying in 1 seconds\n",
      "\n",
      "Evaluating input: 154 of 270\n",
      "\n",
      " Retrying in 1 seconds\n",
      "\n",
      "Evaluating input: 155 of 270\n",
      "\n",
      " Retrying in 1 seconds\n",
      "\n",
      "Evaluating input: 156 of 270\n",
      "\n",
      " Retrying in 1 seconds\n",
      "\n",
      "Evaluating input: 157 of 270\n",
      "\n",
      " Retrying in 1 seconds\n",
      "\n",
      "Evaluating input: 158 of 270\n",
      "\n",
      " Retrying in 1 seconds\n",
      "\n",
      "Evaluating input: 159 of 270\n",
      "\n",
      " Retrying in 1 seconds\n",
      "\n",
      "Evaluating input: 160 of 270\n",
      "\n",
      " Retrying in 1 seconds\n",
      "\n",
      "Evaluating input: 161 of 270\n",
      "\n",
      " Retrying in 1 seconds\n",
      "\n",
      "Evaluating input: 162 of 270\n",
      "\n",
      " Retrying in 1 seconds\n",
      "\n",
      "Evaluating input: 163 of 270\n",
      "\n",
      " Retrying in 1 seconds\n",
      "\n",
      "Evaluating input: 164 of 270\n",
      "\n",
      " Retrying in 1 seconds\n",
      "\n",
      "Evaluating input: 165 of 270\n",
      "\n",
      " Retrying in 1 seconds\n",
      "\n",
      "Evaluating input: 166 of 270\n",
      "\n",
      " Retrying in 1 seconds\n",
      "\n",
      "Evaluating input: 167 of 270\n",
      "\n",
      " Retrying in 1 seconds\n",
      "\n",
      "Evaluating input: 168 of 270\n",
      "\n",
      " Retrying in 1 seconds\n",
      "\n",
      "Evaluating input: 169 of 270\n",
      "\n",
      " Retrying in 1 seconds\n",
      "\n",
      "Evaluating input: 170 of 270\n",
      "\n",
      " Retrying in 1 seconds\n",
      "\n",
      "Evaluating input: 171 of 270\n",
      "\n",
      " Retrying in 1 seconds\n",
      "\n",
      "Evaluating input: 172 of 270\n",
      "\n",
      " Retrying in 1 seconds\n",
      "\n",
      "Evaluating input: 173 of 270\n",
      "\n",
      " Retrying in 1 seconds\n",
      "\n",
      "Evaluating input: 174 of 270\n",
      "\n",
      " Retrying in 1 seconds\n",
      "\n",
      "Evaluating input: 175 of 270\n",
      "\n",
      " Retrying in 1 seconds\n",
      "\n",
      "Evaluating input: 176 of 270\n",
      "\n",
      " Retrying in 1 seconds\n",
      "\n",
      "Evaluating input: 177 of 270\n",
      "\n",
      " Retrying in 1 seconds\n",
      "\n",
      "Evaluating input: 178 of 270\n",
      "\n",
      " Retrying in 1 seconds\n",
      "\n",
      "Evaluating input: 179 of 270\n",
      "\n",
      " Retrying in 1 seconds\n",
      "\n",
      "Evaluating input: 180 of 270\n",
      "\n",
      " Retrying in 1 seconds\n",
      "\n",
      "Evaluating input: 181 of 270\n",
      "\n",
      " Retrying in 1 seconds\n",
      "\n",
      "Evaluating input: 182 of 270\n",
      "\n",
      " Retrying in 1 seconds\n",
      "\n",
      "Evaluating input: 183 of 270\n",
      "\n",
      " Retrying in 1 seconds\n",
      "\n",
      "Evaluating input: 184 of 270\n",
      "\n",
      " Retrying in 1 seconds\n",
      "\n",
      "Evaluating input: 185 of 270\n",
      "\n",
      " Retrying in 1 seconds\n",
      "\n",
      "Evaluating input: 186 of 270\n",
      "\n",
      " Retrying in 1 seconds\n",
      "\n",
      "Evaluating input: 187 of 270\n",
      "\n",
      " Retrying in 1 seconds\n",
      "\n",
      "Evaluating input: 188 of 270\n",
      "\n",
      " Retrying in 1 seconds\n",
      "\n",
      "Evaluating input: 189 of 270\n",
      "\n",
      " Retrying in 1 seconds\n",
      "\n",
      "Evaluating input: 190 of 270\n",
      "\n",
      " Retrying in 1 seconds\n",
      "\n",
      "Evaluating input: 191 of 270\n",
      "\n",
      " Retrying in 1 seconds\n",
      "\n",
      "Evaluating input: 192 of 270\n",
      "\n",
      " Retrying in 1 seconds\n",
      "\n",
      "Evaluating input: 193 of 270\n",
      "\n",
      " Retrying in 1 seconds\n",
      "\n",
      "Evaluating input: 194 of 270\n",
      "\n",
      " Retrying in 1 seconds\n",
      "\n",
      "Evaluating input: 195 of 270\n",
      "\n",
      " Retrying in 1 seconds\n",
      "\n",
      "Evaluating input: 196 of 270\n",
      "\n",
      " Retrying in 1 seconds\n",
      "\n",
      "Evaluating input: 197 of 270\n",
      "\n",
      " Retrying in 1 seconds\n",
      "\n",
      "Evaluating input: 198 of 270\n",
      "\n",
      " Retrying in 1 seconds\n",
      "\n",
      "Evaluating input: 199 of 270\n",
      "\n",
      " Retrying in 1 seconds\n",
      "\n",
      "Evaluating input: 200 of 270\n",
      "\n",
      " Retrying in 1 seconds\n",
      "\n",
      "Evaluating input: 201 of 270\n",
      "\n",
      " Retrying in 1 seconds\n",
      "\n",
      "Evaluating input: 202 of 270\n",
      "\n",
      " Retrying in 1 seconds\n",
      "\n",
      "Evaluating input: 203 of 270\n",
      "\n",
      " Retrying in 1 seconds\n",
      "\n",
      "Evaluating input: 204 of 270\n",
      "\n",
      " Retrying in 1 seconds\n",
      "\n",
      "Evaluating input: 205 of 270\n",
      "\n",
      " Retrying in 1 seconds\n",
      "\n",
      "Evaluating input: 206 of 270\n",
      "\n",
      " Retrying in 1 seconds\n",
      "\n",
      "Evaluating input: 207 of 270\n",
      "\n",
      " Retrying in 1 seconds\n",
      "\n",
      "Evaluating input: 208 of 270\n",
      "\n",
      " Retrying in 1 seconds\n",
      "\n",
      "Evaluating input: 209 of 270\n",
      "\n",
      " Retrying in 1 seconds\n",
      "\n",
      "Evaluating input: 210 of 270\n",
      "\n",
      " Retrying in 1 seconds\n",
      "\n",
      "Evaluating input: 211 of 270\n",
      "\n",
      " Retrying in 1 seconds\n",
      "\n",
      "Evaluating input: 212 of 270\n",
      "\n",
      " Retrying in 1 seconds\n",
      "\n",
      "Evaluating input: 213 of 270\n",
      "\n",
      " Retrying in 1 seconds\n",
      "\n",
      "Evaluating input: 214 of 270\n",
      "\n",
      " Retrying in 1 seconds\n",
      "\n",
      "Evaluating input: 215 of 270\n",
      "\n",
      " Retrying in 1 seconds\n",
      "\n",
      "Evaluating input: 216 of 270\n",
      "\n",
      " Retrying in 1 seconds\n",
      "\n",
      "Evaluating input: 217 of 270\n",
      "\n",
      " Retrying in 1 seconds\n",
      "\n",
      "Evaluating input: 218 of 270\n",
      "\n",
      " Retrying in 1 seconds\n",
      "\n",
      "Evaluating input: 219 of 270\n",
      "\n",
      " Retrying in 1 seconds\n",
      "\n",
      "Evaluating input: 220 of 270\n",
      "\n",
      " Retrying in 1 seconds\n",
      "\n",
      "Evaluating input: 221 of 270\n",
      "\n",
      " Retrying in 1 seconds\n",
      "\n",
      "Evaluating input: 222 of 270\n",
      "\n",
      " Retrying in 1 seconds\n",
      "\n",
      "Evaluating input: 223 of 270\n",
      "\n",
      " Retrying in 1 seconds\n",
      "\n",
      "Evaluating input: 224 of 270\n",
      "\n",
      " Retrying in 1 seconds\n",
      "\n",
      "Evaluating input: 225 of 270\n",
      "\n",
      " Retrying in 1 seconds\n",
      "\n",
      "Evaluating input: 226 of 270\n",
      "\n",
      " Retrying in 1 seconds\n",
      "\n",
      "Evaluating input: 227 of 270\n",
      "\n",
      " Retrying in 1 seconds\n",
      "\n",
      "Evaluating input: 228 of 270\n",
      "\n",
      " Retrying in 1 seconds\n",
      "\n",
      "Evaluating input: 229 of 270\n",
      "\n",
      " Retrying in 1 seconds\n",
      "\n",
      "Evaluating input: 230 of 270\n",
      "\n",
      " Retrying in 1 seconds\n",
      "\n",
      "Evaluating input: 231 of 270\n",
      "\n",
      " Retrying in 1 seconds\n",
      "\n",
      "Evaluating input: 232 of 270\n",
      "\n",
      " Retrying in 1 seconds\n",
      "\n",
      "Evaluating input: 233 of 270\n",
      "\n",
      " Retrying in 1 seconds\n",
      "\n",
      "Evaluating input: 234 of 270\n",
      "\n",
      " Retrying in 1 seconds\n",
      "\n",
      "Evaluating input: 235 of 270\n",
      "\n",
      " Retrying in 1 seconds\n",
      "\n",
      "Evaluating input: 236 of 270\n",
      "\n",
      " Retrying in 1 seconds\n",
      "\n",
      "Evaluating input: 237 of 270\n",
      "\n",
      " Retrying in 1 seconds\n",
      "\n",
      "Evaluating input: 238 of 270\n",
      "\n",
      " Retrying in 1 seconds\n",
      "\n",
      "Evaluating input: 239 of 270\n",
      "\n",
      " Retrying in 1 seconds\n",
      "\n",
      "Evaluating input: 240 of 270\n",
      "\n",
      " Retrying in 1 seconds\n",
      "\n",
      "Evaluating input: 241 of 270\n",
      "\n",
      " Retrying in 1 seconds\n",
      "\n",
      "Evaluating input: 242 of 270\n",
      "\n",
      " Retrying in 1 seconds\n",
      "\n",
      "Evaluating input: 243 of 270\n",
      "\n",
      " Retrying in 1 seconds\n",
      "\n",
      "Evaluating input: 244 of 270\n",
      "\n",
      " Retrying in 1 seconds\n",
      "\n",
      "Evaluating input: 245 of 270\n",
      "\n",
      " Retrying in 1 seconds\n",
      "\n",
      "Evaluating input: 246 of 270\n",
      "\n",
      " Retrying in 1 seconds\n",
      "\n",
      "Evaluating input: 247 of 270\n",
      "\n",
      " Retrying in 1 seconds\n",
      "\n",
      "Evaluating input: 248 of 270\n",
      "\n",
      " Retrying in 1 seconds\n",
      "\n",
      "Evaluating input: 249 of 270\n",
      "\n",
      " Retrying in 1 seconds\n",
      "\n",
      "Evaluating input: 250 of 270\n",
      "\n",
      " Retrying in 1 seconds\n",
      "\n",
      "Evaluating input: 251 of 270\n",
      "\n",
      " Retrying in 1 seconds\n",
      "\n",
      "Evaluating input: 252 of 270\n",
      "\n",
      " Retrying in 1 seconds\n",
      "\n",
      "Evaluating input: 253 of 270\n",
      "\n",
      " Retrying in 1 seconds\n",
      "\n",
      "Evaluating input: 254 of 270\n",
      "\n",
      " Retrying in 1 seconds\n",
      "\n",
      "Evaluating input: 255 of 270\n",
      "\n",
      " Retrying in 1 seconds\n",
      "\n",
      "Evaluating input: 256 of 270\n",
      "\n",
      " Retrying in 1 seconds\n",
      "\n",
      "Evaluating input: 257 of 270\n",
      "\n",
      " Retrying in 1 seconds\n",
      "\n",
      "Evaluating input: 258 of 270\n",
      "\n",
      " Retrying in 1 seconds\n",
      "\n",
      "Evaluating input: 259 of 270\n",
      "\n",
      " Retrying in 1 seconds\n",
      "\n",
      "Evaluating input: 260 of 270\n",
      "\n",
      " Retrying in 1 seconds\n",
      "\n",
      "Evaluating input: 261 of 270\n",
      "\n",
      " Retrying in 1 seconds\n",
      "\n",
      "Evaluating input: 262 of 270\n",
      "\n",
      " Retrying in 1 seconds\n",
      "\n",
      "Evaluating input: 263 of 270\n",
      "\n",
      " Retrying in 1 seconds\n",
      "\n",
      "Evaluating input: 264 of 270\n",
      "\n",
      " Retrying in 1 seconds\n",
      "\n",
      "Evaluating input: 265 of 270\n",
      "\n",
      " Retrying in 1 seconds\n",
      "\n",
      "Evaluating input: 266 of 270\n",
      "\n",
      " Retrying in 1 seconds\n",
      "\n",
      "Evaluating input: 267 of 270\n",
      "\n",
      " Retrying in 1 seconds\n",
      "\n",
      "Evaluating input: 268 of 270\n",
      "\n",
      " Retrying in 1 seconds\n",
      "\n",
      "Evaluating input: 269 of 270\n",
      "\n",
      " Retrying in 1 seconds\n",
      "\n",
      "Evaluating input: 270 of 270\n",
      "\n",
      " Retrying in 1 seconds\n"
     ]
    }
   ],
   "source": [
    "design = RandomDesign(parameter_space)\n",
    "init_X = design.get_samples(20)\n",
    "init_Y = user_function_co2(init_X)\n",
    "\n",
    "design = RandomDesign(parameter_space)\n",
    "test_X = design.get_samples(50)\n",
    "test_Y = user_function_co2(test_X)\n",
    "\n",
    "design = RandomDesign(parameter_space)\n",
    "train_X = design.get_samples(270)\n",
    "train_Y = user_function_co2(train_X)"
   ]
  },
  {
   "cell_type": "markdown",
   "metadata": {},
   "source": [
    "### Experimental Design - Model Variance"
   ]
  },
  {
   "cell_type": "markdown",
   "metadata": {},
   "source": [
    "#### Model / Emulator (GP)\n",
    "\n",
    "Our surrogate model is our emulator. In this case, a gaussian process."
   ]
  },
  {
   "cell_type": "code",
   "execution_count": 18,
   "metadata": {},
   "outputs": [
    {
     "name": "stdout",
     "output_type": "stream",
     "text": [
      "Optimization restart 1/5, f = 96.71579658393532\n",
      "Optimization restart 2/5, f = 114.06752556100139\n",
      "Optimization restart 3/5, f = 96.7157963262488\n",
      "Optimization restart 4/5, f = 114.06748678248019\n",
      "Optimization restart 5/5, f = 96.71579698436986\n"
     ]
    },
    {
     "data": {
      "text/html": [
       "<style type=\"text/css\">\n",
       ".pd{\n",
       "    font-family: \"Courier New\", Courier, monospace !important;\n",
       "    width: 100%;\n",
       "    padding: 3px;\n",
       "}\n",
       "</style>\n",
       "\n",
       "<p class=pd>\n",
       "<b>Model</b>: GP regression<br>\n",
       "<b>Objective</b>: 96.7157963262488<br>\n",
       "<b>Number of Parameters</b>: 3<br>\n",
       "<b>Number of Optimization Parameters</b>: 3<br>\n",
       "<b>Updates</b>: True<br>\n",
       "</p>\n",
       "<style type=\"text/css\">\n",
       ".tg  {font-family:\"Courier New\", Courier, monospace !important;padding:2px 3px;word-break:normal;border-collapse:collapse;border-spacing:0;border-color:#DCDCDC;margin:0px auto;width:100%;}\n",
       ".tg td{font-family:\"Courier New\", Courier, monospace !important;font-weight:bold;color:#444;background-color:#F7FDFA;border-style:solid;border-width:1px;overflow:hidden;word-break:normal;border-color:#DCDCDC;}\n",
       ".tg th{font-family:\"Courier New\", Courier, monospace !important;font-weight:normal;color:#fff;background-color:#26ADE4;border-style:solid;border-width:1px;overflow:hidden;word-break:normal;border-color:#DCDCDC;}\n",
       ".tg .tg-left{font-family:\"Courier New\", Courier, monospace !important;font-weight:normal;text-align:left;}\n",
       ".tg .tg-center{font-family:\"Courier New\", Courier, monospace !important;font-weight:normal;text-align:center;}\n",
       ".tg .tg-right{font-family:\"Courier New\", Courier, monospace !important;font-weight:normal;text-align:right;}\n",
       "</style>\n",
       "<table class=\"tg\"><tr><th><b>  GP_regression.         </b></th><th><b>             value</b></th><th><b>constraints</b></th><th><b>priors</b></th></tr>\n",
       "<tr><td class=tg-left>  rbf.variance           </td><td class=tg-right> 8200.388523850372</td><td class=tg-center>    +ve    </td><td class=tg-center>      </td></tr>\n",
       "<tr><td class=tg-left>  rbf.lengthscale        </td><td class=tg-right>32.716963025359554</td><td class=tg-center>    +ve    </td><td class=tg-center>      </td></tr>\n",
       "<tr><td class=tg-left>  Gaussian_noise.variance</td><td class=tg-right>327.17140185899643</td><td class=tg-center>    +ve    </td><td class=tg-center>      </td></tr>\n",
       "</table>"
      ],
      "text/plain": [
       "<GPy.models.gp_regression.GPRegression at 0x7fbaf0214ee0>"
      ]
     },
     "execution_count": 18,
     "metadata": {},
     "output_type": "execute_result"
    }
   ],
   "source": [
    "emulator_ed = GPy.models.GPRegression(init_X, init_Y)\n",
    "emukit_model_ed = GPyModelWrapper(emulator_ed, n_restarts=5)\n",
    "emukit_model_ed.optimize()\n",
    "emulator_ed"
   ]
  },
  {
   "cell_type": "markdown",
   "metadata": {},
   "source": [
    "#### Acquisition Function"
   ]
  },
  {
   "cell_type": "code",
   "execution_count": 19,
   "metadata": {},
   "outputs": [],
   "source": [
    "model_variance = ModelVariance(model=emukit_model_ed)"
   ]
  },
  {
   "cell_type": "markdown",
   "metadata": {},
   "source": [
    "#### Optimizer"
   ]
  },
  {
   "cell_type": "code",
   "execution_count": 20,
   "metadata": {},
   "outputs": [],
   "source": [
    "optimizer = GradientAcquisitionOptimizer(parameter_space)\n"
   ]
  },
  {
   "cell_type": "markdown",
   "metadata": {},
   "source": [
    "#### Experimental Design Loop"
   ]
  },
  {
   "cell_type": "code",
   "execution_count": 21,
   "metadata": {},
   "outputs": [],
   "source": [
    "ed_loop = ExperimentalDesignLoop(\n",
    "    model = emukit_model_ed,\n",
    "    space = parameter_space,\n",
    "    acquisition = model_variance,\n",
    "    acquisition_optimizer = optimizer,\n",
    "    batch_size = 1\n",
    ")"
   ]
  },
  {
   "cell_type": "code",
   "execution_count": 22,
   "metadata": {
    "scrolled": true
   },
   "outputs": [
    {
     "name": "stderr",
     "output_type": "stream",
     "text": [
      " /Users/harrysonghurst/opt/anaconda3/envs/traffic/lib/python3.8/site-packages/paramz/transformations.py:111: RuntimeWarning:overflow encountered in expm1\n"
     ]
    },
    {
     "name": "stdout",
     "output_type": "stream",
     "text": [
      "Optimization restart 1/5, f = 96.7157963262488\n",
      "Optimization restart 2/5, f = 114.06747814534127\n",
      "Optimization restart 3/5, f = 114.06747805235322\n",
      "Optimization restart 4/5, f = 114.06750096369906\n",
      "Optimization restart 5/5, f = 114.06759014672882\n",
      "[[20.  25.  27.  30.   1.   1.5]]\n",
      "\n",
      "User function time loss called with 1 inputs to simulate\n",
      "\n",
      "Evaluating input: 1 of 1\n",
      "\n",
      " Retrying in 1 seconds\n"
     ]
    },
    {
     "name": "stderr",
     "output_type": "stream",
     "text": [
      " /Users/harrysonghurst/opt/anaconda3/envs/traffic/lib/python3.8/site-packages/paramz/transformations.py:111: RuntimeWarning:overflow encountered in expm1\n"
     ]
    },
    {
     "name": "stdout",
     "output_type": "stream",
     "text": [
      "Optimization restart 1/5, f = 101.44492187667174\n",
      "Optimization restart 2/5, f = 119.71798333802639\n",
      "Optimization restart 3/5, f = 119.71797530310369\n",
      "Optimization restart 4/5, f = 119.71797505536416\n",
      "Optimization restart 5/5, f = 101.42605055209187\n",
      "[[ 3. 25. 27. 70.  3.  5.]]\n",
      "\n",
      "User function time loss called with 1 inputs to simulate\n",
      "\n",
      "Evaluating input: 1 of 1\n",
      "\n",
      " Retrying in 1 seconds\n"
     ]
    },
    {
     "name": "stderr",
     "output_type": "stream",
     "text": [
      " /Users/harrysonghurst/opt/anaconda3/envs/traffic/lib/python3.8/site-packages/paramz/transformations.py:111: RuntimeWarning:overflow encountered in expm1\n"
     ]
    },
    {
     "name": "stdout",
     "output_type": "stream",
     "text": [
      "Optimization restart 1/5, f = 113.69003357695654\n",
      "Optimization restart 2/5, f = 124.73852127118046\n",
      "Optimization restart 3/5, f = 115.97931793230103\n",
      "Optimization restart 4/5, f = 113.69003360428943\n",
      "Optimization restart 5/5, f = 132.29943250065548\n",
      "[[20. 25.  5. 70.  3.  5.]]\n",
      "\n",
      "User function time loss called with 1 inputs to simulate\n",
      "\n",
      "Evaluating input: 1 of 1\n",
      "\n",
      " Retrying in 1 seconds\n"
     ]
    },
    {
     "name": "stderr",
     "output_type": "stream",
     "text": [
      " /Users/harrysonghurst/opt/anaconda3/envs/traffic/lib/python3.8/site-packages/paramz/transformations.py:111: RuntimeWarning:overflow encountered in expm1\n",
      " /Users/harrysonghurst/opt/anaconda3/envs/traffic/lib/python3.8/site-packages/GPy/kern/src/stationary.py:168: RuntimeWarning:overflow encountered in true_divide\n",
      " /Users/harrysonghurst/opt/anaconda3/envs/traffic/lib/python3.8/site-packages/GPy/kern/src/rbf.py:76: RuntimeWarning:invalid value encountered in multiply\n"
     ]
    },
    {
     "name": "stdout",
     "output_type": "stream",
     "text": [
      "Optimization restart 1/5, f = 118.66114233730276\n",
      "Optimization restart 2/5, f = 130.30784569174324\n",
      "Optimization restart 3/5, f = 121.11640308683963\n",
      "Optimization restart 4/5, f = 121.11640308662295\n"
     ]
    },
    {
     "name": "stderr",
     "output_type": "stream",
     "text": [
      " /Users/harrysonghurst/opt/anaconda3/envs/traffic/lib/python3.8/site-packages/GPy/kern/src/rbf.py:52: RuntimeWarning:overflow encountered in square\n"
     ]
    },
    {
     "name": "stdout",
     "output_type": "stream",
     "text": [
      "Optimization restart 5/5, f = 129.7613110282808\n",
      "[[ 3.   8.  27.  70.   1.   1.5]]\n",
      "\n",
      "User function time loss called with 1 inputs to simulate\n",
      "\n",
      "Evaluating input: 1 of 1\n",
      "\n",
      " Retrying in 1 seconds\n"
     ]
    },
    {
     "name": "stderr",
     "output_type": "stream",
     "text": [
      " /Users/harrysonghurst/opt/anaconda3/envs/traffic/lib/python3.8/site-packages/paramz/transformations.py:111: RuntimeWarning:overflow encountered in expm1\n"
     ]
    },
    {
     "name": "stdout",
     "output_type": "stream",
     "text": [
      "Optimization restart 1/5, f = 125.20295934937934\n",
      "Optimization restart 2/5, f = 125.2001710541403\n",
      "Optimization restart 3/5, f = 125.20017114014394\n",
      "Optimization restart 4/5, f = 143.37420152366653\n",
      "Optimization restart 5/5, f = 126.75365132177131\n",
      "[[ 3.   8.   5.  30.   1.   1.5]]\n",
      "\n",
      "User function time loss called with 1 inputs to simulate\n",
      "\n",
      "Evaluating input: 1 of 1\n",
      "\n",
      " Retrying in 1 seconds\n"
     ]
    },
    {
     "name": "stderr",
     "output_type": "stream",
     "text": [
      " /Users/harrysonghurst/opt/anaconda3/envs/traffic/lib/python3.8/site-packages/paramz/transformations.py:111: RuntimeWarning:overflow encountered in expm1\n",
      " /Users/harrysonghurst/opt/anaconda3/envs/traffic/lib/python3.8/site-packages/GPy/kern/src/rbf.py:52: RuntimeWarning:overflow encountered in square\n",
      " /Users/harrysonghurst/opt/anaconda3/envs/traffic/lib/python3.8/site-packages/GPy/kern/src/stationary.py:168: RuntimeWarning:overflow encountered in true_divide\n",
      " /Users/harrysonghurst/opt/anaconda3/envs/traffic/lib/python3.8/site-packages/GPy/kern/src/rbf.py:76: RuntimeWarning:invalid value encountered in multiply\n"
     ]
    },
    {
     "name": "stdout",
     "output_type": "stream",
     "text": [
      "Optimization restart 1/5, f = 129.88968968012733\n",
      "Optimization restart 2/5, f = 149.11876839929195\n",
      "Optimization restart 3/5, f = 149.11876816115586\n",
      "Optimization restart 4/5, f = 140.2807832100897\n",
      "Optimization restart 5/5, f = 140.63964471148648\n",
      "[[20.   8.   5.  70.   3.   1.5]]\n",
      "\n",
      "User function time loss called with 1 inputs to simulate\n",
      "\n",
      "Evaluating input: 1 of 1\n",
      "\n",
      " Retrying in 1 seconds\n"
     ]
    },
    {
     "name": "stderr",
     "output_type": "stream",
     "text": [
      " /Users/harrysonghurst/opt/anaconda3/envs/traffic/lib/python3.8/site-packages/paramz/transformations.py:111: RuntimeWarning:overflow encountered in expm1\n"
     ]
    },
    {
     "name": "stdout",
     "output_type": "stream",
     "text": [
      "Optimization restart 1/5, f = 136.97431794534617\n",
      "Optimization restart 2/5, f = 136.70756991805075\n",
      "Optimization restart 3/5, f = 154.5757336501815\n",
      "Optimization restart 4/5, f = 154.57572828965388\n",
      "Optimization restart 5/5, f = 146.2301516757514\n",
      "[[20.  25.   5.  30.   3.   1.5]]\n",
      "\n",
      "User function time loss called with 1 inputs to simulate\n",
      "\n",
      "Evaluating input: 1 of 1\n",
      "\n",
      " Retrying in 1 seconds\n"
     ]
    },
    {
     "name": "stderr",
     "output_type": "stream",
     "text": [
      " /Users/harrysonghurst/opt/anaconda3/envs/traffic/lib/python3.8/site-packages/paramz/transformations.py:111: RuntimeWarning:overflow encountered in expm1\n"
     ]
    },
    {
     "name": "stdout",
     "output_type": "stream",
     "text": [
      "Optimization restart 1/5, f = 141.71341084810808\n",
      "Optimization restart 2/5, f = 151.58367662667828\n",
      "Optimization restart 3/5, f = 141.71277686618419\n",
      "Optimization restart 4/5, f = 160.033845134451\n",
      "Optimization restart 5/5, f = 160.0337029203459\n",
      "[[ 3.  8.  5. 70.  3.  5.]]\n",
      "\n",
      "User function time loss called with 1 inputs to simulate\n",
      "\n",
      "Evaluating input: 1 of 1\n",
      "\n",
      " Retrying in 1 seconds\n"
     ]
    },
    {
     "name": "stderr",
     "output_type": "stream",
     "text": [
      " /Users/harrysonghurst/opt/anaconda3/envs/traffic/lib/python3.8/site-packages/paramz/transformations.py:111: RuntimeWarning:overflow encountered in expm1\n",
      " /Users/harrysonghurst/opt/anaconda3/envs/traffic/lib/python3.8/site-packages/GPy/kern/src/rbf.py:52: RuntimeWarning:overflow encountered in square\n"
     ]
    },
    {
     "name": "stdout",
     "output_type": "stream",
     "text": [
      "Optimization restart 1/5, f = 146.4374375790138\n",
      "Optimization restart 2/5, f = 148.58601142304448\n",
      "Optimization restart 3/5, f = 165.47795336101763\n",
      "Optimization restart 4/5, f = 146.43625448060615\n",
      "Optimization restart 5/5, f = 146.43625447468133\n",
      "[[20.   8.  27.  30.   3.   1.5]]\n",
      "\n",
      "User function time loss called with 1 inputs to simulate\n",
      "\n",
      "Evaluating input: 1 of 1\n",
      "\n",
      " Retrying in 1 seconds\n"
     ]
    },
    {
     "name": "stderr",
     "output_type": "stream",
     "text": [
      " /Users/harrysonghurst/opt/anaconda3/envs/traffic/lib/python3.8/site-packages/paramz/transformations.py:111: RuntimeWarning:overflow encountered in expm1\n",
      " /Users/harrysonghurst/opt/anaconda3/envs/traffic/lib/python3.8/site-packages/GPy/kern/src/stationary.py:168: RuntimeWarning:overflow encountered in true_divide\n",
      " /Users/harrysonghurst/opt/anaconda3/envs/traffic/lib/python3.8/site-packages/GPy/kern/src/rbf.py:76: RuntimeWarning:invalid value encountered in multiply\n"
     ]
    },
    {
     "name": "stdout",
     "output_type": "stream",
     "text": [
      "Optimization restart 1/5, f = 151.29174840540944\n",
      "Optimization restart 2/5, f = 162.06411659701774\n",
      "Optimization restart 3/5, f = 170.94922862907433\n",
      "Optimization restart 4/5, f = 161.41500918333665\n",
      "Optimization restart 5/5, f = 170.9492482944483\n",
      "[[ 3. 25. 27. 30.  3.  5.]]\n",
      "\n",
      "User function time loss called with 1 inputs to simulate\n",
      "\n",
      "Evaluating input: 1 of 1\n",
      "\n",
      " Retrying in 1 seconds\n"
     ]
    },
    {
     "name": "stderr",
     "output_type": "stream",
     "text": [
      " /Users/harrysonghurst/opt/anaconda3/envs/traffic/lib/python3.8/site-packages/paramz/transformations.py:111: RuntimeWarning:overflow encountered in expm1\n"
     ]
    },
    {
     "name": "stdout",
     "output_type": "stream",
     "text": [
      "Optimization restart 1/5, f = 164.83856410665933\n",
      "Optimization restart 2/5, f = 164.83856410988145\n",
      "Optimization restart 3/5, f = 164.838564106539\n",
      "Optimization restart 4/5, f = 177.30634595594995\n",
      "Optimization restart 5/5, f = 164.3615416617398\n",
      "[[ 3.  25.   5.  70.   1.   1.5]]\n",
      "\n",
      "User function time loss called with 1 inputs to simulate\n",
      "\n",
      "Evaluating input: 1 of 1\n",
      "\n",
      " Retrying in 1 seconds\n"
     ]
    },
    {
     "name": "stderr",
     "output_type": "stream",
     "text": [
      " /Users/harrysonghurst/opt/anaconda3/envs/traffic/lib/python3.8/site-packages/paramz/transformations.py:111: RuntimeWarning:overflow encountered in expm1\n",
      " /Users/harrysonghurst/opt/anaconda3/envs/traffic/lib/python3.8/site-packages/GPy/kern/src/stationary.py:168: RuntimeWarning:overflow encountered in true_divide\n",
      " /Users/harrysonghurst/opt/anaconda3/envs/traffic/lib/python3.8/site-packages/GPy/kern/src/rbf.py:76: RuntimeWarning:invalid value encountered in multiply\n"
     ]
    },
    {
     "name": "stdout",
     "output_type": "stream",
     "text": [
      "Optimization restart 1/5, f = 169.6704386462269\n",
      "Optimization restart 2/5, f = 189.8279850929638\n",
      "Optimization restart 3/5, f = 189.82800870211796\n",
      "Optimization restart 4/5, f = 170.16160081972927\n",
      "Optimization restart 5/5, f = 182.72606061761078\n",
      "[[20.   8.   5.  30.   1.   1.5]]\n",
      "\n",
      "User function time loss called with 1 inputs to simulate\n",
      "\n",
      "Evaluating input: 1 of 1\n",
      "\n",
      " Retrying in 1 seconds\n"
     ]
    },
    {
     "name": "stderr",
     "output_type": "stream",
     "text": [
      " /Users/harrysonghurst/opt/anaconda3/envs/traffic/lib/python3.8/site-packages/paramz/transformations.py:111: RuntimeWarning:overflow encountered in expm1\n"
     ]
    },
    {
     "name": "stdout",
     "output_type": "stream",
     "text": [
      "Optimization restart 1/5, f = 174.51809547253643\n",
      "Optimization restart 2/5, f = 175.01635277497297\n",
      "Optimization restart 3/5, f = 188.42555805284636\n",
      "Optimization restart 4/5, f = 175.01635424656163\n",
      "Optimization restart 5/5, f = 175.01635242455094\n",
      "[[20.  8. 27. 70.  3.  5.]]\n",
      "\n",
      "User function time loss called with 1 inputs to simulate\n",
      "\n",
      "Evaluating input: 1 of 1\n",
      "\n",
      " Retrying in 1 seconds\n"
     ]
    },
    {
     "name": "stderr",
     "output_type": "stream",
     "text": [
      " /Users/harrysonghurst/opt/anaconda3/envs/traffic/lib/python3.8/site-packages/paramz/transformations.py:111: RuntimeWarning:overflow encountered in expm1\n",
      " /Users/harrysonghurst/opt/anaconda3/envs/traffic/lib/python3.8/site-packages/GPy/kern/src/stationary.py:168: RuntimeWarning:overflow encountered in true_divide\n",
      " /Users/harrysonghurst/opt/anaconda3/envs/traffic/lib/python3.8/site-packages/GPy/kern/src/rbf.py:76: RuntimeWarning:invalid value encountered in multiply\n"
     ]
    },
    {
     "name": "stdout",
     "output_type": "stream",
     "text": [
      "Optimization restart 1/5, f = 179.47506828279677\n",
      "Optimization restart 2/5, f = 193.8498198360682\n",
      "Optimization restart 3/5, f = 192.28306244229364\n",
      "Optimization restart 4/5, f = 201.0596419492882\n",
      "Optimization restart 5/5, f = 193.9943052917216\n",
      "[[20.  25.  27.  70.   3.   1.5]]\n",
      "\n",
      "User function time loss called with 1 inputs to simulate\n",
      "\n",
      "Evaluating input: 1 of 1\n",
      "\n",
      " Retrying in 1 seconds\n"
     ]
    },
    {
     "name": "stderr",
     "output_type": "stream",
     "text": [
      " /Users/harrysonghurst/opt/anaconda3/envs/traffic/lib/python3.8/site-packages/paramz/transformations.py:111: RuntimeWarning:overflow encountered in expm1\n"
     ]
    },
    {
     "name": "stdout",
     "output_type": "stream",
     "text": [
      "Optimization restart 1/5, f = 185.3802382807441\n",
      "Optimization restart 2/5, f = 206.71877603936863\n",
      "Optimization restart 3/5, f = 206.7187400291103\n",
      "Optimization restart 4/5, f = 185.02862636063333\n",
      "Optimization restart 5/5, f = 185.02862636022027\n",
      "[[20.         25.          5.         50.85740629  3.          1.5       ]]\n",
      "\n",
      "User function time loss called with 1 inputs to simulate\n",
      "\n",
      "Evaluating input: 1 of 1\n",
      "\n",
      " Retrying in 1 seconds\n"
     ]
    },
    {
     "name": "stderr",
     "output_type": "stream",
     "text": [
      " /Users/harrysonghurst/opt/anaconda3/envs/traffic/lib/python3.8/site-packages/paramz/transformations.py:111: RuntimeWarning:overflow encountered in expm1\n"
     ]
    },
    {
     "name": "stdout",
     "output_type": "stream",
     "text": [
      "Optimization restart 1/5, f = 190.15518612408337\n",
      "Optimization restart 2/5, f = 212.29504114000142\n",
      "Optimization restart 3/5, f = 212.2948915747427\n",
      "Optimization restart 4/5, f = 212.29486176707533\n",
      "Optimization restart 5/5, f = 190.15305225759226\n",
      "[[20.         8.         5.        49.7321791  3.         1.5      ]]\n",
      "\n",
      "User function time loss called with 1 inputs to simulate\n",
      "\n",
      "Evaluating input: 1 of 1\n",
      "\n",
      " Retrying in 1 seconds\n"
     ]
    },
    {
     "name": "stderr",
     "output_type": "stream",
     "text": [
      " /Users/harrysonghurst/opt/anaconda3/envs/traffic/lib/python3.8/site-packages/paramz/transformations.py:111: RuntimeWarning:overflow encountered in expm1\n",
      " /Users/harrysonghurst/opt/anaconda3/envs/traffic/lib/python3.8/site-packages/GPy/kern/src/rbf.py:52: RuntimeWarning:overflow encountered in square\n",
      " /Users/harrysonghurst/opt/anaconda3/envs/traffic/lib/python3.8/site-packages/GPy/kern/src/stationary.py:168: RuntimeWarning:overflow encountered in true_divide\n",
      " /Users/harrysonghurst/opt/anaconda3/envs/traffic/lib/python3.8/site-packages/GPy/kern/src/rbf.py:76: RuntimeWarning:invalid value encountered in multiply\n",
      " /Users/harrysonghurst/opt/anaconda3/envs/traffic/lib/python3.8/site-packages/paramz/transformations.py:108: RuntimeWarning:invalid value encountered in greater\n",
      " /Users/harrysonghurst/opt/anaconda3/envs/traffic/lib/python3.8/site-packages/paramz/transformations.py:113: RuntimeWarning:invalid value encountered in greater\n"
     ]
    },
    {
     "name": "stdout",
     "output_type": "stream",
     "text": [
      "Optimization restart 1/5, f = 194.84879078120719\n",
      "Optimization restart 2/5, f = 217.8572363769536\n",
      "Optimization restart 3/5, f = 217.8572544266062\n",
      "Optimization restart 4/5, f = 217.85717503461234\n",
      "Warning - optimization restart 5/5 failed\n",
      "[[20.         25.         27.         44.14127066  1.          5.        ]]\n",
      "\n",
      "User function time loss called with 1 inputs to simulate\n",
      "\n",
      "Evaluating input: 1 of 1\n",
      "\n",
      " Retrying in 1 seconds\n"
     ]
    },
    {
     "name": "stderr",
     "output_type": "stream",
     "text": [
      " /Users/harrysonghurst/opt/anaconda3/envs/traffic/lib/python3.8/site-packages/paramz/transformations.py:111: RuntimeWarning:overflow encountered in expm1\n"
     ]
    },
    {
     "name": "stdout",
     "output_type": "stream",
     "text": [
      "Optimization restart 1/5, f = 200.36654190370848\n",
      "Optimization restart 2/5, f = 200.35665106232946\n",
      "Optimization restart 3/5, f = 223.86957628464603\n",
      "Optimization restart 4/5, f = 223.8696721405155\n",
      "Optimization restart 5/5, f = 223.8695323651001\n",
      "[[ 3.         8.        27.        51.2417409  3.         1.5      ]]\n",
      "\n",
      "User function time loss called with 1 inputs to simulate\n",
      "\n",
      "Evaluating input: 1 of 1\n",
      "\n",
      " Retrying in 1 seconds\n"
     ]
    },
    {
     "name": "stderr",
     "output_type": "stream",
     "text": [
      " /Users/harrysonghurst/opt/anaconda3/envs/traffic/lib/python3.8/site-packages/paramz/transformations.py:111: RuntimeWarning:overflow encountered in expm1\n"
     ]
    },
    {
     "name": "stdout",
     "output_type": "stream",
     "text": [
      "Optimization restart 1/5, f = 207.04978612359616\n",
      "Optimization restart 2/5, f = 203.92815245028655\n",
      "Optimization restart 3/5, f = 221.20976877215\n",
      "Optimization restart 4/5, f = 229.6014369266167\n"
     ]
    },
    {
     "name": "stderr",
     "output_type": "stream",
     "text": [
      " /Users/harrysonghurst/opt/anaconda3/envs/traffic/lib/python3.8/site-packages/GPy/kern/src/stationary.py:168: RuntimeWarning:overflow encountered in true_divide\n",
      " /Users/harrysonghurst/opt/anaconda3/envs/traffic/lib/python3.8/site-packages/GPy/kern/src/rbf.py:76: RuntimeWarning:invalid value encountered in multiply\n"
     ]
    },
    {
     "name": "stdout",
     "output_type": "stream",
     "text": [
      "Optimization restart 5/5, f = 210.20577372136887\n",
      "[[ 3.         25.         27.         48.79568386  1.          1.5       ]]\n",
      "\n",
      "User function time loss called with 1 inputs to simulate\n",
      "\n",
      "Evaluating input: 1 of 1\n",
      "\n",
      " Retrying in 1 seconds\n"
     ]
    },
    {
     "name": "stderr",
     "output_type": "stream",
     "text": [
      " /Users/harrysonghurst/opt/anaconda3/envs/traffic/lib/python3.8/site-packages/paramz/transformations.py:111: RuntimeWarning:overflow encountered in expm1\n",
      " /Users/harrysonghurst/opt/anaconda3/envs/traffic/lib/python3.8/site-packages/GPy/kern/src/stationary.py:168: RuntimeWarning:overflow encountered in true_divide\n",
      " /Users/harrysonghurst/opt/anaconda3/envs/traffic/lib/python3.8/site-packages/GPy/kern/src/rbf.py:76: RuntimeWarning:invalid value encountered in multiply\n"
     ]
    },
    {
     "name": "stdout",
     "output_type": "stream",
     "text": [
      "Optimization restart 1/5, f = 212.639588817843\n",
      "Optimization restart 2/5, f = 226.96038089902754\n",
      "Optimization restart 3/5, f = 236.08389248562557\n",
      "Optimization restart 4/5, f = 236.0838949884684\n",
      "Optimization restart 5/5, f = 213.2836484794131\n",
      "[[ 3.  8. 27. 30.  1.  5.]]\n",
      "\n",
      "User function time loss called with 1 inputs to simulate\n",
      "\n",
      "Evaluating input: 1 of 1\n",
      "\n",
      " Retrying in 1 seconds\n"
     ]
    },
    {
     "name": "stderr",
     "output_type": "stream",
     "text": [
      " /Users/harrysonghurst/opt/anaconda3/envs/traffic/lib/python3.8/site-packages/paramz/transformations.py:111: RuntimeWarning:overflow encountered in expm1\n",
      " /Users/harrysonghurst/opt/anaconda3/envs/traffic/lib/python3.8/site-packages/GPy/kern/src/rbf.py:52: RuntimeWarning:overflow encountered in square\n"
     ]
    },
    {
     "name": "stdout",
     "output_type": "stream",
     "text": [
      "Optimization restart 1/5, f = 217.78829852902078\n",
      "Optimization restart 2/5, f = 242.53025581141688\n",
      "Optimization restart 3/5, f = 242.5302481257559\n",
      "Optimization restart 4/5, f = 217.07688486033595\n",
      "Optimization restart 5/5, f = 217.07074282389323\n",
      "[[20.          8.         27.         42.42012766  1.          1.5       ]]\n",
      "\n",
      "User function time loss called with 1 inputs to simulate\n",
      "\n",
      "Evaluating input: 1 of 1\n",
      "\n",
      " Retrying in 1 seconds\n"
     ]
    },
    {
     "name": "stderr",
     "output_type": "stream",
     "text": [
      " /Users/harrysonghurst/opt/anaconda3/envs/traffic/lib/python3.8/site-packages/paramz/transformations.py:111: RuntimeWarning:overflow encountered in expm1\n",
      " /Users/harrysonghurst/opt/anaconda3/envs/traffic/lib/python3.8/site-packages/GPy/kern/src/rbf.py:52: RuntimeWarning:overflow encountered in square\n"
     ]
    },
    {
     "name": "stdout",
     "output_type": "stream",
     "text": [
      "Optimization restart 1/5, f = 221.74794824078072\n",
      "Optimization restart 2/5, f = 248.1061190691986\n",
      "Optimization restart 3/5, f = 248.1061188899863\n",
      "Optimization restart 4/5, f = 221.74728552126365\n",
      "Optimization restart 5/5, f = 221.80804801132004\n",
      "[[ 3.         25.          5.         51.10663366  3.          5.        ]]\n",
      "\n",
      "User function time loss called with 1 inputs to simulate\n",
      "\n",
      "Evaluating input: 1 of 1\n",
      "\n",
      " Retrying in 1 seconds\n"
     ]
    },
    {
     "name": "stderr",
     "output_type": "stream",
     "text": [
      " /Users/harrysonghurst/opt/anaconda3/envs/traffic/lib/python3.8/site-packages/paramz/transformations.py:111: RuntimeWarning:overflow encountered in expm1\n"
     ]
    },
    {
     "name": "stdout",
     "output_type": "stream",
     "text": [
      "Optimization restart 1/5, f = 226.50292725427835\n",
      "Optimization restart 2/5, f = 226.50240034547943\n",
      "Optimization restart 3/5, f = 253.69828526319543\n",
      "Optimization restart 4/5, f = 226.50240034502738\n",
      "Optimization restart 5/5, f = 253.69826783298433\n",
      "[[20.          8.         17.10137817 30.          1.          5.        ]]\n",
      "\n",
      "User function time loss called with 1 inputs to simulate\n",
      "\n",
      "Evaluating input: 1 of 1\n",
      "\n",
      " Retrying in 1 seconds\n"
     ]
    },
    {
     "name": "stderr",
     "output_type": "stream",
     "text": [
      " /Users/harrysonghurst/opt/anaconda3/envs/traffic/lib/python3.8/site-packages/paramz/transformations.py:111: RuntimeWarning:overflow encountered in expm1\n",
      " /Users/harrysonghurst/opt/anaconda3/envs/traffic/lib/python3.8/site-packages/GPy/kern/src/stationary.py:168: RuntimeWarning:overflow encountered in true_divide\n",
      " /Users/harrysonghurst/opt/anaconda3/envs/traffic/lib/python3.8/site-packages/GPy/kern/src/rbf.py:76: RuntimeWarning:invalid value encountered in multiply\n"
     ]
    },
    {
     "name": "stdout",
     "output_type": "stream",
     "text": [
      "Optimization restart 1/5, f = 231.09100773766505\n",
      "Optimization restart 2/5, f = 259.28398790779937\n",
      "Optimization restart 3/5, f = 259.283918719332\n",
      "Optimization restart 4/5, f = 241.5989320799018\n",
      "Optimization restart 5/5, f = 259.2839831479734\n",
      "[[ 3.         25.         17.97812233 62.43925857  1.          1.5       ]]\n",
      "\n",
      "User function time loss called with 1 inputs to simulate\n",
      "\n",
      "Evaluating input: 1 of 1\n",
      "\n",
      " Retrying in 1 seconds\n"
     ]
    },
    {
     "name": "stderr",
     "output_type": "stream",
     "text": [
      " /Users/harrysonghurst/opt/anaconda3/envs/traffic/lib/python3.8/site-packages/paramz/transformations.py:111: RuntimeWarning:overflow encountered in expm1\n"
     ]
    },
    {
     "name": "stdout",
     "output_type": "stream",
     "text": [
      "Optimization restart 1/5, f = 235.95983358653243\n",
      "Optimization restart 2/5, f = 235.96005025353713\n",
      "Optimization restart 3/5, f = 265.5161008727233\n",
      "Optimization restart 4/5, f = 265.51597582345903\n",
      "Optimization restart 5/5, f = 254.3717454433572\n",
      "[[ 3.          8.          5.         43.61671063  1.          1.5       ]]\n",
      "\n",
      "User function time loss called with 1 inputs to simulate\n",
      "\n",
      "Evaluating input: 1 of 1\n",
      "\n",
      " Retrying in 1 seconds\n"
     ]
    },
    {
     "name": "stderr",
     "output_type": "stream",
     "text": [
      " /Users/harrysonghurst/opt/anaconda3/envs/traffic/lib/python3.8/site-packages/paramz/transformations.py:111: RuntimeWarning:overflow encountered in expm1\n"
     ]
    },
    {
     "name": "stdout",
     "output_type": "stream",
     "text": [
      "Optimization restart 1/5, f = 240.65136253851176\n",
      "Optimization restart 2/5, f = 240.66461838351006\n",
      "Optimization restart 3/5, f = 240.66461838351006\n",
      "Optimization restart 4/5, f = 240.66461838355121\n",
      "Optimization restart 5/5, f = 271.10153458291734\n",
      "[[ 3.          8.         17.38523922 70.          3.          5.        ]]\n",
      "\n",
      "User function time loss called with 1 inputs to simulate\n",
      "\n",
      "Evaluating input: 1 of 1\n",
      "\n",
      " Retrying in 1 seconds\n"
     ]
    },
    {
     "name": "stderr",
     "output_type": "stream",
     "text": [
      " /Users/harrysonghurst/opt/anaconda3/envs/traffic/lib/python3.8/site-packages/paramz/transformations.py:111: RuntimeWarning:overflow encountered in expm1\n"
     ]
    },
    {
     "name": "stdout",
     "output_type": "stream",
     "text": [
      "Optimization restart 1/5, f = 245.16313355456447\n",
      "Optimization restart 2/5, f = 245.18380479351654\n",
      "Optimization restart 3/5, f = 245.18380479347778\n",
      "Optimization restart 4/5, f = 276.7135021462452\n",
      "Optimization restart 5/5, f = 276.71350421308557\n",
      "[[20.         14.23173647  5.         61.44192181  1.          5.        ]]\n",
      "\n",
      "User function time loss called with 1 inputs to simulate\n",
      "\n",
      "Evaluating input: 1 of 1\n",
      "\n",
      " Retrying in 1 seconds\n"
     ]
    },
    {
     "name": "stderr",
     "output_type": "stream",
     "text": [
      " /Users/harrysonghurst/opt/anaconda3/envs/traffic/lib/python3.8/site-packages/paramz/transformations.py:111: RuntimeWarning:overflow encountered in expm1\n",
      " /Users/harrysonghurst/opt/anaconda3/envs/traffic/lib/python3.8/site-packages/GPy/kern/src/stationary.py:168: RuntimeWarning:overflow encountered in true_divide\n",
      " /Users/harrysonghurst/opt/anaconda3/envs/traffic/lib/python3.8/site-packages/GPy/kern/src/rbf.py:76: RuntimeWarning:invalid value encountered in multiply\n"
     ]
    },
    {
     "name": "stdout",
     "output_type": "stream",
     "text": [
      "Optimization restart 1/5, f = 249.78757574770086\n",
      "Optimization restart 2/5, f = 270.5359647697454\n",
      "Optimization restart 3/5, f = 282.2257331587866\n",
      "Optimization restart 4/5, f = 270.5576335586982\n",
      "Optimization restart 5/5, f = 249.81891254809764\n",
      "[[ 3. 25.  5. 30.  1.  5.]]\n",
      "\n",
      "User function time loss called with 1 inputs to simulate\n",
      "\n",
      "Evaluating input: 1 of 1\n",
      "\n",
      " Retrying in 1 seconds\n"
     ]
    },
    {
     "name": "stderr",
     "output_type": "stream",
     "text": [
      " /Users/harrysonghurst/opt/anaconda3/envs/traffic/lib/python3.8/site-packages/paramz/transformations.py:111: RuntimeWarning:overflow encountered in expm1\n",
      " /Users/harrysonghurst/opt/anaconda3/envs/traffic/lib/python3.8/site-packages/GPy/kern/src/stationary.py:168: RuntimeWarning:overflow encountered in true_divide\n",
      " /Users/harrysonghurst/opt/anaconda3/envs/traffic/lib/python3.8/site-packages/GPy/kern/src/rbf.py:76: RuntimeWarning:invalid value encountered in multiply\n"
     ]
    },
    {
     "name": "stdout",
     "output_type": "stream",
     "text": [
      "Optimization restart 1/5, f = 254.2177307500546\n",
      "Optimization restart 2/5, f = 287.9655681221095\n",
      "Optimization restart 3/5, f = 275.66844717274245\n",
      "Optimization restart 4/5, f = 287.9655740844989\n",
      "Optimization restart 5/5, f = 287.965572919936\n",
      "[[ 3.         25.         15.45441128 30.          3.          1.5       ]]\n",
      "\n",
      "User function time loss called with 1 inputs to simulate\n",
      "\n",
      "Evaluating input: 1 of 1\n",
      "\n",
      " Retrying in 1 seconds\n"
     ]
    },
    {
     "name": "stderr",
     "output_type": "stream",
     "text": [
      " /Users/harrysonghurst/opt/anaconda3/envs/traffic/lib/python3.8/site-packages/paramz/transformations.py:111: RuntimeWarning:overflow encountered in expm1\n",
      " /Users/harrysonghurst/opt/anaconda3/envs/traffic/lib/python3.8/site-packages/GPy/kern/src/rbf.py:52: RuntimeWarning:overflow encountered in square\n"
     ]
    },
    {
     "name": "stdout",
     "output_type": "stream",
     "text": [
      "Optimization restart 1/5, f = 259.5552413848751\n",
      "Optimization restart 2/5, f = 295.29192435690453\n",
      "Optimization restart 3/5, f = 259.6552131092553\n",
      "Optimization restart 4/5, f = 282.3842905761633\n",
      "Optimization restart 5/5, f = 295.2919262454389\n",
      "[[ 3.         8.        15.5979488 39.3177628  3.         5.       ]]\n",
      "\n",
      "User function time loss called with 1 inputs to simulate\n",
      "\n",
      "Evaluating input: 1 of 1\n",
      "\n",
      " Retrying in 1 seconds\n"
     ]
    },
    {
     "name": "stderr",
     "output_type": "stream",
     "text": [
      " /Users/harrysonghurst/opt/anaconda3/envs/traffic/lib/python3.8/site-packages/paramz/transformations.py:111: RuntimeWarning:overflow encountered in expm1\n"
     ]
    },
    {
     "name": "stdout",
     "output_type": "stream",
     "text": [
      "Optimization restart 1/5, f = 264.4189525149366\n",
      "Optimization restart 2/5, f = 287.6502510839542\n",
      "Optimization restart 3/5, f = 264.4130055192681\n"
     ]
    },
    {
     "name": "stderr",
     "output_type": "stream",
     "text": [
      " /Users/harrysonghurst/opt/anaconda3/envs/traffic/lib/python3.8/site-packages/GPy/kern/src/rbf.py:52: RuntimeWarning:overflow encountered in square\n"
     ]
    },
    {
     "name": "stdout",
     "output_type": "stream",
     "text": [
      "Optimization restart 4/5, f = 264.41300546479283\n",
      "Optimization restart 5/5, f = 287.6490253726099\n",
      "[[ 3.          8.         27.         60.15692467  1.          5.        ]]\n",
      "\n",
      "User function time loss called with 1 inputs to simulate\n",
      "\n",
      "Evaluating input: 1 of 1\n",
      "\n",
      " Retrying in 1 seconds\n"
     ]
    },
    {
     "name": "stderr",
     "output_type": "stream",
     "text": [
      " /Users/harrysonghurst/opt/anaconda3/envs/traffic/lib/python3.8/site-packages/paramz/transformations.py:111: RuntimeWarning:overflow encountered in expm1\n"
     ]
    },
    {
     "name": "stdout",
     "output_type": "stream",
     "text": [
      "Optimization restart 1/5, f = 268.8455238482875\n",
      "Optimization restart 2/5, f = 306.8858389949445\n",
      "Optimization restart 3/5, f = 306.8858405917339\n",
      "Optimization restart 4/5, f = 306.8858420946\n",
      "Optimization restart 5/5, f = 268.8442517828669\n",
      "[[11.         25.          5.         61.11864773  1.          5.        ]]\n",
      "\n",
      "User function time loss called with 1 inputs to simulate\n",
      "\n",
      "Evaluating input: 1 of 1\n",
      "\n",
      " Retrying in 1 seconds\n"
     ]
    },
    {
     "name": "stderr",
     "output_type": "stream",
     "text": [
      " /Users/harrysonghurst/opt/anaconda3/envs/traffic/lib/python3.8/site-packages/paramz/transformations.py:111: RuntimeWarning:overflow encountered in expm1\n"
     ]
    },
    {
     "name": "stdout",
     "output_type": "stream",
     "text": [
      "Optimization restart 1/5, f = 273.11214501446347\n",
      "Optimization restart 2/5, f = 312.40274046734527\n",
      "Optimization restart 3/5, f = 312.4027571697969\n",
      "Optimization restart 4/5, f = 312.4027600417588\n",
      "Optimization restart 5/5, f = 273.1111134089545\n",
      "[[20.         8.        13.8978878 70.         3.         5.       ]]\n",
      "\n",
      "User function time loss called with 1 inputs to simulate\n",
      "\n",
      "Evaluating input: 1 of 1\n",
      "\n",
      " Retrying in 1 seconds\n"
     ]
    },
    {
     "name": "stderr",
     "output_type": "stream",
     "text": [
      " /Users/harrysonghurst/opt/anaconda3/envs/traffic/lib/python3.8/site-packages/paramz/transformations.py:111: RuntimeWarning:overflow encountered in expm1\n"
     ]
    },
    {
     "name": "stdout",
     "output_type": "stream",
     "text": [
      "Optimization restart 1/5, f = 277.4276471099779\n",
      "Optimization restart 2/5, f = 317.91466421356733\n",
      "Optimization restart 3/5, f = 278.60554360158847\n",
      "Optimization restart 4/5, f = 277.42761892590715\n",
      "Optimization restart 5/5, f = 317.91465968119326\n",
      "[[ 3.         15.82840991 15.91404828 30.          1.          5.        ]]\n",
      "\n",
      "User function time loss called with 1 inputs to simulate\n",
      "\n",
      "Evaluating input: 1 of 1\n",
      "\n",
      " Retrying in 1 seconds\n"
     ]
    },
    {
     "name": "stderr",
     "output_type": "stream",
     "text": [
      " /Users/harrysonghurst/opt/anaconda3/envs/traffic/lib/python3.8/site-packages/paramz/transformations.py:111: RuntimeWarning:overflow encountered in expm1\n",
      " /Users/harrysonghurst/opt/anaconda3/envs/traffic/lib/python3.8/site-packages/GPy/kern/src/rbf.py:52: RuntimeWarning:overflow encountered in square\n"
     ]
    },
    {
     "name": "stdout",
     "output_type": "stream",
     "text": [
      "Optimization restart 1/5, f = 290.7000450606778\n",
      "Optimization restart 2/5, f = 328.7328666260348\n",
      "Optimization restart 3/5, f = 290.70004365358665\n",
      "Optimization restart 4/5, f = 290.7000436536727\n",
      "Optimization restart 5/5, f = 328.73285773692135\n",
      "[[20.         16.73923057 27.         30.          3.          5.        ]]\n",
      "\n",
      "User function time loss called with 1 inputs to simulate\n",
      "\n",
      "Evaluating input: 1 of 1\n",
      "\n",
      " Retrying in 1 seconds\n"
     ]
    },
    {
     "name": "stderr",
     "output_type": "stream",
     "text": [
      " /Users/harrysonghurst/opt/anaconda3/envs/traffic/lib/python3.8/site-packages/paramz/transformations.py:111: RuntimeWarning:overflow encountered in expm1\n"
     ]
    },
    {
     "name": "stdout",
     "output_type": "stream",
     "text": [
      "Optimization restart 1/5, f = 295.3790550536314\n",
      "Optimization restart 2/5, f = 334.83315565094733\n",
      "Optimization restart 3/5, f = 334.83310599895685\n",
      "Optimization restart 4/5, f = 295.3789676887308\n",
      "Optimization restart 5/5, f = 334.83298266714525\n",
      "[[ 8.          8.          9.90790147 62.93921749  3.          1.5       ]]\n",
      "\n",
      "User function time loss called with 1 inputs to simulate\n",
      "\n",
      "Evaluating input: 1 of 1\n",
      "\n",
      " Retrying in 1 seconds\n"
     ]
    },
    {
     "name": "stderr",
     "output_type": "stream",
     "text": [
      " /Users/harrysonghurst/opt/anaconda3/envs/traffic/lib/python3.8/site-packages/paramz/transformations.py:111: RuntimeWarning:overflow encountered in expm1\n"
     ]
    },
    {
     "name": "stdout",
     "output_type": "stream",
     "text": [
      "Optimization restart 1/5, f = 299.9670359127633\n",
      "Optimization restart 2/5, f = 340.48003246242405\n",
      "Optimization restart 3/5, f = 299.9661796574131\n",
      "Optimization restart 4/5, f = 299.9661791603244\n",
      "Optimization restart 5/5, f = 340.4800327775179\n",
      "[[12. 25.  5. 30.  3.  5.]]\n",
      "\n",
      "User function time loss called with 1 inputs to simulate\n",
      "\n",
      "Evaluating input: 1 of 1\n",
      "\n",
      " Retrying in 1 seconds\n"
     ]
    },
    {
     "name": "stderr",
     "output_type": "stream",
     "text": [
      " /Users/harrysonghurst/opt/anaconda3/envs/traffic/lib/python3.8/site-packages/paramz/transformations.py:111: RuntimeWarning:overflow encountered in expm1\n"
     ]
    },
    {
     "name": "stdout",
     "output_type": "stream",
     "text": [
      "Optimization restart 1/5, f = 304.27340950392124\n",
      "Optimization restart 2/5, f = 346.1007234570919\n",
      "Optimization restart 3/5, f = 304.2733998281494\n",
      "Optimization restart 4/5, f = 346.1007152001718\n",
      "Optimization restart 5/5, f = 346.1007142326044\n",
      "[[20.        25.         5.        39.7069733  1.         5.       ]]\n",
      "\n",
      "User function time loss called with 1 inputs to simulate\n",
      "\n",
      "Evaluating input: 1 of 1\n",
      "\n",
      " Retrying in 1 seconds\n"
     ]
    },
    {
     "name": "stderr",
     "output_type": "stream",
     "text": [
      " /Users/harrysonghurst/opt/anaconda3/envs/traffic/lib/python3.8/site-packages/paramz/transformations.py:111: RuntimeWarning:overflow encountered in expm1\n"
     ]
    },
    {
     "name": "stdout",
     "output_type": "stream",
     "text": [
      "Optimization restart 1/5, f = 308.87751391742614\n",
      "Optimization restart 2/5, f = 351.6729925032925\n",
      "Optimization restart 3/5, f = 351.67283795702593\n",
      "Optimization restart 4/5, f = 351.6728303562174\n"
     ]
    },
    {
     "name": "stderr",
     "output_type": "stream",
     "text": [
      " /Users/harrysonghurst/opt/anaconda3/envs/traffic/lib/python3.8/site-packages/GPy/kern/src/rbf.py:52: RuntimeWarning:overflow encountered in square\n"
     ]
    },
    {
     "name": "stdout",
     "output_type": "stream",
     "text": [
      "Optimization restart 5/5, f = 308.8760899460415\n",
      "[[12.         25.         20.62781804 30.          1.          5.        ]]\n",
      "\n",
      "User function time loss called with 1 inputs to simulate\n",
      "\n",
      "Evaluating input: 1 of 1\n",
      "\n",
      " Retrying in 1 seconds\n"
     ]
    },
    {
     "name": "stderr",
     "output_type": "stream",
     "text": [
      " /Users/harrysonghurst/opt/anaconda3/envs/traffic/lib/python3.8/site-packages/paramz/transformations.py:111: RuntimeWarning:overflow encountered in expm1\n"
     ]
    },
    {
     "name": "stdout",
     "output_type": "stream",
     "text": [
      "Optimization restart 1/5, f = 314.1804323863004\n",
      "Optimization restart 2/5, f = 358.6825595185299\n",
      "Optimization restart 3/5, f = 358.6825566742736\n",
      "Optimization restart 4/5, f = 343.1915899503858\n",
      "Optimization restart 5/5, f = 358.6827112898558\n",
      "[[13. 25. 27. 70.  1.  5.]]\n",
      "\n",
      "User function time loss called with 1 inputs to simulate\n",
      "\n",
      "Evaluating input: 1 of 1\n",
      "\n",
      " Retrying in 1 seconds\n"
     ]
    },
    {
     "name": "stderr",
     "output_type": "stream",
     "text": [
      " /Users/harrysonghurst/opt/anaconda3/envs/traffic/lib/python3.8/site-packages/paramz/transformations.py:111: RuntimeWarning:overflow encountered in expm1\n"
     ]
    },
    {
     "name": "stdout",
     "output_type": "stream",
     "text": [
      "Optimization restart 1/5, f = 320.8142550759809\n",
      "Optimization restart 2/5, f = 320.68992177068344\n",
      "Optimization restart 3/5, f = 364.8546141008523\n",
      "Optimization restart 4/5, f = 364.8545653314258\n",
      "Optimization restart 5/5, f = 320.7734195215619\n",
      "[[11.          8.         14.40348299 30.          3.          1.5       ]]\n",
      "\n",
      "User function time loss called with 1 inputs to simulate\n",
      "\n",
      "Evaluating input: 1 of 1\n",
      "\n",
      " Retrying in 1 seconds\n"
     ]
    },
    {
     "name": "stderr",
     "output_type": "stream",
     "text": [
      " /Users/harrysonghurst/opt/anaconda3/envs/traffic/lib/python3.8/site-packages/paramz/transformations.py:111: RuntimeWarning:overflow encountered in expm1\n"
     ]
    },
    {
     "name": "stdout",
     "output_type": "stream",
     "text": [
      "Optimization restart 1/5, f = 325.024162154943\n",
      "Optimization restart 2/5, f = 370.50956024453404\n",
      "Optimization restart 3/5, f = 353.99389544717496\n",
      "Optimization restart 4/5, f = 325.0237617211853\n",
      "Optimization restart 5/5, f = 370.5094082594378\n",
      "[[ 3.         25.         13.02596082 70.          3.          5.        ]]\n",
      "\n",
      "User function time loss called with 1 inputs to simulate\n",
      "\n",
      "Evaluating input: 1 of 1\n",
      "\n",
      " Retrying in 1 seconds\n"
     ]
    },
    {
     "name": "stderr",
     "output_type": "stream",
     "text": [
      " /Users/harrysonghurst/opt/anaconda3/envs/traffic/lib/python3.8/site-packages/paramz/transformations.py:111: RuntimeWarning:overflow encountered in expm1\n"
     ]
    },
    {
     "name": "stdout",
     "output_type": "stream",
     "text": [
      "Optimization restart 1/5, f = 329.5537927257496\n",
      "Optimization restart 2/5, f = 376.780917902432\n",
      "Optimization restart 3/5, f = 376.7808909270149\n",
      "Optimization restart 4/5, f = 376.7809616608656\n",
      "Optimization restart 5/5, f = 376.78100329903475\n",
      "[[ 3.          8.         15.71329593 52.97395158  1.          5.        ]]\n",
      "\n",
      "User function time loss called with 1 inputs to simulate\n",
      "\n",
      "Evaluating input: 1 of 1\n",
      "\n",
      " Retrying in 1 seconds\n"
     ]
    },
    {
     "name": "stderr",
     "output_type": "stream",
     "text": [
      " /Users/harrysonghurst/opt/anaconda3/envs/traffic/lib/python3.8/site-packages/paramz/transformations.py:111: RuntimeWarning:overflow encountered in expm1\n",
      " /Users/harrysonghurst/opt/anaconda3/envs/traffic/lib/python3.8/site-packages/GPy/kern/src/stationary.py:168: RuntimeWarning:overflow encountered in true_divide\n",
      " /Users/harrysonghurst/opt/anaconda3/envs/traffic/lib/python3.8/site-packages/GPy/kern/src/rbf.py:76: RuntimeWarning:invalid value encountered in multiply\n"
     ]
    },
    {
     "name": "stdout",
     "output_type": "stream",
     "text": [
      "Optimization restart 1/5, f = 333.8076518903188\n",
      "Optimization restart 2/5, f = 333.8611244545282\n",
      "Optimization restart 3/5, f = 364.62741315501813\n",
      "Optimization restart 4/5, f = 333.86112446159547\n"
     ]
    },
    {
     "name": "stderr",
     "output_type": "stream",
     "text": [
      " /Users/harrysonghurst/opt/anaconda3/envs/traffic/lib/python3.8/site-packages/GPy/kern/src/rbf.py:52: RuntimeWarning:overflow encountered in square\n"
     ]
    },
    {
     "name": "stdout",
     "output_type": "stream",
     "text": [
      "Optimization restart 5/5, f = 333.8611244540017\n",
      "[[ 3.        18.4282833 27.        70.         1.         1.5      ]]\n",
      "\n",
      "User function time loss called with 1 inputs to simulate\n",
      "\n",
      "Evaluating input: 1 of 1\n",
      "\n",
      " Retrying in 1 seconds\n"
     ]
    },
    {
     "name": "stderr",
     "output_type": "stream",
     "text": [
      " /Users/harrysonghurst/opt/anaconda3/envs/traffic/lib/python3.8/site-packages/paramz/transformations.py:111: RuntimeWarning:overflow encountered in expm1\n",
      " /Users/harrysonghurst/opt/anaconda3/envs/traffic/lib/python3.8/site-packages/GPy/kern/src/rbf.py:52: RuntimeWarning:overflow encountered in square\n",
      " /Users/harrysonghurst/opt/anaconda3/envs/traffic/lib/python3.8/site-packages/GPy/kern/src/stationary.py:168: RuntimeWarning:overflow encountered in true_divide\n",
      " /Users/harrysonghurst/opt/anaconda3/envs/traffic/lib/python3.8/site-packages/GPy/kern/src/rbf.py:76: RuntimeWarning:invalid value encountered in multiply\n"
     ]
    },
    {
     "name": "stdout",
     "output_type": "stream",
     "text": [
      "Optimization restart 1/5, f = 343.06758086447763\n",
      "Optimization restart 2/5, f = 366.5795037906217\n",
      "Optimization restart 3/5, f = 343.05119805598235\n",
      "Optimization restart 4/5, f = 343.051198070288\n",
      "Optimization restart 5/5, f = 388.70351048404825\n",
      "[[20.          8.         14.96879234 47.45771522  1.          1.5       ]]\n",
      "\n",
      "User function time loss called with 1 inputs to simulate\n",
      "\n",
      "Evaluating input: 1 of 1\n",
      "\n",
      " Retrying in 1 seconds\n"
     ]
    },
    {
     "name": "stderr",
     "output_type": "stream",
     "text": [
      " /Users/harrysonghurst/opt/anaconda3/envs/traffic/lib/python3.8/site-packages/paramz/transformations.py:111: RuntimeWarning:overflow encountered in expm1\n",
      " /Users/harrysonghurst/opt/anaconda3/envs/traffic/lib/python3.8/site-packages/GPy/kern/src/stationary.py:168: RuntimeWarning:overflow encountered in true_divide\n",
      " /Users/harrysonghurst/opt/anaconda3/envs/traffic/lib/python3.8/site-packages/GPy/kern/src/rbf.py:76: RuntimeWarning:invalid value encountered in multiply\n"
     ]
    },
    {
     "name": "stdout",
     "output_type": "stream",
     "text": [
      "Optimization restart 1/5, f = 347.53070972221207\n",
      "Optimization restart 2/5, f = 374.595927953716\n",
      "Optimization restart 3/5, f = 394.28700619271586\n",
      "Optimization restart 4/5, f = 394.28709362609305\n",
      "Optimization restart 5/5, f = 394.28700790742613\n",
      "[[ 3.         18.54338883 27.         30.          1.          1.5       ]]\n",
      "\n",
      "User function time loss called with 1 inputs to simulate\n",
      "\n",
      "Evaluating input: 1 of 1\n",
      "\n",
      " Retrying in 1 seconds\n"
     ]
    },
    {
     "name": "stderr",
     "output_type": "stream",
     "text": [
      " /Users/harrysonghurst/opt/anaconda3/envs/traffic/lib/python3.8/site-packages/paramz/transformations.py:111: RuntimeWarning:overflow encountered in expm1\n",
      " /Users/harrysonghurst/opt/anaconda3/envs/traffic/lib/python3.8/site-packages/GPy/kern/src/rbf.py:52: RuntimeWarning:overflow encountered in square\n"
     ]
    },
    {
     "name": "stdout",
     "output_type": "stream",
     "text": [
      "Optimization restart 1/5, f = 354.9687588983846\n",
      "Optimization restart 2/5, f = 401.1965022823672\n",
      "Optimization restart 3/5, f = 354.7398144926229\n",
      "Optimization restart 4/5, f = 354.7398144715305\n",
      "Optimization restart 5/5, f = 401.1965089266034\n",
      "[[ 3.  8.  5. 30.  3.  5.]]\n",
      "\n",
      "User function time loss called with 1 inputs to simulate\n",
      "\n",
      "Evaluating input: 1 of 1\n",
      "\n",
      " Retrying in 1 seconds\n"
     ]
    },
    {
     "name": "stderr",
     "output_type": "stream",
     "text": [
      " /Users/harrysonghurst/opt/anaconda3/envs/traffic/lib/python3.8/site-packages/paramz/transformations.py:111: RuntimeWarning:overflow encountered in expm1\n"
     ]
    },
    {
     "name": "stdout",
     "output_type": "stream",
     "text": [
      "Optimization restart 1/5, f = 359.9487382171745\n",
      "Optimization restart 2/5, f = 359.9448024880836\n",
      "Optimization restart 3/5, f = 406.8761063291705\n",
      "Optimization restart 4/5, f = 406.8761128611004\n",
      "Optimization restart 5/5, f = 406.876107677856\n",
      "[[20.  8.  5. 30.  3.  5.]]\n",
      "\n",
      "User function time loss called with 1 inputs to simulate\n",
      "\n",
      "Evaluating input: 1 of 1\n",
      "\n",
      " Retrying in 1 seconds\n"
     ]
    },
    {
     "name": "stderr",
     "output_type": "stream",
     "text": [
      " /Users/harrysonghurst/opt/anaconda3/envs/traffic/lib/python3.8/site-packages/paramz/transformations.py:111: RuntimeWarning:overflow encountered in expm1\n"
     ]
    },
    {
     "name": "stdout",
     "output_type": "stream",
     "text": [
      "Optimization restart 1/5, f = 364.6162070734197\n",
      "Optimization restart 2/5, f = 412.459589081732\n",
      "Optimization restart 3/5, f = 364.61617944956595\n",
      "Optimization restart 4/5, f = 364.616176781115\n",
      "Optimization restart 5/5, f = 412.4596626217398\n",
      "[[20.         25.         27.         54.12209888  3.          5.        ]]\n",
      "\n",
      "User function time loss called with 1 inputs to simulate\n",
      "\n",
      "Evaluating input: 1 of 1\n",
      "\n",
      " Retrying in 1 seconds\n"
     ]
    },
    {
     "name": "stderr",
     "output_type": "stream",
     "text": [
      " /Users/harrysonghurst/opt/anaconda3/envs/traffic/lib/python3.8/site-packages/paramz/transformations.py:111: RuntimeWarning:overflow encountered in expm1\n"
     ]
    },
    {
     "name": "stdout",
     "output_type": "stream",
     "text": [
      "Optimization restart 1/5, f = 369.27502626346245\n",
      "Optimization restart 2/5, f = 418.4424359806397\n",
      "Optimization restart 3/5, f = 418.4424351347672\n",
      "Optimization restart 4/5, f = 369.2733031431835\n",
      "Optimization restart 5/5, f = 397.92013204040114\n",
      "[[20.   8.  27.  70.   1.   1.5]]\n",
      "\n",
      "User function time loss called with 1 inputs to simulate\n",
      "\n",
      "Evaluating input: 1 of 1\n",
      "\n",
      " Retrying in 1 seconds\n"
     ]
    },
    {
     "name": "stderr",
     "output_type": "stream",
     "text": [
      " /Users/harrysonghurst/opt/anaconda3/envs/traffic/lib/python3.8/site-packages/paramz/transformations.py:111: RuntimeWarning:overflow encountered in expm1\n"
     ]
    },
    {
     "name": "stdout",
     "output_type": "stream",
     "text": [
      "Optimization restart 1/5, f = 374.07182807512146\n",
      "Optimization restart 2/5, f = 424.0091917515672\n",
      "Optimization restart 3/5, f = 424.00908025800896\n",
      "Optimization restart 4/5, f = 424.0091109127089\n",
      "Optimization restart 5/5, f = 374.06942902805855\n",
      "[[20.  25.   5.  70.   1.   1.5]]\n",
      "\n",
      "User function time loss called with 1 inputs to simulate\n",
      "\n",
      "Evaluating input: 1 of 1\n",
      "\n",
      " Retrying in 1 seconds\n"
     ]
    },
    {
     "name": "stderr",
     "output_type": "stream",
     "text": [
      " /Users/harrysonghurst/opt/anaconda3/envs/traffic/lib/python3.8/site-packages/paramz/transformations.py:111: RuntimeWarning:overflow encountered in expm1\n"
     ]
    },
    {
     "name": "stdout",
     "output_type": "stream",
     "text": [
      "Optimization restart 1/5, f = 378.8231369960933\n",
      "Optimization restart 2/5, f = 378.8226420811439\n",
      "Optimization restart 3/5, f = 429.5642343198152\n",
      "Optimization restart 4/5, f = 378.8226416292052\n",
      "Optimization restart 5/5, f = 378.8226416332256\n",
      "[[ 3.       25.       27.       47.986994  1.        5.      ]]\n",
      "\n",
      "User function time loss called with 1 inputs to simulate\n",
      "\n",
      "Evaluating input: 1 of 1\n",
      "\n",
      " Retrying in 1 seconds\n"
     ]
    },
    {
     "name": "stderr",
     "output_type": "stream",
     "text": [
      " /Users/harrysonghurst/opt/anaconda3/envs/traffic/lib/python3.8/site-packages/paramz/transformations.py:111: RuntimeWarning:overflow encountered in expm1\n",
      " /Users/harrysonghurst/opt/anaconda3/envs/traffic/lib/python3.8/site-packages/GPy/kern/src/stationary.py:168: RuntimeWarning:overflow encountered in true_divide\n",
      " /Users/harrysonghurst/opt/anaconda3/envs/traffic/lib/python3.8/site-packages/GPy/kern/src/rbf.py:76: RuntimeWarning:invalid value encountered in multiply\n"
     ]
    },
    {
     "name": "stdout",
     "output_type": "stream",
     "text": [
      "Optimization restart 1/5, f = 388.70636878204476\n",
      "Optimization restart 2/5, f = 388.7063687805469\n",
      "Optimization restart 3/5, f = 388.9694828376961\n",
      "Optimization restart 4/5, f = 440.82596392077886\n",
      "Optimization restart 5/5, f = 440.82597992329386\n",
      "[[ 3.  8.  5. 70.  3.  5.]]\n",
      "\n",
      "User function time loss called with 1 inputs to simulate\n",
      "\n",
      "Evaluating input: 1 of 1\n",
      "\n",
      " Retrying in 1 seconds\n"
     ]
    },
    {
     "name": "stderr",
     "output_type": "stream",
     "text": [
      " /Users/harrysonghurst/opt/anaconda3/envs/traffic/lib/python3.8/site-packages/paramz/transformations.py:111: RuntimeWarning:overflow encountered in expm1\n"
     ]
    },
    {
     "name": "stdout",
     "output_type": "stream",
     "text": [
      "Optimization restart 1/5, f = 393.3977074779874\n",
      "Optimization restart 2/5, f = 393.397684197804\n",
      "Optimization restart 3/5, f = 432.88134753873413\n",
      "Optimization restart 4/5, f = 432.881178184982\n",
      "Optimization restart 5/5, f = 432.88113806684106\n",
      "[[ 3.  8. 27. 30.  3.  5.]]\n",
      "\n",
      "User function time loss called with 1 inputs to simulate\n",
      "\n",
      "Evaluating input: 1 of 1\n",
      "\n",
      " Retrying in 1 seconds\n"
     ]
    },
    {
     "name": "stderr",
     "output_type": "stream",
     "text": [
      " /Users/harrysonghurst/opt/anaconda3/envs/traffic/lib/python3.8/site-packages/paramz/transformations.py:111: RuntimeWarning:overflow encountered in expm1\n"
     ]
    },
    {
     "name": "stdout",
     "output_type": "stream",
     "text": [
      "Optimization restart 1/5, f = 398.4083653468777\n",
      "Optimization restart 2/5, f = 398.4033751824398\n",
      "Optimization restart 3/5, f = 398.40337540762675\n",
      "Optimization restart 4/5, f = 398.40337514402916\n",
      "Optimization restart 5/5, f = 439.16192564617154\n",
      "[[20.         25.         14.74277851 30.          1.          5.        ]]\n",
      "\n",
      "User function time loss called with 1 inputs to simulate\n",
      "\n",
      "Evaluating input: 1 of 1\n",
      "\n",
      " Retrying in 1 seconds\n"
     ]
    },
    {
     "name": "stderr",
     "output_type": "stream",
     "text": [
      " /Users/harrysonghurst/opt/anaconda3/envs/traffic/lib/python3.8/site-packages/paramz/transformations.py:111: RuntimeWarning:overflow encountered in expm1\n"
     ]
    },
    {
     "name": "stdout",
     "output_type": "stream",
     "text": [
      "Optimization restart 1/5, f = 403.0574459726593\n",
      "Optimization restart 2/5, f = 403.0572139488385\n",
      "Optimization restart 3/5, f = 445.430885019204\n",
      "Optimization restart 4/5, f = 437.5466727241818\n",
      "Optimization restart 5/5, f = 412.0275614381675\n",
      "[[20.  25.  27.  70.   1.   1.5]]\n",
      "\n",
      "User function time loss called with 1 inputs to simulate\n",
      "\n",
      "Evaluating input: 1 of 1\n",
      "\n"
     ]
    },
    {
     "name": "stderr",
     "output_type": "stream",
     "text": [
      " /Users/harrysonghurst/opt/anaconda3/envs/traffic/lib/python3.8/site-packages/GPy/kern/src/stationary.py:168: RuntimeWarning:overflow encountered in true_divide\n",
      " /Users/harrysonghurst/opt/anaconda3/envs/traffic/lib/python3.8/site-packages/GPy/kern/src/rbf.py:76: RuntimeWarning:invalid value encountered in multiply\n"
     ]
    },
    {
     "name": "stdout",
     "output_type": "stream",
     "text": [
      " Retrying in 1 seconds\n"
     ]
    },
    {
     "name": "stderr",
     "output_type": "stream",
     "text": [
      " /Users/harrysonghurst/opt/anaconda3/envs/traffic/lib/python3.8/site-packages/paramz/transformations.py:111: RuntimeWarning:overflow encountered in expm1\n"
     ]
    },
    {
     "name": "stdout",
     "output_type": "stream",
     "text": [
      "Optimization restart 1/5, f = 407.75379668390235\n",
      "Optimization restart 2/5, f = 407.7537024184321\n",
      "Optimization restart 3/5, f = 407.7537021415624\n",
      "Optimization restart 4/5, f = 407.75370262825805\n",
      "Optimization restart 5/5, f = 407.7537036633615\n",
      "[[20.          8.         27.         48.12939659  3.          1.5       ]]\n",
      "\n",
      "User function time loss called with 1 inputs to simulate\n",
      "\n",
      "Evaluating input: 1 of 1\n",
      "\n",
      " Retrying in 1 seconds\n"
     ]
    },
    {
     "name": "stderr",
     "output_type": "stream",
     "text": [
      " /Users/harrysonghurst/opt/anaconda3/envs/traffic/lib/python3.8/site-packages/paramz/transformations.py:111: RuntimeWarning:overflow encountered in expm1\n",
      " /Users/harrysonghurst/opt/anaconda3/envs/traffic/lib/python3.8/site-packages/GPy/kern/src/stationary.py:168: RuntimeWarning:overflow encountered in true_divide\n",
      " /Users/harrysonghurst/opt/anaconda3/envs/traffic/lib/python3.8/site-packages/GPy/kern/src/rbf.py:76: RuntimeWarning:invalid value encountered in multiply\n"
     ]
    },
    {
     "name": "stdout",
     "output_type": "stream",
     "text": [
      "Optimization restart 1/5, f = 412.49621944601404\n",
      "Optimization restart 2/5, f = 448.48645887269566\n",
      "Optimization restart 3/5, f = 426.02794888524494\n",
      "Optimization restart 4/5, f = 412.49567016592124\n",
      "Optimization restart 5/5, f = 456.4375502874976\n",
      "[[ 3.  25.   5.  70.   1.   1.5]]\n",
      "\n",
      "User function time loss called with 1 inputs to simulate\n",
      "\n",
      "Evaluating input: 1 of 1\n",
      "\n",
      " Retrying in 1 seconds\n"
     ]
    },
    {
     "name": "stderr",
     "output_type": "stream",
     "text": [
      " /Users/harrysonghurst/opt/anaconda3/envs/traffic/lib/python3.8/site-packages/paramz/transformations.py:111: RuntimeWarning:overflow encountered in expm1\n"
     ]
    },
    {
     "name": "stdout",
     "output_type": "stream",
     "text": [
      "Optimization restart 1/5, f = 417.12220420815135\n",
      "Optimization restart 2/5, f = 453.9919722528502\n",
      "Optimization restart 3/5, f = 453.99168790962256\n",
      "Optimization restart 4/5, f = 448.4928593218006\n",
      "Optimization restart 5/5, f = 417.12204704414734\n",
      "[[ 3.   8.   5.  70.   1.   1.5]]\n",
      "\n",
      "User function time loss called with 1 inputs to simulate\n",
      "\n",
      "Evaluating input: 1 of 1\n",
      "\n",
      " Retrying in 1 seconds\n"
     ]
    },
    {
     "name": "stderr",
     "output_type": "stream",
     "text": [
      " /Users/harrysonghurst/opt/anaconda3/envs/traffic/lib/python3.8/site-packages/paramz/transformations.py:111: RuntimeWarning:overflow encountered in expm1\n"
     ]
    },
    {
     "name": "stdout",
     "output_type": "stream",
     "text": [
      "Optimization restart 1/5, f = 421.83585506755765\n",
      "Optimization restart 2/5, f = 454.11997519666784\n",
      "Optimization restart 3/5, f = 412.22259265882906\n",
      "Optimization restart 4/5, f = 421.83572282942276\n",
      "Optimization restart 5/5, f = 459.48606339529397\n",
      "[[11.  8. 27. 70.  1.  5.]]\n",
      "\n",
      "User function time loss called with 1 inputs to simulate\n",
      "\n",
      "Evaluating input: 1 of 1\n",
      "\n",
      " Retrying in 1 seconds\n"
     ]
    },
    {
     "name": "stderr",
     "output_type": "stream",
     "text": [
      " /Users/harrysonghurst/opt/anaconda3/envs/traffic/lib/python3.8/site-packages/paramz/transformations.py:111: RuntimeWarning:overflow encountered in expm1\n"
     ]
    },
    {
     "name": "stdout",
     "output_type": "stream",
     "text": [
      "Optimization restart 1/5, f = 416.7890209215594\n",
      "Optimization restart 2/5, f = 426.5228909448093\n",
      "Optimization restart 3/5, f = 459.7347530753682\n",
      "Optimization restart 4/5, f = 459.73459504531917\n",
      "Optimization restart 5/5, f = 459.73474156153156\n",
      "[[20.         25.         19.64774015 42.9804104   3.          1.5       ]]\n",
      "\n",
      "User function time loss called with 1 inputs to simulate\n",
      "\n",
      "Evaluating input: 1 of 1\n",
      "\n",
      " Retrying in 1 seconds\n"
     ]
    },
    {
     "name": "stderr",
     "output_type": "stream",
     "text": [
      " /Users/harrysonghurst/opt/anaconda3/envs/traffic/lib/python3.8/site-packages/paramz/transformations.py:111: RuntimeWarning:overflow encountered in expm1\n"
     ]
    },
    {
     "name": "stdout",
     "output_type": "stream",
     "text": [
      "Optimization restart 1/5, f = 421.43992812090175\n",
      "Optimization restart 2/5, f = 431.05658880512885\n"
     ]
    },
    {
     "name": "stderr",
     "output_type": "stream",
     "text": [
      " /Users/harrysonghurst/opt/anaconda3/envs/traffic/lib/python3.8/site-packages/GPy/kern/src/stationary.py:168: RuntimeWarning:overflow encountered in true_divide\n",
      " /Users/harrysonghurst/opt/anaconda3/envs/traffic/lib/python3.8/site-packages/GPy/kern/src/rbf.py:76: RuntimeWarning:invalid value encountered in multiply\n"
     ]
    },
    {
     "name": "stdout",
     "output_type": "stream",
     "text": [
      "Optimization restart 3/5, f = 470.2991011838489\n",
      "Optimization restart 4/5, f = 431.05658915833635\n",
      "Optimization restart 5/5, f = 431.0565887973801\n",
      "[[12.          8.         27.         40.14010799  3.          5.        ]]\n",
      "\n",
      "User function time loss called with 1 inputs to simulate\n",
      "\n",
      "Evaluating input: 1 of 1\n",
      "\n",
      " Retrying in 1 seconds\n"
     ]
    },
    {
     "name": "stderr",
     "output_type": "stream",
     "text": [
      " /Users/harrysonghurst/opt/anaconda3/envs/traffic/lib/python3.8/site-packages/paramz/transformations.py:111: RuntimeWarning:overflow encountered in expm1\n"
     ]
    },
    {
     "name": "stdout",
     "output_type": "stream",
     "text": [
      "Optimization restart 1/5, f = 425.98037314428467\n",
      "Optimization restart 2/5, f = 471.09326167659117\n",
      "Optimization restart 3/5, f = 435.78677413236005\n",
      "Optimization restart 4/5, f = 435.78677413280695\n",
      "Optimization restart 5/5, f = 471.09312987695745\n",
      "[[11.         25.         27.         38.33656404  3.          1.5       ]]\n",
      "\n",
      "User function time loss called with 1 inputs to simulate\n",
      "\n",
      "Evaluating input: 1 of 1\n",
      "\n",
      " Retrying in 1 seconds\n"
     ]
    },
    {
     "name": "stderr",
     "output_type": "stream",
     "text": [
      " /Users/harrysonghurst/opt/anaconda3/envs/traffic/lib/python3.8/site-packages/paramz/transformations.py:111: RuntimeWarning:overflow encountered in expm1\n"
     ]
    },
    {
     "name": "stdout",
     "output_type": "stream",
     "text": [
      "Optimization restart 1/5, f = 430.79283404422586\n",
      "Optimization restart 2/5, f = 441.97680929602\n"
     ]
    },
    {
     "name": "stderr",
     "output_type": "stream",
     "text": [
      " /Users/harrysonghurst/opt/anaconda3/envs/traffic/lib/python3.8/site-packages/GPy/kern/src/stationary.py:168: RuntimeWarning:overflow encountered in true_divide\n",
      " /Users/harrysonghurst/opt/anaconda3/envs/traffic/lib/python3.8/site-packages/GPy/kern/src/rbf.py:76: RuntimeWarning:invalid value encountered in multiply\n"
     ]
    },
    {
     "name": "stdout",
     "output_type": "stream",
     "text": [
      "Optimization restart 3/5, f = 480.94995927649103\n",
      "Optimization restart 4/5, f = 441.9768093259082\n",
      "Optimization restart 5/5, f = 476.96277547308966\n",
      "[[ 8.        25.        27.        60.9868042  3.         1.5      ]]\n",
      "\n",
      "User function time loss called with 1 inputs to simulate\n",
      "\n",
      "Evaluating input: 1 of 1\n",
      "\n",
      " Retrying in 1 seconds\n"
     ]
    },
    {
     "name": "stderr",
     "output_type": "stream",
     "text": [
      " /Users/harrysonghurst/opt/anaconda3/envs/traffic/lib/python3.8/site-packages/paramz/transformations.py:111: RuntimeWarning:overflow encountered in expm1\n"
     ]
    },
    {
     "name": "stdout",
     "output_type": "stream",
     "text": [
      "Optimization restart 1/5, f = 435.5899618875645\n",
      "Optimization restart 2/5, f = 447.29199021730363\n",
      "Optimization restart 3/5, f = 482.97858023210506\n",
      "Optimization restart 4/5, f = 447.2919902157213\n",
      "Optimization restart 5/5, f = 447.291991130557\n",
      "[[ 7.         18.53294146  5.22822872 66.03793832  3.          1.86472019]]\n",
      "\n",
      "User function time loss called with 1 inputs to simulate\n",
      "\n",
      "Evaluating input: 1 of 1\n",
      "\n",
      " Retrying in 1 seconds\n"
     ]
    },
    {
     "name": "stderr",
     "output_type": "stream",
     "text": [
      " /Users/harrysonghurst/opt/anaconda3/envs/traffic/lib/python3.8/site-packages/paramz/transformations.py:111: RuntimeWarning:overflow encountered in expm1\n"
     ]
    },
    {
     "name": "stdout",
     "output_type": "stream",
     "text": [
      "Optimization restart 1/5, f = 440.0932071435433\n",
      "Optimization restart 2/5, f = 491.8405729027582\n",
      "Optimization restart 3/5, f = 451.67422486980496\n",
      "Optimization restart 4/5, f = 491.8369398945662\n",
      "Optimization restart 5/5, f = 469.8854983121888\n"
     ]
    },
    {
     "name": "stderr",
     "output_type": "stream",
     "text": [
      " /Users/harrysonghurst/opt/anaconda3/envs/traffic/lib/python3.8/site-packages/GPy/kern/src/stationary.py:168: RuntimeWarning:overflow encountered in true_divide\n",
      " /Users/harrysonghurst/opt/anaconda3/envs/traffic/lib/python3.8/site-packages/GPy/kern/src/rbf.py:76: RuntimeWarning:invalid value encountered in multiply\n"
     ]
    },
    {
     "name": "stdout",
     "output_type": "stream",
     "text": [
      "[[20.          8.          5.         41.18139392  3.          5.        ]]\n",
      "\n",
      "User function time loss called with 1 inputs to simulate\n",
      "\n",
      "Evaluating input: 1 of 1\n",
      "\n",
      " Retrying in 1 seconds\n"
     ]
    },
    {
     "name": "stderr",
     "output_type": "stream",
     "text": [
      " /Users/harrysonghurst/opt/anaconda3/envs/traffic/lib/python3.8/site-packages/paramz/transformations.py:111: RuntimeWarning:overflow encountered in expm1\n"
     ]
    },
    {
     "name": "stdout",
     "output_type": "stream",
     "text": [
      "Optimization restart 1/5, f = 444.9038264651456\n",
      "Optimization restart 2/5, f = 456.16168591541197\n",
      "Optimization restart 3/5, f = 456.1616859153399\n",
      "Optimization restart 4/5, f = 456.16168592750523\n",
      "Optimization restart 5/5, f = 456.16168592193736\n",
      "[[20.         25.         16.40534035 70.          1.          5.        ]]\n",
      "\n",
      "User function time loss called with 1 inputs to simulate\n",
      "\n",
      "Evaluating input: 1 of 1\n",
      "\n",
      " Retrying in 1 seconds\n"
     ]
    },
    {
     "name": "stderr",
     "output_type": "stream",
     "text": [
      " /Users/harrysonghurst/opt/anaconda3/envs/traffic/lib/python3.8/site-packages/paramz/transformations.py:111: RuntimeWarning:overflow encountered in expm1\n"
     ]
    },
    {
     "name": "stdout",
     "output_type": "stream",
     "text": [
      "Optimization restart 1/5, f = 449.8501856189106\n",
      "Optimization restart 2/5, f = 460.62906568206955\n",
      "Optimization restart 3/5, f = 460.6290656763717\n",
      "Optimization restart 4/5, f = 502.67752551272036\n",
      "Optimization restart 5/5, f = 460.62906567525454\n",
      "[[20.         16.68822192 18.19819822 30.          1.          1.5       ]]\n",
      "\n",
      "User function time loss called with 1 inputs to simulate\n",
      "\n",
      "Evaluating input: 1 of 1\n",
      "\n",
      " Retrying in 1 seconds\n"
     ]
    },
    {
     "name": "stderr",
     "output_type": "stream",
     "text": [
      " /Users/harrysonghurst/opt/anaconda3/envs/traffic/lib/python3.8/site-packages/paramz/transformations.py:111: RuntimeWarning:overflow encountered in expm1\n"
     ]
    },
    {
     "name": "stdout",
     "output_type": "stream",
     "text": [
      "Optimization restart 1/5, f = 454.2756163738951\n",
      "Optimization restart 2/5, f = 465.04792003445186\n",
      "Optimization restart 3/5, f = 465.04792004549597\n",
      "Optimization restart 4/5, f = 507.940474320282\n",
      "Optimization restart 5/5, f = 465.0479200335494\n",
      "[[13.  8.  5. 70.  1.  5.]]\n",
      "\n",
      "User function time loss called with 1 inputs to simulate\n",
      "\n",
      "Evaluating input: 1 of 1\n",
      "\n",
      " Retrying in 1 seconds\n"
     ]
    },
    {
     "name": "stderr",
     "output_type": "stream",
     "text": [
      " /Users/harrysonghurst/opt/anaconda3/envs/traffic/lib/python3.8/site-packages/paramz/transformations.py:111: RuntimeWarning:overflow encountered in expm1\n",
      " /Users/harrysonghurst/opt/anaconda3/envs/traffic/lib/python3.8/site-packages/GPy/kern/src/rbf.py:52: RuntimeWarning:overflow encountered in square\n"
     ]
    },
    {
     "name": "stdout",
     "output_type": "stream",
     "text": [
      "Optimization restart 1/5, f = 458.7551367708975\n",
      "Optimization restart 2/5, f = 469.5812165021386\n",
      "Optimization restart 3/5, f = 458.747630567593\n",
      "Optimization restart 4/5, f = 469.58121650740264\n",
      "Optimization restart 5/5, f = 469.5812165084101\n",
      "[[20.         16.83637315  5.         44.88925456  1.          1.5       ]]\n",
      "\n",
      "User function time loss called with 1 inputs to simulate\n",
      "\n",
      "Evaluating input: 1 of 1\n",
      "\n",
      " Retrying in 1 seconds\n"
     ]
    },
    {
     "name": "stderr",
     "output_type": "stream",
     "text": [
      " /Users/harrysonghurst/opt/anaconda3/envs/traffic/lib/python3.8/site-packages/paramz/transformations.py:111: RuntimeWarning:overflow encountered in expm1\n"
     ]
    },
    {
     "name": "stdout",
     "output_type": "stream",
     "text": [
      "Optimization restart 1/5, f = 463.1835271387244\n",
      "Optimization restart 2/5, f = 473.9911871859973\n",
      "Optimization restart 3/5, f = 473.99118718962814\n",
      "Optimization restart 4/5, f = 519.0727940688206\n",
      "Optimization restart 5/5, f = 463.1825850041878\n",
      "[[ 3.          8.         27.         42.90985701  1.          5.        ]]\n",
      "\n",
      "User function time loss called with 1 inputs to simulate\n",
      "\n",
      "Evaluating input: 1 of 1\n",
      "\n",
      " Retrying in 1 seconds\n"
     ]
    },
    {
     "name": "stderr",
     "output_type": "stream",
     "text": [
      " /Users/harrysonghurst/opt/anaconda3/envs/traffic/lib/python3.8/site-packages/paramz/transformations.py:111: RuntimeWarning:overflow encountered in expm1\n",
      " /Users/harrysonghurst/opt/anaconda3/envs/traffic/lib/python3.8/site-packages/GPy/kern/src/stationary.py:168: RuntimeWarning:overflow encountered in true_divide\n",
      " /Users/harrysonghurst/opt/anaconda3/envs/traffic/lib/python3.8/site-packages/GPy/kern/src/rbf.py:76: RuntimeWarning:invalid value encountered in multiply\n"
     ]
    },
    {
     "name": "stdout",
     "output_type": "stream",
     "text": [
      "Optimization restart 1/5, f = 467.5612280863698\n",
      "Optimization restart 2/5, f = 524.2178677068832\n",
      "Optimization restart 3/5, f = 478.4678842475641\n",
      "Optimization restart 4/5, f = 478.46788424730147\n",
      "Optimization restart 5/5, f = 478.46788425157575\n",
      "[[ 3.         18.69489437 27.         61.59646693  3.          5.        ]]\n",
      "\n",
      "User function time loss called with 1 inputs to simulate\n",
      "\n",
      "Evaluating input: 1 of 1\n",
      "\n",
      " Retrying in 1 seconds\n"
     ]
    },
    {
     "name": "stderr",
     "output_type": "stream",
     "text": [
      " /Users/harrysonghurst/opt/anaconda3/envs/traffic/lib/python3.8/site-packages/paramz/transformations.py:111: RuntimeWarning:overflow encountered in expm1\n"
     ]
    },
    {
     "name": "stdout",
     "output_type": "stream",
     "text": [
      "Optimization restart 1/5, f = 473.0326842752878\n",
      "Optimization restart 2/5, f = 484.0639960112197\n",
      "Optimization restart 3/5, f = 484.06399598446893\n",
      "Optimization restart 4/5, f = 484.0639960010964\n",
      "Optimization restart 5/5, f = 484.06399600343684\n",
      "[[12.          8.          5.         37.72344695  3.          1.5       ]]\n",
      "\n",
      "User function time loss called with 1 inputs to simulate\n",
      "\n",
      "Evaluating input: 1 of 1\n",
      "\n",
      " Retrying in 1 seconds\n"
     ]
    },
    {
     "name": "stderr",
     "output_type": "stream",
     "text": [
      " /Users/harrysonghurst/opt/anaconda3/envs/traffic/lib/python3.8/site-packages/paramz/transformations.py:111: RuntimeWarning:overflow encountered in expm1\n"
     ]
    },
    {
     "name": "stdout",
     "output_type": "stream",
     "text": [
      "Optimization restart 1/5, f = 477.36892597183436\n",
      "Optimization restart 2/5, f = 488.57098319838997\n",
      "Optimization restart 3/5, f = 538.1840699498459\n",
      "Optimization restart 4/5, f = 488.5709833914786\n",
      "Optimization restart 5/5, f = 488.57098319916827\n",
      "[[ 3.         23.91477574 15.68520877 54.9064663   3.          3.60892381]]\n",
      "\n",
      "User function time loss called with 1 inputs to simulate\n",
      "\n",
      "Evaluating input: 1 of 1\n",
      "\n",
      " Retrying in 1 seconds\n"
     ]
    },
    {
     "name": "stderr",
     "output_type": "stream",
     "text": [
      " /Users/harrysonghurst/opt/anaconda3/envs/traffic/lib/python3.8/site-packages/paramz/transformations.py:111: RuntimeWarning:overflow encountered in expm1\n"
     ]
    },
    {
     "name": "stdout",
     "output_type": "stream",
     "text": [
      "Optimization restart 1/5, f = 482.1520252341996\n",
      "Optimization restart 2/5, f = 544.8227974220289\n",
      "Optimization restart 3/5, f = 493.74449965405086\n",
      "Optimization restart 4/5, f = 544.1980383988056\n",
      "Optimization restart 5/5, f = 493.7444996520004\n",
      "[[ 3.          8.          5.         56.33061643  3.          1.5       ]]\n",
      "\n",
      "User function time loss called with 1 inputs to simulate\n",
      "\n",
      "Evaluating input: 1 of 1\n",
      "\n",
      " Retrying in 1 seconds\n"
     ]
    },
    {
     "name": "stderr",
     "output_type": "stream",
     "text": [
      " /Users/harrysonghurst/opt/anaconda3/envs/traffic/lib/python3.8/site-packages/paramz/transformations.py:111: RuntimeWarning:overflow encountered in expm1\n"
     ]
    },
    {
     "name": "stdout",
     "output_type": "stream",
     "text": [
      "Optimization restart 1/5, f = 486.48669010144005\n",
      "Optimization restart 2/5, f = 498.08507586437565\n",
      "Optimization restart 3/5, f = 498.085075426381\n",
      "Optimization restart 4/5, f = 498.08507542498813\n"
     ]
    },
    {
     "name": "stderr",
     "output_type": "stream",
     "text": [
      " /Users/harrysonghurst/opt/anaconda3/envs/traffic/lib/python3.8/site-packages/GPy/kern/src/rbf.py:52: RuntimeWarning:overflow encountered in square\n"
     ]
    },
    {
     "name": "stdout",
     "output_type": "stream",
     "text": [
      "Optimization restart 5/5, f = 498.08507548594054\n",
      "[[20.          8.         21.2632134  39.54197092  3.          5.        ]]\n",
      "\n",
      "User function time loss called with 1 inputs to simulate\n",
      "\n",
      "Evaluating input: 1 of 1\n",
      "\n",
      " Retrying in 1 seconds\n"
     ]
    },
    {
     "name": "stderr",
     "output_type": "stream",
     "text": [
      " /Users/harrysonghurst/opt/anaconda3/envs/traffic/lib/python3.8/site-packages/paramz/transformations.py:111: RuntimeWarning:overflow encountered in expm1\n"
     ]
    },
    {
     "name": "stdout",
     "output_type": "stream",
     "text": [
      "Optimization restart 1/5, f = 490.90102832954324\n",
      "Optimization restart 2/5, f = 502.42468200389845\n",
      "Optimization restart 3/5, f = 502.42468200607925\n",
      "Optimization restart 4/5, f = 502.4246820011476\n",
      "Optimization restart 5/5, f = 502.4246820003344\n",
      "[[ 3.        25.         5.        59.7057432  3.         1.5      ]]\n",
      "\n",
      "User function time loss called with 1 inputs to simulate\n",
      "\n",
      "Evaluating input: 1 of 1\n",
      "\n",
      " Retrying in 1 seconds\n"
     ]
    },
    {
     "name": "stderr",
     "output_type": "stream",
     "text": [
      " /Users/harrysonghurst/opt/anaconda3/envs/traffic/lib/python3.8/site-packages/paramz/transformations.py:111: RuntimeWarning:overflow encountered in expm1\n"
     ]
    },
    {
     "name": "stdout",
     "output_type": "stream",
     "text": [
      "Optimization restart 1/5, f = 495.2604710624692\n",
      "Optimization restart 2/5, f = 495.25474276037005\n",
      "Optimization restart 3/5, f = 561.1481514484043\n",
      "Optimization restart 4/5, f = 506.84201262206074\n",
      "Optimization restart 5/5, f = 506.8420126155003\n",
      "[[ 3.         10.83971456 19.52617401 62.27456605  1.          1.5       ]]\n",
      "\n",
      "User function time loss called with 1 inputs to simulate\n",
      "\n",
      "Evaluating input: 1 of 1\n",
      "\n",
      " Retrying in 1 seconds\n"
     ]
    },
    {
     "name": "stderr",
     "output_type": "stream",
     "text": [
      " /Users/harrysonghurst/opt/anaconda3/envs/traffic/lib/python3.8/site-packages/paramz/transformations.py:111: RuntimeWarning:overflow encountered in expm1\n",
      " /Users/harrysonghurst/opt/anaconda3/envs/traffic/lib/python3.8/site-packages/GPy/kern/src/stationary.py:168: RuntimeWarning:overflow encountered in true_divide\n",
      " /Users/harrysonghurst/opt/anaconda3/envs/traffic/lib/python3.8/site-packages/GPy/kern/src/rbf.py:76: RuntimeWarning:invalid value encountered in multiply\n"
     ]
    },
    {
     "name": "stdout",
     "output_type": "stream",
     "text": [
      "Optimization restart 1/5, f = 499.7498782882428\n",
      "Optimization restart 2/5, f = 550.7745277577009\n",
      "Optimization restart 3/5, f = 511.34910776039044\n",
      "Optimization restart 4/5, f = 511.34910769244937\n",
      "Optimization restart 5/5, f = 561.8768960013398\n",
      "[[20.         17.90311162 27.         41.01877242  3.          1.5       ]]\n",
      "\n",
      "User function time loss called with 1 inputs to simulate\n",
      "\n",
      "Evaluating input: 1 of 1\n",
      "\n",
      " Retrying in 1 seconds\n"
     ]
    },
    {
     "name": "stderr",
     "output_type": "stream",
     "text": [
      " /Users/harrysonghurst/opt/anaconda3/envs/traffic/lib/python3.8/site-packages/paramz/transformations.py:111: RuntimeWarning:overflow encountered in expm1\n"
     ]
    },
    {
     "name": "stdout",
     "output_type": "stream",
     "text": [
      "Optimization restart 1/5, f = 504.13335533686904\n",
      "Optimization restart 2/5, f = 515.6854231829003\n",
      "Optimization restart 3/5, f = 515.6854231838905\n",
      "Optimization restart 4/5, f = 515.6854231829241\n",
      "Optimization restart 5/5, f = 504.1317889972104\n",
      "[[11.         25.          5.         36.25882075  1.          1.5       ]]\n",
      "\n",
      "User function time loss called with 1 inputs to simulate\n",
      "\n",
      "Evaluating input: 1 of 1\n",
      "\n",
      " Retrying in 1 seconds\n"
     ]
    },
    {
     "name": "stderr",
     "output_type": "stream",
     "text": [
      " /Users/harrysonghurst/opt/anaconda3/envs/traffic/lib/python3.8/site-packages/paramz/transformations.py:111: RuntimeWarning:overflow encountered in expm1\n"
     ]
    },
    {
     "name": "stdout",
     "output_type": "stream",
     "text": [
      "Optimization restart 1/5, f = 509.0679634138374\n",
      "Optimization restart 2/5, f = 520.6841145196597\n",
      "Optimization restart 3/5, f = 520.6841147110724\n",
      "Optimization restart 4/5, f = 520.6841145196431\n",
      "Optimization restart 5/5, f = 520.6841145201312\n",
      "[[12.        8.       21.464551 70.        3.        1.5     ]]\n",
      "\n",
      "User function time loss called with 1 inputs to simulate\n",
      "\n",
      "Evaluating input: 1 of 1\n",
      "\n",
      " Retrying in 1 seconds\n"
     ]
    },
    {
     "name": "stderr",
     "output_type": "stream",
     "text": [
      " /Users/harrysonghurst/opt/anaconda3/envs/traffic/lib/python3.8/site-packages/paramz/transformations.py:111: RuntimeWarning:overflow encountered in expm1\n"
     ]
    },
    {
     "name": "stdout",
     "output_type": "stream",
     "text": [
      "Optimization restart 1/5, f = 513.496260831455\n",
      "Optimization restart 2/5, f = 525.0029873464052\n",
      "Optimization restart 3/5, f = 583.7336972567424\n",
      "Optimization restart 4/5, f = 580.695122410829\n"
     ]
    },
    {
     "name": "stderr",
     "output_type": "stream",
     "text": [
      " /Users/harrysonghurst/opt/anaconda3/envs/traffic/lib/python3.8/site-packages/GPy/kern/src/stationary.py:168: RuntimeWarning:overflow encountered in true_divide\n",
      " /Users/harrysonghurst/opt/anaconda3/envs/traffic/lib/python3.8/site-packages/GPy/kern/src/rbf.py:76: RuntimeWarning:invalid value encountered in multiply\n"
     ]
    },
    {
     "name": "stdout",
     "output_type": "stream",
     "text": [
      "Optimization restart 5/5, f = 525.0029873466372\n",
      "[[20.         17.97659888 11.08630041 70.          3.          1.5       ]]\n",
      "\n",
      "User function time loss called with 1 inputs to simulate\n",
      "\n",
      "Evaluating input: 1 of 1\n",
      "\n",
      " Retrying in 1 seconds\n"
     ]
    },
    {
     "name": "stderr",
     "output_type": "stream",
     "text": [
      " /Users/harrysonghurst/opt/anaconda3/envs/traffic/lib/python3.8/site-packages/paramz/transformations.py:111: RuntimeWarning:overflow encountered in expm1\n"
     ]
    },
    {
     "name": "stdout",
     "output_type": "stream",
     "text": [
      "Optimization restart 1/5, f = 517.7249018124743\n",
      "Optimization restart 2/5, f = 529.2668661517705\n",
      "Optimization restart 3/5, f = 588.1316097350443\n",
      "Optimization restart 4/5, f = 573.7270669652228\n"
     ]
    },
    {
     "name": "stderr",
     "output_type": "stream",
     "text": [
      " /Users/harrysonghurst/opt/anaconda3/envs/traffic/lib/python3.8/site-packages/GPy/kern/src/stationary.py:168: RuntimeWarning:overflow encountered in true_divide\n",
      " /Users/harrysonghurst/opt/anaconda3/envs/traffic/lib/python3.8/site-packages/GPy/kern/src/rbf.py:76: RuntimeWarning:invalid value encountered in multiply\n"
     ]
    },
    {
     "name": "stdout",
     "output_type": "stream",
     "text": [
      "Optimization restart 5/5, f = 529.2668661521905\n",
      "[[12.         25.         11.24276411 70.          3.          1.5       ]]\n",
      "\n",
      "User function time loss called with 1 inputs to simulate\n",
      "\n",
      "Evaluating input: 1 of 1\n",
      "\n",
      " Retrying in 1 seconds\n"
     ]
    },
    {
     "name": "stderr",
     "output_type": "stream",
     "text": [
      " /Users/harrysonghurst/opt/anaconda3/envs/traffic/lib/python3.8/site-packages/paramz/transformations.py:111: RuntimeWarning:overflow encountered in expm1\n"
     ]
    },
    {
     "name": "stdout",
     "output_type": "stream",
     "text": [
      "Optimization restart 1/5, f = 522.8940198440172\n",
      "Optimization restart 2/5, f = 533.5367709823153\n",
      "Optimization restart 3/5, f = 533.5367709825019\n",
      "Optimization restart 4/5, f = 533.536770982174\n"
     ]
    },
    {
     "name": "stderr",
     "output_type": "stream",
     "text": [
      " /Users/harrysonghurst/opt/anaconda3/envs/traffic/lib/python3.8/site-packages/GPy/kern/src/rbf.py:52: RuntimeWarning:overflow encountered in square\n"
     ]
    },
    {
     "name": "stdout",
     "output_type": "stream",
     "text": [
      "Optimization restart 5/5, f = 533.5367709828965\n",
      "[[20.         25.         10.02831213 57.10328042  1.          5.        ]]\n",
      "\n",
      "User function time loss called with 1 inputs to simulate\n",
      "\n",
      "Evaluating input: 1 of 1\n",
      "\n",
      " Retrying in 1 seconds\n"
     ]
    },
    {
     "name": "stderr",
     "output_type": "stream",
     "text": [
      " /Users/harrysonghurst/opt/anaconda3/envs/traffic/lib/python3.8/site-packages/paramz/transformations.py:111: RuntimeWarning:overflow encountered in expm1\n"
     ]
    },
    {
     "name": "stdout",
     "output_type": "stream",
     "text": [
      "Optimization restart 1/5, f = 527.0047409710811\n",
      "Optimization restart 2/5, f = 537.855366990479\n",
      "Optimization restart 3/5, f = 537.8553669904048\n",
      "Optimization restart 4/5, f = 537.8553669908391\n",
      "Optimization restart 5/5, f = 537.8553670072897\n",
      "[[ 3.         13.13521838  5.         43.95992488  3.          5.        ]]\n",
      "\n",
      "User function time loss called with 1 inputs to simulate\n",
      "\n",
      "Evaluating input: 1 of 1\n",
      "\n",
      " Retrying in 1 seconds\n"
     ]
    },
    {
     "name": "stderr",
     "output_type": "stream",
     "text": [
      " /Users/harrysonghurst/opt/anaconda3/envs/traffic/lib/python3.8/site-packages/paramz/transformations.py:111: RuntimeWarning:overflow encountered in expm1\n"
     ]
    },
    {
     "name": "stdout",
     "output_type": "stream",
     "text": [
      "Optimization restart 1/5, f = 532.0902118422744\n",
      "Optimization restart 2/5, f = 542.2348465339845\n",
      "Optimization restart 3/5, f = 542.2348440534598\n",
      "Optimization restart 4/5, f = 542.2348440154852\n"
     ]
    },
    {
     "name": "stderr",
     "output_type": "stream",
     "text": [
      " /Users/harrysonghurst/opt/anaconda3/envs/traffic/lib/python3.8/site-packages/GPy/kern/src/stationary.py:168: RuntimeWarning:overflow encountered in true_divide\n",
      " /Users/harrysonghurst/opt/anaconda3/envs/traffic/lib/python3.8/site-packages/GPy/kern/src/rbf.py:76: RuntimeWarning:invalid value encountered in multiply\n"
     ]
    },
    {
     "name": "stdout",
     "output_type": "stream",
     "text": [
      "Optimization restart 5/5, f = 542.903055829797\n",
      "[[11.  8.  5. 30.  1.  5.]]\n",
      "\n",
      "User function time loss called with 1 inputs to simulate\n",
      "\n",
      "Evaluating input: 1 of 1\n",
      "\n",
      " Retrying in 1 seconds\n"
     ]
    },
    {
     "name": "stderr",
     "output_type": "stream",
     "text": [
      " /Users/harrysonghurst/opt/anaconda3/envs/traffic/lib/python3.8/site-packages/paramz/transformations.py:111: RuntimeWarning:overflow encountered in expm1\n"
     ]
    },
    {
     "name": "stdout",
     "output_type": "stream",
     "text": [
      "Optimization restart 1/5, f = 537.0350937459743\n",
      "Optimization restart 2/5, f = 609.6563792961592\n",
      "Optimization restart 3/5, f = 546.7512409719994\n",
      "Optimization restart 4/5, f = 546.7512393645169\n",
      "Optimization restart 5/5, f = 612.2764104663294\n",
      "[[20.          8.          5.         61.34909588  1.          1.5       ]]\n",
      "\n",
      "User function time loss called with 1 inputs to simulate\n",
      "\n",
      "Evaluating input: 1 of 1\n",
      "\n",
      " Retrying in 1 seconds\n"
     ]
    },
    {
     "name": "stderr",
     "output_type": "stream",
     "text": [
      " /Users/harrysonghurst/opt/anaconda3/envs/traffic/lib/python3.8/site-packages/paramz/transformations.py:111: RuntimeWarning:overflow encountered in expm1\n"
     ]
    },
    {
     "name": "stdout",
     "output_type": "stream",
     "text": [
      "Optimization restart 1/5, f = 541.2779614324234\n",
      "Optimization restart 2/5, f = 551.1368842050696\n"
     ]
    },
    {
     "name": "stderr",
     "output_type": "stream",
     "text": [
      " /Users/harrysonghurst/opt/anaconda3/envs/traffic/lib/python3.8/site-packages/GPy/kern/src/rbf.py:52: RuntimeWarning:overflow encountered in square\n"
     ]
    },
    {
     "name": "stdout",
     "output_type": "stream",
     "text": [
      "Optimization restart 3/5, f = 551.1368842051133\n",
      "Optimization restart 4/5, f = 615.2067948404716\n",
      "Optimization restart 5/5, f = 541.1953536979347\n",
      "[[20.         8.        10.9337032 56.5297112  3.         5.       ]]\n",
      "\n",
      "User function time loss called with 1 inputs to simulate\n",
      "\n",
      "Evaluating input: 1 of 1\n",
      "\n",
      " Retrying in 1 seconds\n"
     ]
    },
    {
     "name": "stderr",
     "output_type": "stream",
     "text": [
      " /Users/harrysonghurst/opt/anaconda3/envs/traffic/lib/python3.8/site-packages/paramz/transformations.py:111: RuntimeWarning:overflow encountered in expm1\n"
     ]
    },
    {
     "name": "stdout",
     "output_type": "stream",
     "text": [
      "Optimization restart 1/5, f = 545.3419142291577\n",
      "Optimization restart 2/5, f = 555.3551264143023\n",
      "Optimization restart 3/5, f = 555.3551264649631\n",
      "Optimization restart 4/5, f = 555.3551264234228\n",
      "Optimization restart 5/5, f = 555.3551264118304\n",
      "[[ 3.         18.86885576 27.         36.64916017  1.          5.        ]]\n",
      "\n",
      "User function time loss called with 1 inputs to simulate\n",
      "\n",
      "Evaluating input: 1 of 1\n",
      "\n",
      " Retrying in 1 seconds\n"
     ]
    },
    {
     "name": "stderr",
     "output_type": "stream",
     "text": [
      " /Users/harrysonghurst/opt/anaconda3/envs/traffic/lib/python3.8/site-packages/paramz/transformations.py:111: RuntimeWarning:overflow encountered in expm1\n"
     ]
    },
    {
     "name": "stdout",
     "output_type": "stream",
     "text": [
      "Optimization restart 1/5, f = 556.5332764086352\n",
      "Optimization restart 2/5, f = 565.5575875674159\n",
      "Optimization restart 3/5, f = 565.5575875786581\n",
      "Optimization restart 4/5, f = 565.5575875673869\n",
      "Optimization restart 5/5, f = 565.5575899899977\n",
      "[[13.         14.88903186 27.         30.          1.          1.5       ]]\n",
      "\n",
      "User function time loss called with 1 inputs to simulate\n",
      "\n",
      "Evaluating input: 1 of 1\n",
      "\n",
      " Retrying in 1 seconds\n"
     ]
    },
    {
     "name": "stderr",
     "output_type": "stream",
     "text": [
      " /Users/harrysonghurst/opt/anaconda3/envs/traffic/lib/python3.8/site-packages/paramz/transformations.py:111: RuntimeWarning:overflow encountered in expm1\n"
     ]
    },
    {
     "name": "stdout",
     "output_type": "stream",
     "text": [
      "Optimization restart 1/5, f = 563.3329927013402\n",
      "Optimization restart 2/5, f = 639.2031531126333\n",
      "Optimization restart 3/5, f = 570.0125360972243\n",
      "Optimization restart 4/5, f = 570.012517123932\n",
      "Optimization restart 5/5, f = 570.0125171249524\n",
      "[[11.          8.         27.         51.84207322  1.          1.5       ]]\n",
      "\n",
      "User function time loss called with 1 inputs to simulate\n",
      "\n",
      "Evaluating input: 1 of 1\n",
      "\n",
      " Retrying in 1 seconds\n"
     ]
    },
    {
     "name": "stderr",
     "output_type": "stream",
     "text": [
      " /Users/harrysonghurst/opt/anaconda3/envs/traffic/lib/python3.8/site-packages/paramz/transformations.py:111: RuntimeWarning:overflow encountered in expm1\n"
     ]
    },
    {
     "name": "stdout",
     "output_type": "stream",
     "text": [
      "Optimization restart 1/5, f = 567.4814997012221\n",
      "Optimization restart 2/5, f = 646.3783053033358\n",
      "Optimization restart 3/5, f = 574.9152401162454\n",
      "Optimization restart 4/5, f = 574.9152401615902\n",
      "Optimization restart 5/5, f = 574.9152401158346\n",
      "[[ 3.         16.67924184 21.10419444 70.          1.          5.        ]]\n",
      "\n",
      "User function time loss called with 1 inputs to simulate\n",
      "\n",
      "Evaluating input: 1 of 1\n",
      "\n",
      " Retrying in 1 seconds\n"
     ]
    },
    {
     "name": "stderr",
     "output_type": "stream",
     "text": [
      " /Users/harrysonghurst/opt/anaconda3/envs/traffic/lib/python3.8/site-packages/paramz/transformations.py:111: RuntimeWarning:overflow encountered in expm1\n",
      " /Users/harrysonghurst/opt/anaconda3/envs/traffic/lib/python3.8/site-packages/GPy/kern/src/rbf.py:52: RuntimeWarning:overflow encountered in square\n"
     ]
    },
    {
     "name": "stdout",
     "output_type": "stream",
     "text": [
      "Optimization restart 1/5, f = 576.036488309973\n",
      "Optimization restart 2/5, f = 580.8026708256091\n",
      "Optimization restart 3/5, f = 580.8026710582684\n",
      "Warning - optimization restart 4/5 failed\n"
     ]
    },
    {
     "name": "stderr",
     "output_type": "stream",
     "text": [
      " /Users/harrysonghurst/opt/anaconda3/envs/traffic/lib/python3.8/site-packages/GPy/kern/src/stationary.py:168: RuntimeWarning:overflow encountered in true_divide\n",
      " /Users/harrysonghurst/opt/anaconda3/envs/traffic/lib/python3.8/site-packages/GPy/kern/src/rbf.py:76: RuntimeWarning:invalid value encountered in multiply\n",
      " /Users/harrysonghurst/opt/anaconda3/envs/traffic/lib/python3.8/site-packages/paramz/transformations.py:108: RuntimeWarning:invalid value encountered in greater\n",
      " /Users/harrysonghurst/opt/anaconda3/envs/traffic/lib/python3.8/site-packages/paramz/transformations.py:113: RuntimeWarning:invalid value encountered in greater\n"
     ]
    },
    {
     "name": "stdout",
     "output_type": "stream",
     "text": [
      "Optimization restart 5/5, f = 575.4199360810358\n",
      "[[ 3.         25.         21.89568274 39.54107496  3.          1.5       ]]\n",
      "\n",
      "User function time loss called with 1 inputs to simulate\n",
      "\n",
      "Evaluating input: 1 of 1\n",
      "\n",
      " Retrying in 1 seconds\n"
     ]
    },
    {
     "name": "stderr",
     "output_type": "stream",
     "text": [
      " /Users/harrysonghurst/opt/anaconda3/envs/traffic/lib/python3.8/site-packages/paramz/transformations.py:111: RuntimeWarning:overflow encountered in expm1\n"
     ]
    },
    {
     "name": "stdout",
     "output_type": "stream",
     "text": [
      "Optimization restart 1/5, f = 580.4678197253003\n",
      "Optimization restart 2/5, f = 586.0701782315055\n",
      "Optimization restart 3/5, f = 665.98610785488\n"
     ]
    },
    {
     "name": "stderr",
     "output_type": "stream",
     "text": [
      " /Users/harrysonghurst/opt/anaconda3/envs/traffic/lib/python3.8/site-packages/GPy/kern/src/stationary.py:168: RuntimeWarning:overflow encountered in true_divide\n",
      " /Users/harrysonghurst/opt/anaconda3/envs/traffic/lib/python3.8/site-packages/GPy/kern/src/rbf.py:76: RuntimeWarning:invalid value encountered in multiply\n"
     ]
    },
    {
     "name": "stdout",
     "output_type": "stream",
     "text": [
      "Optimization restart 4/5, f = 657.339059776004\n",
      "Optimization restart 5/5, f = 660.4945587554173\n",
      "[[20.         14.7602934  13.07479259 56.95493362  3.          1.5       ]]\n",
      "\n",
      "User function time loss called with 1 inputs to simulate\n",
      "\n",
      "Evaluating input: 1 of 1\n",
      "\n",
      " Retrying in 1 seconds\n"
     ]
    },
    {
     "name": "stderr",
     "output_type": "stream",
     "text": [
      " /Users/harrysonghurst/opt/anaconda3/envs/traffic/lib/python3.8/site-packages/paramz/transformations.py:111: RuntimeWarning:overflow encountered in expm1\n",
      " /Users/harrysonghurst/opt/anaconda3/envs/traffic/lib/python3.8/site-packages/GPy/kern/src/stationary.py:168: RuntimeWarning:overflow encountered in true_divide\n"
     ]
    },
    {
     "name": "stdout",
     "output_type": "stream",
     "text": [
      "Optimization restart 1/5, f = 584.6595901043678\n",
      "Optimization restart 2/5, f = 655.3552577152393\n"
     ]
    },
    {
     "name": "stderr",
     "output_type": "stream",
     "text": [
      " /Users/harrysonghurst/opt/anaconda3/envs/traffic/lib/python3.8/site-packages/GPy/kern/src/rbf.py:76: RuntimeWarning:invalid value encountered in multiply\n"
     ]
    },
    {
     "name": "stdout",
     "output_type": "stream",
     "text": [
      "Optimization restart 3/5, f = 666.7343822433558\n",
      "Optimization restart 4/5, f = 590.2611627507974\n",
      "Optimization restart 5/5, f = 590.261162750366\n",
      "[[ 3.  25.   5.  30.   3.   1.5]]\n",
      "\n",
      "User function time loss called with 1 inputs to simulate\n",
      "\n",
      "Evaluating input: 1 of 1\n",
      "\n",
      " Retrying in 1 seconds\n"
     ]
    },
    {
     "name": "stderr",
     "output_type": "stream",
     "text": [
      " /Users/harrysonghurst/opt/anaconda3/envs/traffic/lib/python3.8/site-packages/paramz/transformations.py:111: RuntimeWarning:overflow encountered in expm1\n"
     ]
    },
    {
     "name": "stdout",
     "output_type": "stream",
     "text": [
      "Optimization restart 1/5, f = 589.5443351406199\n",
      "Optimization restart 2/5, f = 589.5342337117138\n",
      "Optimization restart 3/5, f = 594.8198084742243\n"
     ]
    },
    {
     "name": "stderr",
     "output_type": "stream",
     "text": [
      " /Users/harrysonghurst/opt/anaconda3/envs/traffic/lib/python3.8/site-packages/GPy/kern/src/rbf.py:52: RuntimeWarning:overflow encountered in square\n"
     ]
    },
    {
     "name": "stdout",
     "output_type": "stream",
     "text": [
      "Optimization restart 4/5, f = 594.8198549623211\n",
      "Optimization restart 5/5, f = 668.058373123871\n",
      "[[13.        15.7964286  5.        30.         3.         1.5      ]]\n",
      "\n",
      "User function time loss called with 1 inputs to simulate\n",
      "\n",
      "Evaluating input: 1 of 1\n",
      "\n",
      " Retrying in 1 seconds\n"
     ]
    },
    {
     "name": "stderr",
     "output_type": "stream",
     "text": [
      " /Users/harrysonghurst/opt/anaconda3/envs/traffic/lib/python3.8/site-packages/paramz/transformations.py:111: RuntimeWarning:overflow encountered in expm1\n"
     ]
    },
    {
     "name": "stdout",
     "output_type": "stream",
     "text": [
      "Optimization restart 1/5, f = 593.7730056182596\n",
      "Optimization restart 2/5, f = 599.0868635167674\n",
      "Optimization restart 3/5, f = 599.086863516879\n",
      "Optimization restart 4/5, f = 707.0739881944913\n"
     ]
    },
    {
     "name": "stderr",
     "output_type": "stream",
     "text": [
      " /Users/harrysonghurst/opt/anaconda3/envs/traffic/lib/python3.8/site-packages/GPy/kern/src/stationary.py:168: RuntimeWarning:overflow encountered in true_divide\n",
      " /Users/harrysonghurst/opt/anaconda3/envs/traffic/lib/python3.8/site-packages/GPy/kern/src/rbf.py:76: RuntimeWarning:invalid value encountered in multiply\n"
     ]
    },
    {
     "name": "stdout",
     "output_type": "stream",
     "text": [
      "Optimization restart 5/5, f = 599.0868635167639\n",
      "[[ 3.         16.77305701 13.80237583 70.          3.          1.5       ]]\n",
      "\n",
      "User function time loss called with 1 inputs to simulate\n",
      "\n",
      "Evaluating input: 1 of 1\n",
      "\n",
      " Retrying in 1 seconds\n"
     ]
    },
    {
     "name": "stderr",
     "output_type": "stream",
     "text": [
      " /Users/harrysonghurst/opt/anaconda3/envs/traffic/lib/python3.8/site-packages/paramz/transformations.py:111: RuntimeWarning:overflow encountered in expm1\n"
     ]
    },
    {
     "name": "stdout",
     "output_type": "stream",
     "text": [
      "Optimization restart 1/5, f = 598.6021533804618\n",
      "Optimization restart 2/5, f = 603.4127142329726\n",
      "Optimization restart 3/5, f = 603.4074877261786\n",
      "Optimization restart 4/5, f = 603.4074877261035\n"
     ]
    },
    {
     "name": "stderr",
     "output_type": "stream",
     "text": [
      " /Users/harrysonghurst/opt/anaconda3/envs/traffic/lib/python3.8/site-packages/GPy/kern/src/rbf.py:52: RuntimeWarning:overflow encountered in square\n"
     ]
    },
    {
     "name": "stdout",
     "output_type": "stream",
     "text": [
      "Optimization restart 5/5, f = 603.4074877396733\n",
      "[[20.         18.38165041  5.         30.          1.          5.        ]]\n",
      "\n",
      "User function time loss called with 1 inputs to simulate\n",
      "\n",
      "Evaluating input: 1 of 1\n",
      "\n",
      " Retrying in 1 seconds\n"
     ]
    },
    {
     "name": "stderr",
     "output_type": "stream",
     "text": [
      " /Users/harrysonghurst/opt/anaconda3/envs/traffic/lib/python3.8/site-packages/paramz/transformations.py:111: RuntimeWarning:overflow encountered in expm1\n"
     ]
    },
    {
     "name": "stdout",
     "output_type": "stream",
     "text": [
      "Optimization restart 1/5, f = 603.0032467643997\n",
      "Optimization restart 2/5, f = 689.0990447698199\n",
      "Optimization restart 3/5, f = 607.8515175884183\n",
      "Optimization restart 4/5, f = 607.8515175898616\n",
      "Optimization restart 5/5, f = 607.8515175889879\n",
      "[[20.        25.        27.        51.6218423  1.         1.5      ]]\n",
      "\n",
      "User function time loss called with 1 inputs to simulate\n",
      "\n",
      "Evaluating input: 1 of 1\n",
      "\n",
      " Retrying in 1 seconds\n"
     ]
    },
    {
     "name": "stderr",
     "output_type": "stream",
     "text": [
      " /Users/harrysonghurst/opt/anaconda3/envs/traffic/lib/python3.8/site-packages/paramz/transformations.py:111: RuntimeWarning:overflow encountered in expm1\n"
     ]
    },
    {
     "name": "stdout",
     "output_type": "stream",
     "text": [
      "Optimization restart 1/5, f = 607.2613084000233\n",
      "Optimization restart 2/5, f = 612.5361976687608\n",
      "Optimization restart 3/5, f = 612.5361984297426\n",
      "Optimization restart 4/5, f = 612.5361976596606\n"
     ]
    },
    {
     "name": "stderr",
     "output_type": "stream",
     "text": [
      " /Users/harrysonghurst/opt/anaconda3/envs/traffic/lib/python3.8/site-packages/GPy/kern/src/stationary.py:168: RuntimeWarning:overflow encountered in true_divide\n",
      " /Users/harrysonghurst/opt/anaconda3/envs/traffic/lib/python3.8/site-packages/GPy/kern/src/rbf.py:76: RuntimeWarning:invalid value encountered in multiply\n",
      " /Users/harrysonghurst/opt/anaconda3/envs/traffic/lib/python3.8/site-packages/paramz/transformations.py:108: RuntimeWarning:invalid value encountered in greater\n",
      " /Users/harrysonghurst/opt/anaconda3/envs/traffic/lib/python3.8/site-packages/paramz/transformations.py:113: RuntimeWarning:invalid value encountered in greater\n"
     ]
    },
    {
     "name": "stdout",
     "output_type": "stream",
     "text": [
      "Warning - optimization restart 5/5 failed\n",
      "[[ 3.         25.          5.         41.78936554  3.          1.5       ]]\n",
      "\n",
      "User function time loss called with 1 inputs to simulate\n",
      "\n",
      "Evaluating input: 1 of 1\n",
      "\n",
      " Retrying in 1 seconds\n"
     ]
    },
    {
     "name": "stderr",
     "output_type": "stream",
     "text": [
      " /Users/harrysonghurst/opt/anaconda3/envs/traffic/lib/python3.8/site-packages/paramz/transformations.py:111: RuntimeWarning:overflow encountered in expm1\n"
     ]
    },
    {
     "name": "stdout",
     "output_type": "stream",
     "text": [
      "Optimization restart 1/5, f = 613.146595334978\n",
      "Optimization restart 2/5, f = 617.3305635745733\n",
      "Optimization restart 3/5, f = 613.1457485120242\n",
      "Optimization restart 4/5, f = 617.3305635744011\n",
      "Optimization restart 5/5, f = 700.4210415488724\n",
      "[[12.         20.78419993  5.68159218 44.54068863  3.          4.96526887]]\n",
      "\n",
      "User function time loss called with 1 inputs to simulate\n",
      "\n",
      "Evaluating input: 1 of 1\n",
      "\n",
      " Retrying in 1 seconds\n"
     ]
    },
    {
     "name": "stderr",
     "output_type": "stream",
     "text": [
      " /Users/harrysonghurst/opt/anaconda3/envs/traffic/lib/python3.8/site-packages/paramz/transformations.py:111: RuntimeWarning:overflow encountered in expm1\n"
     ]
    },
    {
     "name": "stdout",
     "output_type": "stream",
     "text": [
      "Optimization restart 1/5, f = 617.2579801959918\n",
      "Optimization restart 2/5, f = 617.2571258856838\n",
      "Optimization restart 3/5, f = 706.0050863635365\n",
      "Optimization restart 4/5, f = 621.5029933512575\n",
      "Optimization restart 5/5, f = 621.5029933567125\n",
      "[[13.          8.         24.34991023 30.          3.          5.        ]]\n",
      "\n",
      "User function time loss called with 1 inputs to simulate\n",
      "\n",
      "Evaluating input: 1 of 1\n",
      "\n",
      " Retrying in 1 seconds\n"
     ]
    },
    {
     "name": "stderr",
     "output_type": "stream",
     "text": [
      " /Users/harrysonghurst/opt/anaconda3/envs/traffic/lib/python3.8/site-packages/paramz/transformations.py:111: RuntimeWarning:overflow encountered in expm1\n"
     ]
    },
    {
     "name": "stdout",
     "output_type": "stream",
     "text": [
      "Optimization restart 1/5, f = 621.592743029726\n",
      "Optimization restart 2/5, f = 625.7186781160107\n",
      "Optimization restart 3/5, f = 625.7186798265443\n",
      "Optimization restart 4/5, f = 625.7186787811924\n",
      "Optimization restart 5/5, f = 625.718678050171\n",
      "[[20.         25.          5.         62.55804233  3.          1.5       ]]\n",
      "\n",
      "User function time loss called with 1 inputs to simulate\n",
      "\n",
      "Evaluating input: 1 of 1\n",
      "\n",
      " Retrying in 1 seconds\n"
     ]
    },
    {
     "name": "stderr",
     "output_type": "stream",
     "text": [
      " /Users/harrysonghurst/opt/anaconda3/envs/traffic/lib/python3.8/site-packages/paramz/transformations.py:111: RuntimeWarning:overflow encountered in expm1\n"
     ]
    },
    {
     "name": "stdout",
     "output_type": "stream",
     "text": [
      "Optimization restart 1/5, f = 625.8062709926854\n",
      "Optimization restart 2/5, f = 717.2867257251414\n"
     ]
    },
    {
     "name": "stderr",
     "output_type": "stream",
     "text": [
      " /Users/harrysonghurst/opt/anaconda3/envs/traffic/lib/python3.8/site-packages/GPy/kern/src/stationary.py:168: RuntimeWarning:overflow encountered in true_divide\n",
      " /Users/harrysonghurst/opt/anaconda3/envs/traffic/lib/python3.8/site-packages/GPy/kern/src/rbf.py:76: RuntimeWarning:invalid value encountered in multiply\n"
     ]
    },
    {
     "name": "stdout",
     "output_type": "stream",
     "text": [
      "Optimization restart 3/5, f = 711.0091910978101\n",
      "Optimization restart 4/5, f = 629.9288768515273\n",
      "Optimization restart 5/5, f = 664.4686639705258\n",
      "[[10.         25.         20.20717592 55.61937084  1.          5.        ]]\n",
      "\n",
      "User function time loss called with 1 inputs to simulate\n",
      "\n",
      "Evaluating input: 1 of 1\n",
      "\n",
      " Retrying in 1 seconds\n"
     ]
    },
    {
     "name": "stderr",
     "output_type": "stream",
     "text": [
      " /Users/harrysonghurst/opt/anaconda3/envs/traffic/lib/python3.8/site-packages/paramz/transformations.py:111: RuntimeWarning:overflow encountered in expm1\n"
     ]
    },
    {
     "name": "stdout",
     "output_type": "stream",
     "text": [
      "Optimization restart 1/5, f = 632.7281355596728\n",
      "Optimization restart 2/5, f = 632.7237871687303\n",
      "Optimization restart 3/5, f = 634.3379325010259\n",
      "Optimization restart 4/5, f = 634.3379331553285\n",
      "Optimization restart 5/5, f = 634.3379323394541\n",
      "[[11.         25.          5.         52.13212601  1.          1.5       ]]\n",
      "\n",
      "User function time loss called with 1 inputs to simulate\n",
      "\n",
      "Evaluating input: 1 of 1\n",
      "\n",
      " Retrying in 1 seconds\n"
     ]
    },
    {
     "name": "stderr",
     "output_type": "stream",
     "text": [
      " /Users/harrysonghurst/opt/anaconda3/envs/traffic/lib/python3.8/site-packages/paramz/transformations.py:111: RuntimeWarning:overflow encountered in expm1\n",
      " /Users/harrysonghurst/opt/anaconda3/envs/traffic/lib/python3.8/site-packages/GPy/kern/src/stationary.py:168: RuntimeWarning:overflow encountered in true_divide\n",
      " /Users/harrysonghurst/opt/anaconda3/envs/traffic/lib/python3.8/site-packages/GPy/kern/src/rbf.py:76: RuntimeWarning:invalid value encountered in multiply\n"
     ]
    },
    {
     "name": "stdout",
     "output_type": "stream",
     "text": [
      "Optimization restart 1/5, f = 636.8145162453952\n",
      "Optimization restart 2/5, f = 687.724957136556\n",
      "Optimization restart 3/5, f = 638.9360711595896\n",
      "Optimization restart 4/5, f = 638.9360748026364\n",
      "Optimization restart 5/5, f = 638.936071187018\n",
      "[[ 3.         14.16571449 20.03555143 45.14453344  1.          1.5       ]]\n",
      "\n",
      "User function time loss called with 1 inputs to simulate\n",
      "\n",
      "Evaluating input: 1 of 1\n",
      "\n",
      " Retrying in 1 seconds\n"
     ]
    },
    {
     "name": "stderr",
     "output_type": "stream",
     "text": [
      " /Users/harrysonghurst/opt/anaconda3/envs/traffic/lib/python3.8/site-packages/paramz/transformations.py:111: RuntimeWarning:overflow encountered in expm1\n",
      " /Users/harrysonghurst/opt/anaconda3/envs/traffic/lib/python3.8/site-packages/GPy/kern/src/rbf.py:52: RuntimeWarning:overflow encountered in square\n",
      " /Users/harrysonghurst/opt/anaconda3/envs/traffic/lib/python3.8/site-packages/GPy/kern/src/stationary.py:168: RuntimeWarning:overflow encountered in true_divide\n",
      " /Users/harrysonghurst/opt/anaconda3/envs/traffic/lib/python3.8/site-packages/GPy/kern/src/rbf.py:76: RuntimeWarning:invalid value encountered in multiply\n",
      " /Users/harrysonghurst/opt/anaconda3/envs/traffic/lib/python3.8/site-packages/paramz/transformations.py:108: RuntimeWarning:invalid value encountered in greater\n",
      " /Users/harrysonghurst/opt/anaconda3/envs/traffic/lib/python3.8/site-packages/paramz/transformations.py:113: RuntimeWarning:invalid value encountered in greater\n"
     ]
    },
    {
     "name": "stdout",
     "output_type": "stream",
     "text": [
      "Optimization restart 1/5, f = 644.2257295176589\n",
      "Warning - optimization restart 2/5 failed\n",
      "Optimization restart 3/5, f = 643.1513260859645\n",
      "Optimization restart 4/5, f = 735.6297605107261\n",
      "Optimization restart 5/5, f = 727.2443000683085\n",
      "[[ 3.   8.  27.  30.   3.   1.5]]\n",
      "\n",
      "User function time loss called with 1 inputs to simulate\n",
      "\n",
      "Evaluating input: 1 of 1\n",
      "\n",
      " Retrying in 1 seconds\n"
     ]
    },
    {
     "name": "stderr",
     "output_type": "stream",
     "text": [
      " /Users/harrysonghurst/opt/anaconda3/envs/traffic/lib/python3.8/site-packages/paramz/transformations.py:111: RuntimeWarning:overflow encountered in expm1\n"
     ]
    },
    {
     "name": "stdout",
     "output_type": "stream",
     "text": [
      "Optimization restart 1/5, f = 648.7130305088838\n",
      "Optimization restart 2/5, f = 648.7130273180774\n",
      "Optimization restart 3/5, f = 742.5170262311802\n",
      "Optimization restart 4/5, f = 648.7130273228155\n"
     ]
    },
    {
     "name": "stderr",
     "output_type": "stream",
     "text": [
      " /Users/harrysonghurst/opt/anaconda3/envs/traffic/lib/python3.8/site-packages/GPy/kern/src/stationary.py:168: RuntimeWarning:overflow encountered in true_divide\n",
      " /Users/harrysonghurst/opt/anaconda3/envs/traffic/lib/python3.8/site-packages/GPy/kern/src/rbf.py:76: RuntimeWarning:invalid value encountered in multiply\n",
      " /Users/harrysonghurst/opt/anaconda3/envs/traffic/lib/python3.8/site-packages/paramz/transformations.py:108: RuntimeWarning:invalid value encountered in greater\n",
      " /Users/harrysonghurst/opt/anaconda3/envs/traffic/lib/python3.8/site-packages/paramz/transformations.py:113: RuntimeWarning:invalid value encountered in greater\n"
     ]
    },
    {
     "name": "stdout",
     "output_type": "stream",
     "text": [
      "Warning - optimization restart 5/5 failed\n",
      "[[ 3. 25.  5. 70.  1.  5.]]\n",
      "\n",
      "User function time loss called with 1 inputs to simulate\n",
      "\n",
      "Evaluating input: 1 of 1\n",
      "\n",
      " Retrying in 1 seconds\n"
     ]
    },
    {
     "name": "stderr",
     "output_type": "stream",
     "text": [
      " /Users/harrysonghurst/opt/anaconda3/envs/traffic/lib/python3.8/site-packages/paramz/transformations.py:111: RuntimeWarning:overflow encountered in expm1\n",
      " /Users/harrysonghurst/opt/anaconda3/envs/traffic/lib/python3.8/site-packages/GPy/kern/src/stationary.py:168: RuntimeWarning:overflow encountered in true_divide\n"
     ]
    },
    {
     "name": "stdout",
     "output_type": "stream",
     "text": [
      "Optimization restart 1/5, f = 653.3531120695127\n",
      "Optimization restart 2/5, f = 684.1672073594225\n"
     ]
    },
    {
     "name": "stderr",
     "output_type": "stream",
     "text": [
      " /Users/harrysonghurst/opt/anaconda3/envs/traffic/lib/python3.8/site-packages/GPy/kern/src/rbf.py:76: RuntimeWarning:invalid value encountered in multiply\n"
     ]
    },
    {
     "name": "stdout",
     "output_type": "stream",
     "text": [
      "Optimization restart 3/5, f = 653.3492808062327\n",
      "Optimization restart 4/5, f = 653.3492808057185\n",
      "Optimization restart 5/5, f = 653.3492808063182\n",
      "[[20.  25.  27.  30.   3.   1.5]]\n",
      "\n",
      "User function time loss called with 1 inputs to simulate\n",
      "\n",
      "Evaluating input: 1 of 1\n",
      "\n",
      " Retrying in 1 seconds\n"
     ]
    },
    {
     "name": "stderr",
     "output_type": "stream",
     "text": [
      " /Users/harrysonghurst/opt/anaconda3/envs/traffic/lib/python3.8/site-packages/paramz/transformations.py:111: RuntimeWarning:overflow encountered in expm1\n"
     ]
    },
    {
     "name": "stdout",
     "output_type": "stream",
     "text": [
      "Optimization restart 1/5, f = 657.672484147748\n",
      "Optimization restart 2/5, f = 657.6724176029271\n",
      "Optimization restart 3/5, f = 657.6724176040548\n"
     ]
    },
    {
     "name": "stderr",
     "output_type": "stream",
     "text": [
      " /Users/harrysonghurst/opt/anaconda3/envs/traffic/lib/python3.8/site-packages/GPy/kern/src/stationary.py:168: RuntimeWarning:overflow encountered in true_divide\n",
      " /Users/harrysonghurst/opt/anaconda3/envs/traffic/lib/python3.8/site-packages/GPy/kern/src/rbf.py:76: RuntimeWarning:invalid value encountered in multiply\n"
     ]
    },
    {
     "name": "stdout",
     "output_type": "stream",
     "text": [
      "Optimization restart 4/5, f = 735.4724725914807\n",
      "Optimization restart 5/5, f = 657.6724176038246\n",
      "[[ 3.         15.12239259  5.         59.52889683  1.          5.        ]]\n",
      "\n",
      "User function time loss called with 1 inputs to simulate\n",
      "\n",
      "Evaluating input: 1 of 1\n",
      "\n",
      " Retrying in 1 seconds\n"
     ]
    },
    {
     "name": "stderr",
     "output_type": "stream",
     "text": [
      " /Users/harrysonghurst/opt/anaconda3/envs/traffic/lib/python3.8/site-packages/paramz/transformations.py:111: RuntimeWarning:overflow encountered in expm1\n",
      " /Users/harrysonghurst/opt/anaconda3/envs/traffic/lib/python3.8/site-packages/GPy/kern/src/rbf.py:52: RuntimeWarning:overflow encountered in square\n",
      " /Users/harrysonghurst/opt/anaconda3/envs/traffic/lib/python3.8/site-packages/GPy/kern/src/stationary.py:168: RuntimeWarning:overflow encountered in true_divide\n",
      " /Users/harrysonghurst/opt/anaconda3/envs/traffic/lib/python3.8/site-packages/GPy/kern/src/rbf.py:76: RuntimeWarning:invalid value encountered in multiply\n",
      " /Users/harrysonghurst/opt/anaconda3/envs/traffic/lib/python3.8/site-packages/paramz/transformations.py:108: RuntimeWarning:invalid value encountered in greater\n",
      " /Users/harrysonghurst/opt/anaconda3/envs/traffic/lib/python3.8/site-packages/paramz/transformations.py:113: RuntimeWarning:invalid value encountered in greater\n"
     ]
    },
    {
     "name": "stdout",
     "output_type": "stream",
     "text": [
      "Optimization restart 1/5, f = 662.1257701749639\n",
      "Warning - optimization restart 2/5 failed\n",
      "Optimization restart 3/5, f = 662.125743401215\n",
      "Optimization restart 4/5, f = 662.1257424928709\n",
      "Optimization restart 5/5, f = 662.1257425241852\n",
      "[[20.        18.0775508 27.        70.         3.         5.       ]]\n",
      "\n",
      "User function time loss called with 1 inputs to simulate\n",
      "\n",
      "Evaluating input: 1 of 1\n",
      "\n",
      " Retrying in 1 seconds\n"
     ]
    },
    {
     "name": "stderr",
     "output_type": "stream",
     "text": [
      " /Users/harrysonghurst/opt/anaconda3/envs/traffic/lib/python3.8/site-packages/paramz/transformations.py:111: RuntimeWarning:overflow encountered in expm1\n"
     ]
    },
    {
     "name": "stdout",
     "output_type": "stream",
     "text": [
      "Optimization restart 1/5, f = 666.4187696557648\n",
      "Optimization restart 2/5, f = 666.4187324936944\n",
      "Optimization restart 3/5, f = 666.4187324783952\n",
      "Optimization restart 4/5, f = 666.4187324796511\n",
      "Optimization restart 5/5, f = 670.1299827674741\n",
      "[[ 3.  25.  27.  30.   1.   1.5]]\n",
      "\n",
      "User function time loss called with 1 inputs to simulate\n",
      "\n",
      "Evaluating input: 1 of 1\n",
      "\n",
      " Retrying in 1 seconds\n"
     ]
    },
    {
     "name": "stderr",
     "output_type": "stream",
     "text": [
      " /Users/harrysonghurst/opt/anaconda3/envs/traffic/lib/python3.8/site-packages/paramz/transformations.py:111: RuntimeWarning:overflow encountered in expm1\n"
     ]
    },
    {
     "name": "stdout",
     "output_type": "stream",
     "text": [
      "Optimization restart 1/5, f = 673.9551900060297\n",
      "Optimization restart 2/5, f = 771.396577360543\n",
      "Optimization restart 3/5, f = 673.9551008536846\n",
      "Optimization restart 4/5, f = 731.4357344078392\n"
     ]
    },
    {
     "name": "stderr",
     "output_type": "stream",
     "text": [
      " /Users/harrysonghurst/opt/anaconda3/envs/traffic/lib/python3.8/site-packages/GPy/kern/src/stationary.py:168: RuntimeWarning:overflow encountered in true_divide\n",
      " /Users/harrysonghurst/opt/anaconda3/envs/traffic/lib/python3.8/site-packages/GPy/kern/src/rbf.py:76: RuntimeWarning:invalid value encountered in multiply\n"
     ]
    },
    {
     "name": "stdout",
     "output_type": "stream",
     "text": [
      "Optimization restart 5/5, f = 771.3966717865762\n",
      "[[20. 25. 27. 30.  1.  5.]]\n",
      "\n",
      "User function time loss called with 1 inputs to simulate\n",
      "\n",
      "Evaluating input: 1 of 1\n",
      "\n",
      " Retrying in 1 seconds\n"
     ]
    },
    {
     "name": "stderr",
     "output_type": "stream",
     "text": [
      " /Users/harrysonghurst/opt/anaconda3/envs/traffic/lib/python3.8/site-packages/paramz/transformations.py:111: RuntimeWarning:overflow encountered in expm1\n"
     ]
    },
    {
     "name": "stdout",
     "output_type": "stream",
     "text": [
      "Optimization restart 1/5, f = 678.2504193327808\n",
      "Optimization restart 2/5, f = 678.249906634971\n",
      "Optimization restart 3/5, f = 678.5583706445402\n",
      "Optimization restart 4/5, f = 678.2499066328152\n",
      "Optimization restart 5/5, f = 678.249906632807\n",
      "[[20.          8.         15.57540657 70.          1.          1.5       ]]\n",
      "\n",
      "User function time loss called with 1 inputs to simulate\n",
      "\n",
      "Evaluating input: 1 of 1\n",
      "\n",
      " Retrying in 1 seconds\n"
     ]
    },
    {
     "name": "stderr",
     "output_type": "stream",
     "text": [
      " /Users/harrysonghurst/opt/anaconda3/envs/traffic/lib/python3.8/site-packages/paramz/transformations.py:111: RuntimeWarning:overflow encountered in expm1\n",
      " /Users/harrysonghurst/opt/anaconda3/envs/traffic/lib/python3.8/site-packages/GPy/kern/src/rbf.py:52: RuntimeWarning:overflow encountered in square\n"
     ]
    },
    {
     "name": "stdout",
     "output_type": "stream",
     "text": [
      "Optimization restart 1/5, f = 682.4898202691679\n",
      "Optimization restart 2/5, f = 682.4897541875024\n"
     ]
    },
    {
     "name": "stderr",
     "output_type": "stream",
     "text": [
      " /Users/harrysonghurst/opt/anaconda3/envs/traffic/lib/python3.8/site-packages/GPy/kern/src/stationary.py:168: RuntimeWarning:overflow encountered in true_divide\n",
      " /Users/harrysonghurst/opt/anaconda3/envs/traffic/lib/python3.8/site-packages/GPy/kern/src/rbf.py:76: RuntimeWarning:invalid value encountered in multiply\n"
     ]
    },
    {
     "name": "stdout",
     "output_type": "stream",
     "text": [
      "Optimization restart 3/5, f = 766.903794518327\n",
      "Optimization restart 4/5, f = 682.4897542417829\n",
      "Optimization restart 5/5, f = 783.259917799544\n",
      "[[20.          8.         13.98361255 30.          3.          1.5       ]]\n",
      "\n",
      "User function time loss called with 1 inputs to simulate\n",
      "\n",
      "Evaluating input: 1 of 1\n",
      "\n",
      " Retrying in 1 seconds\n"
     ]
    },
    {
     "name": "stderr",
     "output_type": "stream",
     "text": [
      " /Users/harrysonghurst/opt/anaconda3/envs/traffic/lib/python3.8/site-packages/paramz/transformations.py:111: RuntimeWarning:overflow encountered in expm1\n",
      " /Users/harrysonghurst/opt/anaconda3/envs/traffic/lib/python3.8/site-packages/GPy/kern/src/stationary.py:168: RuntimeWarning:overflow encountered in true_divide\n",
      " /Users/harrysonghurst/opt/anaconda3/envs/traffic/lib/python3.8/site-packages/GPy/kern/src/rbf.py:76: RuntimeWarning:invalid value encountered in multiply\n"
     ]
    },
    {
     "name": "stdout",
     "output_type": "stream",
     "text": [
      "Optimization restart 1/5, f = 686.6633270485153\n",
      "Optimization restart 2/5, f = 777.4943829819551\n",
      "Optimization restart 3/5, f = 686.6632648325935\n",
      "Optimization restart 4/5, f = 686.6632648318239\n",
      "Optimization restart 5/5, f = 686.6632649775012\n",
      "[[ 3.         8.        16.4310937 30.         1.         1.5      ]]\n",
      "\n",
      "User function time loss called with 1 inputs to simulate\n",
      "\n",
      "Evaluating input: 1 of 1\n",
      "\n",
      " Retrying in 1 seconds\n"
     ]
    },
    {
     "name": "stderr",
     "output_type": "stream",
     "text": [
      " /Users/harrysonghurst/opt/anaconda3/envs/traffic/lib/python3.8/site-packages/paramz/transformations.py:111: RuntimeWarning:overflow encountered in expm1\n",
      " /Users/harrysonghurst/opt/anaconda3/envs/traffic/lib/python3.8/site-packages/GPy/kern/src/rbf.py:52: RuntimeWarning:overflow encountered in square\n"
     ]
    },
    {
     "name": "stdout",
     "output_type": "stream",
     "text": [
      "Optimization restart 1/5, f = 690.9425294907669\n",
      "Optimization restart 2/5, f = 692.689931164281\n",
      "Optimization restart 3/5, f = 1256.1143391869973\n"
     ]
    },
    {
     "name": "stderr",
     "output_type": "stream",
     "text": [
      " /Users/harrysonghurst/opt/anaconda3/envs/traffic/lib/python3.8/site-packages/GPy/kern/src/stationary.py:168: RuntimeWarning:overflow encountered in true_divide\n",
      " /Users/harrysonghurst/opt/anaconda3/envs/traffic/lib/python3.8/site-packages/GPy/kern/src/rbf.py:76: RuntimeWarning:invalid value encountered in multiply\n"
     ]
    },
    {
     "name": "stdout",
     "output_type": "stream",
     "text": [
      "Optimization restart 4/5, f = 690.9421876376754\n",
      "Optimization restart 5/5, f = 752.1640659869623\n",
      "[[20.         25.         15.54440789 39.82367836  3.          5.        ]]\n",
      "\n",
      "User function time loss called with 1 inputs to simulate\n",
      "\n",
      "Evaluating input: 1 of 1\n",
      "\n",
      " Retrying in 1 seconds\n"
     ]
    },
    {
     "name": "stderr",
     "output_type": "stream",
     "text": [
      " /Users/harrysonghurst/opt/anaconda3/envs/traffic/lib/python3.8/site-packages/paramz/transformations.py:111: RuntimeWarning:overflow encountered in expm1\n"
     ]
    },
    {
     "name": "stdout",
     "output_type": "stream",
     "text": [
      "Optimization restart 1/5, f = 695.0610534578295\n",
      "Optimization restart 2/5, f = 695.0609137996059\n",
      "Optimization restart 3/5, f = 695.0609138019149\n",
      "Optimization restart 4/5, f = 695.0609138012926\n",
      "Optimization restart 5/5, f = 695.0609138113923\n",
      "[[ 3.   8.  27.  70.   3.   1.5]]\n",
      "\n",
      "User function time loss called with 1 inputs to simulate\n",
      "\n",
      "Evaluating input: 1 of 1\n",
      "\n",
      " Retrying in 1 seconds\n"
     ]
    },
    {
     "name": "stderr",
     "output_type": "stream",
     "text": [
      " /Users/harrysonghurst/opt/anaconda3/envs/traffic/lib/python3.8/site-packages/paramz/transformations.py:111: RuntimeWarning:overflow encountered in expm1\n"
     ]
    },
    {
     "name": "stdout",
     "output_type": "stream",
     "text": [
      "Optimization restart 1/5, f = 699.2810023416613\n",
      "Optimization restart 2/5, f = 699.2809996506362\n",
      "Optimization restart 3/5, f = 833.5024511202199\n",
      "Optimization restart 4/5, f = 699.2809996993582\n",
      "Optimization restart 5/5, f = 700.9247044221348\n",
      "[[20.          8.          5.         46.32188336  1.          5.        ]]\n",
      "\n",
      "User function time loss called with 1 inputs to simulate\n",
      "\n",
      "Evaluating input: 1 of 1\n",
      "\n",
      " Retrying in 1 seconds\n"
     ]
    },
    {
     "name": "stderr",
     "output_type": "stream",
     "text": [
      " /Users/harrysonghurst/opt/anaconda3/envs/traffic/lib/python3.8/site-packages/paramz/transformations.py:111: RuntimeWarning:overflow encountered in expm1\n"
     ]
    },
    {
     "name": "stdout",
     "output_type": "stream",
     "text": [
      "Optimization restart 1/5, f = 703.476271446875\n",
      "Optimization restart 2/5, f = 704.8393136279914\n",
      "Optimization restart 3/5, f = 703.4762048731623\n"
     ]
    },
    {
     "name": "stderr",
     "output_type": "stream",
     "text": [
      " /Users/harrysonghurst/opt/anaconda3/envs/traffic/lib/python3.8/site-packages/GPy/kern/src/rbf.py:52: RuntimeWarning:overflow encountered in square\n"
     ]
    },
    {
     "name": "stdout",
     "output_type": "stream",
     "text": [
      "Optimization restart 4/5, f = 703.4762047792876\n",
      "Optimization restart 5/5, f = 703.4762047800873\n",
      "[[ 3.         25.         12.8680342  39.99567091  1.          5.        ]]\n",
      "\n",
      "User function time loss called with 1 inputs to simulate\n",
      "\n",
      "Evaluating input: 1 of 1\n",
      "\n",
      " Retrying in 1 seconds\n"
     ]
    },
    {
     "name": "stderr",
     "output_type": "stream",
     "text": [
      " /Users/harrysonghurst/opt/anaconda3/envs/traffic/lib/python3.8/site-packages/paramz/transformations.py:111: RuntimeWarning:overflow encountered in expm1\n"
     ]
    },
    {
     "name": "stdout",
     "output_type": "stream",
     "text": [
      "Optimization restart 1/5, f = 710.5668891393921\n",
      "Optimization restart 2/5, f = 821.0961026697211\n",
      "Optimization restart 3/5, f = 710.5630727159445\n",
      "Optimization restart 4/5, f = 710.5630723292736\n",
      "Optimization restart 5/5, f = 710.8694806240326\n",
      "[[20.  8. 27. 30.  1.  5.]]\n",
      "\n",
      "User function time loss called with 1 inputs to simulate\n",
      "\n",
      "Evaluating input: 1 of 1\n",
      "\n",
      " Retrying in 1 seconds\n"
     ]
    },
    {
     "name": "stderr",
     "output_type": "stream",
     "text": [
      " /Users/harrysonghurst/opt/anaconda3/envs/traffic/lib/python3.8/site-packages/paramz/transformations.py:111: RuntimeWarning:overflow encountered in expm1\n"
     ]
    },
    {
     "name": "stdout",
     "output_type": "stream",
     "text": [
      "Optimization restart 1/5, f = 714.8029942132348\n",
      "Optimization restart 2/5, f = 813.3582296897011\n",
      "Optimization restart 3/5, f = 714.802859029335\n",
      "Optimization restart 4/5, f = 714.8969989019171\n",
      "Optimization restart 5/5, f = 714.8968958796577\n",
      "[[ 3.         16.68408545  5.         30.          1.          1.5       ]]\n",
      "\n",
      "User function time loss called with 1 inputs to simulate\n",
      "\n",
      "Evaluating input: 1 of 1\n",
      "\n",
      " Retrying in 1 seconds\n"
     ]
    },
    {
     "name": "stderr",
     "output_type": "stream",
     "text": [
      " /Users/harrysonghurst/opt/anaconda3/envs/traffic/lib/python3.8/site-packages/paramz/transformations.py:111: RuntimeWarning:overflow encountered in expm1\n"
     ]
    },
    {
     "name": "stdout",
     "output_type": "stream",
     "text": [
      "Optimization restart 1/5, f = 718.9987969311777\n",
      "Optimization restart 2/5, f = 718.9987927681625\n",
      "Optimization restart 3/5, f = 718.9987927681708\n",
      "Optimization restart 4/5, f = 718.9987927681788\n",
      "Optimization restart 5/5, f = 832.4974850205986\n",
      "[[ 3.  25.  27.  70.   3.   1.5]]\n",
      "\n",
      "User function time loss called with 1 inputs to simulate\n",
      "\n",
      "Evaluating input: 1 of 1\n",
      "\n",
      " Retrying in 1 seconds\n"
     ]
    },
    {
     "name": "stderr",
     "output_type": "stream",
     "text": [
      " /Users/harrysonghurst/opt/anaconda3/envs/traffic/lib/python3.8/site-packages/paramz/transformations.py:111: RuntimeWarning:overflow encountered in expm1\n"
     ]
    },
    {
     "name": "stdout",
     "output_type": "stream",
     "text": [
      "Optimization restart 1/5, f = 726.9360398482953\n",
      "Optimization restart 2/5, f = 838.75367947286\n",
      "Optimization restart 3/5, f = 838.7536794360535\n",
      "Optimization restart 4/5, f = 726.8938880099367\n",
      "Optimization restart 5/5, f = 726.893888012368\n",
      "[[ 3.          8.         13.82978729 70.          1.          1.5       ]]\n",
      "\n",
      "User function time loss called with 1 inputs to simulate\n",
      "\n",
      "Evaluating input: 1 of 1\n",
      "\n",
      " Retrying in 1 seconds\n"
     ]
    },
    {
     "name": "stderr",
     "output_type": "stream",
     "text": [
      " /Users/harrysonghurst/opt/anaconda3/envs/traffic/lib/python3.8/site-packages/paramz/transformations.py:111: RuntimeWarning:overflow encountered in expm1\n"
     ]
    },
    {
     "name": "stdout",
     "output_type": "stream",
     "text": [
      "Optimization restart 1/5, f = 731.0337710894447\n",
      "Optimization restart 2/5, f = 731.0336651267378\n",
      "Optimization restart 3/5, f = 731.0336651346541\n",
      "Optimization restart 4/5, f = 731.033665138092\n",
      "Optimization restart 5/5, f = 844.3887115608137\n",
      "[[20.         15.23506743  5.         70.          3.          5.        ]]\n",
      "\n",
      "User function time loss called with 1 inputs to simulate\n",
      "\n",
      "Evaluating input: 1 of 1\n",
      "\n",
      " Retrying in 1 seconds\n"
     ]
    },
    {
     "name": "stderr",
     "output_type": "stream",
     "text": [
      " /Users/harrysonghurst/opt/anaconda3/envs/traffic/lib/python3.8/site-packages/paramz/transformations.py:111: RuntimeWarning:overflow encountered in expm1\n"
     ]
    },
    {
     "name": "stdout",
     "output_type": "stream",
     "text": [
      "Optimization restart 1/5, f = 735.2096848985395\n",
      "Optimization restart 2/5, f = 735.2096382755811\n"
     ]
    },
    {
     "name": "stderr",
     "output_type": "stream",
     "text": [
      " /Users/harrysonghurst/opt/anaconda3/envs/traffic/lib/python3.8/site-packages/GPy/kern/src/stationary.py:168: RuntimeWarning:overflow encountered in true_divide\n",
      " /Users/harrysonghurst/opt/anaconda3/envs/traffic/lib/python3.8/site-packages/GPy/kern/src/rbf.py:76: RuntimeWarning:invalid value encountered in multiply\n"
     ]
    },
    {
     "name": "stdout",
     "output_type": "stream",
     "text": [
      "Optimization restart 3/5, f = 820.3645952414037\n",
      "Optimization restart 4/5, f = 735.2096382587968\n",
      "Optimization restart 5/5, f = 849.9469675287323\n",
      "[[13.         15.49947918  5.         70.          1.          1.5       ]]\n",
      "\n",
      "User function time loss called with 1 inputs to simulate\n",
      "\n",
      "Evaluating input: 1 of 1\n",
      "\n",
      " Retrying in 1 seconds\n"
     ]
    },
    {
     "name": "stderr",
     "output_type": "stream",
     "text": [
      " /Users/harrysonghurst/opt/anaconda3/envs/traffic/lib/python3.8/site-packages/paramz/transformations.py:111: RuntimeWarning:overflow encountered in expm1\n"
     ]
    },
    {
     "name": "stdout",
     "output_type": "stream",
     "text": [
      "Optimization restart 1/5, f = 739.3162331743624\n",
      "Optimization restart 2/5, f = 739.3161421830026\n",
      "Optimization restart 3/5, f = 739.3161418012221\n",
      "Optimization restart 4/5, f = 855.5026352221479\n",
      "Optimization restart 5/5, f = 739.3161418006405\n",
      "[[ 3.         25.          5.         48.88809939  1.          1.5       ]]\n",
      "\n",
      "User function time loss called with 1 inputs to simulate\n",
      "\n",
      "Evaluating input: 1 of 1\n",
      "\n",
      " Retrying in 1 seconds\n"
     ]
    },
    {
     "name": "stderr",
     "output_type": "stream",
     "text": [
      " /Users/harrysonghurst/opt/anaconda3/envs/traffic/lib/python3.8/site-packages/paramz/transformations.py:111: RuntimeWarning:overflow encountered in expm1\n"
     ]
    },
    {
     "name": "stdout",
     "output_type": "stream",
     "text": [
      "Optimization restart 1/5, f = 743.4121933935357\n",
      "Optimization restart 2/5, f = 743.4120452328664\n",
      "Optimization restart 3/5, f = 743.412045236242\n",
      "Optimization restart 4/5, f = 743.4120452331288\n",
      "Optimization restart 5/5, f = 809.687510395159\n",
      "[[ 3.         25.         27.         62.71042431  1.          5.        ]]\n",
      "\n",
      "User function time loss called with 1 inputs to simulate\n",
      "\n",
      "Evaluating input: 1 of 1\n",
      "\n"
     ]
    },
    {
     "name": "stderr",
     "output_type": "stream",
     "text": [
      " /Users/harrysonghurst/opt/anaconda3/envs/traffic/lib/python3.8/site-packages/GPy/kern/src/stationary.py:168: RuntimeWarning:overflow encountered in true_divide\n",
      " /Users/harrysonghurst/opt/anaconda3/envs/traffic/lib/python3.8/site-packages/GPy/kern/src/rbf.py:76: RuntimeWarning:invalid value encountered in multiply\n"
     ]
    },
    {
     "name": "stdout",
     "output_type": "stream",
     "text": [
      " Retrying in 1 seconds\n"
     ]
    },
    {
     "name": "stderr",
     "output_type": "stream",
     "text": [
      " /Users/harrysonghurst/opt/anaconda3/envs/traffic/lib/python3.8/site-packages/paramz/transformations.py:111: RuntimeWarning:overflow encountered in expm1\n"
     ]
    },
    {
     "name": "stdout",
     "output_type": "stream",
     "text": [
      "Optimization restart 1/5, f = 748.5499760703133\n",
      "Optimization restart 2/5, f = 871.5385670596982\n",
      "Optimization restart 3/5, f = 748.5424768320338\n",
      "Optimization restart 4/5, f = 748.542476864987\n"
     ]
    },
    {
     "name": "stderr",
     "output_type": "stream",
     "text": [
      " /Users/harrysonghurst/opt/anaconda3/envs/traffic/lib/python3.8/site-packages/GPy/kern/src/stationary.py:168: RuntimeWarning:overflow encountered in true_divide\n",
      " /Users/harrysonghurst/opt/anaconda3/envs/traffic/lib/python3.8/site-packages/GPy/kern/src/rbf.py:76: RuntimeWarning:invalid value encountered in multiply\n"
     ]
    },
    {
     "name": "stdout",
     "output_type": "stream",
     "text": [
      "Optimization restart 5/5, f = 777.2622080599044\n",
      "[[20.          8.         27.         58.04026839  1.          5.        ]]\n",
      "\n",
      "User function time loss called with 1 inputs to simulate\n",
      "\n",
      "Evaluating input: 1 of 1\n",
      "\n",
      " Retrying in 1 seconds\n"
     ]
    },
    {
     "name": "stderr",
     "output_type": "stream",
     "text": [
      " /Users/harrysonghurst/opt/anaconda3/envs/traffic/lib/python3.8/site-packages/paramz/transformations.py:111: RuntimeWarning:overflow encountered in expm1\n"
     ]
    },
    {
     "name": "stdout",
     "output_type": "stream",
     "text": [
      "Optimization restart 1/5, f = 752.6790502325225\n",
      "Optimization restart 2/5, f = 752.6788710394733\n",
      "Optimization restart 3/5, f = 752.6788710401345\n",
      "Optimization restart 4/5, f = 877.7752442238452\n",
      "Optimization restart 5/5, f = 752.6788710403946\n",
      "[[20.          8.         27.         62.32764113  3.          1.5       ]]\n",
      "\n",
      "User function time loss called with 1 inputs to simulate\n",
      "\n",
      "Evaluating input: 1 of 1\n",
      "\n",
      " Retrying in 1 seconds\n"
     ]
    },
    {
     "name": "stderr",
     "output_type": "stream",
     "text": [
      " /Users/harrysonghurst/opt/anaconda3/envs/traffic/lib/python3.8/site-packages/paramz/transformations.py:111: RuntimeWarning:overflow encountered in expm1\n"
     ]
    },
    {
     "name": "stdout",
     "output_type": "stream",
     "text": [
      "Optimization restart 1/5, f = 756.945743276089\n",
      "Optimization restart 2/5, f = 756.9454783183219\n",
      "Optimization restart 3/5, f = 758.9789972347676\n",
      "Optimization restart 4/5, f = 756.9454783458735\n"
     ]
    },
    {
     "name": "stderr",
     "output_type": "stream",
     "text": [
      " /Users/harrysonghurst/opt/anaconda3/envs/traffic/lib/python3.8/site-packages/GPy/kern/src/stationary.py:168: RuntimeWarning:overflow encountered in true_divide\n",
      " /Users/harrysonghurst/opt/anaconda3/envs/traffic/lib/python3.8/site-packages/GPy/kern/src/rbf.py:76: RuntimeWarning:invalid value encountered in multiply\n",
      " /Users/harrysonghurst/opt/anaconda3/envs/traffic/lib/python3.8/site-packages/GPy/kern/src/rbf.py:52: RuntimeWarning:overflow encountered in square\n"
     ]
    },
    {
     "name": "stdout",
     "output_type": "stream",
     "text": [
      "Optimization restart 5/5, f = 756.9454783180269\n",
      "[[20.  8.  5. 70.  1.  5.]]\n",
      "\n",
      "User function time loss called with 1 inputs to simulate\n",
      "\n",
      "Evaluating input: 1 of 1\n",
      "\n",
      " Retrying in 1 seconds\n"
     ]
    },
    {
     "name": "stderr",
     "output_type": "stream",
     "text": [
      " /Users/harrysonghurst/opt/anaconda3/envs/traffic/lib/python3.8/site-packages/paramz/transformations.py:111: RuntimeWarning:overflow encountered in expm1\n"
     ]
    },
    {
     "name": "stdout",
     "output_type": "stream",
     "text": [
      "Optimization restart 1/5, f = 761.1250208485818\n",
      "Optimization restart 2/5, f = 761.1250216387691\n",
      "Optimization restart 3/5, f = 810.8410322518398\n"
     ]
    },
    {
     "name": "stderr",
     "output_type": "stream",
     "text": [
      " /Users/harrysonghurst/opt/anaconda3/envs/traffic/lib/python3.8/site-packages/GPy/kern/src/stationary.py:168: RuntimeWarning:overflow encountered in true_divide\n",
      " /Users/harrysonghurst/opt/anaconda3/envs/traffic/lib/python3.8/site-packages/GPy/kern/src/rbf.py:76: RuntimeWarning:invalid value encountered in multiply\n"
     ]
    },
    {
     "name": "stdout",
     "output_type": "stream",
     "text": [
      "Optimization restart 4/5, f = 761.1250184537603\n",
      "Optimization restart 5/5, f = 761.125018456433\n",
      "[[ 3.         16.44738635  5.         70.          1.          5.        ]]\n",
      "\n",
      "User function time loss called with 1 inputs to simulate\n",
      "\n",
      "Evaluating input: 1 of 1\n",
      "\n",
      " Retrying in 1 seconds\n"
     ]
    },
    {
     "name": "stderr",
     "output_type": "stream",
     "text": [
      " /Users/harrysonghurst/opt/anaconda3/envs/traffic/lib/python3.8/site-packages/paramz/transformations.py:111: RuntimeWarning:overflow encountered in expm1\n"
     ]
    },
    {
     "name": "stdout",
     "output_type": "stream",
     "text": [
      "Optimization restart 1/5, f = 765.2810412772327\n",
      "Optimization restart 2/5, f = 765.2810186236749\n",
      "Optimization restart 3/5, f = 766.8984411686275\n",
      "Optimization restart 4/5, f = 765.2810186229447\n"
     ]
    },
    {
     "name": "stderr",
     "output_type": "stream",
     "text": [
      " /Users/harrysonghurst/opt/anaconda3/envs/traffic/lib/python3.8/site-packages/GPy/kern/src/stationary.py:168: RuntimeWarning:overflow encountered in true_divide\n",
      " /Users/harrysonghurst/opt/anaconda3/envs/traffic/lib/python3.8/site-packages/GPy/kern/src/rbf.py:76: RuntimeWarning:invalid value encountered in multiply\n"
     ]
    },
    {
     "name": "stdout",
     "output_type": "stream",
     "text": [
      "Optimization restart 5/5, f = 877.303974167156\n",
      "[[12. 25. 27. 30.  3.  5.]]\n",
      "\n",
      "User function time loss called with 1 inputs to simulate\n",
      "\n",
      "Evaluating input: 1 of 1\n",
      "\n",
      " Retrying in 1 seconds\n"
     ]
    },
    {
     "name": "stderr",
     "output_type": "stream",
     "text": [
      " /Users/harrysonghurst/opt/anaconda3/envs/traffic/lib/python3.8/site-packages/paramz/transformations.py:111: RuntimeWarning:overflow encountered in expm1\n",
      " /Users/harrysonghurst/opt/anaconda3/envs/traffic/lib/python3.8/site-packages/GPy/kern/src/stationary.py:168: RuntimeWarning:overflow encountered in true_divide\n",
      " /Users/harrysonghurst/opt/anaconda3/envs/traffic/lib/python3.8/site-packages/GPy/kern/src/rbf.py:76: RuntimeWarning:invalid value encountered in multiply\n"
     ]
    },
    {
     "name": "stdout",
     "output_type": "stream",
     "text": [
      "Optimization restart 1/5, f = 770.3802051714149\n",
      "Optimization restart 2/5, f = 886.5193797592327\n",
      "Optimization restart 3/5, f = 902.1313550348699\n",
      "Optimization restart 4/5, f = 770.3783597077152\n",
      "Optimization restart 5/5, f = 770.3783604743198\n",
      "[[ 3.         16.68935496 27.         30.          3.          5.        ]]\n",
      "\n",
      "User function time loss called with 1 inputs to simulate\n",
      "\n",
      "Evaluating input: 1 of 1\n",
      "\n",
      " Retrying in 1 seconds\n"
     ]
    },
    {
     "name": "stderr",
     "output_type": "stream",
     "text": [
      " /Users/harrysonghurst/opt/anaconda3/envs/traffic/lib/python3.8/site-packages/paramz/transformations.py:111: RuntimeWarning:overflow encountered in expm1\n"
     ]
    },
    {
     "name": "stdout",
     "output_type": "stream",
     "text": [
      "Optimization restart 1/5, f = 779.4416984122257\n",
      "Optimization restart 2/5, f = 779.441595405708\n",
      "Optimization restart 3/5, f = 779.4415953807679\n",
      "Optimization restart 4/5, f = 891.367754362594\n"
     ]
    },
    {
     "name": "stderr",
     "output_type": "stream",
     "text": [
      " /Users/harrysonghurst/opt/anaconda3/envs/traffic/lib/python3.8/site-packages/GPy/kern/src/stationary.py:168: RuntimeWarning:overflow encountered in true_divide\n",
      " /Users/harrysonghurst/opt/anaconda3/envs/traffic/lib/python3.8/site-packages/GPy/kern/src/rbf.py:76: RuntimeWarning:invalid value encountered in multiply\n"
     ]
    },
    {
     "name": "stdout",
     "output_type": "stream",
     "text": [
      "Optimization restart 5/5, f = 779.4415953908727\n",
      "[[20.         25.         14.56865931 30.          3.          1.5       ]]\n",
      "\n",
      "User function time loss called with 1 inputs to simulate\n",
      "\n",
      "Evaluating input: 1 of 1\n",
      "\n",
      " Retrying in 1 seconds\n"
     ]
    },
    {
     "name": "stderr",
     "output_type": "stream",
     "text": [
      " /Users/harrysonghurst/opt/anaconda3/envs/traffic/lib/python3.8/site-packages/paramz/transformations.py:111: RuntimeWarning:overflow encountered in expm1\n"
     ]
    },
    {
     "name": "stdout",
     "output_type": "stream",
     "text": [
      "Optimization restart 1/5, f = 783.5132458018503\n",
      "Optimization restart 2/5, f = 783.513146429303\n",
      "Optimization restart 3/5, f = 783.5131464285014\n",
      "Optimization restart 4/5, f = 920.1019802590404\n",
      "Optimization restart 5/5, f = 783.5131464284838\n",
      "[[10.          8.         27.         61.23399465  3.          5.        ]]\n",
      "\n",
      "User function time loss called with 1 inputs to simulate\n",
      "\n",
      "Evaluating input: 1 of 1\n",
      "\n",
      " Retrying in 1 seconds\n"
     ]
    },
    {
     "name": "stderr",
     "output_type": "stream",
     "text": [
      " /Users/harrysonghurst/opt/anaconda3/envs/traffic/lib/python3.8/site-packages/paramz/transformations.py:111: RuntimeWarning:overflow encountered in expm1\n"
     ]
    },
    {
     "name": "stdout",
     "output_type": "stream",
     "text": [
      "Optimization restart 1/5, f = 787.5530683238505\n",
      "Optimization restart 2/5, f = 787.5528983824586\n",
      "Optimization restart 3/5, f = 787.552898381275\n",
      "Optimization restart 4/5, f = 909.0498209900405\n"
     ]
    },
    {
     "name": "stderr",
     "output_type": "stream",
     "text": [
      " /Users/harrysonghurst/opt/anaconda3/envs/traffic/lib/python3.8/site-packages/GPy/kern/src/stationary.py:168: RuntimeWarning:overflow encountered in true_divide\n",
      " /Users/harrysonghurst/opt/anaconda3/envs/traffic/lib/python3.8/site-packages/GPy/kern/src/rbf.py:76: RuntimeWarning:invalid value encountered in multiply\n"
     ]
    },
    {
     "name": "stdout",
     "output_type": "stream",
     "text": [
      "Optimization restart 5/5, f = 787.552898409033\n",
      "[[12.         25.          9.65735182 30.          1.          1.5       ]]\n",
      "\n",
      "User function time loss called with 1 inputs to simulate\n",
      "\n",
      "Evaluating input: 1 of 1\n",
      "\n",
      " Retrying in 1 seconds\n"
     ]
    },
    {
     "name": "stderr",
     "output_type": "stream",
     "text": [
      " /Users/harrysonghurst/opt/anaconda3/envs/traffic/lib/python3.8/site-packages/paramz/transformations.py:111: RuntimeWarning:overflow encountered in expm1\n"
     ]
    },
    {
     "name": "stdout",
     "output_type": "stream",
     "text": [
      "Optimization restart 1/5, f = 792.2980188953186\n",
      "Optimization restart 2/5, f = 792.2976152120492\n",
      "Optimization restart 3/5, f = 792.2976155682773\n",
      "Optimization restart 4/5, f = 792.2976153826447\n",
      "Optimization restart 5/5, f = 931.5769532987686\n",
      "[[13. 25. 27. 70.  3.  5.]]\n",
      "\n",
      "User function time loss called with 1 inputs to simulate\n",
      "\n",
      "Evaluating input: 1 of 1\n",
      "\n",
      " Retrying in 1 seconds\n"
     ]
    },
    {
     "name": "stderr",
     "output_type": "stream",
     "text": [
      " /Users/harrysonghurst/opt/anaconda3/envs/traffic/lib/python3.8/site-packages/paramz/transformations.py:111: RuntimeWarning:overflow encountered in expm1\n",
      " /Users/harrysonghurst/opt/anaconda3/envs/traffic/lib/python3.8/site-packages/GPy/kern/src/stationary.py:168: RuntimeWarning:overflow encountered in true_divide\n",
      " /Users/harrysonghurst/opt/anaconda3/envs/traffic/lib/python3.8/site-packages/GPy/kern/src/rbf.py:76: RuntimeWarning:invalid value encountered in multiply\n"
     ]
    },
    {
     "name": "stdout",
     "output_type": "stream",
     "text": [
      "Optimization restart 1/5, f = 796.7234664719247\n",
      "Optimization restart 2/5, f = 920.5477655932152\n"
     ]
    },
    {
     "name": "stderr",
     "output_type": "stream",
     "text": [
      " /Users/harrysonghurst/opt/anaconda3/envs/traffic/lib/python3.8/site-packages/GPy/kern/src/rbf.py:52: RuntimeWarning:overflow encountered in square\n",
      " /Users/harrysonghurst/opt/anaconda3/envs/traffic/lib/python3.8/site-packages/paramz/transformations.py:108: RuntimeWarning:invalid value encountered in greater\n",
      " /Users/harrysonghurst/opt/anaconda3/envs/traffic/lib/python3.8/site-packages/paramz/transformations.py:113: RuntimeWarning:invalid value encountered in greater\n"
     ]
    },
    {
     "name": "stdout",
     "output_type": "stream",
     "text": [
      "Warning - optimization restart 3/5 failed\n",
      "Optimization restart 4/5, f = 796.7228324889816\n",
      "Optimization restart 5/5, f = 796.7228324890089\n",
      "[[ 3.          8.          5.         40.43501471  1.          5.        ]]\n",
      "\n",
      "User function time loss called with 1 inputs to simulate\n",
      "\n",
      "Evaluating input: 1 of 1\n",
      "\n",
      " Retrying in 1 seconds\n"
     ]
    },
    {
     "name": "stderr",
     "output_type": "stream",
     "text": [
      " /Users/harrysonghurst/opt/anaconda3/envs/traffic/lib/python3.8/site-packages/paramz/transformations.py:111: RuntimeWarning:overflow encountered in expm1\n"
     ]
    },
    {
     "name": "stdout",
     "output_type": "stream",
     "text": [
      "Optimization restart 1/5, f = 801.0245800399374\n",
      "Optimization restart 2/5, f = 801.0244692912474\n",
      "Optimization restart 3/5, f = 944.2276008699391\n",
      "Optimization restart 4/5, f = 801.0244692972257\n",
      "Optimization restart 5/5, f = 801.0244692917743\n",
      "[[12.   8.  27.  30.   1.   1.5]]\n",
      "\n",
      "User function time loss called with 1 inputs to simulate\n",
      "\n",
      "Evaluating input: 1 of 1\n",
      "\n",
      " Retrying in 1 seconds\n"
     ]
    },
    {
     "name": "stderr",
     "output_type": "stream",
     "text": [
      " /Users/harrysonghurst/opt/anaconda3/envs/traffic/lib/python3.8/site-packages/paramz/transformations.py:111: RuntimeWarning:overflow encountered in expm1\n"
     ]
    },
    {
     "name": "stdout",
     "output_type": "stream",
     "text": [
      "Optimization restart 1/5, f = 806.3074366867505\n",
      "Optimization restart 2/5, f = 806.3057392245817\n",
      "Optimization restart 3/5, f = 949.1839639154528\n",
      "Optimization restart 4/5, f = 949.8871148300989\n",
      "Optimization restart 5/5, f = 816.46395241666\n",
      "[[ 9.          8.          5.         59.09447686  1.          5.        ]]\n",
      "\n",
      "User function time loss called with 1 inputs to simulate\n",
      "\n",
      "Evaluating input: 1 of 1\n",
      "\n",
      " Retrying in 1 seconds\n"
     ]
    },
    {
     "name": "stderr",
     "output_type": "stream",
     "text": [
      " /Users/harrysonghurst/opt/anaconda3/envs/traffic/lib/python3.8/site-packages/paramz/transformations.py:111: RuntimeWarning:overflow encountered in expm1\n"
     ]
    },
    {
     "name": "stdout",
     "output_type": "stream",
     "text": [
      "Optimization restart 1/5, f = 810.3372307872808\n",
      "Optimization restart 2/5, f = 810.3371563226134\n",
      "Optimization restart 3/5, f = 810.3371563187216\n",
      "Optimization restart 4/5, f = 810.3371563228229\n",
      "Optimization restart 5/5, f = 820.4886653140132\n",
      "[[ 3.         14.43877069 27.         40.13677617  3.          1.5       ]]\n",
      "\n",
      "User function time loss called with 1 inputs to simulate\n",
      "\n",
      "Evaluating input: 1 of 1\n",
      "\n",
      " Retrying in 1 seconds\n"
     ]
    },
    {
     "name": "stderr",
     "output_type": "stream",
     "text": [
      " /Users/harrysonghurst/opt/anaconda3/envs/traffic/lib/python3.8/site-packages/paramz/transformations.py:111: RuntimeWarning:overflow encountered in expm1\n"
     ]
    },
    {
     "name": "stdout",
     "output_type": "stream",
     "text": [
      "Optimization restart 1/5, f = 814.8455620235579\n",
      "Optimization restart 2/5, f = 814.8455237965397\n"
     ]
    },
    {
     "name": "stderr",
     "output_type": "stream",
     "text": [
      " /Users/harrysonghurst/opt/anaconda3/envs/traffic/lib/python3.8/site-packages/GPy/kern/src/rbf.py:52: RuntimeWarning:overflow encountered in square\n",
      " /Users/harrysonghurst/opt/anaconda3/envs/traffic/lib/python3.8/site-packages/GPy/kern/src/stationary.py:168: RuntimeWarning:overflow encountered in true_divide\n",
      " /Users/harrysonghurst/opt/anaconda3/envs/traffic/lib/python3.8/site-packages/GPy/kern/src/rbf.py:76: RuntimeWarning:invalid value encountered in multiply\n"
     ]
    },
    {
     "name": "stdout",
     "output_type": "stream",
     "text": [
      "Optimization restart 3/5, f = 814.8455275908342\n",
      "Optimization restart 4/5, f = 1625.0189216157191\n",
      "Optimization restart 5/5, f = 814.845523793044\n",
      "[[20.         25.         18.2634376  62.27622499  3.          1.5       ]]\n",
      "\n",
      "User function time loss called with 1 inputs to simulate\n",
      "\n",
      "Evaluating input: 1 of 1\n",
      "\n",
      " Retrying in 1 seconds\n"
     ]
    },
    {
     "name": "stderr",
     "output_type": "stream",
     "text": [
      " /Users/harrysonghurst/opt/anaconda3/envs/traffic/lib/python3.8/site-packages/paramz/transformations.py:111: RuntimeWarning:overflow encountered in expm1\n"
     ]
    },
    {
     "name": "stdout",
     "output_type": "stream",
     "text": [
      "Optimization restart 1/5, f = 818.8908007989636\n",
      "Optimization restart 2/5, f = 818.8904809135042\n",
      "Optimization restart 3/5, f = 818.8904809146351\n",
      "Optimization restart 4/5, f = 967.2021823254922\n",
      "Optimization restart 5/5, f = 818.8904809171765\n",
      "[[ 3.         17.00586189  5.         30.          3.          5.        ]]\n",
      "\n",
      "User function time loss called with 1 inputs to simulate\n",
      "\n",
      "Evaluating input: 1 of 1\n",
      "\n",
      " Retrying in 1 seconds\n"
     ]
    },
    {
     "name": "stderr",
     "output_type": "stream",
     "text": [
      " /Users/harrysonghurst/opt/anaconda3/envs/traffic/lib/python3.8/site-packages/paramz/transformations.py:111: RuntimeWarning:overflow encountered in expm1\n"
     ]
    },
    {
     "name": "stdout",
     "output_type": "stream",
     "text": [
      "Optimization restart 1/5, f = 825.9678792802063\n",
      "Optimization restart 2/5, f = 954.6780798568526\n",
      "Optimization restart 3/5, f = 972.9051645012546\n",
      "Optimization restart 4/5, f = 838.1880571831127\n",
      "Optimization restart 5/5, f = 825.9462629081115\n",
      "[[20.         15.86086799 21.09684888 44.94202721  1.          5.        ]]\n",
      "\n",
      "User function time loss called with 1 inputs to simulate\n",
      "\n",
      "Evaluating input: 1 of 1\n",
      "\n",
      " Retrying in 1 seconds\n"
     ]
    },
    {
     "name": "stderr",
     "output_type": "stream",
     "text": [
      " /Users/harrysonghurst/opt/anaconda3/envs/traffic/lib/python3.8/site-packages/paramz/transformations.py:111: RuntimeWarning:overflow encountered in expm1\n"
     ]
    },
    {
     "name": "stdout",
     "output_type": "stream",
     "text": [
      "Optimization restart 1/5, f = 830.1018248798753\n",
      "Optimization restart 2/5, f = 830.1016413785421\n",
      "Optimization restart 3/5, f = 1005.8523528851141\n",
      "Optimization restart 4/5, f = 830.1016412338996\n",
      "Optimization restart 5/5, f = 830.1016412884584\n",
      "[[12.         25.         27.         40.05079354  1.          5.        ]]\n",
      "\n",
      "User function time loss called with 1 inputs to simulate\n",
      "\n",
      "Evaluating input: 1 of 1\n",
      "\n",
      " Retrying in 1 seconds\n"
     ]
    },
    {
     "name": "stderr",
     "output_type": "stream",
     "text": [
      " /Users/harrysonghurst/opt/anaconda3/envs/traffic/lib/python3.8/site-packages/paramz/transformations.py:111: RuntimeWarning:overflow encountered in expm1\n"
     ]
    },
    {
     "name": "stdout",
     "output_type": "stream",
     "text": [
      "Optimization restart 1/5, f = 834.9250764933065\n",
      "Optimization restart 2/5, f = 834.9245439980161\n",
      "Optimization restart 3/5, f = 849.2230824965224\n",
      "Optimization restart 4/5, f = 834.9245439980448\n",
      "Optimization restart 5/5, f = 834.9245440003757\n",
      "[[ 3.  8. 27. 70.  3.  5.]]\n",
      "\n",
      "User function time loss called with 1 inputs to simulate\n",
      "\n",
      "Evaluating input: 1 of 1\n",
      "\n",
      " Retrying in 1 seconds\n"
     ]
    },
    {
     "name": "stderr",
     "output_type": "stream",
     "text": [
      " /Users/harrysonghurst/opt/anaconda3/envs/traffic/lib/python3.8/site-packages/paramz/transformations.py:111: RuntimeWarning:overflow encountered in expm1\n"
     ]
    },
    {
     "name": "stdout",
     "output_type": "stream",
     "text": [
      "Optimization restart 1/5, f = 839.8696877135247\n",
      "Optimization restart 2/5, f = 839.866605576437\n",
      "Optimization restart 3/5, f = 840.1143612697886\n",
      "Optimization restart 4/5, f = 839.8666055764593\n",
      "Optimization restart 5/5, f = 839.8666055764352\n",
      "[[ 3.          8.         16.75968875 54.44202179  3.          5.        ]]\n",
      "\n",
      "User function time loss called with 1 inputs to simulate\n",
      "\n",
      "Evaluating input: 1 of 1\n",
      "\n",
      " Retrying in 1 seconds\n"
     ]
    },
    {
     "name": "stderr",
     "output_type": "stream",
     "text": [
      " /Users/harrysonghurst/opt/anaconda3/envs/traffic/lib/python3.8/site-packages/paramz/transformations.py:111: RuntimeWarning:overflow encountered in expm1\n"
     ]
    },
    {
     "name": "stdout",
     "output_type": "stream",
     "text": [
      "Optimization restart 1/5, f = 843.8922411239517\n",
      "Optimization restart 2/5, f = 843.8921513907306\n",
      "Optimization restart 3/5, f = 843.8921512682766\n",
      "Optimization restart 4/5, f = 843.892151268435\n",
      "Optimization restart 5/5, f = 843.8921512681147\n",
      "[[11.          8.         15.71991758 43.41366945  1.          1.5       ]]\n",
      "\n",
      "User function time loss called with 1 inputs to simulate\n",
      "\n",
      "Evaluating input: 1 of 1\n",
      "\n",
      " Retrying in 1 seconds\n"
     ]
    },
    {
     "name": "stderr",
     "output_type": "stream",
     "text": [
      " /Users/harrysonghurst/opt/anaconda3/envs/traffic/lib/python3.8/site-packages/paramz/transformations.py:111: RuntimeWarning:overflow encountered in expm1\n",
      " /Users/harrysonghurst/opt/anaconda3/envs/traffic/lib/python3.8/site-packages/GPy/kern/src/stationary.py:168: RuntimeWarning:overflow encountered in true_divide\n",
      " /Users/harrysonghurst/opt/anaconda3/envs/traffic/lib/python3.8/site-packages/GPy/kern/src/rbf.py:76: RuntimeWarning:invalid value encountered in multiply\n"
     ]
    },
    {
     "name": "stdout",
     "output_type": "stream",
     "text": [
      "Optimization restart 1/5, f = 847.8967469533166\n",
      "Optimization restart 2/5, f = 981.6813351174441\n",
      "Optimization restart 3/5, f = 847.89657859774\n",
      "Warning - optimization restart 4/5 failed\n"
     ]
    },
    {
     "name": "stderr",
     "output_type": "stream",
     "text": [
      " /Users/harrysonghurst/opt/anaconda3/envs/traffic/lib/python3.8/site-packages/GPy/kern/src/rbf.py:52: RuntimeWarning:overflow encountered in square\n",
      " /Users/harrysonghurst/opt/anaconda3/envs/traffic/lib/python3.8/site-packages/paramz/transformations.py:108: RuntimeWarning:invalid value encountered in greater\n",
      " /Users/harrysonghurst/opt/anaconda3/envs/traffic/lib/python3.8/site-packages/paramz/transformations.py:113: RuntimeWarning:invalid value encountered in greater\n"
     ]
    },
    {
     "name": "stdout",
     "output_type": "stream",
     "text": [
      "Optimization restart 5/5, f = 981.9959463126495\n",
      "[[13.         14.04085638 25.37126737 69.90505164  3.          1.85424261]]\n",
      "\n",
      "User function time loss called with 1 inputs to simulate\n",
      "\n",
      "Evaluating input: 1 of 1\n",
      "\n",
      " Retrying in 1 seconds\n"
     ]
    },
    {
     "name": "stderr",
     "output_type": "stream",
     "text": [
      " /Users/harrysonghurst/opt/anaconda3/envs/traffic/lib/python3.8/site-packages/paramz/transformations.py:111: RuntimeWarning:overflow encountered in expm1\n"
     ]
    },
    {
     "name": "stdout",
     "output_type": "stream",
     "text": [
      "Optimization restart 1/5, f = 851.9124546755871\n",
      "Optimization restart 2/5, f = 851.9124059043967\n",
      "Optimization restart 3/5, f = 851.9124059044143\n",
      "Optimization restart 4/5, f = 851.9124059076273\n",
      "Optimization restart 5/5, f = 851.9124064603668\n",
      "[[20. 25. 27. 70.  3.  5.]]\n",
      "\n",
      "User function time loss called with 1 inputs to simulate\n",
      "\n",
      "Evaluating input: 1 of 1\n",
      "\n",
      " Retrying in 1 seconds\n"
     ]
    },
    {
     "name": "stderr",
     "output_type": "stream",
     "text": [
      " /Users/harrysonghurst/opt/anaconda3/envs/traffic/lib/python3.8/site-packages/paramz/transformations.py:111: RuntimeWarning:overflow encountered in expm1\n"
     ]
    },
    {
     "name": "stdout",
     "output_type": "stream",
     "text": [
      "Optimization restart 1/5, f = 855.9451639283642\n",
      "Optimization restart 2/5, f = 870.8216688100385\n",
      "Optimization restart 3/5, f = 855.9451627943766\n",
      "Optimization restart 4/5, f = 1014.0418788262132\n",
      "Optimization restart 5/5, f = 1014.0416019233529\n",
      "[[20.         19.14447229  5.         52.59413991  3.          5.        ]]\n",
      "\n",
      "User function time loss called with 1 inputs to simulate\n",
      "\n",
      "Evaluating input: 1 of 1\n",
      "\n",
      " Retrying in 1 seconds\n"
     ]
    },
    {
     "name": "stderr",
     "output_type": "stream",
     "text": [
      " /Users/harrysonghurst/opt/anaconda3/envs/traffic/lib/python3.8/site-packages/paramz/transformations.py:111: RuntimeWarning:overflow encountered in expm1\n"
     ]
    },
    {
     "name": "stdout",
     "output_type": "stream",
     "text": [
      "Optimization restart 1/5, f = 860.0725506012463\n",
      "Optimization restart 2/5, f = 860.0723843543478\n",
      "Optimization restart 3/5, f = 860.0723843526911\n",
      "Optimization restart 4/5, f = 860.0723843481554\n",
      "Optimization restart 5/5, f = 1019.637922005705\n",
      "[[ 3.         13.92542572 14.02227567 30.          3.          1.5       ]]\n",
      "\n",
      "User function time loss called with 1 inputs to simulate\n",
      "\n",
      "Evaluating input: 1 of 1\n",
      "\n",
      " Retrying in 1 seconds\n"
     ]
    },
    {
     "name": "stderr",
     "output_type": "stream",
     "text": [
      " /Users/harrysonghurst/opt/anaconda3/envs/traffic/lib/python3.8/site-packages/paramz/transformations.py:111: RuntimeWarning:overflow encountered in expm1\n"
     ]
    },
    {
     "name": "stdout",
     "output_type": "stream",
     "text": [
      "Optimization restart 1/5, f = 864.4221747542025\n",
      "Optimization restart 2/5, f = 864.4205312882124\n",
      "Optimization restart 3/5, f = 944.236167856667\n"
     ]
    },
    {
     "name": "stderr",
     "output_type": "stream",
     "text": [
      " /Users/harrysonghurst/opt/anaconda3/envs/traffic/lib/python3.8/site-packages/GPy/kern/src/stationary.py:168: RuntimeWarning:overflow encountered in true_divide\n",
      " /Users/harrysonghurst/opt/anaconda3/envs/traffic/lib/python3.8/site-packages/GPy/kern/src/rbf.py:76: RuntimeWarning:invalid value encountered in multiply\n"
     ]
    },
    {
     "name": "stdout",
     "output_type": "stream",
     "text": [
      "Optimization restart 4/5, f = 864.4205314115386\n",
      "Optimization restart 5/5, f = 864.4205312619898\n",
      "[[20.         25.         27.         62.25366706  1.          5.        ]]\n",
      "\n",
      "User function time loss called with 1 inputs to simulate\n",
      "\n",
      "Evaluating input: 1 of 1\n",
      "\n",
      " Retrying in 1 seconds\n"
     ]
    },
    {
     "name": "stderr",
     "output_type": "stream",
     "text": [
      " /Users/harrysonghurst/opt/anaconda3/envs/traffic/lib/python3.8/site-packages/paramz/transformations.py:111: RuntimeWarning:overflow encountered in expm1\n"
     ]
    },
    {
     "name": "stdout",
     "output_type": "stream",
     "text": [
      "Optimization restart 1/5, f = 868.518328395802\n",
      "Optimization restart 2/5, f = 868.5182913467543\n",
      "Optimization restart 3/5, f = 1032.6961995592126\n",
      "Optimization restart 4/5, f = 1569.5285102340492\n"
     ]
    },
    {
     "name": "stderr",
     "output_type": "stream",
     "text": [
      " /Users/harrysonghurst/opt/anaconda3/envs/traffic/lib/python3.8/site-packages/GPy/kern/src/stationary.py:168: RuntimeWarning:overflow encountered in true_divide\n",
      " /Users/harrysonghurst/opt/anaconda3/envs/traffic/lib/python3.8/site-packages/GPy/kern/src/rbf.py:76: RuntimeWarning:invalid value encountered in multiply\n"
     ]
    },
    {
     "name": "stdout",
     "output_type": "stream",
     "text": [
      "Optimization restart 5/5, f = 868.5182913696648\n",
      "[[11.   8.   5.  70.   3.   1.5]]\n",
      "\n",
      "User function time loss called with 1 inputs to simulate\n",
      "\n",
      "Evaluating input: 1 of 1\n",
      "\n",
      " Retrying in 1 seconds\n"
     ]
    },
    {
     "name": "stderr",
     "output_type": "stream",
     "text": [
      " /Users/harrysonghurst/opt/anaconda3/envs/traffic/lib/python3.8/site-packages/paramz/transformations.py:111: RuntimeWarning:overflow encountered in expm1\n"
     ]
    },
    {
     "name": "stdout",
     "output_type": "stream",
     "text": [
      "Optimization restart 1/5, f = 872.7616630000978\n"
     ]
    },
    {
     "name": "stderr",
     "output_type": "stream",
     "text": [
      " /Users/harrysonghurst/opt/anaconda3/envs/traffic/lib/python3.8/site-packages/GPy/kern/src/rbf.py:52: RuntimeWarning:overflow encountered in square\n"
     ]
    },
    {
     "name": "stdout",
     "output_type": "stream",
     "text": [
      "Optimization restart 2/5, f = 872.7605317429772\n",
      "Optimization restart 3/5, f = 872.760531606345\n",
      "Optimization restart 4/5, f = 887.4853700432827\n",
      "Optimization restart 5/5, f = 1038.2947862786464\n",
      "[[20.         25.         12.68418224 45.46220052  1.          1.5       ]]\n",
      "\n",
      "User function time loss called with 1 inputs to simulate\n",
      "\n",
      "Evaluating input: 1 of 1\n",
      "\n",
      " Retrying in 1 seconds\n"
     ]
    },
    {
     "name": "stderr",
     "output_type": "stream",
     "text": [
      " /Users/harrysonghurst/opt/anaconda3/envs/traffic/lib/python3.8/site-packages/paramz/transformations.py:111: RuntimeWarning:overflow encountered in expm1\n",
      " /Users/harrysonghurst/opt/anaconda3/envs/traffic/lib/python3.8/site-packages/GPy/kern/src/rbf.py:52: RuntimeWarning:overflow encountered in square\n"
     ]
    },
    {
     "name": "stdout",
     "output_type": "stream",
     "text": [
      "Optimization restart 1/5, f = 876.7486884234913\n",
      "Optimization restart 2/5, f = 876.7486057916138\n",
      "Optimization restart 3/5, f = 917.6296247279192\n"
     ]
    },
    {
     "name": "stderr",
     "output_type": "stream",
     "text": [
      " /Users/harrysonghurst/opt/anaconda3/envs/traffic/lib/python3.8/site-packages/GPy/kern/src/stationary.py:168: RuntimeWarning:overflow encountered in true_divide\n",
      " /Users/harrysonghurst/opt/anaconda3/envs/traffic/lib/python3.8/site-packages/GPy/kern/src/rbf.py:76: RuntimeWarning:invalid value encountered in multiply\n"
     ]
    },
    {
     "name": "stdout",
     "output_type": "stream",
     "text": [
      "Optimization restart 4/5, f = 876.7486057914845\n",
      "Optimization restart 5/5, f = 876.7486057902025\n",
      "[[ 3.         25.         19.09935116 70.          1.          1.5       ]]\n",
      "\n",
      "User function time loss called with 1 inputs to simulate\n",
      "\n",
      "Evaluating input: 1 of 1\n",
      "\n",
      " Retrying in 1 seconds\n"
     ]
    },
    {
     "name": "stderr",
     "output_type": "stream",
     "text": [
      " /Users/harrysonghurst/opt/anaconda3/envs/traffic/lib/python3.8/site-packages/paramz/transformations.py:111: RuntimeWarning:overflow encountered in expm1\n"
     ]
    },
    {
     "name": "stdout",
     "output_type": "stream",
     "text": [
      "Optimization restart 1/5, f = 880.9012285801787\n",
      "Optimization restart 2/5, f = 880.9012274099048\n",
      "Optimization restart 3/5, f = 880.9012274092254\n",
      "Optimization restart 4/5, f = 1026.1998170072754\n"
     ]
    },
    {
     "name": "stderr",
     "output_type": "stream",
     "text": [
      " /Users/harrysonghurst/opt/anaconda3/envs/traffic/lib/python3.8/site-packages/GPy/kern/src/stationary.py:168: RuntimeWarning:overflow encountered in true_divide\n",
      " /Users/harrysonghurst/opt/anaconda3/envs/traffic/lib/python3.8/site-packages/GPy/kern/src/rbf.py:76: RuntimeWarning:invalid value encountered in multiply\n"
     ]
    },
    {
     "name": "stdout",
     "output_type": "stream",
     "text": [
      "Optimization restart 5/5, f = 880.9012274090281\n",
      "[[14.          8.         16.17616614 64.74679284  1.          5.        ]]\n",
      "\n",
      "User function time loss called with 1 inputs to simulate\n",
      "\n",
      "Evaluating input: 1 of 1\n",
      "\n",
      " Retrying in 1 seconds\n"
     ]
    },
    {
     "name": "stderr",
     "output_type": "stream",
     "text": [
      " /Users/harrysonghurst/opt/anaconda3/envs/traffic/lib/python3.8/site-packages/paramz/transformations.py:111: RuntimeWarning:overflow encountered in expm1\n"
     ]
    },
    {
     "name": "stdout",
     "output_type": "stream",
     "text": [
      "Optimization restart 1/5, f = 884.8441932128482\n",
      "Optimization restart 2/5, f = 1028.2735123273492\n"
     ]
    },
    {
     "name": "stderr",
     "output_type": "stream",
     "text": [
      " /Users/harrysonghurst/opt/anaconda3/envs/traffic/lib/python3.8/site-packages/GPy/kern/src/stationary.py:168: RuntimeWarning:overflow encountered in true_divide\n",
      " /Users/harrysonghurst/opt/anaconda3/envs/traffic/lib/python3.8/site-packages/GPy/kern/src/rbf.py:76: RuntimeWarning:invalid value encountered in multiply\n"
     ]
    },
    {
     "name": "stdout",
     "output_type": "stream",
     "text": [
      "Optimization restart 3/5, f = 900.4833199686757\n",
      "Optimization restart 4/5, f = 884.8441095008711\n",
      "Optimization restart 5/5, f = 900.4833658418929\n",
      "[[11. 25.  5. 70.  3.  5.]]\n",
      "\n",
      "User function time loss called with 1 inputs to simulate\n",
      "\n",
      "Evaluating input: 1 of 1\n",
      "\n",
      " Retrying in 1 seconds\n"
     ]
    },
    {
     "name": "stderr",
     "output_type": "stream",
     "text": [
      " /Users/harrysonghurst/opt/anaconda3/envs/traffic/lib/python3.8/site-packages/paramz/transformations.py:111: RuntimeWarning:overflow encountered in expm1\n"
     ]
    },
    {
     "name": "stdout",
     "output_type": "stream",
     "text": [
      "Optimization restart 1/5, f = 888.894563261337\n",
      "Optimization restart 2/5, f = 888.8944980630555\n",
      "Optimization restart 3/5, f = 1061.258915228194\n",
      "Optimization restart 4/5, f = 888.8944980631103\n",
      "Optimization restart 5/5, f = 888.894498064119\n",
      "[[20.         25.         16.24260803 70.          1.          1.5       ]]\n",
      "\n",
      "User function time loss called with 1 inputs to simulate\n",
      "\n",
      "Evaluating input: 1 of 1\n",
      "\n",
      " Retrying in 1 seconds\n"
     ]
    },
    {
     "name": "stderr",
     "output_type": "stream",
     "text": [
      " /Users/harrysonghurst/opt/anaconda3/envs/traffic/lib/python3.8/site-packages/paramz/transformations.py:111: RuntimeWarning:overflow encountered in expm1\n"
     ]
    },
    {
     "name": "stdout",
     "output_type": "stream",
     "text": [
      "Optimization restart 1/5, f = 892.8447899269165\n",
      "Optimization restart 2/5, f = 892.8447876790735\n",
      "Optimization restart 3/5, f = 892.844787678567\n",
      "Optimization restart 4/5, f = 892.8447877130917\n",
      "Optimization restart 5/5, f = 892.8447876780695\n",
      "[[ 3.         25.         15.01197063 30.          3.          5.        ]]\n",
      "\n",
      "User function time loss called with 1 inputs to simulate\n",
      "\n",
      "Evaluating input: 1 of 1\n",
      "\n",
      " Retrying in 1 seconds\n"
     ]
    },
    {
     "name": "stderr",
     "output_type": "stream",
     "text": [
      " /Users/harrysonghurst/opt/anaconda3/envs/traffic/lib/python3.8/site-packages/paramz/transformations.py:111: RuntimeWarning:overflow encountered in expm1\n"
     ]
    },
    {
     "name": "stdout",
     "output_type": "stream",
     "text": [
      "Optimization restart 1/5, f = 904.8103480850671\n",
      "Optimization restart 2/5, f = 904.8091752353012\n",
      "Optimization restart 3/5, f = 1079.08910240285\n",
      "Warning - optimization restart 4/5 failed\n"
     ]
    },
    {
     "name": "stderr",
     "output_type": "stream",
     "text": [
      " /Users/harrysonghurst/opt/anaconda3/envs/traffic/lib/python3.8/site-packages/GPy/kern/src/rbf.py:52: RuntimeWarning:overflow encountered in square\n",
      " /Users/harrysonghurst/opt/anaconda3/envs/traffic/lib/python3.8/site-packages/GPy/kern/src/stationary.py:168: RuntimeWarning:overflow encountered in true_divide\n",
      " /Users/harrysonghurst/opt/anaconda3/envs/traffic/lib/python3.8/site-packages/GPy/kern/src/rbf.py:76: RuntimeWarning:invalid value encountered in multiply\n",
      " /Users/harrysonghurst/opt/anaconda3/envs/traffic/lib/python3.8/site-packages/paramz/transformations.py:108: RuntimeWarning:invalid value encountered in greater\n",
      " /Users/harrysonghurst/opt/anaconda3/envs/traffic/lib/python3.8/site-packages/paramz/transformations.py:113: RuntimeWarning:invalid value encountered in greater\n"
     ]
    },
    {
     "name": "stdout",
     "output_type": "stream",
     "text": [
      "Optimization restart 5/5, f = 1079.0890114421125\n",
      "[[13.         25.          5.         45.01760862  3.          5.        ]]\n",
      "\n",
      "User function time loss called with 1 inputs to simulate\n",
      "\n",
      "Evaluating input: 1 of 1\n",
      "\n",
      " Retrying in 1 seconds\n"
     ]
    },
    {
     "name": "stderr",
     "output_type": "stream",
     "text": [
      " /Users/harrysonghurst/opt/anaconda3/envs/traffic/lib/python3.8/site-packages/paramz/transformations.py:111: RuntimeWarning:overflow encountered in expm1\n"
     ]
    },
    {
     "name": "stdout",
     "output_type": "stream",
     "text": [
      "Optimization restart 1/5, f = 908.8056987587703\n",
      "Optimization restart 2/5, f = 928.629286497528\n",
      "Optimization restart 3/5, f = 908.8056780123056\n",
      "Optimization restart 4/5, f = 908.8056883412603\n",
      "Optimization restart 5/5, f = 928.6292865100972\n",
      "[[20.         14.38717549 21.26083314 70.          1.          5.        ]]\n",
      "\n",
      "User function time loss called with 1 inputs to simulate\n",
      "\n",
      "Evaluating input: 1 of 1\n",
      "\n",
      " Retrying in 1 seconds\n"
     ]
    },
    {
     "name": "stderr",
     "output_type": "stream",
     "text": [
      " /Users/harrysonghurst/opt/anaconda3/envs/traffic/lib/python3.8/site-packages/paramz/transformations.py:111: RuntimeWarning:overflow encountered in expm1\n"
     ]
    },
    {
     "name": "stdout",
     "output_type": "stream",
     "text": [
      "Optimization restart 1/5, f = 912.8157547834246\n"
     ]
    },
    {
     "name": "stderr",
     "output_type": "stream",
     "text": [
      " /Users/harrysonghurst/opt/anaconda3/envs/traffic/lib/python3.8/site-packages/GPy/kern/src/stationary.py:168: RuntimeWarning:overflow encountered in true_divide\n",
      " /Users/harrysonghurst/opt/anaconda3/envs/traffic/lib/python3.8/site-packages/GPy/kern/src/rbf.py:76: RuntimeWarning:invalid value encountered in multiply\n"
     ]
    },
    {
     "name": "stdout",
     "output_type": "stream",
     "text": [
      "Optimization restart 2/5, f = 1061.0018563372018\n",
      "Optimization restart 3/5, f = 912.8157234991345\n",
      "Optimization restart 4/5, f = 932.5758119455975\n",
      "Optimization restart 5/5, f = 912.8157235009471\n",
      "[[20.         16.5292164  27.         36.78037208  1.          1.5       ]]\n",
      "\n",
      "User function time loss called with 1 inputs to simulate\n",
      "\n",
      "Evaluating input: 1 of 1\n",
      "\n",
      " Retrying in 1 seconds\n"
     ]
    },
    {
     "name": "stderr",
     "output_type": "stream",
     "text": [
      " /Users/harrysonghurst/opt/anaconda3/envs/traffic/lib/python3.8/site-packages/paramz/transformations.py:111: RuntimeWarning:overflow encountered in expm1\n"
     ]
    },
    {
     "name": "stdout",
     "output_type": "stream",
     "text": [
      "Optimization restart 1/5, f = 916.8636524487879\n",
      "Optimization restart 2/5, f = 916.8635482040179\n",
      "Optimization restart 3/5, f = 916.8635482038651\n",
      "Optimization restart 4/5, f = 916.8635482927306\n",
      "Optimization restart 5/5, f = 916.863548203871\n",
      "[[ 3.         25.         10.64410423 60.8770285   1.          5.        ]]\n",
      "\n",
      "User function time loss called with 1 inputs to simulate\n",
      "\n",
      "Evaluating input: 1 of 1\n",
      "\n",
      " Retrying in 1 seconds\n"
     ]
    },
    {
     "name": "stderr",
     "output_type": "stream",
     "text": [
      " /Users/harrysonghurst/opt/anaconda3/envs/traffic/lib/python3.8/site-packages/paramz/transformations.py:111: RuntimeWarning:overflow encountered in expm1\n"
     ]
    },
    {
     "name": "stdout",
     "output_type": "stream",
     "text": [
      "Optimization restart 1/5, f = 922.247072877855\n",
      "Optimization restart 2/5, f = 1102.095734020901\n",
      "Optimization restart 3/5, f = 1076.7659986244619\n"
     ]
    },
    {
     "name": "stderr",
     "output_type": "stream",
     "text": [
      " /Users/harrysonghurst/opt/anaconda3/envs/traffic/lib/python3.8/site-packages/GPy/kern/src/stationary.py:168: RuntimeWarning:overflow encountered in true_divide\n",
      " /Users/harrysonghurst/opt/anaconda3/envs/traffic/lib/python3.8/site-packages/GPy/kern/src/rbf.py:76: RuntimeWarning:invalid value encountered in multiply\n"
     ]
    },
    {
     "name": "stdout",
     "output_type": "stream",
     "text": [
      "Optimization restart 4/5, f = 940.9534932674502\n",
      "Optimization restart 5/5, f = 940.9535811000271\n",
      "[[20.          8.          5.         37.35711664  1.          1.5       ]]\n",
      "\n",
      "User function time loss called with 1 inputs to simulate\n",
      "\n",
      "Evaluating input: 1 of 1\n",
      "\n",
      " Retrying in 1 seconds\n"
     ]
    },
    {
     "name": "stderr",
     "output_type": "stream",
     "text": [
      " /Users/harrysonghurst/opt/anaconda3/envs/traffic/lib/python3.8/site-packages/paramz/transformations.py:111: RuntimeWarning:overflow encountered in expm1\n"
     ]
    },
    {
     "name": "stdout",
     "output_type": "stream",
     "text": [
      "Optimization restart 1/5, f = 926.3190422615864\n",
      "Optimization restart 2/5, f = 926.2942175388384\n",
      "Optimization restart 3/5, f = 926.2942175420663\n",
      "Optimization restart 4/5, f = 926.2942182798974\n",
      "Optimization restart 5/5, f = 945.0585649279184\n",
      "[[20.         15.83241479 10.84705696 30.          3.          5.        ]]\n",
      "\n",
      "User function time loss called with 1 inputs to simulate\n",
      "\n",
      "Evaluating input: 1 of 1\n",
      "\n",
      " Retrying in 1 seconds\n"
     ]
    },
    {
     "name": "stderr",
     "output_type": "stream",
     "text": [
      " /Users/harrysonghurst/opt/anaconda3/envs/traffic/lib/python3.8/site-packages/paramz/transformations.py:111: RuntimeWarning:overflow encountered in expm1\n"
     ]
    },
    {
     "name": "stdout",
     "output_type": "stream",
     "text": [
      "Optimization restart 1/5, f = 930.2537739288839\n",
      "Optimization restart 2/5, f = 930.253768687629\n",
      "Optimization restart 3/5, f = 930.2537686883201\n",
      "Optimization restart 4/5, f = 930.2537686879713\n",
      "Optimization restart 5/5, f = 930.2537686900894\n",
      "[[20.         25.         21.13427522 30.          3.          5.        ]]\n",
      "\n",
      "User function time loss called with 1 inputs to simulate\n",
      "\n",
      "Evaluating input: 1 of 1\n",
      "\n",
      " Retrying in 1 seconds\n"
     ]
    },
    {
     "name": "stderr",
     "output_type": "stream",
     "text": [
      " /Users/harrysonghurst/opt/anaconda3/envs/traffic/lib/python3.8/site-packages/paramz/transformations.py:111: RuntimeWarning:overflow encountered in expm1\n"
     ]
    },
    {
     "name": "stdout",
     "output_type": "stream",
     "text": [
      "Optimization restart 1/5, f = 934.1959720958437\n",
      "Optimization restart 2/5, f = 934.195971137771\n",
      "Optimization restart 3/5, f = 934.1959710901294\n",
      "Optimization restart 4/5, f = 934.1959710859937\n",
      "Optimization restart 5/5, f = 934.1959710857348\n",
      "[[20.        25.         5.        38.1724461  3.         1.5      ]]\n",
      "\n",
      "User function time loss called with 1 inputs to simulate\n",
      "\n",
      "Evaluating input: 1 of 1\n",
      "\n",
      " Retrying in 1 seconds\n"
     ]
    },
    {
     "name": "stderr",
     "output_type": "stream",
     "text": [
      " /Users/harrysonghurst/opt/anaconda3/envs/traffic/lib/python3.8/site-packages/paramz/transformations.py:111: RuntimeWarning:overflow encountered in expm1\n"
     ]
    },
    {
     "name": "stdout",
     "output_type": "stream",
     "text": [
      "Optimization restart 1/5, f = 938.201218210341\n",
      "Optimization restart 2/5, f = 938.2012119076999\n"
     ]
    },
    {
     "name": "stderr",
     "output_type": "stream",
     "text": [
      " /Users/harrysonghurst/opt/anaconda3/envs/traffic/lib/python3.8/site-packages/GPy/kern/src/rbf.py:52: RuntimeWarning:overflow encountered in square\n"
     ]
    },
    {
     "name": "stdout",
     "output_type": "stream",
     "text": [
      "Optimization restart 3/5, f = 938.201211911377\n",
      "Optimization restart 4/5, f = 1099.8760920634697\n"
     ]
    },
    {
     "name": "stderr",
     "output_type": "stream",
     "text": [
      " /Users/harrysonghurst/opt/anaconda3/envs/traffic/lib/python3.8/site-packages/GPy/kern/src/stationary.py:168: RuntimeWarning:overflow encountered in true_divide\n",
      " /Users/harrysonghurst/opt/anaconda3/envs/traffic/lib/python3.8/site-packages/GPy/kern/src/rbf.py:76: RuntimeWarning:invalid value encountered in multiply\n"
     ]
    },
    {
     "name": "stdout",
     "output_type": "stream",
     "text": [
      "Optimization restart 5/5, f = 938.2012119075727\n",
      "[[ 3.         8.        27.        38.4323636  1.         1.5      ]]\n",
      "\n",
      "User function time loss called with 1 inputs to simulate\n",
      "\n",
      "Evaluating input: 1 of 1\n",
      "\n",
      " Retrying in 1 seconds\n"
     ]
    },
    {
     "name": "stderr",
     "output_type": "stream",
     "text": [
      " /Users/harrysonghurst/opt/anaconda3/envs/traffic/lib/python3.8/site-packages/paramz/transformations.py:111: RuntimeWarning:overflow encountered in expm1\n"
     ]
    },
    {
     "name": "stdout",
     "output_type": "stream",
     "text": [
      "Optimization restart 1/5, f = 943.5437416911893\n",
      "Optimization restart 2/5, f = 1131.3627896848675\n",
      "Optimization restart 3/5, f = 943.5350503642417\n",
      "Optimization restart 4/5, f = 943.5350503629829\n",
      "Optimization restart 5/5, f = 943.5350503984489\n",
      "[[ 3.         16.60023312 27.         57.72302848  3.          1.5       ]]\n",
      "\n",
      "User function time loss called with 1 inputs to simulate\n",
      "\n",
      "Evaluating input: 1 of 1\n",
      "\n",
      " Retrying in 1 seconds\n"
     ]
    },
    {
     "name": "stderr",
     "output_type": "stream",
     "text": [
      " /Users/harrysonghurst/opt/anaconda3/envs/traffic/lib/python3.8/site-packages/paramz/transformations.py:111: RuntimeWarning:overflow encountered in expm1\n"
     ]
    },
    {
     "name": "stdout",
     "output_type": "stream",
     "text": [
      "Optimization restart 1/5, f = 947.5213222870134\n",
      "Optimization restart 2/5, f = 947.5211266377081\n",
      "Optimization restart 3/5, f = 947.5211266378908\n",
      "Optimization restart 4/5, f = 947.5211266380961\n",
      "Optimization restart 5/5, f = 947.5211266419697\n",
      "[[20.          8.          5.         61.51220121  3.          5.        ]]\n",
      "\n",
      "User function time loss called with 1 inputs to simulate\n",
      "\n",
      "Evaluating input: 1 of 1\n",
      "\n",
      " Retrying in 1 seconds\n"
     ]
    },
    {
     "name": "stderr",
     "output_type": "stream",
     "text": [
      " /Users/harrysonghurst/opt/anaconda3/envs/traffic/lib/python3.8/site-packages/paramz/transformations.py:111: RuntimeWarning:overflow encountered in expm1\n"
     ]
    },
    {
     "name": "stdout",
     "output_type": "stream",
     "text": [
      "Optimization restart 1/5, f = 951.4973044550753\n",
      "Optimization restart 2/5, f = 951.4973030370012\n",
      "Optimization restart 3/5, f = 951.497303036694\n",
      "Optimization restart 4/5, f = 951.497303830659\n",
      "Optimization restart 5/5, f = 1143.4379363363446\n",
      "[[ 3.          8.          5.         54.87001561  3.          5.        ]]\n",
      "\n",
      "User function time loss called with 1 inputs to simulate\n",
      "\n",
      "Evaluating input: 1 of 1\n",
      "\n",
      " Retrying in 1 seconds\n"
     ]
    },
    {
     "name": "stderr",
     "output_type": "stream",
     "text": [
      " /Users/harrysonghurst/opt/anaconda3/envs/traffic/lib/python3.8/site-packages/paramz/transformations.py:111: RuntimeWarning:overflow encountered in expm1\n"
     ]
    },
    {
     "name": "stdout",
     "output_type": "stream",
     "text": [
      "Optimization restart 1/5, f = 955.7186144234092\n"
     ]
    },
    {
     "name": "stderr",
     "output_type": "stream",
     "text": [
      " /Users/harrysonghurst/opt/anaconda3/envs/traffic/lib/python3.8/site-packages/GPy/kern/src/stationary.py:168: RuntimeWarning:overflow encountered in true_divide\n",
      " /Users/harrysonghurst/opt/anaconda3/envs/traffic/lib/python3.8/site-packages/GPy/kern/src/rbf.py:76: RuntimeWarning:invalid value encountered in multiply\n"
     ]
    },
    {
     "name": "stdout",
     "output_type": "stream",
     "text": [
      "Optimization restart 2/5, f = 979.8319003252194\n",
      "Optimization restart 3/5, f = 955.7160904186952\n",
      "Optimization restart 4/5, f = 1978.7037405724552\n",
      "Optimization restart 5/5, f = 1122.0853913270141\n",
      "[[ 3.         25.         27.         45.98646974  3.          5.        ]]\n",
      "\n",
      "User function time loss called with 1 inputs to simulate\n",
      "\n",
      "Evaluating input: 1 of 1\n",
      "\n",
      " Retrying in 1 seconds\n"
     ]
    },
    {
     "name": "stderr",
     "output_type": "stream",
     "text": [
      " /Users/harrysonghurst/opt/anaconda3/envs/traffic/lib/python3.8/site-packages/paramz/transformations.py:111: RuntimeWarning:overflow encountered in expm1\n"
     ]
    },
    {
     "name": "stdout",
     "output_type": "stream",
     "text": [
      "Optimization restart 1/5, f = 960.6010923464041\n",
      "Optimization restart 2/5, f = 980.6479663721617\n",
      "Optimization restart 3/5, f = 980.648054525324\n",
      "Optimization restart 4/5, f = 960.585374845783\n",
      "Optimization restart 5/5, f = 960.5853747928501\n",
      "[[ 3.         16.22179118  5.         50.84162565  1.          1.5       ]]\n",
      "\n",
      "User function time loss called with 1 inputs to simulate\n",
      "\n",
      "Evaluating input: 1 of 1\n",
      "\n",
      " Retrying in 1 seconds\n"
     ]
    },
    {
     "name": "stderr",
     "output_type": "stream",
     "text": [
      " /Users/harrysonghurst/opt/anaconda3/envs/traffic/lib/python3.8/site-packages/paramz/transformations.py:111: RuntimeWarning:overflow encountered in expm1\n"
     ]
    },
    {
     "name": "stdout",
     "output_type": "stream",
     "text": [
      "Optimization restart 1/5, f = 964.5060063770693\n",
      "Optimization restart 2/5, f = 964.5060036046792\n",
      "Optimization restart 3/5, f = 985.0564170898837\n",
      "Optimization restart 4/5, f = 1134.9977551623685\n"
     ]
    },
    {
     "name": "stderr",
     "output_type": "stream",
     "text": [
      " /Users/harrysonghurst/opt/anaconda3/envs/traffic/lib/python3.8/site-packages/GPy/kern/src/stationary.py:168: RuntimeWarning:overflow encountered in true_divide\n",
      " /Users/harrysonghurst/opt/anaconda3/envs/traffic/lib/python3.8/site-packages/GPy/kern/src/rbf.py:76: RuntimeWarning:invalid value encountered in multiply\n"
     ]
    },
    {
     "name": "stdout",
     "output_type": "stream",
     "text": [
      "Optimization restart 5/5, f = 964.5060031928369\n",
      "[[ 8.          8.         12.69765118 30.          1.          5.        ]]\n",
      "\n",
      "User function time loss called with 1 inputs to simulate\n",
      "\n",
      "Evaluating input: 1 of 1\n",
      "\n",
      " Retrying in 1 seconds\n"
     ]
    },
    {
     "name": "stderr",
     "output_type": "stream",
     "text": [
      " /Users/harrysonghurst/opt/anaconda3/envs/traffic/lib/python3.8/site-packages/paramz/transformations.py:111: RuntimeWarning:overflow encountered in expm1\n"
     ]
    },
    {
     "name": "stdout",
     "output_type": "stream",
     "text": [
      "Optimization restart 1/5, f = 968.7235178040683\n",
      "Optimization restart 2/5, f = 968.7227861888396\n",
      "Optimization restart 3/5, f = 1171.9656475745924\n",
      "Optimization restart 4/5, f = 1171.9657385277096\n",
      "Optimization restart 5/5, f = 1199.1332416457367\n",
      "[[12.          8.         19.29424704 53.43735762  3.          1.5       ]]\n",
      "\n",
      "User function time loss called with 1 inputs to simulate\n",
      "\n",
      "Evaluating input: 1 of 1\n",
      "\n",
      " Retrying in 1 seconds\n"
     ]
    },
    {
     "name": "stderr",
     "output_type": "stream",
     "text": [
      " /Users/harrysonghurst/opt/anaconda3/envs/traffic/lib/python3.8/site-packages/paramz/transformations.py:111: RuntimeWarning:overflow encountered in expm1\n"
     ]
    },
    {
     "name": "stdout",
     "output_type": "stream",
     "text": [
      "Optimization restart 1/5, f = 972.6248933645742\n",
      "Optimization restart 2/5, f = 972.6248272001012\n",
      "Optimization restart 3/5, f = 1177.6167344556175\n",
      "Optimization restart 4/5, f = 972.6248271114254\n",
      "Optimization restart 5/5, f = 972.6248271142387\n",
      "[[20.         25.         15.97137937 54.50627597  3.          5.        ]]\n",
      "\n",
      "User function time loss called with 1 inputs to simulate\n",
      "\n",
      "Evaluating input: 1 of 1\n",
      "\n",
      " Retrying in 1 seconds\n"
     ]
    },
    {
     "name": "stderr",
     "output_type": "stream",
     "text": [
      " /Users/harrysonghurst/opt/anaconda3/envs/traffic/lib/python3.8/site-packages/paramz/transformations.py:111: RuntimeWarning:overflow encountered in expm1\n"
     ]
    },
    {
     "name": "stdout",
     "output_type": "stream",
     "text": [
      "Optimization restart 1/5, f = 976.5857228442322\n",
      "Optimization restart 2/5, f = 1183.4357473996106\n",
      "Optimization restart 3/5, f = 976.5856893737106\n",
      "Optimization restart 4/5, f = 976.5856893729184\n",
      "Optimization restart 5/5, f = 1183.435803250887\n",
      "[[13.        25.        27.        52.0689068  3.         1.5      ]]\n",
      "\n",
      "User function time loss called with 1 inputs to simulate\n",
      "\n",
      "Evaluating input: 1 of 1\n",
      "\n",
      " Retrying in 1 seconds\n"
     ]
    },
    {
     "name": "stderr",
     "output_type": "stream",
     "text": [
      " /Users/harrysonghurst/opt/anaconda3/envs/traffic/lib/python3.8/site-packages/paramz/transformations.py:111: RuntimeWarning:overflow encountered in expm1\n"
     ]
    },
    {
     "name": "stdout",
     "output_type": "stream",
     "text": [
      "Optimization restart 1/5, f = 981.53477932031\n",
      "Optimization restart 2/5, f = 981.5335555779027\n",
      "Optimization restart 3/5, f = 1002.3237520424393\n",
      "Optimization restart 4/5, f = 981.5335555593642\n",
      "Optimization restart 5/5, f = 981.5335555600002\n",
      "[[20.         25.          5.         57.69840067  1.          1.5       ]]\n",
      "\n",
      "User function time loss called with 1 inputs to simulate\n",
      "\n",
      "Evaluating input: 1 of 1\n",
      "\n",
      " Retrying in 1 seconds\n"
     ]
    },
    {
     "name": "stderr",
     "output_type": "stream",
     "text": [
      " /Users/harrysonghurst/opt/anaconda3/envs/traffic/lib/python3.8/site-packages/paramz/transformations.py:111: RuntimeWarning:overflow encountered in expm1\n"
     ]
    },
    {
     "name": "stdout",
     "output_type": "stream",
     "text": [
      "Optimization restart 1/5, f = 985.4179428044397\n",
      "Optimization restart 2/5, f = 985.4179165056156\n",
      "Optimization restart 3/5, f = 985.4179165978303\n",
      "Optimization restart 4/5, f = 985.4179169628528\n",
      "Optimization restart 5/5, f = 1006.1306539001829\n",
      "[[10.         25.         21.37282394 30.          1.          1.5       ]]\n",
      "\n",
      "User function time loss called with 1 inputs to simulate\n",
      "\n",
      "Evaluating input: 1 of 1\n",
      "\n",
      " Retrying in 1 seconds\n"
     ]
    },
    {
     "name": "stderr",
     "output_type": "stream",
     "text": [
      " /Users/harrysonghurst/opt/anaconda3/envs/traffic/lib/python3.8/site-packages/paramz/transformations.py:111: RuntimeWarning:overflow encountered in expm1\n"
     ]
    },
    {
     "name": "stdout",
     "output_type": "stream",
     "text": [
      "Optimization restart 1/5, f = 989.493785592499\n",
      "Optimization restart 2/5, f = 989.4926786134065\n",
      "Optimization restart 3/5, f = 1200.7759008307382\n",
      "Optimization restart 4/5, f = 989.4926792645832\n",
      "Optimization restart 5/5, f = 1200.7758476208085\n",
      "[[ 3.         16.41643454  5.         70.          3.          1.5       ]]\n",
      "\n",
      "User function time loss called with 1 inputs to simulate\n",
      "\n",
      "Evaluating input: 1 of 1\n",
      "\n",
      " Retrying in 1 seconds\n"
     ]
    },
    {
     "name": "stderr",
     "output_type": "stream",
     "text": [
      " /Users/harrysonghurst/opt/anaconda3/envs/traffic/lib/python3.8/site-packages/paramz/transformations.py:111: RuntimeWarning:overflow encountered in expm1\n"
     ]
    },
    {
     "name": "stdout",
     "output_type": "stream",
     "text": [
      "Optimization restart 1/5, f = 993.6269748463314\n",
      "Optimization restart 2/5, f = 993.6268343090655\n",
      "Optimization restart 3/5, f = 993.6268342912073\n",
      "Optimization restart 4/5, f = 993.6268343746285\n",
      "Optimization restart 5/5, f = 1015.3353654893072\n",
      "[[ 3.          8.          5.         36.93738151  3.          1.5       ]]\n",
      "\n",
      "User function time loss called with 1 inputs to simulate\n",
      "\n",
      "Evaluating input: 1 of 1\n",
      "\n",
      " Retrying in 1 seconds\n"
     ]
    },
    {
     "name": "stderr",
     "output_type": "stream",
     "text": [
      " /Users/harrysonghurst/opt/anaconda3/envs/traffic/lib/python3.8/site-packages/paramz/transformations.py:111: RuntimeWarning:overflow encountered in expm1\n"
     ]
    },
    {
     "name": "stdout",
     "output_type": "stream",
     "text": [
      "Optimization restart 1/5, f = 997.5241420139513\n",
      "Optimization restart 2/5, f = 1212.0865152905003\n",
      "Optimization restart 3/5, f = 997.524142004889\n"
     ]
    },
    {
     "name": "stderr",
     "output_type": "stream",
     "text": [
      " /Users/harrysonghurst/opt/anaconda3/envs/traffic/lib/python3.8/site-packages/GPy/kern/src/rbf.py:52: RuntimeWarning:overflow encountered in square\n"
     ]
    },
    {
     "name": "stdout",
     "output_type": "stream",
     "text": [
      "Optimization restart 4/5, f = 997.524141990319\n"
     ]
    },
    {
     "name": "stderr",
     "output_type": "stream",
     "text": [
      " /Users/harrysonghurst/opt/anaconda3/envs/traffic/lib/python3.8/site-packages/GPy/kern/src/stationary.py:168: RuntimeWarning:overflow encountered in true_divide\n",
      " /Users/harrysonghurst/opt/anaconda3/envs/traffic/lib/python3.8/site-packages/GPy/kern/src/rbf.py:76: RuntimeWarning:invalid value encountered in multiply\n"
     ]
    },
    {
     "name": "stdout",
     "output_type": "stream",
     "text": [
      "Optimization restart 5/5, f = 1182.751995404431\n",
      "[[20.         12.73983212 11.61896238 39.08244483  3.          1.5       ]]\n",
      "\n",
      "User function time loss called with 1 inputs to simulate\n",
      "\n",
      "Evaluating input: 1 of 1\n",
      "\n",
      " Retrying in 1 seconds\n"
     ]
    },
    {
     "name": "stderr",
     "output_type": "stream",
     "text": [
      " /Users/harrysonghurst/opt/anaconda3/envs/traffic/lib/python3.8/site-packages/paramz/transformations.py:111: RuntimeWarning:overflow encountered in expm1\n"
     ]
    },
    {
     "name": "stdout",
     "output_type": "stream",
     "text": [
      "Optimization restart 1/5, f = 1001.3920432514179\n",
      "Optimization restart 2/5, f = 1001.3919810444174\n",
      "Optimization restart 3/5, f = 1001.3919812250908\n"
     ]
    },
    {
     "name": "stderr",
     "output_type": "stream",
     "text": [
      " /Users/harrysonghurst/opt/anaconda3/envs/traffic/lib/python3.8/site-packages/GPy/kern/src/stationary.py:168: RuntimeWarning:overflow encountered in true_divide\n",
      " /Users/harrysonghurst/opt/anaconda3/envs/traffic/lib/python3.8/site-packages/GPy/kern/src/rbf.py:76: RuntimeWarning:invalid value encountered in multiply\n"
     ]
    },
    {
     "name": "stdout",
     "output_type": "stream",
     "text": [
      "Optimization restart 4/5, f = 1036.3918513263873\n",
      "Optimization restart 5/5, f = 1023.3362117229736\n",
      "[[ 3.          8.         13.03373229 45.96812607  3.          1.5       ]]\n",
      "\n",
      "User function time loss called with 1 inputs to simulate\n",
      "\n",
      "Evaluating input: 1 of 1\n",
      "\n",
      " Retrying in 1 seconds\n"
     ]
    },
    {
     "name": "stderr",
     "output_type": "stream",
     "text": [
      " /Users/harrysonghurst/opt/anaconda3/envs/traffic/lib/python3.8/site-packages/paramz/transformations.py:111: RuntimeWarning:overflow encountered in expm1\n"
     ]
    },
    {
     "name": "stdout",
     "output_type": "stream",
     "text": [
      "Optimization restart 1/5, f = 1005.4488540412862\n",
      "Optimization restart 2/5, f = 1005.4487312239802\n",
      "Optimization restart 3/5, f = 1027.3779563396056\n",
      "Optimization restart 4/5, f = 1223.5818448965897\n",
      "Optimization restart 5/5, f = 1005.4487312240057\n",
      "[[13.          8.         11.81669436 45.47650985  3.          5.        ]]\n",
      "\n",
      "User function time loss called with 1 inputs to simulate\n",
      "\n",
      "Evaluating input: 1 of 1\n",
      "\n",
      " Retrying in 1 seconds\n"
     ]
    },
    {
     "name": "stderr",
     "output_type": "stream",
     "text": [
      " /Users/harrysonghurst/opt/anaconda3/envs/traffic/lib/python3.8/site-packages/paramz/transformations.py:111: RuntimeWarning:overflow encountered in expm1\n"
     ]
    },
    {
     "name": "stdout",
     "output_type": "stream",
     "text": [
      "Optimization restart 1/5, f = 1009.3062453180315\n",
      "Optimization restart 2/5, f = 1009.306222480606\n",
      "Optimization restart 3/5, f = 1009.3062224779221\n",
      "Optimization restart 4/5, f = 1031.3400700096693\n",
      "Optimization restart 5/5, f = 1009.3062357994241\n",
      "[[ 3.        8.        5.       61.818334  1.        1.5     ]]\n",
      "\n",
      "User function time loss called with 1 inputs to simulate\n",
      "\n",
      "Evaluating input: 1 of 1\n",
      "\n",
      " Retrying in 1 seconds\n"
     ]
    },
    {
     "name": "stderr",
     "output_type": "stream",
     "text": [
      " /Users/harrysonghurst/opt/anaconda3/envs/traffic/lib/python3.8/site-packages/paramz/transformations.py:111: RuntimeWarning:overflow encountered in expm1\n"
     ]
    },
    {
     "name": "stdout",
     "output_type": "stream",
     "text": [
      "Optimization restart 1/5, f = 1013.1905456444924\n",
      "Optimization restart 2/5, f = 1013.1904255121669\n",
      "Optimization restart 3/5, f = 1013.1904252205177\n",
      "Optimization restart 4/5, f = 1013.1904252205445\n"
     ]
    },
    {
     "name": "stderr",
     "output_type": "stream",
     "text": [
      " /Users/harrysonghurst/opt/anaconda3/envs/traffic/lib/python3.8/site-packages/GPy/kern/src/rbf.py:52: RuntimeWarning:overflow encountered in square\n"
     ]
    },
    {
     "name": "stdout",
     "output_type": "stream",
     "text": [
      "Optimization restart 5/5, f = 1013.1904252205509\n",
      "[[20.         17.74727838 27.         54.61942946  1.          1.5       ]]\n",
      "\n",
      "User function time loss called with 1 inputs to simulate\n",
      "\n",
      "Evaluating input: 1 of 1\n",
      "\n",
      " Retrying in 1 seconds\n"
     ]
    },
    {
     "name": "stderr",
     "output_type": "stream",
     "text": [
      " /Users/harrysonghurst/opt/anaconda3/envs/traffic/lib/python3.8/site-packages/paramz/transformations.py:111: RuntimeWarning:overflow encountered in expm1\n"
     ]
    },
    {
     "name": "stdout",
     "output_type": "stream",
     "text": [
      "Optimization restart 1/5, f = 1017.0013073064777\n",
      "Optimization restart 2/5, f = 1038.8335656749407\n",
      "Optimization restart 3/5, f = 1241.404485324256\n",
      "Optimization restart 4/5, f = 1038.8334693476393\n",
      "Optimization restart 5/5, f = 1017.0012914938419\n",
      "[[ 3.          8.         17.82552529 30.          3.          5.        ]]\n",
      "\n",
      "User function time loss called with 1 inputs to simulate\n",
      "\n",
      "Evaluating input: 1 of 1\n",
      "\n",
      " Retrying in 1 seconds\n"
     ]
    },
    {
     "name": "stderr",
     "output_type": "stream",
     "text": [
      " /Users/harrysonghurst/opt/anaconda3/envs/traffic/lib/python3.8/site-packages/paramz/transformations.py:111: RuntimeWarning:overflow encountered in expm1\n"
     ]
    },
    {
     "name": "stdout",
     "output_type": "stream",
     "text": [
      "Optimization restart 1/5, f = 1021.3827501602595\n",
      "Optimization restart 2/5, f = 1246.801758043493\n",
      "Optimization restart 3/5, f = 1042.740803134034\n",
      "Optimization restart 4/5, f = 1021.3809272394881\n",
      "Optimization restart 5/5, f = 1021.3809272394069\n",
      "[[ 3.         25.         21.27031578 60.38877465  3.          5.        ]]\n",
      "\n",
      "User function time loss called with 1 inputs to simulate\n",
      "\n",
      "Evaluating input: 1 of 1\n",
      "\n",
      " Retrying in 1 seconds\n"
     ]
    },
    {
     "name": "stderr",
     "output_type": "stream",
     "text": [
      " /Users/harrysonghurst/opt/anaconda3/envs/traffic/lib/python3.8/site-packages/paramz/transformations.py:111: RuntimeWarning:overflow encountered in expm1\n"
     ]
    },
    {
     "name": "stdout",
     "output_type": "stream",
     "text": [
      "Optimization restart 1/5, f = 1025.6011715528334\n",
      "Optimization restart 2/5, f = 1255.3457740855383\n",
      "Optimization restart 3/5, f = 1048.0440703901277\n",
      "Optimization restart 4/5, f = 1541.9808869752947\n"
     ]
    },
    {
     "name": "stderr",
     "output_type": "stream",
     "text": [
      " /Users/harrysonghurst/opt/anaconda3/envs/traffic/lib/python3.8/site-packages/GPy/kern/src/stationary.py:168: RuntimeWarning:overflow encountered in true_divide\n",
      " /Users/harrysonghurst/opt/anaconda3/envs/traffic/lib/python3.8/site-packages/GPy/kern/src/rbf.py:76: RuntimeWarning:invalid value encountered in multiply\n"
     ]
    },
    {
     "name": "stdout",
     "output_type": "stream",
     "text": [
      "Optimization restart 5/5, f = 1025.596460804007\n",
      "[[ 9.         17.28537118 27.         48.1165087   1.          1.5       ]]\n",
      "\n",
      "User function time loss called with 1 inputs to simulate\n",
      "\n",
      "Evaluating input: 1 of 1\n",
      "\n",
      " Retrying in 1 seconds\n"
     ]
    },
    {
     "name": "stderr",
     "output_type": "stream",
     "text": [
      " /Users/harrysonghurst/opt/anaconda3/envs/traffic/lib/python3.8/site-packages/paramz/transformations.py:111: RuntimeWarning:overflow encountered in expm1\n"
     ]
    },
    {
     "name": "stdout",
     "output_type": "stream",
     "text": [
      "Optimization restart 1/5, f = 1029.3985662094751\n",
      "Optimization restart 2/5, f = 1261.144589225048\n",
      "Optimization restart 3/5, f = 1029.3980356362779\n"
     ]
    },
    {
     "name": "stderr",
     "output_type": "stream",
     "text": [
      " /Users/harrysonghurst/opt/anaconda3/envs/traffic/lib/python3.8/site-packages/GPy/kern/src/stationary.py:168: RuntimeWarning:overflow encountered in true_divide\n",
      " /Users/harrysonghurst/opt/anaconda3/envs/traffic/lib/python3.8/site-packages/GPy/kern/src/rbf.py:76: RuntimeWarning:invalid value encountered in multiply\n"
     ]
    },
    {
     "name": "stdout",
     "output_type": "stream",
     "text": [
      "Optimization restart 4/5, f = 1224.0477514971763\n",
      "Optimization restart 5/5, f = 1193.1022095468\n",
      "[[ 3.         11.79524319 27.         49.07101995  3.          5.        ]]\n",
      "\n",
      "User function time loss called with 1 inputs to simulate\n",
      "\n",
      "Evaluating input: 1 of 1\n",
      "\n",
      " Retrying in 1 seconds\n"
     ]
    },
    {
     "name": "stderr",
     "output_type": "stream",
     "text": [
      " /Users/harrysonghurst/opt/anaconda3/envs/traffic/lib/python3.8/site-packages/paramz/transformations.py:111: RuntimeWarning:overflow encountered in expm1\n"
     ]
    },
    {
     "name": "stdout",
     "output_type": "stream",
     "text": [
      "Optimization restart 1/5, f = 1033.3620206241285\n",
      "Optimization restart 2/5, f = 1033.3581846251357\n",
      "Optimization restart 3/5, f = 1033.3581847289333\n"
     ]
    },
    {
     "name": "stderr",
     "output_type": "stream",
     "text": [
      " /Users/harrysonghurst/opt/anaconda3/envs/traffic/lib/python3.8/site-packages/GPy/kern/src/stationary.py:168: RuntimeWarning:overflow encountered in true_divide\n",
      " /Users/harrysonghurst/opt/anaconda3/envs/traffic/lib/python3.8/site-packages/GPy/kern/src/rbf.py:76: RuntimeWarning:invalid value encountered in multiply\n"
     ]
    },
    {
     "name": "stdout",
     "output_type": "stream",
     "text": [
      "Optimization restart 4/5, f = 1234.6754316453912\n",
      "Optimization restart 5/5, f = 1059.1057968756204\n",
      "[[ 3.         25.         11.87105022 30.          1.          1.5       ]]\n",
      "\n",
      "User function time loss called with 1 inputs to simulate\n",
      "\n",
      "Evaluating input: 1 of 1\n",
      "\n",
      " Retrying in 1 seconds\n"
     ]
    },
    {
     "name": "stderr",
     "output_type": "stream",
     "text": [
      " /Users/harrysonghurst/opt/anaconda3/envs/traffic/lib/python3.8/site-packages/paramz/transformations.py:111: RuntimeWarning:overflow encountered in expm1\n"
     ]
    },
    {
     "name": "stdout",
     "output_type": "stream",
     "text": [
      "Optimization restart 1/5, f = 1037.1754214598325\n",
      "Optimization restart 2/5, f = 1274.5556623050877\n",
      "Optimization restart 3/5, f = 1037.1754211822554\n",
      "Optimization restart 4/5, f = 1037.1754211711068\n",
      "Optimization restart 5/5, f = 1062.9135154826024\n",
      "[[20.         20.90330953  5.         70.          1.          5.        ]]\n",
      "\n",
      "User function time loss called with 1 inputs to simulate\n",
      "\n",
      "Evaluating input: 1 of 1\n",
      "\n",
      " Retrying in 1 seconds\n"
     ]
    },
    {
     "name": "stderr",
     "output_type": "stream",
     "text": [
      " /Users/harrysonghurst/opt/anaconda3/envs/traffic/lib/python3.8/site-packages/paramz/transformations.py:111: RuntimeWarning:overflow encountered in expm1\n"
     ]
    },
    {
     "name": "stdout",
     "output_type": "stream",
     "text": [
      "Optimization restart 1/5, f = 1040.9934596934313\n",
      "Optimization restart 2/5, f = 1040.9934595702302\n",
      "Optimization restart 3/5, f = 1040.993459884342\n",
      "Optimization restart 4/5, f = 1040.9934595138848\n"
     ]
    },
    {
     "name": "stderr",
     "output_type": "stream",
     "text": [
      " /Users/harrysonghurst/opt/anaconda3/envs/traffic/lib/python3.8/site-packages/GPy/kern/src/rbf.py:52: RuntimeWarning:overflow encountered in square\n",
      " /Users/harrysonghurst/opt/anaconda3/envs/traffic/lib/python3.8/site-packages/GPy/kern/src/stationary.py:168: RuntimeWarning:overflow encountered in true_divide\n",
      " /Users/harrysonghurst/opt/anaconda3/envs/traffic/lib/python3.8/site-packages/GPy/kern/src/rbf.py:76: RuntimeWarning:invalid value encountered in multiply\n"
     ]
    },
    {
     "name": "stdout",
     "output_type": "stream",
     "text": [
      "Optimization restart 5/5, f = 1207.2399362926742\n",
      "[[ 3.         25.          5.         39.97496428  1.          5.        ]]\n",
      "\n",
      "User function time loss called with 1 inputs to simulate\n",
      "\n",
      "Evaluating input: 1 of 1\n",
      "\n",
      " Retrying in 1 seconds\n"
     ]
    },
    {
     "name": "stderr",
     "output_type": "stream",
     "text": [
      " /Users/harrysonghurst/opt/anaconda3/envs/traffic/lib/python3.8/site-packages/paramz/transformations.py:111: RuntimeWarning:overflow encountered in expm1\n"
     ]
    },
    {
     "name": "stdout",
     "output_type": "stream",
     "text": [
      "Optimization restart 1/5, f = 1045.8600546820305\n",
      "Optimization restart 2/5, f = 1070.5216850379493\n",
      "Optimization restart 3/5, f = 1045.8599940622476\n",
      "Optimization restart 4/5, f = 1045.8599940371203\n",
      "Warning - optimization restart 5/5 failed\n",
      "[[11.         25.         18.96493593 70.          3.          5.        ]]\n",
      "\n",
      "User function time loss called with 1 inputs to simulate\n",
      "\n",
      "Evaluating input: 1 of 1\n",
      "\n"
     ]
    },
    {
     "name": "stderr",
     "output_type": "stream",
     "text": [
      " /Users/harrysonghurst/opt/anaconda3/envs/traffic/lib/python3.8/site-packages/GPy/kern/src/stationary.py:168: RuntimeWarning:overflow encountered in true_divide\n",
      " /Users/harrysonghurst/opt/anaconda3/envs/traffic/lib/python3.8/site-packages/GPy/kern/src/rbf.py:76: RuntimeWarning:invalid value encountered in multiply\n",
      " /Users/harrysonghurst/opt/anaconda3/envs/traffic/lib/python3.8/site-packages/paramz/transformations.py:108: RuntimeWarning:invalid value encountered in greater\n",
      " /Users/harrysonghurst/opt/anaconda3/envs/traffic/lib/python3.8/site-packages/paramz/transformations.py:113: RuntimeWarning:invalid value encountered in greater\n"
     ]
    },
    {
     "name": "stdout",
     "output_type": "stream",
     "text": [
      " Retrying in 1 seconds\n"
     ]
    },
    {
     "name": "stderr",
     "output_type": "stream",
     "text": [
      " /Users/harrysonghurst/opt/anaconda3/envs/traffic/lib/python3.8/site-packages/paramz/transformations.py:111: RuntimeWarning:overflow encountered in expm1\n"
     ]
    },
    {
     "name": "stdout",
     "output_type": "stream",
     "text": [
      "Optimization restart 1/5, f = 1049.813644018022\n",
      "Optimization restart 2/5, f = 1049.812866027011\n",
      "Optimization restart 3/5, f = 1049.8128660270404\n",
      "Optimization restart 4/5, f = 1074.4687704908918\n",
      "Optimization restart 5/5, f = 1049.81286602742\n",
      "[[ 7.          8.         12.57539485 70.          1.          5.        ]]\n",
      "\n",
      "User function time loss called with 1 inputs to simulate\n",
      "\n",
      "Evaluating input: 1 of 1\n",
      "\n",
      " Retrying in 1 seconds\n"
     ]
    },
    {
     "name": "stderr",
     "output_type": "stream",
     "text": [
      " /Users/harrysonghurst/opt/anaconda3/envs/traffic/lib/python3.8/site-packages/paramz/transformations.py:111: RuntimeWarning:overflow encountered in expm1\n"
     ]
    },
    {
     "name": "stdout",
     "output_type": "stream",
     "text": [
      "Optimization restart 1/5, f = 1053.629256811976\n",
      "Optimization restart 2/5, f = 1053.6292451971922\n",
      "Optimization restart 3/5, f = 1297.5558444815542\n",
      "Optimization restart 4/5, f = 1053.6292453100637\n",
      "Optimization restart 5/5, f = 1053.629245197289\n",
      "[[20.         13.16072118 20.24929574 61.8113674   3.          5.        ]]\n",
      "\n",
      "User function time loss called with 1 inputs to simulate\n",
      "\n",
      "Evaluating input: 1 of 1\n",
      "\n",
      " Retrying in 1 seconds\n"
     ]
    },
    {
     "name": "stderr",
     "output_type": "stream",
     "text": [
      " /Users/harrysonghurst/opt/anaconda3/envs/traffic/lib/python3.8/site-packages/paramz/transformations.py:111: RuntimeWarning:overflow encountered in expm1\n"
     ]
    },
    {
     "name": "stdout",
     "output_type": "stream",
     "text": [
      "Optimization restart 1/5, f = 1057.4122404212562\n",
      "Optimization restart 2/5, f = 1082.3078365563329\n",
      "Optimization restart 3/5, f = 1303.2326871380933\n",
      "Optimization restart 4/5, f = 1082.3078106345797\n",
      "Optimization restart 5/5, f = 1057.4121313133546\n",
      "[[14.         14.05532118  5.         56.29401168  3.          1.5       ]]\n",
      "\n",
      "User function time loss called with 1 inputs to simulate\n",
      "\n",
      "Evaluating input: 1 of 1\n",
      "\n",
      " Retrying in 1 seconds\n"
     ]
    },
    {
     "name": "stderr",
     "output_type": "stream",
     "text": [
      " /Users/harrysonghurst/opt/anaconda3/envs/traffic/lib/python3.8/site-packages/paramz/transformations.py:111: RuntimeWarning:overflow encountered in expm1\n"
     ]
    },
    {
     "name": "stdout",
     "output_type": "stream",
     "text": [
      "Optimization restart 1/5, f = 1061.2979242122615\n",
      "Optimization restart 2/5, f = 1061.2977631440872\n",
      "Optimization restart 3/5, f = 1061.2977631483116\n",
      "Optimization restart 4/5, f = 1061.2977634240772\n",
      "Optimization restart 5/5, f = 1061.297763149539\n",
      "[[10.         19.34162157 21.38807249 30.          3.          1.5       ]]\n",
      "\n",
      "User function time loss called with 1 inputs to simulate\n",
      "\n",
      "Evaluating input: 1 of 1\n",
      "\n",
      " Retrying in 1 seconds\n"
     ]
    },
    {
     "name": "stderr",
     "output_type": "stream",
     "text": [
      " /Users/harrysonghurst/opt/anaconda3/envs/traffic/lib/python3.8/site-packages/paramz/transformations.py:111: RuntimeWarning:overflow encountered in expm1\n",
      " /Users/harrysonghurst/opt/anaconda3/envs/traffic/lib/python3.8/site-packages/GPy/kern/src/stationary.py:168: RuntimeWarning:overflow encountered in true_divide\n",
      " /Users/harrysonghurst/opt/anaconda3/envs/traffic/lib/python3.8/site-packages/GPy/kern/src/rbf.py:76: RuntimeWarning:invalid value encountered in multiply\n",
      " /Users/harrysonghurst/opt/anaconda3/envs/traffic/lib/python3.8/site-packages/paramz/transformations.py:108: RuntimeWarning:invalid value encountered in greater\n"
     ]
    },
    {
     "name": "stdout",
     "output_type": "stream",
     "text": [
      "Optimization restart 1/5, f = 1066.328795321969\n",
      "Warning - optimization restart 2/5 failed\n"
     ]
    },
    {
     "name": "stderr",
     "output_type": "stream",
     "text": [
      " /Users/harrysonghurst/opt/anaconda3/envs/traffic/lib/python3.8/site-packages/paramz/transformations.py:113: RuntimeWarning:invalid value encountered in greater\n"
     ]
    },
    {
     "name": "stdout",
     "output_type": "stream",
     "text": [
      "Optimization restart 3/5, f = 1066.3287849433955\n",
      "Optimization restart 4/5, f = 1066.3287849435615\n",
      "Optimization restart 5/5, f = 1066.328785757927\n",
      "[[ 3.         25.         17.91847064 47.87673236  1.          5.        ]]\n",
      "\n",
      "User function time loss called with 1 inputs to simulate\n",
      "\n",
      "Evaluating input: 1 of 1\n",
      "\n",
      " Retrying in 1 seconds\n"
     ]
    },
    {
     "name": "stderr",
     "output_type": "stream",
     "text": [
      " /Users/harrysonghurst/opt/anaconda3/envs/traffic/lib/python3.8/site-packages/paramz/transformations.py:111: RuntimeWarning:overflow encountered in expm1\n",
      " /Users/harrysonghurst/opt/anaconda3/envs/traffic/lib/python3.8/site-packages/GPy/kern/src/rbf.py:52: RuntimeWarning:overflow encountered in square\n"
     ]
    },
    {
     "name": "stdout",
     "output_type": "stream",
     "text": [
      "Optimization restart 1/5, f = 1070.0699439003802\n",
      "Optimization restart 2/5, f = 1094.732886998444\n",
      "Optimization restart 3/5, f = 1094.7328442022215\n",
      "Optimization restart 4/5, f = 1323.6444390338336\n",
      "Optimization restart 5/5, f = 1094.73279729346\n",
      "[[20.          8.         11.33853463 36.63751703  1.          5.        ]]\n",
      "\n",
      "User function time loss called with 1 inputs to simulate\n",
      "\n",
      "Evaluating input: 1 of 1\n",
      "\n",
      " Retrying in 1 seconds\n"
     ]
    },
    {
     "name": "stderr",
     "output_type": "stream",
     "text": [
      " /Users/harrysonghurst/opt/anaconda3/envs/traffic/lib/python3.8/site-packages/paramz/transformations.py:111: RuntimeWarning:overflow encountered in expm1\n"
     ]
    },
    {
     "name": "stdout",
     "output_type": "stream",
     "text": [
      "Optimization restart 1/5, f = 1073.8444593761692\n",
      "Optimization restart 2/5, f = 1098.8167584348682\n",
      "Optimization restart 3/5, f = 1073.844246423274\n",
      "Optimization restart 4/5, f = 1329.2841657707243\n",
      "Optimization restart 5/5, f = 1098.8166290526099\n",
      "[[11.         25.         12.01724012 56.53520399  3.          1.5       ]]\n",
      "\n",
      "User function time loss called with 1 inputs to simulate\n",
      "\n",
      "Evaluating input: 1 of 1\n",
      "\n",
      " Retrying in 1 seconds\n"
     ]
    },
    {
     "name": "stderr",
     "output_type": "stream",
     "text": [
      " /Users/harrysonghurst/opt/anaconda3/envs/traffic/lib/python3.8/site-packages/paramz/transformations.py:111: RuntimeWarning:overflow encountered in expm1\n"
     ]
    },
    {
     "name": "stdout",
     "output_type": "stream",
     "text": [
      "Optimization restart 1/5, f = 1077.582287101186\n",
      "Optimization restart 2/5, f = 1077.5821247091055\n",
      "Optimization restart 3/5, f = 1104.6123984370588\n",
      "Optimization restart 4/5, f = 1334.9762332740138\n",
      "Optimization restart 5/5, f = 1077.5821250030956\n",
      "[[20.          8.         18.74617544 62.57459625  3.          1.5       ]]\n",
      "\n",
      "User function time loss called with 1 inputs to simulate\n",
      "\n",
      "Evaluating input: 1 of 1\n",
      "\n",
      " Retrying in 1 seconds\n"
     ]
    },
    {
     "name": "stderr",
     "output_type": "stream",
     "text": [
      " /Users/harrysonghurst/opt/anaconda3/envs/traffic/lib/python3.8/site-packages/paramz/transformations.py:111: RuntimeWarning:overflow encountered in expm1\n"
     ]
    },
    {
     "name": "stdout",
     "output_type": "stream",
     "text": [
      "Optimization restart 1/5, f = 1081.3746303082798\n",
      "Optimization restart 2/5, f = 1081.3745337992716\n",
      "Optimization restart 3/5, f = 1108.521866369061\n",
      "Optimization restart 4/5, f = 1081.3745337976713\n",
      "Optimization restart 5/5, f = 1081.3745340766197\n",
      "[[10.         14.20439299  5.         37.86884535  1.          5.        ]]\n",
      "\n",
      "User function time loss called with 1 inputs to simulate\n",
      "\n",
      "Evaluating input: 1 of 1\n",
      "\n",
      " Retrying in 1 seconds\n"
     ]
    },
    {
     "name": "stderr",
     "output_type": "stream",
     "text": [
      " /Users/harrysonghurst/opt/anaconda3/envs/traffic/lib/python3.8/site-packages/paramz/transformations.py:111: RuntimeWarning:overflow encountered in expm1\n"
     ]
    },
    {
     "name": "stdout",
     "output_type": "stream",
     "text": [
      "Optimization restart 1/5, f = 1085.098474568392\n",
      "Optimization restart 2/5, f = 1085.0983898526176\n",
      "Optimization restart 3/5, f = 1112.2963435631757\n",
      "Optimization restart 4/5, f = 1085.098389785751\n",
      "Optimization restart 5/5, f = 1085.0983898093411\n",
      "[[20.         25.         21.14536366 36.51578631  1.          1.5       ]]\n",
      "\n",
      "User function time loss called with 1 inputs to simulate\n",
      "\n",
      "Evaluating input: 1 of 1\n",
      "\n",
      " Retrying in 1 seconds\n"
     ]
    },
    {
     "name": "stderr",
     "output_type": "stream",
     "text": [
      " /Users/harrysonghurst/opt/anaconda3/envs/traffic/lib/python3.8/site-packages/paramz/transformations.py:111: RuntimeWarning:overflow encountered in expm1\n"
     ]
    },
    {
     "name": "stdout",
     "output_type": "stream",
     "text": [
      "Optimization restart 1/5, f = 1089.1747715354754\n",
      "Optimization restart 2/5, f = 1116.329046762516\n",
      "Optimization restart 3/5, f = 1116.3289102988886\n",
      "Optimization restart 4/5, f = 1116.3291917688287\n",
      "Optimization restart 5/5, f = 1089.1737957060311\n",
      "[[20.         25.         27.         37.96808253  3.          5.        ]]\n",
      "\n",
      "User function time loss called with 1 inputs to simulate\n",
      "\n",
      "Evaluating input: 1 of 1\n",
      "\n",
      " Retrying in 1 seconds\n"
     ]
    },
    {
     "name": "stderr",
     "output_type": "stream",
     "text": [
      " /Users/harrysonghurst/opt/anaconda3/envs/traffic/lib/python3.8/site-packages/paramz/transformations.py:111: RuntimeWarning:overflow encountered in expm1\n"
     ]
    },
    {
     "name": "stdout",
     "output_type": "stream",
     "text": [
      "Optimization restart 1/5, f = 1093.2348834763145\n",
      "Optimization restart 2/5, f = 1120.1433835167816\n",
      "Optimization restart 3/5, f = 1093.3811558701357\n",
      "Optimization restart 4/5, f = 1358.0801916074065\n",
      "Optimization restart 5/5, f = 1093.3134019290612\n",
      "[[20.        25.        12.7858252 70.         3.         5.       ]]\n",
      "\n",
      "User function time loss called with 1 inputs to simulate\n",
      "\n",
      "Evaluating input: 1 of 1\n",
      "\n",
      " Retrying in 1 seconds\n"
     ]
    },
    {
     "name": "stderr",
     "output_type": "stream",
     "text": [
      " /Users/harrysonghurst/opt/anaconda3/envs/traffic/lib/python3.8/site-packages/paramz/transformations.py:111: RuntimeWarning:overflow encountered in expm1\n"
     ]
    },
    {
     "name": "stdout",
     "output_type": "stream",
     "text": [
      "Optimization restart 1/5, f = 1096.9941648969168\n",
      "Optimization restart 2/5, f = 1363.7336550876441\n",
      "Optimization restart 3/5, f = 1123.8508021944658\n",
      "Optimization restart 4/5, f = 1363.7337466042245\n"
     ]
    },
    {
     "name": "stderr",
     "output_type": "stream",
     "text": [
      " /Users/harrysonghurst/opt/anaconda3/envs/traffic/lib/python3.8/site-packages/GPy/kern/src/rbf.py:52: RuntimeWarning:overflow encountered in square\n"
     ]
    },
    {
     "name": "stdout",
     "output_type": "stream",
     "text": [
      "Optimization restart 5/5, f = 1123.8508041611353\n",
      "[[16.          8.         21.69645122 36.81348159  3.          1.5       ]]\n",
      "\n",
      "User function time loss called with 1 inputs to simulate\n",
      "\n",
      "Evaluating input: 1 of 1\n",
      "\n",
      " Retrying in 1 seconds\n"
     ]
    },
    {
     "name": "stderr",
     "output_type": "stream",
     "text": [
      " /Users/harrysonghurst/opt/anaconda3/envs/traffic/lib/python3.8/site-packages/paramz/transformations.py:111: RuntimeWarning:overflow encountered in expm1\n"
     ]
    },
    {
     "name": "stdout",
     "output_type": "stream",
     "text": [
      "Optimization restart 1/5, f = 1101.1044974744455\n"
     ]
    },
    {
     "name": "stderr",
     "output_type": "stream",
     "text": [
      " /Users/harrysonghurst/opt/anaconda3/envs/traffic/lib/python3.8/site-packages/GPy/kern/src/rbf.py:52: RuntimeWarning:overflow encountered in square\n"
     ]
    },
    {
     "name": "stdout",
     "output_type": "stream",
     "text": [
      "Optimization restart 2/5, f = 1101.103987681674\n",
      "Optimization restart 3/5, f = 1127.7923592026398\n",
      "Optimization restart 4/5, f = 1127.7923137111536\n",
      "Optimization restart 5/5, f = 1101.1039876795658\n",
      "[[ 3.         25.         22.35332836 30.          1.          5.        ]]\n",
      "\n",
      "User function time loss called with 1 inputs to simulate\n",
      "\n",
      "Evaluating input: 1 of 1\n",
      "\n",
      " Retrying in 1 seconds\n"
     ]
    },
    {
     "name": "stderr",
     "output_type": "stream",
     "text": [
      " /Users/harrysonghurst/opt/anaconda3/envs/traffic/lib/python3.8/site-packages/paramz/transformations.py:111: RuntimeWarning:overflow encountered in expm1\n"
     ]
    },
    {
     "name": "stdout",
     "output_type": "stream",
     "text": [
      "Optimization restart 1/5, f = 1112.261619125373\n",
      "Optimization restart 2/5, f = 1112.2257474186922\n",
      "Optimization restart 3/5, f = 1380.3066443168223\n",
      "Optimization restart 4/5, f = 1112.225747421656\n",
      "Optimization restart 5/5, f = 1137.0596225540628\n",
      "[[10.   8.   5.  30.   3.   1.5]]\n",
      "\n",
      "User function time loss called with 1 inputs to simulate\n",
      "\n",
      "Evaluating input: 1 of 1\n",
      "\n",
      " Retrying in 1 seconds\n"
     ]
    },
    {
     "name": "stderr",
     "output_type": "stream",
     "text": [
      " /Users/harrysonghurst/opt/anaconda3/envs/traffic/lib/python3.8/site-packages/paramz/transformations.py:111: RuntimeWarning:overflow encountered in expm1\n"
     ]
    },
    {
     "name": "stdout",
     "output_type": "stream",
     "text": [
      "Optimization restart 1/5, f = 1116.0478609352192\n",
      "Optimization restart 2/5, f = 1140.7274477468848\n"
     ]
    },
    {
     "name": "stderr",
     "output_type": "stream",
     "text": [
      " /Users/harrysonghurst/opt/anaconda3/envs/traffic/lib/python3.8/site-packages/GPy/kern/src/stationary.py:168: RuntimeWarning:overflow encountered in true_divide\n",
      " /Users/harrysonghurst/opt/anaconda3/envs/traffic/lib/python3.8/site-packages/GPy/kern/src/rbf.py:76: RuntimeWarning:invalid value encountered in multiply\n"
     ]
    },
    {
     "name": "stdout",
     "output_type": "stream",
     "text": [
      "Optimization restart 3/5, f = 1346.9815897818137\n",
      "Optimization restart 4/5, f = 1116.0478447171581\n",
      "Optimization restart 5/5, f = 1140.727390162233\n",
      "[[20.         15.14617965 27.         70.          3.          1.5       ]]\n",
      "\n",
      "User function time loss called with 1 inputs to simulate\n",
      "\n",
      "Evaluating input: 1 of 1\n",
      "\n",
      " Retrying in 1 seconds\n"
     ]
    },
    {
     "name": "stderr",
     "output_type": "stream",
     "text": [
      " /Users/harrysonghurst/opt/anaconda3/envs/traffic/lib/python3.8/site-packages/paramz/transformations.py:111: RuntimeWarning:overflow encountered in expm1\n"
     ]
    },
    {
     "name": "stdout",
     "output_type": "stream",
     "text": [
      "Optimization restart 1/5, f = 1119.8693812250092\n",
      "Optimization restart 2/5, f = 1119.8693832728354\n",
      "Optimization restart 3/5, f = 1119.8693811503788\n",
      "Optimization restart 4/5, f = 1119.8693811572869\n",
      "Optimization restart 5/5, f = 1119.8693811420778\n",
      "[[20.         25.          5.         59.29715028  3.          5.        ]]\n",
      "\n",
      "User function time loss called with 1 inputs to simulate\n",
      "\n",
      "Evaluating input: 1 of 1\n",
      "\n",
      " Retrying in 1 seconds\n"
     ]
    },
    {
     "name": "stderr",
     "output_type": "stream",
     "text": [
      " /Users/harrysonghurst/opt/anaconda3/envs/traffic/lib/python3.8/site-packages/paramz/transformations.py:111: RuntimeWarning:overflow encountered in expm1\n"
     ]
    },
    {
     "name": "stdout",
     "output_type": "stream",
     "text": [
      "Optimization restart 1/5, f = 1123.707141819682\n",
      "Optimization restart 2/5, f = 1123.7071074886665\n",
      "Optimization restart 3/5, f = 1396.5444876280212\n",
      "Optimization restart 4/5, f = 1123.7071074884964\n",
      "Optimization restart 5/5, f = 1148.106776694828\n",
      "[[20.          8.         19.09460295 51.32904323  1.          5.        ]]\n",
      "\n",
      "User function time loss called with 1 inputs to simulate\n",
      "\n",
      "Evaluating input: 1 of 1\n",
      "\n",
      " Retrying in 1 seconds\n"
     ]
    },
    {
     "name": "stderr",
     "output_type": "stream",
     "text": [
      " /Users/harrysonghurst/opt/anaconda3/envs/traffic/lib/python3.8/site-packages/paramz/transformations.py:111: RuntimeWarning:overflow encountered in expm1\n"
     ]
    },
    {
     "name": "stdout",
     "output_type": "stream",
     "text": [
      "Optimization restart 1/5, f = 1127.475115339972\n"
     ]
    },
    {
     "name": "stderr",
     "output_type": "stream",
     "text": [
      " /Users/harrysonghurst/opt/anaconda3/envs/traffic/lib/python3.8/site-packages/GPy/kern/src/stationary.py:168: RuntimeWarning:overflow encountered in true_divide\n",
      " /Users/harrysonghurst/opt/anaconda3/envs/traffic/lib/python3.8/site-packages/GPy/kern/src/rbf.py:76: RuntimeWarning:invalid value encountered in multiply\n"
     ]
    },
    {
     "name": "stdout",
     "output_type": "stream",
     "text": [
      "Optimization restart 2/5, f = 1361.720058331779\n",
      "Optimization restart 3/5, f = 1151.756909643705\n",
      "Optimization restart 4/5, f = 1151.756859688192\n",
      "Optimization restart 5/5, f = 1402.9704399431705\n",
      "[[ 3.         15.44723303 27.         70.          3.          5.        ]]\n",
      "\n",
      "User function time loss called with 1 inputs to simulate\n",
      "\n",
      "Evaluating input: 1 of 1\n",
      "\n",
      " Retrying in 1 seconds\n"
     ]
    },
    {
     "name": "stderr",
     "output_type": "stream",
     "text": [
      " /Users/harrysonghurst/opt/anaconda3/envs/traffic/lib/python3.8/site-packages/paramz/transformations.py:111: RuntimeWarning:overflow encountered in expm1\n"
     ]
    },
    {
     "name": "stdout",
     "output_type": "stream",
     "text": [
      "Optimization restart 1/5, f = 1131.327834212125\n",
      "Optimization restart 2/5, f = 1131.3278247329504\n",
      "Optimization restart 3/5, f = 1131.3278248268373\n",
      "Optimization restart 4/5, f = 1131.327824711227\n",
      "Optimization restart 5/5, f = 1409.230995693275\n",
      "[[ 3.         13.59688209 12.01206932 63.40406279  3.          5.        ]]\n",
      "\n",
      "User function time loss called with 1 inputs to simulate\n",
      "\n",
      "Evaluating input: 1 of 1\n",
      "\n",
      " Retrying in 1 seconds\n"
     ]
    },
    {
     "name": "stderr",
     "output_type": "stream",
     "text": [
      " /Users/harrysonghurst/opt/anaconda3/envs/traffic/lib/python3.8/site-packages/paramz/transformations.py:111: RuntimeWarning:overflow encountered in expm1\n"
     ]
    },
    {
     "name": "stdout",
     "output_type": "stream",
     "text": [
      "Optimization restart 1/5, f = 1135.6832474132061\n"
     ]
    },
    {
     "name": "stderr",
     "output_type": "stream",
     "text": [
      " /Users/harrysonghurst/opt/anaconda3/envs/traffic/lib/python3.8/site-packages/GPy/kern/src/stationary.py:168: RuntimeWarning:overflow encountered in true_divide\n",
      " /Users/harrysonghurst/opt/anaconda3/envs/traffic/lib/python3.8/site-packages/GPy/kern/src/rbf.py:76: RuntimeWarning:invalid value encountered in multiply\n"
     ]
    },
    {
     "name": "stdout",
     "output_type": "stream",
     "text": [
      "Optimization restart 2/5, f = 1361.1663662177696\n",
      "Optimization restart 3/5, f = 1135.6827980370933\n",
      "Optimization restart 4/5, f = 1311.209461309624\n",
      "Optimization restart 5/5, f = 1135.6827979929617\n",
      "[[20.         15.41149012  5.         30.          3.          1.5       ]]\n",
      "\n",
      "User function time loss called with 1 inputs to simulate\n",
      "\n",
      "Evaluating input: 1 of 1\n",
      "\n",
      " Retrying in 1 seconds\n"
     ]
    },
    {
     "name": "stderr",
     "output_type": "stream",
     "text": [
      " /Users/harrysonghurst/opt/anaconda3/envs/traffic/lib/python3.8/site-packages/paramz/transformations.py:111: RuntimeWarning:overflow encountered in expm1\n"
     ]
    },
    {
     "name": "stdout",
     "output_type": "stream",
     "text": [
      "Optimization restart 1/5, f = 1139.4958662217477\n",
      "Optimization restart 2/5, f = 1163.6112455095993\n",
      "Optimization restart 3/5, f = 1139.4958550492545\n",
      "Optimization restart 4/5, f = 1163.6113306578422\n",
      "Optimization restart 5/5, f = 1163.6111682542185\n",
      "[[20.          8.         27.         40.66925579  1.          5.        ]]\n",
      "\n",
      "User function time loss called with 1 inputs to simulate\n",
      "\n",
      "Evaluating input: 1 of 1\n",
      "\n",
      " Retrying in 1 seconds\n"
     ]
    },
    {
     "name": "stderr",
     "output_type": "stream",
     "text": [
      " /Users/harrysonghurst/opt/anaconda3/envs/traffic/lib/python3.8/site-packages/paramz/transformations.py:111: RuntimeWarning:overflow encountered in expm1\n"
     ]
    },
    {
     "name": "stdout",
     "output_type": "stream",
     "text": [
      "Optimization restart 1/5, f = 1143.328838039418\n",
      "Optimization restart 2/5, f = 1143.328822457446\n",
      "Optimization restart 3/5, f = 1143.3288224574428\n",
      "Optimization restart 4/5, f = 1167.2571821476201\n",
      "Optimization restart 5/5, f = 1143.328822479645\n",
      "[[12.        14.0129103  5.        70.         3.         5.       ]]\n",
      "\n",
      "User function time loss called with 1 inputs to simulate\n",
      "\n",
      "Evaluating input: 1 of 1\n",
      "\n",
      " Retrying in 1 seconds\n"
     ]
    },
    {
     "name": "stderr",
     "output_type": "stream",
     "text": [
      " /Users/harrysonghurst/opt/anaconda3/envs/traffic/lib/python3.8/site-packages/paramz/transformations.py:111: RuntimeWarning:overflow encountered in expm1\n"
     ]
    },
    {
     "name": "stdout",
     "output_type": "stream",
     "text": [
      "Optimization restart 1/5, f = 1147.0631513125556\n"
     ]
    },
    {
     "name": "stderr",
     "output_type": "stream",
     "text": [
      " /Users/harrysonghurst/opt/anaconda3/envs/traffic/lib/python3.8/site-packages/GPy/kern/src/stationary.py:168: RuntimeWarning:overflow encountered in true_divide\n",
      " /Users/harrysonghurst/opt/anaconda3/envs/traffic/lib/python3.8/site-packages/GPy/kern/src/rbf.py:76: RuntimeWarning:invalid value encountered in multiply\n"
     ]
    },
    {
     "name": "stdout",
     "output_type": "stream",
     "text": [
      "Optimization restart 2/5, f = 1391.8584788071976\n",
      "Optimization restart 3/5, f = 1147.0631461430803\n",
      "Optimization restart 4/5, f = 1170.9829469720876\n",
      "Optimization restart 5/5, f = 1170.9829927743112\n",
      "[[ 9.          8.         21.24439983 42.93596349  1.          5.        ]]\n",
      "\n",
      "User function time loss called with 1 inputs to simulate\n",
      "\n",
      "Evaluating input: 1 of 1\n",
      "\n",
      " Retrying in 1 seconds\n"
     ]
    },
    {
     "name": "stderr",
     "output_type": "stream",
     "text": [
      " /Users/harrysonghurst/opt/anaconda3/envs/traffic/lib/python3.8/site-packages/paramz/transformations.py:111: RuntimeWarning:overflow encountered in expm1\n"
     ]
    },
    {
     "name": "stdout",
     "output_type": "stream",
     "text": [
      "Optimization restart 1/5, f = 1150.7993678913435\n"
     ]
    },
    {
     "name": "stderr",
     "output_type": "stream",
     "text": [
      " /Users/harrysonghurst/opt/anaconda3/envs/traffic/lib/python3.8/site-packages/GPy/kern/src/stationary.py:168: RuntimeWarning:overflow encountered in true_divide\n",
      " /Users/harrysonghurst/opt/anaconda3/envs/traffic/lib/python3.8/site-packages/GPy/kern/src/rbf.py:76: RuntimeWarning:invalid value encountered in multiply\n"
     ]
    },
    {
     "name": "stdout",
     "output_type": "stream",
     "text": [
      "Optimization restart 2/5, f = 1396.0488815291085\n",
      "Optimization restart 3/5, f = 1150.799231947638\n",
      "Optimization restart 4/5, f = 1150.7992319479208\n",
      "Optimization restart 5/5, f = 1176.0296631252663\n",
      "[[ 8.          8.         27.         63.39429203  3.          1.5       ]]\n",
      "\n",
      "User function time loss called with 1 inputs to simulate\n",
      "\n",
      "Evaluating input: 1 of 1\n",
      "\n",
      " Retrying in 1 seconds\n"
     ]
    },
    {
     "name": "stderr",
     "output_type": "stream",
     "text": [
      " /Users/harrysonghurst/opt/anaconda3/envs/traffic/lib/python3.8/site-packages/paramz/transformations.py:111: RuntimeWarning:overflow encountered in expm1\n"
     ]
    },
    {
     "name": "stdout",
     "output_type": "stream",
     "text": [
      "Optimization restart 1/5, f = 1154.6483470605237\n",
      "Optimization restart 2/5, f = 1154.64829043735\n",
      "Optimization restart 3/5, f = 1154.6482904345194\n",
      "Optimization restart 4/5, f = 1179.7382385429532\n",
      "Optimization restart 5/5, f = 1154.6482904361296\n",
      "[[ 3.         25.          5.         64.89712522  3.          5.        ]]\n",
      "\n",
      "User function time loss called with 1 inputs to simulate\n",
      "\n",
      "Evaluating input: 1 of 1\n",
      "\n",
      " Retrying in 1 seconds\n"
     ]
    },
    {
     "name": "stderr",
     "output_type": "stream",
     "text": [
      " /Users/harrysonghurst/opt/anaconda3/envs/traffic/lib/python3.8/site-packages/paramz/transformations.py:111: RuntimeWarning:overflow encountered in expm1\n"
     ]
    },
    {
     "name": "stdout",
     "output_type": "stream",
     "text": [
      "Optimization restart 1/5, f = 1158.425105483131\n",
      "Optimization restart 2/5, f = 1158.425097534126\n"
     ]
    },
    {
     "name": "stderr",
     "output_type": "stream",
     "text": [
      " /Users/harrysonghurst/opt/anaconda3/envs/traffic/lib/python3.8/site-packages/GPy/kern/src/stationary.py:168: RuntimeWarning:overflow encountered in true_divide\n",
      " /Users/harrysonghurst/opt/anaconda3/envs/traffic/lib/python3.8/site-packages/GPy/kern/src/rbf.py:76: RuntimeWarning:invalid value encountered in multiply\n"
     ]
    },
    {
     "name": "stdout",
     "output_type": "stream",
     "text": [
      "Optimization restart 3/5, f = 1267.3564780876036\n",
      "Optimization restart 4/5, f = 1183.6177280884485\n",
      "Optimization restart 5/5, f = 1158.4250975536745\n",
      "[[ 3.         16.21432806 27.         53.78896247  1.          5.        ]]\n",
      "\n",
      "User function time loss called with 1 inputs to simulate\n",
      "\n",
      "Evaluating input: 1 of 1\n",
      "\n",
      " Retrying in 1 seconds\n"
     ]
    },
    {
     "name": "stderr",
     "output_type": "stream",
     "text": [
      " /Users/harrysonghurst/opt/anaconda3/envs/traffic/lib/python3.8/site-packages/paramz/transformations.py:111: RuntimeWarning:overflow encountered in expm1\n"
     ]
    },
    {
     "name": "stdout",
     "output_type": "stream",
     "text": [
      "Optimization restart 1/5, f = 1164.5034766351916\n",
      "Optimization restart 2/5, f = 1164.4780080395597\n",
      "Optimization restart 3/5, f = 1189.4486187100028\n",
      "Optimization restart 4/5, f = 1164.4780080344483\n",
      "Optimization restart 5/5, f = 1458.6031645645771\n",
      "[[10.  25.  27.  70.   1.   1.5]]\n",
      "\n",
      "User function time loss called with 1 inputs to simulate\n",
      "\n",
      "Evaluating input: 1 of 1\n",
      "\n",
      " Retrying in 1 seconds\n"
     ]
    },
    {
     "name": "stderr",
     "output_type": "stream",
     "text": [
      " /Users/harrysonghurst/opt/anaconda3/envs/traffic/lib/python3.8/site-packages/paramz/transformations.py:111: RuntimeWarning:overflow encountered in expm1\n"
     ]
    },
    {
     "name": "stdout",
     "output_type": "stream",
     "text": [
      "Optimization restart 1/5, f = 1168.3739933585816\n"
     ]
    },
    {
     "name": "stderr",
     "output_type": "stream",
     "text": [
      " /Users/harrysonghurst/opt/anaconda3/envs/traffic/lib/python3.8/site-packages/GPy/kern/src/stationary.py:168: RuntimeWarning:overflow encountered in true_divide\n",
      " /Users/harrysonghurst/opt/anaconda3/envs/traffic/lib/python3.8/site-packages/GPy/kern/src/rbf.py:76: RuntimeWarning:invalid value encountered in multiply\n"
     ]
    },
    {
     "name": "stdout",
     "output_type": "stream",
     "text": [
      "Optimization restart 2/5, f = 1219.1000584337974\n",
      "Optimization restart 3/5, f = 1168.3738659534256\n",
      "Optimization restart 4/5, f = 1168.3738659401758\n",
      "Optimization restart 5/5, f = 1194.406364241922\n",
      "[[ 3.          8.         27.         57.90699567  1.          1.5       ]]\n",
      "\n",
      "User function time loss called with 1 inputs to simulate\n",
      "\n",
      "Evaluating input: 1 of 1\n",
      "\n",
      " Retrying in 1 seconds\n"
     ]
    },
    {
     "name": "stderr",
     "output_type": "stream",
     "text": [
      " /Users/harrysonghurst/opt/anaconda3/envs/traffic/lib/python3.8/site-packages/paramz/transformations.py:111: RuntimeWarning:overflow encountered in expm1\n"
     ]
    },
    {
     "name": "stdout",
     "output_type": "stream",
     "text": [
      "Optimization restart 1/5, f = 1172.1337682697297\n",
      "Optimization restart 2/5, f = 1469.3010658634987\n",
      "Optimization restart 3/5, f = 1197.8949530234\n",
      "Optimization restart 4/5, f = 1172.1337641571906\n",
      "Optimization restart 5/5, f = 1172.133764157001\n",
      "[[20.  25.   5.  30.   1.   1.5]]\n",
      "\n",
      "User function time loss called with 1 inputs to simulate\n",
      "\n",
      "Evaluating input: 1 of 1\n",
      "\n",
      " Retrying in 1 seconds\n"
     ]
    },
    {
     "name": "stderr",
     "output_type": "stream",
     "text": [
      " /Users/harrysonghurst/opt/anaconda3/envs/traffic/lib/python3.8/site-packages/paramz/transformations.py:111: RuntimeWarning:overflow encountered in expm1\n"
     ]
    },
    {
     "name": "stdout",
     "output_type": "stream",
     "text": [
      "Optimization restart 1/5, f = 1176.050959696043\n",
      "Optimization restart 2/5, f = 1474.920194741051\n",
      "Optimization restart 3/5, f = 1201.4255728716473\n",
      "Optimization restart 4/5, f = 1201.4254825017827\n",
      "Optimization restart 5/5, f = 1176.0509582470734\n",
      "[[ 3.         25.         20.66577364 38.056265    1.          1.5       ]]\n",
      "\n",
      "User function time loss called with 1 inputs to simulate\n",
      "\n",
      "Evaluating input: 1 of 1\n",
      "\n",
      " Retrying in 1 seconds\n"
     ]
    },
    {
     "name": "stderr",
     "output_type": "stream",
     "text": [
      " /Users/harrysonghurst/opt/anaconda3/envs/traffic/lib/python3.8/site-packages/paramz/transformations.py:111: RuntimeWarning:overflow encountered in expm1\n"
     ]
    },
    {
     "name": "stdout",
     "output_type": "stream",
     "text": [
      "Optimization restart 1/5, f = 1180.0020165608587\n"
     ]
    },
    {
     "name": "stderr",
     "output_type": "stream",
     "text": [
      " /Users/harrysonghurst/opt/anaconda3/envs/traffic/lib/python3.8/site-packages/GPy/kern/src/stationary.py:168: RuntimeWarning:overflow encountered in true_divide\n",
      " /Users/harrysonghurst/opt/anaconda3/envs/traffic/lib/python3.8/site-packages/GPy/kern/src/rbf.py:76: RuntimeWarning:invalid value encountered in multiply\n",
      " /Users/harrysonghurst/opt/anaconda3/envs/traffic/lib/python3.8/site-packages/GPy/kern/src/rbf.py:52: RuntimeWarning:overflow encountered in square\n"
     ]
    },
    {
     "name": "stdout",
     "output_type": "stream",
     "text": [
      "Optimization restart 2/5, f = 1378.4365309465793\n",
      "Optimization restart 3/5, f = 1180.0019064126373\n",
      "Optimization restart 4/5, f = 1180.001906412659\n",
      "Optimization restart 5/5, f = 1180.0019064127666\n",
      "[[20.         17.44879326 10.344163   62.12012143  1.          1.5       ]]\n",
      "\n",
      "User function time loss called with 1 inputs to simulate\n",
      "\n",
      "Evaluating input: 1 of 1\n",
      "\n",
      " Retrying in 1 seconds\n"
     ]
    },
    {
     "name": "stderr",
     "output_type": "stream",
     "text": [
      " /Users/harrysonghurst/opt/anaconda3/envs/traffic/lib/python3.8/site-packages/paramz/transformations.py:111: RuntimeWarning:overflow encountered in expm1\n"
     ]
    },
    {
     "name": "stdout",
     "output_type": "stream",
     "text": [
      "Optimization restart 1/5, f = 1183.7041784501077\n",
      "Optimization restart 2/5, f = 1209.109112545073\n"
     ]
    },
    {
     "name": "stderr",
     "output_type": "stream",
     "text": [
      " /Users/harrysonghurst/opt/anaconda3/envs/traffic/lib/python3.8/site-packages/GPy/kern/src/stationary.py:168: RuntimeWarning:overflow encountered in true_divide\n",
      " /Users/harrysonghurst/opt/anaconda3/envs/traffic/lib/python3.8/site-packages/GPy/kern/src/rbf.py:76: RuntimeWarning:invalid value encountered in multiply\n"
     ]
    },
    {
     "name": "stdout",
     "output_type": "stream",
     "text": [
      "Optimization restart 3/5, f = 1443.3235381649836\n",
      "Optimization restart 4/5, f = 1183.7041486382761\n",
      "Optimization restart 5/5, f = 1183.704148637671\n",
      "[[20.         14.49247413 27.         30.          3.          1.5       ]]\n",
      "\n",
      "User function time loss called with 1 inputs to simulate\n",
      "\n",
      "Evaluating input: 1 of 1\n",
      "\n",
      " Retrying in 1 seconds\n"
     ]
    },
    {
     "name": "stderr",
     "output_type": "stream",
     "text": [
      " /Users/harrysonghurst/opt/anaconda3/envs/traffic/lib/python3.8/site-packages/paramz/transformations.py:111: RuntimeWarning:overflow encountered in expm1\n"
     ]
    },
    {
     "name": "stdout",
     "output_type": "stream",
     "text": [
      "Optimization restart 1/5, f = 1187.956129423234\n",
      "Optimization restart 2/5, f = 1212.6383280109799\n",
      "Optimization restart 3/5, f = 1187.9550596399204\n",
      "Optimization restart 4/5, f = 1187.9550595735602\n",
      "Optimization restart 5/5, f = 1187.9550595773323\n",
      "[[13.          8.          5.         50.67061244  1.          1.5       ]]\n",
      "\n",
      "User function time loss called with 1 inputs to simulate\n",
      "\n",
      "Evaluating input: 1 of 1\n",
      "\n",
      " Retrying in 1 seconds\n"
     ]
    },
    {
     "name": "stderr",
     "output_type": "stream",
     "text": [
      " /Users/harrysonghurst/opt/anaconda3/envs/traffic/lib/python3.8/site-packages/paramz/transformations.py:111: RuntimeWarning:overflow encountered in expm1\n"
     ]
    },
    {
     "name": "stdout",
     "output_type": "stream",
     "text": [
      "Optimization restart 1/5, f = 1191.7403605023167\n",
      "Optimization restart 2/5, f = 1191.7403613862184\n",
      "Optimization restart 3/5, f = 1498.4473490424116\n",
      "Optimization restart 4/5, f = 1216.3126363378892\n",
      "Optimization restart 5/5, f = 1191.7403603609325\n",
      "[[12.         25.         10.04516362 70.          1.          5.        ]]\n",
      "\n",
      "User function time loss called with 1 inputs to simulate\n",
      "\n",
      "Evaluating input: 1 of 1\n",
      "\n",
      " Retrying in 1 seconds\n"
     ]
    },
    {
     "name": "stderr",
     "output_type": "stream",
     "text": [
      " /Users/harrysonghurst/opt/anaconda3/envs/traffic/lib/python3.8/site-packages/paramz/transformations.py:111: RuntimeWarning:overflow encountered in expm1\n"
     ]
    },
    {
     "name": "stdout",
     "output_type": "stream",
     "text": [
      "Optimization restart 1/5, f = 1195.5550644065358\n",
      "Optimization restart 2/5, f = 1220.0520450970728\n",
      "Optimization restart 3/5, f = 1220.0521414402956\n",
      "Optimization restart 4/5, f = 1220.052143996456\n",
      "Optimization restart 5/5, f = 1195.5550572488637\n",
      "[[ 3.         17.33705474 19.03704201 39.68778863  3.          5.        ]]\n",
      "\n",
      "User function time loss called with 1 inputs to simulate\n",
      "\n",
      "Evaluating input: 1 of 1\n",
      "\n",
      " Retrying in 1 seconds\n"
     ]
    },
    {
     "name": "stderr",
     "output_type": "stream",
     "text": [
      " /Users/harrysonghurst/opt/anaconda3/envs/traffic/lib/python3.8/site-packages/paramz/transformations.py:111: RuntimeWarning:overflow encountered in expm1\n"
     ]
    },
    {
     "name": "stdout",
     "output_type": "stream",
     "text": [
      "Optimization restart 1/5, f = 1211.399956459277\n",
      "Optimization restart 2/5, f = 1515.3186113114582\n",
      "Optimization restart 3/5, f = 1244.7947246162682\n",
      "Optimization restart 4/5, f = 1211.2034421360659\n",
      "Optimization restart 5/5, f = 1244.794719764029\n",
      "[[ 3.         25.         27.         55.91923833  3.          1.5       ]]\n",
      "\n",
      "User function time loss called with 1 inputs to simulate\n",
      "\n",
      "Evaluating input: 1 of 1\n",
      "\n",
      " Retrying in 1 seconds\n"
     ]
    },
    {
     "name": "stderr",
     "output_type": "stream",
     "text": [
      " /Users/harrysonghurst/opt/anaconda3/envs/traffic/lib/python3.8/site-packages/paramz/transformations.py:111: RuntimeWarning:overflow encountered in expm1\n"
     ]
    },
    {
     "name": "stdout",
     "output_type": "stream",
     "text": [
      "Optimization restart 1/5, f = 1216.0350018129984\n",
      "Optimization restart 2/5, f = 1216.030611747001\n"
     ]
    },
    {
     "name": "stderr",
     "output_type": "stream",
     "text": [
      " /Users/harrysonghurst/opt/anaconda3/envs/traffic/lib/python3.8/site-packages/GPy/kern/src/rbf.py:52: RuntimeWarning:overflow encountered in square\n",
      " /Users/harrysonghurst/opt/anaconda3/envs/traffic/lib/python3.8/site-packages/GPy/kern/src/stationary.py:168: RuntimeWarning:overflow encountered in true_divide\n",
      " /Users/harrysonghurst/opt/anaconda3/envs/traffic/lib/python3.8/site-packages/GPy/kern/src/rbf.py:76: RuntimeWarning:invalid value encountered in multiply\n",
      " /Users/harrysonghurst/opt/anaconda3/envs/traffic/lib/python3.8/site-packages/paramz/transformations.py:108: RuntimeWarning:invalid value encountered in greater\n",
      " /Users/harrysonghurst/opt/anaconda3/envs/traffic/lib/python3.8/site-packages/paramz/transformations.py:113: RuntimeWarning:invalid value encountered in greater\n"
     ]
    },
    {
     "name": "stdout",
     "output_type": "stream",
     "text": [
      "Warning - optimization restart 3/5 failed\n",
      "Optimization restart 4/5, f = 1216.030611627438\n",
      "Optimization restart 5/5, f = 1521.806822973607\n",
      "[[20.          8.         27.         49.94700876  3.          5.        ]]\n",
      "\n",
      "User function time loss called with 1 inputs to simulate\n",
      "\n",
      "Evaluating input: 1 of 1\n",
      "\n",
      " Retrying in 1 seconds\n"
     ]
    },
    {
     "name": "stderr",
     "output_type": "stream",
     "text": [
      " /Users/harrysonghurst/opt/anaconda3/envs/traffic/lib/python3.8/site-packages/paramz/transformations.py:111: RuntimeWarning:overflow encountered in expm1\n"
     ]
    },
    {
     "name": "stdout",
     "output_type": "stream",
     "text": [
      "Optimization restart 1/5, f = 1220.0979231952479\n",
      "Optimization restart 2/5, f = 1252.3364174448561\n",
      "Optimization restart 3/5, f = 1252.3363265102703\n",
      "Optimization restart 4/5, f = 1220.09700776277\n",
      "Optimization restart 5/5, f = 1527.4481293311885\n",
      "[[ 3.         13.48722579 10.66929726 37.2675453   1.          1.5       ]]\n",
      "\n",
      "User function time loss called with 1 inputs to simulate\n",
      "\n",
      "Evaluating input: 1 of 1\n",
      "\n",
      " Retrying in 1 seconds\n"
     ]
    },
    {
     "name": "stderr",
     "output_type": "stream",
     "text": [
      " /Users/harrysonghurst/opt/anaconda3/envs/traffic/lib/python3.8/site-packages/paramz/transformations.py:111: RuntimeWarning:overflow encountered in expm1\n"
     ]
    },
    {
     "name": "stdout",
     "output_type": "stream",
     "text": [
      "Optimization restart 1/5, f = 1224.3256950474376\n",
      "Optimization restart 2/5, f = 1259.3103590634746\n",
      "Optimization restart 3/5, f = 1259.3106319269705\n",
      "Optimization restart 4/5, f = 1534.0053118722822\n"
     ]
    },
    {
     "name": "stderr",
     "output_type": "stream",
     "text": [
      " /Users/harrysonghurst/opt/anaconda3/envs/traffic/lib/python3.8/site-packages/GPy/kern/src/rbf.py:52: RuntimeWarning:overflow encountered in square\n",
      " /Users/harrysonghurst/opt/anaconda3/envs/traffic/lib/python3.8/site-packages/GPy/kern/src/stationary.py:168: RuntimeWarning:overflow encountered in true_divide\n",
      " /Users/harrysonghurst/opt/anaconda3/envs/traffic/lib/python3.8/site-packages/GPy/kern/src/rbf.py:76: RuntimeWarning:invalid value encountered in multiply\n"
     ]
    },
    {
     "name": "stdout",
     "output_type": "stream",
     "text": [
      "Optimization restart 5/5, f = 1453.7971666216633\n",
      "[[11.         16.02620918 27.         30.          1.          5.        ]]\n",
      "\n",
      "User function time loss called with 1 inputs to simulate\n",
      "\n",
      "Evaluating input: 1 of 1\n",
      "\n",
      " Retrying in 1 seconds\n"
     ]
    },
    {
     "name": "stderr",
     "output_type": "stream",
     "text": [
      " /Users/harrysonghurst/opt/anaconda3/envs/traffic/lib/python3.8/site-packages/paramz/transformations.py:111: RuntimeWarning:overflow encountered in expm1\n"
     ]
    },
    {
     "name": "stdout",
     "output_type": "stream",
     "text": [
      "Optimization restart 1/5, f = 1234.8873122073162\n",
      "Optimization restart 2/5, f = 1274.5839043804433\n",
      "Optimization restart 3/5, f = 1274.5837223182743\n",
      "Optimization restart 4/5, f = 1234.8798083460292\n",
      "Optimization restart 5/5, f = 1274.5840427110252\n",
      "[[20.          8.         22.08813268 70.          1.          5.        ]]\n",
      "\n",
      "User function time loss called with 1 inputs to simulate\n",
      "\n",
      "Evaluating input: 1 of 1\n",
      "\n",
      " Retrying in 1 seconds\n"
     ]
    },
    {
     "name": "stderr",
     "output_type": "stream",
     "text": [
      " /Users/harrysonghurst/opt/anaconda3/envs/traffic/lib/python3.8/site-packages/paramz/transformations.py:111: RuntimeWarning:overflow encountered in expm1\n"
     ]
    },
    {
     "name": "stdout",
     "output_type": "stream",
     "text": [
      "Optimization restart 1/5, f = 1238.7190609311788\n",
      "Optimization restart 2/5, f = 1278.3697414549288\n"
     ]
    },
    {
     "name": "stderr",
     "output_type": "stream",
     "text": [
      " /Users/harrysonghurst/opt/anaconda3/envs/traffic/lib/python3.8/site-packages/GPy/kern/src/stationary.py:168: RuntimeWarning:overflow encountered in true_divide\n",
      " /Users/harrysonghurst/opt/anaconda3/envs/traffic/lib/python3.8/site-packages/GPy/kern/src/rbf.py:76: RuntimeWarning:invalid value encountered in multiply\n"
     ]
    },
    {
     "name": "stdout",
     "output_type": "stream",
     "text": [
      "Optimization restart 3/5, f = 1352.1968905441167\n",
      "Optimization restart 4/5, f = 1238.7190608601559\n",
      "Optimization restart 5/5, f = 1238.7190608159308\n",
      "[[ 3.         25.          5.         35.88058727  3.          5.        ]]\n",
      "\n",
      "User function time loss called with 1 inputs to simulate\n",
      "\n",
      "Evaluating input: 1 of 1\n",
      "\n",
      " Retrying in 1 seconds\n"
     ]
    },
    {
     "name": "stderr",
     "output_type": "stream",
     "text": [
      " /Users/harrysonghurst/opt/anaconda3/envs/traffic/lib/python3.8/site-packages/paramz/transformations.py:111: RuntimeWarning:overflow encountered in expm1\n"
     ]
    },
    {
     "name": "stdout",
     "output_type": "stream",
     "text": [
      "Optimization restart 1/5, f = 1243.946907976888\n"
     ]
    },
    {
     "name": "stderr",
     "output_type": "stream",
     "text": [
      " /Users/harrysonghurst/opt/anaconda3/envs/traffic/lib/python3.8/site-packages/GPy/kern/src/rbf.py:52: RuntimeWarning:overflow encountered in square\n"
     ]
    },
    {
     "name": "stdout",
     "output_type": "stream",
     "text": [
      "Optimization restart 2/5, f = 1282.9746058516312\n",
      "Optimization restart 3/5, f = 1243.9408293027839\n",
      "Optimization restart 4/5, f = 1282.9747877725856\n",
      "Optimization restart 5/5, f = 1282.975409753879\n",
      "[[ 3. 25. 27. 70.  1.  5.]]\n",
      "\n",
      "User function time loss called with 1 inputs to simulate\n",
      "\n",
      "Evaluating input: 1 of 1\n",
      "\n",
      " Retrying in 1 seconds\n"
     ]
    },
    {
     "name": "stderr",
     "output_type": "stream",
     "text": [
      " /Users/harrysonghurst/opt/anaconda3/envs/traffic/lib/python3.8/site-packages/paramz/transformations.py:111: RuntimeWarning:overflow encountered in expm1\n"
     ]
    },
    {
     "name": "stdout",
     "output_type": "stream",
     "text": [
      "Optimization restart 1/5, f = 1249.372306376008\n",
      "Optimization restart 2/5, f = 1249.366370140247\n",
      "Optimization restart 3/5, f = 1249.3663701375315\n",
      "Optimization restart 4/5, f = 1286.7095601099309\n",
      "Optimization restart 5/5, f = 1286.7093782390714\n",
      "[[10.         25.         11.38698673 30.          3.          5.        ]]\n",
      "\n",
      "User function time loss called with 1 inputs to simulate\n",
      "\n",
      "Evaluating input: 1 of 1\n",
      "\n",
      " Retrying in 1 seconds\n"
     ]
    },
    {
     "name": "stderr",
     "output_type": "stream",
     "text": [
      " /Users/harrysonghurst/opt/anaconda3/envs/traffic/lib/python3.8/site-packages/paramz/transformations.py:111: RuntimeWarning:overflow encountered in expm1\n"
     ]
    },
    {
     "name": "stdout",
     "output_type": "stream",
     "text": [
      "Optimization restart 1/5, f = 1259.4114168551403\n",
      "Optimization restart 2/5, f = 1259.4083129722048\n",
      "Optimization restart 3/5, f = 1259.4083069042358\n",
      "Optimization restart 4/5, f = 1259.4083067336733\n",
      "Optimization restart 5/5, f = 1303.1890249573257\n",
      "[[20.         17.27763977 27.         70.          1.          1.5       ]]\n",
      "\n",
      "User function time loss called with 1 inputs to simulate\n",
      "\n",
      "Evaluating input: 1 of 1\n",
      "\n",
      " Retrying in 1 seconds\n"
     ]
    },
    {
     "name": "stderr",
     "output_type": "stream",
     "text": [
      " /Users/harrysonghurst/opt/anaconda3/envs/traffic/lib/python3.8/site-packages/paramz/transformations.py:111: RuntimeWarning:overflow encountered in expm1\n"
     ]
    },
    {
     "name": "stdout",
     "output_type": "stream",
     "text": [
      "Optimization restart 1/5, f = 1263.2678794023357\n",
      "Optimization restart 2/5, f = 1263.2678716258822\n"
     ]
    },
    {
     "name": "stderr",
     "output_type": "stream",
     "text": [
      " /Users/harrysonghurst/opt/anaconda3/envs/traffic/lib/python3.8/site-packages/GPy/kern/src/stationary.py:168: RuntimeWarning:overflow encountered in true_divide\n",
      " /Users/harrysonghurst/opt/anaconda3/envs/traffic/lib/python3.8/site-packages/GPy/kern/src/rbf.py:76: RuntimeWarning:invalid value encountered in multiply\n"
     ]
    },
    {
     "name": "stdout",
     "output_type": "stream",
     "text": [
      "Optimization restart 3/5, f = 1526.5961556498448\n",
      "Optimization restart 4/5, f = 1306.578665411279\n",
      "Optimization restart 5/5, f = 1263.2678716262403\n",
      "[[11.         25.         19.97728018 44.8453102   3.          5.        ]]\n",
      "\n",
      "User function time loss called with 1 inputs to simulate\n",
      "\n",
      "Evaluating input: 1 of 1\n",
      "\n",
      " Retrying in 1 seconds\n"
     ]
    },
    {
     "name": "stderr",
     "output_type": "stream",
     "text": [
      " /Users/harrysonghurst/opt/anaconda3/envs/traffic/lib/python3.8/site-packages/paramz/transformations.py:111: RuntimeWarning:overflow encountered in expm1\n"
     ]
    },
    {
     "name": "stdout",
     "output_type": "stream",
     "text": [
      "Optimization restart 1/5, f = 1268.7305307743256\n",
      "Optimization restart 2/5, f = 1268.724018099781\n",
      "Optimization restart 3/5, f = 1268.7240180999434\n",
      "Optimization restart 4/5, f = 1268.7240180997942\n",
      "Optimization restart 5/5, f = 1268.7240182748033\n",
      "[[20.         25.         27.         61.20906548  3.          1.5       ]]\n",
      "\n",
      "User function time loss called with 1 inputs to simulate\n",
      "\n",
      "Evaluating input: 1 of 1\n",
      "\n",
      " Retrying in 1 seconds\n"
     ]
    },
    {
     "name": "stderr",
     "output_type": "stream",
     "text": [
      " /Users/harrysonghurst/opt/anaconda3/envs/traffic/lib/python3.8/site-packages/paramz/transformations.py:111: RuntimeWarning:overflow encountered in expm1\n"
     ]
    },
    {
     "name": "stdout",
     "output_type": "stream",
     "text": [
      "Optimization restart 1/5, f = 1272.7600202798926\n",
      "Optimization restart 2/5, f = 1272.7599553487412\n"
     ]
    },
    {
     "name": "stderr",
     "output_type": "stream",
     "text": [
      " /Users/harrysonghurst/opt/anaconda3/envs/traffic/lib/python3.8/site-packages/GPy/kern/src/stationary.py:168: RuntimeWarning:overflow encountered in true_divide\n",
      " /Users/harrysonghurst/opt/anaconda3/envs/traffic/lib/python3.8/site-packages/GPy/kern/src/rbf.py:76: RuntimeWarning:invalid value encountered in multiply\n"
     ]
    },
    {
     "name": "stdout",
     "output_type": "stream",
     "text": [
      "Optimization restart 3/5, f = 1337.1692145439904\n"
     ]
    },
    {
     "name": "stderr",
     "output_type": "stream",
     "text": [
      " /Users/harrysonghurst/opt/anaconda3/envs/traffic/lib/python3.8/site-packages/GPy/kern/src/rbf.py:52: RuntimeWarning:overflow encountered in square\n"
     ]
    },
    {
     "name": "stdout",
     "output_type": "stream",
     "text": [
      "Optimization restart 4/5, f = 1272.7599550911657\n",
      "Optimization restart 5/5, f = 1272.7599550063458\n",
      "[[ 8.         18.24507055 27.         63.54803313  1.          1.5       ]]\n",
      "\n",
      "User function time loss called with 1 inputs to simulate\n",
      "\n",
      "Evaluating input: 1 of 1\n",
      "\n",
      " Retrying in 1 seconds\n"
     ]
    },
    {
     "name": "stderr",
     "output_type": "stream",
     "text": [
      " /Users/harrysonghurst/opt/anaconda3/envs/traffic/lib/python3.8/site-packages/paramz/transformations.py:111: RuntimeWarning:overflow encountered in expm1\n"
     ]
    },
    {
     "name": "stdout",
     "output_type": "stream",
     "text": [
      "Optimization restart 1/5, f = 1276.5863566811695\n",
      "Optimization restart 2/5, f = 1276.5863377142698\n",
      "Optimization restart 3/5, f = 1319.8592358104163\n",
      "Optimization restart 4/5, f = 1276.586337701652\n",
      "Optimization restart 5/5, f = 1591.0226605586956\n",
      "[[ 3.          8.         21.81624796 70.          1.          5.        ]]\n",
      "\n",
      "User function time loss called with 1 inputs to simulate\n",
      "\n",
      "Evaluating input: 1 of 1\n",
      "\n",
      " Retrying in 1 seconds\n"
     ]
    },
    {
     "name": "stderr",
     "output_type": "stream",
     "text": [
      " /Users/harrysonghurst/opt/anaconda3/envs/traffic/lib/python3.8/site-packages/paramz/transformations.py:111: RuntimeWarning:overflow encountered in expm1\n"
     ]
    },
    {
     "name": "stdout",
     "output_type": "stream",
     "text": [
      "Optimization restart 1/5, f = 1280.4987392570895\n",
      "Optimization restart 2/5, f = 1280.4986225142104\n",
      "Optimization restart 3/5, f = 1323.7426006678515\n",
      "Optimization restart 4/5, f = 1323.7427743683684\n",
      "Optimization restart 5/5, f = 1596.757568285622\n",
      "[[ 3.         20.34127006  5.         61.59036121  1.          1.5       ]]\n",
      "\n",
      "User function time loss called with 1 inputs to simulate\n",
      "\n",
      "Evaluating input: 1 of 1\n",
      "\n",
      " Retrying in 1 seconds\n"
     ]
    },
    {
     "name": "stderr",
     "output_type": "stream",
     "text": [
      " /Users/harrysonghurst/opt/anaconda3/envs/traffic/lib/python3.8/site-packages/paramz/transformations.py:111: RuntimeWarning:overflow encountered in expm1\n"
     ]
    },
    {
     "name": "stdout",
     "output_type": "stream",
     "text": [
      "Optimization restart 1/5, f = 1284.3725055995587\n",
      "Optimization restart 2/5, f = 1284.372469979192\n",
      "Optimization restart 3/5, f = 1284.372470016137\n",
      "Optimization restart 4/5, f = 1284.3724699688996\n",
      "Optimization restart 5/5, f = 1284.372469968885\n",
      "[[20.        17.9499417 20.9702934 49.9835811  3.         1.5      ]]\n",
      "\n",
      "User function time loss called with 1 inputs to simulate\n",
      "\n",
      "Evaluating input: 1 of 1\n",
      "\n",
      " Retrying in 1 seconds\n"
     ]
    },
    {
     "name": "stderr",
     "output_type": "stream",
     "text": [
      " /Users/harrysonghurst/opt/anaconda3/envs/traffic/lib/python3.8/site-packages/paramz/transformations.py:111: RuntimeWarning:overflow encountered in expm1\n"
     ]
    },
    {
     "name": "stdout",
     "output_type": "stream",
     "text": [
      "Optimization restart 1/5, f = 1288.1902588577839\n",
      "Optimization restart 2/5, f = 1288.1902466317422\n",
      "Optimization restart 3/5, f = 1331.7329812816838\n",
      "Optimization restart 4/5, f = 1608.1158239806123\n",
      "Optimization restart 5/5, f = 1288.1902449078457\n",
      "[[20.         17.95414284  5.         70.          3.          1.5       ]]\n",
      "\n",
      "User function time loss called with 1 inputs to simulate\n",
      "\n",
      "Evaluating input: 1 of 1\n",
      "\n",
      " Retrying in 1 seconds\n"
     ]
    },
    {
     "name": "stderr",
     "output_type": "stream",
     "text": [
      " /Users/harrysonghurst/opt/anaconda3/envs/traffic/lib/python3.8/site-packages/paramz/transformations.py:111: RuntimeWarning:overflow encountered in expm1\n"
     ]
    },
    {
     "name": "stdout",
     "output_type": "stream",
     "text": [
      "Optimization restart 1/5, f = 1292.055408632071\n",
      "Optimization restart 2/5, f = 1292.055404603697\n",
      "Optimization restart 3/5, f = 1335.4106544680187\n",
      "Optimization restart 4/5, f = 1292.0554046104662\n",
      "Optimization restart 5/5, f = 1613.7446747887884\n",
      "[[20.         15.92164496 27.         37.73493204  1.          5.        ]]\n",
      "\n",
      "User function time loss called with 1 inputs to simulate\n",
      "\n",
      "Evaluating input: 1 of 1\n",
      "\n",
      " Retrying in 1 seconds\n"
     ]
    },
    {
     "name": "stderr",
     "output_type": "stream",
     "text": [
      " /Users/harrysonghurst/opt/anaconda3/envs/traffic/lib/python3.8/site-packages/paramz/transformations.py:111: RuntimeWarning:overflow encountered in expm1\n"
     ]
    },
    {
     "name": "stdout",
     "output_type": "stream",
     "text": [
      "Optimization restart 1/5, f = 1295.9346144420083\n",
      "Optimization restart 2/5, f = 1295.9345655894003\n",
      "Optimization restart 3/5, f = 1619.6384753382363\n",
      "Optimization restart 4/5, f = 1295.9345656958749\n",
      "Optimization restart 5/5, f = 1620.5498674213025\n",
      "[[11.         13.77030657 17.40817803 70.          3.          5.        ]]\n",
      "\n",
      "User function time loss called with 1 inputs to simulate\n",
      "\n",
      "Evaluating input: 1 of 1\n",
      "\n",
      " Retrying in 1 seconds\n"
     ]
    },
    {
     "name": "stderr",
     "output_type": "stream",
     "text": [
      " /Users/harrysonghurst/opt/anaconda3/envs/traffic/lib/python3.8/site-packages/paramz/transformations.py:111: RuntimeWarning:overflow encountered in expm1\n"
     ]
    },
    {
     "name": "stdout",
     "output_type": "stream",
     "text": [
      "Optimization restart 1/5, f = 1299.8180518997706\n",
      "Optimization restart 2/5, f = 1299.8178398380155\n",
      "Optimization restart 3/5, f = 1342.8600811598967\n",
      "Optimization restart 4/5, f = 1299.8178401126736\n",
      "Optimization restart 5/5, f = 1625.4011112254025\n"
     ]
    }
   ],
   "source": [
    "ed_loop.run_loop(user_function_co2, 250)"
   ]
  },
  {
   "cell_type": "markdown",
   "metadata": {},
   "source": [
    "### Experimental Design - Integrated Variance Reduction"
   ]
  },
  {
   "cell_type": "markdown",
   "metadata": {},
   "source": [
    "#### Model / Emulator (GP)"
   ]
  },
  {
   "cell_type": "code",
   "execution_count": 23,
   "metadata": {},
   "outputs": [
    {
     "name": "stdout",
     "output_type": "stream",
     "text": [
      "Optimization restart 1/5, f = 96.71579658393532\n",
      "Optimization restart 2/5, f = 114.0674779764203\n",
      "Optimization restart 3/5, f = 96.71579632125928\n",
      "Optimization restart 4/5, f = 114.06748073000765\n",
      "Optimization restart 5/5, f = 114.06748713953534\n"
     ]
    }
   ],
   "source": [
    "emulator_ird = GPy.models.GPRegression(init_X, init_Y)\n",
    "emukit_model_ird = GPyModelWrapper(emulator_ird, n_restarts=5)\n",
    "emukit_model_ird.optimize()"
   ]
  },
  {
   "cell_type": "markdown",
   "metadata": {},
   "source": [
    "#### Acquisition Function"
   ]
  },
  {
   "cell_type": "code",
   "execution_count": 24,
   "metadata": {},
   "outputs": [],
   "source": [
    "integrated_variance_reduction = IntegratedVarianceReduction(\n",
    "    model=emukit_model_ird, \n",
    "    space=parameter_space, \n",
    "    num_monte_carlo_points=100\n",
    ")"
   ]
  },
  {
   "cell_type": "markdown",
   "metadata": {},
   "source": [
    "#### Optimizer"
   ]
  },
  {
   "cell_type": "code",
   "execution_count": 25,
   "metadata": {},
   "outputs": [],
   "source": [
    "optimizer = GradientAcquisitionOptimizer(parameter_space)"
   ]
  },
  {
   "cell_type": "markdown",
   "metadata": {},
   "source": [
    "#### Experimental Design Loop"
   ]
  },
  {
   "cell_type": "code",
   "execution_count": 26,
   "metadata": {},
   "outputs": [],
   "source": [
    "ed_loop = ExperimentalDesignLoop(\n",
    "    model = emukit_model_ird,\n",
    "    space = parameter_space,\n",
    "    acquisition = integrated_variance_reduction,\n",
    "    acquisition_optimizer = optimizer,\n",
    "    batch_size = 1\n",
    ")"
   ]
  },
  {
   "cell_type": "code",
   "execution_count": 27,
   "metadata": {},
   "outputs": [
    {
     "name": "stdout",
     "output_type": "stream",
     "text": [
      "Optimization restart 1/5, f = 96.71579632125928\n",
      "Optimization restart 2/5, f = 114.06751261374158\n",
      "Optimization restart 3/5, f = 96.71579647128004\n",
      "Optimization restart 4/5, f = 114.06753259151645\n",
      "Optimization restart 5/5, f = 96.71579632295025\n",
      "[[ 3.         15.72072557 27.         70.          2.          4.40185406]]\n",
      "\n",
      "User function time loss called with 1 inputs to simulate\n",
      "\n",
      "Evaluating input: 1 of 1\n",
      "\n",
      " Retrying in 1 seconds\n"
     ]
    },
    {
     "name": "stderr",
     "output_type": "stream",
     "text": [
      " /Users/harrysonghurst/opt/anaconda3/envs/traffic/lib/python3.8/site-packages/paramz/transformations.py:111: RuntimeWarning:overflow encountered in expm1\n"
     ]
    },
    {
     "name": "stdout",
     "output_type": "stream",
     "text": [
      "Optimization restart 1/5, f = 102.61006240192418\n",
      "Optimization restart 2/5, f = 109.42372341158051\n",
      "Optimization restart 3/5, f = 121.51206465734865\n",
      "Optimization restart 4/5, f = 102.61006239774805\n",
      "Optimization restart 5/5, f = 121.51207951744735\n",
      "[[20.         16.82457754 26.88787997 30.          1.          3.41430513]]\n",
      "\n",
      "User function time loss called with 1 inputs to simulate\n",
      "\n",
      "Evaluating input: 1 of 1\n",
      "\n",
      " Retrying in 1 seconds\n"
     ]
    },
    {
     "name": "stderr",
     "output_type": "stream",
     "text": [
      " /Users/harrysonghurst/opt/anaconda3/envs/traffic/lib/python3.8/site-packages/paramz/transformations.py:111: RuntimeWarning:overflow encountered in expm1\n",
      " /Users/harrysonghurst/opt/anaconda3/envs/traffic/lib/python3.8/site-packages/GPy/kern/src/stationary.py:168: RuntimeWarning:overflow encountered in true_divide\n",
      " /Users/harrysonghurst/opt/anaconda3/envs/traffic/lib/python3.8/site-packages/GPy/kern/src/rbf.py:76: RuntimeWarning:invalid value encountered in multiply\n"
     ]
    },
    {
     "name": "stdout",
     "output_type": "stream",
     "text": [
      "Optimization restart 1/5, f = 107.09278064975663\n",
      "Optimization restart 2/5, f = 127.37307917691751\n",
      "Optimization restart 3/5, f = 114.11909302036776\n",
      "Optimization restart 4/5, f = 114.13656132935535\n",
      "Optimization restart 5/5, f = 127.37321592143776\n",
      "[[20.         18.15251055  5.         68.16710035  3.          2.81024173]]\n",
      "\n",
      "User function time loss called with 1 inputs to simulate\n",
      "\n",
      "Evaluating input: 1 of 1\n",
      "\n",
      " Retrying in 1 seconds\n"
     ]
    },
    {
     "name": "stderr",
     "output_type": "stream",
     "text": [
      " /Users/harrysonghurst/opt/anaconda3/envs/traffic/lib/python3.8/site-packages/paramz/transformations.py:111: RuntimeWarning:overflow encountered in expm1\n"
     ]
    },
    {
     "name": "stdout",
     "output_type": "stream",
     "text": [
      "Optimization restart 1/5, f = 111.9843704040836\n",
      "Optimization restart 2/5, f = 111.98436362956478\n",
      "Optimization restart 3/5, f = 111.98436364301442\n",
      "Optimization restart 4/5, f = 132.65479261021812\n",
      "Optimization restart 5/5, f = 111.98436377193856\n",
      "[[19.          8.          7.71136795 30.          3.          2.88157481]]\n",
      "\n",
      "User function time loss called with 1 inputs to simulate\n",
      "\n",
      "Evaluating input: 1 of 1\n",
      "\n",
      " Retrying in 1 seconds\n"
     ]
    },
    {
     "name": "stderr",
     "output_type": "stream",
     "text": [
      " /Users/harrysonghurst/opt/anaconda3/envs/traffic/lib/python3.8/site-packages/paramz/transformations.py:111: RuntimeWarning:overflow encountered in expm1\n"
     ]
    },
    {
     "name": "stdout",
     "output_type": "stream",
     "text": [
      "Optimization restart 1/5, f = 116.37633953358596\n",
      "Optimization restart 2/5, f = 138.00799553501895\n",
      "Optimization restart 3/5, f = 138.00799424678098\n",
      "Optimization restart 4/5, f = 138.00805735346336\n",
      "Optimization restart 5/5, f = 138.00799466428236\n",
      "[[ 3.         25.         11.17556237 69.05551409  3.          4.1165645 ]]\n",
      "\n",
      "User function time loss called with 1 inputs to simulate\n",
      "\n",
      "Evaluating input: 1 of 1\n",
      "\n",
      " Retrying in 1 seconds\n"
     ]
    },
    {
     "name": "stderr",
     "output_type": "stream",
     "text": [
      " /Users/harrysonghurst/opt/anaconda3/envs/traffic/lib/python3.8/site-packages/paramz/transformations.py:111: RuntimeWarning:overflow encountered in expm1\n"
     ]
    },
    {
     "name": "stdout",
     "output_type": "stream",
     "text": [
      "Optimization restart 1/5, f = 120.91113963819537\n",
      "Optimization restart 2/5, f = 143.95745252360047\n",
      "Optimization restart 3/5, f = 143.95749297656505\n",
      "Optimization restart 4/5, f = 143.9574450721996\n",
      "Optimization restart 5/5, f = 129.67883262876038\n",
      "[[ 3.          8.         14.71529494 30.          2.          5.        ]]\n",
      "\n",
      "User function time loss called with 1 inputs to simulate\n",
      "\n",
      "Evaluating input: 1 of 1\n",
      "\n",
      " Retrying in 1 seconds\n"
     ]
    },
    {
     "name": "stderr",
     "output_type": "stream",
     "text": [
      " /Users/harrysonghurst/opt/anaconda3/envs/traffic/lib/python3.8/site-packages/paramz/transformations.py:111: RuntimeWarning:overflow encountered in expm1\n"
     ]
    },
    {
     "name": "stdout",
     "output_type": "stream",
     "text": [
      "Optimization restart 1/5, f = 125.3838269061938\n",
      "Optimization restart 2/5, f = 150.32125631009683\n",
      "Optimization restart 3/5, f = 150.32125770288803\n",
      "Optimization restart 4/5, f = 150.32125682266224\n",
      "Optimization restart 5/5, f = 125.38382690533872\n",
      "[[ 7.          8.         10.08484846 70.          3.          2.93783837]]\n",
      "\n",
      "User function time loss called with 1 inputs to simulate\n",
      "\n",
      "Evaluating input: 1 of 1\n",
      "\n",
      " Retrying in 1 seconds\n"
     ]
    },
    {
     "name": "stderr",
     "output_type": "stream",
     "text": [
      " /Users/harrysonghurst/opt/anaconda3/envs/traffic/lib/python3.8/site-packages/paramz/transformations.py:111: RuntimeWarning:overflow encountered in expm1\n",
      " /Users/harrysonghurst/opt/anaconda3/envs/traffic/lib/python3.8/site-packages/GPy/kern/src/rbf.py:52: RuntimeWarning:overflow encountered in square\n",
      " /Users/harrysonghurst/opt/anaconda3/envs/traffic/lib/python3.8/site-packages/GPy/kern/src/stationary.py:168: RuntimeWarning:overflow encountered in true_divide\n",
      " /Users/harrysonghurst/opt/anaconda3/envs/traffic/lib/python3.8/site-packages/GPy/kern/src/rbf.py:76: RuntimeWarning:invalid value encountered in multiply\n"
     ]
    },
    {
     "name": "stdout",
     "output_type": "stream",
     "text": [
      "Optimization restart 1/5, f = 129.58659492208898\n",
      "Optimization restart 2/5, f = 129.5861367404218\n",
      "Optimization restart 3/5, f = 139.91560731677677\n",
      "Optimization restart 4/5, f = 155.67674667557384\n",
      "Optimization restart 5/5, f = 155.67671589857179\n",
      "[[20.         25.          5.         49.98726296  1.          3.58106687]]\n",
      "\n",
      "User function time loss called with 1 inputs to simulate\n",
      "\n",
      "Evaluating input: 1 of 1\n",
      "\n",
      " Retrying in 1 seconds\n"
     ]
    },
    {
     "name": "stderr",
     "output_type": "stream",
     "text": [
      " /Users/harrysonghurst/opt/anaconda3/envs/traffic/lib/python3.8/site-packages/paramz/transformations.py:111: RuntimeWarning:overflow encountered in expm1\n"
     ]
    },
    {
     "name": "stdout",
     "output_type": "stream",
     "text": [
      "Optimization restart 1/5, f = 133.80856012792378\n",
      "Optimization restart 2/5, f = 160.9389222045008\n",
      "Optimization restart 3/5, f = 133.80845551209936\n",
      "Optimization restart 4/5, f = 133.808455511155\n",
      "Optimization restart 5/5, f = 133.80845551392088\n",
      "[[ 3. 25. 27. 30.  1.  5.]]\n",
      "\n",
      "User function time loss called with 1 inputs to simulate\n",
      "\n",
      "Evaluating input: 1 of 1\n",
      "\n",
      " Retrying in 1 seconds\n"
     ]
    },
    {
     "name": "stderr",
     "output_type": "stream",
     "text": [
      " /Users/harrysonghurst/opt/anaconda3/envs/traffic/lib/python3.8/site-packages/paramz/transformations.py:111: RuntimeWarning:overflow encountered in expm1\n"
     ]
    },
    {
     "name": "stdout",
     "output_type": "stream",
     "text": [
      "Optimization restart 1/5, f = 146.6110986525201\n",
      "Optimization restart 2/5, f = 173.70980338879286\n",
      "Optimization restart 3/5, f = 173.70983736598814\n",
      "Optimization restart 4/5, f = 173.7099894411969\n",
      "Optimization restart 5/5, f = 173.70987954788367\n",
      "[[ 3.          9.79293183 23.71250128 54.55212046  1.          1.83241129]]\n",
      "\n",
      "User function time loss called with 1 inputs to simulate\n",
      "\n",
      "Evaluating input: 1 of 1\n",
      "\n",
      " Retrying in 1 seconds\n"
     ]
    },
    {
     "name": "stderr",
     "output_type": "stream",
     "text": [
      " /Users/harrysonghurst/opt/anaconda3/envs/traffic/lib/python3.8/site-packages/paramz/transformations.py:111: RuntimeWarning:overflow encountered in expm1\n"
     ]
    },
    {
     "name": "stdout",
     "output_type": "stream",
     "text": [
      "Optimization restart 1/5, f = 150.784470136286\n",
      "Optimization restart 2/5, f = 179.61449853693543\n",
      "Optimization restart 3/5, f = 168.5587623444648\n",
      "Optimization restart 4/5, f = 152.65673772362814\n",
      "Optimization restart 5/5, f = 168.56009966367063\n",
      "[[20.          8.         13.08777382 45.42502375  1.          1.5       ]]\n",
      "\n",
      "User function time loss called with 1 inputs to simulate\n",
      "\n",
      "Evaluating input: 1 of 1\n",
      "\n",
      " Retrying in 1 seconds\n"
     ]
    },
    {
     "name": "stderr",
     "output_type": "stream",
     "text": [
      " /Users/harrysonghurst/opt/anaconda3/envs/traffic/lib/python3.8/site-packages/paramz/transformations.py:111: RuntimeWarning:overflow encountered in expm1\n"
     ]
    },
    {
     "name": "stdout",
     "output_type": "stream",
     "text": [
      "Optimization restart 1/5, f = 155.17153032786106\n",
      "Optimization restart 2/5, f = 185.11232339542536\n",
      "Optimization restart 3/5, f = 185.1121825849958\n",
      "Optimization restart 4/5, f = 185.11216248813218\n",
      "Optimization restart 5/5, f = 185.11216025399267\n",
      "[[20.         23.25690195 24.14873837 70.          3.          5.        ]]\n",
      "\n",
      "User function time loss called with 1 inputs to simulate\n",
      "\n",
      "Evaluating input: 1 of 1\n",
      "\n",
      " Retrying in 1 seconds\n"
     ]
    },
    {
     "name": "stderr",
     "output_type": "stream",
     "text": [
      " /Users/harrysonghurst/opt/anaconda3/envs/traffic/lib/python3.8/site-packages/paramz/transformations.py:111: RuntimeWarning:overflow encountered in expm1\n",
      " /Users/harrysonghurst/opt/anaconda3/envs/traffic/lib/python3.8/site-packages/GPy/kern/src/stationary.py:168: RuntimeWarning:overflow encountered in true_divide\n",
      " /Users/harrysonghurst/opt/anaconda3/envs/traffic/lib/python3.8/site-packages/GPy/kern/src/rbf.py:76: RuntimeWarning:invalid value encountered in multiply\n"
     ]
    },
    {
     "name": "stdout",
     "output_type": "stream",
     "text": [
      "Optimization restart 1/5, f = 159.55211571324668\n",
      "Optimization restart 2/5, f = 190.94105957430293\n",
      "Optimization restart 3/5, f = 190.9412972639947\n",
      "Optimization restart 4/5, f = 190.94120102767323\n",
      "Optimization restart 5/5, f = 178.34735892634518\n",
      "[[ 4.         25.         25.90799977 57.41922576  1.          2.77519112]]\n",
      "\n",
      "User function time loss called with 1 inputs to simulate\n",
      "\n",
      "Evaluating input: 1 of 1\n",
      "\n",
      " Retrying in 1 seconds\n"
     ]
    },
    {
     "name": "stderr",
     "output_type": "stream",
     "text": [
      " /Users/harrysonghurst/opt/anaconda3/envs/traffic/lib/python3.8/site-packages/paramz/transformations.py:111: RuntimeWarning:overflow encountered in expm1\n"
     ]
    },
    {
     "name": "stdout",
     "output_type": "stream",
     "text": [
      "Optimization restart 1/5, f = 165.46560652346926\n",
      "Optimization restart 2/5, f = 197.41552210605704\n",
      "Optimization restart 3/5, f = 197.4155533676226\n",
      "Optimization restart 4/5, f = 197.4154881294277\n",
      "Optimization restart 5/5, f = 165.8478581547806\n",
      "[[19.          8.09324298  7.59651564 62.11896469  3.          3.45419374]]\n",
      "\n",
      "User function time loss called with 1 inputs to simulate\n",
      "\n",
      "Evaluating input: 1 of 1\n",
      "\n",
      " Retrying in 1 seconds\n"
     ]
    },
    {
     "name": "stderr",
     "output_type": "stream",
     "text": [
      " /Users/harrysonghurst/opt/anaconda3/envs/traffic/lib/python3.8/site-packages/paramz/transformations.py:111: RuntimeWarning:overflow encountered in expm1\n"
     ]
    },
    {
     "name": "stdout",
     "output_type": "stream",
     "text": [
      "Optimization restart 1/5, f = 169.57170126444674\n",
      "Optimization restart 2/5, f = 170.3782916964414\n",
      "Optimization restart 3/5, f = 202.90144925211408\n",
      "Optimization restart 4/5, f = 170.3782916961791\n",
      "Optimization restart 5/5, f = 202.90144185420607\n",
      "[[20.         21.01112776 26.36706637 44.64805657  1.          2.17814066]]\n",
      "\n",
      "User function time loss called with 1 inputs to simulate\n",
      "\n",
      "Evaluating input: 1 of 1\n",
      "\n",
      " Retrying in 1 seconds\n"
     ]
    },
    {
     "name": "stderr",
     "output_type": "stream",
     "text": [
      " /Users/harrysonghurst/opt/anaconda3/envs/traffic/lib/python3.8/site-packages/paramz/transformations.py:111: RuntimeWarning:overflow encountered in expm1\n"
     ]
    },
    {
     "name": "stdout",
     "output_type": "stream",
     "text": [
      "Optimization restart 1/5, f = 173.58188940040642\n",
      "Optimization restart 2/5, f = 208.5593526603243\n",
      "Optimization restart 3/5, f = 173.3419997985618\n",
      "Optimization restart 4/5, f = 208.55934331827487\n",
      "Optimization restart 5/5, f = 189.02355655126973\n"
     ]
    },
    {
     "name": "stderr",
     "output_type": "stream",
     "text": [
      " /Users/harrysonghurst/opt/anaconda3/envs/traffic/lib/python3.8/site-packages/GPy/kern/src/stationary.py:168: RuntimeWarning:overflow encountered in true_divide\n",
      " /Users/harrysonghurst/opt/anaconda3/envs/traffic/lib/python3.8/site-packages/GPy/kern/src/rbf.py:76: RuntimeWarning:invalid value encountered in multiply\n"
     ]
    },
    {
     "name": "stdout",
     "output_type": "stream",
     "text": [
      "[[12.         17.68684645 14.50024859 30.          1.          1.5       ]]\n",
      "\n",
      "User function time loss called with 1 inputs to simulate\n",
      "\n",
      "Evaluating input: 1 of 1\n",
      "\n",
      " Retrying in 1 seconds\n"
     ]
    },
    {
     "name": "stderr",
     "output_type": "stream",
     "text": [
      " /Users/harrysonghurst/opt/anaconda3/envs/traffic/lib/python3.8/site-packages/paramz/transformations.py:111: RuntimeWarning:overflow encountered in expm1\n"
     ]
    },
    {
     "name": "stdout",
     "output_type": "stream",
     "text": [
      "Optimization restart 1/5, f = 177.28370027502174\n",
      "Optimization restart 2/5, f = 178.9899609070332\n",
      "Optimization restart 3/5, f = 200.26285533852743\n",
      "Optimization restart 4/5, f = 214.4714538926404\n",
      "Optimization restart 5/5, f = 177.28302647144662\n",
      "[[14.          9.80129766 20.50044303 36.91453725  1.          5.        ]]\n",
      "\n",
      "User function time loss called with 1 inputs to simulate\n",
      "\n",
      "Evaluating input: 1 of 1\n",
      "\n",
      " Retrying in 1 seconds\n"
     ]
    },
    {
     "name": "stderr",
     "output_type": "stream",
     "text": [
      " /Users/harrysonghurst/opt/anaconda3/envs/traffic/lib/python3.8/site-packages/paramz/transformations.py:111: RuntimeWarning:overflow encountered in expm1\n"
     ]
    },
    {
     "name": "stdout",
     "output_type": "stream",
     "text": [
      "Optimization restart 1/5, f = 181.72981014469391\n",
      "Optimization restart 2/5, f = 183.20440009728478\n",
      "Optimization restart 3/5, f = 220.05619611953077\n",
      "Optimization restart 4/5, f = 220.05624396429155\n",
      "Optimization restart 5/5, f = 220.05618662023457\n",
      "[[ 9.         21.77629694  5.         60.77153582  3.          1.5       ]]\n",
      "\n",
      "User function time loss called with 1 inputs to simulate\n",
      "\n",
      "Evaluating input: 1 of 1\n",
      "\n",
      " Retrying in 1 seconds\n"
     ]
    },
    {
     "name": "stderr",
     "output_type": "stream",
     "text": [
      " /Users/harrysonghurst/opt/anaconda3/envs/traffic/lib/python3.8/site-packages/paramz/transformations.py:111: RuntimeWarning:overflow encountered in expm1\n"
     ]
    },
    {
     "name": "stdout",
     "output_type": "stream",
     "text": [
      "Optimization restart 1/5, f = 185.59157321243362\n",
      "Optimization restart 2/5, f = 187.47302709061222\n",
      "Optimization restart 3/5, f = 210.853174613797\n",
      "Optimization restart 4/5, f = 225.5050393621504\n",
      "Optimization restart 5/5, f = 225.5049378059159\n",
      "[[ 3.         11.1552561   5.         70.          1.          4.23843287]]\n",
      "\n",
      "User function time loss called with 1 inputs to simulate\n",
      "\n",
      "Evaluating input: 1 of 1\n",
      "\n",
      " Retrying in 1 seconds\n"
     ]
    },
    {
     "name": "stderr",
     "output_type": "stream",
     "text": [
      " /Users/harrysonghurst/opt/anaconda3/envs/traffic/lib/python3.8/site-packages/paramz/transformations.py:111: RuntimeWarning:overflow encountered in expm1\n"
     ]
    },
    {
     "name": "stdout",
     "output_type": "stream",
     "text": [
      "Optimization restart 1/5, f = 189.73461380041462\n",
      "Optimization restart 2/5, f = 230.95947588379914\n",
      "Optimization restart 3/5, f = 189.73370415653045\n",
      "Optimization restart 4/5, f = 230.95950476151555\n",
      "Optimization restart 5/5, f = 216.18656645716237\n",
      "[[ 9.          8.         24.22130243 64.40243341  1.          5.        ]]\n",
      "\n",
      "User function time loss called with 1 inputs to simulate\n",
      "\n",
      "Evaluating input: 1 of 1\n",
      "\n",
      " Retrying in 1 seconds\n"
     ]
    },
    {
     "name": "stderr",
     "output_type": "stream",
     "text": [
      " /Users/harrysonghurst/opt/anaconda3/envs/traffic/lib/python3.8/site-packages/paramz/transformations.py:111: RuntimeWarning:overflow encountered in expm1\n"
     ]
    },
    {
     "name": "stdout",
     "output_type": "stream",
     "text": [
      "Optimization restart 1/5, f = 197.40111470543786\n",
      "Optimization restart 2/5, f = 200.620579002415\n",
      "Optimization restart 3/5, f = 221.48597267573334\n"
     ]
    },
    {
     "name": "stderr",
     "output_type": "stream",
     "text": [
      " /Users/harrysonghurst/opt/anaconda3/envs/traffic/lib/python3.8/site-packages/GPy/kern/src/rbf.py:52: RuntimeWarning:overflow encountered in square\n",
      " /Users/harrysonghurst/opt/anaconda3/envs/traffic/lib/python3.8/site-packages/GPy/kern/src/stationary.py:168: RuntimeWarning:overflow encountered in true_divide\n",
      " /Users/harrysonghurst/opt/anaconda3/envs/traffic/lib/python3.8/site-packages/GPy/kern/src/rbf.py:76: RuntimeWarning:invalid value encountered in multiply\n",
      " /Users/harrysonghurst/opt/anaconda3/envs/traffic/lib/python3.8/site-packages/paramz/transformations.py:108: RuntimeWarning:invalid value encountered in greater\n",
      " /Users/harrysonghurst/opt/anaconda3/envs/traffic/lib/python3.8/site-packages/paramz/transformations.py:113: RuntimeWarning:invalid value encountered in greater\n"
     ]
    },
    {
     "name": "stdout",
     "output_type": "stream",
     "text": [
      "Warning - optimization restart 4/5 failed\n",
      "Optimization restart 5/5, f = 236.40675472564226\n",
      "[[ 3.          8.55163133  5.         35.67486897  3.          3.09743745]]\n",
      "\n",
      "User function time loss called with 1 inputs to simulate\n",
      "\n",
      "Evaluating input: 1 of 1\n",
      "\n",
      " Retrying in 1 seconds\n"
     ]
    },
    {
     "name": "stderr",
     "output_type": "stream",
     "text": [
      " /Users/harrysonghurst/opt/anaconda3/envs/traffic/lib/python3.8/site-packages/paramz/transformations.py:111: RuntimeWarning:overflow encountered in expm1\n"
     ]
    },
    {
     "name": "stdout",
     "output_type": "stream",
     "text": [
      "Optimization restart 1/5, f = 201.45443717191912\n",
      "Optimization restart 2/5, f = 201.43480882244043\n",
      "Optimization restart 3/5, f = 241.93705431566227\n",
      "Optimization restart 4/5, f = 241.93704203461496\n",
      "Optimization restart 5/5, f = 241.9370496350475\n",
      "[[20.         10.36151994 21.28650996 34.82823577  3.          3.4350326 ]]\n",
      "\n",
      "User function time loss called with 1 inputs to simulate\n",
      "\n",
      "Evaluating input: 1 of 1\n",
      "\n",
      " Retrying in 1 seconds\n"
     ]
    },
    {
     "name": "stderr",
     "output_type": "stream",
     "text": [
      " /Users/harrysonghurst/opt/anaconda3/envs/traffic/lib/python3.8/site-packages/paramz/transformations.py:111: RuntimeWarning:overflow encountered in expm1\n",
      " /Users/harrysonghurst/opt/anaconda3/envs/traffic/lib/python3.8/site-packages/GPy/kern/src/rbf.py:52: RuntimeWarning:overflow encountered in square\n"
     ]
    },
    {
     "name": "stdout",
     "output_type": "stream",
     "text": [
      "Optimization restart 1/5, f = 205.47896787178107\n",
      "Optimization restart 2/5, f = 247.4810036327766\n",
      "Optimization restart 3/5, f = 247.48098050031814\n",
      "Optimization restart 4/5, f = 205.47504836687312\n",
      "Optimization restart 5/5, f = 205.47504837165985\n",
      "[[ 9.         17.14109077 26.30383606 69.69311032  3.          1.5       ]]\n",
      "\n",
      "User function time loss called with 1 inputs to simulate\n",
      "\n",
      "Evaluating input: 1 of 1\n",
      "\n",
      " Retrying in 1 seconds\n"
     ]
    },
    {
     "name": "stderr",
     "output_type": "stream",
     "text": [
      " /Users/harrysonghurst/opt/anaconda3/envs/traffic/lib/python3.8/site-packages/paramz/transformations.py:111: RuntimeWarning:overflow encountered in expm1\n"
     ]
    },
    {
     "name": "stdout",
     "output_type": "stream",
     "text": [
      "Optimization restart 1/5, f = 212.13502307250948\n",
      "Optimization restart 2/5, f = 212.11214921968173\n",
      "Optimization restart 3/5, f = 253.080007877578\n",
      "Optimization restart 4/5, f = 212.11214986836939\n",
      "Optimization restart 5/5, f = 212.1121492154222\n"
     ]
    },
    {
     "name": "stderr",
     "output_type": "stream",
     "text": [
      " /Users/harrysonghurst/opt/anaconda3/envs/traffic/lib/python3.8/site-packages/GPy/kern/src/rbf.py:52: RuntimeWarning:overflow encountered in square\n"
     ]
    },
    {
     "name": "stdout",
     "output_type": "stream",
     "text": [
      "[[12.         25.         14.84887858 60.64874981  1.          5.        ]]\n",
      "\n",
      "User function time loss called with 1 inputs to simulate\n",
      "\n",
      "Evaluating input: 1 of 1\n",
      "\n",
      " Retrying in 1 seconds\n"
     ]
    },
    {
     "name": "stderr",
     "output_type": "stream",
     "text": [
      " /Users/harrysonghurst/opt/anaconda3/envs/traffic/lib/python3.8/site-packages/paramz/transformations.py:111: RuntimeWarning:overflow encountered in expm1\n"
     ]
    },
    {
     "name": "stdout",
     "output_type": "stream",
     "text": [
      "Optimization restart 1/5, f = 216.0080566554399\n",
      "Optimization restart 2/5, f = 216.00784661753406\n",
      "Optimization restart 3/5, f = 258.8325252158129\n",
      "Optimization restart 4/5, f = 216.007846600264\n",
      "Optimization restart 5/5, f = 237.8148392161485\n"
     ]
    },
    {
     "name": "stderr",
     "output_type": "stream",
     "text": [
      " /Users/harrysonghurst/opt/anaconda3/envs/traffic/lib/python3.8/site-packages/GPy/kern/src/stationary.py:168: RuntimeWarning:overflow encountered in true_divide\n",
      " /Users/harrysonghurst/opt/anaconda3/envs/traffic/lib/python3.8/site-packages/GPy/kern/src/rbf.py:76: RuntimeWarning:invalid value encountered in multiply\n"
     ]
    },
    {
     "name": "stdout",
     "output_type": "stream",
     "text": [
      "[[ 3.          8.         16.13962715 57.32058502  3.          5.        ]]\n",
      "\n",
      "User function time loss called with 1 inputs to simulate\n",
      "\n",
      "Evaluating input: 1 of 1\n",
      "\n",
      " Retrying in 1 seconds\n"
     ]
    },
    {
     "name": "stderr",
     "output_type": "stream",
     "text": [
      " /Users/harrysonghurst/opt/anaconda3/envs/traffic/lib/python3.8/site-packages/paramz/transformations.py:111: RuntimeWarning:overflow encountered in expm1\n",
      " /Users/harrysonghurst/opt/anaconda3/envs/traffic/lib/python3.8/site-packages/GPy/kern/src/rbf.py:52: RuntimeWarning:overflow encountered in square\n"
     ]
    },
    {
     "name": "stdout",
     "output_type": "stream",
     "text": [
      "Optimization restart 1/5, f = 220.49017648750777\n",
      "Optimization restart 2/5, f = 264.4248374985281\n",
      "Optimization restart 3/5, f = 220.48985043198786\n",
      "Optimization restart 4/5, f = 220.48985044379134\n",
      "Optimization restart 5/5, f = 264.4248878946977\n",
      "[[ 3.         13.27978182 26.73706259 38.7091037   1.          1.5       ]]\n",
      "\n",
      "User function time loss called with 1 inputs to simulate\n",
      "\n",
      "Evaluating input: 1 of 1\n",
      "\n",
      " Retrying in 1 seconds\n"
     ]
    },
    {
     "name": "stderr",
     "output_type": "stream",
     "text": [
      " /Users/harrysonghurst/opt/anaconda3/envs/traffic/lib/python3.8/site-packages/paramz/transformations.py:111: RuntimeWarning:overflow encountered in expm1\n"
     ]
    },
    {
     "name": "stdout",
     "output_type": "stream",
     "text": [
      "Optimization restart 1/5, f = 224.48894560272825\n",
      "Optimization restart 2/5, f = 271.3124086920805\n",
      "Optimization restart 3/5, f = 271.31237840411404\n",
      "Optimization restart 4/5, f = 224.48894543893067\n",
      "Optimization restart 5/5, f = 271.3124007651473\n",
      "[[20.        25.         7.010791  37.0282522  3.         5.       ]]\n",
      "\n",
      "User function time loss called with 1 inputs to simulate\n",
      "\n",
      "Evaluating input: 1 of 1\n",
      "\n",
      " Retrying in 1 seconds\n"
     ]
    },
    {
     "name": "stderr",
     "output_type": "stream",
     "text": [
      " /Users/harrysonghurst/opt/anaconda3/envs/traffic/lib/python3.8/site-packages/paramz/transformations.py:111: RuntimeWarning:overflow encountered in expm1\n",
      " /Users/harrysonghurst/opt/anaconda3/envs/traffic/lib/python3.8/site-packages/GPy/kern/src/rbf.py:52: RuntimeWarning:overflow encountered in square\n",
      " /Users/harrysonghurst/opt/anaconda3/envs/traffic/lib/python3.8/site-packages/GPy/kern/src/stationary.py:168: RuntimeWarning:overflow encountered in true_divide\n",
      " /Users/harrysonghurst/opt/anaconda3/envs/traffic/lib/python3.8/site-packages/GPy/kern/src/rbf.py:76: RuntimeWarning:invalid value encountered in multiply\n"
     ]
    },
    {
     "name": "stdout",
     "output_type": "stream",
     "text": [
      "Optimization restart 1/5, f = 228.80276794932246\n",
      "Optimization restart 2/5, f = 253.94881037521594\n",
      "Optimization restart 3/5, f = 276.7314136775161\n",
      "Optimization restart 4/5, f = 228.79834213987982\n",
      "Optimization restart 5/5, f = 276.73138062962227\n",
      "[[20.  8.  5. 30.  1.  5.]]\n",
      "\n",
      "User function time loss called with 1 inputs to simulate\n",
      "\n",
      "Evaluating input: 1 of 1\n",
      "\n",
      " Retrying in 1 seconds\n"
     ]
    },
    {
     "name": "stderr",
     "output_type": "stream",
     "text": [
      " /Users/harrysonghurst/opt/anaconda3/envs/traffic/lib/python3.8/site-packages/paramz/transformations.py:111: RuntimeWarning:overflow encountered in expm1\n"
     ]
    },
    {
     "name": "stdout",
     "output_type": "stream",
     "text": [
      "Optimization restart 1/5, f = 233.12078191900002\n",
      "Optimization restart 2/5, f = 282.12732926164665\n",
      "Optimization restart 3/5, f = 282.12733733677334\n",
      "Optimization restart 4/5, f = 233.12056429527664\n",
      "Optimization restart 5/5, f = 263.2949289064197\n",
      "[[ 3.         13.84534182 16.1400136  40.79707874  1.          5.        ]]\n",
      "\n",
      "User function time loss called with 1 inputs to simulate\n",
      "\n",
      "Evaluating input: 1 of 1\n",
      "\n",
      " Retrying in 1 seconds\n"
     ]
    },
    {
     "name": "stderr",
     "output_type": "stream",
     "text": [
      " /Users/harrysonghurst/opt/anaconda3/envs/traffic/lib/python3.8/site-packages/paramz/transformations.py:111: RuntimeWarning:overflow encountered in expm1\n"
     ]
    },
    {
     "name": "stdout",
     "output_type": "stream",
     "text": [
      "Optimization restart 1/5, f = 252.59790243712456\n",
      "Optimization restart 2/5, f = 252.5393752097865\n",
      "Optimization restart 3/5, f = 252.5393734348902\n",
      "Optimization restart 4/5, f = 252.53937343710132\n",
      "Optimization restart 5/5, f = 291.7114482363343\n",
      "[[20.  25.   5.  70.   1.   1.5]]\n",
      "\n",
      "User function time loss called with 1 inputs to simulate\n",
      "\n",
      "Evaluating input: 1 of 1\n",
      "\n",
      " Retrying in 1 seconds\n"
     ]
    },
    {
     "name": "stderr",
     "output_type": "stream",
     "text": [
      " /Users/harrysonghurst/opt/anaconda3/envs/traffic/lib/python3.8/site-packages/paramz/transformations.py:111: RuntimeWarning:overflow encountered in expm1\n"
     ]
    },
    {
     "name": "stdout",
     "output_type": "stream",
     "text": [
      "Optimization restart 1/5, f = 257.07665611490546\n",
      "Optimization restart 2/5, f = 257.0765714234465\n",
      "Optimization restart 3/5, f = 257.0765715363118\n",
      "Optimization restart 4/5, f = 297.1614179204486\n",
      "Optimization restart 5/5, f = 257.076571421415\n",
      "[[ 3.         23.81970655 27.         70.          3.          5.        ]]\n",
      "\n",
      "User function time loss called with 1 inputs to simulate\n",
      "\n",
      "Evaluating input: 1 of 1\n",
      "\n",
      " Retrying in 1 seconds\n"
     ]
    },
    {
     "name": "stderr",
     "output_type": "stream",
     "text": [
      " /Users/harrysonghurst/opt/anaconda3/envs/traffic/lib/python3.8/site-packages/paramz/transformations.py:111: RuntimeWarning:overflow encountered in expm1\n"
     ]
    },
    {
     "name": "stdout",
     "output_type": "stream",
     "text": [
      "Optimization restart 1/5, f = 271.6275355682596\n",
      "Optimization restart 2/5, f = 307.9950107140668\n",
      "Optimization restart 3/5, f = 272.520956270003\n",
      "Optimization restart 4/5, f = 307.99500169166254\n",
      "Optimization restart 5/5, f = 307.995152856944\n",
      "[[18.         22.85957999 27.         30.          3.          5.        ]]\n",
      "\n",
      "User function time loss called with 1 inputs to simulate\n",
      "\n",
      "Evaluating input: 1 of 1\n",
      "\n",
      " Retrying in 1 seconds\n"
     ]
    },
    {
     "name": "stderr",
     "output_type": "stream",
     "text": [
      " /Users/harrysonghurst/opt/anaconda3/envs/traffic/lib/python3.8/site-packages/paramz/transformations.py:111: RuntimeWarning:overflow encountered in expm1\n"
     ]
    },
    {
     "name": "stdout",
     "output_type": "stream",
     "text": [
      "Optimization restart 1/5, f = 276.38207092522583\n",
      "Optimization restart 2/5, f = 276.1935177828756\n",
      "Optimization restart 3/5, f = 314.2340354517569\n",
      "Optimization restart 4/5, f = 276.19351778084695\n",
      "Optimization restart 5/5, f = 314.2340359367781\n",
      "[[19.  8. 27. 70.  3.  5.]]\n",
      "\n",
      "User function time loss called with 1 inputs to simulate\n",
      "\n",
      "Evaluating input: 1 of 1\n",
      "\n",
      " Retrying in 1 seconds\n"
     ]
    },
    {
     "name": "stderr",
     "output_type": "stream",
     "text": [
      " /Users/harrysonghurst/opt/anaconda3/envs/traffic/lib/python3.8/site-packages/paramz/transformations.py:111: RuntimeWarning:overflow encountered in expm1\n"
     ]
    },
    {
     "name": "stdout",
     "output_type": "stream",
     "text": [
      "Optimization restart 1/5, f = 280.89239145719324\n",
      "Optimization restart 2/5, f = 319.7822408984805\n",
      "Optimization restart 3/5, f = 280.89218318291546\n",
      "Optimization restart 4/5, f = 319.7823514445848\n",
      "Optimization restart 5/5, f = 280.89218318100046\n",
      "[[20.   8.   5.  70.   3.   1.5]]\n",
      "\n",
      "User function time loss called with 1 inputs to simulate\n",
      "\n",
      "Evaluating input: 1 of 1\n",
      "\n",
      " Retrying in 1 seconds\n"
     ]
    },
    {
     "name": "stderr",
     "output_type": "stream",
     "text": [
      " /Users/harrysonghurst/opt/anaconda3/envs/traffic/lib/python3.8/site-packages/paramz/transformations.py:111: RuntimeWarning:overflow encountered in expm1\n"
     ]
    },
    {
     "name": "stdout",
     "output_type": "stream",
     "text": [
      "Optimization restart 1/5, f = 285.60497332973654\n",
      "Optimization restart 2/5, f = 285.60488092016743\n",
      "Optimization restart 3/5, f = 325.31293737118017\n"
     ]
    },
    {
     "name": "stderr",
     "output_type": "stream",
     "text": [
      " /Users/harrysonghurst/opt/anaconda3/envs/traffic/lib/python3.8/site-packages/GPy/kern/src/stationary.py:168: RuntimeWarning:overflow encountered in true_divide\n",
      " /Users/harrysonghurst/opt/anaconda3/envs/traffic/lib/python3.8/site-packages/GPy/kern/src/rbf.py:76: RuntimeWarning:invalid value encountered in multiply\n"
     ]
    },
    {
     "name": "stdout",
     "output_type": "stream",
     "text": [
      "Optimization restart 4/5, f = 288.6413825199433\n",
      "Optimization restart 5/5, f = 307.8250561716165\n",
      "[[ 3.  8. 27. 30.  1.  5.]]\n",
      "\n",
      "User function time loss called with 1 inputs to simulate\n",
      "\n",
      "Evaluating input: 1 of 1\n",
      "\n",
      " Retrying in 1 seconds\n"
     ]
    },
    {
     "name": "stderr",
     "output_type": "stream",
     "text": [
      " /Users/harrysonghurst/opt/anaconda3/envs/traffic/lib/python3.8/site-packages/paramz/transformations.py:111: RuntimeWarning:overflow encountered in expm1\n"
     ]
    },
    {
     "name": "stdout",
     "output_type": "stream",
     "text": [
      "Optimization restart 1/5, f = 290.52198563193394\n",
      "Optimization restart 2/5, f = 331.7842127278471\n",
      "Optimization restart 3/5, f = 331.7842204789588\n",
      "Optimization restart 4/5, f = 290.512546671923\n"
     ]
    },
    {
     "name": "stderr",
     "output_type": "stream",
     "text": [
      " /Users/harrysonghurst/opt/anaconda3/envs/traffic/lib/python3.8/site-packages/GPy/kern/src/rbf.py:52: RuntimeWarning:overflow encountered in square\n",
      " /Users/harrysonghurst/opt/anaconda3/envs/traffic/lib/python3.8/site-packages/GPy/kern/src/stationary.py:168: RuntimeWarning:overflow encountered in true_divide\n",
      " /Users/harrysonghurst/opt/anaconda3/envs/traffic/lib/python3.8/site-packages/GPy/kern/src/rbf.py:76: RuntimeWarning:invalid value encountered in multiply\n",
      " /Users/harrysonghurst/opt/anaconda3/envs/traffic/lib/python3.8/site-packages/paramz/transformations.py:108: RuntimeWarning:invalid value encountered in greater\n",
      " /Users/harrysonghurst/opt/anaconda3/envs/traffic/lib/python3.8/site-packages/paramz/transformations.py:113: RuntimeWarning:invalid value encountered in greater\n"
     ]
    },
    {
     "name": "stdout",
     "output_type": "stream",
     "text": [
      "Warning - optimization restart 5/5 failed\n",
      "[[ 3.          8.         27.         69.89413118  1.          1.5       ]]\n",
      "\n",
      "User function time loss called with 1 inputs to simulate\n",
      "\n",
      "Evaluating input: 1 of 1\n",
      "\n",
      " Retrying in 1 seconds\n"
     ]
    },
    {
     "name": "stderr",
     "output_type": "stream",
     "text": [
      " /Users/harrysonghurst/opt/anaconda3/envs/traffic/lib/python3.8/site-packages/paramz/transformations.py:111: RuntimeWarning:overflow encountered in expm1\n"
     ]
    },
    {
     "name": "stdout",
     "output_type": "stream",
     "text": [
      "Optimization restart 1/5, f = 295.2935344719581\n",
      "Optimization restart 2/5, f = 337.3935549115132\n",
      "Optimization restart 3/5, f = 295.29230603340324\n",
      "Optimization restart 4/5, f = 337.3933852940637\n",
      "Optimization restart 5/5, f = 337.39337862109915\n",
      "[[ 3.         25.         18.1354337  55.53219215  3.          1.5       ]]\n",
      "\n",
      "User function time loss called with 1 inputs to simulate\n",
      "\n",
      "Evaluating input: 1 of 1\n",
      "\n",
      " Retrying in 1 seconds\n"
     ]
    },
    {
     "name": "stderr",
     "output_type": "stream",
     "text": [
      " /Users/harrysonghurst/opt/anaconda3/envs/traffic/lib/python3.8/site-packages/paramz/transformations.py:111: RuntimeWarning:overflow encountered in expm1\n"
     ]
    },
    {
     "name": "stdout",
     "output_type": "stream",
     "text": [
      "Optimization restart 1/5, f = 299.7803337008422\n",
      "Optimization restart 2/5, f = 299.780325881838\n",
      "Optimization restart 3/5, f = 299.78032595512315\n",
      "Optimization restart 4/5, f = 299.7803258843564\n",
      "Optimization restart 5/5, f = 343.8388188510198\n",
      "[[16.         8.        14.8896551 30.         3.         1.5      ]]\n",
      "\n",
      "User function time loss called with 1 inputs to simulate\n",
      "\n",
      "Evaluating input: 1 of 1\n",
      "\n",
      " Retrying in 1 seconds\n"
     ]
    },
    {
     "name": "stderr",
     "output_type": "stream",
     "text": [
      " /Users/harrysonghurst/opt/anaconda3/envs/traffic/lib/python3.8/site-packages/paramz/transformations.py:111: RuntimeWarning:overflow encountered in expm1\n"
     ]
    },
    {
     "name": "stdout",
     "output_type": "stream",
     "text": [
      "Optimization restart 1/5, f = 304.256959650432\n",
      "Optimization restart 2/5, f = 349.43277604218594\n",
      "Optimization restart 3/5, f = 304.2569282958169\n",
      "Optimization restart 4/5, f = 349.4328151336017\n",
      "Optimization restart 5/5, f = 349.4327579330748\n",
      "[[20.         25.          5.         48.49832402  3.          1.5       ]]\n",
      "\n",
      "User function time loss called with 1 inputs to simulate\n",
      "\n",
      "Evaluating input: 1 of 1\n",
      "\n",
      " Retrying in 1 seconds\n"
     ]
    },
    {
     "name": "stderr",
     "output_type": "stream",
     "text": [
      " /Users/harrysonghurst/opt/anaconda3/envs/traffic/lib/python3.8/site-packages/paramz/transformations.py:111: RuntimeWarning:overflow encountered in expm1\n"
     ]
    },
    {
     "name": "stdout",
     "output_type": "stream",
     "text": [
      "Optimization restart 1/5, f = 309.04209698329277\n",
      "Optimization restart 2/5, f = 354.9573766448487\n",
      "Optimization restart 3/5, f = 309.04087501085195\n",
      "Optimization restart 4/5, f = 354.9573540323857\n",
      "Optimization restart 5/5, f = 354.95735323653304\n",
      "[[20.          8.          5.         50.33367021  1.          1.5       ]]\n",
      "\n",
      "User function time loss called with 1 inputs to simulate\n",
      "\n",
      "Evaluating input: 1 of 1\n",
      "\n",
      " Retrying in 1 seconds\n"
     ]
    },
    {
     "name": "stderr",
     "output_type": "stream",
     "text": [
      " /Users/harrysonghurst/opt/anaconda3/envs/traffic/lib/python3.8/site-packages/paramz/transformations.py:111: RuntimeWarning:overflow encountered in expm1\n"
     ]
    },
    {
     "name": "stdout",
     "output_type": "stream",
     "text": [
      "Optimization restart 1/5, f = 313.5368760495859\n",
      "Optimization restart 2/5, f = 313.5368415185825\n"
     ]
    },
    {
     "name": "stderr",
     "output_type": "stream",
     "text": [
      " /Users/harrysonghurst/opt/anaconda3/envs/traffic/lib/python3.8/site-packages/GPy/kern/src/stationary.py:168: RuntimeWarning:overflow encountered in true_divide\n",
      " /Users/harrysonghurst/opt/anaconda3/envs/traffic/lib/python3.8/site-packages/GPy/kern/src/rbf.py:76: RuntimeWarning:invalid value encountered in multiply\n"
     ]
    },
    {
     "name": "stdout",
     "output_type": "stream",
     "text": [
      "Optimization restart 3/5, f = 316.5003019906044\n",
      "Optimization restart 4/5, f = 340.6428164535825\n",
      "Optimization restart 5/5, f = 360.47254802919923\n",
      "[[ 3.        10.2268998  5.        30.         3.         5.       ]]\n",
      "\n",
      "User function time loss called with 1 inputs to simulate\n",
      "\n",
      "Evaluating input: 1 of 1\n",
      "\n",
      " Retrying in 1 seconds\n"
     ]
    },
    {
     "name": "stderr",
     "output_type": "stream",
     "text": [
      " /Users/harrysonghurst/opt/anaconda3/envs/traffic/lib/python3.8/site-packages/paramz/transformations.py:111: RuntimeWarning:overflow encountered in expm1\n"
     ]
    },
    {
     "name": "stdout",
     "output_type": "stream",
     "text": [
      "Optimization restart 1/5, f = 318.34446045828145\n",
      "Optimization restart 2/5, f = 318.33710910326187\n",
      "Optimization restart 3/5, f = 318.3371091163561\n",
      "Optimization restart 4/5, f = 366.09699487728875\n",
      "Optimization restart 5/5, f = 345.66884237651084\n"
     ]
    },
    {
     "name": "stderr",
     "output_type": "stream",
     "text": [
      " /Users/harrysonghurst/opt/anaconda3/envs/traffic/lib/python3.8/site-packages/GPy/kern/src/stationary.py:168: RuntimeWarning:overflow encountered in true_divide\n",
      " /Users/harrysonghurst/opt/anaconda3/envs/traffic/lib/python3.8/site-packages/GPy/kern/src/rbf.py:76: RuntimeWarning:invalid value encountered in multiply\n"
     ]
    },
    {
     "name": "stdout",
     "output_type": "stream",
     "text": [
      "[[ 3.         23.63043121  5.         58.56273646  3.          1.5       ]]\n",
      "\n",
      "User function time loss called with 1 inputs to simulate\n",
      "\n",
      "Evaluating input: 1 of 1\n",
      "\n",
      " Retrying in 1 seconds\n"
     ]
    },
    {
     "name": "stderr",
     "output_type": "stream",
     "text": [
      " /Users/harrysonghurst/opt/anaconda3/envs/traffic/lib/python3.8/site-packages/paramz/transformations.py:111: RuntimeWarning:overflow encountered in expm1\n"
     ]
    },
    {
     "name": "stdout",
     "output_type": "stream",
     "text": [
      "Optimization restart 1/5, f = 322.82049009103065\n",
      "Optimization restart 2/5, f = 371.62964052414543\n",
      "Optimization restart 3/5, f = 322.8204889070182\n",
      "Optimization restart 4/5, f = 322.82048945130913\n",
      "Optimization restart 5/5, f = 322.8204904848627\n",
      "[[20.          8.         27.         41.51684604  3.          5.        ]]\n",
      "\n",
      "User function time loss called with 1 inputs to simulate\n",
      "\n",
      "Evaluating input: 1 of 1\n",
      "\n",
      " Retrying in 1 seconds\n"
     ]
    },
    {
     "name": "stderr",
     "output_type": "stream",
     "text": [
      " /Users/harrysonghurst/opt/anaconda3/envs/traffic/lib/python3.8/site-packages/paramz/transformations.py:111: RuntimeWarning:overflow encountered in expm1\n"
     ]
    },
    {
     "name": "stdout",
     "output_type": "stream",
     "text": [
      "Optimization restart 1/5, f = 327.31229482537333\n",
      "Optimization restart 2/5, f = 377.14928518361796\n",
      "Optimization restart 3/5, f = 356.6682130832943\n",
      "Optimization restart 4/5, f = 327.31216534460305\n",
      "Optimization restart 5/5, f = 327.3121653458281\n",
      "[[20.         25.         17.07415987 46.8001103   1.          5.        ]]\n",
      "\n",
      "User function time loss called with 1 inputs to simulate\n",
      "\n",
      "Evaluating input: 1 of 1\n",
      "\n",
      " Retrying in 1 seconds\n"
     ]
    },
    {
     "name": "stderr",
     "output_type": "stream",
     "text": [
      " /Users/harrysonghurst/opt/anaconda3/envs/traffic/lib/python3.8/site-packages/paramz/transformations.py:111: RuntimeWarning:overflow encountered in expm1\n",
      " /Users/harrysonghurst/opt/anaconda3/envs/traffic/lib/python3.8/site-packages/GPy/kern/src/stationary.py:168: RuntimeWarning:overflow encountered in true_divide\n",
      " /Users/harrysonghurst/opt/anaconda3/envs/traffic/lib/python3.8/site-packages/GPy/kern/src/rbf.py:76: RuntimeWarning:invalid value encountered in multiply\n"
     ]
    },
    {
     "name": "stdout",
     "output_type": "stream",
     "text": [
      "Optimization restart 1/5, f = 331.72984630280416\n",
      "Optimization restart 2/5, f = 349.4673428461405\n",
      "Optimization restart 3/5, f = 382.93708784839134\n",
      "Optimization restart 4/5, f = 331.72899679025755\n",
      "Optimization restart 5/5, f = 382.9370990574654\n",
      "[[ 8.         20.86934127 27.         42.19509011  3.          1.5       ]]\n",
      "\n",
      "User function time loss called with 1 inputs to simulate\n",
      "\n",
      "Evaluating input: 1 of 1\n",
      "\n",
      " Retrying in 1 seconds\n"
     ]
    },
    {
     "name": "stderr",
     "output_type": "stream",
     "text": [
      " /Users/harrysonghurst/opt/anaconda3/envs/traffic/lib/python3.8/site-packages/paramz/transformations.py:111: RuntimeWarning:overflow encountered in expm1\n"
     ]
    },
    {
     "name": "stdout",
     "output_type": "stream",
     "text": [
      "Optimization restart 1/5, f = 336.4269366580933\n",
      "Optimization restart 2/5, f = 389.24436074606456\n",
      "Optimization restart 3/5, f = 389.24433779233755\n"
     ]
    },
    {
     "name": "stderr",
     "output_type": "stream",
     "text": [
      " /Users/harrysonghurst/opt/anaconda3/envs/traffic/lib/python3.8/site-packages/GPy/kern/src/rbf.py:52: RuntimeWarning:overflow encountered in square\n",
      " /Users/harrysonghurst/opt/anaconda3/envs/traffic/lib/python3.8/site-packages/GPy/kern/src/stationary.py:168: RuntimeWarning:overflow encountered in true_divide\n",
      " /Users/harrysonghurst/opt/anaconda3/envs/traffic/lib/python3.8/site-packages/GPy/kern/src/rbf.py:76: RuntimeWarning:invalid value encountered in multiply\n",
      " /Users/harrysonghurst/opt/anaconda3/envs/traffic/lib/python3.8/site-packages/paramz/transformations.py:108: RuntimeWarning:invalid value encountered in greater\n",
      " /Users/harrysonghurst/opt/anaconda3/envs/traffic/lib/python3.8/site-packages/paramz/transformations.py:113: RuntimeWarning:invalid value encountered in greater\n"
     ]
    },
    {
     "name": "stdout",
     "output_type": "stream",
     "text": [
      "Warning - optimization restart 4/5 failed\n",
      "Optimization restart 5/5, f = 336.45351311429533\n",
      "[[11.         15.25488833 14.55554221 63.40189951  3.          5.        ]]\n",
      "\n",
      "User function time loss called with 1 inputs to simulate\n",
      "\n",
      "Evaluating input: 1 of 1\n",
      "\n",
      " Retrying in 1 seconds\n"
     ]
    },
    {
     "name": "stderr",
     "output_type": "stream",
     "text": [
      " /Users/harrysonghurst/opt/anaconda3/envs/traffic/lib/python3.8/site-packages/paramz/transformations.py:111: RuntimeWarning:overflow encountered in expm1\n",
      " /Users/harrysonghurst/opt/anaconda3/envs/traffic/lib/python3.8/site-packages/GPy/kern/src/rbf.py:52: RuntimeWarning:overflow encountered in square\n"
     ]
    },
    {
     "name": "stdout",
     "output_type": "stream",
     "text": [
      "Optimization restart 1/5, f = 340.70202747235896\n",
      "Optimization restart 2/5, f = 394.96103848352953\n",
      "Optimization restart 3/5, f = 340.6573694246649\n",
      "Optimization restart 4/5, f = 340.65736942964685\n",
      "Optimization restart 5/5, f = 340.65736942543793\n",
      "[[10.          8.         16.21377208 41.97496046  1.          1.5       ]]\n",
      "\n",
      "User function time loss called with 1 inputs to simulate\n",
      "\n",
      "Evaluating input: 1 of 1\n",
      "\n",
      " Retrying in 1 seconds\n"
     ]
    },
    {
     "name": "stderr",
     "output_type": "stream",
     "text": [
      " /Users/harrysonghurst/opt/anaconda3/envs/traffic/lib/python3.8/site-packages/paramz/transformations.py:111: RuntimeWarning:overflow encountered in expm1\n",
      " /Users/harrysonghurst/opt/anaconda3/envs/traffic/lib/python3.8/site-packages/GPy/kern/src/stationary.py:168: RuntimeWarning:overflow encountered in true_divide\n",
      " /Users/harrysonghurst/opt/anaconda3/envs/traffic/lib/python3.8/site-packages/GPy/kern/src/rbf.py:76: RuntimeWarning:invalid value encountered in multiply\n"
     ]
    },
    {
     "name": "stdout",
     "output_type": "stream",
     "text": [
      "Optimization restart 1/5, f = 344.92590033233324\n",
      "Optimization restart 2/5, f = 377.5512498213656\n",
      "Optimization restart 3/5, f = 357.4227326692342\n",
      "Optimization restart 4/5, f = 400.52651671099085\n",
      "Optimization restart 5/5, f = 344.92584625190204\n",
      "[[ 3.         17.4960987  17.50833763 63.020542    1.          1.5       ]]\n",
      "\n",
      "User function time loss called with 1 inputs to simulate\n",
      "\n",
      "Evaluating input: 1 of 1\n",
      "\n",
      " Retrying in 1 seconds\n"
     ]
    },
    {
     "name": "stderr",
     "output_type": "stream",
     "text": [
      " /Users/harrysonghurst/opt/anaconda3/envs/traffic/lib/python3.8/site-packages/paramz/transformations.py:111: RuntimeWarning:overflow encountered in expm1\n",
      " /Users/harrysonghurst/opt/anaconda3/envs/traffic/lib/python3.8/site-packages/GPy/kern/src/stationary.py:168: RuntimeWarning:overflow encountered in true_divide\n",
      " /Users/harrysonghurst/opt/anaconda3/envs/traffic/lib/python3.8/site-packages/GPy/kern/src/rbf.py:76: RuntimeWarning:invalid value encountered in multiply\n"
     ]
    },
    {
     "name": "stdout",
     "output_type": "stream",
     "text": [
      "Optimization restart 1/5, f = 349.18840438452054\n",
      "Optimization restart 2/5, f = 406.6473179310877\n",
      "Optimization restart 3/5, f = 382.829818479253\n",
      "Optimization restart 4/5, f = 352.37080962496617\n",
      "Optimization restart 5/5, f = 349.1879183961552\n",
      "[[10.         15.79711541 22.03694028 31.50395753  3.          5.        ]]\n",
      "\n",
      "User function time loss called with 1 inputs to simulate\n",
      "\n",
      "Evaluating input: 1 of 1\n",
      "\n",
      " Retrying in 1 seconds\n"
     ]
    },
    {
     "name": "stderr",
     "output_type": "stream",
     "text": [
      " /Users/harrysonghurst/opt/anaconda3/envs/traffic/lib/python3.8/site-packages/paramz/transformations.py:111: RuntimeWarning:overflow encountered in expm1\n"
     ]
    },
    {
     "name": "stdout",
     "output_type": "stream",
     "text": [
      "Optimization restart 1/5, f = 353.3617222516309\n",
      "Optimization restart 2/5, f = 356.3425109897935\n",
      "Optimization restart 3/5, f = 353.3615546086444\n",
      "Optimization restart 4/5, f = 413.31163645851456\n",
      "Optimization restart 5/5, f = 353.36155459650814\n"
     ]
    },
    {
     "name": "stderr",
     "output_type": "stream",
     "text": [
      " /Users/harrysonghurst/opt/anaconda3/envs/traffic/lib/python3.8/site-packages/GPy/kern/src/rbf.py:52: RuntimeWarning:overflow encountered in square\n"
     ]
    },
    {
     "name": "stdout",
     "output_type": "stream",
     "text": [
      "[[13.         14.22062989  6.81886857 61.56577504  1.          1.5       ]]\n",
      "\n",
      "User function time loss called with 1 inputs to simulate\n",
      "\n",
      "Evaluating input: 1 of 1\n",
      "\n",
      " Retrying in 1 seconds\n"
     ]
    },
    {
     "name": "stderr",
     "output_type": "stream",
     "text": [
      " /Users/harrysonghurst/opt/anaconda3/envs/traffic/lib/python3.8/site-packages/paramz/transformations.py:111: RuntimeWarning:overflow encountered in expm1\n"
     ]
    },
    {
     "name": "stdout",
     "output_type": "stream",
     "text": [
      "Optimization restart 1/5, f = 357.49647025953004\n",
      "Optimization restart 2/5, f = 357.49617913978904\n",
      "Optimization restart 3/5, f = 418.8072081877805\n",
      "Optimization restart 4/5, f = 357.49617920436026\n",
      "Optimization restart 5/5, f = 418.8072071792754\n",
      "[[13.         17.94132419 23.12732287 39.28835966  1.          5.        ]]\n",
      "\n",
      "User function time loss called with 1 inputs to simulate\n",
      "\n",
      "Evaluating input: 1 of 1\n",
      "\n",
      " Retrying in 1 seconds\n"
     ]
    },
    {
     "name": "stderr",
     "output_type": "stream",
     "text": [
      " /Users/harrysonghurst/opt/anaconda3/envs/traffic/lib/python3.8/site-packages/paramz/transformations.py:111: RuntimeWarning:overflow encountered in expm1\n"
     ]
    },
    {
     "name": "stdout",
     "output_type": "stream",
     "text": [
      "Optimization restart 1/5, f = 361.6164799950956\n",
      "Optimization restart 2/5, f = 361.6157559614029\n",
      "Optimization restart 3/5, f = 425.02933101665155\n",
      "Optimization restart 4/5, f = 373.16376910483075\n",
      "Optimization restart 5/5, f = 361.6157559620055\n"
     ]
    },
    {
     "name": "stderr",
     "output_type": "stream",
     "text": [
      " /Users/harrysonghurst/opt/anaconda3/envs/traffic/lib/python3.8/site-packages/GPy/kern/src/rbf.py:52: RuntimeWarning:overflow encountered in square\n",
      " /Users/harrysonghurst/opt/anaconda3/envs/traffic/lib/python3.8/site-packages/GPy/kern/src/stationary.py:168: RuntimeWarning:overflow encountered in true_divide\n",
      " /Users/harrysonghurst/opt/anaconda3/envs/traffic/lib/python3.8/site-packages/GPy/kern/src/rbf.py:76: RuntimeWarning:invalid value encountered in multiply\n"
     ]
    },
    {
     "name": "stdout",
     "output_type": "stream",
     "text": [
      "[[20.         15.69811608 13.2452101  35.78762017  3.          1.5       ]]\n",
      "\n",
      "User function time loss called with 1 inputs to simulate\n",
      "\n",
      "Evaluating input: 1 of 1\n",
      "\n",
      " Retrying in 1 seconds\n"
     ]
    },
    {
     "name": "stderr",
     "output_type": "stream",
     "text": [
      " /Users/harrysonghurst/opt/anaconda3/envs/traffic/lib/python3.8/site-packages/paramz/transformations.py:111: RuntimeWarning:overflow encountered in expm1\n"
     ]
    },
    {
     "name": "stdout",
     "output_type": "stream",
     "text": [
      "Optimization restart 1/5, f = 365.74540087778297\n",
      "Optimization restart 2/5, f = 368.3203340815955\n",
      "Optimization restart 3/5, f = 368.32033408159145\n",
      "Optimization restart 4/5, f = 430.61771856180934\n",
      "Optimization restart 5/5, f = 368.32033408159816\n",
      "[[20.         12.8027799  13.82614841 56.65858755  1.          5.        ]]\n",
      "\n",
      "User function time loss called with 1 inputs to simulate\n",
      "\n",
      "Evaluating input: 1 of 1\n",
      "\n",
      " Retrying in 1 seconds\n"
     ]
    },
    {
     "name": "stderr",
     "output_type": "stream",
     "text": [
      " /Users/harrysonghurst/opt/anaconda3/envs/traffic/lib/python3.8/site-packages/paramz/transformations.py:111: RuntimeWarning:overflow encountered in expm1\n",
      " /Users/harrysonghurst/opt/anaconda3/envs/traffic/lib/python3.8/site-packages/GPy/kern/src/rbf.py:52: RuntimeWarning:overflow encountered in square\n"
     ]
    },
    {
     "name": "stdout",
     "output_type": "stream",
     "text": [
      "Optimization restart 1/5, f = 369.9521674155164\n",
      "Optimization restart 2/5, f = 369.95203969208603\n",
      "Optimization restart 3/5, f = 369.9520386397239\n",
      "Optimization restart 4/5, f = 436.18800514107096\n",
      "Optimization restart 5/5, f = 436.18797130319945\n",
      "[[11.         22.41838645  6.78795284 46.17528853  1.          5.        ]]\n",
      "\n",
      "User function time loss called with 1 inputs to simulate\n",
      "\n",
      "Evaluating input: 1 of 1\n",
      "\n",
      " Retrying in 1 seconds\n"
     ]
    },
    {
     "name": "stderr",
     "output_type": "stream",
     "text": [
      " /Users/harrysonghurst/opt/anaconda3/envs/traffic/lib/python3.8/site-packages/paramz/transformations.py:111: RuntimeWarning:overflow encountered in expm1\n"
     ]
    },
    {
     "name": "stdout",
     "output_type": "stream",
     "text": [
      "Optimization restart 1/5, f = 374.5073573042598\n",
      "Optimization restart 2/5, f = 441.68159121114587\n",
      "Optimization restart 3/5, f = 441.6815670056872\n",
      "Optimization restart 4/5, f = 441.6815683499274\n",
      "Optimization restart 5/5, f = 374.4988120265991\n",
      "[[12.          8.         21.42312206 59.02107342  3.          1.65121187]]\n",
      "\n",
      "User function time loss called with 1 inputs to simulate\n",
      "\n",
      "Evaluating input: 1 of 1\n",
      "\n",
      " Retrying in 1 seconds\n"
     ]
    },
    {
     "name": "stderr",
     "output_type": "stream",
     "text": [
      " /Users/harrysonghurst/opt/anaconda3/envs/traffic/lib/python3.8/site-packages/paramz/transformations.py:111: RuntimeWarning:overflow encountered in expm1\n"
     ]
    },
    {
     "name": "stdout",
     "output_type": "stream",
     "text": [
      "Optimization restart 1/5, f = 379.17268563316935\n",
      "Optimization restart 2/5, f = 379.1716754394454\n",
      "Optimization restart 3/5, f = 379.1716754238373\n",
      "Optimization restart 4/5, f = 447.17686942204523\n",
      "Optimization restart 5/5, f = 447.176882506031\n",
      "[[ 8.         17.35632493 26.13349499 63.05609302  1.          5.        ]]\n",
      "\n",
      "User function time loss called with 1 inputs to simulate\n",
      "\n",
      "Evaluating input: 1 of 1\n",
      "\n",
      " Retrying in 1 seconds\n"
     ]
    },
    {
     "name": "stderr",
     "output_type": "stream",
     "text": [
      " /Users/harrysonghurst/opt/anaconda3/envs/traffic/lib/python3.8/site-packages/paramz/transformations.py:111: RuntimeWarning:overflow encountered in expm1\n"
     ]
    },
    {
     "name": "stdout",
     "output_type": "stream",
     "text": [
      "Optimization restart 1/5, f = 385.054930783842\n",
      "Optimization restart 2/5, f = 454.17886651498355\n",
      "Optimization restart 3/5, f = 385.0478958496036\n",
      "Optimization restart 4/5, f = 454.17877761516564\n",
      "Optimization restart 5/5, f = 385.0478958359684\n",
      "[[13.          9.47660932  5.         37.11820334  1.          1.5       ]]\n",
      "\n",
      "User function time loss called with 1 inputs to simulate\n",
      "\n",
      "Evaluating input: 1 of 1\n",
      "\n",
      " Retrying in 1 seconds\n"
     ]
    },
    {
     "name": "stderr",
     "output_type": "stream",
     "text": [
      " /Users/harrysonghurst/opt/anaconda3/envs/traffic/lib/python3.8/site-packages/paramz/transformations.py:111: RuntimeWarning:overflow encountered in expm1\n"
     ]
    },
    {
     "name": "stdout",
     "output_type": "stream",
     "text": [
      "Optimization restart 1/5, f = 389.3586468899129\n",
      "Optimization restart 2/5, f = 459.6644140054856\n",
      "Optimization restart 3/5, f = 459.6644165836891\n",
      "Optimization restart 4/5, f = 459.6644789727635\n",
      "Optimization restart 5/5, f = 389.3586061612362\n"
     ]
    },
    {
     "name": "stderr",
     "output_type": "stream",
     "text": [
      " /Users/harrysonghurst/opt/anaconda3/envs/traffic/lib/python3.8/site-packages/GPy/kern/src/rbf.py:52: RuntimeWarning:overflow encountered in square\n"
     ]
    },
    {
     "name": "stdout",
     "output_type": "stream",
     "text": [
      "[[ 3.          8.         11.6141763  46.01898592  3.          5.        ]]\n",
      "\n",
      "User function time loss called with 1 inputs to simulate\n",
      "\n",
      "Evaluating input: 1 of 1\n",
      "\n",
      " Retrying in 1 seconds\n"
     ]
    },
    {
     "name": "stderr",
     "output_type": "stream",
     "text": [
      " /Users/harrysonghurst/opt/anaconda3/envs/traffic/lib/python3.8/site-packages/paramz/transformations.py:111: RuntimeWarning:overflow encountered in expm1\n"
     ]
    },
    {
     "name": "stdout",
     "output_type": "stream",
     "text": [
      "Optimization restart 1/5, f = 394.09993787206423\n",
      "Optimization restart 2/5, f = 394.07260794968136\n",
      "Optimization restart 3/5, f = 394.0726079275754\n",
      "Optimization restart 4/5, f = 394.07260785537323\n",
      "Optimization restart 5/5, f = 437.4062028148961\n",
      "[[13.         23.60371735 15.77723928 70.          1.          4.54557288]]\n",
      "\n",
      "User function time loss called with 1 inputs to simulate\n",
      "\n",
      "Evaluating input: 1 of 1\n",
      "\n",
      " Retrying in 1 seconds\n"
     ]
    },
    {
     "name": "stderr",
     "output_type": "stream",
     "text": [
      " /Users/harrysonghurst/opt/anaconda3/envs/traffic/lib/python3.8/site-packages/paramz/transformations.py:111: RuntimeWarning:overflow encountered in expm1\n"
     ]
    },
    {
     "name": "stdout",
     "output_type": "stream",
     "text": [
      "Optimization restart 1/5, f = 398.44305045315076\n",
      "Optimization restart 2/5, f = 398.4419383188653\n",
      "Optimization restart 3/5, f = 398.4419382953294\n",
      "Optimization restart 4/5, f = 471.14878708072655\n",
      "Optimization restart 5/5, f = 398.44193825525014\n",
      "[[10.         16.52946707 20.39137311 70.          3.          4.63999612]]\n",
      "\n",
      "User function time loss called with 1 inputs to simulate\n",
      "\n",
      "Evaluating input: 1 of 1\n",
      "\n",
      " Retrying in 1 seconds\n"
     ]
    },
    {
     "name": "stderr",
     "output_type": "stream",
     "text": [
      " /Users/harrysonghurst/opt/anaconda3/envs/traffic/lib/python3.8/site-packages/paramz/transformations.py:111: RuntimeWarning:overflow encountered in expm1\n"
     ]
    },
    {
     "name": "stdout",
     "output_type": "stream",
     "text": [
      "Optimization restart 1/5, f = 402.51039237552175\n",
      "Optimization restart 2/5, f = 477.1498621144951\n",
      "Optimization restart 3/5, f = 402.5097267002498\n",
      "Optimization restart 4/5, f = 402.509726702125\n",
      "Optimization restart 5/5, f = 402.50972670757943\n",
      "[[14.         25.         17.92322072 36.46419605  1.          1.5       ]]\n",
      "\n",
      "User function time loss called with 1 inputs to simulate\n",
      "\n",
      "Evaluating input: 1 of 1\n",
      "\n",
      " Retrying in 1 seconds\n"
     ]
    },
    {
     "name": "stderr",
     "output_type": "stream",
     "text": [
      " /Users/harrysonghurst/opt/anaconda3/envs/traffic/lib/python3.8/site-packages/paramz/transformations.py:111: RuntimeWarning:overflow encountered in expm1\n"
     ]
    },
    {
     "name": "stdout",
     "output_type": "stream",
     "text": [
      "Optimization restart 1/5, f = 407.11872883514366\n",
      "Optimization restart 2/5, f = 407.11720060302406\n",
      "Optimization restart 3/5, f = 482.8694051351117\n",
      "Optimization restart 4/5, f = 482.8693995528902\n",
      "Optimization restart 5/5, f = 482.8693994357287\n",
      "[[ 3.         13.61778929 16.10669861 30.96148513  1.          1.5       ]]\n",
      "\n",
      "User function time loss called with 1 inputs to simulate\n",
      "\n",
      "Evaluating input: 1 of 1\n",
      "\n",
      " Retrying in 1 seconds\n"
     ]
    },
    {
     "name": "stderr",
     "output_type": "stream",
     "text": [
      " /Users/harrysonghurst/opt/anaconda3/envs/traffic/lib/python3.8/site-packages/paramz/transformations.py:111: RuntimeWarning:overflow encountered in expm1\n",
      " /Users/harrysonghurst/opt/anaconda3/envs/traffic/lib/python3.8/site-packages/GPy/kern/src/stationary.py:168: RuntimeWarning:overflow encountered in true_divide\n",
      " /Users/harrysonghurst/opt/anaconda3/envs/traffic/lib/python3.8/site-packages/GPy/kern/src/rbf.py:76: RuntimeWarning:invalid value encountered in multiply\n"
     ]
    },
    {
     "name": "stdout",
     "output_type": "stream",
     "text": [
      "Optimization restart 1/5, f = 411.3527572694346\n",
      "Optimization restart 2/5, f = 431.94399428661046\n",
      "Optimization restart 3/5, f = 490.078299746458\n",
      "Optimization restart 4/5, f = 424.2416635428098\n",
      "Optimization restart 5/5, f = 490.0783469164761\n",
      "[[15.          8.24139485  5.21823134 63.47364705  3.          4.78519906]]\n",
      "\n",
      "User function time loss called with 1 inputs to simulate\n",
      "\n",
      "Evaluating input: 1 of 1\n",
      "\n",
      " Retrying in 1 seconds\n"
     ]
    },
    {
     "name": "stderr",
     "output_type": "stream",
     "text": [
      " /Users/harrysonghurst/opt/anaconda3/envs/traffic/lib/python3.8/site-packages/paramz/transformations.py:111: RuntimeWarning:overflow encountered in expm1\n"
     ]
    },
    {
     "name": "stdout",
     "output_type": "stream",
     "text": [
      "Optimization restart 1/5, f = 415.46347032025693\n",
      "Optimization restart 2/5, f = 495.55588341284823\n",
      "Optimization restart 3/5, f = 415.46052553245846\n",
      "Optimization restart 4/5, f = 495.5559059747496\n",
      "Optimization restart 5/5, f = 495.55590095777944\n",
      "[[15.          8.92915974 12.94788718 40.32240078  3.          5.        ]]\n",
      "\n",
      "User function time loss called with 1 inputs to simulate\n",
      "\n",
      "Evaluating input: 1 of 1\n",
      "\n",
      " Retrying in 1 seconds\n"
     ]
    },
    {
     "name": "stderr",
     "output_type": "stream",
     "text": [
      " /Users/harrysonghurst/opt/anaconda3/envs/traffic/lib/python3.8/site-packages/paramz/transformations.py:111: RuntimeWarning:overflow encountered in expm1\n"
     ]
    },
    {
     "name": "stdout",
     "output_type": "stream",
     "text": [
      "Optimization restart 1/5, f = 419.49576125661963\n",
      "Optimization restart 2/5, f = 419.49573947627454\n",
      "Optimization restart 3/5, f = 501.09869651471627\n"
     ]
    },
    {
     "name": "stderr",
     "output_type": "stream",
     "text": [
      " /Users/harrysonghurst/opt/anaconda3/envs/traffic/lib/python3.8/site-packages/GPy/kern/src/stationary.py:168: RuntimeWarning:overflow encountered in true_divide\n",
      " /Users/harrysonghurst/opt/anaconda3/envs/traffic/lib/python3.8/site-packages/GPy/kern/src/rbf.py:76: RuntimeWarning:invalid value encountered in multiply\n"
     ]
    },
    {
     "name": "stdout",
     "output_type": "stream",
     "text": [
      "Optimization restart 4/5, f = 500.02235111547816\n",
      "Optimization restart 5/5, f = 453.4391556080614\n",
      "[[ 3.         18.92542517 19.73750859 61.20759236  3.          4.67049318]]\n",
      "\n",
      "User function time loss called with 1 inputs to simulate\n",
      "\n",
      "Evaluating input: 1 of 1\n",
      "\n",
      " Retrying in 1 seconds\n"
     ]
    },
    {
     "name": "stderr",
     "output_type": "stream",
     "text": [
      " /Users/harrysonghurst/opt/anaconda3/envs/traffic/lib/python3.8/site-packages/paramz/transformations.py:111: RuntimeWarning:overflow encountered in expm1\n"
     ]
    },
    {
     "name": "stdout",
     "output_type": "stream",
     "text": [
      "Optimization restart 1/5, f = 429.42424303585284\n",
      "Optimization restart 2/5, f = 509.84310454051104\n",
      "Optimization restart 3/5, f = 429.4208929630782\n",
      "Optimization restart 4/5, f = 429.4208929569757\n",
      "Optimization restart 5/5, f = 429.4208929380001\n",
      "[[11.         19.03079343  5.37994744 67.40450266  3.          1.5       ]]\n",
      "\n",
      "User function time loss called with 1 inputs to simulate\n",
      "\n",
      "Evaluating input: 1 of 1\n",
      "\n",
      " Retrying in 1 seconds\n"
     ]
    },
    {
     "name": "stderr",
     "output_type": "stream",
     "text": [
      " /Users/harrysonghurst/opt/anaconda3/envs/traffic/lib/python3.8/site-packages/paramz/transformations.py:111: RuntimeWarning:overflow encountered in expm1\n"
     ]
    },
    {
     "name": "stdout",
     "output_type": "stream",
     "text": [
      "Optimization restart 1/5, f = 433.5484472759721\n",
      "Optimization restart 2/5, f = 438.4680402156849\n",
      "Optimization restart 3/5, f = 515.3437152897026\n",
      "Optimization restart 4/5, f = 433.54779269686264\n",
      "Optimization restart 5/5, f = 515.3437050287341\n",
      "[[12.         14.44088042 23.10716479 44.94925665  1.          1.5       ]]\n",
      "\n",
      "User function time loss called with 1 inputs to simulate\n",
      "\n",
      "Evaluating input: 1 of 1\n",
      "\n",
      " Retrying in 1 seconds\n"
     ]
    },
    {
     "name": "stderr",
     "output_type": "stream",
     "text": [
      " /Users/harrysonghurst/opt/anaconda3/envs/traffic/lib/python3.8/site-packages/paramz/transformations.py:111: RuntimeWarning:overflow encountered in expm1\n"
     ]
    },
    {
     "name": "stdout",
     "output_type": "stream",
     "text": [
      "Optimization restart 1/5, f = 437.5734680112652\n",
      "Optimization restart 2/5, f = 437.5731036321813\n",
      "Optimization restart 3/5, f = 521.0162322542951\n",
      "Optimization restart 4/5, f = 437.5730659427914\n",
      "Optimization restart 5/5, f = 521.0162701758171\n",
      "[[20.         17.26329916 10.15634888 30.          3.          5.        ]]\n",
      "\n",
      "User function time loss called with 1 inputs to simulate\n",
      "\n",
      "Evaluating input: 1 of 1\n",
      "\n",
      " Retrying in 1 seconds\n"
     ]
    },
    {
     "name": "stderr",
     "output_type": "stream",
     "text": [
      " /Users/harrysonghurst/opt/anaconda3/envs/traffic/lib/python3.8/site-packages/paramz/transformations.py:111: RuntimeWarning:overflow encountered in expm1\n"
     ]
    },
    {
     "name": "stdout",
     "output_type": "stream",
     "text": [
      "Optimization restart 1/5, f = 441.77974858076334\n",
      "Optimization restart 2/5, f = 441.7795727890489\n",
      "Optimization restart 3/5, f = 526.6574120640345\n",
      "Optimization restart 4/5, f = 526.657360513844\n",
      "Optimization restart 5/5, f = 446.6461473199682\n",
      "[[ 3.         23.56705594 22.02916613 47.65509621  1.          3.68685472]]\n",
      "\n",
      "User function time loss called with 1 inputs to simulate\n",
      "\n",
      "Evaluating input: 1 of 1\n",
      "\n",
      " Retrying in 1 seconds\n"
     ]
    },
    {
     "name": "stderr",
     "output_type": "stream",
     "text": [
      " /Users/harrysonghurst/opt/anaconda3/envs/traffic/lib/python3.8/site-packages/paramz/transformations.py:111: RuntimeWarning:overflow encountered in expm1\n",
      " /Users/harrysonghurst/opt/anaconda3/envs/traffic/lib/python3.8/site-packages/GPy/kern/src/stationary.py:168: RuntimeWarning:overflow encountered in true_divide\n",
      " /Users/harrysonghurst/opt/anaconda3/envs/traffic/lib/python3.8/site-packages/GPy/kern/src/rbf.py:76: RuntimeWarning:invalid value encountered in multiply\n"
     ]
    },
    {
     "name": "stdout",
     "output_type": "stream",
     "text": [
      "Optimization restart 1/5, f = 450.1864005979913\n",
      "Optimization restart 2/5, f = 489.2189703903517\n",
      "Optimization restart 3/5, f = 536.192805468984\n",
      "Optimization restart 4/5, f = 459.73688397682804\n",
      "Optimization restart 5/5, f = 536.1927763806407\n",
      "[[12.         25.         14.96932403 57.64294524  1.          1.5       ]]\n",
      "\n",
      "User function time loss called with 1 inputs to simulate\n",
      "\n",
      "Evaluating input: 1 of 1\n",
      "\n",
      " Retrying in 1 seconds\n"
     ]
    },
    {
     "name": "stderr",
     "output_type": "stream",
     "text": [
      " /Users/harrysonghurst/opt/anaconda3/envs/traffic/lib/python3.8/site-packages/paramz/transformations.py:111: RuntimeWarning:overflow encountered in expm1\n"
     ]
    },
    {
     "name": "stdout",
     "output_type": "stream",
     "text": [
      "Optimization restart 1/5, f = 454.4993356919049\n",
      "Optimization restart 2/5, f = 464.78396340991026\n"
     ]
    },
    {
     "name": "stderr",
     "output_type": "stream",
     "text": [
      " /Users/harrysonghurst/opt/anaconda3/envs/traffic/lib/python3.8/site-packages/GPy/kern/src/rbf.py:52: RuntimeWarning:overflow encountered in square\n",
      " /Users/harrysonghurst/opt/anaconda3/envs/traffic/lib/python3.8/site-packages/GPy/kern/src/stationary.py:168: RuntimeWarning:overflow encountered in true_divide\n",
      " /Users/harrysonghurst/opt/anaconda3/envs/traffic/lib/python3.8/site-packages/GPy/kern/src/rbf.py:76: RuntimeWarning:invalid value encountered in multiply\n",
      " /Users/harrysonghurst/opt/anaconda3/envs/traffic/lib/python3.8/site-packages/paramz/transformations.py:108: RuntimeWarning:invalid value encountered in greater\n",
      " /Users/harrysonghurst/opt/anaconda3/envs/traffic/lib/python3.8/site-packages/paramz/transformations.py:113: RuntimeWarning:invalid value encountered in greater\n"
     ]
    },
    {
     "name": "stdout",
     "output_type": "stream",
     "text": [
      "Warning - optimization restart 3/5 failed\n",
      "Optimization restart 4/5, f = 541.8533607160061\n",
      "Optimization restart 5/5, f = 541.8533589689788\n",
      "[[13.          8.         16.46903937 57.96617529  1.          5.        ]]\n",
      "\n",
      "User function time loss called with 1 inputs to simulate\n",
      "\n",
      "Evaluating input: 1 of 1\n",
      "\n",
      " Retrying in 1 seconds\n"
     ]
    },
    {
     "name": "stderr",
     "output_type": "stream",
     "text": [
      " /Users/harrysonghurst/opt/anaconda3/envs/traffic/lib/python3.8/site-packages/paramz/transformations.py:111: RuntimeWarning:overflow encountered in expm1\n"
     ]
    },
    {
     "name": "stdout",
     "output_type": "stream",
     "text": [
      "Optimization restart 1/5, f = 458.6638299097914\n",
      "Optimization restart 2/5, f = 547.392547722994\n",
      "Optimization restart 3/5, f = 458.3815946202836\n",
      "Optimization restart 4/5, f = 547.3925475921784\n",
      "Optimization restart 5/5, f = 547.3925817979474\n",
      "[[20.         24.33307936 27.         70.          3.          5.        ]]\n",
      "\n",
      "User function time loss called with 1 inputs to simulate\n",
      "\n",
      "Evaluating input: 1 of 1\n",
      "\n",
      " Retrying in 1 seconds\n"
     ]
    },
    {
     "name": "stderr",
     "output_type": "stream",
     "text": [
      " /Users/harrysonghurst/opt/anaconda3/envs/traffic/lib/python3.8/site-packages/paramz/transformations.py:111: RuntimeWarning:overflow encountered in expm1\n"
     ]
    },
    {
     "name": "stdout",
     "output_type": "stream",
     "text": [
      "Optimization restart 1/5, f = 462.7778162838019\n",
      "Optimization restart 2/5, f = 553.273177257421\n",
      "Optimization restart 3/5, f = 462.7765290276818\n",
      "Optimization restart 4/5, f = 472.6032071182506\n",
      "Optimization restart 5/5, f = 462.77652903505714\n",
      "[[20.         15.05615856 21.13956366 39.46859728  1.          5.        ]]\n",
      "\n",
      "User function time loss called with 1 inputs to simulate\n",
      "\n",
      "Evaluating input: 1 of 1\n",
      "\n",
      " Retrying in 1 seconds\n"
     ]
    },
    {
     "name": "stderr",
     "output_type": "stream",
     "text": [
      " /Users/harrysonghurst/opt/anaconda3/envs/traffic/lib/python3.8/site-packages/paramz/transformations.py:111: RuntimeWarning:overflow encountered in expm1\n"
     ]
    },
    {
     "name": "stdout",
     "output_type": "stream",
     "text": [
      "Optimization restart 1/5, f = 466.88489264034706\n",
      "Optimization restart 2/5, f = 466.8845707125729\n",
      "Optimization restart 3/5, f = 559.0695262283739\n",
      "Optimization restart 4/5, f = 466.884570712555\n"
     ]
    },
    {
     "name": "stderr",
     "output_type": "stream",
     "text": [
      " /Users/harrysonghurst/opt/anaconda3/envs/traffic/lib/python3.8/site-packages/GPy/kern/src/stationary.py:168: RuntimeWarning:overflow encountered in true_divide\n",
      " /Users/harrysonghurst/opt/anaconda3/envs/traffic/lib/python3.8/site-packages/GPy/kern/src/rbf.py:76: RuntimeWarning:invalid value encountered in multiply\n"
     ]
    },
    {
     "name": "stdout",
     "output_type": "stream",
     "text": [
      "Optimization restart 5/5, f = 522.060994618536\n",
      "[[ 3.         18.3801197  27.         30.          3.          4.96950443]]\n",
      "\n",
      "User function time loss called with 1 inputs to simulate\n",
      "\n",
      "Evaluating input: 1 of 1\n",
      "\n",
      " Retrying in 1 seconds\n"
     ]
    },
    {
     "name": "stderr",
     "output_type": "stream",
     "text": [
      " /Users/harrysonghurst/opt/anaconda3/envs/traffic/lib/python3.8/site-packages/paramz/transformations.py:111: RuntimeWarning:overflow encountered in expm1\n"
     ]
    },
    {
     "name": "stdout",
     "output_type": "stream",
     "text": [
      "Optimization restart 1/5, f = 480.641689208761\n",
      "Optimization restart 2/5, f = 571.8751006435705\n",
      "Optimization restart 3/5, f = 571.8751183070742\n",
      "Optimization restart 4/5, f = 480.6328048026186\n",
      "Optimization restart 5/5, f = 480.63280505429765\n",
      "[[ 3.          8.         27.         57.93510727  1.          5.        ]]\n",
      "\n",
      "User function time loss called with 1 inputs to simulate\n",
      "\n",
      "Evaluating input: 1 of 1\n",
      "\n",
      " Retrying in 1 seconds\n"
     ]
    },
    {
     "name": "stderr",
     "output_type": "stream",
     "text": [
      " /Users/harrysonghurst/opt/anaconda3/envs/traffic/lib/python3.8/site-packages/paramz/transformations.py:111: RuntimeWarning:overflow encountered in expm1\n"
     ]
    },
    {
     "name": "stdout",
     "output_type": "stream",
     "text": [
      "Optimization restart 1/5, f = 485.2767896447376\n",
      "Optimization restart 2/5, f = 577.6192339499837\n",
      "Optimization restart 3/5, f = 485.2647594729469\n",
      "Optimization restart 4/5, f = 485.2647594328643\n",
      "Optimization restart 5/5, f = 577.6192620941268\n",
      "[[ 3.         17.70853614  5.87569119 47.39836736  3.          5.        ]]\n",
      "\n",
      "User function time loss called with 1 inputs to simulate\n",
      "\n",
      "Evaluating input: 1 of 1\n",
      "\n",
      " Retrying in 1 seconds\n"
     ]
    },
    {
     "name": "stderr",
     "output_type": "stream",
     "text": [
      " /Users/harrysonghurst/opt/anaconda3/envs/traffic/lib/python3.8/site-packages/paramz/transformations.py:111: RuntimeWarning:overflow encountered in expm1\n"
     ]
    },
    {
     "name": "stdout",
     "output_type": "stream",
     "text": [
      "Optimization restart 1/5, f = 490.5906331361949\n",
      "Optimization restart 2/5, f = 490.58082029886083\n",
      "Optimization restart 3/5, f = 490.5808202263598\n",
      "Optimization restart 4/5, f = 490.5808202326424\n",
      "Optimization restart 5/5, f = 583.2838803849938\n",
      "[[11.          8.         15.18937755 30.          1.          5.        ]]\n",
      "\n",
      "User function time loss called with 1 inputs to simulate\n",
      "\n",
      "Evaluating input: 1 of 1\n",
      "\n",
      " Retrying in 1 seconds\n"
     ]
    },
    {
     "name": "stderr",
     "output_type": "stream",
     "text": [
      " /Users/harrysonghurst/opt/anaconda3/envs/traffic/lib/python3.8/site-packages/paramz/transformations.py:111: RuntimeWarning:overflow encountered in expm1\n",
      " /Users/harrysonghurst/opt/anaconda3/envs/traffic/lib/python3.8/site-packages/GPy/kern/src/stationary.py:168: RuntimeWarning:overflow encountered in true_divide\n"
     ]
    },
    {
     "name": "stdout",
     "output_type": "stream",
     "text": [
      "Optimization restart 1/5, f = 495.0421105129383\n",
      "Optimization restart 2/5, f = 551.4178361609324\n"
     ]
    },
    {
     "name": "stderr",
     "output_type": "stream",
     "text": [
      " /Users/harrysonghurst/opt/anaconda3/envs/traffic/lib/python3.8/site-packages/GPy/kern/src/rbf.py:76: RuntimeWarning:invalid value encountered in multiply\n"
     ]
    },
    {
     "name": "stdout",
     "output_type": "stream",
     "text": [
      "Optimization restart 3/5, f = 588.9373271641421\n",
      "Optimization restart 4/5, f = 495.0402526976234\n",
      "Optimization restart 5/5, f = 502.66917134208717\n",
      "[[20.         17.94394832 13.14763481 70.          3.          2.20819568]]\n",
      "\n",
      "User function time loss called with 1 inputs to simulate\n",
      "\n",
      "Evaluating input: 1 of 1\n",
      "\n",
      " Retrying in 1 seconds\n"
     ]
    },
    {
     "name": "stderr",
     "output_type": "stream",
     "text": [
      " /Users/harrysonghurst/opt/anaconda3/envs/traffic/lib/python3.8/site-packages/paramz/transformations.py:111: RuntimeWarning:overflow encountered in expm1\n"
     ]
    },
    {
     "name": "stdout",
     "output_type": "stream",
     "text": [
      "Optimization restart 1/5, f = 499.39350346604795\n",
      "Optimization restart 2/5, f = 499.3907432945434\n",
      "Optimization restart 3/5, f = 594.5480073163492\n",
      "Optimization restart 4/5, f = 594.5480096394441\n",
      "Optimization restart 5/5, f = 507.00647479881195\n",
      "[[20.         25.         10.74948169 54.60711334  3.          5.        ]]\n",
      "\n",
      "User function time loss called with 1 inputs to simulate\n",
      "\n",
      "Evaluating input: 1 of 1\n",
      "\n",
      " Retrying in 1 seconds\n"
     ]
    },
    {
     "name": "stderr",
     "output_type": "stream",
     "text": [
      " /Users/harrysonghurst/opt/anaconda3/envs/traffic/lib/python3.8/site-packages/paramz/transformations.py:111: RuntimeWarning:overflow encountered in expm1\n"
     ]
    },
    {
     "name": "stdout",
     "output_type": "stream",
     "text": [
      "Optimization restart 1/5, f = 503.72822671699066\n",
      "Optimization restart 2/5, f = 600.1622297188258\n",
      "Optimization restart 3/5, f = 600.162227350663\n",
      "Optimization restart 4/5, f = 503.7281968789998\n",
      "Optimization restart 5/5, f = 503.7281970339343\n",
      "[[ 3.         10.79633351  5.         70.          1.          5.        ]]\n",
      "\n",
      "User function time loss called with 1 inputs to simulate\n",
      "\n",
      "Evaluating input: 1 of 1\n",
      "\n",
      " Retrying in 1 seconds\n"
     ]
    },
    {
     "name": "stderr",
     "output_type": "stream",
     "text": [
      " /Users/harrysonghurst/opt/anaconda3/envs/traffic/lib/python3.8/site-packages/paramz/transformations.py:111: RuntimeWarning:overflow encountered in expm1\n"
     ]
    },
    {
     "name": "stdout",
     "output_type": "stream",
     "text": [
      "Optimization restart 1/5, f = 508.0340041304429\n",
      "Optimization restart 2/5, f = 514.0993439262379\n",
      "Optimization restart 3/5, f = 508.0335370997327\n",
      "Optimization restart 4/5, f = 514.0993439262078\n",
      "Optimization restart 5/5, f = 508.0335371150477\n",
      "[[ 9.         17.39506018 27.         62.70808404  3.          1.5       ]]\n",
      "\n",
      "User function time loss called with 1 inputs to simulate\n",
      "\n",
      "Evaluating input: 1 of 1\n",
      "\n",
      " Retrying in 1 seconds\n"
     ]
    },
    {
     "name": "stderr",
     "output_type": "stream",
     "text": [
      " /Users/harrysonghurst/opt/anaconda3/envs/traffic/lib/python3.8/site-packages/paramz/transformations.py:111: RuntimeWarning:overflow encountered in expm1\n"
     ]
    },
    {
     "name": "stdout",
     "output_type": "stream",
     "text": [
      "Optimization restart 1/5, f = 512.5251946899195\n",
      "Optimization restart 2/5, f = 512.5250981595301\n",
      "Optimization restart 3/5, f = 516.2703566809926\n"
     ]
    },
    {
     "name": "stderr",
     "output_type": "stream",
     "text": [
      " /Users/harrysonghurst/opt/anaconda3/envs/traffic/lib/python3.8/site-packages/GPy/kern/src/stationary.py:168: RuntimeWarning:overflow encountered in true_divide\n",
      " /Users/harrysonghurst/opt/anaconda3/envs/traffic/lib/python3.8/site-packages/GPy/kern/src/rbf.py:52: RuntimeWarning:overflow encountered in square\n",
      " /Users/harrysonghurst/opt/anaconda3/envs/traffic/lib/python3.8/site-packages/GPy/kern/src/rbf.py:76: RuntimeWarning:invalid value encountered in multiply\n"
     ]
    },
    {
     "name": "stdout",
     "output_type": "stream",
     "text": [
      "Optimization restart 4/5, f = 512.5250980883872\n",
      "Optimization restart 5/5, f = 512.5250992648055\n",
      "[[12.         14.1052349  20.94767758 38.13643443  3.          1.5       ]]\n",
      "\n",
      "User function time loss called with 1 inputs to simulate\n",
      "\n",
      "Evaluating input: 1 of 1\n",
      "\n",
      " Retrying in 1 seconds\n"
     ]
    },
    {
     "name": "stderr",
     "output_type": "stream",
     "text": [
      " /Users/harrysonghurst/opt/anaconda3/envs/traffic/lib/python3.8/site-packages/paramz/transformations.py:111: RuntimeWarning:overflow encountered in expm1\n"
     ]
    },
    {
     "name": "stdout",
     "output_type": "stream",
     "text": [
      "Optimization restart 1/5, f = 516.6353775576199\n",
      "Optimization restart 2/5, f = 516.6350755206802\n",
      "Optimization restart 3/5, f = 516.6350755207502\n",
      "Optimization restart 4/5, f = 516.6350755371103\n",
      "Optimization restart 5/5, f = 516.6350756738262\n",
      "[[12.         15.95259495  8.09855485 59.76378992  1.          1.5       ]]\n",
      "\n",
      "User function time loss called with 1 inputs to simulate\n",
      "\n",
      "Evaluating input: 1 of 1\n",
      "\n",
      " Retrying in 1 seconds\n"
     ]
    },
    {
     "name": "stderr",
     "output_type": "stream",
     "text": [
      " /Users/harrysonghurst/opt/anaconda3/envs/traffic/lib/python3.8/site-packages/paramz/transformations.py:111: RuntimeWarning:overflow encountered in expm1\n"
     ]
    },
    {
     "name": "stdout",
     "output_type": "stream",
     "text": [
      "Optimization restart 1/5, f = 520.7200647998452\n",
      "Optimization restart 2/5, f = 520.7198336806689\n",
      "Optimization restart 3/5, f = 520.7198334625009\n",
      "Optimization restart 4/5, f = 520.7198334526959\n",
      "Optimization restart 5/5, f = 525.283198934535\n",
      "[[20.         17.81862138 27.         53.92700995  1.          2.10989288]]\n",
      "\n",
      "User function time loss called with 1 inputs to simulate\n",
      "\n",
      "Evaluating input: 1 of 1\n",
      "\n",
      " Retrying in 1 seconds\n"
     ]
    },
    {
     "name": "stderr",
     "output_type": "stream",
     "text": [
      " /Users/harrysonghurst/opt/anaconda3/envs/traffic/lib/python3.8/site-packages/paramz/transformations.py:111: RuntimeWarning:overflow encountered in expm1\n"
     ]
    },
    {
     "name": "stdout",
     "output_type": "stream",
     "text": [
      "Optimization restart 1/5, f = 524.9162201148544\n",
      "Optimization restart 2/5, f = 593.8788706028326\n",
      "Optimization restart 3/5, f = 524.9153924662257\n",
      "Optimization restart 4/5, f = 524.9153924621529\n",
      "Optimization restart 5/5, f = 529.1554061529513\n",
      "[[ 3.         11.87726943 16.20325298 39.89056736  3.          1.5       ]]\n",
      "\n",
      "User function time loss called with 1 inputs to simulate\n",
      "\n",
      "Evaluating input: 1 of 1\n",
      "\n",
      " Retrying in 1 seconds\n"
     ]
    },
    {
     "name": "stderr",
     "output_type": "stream",
     "text": [
      " /Users/harrysonghurst/opt/anaconda3/envs/traffic/lib/python3.8/site-packages/paramz/transformations.py:111: RuntimeWarning:overflow encountered in expm1\n"
     ]
    },
    {
     "name": "stdout",
     "output_type": "stream",
     "text": [
      "Optimization restart 1/5, f = 529.2787081756519\n",
      "Optimization restart 2/5, f = 533.1103682099665\n",
      "Optimization restart 3/5, f = 529.2744730376639\n",
      "Optimization restart 4/5, f = 529.2744719308675\n",
      "Optimization restart 5/5, f = 529.2744719487384\n",
      "[[18.         16.86377263  5.8636935  45.19576878  3.          1.5       ]]\n",
      "\n",
      "User function time loss called with 1 inputs to simulate\n",
      "\n",
      "Evaluating input: 1 of 1\n",
      "\n",
      " Retrying in 1 seconds\n"
     ]
    },
    {
     "name": "stderr",
     "output_type": "stream",
     "text": [
      " /Users/harrysonghurst/opt/anaconda3/envs/traffic/lib/python3.8/site-packages/paramz/transformations.py:111: RuntimeWarning:overflow encountered in expm1\n"
     ]
    },
    {
     "name": "stdout",
     "output_type": "stream",
     "text": [
      "Optimization restart 1/5, f = 533.4218355711719\n",
      "Optimization restart 2/5, f = 533.4218277546682\n",
      "Optimization restart 3/5, f = 533.4218277330749\n",
      "Optimization restart 4/5, f = 640.7750219494689\n",
      "Optimization restart 5/5, f = 533.4218277283044\n",
      "[[ 5.         12.80769878 22.34540917 39.5617771   1.          5.        ]]\n",
      "\n",
      "User function time loss called with 1 inputs to simulate\n",
      "\n",
      "Evaluating input: 1 of 1\n",
      "\n",
      " Retrying in 1 seconds\n"
     ]
    },
    {
     "name": "stderr",
     "output_type": "stream",
     "text": [
      " /Users/harrysonghurst/opt/anaconda3/envs/traffic/lib/python3.8/site-packages/paramz/transformations.py:111: RuntimeWarning:overflow encountered in expm1\n",
      " /Users/harrysonghurst/opt/anaconda3/envs/traffic/lib/python3.8/site-packages/GPy/kern/src/rbf.py:52: RuntimeWarning:overflow encountered in square\n"
     ]
    },
    {
     "name": "stdout",
     "output_type": "stream",
     "text": [
      "Optimization restart 1/5, f = 537.4677921784427\n",
      "Optimization restart 2/5, f = 537.4677209748417\n",
      "Optimization restart 3/5, f = 537.4677209736535\n",
      "Optimization restart 4/5, f = 537.4677209815629\n",
      "Optimization restart 5/5, f = 537.4677209736503\n",
      "[[ 9.         24.00848963  5.         64.74597163  1.          4.6922661 ]]\n",
      "\n",
      "User function time loss called with 1 inputs to simulate\n",
      "\n",
      "Evaluating input: 1 of 1\n",
      "\n",
      " Retrying in 1 seconds\n"
     ]
    },
    {
     "name": "stderr",
     "output_type": "stream",
     "text": [
      " /Users/harrysonghurst/opt/anaconda3/envs/traffic/lib/python3.8/site-packages/paramz/transformations.py:111: RuntimeWarning:overflow encountered in expm1\n"
     ]
    },
    {
     "name": "stdout",
     "output_type": "stream",
     "text": [
      "Optimization restart 1/5, f = 541.7040103628739\n",
      "Optimization restart 2/5, f = 617.3888921912654\n",
      "Optimization restart 3/5, f = 541.7039887157198\n",
      "Optimization restart 4/5, f = 541.7039884716401\n",
      "Optimization restart 5/5, f = 541.7039884725233\n",
      "[[ 8.         13.51215026  5.         30.          3.          4.02249438]]\n",
      "\n",
      "User function time loss called with 1 inputs to simulate\n",
      "\n",
      "Evaluating input: 1 of 1\n",
      "\n",
      " Retrying in 1 seconds\n"
     ]
    },
    {
     "name": "stderr",
     "output_type": "stream",
     "text": [
      " /Users/harrysonghurst/opt/anaconda3/envs/traffic/lib/python3.8/site-packages/paramz/transformations.py:111: RuntimeWarning:overflow encountered in expm1\n"
     ]
    },
    {
     "name": "stdout",
     "output_type": "stream",
     "text": [
      "Optimization restart 1/5, f = 545.8890846631444\n",
      "Optimization restart 2/5, f = 622.6336961364758\n"
     ]
    },
    {
     "name": "stderr",
     "output_type": "stream",
     "text": [
      " /Users/harrysonghurst/opt/anaconda3/envs/traffic/lib/python3.8/site-packages/GPy/kern/src/stationary.py:168: RuntimeWarning:overflow encountered in true_divide\n",
      " /Users/harrysonghurst/opt/anaconda3/envs/traffic/lib/python3.8/site-packages/GPy/kern/src/rbf.py:52: RuntimeWarning:overflow encountered in square\n",
      " /Users/harrysonghurst/opt/anaconda3/envs/traffic/lib/python3.8/site-packages/GPy/kern/src/rbf.py:76: RuntimeWarning:invalid value encountered in multiply\n"
     ]
    },
    {
     "name": "stdout",
     "output_type": "stream",
     "text": [
      "Optimization restart 3/5, f = 545.8890581853159\n",
      "Optimization restart 4/5, f = 545.8890581854222\n",
      "Optimization restart 5/5, f = 545.8890581852797\n",
      "[[ 4.         21.26551891 19.72774293 67.38830487  3.          1.5       ]]\n",
      "\n",
      "User function time loss called with 1 inputs to simulate\n",
      "\n",
      "Evaluating input: 1 of 1\n",
      "\n",
      " Retrying in 1 seconds\n"
     ]
    },
    {
     "name": "stderr",
     "output_type": "stream",
     "text": [
      " /Users/harrysonghurst/opt/anaconda3/envs/traffic/lib/python3.8/site-packages/paramz/transformations.py:111: RuntimeWarning:overflow encountered in expm1\n"
     ]
    },
    {
     "name": "stdout",
     "output_type": "stream",
     "text": [
      "Optimization restart 1/5, f = 552.8840776223358\n",
      "Optimization restart 2/5, f = 552.8181796373588\n",
      "Optimization restart 3/5, f = 557.4261323827252\n",
      "Optimization restart 4/5, f = 557.4261323827095\n",
      "Optimization restart 5/5, f = 557.4261323829038\n",
      "[[13.         14.00082538 25.68871258 30.          3.          5.        ]]\n",
      "\n",
      "User function time loss called with 1 inputs to simulate\n",
      "\n",
      "Evaluating input: 1 of 1\n",
      "\n",
      " Retrying in 1 seconds\n"
     ]
    },
    {
     "name": "stderr",
     "output_type": "stream",
     "text": [
      " /Users/harrysonghurst/opt/anaconda3/envs/traffic/lib/python3.8/site-packages/paramz/transformations.py:111: RuntimeWarning:overflow encountered in expm1\n"
     ]
    },
    {
     "name": "stdout",
     "output_type": "stream",
     "text": [
      "Optimization restart 1/5, f = 556.9601623470794\n",
      "Optimization restart 2/5, f = 556.9601590293433\n",
      "Optimization restart 3/5, f = 562.0874891336576\n",
      "Optimization restart 4/5, f = 556.9601590099651\n",
      "Optimization restart 5/5, f = 556.9601590145231\n",
      "[[20.         18.86972513  9.37507184 30.          1.          1.5       ]]\n",
      "\n",
      "User function time loss called with 1 inputs to simulate\n",
      "\n",
      "Evaluating input: 1 of 1\n",
      "\n",
      " Retrying in 1 seconds\n"
     ]
    },
    {
     "name": "stderr",
     "output_type": "stream",
     "text": [
      " /Users/harrysonghurst/opt/anaconda3/envs/traffic/lib/python3.8/site-packages/paramz/transformations.py:111: RuntimeWarning:overflow encountered in expm1\n",
      " /Users/harrysonghurst/opt/anaconda3/envs/traffic/lib/python3.8/site-packages/GPy/kern/src/stationary.py:168: RuntimeWarning:overflow encountered in true_divide\n",
      " /Users/harrysonghurst/opt/anaconda3/envs/traffic/lib/python3.8/site-packages/GPy/kern/src/rbf.py:52: RuntimeWarning:overflow encountered in square\n",
      " /Users/harrysonghurst/opt/anaconda3/envs/traffic/lib/python3.8/site-packages/GPy/kern/src/rbf.py:76: RuntimeWarning:invalid value encountered in multiply\n"
     ]
    },
    {
     "name": "stdout",
     "output_type": "stream",
     "text": [
      "Optimization restart 1/5, f = 561.2495166614873\n",
      "Optimization restart 2/5, f = 607.5370597507176\n",
      "Optimization restart 3/5, f = 623.4271507108166\n",
      "Optimization restart 4/5, f = 566.2471065621442\n",
      "Optimization restart 5/5, f = 561.2495132160017\n",
      "[[20.          8.         12.28869341 32.34470598  3.          5.        ]]\n",
      "\n",
      "User function time loss called with 1 inputs to simulate\n",
      "\n",
      "Evaluating input: 1 of 1\n",
      "\n",
      " Retrying in 1 seconds\n"
     ]
    },
    {
     "name": "stderr",
     "output_type": "stream",
     "text": [
      " /Users/harrysonghurst/opt/anaconda3/envs/traffic/lib/python3.8/site-packages/paramz/transformations.py:111: RuntimeWarning:overflow encountered in expm1\n"
     ]
    },
    {
     "name": "stdout",
     "output_type": "stream",
     "text": [
      "Optimization restart 1/5, f = 565.3560399790252\n",
      "Optimization restart 2/5, f = 570.0370403226314\n",
      "Optimization restart 3/5, f = 570.0370403231735\n",
      "Optimization restart 4/5, f = 565.3560200321799\n",
      "Optimization restart 5/5, f = 570.0370529704471\n",
      "[[11.          8.         24.27472159 64.45707546  3.          5.        ]]\n",
      "\n",
      "User function time loss called with 1 inputs to simulate\n",
      "\n",
      "Evaluating input: 1 of 1\n",
      "\n",
      " Retrying in 1 seconds\n"
     ]
    },
    {
     "name": "stderr",
     "output_type": "stream",
     "text": [
      " /Users/harrysonghurst/opt/anaconda3/envs/traffic/lib/python3.8/site-packages/paramz/transformations.py:111: RuntimeWarning:overflow encountered in expm1\n"
     ]
    },
    {
     "name": "stdout",
     "output_type": "stream",
     "text": [
      "Optimization restart 1/5, f = 569.4736316056152\n",
      "Optimization restart 2/5, f = 569.4735092929412\n",
      "Optimization restart 3/5, f = 569.4735103429578\n",
      "Optimization restart 4/5, f = 569.4735092230279\n",
      "Optimization restart 5/5, f = 569.4735092245543\n",
      "[[ 9.         19.36133849 26.21645581 70.          1.          5.        ]]\n",
      "\n",
      "User function time loss called with 1 inputs to simulate\n",
      "\n",
      "Evaluating input: 1 of 1\n",
      "\n",
      " Retrying in 1 seconds\n"
     ]
    },
    {
     "name": "stderr",
     "output_type": "stream",
     "text": [
      " /Users/harrysonghurst/opt/anaconda3/envs/traffic/lib/python3.8/site-packages/paramz/transformations.py:111: RuntimeWarning:overflow encountered in expm1\n",
      " /Users/harrysonghurst/opt/anaconda3/envs/traffic/lib/python3.8/site-packages/GPy/kern/src/stationary.py:168: RuntimeWarning:overflow encountered in true_divide\n",
      " /Users/harrysonghurst/opt/anaconda3/envs/traffic/lib/python3.8/site-packages/GPy/kern/src/rbf.py:52: RuntimeWarning:overflow encountered in square\n",
      " /Users/harrysonghurst/opt/anaconda3/envs/traffic/lib/python3.8/site-packages/GPy/kern/src/rbf.py:76: RuntimeWarning:invalid value encountered in multiply\n"
     ]
    },
    {
     "name": "stdout",
     "output_type": "stream",
     "text": [
      "Optimization restart 1/5, f = 574.9059382932548\n",
      "Optimization restart 2/5, f = 651.8907515887188\n",
      "Optimization restart 3/5, f = 574.895404392357\n",
      "Optimization restart 4/5, f = 584.0264410259998\n",
      "Optimization restart 5/5, f = 654.8012094628265\n",
      "[[ 3.         17.56689786 27.         47.1124472   1.          1.5       ]]\n",
      "\n",
      "User function time loss called with 1 inputs to simulate\n",
      "\n",
      "Evaluating input: 1 of 1\n",
      "\n",
      " Retrying in 1 seconds\n"
     ]
    },
    {
     "name": "stderr",
     "output_type": "stream",
     "text": [
      " /Users/harrysonghurst/opt/anaconda3/envs/traffic/lib/python3.8/site-packages/paramz/transformations.py:111: RuntimeWarning:overflow encountered in expm1\n"
     ]
    },
    {
     "name": "stdout",
     "output_type": "stream",
     "text": [
      "Optimization restart 1/5, f = 579.4904837323529\n",
      "Optimization restart 2/5, f = 588.024797867592\n",
      "Optimization restart 3/5, f = 579.4869693065186\n",
      "Optimization restart 4/5, f = 579.4869692303904\n",
      "Optimization restart 5/5, f = 579.4869692303622\n",
      "[[ 3.         12.04629864  9.89567406 56.708075    3.          1.5       ]]\n",
      "\n",
      "User function time loss called with 1 inputs to simulate\n",
      "\n",
      "Evaluating input: 1 of 1\n",
      "\n",
      " Retrying in 1 seconds\n"
     ]
    },
    {
     "name": "stderr",
     "output_type": "stream",
     "text": [
      " /Users/harrysonghurst/opt/anaconda3/envs/traffic/lib/python3.8/site-packages/paramz/transformations.py:111: RuntimeWarning:overflow encountered in expm1\n"
     ]
    },
    {
     "name": "stdout",
     "output_type": "stream",
     "text": [
      "Optimization restart 1/5, f = 583.9885292382771\n",
      "Optimization restart 2/5, f = 594.0503474769465\n",
      "Optimization restart 3/5, f = 583.9854161776218\n",
      "Optimization restart 4/5, f = 583.9854160831774\n",
      "Optimization restart 5/5, f = 583.9854163391195\n",
      "[[15.         25.         11.64136721 43.5719042   1.          5.        ]]\n",
      "\n",
      "User function time loss called with 1 inputs to simulate\n",
      "\n",
      "Evaluating input: 1 of 1\n",
      "\n",
      " Retrying in 1 seconds\n"
     ]
    },
    {
     "name": "stderr",
     "output_type": "stream",
     "text": [
      " /Users/harrysonghurst/opt/anaconda3/envs/traffic/lib/python3.8/site-packages/paramz/transformations.py:111: RuntimeWarning:overflow encountered in expm1\n"
     ]
    },
    {
     "name": "stdout",
     "output_type": "stream",
     "text": [
      "Optimization restart 1/5, f = 588.0389905330288\n",
      "Optimization restart 2/5, f = 588.0389905299367\n",
      "Optimization restart 3/5, f = 597.6966763851326\n",
      "Optimization restart 4/5, f = 597.6966763851366\n",
      "Optimization restart 5/5, f = 588.0389905259208\n",
      "[[ 8.         25.         20.19303555 56.54435374  3.          4.35547458]]\n",
      "\n",
      "User function time loss called with 1 inputs to simulate\n",
      "\n",
      "Evaluating input: 1 of 1\n",
      "\n",
      " Retrying in 1 seconds\n"
     ]
    },
    {
     "name": "stderr",
     "output_type": "stream",
     "text": [
      " /Users/harrysonghurst/opt/anaconda3/envs/traffic/lib/python3.8/site-packages/paramz/transformations.py:111: RuntimeWarning:overflow encountered in expm1\n"
     ]
    },
    {
     "name": "stdout",
     "output_type": "stream",
     "text": [
      "Optimization restart 1/5, f = 593.4540352089157\n",
      "Optimization restart 2/5, f = 593.4539876132428\n",
      "Optimization restart 3/5, f = 593.4539869362354\n",
      "Optimization restart 4/5, f = 677.2413502620848\n"
     ]
    },
    {
     "name": "stderr",
     "output_type": "stream",
     "text": [
      " /Users/harrysonghurst/opt/anaconda3/envs/traffic/lib/python3.8/site-packages/GPy/kern/src/stationary.py:168: RuntimeWarning:overflow encountered in true_divide\n",
      " /Users/harrysonghurst/opt/anaconda3/envs/traffic/lib/python3.8/site-packages/GPy/kern/src/rbf.py:52: RuntimeWarning:overflow encountered in square\n",
      " /Users/harrysonghurst/opt/anaconda3/envs/traffic/lib/python3.8/site-packages/GPy/kern/src/rbf.py:76: RuntimeWarning:invalid value encountered in multiply\n"
     ]
    },
    {
     "name": "stdout",
     "output_type": "stream",
     "text": [
      "Optimization restart 5/5, f = 676.6370845582874\n",
      "[[ 3.         13.83895689 15.40595783 32.36764251  1.          5.        ]]\n",
      "\n",
      "User function time loss called with 1 inputs to simulate\n",
      "\n",
      "Evaluating input: 1 of 1\n",
      "\n",
      " Retrying in 1 seconds\n"
     ]
    },
    {
     "name": "stderr",
     "output_type": "stream",
     "text": [
      " /Users/harrysonghurst/opt/anaconda3/envs/traffic/lib/python3.8/site-packages/paramz/transformations.py:111: RuntimeWarning:overflow encountered in expm1\n"
     ]
    },
    {
     "name": "stdout",
     "output_type": "stream",
     "text": [
      "Optimization restart 1/5, f = 613.3704915793821\n",
      "Optimization restart 2/5, f = 613.3582690445172\n"
     ]
    },
    {
     "name": "stderr",
     "output_type": "stream",
     "text": [
      " /Users/harrysonghurst/opt/anaconda3/envs/traffic/lib/python3.8/site-packages/GPy/kern/src/stationary.py:168: RuntimeWarning:overflow encountered in true_divide\n",
      " /Users/harrysonghurst/opt/anaconda3/envs/traffic/lib/python3.8/site-packages/GPy/kern/src/rbf.py:52: RuntimeWarning:overflow encountered in square\n",
      " /Users/harrysonghurst/opt/anaconda3/envs/traffic/lib/python3.8/site-packages/GPy/kern/src/rbf.py:76: RuntimeWarning:invalid value encountered in multiply\n"
     ]
    },
    {
     "name": "stdout",
     "output_type": "stream",
     "text": [
      "Optimization restart 3/5, f = 688.4393768597375\n",
      "Optimization restart 4/5, f = 613.3582690485074\n",
      "Optimization restart 5/5, f = 613.3582690431754\n",
      "[[20.         14.29256844 18.53772521 43.19997468  3.          1.5       ]]\n",
      "\n",
      "User function time loss called with 1 inputs to simulate\n",
      "\n",
      "Evaluating input: 1 of 1\n",
      "\n",
      " Retrying in 1 seconds\n"
     ]
    },
    {
     "name": "stderr",
     "output_type": "stream",
     "text": [
      " /Users/harrysonghurst/opt/anaconda3/envs/traffic/lib/python3.8/site-packages/paramz/transformations.py:111: RuntimeWarning:overflow encountered in expm1\n"
     ]
    },
    {
     "name": "stdout",
     "output_type": "stream",
     "text": [
      "Optimization restart 1/5, f = 617.6412464908218\n",
      "Optimization restart 2/5, f = 617.6411086341919\n",
      "Optimization restart 3/5, f = 617.6411086341888\n",
      "Optimization restart 4/5, f = 617.6411086342307\n",
      "Optimization restart 5/5, f = 617.6411088727622\n",
      "[[ 8.         16.69768175 16.06024422 53.08105381  1.          5.        ]]\n",
      "\n",
      "User function time loss called with 1 inputs to simulate\n",
      "\n",
      "Evaluating input: 1 of 1\n",
      "\n",
      " Retrying in 1 seconds\n"
     ]
    },
    {
     "name": "stderr",
     "output_type": "stream",
     "text": [
      " /Users/harrysonghurst/opt/anaconda3/envs/traffic/lib/python3.8/site-packages/paramz/transformations.py:111: RuntimeWarning:overflow encountered in expm1\n"
     ]
    },
    {
     "name": "stdout",
     "output_type": "stream",
     "text": [
      "Optimization restart 1/5, f = 622.4306838912323\n",
      "Optimization restart 2/5, f = 622.4277027791297\n",
      "Optimization restart 3/5, f = 622.4277027791235\n",
      "Optimization restart 4/5, f = 622.4277027800468\n",
      "Optimization restart 5/5, f = 622.4277030267336\n",
      "[[16.          8.         17.42003513 64.59473004  1.          1.5       ]]\n",
      "\n",
      "User function time loss called with 1 inputs to simulate\n",
      "\n",
      "Evaluating input: 1 of 1\n",
      "\n",
      " Retrying in 1 seconds\n"
     ]
    },
    {
     "name": "stderr",
     "output_type": "stream",
     "text": [
      " /Users/harrysonghurst/opt/anaconda3/envs/traffic/lib/python3.8/site-packages/paramz/transformations.py:111: RuntimeWarning:overflow encountered in expm1\n"
     ]
    },
    {
     "name": "stdout",
     "output_type": "stream",
     "text": [
      "Optimization restart 1/5, f = 626.7713630790006\n",
      "Optimization restart 2/5, f = 626.7713480834007\n"
     ]
    },
    {
     "name": "stderr",
     "output_type": "stream",
     "text": [
      " /Users/harrysonghurst/opt/anaconda3/envs/traffic/lib/python3.8/site-packages/GPy/kern/src/rbf.py:52: RuntimeWarning:overflow encountered in square\n"
     ]
    },
    {
     "name": "stdout",
     "output_type": "stream",
     "text": [
      "Optimization restart 3/5, f = 626.7713479455622\n",
      "Optimization restart 4/5, f = 626.7713479541279\n",
      "Optimization restart 5/5, f = 626.7713479393994\n",
      "[[17.         20.58943368 26.33251246 39.98602546  1.          4.65239504]]\n",
      "\n",
      "User function time loss called with 1 inputs to simulate\n",
      "\n",
      "Evaluating input: 1 of 1\n",
      "\n",
      " Retrying in 1 seconds\n"
     ]
    },
    {
     "name": "stderr",
     "output_type": "stream",
     "text": [
      " /Users/harrysonghurst/opt/anaconda3/envs/traffic/lib/python3.8/site-packages/paramz/transformations.py:111: RuntimeWarning:overflow encountered in expm1\n"
     ]
    },
    {
     "name": "stdout",
     "output_type": "stream",
     "text": [
      "Optimization restart 1/5, f = 631.0753257980609\n",
      "Optimization restart 2/5, f = 631.0750125708453\n",
      "Optimization restart 3/5, f = 631.075012653896\n",
      "Optimization restart 4/5, f = 631.0750125710509\n",
      "Optimization restart 5/5, f = 631.0750125682362\n",
      "[[13.          8.         16.1388324  49.08493359  3.          5.        ]]\n",
      "\n",
      "User function time loss called with 1 inputs to simulate\n",
      "\n",
      "Evaluating input: 1 of 1\n",
      "\n",
      " Retrying in 1 seconds\n"
     ]
    },
    {
     "name": "stderr",
     "output_type": "stream",
     "text": [
      " /Users/harrysonghurst/opt/anaconda3/envs/traffic/lib/python3.8/site-packages/paramz/transformations.py:111: RuntimeWarning:overflow encountered in expm1\n"
     ]
    },
    {
     "name": "stdout",
     "output_type": "stream",
     "text": [
      "Optimization restart 1/5, f = 635.2753591361856\n",
      "Optimization restart 2/5, f = 635.2753192001396\n",
      "Optimization restart 3/5, f = 635.275319193865\n",
      "Optimization restart 4/5, f = 635.2753192312597\n",
      "Optimization restart 5/5, f = 635.2753191940512\n",
      "[[12.         10.59987929  8.33772395 37.99492336  1.          1.5       ]]\n",
      "\n",
      "User function time loss called with 1 inputs to simulate\n",
      "\n",
      "Evaluating input: 1 of 1\n",
      "\n",
      " Retrying in 1 seconds\n"
     ]
    },
    {
     "name": "stderr",
     "output_type": "stream",
     "text": [
      " /Users/harrysonghurst/opt/anaconda3/envs/traffic/lib/python3.8/site-packages/paramz/transformations.py:111: RuntimeWarning:overflow encountered in expm1\n"
     ]
    },
    {
     "name": "stdout",
     "output_type": "stream",
     "text": [
      "Optimization restart 1/5, f = 639.5189390203307\n",
      "Optimization restart 2/5, f = 722.4308312609443\n"
     ]
    },
    {
     "name": "stderr",
     "output_type": "stream",
     "text": [
      " /Users/harrysonghurst/opt/anaconda3/envs/traffic/lib/python3.8/site-packages/GPy/kern/src/stationary.py:168: RuntimeWarning:overflow encountered in true_divide\n",
      " /Users/harrysonghurst/opt/anaconda3/envs/traffic/lib/python3.8/site-packages/GPy/kern/src/rbf.py:52: RuntimeWarning:overflow encountered in square\n",
      " /Users/harrysonghurst/opt/anaconda3/envs/traffic/lib/python3.8/site-packages/GPy/kern/src/rbf.py:76: RuntimeWarning:invalid value encountered in multiply\n"
     ]
    },
    {
     "name": "stdout",
     "output_type": "stream",
     "text": [
      "Optimization restart 3/5, f = 765.9255859761671\n",
      "Optimization restart 4/5, f = 639.5188876443284\n",
      "Optimization restart 5/5, f = 639.5188876434377\n",
      "[[15.         17.50379109  7.90118458 70.          3.          3.12106458]]\n",
      "\n",
      "User function time loss called with 1 inputs to simulate\n",
      "\n",
      "Evaluating input: 1 of 1\n",
      "\n",
      " Retrying in 1 seconds\n"
     ]
    },
    {
     "name": "stderr",
     "output_type": "stream",
     "text": [
      " /Users/harrysonghurst/opt/anaconda3/envs/traffic/lib/python3.8/site-packages/paramz/transformations.py:111: RuntimeWarning:overflow encountered in expm1\n"
     ]
    },
    {
     "name": "stdout",
     "output_type": "stream",
     "text": [
      "Optimization restart 1/5, f = 643.6929899223169\n",
      "Optimization restart 2/5, f = 643.6929882348542\n",
      "Optimization restart 3/5, f = 663.180346141123\n",
      "Warning - optimization restart 4/5 failed\n"
     ]
    },
    {
     "name": "stderr",
     "output_type": "stream",
     "text": [
      " /Users/harrysonghurst/opt/anaconda3/envs/traffic/lib/python3.8/site-packages/GPy/kern/src/stationary.py:168: RuntimeWarning:overflow encountered in true_divide\n",
      " /Users/harrysonghurst/opt/anaconda3/envs/traffic/lib/python3.8/site-packages/GPy/kern/src/rbf.py:52: RuntimeWarning:overflow encountered in square\n",
      " /Users/harrysonghurst/opt/anaconda3/envs/traffic/lib/python3.8/site-packages/GPy/kern/src/rbf.py:76: RuntimeWarning:invalid value encountered in multiply\n",
      " /Users/harrysonghurst/opt/anaconda3/envs/traffic/lib/python3.8/site-packages/paramz/transformations.py:108: RuntimeWarning:invalid value encountered in greater\n",
      " /Users/harrysonghurst/opt/anaconda3/envs/traffic/lib/python3.8/site-packages/paramz/transformations.py:113: RuntimeWarning:invalid value encountered in greater\n"
     ]
    },
    {
     "name": "stdout",
     "output_type": "stream",
     "text": [
      "Optimization restart 5/5, f = 643.6929889713598\n",
      "[[20.         25.         13.72914471 59.86756379  1.          2.7488957 ]]\n",
      "\n",
      "User function time loss called with 1 inputs to simulate\n",
      "\n",
      "Evaluating input: 1 of 1\n",
      "\n",
      " Retrying in 1 seconds\n"
     ]
    },
    {
     "name": "stderr",
     "output_type": "stream",
     "text": [
      " /Users/harrysonghurst/opt/anaconda3/envs/traffic/lib/python3.8/site-packages/paramz/transformations.py:111: RuntimeWarning:overflow encountered in expm1\n"
     ]
    },
    {
     "name": "stdout",
     "output_type": "stream",
     "text": [
      "Optimization restart 1/5, f = 647.928153433949\n",
      "Optimization restart 2/5, f = 647.9281008490897\n",
      "Optimization restart 3/5, f = 647.928100615379\n",
      "Optimization restart 4/5, f = 647.9281006152364\n",
      "Optimization restart 5/5, f = 777.1610315946253\n",
      "[[12.          8.05183181 27.         51.33654625  1.          1.5       ]]\n",
      "\n",
      "User function time loss called with 1 inputs to simulate\n",
      "\n",
      "Evaluating input: 1 of 1\n",
      "\n",
      " Retrying in 1 seconds\n"
     ]
    },
    {
     "name": "stderr",
     "output_type": "stream",
     "text": [
      " /Users/harrysonghurst/opt/anaconda3/envs/traffic/lib/python3.8/site-packages/paramz/transformations.py:111: RuntimeWarning:overflow encountered in expm1\n"
     ]
    },
    {
     "name": "stdout",
     "output_type": "stream",
     "text": [
      "Optimization restart 1/5, f = 653.7709059049762\n",
      "Optimization restart 2/5, f = 653.7426700569728\n",
      "Optimization restart 3/5, f = 653.7426709591782\n",
      "Optimization restart 4/5, f = 653.7426700471958\n",
      "Optimization restart 5/5, f = 782.7597692477135\n",
      "[[20.          9.47943113  5.         61.80532627  1.          2.71355592]]\n",
      "\n",
      "User function time loss called with 1 inputs to simulate\n",
      "\n",
      "Evaluating input: 1 of 1\n",
      "\n",
      " Retrying in 1 seconds\n"
     ]
    },
    {
     "name": "stderr",
     "output_type": "stream",
     "text": [
      " /Users/harrysonghurst/opt/anaconda3/envs/traffic/lib/python3.8/site-packages/paramz/transformations.py:111: RuntimeWarning:overflow encountered in expm1\n"
     ]
    },
    {
     "name": "stdout",
     "output_type": "stream",
     "text": [
      "Optimization restart 1/5, f = 657.9935458934017\n",
      "Optimization restart 2/5, f = 657.993462459914\n",
      "Optimization restart 3/5, f = 657.9934624880337\n",
      "Optimization restart 4/5, f = 744.3571626608616\n"
     ]
    },
    {
     "name": "stderr",
     "output_type": "stream",
     "text": [
      " /Users/harrysonghurst/opt/anaconda3/envs/traffic/lib/python3.8/site-packages/GPy/kern/src/stationary.py:168: RuntimeWarning:overflow encountered in true_divide\n",
      " /Users/harrysonghurst/opt/anaconda3/envs/traffic/lib/python3.8/site-packages/GPy/kern/src/rbf.py:52: RuntimeWarning:overflow encountered in square\n",
      " /Users/harrysonghurst/opt/anaconda3/envs/traffic/lib/python3.8/site-packages/GPy/kern/src/rbf.py:76: RuntimeWarning:invalid value encountered in multiply\n"
     ]
    },
    {
     "name": "stdout",
     "output_type": "stream",
     "text": [
      "Optimization restart 5/5, f = 657.9934624520222\n",
      "[[ 7.         23.83430735 22.41191402 49.1663371   1.          2.17562219]]\n",
      "\n",
      "User function time loss called with 1 inputs to simulate\n",
      "\n",
      "Evaluating input: 1 of 1\n",
      "\n",
      " Retrying in 1 seconds\n"
     ]
    },
    {
     "name": "stderr",
     "output_type": "stream",
     "text": [
      " /Users/harrysonghurst/opt/anaconda3/envs/traffic/lib/python3.8/site-packages/paramz/transformations.py:111: RuntimeWarning:overflow encountered in expm1\n"
     ]
    },
    {
     "name": "stdout",
     "output_type": "stream",
     "text": [
      "Optimization restart 1/5, f = 662.5862274691868\n",
      "Optimization restart 2/5, f = 662.5802820615354\n",
      "Optimization restart 3/5, f = 662.5802820614234\n",
      "Optimization restart 4/5, f = 662.5802820629833\n",
      "Optimization restart 5/5, f = 662.5802820935414\n",
      "[[13.         16.31365112 22.38659308 70.          3.          5.        ]]\n",
      "\n",
      "User function time loss called with 1 inputs to simulate\n",
      "\n",
      "Evaluating input: 1 of 1\n",
      "\n",
      " Retrying in 1 seconds\n"
     ]
    },
    {
     "name": "stderr",
     "output_type": "stream",
     "text": [
      " /Users/harrysonghurst/opt/anaconda3/envs/traffic/lib/python3.8/site-packages/paramz/transformations.py:111: RuntimeWarning:overflow encountered in expm1\n"
     ]
    },
    {
     "name": "stdout",
     "output_type": "stream",
     "text": [
      "Optimization restart 1/5, f = 666.7625240055129\n",
      "Optimization restart 2/5, f = 666.7623905058167\n",
      "Optimization restart 3/5, f = 727.8062488296462\n"
     ]
    },
    {
     "name": "stderr",
     "output_type": "stream",
     "text": [
      " /Users/harrysonghurst/opt/anaconda3/envs/traffic/lib/python3.8/site-packages/GPy/kern/src/stationary.py:168: RuntimeWarning:overflow encountered in true_divide\n",
      " /Users/harrysonghurst/opt/anaconda3/envs/traffic/lib/python3.8/site-packages/GPy/kern/src/rbf.py:52: RuntimeWarning:overflow encountered in square\n",
      " /Users/harrysonghurst/opt/anaconda3/envs/traffic/lib/python3.8/site-packages/GPy/kern/src/rbf.py:76: RuntimeWarning:invalid value encountered in multiply\n"
     ]
    },
    {
     "name": "stdout",
     "output_type": "stream",
     "text": [
      "Optimization restart 4/5, f = 666.7623905012592\n",
      "Optimization restart 5/5, f = 666.7623905027662\n",
      "[[11.         17.30140725  8.59799783 59.14644332  3.          2.71514116]]\n",
      "\n",
      "User function time loss called with 1 inputs to simulate\n",
      "\n",
      "Evaluating input: 1 of 1\n",
      "\n",
      " Retrying in 1 seconds\n"
     ]
    },
    {
     "name": "stderr",
     "output_type": "stream",
     "text": [
      " /Users/harrysonghurst/opt/anaconda3/envs/traffic/lib/python3.8/site-packages/paramz/transformations.py:111: RuntimeWarning:overflow encountered in expm1\n"
     ]
    },
    {
     "name": "stdout",
     "output_type": "stream",
     "text": [
      "Optimization restart 1/5, f = 670.884750346026\n",
      "Optimization restart 2/5, f = 670.8847498326036\n",
      "Optimization restart 3/5, f = 670.8847497262519\n"
     ]
    },
    {
     "name": "stderr",
     "output_type": "stream",
     "text": [
      " /Users/harrysonghurst/opt/anaconda3/envs/traffic/lib/python3.8/site-packages/GPy/kern/src/stationary.py:168: RuntimeWarning:overflow encountered in true_divide\n",
      " /Users/harrysonghurst/opt/anaconda3/envs/traffic/lib/python3.8/site-packages/GPy/kern/src/rbf.py:52: RuntimeWarning:overflow encountered in square\n",
      " /Users/harrysonghurst/opt/anaconda3/envs/traffic/lib/python3.8/site-packages/GPy/kern/src/rbf.py:76: RuntimeWarning:invalid value encountered in multiply\n"
     ]
    },
    {
     "name": "stdout",
     "output_type": "stream",
     "text": [
      "Optimization restart 4/5, f = 672.3145401165706\n",
      "Optimization restart 5/5, f = 670.8847497274169\n",
      "[[ 3.         16.40698638 23.92668549 64.57722627  1.          5.        ]]\n",
      "\n",
      "User function time loss called with 1 inputs to simulate\n",
      "\n",
      "Evaluating input: 1 of 1\n",
      "\n",
      " Retrying in 1 seconds\n"
     ]
    },
    {
     "name": "stderr",
     "output_type": "stream",
     "text": [
      " /Users/harrysonghurst/opt/anaconda3/envs/traffic/lib/python3.8/site-packages/paramz/transformations.py:111: RuntimeWarning:overflow encountered in expm1\n"
     ]
    },
    {
     "name": "stdout",
     "output_type": "stream",
     "text": [
      "Optimization restart 1/5, f = 676.1134820364742\n",
      "Optimization restart 2/5, f = 676.1134458440138\n",
      "Optimization restart 3/5, f = 676.1134458532649\n",
      "Optimization restart 4/5, f = 676.1134459008686\n",
      "Optimization restart 5/5, f = 676.1134460108282\n",
      "[[20.         19.22580379 10.28239989 45.54803805  1.          5.        ]]\n",
      "\n",
      "User function time loss called with 1 inputs to simulate\n",
      "\n",
      "Evaluating input: 1 of 1\n",
      "\n",
      " Retrying in 1 seconds\n"
     ]
    },
    {
     "name": "stderr",
     "output_type": "stream",
     "text": [
      " /Users/harrysonghurst/opt/anaconda3/envs/traffic/lib/python3.8/site-packages/paramz/transformations.py:111: RuntimeWarning:overflow encountered in expm1\n"
     ]
    },
    {
     "name": "stdout",
     "output_type": "stream",
     "text": [
      "Optimization restart 1/5, f = 680.3753369313775\n",
      "Optimization restart 2/5, f = 680.3752518555956\n",
      "Optimization restart 3/5, f = 680.3752518479704\n",
      "Optimization restart 4/5, f = 680.3752519381609\n",
      "Optimization restart 5/5, f = 680.3752518480575\n",
      "[[14.         15.98307778 22.43078979 35.56682129  1.          1.5       ]]\n",
      "\n",
      "User function time loss called with 1 inputs to simulate\n",
      "\n",
      "Evaluating input: 1 of 1\n",
      "\n",
      " Retrying in 1 seconds\n"
     ]
    },
    {
     "name": "stderr",
     "output_type": "stream",
     "text": [
      " /Users/harrysonghurst/opt/anaconda3/envs/traffic/lib/python3.8/site-packages/paramz/transformations.py:111: RuntimeWarning:overflow encountered in expm1\n"
     ]
    },
    {
     "name": "stdout",
     "output_type": "stream",
     "text": [
      "Optimization restart 1/5, f = 684.654573730063\n",
      "Optimization restart 2/5, f = 684.6545739733108\n",
      "Optimization restart 3/5, f = 684.6545734626925\n",
      "Optimization restart 4/5, f = 684.6545738051667\n",
      "Optimization restart 5/5, f = 684.6545735173434\n",
      "[[20.          8.          8.73270892 35.19524119  1.          1.5       ]]\n",
      "\n",
      "User function time loss called with 1 inputs to simulate\n",
      "\n",
      "Evaluating input: 1 of 1\n",
      "\n",
      " Retrying in 1 seconds\n"
     ]
    },
    {
     "name": "stderr",
     "output_type": "stream",
     "text": [
      " /Users/harrysonghurst/opt/anaconda3/envs/traffic/lib/python3.8/site-packages/paramz/transformations.py:111: RuntimeWarning:overflow encountered in expm1\n"
     ]
    },
    {
     "name": "stdout",
     "output_type": "stream",
     "text": [
      "Optimization restart 1/5, f = 688.8740368144274\n",
      "Optimization restart 2/5, f = 688.8739941003197\n",
      "Optimization restart 3/5, f = 688.873994066942\n",
      "Optimization restart 4/5, f = 688.873994065459\n",
      "Optimization restart 5/5, f = 688.8739943590205\n",
      "[[ 6.         18.63483037 19.27986837 51.29163123  3.          1.5       ]]\n",
      "\n",
      "User function time loss called with 1 inputs to simulate\n",
      "\n",
      "Evaluating input: 1 of 1\n",
      "\n",
      " Retrying in 1 seconds\n"
     ]
    },
    {
     "name": "stderr",
     "output_type": "stream",
     "text": [
      " /Users/harrysonghurst/opt/anaconda3/envs/traffic/lib/python3.8/site-packages/paramz/transformations.py:111: RuntimeWarning:overflow encountered in expm1\n"
     ]
    },
    {
     "name": "stdout",
     "output_type": "stream",
     "text": [
      "Optimization restart 1/5, f = 694.1266340393166\n",
      "Optimization restart 2/5, f = 694.1213205090136\n",
      "Optimization restart 3/5, f = 694.121320448119\n",
      "Optimization restart 4/5, f = 1142.736513096724\n"
     ]
    },
    {
     "name": "stderr",
     "output_type": "stream",
     "text": [
      " /Users/harrysonghurst/opt/anaconda3/envs/traffic/lib/python3.8/site-packages/GPy/kern/src/stationary.py:168: RuntimeWarning:overflow encountered in true_divide\n",
      " /Users/harrysonghurst/opt/anaconda3/envs/traffic/lib/python3.8/site-packages/GPy/kern/src/rbf.py:52: RuntimeWarning:overflow encountered in square\n",
      " /Users/harrysonghurst/opt/anaconda3/envs/traffic/lib/python3.8/site-packages/GPy/kern/src/rbf.py:76: RuntimeWarning:invalid value encountered in multiply\n"
     ]
    },
    {
     "name": "stdout",
     "output_type": "stream",
     "text": [
      "Optimization restart 5/5, f = 694.1213204422401\n",
      "[[ 5.          8.         21.25847604 39.0713333   1.          5.        ]]\n",
      "\n",
      "User function time loss called with 1 inputs to simulate\n",
      "\n",
      "Evaluating input: 1 of 1\n",
      "\n",
      " Retrying in 1 seconds\n"
     ]
    },
    {
     "name": "stderr",
     "output_type": "stream",
     "text": [
      " /Users/harrysonghurst/opt/anaconda3/envs/traffic/lib/python3.8/site-packages/paramz/transformations.py:111: RuntimeWarning:overflow encountered in expm1\n"
     ]
    },
    {
     "name": "stdout",
     "output_type": "stream",
     "text": [
      "Optimization restart 1/5, f = 699.7889020107214\n",
      "Optimization restart 2/5, f = 699.7832783616543\n",
      "Optimization restart 3/5, f = 699.7832783580694\n"
     ]
    },
    {
     "name": "stderr",
     "output_type": "stream",
     "text": [
      " /Users/harrysonghurst/opt/anaconda3/envs/traffic/lib/python3.8/site-packages/GPy/kern/src/rbf.py:52: RuntimeWarning:overflow encountered in square\n",
      " /Users/harrysonghurst/opt/anaconda3/envs/traffic/lib/python3.8/site-packages/GPy/kern/src/stationary.py:168: RuntimeWarning:overflow encountered in true_divide\n",
      " /Users/harrysonghurst/opt/anaconda3/envs/traffic/lib/python3.8/site-packages/GPy/kern/src/rbf.py:76: RuntimeWarning:invalid value encountered in multiply\n",
      " /Users/harrysonghurst/opt/anaconda3/envs/traffic/lib/python3.8/site-packages/paramz/transformations.py:108: RuntimeWarning:invalid value encountered in greater\n",
      " /Users/harrysonghurst/opt/anaconda3/envs/traffic/lib/python3.8/site-packages/paramz/transformations.py:113: RuntimeWarning:invalid value encountered in greater\n"
     ]
    },
    {
     "name": "stdout",
     "output_type": "stream",
     "text": [
      "Warning - optimization restart 4/5 failed\n",
      "Optimization restart 5/5, f = 699.7832783575284\n",
      "[[14.         25.         23.35040444 33.74484809  3.          5.        ]]\n",
      "\n",
      "User function time loss called with 1 inputs to simulate\n",
      "\n",
      "Evaluating input: 1 of 1\n",
      "\n",
      " Retrying in 1 seconds\n"
     ]
    },
    {
     "name": "stderr",
     "output_type": "stream",
     "text": [
      " /Users/harrysonghurst/opt/anaconda3/envs/traffic/lib/python3.8/site-packages/paramz/transformations.py:111: RuntimeWarning:overflow encountered in expm1\n"
     ]
    },
    {
     "name": "stdout",
     "output_type": "stream",
     "text": [
      "Optimization restart 1/5, f = 704.4731724302003\n",
      "Optimization restart 2/5, f = 800.2541371784436\n",
      "Optimization restart 3/5, f = 704.4731539908413\n",
      "Optimization restart 4/5, f = 704.4731539908692\n",
      "Optimization restart 5/5, f = 704.4731540034168\n",
      "[[10.         23.12683593 27.         61.59029514  1.          5.        ]]\n",
      "\n",
      "User function time loss called with 1 inputs to simulate\n",
      "\n",
      "Evaluating input: 1 of 1\n",
      "\n",
      " Retrying in 1 seconds\n"
     ]
    },
    {
     "name": "stderr",
     "output_type": "stream",
     "text": [
      " /Users/harrysonghurst/opt/anaconda3/envs/traffic/lib/python3.8/site-packages/paramz/transformations.py:111: RuntimeWarning:overflow encountered in expm1\n"
     ]
    },
    {
     "name": "stdout",
     "output_type": "stream",
     "text": [
      "Optimization restart 1/5, f = 708.8903423194563\n",
      "Optimization restart 2/5, f = 708.8903404639701\n",
      "Optimization restart 3/5, f = 762.642575393053\n"
     ]
    },
    {
     "name": "stderr",
     "output_type": "stream",
     "text": [
      " /Users/harrysonghurst/opt/anaconda3/envs/traffic/lib/python3.8/site-packages/GPy/kern/src/stationary.py:168: RuntimeWarning:overflow encountered in true_divide\n",
      " /Users/harrysonghurst/opt/anaconda3/envs/traffic/lib/python3.8/site-packages/GPy/kern/src/rbf.py:52: RuntimeWarning:overflow encountered in square\n",
      " /Users/harrysonghurst/opt/anaconda3/envs/traffic/lib/python3.8/site-packages/GPy/kern/src/rbf.py:76: RuntimeWarning:invalid value encountered in multiply\n"
     ]
    },
    {
     "name": "stdout",
     "output_type": "stream",
     "text": [
      "Optimization restart 4/5, f = 708.8903404494879\n",
      "Optimization restart 5/5, f = 708.8903476397664\n",
      "[[ 6.         18.56930461 10.14550297 64.76068488  1.          1.5       ]]\n",
      "\n",
      "User function time loss called with 1 inputs to simulate\n",
      "\n",
      "Evaluating input: 1 of 1\n",
      "\n",
      " Retrying in 1 seconds\n"
     ]
    },
    {
     "name": "stderr",
     "output_type": "stream",
     "text": [
      " /Users/harrysonghurst/opt/anaconda3/envs/traffic/lib/python3.8/site-packages/paramz/transformations.py:111: RuntimeWarning:overflow encountered in expm1\n"
     ]
    },
    {
     "name": "stdout",
     "output_type": "stream",
     "text": [
      "Optimization restart 1/5, f = 713.0409569319918\n",
      "Optimization restart 2/5, f = 713.0407858236313\n",
      "Optimization restart 3/5, f = 713.0407858224844\n",
      "Optimization restart 4/5, f = 713.0407858225465\n"
     ]
    },
    {
     "name": "stderr",
     "output_type": "stream",
     "text": [
      " /Users/harrysonghurst/opt/anaconda3/envs/traffic/lib/python3.8/site-packages/GPy/kern/src/stationary.py:168: RuntimeWarning:overflow encountered in true_divide\n",
      " /Users/harrysonghurst/opt/anaconda3/envs/traffic/lib/python3.8/site-packages/GPy/kern/src/rbf.py:52: RuntimeWarning:overflow encountered in square\n",
      " /Users/harrysonghurst/opt/anaconda3/envs/traffic/lib/python3.8/site-packages/GPy/kern/src/rbf.py:76: RuntimeWarning:invalid value encountered in multiply\n"
     ]
    },
    {
     "name": "stdout",
     "output_type": "stream",
     "text": [
      "Optimization restart 5/5, f = 811.0194584071357\n",
      "[[18.         25.         13.52845751 70.          1.          4.49154369]]\n",
      "\n",
      "User function time loss called with 1 inputs to simulate\n",
      "\n",
      "Evaluating input: 1 of 1\n",
      "\n",
      " Retrying in 1 seconds\n"
     ]
    },
    {
     "name": "stderr",
     "output_type": "stream",
     "text": [
      " /Users/harrysonghurst/opt/anaconda3/envs/traffic/lib/python3.8/site-packages/paramz/transformations.py:111: RuntimeWarning:overflow encountered in expm1\n"
     ]
    },
    {
     "name": "stdout",
     "output_type": "stream",
     "text": [
      "Optimization restart 1/5, f = 717.2737220137188\n",
      "Optimization restart 2/5, f = 717.2737954837431\n",
      "Optimization restart 3/5, f = 717.2737195118978\n",
      "Optimization restart 4/5, f = 866.8647349282666\n",
      "Optimization restart 5/5, f = 717.2737196359056\n",
      "[[11.         13.70788577 11.5816238  37.782731    3.          5.        ]]\n",
      "\n",
      "User function time loss called with 1 inputs to simulate\n",
      "\n",
      "Evaluating input: 1 of 1\n",
      "\n",
      " Retrying in 1 seconds\n"
     ]
    },
    {
     "name": "stderr",
     "output_type": "stream",
     "text": [
      " /Users/harrysonghurst/opt/anaconda3/envs/traffic/lib/python3.8/site-packages/paramz/transformations.py:111: RuntimeWarning:overflow encountered in expm1\n"
     ]
    },
    {
     "name": "stdout",
     "output_type": "stream",
     "text": [
      "Optimization restart 1/5, f = 721.3750694870334\n",
      "Optimization restart 2/5, f = 721.3749464787328\n"
     ]
    },
    {
     "name": "stderr",
     "output_type": "stream",
     "text": [
      " /Users/harrysonghurst/opt/anaconda3/envs/traffic/lib/python3.8/site-packages/GPy/kern/src/rbf.py:52: RuntimeWarning:overflow encountered in square\n"
     ]
    },
    {
     "name": "stdout",
     "output_type": "stream",
     "text": [
      "Optimization restart 3/5, f = 721.3749464708163\n",
      "Optimization restart 4/5, f = 721.3749465229187\n",
      "Optimization restart 5/5, f = 770.2684182911082\n"
     ]
    },
    {
     "name": "stderr",
     "output_type": "stream",
     "text": [
      " /Users/harrysonghurst/opt/anaconda3/envs/traffic/lib/python3.8/site-packages/GPy/kern/src/stationary.py:168: RuntimeWarning:overflow encountered in true_divide\n",
      " /Users/harrysonghurst/opt/anaconda3/envs/traffic/lib/python3.8/site-packages/GPy/kern/src/rbf.py:76: RuntimeWarning:invalid value encountered in multiply\n"
     ]
    },
    {
     "name": "stdout",
     "output_type": "stream",
     "text": [
      "[[ 3.         23.71493965  7.87005025 47.07383464  1.          2.15441415]]\n",
      "\n",
      "User function time loss called with 1 inputs to simulate\n",
      "\n",
      "Evaluating input: 1 of 1\n",
      "\n",
      " Retrying in 1 seconds\n"
     ]
    },
    {
     "name": "stderr",
     "output_type": "stream",
     "text": [
      " /Users/harrysonghurst/opt/anaconda3/envs/traffic/lib/python3.8/site-packages/paramz/transformations.py:111: RuntimeWarning:overflow encountered in expm1\n"
     ]
    },
    {
     "name": "stdout",
     "output_type": "stream",
     "text": [
      "Optimization restart 1/5, f = 725.6411452704772\n",
      "Optimization restart 2/5, f = 725.6398467689346\n",
      "Optimization restart 3/5, f = 725.6398467451827\n",
      "Optimization restart 4/5, f = 725.6398493881329\n",
      "Optimization restart 5/5, f = 725.6398467362601\n",
      "[[ 3.         25.         18.45507576 61.78047499  3.          3.06397879]]\n",
      "\n",
      "User function time loss called with 1 inputs to simulate\n",
      "\n",
      "Evaluating input: 1 of 1\n",
      "\n",
      " Retrying in 1 seconds\n"
     ]
    },
    {
     "name": "stderr",
     "output_type": "stream",
     "text": [
      " /Users/harrysonghurst/opt/anaconda3/envs/traffic/lib/python3.8/site-packages/paramz/transformations.py:111: RuntimeWarning:overflow encountered in expm1\n"
     ]
    },
    {
     "name": "stdout",
     "output_type": "stream",
     "text": [
      "Optimization restart 1/5, f = 729.9406968373535\n",
      "Optimization restart 2/5, f = 729.9403330868411\n",
      "Optimization restart 3/5, f = 729.940333545909\n",
      "Optimization restart 4/5, f = 729.9403330856584\n",
      "Optimization restart 5/5, f = 729.9403330856927\n",
      "[[20.         15.55861189 27.         52.74948965  1.          5.        ]]\n",
      "\n",
      "User function time loss called with 1 inputs to simulate\n",
      "\n",
      "Evaluating input: 1 of 1\n",
      "\n",
      " Retrying in 1 seconds\n"
     ]
    },
    {
     "name": "stderr",
     "output_type": "stream",
     "text": [
      " /Users/harrysonghurst/opt/anaconda3/envs/traffic/lib/python3.8/site-packages/paramz/transformations.py:111: RuntimeWarning:overflow encountered in expm1\n"
     ]
    },
    {
     "name": "stdout",
     "output_type": "stream",
     "text": [
      "Optimization restart 1/5, f = 734.0737210394392\n",
      "Optimization restart 2/5, f = 734.0736976341278\n",
      "Optimization restart 3/5, f = 734.073698490002\n",
      "Optimization restart 4/5, f = 734.0736976162416\n",
      "Optimization restart 5/5, f = 734.0736977253667\n",
      "[[ 3.         15.76846601 21.1938338  70.          3.          3.00924   ]]\n",
      "\n",
      "User function time loss called with 1 inputs to simulate\n",
      "\n",
      "Evaluating input: 1 of 1\n",
      "\n",
      " Retrying in 1 seconds\n"
     ]
    },
    {
     "name": "stderr",
     "output_type": "stream",
     "text": [
      " /Users/harrysonghurst/opt/anaconda3/envs/traffic/lib/python3.8/site-packages/paramz/transformations.py:111: RuntimeWarning:overflow encountered in expm1\n"
     ]
    },
    {
     "name": "stdout",
     "output_type": "stream",
     "text": [
      "Optimization restart 1/5, f = 739.5083215653292\n",
      "Optimization restart 2/5, f = 739.5055975623794\n",
      "Optimization restart 3/5, f = 739.5055972260908\n"
     ]
    },
    {
     "name": "stderr",
     "output_type": "stream",
     "text": [
      " /Users/harrysonghurst/opt/anaconda3/envs/traffic/lib/python3.8/site-packages/GPy/kern/src/stationary.py:168: RuntimeWarning:overflow encountered in true_divide\n",
      " /Users/harrysonghurst/opt/anaconda3/envs/traffic/lib/python3.8/site-packages/GPy/kern/src/rbf.py:52: RuntimeWarning:overflow encountered in square\n",
      " /Users/harrysonghurst/opt/anaconda3/envs/traffic/lib/python3.8/site-packages/GPy/kern/src/rbf.py:76: RuntimeWarning:invalid value encountered in multiply\n"
     ]
    },
    {
     "name": "stdout",
     "output_type": "stream",
     "text": [
      "Optimization restart 4/5, f = 826.6423794653601\n",
      "Optimization restart 5/5, f = 898.4664344900893\n",
      "[[16.         11.81598893 15.19980541 51.79987885  1.          2.28633023]]\n",
      "\n",
      "User function time loss called with 1 inputs to simulate\n",
      "\n",
      "Evaluating input: 1 of 1\n",
      "\n",
      " Retrying in 1 seconds\n"
     ]
    },
    {
     "name": "stderr",
     "output_type": "stream",
     "text": [
      " /Users/harrysonghurst/opt/anaconda3/envs/traffic/lib/python3.8/site-packages/paramz/transformations.py:111: RuntimeWarning:overflow encountered in expm1\n"
     ]
    },
    {
     "name": "stdout",
     "output_type": "stream",
     "text": [
      "Optimization restart 1/5, f = 743.5774002161278\n",
      "Optimization restart 2/5, f = 743.5773866930892\n"
     ]
    },
    {
     "name": "stderr",
     "output_type": "stream",
     "text": [
      " /Users/harrysonghurst/opt/anaconda3/envs/traffic/lib/python3.8/site-packages/GPy/kern/src/stationary.py:168: RuntimeWarning:overflow encountered in true_divide\n",
      " /Users/harrysonghurst/opt/anaconda3/envs/traffic/lib/python3.8/site-packages/GPy/kern/src/rbf.py:52: RuntimeWarning:overflow encountered in square\n",
      " /Users/harrysonghurst/opt/anaconda3/envs/traffic/lib/python3.8/site-packages/GPy/kern/src/rbf.py:76: RuntimeWarning:invalid value encountered in multiply\n"
     ]
    },
    {
     "name": "stdout",
     "output_type": "stream",
     "text": [
      "Optimization restart 3/5, f = 799.7557413612731\n",
      "Optimization restart 4/5, f = 743.577411896936\n",
      "Optimization restart 5/5, f = 743.577385896116\n",
      "[[ 3.          8.         11.36666524 50.79199471  3.          5.        ]]\n",
      "\n",
      "User function time loss called with 1 inputs to simulate\n",
      "\n",
      "Evaluating input: 1 of 1\n",
      "\n",
      " Retrying in 1 seconds\n"
     ]
    },
    {
     "name": "stderr",
     "output_type": "stream",
     "text": [
      " /Users/harrysonghurst/opt/anaconda3/envs/traffic/lib/python3.8/site-packages/paramz/transformations.py:111: RuntimeWarning:overflow encountered in expm1\n"
     ]
    },
    {
     "name": "stdout",
     "output_type": "stream",
     "text": [
      "Optimization restart 1/5, f = 747.6860794215964\n",
      "Optimization restart 2/5, f = 747.6860546330354\n",
      "Optimization restart 3/5, f = 747.6860546334756\n",
      "Optimization restart 4/5, f = 747.6860546427768\n",
      "Optimization restart 5/5, f = 747.6860546879755\n",
      "[[19.         15.07544173 21.81668585 38.38096829  3.          5.        ]]\n",
      "\n",
      "User function time loss called with 1 inputs to simulate\n",
      "\n",
      "Evaluating input: 1 of 1\n",
      "\n",
      " Retrying in 1 seconds\n"
     ]
    },
    {
     "name": "stderr",
     "output_type": "stream",
     "text": [
      " /Users/harrysonghurst/opt/anaconda3/envs/traffic/lib/python3.8/site-packages/paramz/transformations.py:111: RuntimeWarning:overflow encountered in expm1\n"
     ]
    },
    {
     "name": "stdout",
     "output_type": "stream",
     "text": [
      "Optimization restart 1/5, f = 752.2322309058553\n",
      "Optimization restart 2/5, f = 752.2279193713065\n",
      "Optimization restart 3/5, f = 752.2279193917905\n",
      "Optimization restart 4/5, f = 752.2279193842246\n",
      "Optimization restart 5/5, f = 752.227919370523\n",
      "[[12.          8.          6.38320497 65.32698076  3.          5.        ]]\n",
      "\n",
      "User function time loss called with 1 inputs to simulate\n",
      "\n",
      "Evaluating input: 1 of 1\n",
      "\n",
      " Retrying in 1 seconds\n"
     ]
    },
    {
     "name": "stderr",
     "output_type": "stream",
     "text": [
      " /Users/harrysonghurst/opt/anaconda3/envs/traffic/lib/python3.8/site-packages/paramz/transformations.py:111: RuntimeWarning:overflow encountered in expm1\n"
     ]
    },
    {
     "name": "stdout",
     "output_type": "stream",
     "text": [
      "Optimization restart 1/5, f = 756.3924392390569\n",
      "Optimization restart 2/5, f = 756.3922318146041\n",
      "Optimization restart 3/5, f = 921.4639685791642\n",
      "Optimization restart 4/5, f = 756.3922317839726\n",
      "Optimization restart 5/5, f = 756.3922317851702\n",
      "[[13.         21.30414765  5.         51.18067329  3.          2.30848264]]\n",
      "\n",
      "User function time loss called with 1 inputs to simulate\n",
      "\n",
      "Evaluating input: 1 of 1\n",
      "\n",
      " Retrying in 1 seconds\n"
     ]
    },
    {
     "name": "stderr",
     "output_type": "stream",
     "text": [
      " /Users/harrysonghurst/opt/anaconda3/envs/traffic/lib/python3.8/site-packages/paramz/transformations.py:111: RuntimeWarning:overflow encountered in expm1\n"
     ]
    },
    {
     "name": "stdout",
     "output_type": "stream",
     "text": [
      "Optimization restart 1/5, f = 760.911703619162\n",
      "Optimization restart 2/5, f = 760.9115022965505\n",
      "Optimization restart 3/5, f = 760.9115011462128\n",
      "Optimization restart 4/5, f = 760.9115011173718\n",
      "Optimization restart 5/5, f = 760.9115011165233\n",
      "[[ 3.         18.42198327 27.         30.          1.          4.68617524]]\n",
      "\n",
      "User function time loss called with 1 inputs to simulate\n",
      "\n",
      "Evaluating input: 1 of 1\n",
      "\n",
      " Retrying in 1 seconds\n"
     ]
    },
    {
     "name": "stderr",
     "output_type": "stream",
     "text": [
      " /Users/harrysonghurst/opt/anaconda3/envs/traffic/lib/python3.8/site-packages/paramz/transformations.py:111: RuntimeWarning:overflow encountered in expm1\n"
     ]
    },
    {
     "name": "stdout",
     "output_type": "stream",
     "text": [
      "Optimization restart 1/5, f = 765.1966620997638\n",
      "Optimization restart 2/5, f = 765.1956222539559\n",
      "Optimization restart 3/5, f = 765.1956222464268\n"
     ]
    },
    {
     "name": "stderr",
     "output_type": "stream",
     "text": [
      " /Users/harrysonghurst/opt/anaconda3/envs/traffic/lib/python3.8/site-packages/GPy/kern/src/stationary.py:168: RuntimeWarning:overflow encountered in true_divide\n",
      " /Users/harrysonghurst/opt/anaconda3/envs/traffic/lib/python3.8/site-packages/GPy/kern/src/rbf.py:52: RuntimeWarning:overflow encountered in square\n",
      " /Users/harrysonghurst/opt/anaconda3/envs/traffic/lib/python3.8/site-packages/GPy/kern/src/rbf.py:76: RuntimeWarning:invalid value encountered in multiply\n"
     ]
    },
    {
     "name": "stdout",
     "output_type": "stream",
     "text": [
      "Optimization restart 4/5, f = 874.3861453820967\n",
      "Optimization restart 5/5, f = 765.1956222448855\n",
      "[[ 9.         11.81749304 24.79527533 62.9202456   3.          1.5       ]]\n",
      "\n",
      "User function time loss called with 1 inputs to simulate\n",
      "\n",
      "Evaluating input: 1 of 1\n",
      "\n",
      " Retrying in 1 seconds\n"
     ]
    },
    {
     "name": "stderr",
     "output_type": "stream",
     "text": [
      " /Users/harrysonghurst/opt/anaconda3/envs/traffic/lib/python3.8/site-packages/paramz/transformations.py:111: RuntimeWarning:overflow encountered in expm1\n"
     ]
    },
    {
     "name": "stdout",
     "output_type": "stream",
     "text": [
      "Optimization restart 1/5, f = 769.2822014238127\n",
      "Optimization restart 2/5, f = 1536.0940835494537\n"
     ]
    },
    {
     "name": "stderr",
     "output_type": "stream",
     "text": [
      " /Users/harrysonghurst/opt/anaconda3/envs/traffic/lib/python3.8/site-packages/GPy/kern/src/stationary.py:168: RuntimeWarning:overflow encountered in true_divide\n",
      " /Users/harrysonghurst/opt/anaconda3/envs/traffic/lib/python3.8/site-packages/GPy/kern/src/rbf.py:52: RuntimeWarning:overflow encountered in square\n",
      " /Users/harrysonghurst/opt/anaconda3/envs/traffic/lib/python3.8/site-packages/GPy/kern/src/rbf.py:76: RuntimeWarning:invalid value encountered in multiply\n"
     ]
    },
    {
     "name": "stdout",
     "output_type": "stream",
     "text": [
      "Optimization restart 3/5, f = 769.2821985516732\n",
      "Optimization restart 4/5, f = 769.2833303836732\n",
      "Optimization restart 5/5, f = 769.2821985878427\n",
      "[[ 9.         18.24409047 21.25552459 51.13394401  1.          1.5       ]]\n",
      "\n",
      "User function time loss called with 1 inputs to simulate\n",
      "\n",
      "Evaluating input: 1 of 1\n",
      "\n",
      " Retrying in 1 seconds\n"
     ]
    },
    {
     "name": "stderr",
     "output_type": "stream",
     "text": [
      " /Users/harrysonghurst/opt/anaconda3/envs/traffic/lib/python3.8/site-packages/paramz/transformations.py:111: RuntimeWarning:overflow encountered in expm1\n"
     ]
    },
    {
     "name": "stdout",
     "output_type": "stream",
     "text": [
      "Optimization restart 1/5, f = 773.5869376619863\n",
      "Optimization restart 2/5, f = 773.5866860304177\n",
      "Optimization restart 3/5, f = 773.5866860401043\n",
      "Optimization restart 4/5, f = 773.5866860296251\n",
      "Optimization restart 5/5, f = 773.5867197860808\n",
      "[[16.         25.          9.21082207 45.48533665  1.          1.5       ]]\n",
      "\n",
      "User function time loss called with 1 inputs to simulate\n",
      "\n",
      "Evaluating input: 1 of 1\n",
      "\n",
      " Retrying in 1 seconds\n"
     ]
    },
    {
     "name": "stderr",
     "output_type": "stream",
     "text": [
      " /Users/harrysonghurst/opt/anaconda3/envs/traffic/lib/python3.8/site-packages/paramz/transformations.py:111: RuntimeWarning:overflow encountered in expm1\n"
     ]
    },
    {
     "name": "stdout",
     "output_type": "stream",
     "text": [
      "Optimization restart 1/5, f = 778.35173676391\n",
      "Optimization restart 2/5, f = 778.3511250393194\n",
      "Optimization restart 3/5, f = 778.3511250426482\n"
     ]
    },
    {
     "name": "stderr",
     "output_type": "stream",
     "text": [
      " /Users/harrysonghurst/opt/anaconda3/envs/traffic/lib/python3.8/site-packages/GPy/kern/src/stationary.py:168: RuntimeWarning:overflow encountered in true_divide\n",
      " /Users/harrysonghurst/opt/anaconda3/envs/traffic/lib/python3.8/site-packages/GPy/kern/src/rbf.py:52: RuntimeWarning:overflow encountered in square\n",
      " /Users/harrysonghurst/opt/anaconda3/envs/traffic/lib/python3.8/site-packages/GPy/kern/src/rbf.py:76: RuntimeWarning:invalid value encountered in multiply\n"
     ]
    },
    {
     "name": "stdout",
     "output_type": "stream",
     "text": [
      "Optimization restart 4/5, f = 786.429239633504\n",
      "Optimization restart 5/5, f = 778.3511250398906\n",
      "[[ 3.         13.62102012  8.51208671 38.27731146  3.          1.5       ]]\n",
      "\n",
      "User function time loss called with 1 inputs to simulate\n",
      "\n",
      "Evaluating input: 1 of 1\n",
      "\n",
      " Retrying in 1 seconds\n"
     ]
    },
    {
     "name": "stderr",
     "output_type": "stream",
     "text": [
      " /Users/harrysonghurst/opt/anaconda3/envs/traffic/lib/python3.8/site-packages/paramz/transformations.py:111: RuntimeWarning:overflow encountered in expm1\n"
     ]
    },
    {
     "name": "stdout",
     "output_type": "stream",
     "text": [
      "Optimization restart 1/5, f = 782.45745770563\n"
     ]
    },
    {
     "name": "stderr",
     "output_type": "stream",
     "text": [
      " /Users/harrysonghurst/opt/anaconda3/envs/traffic/lib/python3.8/site-packages/GPy/kern/src/rbf.py:52: RuntimeWarning:overflow encountered in square\n"
     ]
    },
    {
     "name": "stdout",
     "output_type": "stream",
     "text": [
      "Optimization restart 2/5, f = 782.4574574537385\n",
      "Optimization restart 3/5, f = 782.4574576274908\n",
      "Optimization restart 4/5, f = 782.4574577273128\n",
      "Optimization restart 5/5, f = 897.1853255098871\n"
     ]
    },
    {
     "name": "stderr",
     "output_type": "stream",
     "text": [
      " /Users/harrysonghurst/opt/anaconda3/envs/traffic/lib/python3.8/site-packages/GPy/kern/src/stationary.py:168: RuntimeWarning:overflow encountered in true_divide\n",
      " /Users/harrysonghurst/opt/anaconda3/envs/traffic/lib/python3.8/site-packages/GPy/kern/src/rbf.py:76: RuntimeWarning:invalid value encountered in multiply\n"
     ]
    },
    {
     "name": "stdout",
     "output_type": "stream",
     "text": [
      "[[20.         18.16947052 25.29476396 70.          3.          5.        ]]\n",
      "\n",
      "User function time loss called with 1 inputs to simulate\n",
      "\n",
      "Evaluating input: 1 of 1\n",
      "\n",
      " Retrying in 1 seconds\n"
     ]
    },
    {
     "name": "stderr",
     "output_type": "stream",
     "text": [
      " /Users/harrysonghurst/opt/anaconda3/envs/traffic/lib/python3.8/site-packages/paramz/transformations.py:111: RuntimeWarning:overflow encountered in expm1\n"
     ]
    },
    {
     "name": "stdout",
     "output_type": "stream",
     "text": [
      "Optimization restart 1/5, f = 786.5720668011327\n",
      "Optimization restart 2/5, f = 786.5720592064865\n"
     ]
    },
    {
     "name": "stderr",
     "output_type": "stream",
     "text": [
      " /Users/harrysonghurst/opt/anaconda3/envs/traffic/lib/python3.8/site-packages/GPy/kern/src/rbf.py:52: RuntimeWarning:overflow encountered in square\n"
     ]
    },
    {
     "name": "stdout",
     "output_type": "stream",
     "text": [
      "Optimization restart 3/5, f = 786.5720592000649\n",
      "Optimization restart 4/5, f = 786.572061602073\n",
      "Optimization restart 5/5, f = 786.5720592264656\n",
      "[[ 9.         20.03020088 23.4107658  70.          1.          1.5       ]]\n",
      "\n",
      "User function time loss called with 1 inputs to simulate\n",
      "\n",
      "Evaluating input: 1 of 1\n",
      "\n",
      " Retrying in 1 seconds\n"
     ]
    },
    {
     "name": "stderr",
     "output_type": "stream",
     "text": [
      " /Users/harrysonghurst/opt/anaconda3/envs/traffic/lib/python3.8/site-packages/paramz/transformations.py:111: RuntimeWarning:overflow encountered in expm1\n"
     ]
    },
    {
     "name": "stdout",
     "output_type": "stream",
     "text": [
      "Optimization restart 1/5, f = 790.719884350961\n",
      "Warning - optimization restart 2/5 failed\n"
     ]
    },
    {
     "name": "stderr",
     "output_type": "stream",
     "text": [
      " /Users/harrysonghurst/opt/anaconda3/envs/traffic/lib/python3.8/site-packages/GPy/kern/src/stationary.py:168: RuntimeWarning:overflow encountered in true_divide\n",
      " /Users/harrysonghurst/opt/anaconda3/envs/traffic/lib/python3.8/site-packages/GPy/kern/src/rbf.py:52: RuntimeWarning:overflow encountered in square\n",
      " /Users/harrysonghurst/opt/anaconda3/envs/traffic/lib/python3.8/site-packages/GPy/kern/src/rbf.py:76: RuntimeWarning:invalid value encountered in multiply\n",
      " /Users/harrysonghurst/opt/anaconda3/envs/traffic/lib/python3.8/site-packages/paramz/transformations.py:108: RuntimeWarning:invalid value encountered in greater\n",
      " /Users/harrysonghurst/opt/anaconda3/envs/traffic/lib/python3.8/site-packages/paramz/transformations.py:113: RuntimeWarning:invalid value encountered in greater\n"
     ]
    },
    {
     "name": "stdout",
     "output_type": "stream",
     "text": [
      "Optimization restart 3/5, f = 790.7197429234357\n",
      "Optimization restart 4/5, f = 790.719742943596\n",
      "Optimization restart 5/5, f = 790.719742917467\n",
      "[[ 6.         18.88678625 10.9739824  59.16150253  3.          5.        ]]\n",
      "\n",
      "User function time loss called with 1 inputs to simulate\n",
      "\n",
      "Evaluating input: 1 of 1\n",
      "\n",
      " Retrying in 1 seconds\n"
     ]
    },
    {
     "name": "stderr",
     "output_type": "stream",
     "text": [
      " /Users/harrysonghurst/opt/anaconda3/envs/traffic/lib/python3.8/site-packages/paramz/transformations.py:111: RuntimeWarning:overflow encountered in expm1\n"
     ]
    },
    {
     "name": "stdout",
     "output_type": "stream",
     "text": [
      "Optimization restart 1/5, f = 795.8954830553077\n",
      "Optimization restart 2/5, f = 795.8951734345063\n",
      "Optimization restart 3/5, f = 795.8951733702872\n",
      "Optimization restart 4/5, f = 1145.3588876141005\n"
     ]
    },
    {
     "name": "stderr",
     "output_type": "stream",
     "text": [
      " /Users/harrysonghurst/opt/anaconda3/envs/traffic/lib/python3.8/site-packages/GPy/kern/src/stationary.py:168: RuntimeWarning:overflow encountered in true_divide\n",
      " /Users/harrysonghurst/opt/anaconda3/envs/traffic/lib/python3.8/site-packages/GPy/kern/src/rbf.py:52: RuntimeWarning:overflow encountered in square\n",
      " /Users/harrysonghurst/opt/anaconda3/envs/traffic/lib/python3.8/site-packages/GPy/kern/src/rbf.py:76: RuntimeWarning:invalid value encountered in multiply\n"
     ]
    },
    {
     "name": "stdout",
     "output_type": "stream",
     "text": [
      "Optimization restart 5/5, f = 795.8951733609949\n",
      "[[ 7.         10.30120801 15.10875466 30.          1.          1.5       ]]\n",
      "\n",
      "User function time loss called with 1 inputs to simulate\n",
      "\n",
      "Evaluating input: 1 of 1\n",
      "\n",
      " Retrying in 1 seconds\n"
     ]
    },
    {
     "name": "stderr",
     "output_type": "stream",
     "text": [
      " /Users/harrysonghurst/opt/anaconda3/envs/traffic/lib/python3.8/site-packages/paramz/transformations.py:111: RuntimeWarning:overflow encountered in expm1\n",
      " /Users/harrysonghurst/opt/anaconda3/envs/traffic/lib/python3.8/site-packages/GPy/kern/src/rbf.py:52: RuntimeWarning:overflow encountered in square\n"
     ]
    },
    {
     "name": "stdout",
     "output_type": "stream",
     "text": [
      "Optimization restart 1/5, f = 800.0583651636422\n",
      "Optimization restart 2/5, f = 800.0581953787424\n",
      "Optimization restart 3/5, f = 983.7881923799021\n"
     ]
    },
    {
     "name": "stderr",
     "output_type": "stream",
     "text": [
      " /Users/harrysonghurst/opt/anaconda3/envs/traffic/lib/python3.8/site-packages/GPy/kern/src/stationary.py:168: RuntimeWarning:overflow encountered in true_divide\n",
      " /Users/harrysonghurst/opt/anaconda3/envs/traffic/lib/python3.8/site-packages/GPy/kern/src/rbf.py:76: RuntimeWarning:invalid value encountered in multiply\n"
     ]
    },
    {
     "name": "stdout",
     "output_type": "stream",
     "text": [
      "Optimization restart 4/5, f = 924.1373200548355\n",
      "Optimization restart 5/5, f = 800.0581953785077\n",
      "[[20.         13.94434522 26.45833427 36.80062701  1.          5.        ]]\n",
      "\n",
      "User function time loss called with 1 inputs to simulate\n",
      "\n",
      "Evaluating input: 1 of 1\n",
      "\n",
      " Retrying in 1 seconds\n"
     ]
    },
    {
     "name": "stderr",
     "output_type": "stream",
     "text": [
      " /Users/harrysonghurst/opt/anaconda3/envs/traffic/lib/python3.8/site-packages/paramz/transformations.py:111: RuntimeWarning:overflow encountered in expm1\n"
     ]
    },
    {
     "name": "stdout",
     "output_type": "stream",
     "text": [
      "Optimization restart 1/5, f = 804.1349619063718\n",
      "Optimization restart 2/5, f = 804.1349619006121\n",
      "Optimization restart 3/5, f = 804.1349619005723\n",
      "Optimization restart 4/5, f = 804.1349619014164\n",
      "Optimization restart 5/5, f = 804.1349626952426\n",
      "[[14.         13.22742732 21.31962164 36.45116629  3.          1.5       ]]\n",
      "\n",
      "User function time loss called with 1 inputs to simulate\n",
      "\n",
      "Evaluating input: 1 of 1\n",
      "\n",
      " Retrying in 1 seconds\n"
     ]
    },
    {
     "name": "stderr",
     "output_type": "stream",
     "text": [
      " /Users/harrysonghurst/opt/anaconda3/envs/traffic/lib/python3.8/site-packages/paramz/transformations.py:111: RuntimeWarning:overflow encountered in expm1\n"
     ]
    },
    {
     "name": "stdout",
     "output_type": "stream",
     "text": [
      "Optimization restart 1/5, f = 808.1182362476388\n",
      "Optimization restart 2/5, f = 808.1182086971193\n",
      "Optimization restart 3/5, f = 808.1182086911784\n",
      "Optimization restart 4/5, f = 808.118208694368\n"
     ]
    },
    {
     "name": "stderr",
     "output_type": "stream",
     "text": [
      " /Users/harrysonghurst/opt/anaconda3/envs/traffic/lib/python3.8/site-packages/GPy/kern/src/stationary.py:168: RuntimeWarning:overflow encountered in true_divide\n",
      " /Users/harrysonghurst/opt/anaconda3/envs/traffic/lib/python3.8/site-packages/GPy/kern/src/rbf.py:52: RuntimeWarning:overflow encountered in square\n",
      " /Users/harrysonghurst/opt/anaconda3/envs/traffic/lib/python3.8/site-packages/GPy/kern/src/rbf.py:76: RuntimeWarning:invalid value encountered in multiply\n"
     ]
    },
    {
     "name": "stdout",
     "output_type": "stream",
     "text": [
      "Optimization restart 5/5, f = 856.6826500783206\n",
      "[[20.         15.28018999 16.83344001 60.09041725  1.          3.40352453]]\n",
      "\n",
      "User function time loss called with 1 inputs to simulate\n",
      "\n",
      "Evaluating input: 1 of 1\n",
      "\n",
      " Retrying in 1 seconds\n"
     ]
    },
    {
     "name": "stderr",
     "output_type": "stream",
     "text": [
      " /Users/harrysonghurst/opt/anaconda3/envs/traffic/lib/python3.8/site-packages/paramz/transformations.py:111: RuntimeWarning:overflow encountered in expm1\n"
     ]
    },
    {
     "name": "stdout",
     "output_type": "stream",
     "text": [
      "Optimization restart 1/5, f = 812.1451991127383\n",
      "Optimization restart 2/5, f = 812.1451984776088\n",
      "Optimization restart 3/5, f = 812.1451984807286\n",
      "Optimization restart 4/5, f = 812.1451984772548\n"
     ]
    },
    {
     "name": "stderr",
     "output_type": "stream",
     "text": [
      " /Users/harrysonghurst/opt/anaconda3/envs/traffic/lib/python3.8/site-packages/GPy/kern/src/rbf.py:52: RuntimeWarning:overflow encountered in square\n"
     ]
    },
    {
     "name": "stdout",
     "output_type": "stream",
     "text": [
      "Optimization restart 5/5, f = 812.1451987259037\n",
      "[[ 9.         15.59021892 19.15691665 36.11068706  1.          5.        ]]\n",
      "\n",
      "User function time loss called with 1 inputs to simulate\n",
      "\n",
      "Evaluating input: 1 of 1\n",
      "\n",
      " Retrying in 1 seconds\n"
     ]
    },
    {
     "name": "stderr",
     "output_type": "stream",
     "text": [
      " /Users/harrysonghurst/opt/anaconda3/envs/traffic/lib/python3.8/site-packages/paramz/transformations.py:111: RuntimeWarning:overflow encountered in expm1\n"
     ]
    },
    {
     "name": "stdout",
     "output_type": "stream",
     "text": [
      "Optimization restart 1/5, f = 818.5496561669736\n",
      "Optimization restart 2/5, f = 818.5271437351691\n"
     ]
    },
    {
     "name": "stderr",
     "output_type": "stream",
     "text": [
      " /Users/harrysonghurst/opt/anaconda3/envs/traffic/lib/python3.8/site-packages/GPy/kern/src/rbf.py:52: RuntimeWarning:overflow encountered in square\n"
     ]
    },
    {
     "name": "stdout",
     "output_type": "stream",
     "text": [
      "Optimization restart 3/5, f = 818.5271437586156\n",
      "Optimization restart 4/5, f = 818.5271439651178\n",
      "Optimization restart 5/5, f = 818.5271437273452\n",
      "[[13.  8.  5. 30.  3.  5.]]\n",
      "\n",
      "User function time loss called with 1 inputs to simulate\n",
      "\n",
      "Evaluating input: 1 of 1\n",
      "\n",
      " Retrying in 1 seconds\n"
     ]
    },
    {
     "name": "stderr",
     "output_type": "stream",
     "text": [
      " /Users/harrysonghurst/opt/anaconda3/envs/traffic/lib/python3.8/site-packages/paramz/transformations.py:111: RuntimeWarning:overflow encountered in expm1\n"
     ]
    },
    {
     "name": "stdout",
     "output_type": "stream",
     "text": [
      "Optimization restart 1/5, f = 823.2230767533034\n",
      "Optimization restart 2/5, f = 823.2203230299792\n",
      "Optimization restart 3/5, f = 823.2203230321821\n",
      "Optimization restart 4/5, f = 823.2203230288203\n",
      "Optimization restart 5/5, f = 823.2203230286887\n",
      "[[13.         19.78280683  5.48765076 70.          1.          1.5       ]]\n",
      "\n",
      "User function time loss called with 1 inputs to simulate\n",
      "\n",
      "Evaluating input: 1 of 1\n",
      "\n",
      " Retrying in 1 seconds\n"
     ]
    },
    {
     "name": "stderr",
     "output_type": "stream",
     "text": [
      " /Users/harrysonghurst/opt/anaconda3/envs/traffic/lib/python3.8/site-packages/paramz/transformations.py:111: RuntimeWarning:overflow encountered in expm1\n",
      " /Users/harrysonghurst/opt/anaconda3/envs/traffic/lib/python3.8/site-packages/GPy/kern/src/rbf.py:52: RuntimeWarning:overflow encountered in square\n"
     ]
    },
    {
     "name": "stdout",
     "output_type": "stream",
     "text": [
      "Optimization restart 1/5, f = 827.4750115575064\n",
      "Optimization restart 2/5, f = 827.4748601378127\n",
      "Optimization restart 3/5, f = 827.4748601385869\n",
      "Optimization restart 4/5, f = 827.4748601381345\n",
      "Optimization restart 5/5, f = 827.4748601378257\n",
      "[[14.          8.          8.82954196 39.94661054  1.          5.        ]]\n",
      "\n",
      "User function time loss called with 1 inputs to simulate\n",
      "\n",
      "Evaluating input: 1 of 1\n",
      "\n",
      " Retrying in 1 seconds\n"
     ]
    },
    {
     "name": "stderr",
     "output_type": "stream",
     "text": [
      " /Users/harrysonghurst/opt/anaconda3/envs/traffic/lib/python3.8/site-packages/paramz/transformations.py:111: RuntimeWarning:overflow encountered in expm1\n",
      " /Users/harrysonghurst/opt/anaconda3/envs/traffic/lib/python3.8/site-packages/GPy/kern/src/rbf.py:52: RuntimeWarning:overflow encountered in square\n"
     ]
    },
    {
     "name": "stdout",
     "output_type": "stream",
     "text": [
      "Optimization restart 1/5, f = 831.5751834431603\n",
      "Optimization restart 2/5, f = 831.5749863589557\n",
      "Optimization restart 3/5, f = 831.5749863626398\n",
      "Optimization restart 4/5, f = 831.5749863585875\n",
      "Optimization restart 5/5, f = 831.5749863583869\n",
      "[[20.         13.0464995  13.56273107 30.          3.          5.        ]]\n",
      "\n",
      "User function time loss called with 1 inputs to simulate\n",
      "\n",
      "Evaluating input: 1 of 1\n",
      "\n",
      " Retrying in 1 seconds\n"
     ]
    },
    {
     "name": "stderr",
     "output_type": "stream",
     "text": [
      " /Users/harrysonghurst/opt/anaconda3/envs/traffic/lib/python3.8/site-packages/paramz/transformations.py:111: RuntimeWarning:overflow encountered in expm1\n"
     ]
    },
    {
     "name": "stdout",
     "output_type": "stream",
     "text": [
      "Optimization restart 1/5, f = 835.790885623227\n",
      "Optimization restart 2/5, f = 835.7907535557438\n",
      "Optimization restart 3/5, f = 835.7907535345356\n",
      "Optimization restart 4/5, f = 835.7907541195164\n",
      "Optimization restart 5/5, f = 835.7907535953887\n",
      "[[11.         22.20374287 21.28509067 66.67799603  3.          4.46991279]]\n",
      "\n",
      "User function time loss called with 1 inputs to simulate\n",
      "\n",
      "Evaluating input: 1 of 1\n",
      "\n",
      " Retrying in 1 seconds\n"
     ]
    },
    {
     "name": "stderr",
     "output_type": "stream",
     "text": [
      " /Users/harrysonghurst/opt/anaconda3/envs/traffic/lib/python3.8/site-packages/paramz/transformations.py:111: RuntimeWarning:overflow encountered in expm1\n"
     ]
    },
    {
     "name": "stdout",
     "output_type": "stream",
     "text": [
      "Optimization restart 1/5, f = 840.483946736855\n",
      "Optimization restart 2/5, f = 840.4828953297567\n",
      "Optimization restart 3/5, f = 840.4828953760147\n",
      "Optimization restart 4/5, f = 840.4828953298385\n",
      "Optimization restart 5/5, f = 972.416240432065\n"
     ]
    },
    {
     "name": "stderr",
     "output_type": "stream",
     "text": [
      " /Users/harrysonghurst/opt/anaconda3/envs/traffic/lib/python3.8/site-packages/GPy/kern/src/stationary.py:168: RuntimeWarning:overflow encountered in true_divide\n",
      " /Users/harrysonghurst/opt/anaconda3/envs/traffic/lib/python3.8/site-packages/GPy/kern/src/rbf.py:52: RuntimeWarning:overflow encountered in square\n",
      " /Users/harrysonghurst/opt/anaconda3/envs/traffic/lib/python3.8/site-packages/GPy/kern/src/rbf.py:76: RuntimeWarning:invalid value encountered in multiply\n"
     ]
    },
    {
     "name": "stdout",
     "output_type": "stream",
     "text": [
      "[[19.         25.         27.         55.53456063  3.          1.5       ]]\n",
      "\n",
      "User function time loss called with 1 inputs to simulate\n",
      "\n",
      "Evaluating input: 1 of 1\n",
      "\n",
      " Retrying in 1 seconds\n"
     ]
    },
    {
     "name": "stderr",
     "output_type": "stream",
     "text": [
      " /Users/harrysonghurst/opt/anaconda3/envs/traffic/lib/python3.8/site-packages/paramz/transformations.py:111: RuntimeWarning:overflow encountered in expm1\n"
     ]
    },
    {
     "name": "stdout",
     "output_type": "stream",
     "text": [
      "Optimization restart 1/5, f = 845.043954981005\n",
      "Optimization restart 2/5, f = 845.0436536630713\n",
      "Optimization restart 3/5, f = 977.8703268453935\n"
     ]
    },
    {
     "name": "stderr",
     "output_type": "stream",
     "text": [
      " /Users/harrysonghurst/opt/anaconda3/envs/traffic/lib/python3.8/site-packages/GPy/kern/src/stationary.py:168: RuntimeWarning:overflow encountered in true_divide\n",
      " /Users/harrysonghurst/opt/anaconda3/envs/traffic/lib/python3.8/site-packages/GPy/kern/src/rbf.py:52: RuntimeWarning:overflow encountered in square\n",
      " /Users/harrysonghurst/opt/anaconda3/envs/traffic/lib/python3.8/site-packages/GPy/kern/src/rbf.py:76: RuntimeWarning:invalid value encountered in multiply\n"
     ]
    },
    {
     "name": "stdout",
     "output_type": "stream",
     "text": [
      "Optimization restart 4/5, f = 845.0436536938855\n",
      "Optimization restart 5/5, f = 845.043654480661\n",
      "[[14.         22.30593273 13.59778816 30.          1.          1.82722756]]\n",
      "\n",
      "User function time loss called with 1 inputs to simulate\n",
      "\n",
      "Evaluating input: 1 of 1\n",
      "\n",
      " Retrying in 1 seconds\n"
     ]
    },
    {
     "name": "stderr",
     "output_type": "stream",
     "text": [
      " /Users/harrysonghurst/opt/anaconda3/envs/traffic/lib/python3.8/site-packages/paramz/transformations.py:111: RuntimeWarning:overflow encountered in expm1\n"
     ]
    },
    {
     "name": "stdout",
     "output_type": "stream",
     "text": [
      "Optimization restart 1/5, f = 849.2077963072746\n",
      "Optimization restart 2/5, f = 849.2077499966342\n",
      "Optimization restart 3/5, f = 849.2077514344905\n",
      "Optimization restart 4/5, f = 849.2077500190221\n",
      "Optimization restart 5/5, f = 849.2077499966819\n",
      "[[13.         10.11361487 27.         62.01835783  3.          5.        ]]\n",
      "\n",
      "User function time loss called with 1 inputs to simulate\n",
      "\n",
      "Evaluating input: 1 of 1\n",
      "\n",
      " Retrying in 1 seconds\n"
     ]
    },
    {
     "name": "stderr",
     "output_type": "stream",
     "text": [
      " /Users/harrysonghurst/opt/anaconda3/envs/traffic/lib/python3.8/site-packages/paramz/transformations.py:111: RuntimeWarning:overflow encountered in expm1\n"
     ]
    },
    {
     "name": "stdout",
     "output_type": "stream",
     "text": [
      "Optimization restart 1/5, f = 853.2824093476256\n",
      "Optimization restart 2/5, f = 853.2824002352284\n",
      "Optimization restart 3/5, f = 853.2824002350269\n",
      "Optimization restart 4/5, f = 853.2824002345754\n",
      "Optimization restart 5/5, f = 853.2824002637954\n",
      "[[14.         13.81810143  8.80120184 64.19885642  3.          1.5       ]]\n",
      "\n",
      "User function time loss called with 1 inputs to simulate\n",
      "\n",
      "Evaluating input: 1 of 1\n",
      "\n",
      " Retrying in 1 seconds\n"
     ]
    },
    {
     "name": "stderr",
     "output_type": "stream",
     "text": [
      " /Users/harrysonghurst/opt/anaconda3/envs/traffic/lib/python3.8/site-packages/paramz/transformations.py:111: RuntimeWarning:overflow encountered in expm1\n"
     ]
    },
    {
     "name": "stdout",
     "output_type": "stream",
     "text": [
      "Optimization restart 1/5, f = 857.2803614934492\n",
      "Optimization restart 2/5, f = 857.2803524417228\n",
      "Optimization restart 3/5, f = 857.2803524302265\n",
      "Optimization restart 4/5, f = 857.2803528236193\n"
     ]
    },
    {
     "name": "stderr",
     "output_type": "stream",
     "text": [
      " /Users/harrysonghurst/opt/anaconda3/envs/traffic/lib/python3.8/site-packages/GPy/kern/src/stationary.py:168: RuntimeWarning:overflow encountered in true_divide\n",
      " /Users/harrysonghurst/opt/anaconda3/envs/traffic/lib/python3.8/site-packages/GPy/kern/src/rbf.py:52: RuntimeWarning:overflow encountered in square\n",
      " /Users/harrysonghurst/opt/anaconda3/envs/traffic/lib/python3.8/site-packages/GPy/kern/src/rbf.py:76: RuntimeWarning:invalid value encountered in multiply\n"
     ]
    },
    {
     "name": "stdout",
     "output_type": "stream",
     "text": [
      "Optimization restart 5/5, f = 993.9477428434423\n",
      "[[ 9.         15.19385225 14.19014183 51.93303405  1.          3.82382237]]\n",
      "\n",
      "User function time loss called with 1 inputs to simulate\n",
      "\n",
      "Evaluating input: 1 of 1\n",
      "\n",
      " Retrying in 1 seconds\n"
     ]
    },
    {
     "name": "stderr",
     "output_type": "stream",
     "text": [
      " /Users/harrysonghurst/opt/anaconda3/envs/traffic/lib/python3.8/site-packages/paramz/transformations.py:111: RuntimeWarning:overflow encountered in expm1\n"
     ]
    },
    {
     "name": "stdout",
     "output_type": "stream",
     "text": [
      "Optimization restart 1/5, f = 861.3127753361362\n",
      "Optimization restart 2/5, f = 861.3127212200386\n",
      "Optimization restart 3/5, f = 861.3127217368598\n",
      "Optimization restart 4/5, f = 861.3127216746909\n",
      "Optimization restart 5/5, f = 861.3127211348636\n",
      "[[17.          8.         16.74158074 51.04807425  3.          4.72796777]]\n",
      "\n",
      "User function time loss called with 1 inputs to simulate\n",
      "\n",
      "Evaluating input: 1 of 1\n",
      "\n",
      " Retrying in 1 seconds\n"
     ]
    },
    {
     "name": "stderr",
     "output_type": "stream",
     "text": [
      " /Users/harrysonghurst/opt/anaconda3/envs/traffic/lib/python3.8/site-packages/paramz/transformations.py:111: RuntimeWarning:overflow encountered in expm1\n"
     ]
    },
    {
     "name": "stdout",
     "output_type": "stream",
     "text": [
      "Optimization restart 1/5, f = 865.346749607713\n",
      "Optimization restart 2/5, f = 865.3467238609572\n",
      "Optimization restart 3/5, f = 865.3467238494566\n",
      "Optimization restart 4/5, f = 909.7067900606907\n",
      "Optimization restart 5/5, f = 865.3467238513449\n",
      "[[ 3.         19.69703568 22.83016362 44.5078111   3.          1.5       ]]\n",
      "\n",
      "User function time loss called with 1 inputs to simulate\n",
      "\n",
      "Evaluating input: 1 of 1\n",
      "\n",
      " Retrying in 1 seconds\n"
     ]
    },
    {
     "name": "stderr",
     "output_type": "stream",
     "text": [
      " /Users/harrysonghurst/opt/anaconda3/envs/traffic/lib/python3.8/site-packages/paramz/transformations.py:111: RuntimeWarning:overflow encountered in expm1\n"
     ]
    },
    {
     "name": "stdout",
     "output_type": "stream",
     "text": [
      "Optimization restart 1/5, f = 871.1616782950002\n",
      "Optimization restart 2/5, f = 871.1616451924351\n",
      "Optimization restart 3/5, f = 871.1616451944625\n",
      "Optimization restart 4/5, f = 1010.4069901703031\n"
     ]
    },
    {
     "name": "stderr",
     "output_type": "stream",
     "text": [
      " /Users/harrysonghurst/opt/anaconda3/envs/traffic/lib/python3.8/site-packages/GPy/kern/src/stationary.py:168: RuntimeWarning:overflow encountered in true_divide\n",
      " /Users/harrysonghurst/opt/anaconda3/envs/traffic/lib/python3.8/site-packages/GPy/kern/src/rbf.py:52: RuntimeWarning:overflow encountered in square\n",
      " /Users/harrysonghurst/opt/anaconda3/envs/traffic/lib/python3.8/site-packages/GPy/kern/src/rbf.py:76: RuntimeWarning:invalid value encountered in multiply\n"
     ]
    },
    {
     "name": "stdout",
     "output_type": "stream",
     "text": [
      "Optimization restart 5/5, f = 871.1616451912876\n",
      "[[ 9.          8.          5.         45.95613777  3.          1.5       ]]\n",
      "\n",
      "User function time loss called with 1 inputs to simulate\n",
      "\n",
      "Evaluating input: 1 of 1\n",
      "\n",
      " Retrying in 1 seconds\n"
     ]
    },
    {
     "name": "stderr",
     "output_type": "stream",
     "text": [
      " /Users/harrysonghurst/opt/anaconda3/envs/traffic/lib/python3.8/site-packages/paramz/transformations.py:111: RuntimeWarning:overflow encountered in expm1\n"
     ]
    },
    {
     "name": "stdout",
     "output_type": "stream",
     "text": [
      "Optimization restart 1/5, f = 875.338941658331\n",
      "Optimization restart 2/5, f = 875.3389376216687\n",
      "Optimization restart 3/5, f = 875.33893766374\n",
      "Optimization restart 4/5, f = 1015.8216777069342\n"
     ]
    },
    {
     "name": "stderr",
     "output_type": "stream",
     "text": [
      " /Users/harrysonghurst/opt/anaconda3/envs/traffic/lib/python3.8/site-packages/GPy/kern/src/stationary.py:168: RuntimeWarning:overflow encountered in true_divide\n",
      " /Users/harrysonghurst/opt/anaconda3/envs/traffic/lib/python3.8/site-packages/GPy/kern/src/rbf.py:52: RuntimeWarning:overflow encountered in square\n",
      " /Users/harrysonghurst/opt/anaconda3/envs/traffic/lib/python3.8/site-packages/GPy/kern/src/rbf.py:76: RuntimeWarning:invalid value encountered in multiply\n"
     ]
    },
    {
     "name": "stdout",
     "output_type": "stream",
     "text": [
      "Optimization restart 5/5, f = 875.3389376787909\n",
      "[[20.         13.00618572  5.         35.74909529  3.          1.5       ]]\n",
      "\n",
      "User function time loss called with 1 inputs to simulate\n",
      "\n",
      "Evaluating input: 1 of 1\n",
      "\n",
      " Retrying in 1 seconds\n"
     ]
    },
    {
     "name": "stderr",
     "output_type": "stream",
     "text": [
      " /Users/harrysonghurst/opt/anaconda3/envs/traffic/lib/python3.8/site-packages/paramz/transformations.py:111: RuntimeWarning:overflow encountered in expm1\n"
     ]
    },
    {
     "name": "stdout",
     "output_type": "stream",
     "text": [
      "Optimization restart 1/5, f = 879.5715774331586\n",
      "Optimization restart 2/5, f = 879.5715736684642\n",
      "Optimization restart 3/5, f = 879.571573668017\n",
      "Optimization restart 4/5, f = 879.5715736678533\n",
      "Optimization restart 5/5, f = 879.5759661487867\n",
      "[[ 3.         18.92066595  9.44965553 45.39196744  3.          5.        ]]\n",
      "\n",
      "User function time loss called with 1 inputs to simulate\n",
      "\n",
      "Evaluating input: 1 of 1\n",
      "\n",
      " Retrying in 1 seconds\n"
     ]
    },
    {
     "name": "stderr",
     "output_type": "stream",
     "text": [
      " /Users/harrysonghurst/opt/anaconda3/envs/traffic/lib/python3.8/site-packages/paramz/transformations.py:111: RuntimeWarning:overflow encountered in expm1\n"
     ]
    },
    {
     "name": "stdout",
     "output_type": "stream",
     "text": [
      "Optimization restart 1/5, f = 884.4247648527312\n",
      "Optimization restart 2/5, f = 884.4167848448286\n",
      "Optimization restart 3/5, f = 884.4167849928058\n",
      "Optimization restart 4/5, f = 884.4167871701155\n"
     ]
    },
    {
     "name": "stderr",
     "output_type": "stream",
     "text": [
      " /Users/harrysonghurst/opt/anaconda3/envs/traffic/lib/python3.8/site-packages/GPy/kern/src/stationary.py:168: RuntimeWarning:overflow encountered in true_divide\n",
      " /Users/harrysonghurst/opt/anaconda3/envs/traffic/lib/python3.8/site-packages/GPy/kern/src/rbf.py:52: RuntimeWarning:overflow encountered in square\n",
      " /Users/harrysonghurst/opt/anaconda3/envs/traffic/lib/python3.8/site-packages/GPy/kern/src/rbf.py:76: RuntimeWarning:invalid value encountered in multiply\n"
     ]
    },
    {
     "name": "stdout",
     "output_type": "stream",
     "text": [
      "Optimization restart 5/5, f = 1026.7595845260332\n",
      "[[13.          9.12131928 22.14337688 66.88892285  1.          1.5       ]]\n",
      "\n",
      "User function time loss called with 1 inputs to simulate\n",
      "\n",
      "Evaluating input: 1 of 1\n",
      "\n",
      " Retrying in 1 seconds\n"
     ]
    },
    {
     "name": "stderr",
     "output_type": "stream",
     "text": [
      " /Users/harrysonghurst/opt/anaconda3/envs/traffic/lib/python3.8/site-packages/paramz/transformations.py:111: RuntimeWarning:overflow encountered in expm1\n"
     ]
    },
    {
     "name": "stdout",
     "output_type": "stream",
     "text": [
      "Optimization restart 1/5, f = 888.5797819532874\n",
      "Optimization restart 2/5, f = 888.5796220661443\n"
     ]
    },
    {
     "name": "stderr",
     "output_type": "stream",
     "text": [
      " /Users/harrysonghurst/opt/anaconda3/envs/traffic/lib/python3.8/site-packages/GPy/kern/src/rbf.py:52: RuntimeWarning:overflow encountered in square\n"
     ]
    },
    {
     "name": "stdout",
     "output_type": "stream",
     "text": [
      "Optimization restart 3/5, f = 888.5796220684337\n",
      "Optimization restart 4/5, f = 888.579622067028\n",
      "Optimization restart 5/5, f = 888.5796220661396\n",
      "[[ 3.         10.76965027 27.         67.4148267   1.          5.        ]]\n",
      "\n",
      "User function time loss called with 1 inputs to simulate\n",
      "\n",
      "Evaluating input: 1 of 1\n",
      "\n",
      " Retrying in 1 seconds\n"
     ]
    },
    {
     "name": "stderr",
     "output_type": "stream",
     "text": [
      " /Users/harrysonghurst/opt/anaconda3/envs/traffic/lib/python3.8/site-packages/paramz/transformations.py:111: RuntimeWarning:overflow encountered in expm1\n"
     ]
    },
    {
     "name": "stdout",
     "output_type": "stream",
     "text": [
      "Optimization restart 1/5, f = 893.3671822668427\n",
      "Optimization restart 2/5, f = 893.3635830728302\n"
     ]
    },
    {
     "name": "stderr",
     "output_type": "stream",
     "text": [
      " /Users/harrysonghurst/opt/anaconda3/envs/traffic/lib/python3.8/site-packages/GPy/kern/src/stationary.py:168: RuntimeWarning:overflow encountered in true_divide\n",
      " /Users/harrysonghurst/opt/anaconda3/envs/traffic/lib/python3.8/site-packages/GPy/kern/src/rbf.py:52: RuntimeWarning:overflow encountered in square\n",
      " /Users/harrysonghurst/opt/anaconda3/envs/traffic/lib/python3.8/site-packages/GPy/kern/src/rbf.py:76: RuntimeWarning:invalid value encountered in multiply\n"
     ]
    },
    {
     "name": "stdout",
     "output_type": "stream",
     "text": [
      "Optimization restart 3/5, f = 1033.5904110048161\n",
      "Optimization restart 4/5, f = 893.3635829995319\n",
      "Optimization restart 5/5, f = 893.3635830001921\n",
      "[[ 3.         13.9609328   5.         30.          3.          3.65258196]]\n",
      "\n",
      "User function time loss called with 1 inputs to simulate\n",
      "\n",
      "Evaluating input: 1 of 1\n",
      "\n",
      " Retrying in 1 seconds\n"
     ]
    },
    {
     "name": "stderr",
     "output_type": "stream",
     "text": [
      " /Users/harrysonghurst/opt/anaconda3/envs/traffic/lib/python3.8/site-packages/paramz/transformations.py:111: RuntimeWarning:overflow encountered in expm1\n"
     ]
    },
    {
     "name": "stdout",
     "output_type": "stream",
     "text": [
      "Optimization restart 1/5, f = 897.8914218375858\n",
      "Optimization restart 2/5, f = 897.8892755569673\n",
      "Optimization restart 3/5, f = 897.8892654158012\n",
      "Optimization restart 4/5, f = 897.8892654263768\n",
      "Optimization restart 5/5, f = 897.8892736947705\n",
      "[[ 3.         11.8712046   5.         68.12328307  1.          5.        ]]\n",
      "\n",
      "User function time loss called with 1 inputs to simulate\n",
      "\n",
      "Evaluating input: 1 of 1\n",
      "\n",
      " Retrying in 1 seconds\n"
     ]
    },
    {
     "name": "stderr",
     "output_type": "stream",
     "text": [
      " /Users/harrysonghurst/opt/anaconda3/envs/traffic/lib/python3.8/site-packages/paramz/transformations.py:111: RuntimeWarning:overflow encountered in expm1\n"
     ]
    },
    {
     "name": "stdout",
     "output_type": "stream",
     "text": [
      "Optimization restart 1/5, f = 901.9643864243236\n",
      "Optimization restart 2/5, f = 901.9643596199169\n"
     ]
    },
    {
     "name": "stderr",
     "output_type": "stream",
     "text": [
      " /Users/harrysonghurst/opt/anaconda3/envs/traffic/lib/python3.8/site-packages/GPy/kern/src/stationary.py:168: RuntimeWarning:overflow encountered in true_divide\n",
      " /Users/harrysonghurst/opt/anaconda3/envs/traffic/lib/python3.8/site-packages/GPy/kern/src/rbf.py:52: RuntimeWarning:overflow encountered in square\n",
      " /Users/harrysonghurst/opt/anaconda3/envs/traffic/lib/python3.8/site-packages/GPy/kern/src/rbf.py:76: RuntimeWarning:invalid value encountered in multiply\n"
     ]
    },
    {
     "name": "stdout",
     "output_type": "stream",
     "text": [
      "Optimization restart 3/5, f = 1045.745166418533\n",
      "Optimization restart 4/5, f = 901.9643598789138\n",
      "Optimization restart 5/5, f = 901.9643595680831\n",
      "[[ 3.         14.87827398 27.         43.38223634  1.          5.        ]]\n",
      "\n",
      "User function time loss called with 1 inputs to simulate\n",
      "\n",
      "Evaluating input: 1 of 1\n",
      "\n",
      " Retrying in 1 seconds\n"
     ]
    },
    {
     "name": "stderr",
     "output_type": "stream",
     "text": [
      " /Users/harrysonghurst/opt/anaconda3/envs/traffic/lib/python3.8/site-packages/paramz/transformations.py:111: RuntimeWarning:overflow encountered in expm1\n"
     ]
    },
    {
     "name": "stdout",
     "output_type": "stream",
     "text": [
      "Optimization restart 1/5, f = 907.6159651501014\n",
      "Optimization restart 2/5, f = 907.568100379134\n",
      "Optimization restart 3/5, f = 907.5681003791792\n"
     ]
    },
    {
     "name": "stderr",
     "output_type": "stream",
     "text": [
      " /Users/harrysonghurst/opt/anaconda3/envs/traffic/lib/python3.8/site-packages/GPy/kern/src/stationary.py:168: RuntimeWarning:overflow encountered in true_divide\n",
      " /Users/harrysonghurst/opt/anaconda3/envs/traffic/lib/python3.8/site-packages/GPy/kern/src/rbf.py:52: RuntimeWarning:overflow encountered in square\n",
      " /Users/harrysonghurst/opt/anaconda3/envs/traffic/lib/python3.8/site-packages/GPy/kern/src/rbf.py:76: RuntimeWarning:invalid value encountered in multiply\n"
     ]
    },
    {
     "name": "stdout",
     "output_type": "stream",
     "text": [
      "Optimization restart 4/5, f = 912.8001922295166\n",
      "Optimization restart 5/5, f = 907.5681003817205\n",
      "[[19.         16.64229226  7.59955676 70.          3.          1.88621597]]\n",
      "\n",
      "User function time loss called with 1 inputs to simulate\n",
      "\n",
      "Evaluating input: 1 of 1\n",
      "\n",
      " Retrying in 1 seconds\n"
     ]
    },
    {
     "name": "stderr",
     "output_type": "stream",
     "text": [
      " /Users/harrysonghurst/opt/anaconda3/envs/traffic/lib/python3.8/site-packages/paramz/transformations.py:111: RuntimeWarning:overflow encountered in expm1\n"
     ]
    },
    {
     "name": "stdout",
     "output_type": "stream",
     "text": [
      "Optimization restart 1/5, f = 911.5748781106645\n",
      "Optimization restart 2/5, f = 911.5748781453013\n",
      "Optimization restart 3/5, f = 911.5748780473807\n"
     ]
    },
    {
     "name": "stderr",
     "output_type": "stream",
     "text": [
      " /Users/harrysonghurst/opt/anaconda3/envs/traffic/lib/python3.8/site-packages/GPy/kern/src/stationary.py:168: RuntimeWarning:overflow encountered in true_divide\n",
      " /Users/harrysonghurst/opt/anaconda3/envs/traffic/lib/python3.8/site-packages/GPy/kern/src/rbf.py:52: RuntimeWarning:overflow encountered in square\n",
      " /Users/harrysonghurst/opt/anaconda3/envs/traffic/lib/python3.8/site-packages/GPy/kern/src/rbf.py:76: RuntimeWarning:invalid value encountered in multiply\n"
     ]
    },
    {
     "name": "stdout",
     "output_type": "stream",
     "text": [
      "Optimization restart 4/5, f = 1061.2157359885466\n",
      "Optimization restart 5/5, f = 911.5748780461726\n",
      "[[ 3.          8.         20.68149453 37.87314748  3.          1.5       ]]\n",
      "\n",
      "User function time loss called with 1 inputs to simulate\n",
      "\n",
      "Evaluating input: 1 of 1\n",
      "\n",
      " Retrying in 1 seconds\n"
     ]
    },
    {
     "name": "stderr",
     "output_type": "stream",
     "text": [
      " /Users/harrysonghurst/opt/anaconda3/envs/traffic/lib/python3.8/site-packages/paramz/transformations.py:111: RuntimeWarning:overflow encountered in expm1\n"
     ]
    },
    {
     "name": "stdout",
     "output_type": "stream",
     "text": [
      "Optimization restart 1/5, f = 915.8095761504599\n",
      "Optimization restart 2/5, f = 915.8094945463936\n",
      "Optimization restart 3/5, f = 915.809494553105\n",
      "Optimization restart 4/5, f = 915.8094946529358\n",
      "Optimization restart 5/5, f = 915.8094945506723\n",
      "[[13.          8.75668818 25.37633024 30.          3.          5.        ]]\n",
      "\n",
      "User function time loss called with 1 inputs to simulate\n",
      "\n",
      "Evaluating input: 1 of 1\n",
      "\n",
      " Retrying in 1 seconds\n"
     ]
    },
    {
     "name": "stderr",
     "output_type": "stream",
     "text": [
      " /Users/harrysonghurst/opt/anaconda3/envs/traffic/lib/python3.8/site-packages/paramz/transformations.py:111: RuntimeWarning:overflow encountered in expm1\n"
     ]
    },
    {
     "name": "stdout",
     "output_type": "stream",
     "text": [
      "Optimization restart 1/5, f = 920.4541847366239\n",
      "Optimization restart 2/5, f = 920.4541153132884\n",
      "Optimization restart 3/5, f = 1142.405728175428\n"
     ]
    },
    {
     "name": "stderr",
     "output_type": "stream",
     "text": [
      " /Users/harrysonghurst/opt/anaconda3/envs/traffic/lib/python3.8/site-packages/GPy/kern/src/stationary.py:168: RuntimeWarning:overflow encountered in true_divide\n",
      " /Users/harrysonghurst/opt/anaconda3/envs/traffic/lib/python3.8/site-packages/GPy/kern/src/rbf.py:52: RuntimeWarning:overflow encountered in square\n",
      " /Users/harrysonghurst/opt/anaconda3/envs/traffic/lib/python3.8/site-packages/GPy/kern/src/rbf.py:76: RuntimeWarning:invalid value encountered in multiply\n"
     ]
    },
    {
     "name": "stdout",
     "output_type": "stream",
     "text": [
      "Optimization restart 4/5, f = 926.4255631955872\n",
      "Optimization restart 5/5, f = 920.454115524759\n",
      "[[20.         19.69111252  6.15440533 49.98933893  3.          4.9817881 ]]\n",
      "\n",
      "User function time loss called with 1 inputs to simulate\n",
      "\n",
      "Evaluating input: 1 of 1\n",
      "\n",
      " Retrying in 1 seconds\n"
     ]
    },
    {
     "name": "stderr",
     "output_type": "stream",
     "text": [
      " /Users/harrysonghurst/opt/anaconda3/envs/traffic/lib/python3.8/site-packages/paramz/transformations.py:111: RuntimeWarning:overflow encountered in expm1\n"
     ]
    },
    {
     "name": "stdout",
     "output_type": "stream",
     "text": [
      "Optimization restart 1/5, f = 924.569792937691\n",
      "Optimization restart 2/5, f = 924.5693704911948\n",
      "Optimization restart 3/5, f = 924.5693704893391\n",
      "Optimization restart 4/5, f = 924.5693704893118\n",
      "Optimization restart 5/5, f = 924.5693704919469\n",
      "[[ 3.         19.99944664 16.54087242 58.23356779  1.          5.        ]]\n",
      "\n",
      "User function time loss called with 1 inputs to simulate\n",
      "\n",
      "Evaluating input: 1 of 1\n",
      "\n",
      " Retrying in 1 seconds\n"
     ]
    },
    {
     "name": "stderr",
     "output_type": "stream",
     "text": [
      " /Users/harrysonghurst/opt/anaconda3/envs/traffic/lib/python3.8/site-packages/paramz/transformations.py:111: RuntimeWarning:overflow encountered in expm1\n"
     ]
    },
    {
     "name": "stdout",
     "output_type": "stream",
     "text": [
      "Optimization restart 1/5, f = 929.705704506722\n",
      "Optimization restart 2/5, f = 929.7039641415065\n",
      "Optimization restart 3/5, f = 929.7039641415706\n",
      "Optimization restart 4/5, f = 929.7039641637142\n",
      "Optimization restart 5/5, f = 929.703964144101\n",
      "[[20.          8.         13.55564577 33.27674311  1.          1.70603036]]\n",
      "\n",
      "User function time loss called with 1 inputs to simulate\n",
      "\n",
      "Evaluating input: 1 of 1\n",
      "\n",
      " Retrying in 1 seconds\n"
     ]
    },
    {
     "name": "stderr",
     "output_type": "stream",
     "text": [
      " /Users/harrysonghurst/opt/anaconda3/envs/traffic/lib/python3.8/site-packages/paramz/transformations.py:111: RuntimeWarning:overflow encountered in expm1\n"
     ]
    },
    {
     "name": "stdout",
     "output_type": "stream",
     "text": [
      "Optimization restart 1/5, f = 933.7365784932243\n",
      "Optimization restart 2/5, f = 933.7365732703918\n",
      "Optimization restart 3/5, f = 933.7365732749056\n"
     ]
    },
    {
     "name": "stderr",
     "output_type": "stream",
     "text": [
      " /Users/harrysonghurst/opt/anaconda3/envs/traffic/lib/python3.8/site-packages/GPy/kern/src/rbf.py:52: RuntimeWarning:overflow encountered in square\n"
     ]
    },
    {
     "name": "stdout",
     "output_type": "stream",
     "text": [
      "Optimization restart 4/5, f = 933.7365732550144\n",
      "Optimization restart 5/5, f = 933.7365732556578\n",
      "[[10.         23.09121941  9.55080773 62.48565508  1.          1.8719633 ]]\n",
      "\n",
      "User function time loss called with 1 inputs to simulate\n",
      "\n",
      "Evaluating input: 1 of 1\n",
      "\n",
      " Retrying in 1 seconds\n"
     ]
    },
    {
     "name": "stderr",
     "output_type": "stream",
     "text": [
      " /Users/harrysonghurst/opt/anaconda3/envs/traffic/lib/python3.8/site-packages/paramz/transformations.py:111: RuntimeWarning:overflow encountered in expm1\n"
     ]
    },
    {
     "name": "stdout",
     "output_type": "stream",
     "text": [
      "Optimization restart 1/5, f = 937.7482498764664\n",
      "Optimization restart 2/5, f = 937.7482110287294\n",
      "Optimization restart 3/5, f = 937.7482110285691\n",
      "Optimization restart 4/5, f = 937.7482112419751\n",
      "Optimization restart 5/5, f = 937.7482110866439\n",
      "[[15.         23.00498936 12.48300891 42.60561244  1.          5.        ]]\n",
      "\n",
      "User function time loss called with 1 inputs to simulate\n",
      "\n",
      "Evaluating input: 1 of 1\n",
      "\n",
      " Retrying in 1 seconds\n"
     ]
    },
    {
     "name": "stderr",
     "output_type": "stream",
     "text": [
      " /Users/harrysonghurst/opt/anaconda3/envs/traffic/lib/python3.8/site-packages/paramz/transformations.py:111: RuntimeWarning:overflow encountered in expm1\n"
     ]
    },
    {
     "name": "stdout",
     "output_type": "stream",
     "text": [
      "Optimization restart 1/5, f = 941.6999545537435\n",
      "Optimization restart 2/5, f = 941.699813244421\n",
      "Optimization restart 3/5, f = 941.6998132451777\n",
      "Optimization restart 4/5, f = 941.699813243796\n",
      "Optimization restart 5/5, f = 941.6998132538573\n",
      "[[16.         16.00427685 19.72076898 37.97670024  3.          1.5       ]]\n",
      "\n",
      "User function time loss called with 1 inputs to simulate\n",
      "\n",
      "Evaluating input: 1 of 1\n",
      "\n",
      " Retrying in 1 seconds\n"
     ]
    },
    {
     "name": "stderr",
     "output_type": "stream",
     "text": [
      " /Users/harrysonghurst/opt/anaconda3/envs/traffic/lib/python3.8/site-packages/paramz/transformations.py:111: RuntimeWarning:overflow encountered in expm1\n"
     ]
    },
    {
     "name": "stdout",
     "output_type": "stream",
     "text": [
      "Optimization restart 1/5, f = 945.6853108532683\n"
     ]
    },
    {
     "name": "stderr",
     "output_type": "stream",
     "text": [
      " /Users/harrysonghurst/opt/anaconda3/envs/traffic/lib/python3.8/site-packages/GPy/kern/src/stationary.py:168: RuntimeWarning:overflow encountered in true_divide\n",
      " /Users/harrysonghurst/opt/anaconda3/envs/traffic/lib/python3.8/site-packages/GPy/kern/src/rbf.py:52: RuntimeWarning:overflow encountered in square\n",
      " /Users/harrysonghurst/opt/anaconda3/envs/traffic/lib/python3.8/site-packages/GPy/kern/src/rbf.py:76: RuntimeWarning:invalid value encountered in multiply\n"
     ]
    },
    {
     "name": "stdout",
     "output_type": "stream",
     "text": [
      "Optimization restart 2/5, f = 1103.8226409749138\n",
      "Optimization restart 3/5, f = 1178.7198612628376\n",
      "Optimization restart 4/5, f = 1106.7903323657872\n",
      "Optimization restart 5/5, f = 945.6851659813076\n",
      "[[ 9.         25.         22.666073   48.62125567  1.          1.54518051]]\n",
      "\n",
      "User function time loss called with 1 inputs to simulate\n",
      "\n",
      "Evaluating input: 1 of 1\n",
      "\n",
      " Retrying in 1 seconds\n"
     ]
    },
    {
     "name": "stderr",
     "output_type": "stream",
     "text": [
      " /Users/harrysonghurst/opt/anaconda3/envs/traffic/lib/python3.8/site-packages/paramz/transformations.py:111: RuntimeWarning:overflow encountered in expm1\n"
     ]
    },
    {
     "name": "stdout",
     "output_type": "stream",
     "text": [
      "Optimization restart 1/5, f = 949.6796620418514\n",
      "Optimization restart 2/5, f = 949.679546853348\n",
      "Optimization restart 3/5, f = 949.6795468019643\n",
      "Optimization restart 4/5, f = 1184.539927289471\n",
      "Optimization restart 5/5, f = 949.6795467618823\n",
      "[[ 5.         15.11630679 27.         62.94817192  1.          1.5       ]]\n",
      "\n",
      "User function time loss called with 1 inputs to simulate\n",
      "\n",
      "Evaluating input: 1 of 1\n",
      "\n",
      " Retrying in 1 seconds\n"
     ]
    },
    {
     "name": "stderr",
     "output_type": "stream",
     "text": [
      " /Users/harrysonghurst/opt/anaconda3/envs/traffic/lib/python3.8/site-packages/paramz/transformations.py:111: RuntimeWarning:overflow encountered in expm1\n"
     ]
    },
    {
     "name": "stdout",
     "output_type": "stream",
     "text": [
      "Optimization restart 1/5, f = 953.664475044991\n",
      "Optimization restart 2/5, f = 953.6644710053162\n",
      "Optimization restart 3/5, f = 953.6644709003774\n",
      "Optimization restart 4/5, f = 953.6644710569428\n",
      "Optimization restart 5/5, f = 953.664470855299\n",
      "[[18.          8.          5.         61.85898024  1.          2.56996888]]\n",
      "\n",
      "User function time loss called with 1 inputs to simulate\n",
      "\n",
      "Evaluating input: 1 of 1\n",
      "\n",
      " Retrying in 1 seconds\n"
     ]
    },
    {
     "name": "stderr",
     "output_type": "stream",
     "text": [
      " /Users/harrysonghurst/opt/anaconda3/envs/traffic/lib/python3.8/site-packages/paramz/transformations.py:111: RuntimeWarning:overflow encountered in expm1\n"
     ]
    },
    {
     "name": "stdout",
     "output_type": "stream",
     "text": [
      "Optimization restart 1/5, f = 957.655419236733\n",
      "Optimization restart 2/5, f = 957.6553678177237\n",
      "Optimization restart 3/5, f = 957.6553677708762\n",
      "Optimization restart 4/5, f = 957.6553677482331\n",
      "Optimization restart 5/5, f = 957.6553677491991\n",
      "[[ 6.         12.25007681 17.51345257 33.70186294  1.          5.        ]]\n",
      "\n",
      "User function time loss called with 1 inputs to simulate\n",
      "\n",
      "Evaluating input: 1 of 1\n",
      "\n",
      " Retrying in 1 seconds\n"
     ]
    },
    {
     "name": "stderr",
     "output_type": "stream",
     "text": [
      " /Users/harrysonghurst/opt/anaconda3/envs/traffic/lib/python3.8/site-packages/paramz/transformations.py:111: RuntimeWarning:overflow encountered in expm1\n"
     ]
    },
    {
     "name": "stdout",
     "output_type": "stream",
     "text": [
      "Optimization restart 1/5, f = 963.9625568103957\n",
      "Optimization restart 2/5, f = 963.9543596268963\n"
     ]
    },
    {
     "name": "stderr",
     "output_type": "stream",
     "text": [
      " /Users/harrysonghurst/opt/anaconda3/envs/traffic/lib/python3.8/site-packages/GPy/kern/src/stationary.py:168: RuntimeWarning:overflow encountered in true_divide\n",
      " /Users/harrysonghurst/opt/anaconda3/envs/traffic/lib/python3.8/site-packages/GPy/kern/src/rbf.py:52: RuntimeWarning:overflow encountered in square\n",
      " /Users/harrysonghurst/opt/anaconda3/envs/traffic/lib/python3.8/site-packages/GPy/kern/src/rbf.py:76: RuntimeWarning:invalid value encountered in multiply\n"
     ]
    },
    {
     "name": "stdout",
     "output_type": "stream",
     "text": [
      "Optimization restart 3/5, f = 1084.396919807385\n",
      "Optimization restart 4/5, f = 1057.1439732391352\n",
      "Optimization restart 5/5, f = 963.9543596159618\n",
      "[[ 3.          8.         13.5373847  51.7466808   1.          4.01204836]]\n",
      "\n",
      "User function time loss called with 1 inputs to simulate\n",
      "\n",
      "Evaluating input: 1 of 1\n",
      "\n",
      " Retrying in 1 seconds\n"
     ]
    },
    {
     "name": "stderr",
     "output_type": "stream",
     "text": [
      " /Users/harrysonghurst/opt/anaconda3/envs/traffic/lib/python3.8/site-packages/paramz/transformations.py:111: RuntimeWarning:overflow encountered in expm1\n"
     ]
    },
    {
     "name": "stdout",
     "output_type": "stream",
     "text": [
      "Optimization restart 1/5, f = 968.3627966694088\n",
      "Optimization restart 2/5, f = 968.3621389874036\n",
      "Optimization restart 3/5, f = 968.3621391814423\n",
      "Optimization restart 4/5, f = 968.3621391479354\n",
      "Optimization restart 5/5, f = 968.3621389873803\n",
      "[[14.         21.09919808 27.         34.20053102  1.          3.14701615]]\n",
      "\n",
      "User function time loss called with 1 inputs to simulate\n",
      "\n",
      "Evaluating input: 1 of 1\n",
      "\n",
      " Retrying in 1 seconds\n"
     ]
    },
    {
     "name": "stderr",
     "output_type": "stream",
     "text": [
      " /Users/harrysonghurst/opt/anaconda3/envs/traffic/lib/python3.8/site-packages/paramz/transformations.py:111: RuntimeWarning:overflow encountered in expm1\n"
     ]
    },
    {
     "name": "stdout",
     "output_type": "stream",
     "text": [
      "Optimization restart 1/5, f = 972.3800753911923\n",
      "Optimization restart 2/5, f = 972.380060700603\n",
      "Optimization restart 3/5, f = 1214.3400107943971\n",
      "Optimization restart 4/5, f = 972.380060700665\n",
      "Optimization restart 5/5, f = 972.3800607005684\n",
      "[[20.         25.         12.82521715 50.10617283  1.          5.        ]]\n",
      "\n",
      "User function time loss called with 1 inputs to simulate\n",
      "\n",
      "Evaluating input: 1 of 1\n",
      "\n",
      " Retrying in 1 seconds\n"
     ]
    },
    {
     "name": "stderr",
     "output_type": "stream",
     "text": [
      " /Users/harrysonghurst/opt/anaconda3/envs/traffic/lib/python3.8/site-packages/paramz/transformations.py:111: RuntimeWarning:overflow encountered in expm1\n"
     ]
    },
    {
     "name": "stdout",
     "output_type": "stream",
     "text": [
      "Optimization restart 1/5, f = 976.4065666463359\n",
      "Optimization restart 2/5, f = 976.4065260084471\n",
      "Optimization restart 3/5, f = 976.4065246195102\n",
      "Optimization restart 4/5, f = 976.4065246230188\n",
      "Optimization restart 5/5, f = 976.4065286864343\n",
      "[[20.         15.18291871 23.1833255  54.09983096  1.          1.5       ]]\n",
      "\n",
      "User function time loss called with 1 inputs to simulate\n",
      "\n",
      "Evaluating input: 1 of 1\n",
      "\n",
      " Retrying in 1 seconds\n"
     ]
    },
    {
     "name": "stderr",
     "output_type": "stream",
     "text": [
      " /Users/harrysonghurst/opt/anaconda3/envs/traffic/lib/python3.8/site-packages/paramz/transformations.py:111: RuntimeWarning:overflow encountered in expm1\n"
     ]
    },
    {
     "name": "stdout",
     "output_type": "stream",
     "text": [
      "Optimization restart 1/5, f = 980.5370725312564\n",
      "Optimization restart 2/5, f = 980.5370725003361\n",
      "Optimization restart 3/5, f = 980.5370724863086\n",
      "Optimization restart 4/5, f = 1225.5873479171141\n",
      "Optimization restart 5/5, f = 980.5370724878593\n",
      "[[10.         17.01093417 21.2076639  67.82457767  3.          4.02912785]]\n",
      "\n",
      "User function time loss called with 1 inputs to simulate\n",
      "\n",
      "Evaluating input: 1 of 1\n",
      "\n",
      " Retrying in 1 seconds\n"
     ]
    },
    {
     "name": "stderr",
     "output_type": "stream",
     "text": [
      " /Users/harrysonghurst/opt/anaconda3/envs/traffic/lib/python3.8/site-packages/paramz/transformations.py:111: RuntimeWarning:overflow encountered in expm1\n"
     ]
    },
    {
     "name": "stdout",
     "output_type": "stream",
     "text": [
      "Optimization restart 1/5, f = 984.4710799293302\n",
      "Optimization restart 2/5, f = 984.4710538651284\n",
      "Optimization restart 3/5, f = 984.4710515165553\n",
      "Optimization restart 4/5, f = 984.4710513840845\n",
      "Optimization restart 5/5, f = 984.4710514733068\n",
      "[[16.         12.95539217 10.38410888 63.7372505   1.          5.        ]]\n",
      "\n",
      "User function time loss called with 1 inputs to simulate\n",
      "\n",
      "Evaluating input: 1 of 1\n",
      "\n",
      " Retrying in 1 seconds\n"
     ]
    },
    {
     "name": "stderr",
     "output_type": "stream",
     "text": [
      " /Users/harrysonghurst/opt/anaconda3/envs/traffic/lib/python3.8/site-packages/paramz/transformations.py:111: RuntimeWarning:overflow encountered in expm1\n"
     ]
    },
    {
     "name": "stdout",
     "output_type": "stream",
     "text": [
      "Optimization restart 1/5, f = 988.454588209851\n",
      "Optimization restart 2/5, f = 988.454558573399\n",
      "Optimization restart 3/5, f = 988.4545583888906\n",
      "Optimization restart 4/5, f = 988.4545619345215\n",
      "Optimization restart 5/5, f = 988.4545584356664\n",
      "[[ 3.         25.         20.8484492  60.96391874  3.          1.5       ]]\n",
      "\n",
      "User function time loss called with 1 inputs to simulate\n",
      "\n",
      "Evaluating input: 1 of 1\n",
      "\n",
      " Retrying in 1 seconds\n"
     ]
    },
    {
     "name": "stderr",
     "output_type": "stream",
     "text": [
      " /Users/harrysonghurst/opt/anaconda3/envs/traffic/lib/python3.8/site-packages/paramz/transformations.py:111: RuntimeWarning:overflow encountered in expm1\n"
     ]
    },
    {
     "name": "stdout",
     "output_type": "stream",
     "text": [
      "Optimization restart 1/5, f = 992.7546773959155\n",
      "Optimization restart 2/5, f = 992.7542587510629\n",
      "Optimization restart 3/5, f = 992.7542587567634\n",
      "Optimization restart 4/5, f = 992.7542587585416\n",
      "Optimization restart 5/5, f = 992.7542587510875\n",
      "[[11.         13.45117931 27.         49.79994622  1.          1.5       ]]\n",
      "\n",
      "User function time loss called with 1 inputs to simulate\n",
      "\n",
      "Evaluating input: 1 of 1\n",
      "\n",
      " Retrying in 1 seconds\n"
     ]
    },
    {
     "name": "stderr",
     "output_type": "stream",
     "text": [
      " /Users/harrysonghurst/opt/anaconda3/envs/traffic/lib/python3.8/site-packages/paramz/transformations.py:111: RuntimeWarning:overflow encountered in expm1\n"
     ]
    },
    {
     "name": "stdout",
     "output_type": "stream",
     "text": [
      "Optimization restart 1/5, f = 996.9582698685279\n",
      "Optimization restart 2/5, f = 996.9573812177754\n",
      "Optimization restart 3/5, f = 996.9573812162128\n"
     ]
    },
    {
     "name": "stderr",
     "output_type": "stream",
     "text": [
      " /Users/harrysonghurst/opt/anaconda3/envs/traffic/lib/python3.8/site-packages/GPy/kern/src/stationary.py:168: RuntimeWarning:overflow encountered in true_divide\n",
      " /Users/harrysonghurst/opt/anaconda3/envs/traffic/lib/python3.8/site-packages/GPy/kern/src/rbf.py:52: RuntimeWarning:overflow encountered in square\n",
      " /Users/harrysonghurst/opt/anaconda3/envs/traffic/lib/python3.8/site-packages/GPy/kern/src/rbf.py:76: RuntimeWarning:invalid value encountered in multiply\n"
     ]
    },
    {
     "name": "stdout",
     "output_type": "stream",
     "text": [
      "Optimization restart 4/5, f = 1170.2540720855081\n",
      "Optimization restart 5/5, f = 996.9573812164022\n",
      "[[ 6.         16.80481022  9.03526143 62.66661937  3.          1.5       ]]\n",
      "\n",
      "User function time loss called with 1 inputs to simulate\n",
      "\n",
      "Evaluating input: 1 of 1\n",
      "\n",
      " Retrying in 1 seconds\n"
     ]
    },
    {
     "name": "stderr",
     "output_type": "stream",
     "text": [
      " /Users/harrysonghurst/opt/anaconda3/envs/traffic/lib/python3.8/site-packages/paramz/transformations.py:111: RuntimeWarning:overflow encountered in expm1\n"
     ]
    },
    {
     "name": "stdout",
     "output_type": "stream",
     "text": [
      "Optimization restart 1/5, f = 1000.8591156525334\n",
      "Optimization restart 2/5, f = 1254.8657196494057\n",
      "Optimization restart 3/5, f = 1000.8591026590404\n",
      "Optimization restart 4/5, f = 1000.8591026590633\n",
      "Optimization restart 5/5, f = 1000.8591026896811\n",
      "[[10.         14.10874101  9.47775423 44.4164185   1.          1.5       ]]\n",
      "\n",
      "User function time loss called with 1 inputs to simulate\n",
      "\n",
      "Evaluating input: 1 of 1\n",
      "\n",
      " Retrying in 1 seconds\n"
     ]
    },
    {
     "name": "stderr",
     "output_type": "stream",
     "text": [
      " /Users/harrysonghurst/opt/anaconda3/envs/traffic/lib/python3.8/site-packages/paramz/transformations.py:111: RuntimeWarning:overflow encountered in expm1\n"
     ]
    },
    {
     "name": "stdout",
     "output_type": "stream",
     "text": [
      "Optimization restart 1/5, f = 1004.7634415880736\n",
      "Optimization restart 2/5, f = 1004.7634415831387\n",
      "Optimization restart 3/5, f = 1004.7634415850073\n",
      "Optimization restart 4/5, f = 1004.7634415835859\n",
      "Optimization restart 5/5, f = 1004.7634415831068\n",
      "[[10.          8.87311048 20.98570595 60.92555512  3.          5.        ]]\n",
      "\n",
      "User function time loss called with 1 inputs to simulate\n",
      "\n",
      "Evaluating input: 1 of 1\n",
      "\n",
      " Retrying in 1 seconds\n"
     ]
    },
    {
     "name": "stderr",
     "output_type": "stream",
     "text": [
      " /Users/harrysonghurst/opt/anaconda3/envs/traffic/lib/python3.8/site-packages/paramz/transformations.py:111: RuntimeWarning:overflow encountered in expm1\n"
     ]
    },
    {
     "name": "stdout",
     "output_type": "stream",
     "text": [
      "Optimization restart 1/5, f = 1008.7377753482482\n",
      "Optimization restart 2/5, f = 1008.7377751915003\n",
      "Optimization restart 3/5, f = 1008.7444924317475\n",
      "Optimization restart 4/5, f = 1008.7377751875866\n",
      "Optimization restart 5/5, f = 1008.7377751875624\n",
      "[[16.         15.27684846 16.38110116 41.09071008  3.          4.97422723]]\n",
      "\n",
      "User function time loss called with 1 inputs to simulate\n",
      "\n",
      "Evaluating input: 1 of 1\n",
      "\n",
      " Retrying in 1 seconds\n"
     ]
    },
    {
     "name": "stderr",
     "output_type": "stream",
     "text": [
      " /Users/harrysonghurst/opt/anaconda3/envs/traffic/lib/python3.8/site-packages/paramz/transformations.py:111: RuntimeWarning:overflow encountered in expm1\n"
     ]
    },
    {
     "name": "stdout",
     "output_type": "stream",
     "text": [
      "Optimization restart 1/5, f = 1013.7951978202585\n",
      "Optimization restart 2/5, f = 1013.7943270124823\n"
     ]
    },
    {
     "name": "stderr",
     "output_type": "stream",
     "text": [
      " /Users/harrysonghurst/opt/anaconda3/envs/traffic/lib/python3.8/site-packages/GPy/kern/src/rbf.py:52: RuntimeWarning:overflow encountered in square\n"
     ]
    },
    {
     "name": "stdout",
     "output_type": "stream",
     "text": [
      "Optimization restart 3/5, f = 1013.8009832758205\n",
      "Optimization restart 4/5, f = 1013.7943269357983\n"
     ]
    },
    {
     "name": "stderr",
     "output_type": "stream",
     "text": [
      " /Users/harrysonghurst/opt/anaconda3/envs/traffic/lib/python3.8/site-packages/GPy/kern/src/stationary.py:168: RuntimeWarning:overflow encountered in true_divide\n",
      " /Users/harrysonghurst/opt/anaconda3/envs/traffic/lib/python3.8/site-packages/GPy/kern/src/rbf.py:76: RuntimeWarning:invalid value encountered in multiply\n"
     ]
    },
    {
     "name": "stdout",
     "output_type": "stream",
     "text": [
      "Optimization restart 5/5, f = 1143.5094130663697\n",
      "[[ 8.         17.98222753 22.03617855 52.46610754  1.          5.        ]]\n",
      "\n",
      "User function time loss called with 1 inputs to simulate\n",
      "\n",
      "Evaluating input: 1 of 1\n",
      "\n",
      " Retrying in 1 seconds\n"
     ]
    },
    {
     "name": "stderr",
     "output_type": "stream",
     "text": [
      " /Users/harrysonghurst/opt/anaconda3/envs/traffic/lib/python3.8/site-packages/paramz/transformations.py:111: RuntimeWarning:overflow encountered in expm1\n"
     ]
    },
    {
     "name": "stdout",
     "output_type": "stream",
     "text": [
      "Optimization restart 1/5, f = 1018.2996142064791\n",
      "Optimization restart 2/5, f = 1018.296777947977\n",
      "Optimization restart 3/5, f = 1018.2967779480008\n",
      "Optimization restart 4/5, f = 1018.2967779529066\n",
      "Optimization restart 5/5, f = 1018.2967779479748\n",
      "[[ 3.         11.69760849  8.45953684 35.51567583  3.          5.        ]]\n",
      "\n",
      "User function time loss called with 1 inputs to simulate\n",
      "\n",
      "Evaluating input: 1 of 1\n",
      "\n",
      " Retrying in 1 seconds\n"
     ]
    },
    {
     "name": "stderr",
     "output_type": "stream",
     "text": [
      " /Users/harrysonghurst/opt/anaconda3/envs/traffic/lib/python3.8/site-packages/paramz/transformations.py:111: RuntimeWarning:overflow encountered in expm1\n"
     ]
    },
    {
     "name": "stdout",
     "output_type": "stream",
     "text": [
      "Optimization restart 1/5, f = 1022.3652977066515\n",
      "Optimization restart 2/5, f = 1022.3642444014185\n",
      "Optimization restart 3/5, f = 1022.3642444010586\n",
      "Optimization restart 4/5, f = 1022.3642444032479\n",
      "Optimization restart 5/5, f = 1285.3815250473006\n",
      "[[16.         19.16297453 25.98141919 70.          3.          2.97776301]]\n",
      "\n",
      "User function time loss called with 1 inputs to simulate\n",
      "\n",
      "Evaluating input: 1 of 1\n",
      "\n",
      " Retrying in 1 seconds\n"
     ]
    },
    {
     "name": "stderr",
     "output_type": "stream",
     "text": [
      " /Users/harrysonghurst/opt/anaconda3/envs/traffic/lib/python3.8/site-packages/paramz/transformations.py:111: RuntimeWarning:overflow encountered in expm1\n"
     ]
    },
    {
     "name": "stdout",
     "output_type": "stream",
     "text": [
      "Optimization restart 1/5, f = 1026.4349307873704\n",
      "Optimization restart 2/5, f = 1026.43489800857\n",
      "Optimization restart 3/5, f = 1026.4348980701316\n",
      "Optimization restart 4/5, f = 1026.4348980086831\n",
      "Optimization restart 5/5, f = 1026.4348980092034\n",
      "[[ 9.         16.35728741  8.91585505 49.72491597  3.          4.73298391]]\n",
      "\n",
      "User function time loss called with 1 inputs to simulate\n",
      "\n",
      "Evaluating input: 1 of 1\n",
      "\n",
      " Retrying in 1 seconds\n"
     ]
    },
    {
     "name": "stderr",
     "output_type": "stream",
     "text": [
      " /Users/harrysonghurst/opt/anaconda3/envs/traffic/lib/python3.8/site-packages/paramz/transformations.py:111: RuntimeWarning:overflow encountered in expm1\n"
     ]
    },
    {
     "name": "stdout",
     "output_type": "stream",
     "text": [
      "Optimization restart 1/5, f = 1030.429908957408\n",
      "Optimization restart 2/5, f = 1030.429594490025\n",
      "Optimization restart 3/5, f = 1030.429594342036\n",
      "Optimization restart 4/5, f = 1030.4295943718369\n",
      "Optimization restart 5/5, f = 1030.4295946637583\n",
      "[[10.         12.68537788 22.32212912 37.56879066  1.          3.47810325]]\n",
      "\n",
      "User function time loss called with 1 inputs to simulate\n",
      "\n",
      "Evaluating input: 1 of 1\n",
      "\n",
      " Retrying in 1 seconds\n"
     ]
    },
    {
     "name": "stderr",
     "output_type": "stream",
     "text": [
      " /Users/harrysonghurst/opt/anaconda3/envs/traffic/lib/python3.8/site-packages/paramz/transformations.py:111: RuntimeWarning:overflow encountered in expm1\n"
     ]
    },
    {
     "name": "stdout",
     "output_type": "stream",
     "text": [
      "Optimization restart 1/5, f = 1034.2965095434854\n",
      "Optimization restart 2/5, f = 1034.296437420959\n",
      "Optimization restart 3/5, f = 1034.296437074463\n",
      "Optimization restart 4/5, f = 1034.2964370758525\n",
      "Optimization restart 5/5, f = 1034.2964370747068\n",
      "[[ 3.          9.35282608 23.54686099 61.59177381  3.          1.5       ]]\n",
      "\n",
      "User function time loss called with 1 inputs to simulate\n",
      "\n",
      "Evaluating input: 1 of 1\n",
      "\n",
      " Retrying in 1 seconds\n"
     ]
    },
    {
     "name": "stderr",
     "output_type": "stream",
     "text": [
      " /Users/harrysonghurst/opt/anaconda3/envs/traffic/lib/python3.8/site-packages/paramz/transformations.py:111: RuntimeWarning:overflow encountered in expm1\n"
     ]
    },
    {
     "name": "stdout",
     "output_type": "stream",
     "text": [
      "Optimization restart 1/5, f = 1038.3666596343264\n",
      "Optimization restart 2/5, f = 1038.3666433744702\n",
      "Optimization restart 3/5, f = 1038.3666436004414\n",
      "Optimization restart 4/5, f = 1038.3666435423934\n"
     ]
    },
    {
     "name": "stderr",
     "output_type": "stream",
     "text": [
      " /Users/harrysonghurst/opt/anaconda3/envs/traffic/lib/python3.8/site-packages/GPy/kern/src/stationary.py:168: RuntimeWarning:overflow encountered in true_divide\n",
      " /Users/harrysonghurst/opt/anaconda3/envs/traffic/lib/python3.8/site-packages/GPy/kern/src/rbf.py:52: RuntimeWarning:overflow encountered in square\n",
      " /Users/harrysonghurst/opt/anaconda3/envs/traffic/lib/python3.8/site-packages/GPy/kern/src/rbf.py:76: RuntimeWarning:invalid value encountered in multiply\n"
     ]
    },
    {
     "name": "stdout",
     "output_type": "stream",
     "text": [
      "Optimization restart 5/5, f = 1223.8887987331254\n",
      "[[17.         22.94185729  5.         54.89513071  1.          1.5       ]]\n",
      "\n",
      "User function time loss called with 1 inputs to simulate\n",
      "\n",
      "Evaluating input: 1 of 1\n",
      "\n",
      " Retrying in 1 seconds\n"
     ]
    },
    {
     "name": "stderr",
     "output_type": "stream",
     "text": [
      " /Users/harrysonghurst/opt/anaconda3/envs/traffic/lib/python3.8/site-packages/paramz/transformations.py:111: RuntimeWarning:overflow encountered in expm1\n"
     ]
    },
    {
     "name": "stdout",
     "output_type": "stream",
     "text": [
      "Optimization restart 1/5, f = 1042.3767912920541\n",
      "Optimization restart 2/5, f = 1042.3764692754664\n",
      "Optimization restart 3/5, f = 1201.924247277522\n",
      "Optimization restart 4/5, f = 1042.3764692746943\n",
      "Optimization restart 5/5, f = 1042.3764692750888\n",
      "[[16.         23.8544311  10.91515269 70.          3.          3.76184708]]\n",
      "\n",
      "User function time loss called with 1 inputs to simulate\n",
      "\n",
      "Evaluating input: 1 of 1\n",
      "\n",
      " Retrying in 1 seconds\n"
     ]
    },
    {
     "name": "stderr",
     "output_type": "stream",
     "text": [
      " /Users/harrysonghurst/opt/anaconda3/envs/traffic/lib/python3.8/site-packages/paramz/transformations.py:111: RuntimeWarning:overflow encountered in expm1\n"
     ]
    },
    {
     "name": "stdout",
     "output_type": "stream",
     "text": [
      "Optimization restart 1/5, f = 1046.3941037945256\n",
      "Optimization restart 2/5, f = 1046.3936469429104\n",
      "Optimization restart 3/5, f = 1046.3936469336809\n",
      "Optimization restart 4/5, f = 1046.3936469366324\n",
      "Optimization restart 5/5, f = 1046.3936474425134\n",
      "[[16.          8.         13.60650268 50.89427548  1.          3.32128021]]\n",
      "\n",
      "User function time loss called with 1 inputs to simulate\n",
      "\n",
      "Evaluating input: 1 of 1\n",
      "\n",
      " Retrying in 1 seconds\n"
     ]
    },
    {
     "name": "stderr",
     "output_type": "stream",
     "text": [
      " /Users/harrysonghurst/opt/anaconda3/envs/traffic/lib/python3.8/site-packages/paramz/transformations.py:111: RuntimeWarning:overflow encountered in expm1\n"
     ]
    },
    {
     "name": "stdout",
     "output_type": "stream",
     "text": [
      "Optimization restart 1/5, f = 1050.2620492252622\n",
      "Optimization restart 2/5, f = 1050.2620496729114\n",
      "Optimization restart 3/5, f = 1234.985582940703\n"
     ]
    },
    {
     "name": "stderr",
     "output_type": "stream",
     "text": [
      " /Users/harrysonghurst/opt/anaconda3/envs/traffic/lib/python3.8/site-packages/GPy/kern/src/stationary.py:168: RuntimeWarning:overflow encountered in true_divide\n",
      " /Users/harrysonghurst/opt/anaconda3/envs/traffic/lib/python3.8/site-packages/GPy/kern/src/rbf.py:52: RuntimeWarning:overflow encountered in square\n",
      " /Users/harrysonghurst/opt/anaconda3/envs/traffic/lib/python3.8/site-packages/GPy/kern/src/rbf.py:76: RuntimeWarning:invalid value encountered in multiply\n"
     ]
    },
    {
     "name": "stdout",
     "output_type": "stream",
     "text": [
      "Optimization restart 4/5, f = 1050.2620491037403\n",
      "Optimization restart 5/5, f = 1050.2620490318254\n",
      "[[17.         15.32479387 23.57788345 62.99104316  3.          5.        ]]\n",
      "\n",
      "User function time loss called with 1 inputs to simulate\n",
      "\n",
      "Evaluating input: 1 of 1\n",
      "\n",
      " Retrying in 1 seconds\n"
     ]
    },
    {
     "name": "stderr",
     "output_type": "stream",
     "text": [
      " /Users/harrysonghurst/opt/anaconda3/envs/traffic/lib/python3.8/site-packages/paramz/transformations.py:111: RuntimeWarning:overflow encountered in expm1\n"
     ]
    },
    {
     "name": "stdout",
     "output_type": "stream",
     "text": [
      "Optimization restart 1/5, f = 1054.3201522652707\n",
      "Optimization restart 2/5, f = 1054.3199454116886\n",
      "Optimization restart 3/5, f = 1054.3199454443884\n",
      "Optimization restart 4/5, f = 1054.3199454115452\n",
      "Optimization restart 5/5, f = 1330.8510645558783\n",
      "[[ 8.         22.22159692 17.80655993 52.28889262  3.          1.5       ]]\n",
      "\n",
      "User function time loss called with 1 inputs to simulate\n",
      "\n",
      "Evaluating input: 1 of 1\n",
      "\n",
      " Retrying in 1 seconds\n"
     ]
    },
    {
     "name": "stderr",
     "output_type": "stream",
     "text": [
      " /Users/harrysonghurst/opt/anaconda3/envs/traffic/lib/python3.8/site-packages/paramz/transformations.py:111: RuntimeWarning:overflow encountered in expm1\n"
     ]
    },
    {
     "name": "stdout",
     "output_type": "stream",
     "text": [
      "Optimization restart 1/5, f = 1058.3303840776593\n",
      "Optimization restart 2/5, f = 1058.3303655924287\n",
      "Optimization restart 3/5, f = 1058.3303655943216\n",
      "Optimization restart 4/5, f = 1058.3303655923125\n"
     ]
    },
    {
     "name": "stderr",
     "output_type": "stream",
     "text": [
      " /Users/harrysonghurst/opt/anaconda3/envs/traffic/lib/python3.8/site-packages/GPy/kern/src/stationary.py:168: RuntimeWarning:overflow encountered in true_divide\n",
      " /Users/harrysonghurst/opt/anaconda3/envs/traffic/lib/python3.8/site-packages/GPy/kern/src/rbf.py:52: RuntimeWarning:overflow encountered in square\n",
      " /Users/harrysonghurst/opt/anaconda3/envs/traffic/lib/python3.8/site-packages/GPy/kern/src/rbf.py:76: RuntimeWarning:invalid value encountered in multiply\n"
     ]
    },
    {
     "name": "stdout",
     "output_type": "stream",
     "text": [
      "Optimization restart 5/5, f = 1250.9044737447598\n",
      "[[ 4.         18.84558986 27.         30.          3.          3.37923546]]\n",
      "\n",
      "User function time loss called with 1 inputs to simulate\n",
      "\n",
      "Evaluating input: 1 of 1\n",
      "\n",
      " Retrying in 1 seconds\n"
     ]
    },
    {
     "name": "stderr",
     "output_type": "stream",
     "text": [
      " /Users/harrysonghurst/opt/anaconda3/envs/traffic/lib/python3.8/site-packages/paramz/transformations.py:111: RuntimeWarning:overflow encountered in expm1\n"
     ]
    },
    {
     "name": "stdout",
     "output_type": "stream",
     "text": [
      "Optimization restart 1/5, f = 1076.6133525080027\n",
      "Optimization restart 2/5, f = 1076.1246095461095\n",
      "Optimization restart 3/5, f = 1076.1246094902504\n",
      "Optimization restart 4/5, f = 1076.1246094883602\n",
      "Optimization restart 5/5, f = 1076.124609689655\n",
      "[[ 3.         18.01370503 21.58687123 70.          3.          5.        ]]\n",
      "\n",
      "User function time loss called with 1 inputs to simulate\n",
      "\n",
      "Evaluating input: 1 of 1\n",
      "\n",
      " Retrying in 1 seconds\n"
     ]
    },
    {
     "name": "stderr",
     "output_type": "stream",
     "text": [
      " /Users/harrysonghurst/opt/anaconda3/envs/traffic/lib/python3.8/site-packages/paramz/transformations.py:111: RuntimeWarning:overflow encountered in expm1\n"
     ]
    },
    {
     "name": "stdout",
     "output_type": "stream",
     "text": [
      "Optimization restart 1/5, f = 1081.8398864601852\n",
      "Optimization restart 2/5, f = 1081.8396097018735\n",
      "Optimization restart 3/5, f = 1081.8396097035384\n",
      "Optimization restart 4/5, f = 1081.8396105469587\n",
      "Optimization restart 5/5, f = 1081.839609701542\n",
      "[[ 3.         13.82670556 17.53816767 30.          1.          5.        ]]\n",
      "\n",
      "User function time loss called with 1 inputs to simulate\n",
      "\n",
      "Evaluating input: 1 of 1\n",
      "\n",
      " Retrying in 1 seconds\n"
     ]
    },
    {
     "name": "stderr",
     "output_type": "stream",
     "text": [
      " /Users/harrysonghurst/opt/anaconda3/envs/traffic/lib/python3.8/site-packages/paramz/transformations.py:111: RuntimeWarning:overflow encountered in expm1\n"
     ]
    },
    {
     "name": "stdout",
     "output_type": "stream",
     "text": [
      "Optimization restart 1/5, f = 1090.1922411446503\n",
      "Optimization restart 2/5, f = 1090.1901467638775\n",
      "Optimization restart 3/5, f = 1090.190146763054\n",
      "Optimization restart 4/5, f = 1090.1901467630419\n",
      "Optimization restart 5/5, f = 1090.190146763052\n",
      "[[17.         15.54771338 11.66857077 30.          3.          5.        ]]\n",
      "\n",
      "User function time loss called with 1 inputs to simulate\n",
      "\n",
      "Evaluating input: 1 of 1\n",
      "\n",
      " Retrying in 1 seconds\n"
     ]
    },
    {
     "name": "stderr",
     "output_type": "stream",
     "text": [
      " /Users/harrysonghurst/opt/anaconda3/envs/traffic/lib/python3.8/site-packages/paramz/transformations.py:111: RuntimeWarning:overflow encountered in expm1\n"
     ]
    },
    {
     "name": "stdout",
     "output_type": "stream",
     "text": [
      "Optimization restart 1/5, f = 1094.411477345011\n",
      "Optimization restart 2/5, f = 1094.4113929064738\n",
      "Optimization restart 3/5, f = 1094.4113927728583\n",
      "Optimization restart 4/5, f = 1094.4113928877405\n",
      "Optimization restart 5/5, f = 1094.411392767369\n",
      "[[ 8.         10.86961146  8.89226483 30.          1.          1.5       ]]\n",
      "\n",
      "User function time loss called with 1 inputs to simulate\n",
      "\n",
      "Evaluating input: 1 of 1\n",
      "\n",
      " Retrying in 1 seconds\n"
     ]
    },
    {
     "name": "stderr",
     "output_type": "stream",
     "text": [
      " /Users/harrysonghurst/opt/anaconda3/envs/traffic/lib/python3.8/site-packages/paramz/transformations.py:111: RuntimeWarning:overflow encountered in expm1\n"
     ]
    },
    {
     "name": "stdout",
     "output_type": "stream",
     "text": [
      "Optimization restart 1/5, f = 1098.7040064144\n"
     ]
    },
    {
     "name": "stderr",
     "output_type": "stream",
     "text": [
      " /Users/harrysonghurst/opt/anaconda3/envs/traffic/lib/python3.8/site-packages/GPy/kern/src/stationary.py:168: RuntimeWarning:overflow encountered in true_divide\n",
      " /Users/harrysonghurst/opt/anaconda3/envs/traffic/lib/python3.8/site-packages/GPy/kern/src/rbf.py:52: RuntimeWarning:overflow encountered in square\n",
      " /Users/harrysonghurst/opt/anaconda3/envs/traffic/lib/python3.8/site-packages/GPy/kern/src/rbf.py:76: RuntimeWarning:invalid value encountered in multiply\n"
     ]
    },
    {
     "name": "stdout",
     "output_type": "stream",
     "text": [
      "Optimization restart 2/5, f = 1286.2732818921154\n",
      "Optimization restart 3/5, f = 1098.7028720748613\n",
      "Optimization restart 4/5, f = 1098.7028721046004\n",
      "Optimization restart 5/5, f = 1098.7028720747264\n",
      "[[17.          8.         27.         62.94899411  1.          2.15425476]]\n",
      "\n",
      "User function time loss called with 1 inputs to simulate\n",
      "\n",
      "Evaluating input: 1 of 1\n",
      "\n",
      " Retrying in 1 seconds\n"
     ]
    },
    {
     "name": "stderr",
     "output_type": "stream",
     "text": [
      " /Users/harrysonghurst/opt/anaconda3/envs/traffic/lib/python3.8/site-packages/paramz/transformations.py:111: RuntimeWarning:overflow encountered in expm1\n",
      " /Users/harrysonghurst/opt/anaconda3/envs/traffic/lib/python3.8/site-packages/GPy/kern/src/rbf.py:52: RuntimeWarning:overflow encountered in square\n"
     ]
    },
    {
     "name": "stdout",
     "output_type": "stream",
     "text": [
      "Optimization restart 1/5, f = 1102.8326285307974\n",
      "Optimization restart 2/5, f = 1102.8326265798978\n",
      "Optimization restart 3/5, f = 1102.8326265770643\n",
      "Optimization restart 4/5, f = 1102.832627148789\n"
     ]
    },
    {
     "name": "stderr",
     "output_type": "stream",
     "text": [
      " /Users/harrysonghurst/opt/anaconda3/envs/traffic/lib/python3.8/site-packages/GPy/kern/src/stationary.py:168: RuntimeWarning:overflow encountered in true_divide\n",
      " /Users/harrysonghurst/opt/anaconda3/envs/traffic/lib/python3.8/site-packages/GPy/kern/src/rbf.py:76: RuntimeWarning:invalid value encountered in multiply\n"
     ]
    },
    {
     "name": "stdout",
     "output_type": "stream",
     "text": [
      "Optimization restart 5/5, f = 1102.8326265770543\n",
      "[[ 6.         21.58951285 27.         66.19821443  1.          5.        ]]\n",
      "\n",
      "User function time loss called with 1 inputs to simulate\n",
      "\n",
      "Evaluating input: 1 of 1\n",
      "\n",
      " Retrying in 1 seconds\n"
     ]
    },
    {
     "name": "stderr",
     "output_type": "stream",
     "text": [
      " /Users/harrysonghurst/opt/anaconda3/envs/traffic/lib/python3.8/site-packages/paramz/transformations.py:111: RuntimeWarning:overflow encountered in expm1\n"
     ]
    },
    {
     "name": "stdout",
     "output_type": "stream",
     "text": [
      "Optimization restart 1/5, f = 1109.2913808798137\n",
      "Optimization restart 2/5, f = 1109.290363191602\n",
      "Optimization restart 3/5, f = 1109.290363141353\n",
      "Optimization restart 4/5, f = 1109.2903631413358\n",
      "Optimization restart 5/5, f = 1430.5673535252267\n"
     ]
    },
    {
     "name": "stderr",
     "output_type": "stream",
     "text": [
      " /Users/harrysonghurst/opt/anaconda3/envs/traffic/lib/python3.8/site-packages/GPy/kern/src/stationary.py:168: RuntimeWarning:overflow encountered in true_divide\n",
      " /Users/harrysonghurst/opt/anaconda3/envs/traffic/lib/python3.8/site-packages/GPy/kern/src/rbf.py:52: RuntimeWarning:overflow encountered in square\n",
      " /Users/harrysonghurst/opt/anaconda3/envs/traffic/lib/python3.8/site-packages/GPy/kern/src/rbf.py:76: RuntimeWarning:invalid value encountered in multiply\n"
     ]
    },
    {
     "name": "stdout",
     "output_type": "stream",
     "text": [
      "[[20.         25.         16.21450616 61.8902009   1.          3.14691131]]\n",
      "\n",
      "User function time loss called with 1 inputs to simulate\n",
      "\n",
      "Evaluating input: 1 of 1\n",
      "\n",
      " Retrying in 1 seconds\n"
     ]
    },
    {
     "name": "stderr",
     "output_type": "stream",
     "text": [
      " /Users/harrysonghurst/opt/anaconda3/envs/traffic/lib/python3.8/site-packages/paramz/transformations.py:111: RuntimeWarning:overflow encountered in expm1\n"
     ]
    },
    {
     "name": "stdout",
     "output_type": "stream",
     "text": [
      "Optimization restart 1/5, f = 1113.3487034027748\n",
      "Optimization restart 2/5, f = 1113.3486853506995\n",
      "Optimization restart 3/5, f = 1113.3486853554316\n"
     ]
    },
    {
     "name": "stderr",
     "output_type": "stream",
     "text": [
      " /Users/harrysonghurst/opt/anaconda3/envs/traffic/lib/python3.8/site-packages/GPy/kern/src/stationary.py:168: RuntimeWarning:overflow encountered in true_divide\n",
      " /Users/harrysonghurst/opt/anaconda3/envs/traffic/lib/python3.8/site-packages/GPy/kern/src/rbf.py:52: RuntimeWarning:overflow encountered in square\n",
      " /Users/harrysonghurst/opt/anaconda3/envs/traffic/lib/python3.8/site-packages/GPy/kern/src/rbf.py:76: RuntimeWarning:invalid value encountered in multiply\n"
     ]
    },
    {
     "name": "stdout",
     "output_type": "stream",
     "text": [
      "Optimization restart 4/5, f = 1303.130604346294\n",
      "Optimization restart 5/5, f = 1303.5989824940823\n",
      "[[20.         14.07012932 23.68618765 37.94368436  1.          5.        ]]\n",
      "\n",
      "User function time loss called with 1 inputs to simulate\n",
      "\n",
      "Evaluating input: 1 of 1\n",
      "\n",
      " Retrying in 1 seconds\n"
     ]
    },
    {
     "name": "stderr",
     "output_type": "stream",
     "text": [
      " /Users/harrysonghurst/opt/anaconda3/envs/traffic/lib/python3.8/site-packages/paramz/transformations.py:111: RuntimeWarning:overflow encountered in expm1\n"
     ]
    },
    {
     "name": "stdout",
     "output_type": "stream",
     "text": [
      "Optimization restart 1/5, f = 1117.339052911827\n",
      "Optimization restart 2/5, f = 1117.3390528672712\n",
      "Warning - optimization restart 3/5 failed\n"
     ]
    },
    {
     "name": "stderr",
     "output_type": "stream",
     "text": [
      " /Users/harrysonghurst/opt/anaconda3/envs/traffic/lib/python3.8/site-packages/GPy/kern/src/stationary.py:168: RuntimeWarning:overflow encountered in true_divide\n",
      " /Users/harrysonghurst/opt/anaconda3/envs/traffic/lib/python3.8/site-packages/GPy/kern/src/rbf.py:52: RuntimeWarning:overflow encountered in square\n",
      " /Users/harrysonghurst/opt/anaconda3/envs/traffic/lib/python3.8/site-packages/GPy/kern/src/rbf.py:76: RuntimeWarning:invalid value encountered in multiply\n",
      " /Users/harrysonghurst/opt/anaconda3/envs/traffic/lib/python3.8/site-packages/paramz/transformations.py:108: RuntimeWarning:invalid value encountered in greater\n",
      " /Users/harrysonghurst/opt/anaconda3/envs/traffic/lib/python3.8/site-packages/paramz/transformations.py:113: RuntimeWarning:invalid value encountered in greater\n"
     ]
    },
    {
     "name": "stdout",
     "output_type": "stream",
     "text": [
      "Optimization restart 4/5, f = 1117.3390528195484\n",
      "Optimization restart 5/5, f = 1117.4752650402825\n",
      "[[ 8.         24.04645315  5.         61.55056086  3.          2.89346407]]\n",
      "\n",
      "User function time loss called with 1 inputs to simulate\n",
      "\n",
      "Evaluating input: 1 of 1\n",
      "\n",
      " Retrying in 1 seconds\n"
     ]
    },
    {
     "name": "stderr",
     "output_type": "stream",
     "text": [
      " /Users/harrysonghurst/opt/anaconda3/envs/traffic/lib/python3.8/site-packages/paramz/transformations.py:111: RuntimeWarning:overflow encountered in expm1\n"
     ]
    },
    {
     "name": "stdout",
     "output_type": "stream",
     "text": [
      "Optimization restart 1/5, f = 1121.5105222815182\n"
     ]
    },
    {
     "name": "stderr",
     "output_type": "stream",
     "text": [
      " /Users/harrysonghurst/opt/anaconda3/envs/traffic/lib/python3.8/site-packages/GPy/kern/src/stationary.py:168: RuntimeWarning:overflow encountered in true_divide\n",
      " /Users/harrysonghurst/opt/anaconda3/envs/traffic/lib/python3.8/site-packages/GPy/kern/src/rbf.py:52: RuntimeWarning:overflow encountered in square\n",
      " /Users/harrysonghurst/opt/anaconda3/envs/traffic/lib/python3.8/site-packages/GPy/kern/src/rbf.py:76: RuntimeWarning:invalid value encountered in multiply\n"
     ]
    },
    {
     "name": "stdout",
     "output_type": "stream",
     "text": [
      "Optimization restart 2/5, f = 1131.5199519217535\n",
      "Optimization restart 3/5, f = 1121.5073424804395\n",
      "Optimization restart 4/5, f = 1121.5073424804166\n",
      "Optimization restart 5/5, f = 1121.5073432879853\n",
      "[[10.         23.71892792 21.62775967 38.63043921  3.          4.66601704]]\n",
      "\n",
      "User function time loss called with 1 inputs to simulate\n",
      "\n",
      "Evaluating input: 1 of 1\n",
      "\n",
      " Retrying in 1 seconds\n"
     ]
    },
    {
     "name": "stderr",
     "output_type": "stream",
     "text": [
      " /Users/harrysonghurst/opt/anaconda3/envs/traffic/lib/python3.8/site-packages/paramz/transformations.py:111: RuntimeWarning:overflow encountered in expm1\n"
     ]
    },
    {
     "name": "stdout",
     "output_type": "stream",
     "text": [
      "Optimization restart 1/5, f = 1125.737824994123\n",
      "Optimization restart 2/5, f = 1125.7372285499632\n",
      "Optimization restart 3/5, f = 1125.7372289455939\n",
      "Optimization restart 4/5, f = 1125.737228550015\n",
      "Optimization restart 5/5, f = 1125.7372285514687\n",
      "[[14.         11.96840285  7.53641449 62.89497729  3.          1.5       ]]\n",
      "\n",
      "User function time loss called with 1 inputs to simulate\n",
      "\n",
      "Evaluating input: 1 of 1\n",
      "\n",
      " Retrying in 1 seconds\n"
     ]
    },
    {
     "name": "stderr",
     "output_type": "stream",
     "text": [
      " /Users/harrysonghurst/opt/anaconda3/envs/traffic/lib/python3.8/site-packages/paramz/transformations.py:111: RuntimeWarning:overflow encountered in expm1\n"
     ]
    },
    {
     "name": "stdout",
     "output_type": "stream",
     "text": [
      "Optimization restart 1/5, f = 1129.7654344161356\n",
      "Optimization restart 2/5, f = 1129.7653137941656\n",
      "Optimization restart 3/5, f = 1129.7653150705717\n",
      "Optimization restart 4/5, f = 1129.7653137940194\n",
      "Optimization restart 5/5, f = 1129.7653137940033\n",
      "[[16.         25.         26.97422386 30.          3.          5.        ]]\n",
      "\n",
      "User function time loss called with 1 inputs to simulate\n",
      "\n",
      "Evaluating input: 1 of 1\n",
      "\n",
      " Retrying in 1 seconds\n"
     ]
    },
    {
     "name": "stderr",
     "output_type": "stream",
     "text": [
      " /Users/harrysonghurst/opt/anaconda3/envs/traffic/lib/python3.8/site-packages/paramz/transformations.py:111: RuntimeWarning:overflow encountered in expm1\n"
     ]
    },
    {
     "name": "stdout",
     "output_type": "stream",
     "text": [
      "Optimization restart 1/5, f = 1134.958887490648\n",
      "Optimization restart 2/5, f = 1134.9588667812036\n",
      "Optimization restart 3/5, f = 1134.9588667669161\n",
      "Optimization restart 4/5, f = 1134.958866763286\n",
      "Optimization restart 5/5, f = 1134.9588667629175\n",
      "[[13.         12.48443743 17.69872578 70.          1.          1.5       ]]\n",
      "\n",
      "User function time loss called with 1 inputs to simulate\n",
      "\n",
      "Evaluating input: 1 of 1\n",
      "\n",
      " Retrying in 1 seconds\n"
     ]
    },
    {
     "name": "stderr",
     "output_type": "stream",
     "text": [
      " /Users/harrysonghurst/opt/anaconda3/envs/traffic/lib/python3.8/site-packages/paramz/transformations.py:111: RuntimeWarning:overflow encountered in expm1\n",
      " /Users/harrysonghurst/opt/anaconda3/envs/traffic/lib/python3.8/site-packages/GPy/kern/src/stationary.py:168: RuntimeWarning:overflow encountered in true_divide\n",
      " /Users/harrysonghurst/opt/anaconda3/envs/traffic/lib/python3.8/site-packages/GPy/kern/src/rbf.py:52: RuntimeWarning:overflow encountered in square\n"
     ]
    },
    {
     "name": "stdout",
     "output_type": "stream",
     "text": [
      "Optimization restart 1/5, f = 1139.0498061017702\n",
      "Optimization restart 2/5, f = 1398.9194388880824\n"
     ]
    },
    {
     "name": "stderr",
     "output_type": "stream",
     "text": [
      " /Users/harrysonghurst/opt/anaconda3/envs/traffic/lib/python3.8/site-packages/GPy/kern/src/rbf.py:76: RuntimeWarning:invalid value encountered in multiply\n"
     ]
    },
    {
     "name": "stdout",
     "output_type": "stream",
     "text": [
      "Optimization restart 3/5, f = 1139.0497906043843\n",
      "Optimization restart 4/5, f = 1139.0497906035423\n",
      "Optimization restart 5/5, f = 1139.049790603543\n",
      "[[20.          8.         11.68081721 30.          3.          5.        ]]\n",
      "\n",
      "User function time loss called with 1 inputs to simulate\n",
      "\n",
      "Evaluating input: 1 of 1\n",
      "\n",
      " Retrying in 1 seconds\n"
     ]
    },
    {
     "name": "stderr",
     "output_type": "stream",
     "text": [
      " /Users/harrysonghurst/opt/anaconda3/envs/traffic/lib/python3.8/site-packages/paramz/transformations.py:111: RuntimeWarning:overflow encountered in expm1\n"
     ]
    },
    {
     "name": "stdout",
     "output_type": "stream",
     "text": [
      "Optimization restart 1/5, f = 1143.0884531576664\n",
      "Optimization restart 2/5, f = 1143.08844726314\n",
      "Optimization restart 3/5, f = 1143.0884473188664\n",
      "Optimization restart 4/5, f = 1143.0884472616374\n",
      "Optimization restart 5/5, f = 1143.0884475880416\n",
      "[[13.          8.          6.95874307 70.          3.          5.        ]]\n",
      "\n",
      "User function time loss called with 1 inputs to simulate\n",
      "\n",
      "Evaluating input: 1 of 1\n",
      "\n",
      " Retrying in 1 seconds\n"
     ]
    },
    {
     "name": "stderr",
     "output_type": "stream",
     "text": [
      " /Users/harrysonghurst/opt/anaconda3/envs/traffic/lib/python3.8/site-packages/paramz/transformations.py:111: RuntimeWarning:overflow encountered in expm1\n"
     ]
    },
    {
     "name": "stdout",
     "output_type": "stream",
     "text": [
      "Optimization restart 1/5, f = 1147.2248566456533\n",
      "Optimization restart 2/5, f = 1147.224845098995\n",
      "Optimization restart 3/5, f = 1147.2248441156526\n",
      "Optimization restart 4/5, f = 1147.224843982535\n",
      "Optimization restart 5/5, f = 1147.2248439825626\n",
      "[[16.         22.8194445  10.84812813 40.83117494  1.          5.        ]]\n",
      "\n",
      "User function time loss called with 1 inputs to simulate\n",
      "\n",
      "Evaluating input: 1 of 1\n",
      "\n",
      " Retrying in 1 seconds\n"
     ]
    },
    {
     "name": "stderr",
     "output_type": "stream",
     "text": [
      " /Users/harrysonghurst/opt/anaconda3/envs/traffic/lib/python3.8/site-packages/paramz/transformations.py:111: RuntimeWarning:overflow encountered in expm1\n"
     ]
    },
    {
     "name": "stdout",
     "output_type": "stream",
     "text": [
      "Optimization restart 1/5, f = 1151.2062555626833\n",
      "Optimization restart 2/5, f = 1151.2062025990465\n",
      "Optimization restart 3/5, f = 1151.2062026093092\n",
      "Optimization restart 4/5, f = 1151.2062025989917\n",
      "Optimization restart 5/5, f = 1151.206202598993\n",
      "[[17.         15.09383045 19.35517722 37.33400192  3.          1.5       ]]\n",
      "\n",
      "User function time loss called with 1 inputs to simulate\n",
      "\n",
      "Evaluating input: 1 of 1\n",
      "\n",
      " Retrying in 1 seconds\n"
     ]
    },
    {
     "name": "stderr",
     "output_type": "stream",
     "text": [
      " /Users/harrysonghurst/opt/anaconda3/envs/traffic/lib/python3.8/site-packages/paramz/transformations.py:111: RuntimeWarning:overflow encountered in expm1\n"
     ]
    },
    {
     "name": "stdout",
     "output_type": "stream",
     "text": [
      "Optimization restart 1/5, f = 1155.17667238517\n",
      "Optimization restart 2/5, f = 1155.1766477044036\n",
      "Optimization restart 3/5, f = 1155.1766477928463\n",
      "Optimization restart 4/5, f = 1155.1766477027259\n",
      "Optimization restart 5/5, f = 1155.176647719966\n",
      "[[ 6.         18.48735718 10.8744672  64.10807476  1.          2.63281751]]\n",
      "\n",
      "User function time loss called with 1 inputs to simulate\n",
      "\n",
      "Evaluating input: 1 of 1\n",
      "\n",
      " Retrying in 1 seconds\n"
     ]
    },
    {
     "name": "stderr",
     "output_type": "stream",
     "text": [
      " /Users/harrysonghurst/opt/anaconda3/envs/traffic/lib/python3.8/site-packages/paramz/transformations.py:111: RuntimeWarning:overflow encountered in expm1\n"
     ]
    },
    {
     "name": "stdout",
     "output_type": "stream",
     "text": [
      "Optimization restart 1/5, f = 1159.432592630495\n",
      "Optimization restart 2/5, f = 1159.432266762236\n",
      "Optimization restart 3/5, f = 1159.432266762951\n",
      "Optimization restart 4/5, f = 1159.43226680956\n",
      "Optimization restart 5/5, f = 1159.4322667756778\n",
      "[[ 8.          8.         20.88086928 38.11373999  1.          5.        ]]\n",
      "\n",
      "User function time loss called with 1 inputs to simulate\n",
      "\n",
      "Evaluating input: 1 of 1\n",
      "\n",
      " Retrying in 1 seconds\n"
     ]
    },
    {
     "name": "stderr",
     "output_type": "stream",
     "text": [
      " /Users/harrysonghurst/opt/anaconda3/envs/traffic/lib/python3.8/site-packages/paramz/transformations.py:111: RuntimeWarning:overflow encountered in expm1\n"
     ]
    },
    {
     "name": "stdout",
     "output_type": "stream",
     "text": [
      "Optimization restart 1/5, f = 1163.4077935454372\n",
      "Optimization restart 2/5, f = 1163.4077827504088\n",
      "Optimization restart 3/5, f = 1163.407782778381\n",
      "Optimization restart 4/5, f = 1163.407782758337\n",
      "Optimization restart 5/5, f = 1163.4077827503827\n",
      "[[ 3.         15.20430758 20.52929743 38.59594687  1.          1.5       ]]\n",
      "\n",
      "User function time loss called with 1 inputs to simulate\n",
      "\n",
      "Evaluating input: 1 of 1\n",
      "\n",
      " Retrying in 1 seconds\n"
     ]
    },
    {
     "name": "stderr",
     "output_type": "stream",
     "text": [
      " /Users/harrysonghurst/opt/anaconda3/envs/traffic/lib/python3.8/site-packages/paramz/transformations.py:111: RuntimeWarning:overflow encountered in expm1\n"
     ]
    },
    {
     "name": "stdout",
     "output_type": "stream",
     "text": [
      "Optimization restart 1/5, f = 1169.504040586238\n",
      "Optimization restart 2/5, f = 1169.4910744092526\n"
     ]
    },
    {
     "name": "stderr",
     "output_type": "stream",
     "text": [
      " /Users/harrysonghurst/opt/anaconda3/envs/traffic/lib/python3.8/site-packages/GPy/kern/src/rbf.py:52: RuntimeWarning:overflow encountered in square\n"
     ]
    },
    {
     "name": "stdout",
     "output_type": "stream",
     "text": [
      "Optimization restart 3/5, f = 1169.4910744079132\n",
      "Optimization restart 4/5, f = 1169.4910744098024\n",
      "Optimization restart 5/5, f = 1169.4910744088545\n",
      "[[15.          8.          6.50975654 35.29632364  1.          5.        ]]\n",
      "\n",
      "User function time loss called with 1 inputs to simulate\n",
      "\n",
      "Evaluating input: 1 of 1\n",
      "\n",
      " Retrying in 1 seconds\n"
     ]
    },
    {
     "name": "stderr",
     "output_type": "stream",
     "text": [
      " /Users/harrysonghurst/opt/anaconda3/envs/traffic/lib/python3.8/site-packages/paramz/transformations.py:111: RuntimeWarning:overflow encountered in expm1\n"
     ]
    },
    {
     "name": "stdout",
     "output_type": "stream",
     "text": [
      "Optimization restart 1/5, f = 1173.5276965361575\n",
      "Optimization restart 2/5, f = 1173.527644111583\n",
      "Optimization restart 3/5, f = 1173.527644098738\n",
      "Optimization restart 4/5, f = 1173.527644109275\n"
     ]
    },
    {
     "name": "stderr",
     "output_type": "stream",
     "text": [
      " /Users/harrysonghurst/opt/anaconda3/envs/traffic/lib/python3.8/site-packages/GPy/kern/src/stationary.py:168: RuntimeWarning:overflow encountered in true_divide\n",
      " /Users/harrysonghurst/opt/anaconda3/envs/traffic/lib/python3.8/site-packages/GPy/kern/src/rbf.py:52: RuntimeWarning:overflow encountered in square\n",
      " /Users/harrysonghurst/opt/anaconda3/envs/traffic/lib/python3.8/site-packages/GPy/kern/src/rbf.py:76: RuntimeWarning:invalid value encountered in multiply\n"
     ]
    },
    {
     "name": "stdout",
     "output_type": "stream",
     "text": [
      "Optimization restart 5/5, f = 1260.8155672988712\n",
      "[[20.         25.          5.         49.65752105  3.          1.58181495]]\n",
      "\n",
      "User function time loss called with 1 inputs to simulate\n",
      "\n",
      "Evaluating input: 1 of 1\n",
      "\n",
      " Retrying in 1 seconds\n"
     ]
    },
    {
     "name": "stderr",
     "output_type": "stream",
     "text": [
      " /Users/harrysonghurst/opt/anaconda3/envs/traffic/lib/python3.8/site-packages/paramz/transformations.py:111: RuntimeWarning:overflow encountered in expm1\n"
     ]
    },
    {
     "name": "stdout",
     "output_type": "stream",
     "text": [
      "Optimization restart 1/5, f = 1177.5782447186027\n",
      "Optimization restart 2/5, f = 1177.5782446003332\n",
      "Optimization restart 3/5, f = 1177.5782445771292\n",
      "Optimization restart 4/5, f = 1177.578244575312\n"
     ]
    },
    {
     "name": "stderr",
     "output_type": "stream",
     "text": [
      " /Users/harrysonghurst/opt/anaconda3/envs/traffic/lib/python3.8/site-packages/GPy/kern/src/rbf.py:52: RuntimeWarning:overflow encountered in square\n"
     ]
    },
    {
     "name": "stdout",
     "output_type": "stream",
     "text": [
      "Optimization restart 5/5, f = 1177.578244593794\n",
      "[[12.         25.         14.33433133 70.          1.          3.94951354]]\n",
      "\n",
      "User function time loss called with 1 inputs to simulate\n",
      "\n",
      "Evaluating input: 1 of 1\n",
      "\n",
      " Retrying in 1 seconds\n"
     ]
    },
    {
     "name": "stderr",
     "output_type": "stream",
     "text": [
      " /Users/harrysonghurst/opt/anaconda3/envs/traffic/lib/python3.8/site-packages/paramz/transformations.py:111: RuntimeWarning:overflow encountered in expm1\n"
     ]
    },
    {
     "name": "stdout",
     "output_type": "stream",
     "text": [
      "Optimization restart 1/5, f = 1181.6128538448902\n"
     ]
    },
    {
     "name": "stderr",
     "output_type": "stream",
     "text": [
      " /Users/harrysonghurst/opt/anaconda3/envs/traffic/lib/python3.8/site-packages/GPy/kern/src/stationary.py:168: RuntimeWarning:overflow encountered in true_divide\n",
      " /Users/harrysonghurst/opt/anaconda3/envs/traffic/lib/python3.8/site-packages/GPy/kern/src/rbf.py:52: RuntimeWarning:overflow encountered in square\n",
      " /Users/harrysonghurst/opt/anaconda3/envs/traffic/lib/python3.8/site-packages/GPy/kern/src/rbf.py:76: RuntimeWarning:invalid value encountered in multiply\n"
     ]
    },
    {
     "name": "stdout",
     "output_type": "stream",
     "text": [
      "Optimization restart 2/5, f = 1333.91114501372\n",
      "Optimization restart 3/5, f = 1181.612802275853\n",
      "Optimization restart 4/5, f = 1181.612802274032\n",
      "Optimization restart 5/5, f = 1181.6128023035458\n",
      "[[ 3.         18.33863452 11.28920537 49.2116392   3.          1.5       ]]\n",
      "\n",
      "User function time loss called with 1 inputs to simulate\n",
      "\n",
      "Evaluating input: 1 of 1\n",
      "\n",
      " Retrying in 1 seconds\n"
     ]
    },
    {
     "name": "stderr",
     "output_type": "stream",
     "text": [
      " /Users/harrysonghurst/opt/anaconda3/envs/traffic/lib/python3.8/site-packages/paramz/transformations.py:111: RuntimeWarning:overflow encountered in expm1\n"
     ]
    },
    {
     "name": "stdout",
     "output_type": "stream",
     "text": [
      "Optimization restart 1/5, f = 1186.188390083144\n",
      "Optimization restart 2/5, f = 1186.188036886767\n",
      "Optimization restart 3/5, f = 1186.188036874438\n",
      "Optimization restart 4/5, f = 1186.1880368744173\n",
      "Optimization restart 5/5, f = 1186.188036875727\n",
      "[[20.         16.677969   27.         53.12524955  1.          5.        ]]\n",
      "\n",
      "User function time loss called with 1 inputs to simulate\n",
      "\n",
      "Evaluating input: 1 of 1\n",
      "\n",
      " Retrying in 1 seconds\n"
     ]
    },
    {
     "name": "stderr",
     "output_type": "stream",
     "text": [
      " /Users/harrysonghurst/opt/anaconda3/envs/traffic/lib/python3.8/site-packages/paramz/transformations.py:111: RuntimeWarning:overflow encountered in expm1\n"
     ]
    },
    {
     "name": "stdout",
     "output_type": "stream",
     "text": [
      "Optimization restart 1/5, f = 1190.193853703912\n",
      "Optimization restart 2/5, f = 1498.0795522933713\n",
      "Optimization restart 3/5, f = 1190.1938392481718\n"
     ]
    },
    {
     "name": "stderr",
     "output_type": "stream",
     "text": [
      " /Users/harrysonghurst/opt/anaconda3/envs/traffic/lib/python3.8/site-packages/GPy/kern/src/rbf.py:52: RuntimeWarning:overflow encountered in square\n"
     ]
    },
    {
     "name": "stdout",
     "output_type": "stream",
     "text": [
      "Optimization restart 4/5, f = 1190.1938392481052\n",
      "Optimization restart 5/5, f = 1190.1938392488867\n",
      "[[20.         14.01882623  8.91350719 36.53451701  1.          1.5       ]]\n",
      "\n",
      "User function time loss called with 1 inputs to simulate\n",
      "\n",
      "Evaluating input: 1 of 1\n",
      "\n",
      " Retrying in 1 seconds\n"
     ]
    },
    {
     "name": "stderr",
     "output_type": "stream",
     "text": [
      " /Users/harrysonghurst/opt/anaconda3/envs/traffic/lib/python3.8/site-packages/paramz/transformations.py:111: RuntimeWarning:overflow encountered in expm1\n"
     ]
    },
    {
     "name": "stdout",
     "output_type": "stream",
     "text": [
      "Optimization restart 1/5, f = 1194.176316839772\n",
      "Optimization restart 2/5, f = 1194.1763079248185\n",
      "Optimization restart 3/5, f = 1194.176303547518\n",
      "Optimization restart 4/5, f = 1194.176303547597\n",
      "Optimization restart 5/5, f = 1194.1763035532783\n",
      "[[ 9.         21.24547014  5.         70.          1.          1.5       ]]\n",
      "\n",
      "User function time loss called with 1 inputs to simulate\n",
      "\n",
      "Evaluating input: 1 of 1\n",
      "\n",
      " Retrying in 1 seconds\n"
     ]
    },
    {
     "name": "stderr",
     "output_type": "stream",
     "text": [
      " /Users/harrysonghurst/opt/anaconda3/envs/traffic/lib/python3.8/site-packages/paramz/transformations.py:111: RuntimeWarning:overflow encountered in expm1\n"
     ]
    },
    {
     "name": "stdout",
     "output_type": "stream",
     "text": [
      "Optimization restart 1/5, f = 1198.493032142129\n"
     ]
    },
    {
     "name": "stderr",
     "output_type": "stream",
     "text": [
      " /Users/harrysonghurst/opt/anaconda3/envs/traffic/lib/python3.8/site-packages/GPy/kern/src/rbf.py:52: RuntimeWarning:overflow encountered in square\n"
     ]
    },
    {
     "name": "stdout",
     "output_type": "stream",
     "text": [
      "Optimization restart 2/5, f = 1198.492869837566\n",
      "Optimization restart 3/5, f = 1198.4928698382969\n",
      "Optimization restart 4/5, f = 1198.5455081013754\n",
      "Optimization restart 5/5, f = 1198.4928698393012\n",
      "[[16.         11.25809326 18.88320219 47.80566944  3.          2.32387052]]\n",
      "\n",
      "User function time loss called with 1 inputs to simulate\n",
      "\n",
      "Evaluating input: 1 of 1\n",
      "\n",
      " Retrying in 1 seconds\n"
     ]
    },
    {
     "name": "stderr",
     "output_type": "stream",
     "text": [
      " /Users/harrysonghurst/opt/anaconda3/envs/traffic/lib/python3.8/site-packages/paramz/transformations.py:111: RuntimeWarning:overflow encountered in expm1\n"
     ]
    },
    {
     "name": "stdout",
     "output_type": "stream",
     "text": [
      "Optimization restart 1/5, f = 1202.4589340091766\n",
      "Optimization restart 2/5, f = 1202.4588772764357\n",
      "Optimization restart 3/5, f = 1202.4588772700465\n",
      "Optimization restart 4/5, f = 1202.4588772726952\n",
      "Optimization restart 5/5, f = 1202.4588772680556\n",
      "[[ 3.         11.84523414  5.57685571 69.46685891  1.          2.22270149]]\n",
      "\n",
      "User function time loss called with 1 inputs to simulate\n",
      "\n",
      "Evaluating input: 1 of 1\n",
      "\n",
      " Retrying in 1 seconds\n"
     ]
    },
    {
     "name": "stderr",
     "output_type": "stream",
     "text": [
      " /Users/harrysonghurst/opt/anaconda3/envs/traffic/lib/python3.8/site-packages/paramz/transformations.py:111: RuntimeWarning:overflow encountered in expm1\n"
     ]
    },
    {
     "name": "stdout",
     "output_type": "stream",
     "text": [
      "Optimization restart 1/5, f = 1206.5223548488063\n",
      "Optimization restart 2/5, f = 1206.522354505082\n"
     ]
    },
    {
     "name": "stderr",
     "output_type": "stream",
     "text": [
      " /Users/harrysonghurst/opt/anaconda3/envs/traffic/lib/python3.8/site-packages/GPy/kern/src/stationary.py:168: RuntimeWarning:overflow encountered in true_divide\n",
      " /Users/harrysonghurst/opt/anaconda3/envs/traffic/lib/python3.8/site-packages/GPy/kern/src/rbf.py:52: RuntimeWarning:overflow encountered in square\n",
      " /Users/harrysonghurst/opt/anaconda3/envs/traffic/lib/python3.8/site-packages/GPy/kern/src/rbf.py:76: RuntimeWarning:invalid value encountered in multiply\n"
     ]
    },
    {
     "name": "stdout",
     "output_type": "stream",
     "text": [
      "Optimization restart 3/5, f = 1206.7364772135295\n",
      "Optimization restart 4/5, f = 1206.5223559483097\n",
      "Optimization restart 5/5, f = 1520.410272203217\n",
      "[[ 7.         19.3681818  24.26215122 70.          3.          1.5       ]]\n",
      "\n",
      "User function time loss called with 1 inputs to simulate\n",
      "\n",
      "Evaluating input: 1 of 1\n",
      "\n",
      " Retrying in 1 seconds\n"
     ]
    },
    {
     "name": "stderr",
     "output_type": "stream",
     "text": [
      " /Users/harrysonghurst/opt/anaconda3/envs/traffic/lib/python3.8/site-packages/paramz/transformations.py:111: RuntimeWarning:overflow encountered in expm1\n"
     ]
    },
    {
     "name": "stdout",
     "output_type": "stream",
     "text": [
      "Optimization restart 1/5, f = 1210.9765840691944\n"
     ]
    },
    {
     "name": "stderr",
     "output_type": "stream",
     "text": [
      " /Users/harrysonghurst/opt/anaconda3/envs/traffic/lib/python3.8/site-packages/GPy/kern/src/stationary.py:168: RuntimeWarning:overflow encountered in true_divide\n",
      " /Users/harrysonghurst/opt/anaconda3/envs/traffic/lib/python3.8/site-packages/GPy/kern/src/rbf.py:52: RuntimeWarning:overflow encountered in square\n",
      " /Users/harrysonghurst/opt/anaconda3/envs/traffic/lib/python3.8/site-packages/GPy/kern/src/rbf.py:76: RuntimeWarning:invalid value encountered in multiply\n"
     ]
    },
    {
     "name": "stdout",
     "output_type": "stream",
     "text": [
      "Optimization restart 2/5, f = 1428.4686202700814\n",
      "Optimization restart 3/5, f = 1210.9747629903918\n",
      "Optimization restart 4/5, f = 1210.9747629899377\n",
      "Optimization restart 5/5, f = 1210.9747629899496\n",
      "[[12.         14.60829002 22.82472445 30.          3.          5.        ]]\n",
      "\n",
      "User function time loss called with 1 inputs to simulate\n",
      "\n",
      "Evaluating input: 1 of 1\n",
      "\n",
      " Retrying in 1 seconds\n"
     ]
    },
    {
     "name": "stderr",
     "output_type": "stream",
     "text": [
      " /Users/harrysonghurst/opt/anaconda3/envs/traffic/lib/python3.8/site-packages/paramz/transformations.py:111: RuntimeWarning:overflow encountered in expm1\n"
     ]
    },
    {
     "name": "stdout",
     "output_type": "stream",
     "text": [
      "Optimization restart 1/5, f = 1215.7435324258058\n"
     ]
    },
    {
     "name": "stderr",
     "output_type": "stream",
     "text": [
      " /Users/harrysonghurst/opt/anaconda3/envs/traffic/lib/python3.8/site-packages/GPy/kern/src/rbf.py:52: RuntimeWarning:overflow encountered in square\n"
     ]
    },
    {
     "name": "stdout",
     "output_type": "stream",
     "text": [
      "Optimization restart 2/5, f = 1215.7431419492561\n",
      "Optimization restart 3/5, f = 1215.743141947176\n",
      "Optimization restart 4/5, f = 1215.743141949164\n",
      "Optimization restart 5/5, f = 1215.7431419471202\n",
      "[[ 9.         11.24761626 21.83652684 62.67998966  1.          4.00569031]]\n",
      "\n",
      "User function time loss called with 1 inputs to simulate\n",
      "\n",
      "Evaluating input: 1 of 1\n",
      "\n",
      " Retrying in 1 seconds\n"
     ]
    },
    {
     "name": "stderr",
     "output_type": "stream",
     "text": [
      " /Users/harrysonghurst/opt/anaconda3/envs/traffic/lib/python3.8/site-packages/paramz/transformations.py:111: RuntimeWarning:overflow encountered in expm1\n"
     ]
    },
    {
     "name": "stdout",
     "output_type": "stream",
     "text": [
      "Optimization restart 1/5, f = 1219.9375130712435\n",
      "Optimization restart 2/5, f = 1219.9368710837527\n",
      "Optimization restart 3/5, f = 1219.9368710738902\n",
      "Optimization restart 4/5, f = 1219.9368710767133\n",
      "Optimization restart 5/5, f = 1219.9368710739523\n",
      "[[ 8.         12.2647762  11.36626685 35.47963137  3.          1.5       ]]\n",
      "\n",
      "User function time loss called with 1 inputs to simulate\n",
      "\n",
      "Evaluating input: 1 of 1\n",
      "\n",
      " Retrying in 1 seconds\n"
     ]
    },
    {
     "name": "stderr",
     "output_type": "stream",
     "text": [
      " /Users/harrysonghurst/opt/anaconda3/envs/traffic/lib/python3.8/site-packages/paramz/transformations.py:111: RuntimeWarning:overflow encountered in expm1\n"
     ]
    },
    {
     "name": "stdout",
     "output_type": "stream",
     "text": [
      "Optimization restart 1/5, f = 1224.9396000395518\n",
      "Optimization restart 2/5, f = 1224.9366610986772\n",
      "Optimization restart 3/5, f = 1224.9366611559997\n",
      "Optimization restart 4/5, f = 1224.9366613797956\n",
      "Optimization restart 5/5, f = 1224.9366610985726\n",
      "[[ 3.          8.         12.14375404 51.69454986  3.          5.        ]]\n",
      "\n",
      "User function time loss called with 1 inputs to simulate\n",
      "\n",
      "Evaluating input: 1 of 1\n",
      "\n",
      " Retrying in 1 seconds\n"
     ]
    },
    {
     "name": "stderr",
     "output_type": "stream",
     "text": [
      " /Users/harrysonghurst/opt/anaconda3/envs/traffic/lib/python3.8/site-packages/paramz/transformations.py:111: RuntimeWarning:overflow encountered in expm1\n"
     ]
    },
    {
     "name": "stdout",
     "output_type": "stream",
     "text": [
      "Optimization restart 1/5, f = 1228.9085020035527\n",
      "Optimization restart 2/5, f = 1228.908516763233\n",
      "Optimization restart 3/5, f = 1228.9085003982168\n",
      "Optimization restart 4/5, f = 1228.9085011115533\n",
      "Optimization restart 5/5, f = 1228.9085003975663\n",
      "[[ 9.         23.4788471  18.80709067 62.07510366  3.          3.82986106]]\n",
      "\n",
      "User function time loss called with 1 inputs to simulate\n",
      "\n",
      "Evaluating input: 1 of 1\n",
      "\n",
      " Retrying in 1 seconds\n"
     ]
    },
    {
     "name": "stderr",
     "output_type": "stream",
     "text": [
      " /Users/harrysonghurst/opt/anaconda3/envs/traffic/lib/python3.8/site-packages/paramz/transformations.py:111: RuntimeWarning:overflow encountered in expm1\n"
     ]
    },
    {
     "name": "stdout",
     "output_type": "stream",
     "text": [
      "Optimization restart 1/5, f = 1232.9389503543223\n",
      "Optimization restart 2/5, f = 1232.938877794565\n",
      "Optimization restart 3/5, f = 1232.938877794741\n",
      "Optimization restart 4/5, f = 1232.9388778067723\n",
      "Optimization restart 5/5, f = 1232.938877942167\n",
      "[[ 3.         18.24414682 27.         48.08544476  3.          1.5       ]]\n",
      "\n",
      "User function time loss called with 1 inputs to simulate\n",
      "\n",
      "Evaluating input: 1 of 1\n",
      "\n",
      " Retrying in 1 seconds\n"
     ]
    },
    {
     "name": "stderr",
     "output_type": "stream",
     "text": [
      " /Users/harrysonghurst/opt/anaconda3/envs/traffic/lib/python3.8/site-packages/paramz/transformations.py:111: RuntimeWarning:overflow encountered in expm1\n"
     ]
    },
    {
     "name": "stdout",
     "output_type": "stream",
     "text": [
      "Optimization restart 1/5, f = 1237.179569619361\n"
     ]
    },
    {
     "name": "stderr",
     "output_type": "stream",
     "text": [
      " /Users/harrysonghurst/opt/anaconda3/envs/traffic/lib/python3.8/site-packages/GPy/kern/src/stationary.py:168: RuntimeWarning:overflow encountered in true_divide\n",
      " /Users/harrysonghurst/opt/anaconda3/envs/traffic/lib/python3.8/site-packages/GPy/kern/src/rbf.py:52: RuntimeWarning:overflow encountered in square\n",
      " /Users/harrysonghurst/opt/anaconda3/envs/traffic/lib/python3.8/site-packages/GPy/kern/src/rbf.py:76: RuntimeWarning:invalid value encountered in multiply\n"
     ]
    },
    {
     "name": "stdout",
     "output_type": "stream",
     "text": [
      "Optimization restart 2/5, f = 1434.8123401948865\n",
      "Optimization restart 3/5, f = 1563.3868880291366\n",
      "Optimization restart 4/5, f = 1237.1789002425126\n",
      "Optimization restart 5/5, f = 1237.178900223117\n",
      "[[18.         15.75943581  9.0397524  60.45773515  1.          3.57021968]]\n",
      "\n",
      "User function time loss called with 1 inputs to simulate\n",
      "\n",
      "Evaluating input: 1 of 1\n",
      "\n",
      " Retrying in 1 seconds\n"
     ]
    },
    {
     "name": "stderr",
     "output_type": "stream",
     "text": [
      " /Users/harrysonghurst/opt/anaconda3/envs/traffic/lib/python3.8/site-packages/paramz/transformations.py:111: RuntimeWarning:overflow encountered in expm1\n"
     ]
    },
    {
     "name": "stdout",
     "output_type": "stream",
     "text": [
      "Optimization restart 1/5, f = 1241.1418620972936\n",
      "Optimization restart 2/5, f = 1241.1417845645663\n",
      "Optimization restart 3/5, f = 1241.1417845644614\n",
      "Optimization restart 4/5, f = 1241.1417845645947\n",
      "Optimization restart 5/5, f = 1241.1417845691722\n",
      "[[ 3.         13.78284626  5.         30.          3.          3.54787231]]\n",
      "\n",
      "User function time loss called with 1 inputs to simulate\n",
      "\n",
      "Evaluating input: 1 of 1\n",
      "\n",
      " Retrying in 1 seconds\n"
     ]
    },
    {
     "name": "stderr",
     "output_type": "stream",
     "text": [
      " /Users/harrysonghurst/opt/anaconda3/envs/traffic/lib/python3.8/site-packages/paramz/transformations.py:111: RuntimeWarning:overflow encountered in expm1\n"
     ]
    },
    {
     "name": "stdout",
     "output_type": "stream",
     "text": [
      "Optimization restart 1/5, f = 1245.4888275895719\n",
      "Optimization restart 2/5, f = 1245.4878381296585\n",
      "Optimization restart 3/5, f = 1245.4878381290039\n",
      "Optimization restart 4/5, f = 1245.4878381290073\n",
      "Optimization restart 5/5, f = 1245.4878381299297\n",
      "[[15.         18.87523584 22.55171272 35.73077429  1.          3.53201351]]\n",
      "\n",
      "User function time loss called with 1 inputs to simulate\n",
      "\n",
      "Evaluating input: 1 of 1\n",
      "\n",
      " Retrying in 1 seconds\n"
     ]
    },
    {
     "name": "stderr",
     "output_type": "stream",
     "text": [
      " /Users/harrysonghurst/opt/anaconda3/envs/traffic/lib/python3.8/site-packages/paramz/transformations.py:111: RuntimeWarning:overflow encountered in expm1\n"
     ]
    },
    {
     "name": "stdout",
     "output_type": "stream",
     "text": [
      "Optimization restart 1/5, f = 1249.4097728957076\n",
      "Optimization restart 2/5, f = 1249.4097725105016\n",
      "Optimization restart 3/5, f = 1249.4097725056206\n",
      "Optimization restart 4/5, f = 1249.4097725118522\n",
      "Optimization restart 5/5, f = 1249.4097725057457\n",
      "[[20.         17.27111543  5.18795391 70.          3.          1.5       ]]\n",
      "\n",
      "User function time loss called with 1 inputs to simulate\n",
      "\n",
      "Evaluating input: 1 of 1\n",
      "\n",
      " Retrying in 1 seconds\n"
     ]
    },
    {
     "name": "stderr",
     "output_type": "stream",
     "text": [
      " /Users/harrysonghurst/opt/anaconda3/envs/traffic/lib/python3.8/site-packages/paramz/transformations.py:111: RuntimeWarning:overflow encountered in expm1\n"
     ]
    },
    {
     "name": "stdout",
     "output_type": "stream",
     "text": [
      "Optimization restart 1/5, f = 1253.4122474932115\n",
      "Optimization restart 2/5, f = 1253.412238005862\n",
      "Optimization restart 3/5, f = 1253.4122380038034\n",
      "Optimization restart 4/5, f = 1253.4122380040208\n",
      "Optimization restart 5/5, f = 1253.412238003866\n",
      "[[20.         20.9611198  20.24894898 70.          1.          5.        ]]\n",
      "\n",
      "User function time loss called with 1 inputs to simulate\n",
      "\n",
      "Evaluating input: 1 of 1\n",
      "\n",
      " Retrying in 1 seconds\n"
     ]
    },
    {
     "name": "stderr",
     "output_type": "stream",
     "text": [
      " /Users/harrysonghurst/opt/anaconda3/envs/traffic/lib/python3.8/site-packages/paramz/transformations.py:111: RuntimeWarning:overflow encountered in expm1\n"
     ]
    },
    {
     "name": "stdout",
     "output_type": "stream",
     "text": [
      "Optimization restart 1/5, f = 1257.5896505175665\n",
      "Optimization restart 2/5, f = 1257.5890678409369\n",
      "Optimization restart 3/5, f = 1257.5890678407538\n",
      "Optimization restart 4/5, f = 1257.5890678407861\n",
      "Optimization restart 5/5, f = 1257.589067840788\n",
      "[[20.          8.         10.11523753 34.09781467  3.          1.5       ]]\n",
      "\n",
      "User function time loss called with 1 inputs to simulate\n",
      "\n",
      "Evaluating input: 1 of 1\n",
      "\n",
      " Retrying in 1 seconds\n"
     ]
    },
    {
     "name": "stderr",
     "output_type": "stream",
     "text": [
      " /Users/harrysonghurst/opt/anaconda3/envs/traffic/lib/python3.8/site-packages/paramz/transformations.py:111: RuntimeWarning:overflow encountered in expm1\n"
     ]
    },
    {
     "name": "stdout",
     "output_type": "stream",
     "text": [
      "Optimization restart 1/5, f = 1261.6067606182016\n",
      "Optimization restart 2/5, f = 1261.6067603808053\n",
      "Optimization restart 3/5, f = 1261.6067603808347\n",
      "Optimization restart 4/5, f = 1261.6067603823649\n",
      "Optimization restart 5/5, f = 1261.6067603808515\n",
      "[[20.         25.         12.36955689 46.14035396  1.          5.        ]]\n",
      "\n",
      "User function time loss called with 1 inputs to simulate\n",
      "\n",
      "Evaluating input: 1 of 1\n",
      "\n",
      " Retrying in 1 seconds\n"
     ]
    },
    {
     "name": "stderr",
     "output_type": "stream",
     "text": [
      " /Users/harrysonghurst/opt/anaconda3/envs/traffic/lib/python3.8/site-packages/paramz/transformations.py:111: RuntimeWarning:overflow encountered in expm1\n"
     ]
    },
    {
     "name": "stdout",
     "output_type": "stream",
     "text": [
      "Optimization restart 1/5, f = 1265.5553534022686\n"
     ]
    },
    {
     "name": "stderr",
     "output_type": "stream",
     "text": [
      " /Users/harrysonghurst/opt/anaconda3/envs/traffic/lib/python3.8/site-packages/GPy/kern/src/rbf.py:52: RuntimeWarning:overflow encountered in square\n"
     ]
    },
    {
     "name": "stdout",
     "output_type": "stream",
     "text": [
      "Optimization restart 2/5, f = 1265.5553515158965\n",
      "Optimization restart 3/5, f = 1265.5553515160436\n",
      "Optimization restart 4/5, f = 1265.5553515158747\n",
      "Optimization restart 5/5, f = 1265.5553515178676\n",
      "[[ 8.         25.         19.45809856 49.5961538   1.          5.        ]]\n",
      "\n",
      "User function time loss called with 1 inputs to simulate\n",
      "\n",
      "Evaluating input: 1 of 1\n",
      "\n",
      " Retrying in 1 seconds\n"
     ]
    },
    {
     "name": "stderr",
     "output_type": "stream",
     "text": [
      " /Users/harrysonghurst/opt/anaconda3/envs/traffic/lib/python3.8/site-packages/paramz/transformations.py:111: RuntimeWarning:overflow encountered in expm1\n"
     ]
    },
    {
     "name": "stdout",
     "output_type": "stream",
     "text": [
      "Optimization restart 1/5, f = 1269.6075097359294\n",
      "Optimization restart 2/5, f = 1269.6074452097628\n"
     ]
    },
    {
     "name": "stderr",
     "output_type": "stream",
     "text": [
      " /Users/harrysonghurst/opt/anaconda3/envs/traffic/lib/python3.8/site-packages/GPy/kern/src/stationary.py:168: RuntimeWarning:overflow encountered in true_divide\n",
      " /Users/harrysonghurst/opt/anaconda3/envs/traffic/lib/python3.8/site-packages/GPy/kern/src/rbf.py:52: RuntimeWarning:overflow encountered in square\n",
      " /Users/harrysonghurst/opt/anaconda3/envs/traffic/lib/python3.8/site-packages/GPy/kern/src/rbf.py:76: RuntimeWarning:invalid value encountered in multiply\n"
     ]
    },
    {
     "name": "stdout",
     "output_type": "stream",
     "text": [
      "Optimization restart 3/5, f = 1504.7920123208714\n",
      "Optimization restart 4/5, f = 1269.6074452767962\n",
      "Optimization restart 5/5, f = 1269.607445371896\n",
      "[[ 7.          8.         17.68843766 30.          1.          3.05159785]]\n",
      "\n",
      "User function time loss called with 1 inputs to simulate\n",
      "\n",
      "Evaluating input: 1 of 1\n",
      "\n",
      " Retrying in 1 seconds\n"
     ]
    },
    {
     "name": "stderr",
     "output_type": "stream",
     "text": [
      " /Users/harrysonghurst/opt/anaconda3/envs/traffic/lib/python3.8/site-packages/paramz/transformations.py:111: RuntimeWarning:overflow encountered in expm1\n"
     ]
    },
    {
     "name": "stdout",
     "output_type": "stream",
     "text": [
      "Optimization restart 1/5, f = 1273.5698715856981\n",
      "Optimization restart 2/5, f = 1273.569869358412\n",
      "Optimization restart 3/5, f = 1273.5698695842166\n",
      "Optimization restart 4/5, f = 1273.569869448113\n",
      "Optimization restart 5/5, f = 1273.56986932488\n",
      "[[20.          8.         16.21957966 53.96946099  1.          5.        ]]\n",
      "\n",
      "User function time loss called with 1 inputs to simulate\n",
      "\n",
      "Evaluating input: 1 of 1\n",
      "\n",
      " Retrying in 1 seconds\n"
     ]
    },
    {
     "name": "stderr",
     "output_type": "stream",
     "text": [
      " /Users/harrysonghurst/opt/anaconda3/envs/traffic/lib/python3.8/site-packages/paramz/transformations.py:111: RuntimeWarning:overflow encountered in expm1\n"
     ]
    },
    {
     "name": "stdout",
     "output_type": "stream",
     "text": [
      "Optimization restart 1/5, f = 1277.5657085785401\n",
      "Optimization restart 2/5, f = 1277.5656908035699\n",
      "Optimization restart 3/5, f = 1277.5656922309915\n",
      "Optimization restart 4/5, f = 1277.5656907286873\n",
      "Optimization restart 5/5, f = 1277.5656907281066\n",
      "[[14.         22.4327007   8.70110434 44.87079056  1.          1.5       ]]\n",
      "\n",
      "User function time loss called with 1 inputs to simulate\n",
      "\n",
      "Evaluating input: 1 of 1\n",
      "\n",
      " Retrying in 1 seconds\n"
     ]
    },
    {
     "name": "stderr",
     "output_type": "stream",
     "text": [
      " /Users/harrysonghurst/opt/anaconda3/envs/traffic/lib/python3.8/site-packages/paramz/transformations.py:111: RuntimeWarning:overflow encountered in expm1\n"
     ]
    },
    {
     "name": "stdout",
     "output_type": "stream",
     "text": [
      "Optimization restart 1/5, f = 1281.5337415658005\n",
      "Optimization restart 2/5, f = 1281.5336130798123\n"
     ]
    },
    {
     "name": "stderr",
     "output_type": "stream",
     "text": [
      " /Users/harrysonghurst/opt/anaconda3/envs/traffic/lib/python3.8/site-packages/GPy/kern/src/stationary.py:168: RuntimeWarning:overflow encountered in true_divide\n",
      " /Users/harrysonghurst/opt/anaconda3/envs/traffic/lib/python3.8/site-packages/GPy/kern/src/rbf.py:52: RuntimeWarning:overflow encountered in square\n",
      " /Users/harrysonghurst/opt/anaconda3/envs/traffic/lib/python3.8/site-packages/GPy/kern/src/rbf.py:76: RuntimeWarning:invalid value encountered in multiply\n"
     ]
    },
    {
     "name": "stdout",
     "output_type": "stream",
     "text": [
      "Optimization restart 3/5, f = 1512.2247500146277\n",
      "Optimization restart 4/5, f = 1281.5336130723251\n",
      "Optimization restart 5/5, f = 1281.533611399917\n"
     ]
    }
   ],
   "source": [
    "ed_loop.run_loop(user_function_co2, 250)"
   ]
  },
  {
   "cell_type": "markdown",
   "metadata": {},
   "source": [
    "### Random GP\n",
    "\n",
    "Supervised learning"
   ]
  },
  {
   "cell_type": "code",
   "execution_count": 28,
   "metadata": {},
   "outputs": [
    {
     "name": "stdout",
     "output_type": "stream",
     "text": [
      "Optimization restart 1/50, f = 1215.6460638557614\n",
      "Optimization restart 2/50, f = 1215.646063931534\n",
      "Optimization restart 3/50, f = 1609.0461359920894\n",
      "Optimization restart 4/50, f = 1215.6460638575493\n",
      "Optimization restart 5/50, f = 1215.646063855508\n",
      "Optimization restart 6/50, f = 1609.046148844121\n",
      "Optimization restart 7/50, f = 1215.6460638563105\n",
      "Optimization restart 8/50, f = 1215.6460638582978\n",
      "Optimization restart 9/50, f = 1609.0461291583383\n",
      "Optimization restart 10/50, f = 1215.6460638555418\n",
      "Optimization restart 11/50, f = 1215.6460638557176\n",
      "Optimization restart 12/50, f = 1215.6460638567937\n",
      "Optimization restart 13/50, f = 1215.6460638556123\n",
      "Optimization restart 14/50, f = 1215.6460638563067\n",
      "Optimization restart 15/50, f = 1215.646063855534\n",
      "Optimization restart 16/50, f = 1215.6460638556994\n",
      "Optimization restart 17/50, f = 1609.0461344337118\n",
      "Optimization restart 18/50, f = 1215.6460638553885\n",
      "Optimization restart 19/50, f = 1215.6460638555757\n",
      "Optimization restart 20/50, f = 1215.6460638555252\n",
      "Optimization restart 21/50, f = 1215.6460638556964\n",
      "Optimization restart 22/50, f = 1215.646063859393\n",
      "Optimization restart 23/50, f = 1258.7887556626133\n",
      "Optimization restart 24/50, f = 1215.6460639204454\n",
      "Optimization restart 25/50, f = 1609.046128478109\n",
      "Optimization restart 26/50, f = 1215.7954575819676\n",
      "Optimization restart 27/50, f = 1215.646063855833\n"
     ]
    },
    {
     "name": "stderr",
     "output_type": "stream",
     "text": [
      " /Users/harrysonghurst/opt/anaconda3/envs/traffic/lib/python3.8/site-packages/paramz/transformations.py:108: RuntimeWarning:invalid value encountered in greater\n",
      " /Users/harrysonghurst/opt/anaconda3/envs/traffic/lib/python3.8/site-packages/paramz/transformations.py:113: RuntimeWarning:invalid value encountered in greater\n"
     ]
    },
    {
     "name": "stdout",
     "output_type": "stream",
     "text": [
      "Warning - optimization restart 28/50 failed\n",
      "Optimization restart 29/50, f = 1215.6460638571657\n",
      "Optimization restart 30/50, f = 1609.0461282250762\n",
      "Optimization restart 31/50, f = 1215.6460638769731\n",
      "Optimization restart 32/50, f = 1609.0461293161081\n",
      "Optimization restart 33/50, f = 1215.646063861138\n",
      "Optimization restart 34/50, f = 1215.6460638557078\n",
      "Optimization restart 35/50, f = 1215.6460638599833\n",
      "Optimization restart 36/50, f = 1215.646063856094\n",
      "Optimization restart 37/50, f = 1215.6460639156535\n",
      "Optimization restart 38/50, f = 1215.6460638562214\n",
      "Optimization restart 39/50, f = 1215.6460638554386\n",
      "Optimization restart 40/50, f = 1215.6460638554074\n",
      "Optimization restart 41/50, f = 1215.6460638642334\n",
      "Optimization restart 42/50, f = 1215.646063860853\n",
      "Optimization restart 43/50, f = 1424.3050391083952\n",
      "Optimization restart 44/50, f = 1215.646063855416\n",
      "Optimization restart 45/50, f = 1215.6460638574986\n",
      "Optimization restart 46/50, f = 1215.6460638573662\n",
      "Optimization restart 47/50, f = 1215.6460638555245\n",
      "Optimization restart 48/50, f = 1215.6460638836693\n",
      "Optimization restart 49/50, f = 1215.6460638554238\n",
      "Optimization restart 50/50, f = 1215.646064163076\n"
     ]
    },
    {
     "data": {
      "text/html": [
       "<style type=\"text/css\">\n",
       ".pd{\n",
       "    font-family: \"Courier New\", Courier, monospace !important;\n",
       "    width: 100%;\n",
       "    padding: 3px;\n",
       "}\n",
       "</style>\n",
       "\n",
       "<p class=pd>\n",
       "<b>Model</b>: GP regression<br>\n",
       "<b>Objective</b>: 1215.6460638553885<br>\n",
       "<b>Number of Parameters</b>: 3<br>\n",
       "<b>Number of Optimization Parameters</b>: 3<br>\n",
       "<b>Updates</b>: True<br>\n",
       "</p>\n",
       "<style type=\"text/css\">\n",
       ".tg  {font-family:\"Courier New\", Courier, monospace !important;padding:2px 3px;word-break:normal;border-collapse:collapse;border-spacing:0;border-color:#DCDCDC;margin:0px auto;width:100%;}\n",
       ".tg td{font-family:\"Courier New\", Courier, monospace !important;font-weight:bold;color:#444;background-color:#F7FDFA;border-style:solid;border-width:1px;overflow:hidden;word-break:normal;border-color:#DCDCDC;}\n",
       ".tg th{font-family:\"Courier New\", Courier, monospace !important;font-weight:normal;color:#fff;background-color:#26ADE4;border-style:solid;border-width:1px;overflow:hidden;word-break:normal;border-color:#DCDCDC;}\n",
       ".tg .tg-left{font-family:\"Courier New\", Courier, monospace !important;font-weight:normal;text-align:left;}\n",
       ".tg .tg-center{font-family:\"Courier New\", Courier, monospace !important;font-weight:normal;text-align:center;}\n",
       ".tg .tg-right{font-family:\"Courier New\", Courier, monospace !important;font-weight:normal;text-align:right;}\n",
       "</style>\n",
       "<table class=\"tg\"><tr><th><b>  GP_regression.         </b></th><th><b>             value</b></th><th><b>constraints</b></th><th><b>priors</b></th></tr>\n",
       "<tr><td class=tg-left>  rbf.variance           </td><td class=tg-right>149299.40286959006</td><td class=tg-center>    +ve    </td><td class=tg-center>      </td></tr>\n",
       "<tr><td class=tg-left>  rbf.lengthscale        </td><td class=tg-right>26.641767889590593</td><td class=tg-center>    +ve    </td><td class=tg-center>      </td></tr>\n",
       "<tr><td class=tg-left>  Gaussian_noise.variance</td><td class=tg-right>226.41291471145917</td><td class=tg-center>    +ve    </td><td class=tg-center>      </td></tr>\n",
       "</table>"
      ],
      "text/plain": [
       "<GPy.models.gp_regression.GPRegression at 0x7fbaf0852c10>"
      ]
     },
     "execution_count": 28,
     "metadata": {},
     "output_type": "execute_result"
    }
   ],
   "source": [
    "emulator_rnd = GPy.models.GPRegression(train_X, train_Y)\n",
    "emukit_model_rnd = GPyModelWrapper(emulator_rnd, n_restarts=50)\n",
    "emukit_model_rnd.optimize()\n",
    "emulator_rnd"
   ]
  },
  {
   "cell_type": "markdown",
   "metadata": {},
   "source": [
    "### Evaluate\n",
    "\n",
    "Evaluate RMSE of each model on our test set of 50 randomly selected points."
   ]
  },
  {
   "cell_type": "code",
   "execution_count": 29,
   "metadata": {},
   "outputs": [
    {
     "name": "stdout",
     "output_type": "stream",
     "text": [
      "Experimental Design w/ Model Variance RMSE:  19.681160404159662\n"
     ]
    }
   ],
   "source": [
    "pred_Y, pred_Y_variance = emukit_model_ed.predict(test_X)\n",
    "mse_ed = np.sqrt(np.mean((pred_Y-test_Y)**2))\n",
    "print('Experimental Design w/ Model Variance RMSE: ', mse_ed)"
   ]
  },
  {
   "cell_type": "code",
   "execution_count": 30,
   "metadata": {},
   "outputs": [
    {
     "name": "stdout",
     "output_type": "stream",
     "text": [
      "Experimental Design w/ Integrated Variance Reduction RMSE:  15.017247025212955\n"
     ]
    }
   ],
   "source": [
    "pred_Y, pred_Y_variance = emukit_model_ird.predict(test_X)\n",
    "mse_ird = np.sqrt(np.mean((pred_Y-test_Y)**2))\n",
    "print('Experimental Design w/ Integrated Variance Reduction RMSE: ', mse_ird)"
   ]
  },
  {
   "cell_type": "code",
   "execution_count": 31,
   "metadata": {},
   "outputs": [
    {
     "name": "stdout",
     "output_type": "stream",
     "text": [
      "Random GP RMSE:  19.354252524393146\n"
     ]
    }
   ],
   "source": [
    "pred_Y, pred_Y_variance = emukit_model_rnd.predict(test_X)\n",
    "mse_rnd = np.sqrt(np.mean((pred_Y-test_Y)**2))\n",
    "print('Random GP RMSE: ', mse_rnd)"
   ]
  },
  {
   "cell_type": "code",
   "execution_count": 32,
   "metadata": {},
   "outputs": [
    {
     "data": {
      "text/plain": [
       "'Experimental Design w/ Model Variance is -1.689% better than training on random points.'"
      ]
     },
     "execution_count": 32,
     "metadata": {},
     "output_type": "execute_result"
    }
   ],
   "source": [
    "p = 1 - (mse_ed/mse_rnd)\n",
    "f'Experimental Design w/ Model Variance is {p*100:.3f}% better than training on random points.'"
   ]
  },
  {
   "cell_type": "code",
   "execution_count": 33,
   "metadata": {},
   "outputs": [
    {
     "data": {
      "text/plain": [
       "'Experimental Design w/ Integrated Variance Reduction is 22.409% better than training on random points.'"
      ]
     },
     "execution_count": 33,
     "metadata": {},
     "output_type": "execute_result"
    }
   ],
   "source": [
    "p = 1 - (mse_ird/mse_rnd)\n",
    "f'Experimental Design w/ Integrated Variance Reduction is {p*100:.3f}% better than training on random points.'"
   ]
  },
  {
   "cell_type": "markdown",
   "metadata": {},
   "source": [
    "### Save Models"
   ]
  },
  {
   "cell_type": "code",
   "execution_count": 34,
   "metadata": {},
   "outputs": [],
   "source": [
    "with open(f'experimental_design/models/model_variance_20_init_points_250_loops_co2.pkl', \"wb\") as f:\n",
    "     pickle.dump(emukit_model_ed, f)\n",
    "\n",
    "with open(f'experimental_design/models/integrated_variance_reduction_20_init_points_250_loops_co2.pkl', \"wb\") as f:\n",
    "     pickle.dump(emukit_model_ird, f)\n",
    "        \n",
    "with open(f'experimental_design/models/270_random_points_supervised_GP_co2.pkl', \"wb\") as f:\n",
    "     pickle.dump(emukit_model_rnd, f)"
   ]
  }
 ],
 "metadata": {
  "kernelspec": {
   "display_name": "Python 3",
   "language": "python",
   "name": "python3"
  },
  "language_info": {
   "codemirror_mode": {
    "name": "ipython",
    "version": 3
   },
   "file_extension": ".py",
   "mimetype": "text/x-python",
   "name": "python",
   "nbconvert_exporter": "python",
   "pygments_lexer": "ipython3",
   "version": "3.8.3"
  }
 },
 "nbformat": 4,
 "nbformat_minor": 4
}
