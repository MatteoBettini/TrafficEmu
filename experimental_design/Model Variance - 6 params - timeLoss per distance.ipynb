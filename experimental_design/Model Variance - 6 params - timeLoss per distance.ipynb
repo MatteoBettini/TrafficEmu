{
 "cells": [
  {
   "cell_type": "code",
   "execution_count": 1,
   "metadata": {},
   "outputs": [
    {
     "name": "stdout",
     "output_type": "stream",
     "text": [
      "/Users/Matteo/PycharmProjects/TrafficEmu\n"
     ]
    }
   ],
   "source": [
    "%cd ../"
   ]
  },
  {
   "cell_type": "code",
   "execution_count": 2,
   "metadata": {},
   "outputs": [],
   "source": [
    "# If you get a SciPy error when installing Emukit, build it from source:\n",
    "\n",
    "# git clone https://github.com/amzn/Emukit.git\n",
    "# cd Emukit\n",
    "# pip install -r requirements/requirements.txt\n",
    "# python setup.py develop"
   ]
  },
  {
   "cell_type": "code",
   "execution_count": 3,
   "metadata": {},
   "outputs": [],
   "source": [
    "import numpy as np\n",
    "import pickle\n",
    "import emukit as ek\n",
    "import GPy\n",
    "\n",
    "from emukit.model_wrappers import GPyModelWrapper\n",
    "from emukit.experimental_design.experimental_design_loop import ExperimentalDesignLoop\n",
    "from emukit.core import ParameterSpace, ContinuousParameter, DiscreteParameter\n",
    "from emukit.core.initial_designs import RandomDesign, latin_design\n",
    "from emukit.experimental_design.acquisitions import ModelVariance, IntegratedVarianceReduction\n",
    "from emukit.core.loop import UserFunctionWrapper\n",
    "from emukit.bayesian_optimization.acquisitions import ExpectedImprovement\n",
    "from emukit.bayesian_optimization.loops import BayesianOptimizationLoop\n",
    "from emukit.core.optimization import GradientAcquisitionOptimizer\n",
    "\n",
    "from sumo_grid_simulation.grid_simulation import Simulator"
   ]
  },
  {
   "cell_type": "markdown",
   "metadata": {},
   "source": [
    "### Pseudocode\n",
    "\n",
    "Fitting a gaussian process to a simulator using Emukit takes the following form (taken from L48 lectures):\n",
    "\n",
    "```\n",
    "initialize GP with some randomly chosen points\n",
    "while stopping condition is not met:\n",
    "    compute candidate point(s) using GP and acquisition funciton (model_variance) -> new point\n",
    "    evaluate this new point with our simulator/user function -> observation\n",
    "    update model with new observation -> new GP\n",
    "```"
   ]
  },
  {
   "cell_type": "markdown",
   "metadata": {},
   "source": [
    "### Simulator"
   ]
  },
  {
   "cell_type": "code",
   "execution_count": 4,
   "metadata": {},
   "outputs": [],
   "source": [
    "# trips_generator_period = 5 else simulation is v. slow\n",
    "simulator = Simulator(trips_generator_period=5, end_time=300)"
   ]
  },
  {
   "cell_type": "markdown",
   "metadata": {},
   "source": [
    "### User Function\n",
    " \n",
    "This is the function we want to understand. Namedly, how are CO2 emissions and timeLoss (the time lost due to driving below the ideal speed) affected by the following parameters: \n",
    "\n",
    "```\n",
    "gridSize: the size of the grid network where the simulation is carried out\n",
    "edgeMaxSpeed: legal speed limit in m/s - this can be exceeded (11.11 == 40km/h)\n",
    "maxSpeed: the absolute maximum velocity of any vehicle in m/s (55.55 == 200 km/h)\n",
    "edgeLength: length of the roads between intersections in meters\n",
    "numLanes: number of lanes per road\n",
    "accel: The acceleration ability of vehicles in m/s^2.\n",
    "```\n",
    "\n",
    "*A complete list of parmeters analysed is discussed in our report.*"
   ]
  },
  {
   "cell_type": "code",
   "execution_count": 13,
   "metadata": {},
   "outputs": [],
   "source": [
    "def user_function_time_loss(X):\n",
    "    \"\"\"  X = inputs - emukit doesnt pass named args, just an NxM ndarray, N is the number of points to evaluate, M is the number of parameters per each point \"\"\"\n",
    "    result = []\n",
    "    i = 0\n",
    "    \n",
    "    print(f'\\nUser function called with {X.shape[0]} inputs to simulate')\n",
    "\n",
    "    \n",
    "    for gridSize, edgeMaxSpeed, maxSpeed, edgeLength, numLanes, accel in X:\n",
    "        print(f'\\nEvaluating input: {i+1} of {X.shape[0]}\\n')\n",
    "        s = simulator.simulate(\n",
    "            gridSize      = int(gridSize),\n",
    "            edgeMaxSpeed  = edgeMaxSpeed,\n",
    "            maxSpeed      = maxSpeed,\n",
    "            edgeLength    = int(edgeLength),\n",
    "            numberOfLanes = int(numLanes),\n",
    "            accel         = accel\n",
    "        )\n",
    "        # average time loss / average route length\n",
    "        result.append(s['timeLoss']/s['routeLength'])\n",
    "        i += 1\n",
    "        \n",
    "    # expand dims is essential or the acquition function breaks\n",
    "    return np.expand_dims(np.array(result), 1)  "
   ]
  },
  {
   "cell_type": "markdown",
   "metadata": {},
   "source": [
    "### Model (GP)"
   ]
  },
  {
   "cell_type": "markdown",
   "metadata": {},
   "source": [
    "Our surrogate model is our emulator. In this case, a gaussian process. I think that emukit handles categorical/discrete inputs using one-hot encodings."
   ]
  },
  {
   "cell_type": "markdown",
   "metadata": {},
   "source": [
    "#### Model Inputs"
   ]
  },
  {
   "cell_type": "code",
   "execution_count": 14,
   "metadata": {},
   "outputs": [],
   "source": [
    "# gridSize = ContinuousParameter('gridSize', min_value=3, max_value=20)\n",
    "# edgeMaxSpeed = ContinuousParameter('edgeMaxSpeed', min_value=1, max_value=25)\n",
    "# maxSpeed = ContinuousParameter('maxSpeed', min_value=1, max_value=25)\n",
    "# edgeLength = ContinuousParameter('edgeLength', min_value=30, max_value=200)\n",
    "# numberOfLanes = DiscreteParameter('numberOfLanes', domain=[1,2,3])\n",
    "# accel = ContinuousParameter('accel', 1., 6.)\n",
    "\n",
    "# parameter_space = ParameterSpace([gridSize, edgeMaxSpeed, maxSpeed, edgeLength, numberOfLanes, accel])\n",
    "import experimental_design.config as config\n",
    "parameter_space = config.get_parameter_space()"
   ]
  },
  {
   "cell_type": "markdown",
   "metadata": {},
   "source": [
    "#### Initialize Model / Emulator (GP)"
   ]
  },
  {
   "cell_type": "code",
   "execution_count": 15,
   "metadata": {},
   "outputs": [
    {
     "name": "stdout",
     "output_type": "stream",
     "text": [
      "(2000, 6) (2000, 1)\n"
     ]
    }
   ],
   "source": [
    "init_X, init_Y = pickle.load(open('experimental_design/2000_init_points_6_param.pkl', 'rb')) # load 2000 init points\n",
    "# init_X, init_Y = pickle.load(open('experimental_design/250_init_points_6_param.pkl', 'rb')) load 250 init points\n",
    "\n",
    "\n",
    "'''\n",
    "design = RandomDesign(parameter_space)  # initialize with random points\n",
    "num_data_points = 2000\n",
    "init_X = design.get_samples(num_data_points)\n",
    "init_Y = user_function_time_loss(init_X)\n",
    "with open('2000_init_points_6_param.pkl', \"wb\") as f:\n",
    "      pickle.dump((init_X, init_Y), f)\n",
    "'''\n",
    "\n",
    "print(init_X.shape, init_Y.shape)"
   ]
  },
  {
   "cell_type": "code",
   "execution_count": 16,
   "metadata": {},
   "outputs": [
    {
     "data": {
      "text/html": [
       "<style type=\"text/css\">\n",
       ".pd{\n",
       "    font-family: \"Courier New\", Courier, monospace !important;\n",
       "    width: 100%;\n",
       "    padding: 3px;\n",
       "}\n",
       "</style>\n",
       "\n",
       "<p class=pd>\n",
       "<b>Model</b>: GP regression<br>\n",
       "<b>Objective</b>: 2534.4911325805338<br>\n",
       "<b>Number of Parameters</b>: 3<br>\n",
       "<b>Number of Optimization Parameters</b>: 3<br>\n",
       "<b>Updates</b>: True<br>\n",
       "</p>\n",
       "<style type=\"text/css\">\n",
       ".tg  {font-family:\"Courier New\", Courier, monospace !important;padding:2px 3px;word-break:normal;border-collapse:collapse;border-spacing:0;border-color:#DCDCDC;margin:0px auto;width:100%;}\n",
       ".tg td{font-family:\"Courier New\", Courier, monospace !important;font-weight:bold;color:#444;background-color:#F7FDFA;border-style:solid;border-width:1px;overflow:hidden;word-break:normal;border-color:#DCDCDC;}\n",
       ".tg th{font-family:\"Courier New\", Courier, monospace !important;font-weight:normal;color:#fff;background-color:#26ADE4;border-style:solid;border-width:1px;overflow:hidden;word-break:normal;border-color:#DCDCDC;}\n",
       ".tg .tg-left{font-family:\"Courier New\", Courier, monospace !important;font-weight:normal;text-align:left;}\n",
       ".tg .tg-center{font-family:\"Courier New\", Courier, monospace !important;font-weight:normal;text-align:center;}\n",
       ".tg .tg-right{font-family:\"Courier New\", Courier, monospace !important;font-weight:normal;text-align:right;}\n",
       "</style>\n",
       "<table class=\"tg\"><tr><th><b>  GP_regression.         </b></th><th><b>value</b></th><th><b>constraints</b></th><th><b>priors</b></th></tr>\n",
       "<tr><td class=tg-left>  rbf.variance           </td><td class=tg-right>  1.0</td><td class=tg-center>    +ve    </td><td class=tg-center>      </td></tr>\n",
       "<tr><td class=tg-left>  rbf.lengthscale        </td><td class=tg-right>  1.0</td><td class=tg-center>    +ve    </td><td class=tg-center>      </td></tr>\n",
       "<tr><td class=tg-left>  Gaussian_noise.variance</td><td class=tg-right>  1.0</td><td class=tg-center>    +ve    </td><td class=tg-center>      </td></tr>\n",
       "</table>"
      ],
      "text/plain": [
       "<GPy.models.gp_regression.GPRegression at 0x7f9280e665b0>"
      ]
     },
     "execution_count": 16,
     "metadata": {},
     "output_type": "execute_result"
    }
   ],
   "source": [
    "# emulator = pickle.load(open('experimental_design_timeLoss_50_iter_batch_size_3.pkl',\"rb\"))\n",
    "emulator = GPy.models.GPRegression(init_X, init_Y)\n",
    "emukit_model = GPyModelWrapper(emulator)\n",
    "emulator"
   ]
  },
  {
   "cell_type": "markdown",
   "metadata": {},
   "source": [
    "### Optimization"
   ]
  },
  {
   "cell_type": "markdown",
   "metadata": {},
   "source": [
    "#### Acquisition Function"
   ]
  },
  {
   "cell_type": "code",
   "execution_count": 17,
   "metadata": {},
   "outputs": [],
   "source": [
    "model_variance = ModelVariance(model=emukit_model)"
   ]
  },
  {
   "cell_type": "markdown",
   "metadata": {},
   "source": [
    "#### Optimizer"
   ]
  },
  {
   "cell_type": "code",
   "execution_count": 18,
   "metadata": {},
   "outputs": [],
   "source": [
    "optimizer = GradientAcquisitionOptimizer(parameter_space)"
   ]
  },
  {
   "cell_type": "markdown",
   "metadata": {},
   "source": [
    "#### Experimental Design"
   ]
  },
  {
   "cell_type": "code",
   "execution_count": 19,
   "metadata": {},
   "outputs": [],
   "source": [
    "ed_loop = ExperimentalDesignLoop(\n",
    "    model = emukit_model,\n",
    "    space = parameter_space,\n",
    "    acquisition = model_variance,\n",
    "    acquisition_optimizer = optimizer,\n",
    "    batch_size = 1\n",
    ")"
   ]
  },
  {
   "cell_type": "code",
   "execution_count": null,
   "metadata": {
    "scrolled": true
   },
   "outputs": [
    {
     "name": "stdout",
     "output_type": "stream",
     "text": [
      "Optimization restart 1/1, f = -4217.65121277893\n",
      "\n",
      "User function called with 1 inputs to simulate \n",
      "\n",
      "\n",
      "Evaluating input: 1 of 1\n",
      "\n",
      " Retrying in 1 seconds\n"
     ]
    },
    {
     "name": "stderr",
     "output_type": "stream",
     "text": [
      " /Users/Matteo/opt/anaconda3/envs/ml_and_physical/lib/python3.8/site-packages/paramz/transformations.py:111: RuntimeWarning:overflow encountered in expm1\n"
     ]
    },
    {
     "name": "stdout",
     "output_type": "stream",
     "text": [
      "Optimization restart 1/1, f = -4216.589455953628\n",
      "\n",
      "User function called with 1 inputs to simulate \n",
      "\n",
      "\n",
      "Evaluating input: 1 of 1\n",
      "\n",
      " Retrying in 1 seconds\n"
     ]
    },
    {
     "name": "stderr",
     "output_type": "stream",
     "text": [
      " /Users/Matteo/opt/anaconda3/envs/ml_and_physical/lib/python3.8/site-packages/paramz/transformations.py:111: RuntimeWarning:overflow encountered in expm1\n"
     ]
    },
    {
     "name": "stdout",
     "output_type": "stream",
     "text": [
      "Optimization restart 1/1, f = -4217.677709905973\n",
      "\n",
      "User function called with 1 inputs to simulate \n",
      "\n",
      "\n",
      "Evaluating input: 1 of 1\n",
      "\n",
      " Retrying in 1 seconds\n"
     ]
    },
    {
     "name": "stderr",
     "output_type": "stream",
     "text": [
      " /Users/Matteo/opt/anaconda3/envs/ml_and_physical/lib/python3.8/site-packages/paramz/transformations.py:111: RuntimeWarning:overflow encountered in expm1\n"
     ]
    },
    {
     "name": "stdout",
     "output_type": "stream",
     "text": [
      "Optimization restart 1/1, f = -4219.2470545538845\n",
      "\n",
      "User function called with 1 inputs to simulate \n",
      "\n",
      "\n",
      "Evaluating input: 1 of 1\n",
      "\n",
      " Retrying in 1 seconds\n"
     ]
    },
    {
     "name": "stderr",
     "output_type": "stream",
     "text": [
      " /Users/Matteo/opt/anaconda3/envs/ml_and_physical/lib/python3.8/site-packages/paramz/transformations.py:111: RuntimeWarning:overflow encountered in expm1\n"
     ]
    },
    {
     "name": "stdout",
     "output_type": "stream",
     "text": [
      "Optimization restart 1/1, f = -4220.585377265888\n",
      "\n",
      "User function called with 1 inputs to simulate \n",
      "\n",
      "\n",
      "Evaluating input: 1 of 1\n",
      "\n",
      " Retrying in 1 seconds\n"
     ]
    },
    {
     "name": "stderr",
     "output_type": "stream",
     "text": [
      " /Users/Matteo/opt/anaconda3/envs/ml_and_physical/lib/python3.8/site-packages/paramz/transformations.py:111: RuntimeWarning:overflow encountered in expm1\n"
     ]
    },
    {
     "name": "stdout",
     "output_type": "stream",
     "text": [
      "Optimization restart 1/1, f = -4222.1092932633455\n",
      "\n",
      "User function called with 1 inputs to simulate \n",
      "\n",
      "\n",
      "Evaluating input: 1 of 1\n",
      "\n",
      " Retrying in 1 seconds\n"
     ]
    },
    {
     "name": "stderr",
     "output_type": "stream",
     "text": [
      " /Users/Matteo/opt/anaconda3/envs/ml_and_physical/lib/python3.8/site-packages/paramz/transformations.py:111: RuntimeWarning:overflow encountered in expm1\n"
     ]
    },
    {
     "name": "stdout",
     "output_type": "stream",
     "text": [
      "Optimization restart 1/1, f = -4212.6201924295965\n",
      "\n",
      "User function called with 1 inputs to simulate \n",
      "\n",
      "\n",
      "Evaluating input: 1 of 1\n",
      "\n",
      " Retrying in 1 seconds\n"
     ]
    },
    {
     "name": "stderr",
     "output_type": "stream",
     "text": [
      " /Users/Matteo/opt/anaconda3/envs/ml_and_physical/lib/python3.8/site-packages/paramz/transformations.py:111: RuntimeWarning:overflow encountered in expm1\n"
     ]
    },
    {
     "name": "stdout",
     "output_type": "stream",
     "text": [
      "Optimization restart 1/1, f = -4214.024002364861\n",
      "\n",
      "User function called with 1 inputs to simulate \n",
      "\n",
      "\n",
      "Evaluating input: 1 of 1\n",
      "\n",
      " Retrying in 1 seconds\n"
     ]
    },
    {
     "name": "stderr",
     "output_type": "stream",
     "text": [
      " /Users/Matteo/opt/anaconda3/envs/ml_and_physical/lib/python3.8/site-packages/paramz/transformations.py:111: RuntimeWarning:overflow encountered in expm1\n"
     ]
    },
    {
     "name": "stdout",
     "output_type": "stream",
     "text": [
      "Optimization restart 1/1, f = -4211.9687070119135\n",
      "\n",
      "User function called with 1 inputs to simulate \n",
      "\n",
      "\n",
      "Evaluating input: 1 of 1\n",
      "\n",
      " Retrying in 1 seconds\n"
     ]
    },
    {
     "name": "stderr",
     "output_type": "stream",
     "text": [
      " /Users/Matteo/opt/anaconda3/envs/ml_and_physical/lib/python3.8/site-packages/paramz/transformations.py:111: RuntimeWarning:overflow encountered in expm1\n"
     ]
    },
    {
     "name": "stdout",
     "output_type": "stream",
     "text": [
      "Optimization restart 1/1, f = -4212.808829661773\n",
      "\n",
      "User function called with 1 inputs to simulate \n",
      "\n",
      "\n",
      "Evaluating input: 1 of 1\n",
      "\n",
      " Retrying in 1 seconds\n"
     ]
    },
    {
     "name": "stderr",
     "output_type": "stream",
     "text": [
      " /Users/Matteo/opt/anaconda3/envs/ml_and_physical/lib/python3.8/site-packages/paramz/transformations.py:111: RuntimeWarning:overflow encountered in expm1\n"
     ]
    },
    {
     "name": "stdout",
     "output_type": "stream",
     "text": [
      "Optimization restart 1/1, f = -4213.519162101413\n",
      "\n",
      "User function called with 1 inputs to simulate \n",
      "\n",
      "\n",
      "Evaluating input: 1 of 1\n",
      "\n",
      " Retrying in 1 seconds\n"
     ]
    },
    {
     "name": "stderr",
     "output_type": "stream",
     "text": [
      " /Users/Matteo/opt/anaconda3/envs/ml_and_physical/lib/python3.8/site-packages/paramz/transformations.py:111: RuntimeWarning:overflow encountered in expm1\n"
     ]
    },
    {
     "name": "stdout",
     "output_type": "stream",
     "text": [
      "Optimization restart 1/1, f = -4213.552163747106\n",
      "\n",
      "User function called with 1 inputs to simulate \n",
      "\n",
      "\n",
      "Evaluating input: 1 of 1\n",
      "\n",
      " Retrying in 1 seconds\n"
     ]
    },
    {
     "name": "stderr",
     "output_type": "stream",
     "text": [
      " /Users/Matteo/opt/anaconda3/envs/ml_and_physical/lib/python3.8/site-packages/paramz/transformations.py:111: RuntimeWarning:overflow encountered in expm1\n"
     ]
    },
    {
     "name": "stdout",
     "output_type": "stream",
     "text": [
      "Optimization restart 1/1, f = -4174.910006198291\n",
      "\n",
      "User function called with 1 inputs to simulate \n",
      "\n",
      "\n",
      "Evaluating input: 1 of 1\n",
      "\n",
      " Retrying in 1 seconds\n"
     ]
    },
    {
     "name": "stderr",
     "output_type": "stream",
     "text": [
      " /Users/Matteo/opt/anaconda3/envs/ml_and_physical/lib/python3.8/site-packages/paramz/transformations.py:111: RuntimeWarning:overflow encountered in expm1\n"
     ]
    },
    {
     "name": "stdout",
     "output_type": "stream",
     "text": [
      "Optimization restart 1/1, f = -4176.534828999343\n",
      "\n",
      "User function called with 1 inputs to simulate \n",
      "\n",
      "\n",
      "Evaluating input: 1 of 1\n",
      "\n",
      " Retrying in 1 seconds\n"
     ]
    },
    {
     "name": "stderr",
     "output_type": "stream",
     "text": [
      " /Users/Matteo/opt/anaconda3/envs/ml_and_physical/lib/python3.8/site-packages/paramz/transformations.py:111: RuntimeWarning:overflow encountered in expm1\n"
     ]
    },
    {
     "name": "stdout",
     "output_type": "stream",
     "text": [
      "Optimization restart 1/1, f = -4178.013148044403\n",
      "\n",
      "User function called with 1 inputs to simulate \n",
      "\n",
      "\n",
      "Evaluating input: 1 of 1\n",
      "\n",
      " Retrying in 1 seconds\n"
     ]
    },
    {
     "name": "stderr",
     "output_type": "stream",
     "text": [
      " /Users/Matteo/opt/anaconda3/envs/ml_and_physical/lib/python3.8/site-packages/paramz/transformations.py:111: RuntimeWarning:overflow encountered in expm1\n"
     ]
    },
    {
     "name": "stdout",
     "output_type": "stream",
     "text": [
      "Optimization restart 1/1, f = -4179.917159133824\n",
      "\n",
      "User function called with 1 inputs to simulate \n",
      "\n",
      "\n",
      "Evaluating input: 1 of 1\n",
      "\n",
      " Retrying in 1 seconds\n"
     ]
    },
    {
     "name": "stderr",
     "output_type": "stream",
     "text": [
      " /Users/Matteo/opt/anaconda3/envs/ml_and_physical/lib/python3.8/site-packages/paramz/transformations.py:111: RuntimeWarning:overflow encountered in expm1\n"
     ]
    }
   ],
   "source": [
    "ed_loop.run_loop(user_function_time_loss, 100)"
   ]
  },
  {
   "cell_type": "markdown",
   "metadata": {},
   "source": [
    "### Evaluate"
   ]
  },
  {
   "cell_type": "markdown",
   "metadata": {},
   "source": [
    "#### Test on 25 point test set"
   ]
  },
  {
   "cell_type": "code",
   "execution_count": null,
   "metadata": {},
   "outputs": [],
   "source": [
    "test_X, test_Y = pickle.load(open('experimental_design/test_points_6_param.pkl', 'rb'))\n",
    "\n",
    "'''\n",
    "design = RandomDesign(parameter_space)  # initialize with random points\n",
    "num_data_points = 25\n",
    "test_X = design.get_samples(num_data_points)\n",
    "test_Y = user_function_time_loss(test_X)\n",
    "with open('test_points_6_param.pkl', \"wb\") as f:\n",
    "      pickle.dump((test_X, test_Y), f)\n",
    "'''"
   ]
  },
  {
   "cell_type": "code",
   "execution_count": null,
   "metadata": {},
   "outputs": [],
   "source": [
    "pred_Y, pred_Y_variance = emukit_model.predict(test_X)\n",
    "mse = np.sqrt(np.mean((pred_Y-test_Y)**2))\n",
    "print('Root mean squared error: ', mse)"
   ]
  },
  {
   "cell_type": "code",
   "execution_count": null,
   "metadata": {},
   "outputs": [],
   "source": [
    "pred_Y, test_Y"
   ]
  },
  {
   "cell_type": "markdown",
   "metadata": {},
   "source": [
    "### Save Model"
   ]
  },
  {
   "cell_type": "code",
   "execution_count": null,
   "metadata": {},
   "outputs": [],
   "source": [
    "with open('timeLoss_model_variance_100_iter_batch_size_1.pkl', \"wb\") as f:\n",
    "     pickle.dump(emulator, f)"
   ]
  },
  {
   "cell_type": "markdown",
   "metadata": {},
   "source": [
    "### Analysis\n",
    "\n",
    "As we can see, optimizing for model_variance causes emukit to alternate between extreme choices of \\[gridSize, edgeMaxSpeed, maxSpeed, numberOfLanes, accel\\] whilst only varying edgeLength sensibly. This means that we don't explore the parameter space comprehensively - which is undesirable."
   ]
  }
 ],
 "metadata": {
  "kernelspec": {
   "display_name": "ml_and_physical",
   "language": "python",
   "name": "ml_and_physical"
  },
  "language_info": {
   "codemirror_mode": {
    "name": "ipython",
    "version": 3
   },
   "file_extension": ".py",
   "mimetype": "text/x-python",
   "name": "python",
   "nbconvert_exporter": "python",
   "pygments_lexer": "ipython3",
   "version": "3.8.5"
  }
 },
 "nbformat": 4,
 "nbformat_minor": 4
}