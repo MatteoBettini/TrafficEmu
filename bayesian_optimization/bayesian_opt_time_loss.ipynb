{
 "cells": [
  {
   "cell_type": "code",
   "execution_count": 1,
   "metadata": {},
   "outputs": [
    {
     "name": "stdout",
     "output_type": "stream",
     "text": [
      "/Users/Matteo/PycharmProjects/TrafficEmu\n"
     ]
    }
   ],
   "source": [
    "%cd .."
   ]
  },
  {
   "cell_type": "markdown",
   "metadata": {},
   "source": [
    "# Bayesian optimization: finding the minimum time loss"
   ]
  },
  {
   "cell_type": "markdown",
   "metadata": {},
   "source": [
    "In this notebook we will performing bayesian optimization on the emulator trained on our sumo simulation. We are interested in identifying the parameters which enable us to obtain the minimum travel time. Our emulator is a gaussian process with an **rbf** kernel.\n"
   ]
  },
  {
   "cell_type": "markdown",
   "metadata": {},
   "source": [
    "## Imports"
   ]
  },
  {
   "cell_type": "code",
   "execution_count": 2,
   "metadata": {},
   "outputs": [],
   "source": [
    "import pickle\n",
    "import numpy as np\n",
    "import emukit as ek\n",
    "import GPy\n",
    "\n",
    "from emukit.model_wrappers import GPyModelWrapper\n",
    "from emukit.core.initial_designs import RandomDesign\n",
    "from emukit.bayesian_optimization.acquisitions import ExpectedImprovement\n",
    "from emukit.bayesian_optimization.loops import BayesianOptimizationLoop\n",
    "\n",
    "from experimental_design import config\n",
    "from sumo_grid_simulation.grid_simulation import Simulator"
   ]
  },
  {
   "cell_type": "markdown",
   "metadata": {},
   "source": [
    "## Simulator"
   ]
  },
  {
   "cell_type": "markdown",
   "metadata": {},
   "source": [
    "We start by initialising our simulation."
   ]
  },
  {
   "cell_type": "code",
   "execution_count": 3,
   "metadata": {},
   "outputs": [],
   "source": [
    "# trips_generator_period = 5 else simulation is v. slow\n",
    "simulator = Simulator(trips_generator_period=5, end_time=300)"
   ]
  },
  {
   "cell_type": "markdown",
   "metadata": {},
   "source": [
    "We then define the two user functions in which we are interested:"
   ]
  },
  {
   "cell_type": "code",
   "execution_count": 4,
   "metadata": {},
   "outputs": [],
   "source": [
    "def user_function_time_loss(X):\n",
    "    # X = inputs - emukit doesnt pass named args, just an NxM ndarray, \n",
    "    # N is the number of points to evaluate, M is the number of parameters per each point\n",
    "    \n",
    "    result = []\n",
    "    i = 0\n",
    "    \n",
    "    print(X)\n",
    "    print(f'\\nUser function time loss called with {X.shape[0]} inputs to simulate')\n",
    "    \n",
    "    for gridSize, edgeMaxSpeed, maxSpeed, edgeLength, numLanes, accel in X:\n",
    "        print(f'\\nEvaluating input: {i+1} of {X.shape[0]}\\n')\n",
    "        s = simulator.simulate(\n",
    "            gridSize      = int(gridSize),\n",
    "            edgeMaxSpeed  = edgeMaxSpeed,\n",
    "            maxSpeed      = maxSpeed,\n",
    "            edgeLength    = int(edgeLength),\n",
    "            numberOfLanes = int(numLanes),\n",
    "            accel         = accel\n",
    "        )\n",
    "        # average time loss / average route length\n",
    "        result.append(s['timeLoss']/s['routeLength'])\n",
    "        i += 1\n",
    "        \n",
    "    # expand dims is essential or the acquition function breaks\n",
    "    return np.expand_dims(np.array(result), 1)  "
   ]
  },
  {
   "cell_type": "code",
   "execution_count": 5,
   "metadata": {},
   "outputs": [],
   "source": [
    "def user_function_emissions(X):\n",
    "    # X = inputs - emukit doesnt pass named args, just an NxM ndarray, \n",
    "    # N is the number of points to evaluate, M is the number of parameters per each point\n",
    "    \n",
    "    result = []\n",
    "    i = 0\n",
    "    \n",
    "    print(X)\n",
    "    print(f'\\nUser function emissions called with {X.shape[0]} inputs to simulate')\n",
    "    \n",
    "    for gridSize, edgeMaxSpeed, maxSpeed, edgeLength, numLanes, accel in X:\n",
    "        print(f'\\nEvaluating input: {i+1} of {X.shape[0]}\\n')\n",
    "        s = simulator.simulate(\n",
    "            gridSize      = int(gridSize),\n",
    "            edgeMaxSpeed  = edgeMaxSpeed,\n",
    "            maxSpeed      = maxSpeed,\n",
    "            edgeLength    = int(edgeLength),\n",
    "            numberOfLanes = int(numLanes),\n",
    "            accel         = accel\n",
    "        )\n",
    "        # average time loss / average route length\n",
    "        result.append(s['CO2']/s['routeLength'])\n",
    "        i += 1\n",
    "        \n",
    "    # expand dims is essential or the acquition function breaks\n",
    "    return np.expand_dims(np.array(result), 1)  "
   ]
  },
  {
   "cell_type": "markdown",
   "metadata": {},
   "source": [
    "We then load the parameters' space from our configuration file:"
   ]
  },
  {
   "cell_type": "code",
   "execution_count": 6,
   "metadata": {},
   "outputs": [],
   "source": [
    "parameter_space = config.get_parameter_space()"
   ]
  },
  {
   "cell_type": "markdown",
   "metadata": {},
   "source": [
    "## Emulator"
   ]
  },
  {
   "cell_type": "markdown",
   "metadata": {},
   "source": [
    "### Rnadomly initialised emulator"
   ]
  },
  {
   "cell_type": "markdown",
   "metadata": {},
   "source": [
    "The first emulator we are going to analyse is the one that is just initilised with random points"
   ]
  },
  {
   "cell_type": "markdown",
   "metadata": {},
   "source": [
    "We first sample at random 25 datapoints from the parameter space:"
   ]
  },
  {
   "cell_type": "code",
   "execution_count": 7,
   "metadata": {},
   "outputs": [
    {
     "data": {
      "text/plain": [
       "'\\ndesign = RandomDesign(parameter_space)  # initialize with random points\\nnum_init_points = 5\\ninit_X = design.get_samples(num_init_points)\\ninit_Y = user_function_time_loss(init_X)\\nwith open(f\\'experimental_design/init_points/{num_init_points}_init_points.pkl\\', \"wb\") as f:\\n      pickle.dump((init_X, init_Y), f)\\n\\n'"
      ]
     },
     "execution_count": 7,
     "metadata": {},
     "output_type": "execute_result"
    }
   ],
   "source": [
    "init_X, init_Y = pickle.load(open('experimental_design/init_points/25_init_points.pkl', 'rb'))\n",
    "\n",
    "'''\n",
    "design = RandomDesign(parameter_space)  # initialize with random points\n",
    "num_init_points = 5\n",
    "init_X = design.get_samples(num_init_points)\n",
    "init_Y = user_function_time_loss(init_X)\n",
    "with open(f'experimental_design/init_points/{num_init_points}_init_points.pkl', \"wb\") as f:\n",
    "      pickle.dump((init_X, init_Y), f)\n",
    "\n",
    "'''"
   ]
  },
  {
   "cell_type": "markdown",
   "metadata": {},
   "source": [
    "To then fit a GP to these points"
   ]
  },
  {
   "cell_type": "code",
   "execution_count": 8,
   "metadata": {},
   "outputs": [
    {
     "name": "stdout",
     "output_type": "stream",
     "text": [
      "Optimization restart 1/5, f = -67.56624250620654\n",
      "Optimization restart 2/5, f = -58.26021108544671\n",
      "Optimization restart 3/5, f = -58.26021108586314\n",
      "Optimization restart 4/5, f = -58.26021108504591\n",
      "Optimization restart 5/5, f = -88.03728038049297\n"
     ]
    }
   ],
   "source": [
    "emulator = GPy.models.GPRegression(init_X, init_Y, noise_var=1e-10)\n",
    "emukit_model_random_init = GPyModelWrapper(emulator, n_restarts=5)\n",
    "emukit_model_random_init.optimize()"
   ]
  },
  {
   "cell_type": "markdown",
   "metadata": {},
   "source": [
    "### Experimentally designed emulator"
   ]
  },
  {
   "cell_type": "markdown",
   "metadata": {},
   "source": [
    "We also load the emulator obtained during experimental design:"
   ]
  },
  {
   "cell_type": "code",
   "execution_count": 9,
   "metadata": {},
   "outputs": [],
   "source": [
    "emukit_model_exp_design = pickle.load(open('experimental_design/models/25_init_50_loop_model_timeLoss.pkl', 'rb'))"
   ]
  },
  {
   "cell_type": "markdown",
   "metadata": {},
   "source": [
    "## Bayesian optimisation"
   ]
  },
  {
   "cell_type": "markdown",
   "metadata": {},
   "source": [
    "We now run bayesian optimisation on the emulators"
   ]
  },
  {
   "cell_type": "code",
   "execution_count": 10,
   "metadata": {},
   "outputs": [],
   "source": [
    "n_iter_bo = 10"
   ]
  },
  {
   "cell_type": "markdown",
   "metadata": {},
   "source": [
    "### Acquisition functions"
   ]
  },
  {
   "cell_type": "code",
   "execution_count": 11,
   "metadata": {},
   "outputs": [],
   "source": [
    "acquisition_random_init = ExpectedImprovement(emukit_model_random_init)"
   ]
  },
  {
   "cell_type": "code",
   "execution_count": 12,
   "metadata": {},
   "outputs": [],
   "source": [
    "acquisition_exp_design = ExpectedImprovement(emukit_model_exp_design)"
   ]
  },
  {
   "cell_type": "markdown",
   "metadata": {},
   "source": [
    "### Optimisation loop"
   ]
  },
  {
   "cell_type": "code",
   "execution_count": 13,
   "metadata": {},
   "outputs": [
    {
     "name": "stdout",
     "output_type": "stream",
     "text": [
      "Optimization restart 1/5, f = -88.03728038053276\n",
      "Optimization restart 2/5, f = -88.03728037860688\n",
      "Optimization restart 3/5, f = -88.03728038057528\n",
      "Optimization restart 4/5, f = -58.26021108513707\n",
      "Optimization restart 5/5, f = -58.260212700207745\n",
      "[[ 20.    8.    5.  150.    1.    1.5]]\n",
      "\n",
      "User function time loss called with 1 inputs to simulate\n",
      "\n",
      "Evaluating input: 1 of 1\n",
      "\n",
      " Retrying in 1 seconds\n",
      "Optimization restart 1/5, f = -91.3553107187527\n",
      "Optimization restart 2/5, f = -60.8288483461555\n",
      "Optimization restart 3/5, f = -91.35531071845892\n",
      "Optimization restart 4/5, f = -60.828845315254945\n",
      "Optimization restart 5/5, f = -91.35531071994589\n",
      "[[ 20.           8.           5.         150.           1.\n",
      "    1.68405458]]\n",
      "\n",
      "User function time loss called with 1 inputs to simulate\n",
      "\n",
      "Evaluating input: 1 of 1\n",
      "\n",
      " Retrying in 1 seconds\n",
      "Optimization restart 1/5, f = -94.84325021731051\n",
      "Optimization restart 2/5, f = -94.84325021952378\n",
      "Optimization restart 3/5, f = -94.84325021881763\n",
      "Optimization restart 4/5, f = -94.84325021757584\n",
      "Optimization restart 5/5, f = -94.84325021754779\n",
      "[[ 20.           8.           5.         150.           1.\n",
      "    4.01889544]]\n",
      "\n",
      "User function time loss called with 1 inputs to simulate\n",
      "\n",
      "Evaluating input: 1 of 1\n",
      "\n",
      " Retrying in 1 seconds\n",
      "Optimization restart 1/5, f = -88.9816534468098\n",
      "Optimization restart 2/5, f = -68.01989363085087\n",
      "Optimization restart 3/5, f = -68.01989372409005\n",
      "Optimization restart 4/5, f = -68.01989373826842\n",
      "Optimization restart 5/5, f = -68.01989145301047\n",
      "[[ 17.42994851  10.14568625  41.34357654 149.79498926   2.\n",
      "    2.64214827]]\n",
      "\n",
      "User function time loss called with 1 inputs to simulate\n",
      "\n",
      "Evaluating input: 1 of 1\n",
      "\n",
      " Retrying in 1 seconds\n",
      "Optimization restart 1/5, f = -92.29100554565687\n",
      "Optimization restart 2/5, f = -70.68813273847509\n",
      "Optimization restart 3/5, f = -70.68820473897263\n",
      "Optimization restart 4/5, f = -70.68820469650225\n",
      "Optimization restart 5/5, f = -70.68820469487696\n",
      "[[ 19.30496112   8.71914156  43.93505359 149.76435037   1.\n",
      "    3.03298815]]\n",
      "\n",
      "User function time loss called with 1 inputs to simulate\n",
      "\n",
      "Evaluating input: 1 of 1\n",
      "\n",
      " Retrying in 1 seconds\n",
      "Optimization restart 1/5, f = -95.89334580375817\n",
      "Optimization restart 2/5, f = -73.61014477318308\n",
      "Optimization restart 3/5, f = -73.61148298634319\n",
      "Optimization restart 4/5, f = -73.61016313930102\n",
      "Optimization restart 5/5, f = -73.61148298574068\n",
      "[[ 18.79984161  18.2946041   48.89845202 149.79959527   1.\n",
      "    3.0329411 ]]\n",
      "\n",
      "User function time loss called with 1 inputs to simulate\n",
      "\n",
      "Evaluating input: 1 of 1\n",
      "\n",
      " Retrying in 1 seconds\n",
      "Optimization restart 1/5, f = -99.57457275187312\n",
      "Optimization restart 2/5, f = -76.21590557454071\n",
      "Optimization restart 3/5, f = -99.63084887592278\n",
      "Optimization restart 4/5, f = -76.21590557453841\n",
      "Optimization restart 5/5, f = -76.21457582442913\n",
      "[[ 17.36474977  15.07172293  47.82512499 149.52450419   2.\n",
      "    4.88468968]]\n",
      "\n",
      "User function time loss called with 1 inputs to simulate\n",
      "\n",
      "Evaluating input: 1 of 1\n",
      "\n",
      " Retrying in 1 seconds\n",
      "Optimization restart 1/5, f = -103.26778923582036\n",
      "Optimization restart 2/5, f = -79.19235766767181\n",
      "Optimization restart 3/5, f = -79.28278924382072\n",
      "Optimization restart 4/5, f = -79.28278924387384\n",
      "Optimization restart 5/5, f = -79.28278924387133\n",
      "[[ 19.0831129   14.42461753  48.04437649 149.61506363   3.\n",
      "    4.5459413 ]]\n",
      "\n",
      "User function time loss called with 1 inputs to simulate\n",
      "\n",
      "Evaluating input: 1 of 1\n",
      "\n",
      " Retrying in 1 seconds\n",
      "Optimization restart 1/5, f = -107.02196144105235\n",
      "Optimization restart 2/5, f = -83.19487564523845\n",
      "Optimization restart 3/5, f = -83.19487564526787\n",
      "Optimization restart 4/5, f = -83.19487563754537\n",
      "Optimization restart 5/5, f = -83.19487564498918\n",
      "[[ 12.23197957  15.10868475  45.65295808 148.92163664   3.\n",
      "    3.85466932]]\n",
      "\n",
      "User function time loss called with 1 inputs to simulate\n",
      "\n",
      "Evaluating input: 1 of 1\n",
      "\n",
      " Retrying in 1 seconds\n",
      "Optimization restart 1/5, f = -110.69761346213622\n",
      "Optimization restart 2/5, f = -86.56462635424319\n",
      "Optimization restart 3/5, f = -85.89592407597378\n",
      "Optimization restart 4/5, f = -85.89591527165737\n",
      "Optimization restart 5/5, f = -86.56462635424357\n",
      "[[  8.43924077   8.80011631  42.36455298 149.3818583    3.\n",
      "    1.88713311]]\n",
      "\n",
      "User function time loss called with 1 inputs to simulate\n",
      "\n",
      "Evaluating input: 1 of 1\n",
      "\n",
      " Retrying in 1 seconds\n",
      "Optimization restart 1/5, f = -114.35727552093307\n",
      "Optimization restart 2/5, f = -82.55806435557135\n",
      "Optimization restart 3/5, f = -89.7664498310311\n",
      "Optimization restart 4/5, f = -89.76644983099911\n",
      "Optimization restart 5/5, f = -88.87726870195287\n"
     ]
    }
   ],
   "source": [
    "bo_random_init = BayesianOptimizationLoop(parameter_space, emukit_model_random_init, acquisition=acquisition_random_init)\n",
    "bo_random_init.run_loop(user_function_time_loss, n_iter_bo)"
   ]
  },
  {
   "cell_type": "code",
   "execution_count": 14,
   "metadata": {},
   "outputs": [
    {
     "name": "stdout",
     "output_type": "stream",
     "text": [
      "Optimization restart 1/5, f = -216.6480048232522\n",
      "Optimization restart 2/5, f = -216.64800482522958\n",
      "Optimization restart 3/5, f = -216.6480048245077\n",
      "Optimization restart 4/5, f = -144.05609660383595\n",
      "Optimization restart 5/5, f = -216.6480048227271\n",
      "[[ 20.           8.          41.66449567 109.34905448   1.\n",
      "    1.5       ]]\n",
      "\n",
      "User function time loss called with 1 inputs to simulate\n",
      "\n",
      "Evaluating input: 1 of 1\n",
      "\n",
      " Retrying in 1 seconds\n",
      "Optimization restart 1/5, f = -220.2222955005013\n",
      "Optimization restart 2/5, f = -146.43190831589425\n",
      "Optimization restart 3/5, f = -146.4319083158942\n",
      "Optimization restart 4/5, f = -146.43190833858444\n",
      "Optimization restart 5/5, f = -220.22230189915567\n",
      "[[ 20.           8.          43.52562272 112.78797953   1.\n",
      "    1.5       ]]\n",
      "\n",
      "User function time loss called with 1 inputs to simulate\n",
      "\n",
      "Evaluating input: 1 of 1\n",
      "\n",
      " Retrying in 1 seconds\n",
      "Optimization restart 1/5, f = -223.81394139657328\n",
      "Optimization restart 2/5, f = -223.81394333033734\n",
      "Optimization restart 3/5, f = -223.81394333027222\n",
      "Optimization restart 4/5, f = -223.81394333036485\n",
      "Optimization restart 5/5, f = -148.81754073989023\n",
      "[[ 20.           8.          38.71797892 106.55700535   1.\n",
      "    1.5       ]]\n",
      "\n",
      "User function time loss called with 1 inputs to simulate\n",
      "\n",
      "Evaluating input: 1 of 1\n",
      "\n",
      " Retrying in 1 seconds\n",
      "Optimization restart 1/5, f = -227.42831865458174\n",
      "Optimization restart 2/5, f = -227.428318708183\n",
      "Optimization restart 3/5, f = -151.2049573117347\n",
      "Optimization restart 4/5, f = -227.42831870901614\n",
      "Optimization restart 5/5, f = -227.42831870860869\n",
      "[[ 20.           8.          40.40788874 107.89748872   1.\n",
      "    1.5       ]]\n",
      "\n",
      "User function time loss called with 1 inputs to simulate\n",
      "\n",
      "Evaluating input: 1 of 1\n",
      "\n",
      " Retrying in 1 seconds\n",
      "Optimization restart 1/5, f = -231.0563740728868\n",
      "Optimization restart 2/5, f = -206.0687077010848\n",
      "Optimization restart 3/5, f = -153.59591503889735\n",
      "Optimization restart 4/5, f = -231.0563749590571\n",
      "Optimization restart 5/5, f = -206.06875417963863\n",
      "[[ 20.           8.          38.13397031 104.5423802    1.\n",
      "    1.5       ]]\n",
      "\n",
      "User function time loss called with 1 inputs to simulate\n",
      "\n",
      "Evaluating input: 1 of 1\n",
      "\n",
      " Retrying in 1 seconds\n",
      "Optimization restart 1/5, f = -234.69688162337053\n",
      "Optimization restart 2/5, f = -155.98908402136118\n",
      "Optimization restart 3/5, f = -155.98908402214454\n",
      "Optimization restart 4/5, f = -211.60959850060564\n",
      "Optimization restart 5/5, f = -234.69688165214754\n",
      "[[ 20.           8.          37.39861816 100.3895508    1.\n",
      "    1.5       ]]\n",
      "\n",
      "User function time loss called with 1 inputs to simulate\n",
      "\n",
      "Evaluating input: 1 of 1\n",
      "\n",
      " Retrying in 1 seconds\n",
      "Optimization restart 1/5, f = -238.35104977910385\n",
      "Optimization restart 2/5, f = -238.3510510065582\n",
      "Optimization restart 3/5, f = -216.86551235630998\n",
      "Optimization restart 4/5, f = -238.3510519489876\n",
      "Optimization restart 5/5, f = -238.35105195070994\n",
      "[[ 20.           8.          37.42593792 101.20171832   1.\n",
      "    1.5       ]]\n",
      "\n",
      "User function time loss called with 1 inputs to simulate\n",
      "\n",
      "Evaluating input: 1 of 1\n",
      "\n",
      " Retrying in 1 seconds\n",
      "Optimization restart 1/5, f = -242.01717641041603\n",
      "Optimization restart 2/5, f = -160.79092096770935\n",
      "Optimization restart 3/5, f = -224.80502183572582\n",
      "Optimization restart 4/5, f = -242.01717690258823\n",
      "Optimization restart 5/5, f = -224.80499552962016\n",
      "[[ 20.          8.         36.8433239 100.6589622   1.          1.5      ]]\n",
      "\n",
      "User function time loss called with 1 inputs to simulate\n",
      "\n",
      "Evaluating input: 1 of 1\n",
      "\n",
      " Retrying in 1 seconds\n",
      "Optimization restart 1/5, f = -245.69592345518174\n",
      "Optimization restart 2/5, f = -231.50748562682696\n",
      "Optimization restart 3/5, f = -231.50759243416212\n",
      "Optimization restart 4/5, f = -231.50759330347873\n",
      "Optimization restart 5/5, f = -231.507600533719\n",
      "[[ 20.           8.          37.57349309 101.01488571   1.\n",
      "    1.5       ]]\n",
      "\n",
      "User function time loss called with 1 inputs to simulate\n",
      "\n",
      "Evaluating input: 1 of 1\n",
      "\n",
      " Retrying in 1 seconds\n",
      "Optimization restart 1/5, f = -249.38572667489538\n",
      "Optimization restart 2/5, f = -165.61207702489347\n",
      "Optimization restart 3/5, f = -239.50443293740673\n",
      "Optimization restart 4/5, f = -239.50437229205562\n",
      "Optimization restart 5/5, f = -239.50443222213977\n",
      "[[20.          8.         35.52287813 95.44025108  1.          1.5       ]]\n",
      "\n",
      "User function time loss called with 1 inputs to simulate\n",
      "\n",
      "Evaluating input: 1 of 1\n",
      "\n",
      " Retrying in 1 seconds\n",
      "Optimization restart 1/5, f = -253.0802600962785\n",
      "Optimization restart 2/5, f = -245.0795549602758\n",
      "Optimization restart 3/5, f = -245.07957055724785\n",
      "Optimization restart 4/5, f = -245.07957217532453\n",
      "Optimization restart 5/5, f = -245.07957209535138\n"
     ]
    }
   ],
   "source": [
    "bo_exp_design = BayesianOptimizationLoop(parameter_space, emukit_model_exp_design, acquisition=acquisition_exp_design)\n",
    "bo_exp_design.run_loop(user_function_time_loss, n_iter_bo)"
   ]
  },
  {
   "cell_type": "markdown",
   "metadata": {},
   "source": [
    "## Results"
   ]
  },
  {
   "cell_type": "markdown",
   "metadata": {},
   "source": [
    "### Results on the random initialised emulator"
   ]
  },
  {
   "cell_type": "code",
   "execution_count": 15,
   "metadata": {},
   "outputs": [],
   "source": [
    "results_random_init = bo_random_init.get_results()"
   ]
  },
  {
   "cell_type": "code",
   "execution_count": 16,
   "metadata": {},
   "outputs": [
    {
     "data": {
      "text/plain": [
       "array([ 14.96899422,  18.83841939,   9.18279573, 135.87276334,\n",
       "         1.        ,   2.29420573])"
      ]
     },
     "execution_count": 16,
     "metadata": {},
     "output_type": "execute_result"
    }
   ],
   "source": [
    "results_random_init.minimum_location"
   ]
  },
  {
   "cell_type": "code",
   "execution_count": 17,
   "metadata": {},
   "outputs": [
    {
     "data": {
      "text/plain": [
       "0.010573522048808326"
      ]
     },
     "execution_count": 17,
     "metadata": {},
     "output_type": "execute_result"
    }
   ],
   "source": [
    "results_random_init.minimum_value"
   ]
  },
  {
   "cell_type": "markdown",
   "metadata": {},
   "source": [
    "### Results on the experimentally designed emulator"
   ]
  },
  {
   "cell_type": "code",
   "execution_count": 18,
   "metadata": {},
   "outputs": [],
   "source": [
    "results_exp_design = bo_exp_design.get_results()"
   ]
  },
  {
   "cell_type": "code",
   "execution_count": 19,
   "metadata": {},
   "outputs": [
    {
     "data": {
      "text/plain": [
       "array([ 20.        ,   8.        ,  43.52562272, 112.78797953,\n",
       "         1.        ,   1.5       ])"
      ]
     },
     "execution_count": 19,
     "metadata": {},
     "output_type": "execute_result"
    }
   ],
   "source": [
    "results_exp_design.minimum_location"
   ]
  },
  {
   "cell_type": "code",
   "execution_count": 20,
   "metadata": {},
   "outputs": [
    {
     "data": {
      "text/plain": [
       "0.010433652234397984"
      ]
     },
     "execution_count": 20,
     "metadata": {},
     "output_type": "execute_result"
    }
   ],
   "source": [
    "results_exp_design.minimum_value"
   ]
  }
 ],
 "metadata": {
  "kernelspec": {
   "display_name": "ml_and_physical",
   "language": "python",
   "name": "ml_and_physical"
  },
  "language_info": {
   "codemirror_mode": {
    "name": "ipython",
    "version": 3
   },
   "file_extension": ".py",
   "mimetype": "text/x-python",
   "name": "python",
   "nbconvert_exporter": "python",
   "pygments_lexer": "ipython3",
   "version": "3.8.5"
  }
 },
 "nbformat": 4,
 "nbformat_minor": 4
}
