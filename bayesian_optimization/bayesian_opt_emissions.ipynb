{
 "cells": [
  {
   "cell_type": "code",
   "execution_count": 1,
   "metadata": {},
   "outputs": [
    {
     "name": "stdout",
     "output_type": "stream",
     "text": [
      "/Users/Matteo/PycharmProjects/TrafficEmu\n"
     ]
    }
   ],
   "source": [
    "%cd .."
   ]
  },
  {
   "cell_type": "markdown",
   "metadata": {},
   "source": [
    "# Bayesian optimization: finding the minimum emission"
   ]
  },
  {
   "cell_type": "markdown",
   "metadata": {},
   "source": [
    "In this notebook we will performing bayesian optimization on the emulator trained on our sumo simulation. We are interested in identifying the parameters which enable us to obtain the minimum travel time. Our emulator is a gaussian process with an **rbf** kernel.\n"
   ]
  },
  {
   "cell_type": "markdown",
   "metadata": {},
   "source": [
    "## Imports"
   ]
  },
  {
   "cell_type": "code",
   "execution_count": 2,
   "metadata": {},
   "outputs": [
    {
     "name": "stdout",
     "output_type": "stream",
     "text": [
      "warning in stationary: failed to import cython module: falling back to numpy\n",
      "warning in coregionalize: failed to import cython module: falling back to numpy\n",
      "warning in choleskies: failed to import cython module: falling back to numpy\n"
     ]
    }
   ],
   "source": [
    "import pickle\n",
    "import numpy as np\n",
    "import emukit as ek\n",
    "import GPy\n",
    "import pandas as pd\n",
    "\n",
    "from emukit.model_wrappers import GPyModelWrapper\n",
    "from emukit.core.initial_designs import RandomDesign\n",
    "from emukit.core import ParameterSpace, ContinuousParameter, DiscreteParameter\n",
    "from emukit.bayesian_optimization.acquisitions import ExpectedImprovement\n",
    "from emukit.bayesian_optimization.loops import BayesianOptimizationLoop\n",
    "\n",
    "from experimental_design import config\n",
    "from sumo_grid_simulation.grid_simulation import Simulator"
   ]
  },
  {
   "cell_type": "markdown",
   "metadata": {},
   "source": [
    "## Simulator"
   ]
  },
  {
   "cell_type": "markdown",
   "metadata": {},
   "source": [
    "We start by initialising our simulation."
   ]
  },
  {
   "cell_type": "code",
   "execution_count": 3,
   "metadata": {},
   "outputs": [],
   "source": [
    "simulator = Simulator(end_time=300)"
   ]
  },
  {
   "cell_type": "markdown",
   "metadata": {},
   "source": [
    "We then define the two user functions in which we are interested:"
   ]
  },
  {
   "cell_type": "code",
   "execution_count": 4,
   "metadata": {},
   "outputs": [],
   "source": [
    "def user_function_emissions(X):\n",
    "    \"\"\"  X = inputs - emukit doesnt pass named args, just an NxM ndarray, N is the number of points to evaluate, M is the number of parameters per each point \"\"\"\n",
    "    result = []\n",
    "    i = 0\n",
    "    \n",
    "    print(X)\n",
    "    print(f'\\nUser function emissions called with {X.shape[0]} inputs to simulate')\n",
    "\n",
    "    \n",
    "    for gridSize, edgeMaxSpeed, maxSpeed, edgeLength, numLanes, accel in X:\n",
    "        print(f'\\nEvaluating input: {i+1} of {X.shape[0]}\\n')\n",
    "        \n",
    "        alpha = 0.005\n",
    "        max_number_of_vehicles = ((gridSize - 1) * gridSize * 2 + 4 * gridSize) * edgeLength / 5\n",
    "        period = 300/(max_number_of_vehicles * alpha)\n",
    "        \n",
    "        s = simulator.simulate(\n",
    "            gridSize      = int(gridSize),\n",
    "            edgeMaxSpeed  = edgeMaxSpeed,\n",
    "            maxSpeed      = maxSpeed,\n",
    "            edgeLength    = edgeLength,\n",
    "            numberOfLanes = int(numLanes),\n",
    "            accel         = accel,\n",
    "            trips_generator_period = period\n",
    "        )\n",
    "\n",
    "        CO2 = s['CO2']/s['num_emissions_samples']\n",
    "        result.append(CO2/s['duration'])\n",
    "        print(f'\\nOutput {result[-1]}\\n')\n",
    "        i += 1\n",
    "        \n",
    "    # expand dims is essential or the acquition function breaks\n",
    "    return np.expand_dims(np.array(result), 1)  "
   ]
  },
  {
   "cell_type": "markdown",
   "metadata": {
    "pycharm": {
     "name": "#%% md\n"
    }
   },
   "source": [
    "We then load the parameters' space from our configuration file:"
   ]
  },
  {
   "cell_type": "code",
   "execution_count": 5,
   "metadata": {
    "pycharm": {
     "name": "#%%\n"
    }
   },
   "outputs": [],
   "source": [
    "parameter_space = config.get_parameter_space()"
   ]
  },
  {
   "cell_type": "markdown",
   "metadata": {
    "pycharm": {
     "name": "#%% md\n"
    }
   },
   "source": [
    "## Emulator"
   ]
  },
  {
   "cell_type": "markdown",
   "metadata": {},
   "source": [
    "### Rnadomly initialised emulator"
   ]
  },
  {
   "cell_type": "markdown",
   "metadata": {},
   "source": [
    "The first emulator we are going to analyse is the one that is just initilised with random points"
   ]
  },
  {
   "cell_type": "markdown",
   "metadata": {},
   "source": [
    "We first sample at random 200 datapoints from the parameter space:"
   ]
  },
  {
   "cell_type": "code",
   "execution_count": 6,
   "metadata": {
    "pycharm": {
     "name": "#%%\n"
    }
   },
   "outputs": [
    {
     "data": {
      "text/plain": [
       "'\\ndesign = RandomDesign(parameter_space)\\nnum_init_points = 270\\ninit_X = design.get_samples(num_init_points)\\ninit_Y = user_function_emissions(init_X)\\ninit_points = init_X, init_Y\\nwith open(f\\'bayesian_optimization/init_points/{num_init_points}_init_points_emissions.pkl\\', \"wb\") as f:\\n     pickle.dump(init_points, f)\\n'"
      ]
     },
     "execution_count": 6,
     "metadata": {},
     "output_type": "execute_result"
    }
   ],
   "source": [
    "init_X, init_Y = pickle.load(open('bayesian_optimization/init_points/270_init_points_emissions.pkl', 'rb'))\n",
    "\n",
    "'''\n",
    "design = RandomDesign(parameter_space)\n",
    "num_init_points = 270\n",
    "init_X = design.get_samples(num_init_points)\n",
    "init_Y = user_function_emissions(init_X)\n",
    "init_points = init_X, init_Y\n",
    "with open(f'bayesian_optimization/init_points/{num_init_points}_init_points_emissions.pkl', \"wb\") as f:\n",
    "     pickle.dump(init_points, f)\n",
    "'''"
   ]
  },
  {
   "cell_type": "markdown",
   "metadata": {
    "pycharm": {
     "name": "#%% md\n"
    }
   },
   "source": [
    "To then fit a GP to these points"
   ]
  },
  {
   "cell_type": "code",
   "execution_count": 7,
   "metadata": {
    "pycharm": {
     "name": "#%%\n"
    }
   },
   "outputs": [
    {
     "name": "stdout",
     "output_type": "stream",
     "text": [
      "Optimization restart 1/5, f = 1297.6948600888115\n",
      "Optimization restart 2/5, f = 1593.0598703683074\n",
      "Optimization restart 3/5, f = 1201.1270324900768\n",
      "Optimization restart 4/5, f = 1201.1270324913662\n",
      "Optimization restart 5/5, f = 1201.1270324895102\n"
     ]
    }
   ],
   "source": [
    "emulator = GPy.models.GPRegression(init_X, init_Y, noise_var=1e-10)\n",
    "emukit_model_random_init = GPyModelWrapper(emulator, n_restarts=5)\n",
    "emukit_model_random_init.optimize()"
   ]
  },
  {
   "cell_type": "markdown",
   "metadata": {
    "pycharm": {
     "name": "#%% md\n"
    }
   },
   "source": [
    "### Experimentally designed emulator with model variance"
   ]
  },
  {
   "cell_type": "markdown",
   "metadata": {},
   "source": [
    "We also load the emulator obtained during experimental design:"
   ]
  },
  {
   "cell_type": "code",
   "execution_count": 8,
   "metadata": {
    "pycharm": {
     "name": "#%%\n"
    }
   },
   "outputs": [],
   "source": [
    "emukit_model_variance = pickle.load(open('experimental_design/models/model_variance_20_init_points_250_loops_co2.pkl', 'rb'))"
   ]
  },
  {
   "cell_type": "markdown",
   "metadata": {
    "pycharm": {
     "name": "#%% md\n"
    }
   },
   "source": [
    "### Experimentally designed emulator with integrated variance reduction"
   ]
  },
  {
   "cell_type": "markdown",
   "metadata": {},
   "source": [
    "We also load the emulator obtained during experimental design:"
   ]
  },
  {
   "cell_type": "code",
   "execution_count": 9,
   "metadata": {
    "pycharm": {
     "name": "#%%\n"
    }
   },
   "outputs": [],
   "source": [
    "emukit_model_integrated_variance = pickle.load(open('experimental_design/models/integrated_variance_reduction_20_init_points_250_loops_co2.pkl', 'rb'))"
   ]
  },
  {
   "cell_type": "markdown",
   "metadata": {
    "pycharm": {
     "name": "#%% md\n"
    }
   },
   "source": [
    "## Bayesian optimisation"
   ]
  },
  {
   "cell_type": "markdown",
   "metadata": {},
   "source": [
    "We now run bayesian optimisation on the emulators"
   ]
  },
  {
   "cell_type": "code",
   "execution_count": 10,
   "metadata": {
    "pycharm": {
     "name": "#%%\n"
    }
   },
   "outputs": [],
   "source": [
    "n_iter_bo = 50"
   ]
  },
  {
   "cell_type": "markdown",
   "metadata": {
    "pycharm": {
     "name": "#%% md\n"
    }
   },
   "source": [
    "### Acquisition functions"
   ]
  },
  {
   "cell_type": "code",
   "execution_count": 11,
   "metadata": {
    "pycharm": {
     "name": "#%%\n"
    }
   },
   "outputs": [],
   "source": [
    "acquisition_random_init = ExpectedImprovement(emukit_model_random_init)"
   ]
  },
  {
   "cell_type": "code",
   "execution_count": 12,
   "metadata": {},
   "outputs": [],
   "source": [
    "acquisition_model_variance = ExpectedImprovement(emukit_model_variance)"
   ]
  },
  {
   "cell_type": "code",
   "execution_count": 13,
   "metadata": {},
   "outputs": [],
   "source": [
    "acquisition_integrated_variance = ExpectedImprovement(emukit_model_integrated_variance)"
   ]
  },
  {
   "cell_type": "markdown",
   "metadata": {
    "pycharm": {
     "name": "#%% md\n"
    }
   },
   "source": [
    "### Optimisation loop"
   ]
  },
  {
   "cell_type": "code",
   "execution_count": 14,
   "metadata": {
    "pycharm": {
     "name": "#%%\n"
    }
   },
   "outputs": [
    {
     "name": "stderr",
     "output_type": "stream",
     "text": [
      " /Users/Matteo/opt/anaconda3/envs/ml_and_physical/lib/python3.8/site-packages/paramz/transformations.py:111: RuntimeWarning:overflow encountered in expm1\n"
     ]
    },
    {
     "name": "stdout",
     "output_type": "stream",
     "text": [
      "Optimization restart 1/5, f = 1201.1270324895102\n",
      "Optimization restart 2/5, f = 1201.1270324894117\n",
      "Optimization restart 3/5, f = 1201.1270324899792\n",
      "Optimization restart 4/5, f = 1201.1270338901209\n",
      "Optimization restart 5/5, f = 1201.127033322709\n",
      "[[12. 25.  5. 70.  3.  5.]]\n",
      "\n",
      "User function emissions called with 1 inputs to simulate\n",
      "\n",
      "Evaluating input: 1 of 1\n",
      "\n",
      " Retrying in 1 seconds\n",
      "\n",
      "Output 8.876725628276361\n",
      "\n",
      "Optimization restart 1/5, f = 1206.0713298115704\n"
     ]
    },
    {
     "name": "stderr",
     "output_type": "stream",
     "text": [
      " /Users/Matteo/opt/anaconda3/envs/ml_and_physical/lib/python3.8/site-packages/paramz/transformations.py:111: RuntimeWarning:overflow encountered in expm1\n"
     ]
    },
    {
     "name": "stdout",
     "output_type": "stream",
     "text": [
      "Optimization restart 2/5, f = 1206.057500229444\n",
      "Optimization restart 3/5, f = 1206.0575003020144\n",
      "Optimization restart 4/5, f = 1206.0575002305839\n",
      "Optimization restart 5/5, f = 1206.0575002463088\n",
      "[[12.         25.          5.         44.51789345  1.          1.5       ]]\n",
      "\n",
      "User function emissions called with 1 inputs to simulate\n",
      "\n",
      "Evaluating input: 1 of 1\n",
      "\n",
      " Retrying in 1 seconds\n",
      "\n",
      "Output 13.27183348369983\n",
      "\n"
     ]
    },
    {
     "name": "stderr",
     "output_type": "stream",
     "text": [
      " /Users/Matteo/opt/anaconda3/envs/ml_and_physical/lib/python3.8/site-packages/paramz/transformations.py:111: RuntimeWarning:overflow encountered in expm1\n"
     ]
    },
    {
     "name": "stdout",
     "output_type": "stream",
     "text": [
      "Optimization restart 1/5, f = 1211.4398208485777\n",
      "Optimization restart 2/5, f = 1211.3613415276022\n",
      "Optimization restart 3/5, f = 1211.3613415270863\n",
      "Optimization restart 4/5, f = 1212.51606069207\n",
      "Optimization restart 5/5, f = 1211.3613415271016\n",
      "[[13.          8.         27.         54.87719758  1.          1.5       ]]\n",
      "\n",
      "User function emissions called with 1 inputs to simulate\n",
      "\n",
      "Evaluating input: 1 of 1\n",
      "\n",
      " Retrying in 1 seconds\n",
      "\n",
      "Output 19.986977010794583\n",
      "\n",
      "Optimization restart 1/5, f = 1218.1544238993552\n"
     ]
    },
    {
     "name": "stderr",
     "output_type": "stream",
     "text": [
      " /Users/Matteo/opt/anaconda3/envs/ml_and_physical/lib/python3.8/site-packages/paramz/transformations.py:111: RuntimeWarning:overflow encountered in expm1\n"
     ]
    },
    {
     "name": "stdout",
     "output_type": "stream",
     "text": [
      "Optimization restart 2/5, f = 1218.0186110143263\n",
      "Optimization restart 3/5, f = 1218.0186111136534\n",
      "Optimization restart 4/5, f = 1218.018611014043\n",
      "Optimization restart 5/5, f = 1218.0186110142959\n",
      "[[11.          8.         27.         63.64317804  3.          1.5       ]]\n",
      "\n",
      "User function emissions called with 1 inputs to simulate\n",
      "\n",
      "Evaluating input: 1 of 1\n",
      "\n",
      " Retrying in 1 seconds\n",
      "\n",
      "Output 19.08554390796357\n",
      "\n"
     ]
    },
    {
     "name": "stderr",
     "output_type": "stream",
     "text": [
      " /Users/Matteo/opt/anaconda3/envs/ml_and_physical/lib/python3.8/site-packages/paramz/transformations.py:111: RuntimeWarning:overflow encountered in expm1\n"
     ]
    },
    {
     "name": "stdout",
     "output_type": "stream",
     "text": [
      "Optimization restart 1/5, f = 1222.5880606313906\n",
      "Optimization restart 2/5, f = 1222.5820764522464\n",
      "Optimization restart 3/5, f = 1222.5820763090385\n",
      "Optimization restart 4/5, f = 1222.5820762521191\n",
      "Optimization restart 5/5, f = 1222.5820762534547\n",
      "[[ 9.         25.          5.         66.80907191  3.          1.5       ]]\n",
      "\n",
      "User function emissions called with 1 inputs to simulate\n",
      "\n",
      "Evaluating input: 1 of 1\n",
      "\n",
      " Retrying in 1 seconds\n",
      "\n",
      "Output 11.02603530224242\n",
      "\n"
     ]
    },
    {
     "name": "stderr",
     "output_type": "stream",
     "text": [
      " /Users/Matteo/opt/anaconda3/envs/ml_and_physical/lib/python3.8/site-packages/paramz/transformations.py:111: RuntimeWarning:overflow encountered in expm1\n"
     ]
    },
    {
     "name": "stdout",
     "output_type": "stream",
     "text": [
      "Optimization restart 1/5, f = 1226.9700336117248\n",
      "Optimization restart 2/5, f = 1226.967680776168\n"
     ]
    },
    {
     "name": "stderr",
     "output_type": "stream",
     "text": [
      " /Users/Matteo/opt/anaconda3/envs/ml_and_physical/lib/python3.8/site-packages/GPy/kern/src/rbf.py:52: RuntimeWarning:overflow encountered in square\n"
     ]
    },
    {
     "name": "stdout",
     "output_type": "stream",
     "text": [
      "Optimization restart 3/5, f = 1226.9676807793046\n",
      "Optimization restart 4/5, f = 1226.967680776059\n",
      "Optimization restart 5/5, f = 1226.9676898227297\n",
      "[[20.         25.          5.         58.34161811  3.          5.        ]]\n",
      "\n",
      "User function emissions called with 1 inputs to simulate\n",
      "\n",
      "Evaluating input: 1 of 1\n",
      "\n",
      " Retrying in 1 seconds\n",
      "\n",
      "Output 7.605476114145363\n",
      "\n",
      "Optimization restart 1/5, f = 1231.142673073472\n"
     ]
    },
    {
     "name": "stderr",
     "output_type": "stream",
     "text": [
      " /Users/Matteo/opt/anaconda3/envs/ml_and_physical/lib/python3.8/site-packages/paramz/transformations.py:111: RuntimeWarning:overflow encountered in expm1\n"
     ]
    },
    {
     "name": "stdout",
     "output_type": "stream",
     "text": [
      "Optimization restart 2/5, f = 1231.1426465660352\n",
      "Optimization restart 3/5, f = 1231.142642794849\n",
      "Optimization restart 4/5, f = 1231.1426427948604\n",
      "Optimization restart 5/5, f = 1231.1426430306915\n",
      "[[12.        25.         5.        42.3832596  1.         1.5      ]]\n",
      "\n",
      "User function emissions called with 1 inputs to simulate\n",
      "\n",
      "Evaluating input: 1 of 1\n",
      "\n",
      " Retrying in 1 seconds\n",
      "\n",
      "Output 13.859605833222115\n",
      "\n"
     ]
    },
    {
     "name": "stderr",
     "output_type": "stream",
     "text": [
      " /Users/Matteo/opt/anaconda3/envs/ml_and_physical/lib/python3.8/site-packages/paramz/transformations.py:111: RuntimeWarning:overflow encountered in expm1\n"
     ]
    },
    {
     "name": "stdout",
     "output_type": "stream",
     "text": [
      "Optimization restart 1/5, f = 1235.2512676545098\n",
      "Optimization restart 2/5, f = 1630.907787531042\n",
      "Optimization restart 3/5, f = 1235.2439248559829\n",
      "Optimization restart 4/5, f = 1235.2439249703614\n",
      "Optimization restart 5/5, f = 1235.2439247868792\n",
      "[[20.         14.86252308  5.         59.40026323  3.          5.        ]]\n",
      "\n",
      "User function emissions called with 1 inputs to simulate\n",
      "\n",
      "Evaluating input: 1 of 1\n",
      "\n",
      " Retrying in 1 seconds\n",
      "\n",
      "Output 7.424224222925642\n",
      "\n",
      "Optimization restart 1/5, f = 1239.250766765105\n"
     ]
    },
    {
     "name": "stderr",
     "output_type": "stream",
     "text": [
      " /Users/Matteo/opt/anaconda3/envs/ml_and_physical/lib/python3.8/site-packages/paramz/transformations.py:111: RuntimeWarning:overflow encountered in expm1\n"
     ]
    },
    {
     "name": "stdout",
     "output_type": "stream",
     "text": [
      "Optimization restart 2/5, f = 1239.2504643145214\n",
      "Optimization restart 3/5, f = 1239.2583496259028\n",
      "Optimization restart 4/5, f = 1239.2504653694505\n",
      "Optimization restart 5/5, f = 1239.250464207357\n",
      "[[11.          8.          5.         38.95782883  1.          5.        ]]\n",
      "\n",
      "User function emissions called with 1 inputs to simulate\n",
      "\n",
      "Evaluating input: 1 of 1\n",
      "\n",
      " Retrying in 1 seconds\n",
      "\n",
      "Output 14.993621711722247\n",
      "\n",
      "Optimization restart 1/5, f = 1243.8075768806552\n"
     ]
    },
    {
     "name": "stderr",
     "output_type": "stream",
     "text": [
      " /Users/Matteo/opt/anaconda3/envs/ml_and_physical/lib/python3.8/site-packages/paramz/transformations.py:111: RuntimeWarning:overflow encountered in expm1\n"
     ]
    },
    {
     "name": "stdout",
     "output_type": "stream",
     "text": [
      "Optimization restart 2/5, f = 1243.7988644906038\n",
      "Optimization restart 3/5, f = 1243.7988644741145\n",
      "Optimization restart 4/5, f = 1243.7988644721413\n",
      "Optimization restart 5/5, f = 1243.7988644878405\n",
      "[[13.         25.          5.         62.53373885  3.          5.        ]]\n",
      "\n",
      "User function emissions called with 1 inputs to simulate\n",
      "\n",
      "Evaluating input: 1 of 1\n",
      "\n",
      " Retrying in 1 seconds\n",
      "\n",
      "Output 9.389199786956373\n",
      "\n",
      "Optimization restart 1/5, f = 1247.741404812538\n"
     ]
    },
    {
     "name": "stderr",
     "output_type": "stream",
     "text": [
      " /Users/Matteo/opt/anaconda3/envs/ml_and_physical/lib/python3.8/site-packages/paramz/transformations.py:111: RuntimeWarning:overflow encountered in expm1\n"
     ]
    },
    {
     "name": "stdout",
     "output_type": "stream",
     "text": [
      "Optimization restart 2/5, f = 1247.741201406629\n",
      "Optimization restart 3/5, f = 1247.7412014663603\n",
      "Optimization restart 4/5, f = 1247.7412014060558\n"
     ]
    },
    {
     "name": "stderr",
     "output_type": "stream",
     "text": [
      " /Users/Matteo/opt/anaconda3/envs/ml_and_physical/lib/python3.8/site-packages/GPy/kern/src/stationary.py:168: RuntimeWarning:overflow encountered in true_divide\n",
      " /Users/Matteo/opt/anaconda3/envs/ml_and_physical/lib/python3.8/site-packages/GPy/kern/src/rbf.py:76: RuntimeWarning:invalid value encountered in multiply\n"
     ]
    },
    {
     "name": "stdout",
     "output_type": "stream",
     "text": [
      "Optimization restart 5/5, f = 1484.8965013872116\n",
      "[[20.         25.          5.         37.34596936  3.          5.        ]]\n",
      "\n",
      "User function emissions called with 1 inputs to simulate\n",
      "\n",
      "Evaluating input: 1 of 1\n",
      "\n",
      " Retrying in 1 seconds\n",
      "\n",
      "Output 12.18188819362811\n",
      "\n",
      "Optimization restart 1/5, f = 1251.881744917187\n"
     ]
    },
    {
     "name": "stderr",
     "output_type": "stream",
     "text": [
      " /Users/Matteo/opt/anaconda3/envs/ml_and_physical/lib/python3.8/site-packages/paramz/transformations.py:111: RuntimeWarning:overflow encountered in expm1\n"
     ]
    },
    {
     "name": "stdout",
     "output_type": "stream",
     "text": [
      "Optimization restart 2/5, f = 1251.8816992654556\n",
      "Optimization restart 3/5, f = 1251.8816992654336\n",
      "Optimization restart 4/5, f = 1251.8816992666154\n",
      "Optimization restart 5/5, f = 1251.8816992670572\n",
      "[[20.         16.21960323  5.         59.95010209  1.          5.        ]]\n",
      "\n",
      "User function emissions called with 1 inputs to simulate\n",
      "\n",
      "Evaluating input: 1 of 1\n",
      "\n",
      " Retrying in 1 seconds\n",
      "\n",
      "Output 6.591186768306279\n",
      "\n",
      "Optimization restart 1/5, f = 1255.745800608629\n"
     ]
    },
    {
     "name": "stderr",
     "output_type": "stream",
     "text": [
      " /Users/Matteo/opt/anaconda3/envs/ml_and_physical/lib/python3.8/site-packages/paramz/transformations.py:111: RuntimeWarning:overflow encountered in expm1\n"
     ]
    },
    {
     "name": "stdout",
     "output_type": "stream",
     "text": [
      "Optimization restart 2/5, f = 1255.7457757337327\n",
      "Optimization restart 3/5, f = 1255.7457760082407\n",
      "Optimization restart 4/5, f = 1255.7457757156426\n",
      "Optimization restart 5/5, f = 1255.7457757156133\n",
      "[[14.         25.          5.         63.61542286  1.          5.        ]]\n",
      "\n",
      "User function emissions called with 1 inputs to simulate\n",
      "\n",
      "Evaluating input: 1 of 1\n",
      "\n",
      " Retrying in 1 seconds\n",
      "\n",
      "Output 8.03666162462059\n",
      "\n",
      "Optimization restart 1/5, f = 1259.5522930415777\n"
     ]
    },
    {
     "name": "stderr",
     "output_type": "stream",
     "text": [
      " /Users/Matteo/opt/anaconda3/envs/ml_and_physical/lib/python3.8/site-packages/paramz/transformations.py:111: RuntimeWarning:overflow encountered in expm1\n"
     ]
    },
    {
     "name": "stdout",
     "output_type": "stream",
     "text": [
      "Optimization restart 2/5, f = 1259.5521500707969\n",
      "Optimization restart 3/5, f = 1259.5521500652735\n"
     ]
    },
    {
     "name": "stderr",
     "output_type": "stream",
     "text": [
      " /Users/Matteo/opt/anaconda3/envs/ml_and_physical/lib/python3.8/site-packages/GPy/kern/src/stationary.py:168: RuntimeWarning:overflow encountered in true_divide\n",
      " /Users/Matteo/opt/anaconda3/envs/ml_and_physical/lib/python3.8/site-packages/GPy/kern/src/rbf.py:76: RuntimeWarning:invalid value encountered in multiply\n"
     ]
    },
    {
     "name": "stdout",
     "output_type": "stream",
     "text": [
      "Optimization restart 4/5, f = 1520.227834838824\n",
      "Optimization restart 5/5, f = 1259.5521500668997\n",
      "[[10.         25.          5.         65.83054139  1.          1.5       ]]\n",
      "\n",
      "User function emissions called with 1 inputs to simulate\n",
      "\n",
      "Evaluating input: 1 of 1\n",
      "\n",
      " Retrying in 1 seconds\n",
      "\n",
      "Output 11.034786760083607\n",
      "\n",
      "Optimization restart 1/5, f = 1263.4308935264173\n"
     ]
    },
    {
     "name": "stderr",
     "output_type": "stream",
     "text": [
      " /Users/Matteo/opt/anaconda3/envs/ml_and_physical/lib/python3.8/site-packages/paramz/transformations.py:111: RuntimeWarning:overflow encountered in expm1\n"
     ]
    },
    {
     "name": "stdout",
     "output_type": "stream",
     "text": [
      "Optimization restart 2/5, f = 1263.430703836518\n",
      "Optimization restart 3/5, f = 1263.4307041500565\n",
      "Optimization restart 4/5, f = 1263.4307038365214\n",
      "Optimization restart 5/5, f = 1263.4307038704817\n",
      "[[15.         16.92849424  5.         61.84001472  3.          5.        ]]\n",
      "\n",
      "User function emissions called with 1 inputs to simulate\n",
      "\n",
      "Evaluating input: 1 of 1\n",
      "\n",
      " Retrying in 1 seconds\n",
      "\n",
      "Output 8.353296924603352\n",
      "\n",
      "Optimization restart 1/5, f = 1267.2179041382403\n"
     ]
    },
    {
     "name": "stderr",
     "output_type": "stream",
     "text": [
      " /Users/Matteo/opt/anaconda3/envs/ml_and_physical/lib/python3.8/site-packages/paramz/transformations.py:111: RuntimeWarning:overflow encountered in expm1\n"
     ]
    },
    {
     "name": "stdout",
     "output_type": "stream",
     "text": [
      "Optimization restart 2/5, f = 1267.2177566919993\n",
      "Optimization restart 3/5, f = 1267.2177566808537\n",
      "Optimization restart 4/5, f = 1267.2177567236988\n"
     ]
    },
    {
     "name": "stderr",
     "output_type": "stream",
     "text": [
      " /Users/Matteo/opt/anaconda3/envs/ml_and_physical/lib/python3.8/site-packages/GPy/kern/src/stationary.py:168: RuntimeWarning:overflow encountered in true_divide\n",
      " /Users/Matteo/opt/anaconda3/envs/ml_and_physical/lib/python3.8/site-packages/GPy/kern/src/rbf.py:76: RuntimeWarning:invalid value encountered in multiply\n"
     ]
    },
    {
     "name": "stdout",
     "output_type": "stream",
     "text": [
      "Optimization restart 5/5, f = 1529.9033371928733\n",
      "[[20.         15.79128111  5.         59.37560786  1.          5.        ]]\n",
      "\n",
      "User function emissions called with 1 inputs to simulate\n",
      "\n",
      "Evaluating input: 1 of 1\n",
      "\n",
      " Retrying in 1 seconds\n",
      "\n",
      "Output 6.724854082046558\n",
      "\n"
     ]
    },
    {
     "name": "stderr",
     "output_type": "stream",
     "text": [
      " /Users/Matteo/opt/anaconda3/envs/ml_and_physical/lib/python3.8/site-packages/paramz/transformations.py:111: RuntimeWarning:overflow encountered in expm1\n"
     ]
    },
    {
     "name": "stdout",
     "output_type": "stream",
     "text": [
      "Optimization restart 1/5, f = 1270.9672031854793\n",
      "Optimization restart 2/5, f = 1270.9671887153945\n",
      "Optimization restart 3/5, f = 1270.9671887152406\n",
      "Optimization restart 4/5, f = 1270.9671887183006\n",
      "Optimization restart 5/5, f = 1270.9671887150716\n",
      "[[14.         18.07612288  5.         61.78867651  3.          5.        ]]\n",
      "\n",
      "User function emissions called with 1 inputs to simulate\n",
      "\n",
      "Evaluating input: 1 of 1\n",
      "\n",
      " Retrying in 1 seconds\n",
      "\n",
      "Output 9.089620564860011\n",
      "\n",
      "Optimization restart 1/5, f = 1274.7023962026124\n"
     ]
    },
    {
     "name": "stderr",
     "output_type": "stream",
     "text": [
      " /Users/Matteo/opt/anaconda3/envs/ml_and_physical/lib/python3.8/site-packages/paramz/transformations.py:111: RuntimeWarning:overflow encountered in expm1\n"
     ]
    },
    {
     "name": "stdout",
     "output_type": "stream",
     "text": [
      "Optimization restart 2/5, f = 1684.7603353435447\n",
      "Optimization restart 3/5, f = 1274.702292416159\n",
      "Optimization restart 4/5, f = 1274.7022925356398\n",
      "Optimization restart 5/5, f = 1274.7022924550697\n",
      "[[ 3.  25.   5.  70.   3.   1.5]]\n",
      "\n",
      "User function emissions called with 1 inputs to simulate\n",
      "\n",
      "Evaluating input: 1 of 1\n",
      "\n",
      " Retrying in 1 seconds\n",
      "\n",
      "Output 20.896181640625\n",
      "\n",
      "Optimization restart 1/5, f = 1278.9932835970128\n"
     ]
    },
    {
     "name": "stderr",
     "output_type": "stream",
     "text": [
      " /Users/Matteo/opt/anaconda3/envs/ml_and_physical/lib/python3.8/site-packages/paramz/transformations.py:111: RuntimeWarning:overflow encountered in expm1\n"
     ]
    },
    {
     "name": "stdout",
     "output_type": "stream",
     "text": [
      "Optimization restart 2/5, f = 1278.9925220270786\n",
      "Optimization restart 3/5, f = 1278.9925220516845\n",
      "Optimization restart 4/5, f = 1278.9925220270457\n"
     ]
    },
    {
     "name": "stderr",
     "output_type": "stream",
     "text": [
      " /Users/Matteo/opt/anaconda3/envs/ml_and_physical/lib/python3.8/site-packages/GPy/kern/src/stationary.py:168: RuntimeWarning:overflow encountered in true_divide\n",
      " /Users/Matteo/opt/anaconda3/envs/ml_and_physical/lib/python3.8/site-packages/GPy/kern/src/rbf.py:52: RuntimeWarning:overflow encountered in square\n",
      " /Users/Matteo/opt/anaconda3/envs/ml_and_physical/lib/python3.8/site-packages/GPy/kern/src/rbf.py:76: RuntimeWarning:invalid value encountered in multiply\n"
     ]
    },
    {
     "name": "stdout",
     "output_type": "stream",
     "text": [
      "Optimization restart 5/5, f = 1548.913776373046\n",
      "[[16.         19.52946163  5.         41.06811712  3.          5.        ]]\n",
      "\n",
      "User function emissions called with 1 inputs to simulate\n",
      "\n",
      "Evaluating input: 1 of 1\n",
      "\n",
      " Retrying in 1 seconds\n",
      "\n",
      "Output 14.950364311171752\n",
      "\n",
      "Optimization restart 1/5, f = 1282.9638813575018\n"
     ]
    },
    {
     "name": "stderr",
     "output_type": "stream",
     "text": [
      " /Users/Matteo/opt/anaconda3/envs/ml_and_physical/lib/python3.8/site-packages/paramz/transformations.py:111: RuntimeWarning:overflow encountered in expm1\n"
     ]
    },
    {
     "name": "stdout",
     "output_type": "stream",
     "text": [
      "Optimization restart 2/5, f = 1282.963819742297\n",
      "Optimization restart 3/5, f = 1282.9638191286203\n",
      "Optimization restart 4/5, f = 1282.9638191271422\n",
      "Optimization restart 5/5, f = 1282.9638192137797\n",
      "[[16.         16.8464415   5.         62.26410239  1.          5.        ]]\n",
      "\n",
      "User function emissions called with 1 inputs to simulate\n",
      "\n",
      "Evaluating input: 1 of 1\n",
      "\n",
      " Retrying in 1 seconds\n",
      "\n",
      "Output 7.975841959615054\n",
      "\n",
      "Optimization restart 1/5, f = 1286.6447301984422\n"
     ]
    },
    {
     "name": "stderr",
     "output_type": "stream",
     "text": [
      " /Users/Matteo/opt/anaconda3/envs/ml_and_physical/lib/python3.8/site-packages/paramz/transformations.py:111: RuntimeWarning:overflow encountered in expm1\n"
     ]
    },
    {
     "name": "stdout",
     "output_type": "stream",
     "text": [
      "Optimization restart 2/5, f = 1286.6446038902602\n",
      "Optimization restart 3/5, f = 1286.6446038901238\n",
      "Optimization restart 4/5, f = 1286.6446038920608\n",
      "Optimization restart 5/5, f = 1286.6446038915556\n",
      "[[17.   8.  27.  30.   1.   1.5]]\n",
      "\n",
      "User function emissions called with 1 inputs to simulate\n",
      "\n",
      "Evaluating input: 1 of 1\n",
      "\n",
      " Retrying in 1 seconds\n",
      "\n",
      "Output 27.19553973200424\n",
      "\n"
     ]
    },
    {
     "name": "stderr",
     "output_type": "stream",
     "text": [
      " /Users/Matteo/opt/anaconda3/envs/ml_and_physical/lib/python3.8/site-packages/paramz/transformations.py:111: RuntimeWarning:overflow encountered in expm1\n"
     ]
    },
    {
     "name": "stdout",
     "output_type": "stream",
     "text": [
      "Optimization restart 1/5, f = 1291.309088947014\n",
      "Optimization restart 2/5, f = 1291.3076727410703\n",
      "Optimization restart 3/5, f = 1291.307672746302\n",
      "Optimization restart 4/5, f = 1291.3076727411951\n",
      "Optimization restart 5/5, f = 1706.3283265888667\n",
      "[[20.          8.          5.         62.73424502  1.          5.        ]]\n",
      "\n",
      "User function emissions called with 1 inputs to simulate\n",
      "\n",
      "Evaluating input: 1 of 1\n",
      "\n",
      " Retrying in 1 seconds\n",
      "\n",
      "Output 6.212565640673591\n",
      "\n"
     ]
    },
    {
     "name": "stderr",
     "output_type": "stream",
     "text": [
      " /Users/Matteo/opt/anaconda3/envs/ml_and_physical/lib/python3.8/site-packages/paramz/transformations.py:111: RuntimeWarning:overflow encountered in expm1\n"
     ]
    },
    {
     "name": "stdout",
     "output_type": "stream",
     "text": [
      "Optimization restart 1/5, f = 1295.2289565337057\n",
      "Optimization restart 2/5, f = 1295.228956498011\n",
      "Optimization restart 3/5, f = 1295.2289564834155\n",
      "Optimization restart 4/5, f = 1295.2289567116777\n",
      "Optimization restart 5/5, f = 1711.6938103433313\n",
      "[[13.          8.         26.16134768 47.64677711  1.          1.5       ]]\n",
      "\n",
      "User function emissions called with 1 inputs to simulate\n",
      "\n",
      "Evaluating input: 1 of 1\n",
      "\n",
      " Retrying in 1 seconds\n",
      "\n",
      "Output 23.41040748392367\n",
      "\n"
     ]
    },
    {
     "name": "stderr",
     "output_type": "stream",
     "text": [
      " /Users/Matteo/opt/anaconda3/envs/ml_and_physical/lib/python3.8/site-packages/paramz/transformations.py:111: RuntimeWarning:overflow encountered in expm1\n"
     ]
    },
    {
     "name": "stdout",
     "output_type": "stream",
     "text": [
      "Optimization restart 1/5, f = 1299.6459168361705\n",
      "Optimization restart 2/5, f = 1299.635138542543\n",
      "Optimization restart 3/5, f = 1299.6351378256288\n",
      "Optimization restart 4/5, f = 1299.635137824862\n",
      "Optimization restart 5/5, f = 1299.6351378245415\n",
      "[[12.  8.  5. 70.  1.  5.]]\n",
      "\n",
      "User function emissions called with 1 inputs to simulate\n",
      "\n",
      "Evaluating input: 1 of 1\n",
      "\n",
      " Retrying in 1 seconds\n",
      "\n",
      "Output 8.061224947770368\n",
      "\n",
      "Optimization restart 1/5, f = 1303.663088709227\n"
     ]
    },
    {
     "name": "stderr",
     "output_type": "stream",
     "text": [
      " /Users/Matteo/opt/anaconda3/envs/ml_and_physical/lib/python3.8/site-packages/paramz/transformations.py:111: RuntimeWarning:overflow encountered in expm1\n"
     ]
    },
    {
     "name": "stdout",
     "output_type": "stream",
     "text": [
      "Optimization restart 2/5, f = 1303.6630185726951\n",
      "Optimization restart 3/5, f = 1303.663018567717\n",
      "Optimization restart 4/5, f = 1303.663018625109\n",
      "Optimization restart 5/5, f = 1303.6630185627153\n",
      "[[20.         25.          5.         56.18790935  1.          5.        ]]\n",
      "\n",
      "User function emissions called with 1 inputs to simulate\n",
      "\n",
      "Evaluating input: 1 of 1\n",
      "\n",
      " Retrying in 1 seconds\n",
      "\n",
      "Output 7.088290971338086\n",
      "\n"
     ]
    },
    {
     "name": "stderr",
     "output_type": "stream",
     "text": [
      " /Users/Matteo/opt/anaconda3/envs/ml_and_physical/lib/python3.8/site-packages/paramz/transformations.py:111: RuntimeWarning:overflow encountered in expm1\n"
     ]
    },
    {
     "name": "stdout",
     "output_type": "stream",
     "text": [
      "Optimization restart 1/5, f = 1307.4984668906275\n",
      "Optimization restart 2/5, f = 1307.498463673247\n",
      "Optimization restart 3/5, f = 1307.4984636718136\n",
      "Optimization restart 4/5, f = 1307.4984640175169\n",
      "Optimization restart 5/5, f = 1307.4984643522296\n",
      "[[20.  25.   5.  30.   3.   1.5]]\n",
      "\n",
      "User function emissions called with 1 inputs to simulate\n",
      "\n",
      "Evaluating input: 1 of 1\n",
      "\n",
      " Retrying in 1 seconds\n",
      "\n",
      "Output 19.13014899498818\n",
      "\n",
      "Optimization restart 1/5, f = 1311.8831179704944\n"
     ]
    },
    {
     "name": "stderr",
     "output_type": "stream",
     "text": [
      " /Users/Matteo/opt/anaconda3/envs/ml_and_physical/lib/python3.8/site-packages/paramz/transformations.py:111: RuntimeWarning:overflow encountered in expm1\n"
     ]
    },
    {
     "name": "stdout",
     "output_type": "stream",
     "text": [
      "Optimization restart 2/5, f = 1311.8830282298463\n",
      "Optimization restart 3/5, f = 1311.8830284402602\n",
      "Optimization restart 4/5, f = 1311.883028648788\n",
      "Optimization restart 5/5, f = 1311.8830282833135\n",
      "[[20.         15.27084732  5.         58.44309318  1.          5.        ]]\n",
      "\n",
      "User function emissions called with 1 inputs to simulate\n",
      "\n",
      "Evaluating input: 1 of 1\n",
      "\n",
      " Retrying in 1 seconds\n",
      "\n",
      "Output 6.827807177433447\n",
      "\n"
     ]
    },
    {
     "name": "stderr",
     "output_type": "stream",
     "text": [
      " /Users/Matteo/opt/anaconda3/envs/ml_and_physical/lib/python3.8/site-packages/paramz/transformations.py:111: RuntimeWarning:overflow encountered in expm1\n"
     ]
    },
    {
     "name": "stdout",
     "output_type": "stream",
     "text": [
      "Optimization restart 1/5, f = 1315.5476209678563\n",
      "Optimization restart 2/5, f = 1738.5580040026687\n",
      "Optimization restart 3/5, f = 1315.5476110158902\n",
      "Optimization restart 4/5, f = 1315.5476110268833\n",
      "Optimization restart 5/5, f = 1315.5476110158393\n",
      "[[14.        25.         5.        61.9419672  1.         5.       ]]\n",
      "\n",
      "User function emissions called with 1 inputs to simulate\n",
      "\n",
      "Evaluating input: 1 of 1\n",
      "\n",
      " Retrying in 1 seconds\n",
      "\n",
      "Output 8.28799185647161\n",
      "\n"
     ]
    },
    {
     "name": "stderr",
     "output_type": "stream",
     "text": [
      " /Users/Matteo/opt/anaconda3/envs/ml_and_physical/lib/python3.8/site-packages/paramz/transformations.py:111: RuntimeWarning:overflow encountered in expm1\n"
     ]
    },
    {
     "name": "stdout",
     "output_type": "stream",
     "text": [
      "Optimization restart 1/5, f = 1319.2279965502996\n"
     ]
    },
    {
     "name": "stderr",
     "output_type": "stream",
     "text": [
      " /Users/Matteo/opt/anaconda3/envs/ml_and_physical/lib/python3.8/site-packages/GPy/kern/src/stationary.py:168: RuntimeWarning:overflow encountered in true_divide\n",
      " /Users/Matteo/opt/anaconda3/envs/ml_and_physical/lib/python3.8/site-packages/GPy/kern/src/rbf.py:52: RuntimeWarning:overflow encountered in square\n",
      " /Users/Matteo/opt/anaconda3/envs/ml_and_physical/lib/python3.8/site-packages/GPy/kern/src/rbf.py:76: RuntimeWarning:invalid value encountered in multiply\n"
     ]
    },
    {
     "name": "stdout",
     "output_type": "stream",
     "text": [
      "Optimization restart 2/5, f = 1522.4259253886871\n",
      "Optimization restart 3/5, f = 1319.227936972287\n",
      "Optimization restart 4/5, f = 1319.227937021331\n",
      "Optimization restart 5/5, f = 1319.2279369660173\n",
      "[[20.  8.  5. 70.  3.  5.]]\n",
      "\n",
      "User function emissions called with 1 inputs to simulate\n",
      "\n",
      "Evaluating input: 1 of 1\n",
      "\n",
      " Retrying in 1 seconds\n",
      "\n",
      "Output 6.056345506308834\n",
      "\n",
      "Optimization restart 1/5, f = 1323.3086448040624\n"
     ]
    },
    {
     "name": "stderr",
     "output_type": "stream",
     "text": [
      " /Users/Matteo/opt/anaconda3/envs/ml_and_physical/lib/python3.8/site-packages/paramz/transformations.py:111: RuntimeWarning:overflow encountered in expm1\n"
     ]
    },
    {
     "name": "stdout",
     "output_type": "stream",
     "text": [
      "Optimization restart 2/5, f = 1323.3083619757442\n",
      "Optimization restart 3/5, f = 1323.3083620278942\n"
     ]
    },
    {
     "name": "stderr",
     "output_type": "stream",
     "text": [
      " /Users/Matteo/opt/anaconda3/envs/ml_and_physical/lib/python3.8/site-packages/GPy/kern/src/rbf.py:52: RuntimeWarning:overflow encountered in square\n"
     ]
    },
    {
     "name": "stdout",
     "output_type": "stream",
     "text": [
      "Optimization restart 4/5, f = 1323.3083619912018\n",
      "Optimization restart 5/5, f = 1323.308361977615\n",
      "[[12.          8.          5.         64.53763722  3.          5.        ]]\n",
      "\n",
      "User function emissions called with 1 inputs to simulate\n",
      "\n",
      "Evaluating input: 1 of 1\n",
      "\n",
      " Retrying in 1 seconds\n",
      "\n",
      "Output 10.283400234421485\n",
      "\n"
     ]
    },
    {
     "name": "stderr",
     "output_type": "stream",
     "text": [
      " /Users/Matteo/opt/anaconda3/envs/ml_and_physical/lib/python3.8/site-packages/paramz/transformations.py:111: RuntimeWarning:overflow encountered in expm1\n"
     ]
    },
    {
     "name": "stdout",
     "output_type": "stream",
     "text": [
      "Optimization restart 1/5, f = 1327.158472214311\n",
      "Optimization restart 2/5, f = 1327.1584251166648\n",
      "Optimization restart 3/5, f = 1327.158425116675\n",
      "Optimization restart 4/5, f = 1327.1584253400877\n",
      "Optimization restart 5/5, f = 1327.1584258781747\n",
      "[[11.         25.          5.         61.83890568  3.          1.5       ]]\n",
      "\n",
      "User function emissions called with 1 inputs to simulate\n",
      "\n",
      "Evaluating input: 1 of 1\n",
      "\n",
      " Retrying in 1 seconds\n",
      "\n",
      "Output 9.8024573503231\n",
      "\n"
     ]
    },
    {
     "name": "stderr",
     "output_type": "stream",
     "text": [
      " /Users/Matteo/opt/anaconda3/envs/ml_and_physical/lib/python3.8/site-packages/paramz/transformations.py:111: RuntimeWarning:overflow encountered in expm1\n"
     ]
    },
    {
     "name": "stdout",
     "output_type": "stream",
     "text": [
      "Optimization restart 1/5, f = 1330.9197519600802\n",
      "Optimization restart 2/5, f = 1330.9197329126084\n",
      "Optimization restart 3/5, f = 1330.919722886057\n",
      "Optimization restart 4/5, f = 1330.9197227524464\n",
      "Optimization restart 5/5, f = 1330.919722757361\n",
      "[[20.          8.          5.         63.46205752  1.          5.        ]]\n",
      "\n",
      "User function emissions called with 1 inputs to simulate\n",
      "\n",
      "Evaluating input: 1 of 1\n",
      "\n",
      " Retrying in 1 seconds\n",
      "\n",
      "Output 6.072847219626642\n",
      "\n"
     ]
    },
    {
     "name": "stderr",
     "output_type": "stream",
     "text": [
      " /Users/Matteo/opt/anaconda3/envs/ml_and_physical/lib/python3.8/site-packages/paramz/transformations.py:111: RuntimeWarning:overflow encountered in expm1\n"
     ]
    },
    {
     "name": "stdout",
     "output_type": "stream",
     "text": [
      "Optimization restart 1/5, f = 1334.632571714822\n",
      "Optimization restart 2/5, f = 1334.6325356373982\n",
      "Optimization restart 3/5, f = 1334.6325356403154\n",
      "Optimization restart 4/5, f = 1334.632535649447\n",
      "Optimization restart 5/5, f = 1334.632535656776\n",
      "[[20.         17.51193971  5.         57.33152348  1.          5.        ]]\n",
      "\n",
      "User function emissions called with 1 inputs to simulate\n",
      "\n",
      "Evaluating input: 1 of 1\n",
      "\n",
      " Retrying in 1 seconds\n",
      "\n",
      "Output 6.95105354740085\n",
      "\n"
     ]
    },
    {
     "name": "stderr",
     "output_type": "stream",
     "text": [
      " /Users/Matteo/opt/anaconda3/envs/ml_and_physical/lib/python3.8/site-packages/paramz/transformations.py:111: RuntimeWarning:overflow encountered in expm1\n"
     ]
    },
    {
     "name": "stdout",
     "output_type": "stream",
     "text": [
      "Optimization restart 1/5, f = 1338.2661132010087\n",
      "Optimization restart 2/5, f = 1338.266110851736\n",
      "Optimization restart 3/5, f = 1338.2661108510028\n",
      "Optimization restart 4/5, f = 1338.266112006502\n",
      "Optimization restart 5/5, f = 1338.2661108543334\n",
      "[[13.        25.         5.        62.8198323  3.         5.       ]]\n",
      "\n",
      "User function emissions called with 1 inputs to simulate\n",
      "\n",
      "Evaluating input: 1 of 1\n",
      "\n",
      " Retrying in 1 seconds\n",
      "\n",
      "Output 9.32149476145718\n",
      "\n",
      "Optimization restart 1/5, f = 1341.9313681641302\n"
     ]
    },
    {
     "name": "stderr",
     "output_type": "stream",
     "text": [
      " /Users/Matteo/opt/anaconda3/envs/ml_and_physical/lib/python3.8/site-packages/paramz/transformations.py:111: RuntimeWarning:overflow encountered in expm1\n"
     ]
    },
    {
     "name": "stdout",
     "output_type": "stream",
     "text": [
      "Optimization restart 2/5, f = 1341.93123998912\n",
      "Optimization restart 3/5, f = 1341.9312400605718\n",
      "Optimization restart 4/5, f = 1341.9312408003623\n",
      "Optimization restart 5/5, f = 1341.9312399895457\n",
      "[[15.         17.97957211  5.         61.88914702  1.          5.        ]]\n",
      "\n",
      "User function emissions called with 1 inputs to simulate\n",
      "\n",
      "Evaluating input: 1 of 1\n",
      "\n",
      " Retrying in 1 seconds\n",
      "\n",
      "Output 7.451286654826586\n",
      "\n"
     ]
    },
    {
     "name": "stderr",
     "output_type": "stream",
     "text": [
      " /Users/Matteo/opt/anaconda3/envs/ml_and_physical/lib/python3.8/site-packages/paramz/transformations.py:111: RuntimeWarning:overflow encountered in expm1\n"
     ]
    },
    {
     "name": "stdout",
     "output_type": "stream",
     "text": [
      "Optimization restart 1/5, f = 1345.531170761379\n",
      "Optimization restart 2/5, f = 1345.5311439250477\n",
      "Optimization restart 3/5, f = 1345.5311439251582\n",
      "Optimization restart 4/5, f = 1345.5311439216277\n",
      "Optimization restart 5/5, f = 1345.5311439236864\n",
      "[[11.         22.31556994  5.         63.20904411  3.          1.5       ]]\n",
      "\n",
      "User function emissions called with 1 inputs to simulate\n",
      "\n",
      "Evaluating input: 1 of 1\n",
      "\n",
      " Retrying in 1 seconds\n",
      "\n",
      "Output 9.512994473444712\n",
      "\n"
     ]
    },
    {
     "name": "stderr",
     "output_type": "stream",
     "text": [
      " /Users/Matteo/opt/anaconda3/envs/ml_and_physical/lib/python3.8/site-packages/paramz/transformations.py:111: RuntimeWarning:overflow encountered in expm1\n"
     ]
    },
    {
     "name": "stdout",
     "output_type": "stream",
     "text": [
      "Optimization restart 1/5, f = 1349.1693984209012\n",
      "Optimization restart 2/5, f = 1349.169391301111\n",
      "Optimization restart 3/5, f = 1349.1693907861904\n",
      "Optimization restart 4/5, f = 1349.1693907842218\n",
      "Optimization restart 5/5, f = 1349.1693908486482\n",
      "[[16.  8.  5. 30.  1.  5.]]\n",
      "\n",
      "User function emissions called with 1 inputs to simulate\n",
      "\n",
      "Evaluating input: 1 of 1\n",
      "\n",
      " Retrying in 1 seconds\n",
      "\n",
      "Output 16.38893232319484\n",
      "\n"
     ]
    },
    {
     "name": "stderr",
     "output_type": "stream",
     "text": [
      " /Users/Matteo/opt/anaconda3/envs/ml_and_physical/lib/python3.8/site-packages/paramz/transformations.py:111: RuntimeWarning:overflow encountered in expm1\n"
     ]
    },
    {
     "name": "stdout",
     "output_type": "stream",
     "text": [
      "Optimization restart 1/5, f = 1353.305781356608\n",
      "Optimization restart 2/5, f = 1353.3056683933999\n"
     ]
    },
    {
     "name": "stderr",
     "output_type": "stream",
     "text": [
      " /Users/Matteo/opt/anaconda3/envs/ml_and_physical/lib/python3.8/site-packages/GPy/kern/src/stationary.py:168: RuntimeWarning:overflow encountered in true_divide\n",
      " /Users/Matteo/opt/anaconda3/envs/ml_and_physical/lib/python3.8/site-packages/GPy/kern/src/rbf.py:52: RuntimeWarning:overflow encountered in square\n",
      " /Users/Matteo/opt/anaconda3/envs/ml_and_physical/lib/python3.8/site-packages/GPy/kern/src/rbf.py:76: RuntimeWarning:invalid value encountered in multiply\n"
     ]
    },
    {
     "name": "stdout",
     "output_type": "stream",
     "text": [
      "Optimization restart 3/5, f = 2023.6030998033555\n",
      "Optimization restart 4/5, f = 1353.3056683817717\n",
      "Optimization restart 5/5, f = 1353.3056683819912\n",
      "[[20.         19.08240945  5.         51.7864338   3.          5.        ]]\n",
      "\n",
      "User function emissions called with 1 inputs to simulate\n",
      "\n",
      "Evaluating input: 1 of 1\n",
      "\n",
      " Retrying in 1 seconds\n",
      "\n",
      "Output 8.793159217074392\n",
      "\n"
     ]
    },
    {
     "name": "stderr",
     "output_type": "stream",
     "text": [
      " /Users/Matteo/opt/anaconda3/envs/ml_and_physical/lib/python3.8/site-packages/paramz/transformations.py:111: RuntimeWarning:overflow encountered in expm1\n"
     ]
    },
    {
     "name": "stdout",
     "output_type": "stream",
     "text": [
      "Optimization restart 1/5, f = 1357.015676955195\n",
      "Optimization restart 2/5, f = 1357.0155530113684\n",
      "Optimization restart 3/5, f = 1357.015553011423\n",
      "Optimization restart 4/5, f = 1357.0155530113402\n",
      "Optimization restart 5/5, f = 1357.0155530253428\n",
      "[[ 9.          8.          5.         39.72565134  1.          5.        ]]\n",
      "\n",
      "User function emissions called with 1 inputs to simulate\n",
      "\n",
      "Evaluating input: 1 of 1\n",
      "\n",
      " Retrying in 1 seconds\n",
      "\n",
      "Output 16.791855536609837\n",
      "\n",
      "Optimization restart 1/5, f = 1361.023052126758\n"
     ]
    },
    {
     "name": "stderr",
     "output_type": "stream",
     "text": [
      " /Users/Matteo/opt/anaconda3/envs/ml_and_physical/lib/python3.8/site-packages/paramz/transformations.py:111: RuntimeWarning:overflow encountered in expm1\n"
     ]
    },
    {
     "name": "stdout",
     "output_type": "stream",
     "text": [
      "Optimization restart 2/5, f = 1361.0219253226537\n",
      "Optimization restart 3/5, f = 1361.0219252792513\n",
      "Optimization restart 4/5, f = 1361.021925277679\n",
      "Optimization restart 5/5, f = 1361.0219255235231\n",
      "[[20.         25.          5.         58.01940701  1.          5.        ]]\n",
      "\n",
      "User function emissions called with 1 inputs to simulate\n",
      "\n",
      "Evaluating input: 1 of 1\n",
      "\n",
      " Retrying in 1 seconds\n",
      "\n",
      "Output 6.835465380359308\n",
      "\n"
     ]
    },
    {
     "name": "stderr",
     "output_type": "stream",
     "text": [
      " /Users/Matteo/opt/anaconda3/envs/ml_and_physical/lib/python3.8/site-packages/paramz/transformations.py:111: RuntimeWarning:overflow encountered in expm1\n"
     ]
    },
    {
     "name": "stdout",
     "output_type": "stream",
     "text": [
      "Optimization restart 1/5, f = 1364.693100291183\n",
      "Optimization restart 2/5, f = 1364.693071135729\n",
      "Optimization restart 3/5, f = 1364.6930710375577\n"
     ]
    },
    {
     "name": "stderr",
     "output_type": "stream",
     "text": [
      " /Users/Matteo/opt/anaconda3/envs/ml_and_physical/lib/python3.8/site-packages/GPy/kern/src/rbf.py:52: RuntimeWarning:overflow encountered in square\n"
     ]
    },
    {
     "name": "stdout",
     "output_type": "stream",
     "text": [
      "Optimization restart 4/5, f = 1364.6930710373463\n",
      "Optimization restart 5/5, f = 1364.6930710366698\n",
      "[[13.         25.          5.         63.17077563  3.          5.        ]]\n",
      "\n",
      "User function emissions called with 1 inputs to simulate\n",
      "\n",
      "Evaluating input: 1 of 1\n",
      "\n",
      " Retrying in 1 seconds\n",
      "\n",
      "Output 9.2685323551388\n",
      "\n",
      "Optimization restart 1/5, f = 1368.305941516741\n"
     ]
    },
    {
     "name": "stderr",
     "output_type": "stream",
     "text": [
      " /Users/Matteo/opt/anaconda3/envs/ml_and_physical/lib/python3.8/site-packages/paramz/transformations.py:111: RuntimeWarning:overflow encountered in expm1\n"
     ]
    },
    {
     "name": "stdout",
     "output_type": "stream",
     "text": [
      "Optimization restart 2/5, f = 1368.305834648914\n",
      "Optimization restart 3/5, f = 1368.3058343899784\n",
      "Optimization restart 4/5, f = 1368.3058343869948\n",
      "Optimization restart 5/5, f = 1368.3058350121564\n",
      "[[15.         25.          5.         40.00359113  3.          1.5       ]]\n",
      "\n",
      "User function emissions called with 1 inputs to simulate\n",
      "\n",
      "Evaluating input: 1 of 1\n",
      "\n",
      " Retrying in 1 seconds\n",
      "\n",
      "Output 14.442244791666646\n",
      "\n"
     ]
    },
    {
     "name": "stderr",
     "output_type": "stream",
     "text": [
      " /Users/Matteo/opt/anaconda3/envs/ml_and_physical/lib/python3.8/site-packages/paramz/transformations.py:111: RuntimeWarning:overflow encountered in expm1\n"
     ]
    },
    {
     "name": "stdout",
     "output_type": "stream",
     "text": [
      "Optimization restart 1/5, f = 1372.0967811759242\n",
      "Optimization restart 2/5, f = 1372.096671636274\n",
      "Optimization restart 3/5, f = 1372.096672033669\n",
      "Optimization restart 4/5, f = 1372.0966716703788\n",
      "Optimization restart 5/5, f = 1372.0966716382236\n",
      "[[20.  8.  5. 70.  1.  5.]]\n",
      "\n",
      "User function emissions called with 1 inputs to simulate\n",
      "\n",
      "Evaluating input: 1 of 1\n",
      "\n",
      " Retrying in 1 seconds\n",
      "\n",
      "Output 5.54770372540081\n",
      "\n"
     ]
    },
    {
     "name": "stderr",
     "output_type": "stream",
     "text": [
      " /Users/Matteo/opt/anaconda3/envs/ml_and_physical/lib/python3.8/site-packages/paramz/transformations.py:111: RuntimeWarning:overflow encountered in expm1\n"
     ]
    },
    {
     "name": "stdout",
     "output_type": "stream",
     "text": [
      "Optimization restart 1/5, f = 1375.861284032891\n",
      "Optimization restart 2/5, f = 1375.8612650748826\n",
      "Optimization restart 3/5, f = 1375.861264891015\n",
      "Optimization restart 4/5, f = 1375.8612648725004\n",
      "Optimization restart 5/5, f = 1375.8612648725023\n",
      "[[20.  8.  5. 70.  1.  5.]]\n",
      "\n",
      "User function emissions called with 1 inputs to simulate\n",
      "\n",
      "Evaluating input: 1 of 1\n",
      "\n",
      " Retrying in 1 seconds\n",
      "\n",
      "Output 5.54770372540081\n",
      "\n"
     ]
    },
    {
     "name": "stderr",
     "output_type": "stream",
     "text": [
      " /Users/Matteo/opt/anaconda3/envs/ml_and_physical/lib/python3.8/site-packages/paramz/transformations.py:111: RuntimeWarning:overflow encountered in expm1\n"
     ]
    },
    {
     "name": "stdout",
     "output_type": "stream",
     "text": [
      "Optimization restart 1/5, f = 1379.5276301244044\n",
      "Optimization restart 2/5, f = 1379.5275981304712\n",
      "Optimization restart 3/5, f = 1379.5275982768803\n",
      "Optimization restart 4/5, f = 1379.5275981305035\n",
      "Optimization restart 5/5, f = 1379.5275993764742\n",
      "[[20.         16.96996661  5.         56.94730224  1.          5.        ]]\n",
      "\n",
      "User function emissions called with 1 inputs to simulate\n",
      "\n",
      "Evaluating input: 1 of 1\n",
      "\n",
      " Retrying in 1 seconds\n",
      "\n",
      "Output 6.990920496298359\n",
      "\n"
     ]
    },
    {
     "name": "stderr",
     "output_type": "stream",
     "text": [
      " /Users/Matteo/opt/anaconda3/envs/ml_and_physical/lib/python3.8/site-packages/paramz/transformations.py:111: RuntimeWarning:overflow encountered in expm1\n"
     ]
    },
    {
     "name": "stdout",
     "output_type": "stream",
     "text": [
      "Optimization restart 1/5, f = 1383.1030706467034\n",
      "Optimization restart 2/5, f = 1383.1030641359848\n",
      "Optimization restart 3/5, f = 1383.1030642164926\n",
      "Optimization restart 4/5, f = 1383.1030641029724\n",
      "Optimization restart 5/5, f = 1383.1030640990737\n",
      "[[12.         25.          5.         61.76492714  1.          1.5       ]]\n",
      "\n",
      "User function emissions called with 1 inputs to simulate\n",
      "\n",
      "Evaluating input: 1 of 1\n",
      "\n",
      " Retrying in 1 seconds\n",
      "\n",
      "Output 9.292266537106128\n",
      "\n"
     ]
    },
    {
     "name": "stderr",
     "output_type": "stream",
     "text": [
      " /Users/Matteo/opt/anaconda3/envs/ml_and_physical/lib/python3.8/site-packages/paramz/transformations.py:111: RuntimeWarning:overflow encountered in expm1\n"
     ]
    },
    {
     "name": "stdout",
     "output_type": "stream",
     "text": [
      "Optimization restart 1/5, f = 1386.7378113440204\n",
      "Optimization restart 2/5, f = 1386.7378068442015\n"
     ]
    },
    {
     "name": "stderr",
     "output_type": "stream",
     "text": [
      " /Users/Matteo/opt/anaconda3/envs/ml_and_physical/lib/python3.8/site-packages/GPy/kern/src/stationary.py:168: RuntimeWarning:overflow encountered in true_divide\n",
      " /Users/Matteo/opt/anaconda3/envs/ml_and_physical/lib/python3.8/site-packages/GPy/kern/src/rbf.py:52: RuntimeWarning:overflow encountered in square\n",
      " /Users/Matteo/opt/anaconda3/envs/ml_and_physical/lib/python3.8/site-packages/GPy/kern/src/rbf.py:76: RuntimeWarning:invalid value encountered in multiply\n"
     ]
    },
    {
     "name": "stdout",
     "output_type": "stream",
     "text": [
      "Optimization restart 3/5, f = 1703.1895138489897\n",
      "Optimization restart 4/5, f = 1386.7378068508285\n",
      "Optimization restart 5/5, f = 1386.7378068469\n",
      "[[20.   8.   5.  70.   1.   1.5]]\n",
      "\n",
      "User function emissions called with 1 inputs to simulate\n",
      "\n",
      "Evaluating input: 1 of 1\n",
      "\n",
      " Retrying in 1 seconds\n",
      "\n",
      "Output 5.469575516984683\n",
      "\n"
     ]
    },
    {
     "name": "stderr",
     "output_type": "stream",
     "text": [
      " /Users/Matteo/opt/anaconda3/envs/ml_and_physical/lib/python3.8/site-packages/paramz/transformations.py:111: RuntimeWarning:overflow encountered in expm1\n"
     ]
    },
    {
     "name": "stdout",
     "output_type": "stream",
     "text": [
      "Optimization restart 1/5, f = 1390.7284845690458\n",
      "Optimization restart 2/5, f = 1390.7281551277767\n",
      "Optimization restart 3/5, f = 1390.7281551276315\n",
      "Optimization restart 4/5, f = 1390.7281551365836\n",
      "Optimization restart 5/5, f = 1390.7281564481448\n",
      "[[20.  8.  5. 70.  1.  5.]]\n",
      "\n",
      "User function emissions called with 1 inputs to simulate\n",
      "\n",
      "Evaluating input: 1 of 1\n",
      "\n",
      " Retrying in 1 seconds\n",
      "\n",
      "Output 5.54770372540081\n",
      "\n"
     ]
    },
    {
     "name": "stderr",
     "output_type": "stream",
     "text": [
      " /Users/Matteo/opt/anaconda3/envs/ml_and_physical/lib/python3.8/site-packages/paramz/transformations.py:111: RuntimeWarning:overflow encountered in expm1\n"
     ]
    },
    {
     "name": "stdout",
     "output_type": "stream",
     "text": [
      "Optimization restart 1/5, f = 1394.3287683725412\n",
      "Optimization restart 2/5, f = 1394.3287401235464\n",
      "Optimization restart 3/5, f = 1394.328740647487\n",
      "Optimization restart 4/5, f = 1394.3287401026398\n",
      "Optimization restart 5/5, f = 1394.328740121465\n",
      "[[14.        18.2838439  5.        61.0217155  1.         5.       ]]\n",
      "\n",
      "User function emissions called with 1 inputs to simulate\n",
      "\n",
      "Evaluating input: 1 of 1\n",
      "\n",
      " Retrying in 1 seconds\n",
      "\n",
      "Output 8.381940018996161\n",
      "\n"
     ]
    },
    {
     "name": "stderr",
     "output_type": "stream",
     "text": [
      " /Users/Matteo/opt/anaconda3/envs/ml_and_physical/lib/python3.8/site-packages/paramz/transformations.py:111: RuntimeWarning:overflow encountered in expm1\n"
     ]
    },
    {
     "name": "stdout",
     "output_type": "stream",
     "text": [
      "Optimization restart 1/5, f = 1397.895835642382\n",
      "Optimization restart 2/5, f = 1397.895835796307\n",
      "Optimization restart 3/5, f = 1397.8958356351936\n",
      "Optimization restart 4/5, f = 1397.8958362567316\n",
      "Optimization restart 5/5, f = 1397.8958367338923\n",
      "[[11.         15.41434892  5.         64.4383285   3.          5.        ]]\n",
      "\n",
      "User function emissions called with 1 inputs to simulate\n",
      "\n",
      "Evaluating input: 1 of 1\n",
      "\n",
      " Retrying in 1 seconds\n",
      "\n",
      "Output 9.572842517240387\n",
      "\n"
     ]
    },
    {
     "name": "stderr",
     "output_type": "stream",
     "text": [
      " /Users/Matteo/opt/anaconda3/envs/ml_and_physical/lib/python3.8/site-packages/paramz/transformations.py:111: RuntimeWarning:overflow encountered in expm1\n"
     ]
    },
    {
     "name": "stdout",
     "output_type": "stream",
     "text": [
      "Optimization restart 1/5, f = 1401.508409759594\n",
      "Optimization restart 2/5, f = 1401.5084022911296\n",
      "Optimization restart 3/5, f = 1401.5084022889148\n"
     ]
    },
    {
     "name": "stderr",
     "output_type": "stream",
     "text": [
      " /Users/Matteo/opt/anaconda3/envs/ml_and_physical/lib/python3.8/site-packages/GPy/kern/src/rbf.py:52: RuntimeWarning:overflow encountered in square\n"
     ]
    },
    {
     "name": "stdout",
     "output_type": "stream",
     "text": [
      "Optimization restart 4/5, f = 1401.5084022890883\n",
      "Optimization restart 5/5, f = 1401.5084023151453\n"
     ]
    }
   ],
   "source": [
    "bo_random_init = BayesianOptimizationLoop(parameter_space, emukit_model_random_init, acquisition=acquisition_random_init)\n",
    "bo_random_init.run_loop(user_function_emissions, n_iter_bo)"
   ]
  },
  {
   "cell_type": "code",
   "execution_count": 15,
   "metadata": {},
   "outputs": [
    {
     "name": "stdout",
     "output_type": "stream",
     "text": [
      "Optimization restart 1/5, f = 1299.81783983801\n",
      "Optimization restart 2/5, f = 1299.8178398490209\n",
      "Optimization restart 3/5, f = 1299.8178418079897\n",
      "Optimization restart 4/5, f = 1342.8603518625468\n",
      "Optimization restart 5/5, f = 1625.4010799965722\n",
      "[[20.         25.          5.         64.22771518  1.          5.        ]]\n",
      "\n",
      "User function emissions called with 1 inputs to simulate\n",
      "\n",
      "Evaluating input: 1 of 1\n",
      "\n",
      " Retrying in 1 seconds\n",
      "\n",
      "Output 5.995269942563651\n",
      "\n",
      "Optimization restart 1/5, f = 1303.6884926972411\n"
     ]
    },
    {
     "name": "stderr",
     "output_type": "stream",
     "text": [
      " /Users/Matteo/opt/anaconda3/envs/ml_and_physical/lib/python3.8/site-packages/paramz/transformations.py:111: RuntimeWarning:overflow encountered in expm1\n"
     ]
    },
    {
     "name": "stdout",
     "output_type": "stream",
     "text": [
      "Optimization restart 2/5, f = 1346.8168688956505\n",
      "Optimization restart 3/5, f = 1631.025641578025\n",
      "Optimization restart 4/5, f = 1303.6884552327747\n",
      "Optimization restart 5/5, f = 1346.8168699981195\n",
      "[[20.         13.91617844  5.         60.68796114  1.          1.5       ]]\n",
      "\n",
      "User function emissions called with 1 inputs to simulate\n",
      "\n",
      "Evaluating input: 1 of 1\n",
      "\n",
      " Retrying in 1 seconds\n",
      "\n",
      "Output 6.458436413889607\n",
      "\n",
      "Optimization restart 1/5, f = 1307.5599285554697\n"
     ]
    },
    {
     "name": "stderr",
     "output_type": "stream",
     "text": [
      " /Users/Matteo/opt/anaconda3/envs/ml_and_physical/lib/python3.8/site-packages/paramz/transformations.py:111: RuntimeWarning:overflow encountered in expm1\n"
     ]
    },
    {
     "name": "stdout",
     "output_type": "stream",
     "text": [
      "Optimization restart 2/5, f = 1307.5599016343454\n",
      "Optimization restart 3/5, f = 1636.64861430059\n",
      "Optimization restart 4/5, f = 1350.2547253901196\n",
      "Optimization restart 5/5, f = 1307.5599016088222\n",
      "[[20.         13.91953606  5.         60.74986437  1.          1.5       ]]\n",
      "\n",
      "User function emissions called with 1 inputs to simulate\n",
      "\n",
      "Evaluating input: 1 of 1\n",
      "\n",
      " Retrying in 1 seconds\n",
      "\n",
      "Output 6.362534690326308\n",
      "\n",
      "Optimization restart 1/5, f = 1311.3302419623085\n"
     ]
    },
    {
     "name": "stderr",
     "output_type": "stream",
     "text": [
      " /Users/Matteo/opt/anaconda3/envs/ml_and_physical/lib/python3.8/site-packages/paramz/transformations.py:111: RuntimeWarning:overflow encountered in expm1\n"
     ]
    },
    {
     "name": "stdout",
     "output_type": "stream",
     "text": [
      "Optimization restart 2/5, f = 1311.3301940095957\n",
      "Optimization restart 3/5, f = 1349.7890395190323\n",
      "Optimization restart 4/5, f = 1311.3301942190474\n",
      "Optimization restart 5/5, f = 1311.3301940079677\n",
      "[[20.          8.          5.         55.21683905  1.          1.5       ]]\n",
      "\n",
      "User function emissions called with 1 inputs to simulate\n",
      "\n",
      "Evaluating input: 1 of 1\n",
      "\n",
      " Retrying in 1 seconds\n",
      "\n",
      "Output 7.107001302872211\n",
      "\n",
      "Optimization restart 1/5, f = 1315.155188277045\n"
     ]
    },
    {
     "name": "stderr",
     "output_type": "stream",
     "text": [
      " /Users/Matteo/opt/anaconda3/envs/ml_and_physical/lib/python3.8/site-packages/paramz/transformations.py:111: RuntimeWarning:overflow encountered in expm1\n"
     ]
    },
    {
     "name": "stdout",
     "output_type": "stream",
     "text": [
      "Optimization restart 2/5, f = 1315.1551819737645\n",
      "Optimization restart 3/5, f = 1315.1551819732167\n",
      "Optimization restart 4/5, f = 1353.2601205868987\n",
      "Optimization restart 5/5, f = 1353.2600296354615\n",
      "[[13.         25.          5.         66.39110752  1.          5.        ]]\n",
      "\n",
      "User function emissions called with 1 inputs to simulate\n",
      "\n",
      "Evaluating input: 1 of 1\n",
      "\n",
      " Retrying in 1 seconds\n",
      "\n",
      "Output 8.079431802733097\n",
      "\n",
      "Optimization restart 1/5, f = 1318.9855795837718\n"
     ]
    },
    {
     "name": "stderr",
     "output_type": "stream",
     "text": [
      " /Users/Matteo/opt/anaconda3/envs/ml_and_physical/lib/python3.8/site-packages/paramz/transformations.py:111: RuntimeWarning:overflow encountered in expm1\n"
     ]
    },
    {
     "name": "stdout",
     "output_type": "stream",
     "text": [
      "Optimization restart 2/5, f = 1318.985505768627\n",
      "Optimization restart 3/5, f = 1356.6637216387635\n",
      "Optimization restart 4/5, f = 1318.985502213377\n",
      "Optimization restart 5/5, f = 1318.9855014482873\n",
      "[[20.         25.          5.         63.99024618  1.          5.        ]]\n",
      "\n",
      "User function emissions called with 1 inputs to simulate\n",
      "\n",
      "Evaluating input: 1 of 1\n",
      "\n",
      " Retrying in 1 seconds\n",
      "\n",
      "Output 6.007560332282009\n",
      "\n",
      "Optimization restart 1/5, f = 1322.7221280416204\n"
     ]
    },
    {
     "name": "stderr",
     "output_type": "stream",
     "text": [
      " /Users/Matteo/opt/anaconda3/envs/ml_and_physical/lib/python3.8/site-packages/paramz/transformations.py:111: RuntimeWarning:overflow encountered in expm1\n",
      " /Users/Matteo/opt/anaconda3/envs/ml_and_physical/lib/python3.8/site-packages/GPy/kern/src/stationary.py:168: RuntimeWarning:overflow encountered in true_divide\n",
      " /Users/Matteo/opt/anaconda3/envs/ml_and_physical/lib/python3.8/site-packages/GPy/kern/src/rbf.py:52: RuntimeWarning:overflow encountered in square\n",
      " /Users/Matteo/opt/anaconda3/envs/ml_and_physical/lib/python3.8/site-packages/GPy/kern/src/rbf.py:76: RuntimeWarning:invalid value encountered in multiply\n"
     ]
    },
    {
     "name": "stdout",
     "output_type": "stream",
     "text": [
      "Optimization restart 2/5, f = 1609.2913792955496\n",
      "Optimization restart 3/5, f = 1322.722089156784\n",
      "Optimization restart 4/5, f = 1322.72209064671\n",
      "Optimization restart 5/5, f = 1322.7220891476502\n",
      "[[14.         22.64988158  5.         38.92726232  3.          5.        ]]\n",
      "\n",
      "User function emissions called with 1 inputs to simulate\n",
      "\n",
      "Evaluating input: 1 of 1\n",
      "\n",
      " Retrying in 1 seconds\n",
      "\n",
      "Output 14.949856960872497\n",
      "\n",
      "Optimization restart 1/5, f = 1326.7116098890465\n"
     ]
    },
    {
     "name": "stderr",
     "output_type": "stream",
     "text": [
      " /Users/Matteo/opt/anaconda3/envs/ml_and_physical/lib/python3.8/site-packages/paramz/transformations.py:111: RuntimeWarning:overflow encountered in expm1\n"
     ]
    },
    {
     "name": "stdout",
     "output_type": "stream",
     "text": [
      "Optimization restart 2/5, f = 1360.2026653325079\n"
     ]
    },
    {
     "name": "stderr",
     "output_type": "stream",
     "text": [
      " /Users/Matteo/opt/anaconda3/envs/ml_and_physical/lib/python3.8/site-packages/GPy/kern/src/rbf.py:52: RuntimeWarning:overflow encountered in square\n",
      " /Users/Matteo/opt/anaconda3/envs/ml_and_physical/lib/python3.8/site-packages/GPy/kern/src/stationary.py:168: RuntimeWarning:overflow encountered in true_divide\n",
      " /Users/Matteo/opt/anaconda3/envs/ml_and_physical/lib/python3.8/site-packages/GPy/kern/src/rbf.py:76: RuntimeWarning:invalid value encountered in multiply\n"
     ]
    },
    {
     "name": "stdout",
     "output_type": "stream",
     "text": [
      "Optimization restart 3/5, f = 1701.9896967410584\n",
      "Optimization restart 4/5, f = 1326.7116095112592\n",
      "Optimization restart 5/5, f = 1699.6304564448371\n",
      "[[13. 25.  5. 70.  1.  5.]]\n",
      "\n",
      "User function emissions called with 1 inputs to simulate\n",
      "\n",
      "Evaluating input: 1 of 1\n",
      "\n",
      " Retrying in 1 seconds\n",
      "\n",
      "Output 7.501729452868674\n",
      "\n",
      "Optimization restart 1/5, f = 1330.4727769762949\n"
     ]
    },
    {
     "name": "stderr",
     "output_type": "stream",
     "text": [
      " /Users/Matteo/opt/anaconda3/envs/ml_and_physical/lib/python3.8/site-packages/paramz/transformations.py:111: RuntimeWarning:overflow encountered in expm1\n",
      " /Users/Matteo/opt/anaconda3/envs/ml_and_physical/lib/python3.8/site-packages/GPy/kern/src/rbf.py:52: RuntimeWarning:overflow encountered in square\n"
     ]
    },
    {
     "name": "stdout",
     "output_type": "stream",
     "text": [
      "Optimization restart 2/5, f = 1330.4727391291647\n",
      "Optimization restart 3/5, f = 1363.1968501842487\n",
      "Optimization restart 4/5, f = 1363.1969411646937\n",
      "Optimization restart 5/5, f = 1330.4727391281954\n",
      "[[20.         22.05611973  5.         62.7408381   1.          5.        ]]\n",
      "\n",
      "User function emissions called with 1 inputs to simulate\n",
      "\n",
      "Evaluating input: 1 of 1\n",
      "\n",
      " Retrying in 1 seconds\n",
      "\n",
      "Output 6.221063408112267\n",
      "\n",
      "Optimization restart 1/5, f = 1334.1727283679404\n"
     ]
    },
    {
     "name": "stderr",
     "output_type": "stream",
     "text": [
      " /Users/Matteo/opt/anaconda3/envs/ml_and_physical/lib/python3.8/site-packages/paramz/transformations.py:111: RuntimeWarning:overflow encountered in expm1\n"
     ]
    },
    {
     "name": "stdout",
     "output_type": "stream",
     "text": [
      "Optimization restart 2/5, f = 1334.1727117808985\n",
      "Optimization restart 3/5, f = 1334.1727117757973\n",
      "Optimization restart 4/5, f = 1334.1727131401137\n",
      "Optimization restart 5/5, f = 1334.172711777053\n",
      "[[20.          8.          5.         53.82034855  1.          1.5       ]]\n",
      "\n",
      "User function emissions called with 1 inputs to simulate\n",
      "\n",
      "Evaluating input: 1 of 1\n",
      "\n",
      " Retrying in 1 seconds\n",
      "\n",
      "Output 7.357148780672293\n",
      "\n",
      "Optimization restart 1/5, f = 1337.9053973946704\n"
     ]
    },
    {
     "name": "stderr",
     "output_type": "stream",
     "text": [
      " /Users/Matteo/opt/anaconda3/envs/ml_and_physical/lib/python3.8/site-packages/paramz/transformations.py:111: RuntimeWarning:overflow encountered in expm1\n"
     ]
    },
    {
     "name": "stdout",
     "output_type": "stream",
     "text": [
      "Optimization restart 2/5, f = 1337.9053748392726\n",
      "Optimization restart 3/5, f = 1367.8103191737039\n"
     ]
    },
    {
     "name": "stderr",
     "output_type": "stream",
     "text": [
      " /Users/Matteo/opt/anaconda3/envs/ml_and_physical/lib/python3.8/site-packages/GPy/kern/src/stationary.py:168: RuntimeWarning:overflow encountered in true_divide\n",
      " /Users/Matteo/opt/anaconda3/envs/ml_and_physical/lib/python3.8/site-packages/GPy/kern/src/rbf.py:52: RuntimeWarning:overflow encountered in square\n",
      " /Users/Matteo/opt/anaconda3/envs/ml_and_physical/lib/python3.8/site-packages/GPy/kern/src/rbf.py:76: RuntimeWarning:invalid value encountered in multiply\n"
     ]
    },
    {
     "name": "stdout",
     "output_type": "stream",
     "text": [
      "Optimization restart 4/5, f = 1707.3767987998028\n",
      "Optimization restart 5/5, f = 1337.9053746942323\n",
      "[[20.         16.62999983  5.         61.96412975  1.          1.5       ]]\n",
      "\n",
      "User function emissions called with 1 inputs to simulate\n",
      "\n",
      "Evaluating input: 1 of 1\n",
      "\n",
      " Retrying in 1 seconds\n",
      "\n",
      "Output 6.226611298286326\n",
      "\n"
     ]
    },
    {
     "name": "stderr",
     "output_type": "stream",
     "text": [
      " /Users/Matteo/opt/anaconda3/envs/ml_and_physical/lib/python3.8/site-packages/paramz/transformations.py:111: RuntimeWarning:overflow encountered in expm1\n"
     ]
    },
    {
     "name": "stdout",
     "output_type": "stream",
     "text": [
      "Optimization restart 1/5, f = 1341.5923942059069\n",
      "Optimization restart 2/5, f = 1370.1024715671604\n",
      "Optimization restart 3/5, f = 1370.1024108904655\n",
      "Optimization restart 4/5, f = 1341.5923672005329\n",
      "Optimization restart 5/5, f = 1370.1023806311189\n",
      "[[20.   8.   5.  70.   3.   1.5]]\n",
      "\n",
      "User function emissions called with 1 inputs to simulate\n",
      "\n",
      "Evaluating input: 1 of 1\n",
      "\n",
      " Retrying in 1 seconds\n",
      "\n",
      "Output 5.952162774388234\n",
      "\n"
     ]
    },
    {
     "name": "stderr",
     "output_type": "stream",
     "text": [
      " /Users/Matteo/opt/anaconda3/envs/ml_and_physical/lib/python3.8/site-packages/paramz/transformations.py:111: RuntimeWarning:overflow encountered in expm1\n"
     ]
    },
    {
     "name": "stdout",
     "output_type": "stream",
     "text": [
      "Optimization restart 1/5, f = 1345.3768961191427\n",
      "Optimization restart 2/5, f = 1345.3768352823206\n",
      "Optimization restart 3/5, f = 1345.3768352809204\n",
      "Optimization restart 4/5, f = 1362.1575943263722\n",
      "Optimization restart 5/5, f = 1362.1577777584932\n",
      "[[11.         22.76206826  5.         60.70934077  1.          5.        ]]\n",
      "\n",
      "User function emissions called with 1 inputs to simulate\n",
      "\n",
      "Evaluating input: 1 of 1\n",
      "\n",
      " Retrying in 1 seconds\n",
      "\n",
      "Output 9.246895537634465\n",
      "\n"
     ]
    },
    {
     "name": "stderr",
     "output_type": "stream",
     "text": [
      " /Users/Matteo/opt/anaconda3/envs/ml_and_physical/lib/python3.8/site-packages/paramz/transformations.py:111: RuntimeWarning:overflow encountered in expm1\n"
     ]
    },
    {
     "name": "stdout",
     "output_type": "stream",
     "text": [
      "Optimization restart 1/5, f = 1349.1131055618744\n",
      "Optimization restart 2/5, f = 1365.2064987087028\n",
      "Optimization restart 3/5, f = 1349.1130995007384\n",
      "Optimization restart 4/5, f = 1349.1130995093947\n",
      "Optimization restart 5/5, f = 1365.2065826649114\n",
      "[[20.         25.          5.         65.97909149  3.          5.        ]]\n",
      "\n",
      "User function emissions called with 1 inputs to simulate\n",
      "\n",
      "Evaluating input: 1 of 1\n",
      "\n",
      " Retrying in 1 seconds\n",
      "\n",
      "Output 6.345265566729273\n",
      "\n",
      "Optimization restart 1/5, f = 1352.801727686579\n"
     ]
    },
    {
     "name": "stderr",
     "output_type": "stream",
     "text": [
      " /Users/Matteo/opt/anaconda3/envs/ml_and_physical/lib/python3.8/site-packages/paramz/transformations.py:111: RuntimeWarning:overflow encountered in expm1\n"
     ]
    },
    {
     "name": "stdout",
     "output_type": "stream",
     "text": [
      "Optimization restart 2/5, f = 1367.6561287957052\n",
      "Optimization restart 3/5, f = 1367.6561293112632\n"
     ]
    },
    {
     "name": "stderr",
     "output_type": "stream",
     "text": [
      " /Users/Matteo/opt/anaconda3/envs/ml_and_physical/lib/python3.8/site-packages/GPy/kern/src/stationary.py:168: RuntimeWarning:overflow encountered in true_divide\n",
      " /Users/Matteo/opt/anaconda3/envs/ml_and_physical/lib/python3.8/site-packages/GPy/kern/src/rbf.py:52: RuntimeWarning:overflow encountered in square\n",
      " /Users/Matteo/opt/anaconda3/envs/ml_and_physical/lib/python3.8/site-packages/GPy/kern/src/rbf.py:76: RuntimeWarning:invalid value encountered in multiply\n"
     ]
    },
    {
     "name": "stdout",
     "output_type": "stream",
     "text": [
      "Optimization restart 4/5, f = 1753.7923616125238\n",
      "Optimization restart 5/5, f = 1352.8016936785364\n",
      "[[20.         11.98722407  5.         70.          1.          1.5       ]]\n",
      "\n",
      "User function emissions called with 1 inputs to simulate\n",
      "\n",
      "Evaluating input: 1 of 1\n",
      "\n",
      " Retrying in 1 seconds\n",
      "\n",
      "Output 5.469575516984683\n",
      "\n",
      "Optimization restart 1/5, f = 1356.5539306893081\n"
     ]
    },
    {
     "name": "stderr",
     "output_type": "stream",
     "text": [
      " /Users/Matteo/opt/anaconda3/envs/ml_and_physical/lib/python3.8/site-packages/paramz/transformations.py:111: RuntimeWarning:overflow encountered in expm1\n"
     ]
    },
    {
     "name": "stdout",
     "output_type": "stream",
     "text": [
      "Optimization restart 2/5, f = 1371.1463133724358\n",
      "Optimization restart 3/5, f = 1371.1463776640287\n",
      "Optimization restart 4/5, f = 1356.5539242455175\n",
      "Optimization restart 5/5, f = 1371.1461923692825\n",
      "[[20.         16.3196992   5.         59.90895706  1.          1.5       ]]\n",
      "\n",
      "User function emissions called with 1 inputs to simulate\n",
      "\n",
      "Evaluating input: 1 of 1\n",
      "\n",
      " Retrying in 1 seconds\n",
      "\n",
      "Output 6.475930092849312\n",
      "\n",
      "Optimization restart 1/5, f = 1360.1935401630737\n"
     ]
    },
    {
     "name": "stderr",
     "output_type": "stream",
     "text": [
      " /Users/Matteo/opt/anaconda3/envs/ml_and_physical/lib/python3.8/site-packages/paramz/transformations.py:111: RuntimeWarning:overflow encountered in expm1\n"
     ]
    },
    {
     "name": "stdout",
     "output_type": "stream",
     "text": [
      "Optimization restart 2/5, f = 1375.231068712488\n",
      "Optimization restart 3/5, f = 1375.2310688609311\n",
      "Optimization restart 4/5, f = 1360.1935174139535\n",
      "Optimization restart 5/5, f = 1360.1935174143057\n",
      "[[20.         15.79777644  5.         61.28002948  1.          1.5       ]]\n",
      "\n",
      "User function emissions called with 1 inputs to simulate\n",
      "\n",
      "Evaluating input: 1 of 1\n",
      "\n",
      " Retrying in 1 seconds\n",
      "\n",
      "Output 6.309692473420912\n",
      "\n"
     ]
    },
    {
     "name": "stderr",
     "output_type": "stream",
     "text": [
      " /Users/Matteo/opt/anaconda3/envs/ml_and_physical/lib/python3.8/site-packages/paramz/transformations.py:111: RuntimeWarning:overflow encountered in expm1\n"
     ]
    },
    {
     "name": "stdout",
     "output_type": "stream",
     "text": [
      "Optimization restart 1/5, f = 1363.8029007348555\n",
      "Optimization restart 2/5, f = 1376.4251055794577\n",
      "Optimization restart 3/5, f = 1363.8028552936878\n",
      "Optimization restart 4/5, f = 1363.8028552937767\n",
      "Optimization restart 5/5, f = 1376.4251026810475\n",
      "[[10.          8.          5.         42.01720368  3.          5.        ]]\n",
      "\n",
      "User function emissions called with 1 inputs to simulate\n",
      "\n",
      "Evaluating input: 1 of 1\n",
      "\n",
      " Retrying in 1 seconds\n",
      "\n",
      "Output 21.681407911122996\n",
      "\n",
      "Optimization restart 1/5, f = 1367.9673014020673\n"
     ]
    },
    {
     "name": "stderr",
     "output_type": "stream",
     "text": [
      " /Users/Matteo/opt/anaconda3/envs/ml_and_physical/lib/python3.8/site-packages/paramz/transformations.py:111: RuntimeWarning:overflow encountered in expm1\n"
     ]
    },
    {
     "name": "stdout",
     "output_type": "stream",
     "text": [
      "Optimization restart 2/5, f = 1380.2105542162583\n",
      "Optimization restart 3/5, f = 1367.9665087236667\n",
      "Optimization restart 4/5, f = 1367.9665089487496\n"
     ]
    },
    {
     "name": "stderr",
     "output_type": "stream",
     "text": [
      " /Users/Matteo/opt/anaconda3/envs/ml_and_physical/lib/python3.8/site-packages/GPy/kern/src/rbf.py:52: RuntimeWarning:overflow encountered in square\n"
     ]
    },
    {
     "name": "stdout",
     "output_type": "stream",
     "text": [
      "Optimization restart 5/5, f = 1380.2106450406468\n",
      "[[20.          8.          5.         51.84354848  1.          1.5       ]]\n",
      "\n",
      "User function emissions called with 1 inputs to simulate\n",
      "\n",
      "Evaluating input: 1 of 1\n",
      "\n",
      " Retrying in 1 seconds\n",
      "\n",
      "Output 7.665247420867632\n",
      "\n",
      "Optimization restart 1/5, f = 1371.633041628585\n"
     ]
    },
    {
     "name": "stderr",
     "output_type": "stream",
     "text": [
      " /Users/Matteo/opt/anaconda3/envs/ml_and_physical/lib/python3.8/site-packages/paramz/transformations.py:111: RuntimeWarning:overflow encountered in expm1\n"
     ]
    },
    {
     "name": "stdout",
     "output_type": "stream",
     "text": [
      "Optimization restart 2/5, f = 1371.6330104196275\n",
      "Optimization restart 3/5, f = 1381.189654599979\n",
      "Optimization restart 4/5, f = 1371.633010417103\n",
      "Optimization restart 5/5, f = 1381.1896002010221\n",
      "[[20.         15.28247807  5.         57.54635919  1.          1.5       ]]\n",
      "\n",
      "User function emissions called with 1 inputs to simulate\n",
      "\n",
      "Evaluating input: 1 of 1\n",
      "\n",
      " Retrying in 1 seconds\n",
      "\n",
      "Output 6.83322841291702\n",
      "\n",
      "Optimization restart 1/5, f = 1375.2390600519057\n"
     ]
    },
    {
     "name": "stderr",
     "output_type": "stream",
     "text": [
      " /Users/Matteo/opt/anaconda3/envs/ml_and_physical/lib/python3.8/site-packages/paramz/transformations.py:111: RuntimeWarning:overflow encountered in expm1\n",
      " /Users/Matteo/opt/anaconda3/envs/ml_and_physical/lib/python3.8/site-packages/GPy/kern/src/stationary.py:168: RuntimeWarning:overflow encountered in true_divide\n",
      " /Users/Matteo/opt/anaconda3/envs/ml_and_physical/lib/python3.8/site-packages/GPy/kern/src/rbf.py:52: RuntimeWarning:overflow encountered in square\n",
      " /Users/Matteo/opt/anaconda3/envs/ml_and_physical/lib/python3.8/site-packages/GPy/kern/src/rbf.py:76: RuntimeWarning:invalid value encountered in multiply\n"
     ]
    },
    {
     "name": "stdout",
     "output_type": "stream",
     "text": [
      "Optimization restart 2/5, f = 1634.4985638382875\n",
      "Optimization restart 3/5, f = 1383.2599377538018\n",
      "Optimization restart 4/5, f = 1383.2599205488495\n",
      "Optimization restart 5/5, f = 1383.2597514269767\n",
      "[[20.  8.  5. 70.  3.  5.]]\n",
      "\n",
      "User function emissions called with 1 inputs to simulate\n",
      "\n",
      "Evaluating input: 1 of 1\n",
      "\n",
      " Retrying in 1 seconds\n",
      "\n",
      "Output 6.056345506308834\n",
      "\n",
      "Optimization restart 1/5, f = 1378.972659211905\n"
     ]
    },
    {
     "name": "stderr",
     "output_type": "stream",
     "text": [
      " /Users/Matteo/opt/anaconda3/envs/ml_and_physical/lib/python3.8/site-packages/paramz/transformations.py:111: RuntimeWarning:overflow encountered in expm1\n"
     ]
    },
    {
     "name": "stdout",
     "output_type": "stream",
     "text": [
      "Optimization restart 2/5, f = 1386.3240925488637\n",
      "Optimization restart 3/5, f = 1378.9725609218967\n"
     ]
    },
    {
     "name": "stderr",
     "output_type": "stream",
     "text": [
      " /Users/Matteo/opt/anaconda3/envs/ml_and_physical/lib/python3.8/site-packages/GPy/kern/src/stationary.py:168: RuntimeWarning:overflow encountered in true_divide\n",
      " /Users/Matteo/opt/anaconda3/envs/ml_and_physical/lib/python3.8/site-packages/GPy/kern/src/rbf.py:52: RuntimeWarning:overflow encountered in square\n",
      " /Users/Matteo/opt/anaconda3/envs/ml_and_physical/lib/python3.8/site-packages/GPy/kern/src/rbf.py:76: RuntimeWarning:invalid value encountered in multiply\n"
     ]
    },
    {
     "name": "stdout",
     "output_type": "stream",
     "text": [
      "Optimization restart 4/5, f = 1799.366603869028\n",
      "Optimization restart 5/5, f = 1386.324184007428\n",
      "[[20.         25.          5.         63.21502941  1.          5.        ]]\n",
      "\n",
      "User function emissions called with 1 inputs to simulate\n",
      "\n",
      "Evaluating input: 1 of 1\n",
      "\n",
      " Retrying in 1 seconds\n",
      "\n",
      "Output 6.1100944870858545\n",
      "\n"
     ]
    },
    {
     "name": "stderr",
     "output_type": "stream",
     "text": [
      " /Users/Matteo/opt/anaconda3/envs/ml_and_physical/lib/python3.8/site-packages/paramz/transformations.py:111: RuntimeWarning:overflow encountered in expm1\n"
     ]
    },
    {
     "name": "stdout",
     "output_type": "stream",
     "text": [
      "Optimization restart 1/5, f = 1382.579495109168\n",
      "Optimization restart 2/5, f = 1385.6926129796982\n",
      "Optimization restart 3/5, f = 1385.692522003972\n"
     ]
    },
    {
     "name": "stderr",
     "output_type": "stream",
     "text": [
      " /Users/Matteo/opt/anaconda3/envs/ml_and_physical/lib/python3.8/site-packages/GPy/kern/src/stationary.py:168: RuntimeWarning:overflow encountered in true_divide\n",
      " /Users/Matteo/opt/anaconda3/envs/ml_and_physical/lib/python3.8/site-packages/GPy/kern/src/rbf.py:52: RuntimeWarning:overflow encountered in square\n",
      " /Users/Matteo/opt/anaconda3/envs/ml_and_physical/lib/python3.8/site-packages/GPy/kern/src/rbf.py:76: RuntimeWarning:invalid value encountered in multiply\n"
     ]
    },
    {
     "name": "stdout",
     "output_type": "stream",
     "text": [
      "Optimization restart 4/5, f = 1785.3089425228022\n",
      "Optimization restart 5/5, f = 1382.5794469329874\n",
      "[[20.         15.14827395  5.         70.          3.          5.        ]]\n",
      "\n",
      "User function emissions called with 1 inputs to simulate\n",
      "\n",
      "Evaluating input: 1 of 1\n",
      "\n",
      " Retrying in 1 seconds\n",
      "\n",
      "Output 6.053722725678697\n",
      "\n",
      "Optimization restart 1/5, f = 1386.23604582347\n"
     ]
    },
    {
     "name": "stderr",
     "output_type": "stream",
     "text": [
      " /Users/Matteo/opt/anaconda3/envs/ml_and_physical/lib/python3.8/site-packages/paramz/transformations.py:111: RuntimeWarning:overflow encountered in expm1\n"
     ]
    },
    {
     "name": "stdout",
     "output_type": "stream",
     "text": [
      "Optimization restart 2/5, f = 1386.2360246186302\n",
      "Optimization restart 3/5, f = 1385.1485387074538\n",
      "Optimization restart 4/5, f = 1385.1485235289472\n",
      "Optimization restart 5/5, f = 1385.148501442284\n",
      "[[ 9.         25.          5.         37.70867575  3.          5.        ]]\n",
      "\n",
      "User function emissions called with 1 inputs to simulate\n",
      "\n",
      "Evaluating input: 1 of 1\n",
      "\n",
      " Retrying in 1 seconds\n",
      "\n",
      "Output 21.854578895923943\n",
      "\n"
     ]
    },
    {
     "name": "stderr",
     "output_type": "stream",
     "text": [
      " /Users/Matteo/opt/anaconda3/envs/ml_and_physical/lib/python3.8/site-packages/paramz/transformations.py:111: RuntimeWarning:overflow encountered in expm1\n"
     ]
    },
    {
     "name": "stdout",
     "output_type": "stream",
     "text": [
      "Optimization restart 1/5, f = 1393.6940714738041\n",
      "Optimization restart 2/5, f = 1390.0259864778288\n",
      "Optimization restart 3/5, f = 1390.0259864779657\n",
      "Optimization restart 4/5, f = 1390.02598653683\n",
      "Optimization restart 5/5, f = 1390.0259864893474\n",
      "[[20.         12.70782545  5.         70.          3.          1.5       ]]\n",
      "\n",
      "User function emissions called with 1 inputs to simulate\n",
      "\n",
      "Evaluating input: 1 of 1\n",
      "\n",
      " Retrying in 1 seconds\n",
      "\n",
      "Output 5.92480416043588\n",
      "\n",
      "Optimization restart 1/5, f = 1393.652180819552\n"
     ]
    },
    {
     "name": "stderr",
     "output_type": "stream",
     "text": [
      " /Users/Matteo/opt/anaconda3/envs/ml_and_physical/lib/python3.8/site-packages/paramz/transformations.py:111: RuntimeWarning:overflow encountered in expm1\n"
     ]
    },
    {
     "name": "stdout",
     "output_type": "stream",
     "text": [
      "Optimization restart 2/5, f = 1395.9925613095488\n",
      "Optimization restart 3/5, f = 1395.9923796412834\n",
      "Optimization restart 4/5, f = 1395.9924249045266\n",
      "Optimization restart 5/5, f = 1393.6521430504017\n",
      "[[11.         21.28609491  5.         53.81296154  1.          5.        ]]\n",
      "\n",
      "User function emissions called with 1 inputs to simulate\n",
      "\n",
      "Evaluating input: 1 of 1\n",
      "\n",
      " Retrying in 1 seconds\n",
      "\n",
      "Output 10.598976176000543\n",
      "\n"
     ]
    },
    {
     "name": "stderr",
     "output_type": "stream",
     "text": [
      " /Users/Matteo/opt/anaconda3/envs/ml_and_physical/lib/python3.8/site-packages/paramz/transformations.py:111: RuntimeWarning:overflow encountered in expm1\n"
     ]
    },
    {
     "name": "stdout",
     "output_type": "stream",
     "text": [
      "Optimization restart 1/5, f = 1397.3640553236457\n",
      "Optimization restart 2/5, f = 1399.8353120690376\n",
      "Optimization restart 3/5, f = 1399.835267856691\n"
     ]
    },
    {
     "name": "stderr",
     "output_type": "stream",
     "text": [
      " /Users/Matteo/opt/anaconda3/envs/ml_and_physical/lib/python3.8/site-packages/GPy/kern/src/rbf.py:52: RuntimeWarning:overflow encountered in square\n"
     ]
    },
    {
     "name": "stdout",
     "output_type": "stream",
     "text": [
      "Optimization restart 4/5, f = 1399.8353080704476\n",
      "Optimization restart 5/5, f = 1399.8353076535095\n",
      "[[20.          8.          5.         63.37882575  1.          1.5       ]]\n",
      "\n",
      "User function emissions called with 1 inputs to simulate\n",
      "\n",
      "Evaluating input: 1 of 1\n",
      "\n",
      " Retrying in 1 seconds\n",
      "\n",
      "Output 6.064304538407094\n",
      "\n"
     ]
    },
    {
     "name": "stderr",
     "output_type": "stream",
     "text": [
      " /Users/Matteo/opt/anaconda3/envs/ml_and_physical/lib/python3.8/site-packages/paramz/transformations.py:111: RuntimeWarning:overflow encountered in expm1\n"
     ]
    },
    {
     "name": "stdout",
     "output_type": "stream",
     "text": [
      "Optimization restart 1/5, f = 1401.0076748282274\n",
      "Optimization restart 2/5, f = 1400.8195497476206\n",
      "Optimization restart 3/5, f = 1401.007671256746\n",
      "Optimization restart 4/5, f = 1401.0076685768806\n",
      "Optimization restart 5/5, f = 1400.8194590285948\n",
      "[[20.         20.62144622  5.         51.46866452  1.          1.5       ]]\n",
      "\n",
      "User function emissions called with 1 inputs to simulate\n",
      "\n",
      "Evaluating input: 1 of 1\n",
      "\n",
      " Retrying in 1 seconds\n",
      "\n",
      "Output 7.705250661272452\n",
      "\n"
     ]
    },
    {
     "name": "stderr",
     "output_type": "stream",
     "text": [
      " /Users/Matteo/opt/anaconda3/envs/ml_and_physical/lib/python3.8/site-packages/paramz/transformations.py:111: RuntimeWarning:overflow encountered in expm1\n"
     ]
    },
    {
     "name": "stdout",
     "output_type": "stream",
     "text": [
      "Optimization restart 1/5, f = 1409.3920901019885\n",
      "Optimization restart 2/5, f = 1409.1137963253627\n",
      "Optimization restart 3/5, f = 1409.1138199528834\n",
      "Optimization restart 4/5, f = 1404.6569383703973\n",
      "Optimization restart 5/5, f = 1409.1137969942852\n",
      "[[20.         25.          5.         65.94410128  3.          5.        ]]\n",
      "\n",
      "User function emissions called with 1 inputs to simulate\n",
      "\n",
      "Evaluating input: 1 of 1\n",
      "\n",
      " Retrying in 1 seconds\n",
      "\n",
      "Output 6.367272574511226\n",
      "\n"
     ]
    },
    {
     "name": "stderr",
     "output_type": "stream",
     "text": [
      " /Users/Matteo/opt/anaconda3/envs/ml_and_physical/lib/python3.8/site-packages/paramz/transformations.py:111: RuntimeWarning:overflow encountered in expm1\n"
     ]
    },
    {
     "name": "stdout",
     "output_type": "stream",
     "text": [
      "Optimization restart 1/5, f = 1408.243771291527\n",
      "Optimization restart 2/5, f = 1406.063004828157\n",
      "Optimization restart 3/5, f = 1406.0631083653002\n",
      "Optimization restart 4/5, f = 1406.0630623187676\n",
      "Optimization restart 5/5, f = 1406.0632936372542\n",
      "[[17.         21.54265142  5.         54.61527894  3.          1.5       ]]\n",
      "\n",
      "User function emissions called with 1 inputs to simulate\n",
      "\n",
      "Evaluating input: 1 of 1\n",
      "\n",
      " Retrying in 1 seconds\n",
      "\n",
      "Output 8.042690343773575\n",
      "\n"
     ]
    },
    {
     "name": "stderr",
     "output_type": "stream",
     "text": [
      " /Users/Matteo/opt/anaconda3/envs/ml_and_physical/lib/python3.8/site-packages/paramz/transformations.py:111: RuntimeWarning:overflow encountered in expm1\n"
     ]
    },
    {
     "name": "stdout",
     "output_type": "stream",
     "text": [
      "Optimization restart 1/5, f = 1410.5180446577783\n",
      "Optimization restart 2/5, f = 1411.9602935177293\n",
      "Optimization restart 3/5, f = 1411.9602938167204\n",
      "Optimization restart 4/5, f = 1410.5061799501566\n",
      "Optimization restart 5/5, f = 1410.5062252595894\n",
      "[[14.         11.66447483  5.         64.66900571  1.          1.5       ]]\n",
      "\n",
      "User function emissions called with 1 inputs to simulate\n",
      "\n",
      "Evaluating input: 1 of 1\n",
      "\n",
      " Retrying in 1 seconds\n",
      "\n",
      "Output 7.841633974358285\n",
      "\n"
     ]
    },
    {
     "name": "stderr",
     "output_type": "stream",
     "text": [
      " /Users/Matteo/opt/anaconda3/envs/ml_and_physical/lib/python3.8/site-packages/paramz/transformations.py:111: RuntimeWarning:overflow encountered in expm1\n"
     ]
    },
    {
     "name": "stdout",
     "output_type": "stream",
     "text": [
      "Optimization restart 1/5, f = 1414.4062236602224\n",
      "Optimization restart 2/5, f = 1415.6126764977025\n",
      "Optimization restart 3/5, f = 1415.6126765073989\n"
     ]
    },
    {
     "name": "stderr",
     "output_type": "stream",
     "text": [
      " /Users/Matteo/opt/anaconda3/envs/ml_and_physical/lib/python3.8/site-packages/GPy/kern/src/rbf.py:52: RuntimeWarning:overflow encountered in square\n"
     ]
    },
    {
     "name": "stdout",
     "output_type": "stream",
     "text": [
      "Optimization restart 4/5, f = 1414.4062000639206\n",
      "Optimization restart 5/5, f = 1415.612676497927\n",
      "[[ 9.         17.37160268  5.         54.37723271  3.          1.5       ]]\n",
      "\n",
      "User function emissions called with 1 inputs to simulate\n",
      "\n",
      "Evaluating input: 1 of 1\n",
      "\n",
      " Retrying in 1 seconds\n",
      "\n",
      "Output 13.78782506315301\n",
      "\n",
      "Optimization restart 1/5, f = 1418.4441633777558\n"
     ]
    },
    {
     "name": "stderr",
     "output_type": "stream",
     "text": [
      " /Users/Matteo/opt/anaconda3/envs/ml_and_physical/lib/python3.8/site-packages/paramz/transformations.py:111: RuntimeWarning:overflow encountered in expm1\n"
     ]
    },
    {
     "name": "stdout",
     "output_type": "stream",
     "text": [
      "Optimization restart 2/5, f = 1418.4417418185808\n",
      "Optimization restart 3/5, f = 1418.4416060174765\n",
      "Optimization restart 4/5, f = 1418.4417873234174\n",
      "Optimization restart 5/5, f = 1418.4416532534872\n",
      "[[20.         20.04754091  5.         54.75481313  3.          1.5       ]]\n",
      "\n",
      "User function emissions called with 1 inputs to simulate\n",
      "\n",
      "Evaluating input: 1 of 1\n",
      "\n",
      " Retrying in 1 seconds\n",
      "\n",
      "Output 8.256162465307515\n",
      "\n"
     ]
    },
    {
     "name": "stderr",
     "output_type": "stream",
     "text": [
      " /Users/Matteo/opt/anaconda3/envs/ml_and_physical/lib/python3.8/site-packages/paramz/transformations.py:111: RuntimeWarning:overflow encountered in expm1\n"
     ]
    },
    {
     "name": "stdout",
     "output_type": "stream",
     "text": [
      "Optimization restart 1/5, f = 1422.5338159629016\n"
     ]
    },
    {
     "name": "stderr",
     "output_type": "stream",
     "text": [
      " /Users/Matteo/opt/anaconda3/envs/ml_and_physical/lib/python3.8/site-packages/GPy/kern/src/stationary.py:168: RuntimeWarning:overflow encountered in true_divide\n",
      " /Users/Matteo/opt/anaconda3/envs/ml_and_physical/lib/python3.8/site-packages/GPy/kern/src/rbf.py:52: RuntimeWarning:overflow encountered in square\n",
      " /Users/Matteo/opt/anaconda3/envs/ml_and_physical/lib/python3.8/site-packages/GPy/kern/src/rbf.py:76: RuntimeWarning:invalid value encountered in multiply\n"
     ]
    },
    {
     "name": "stdout",
     "output_type": "stream",
     "text": [
      "Optimization restart 2/5, f = 1586.7664218017894\n",
      "Optimization restart 3/5, f = 1422.5296207239583\n",
      "Optimization restart 4/5, f = 1751.2324987590189\n",
      "Optimization restart 5/5, f = 1422.8646786628453\n",
      "[[20.         11.86380322  5.         66.71921482  1.          5.        ]]\n",
      "\n",
      "User function emissions called with 1 inputs to simulate\n",
      "\n",
      "Evaluating input: 1 of 1\n",
      "\n",
      " Retrying in 1 seconds\n",
      "\n",
      "Output 5.80269729344567\n",
      "\n"
     ]
    },
    {
     "name": "stderr",
     "output_type": "stream",
     "text": [
      " /Users/Matteo/opt/anaconda3/envs/ml_and_physical/lib/python3.8/site-packages/paramz/transformations.py:111: RuntimeWarning:overflow encountered in expm1\n"
     ]
    },
    {
     "name": "stdout",
     "output_type": "stream",
     "text": [
      "Optimization restart 1/5, f = 1428.0508330105056\n",
      "Optimization restart 2/5, f = 1426.4636826048982\n",
      "Optimization restart 3/5, f = 1428.0102041879113\n",
      "Optimization restart 4/5, f = 1426.4636826048174\n",
      "Optimization restart 5/5, f = 1428.0101143993031\n",
      "[[20.         19.8715907   5.         66.47189299  3.          5.        ]]\n",
      "\n",
      "User function emissions called with 1 inputs to simulate\n",
      "\n",
      "Evaluating input: 1 of 1\n",
      "\n",
      " Retrying in 1 seconds\n",
      "\n",
      "Output 6.341555260658109\n",
      "\n"
     ]
    },
    {
     "name": "stderr",
     "output_type": "stream",
     "text": [
      " /Users/Matteo/opt/anaconda3/envs/ml_and_physical/lib/python3.8/site-packages/paramz/transformations.py:111: RuntimeWarning:overflow encountered in expm1\n"
     ]
    },
    {
     "name": "stdout",
     "output_type": "stream",
     "text": [
      "Optimization restart 1/5, f = 1430.0380016256604\n",
      "Optimization restart 2/5, f = 1430.6849706700693\n",
      "Optimization restart 3/5, f = 1430.6849720626929\n",
      "Optimization restart 4/5, f = 1430.6850154565639\n",
      "Optimization restart 5/5, f = 1430.6848797683556\n",
      "[[20.         13.95811816  5.         65.41317275  3.          1.5       ]]\n",
      "\n",
      "User function emissions called with 1 inputs to simulate\n",
      "\n",
      "Evaluating input: 1 of 1\n",
      "\n",
      " Retrying in 1 seconds\n",
      "\n",
      "Output 6.370022140683912\n",
      "\n"
     ]
    },
    {
     "name": "stderr",
     "output_type": "stream",
     "text": [
      " /Users/Matteo/opt/anaconda3/envs/ml_and_physical/lib/python3.8/site-packages/paramz/transformations.py:111: RuntimeWarning:overflow encountered in expm1\n"
     ]
    },
    {
     "name": "stdout",
     "output_type": "stream",
     "text": [
      "Optimization restart 1/5, f = 1433.609366581238\n",
      "Optimization restart 2/5, f = 1433.6092951530002\n",
      "Optimization restart 3/5, f = 1434.0242699527844\n",
      "Optimization restart 4/5, f = 1434.0245898598625\n",
      "Optimization restart 5/5, f = 1434.0245859651513\n",
      "[[20.         25.          5.         63.54615423  1.          5.        ]]\n",
      "\n",
      "User function emissions called with 1 inputs to simulate\n",
      "\n",
      "Evaluating input: 1 of 1\n",
      "\n",
      " Retrying in 1 seconds\n",
      "\n",
      "Output 6.093780348471499\n",
      "\n"
     ]
    },
    {
     "name": "stderr",
     "output_type": "stream",
     "text": [
      " /Users/Matteo/opt/anaconda3/envs/ml_and_physical/lib/python3.8/site-packages/paramz/transformations.py:111: RuntimeWarning:overflow encountered in expm1\n"
     ]
    },
    {
     "name": "stdout",
     "output_type": "stream",
     "text": [
      "Optimization restart 1/5, f = 1437.1315482490697\n",
      "Optimization restart 2/5, f = 1437.13149309368\n"
     ]
    },
    {
     "name": "stderr",
     "output_type": "stream",
     "text": [
      " /Users/Matteo/opt/anaconda3/envs/ml_and_physical/lib/python3.8/site-packages/GPy/kern/src/rbf.py:52: RuntimeWarning:overflow encountered in square\n"
     ]
    },
    {
     "name": "stdout",
     "output_type": "stream",
     "text": [
      "Optimization restart 3/5, f = 1437.1314931063193\n",
      "Optimization restart 4/5, f = 1437.1314930987778\n",
      "Optimization restart 5/5, f = 1437.1314931036216\n",
      "[[20.          8.          5.         50.94904012  1.          1.5       ]]\n",
      "\n",
      "User function emissions called with 1 inputs to simulate\n",
      "\n",
      "Evaluating input: 1 of 1\n",
      "\n",
      " Retrying in 1 seconds\n",
      "\n",
      "Output 7.741513931750021\n",
      "\n"
     ]
    },
    {
     "name": "stderr",
     "output_type": "stream",
     "text": [
      " /Users/Matteo/opt/anaconda3/envs/ml_and_physical/lib/python3.8/site-packages/paramz/transformations.py:111: RuntimeWarning:overflow encountered in expm1\n"
     ]
    },
    {
     "name": "stdout",
     "output_type": "stream",
     "text": [
      "Optimization restart 1/5, f = 1440.6869572467015\n",
      "Optimization restart 2/5, f = 1519.2486198557883\n",
      "Optimization restart 3/5, f = 1440.686913334352\n",
      "Optimization restart 4/5, f = 1440.6869131049052\n",
      "Optimization restart 5/5, f = 1440.6869129306624\n",
      "[[20.   8.   5.  70.   1.   1.5]]\n",
      "\n",
      "User function emissions called with 1 inputs to simulate\n",
      "\n",
      "Evaluating input: 1 of 1\n",
      "\n",
      " Retrying in 1 seconds\n",
      "\n",
      "Output 5.469575516984683\n",
      "\n"
     ]
    },
    {
     "name": "stderr",
     "output_type": "stream",
     "text": [
      " /Users/Matteo/opt/anaconda3/envs/ml_and_physical/lib/python3.8/site-packages/paramz/transformations.py:111: RuntimeWarning:overflow encountered in expm1\n"
     ]
    },
    {
     "name": "stdout",
     "output_type": "stream",
     "text": [
      "Optimization restart 1/5, f = 1444.3097482487217\n",
      "Optimization restart 2/5, f = 1522.1223015960725\n",
      "Optimization restart 3/5, f = 1444.3097119367487\n",
      "Optimization restart 4/5, f = 1444.309711885649\n"
     ]
    },
    {
     "name": "stderr",
     "output_type": "stream",
     "text": [
      " /Users/Matteo/opt/anaconda3/envs/ml_and_physical/lib/python3.8/site-packages/GPy/kern/src/stationary.py:168: RuntimeWarning:overflow encountered in true_divide\n",
      " /Users/Matteo/opt/anaconda3/envs/ml_and_physical/lib/python3.8/site-packages/GPy/kern/src/rbf.py:52: RuntimeWarning:overflow encountered in square\n",
      " /Users/Matteo/opt/anaconda3/envs/ml_and_physical/lib/python3.8/site-packages/GPy/kern/src/rbf.py:76: RuntimeWarning:invalid value encountered in multiply\n"
     ]
    },
    {
     "name": "stdout",
     "output_type": "stream",
     "text": [
      "Optimization restart 5/5, f = 1873.1833335816007\n",
      "[[20.         12.72993737  5.         70.          3.          5.        ]]\n",
      "\n",
      "User function emissions called with 1 inputs to simulate\n",
      "\n",
      "Evaluating input: 1 of 1\n",
      "\n",
      " Retrying in 1 seconds\n",
      "\n",
      "Output 6.034074422870714\n",
      "\n"
     ]
    },
    {
     "name": "stderr",
     "output_type": "stream",
     "text": [
      " /Users/Matteo/opt/anaconda3/envs/ml_and_physical/lib/python3.8/site-packages/paramz/transformations.py:111: RuntimeWarning:overflow encountered in expm1\n"
     ]
    },
    {
     "name": "stdout",
     "output_type": "stream",
     "text": [
      "Optimization restart 1/5, f = 1447.8446580579946\n",
      "Optimization restart 2/5, f = 1447.8446212080803\n",
      "Optimization restart 3/5, f = 1447.8446211925502\n"
     ]
    },
    {
     "name": "stderr",
     "output_type": "stream",
     "text": [
      " /Users/Matteo/opt/anaconda3/envs/ml_and_physical/lib/python3.8/site-packages/GPy/kern/src/stationary.py:168: RuntimeWarning:overflow encountered in true_divide\n",
      " /Users/Matteo/opt/anaconda3/envs/ml_and_physical/lib/python3.8/site-packages/GPy/kern/src/rbf.py:52: RuntimeWarning:overflow encountered in square\n",
      " /Users/Matteo/opt/anaconda3/envs/ml_and_physical/lib/python3.8/site-packages/GPy/kern/src/rbf.py:76: RuntimeWarning:invalid value encountered in multiply\n"
     ]
    },
    {
     "name": "stdout",
     "output_type": "stream",
     "text": [
      "Optimization restart 4/5, f = 1740.3697489014532\n",
      "Optimization restart 5/5, f = 1447.8446213416282\n",
      "[[16.         14.30367537  5.         70.          3.          5.        ]]\n",
      "\n",
      "User function emissions called with 1 inputs to simulate\n",
      "\n",
      "Evaluating input: 1 of 1\n",
      "\n",
      " Retrying in 1 seconds\n",
      "\n",
      "Output 7.400403171801743\n",
      "\n"
     ]
    },
    {
     "name": "stderr",
     "output_type": "stream",
     "text": [
      " /Users/Matteo/opt/anaconda3/envs/ml_and_physical/lib/python3.8/site-packages/paramz/transformations.py:111: RuntimeWarning:overflow encountered in expm1\n"
     ]
    },
    {
     "name": "stdout",
     "output_type": "stream",
     "text": [
      "Optimization restart 1/5, f = 1451.4021405455399\n",
      "Optimization restart 2/5, f = 1527.924476377121\n",
      "Optimization restart 3/5, f = 1451.4021303938812\n",
      "Optimization restart 4/5, f = 1527.9243575949208\n",
      "Optimization restart 5/5, f = 1451.402127693925\n",
      "[[20.         18.63915741  5.         62.40097878  1.          1.5       ]]\n",
      "\n",
      "User function emissions called with 1 inputs to simulate\n",
      "\n",
      "Evaluating input: 1 of 1\n",
      "\n",
      " Retrying in 1 seconds\n",
      "\n",
      "Output 6.17720958954473\n",
      "\n"
     ]
    },
    {
     "name": "stderr",
     "output_type": "stream",
     "text": [
      " /Users/Matteo/opt/anaconda3/envs/ml_and_physical/lib/python3.8/site-packages/paramz/transformations.py:111: RuntimeWarning:overflow encountered in expm1\n"
     ]
    },
    {
     "name": "stdout",
     "output_type": "stream",
     "text": [
      "Optimization restart 1/5, f = 1454.9014583332648\n",
      "Optimization restart 2/5, f = 1454.90141835748\n",
      "Optimization restart 3/5, f = 1454.9014183599527\n",
      "Optimization restart 4/5, f = 1435.2890960218633\n",
      "Optimization restart 5/5, f = 1454.90141835744\n",
      "[[19.         25.          5.         40.62884159  1.          1.5       ]]\n",
      "\n",
      "User function emissions called with 1 inputs to simulate\n",
      "\n",
      "Evaluating input: 1 of 1\n",
      "\n",
      " Retrying in 1 seconds\n",
      "\n",
      "Output 11.491490359541467\n",
      "\n",
      "Optimization restart 1/5, f = 1440.0043893206398\n"
     ]
    },
    {
     "name": "stderr",
     "output_type": "stream",
     "text": [
      " /Users/Matteo/opt/anaconda3/envs/ml_and_physical/lib/python3.8/site-packages/paramz/transformations.py:111: RuntimeWarning:overflow encountered in expm1\n"
     ]
    },
    {
     "name": "stdout",
     "output_type": "stream",
     "text": [
      "Optimization restart 2/5, f = 1533.2177057358072\n",
      "Optimization restart 3/5, f = 1458.5794781659831\n",
      "Optimization restart 4/5, f = 1533.217784227812\n"
     ]
    },
    {
     "name": "stderr",
     "output_type": "stream",
     "text": [
      " /Users/Matteo/opt/anaconda3/envs/ml_and_physical/lib/python3.8/site-packages/GPy/kern/src/rbf.py:52: RuntimeWarning:overflow encountered in square\n"
     ]
    },
    {
     "name": "stdout",
     "output_type": "stream",
     "text": [
      "Optimization restart 5/5, f = 1458.5794782079183\n",
      "[[16.        25.         5.        52.2051055  3.         5.       ]]\n",
      "\n",
      "User function emissions called with 1 inputs to simulate\n",
      "\n",
      "Evaluating input: 1 of 1\n",
      "\n",
      " Retrying in 1 seconds\n",
      "\n",
      "Output 10.742736383213002\n",
      "\n"
     ]
    },
    {
     "name": "stderr",
     "output_type": "stream",
     "text": [
      " /Users/Matteo/opt/anaconda3/envs/ml_and_physical/lib/python3.8/site-packages/paramz/transformations.py:111: RuntimeWarning:overflow encountered in expm1\n"
     ]
    },
    {
     "name": "stdout",
     "output_type": "stream",
     "text": [
      "Optimization restart 1/5, f = 1444.1343230559517\n",
      "Optimization restart 2/5, f = 1540.6119237323546\n",
      "Optimization restart 3/5, f = 1462.2071207229378\n",
      "Optimization restart 4/5, f = 1540.6119948284281\n",
      "Optimization restart 5/5, f = 1462.2071207237364\n",
      "[[17.          8.          5.         57.30707875  1.          5.        ]]\n",
      "\n",
      "User function emissions called with 1 inputs to simulate\n",
      "\n",
      "Evaluating input: 1 of 1\n",
      "\n",
      " Retrying in 1 seconds\n",
      "\n",
      "Output 6.912886456174385\n",
      "\n",
      "Optimization restart 1/5, f = 1447.489300076503\n"
     ]
    },
    {
     "name": "stderr",
     "output_type": "stream",
     "text": [
      " /Users/Matteo/opt/anaconda3/envs/ml_and_physical/lib/python3.8/site-packages/paramz/transformations.py:111: RuntimeWarning:overflow encountered in expm1\n"
     ]
    },
    {
     "name": "stdout",
     "output_type": "stream",
     "text": [
      "Optimization restart 2/5, f = 1465.9025702823967\n",
      "Optimization restart 3/5, f = 1465.9025702823874\n",
      "Optimization restart 4/5, f = 1465.902570283061\n",
      "Optimization restart 5/5, f = 1465.9025702823835\n",
      "[[ 9.         25.          5.         61.18180313  1.          1.5       ]]\n",
      "\n",
      "User function emissions called with 1 inputs to simulate\n",
      "\n",
      "Evaluating input: 1 of 1\n",
      "\n",
      " Retrying in 1 seconds\n",
      "\n",
      "Output 10.734926983430107\n",
      "\n",
      "Optimization restart 1/5, f = 1451.1030482701626\n"
     ]
    },
    {
     "name": "stderr",
     "output_type": "stream",
     "text": [
      " /Users/Matteo/opt/anaconda3/envs/ml_and_physical/lib/python3.8/site-packages/paramz/transformations.py:111: RuntimeWarning:overflow encountered in expm1\n",
      " /Users/Matteo/opt/anaconda3/envs/ml_and_physical/lib/python3.8/site-packages/GPy/kern/src/stationary.py:168: RuntimeWarning:overflow encountered in true_divide\n",
      " /Users/Matteo/opt/anaconda3/envs/ml_and_physical/lib/python3.8/site-packages/GPy/kern/src/rbf.py:52: RuntimeWarning:overflow encountered in square\n",
      " /Users/Matteo/opt/anaconda3/envs/ml_and_physical/lib/python3.8/site-packages/GPy/kern/src/rbf.py:76: RuntimeWarning:invalid value encountered in multiply\n"
     ]
    },
    {
     "name": "stdout",
     "output_type": "stream",
     "text": [
      "Optimization restart 2/5, f = 1831.3055488306422\n",
      "Optimization restart 3/5, f = 1469.5422858901425\n",
      "Optimization restart 4/5, f = 1469.5422858898019\n",
      "Optimization restart 5/5, f = 1469.5422858891216\n",
      "[[15.          8.         12.61260686 70.          1.          1.5       ]]\n",
      "\n",
      "User function emissions called with 1 inputs to simulate\n",
      "\n",
      "Evaluating input: 1 of 1\n",
      "\n",
      " Retrying in 1 seconds\n",
      "\n",
      "Output 12.34398663135676\n",
      "\n"
     ]
    },
    {
     "name": "stderr",
     "output_type": "stream",
     "text": [
      " /Users/Matteo/opt/anaconda3/envs/ml_and_physical/lib/python3.8/site-packages/paramz/transformations.py:111: RuntimeWarning:overflow encountered in expm1\n"
     ]
    },
    {
     "name": "stdout",
     "output_type": "stream",
     "text": [
      "Optimization restart 1/5, f = 1454.7480522038622\n",
      "Optimization restart 2/5, f = 1553.717341366551\n",
      "Optimization restart 3/5, f = 1473.2050099647468\n",
      "Optimization restart 4/5, f = 1473.205010019356\n"
     ]
    },
    {
     "name": "stderr",
     "output_type": "stream",
     "text": [
      " /Users/Matteo/opt/anaconda3/envs/ml_and_physical/lib/python3.8/site-packages/GPy/kern/src/rbf.py:52: RuntimeWarning:overflow encountered in square\n",
      " /Users/Matteo/opt/anaconda3/envs/ml_and_physical/lib/python3.8/site-packages/GPy/kern/src/stationary.py:168: RuntimeWarning:overflow encountered in true_divide\n",
      " /Users/Matteo/opt/anaconda3/envs/ml_and_physical/lib/python3.8/site-packages/GPy/kern/src/rbf.py:76: RuntimeWarning:invalid value encountered in multiply\n"
     ]
    },
    {
     "name": "stdout",
     "output_type": "stream",
     "text": [
      "Optimization restart 5/5, f = 1768.7084613257127\n",
      "[[11.         14.88752442  5.         56.88321109  1.          1.5       ]]\n",
      "\n",
      "User function emissions called with 1 inputs to simulate\n",
      "\n",
      "Evaluating input: 1 of 1\n",
      "\n",
      " Retrying in 1 seconds\n",
      "\n",
      "Output 10.285078577580553\n",
      "\n"
     ]
    },
    {
     "name": "stderr",
     "output_type": "stream",
     "text": [
      " /Users/Matteo/opt/anaconda3/envs/ml_and_physical/lib/python3.8/site-packages/paramz/transformations.py:111: RuntimeWarning:overflow encountered in expm1\n"
     ]
    },
    {
     "name": "stdout",
     "output_type": "stream",
     "text": [
      "Optimization restart 1/5, f = 1458.0415367775954\n",
      "Optimization restart 2/5, f = 1458.0240330568845\n",
      "Optimization restart 3/5, f = 1476.7439827361156\n",
      "Optimization restart 4/5, f = 1476.7439827350133\n",
      "Optimization restart 5/5, f = 1476.7439827343078\n",
      "[[20.          8.         20.1059714  35.58774832  1.          1.5       ]]\n",
      "\n",
      "User function emissions called with 1 inputs to simulate\n",
      "\n",
      "Evaluating input: 1 of 1\n",
      "\n",
      " Retrying in 1 seconds\n",
      "\n",
      "Output 24.782294332310734\n",
      "\n",
      "Optimization restart 1/5, f = 1463.0799925738452\n"
     ]
    },
    {
     "name": "stderr",
     "output_type": "stream",
     "text": [
      " /Users/Matteo/opt/anaconda3/envs/ml_and_physical/lib/python3.8/site-packages/paramz/transformations.py:111: RuntimeWarning:overflow encountered in expm1\n"
     ]
    },
    {
     "name": "stdout",
     "output_type": "stream",
     "text": [
      "Optimization restart 2/5, f = 1480.4954002032869\n",
      "Optimization restart 3/5, f = 1480.4954002011389\n",
      "Optimization restart 4/5, f = 1480.4954002012364\n"
     ]
    },
    {
     "name": "stderr",
     "output_type": "stream",
     "text": [
      " /Users/Matteo/opt/anaconda3/envs/ml_and_physical/lib/python3.8/site-packages/GPy/kern/src/stationary.py:168: RuntimeWarning:overflow encountered in true_divide\n",
      " /Users/Matteo/opt/anaconda3/envs/ml_and_physical/lib/python3.8/site-packages/GPy/kern/src/rbf.py:52: RuntimeWarning:overflow encountered in square\n",
      " /Users/Matteo/opt/anaconda3/envs/ml_and_physical/lib/python3.8/site-packages/GPy/kern/src/rbf.py:76: RuntimeWarning:invalid value encountered in multiply\n"
     ]
    },
    {
     "name": "stdout",
     "output_type": "stream",
     "text": [
      "Optimization restart 5/5, f = 1849.0870174915212\n",
      "[[20.          8.         22.76698636 57.23949169  1.          1.5       ]]\n",
      "\n",
      "User function emissions called with 1 inputs to simulate\n",
      "\n",
      "Evaluating input: 1 of 1\n",
      "\n",
      " Retrying in 1 seconds\n",
      "\n",
      "Output 13.85876243742351\n",
      "\n",
      "Optimization restart 1/5, f = 1466.836883156243\n"
     ]
    },
    {
     "name": "stderr",
     "output_type": "stream",
     "text": [
      " /Users/Matteo/opt/anaconda3/envs/ml_and_physical/lib/python3.8/site-packages/paramz/transformations.py:111: RuntimeWarning:overflow encountered in expm1\n"
     ]
    },
    {
     "name": "stdout",
     "output_type": "stream",
     "text": [
      "Optimization restart 2/5, f = 1484.1358401754992\n"
     ]
    },
    {
     "name": "stderr",
     "output_type": "stream",
     "text": [
      " /Users/Matteo/opt/anaconda3/envs/ml_and_physical/lib/python3.8/site-packages/GPy/kern/src/stationary.py:168: RuntimeWarning:overflow encountered in true_divide\n",
      " /Users/Matteo/opt/anaconda3/envs/ml_and_physical/lib/python3.8/site-packages/GPy/kern/src/rbf.py:52: RuntimeWarning:overflow encountered in square\n",
      " /Users/Matteo/opt/anaconda3/envs/ml_and_physical/lib/python3.8/site-packages/GPy/kern/src/rbf.py:76: RuntimeWarning:invalid value encountered in multiply\n"
     ]
    },
    {
     "name": "stdout",
     "output_type": "stream",
     "text": [
      "Optimization restart 3/5, f = 1486.713732529585\n",
      "Optimization restart 4/5, f = 1484.1358400303582\n",
      "Optimization restart 5/5, f = 1484.1358400296135\n"
     ]
    }
   ],
   "source": [
    "bo_model_variance = BayesianOptimizationLoop(parameter_space, emukit_model_variance, acquisition=acquisition_model_variance)\n",
    "bo_model_variance.run_loop(user_function_emissions, n_iter_bo)"
   ]
  },
  {
   "cell_type": "code",
   "execution_count": 16,
   "metadata": {},
   "outputs": [
    {
     "name": "stdout",
     "output_type": "stream",
     "text": [
      "Optimization restart 1/5, f = 1281.5336113895025\n",
      "Optimization restart 2/5, f = 1281.5336114425982\n",
      "Optimization restart 3/5, f = 1281.5336114215602\n",
      "Optimization restart 4/5, f = 1281.5336113873814\n",
      "Optimization restart 5/5, f = 1281.5336113860117\n",
      "[[11.         25.          5.         37.01831831  3.          1.5       ]]\n",
      "\n",
      "User function emissions called with 1 inputs to simulate\n",
      "\n",
      "Evaluating input: 1 of 1\n",
      "\n",
      " Retrying in 1 seconds\n",
      "\n",
      "Output 18.396061576246655\n",
      "\n"
     ]
    },
    {
     "name": "stderr",
     "output_type": "stream",
     "text": [
      " /Users/Matteo/opt/anaconda3/envs/ml_and_physical/lib/python3.8/site-packages/paramz/transformations.py:111: RuntimeWarning:overflow encountered in expm1\n"
     ]
    },
    {
     "name": "stdout",
     "output_type": "stream",
     "text": [
      "Optimization restart 1/5, f = 1287.1756666936026\n",
      "Optimization restart 2/5, f = 1287.1625539995025\n",
      "Optimization restart 3/5, f = 1287.1625539995625\n",
      "Optimization restart 4/5, f = 1287.162554044373\n",
      "Optimization restart 5/5, f = 1287.1625539998713\n",
      "[[15.         23.53393966  5.         44.15457675  3.          5.        ]]\n",
      "\n",
      "User function emissions called with 1 inputs to simulate\n",
      "\n",
      "Evaluating input: 1 of 1\n",
      "\n",
      " Retrying in 1 seconds\n",
      "\n",
      "Output 12.553583108078845\n",
      "\n",
      "Optimization restart 1/5, f = 1291.4884044922787\n"
     ]
    },
    {
     "name": "stderr",
     "output_type": "stream",
     "text": [
      " /Users/Matteo/opt/anaconda3/envs/ml_and_physical/lib/python3.8/site-packages/paramz/transformations.py:111: RuntimeWarning:overflow encountered in expm1\n"
     ]
    },
    {
     "name": "stdout",
     "output_type": "stream",
     "text": [
      "Optimization restart 2/5, f = 1291.4878580493578\n",
      "Optimization restart 3/5, f = 1291.4878579546591\n",
      "Optimization restart 4/5, f = 1291.48785795465\n",
      "Optimization restart 5/5, f = 1291.4878579549138\n",
      "[[20.         19.24980206  5.         45.48532926  1.          5.        ]]\n",
      "\n",
      "User function emissions called with 1 inputs to simulate\n",
      "\n",
      "Evaluating input: 1 of 1\n",
      "\n",
      " Retrying in 1 seconds\n",
      "\n",
      "Output 8.577261880336168\n",
      "\n",
      "Optimization restart 1/5, f = 1295.6617080050942\n"
     ]
    },
    {
     "name": "stderr",
     "output_type": "stream",
     "text": [
      " /Users/Matteo/opt/anaconda3/envs/ml_and_physical/lib/python3.8/site-packages/paramz/transformations.py:111: RuntimeWarning:overflow encountered in expm1\n"
     ]
    },
    {
     "name": "stdout",
     "output_type": "stream",
     "text": [
      "Optimization restart 2/5, f = 1295.661383057028\n",
      "Optimization restart 3/5, f = 1295.661383056723\n"
     ]
    },
    {
     "name": "stderr",
     "output_type": "stream",
     "text": [
      " /Users/Matteo/opt/anaconda3/envs/ml_and_physical/lib/python3.8/site-packages/GPy/kern/src/stationary.py:168: RuntimeWarning:overflow encountered in true_divide\n",
      " /Users/Matteo/opt/anaconda3/envs/ml_and_physical/lib/python3.8/site-packages/GPy/kern/src/rbf.py:52: RuntimeWarning:overflow encountered in square\n",
      " /Users/Matteo/opt/anaconda3/envs/ml_and_physical/lib/python3.8/site-packages/GPy/kern/src/rbf.py:76: RuntimeWarning:invalid value encountered in multiply\n"
     ]
    },
    {
     "name": "stdout",
     "output_type": "stream",
     "text": [
      "Optimization restart 4/5, f = 1477.0312021655657\n",
      "Optimization restart 5/5, f = 1295.6613830569156\n",
      "[[ 8.          8.          5.         58.71130484  1.          5.        ]]\n",
      "\n",
      "User function emissions called with 1 inputs to simulate\n",
      "\n",
      "Evaluating input: 1 of 1\n",
      "\n",
      " Retrying in 1 seconds\n",
      "\n",
      "Output 16.37870703973888\n",
      "\n",
      "Optimization restart 1/5, f = 1300.0054782092946\n"
     ]
    },
    {
     "name": "stderr",
     "output_type": "stream",
     "text": [
      " /Users/Matteo/opt/anaconda3/envs/ml_and_physical/lib/python3.8/site-packages/paramz/transformations.py:111: RuntimeWarning:overflow encountered in expm1\n",
      " /Users/Matteo/opt/anaconda3/envs/ml_and_physical/lib/python3.8/site-packages/GPy/kern/src/stationary.py:168: RuntimeWarning:overflow encountered in true_divide\n",
      " /Users/Matteo/opt/anaconda3/envs/ml_and_physical/lib/python3.8/site-packages/GPy/kern/src/rbf.py:52: RuntimeWarning:overflow encountered in square\n",
      " /Users/Matteo/opt/anaconda3/envs/ml_and_physical/lib/python3.8/site-packages/GPy/kern/src/rbf.py:76: RuntimeWarning:invalid value encountered in multiply\n"
     ]
    },
    {
     "name": "stdout",
     "output_type": "stream",
     "text": [
      "Optimization restart 2/5, f = 1668.6800054286132\n",
      "Optimization restart 3/5, f = 1300.0052822694702\n",
      "Optimization restart 4/5, f = 1300.005282197549\n",
      "Optimization restart 5/5, f = 1300.005282193069\n",
      "[[ 9.  25.   5.  70.   1.   1.5]]\n",
      "\n",
      "User function emissions called with 1 inputs to simulate\n",
      "\n",
      "Evaluating input: 1 of 1\n",
      "\n",
      " Retrying in 1 seconds\n",
      "\n",
      "Output 9.498267342104846\n",
      "\n",
      "Optimization restart 1/5, f = 1304.3014940033524\n"
     ]
    },
    {
     "name": "stderr",
     "output_type": "stream",
     "text": [
      " /Users/Matteo/opt/anaconda3/envs/ml_and_physical/lib/python3.8/site-packages/paramz/transformations.py:111: RuntimeWarning:overflow encountered in expm1\n"
     ]
    },
    {
     "name": "stdout",
     "output_type": "stream",
     "text": [
      "Optimization restart 2/5, f = 1304.299486133531\n",
      "Optimization restart 3/5, f = 1304.2994861322436\n",
      "Optimization restart 4/5, f = 1304.2994862294195\n",
      "Optimization restart 5/5, f = 1304.2994861375798\n",
      "[[20.  8.  5. 70.  3.  5.]]\n",
      "\n",
      "User function emissions called with 1 inputs to simulate\n",
      "\n",
      "Evaluating input: 1 of 1\n",
      "\n",
      " Retrying in 1 seconds\n",
      "\n",
      "Output 6.056345506308834\n",
      "\n",
      "Optimization restart 1/5, f = 1308.4773103968587\n"
     ]
    },
    {
     "name": "stderr",
     "output_type": "stream",
     "text": [
      " /Users/Matteo/opt/anaconda3/envs/ml_and_physical/lib/python3.8/site-packages/paramz/transformations.py:111: RuntimeWarning:overflow encountered in expm1\n"
     ]
    },
    {
     "name": "stdout",
     "output_type": "stream",
     "text": [
      "Optimization restart 2/5, f = 1308.4773103852913\n"
     ]
    },
    {
     "name": "stderr",
     "output_type": "stream",
     "text": [
      " /Users/Matteo/opt/anaconda3/envs/ml_and_physical/lib/python3.8/site-packages/GPy/kern/src/rbf.py:52: RuntimeWarning:overflow encountered in square\n"
     ]
    },
    {
     "name": "stdout",
     "output_type": "stream",
     "text": [
      "Optimization restart 3/5, f = 1308.4773107615667\n",
      "Optimization restart 4/5, f = 1308.477310384831\n",
      "Optimization restart 5/5, f = 1308.477310390197\n",
      "[[13.          8.         27.         32.41368288  1.          1.5       ]]\n",
      "\n",
      "User function emissions called with 1 inputs to simulate\n",
      "\n",
      "Evaluating input: 1 of 1\n",
      "\n",
      " Retrying in 1 seconds\n",
      "\n",
      "Output 44.09246983856811\n",
      "\n"
     ]
    },
    {
     "name": "stderr",
     "output_type": "stream",
     "text": [
      " /Users/Matteo/opt/anaconda3/envs/ml_and_physical/lib/python3.8/site-packages/paramz/transformations.py:111: RuntimeWarning:overflow encountered in expm1\n"
     ]
    },
    {
     "name": "stdout",
     "output_type": "stream",
     "text": [
      "Optimization restart 1/5, f = 1314.6155944738964\n",
      "Optimization restart 2/5, f = 1314.6009216738967\n",
      "Optimization restart 3/5, f = 1314.6009216129885\n",
      "Optimization restart 4/5, f = 1314.6009216772804\n",
      "Optimization restart 5/5, f = 1314.6009216132245\n",
      "[[20. 25.  5. 70.  3.  5.]]\n",
      "\n",
      "User function emissions called with 1 inputs to simulate\n",
      "\n",
      "Evaluating input: 1 of 1\n",
      "\n",
      " Retrying in 1 seconds\n",
      "\n",
      "Output 6.0454656513684935\n",
      "\n",
      "Optimization restart 1/5, f = 1318.86387406583\n"
     ]
    },
    {
     "name": "stderr",
     "output_type": "stream",
     "text": [
      " /Users/Matteo/opt/anaconda3/envs/ml_and_physical/lib/python3.8/site-packages/paramz/transformations.py:111: RuntimeWarning:overflow encountered in expm1\n",
      " /Users/Matteo/opt/anaconda3/envs/ml_and_physical/lib/python3.8/site-packages/GPy/kern/src/rbf.py:52: RuntimeWarning:overflow encountered in square\n"
     ]
    },
    {
     "name": "stdout",
     "output_type": "stream",
     "text": [
      "Optimization restart 2/5, f = 1318.8637092620627\n"
     ]
    },
    {
     "name": "stderr",
     "output_type": "stream",
     "text": [
      " /Users/Matteo/opt/anaconda3/envs/ml_and_physical/lib/python3.8/site-packages/GPy/kern/src/stationary.py:168: RuntimeWarning:overflow encountered in true_divide\n",
      " /Users/Matteo/opt/anaconda3/envs/ml_and_physical/lib/python3.8/site-packages/GPy/kern/src/rbf.py:76: RuntimeWarning:invalid value encountered in multiply\n"
     ]
    },
    {
     "name": "stdout",
     "output_type": "stream",
     "text": [
      "Optimization restart 3/5, f = 1635.7996189102555\n",
      "Optimization restart 4/5, f = 1318.8637084900954\n",
      "Optimization restart 5/5, f = 1318.8637084901027\n",
      "[[20.         16.92170486  5.         59.94174629  3.          5.        ]]\n",
      "\n",
      "User function emissions called with 1 inputs to simulate\n",
      "\n",
      "Evaluating input: 1 of 1\n",
      "\n",
      " Retrying in 1 seconds\n",
      "\n",
      "Output 7.2676325787868\n",
      "\n",
      "Optimization restart 1/5, f = 1322.9087859526308\n"
     ]
    },
    {
     "name": "stderr",
     "output_type": "stream",
     "text": [
      " /Users/Matteo/opt/anaconda3/envs/ml_and_physical/lib/python3.8/site-packages/paramz/transformations.py:111: RuntimeWarning:overflow encountered in expm1\n"
     ]
    },
    {
     "name": "stdout",
     "output_type": "stream",
     "text": [
      "Optimization restart 2/5, f = 1322.9086529283345\n",
      "Optimization restart 3/5, f = 1322.9086528205537\n"
     ]
    },
    {
     "name": "stderr",
     "output_type": "stream",
     "text": [
      " /Users/Matteo/opt/anaconda3/envs/ml_and_physical/lib/python3.8/site-packages/GPy/kern/src/stationary.py:168: RuntimeWarning:overflow encountered in true_divide\n",
      " /Users/Matteo/opt/anaconda3/envs/ml_and_physical/lib/python3.8/site-packages/GPy/kern/src/rbf.py:52: RuntimeWarning:overflow encountered in square\n",
      " /Users/Matteo/opt/anaconda3/envs/ml_and_physical/lib/python3.8/site-packages/GPy/kern/src/rbf.py:76: RuntimeWarning:invalid value encountered in multiply\n"
     ]
    },
    {
     "name": "stdout",
     "output_type": "stream",
     "text": [
      "Optimization restart 4/5, f = 1543.966137547067\n",
      "Optimization restart 5/5, f = 1322.908652821639\n",
      "[[20.         21.90642985  5.         44.31503035  1.          5.        ]]\n",
      "\n",
      "User function emissions called with 1 inputs to simulate\n",
      "\n",
      "Evaluating input: 1 of 1\n",
      "\n",
      " Retrying in 1 seconds\n",
      "\n",
      "Output 8.835556113512666\n",
      "\n",
      "Optimization restart 1/5, f = 1326.9266158881974\n"
     ]
    },
    {
     "name": "stderr",
     "output_type": "stream",
     "text": [
      " /Users/Matteo/opt/anaconda3/envs/ml_and_physical/lib/python3.8/site-packages/paramz/transformations.py:111: RuntimeWarning:overflow encountered in expm1\n",
      " /Users/Matteo/opt/anaconda3/envs/ml_and_physical/lib/python3.8/site-packages/GPy/kern/src/stationary.py:168: RuntimeWarning:overflow encountered in true_divide\n",
      " /Users/Matteo/opt/anaconda3/envs/ml_and_physical/lib/python3.8/site-packages/GPy/kern/src/rbf.py:52: RuntimeWarning:overflow encountered in square\n",
      " /Users/Matteo/opt/anaconda3/envs/ml_and_physical/lib/python3.8/site-packages/GPy/kern/src/rbf.py:76: RuntimeWarning:invalid value encountered in multiply\n"
     ]
    },
    {
     "name": "stdout",
     "output_type": "stream",
     "text": [
      "Optimization restart 2/5, f = 1576.7194695917885\n",
      "Optimization restart 3/5, f = 1326.926501991471\n",
      "Optimization restart 4/5, f = 1326.9265019923896\n",
      "Optimization restart 5/5, f = 1326.926501996314\n",
      "[[ 9.         25.          5.         43.51038818  3.          1.5       ]]\n",
      "\n",
      "User function emissions called with 1 inputs to simulate\n",
      "\n",
      "Evaluating input: 1 of 1\n",
      "\n",
      " Retrying in 1 seconds\n",
      "\n",
      "Output 17.785676125822224\n",
      "\n"
     ]
    },
    {
     "name": "stderr",
     "output_type": "stream",
     "text": [
      " /Users/Matteo/opt/anaconda3/envs/ml_and_physical/lib/python3.8/site-packages/paramz/transformations.py:111: RuntimeWarning:overflow encountered in expm1\n"
     ]
    },
    {
     "name": "stdout",
     "output_type": "stream",
     "text": [
      "Optimization restart 1/5, f = 1331.388028736301\n",
      "Optimization restart 2/5, f = 1331.3863447340566\n",
      "Optimization restart 3/5, f = 1331.386344673881\n"
     ]
    },
    {
     "name": "stderr",
     "output_type": "stream",
     "text": [
      " /Users/Matteo/opt/anaconda3/envs/ml_and_physical/lib/python3.8/site-packages/GPy/kern/src/rbf.py:52: RuntimeWarning:overflow encountered in square\n"
     ]
    },
    {
     "name": "stdout",
     "output_type": "stream",
     "text": [
      "Optimization restart 4/5, f = 1331.3863446717723\n",
      "Optimization restart 5/5, f = 1331.3863471636005\n",
      "[[10.         24.47724958  5.         43.14551697  3.          1.5       ]]\n",
      "\n",
      "User function emissions called with 1 inputs to simulate\n",
      "\n",
      "Evaluating input: 1 of 1\n",
      "\n",
      " Retrying in 1 seconds\n",
      "\n",
      "Output 21.365665827878864\n",
      "\n"
     ]
    },
    {
     "name": "stderr",
     "output_type": "stream",
     "text": [
      " /Users/Matteo/opt/anaconda3/envs/ml_and_physical/lib/python3.8/site-packages/paramz/transformations.py:111: RuntimeWarning:overflow encountered in expm1\n"
     ]
    },
    {
     "name": "stdout",
     "output_type": "stream",
     "text": [
      "Optimization restart 1/5, f = 1335.6849715797546\n"
     ]
    },
    {
     "name": "stderr",
     "output_type": "stream",
     "text": [
      " /Users/Matteo/opt/anaconda3/envs/ml_and_physical/lib/python3.8/site-packages/GPy/kern/src/stationary.py:168: RuntimeWarning:overflow encountered in true_divide\n",
      " /Users/Matteo/opt/anaconda3/envs/ml_and_physical/lib/python3.8/site-packages/GPy/kern/src/rbf.py:52: RuntimeWarning:overflow encountered in square\n",
      " /Users/Matteo/opt/anaconda3/envs/ml_and_physical/lib/python3.8/site-packages/GPy/kern/src/rbf.py:76: RuntimeWarning:invalid value encountered in multiply\n"
     ]
    },
    {
     "name": "stdout",
     "output_type": "stream",
     "text": [
      "Optimization restart 2/5, f = 1586.6334721038108\n",
      "Optimization restart 3/5, f = 1335.684175633081\n",
      "Optimization restart 4/5, f = 1335.6841756329047\n",
      "Optimization restart 5/5, f = 1335.684175632888\n",
      "[[20.         20.77816427  5.         47.22531559  1.          5.        ]]\n",
      "\n",
      "User function emissions called with 1 inputs to simulate\n",
      "\n",
      "Evaluating input: 1 of 1\n",
      "\n",
      " Retrying in 1 seconds\n",
      "\n",
      "Output 8.291324456560952\n",
      "\n",
      "Optimization restart 1/5, f = 1339.623594058944\n"
     ]
    },
    {
     "name": "stderr",
     "output_type": "stream",
     "text": [
      " /Users/Matteo/opt/anaconda3/envs/ml_and_physical/lib/python3.8/site-packages/paramz/transformations.py:111: RuntimeWarning:overflow encountered in expm1\n",
      " /Users/Matteo/opt/anaconda3/envs/ml_and_physical/lib/python3.8/site-packages/GPy/kern/src/stationary.py:168: RuntimeWarning:overflow encountered in true_divide\n",
      " /Users/Matteo/opt/anaconda3/envs/ml_and_physical/lib/python3.8/site-packages/GPy/kern/src/rbf.py:52: RuntimeWarning:overflow encountered in square\n",
      " /Users/Matteo/opt/anaconda3/envs/ml_and_physical/lib/python3.8/site-packages/GPy/kern/src/rbf.py:76: RuntimeWarning:invalid value encountered in multiply\n"
     ]
    },
    {
     "name": "stdout",
     "output_type": "stream",
     "text": [
      "Optimization restart 2/5, f = 1359.4851936764423\n",
      "Optimization restart 3/5, f = 1339.6235445351517\n",
      "Optimization restart 4/5, f = 1339.6235445130678\n",
      "Optimization restart 5/5, f = 1339.6235445129828\n",
      "[[20.         19.74790498  5.         64.26892588  1.          5.        ]]\n",
      "\n",
      "User function emissions called with 1 inputs to simulate\n",
      "\n",
      "Evaluating input: 1 of 1\n",
      "\n",
      " Retrying in 1 seconds\n",
      "\n",
      "Output 6.033152448944003\n",
      "\n"
     ]
    },
    {
     "name": "stderr",
     "output_type": "stream",
     "text": [
      " /Users/Matteo/opt/anaconda3/envs/ml_and_physical/lib/python3.8/site-packages/paramz/transformations.py:111: RuntimeWarning:overflow encountered in expm1\n"
     ]
    },
    {
     "name": "stdout",
     "output_type": "stream",
     "text": [
      "Optimization restart 1/5, f = 1343.6264706006118\n",
      "Optimization restart 2/5, f = 1343.6264433685703\n",
      "Optimization restart 3/5, f = 1343.626443368304\n",
      "Optimization restart 4/5, f = 1343.6264433688075\n",
      "Optimization restart 5/5, f = 1343.626443368343\n",
      "[[20.         19.40833066  5.         60.3316876   3.          5.        ]]\n",
      "\n",
      "User function emissions called with 1 inputs to simulate\n",
      "\n",
      "Evaluating input: 1 of 1\n",
      "\n",
      " Retrying in 1 seconds\n",
      "\n",
      "Output 7.243074997145499\n",
      "\n",
      "Optimization restart 1/5, f = 1347.553144544197\n"
     ]
    },
    {
     "name": "stderr",
     "output_type": "stream",
     "text": [
      " /Users/Matteo/opt/anaconda3/envs/ml_and_physical/lib/python3.8/site-packages/paramz/transformations.py:111: RuntimeWarning:overflow encountered in expm1\n"
     ]
    },
    {
     "name": "stdout",
     "output_type": "stream",
     "text": [
      "Optimization restart 2/5, f = 1347.5531158039983\n"
     ]
    },
    {
     "name": "stderr",
     "output_type": "stream",
     "text": [
      " /Users/Matteo/opt/anaconda3/envs/ml_and_physical/lib/python3.8/site-packages/GPy/kern/src/stationary.py:168: RuntimeWarning:overflow encountered in true_divide\n",
      " /Users/Matteo/opt/anaconda3/envs/ml_and_physical/lib/python3.8/site-packages/GPy/kern/src/rbf.py:52: RuntimeWarning:overflow encountered in square\n",
      " /Users/Matteo/opt/anaconda3/envs/ml_and_physical/lib/python3.8/site-packages/GPy/kern/src/rbf.py:76: RuntimeWarning:invalid value encountered in multiply\n"
     ]
    },
    {
     "name": "stdout",
     "output_type": "stream",
     "text": [
      "Optimization restart 3/5, f = 1604.2744329891316\n",
      "Optimization restart 4/5, f = 1347.553115799665\n",
      "Optimization restart 5/5, f = 1347.553115799477\n",
      "[[14.         21.57280191  5.         47.80090066  3.          5.        ]]\n",
      "\n",
      "User function emissions called with 1 inputs to simulate\n",
      "\n",
      "Evaluating input: 1 of 1\n",
      "\n",
      " Retrying in 1 seconds\n",
      "\n",
      "Output 11.631919520324889\n",
      "\n"
     ]
    },
    {
     "name": "stderr",
     "output_type": "stream",
     "text": [
      " /Users/Matteo/opt/anaconda3/envs/ml_and_physical/lib/python3.8/site-packages/paramz/transformations.py:111: RuntimeWarning:overflow encountered in expm1\n"
     ]
    },
    {
     "name": "stdout",
     "output_type": "stream",
     "text": [
      "Optimization restart 1/5, f = 1351.5035137132518\n"
     ]
    },
    {
     "name": "stderr",
     "output_type": "stream",
     "text": [
      " /Users/Matteo/opt/anaconda3/envs/ml_and_physical/lib/python3.8/site-packages/GPy/kern/src/stationary.py:168: RuntimeWarning:overflow encountered in true_divide\n",
      " /Users/Matteo/opt/anaconda3/envs/ml_and_physical/lib/python3.8/site-packages/GPy/kern/src/rbf.py:52: RuntimeWarning:overflow encountered in square\n",
      " /Users/Matteo/opt/anaconda3/envs/ml_and_physical/lib/python3.8/site-packages/GPy/kern/src/rbf.py:76: RuntimeWarning:invalid value encountered in multiply\n"
     ]
    },
    {
     "name": "stdout",
     "output_type": "stream",
     "text": [
      "Optimization restart 2/5, f = 1720.151284162691\n",
      "Optimization restart 3/5, f = 1351.5035136999359\n",
      "Optimization restart 4/5, f = 1351.503513745649\n",
      "Optimization restart 5/5, f = 1351.5035379919525\n",
      "[[20.  8.  5. 70.  1.  5.]]\n",
      "\n",
      "User function emissions called with 1 inputs to simulate\n",
      "\n",
      "Evaluating input: 1 of 1\n",
      "\n",
      " Retrying in 1 seconds\n",
      "\n",
      "Output 5.54770372540081\n",
      "\n"
     ]
    },
    {
     "name": "stderr",
     "output_type": "stream",
     "text": [
      " /Users/Matteo/opt/anaconda3/envs/ml_and_physical/lib/python3.8/site-packages/paramz/transformations.py:111: RuntimeWarning:overflow encountered in expm1\n"
     ]
    },
    {
     "name": "stdout",
     "output_type": "stream",
     "text": [
      "Optimization restart 1/5, f = 1355.616597131531\n",
      "Optimization restart 2/5, f = 1355.6165753548062\n",
      "Optimization restart 3/5, f = 1355.6165753495914\n",
      "Optimization restart 4/5, f = 1355.616575461201\n",
      "Optimization restart 5/5, f = 1355.616575831334\n",
      "[[ 9.  25.   5.  70.   1.   1.5]]\n",
      "\n",
      "User function emissions called with 1 inputs to simulate\n",
      "\n",
      "Evaluating input: 1 of 1\n",
      "\n",
      " Retrying in 1 seconds\n",
      "\n",
      "Output 9.498267342104846\n",
      "\n"
     ]
    },
    {
     "name": "stderr",
     "output_type": "stream",
     "text": [
      " /Users/Matteo/opt/anaconda3/envs/ml_and_physical/lib/python3.8/site-packages/paramz/transformations.py:111: RuntimeWarning:overflow encountered in expm1\n"
     ]
    },
    {
     "name": "stdout",
     "output_type": "stream",
     "text": [
      "Optimization restart 1/5, f = 1359.6213891756584\n",
      "Optimization restart 2/5, f = 1359.6213565022733\n",
      "Optimization restart 3/5, f = 1359.6213564981667\n",
      "Optimization restart 4/5, f = 1359.6213564982813\n",
      "Optimization restart 5/5, f = 1359.6213564986513\n",
      "[[20.         22.07256012  5.         43.92025804  1.          5.        ]]\n",
      "\n",
      "User function emissions called with 1 inputs to simulate\n",
      "\n",
      "Evaluating input: 1 of 1\n",
      "\n",
      " Retrying in 1 seconds\n",
      "\n",
      "Output 8.955876936628727\n",
      "\n",
      "Optimization restart 1/5, f = 1363.5232433716367\n"
     ]
    },
    {
     "name": "stderr",
     "output_type": "stream",
     "text": [
      " /Users/Matteo/opt/anaconda3/envs/ml_and_physical/lib/python3.8/site-packages/paramz/transformations.py:111: RuntimeWarning:overflow encountered in expm1\n"
     ]
    },
    {
     "name": "stdout",
     "output_type": "stream",
     "text": [
      "Optimization restart 2/5, f = 1363.5231996946695\n",
      "Optimization restart 3/5, f = 1363.5231996586563\n",
      "Optimization restart 4/5, f = 1363.5231996610157\n",
      "Optimization restart 5/5, f = 1363.5232023900123\n",
      "[[20.         21.18529294  5.         46.77573825  1.          5.        ]]\n",
      "\n",
      "User function emissions called with 1 inputs to simulate\n",
      "\n",
      "Evaluating input: 1 of 1\n",
      "\n",
      " Retrying in 1 seconds\n",
      "\n",
      "Output 8.337138227757785\n",
      "\n",
      "Optimization restart 1/5, f = 1367.374002428027\n"
     ]
    },
    {
     "name": "stderr",
     "output_type": "stream",
     "text": [
      " /Users/Matteo/opt/anaconda3/envs/ml_and_physical/lib/python3.8/site-packages/paramz/transformations.py:111: RuntimeWarning:overflow encountered in expm1\n"
     ]
    },
    {
     "name": "stdout",
     "output_type": "stream",
     "text": [
      "Optimization restart 2/5, f = 1367.3739876036352\n",
      "Optimization restart 3/5, f = 1367.3739875988715\n"
     ]
    },
    {
     "name": "stderr",
     "output_type": "stream",
     "text": [
      " /Users/Matteo/opt/anaconda3/envs/ml_and_physical/lib/python3.8/site-packages/GPy/kern/src/rbf.py:52: RuntimeWarning:overflow encountered in square\n"
     ]
    },
    {
     "name": "stdout",
     "output_type": "stream",
     "text": [
      "Optimization restart 4/5, f = 1367.3739876179889\n"
     ]
    },
    {
     "name": "stderr",
     "output_type": "stream",
     "text": [
      " /Users/Matteo/opt/anaconda3/envs/ml_and_physical/lib/python3.8/site-packages/GPy/kern/src/stationary.py:168: RuntimeWarning:overflow encountered in true_divide\n",
      " /Users/Matteo/opt/anaconda3/envs/ml_and_physical/lib/python3.8/site-packages/GPy/kern/src/rbf.py:76: RuntimeWarning:invalid value encountered in multiply\n"
     ]
    },
    {
     "name": "stdout",
     "output_type": "stream",
     "text": [
      "Optimization restart 5/5, f = 1620.222528653128\n",
      "[[20.          8.          5.         61.98755895  3.          5.        ]]\n",
      "\n",
      "User function emissions called with 1 inputs to simulate\n",
      "\n",
      "Evaluating input: 1 of 1\n",
      "\n",
      " Retrying in 1 seconds\n",
      "\n",
      "Output 6.981495771770537\n",
      "\n"
     ]
    },
    {
     "name": "stderr",
     "output_type": "stream",
     "text": [
      " /Users/Matteo/opt/anaconda3/envs/ml_and_physical/lib/python3.8/site-packages/paramz/transformations.py:111: RuntimeWarning:overflow encountered in expm1\n"
     ]
    },
    {
     "name": "stdout",
     "output_type": "stream",
     "text": [
      "Optimization restart 1/5, f = 1371.3471918342143\n",
      "Optimization restart 2/5, f = 1371.3471730267047\n",
      "Optimization restart 3/5, f = 1371.3471751227999\n",
      "Optimization restart 4/5, f = 1371.3471730269703\n",
      "Optimization restart 5/5, f = 1371.3471730266924\n",
      "[[20. 25.  5. 70.  3.  5.]]\n",
      "\n",
      "User function emissions called with 1 inputs to simulate\n",
      "\n",
      "Evaluating input: 1 of 1\n",
      "\n",
      " Retrying in 1 seconds\n",
      "\n",
      "Output 6.0454656513684935\n",
      "\n"
     ]
    },
    {
     "name": "stderr",
     "output_type": "stream",
     "text": [
      " /Users/Matteo/opt/anaconda3/envs/ml_and_physical/lib/python3.8/site-packages/paramz/transformations.py:111: RuntimeWarning:overflow encountered in expm1\n"
     ]
    },
    {
     "name": "stdout",
     "output_type": "stream",
     "text": [
      "Optimization restart 1/5, f = 1375.3258399195336\n",
      "Optimization restart 2/5, f = 1375.3258395606126\n",
      "Optimization restart 3/5, f = 1375.325839352755\n"
     ]
    },
    {
     "name": "stderr",
     "output_type": "stream",
     "text": [
      " /Users/Matteo/opt/anaconda3/envs/ml_and_physical/lib/python3.8/site-packages/GPy/kern/src/rbf.py:52: RuntimeWarning:overflow encountered in square\n"
     ]
    },
    {
     "name": "stdout",
     "output_type": "stream",
     "text": [
      "Optimization restart 4/5, f = 1375.3258396087544\n",
      "Optimization restart 5/5, f = 1375.3258393350238\n",
      "[[20.         18.38500732  5.         62.61588541  3.          1.5       ]]\n",
      "\n",
      "User function emissions called with 1 inputs to simulate\n",
      "\n",
      "Evaluating input: 1 of 1\n",
      "\n",
      " Retrying in 1 seconds\n",
      "\n",
      "Output 6.789003825571295\n",
      "\n"
     ]
    },
    {
     "name": "stderr",
     "output_type": "stream",
     "text": [
      " /Users/Matteo/opt/anaconda3/envs/ml_and_physical/lib/python3.8/site-packages/paramz/transformations.py:111: RuntimeWarning:overflow encountered in expm1\n"
     ]
    },
    {
     "name": "stdout",
     "output_type": "stream",
     "text": [
      "Optimization restart 1/5, f = 1379.2318148753507\n",
      "Optimization restart 2/5, f = 1379.231769233792\n",
      "Optimization restart 3/5, f = 1379.2317692956562\n",
      "Optimization restart 4/5, f = 1379.2317692428273\n",
      "Optimization restart 5/5, f = 1379.2317692356316\n",
      "[[20.         20.00280389  5.         70.          3.          5.        ]]\n",
      "\n",
      "User function emissions called with 1 inputs to simulate\n",
      "\n",
      "Evaluating input: 1 of 1\n",
      "\n",
      " Retrying in 1 seconds\n",
      "\n",
      "Output 6.061683085647992\n",
      "\n",
      "Optimization restart 1/5, f = 1383.1324982139965\n"
     ]
    },
    {
     "name": "stderr",
     "output_type": "stream",
     "text": [
      " /Users/Matteo/opt/anaconda3/envs/ml_and_physical/lib/python3.8/site-packages/paramz/transformations.py:111: RuntimeWarning:overflow encountered in expm1\n"
     ]
    },
    {
     "name": "stdout",
     "output_type": "stream",
     "text": [
      "Optimization restart 2/5, f = 1383.1324918546413\n",
      "Optimization restart 3/5, f = 1383.1324918402413\n",
      "Optimization restart 4/5, f = 1383.1324918414912\n",
      "Optimization restart 5/5, f = 1383.1324918402365\n",
      "[[20.         20.46794124  5.         70.          1.          5.        ]]\n",
      "\n",
      "User function emissions called with 1 inputs to simulate\n",
      "\n",
      "Evaluating input: 1 of 1\n",
      "\n",
      " Retrying in 1 seconds\n",
      "\n",
      "Output 5.54770372540081\n",
      "\n"
     ]
    },
    {
     "name": "stderr",
     "output_type": "stream",
     "text": [
      " /Users/Matteo/opt/anaconda3/envs/ml_and_physical/lib/python3.8/site-packages/paramz/transformations.py:111: RuntimeWarning:overflow encountered in expm1\n"
     ]
    },
    {
     "name": "stdout",
     "output_type": "stream",
     "text": [
      "Optimization restart 1/5, f = 1387.072410170251\n"
     ]
    },
    {
     "name": "stderr",
     "output_type": "stream",
     "text": [
      " /Users/Matteo/opt/anaconda3/envs/ml_and_physical/lib/python3.8/site-packages/GPy/kern/src/stationary.py:168: RuntimeWarning:overflow encountered in true_divide\n",
      " /Users/Matteo/opt/anaconda3/envs/ml_and_physical/lib/python3.8/site-packages/GPy/kern/src/rbf.py:52: RuntimeWarning:overflow encountered in square\n",
      " /Users/Matteo/opt/anaconda3/envs/ml_and_physical/lib/python3.8/site-packages/GPy/kern/src/rbf.py:76: RuntimeWarning:invalid value encountered in multiply\n"
     ]
    },
    {
     "name": "stdout",
     "output_type": "stream",
     "text": [
      "Optimization restart 2/5, f = 1657.9489227839742\n",
      "Optimization restart 3/5, f = 1387.3556724867606\n",
      "Optimization restart 4/5, f = 1387.0724098018918\n",
      "Optimization restart 5/5, f = 1387.0724098664227\n",
      "[[20.         18.03886277  5.         62.94392294  3.          1.5       ]]\n",
      "\n",
      "User function emissions called with 1 inputs to simulate\n",
      "\n",
      "Evaluating input: 1 of 1\n",
      "\n",
      " Retrying in 1 seconds\n",
      "\n",
      "Output 6.704213487691887\n",
      "\n"
     ]
    },
    {
     "name": "stderr",
     "output_type": "stream",
     "text": [
      " /Users/Matteo/opt/anaconda3/envs/ml_and_physical/lib/python3.8/site-packages/paramz/transformations.py:111: RuntimeWarning:overflow encountered in expm1\n"
     ]
    },
    {
     "name": "stdout",
     "output_type": "stream",
     "text": [
      "Optimization restart 1/5, f = 1390.9259256186776\n",
      "Optimization restart 2/5, f = 1390.9259174055517\n",
      "Optimization restart 3/5, f = 1390.925917405504\n"
     ]
    },
    {
     "name": "stderr",
     "output_type": "stream",
     "text": [
      " /Users/Matteo/opt/anaconda3/envs/ml_and_physical/lib/python3.8/site-packages/GPy/kern/src/rbf.py:52: RuntimeWarning:overflow encountered in square\n"
     ]
    },
    {
     "name": "stdout",
     "output_type": "stream",
     "text": [
      "Optimization restart 4/5, f = 1390.947341196874\n"
     ]
    },
    {
     "name": "stderr",
     "output_type": "stream",
     "text": [
      " /Users/Matteo/opt/anaconda3/envs/ml_and_physical/lib/python3.8/site-packages/GPy/kern/src/stationary.py:168: RuntimeWarning:overflow encountered in true_divide\n",
      " /Users/Matteo/opt/anaconda3/envs/ml_and_physical/lib/python3.8/site-packages/GPy/kern/src/rbf.py:76: RuntimeWarning:invalid value encountered in multiply\n"
     ]
    },
    {
     "name": "stdout",
     "output_type": "stream",
     "text": [
      "Optimization restart 5/5, f = 1586.7429162333913\n",
      "[[20.         21.64308295  5.         65.368219    3.          5.        ]]\n",
      "\n",
      "User function emissions called with 1 inputs to simulate\n",
      "\n",
      "Evaluating input: 1 of 1\n",
      "\n",
      " Retrying in 1 seconds\n",
      "\n",
      "Output 6.449712182734954\n",
      "\n"
     ]
    },
    {
     "name": "stderr",
     "output_type": "stream",
     "text": [
      " /Users/Matteo/opt/anaconda3/envs/ml_and_physical/lib/python3.8/site-packages/paramz/transformations.py:111: RuntimeWarning:overflow encountered in expm1\n"
     ]
    },
    {
     "name": "stdout",
     "output_type": "stream",
     "text": [
      "Optimization restart 1/5, f = 1394.7584079776757\n",
      "Optimization restart 2/5, f = 1394.7583914207246\n",
      "Optimization restart 3/5, f = 1394.758391421686\n",
      "Optimization restart 4/5, f = 1394.7583914202614\n"
     ]
    },
    {
     "name": "stderr",
     "output_type": "stream",
     "text": [
      " /Users/Matteo/opt/anaconda3/envs/ml_and_physical/lib/python3.8/site-packages/GPy/kern/src/stationary.py:168: RuntimeWarning:overflow encountered in true_divide\n",
      " /Users/Matteo/opt/anaconda3/envs/ml_and_physical/lib/python3.8/site-packages/GPy/kern/src/rbf.py:52: RuntimeWarning:overflow encountered in square\n",
      " /Users/Matteo/opt/anaconda3/envs/ml_and_physical/lib/python3.8/site-packages/GPy/kern/src/rbf.py:76: RuntimeWarning:invalid value encountered in multiply\n"
     ]
    },
    {
     "name": "stdout",
     "output_type": "stream",
     "text": [
      "Optimization restart 5/5, f = 1662.7186653386186\n",
      "[[20.         20.82652467  5.         66.02354627  3.          5.        ]]\n",
      "\n",
      "User function emissions called with 1 inputs to simulate\n",
      "\n",
      "Evaluating input: 1 of 1\n",
      "\n",
      " Retrying in 1 seconds\n",
      "\n",
      "Output 6.360736741827956\n",
      "\n"
     ]
    },
    {
     "name": "stderr",
     "output_type": "stream",
     "text": [
      " /Users/Matteo/opt/anaconda3/envs/ml_and_physical/lib/python3.8/site-packages/paramz/transformations.py:111: RuntimeWarning:overflow encountered in expm1\n"
     ]
    },
    {
     "name": "stdout",
     "output_type": "stream",
     "text": [
      "Optimization restart 1/5, f = 1398.5619675866767\n",
      "Optimization restart 2/5, f = 1398.5619656835147\n",
      "Optimization restart 3/5, f = 1398.5619653486544\n",
      "Optimization restart 4/5, f = 1398.561965347994\n",
      "Optimization restart 5/5, f = 1398.5619653907095\n",
      "[[20.         19.08620796  5.         48.14264454  1.          1.5       ]]\n",
      "\n",
      "User function emissions called with 1 inputs to simulate\n",
      "\n",
      "Evaluating input: 1 of 1\n",
      "\n",
      " Retrying in 1 seconds\n",
      "\n",
      "Output 7.9827255162385\n",
      "\n"
     ]
    },
    {
     "name": "stderr",
     "output_type": "stream",
     "text": [
      " /Users/Matteo/opt/anaconda3/envs/ml_and_physical/lib/python3.8/site-packages/paramz/transformations.py:111: RuntimeWarning:overflow encountered in expm1\n"
     ]
    },
    {
     "name": "stdout",
     "output_type": "stream",
     "text": [
      "Optimization restart 1/5, f = 1402.4414928575577\n",
      "Optimization restart 2/5, f = 1402.4414654486536\n",
      "Optimization restart 3/5, f = 1402.4414654479992\n",
      "Optimization restart 4/5, f = 1402.4414654493844\n",
      "Optimization restart 5/5, f = 1402.4414654428774\n",
      "[[10.  25.   5.  70.   3.   1.5]]\n",
      "\n",
      "User function emissions called with 1 inputs to simulate\n",
      "\n",
      "Evaluating input: 1 of 1\n",
      "\n",
      " Retrying in 1 seconds\n",
      "\n",
      "Output 11.206531991403248\n",
      "\n",
      "Optimization restart 1/5, f = 1406.416744742769\n"
     ]
    },
    {
     "name": "stderr",
     "output_type": "stream",
     "text": [
      " /Users/Matteo/opt/anaconda3/envs/ml_and_physical/lib/python3.8/site-packages/paramz/transformations.py:111: RuntimeWarning:overflow encountered in expm1\n"
     ]
    },
    {
     "name": "stdout",
     "output_type": "stream",
     "text": [
      "Optimization restart 2/5, f = 1406.4167446944432\n",
      "Optimization restart 3/5, f = 1406.4167448924886\n",
      "Optimization restart 4/5, f = 1406.4167447281425\n"
     ]
    },
    {
     "name": "stderr",
     "output_type": "stream",
     "text": [
      " /Users/Matteo/opt/anaconda3/envs/ml_and_physical/lib/python3.8/site-packages/GPy/kern/src/stationary.py:168: RuntimeWarning:overflow encountered in true_divide\n",
      " /Users/Matteo/opt/anaconda3/envs/ml_and_physical/lib/python3.8/site-packages/GPy/kern/src/rbf.py:52: RuntimeWarning:overflow encountered in square\n",
      " /Users/Matteo/opt/anaconda3/envs/ml_and_physical/lib/python3.8/site-packages/GPy/kern/src/rbf.py:76: RuntimeWarning:invalid value encountered in multiply\n"
     ]
    },
    {
     "name": "stdout",
     "output_type": "stream",
     "text": [
      "Optimization restart 5/5, f = 1418.0644022573904\n",
      "[[20.          8.          5.         64.66010785  1.          1.5       ]]\n",
      "\n",
      "User function emissions called with 1 inputs to simulate\n",
      "\n",
      "Evaluating input: 1 of 1\n",
      "\n",
      " Retrying in 1 seconds\n",
      "\n",
      "Output 5.881139129970794\n",
      "\n"
     ]
    },
    {
     "name": "stderr",
     "output_type": "stream",
     "text": [
      " /Users/Matteo/opt/anaconda3/envs/ml_and_physical/lib/python3.8/site-packages/paramz/transformations.py:111: RuntimeWarning:overflow encountered in expm1\n"
     ]
    },
    {
     "name": "stdout",
     "output_type": "stream",
     "text": [
      "Optimization restart 1/5, f = 1410.3281121450714\n",
      "Optimization restart 2/5, f = 1410.3281114502536\n",
      "Optimization restart 3/5, f = 1410.328111450138\n",
      "Optimization restart 4/5, f = 1410.3281114501442\n",
      "Optimization restart 5/5, f = 1410.3281114565355\n",
      "[[20.         22.30646658  5.         45.04894399  1.          5.        ]]\n",
      "\n",
      "User function emissions called with 1 inputs to simulate\n",
      "\n",
      "Evaluating input: 1 of 1\n",
      "\n",
      " Retrying in 1 seconds\n",
      "\n",
      "Output 8.721196086063244\n",
      "\n",
      "Optimization restart 1/5, f = 1414.1336940552228\n"
     ]
    },
    {
     "name": "stderr",
     "output_type": "stream",
     "text": [
      " /Users/Matteo/opt/anaconda3/envs/ml_and_physical/lib/python3.8/site-packages/paramz/transformations.py:111: RuntimeWarning:overflow encountered in expm1\n"
     ]
    },
    {
     "name": "stdout",
     "output_type": "stream",
     "text": [
      "Optimization restart 2/5, f = 1414.1336719221947\n",
      "Optimization restart 3/5, f = 1414.1336719017268\n",
      "Optimization restart 4/5, f = 1414.1336719014103\n",
      "Optimization restart 5/5, f = 1414.1336719011963\n",
      "[[14.          8.         27.         68.01188294  1.          5.        ]]\n",
      "\n",
      "User function emissions called with 1 inputs to simulate\n",
      "\n",
      "Evaluating input: 1 of 1\n",
      "\n",
      " Retrying in 1 seconds\n",
      "\n",
      "Output 16.4903040698045\n",
      "\n",
      "Optimization restart 1/5, f = 1418.4263969776014\n"
     ]
    },
    {
     "name": "stderr",
     "output_type": "stream",
     "text": [
      " /Users/Matteo/opt/anaconda3/envs/ml_and_physical/lib/python3.8/site-packages/paramz/transformations.py:111: RuntimeWarning:overflow encountered in expm1\n"
     ]
    },
    {
     "name": "stdout",
     "output_type": "stream",
     "text": [
      "Optimization restart 2/5, f = 1418.4246669423483\n",
      "Optimization restart 3/5, f = 1418.4246669340962\n",
      "Optimization restart 4/5, f = 1418.424667004374\n",
      "Optimization restart 5/5, f = 1418.424666934271\n",
      "[[ 7.          8.          5.         55.33944867  3.          5.        ]]\n",
      "\n",
      "User function emissions called with 1 inputs to simulate\n",
      "\n",
      "Evaluating input: 1 of 1\n",
      "\n",
      " Retrying in 1 seconds\n",
      "\n",
      "Output 20.510516297731353\n",
      "\n",
      "Optimization restart 1/5, f = 1422.6566762346663\n"
     ]
    },
    {
     "name": "stderr",
     "output_type": "stream",
     "text": [
      " /Users/Matteo/opt/anaconda3/envs/ml_and_physical/lib/python3.8/site-packages/paramz/transformations.py:111: RuntimeWarning:overflow encountered in expm1\n"
     ]
    },
    {
     "name": "stdout",
     "output_type": "stream",
     "text": [
      "Optimization restart 2/5, f = 1422.655156895952\n",
      "Optimization restart 3/5, f = 1422.6551568983764\n",
      "Optimization restart 4/5, f = 1422.6551568942002\n",
      "Optimization restart 5/5, f = 1422.6551568939333\n",
      "[[20.         17.43677388  5.         55.57184704  1.          1.5       ]]\n",
      "\n",
      "User function emissions called with 1 inputs to simulate\n",
      "\n",
      "Evaluating input: 1 of 1\n",
      "\n",
      " Retrying in 1 seconds\n",
      "\n",
      "Output 7.033011595506532\n",
      "\n"
     ]
    },
    {
     "name": "stderr",
     "output_type": "stream",
     "text": [
      " /Users/Matteo/opt/anaconda3/envs/ml_and_physical/lib/python3.8/site-packages/paramz/transformations.py:111: RuntimeWarning:overflow encountered in expm1\n"
     ]
    },
    {
     "name": "stdout",
     "output_type": "stream",
     "text": [
      "Optimization restart 1/5, f = 1426.495640127409\n",
      "Optimization restart 2/5, f = 1426.4956053237095\n"
     ]
    },
    {
     "name": "stderr",
     "output_type": "stream",
     "text": [
      " /Users/Matteo/opt/anaconda3/envs/ml_and_physical/lib/python3.8/site-packages/GPy/kern/src/stationary.py:168: RuntimeWarning:overflow encountered in true_divide\n",
      " /Users/Matteo/opt/anaconda3/envs/ml_and_physical/lib/python3.8/site-packages/GPy/kern/src/rbf.py:52: RuntimeWarning:overflow encountered in square\n",
      " /Users/Matteo/opt/anaconda3/envs/ml_and_physical/lib/python3.8/site-packages/GPy/kern/src/rbf.py:76: RuntimeWarning:invalid value encountered in multiply\n"
     ]
    },
    {
     "name": "stdout",
     "output_type": "stream",
     "text": [
      "Optimization restart 3/5, f = 1705.1762332827661\n",
      "Optimization restart 4/5, f = 1426.4956052672935\n",
      "Optimization restart 5/5, f = 1426.495605269602\n",
      "[[20.         25.          5.         65.80995975  3.          5.        ]]\n",
      "\n",
      "User function emissions called with 1 inputs to simulate\n",
      "\n",
      "Evaluating input: 1 of 1\n",
      "\n",
      " Retrying in 1 seconds\n",
      "\n",
      "Output 6.4118882608439245\n",
      "\n"
     ]
    },
    {
     "name": "stderr",
     "output_type": "stream",
     "text": [
      " /Users/Matteo/opt/anaconda3/envs/ml_and_physical/lib/python3.8/site-packages/paramz/transformations.py:111: RuntimeWarning:overflow encountered in expm1\n"
     ]
    },
    {
     "name": "stdout",
     "output_type": "stream",
     "text": [
      "Optimization restart 1/5, f = 1430.3506181908106\n",
      "Optimization restart 2/5, f = 1430.3505976351971\n",
      "Optimization restart 3/5, f = 1430.3505976345432\n",
      "Optimization restart 4/5, f = 1430.3505984149253\n",
      "Optimization restart 5/5, f = 1430.350597658272\n",
      "[[20.          8.          5.         64.11527147  1.          1.5       ]]\n",
      "\n",
      "User function emissions called with 1 inputs to simulate\n",
      "\n",
      "Evaluating input: 1 of 1\n",
      "\n",
      " Retrying in 1 seconds\n",
      "\n",
      "Output 5.964251284492209\n",
      "\n"
     ]
    },
    {
     "name": "stderr",
     "output_type": "stream",
     "text": [
      " /Users/Matteo/opt/anaconda3/envs/ml_and_physical/lib/python3.8/site-packages/paramz/transformations.py:111: RuntimeWarning:overflow encountered in expm1\n"
     ]
    },
    {
     "name": "stdout",
     "output_type": "stream",
     "text": [
      "Optimization restart 1/5, f = 1434.1893923802186\n",
      "Optimization restart 2/5, f = 1434.1893917390119\n",
      "Optimization restart 3/5, f = 1434.189391738867\n",
      "Optimization restart 4/5, f = 1434.1893917386137\n",
      "Optimization restart 5/5, f = 1434.1893917457671\n",
      "[[ 7.  25.   5.  70.   1.   1.5]]\n",
      "\n",
      "User function emissions called with 1 inputs to simulate\n",
      "\n",
      "Evaluating input: 1 of 1\n",
      "\n",
      " Retrying in 1 seconds\n",
      "\n",
      "Output 12.585831034175865\n",
      "\n"
     ]
    },
    {
     "name": "stderr",
     "output_type": "stream",
     "text": [
      " /Users/Matteo/opt/anaconda3/envs/ml_and_physical/lib/python3.8/site-packages/paramz/transformations.py:111: RuntimeWarning:overflow encountered in expm1\n"
     ]
    },
    {
     "name": "stdout",
     "output_type": "stream",
     "text": [
      "Optimization restart 1/5, f = 1438.1080118494244\n",
      "Optimization restart 2/5, f = 1438.107995439801\n",
      "Optimization restart 3/5, f = 1438.1079954397426\n",
      "Optimization restart 4/5, f = 1438.1079954397555\n"
     ]
    },
    {
     "name": "stderr",
     "output_type": "stream",
     "text": [
      " /Users/Matteo/opt/anaconda3/envs/ml_and_physical/lib/python3.8/site-packages/GPy/kern/src/rbf.py:52: RuntimeWarning:overflow encountered in square\n"
     ]
    },
    {
     "name": "stdout",
     "output_type": "stream",
     "text": [
      "Optimization restart 5/5, f = 1438.1079954397446\n",
      "[[20.          8.          5.         63.83154156  1.          1.5       ]]\n",
      "\n",
      "User function emissions called with 1 inputs to simulate\n",
      "\n",
      "Evaluating input: 1 of 1\n",
      "\n",
      " Retrying in 1 seconds\n",
      "\n",
      "Output 5.961109576881264\n",
      "\n"
     ]
    },
    {
     "name": "stderr",
     "output_type": "stream",
     "text": [
      " /Users/Matteo/opt/anaconda3/envs/ml_and_physical/lib/python3.8/site-packages/paramz/transformations.py:111: RuntimeWarning:overflow encountered in expm1\n"
     ]
    },
    {
     "name": "stdout",
     "output_type": "stream",
     "text": [
      "Optimization restart 1/5, f = 1441.9096472463664\n"
     ]
    },
    {
     "name": "stderr",
     "output_type": "stream",
     "text": [
      " /Users/Matteo/opt/anaconda3/envs/ml_and_physical/lib/python3.8/site-packages/GPy/kern/src/stationary.py:168: RuntimeWarning:overflow encountered in true_divide\n",
      " /Users/Matteo/opt/anaconda3/envs/ml_and_physical/lib/python3.8/site-packages/GPy/kern/src/rbf.py:52: RuntimeWarning:overflow encountered in square\n",
      " /Users/Matteo/opt/anaconda3/envs/ml_and_physical/lib/python3.8/site-packages/GPy/kern/src/rbf.py:76: RuntimeWarning:invalid value encountered in multiply\n"
     ]
    },
    {
     "name": "stdout",
     "output_type": "stream",
     "text": [
      "Optimization restart 2/5, f = 1714.9678038529282\n",
      "Optimization restart 3/5, f = 1441.9096457192572\n",
      "Optimization restart 4/5, f = 1441.9096457338758\n",
      "Optimization restart 5/5, f = 1441.909645723987\n",
      "[[20.         19.44600238  5.         46.5077728   1.          1.5       ]]\n",
      "\n",
      "User function emissions called with 1 inputs to simulate\n",
      "\n",
      "Evaluating input: 1 of 1\n",
      "\n",
      " Retrying in 1 seconds\n",
      "\n",
      "Output 8.28696155777724\n",
      "\n"
     ]
    },
    {
     "name": "stderr",
     "output_type": "stream",
     "text": [
      " /Users/Matteo/opt/anaconda3/envs/ml_and_physical/lib/python3.8/site-packages/paramz/transformations.py:111: RuntimeWarning:overflow encountered in expm1\n"
     ]
    },
    {
     "name": "stdout",
     "output_type": "stream",
     "text": [
      "Optimization restart 1/5, f = 1445.7178664054009\n",
      "Optimization restart 2/5, f = 1445.7178644791998\n",
      "Optimization restart 3/5, f = 1445.7178645208799\n",
      "Optimization restart 4/5, f = 1445.7178644768658\n",
      "Optimization restart 5/5, f = 1445.7178644769408\n",
      "[[20.         16.43971949  5.         63.01570368  1.          1.5       ]]\n",
      "\n",
      "User function emissions called with 1 inputs to simulate\n",
      "\n",
      "Evaluating input: 1 of 1\n",
      "\n",
      " Retrying in 1 seconds\n",
      "\n",
      "Output 6.089160155130368\n",
      "\n"
     ]
    },
    {
     "name": "stderr",
     "output_type": "stream",
     "text": [
      " /Users/Matteo/opt/anaconda3/envs/ml_and_physical/lib/python3.8/site-packages/paramz/transformations.py:111: RuntimeWarning:overflow encountered in expm1\n"
     ]
    },
    {
     "name": "stdout",
     "output_type": "stream",
     "text": [
      "Optimization restart 1/5, f = 1449.5055136595238\n",
      "Optimization restart 2/5, f = 1449.5055107498695\n",
      "Optimization restart 3/5, f = 1449.5055107495032\n",
      "Optimization restart 4/5, f = 1449.505510798193\n",
      "Optimization restart 5/5, f = 1449.5055107773785\n",
      "[[20.  8.  5. 70.  1.  5.]]\n",
      "\n",
      "User function emissions called with 1 inputs to simulate\n",
      "\n",
      "Evaluating input: 1 of 1\n",
      "\n",
      " Retrying in 1 seconds\n",
      "\n",
      "Output 5.54770372540081\n",
      "\n"
     ]
    },
    {
     "name": "stderr",
     "output_type": "stream",
     "text": [
      " /Users/Matteo/opt/anaconda3/envs/ml_and_physical/lib/python3.8/site-packages/paramz/transformations.py:111: RuntimeWarning:overflow encountered in expm1\n"
     ]
    },
    {
     "name": "stdout",
     "output_type": "stream",
     "text": [
      "Optimization restart 1/5, f = 1453.3858876692755\n",
      "Optimization restart 2/5, f = 1453.3858832745943\n",
      "Optimization restart 3/5, f = 1453.3858832738151\n",
      "Optimization restart 4/5, f = 1453.3858832740127\n",
      "Optimization restart 5/5, f = 1482.5244203785774\n",
      "[[10.         21.87235738  5.         70.          1.          1.5       ]]\n",
      "\n",
      "User function emissions called with 1 inputs to simulate\n",
      "\n",
      "Evaluating input: 1 of 1\n",
      "\n",
      " Retrying in 1 seconds\n",
      "\n",
      "Output 10.026650671546763\n",
      "\n"
     ]
    },
    {
     "name": "stderr",
     "output_type": "stream",
     "text": [
      " /Users/Matteo/opt/anaconda3/envs/ml_and_physical/lib/python3.8/site-packages/paramz/transformations.py:111: RuntimeWarning:overflow encountered in expm1\n"
     ]
    },
    {
     "name": "stdout",
     "output_type": "stream",
     "text": [
      "Optimization restart 1/5, f = 1457.169817437254\n",
      "Optimization restart 2/5, f = 1457.1698104396517\n",
      "Optimization restart 3/5, f = 1457.1698104325603\n",
      "Optimization restart 4/5, f = 1457.1698104392003\n",
      "Optimization restart 5/5, f = 1457.169810431164\n",
      "[[20.         21.4690249   5.         65.67353315  3.          5.        ]]\n",
      "\n",
      "User function emissions called with 1 inputs to simulate\n",
      "\n",
      "Evaluating input: 1 of 1\n",
      "\n",
      " Retrying in 1 seconds\n",
      "\n",
      "Output 6.4287400681754905\n",
      "\n"
     ]
    },
    {
     "name": "stderr",
     "output_type": "stream",
     "text": [
      " /Users/Matteo/opt/anaconda3/envs/ml_and_physical/lib/python3.8/site-packages/paramz/transformations.py:111: RuntimeWarning:overflow encountered in expm1\n"
     ]
    },
    {
     "name": "stdout",
     "output_type": "stream",
     "text": [
      "Optimization restart 1/5, f = 1460.9120971799011\n",
      "Optimization restart 2/5, f = 1460.9120971340596\n",
      "Optimization restart 3/5, f = 1460.912097129951\n",
      "Optimization restart 4/5, f = 1460.9120975327141\n",
      "Optimization restart 5/5, f = 1460.9120971300888\n",
      "[[20.         21.18328499  5.         66.05059225  3.          5.        ]]\n",
      "\n",
      "User function emissions called with 1 inputs to simulate\n",
      "\n",
      "Evaluating input: 1 of 1\n",
      "\n",
      " Retrying in 1 seconds\n",
      "\n",
      "Output 6.389075667094244\n",
      "\n"
     ]
    },
    {
     "name": "stderr",
     "output_type": "stream",
     "text": [
      " /Users/Matteo/opt/anaconda3/envs/ml_and_physical/lib/python3.8/site-packages/paramz/transformations.py:111: RuntimeWarning:overflow encountered in expm1\n"
     ]
    },
    {
     "name": "stdout",
     "output_type": "stream",
     "text": [
      "Optimization restart 1/5, f = 1464.6414610550107\n",
      "Optimization restart 2/5, f = 1464.6414601274857\n"
     ]
    },
    {
     "name": "stderr",
     "output_type": "stream",
     "text": [
      " /Users/Matteo/opt/anaconda3/envs/ml_and_physical/lib/python3.8/site-packages/GPy/kern/src/rbf.py:52: RuntimeWarning:overflow encountered in square\n"
     ]
    },
    {
     "name": "stdout",
     "output_type": "stream",
     "text": [
      "Optimization restart 3/5, f = 1481.8249684191778\n",
      "Optimization restart 4/5, f = 1464.641460127511\n",
      "Optimization restart 5/5, f = 1464.6414601329054\n",
      "[[20.         16.76922128  5.         62.82957046  3.          1.5       ]]\n",
      "\n",
      "User function emissions called with 1 inputs to simulate\n",
      "\n",
      "Evaluating input: 1 of 1\n",
      "\n",
      " Retrying in 1 seconds\n",
      "\n",
      "Output 6.747367787357143\n",
      "\n"
     ]
    },
    {
     "name": "stderr",
     "output_type": "stream",
     "text": [
      " /Users/Matteo/opt/anaconda3/envs/ml_and_physical/lib/python3.8/site-packages/paramz/transformations.py:111: RuntimeWarning:overflow encountered in expm1\n"
     ]
    },
    {
     "name": "stdout",
     "output_type": "stream",
     "text": [
      "Optimization restart 1/5, f = 1468.3942540088956\n",
      "Optimization restart 2/5, f = 1468.39425369768\n",
      "Optimization restart 3/5, f = 1468.394253727312\n"
     ]
    },
    {
     "name": "stderr",
     "output_type": "stream",
     "text": [
      " /Users/Matteo/opt/anaconda3/envs/ml_and_physical/lib/python3.8/site-packages/GPy/kern/src/rbf.py:52: RuntimeWarning:overflow encountered in square\n"
     ]
    },
    {
     "name": "stdout",
     "output_type": "stream",
     "text": [
      "Optimization restart 4/5, f = 1468.3942536974178\n",
      "Optimization restart 5/5, f = 1468.3942536974578\n",
      "[[20.          8.          5.         62.55788208  1.          1.5       ]]\n",
      "\n",
      "User function emissions called with 1 inputs to simulate\n",
      "\n",
      "Evaluating input: 1 of 1\n",
      "\n",
      " Retrying in 1 seconds\n",
      "\n",
      "Output 6.167626978976517\n",
      "\n"
     ]
    },
    {
     "name": "stderr",
     "output_type": "stream",
     "text": [
      " /Users/Matteo/opt/anaconda3/envs/ml_and_physical/lib/python3.8/site-packages/paramz/transformations.py:111: RuntimeWarning:overflow encountered in expm1\n"
     ]
    },
    {
     "name": "stdout",
     "output_type": "stream",
     "text": [
      "Optimization restart 1/5, f = 1472.1497704395622\n",
      "Optimization restart 2/5, f = 1885.471177416036\n",
      "Optimization restart 3/5, f = 1472.1497678608034\n",
      "Optimization restart 4/5, f = 1472.1497678576018\n",
      "Optimization restart 5/5, f = 1472.1497678587373\n",
      "[[20. 25.  5. 70.  3.  5.]]\n",
      "\n",
      "User function emissions called with 1 inputs to simulate\n",
      "\n",
      "Evaluating input: 1 of 1\n",
      "\n",
      " Retrying in 1 seconds\n",
      "\n",
      "Output 6.0454656513684935\n",
      "\n"
     ]
    },
    {
     "name": "stderr",
     "output_type": "stream",
     "text": [
      " /Users/Matteo/opt/anaconda3/envs/ml_and_physical/lib/python3.8/site-packages/paramz/transformations.py:111: RuntimeWarning:overflow encountered in expm1\n"
     ]
    },
    {
     "name": "stdout",
     "output_type": "stream",
     "text": [
      "Optimization restart 1/5, f = 1475.9293854025411\n",
      "Optimization restart 2/5, f = 1475.9293832134115\n",
      "Optimization restart 3/5, f = 1481.5579276640144\n",
      "Optimization restart 4/5, f = 1475.9293831034188\n",
      "Optimization restart 5/5, f = 1475.929383103332\n",
      "[[20.         25.          5.         65.98944905  1.          5.        ]]\n",
      "\n",
      "User function emissions called with 1 inputs to simulate\n",
      "\n",
      "Evaluating input: 1 of 1\n",
      "\n",
      " Retrying in 1 seconds\n",
      "\n",
      "Output 5.821125546748444\n",
      "\n"
     ]
    },
    {
     "name": "stderr",
     "output_type": "stream",
     "text": [
      " /Users/Matteo/opt/anaconda3/envs/ml_and_physical/lib/python3.8/site-packages/paramz/transformations.py:111: RuntimeWarning:overflow encountered in expm1\n"
     ]
    },
    {
     "name": "stdout",
     "output_type": "stream",
     "text": [
      "Optimization restart 1/5, f = 1479.7584474847213\n",
      "Optimization restart 2/5, f = 1479.7584475288045\n"
     ]
    },
    {
     "name": "stderr",
     "output_type": "stream",
     "text": [
      " /Users/Matteo/opt/anaconda3/envs/ml_and_physical/lib/python3.8/site-packages/GPy/kern/src/stationary.py:168: RuntimeWarning:overflow encountered in true_divide\n",
      " /Users/Matteo/opt/anaconda3/envs/ml_and_physical/lib/python3.8/site-packages/GPy/kern/src/rbf.py:52: RuntimeWarning:overflow encountered in square\n",
      " /Users/Matteo/opt/anaconda3/envs/ml_and_physical/lib/python3.8/site-packages/GPy/kern/src/rbf.py:76: RuntimeWarning:invalid value encountered in multiply\n"
     ]
    },
    {
     "name": "stdout",
     "output_type": "stream",
     "text": [
      "Optimization restart 3/5, f = 1483.7937030358985\n",
      "Optimization restart 4/5, f = 1479.7584474648404\n",
      "Optimization restart 5/5, f = 1485.017818163906\n",
      "[[20.          8.          5.         68.28298044  3.          5.        ]]\n",
      "\n",
      "User function emissions called with 1 inputs to simulate\n",
      "\n",
      "Evaluating input: 1 of 1\n",
      "\n",
      " Retrying in 1 seconds\n",
      "\n",
      "Output 6.174908944512381\n",
      "\n"
     ]
    },
    {
     "name": "stderr",
     "output_type": "stream",
     "text": [
      " /Users/Matteo/opt/anaconda3/envs/ml_and_physical/lib/python3.8/site-packages/paramz/transformations.py:111: RuntimeWarning:overflow encountered in expm1\n"
     ]
    },
    {
     "name": "stdout",
     "output_type": "stream",
     "text": [
      "Optimization restart 1/5, f = 1483.5370712035815\n",
      "Optimization restart 2/5, f = 1483.5370697936955\n",
      "Optimization restart 3/5, f = 1483.5370697936983\n",
      "Optimization restart 4/5, f = 1483.5370698023846\n",
      "Optimization restart 5/5, f = 1483.5370697955525\n"
     ]
    }
   ],
   "source": [
    "bo_integrated_variance = BayesianOptimizationLoop(parameter_space, emukit_model_integrated_variance, acquisition=acquisition_integrated_variance)\n",
    "bo_integrated_variance.run_loop(user_function_emissions, n_iter_bo)"
   ]
  },
  {
   "cell_type": "markdown",
   "metadata": {},
   "source": [
    "## Results"
   ]
  },
  {
   "cell_type": "code",
   "execution_count": 17,
   "metadata": {},
   "outputs": [],
   "source": [
    "parameters_name = ['Size of the grid', 'Speed limit in the net (m/s)', 'Max vehicles speed (m/s)', 'Length of the roads (m)', 'Number of lanes', 'Accelleration (m/s^2)']"
   ]
  },
  {
   "cell_type": "markdown",
   "metadata": {},
   "source": [
    "### Results on the random initialised emulator"
   ]
  },
  {
   "cell_type": "code",
   "execution_count": 18,
   "metadata": {},
   "outputs": [],
   "source": [
    "results_random_init = bo_random_init.get_results()"
   ]
  },
  {
   "cell_type": "code",
   "execution_count": 19,
   "metadata": {},
   "outputs": [
    {
     "data": {
      "text/html": [
       "<div>\n",
       "<style scoped>\n",
       "    .dataframe tbody tr th:only-of-type {\n",
       "        vertical-align: middle;\n",
       "    }\n",
       "\n",
       "    .dataframe tbody tr th {\n",
       "        vertical-align: top;\n",
       "    }\n",
       "\n",
       "    .dataframe thead th {\n",
       "        text-align: right;\n",
       "    }\n",
       "</style>\n",
       "<table border=\"1\" class=\"dataframe\">\n",
       "  <thead>\n",
       "    <tr style=\"text-align: right;\">\n",
       "      <th></th>\n",
       "      <th>Size of the grid</th>\n",
       "      <th>Speed limit in the net (m/s)</th>\n",
       "      <th>Max vehicles speed (m/s)</th>\n",
       "      <th>Length of the roads (m)</th>\n",
       "      <th>Number of lanes</th>\n",
       "      <th>Accelleration (m/s^2)</th>\n",
       "    </tr>\n",
       "  </thead>\n",
       "  <tbody>\n",
       "    <tr>\n",
       "      <th>0</th>\n",
       "      <td>20.0</td>\n",
       "      <td>8.0</td>\n",
       "      <td>5.0</td>\n",
       "      <td>70.0</td>\n",
       "      <td>1.0</td>\n",
       "      <td>1.5</td>\n",
       "    </tr>\n",
       "  </tbody>\n",
       "</table>\n",
       "</div>"
      ],
      "text/plain": [
       "   Size of the grid  Speed limit in the net (m/s)  Max vehicles speed (m/s)  \\\n",
       "0              20.0                           8.0                       5.0   \n",
       "\n",
       "   Length of the roads (m)  Number of lanes  Accelleration (m/s^2)  \n",
       "0                     70.0              1.0                    1.5  "
      ]
     },
     "execution_count": 19,
     "metadata": {},
     "output_type": "execute_result"
    }
   ],
   "source": [
    "results_random_init_df = pd.DataFrame(results_random_init.minimum_location.reshape(1,-1))\n",
    "results_random_init_df.columns = parameters_name\n",
    "results_random_init_df"
   ]
  },
  {
   "cell_type": "code",
   "execution_count": 20,
   "metadata": {},
   "outputs": [
    {
     "data": {
      "text/plain": [
       "5.469575516984683"
      ]
     },
     "execution_count": 20,
     "metadata": {},
     "output_type": "execute_result"
    }
   ],
   "source": [
    "results_random_init.minimum_value"
   ]
  },
  {
   "cell_type": "markdown",
   "metadata": {},
   "source": [
    "### Results on the experimentally designed emulator with model variance"
   ]
  },
  {
   "cell_type": "code",
   "execution_count": 21,
   "metadata": {},
   "outputs": [],
   "source": [
    "results_model_variance = bo_model_variance.get_results()"
   ]
  },
  {
   "cell_type": "code",
   "execution_count": 22,
   "metadata": {},
   "outputs": [
    {
     "data": {
      "text/html": [
       "<div>\n",
       "<style scoped>\n",
       "    .dataframe tbody tr th:only-of-type {\n",
       "        vertical-align: middle;\n",
       "    }\n",
       "\n",
       "    .dataframe tbody tr th {\n",
       "        vertical-align: top;\n",
       "    }\n",
       "\n",
       "    .dataframe thead th {\n",
       "        text-align: right;\n",
       "    }\n",
       "</style>\n",
       "<table border=\"1\" class=\"dataframe\">\n",
       "  <thead>\n",
       "    <tr style=\"text-align: right;\">\n",
       "      <th></th>\n",
       "      <th>Size of the grid</th>\n",
       "      <th>Speed limit in the net (m/s)</th>\n",
       "      <th>Max vehicles speed (m/s)</th>\n",
       "      <th>Length of the roads (m)</th>\n",
       "      <th>Number of lanes</th>\n",
       "      <th>Accelleration (m/s^2)</th>\n",
       "    </tr>\n",
       "  </thead>\n",
       "  <tbody>\n",
       "    <tr>\n",
       "      <th>0</th>\n",
       "      <td>20.0</td>\n",
       "      <td>25.0</td>\n",
       "      <td>5.0</td>\n",
       "      <td>70.0</td>\n",
       "      <td>1.0</td>\n",
       "      <td>1.5</td>\n",
       "    </tr>\n",
       "  </tbody>\n",
       "</table>\n",
       "</div>"
      ],
      "text/plain": [
       "   Size of the grid  Speed limit in the net (m/s)  Max vehicles speed (m/s)  \\\n",
       "0              20.0                          25.0                       5.0   \n",
       "\n",
       "   Length of the roads (m)  Number of lanes  Accelleration (m/s^2)  \n",
       "0                     70.0              1.0                    1.5  "
      ]
     },
     "execution_count": 22,
     "metadata": {},
     "output_type": "execute_result"
    }
   ],
   "source": [
    "results_random_init_df = pd.DataFrame(results_model_variance.minimum_location.reshape(1,-1))\n",
    "results_random_init_df.columns = parameters_name\n",
    "results_random_init_df"
   ]
  },
  {
   "cell_type": "code",
   "execution_count": 23,
   "metadata": {},
   "outputs": [
    {
     "data": {
      "text/plain": [
       "5.469575516984683"
      ]
     },
     "execution_count": 23,
     "metadata": {},
     "output_type": "execute_result"
    }
   ],
   "source": [
    "results_model_variance.minimum_value"
   ]
  },
  {
   "cell_type": "markdown",
   "metadata": {},
   "source": [
    "### Results on the experimentally designed emulator with integrated variance reduction"
   ]
  },
  {
   "cell_type": "code",
   "execution_count": 24,
   "metadata": {},
   "outputs": [],
   "source": [
    "results_integrated_variance = bo_integrated_variance.get_results()"
   ]
  },
  {
   "cell_type": "code",
   "execution_count": 25,
   "metadata": {},
   "outputs": [
    {
     "data": {
      "text/html": [
       "<div>\n",
       "<style scoped>\n",
       "    .dataframe tbody tr th:only-of-type {\n",
       "        vertical-align: middle;\n",
       "    }\n",
       "\n",
       "    .dataframe tbody tr th {\n",
       "        vertical-align: top;\n",
       "    }\n",
       "\n",
       "    .dataframe thead th {\n",
       "        text-align: right;\n",
       "    }\n",
       "</style>\n",
       "<table border=\"1\" class=\"dataframe\">\n",
       "  <thead>\n",
       "    <tr style=\"text-align: right;\">\n",
       "      <th></th>\n",
       "      <th>Size of the grid</th>\n",
       "      <th>Speed limit in the net (m/s)</th>\n",
       "      <th>Max vehicles speed (m/s)</th>\n",
       "      <th>Length of the roads (m)</th>\n",
       "      <th>Number of lanes</th>\n",
       "      <th>Accelleration (m/s^2)</th>\n",
       "    </tr>\n",
       "  </thead>\n",
       "  <tbody>\n",
       "    <tr>\n",
       "      <th>0</th>\n",
       "      <td>20.0</td>\n",
       "      <td>25.0</td>\n",
       "      <td>5.0</td>\n",
       "      <td>70.0</td>\n",
       "      <td>1.0</td>\n",
       "      <td>1.5</td>\n",
       "    </tr>\n",
       "  </tbody>\n",
       "</table>\n",
       "</div>"
      ],
      "text/plain": [
       "   Size of the grid  Speed limit in the net (m/s)  Max vehicles speed (m/s)  \\\n",
       "0              20.0                          25.0                       5.0   \n",
       "\n",
       "   Length of the roads (m)  Number of lanes  Accelleration (m/s^2)  \n",
       "0                     70.0              1.0                    1.5  "
      ]
     },
     "execution_count": 25,
     "metadata": {},
     "output_type": "execute_result"
    }
   ],
   "source": [
    "results_random_init_df = pd.DataFrame(results_integrated_variance.minimum_location.reshape(1,-1))\n",
    "results_random_init_df.columns = parameters_name\n",
    "results_random_init_df"
   ]
  },
  {
   "cell_type": "code",
   "execution_count": 26,
   "metadata": {},
   "outputs": [
    {
     "data": {
      "text/plain": [
       "5.469575516984683"
      ]
     },
     "execution_count": 26,
     "metadata": {},
     "output_type": "execute_result"
    }
   ],
   "source": [
    "results_integrated_variance.minimum_value"
   ]
  },
  {
   "cell_type": "markdown",
   "metadata": {},
   "source": [
    "## Save stuff"
   ]
  },
  {
   "cell_type": "code",
   "execution_count": 27,
   "metadata": {},
   "outputs": [],
   "source": [
    "with open(f'bayesian_optimization/bayesian_opt_results/results_random_init_emissions.pkl', \"wb\") as f:\n",
    "     pickle.dump(results_random_init, f)\n",
    "\n",
    "with open(f'bayesian_optimization/bayesian_opt_results/results_model_variance_emissions.pkl', \"wb\") as f:\n",
    "     pickle.dump(results_model_variance, f)\n",
    "        \n",
    "with open(f'bayesian_optimization/bayesian_opt_results/results_integrated_variance_emissions.pkl', \"wb\") as f:\n",
    "     pickle.dump(results_integrated_variance, f)"
   ]
  },
  {
   "cell_type": "code",
   "execution_count": 28,
   "metadata": {},
   "outputs": [],
   "source": [
    "with open(f'bayesian_optimization/models/270_random_init_50_bay_opt_emissions.pkl', \"wb\") as f:\n",
    "     pickle.dump(emukit_model_random_init, f)\n",
    "\n",
    "with open(f'bayesian_optimization/models/270_model_variance_50_bay_emissions.pkl', \"wb\") as f:\n",
    "     pickle.dump(emukit_model_variance, f)\n",
    "        \n",
    "with open(f'bayesian_optimization/models/270_integrated_variance_50_bay_emissions.pkl', \"wb\") as f:\n",
    "     pickle.dump(emukit_model_integrated_variance, f)"
   ]
  }
 ],
 "metadata": {
  "kernelspec": {
   "display_name": "ml_and_physical",
   "language": "python",
   "name": "ml_and_physical"
  },
  "language_info": {
   "codemirror_mode": {
    "name": "ipython",
    "version": 3
   },
   "file_extension": ".py",
   "mimetype": "text/x-python",
   "name": "python",
   "nbconvert_exporter": "python",
   "pygments_lexer": "ipython3",
   "version": "3.8.5"
  }
 },
 "nbformat": 4,
 "nbformat_minor": 4
}
