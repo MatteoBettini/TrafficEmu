{
 "cells": [
  {
   "cell_type": "code",
   "execution_count": 1,
   "metadata": {},
   "outputs": [
    {
     "name": "stdout",
     "output_type": "stream",
     "text": [
      "/Users/Matteo/PycharmProjects/TrafficEmu\n"
     ]
    }
   ],
   "source": [
    "%cd .."
   ]
  },
  {
   "cell_type": "markdown",
   "metadata": {},
   "source": [
    "# Bayesian optimization: finding the minimum emission"
   ]
  },
  {
   "cell_type": "markdown",
   "metadata": {},
   "source": [
    "In this notebook we will performing bayesian optimization on the emulator trained on our sumo simulation. We are interested in identifying the parameters which enable us to obtain the minimum travel time. Our emulator is a gaussian process with an **rbf** kernel.\n"
   ]
  },
  {
   "cell_type": "markdown",
   "metadata": {},
   "source": [
    "## Imports"
   ]
  },
  {
   "cell_type": "code",
   "execution_count": 7,
   "metadata": {},
   "outputs": [],
   "source": [
    "import pickle\n",
    "import numpy as np\n",
    "import emukit as ek\n",
    "import GPy\n",
    "import pandas as pd\n",
    "\n",
    "from emukit.model_wrappers import GPyModelWrapper\n",
    "from emukit.core.initial_designs import RandomDesign\n",
    "from emukit.core import ParameterSpace, ContinuousParameter, DiscreteParameter\n",
    "from emukit.bayesian_optimization.acquisitions import ExpectedImprovement\n",
    "from emukit.bayesian_optimization.loops import BayesianOptimizationLoop\n",
    "\n",
    "from sumo_grid_simulation.grid_simulation import Simulator\n",
    "from experimental_design import config"
   ]
  },
  {
   "cell_type": "markdown",
   "metadata": {},
   "source": [
    "## Simulator"
   ]
  },
  {
   "cell_type": "markdown",
   "metadata": {},
   "source": [
    "We start by initialising our simulation."
   ]
  },
  {
   "cell_type": "code",
   "execution_count": 8,
   "metadata": {},
   "outputs": [],
   "source": [
    "simulator = Simulator(end_time=300)"
   ]
  },
  {
   "cell_type": "markdown",
   "metadata": {},
   "source": [
    "We then define the two user functions in which we are interested:"
   ]
  },
  {
   "cell_type": "code",
   "execution_count": 13,
   "metadata": {},
   "outputs": [],
   "source": [
    "def user_function_emissions(X):\n",
    "    \"\"\"  X = inputs - emukit doesnt pass named args, just an NxM ndarray, N is the number of points to evaluate, M is the number of parameters per each point \"\"\"\n",
    "    result = []\n",
    "    i = 0\n",
    "    \n",
    "    print(X)\n",
    "    print(f'\\nUser function emissions called with {X.shape[0]} inputs to simulate')\n",
    "\n",
    "    \n",
    "    for gridSize, edgeMaxSpeed, edgeLength, numLanes, accel in X:\n",
    "        print(f'\\nEvaluating input: {i+1} of {X.shape[0]}\\n')\n",
    "        \n",
    "        beta = 0.05\n",
    "        max_number_of_vehicles = ((gridSize - 1) * gridSize * 2 + 4 * gridSize) * edgeLength / 5\n",
    "        period = 300/(max_number_of_vehicles * beta)\n",
    "        \n",
    "        s = simulator.simulate(\n",
    "            gridSize      = int(gridSize),\n",
    "            edgeMaxSpeed  = edgeMaxSpeed,\n",
    "            edgeLength    = edgeLength,\n",
    "            numberOfLanes = int(numLanes),\n",
    "            accel         = accel,\n",
    "            trips_generator_period = period\n",
    "        )\n",
    "        \n",
    "\n",
    "        CO2 = s['CO2']/s['num_emissions_samples']\n",
    "        result.append(CO2)\n",
    "        print(f'\\nOutput {result[-1]}\\n')\n",
    "        i += 1\n",
    "        \n",
    "    # expand dims is essential or the acquition function breaks\n",
    "    return np.expand_dims(np.array(result), 1)  "
   ]
  },
  {
   "cell_type": "markdown",
   "metadata": {
    "pycharm": {
     "name": "#%% md\n"
    }
   },
   "source": [
    "We then load the parameters' space from our configuration file:"
   ]
  },
  {
   "cell_type": "code",
   "execution_count": 14,
   "metadata": {
    "pycharm": {
     "name": "#%%\n"
    }
   },
   "outputs": [],
   "source": [
    "parameter_space = config.get_parameter_space()"
   ]
  },
  {
   "cell_type": "markdown",
   "metadata": {
    "pycharm": {
     "name": "#%% md\n"
    }
   },
   "source": [
    "## Emulator"
   ]
  },
  {
   "cell_type": "markdown",
   "metadata": {},
   "source": [
    "### Rnadomly initialised emulator"
   ]
  },
  {
   "cell_type": "markdown",
   "metadata": {},
   "source": [
    "The first emulator we are going to analyse is the one that is just initilised with random points"
   ]
  },
  {
   "cell_type": "markdown",
   "metadata": {},
   "source": [
    "We first sample at random 200 datapoints from the parameter space:"
   ]
  },
  {
   "cell_type": "code",
   "execution_count": 15,
   "metadata": {
    "pycharm": {
     "name": "#%%\n"
    }
   },
   "outputs": [
    {
     "name": "stdout",
     "output_type": "stream",
     "text": [
      "[[ 4.         14.15010191 55.84683916  1.          4.79832242]\n",
      " [14.         15.57041614 46.57856287  2.          4.64578317]\n",
      " [ 6.         12.80759205 56.07463308  1.          2.06556408]\n",
      " ...\n",
      " [18.         16.37192794 60.15180318  2.          1.68195998]\n",
      " [ 9.          8.74817599 50.2642949   3.          2.02774525]\n",
      " [14.         12.4840758  47.95369231  3.          2.67440027]]\n",
      "\n",
      "User function emissions called with 520 inputs to simulate\n",
      "\n",
      "Evaluating input: 1 of 520\n",
      "\n",
      " Retrying in 1 seconds\n",
      "\n",
      "Output 4861.245391705068\n",
      "\n",
      "\n",
      "Evaluating input: 2 of 520\n",
      "\n",
      " Retrying in 1 seconds\n",
      "\n",
      "Output 4511.384151717974\n",
      "\n",
      "\n",
      "Evaluating input: 3 of 520\n",
      "\n",
      " Retrying in 1 seconds\n",
      "\n",
      "Output 3271.347444286389\n",
      "\n",
      "\n",
      "Evaluating input: 4 of 520\n",
      "\n",
      " Retrying in 1 seconds\n",
      "\n",
      "Output 3499.1660758293847\n",
      "\n",
      "\n",
      "Evaluating input: 5 of 520\n",
      "\n",
      " Retrying in 1 seconds\n",
      "\n",
      "Output 4122.023564642357\n",
      "\n",
      "\n",
      "Evaluating input: 6 of 520\n",
      "\n",
      " Retrying in 1 seconds\n",
      "\n",
      "Output 3495.2498501512205\n",
      "\n",
      "\n",
      "Evaluating input: 7 of 520\n",
      "\n",
      " Retrying in 1 seconds\n",
      "\n",
      "Output 3458.010946745562\n",
      "\n",
      "\n",
      "Evaluating input: 8 of 520\n",
      "\n",
      " Retrying in 1 seconds\n",
      "\n",
      "Output 4674.6416275715455\n",
      "\n",
      "\n",
      "Evaluating input: 9 of 520\n",
      "\n",
      " Retrying in 1 seconds\n",
      "\n",
      "Output 3916.827869565218\n",
      "\n",
      "\n",
      "Evaluating input: 10 of 520\n",
      "\n",
      " Retrying in 1 seconds\n",
      "\n",
      "Output 4691.261857329254\n",
      "\n",
      "\n",
      "Evaluating input: 11 of 520\n",
      "\n",
      " Retrying in 1 seconds\n",
      "\n",
      "Output 3219.033935208924\n",
      "\n",
      "\n",
      "Evaluating input: 12 of 520\n",
      "\n",
      " Retrying in 1 seconds\n",
      "\n",
      "Output 4862.523849645168\n",
      "\n",
      "\n",
      "Evaluating input: 13 of 520\n",
      "\n",
      " Retrying in 1 seconds\n",
      "\n",
      "Output 2832.8895494445105\n",
      "\n",
      "\n",
      "Evaluating input: 14 of 520\n",
      "\n",
      " Retrying in 1 seconds\n",
      "\n",
      "Output 3708.3153720213922\n",
      "\n",
      "\n",
      "Evaluating input: 15 of 520\n",
      "\n",
      " Retrying in 1 seconds\n",
      "\n",
      "Output 3806.581116668456\n",
      "\n",
      "\n",
      "Evaluating input: 16 of 520\n",
      "\n",
      " Retrying in 1 seconds\n",
      "\n",
      "Output 4573.580673684912\n",
      "\n",
      "\n",
      "Evaluating input: 17 of 520\n",
      "\n",
      " Retrying in 1 seconds\n",
      "\n",
      "Output 2437.69412487074\n",
      "\n",
      "\n",
      "Evaluating input: 18 of 520\n",
      "\n",
      " Retrying in 1 seconds\n",
      "\n",
      "Output 3631.859323213156\n",
      "\n",
      "\n",
      "Evaluating input: 19 of 520\n",
      "\n",
      " Retrying in 1 seconds\n",
      "\n",
      "Output 3805.6823673225954\n",
      "\n",
      "\n",
      "Evaluating input: 20 of 520\n",
      "\n",
      " Retrying in 1 seconds\n",
      "\n",
      "Output 2704.8125692434933\n",
      "\n",
      "\n",
      "Evaluating input: 21 of 520\n",
      "\n",
      " Retrying in 1 seconds\n",
      "\n",
      "Output 1965.3416531549299\n",
      "\n",
      "\n",
      "Evaluating input: 22 of 520\n",
      "\n",
      " Retrying in 1 seconds\n",
      "\n",
      "Output 3787.136653495945\n",
      "\n",
      "\n",
      "Evaluating input: 23 of 520\n",
      "\n",
      " Retrying in 1 seconds\n",
      "\n",
      "Output 3010.7492388888923\n",
      "\n",
      "\n",
      "Evaluating input: 24 of 520\n",
      "\n",
      " Retrying in 1 seconds\n",
      "\n",
      "Output 3238.8904570064756\n",
      "\n",
      "\n",
      "Evaluating input: 25 of 520\n",
      "\n",
      " Retrying in 1 seconds\n",
      "\n",
      "Output 3426.0180336937397\n",
      "\n",
      "\n",
      "Evaluating input: 26 of 520\n",
      "\n",
      " Retrying in 1 seconds\n",
      "\n",
      "Output 4169.84125\n",
      "\n",
      "\n",
      "Evaluating input: 27 of 520\n",
      "\n",
      " Retrying in 1 seconds\n",
      "\n",
      "Output 4764.247511632743\n",
      "\n",
      "\n",
      "Evaluating input: 28 of 520\n",
      "\n",
      " Retrying in 1 seconds\n",
      "\n",
      "Output 2961.0151193764773\n",
      "\n",
      "\n",
      "Evaluating input: 29 of 520\n",
      "\n",
      " Retrying in 1 seconds\n",
      "\n",
      "Output 2376.8105994671396\n",
      "\n",
      "\n",
      "Evaluating input: 30 of 520\n",
      "\n",
      " Retrying in 1 seconds\n",
      "\n",
      "Output 4607.4847120418835\n",
      "\n",
      "\n",
      "Evaluating input: 31 of 520\n",
      "\n",
      " Retrying in 1 seconds\n",
      "\n",
      "Output 2857.9903919286007\n",
      "\n",
      "\n",
      "Evaluating input: 32 of 520\n",
      "\n",
      " Retrying in 1 seconds\n",
      "\n",
      "Output 3943.6908786574068\n",
      "\n",
      "\n",
      "Evaluating input: 33 of 520\n",
      "\n",
      " Retrying in 1 seconds\n",
      "\n",
      "Output 3282.6245438050696\n",
      "\n",
      "\n",
      "Evaluating input: 34 of 520\n",
      "\n",
      " Retrying in 1 seconds\n",
      "\n",
      "Output 2824.906627978449\n",
      "\n",
      "\n",
      "Evaluating input: 35 of 520\n",
      "\n",
      " Retrying in 1 seconds\n",
      "\n",
      "Output 2228.2289066128897\n",
      "\n",
      "\n",
      "Evaluating input: 36 of 520\n",
      "\n",
      " Retrying in 1 seconds\n",
      "\n",
      "Output 2470.2268991885817\n",
      "\n",
      "\n",
      "Evaluating input: 37 of 520\n",
      "\n",
      " Retrying in 1 seconds\n",
      "\n",
      "Output 4912.479856967712\n",
      "\n",
      "\n",
      "Evaluating input: 38 of 520\n",
      "\n",
      " Retrying in 1 seconds\n",
      "\n",
      "Output 2856.2365837720904\n",
      "\n",
      "\n",
      "Evaluating input: 39 of 520\n",
      "\n",
      " Retrying in 1 seconds\n",
      "\n",
      "Output 4115.80711864407\n",
      "\n",
      "\n",
      "Evaluating input: 40 of 520\n",
      "\n",
      " Retrying in 1 seconds\n",
      "\n",
      "Output 2980.539989044674\n",
      "\n",
      "\n",
      "Evaluating input: 41 of 520\n",
      "\n",
      " Retrying in 1 seconds\n",
      "\n",
      "Output 3206.9521435445413\n",
      "\n",
      "\n",
      "Evaluating input: 42 of 520\n",
      "\n",
      " Retrying in 1 seconds\n",
      "\n",
      "Output 5236.528191855155\n",
      "\n",
      "\n",
      "Evaluating input: 43 of 520\n",
      "\n",
      " Retrying in 1 seconds\n",
      "\n",
      "Output 2362.53639116359\n",
      "\n",
      "\n",
      "Evaluating input: 44 of 520\n",
      "\n",
      " Retrying in 1 seconds\n",
      "\n",
      "Output 3288.8294462637637\n",
      "\n",
      "\n",
      "Evaluating input: 45 of 520\n",
      "\n",
      " Retrying in 1 seconds\n",
      "\n",
      "Output 3038.103948650094\n",
      "\n",
      "\n",
      "Evaluating input: 46 of 520\n",
      "\n",
      " Retrying in 1 seconds\n",
      "\n",
      "Output 2422.1165911362828\n",
      "\n",
      "\n",
      "Evaluating input: 47 of 520\n",
      "\n",
      " Retrying in 1 seconds\n",
      "\n",
      "Output 4371.9775977366335\n",
      "\n",
      "\n",
      "Evaluating input: 48 of 520\n",
      "\n",
      " Retrying in 1 seconds\n",
      "\n",
      "Output 3564.808509620486\n",
      "\n",
      "\n",
      "Evaluating input: 49 of 520\n",
      "\n",
      " Retrying in 1 seconds\n",
      "\n",
      "Output 3991.007236869376\n",
      "\n",
      "\n",
      "Evaluating input: 50 of 520\n",
      "\n",
      " Retrying in 1 seconds\n",
      "\n",
      "Output 3143.128507055073\n",
      "\n",
      "\n",
      "Evaluating input: 51 of 520\n",
      "\n",
      " Retrying in 1 seconds\n",
      "\n",
      "Output 3060.952766153137\n",
      "\n",
      "\n",
      "Evaluating input: 52 of 520\n",
      "\n",
      " Retrying in 1 seconds\n",
      "\n",
      "Output 3395.1577532894757\n",
      "\n",
      "\n",
      "Evaluating input: 53 of 520\n",
      "\n",
      " Retrying in 1 seconds\n",
      "\n",
      "Output 3845.7195267986476\n",
      "\n",
      "\n",
      "Evaluating input: 54 of 520\n",
      "\n",
      " Retrying in 1 seconds\n",
      "\n",
      "Output 3174.2515632458203\n",
      "\n",
      "\n",
      "Evaluating input: 55 of 520\n",
      "\n",
      " Retrying in 1 seconds\n",
      "\n",
      "Output 3705.0782078979937\n",
      "\n",
      "\n",
      "Evaluating input: 56 of 520\n",
      "\n",
      " Retrying in 1 seconds\n",
      "\n",
      "Output 2839.968232679343\n",
      "\n",
      "\n",
      "Evaluating input: 57 of 520\n",
      "\n",
      " Retrying in 1 seconds\n",
      "\n",
      "Output 3974.537761815718\n",
      "\n",
      "\n",
      "Evaluating input: 58 of 520\n",
      "\n",
      " Retrying in 1 seconds\n",
      "\n",
      "Output 3474.8646377277546\n",
      "\n",
      "\n",
      "Evaluating input: 59 of 520\n",
      "\n",
      " Retrying in 1 seconds\n",
      "\n",
      "Output 2529.174068184397\n",
      "\n",
      "\n",
      "Evaluating input: 60 of 520\n",
      "\n",
      " Retrying in 1 seconds\n",
      "\n",
      "Output 5262.05547734271\n",
      "\n",
      "\n",
      "Evaluating input: 61 of 520\n",
      "\n",
      " Retrying in 1 seconds\n",
      "\n",
      "Output 4364.582055977232\n",
      "\n",
      "\n",
      "Evaluating input: 62 of 520\n",
      "\n",
      " Retrying in 1 seconds\n",
      "\n",
      "Output 5522.767602230485\n",
      "\n",
      "\n",
      "Evaluating input: 63 of 520\n",
      "\n",
      " Retrying in 1 seconds\n",
      "\n",
      "Output 3806.234390073408\n",
      "\n",
      "\n",
      "Evaluating input: 64 of 520\n",
      "\n",
      " Retrying in 1 seconds\n",
      "\n",
      "Output 3736.563161888698\n",
      "\n",
      "\n",
      "Evaluating input: 65 of 520\n",
      "\n",
      " Retrying in 1 seconds\n",
      "\n",
      "Output 3705.4390496644396\n",
      "\n",
      "\n",
      "Evaluating input: 66 of 520\n",
      "\n",
      " Retrying in 1 seconds\n",
      "\n",
      "Output 2817.245259531469\n",
      "\n",
      "\n",
      "Evaluating input: 67 of 520\n",
      "\n",
      " Retrying in 1 seconds\n",
      "\n",
      "Output 3416.2810588235275\n",
      "\n",
      "\n",
      "Evaluating input: 68 of 520\n",
      "\n",
      " Retrying in 1 seconds\n",
      "\n",
      "Output 2710.4931814026245\n",
      "\n",
      "\n",
      "Evaluating input: 69 of 520\n",
      "\n",
      " Retrying in 1 seconds\n",
      "\n",
      "Output 2575.823830546994\n",
      "\n",
      "\n",
      "Evaluating input: 70 of 520\n",
      "\n",
      " Retrying in 1 seconds\n",
      "\n",
      "Output 3266.4823544520577\n",
      "\n",
      "\n",
      "Evaluating input: 71 of 520\n",
      "\n",
      " Retrying in 1 seconds\n",
      "\n",
      "Output 4181.327458036213\n",
      "\n",
      "\n",
      "Evaluating input: 72 of 520\n",
      "\n",
      " Retrying in 1 seconds\n",
      "\n",
      "Output 3426.195324406573\n",
      "\n",
      "\n",
      "Evaluating input: 73 of 520\n",
      "\n",
      " Retrying in 1 seconds\n",
      "\n",
      "Output 3763.2680177753873\n",
      "\n",
      "\n",
      "Evaluating input: 74 of 520\n",
      "\n",
      " Retrying in 1 seconds\n",
      "\n",
      "Output 4327.170787088205\n",
      "\n",
      "\n",
      "Evaluating input: 75 of 520\n",
      "\n",
      " Retrying in 1 seconds\n",
      "\n",
      "Output 2715.6049179031156\n",
      "\n",
      "\n",
      "Evaluating input: 76 of 520\n",
      "\n",
      " Retrying in 1 seconds\n",
      "\n",
      "Output 4908.557363636365\n",
      "\n",
      "\n",
      "Evaluating input: 77 of 520\n",
      "\n",
      " Retrying in 1 seconds\n",
      "\n",
      "Output 3402.7629743589723\n",
      "\n",
      "\n",
      "Evaluating input: 78 of 520\n",
      "\n",
      " Retrying in 1 seconds\n",
      "\n",
      "Output 3453.014838983811\n",
      "\n",
      "\n",
      "Evaluating input: 79 of 520\n",
      "\n",
      " Retrying in 1 seconds\n",
      "\n",
      "Output 4341.71852359567\n",
      "\n",
      "\n",
      "Evaluating input: 80 of 520\n",
      "\n",
      " Retrying in 1 seconds\n",
      "\n",
      "Output 3359.581455496576\n",
      "\n",
      "\n",
      "Evaluating input: 81 of 520\n",
      "\n",
      " Retrying in 1 seconds\n",
      "\n",
      "Output 3017.656215052664\n",
      "\n",
      "\n",
      "Evaluating input: 82 of 520\n",
      "\n",
      " Retrying in 1 seconds\n",
      "\n",
      "Output 2117.636538868877\n",
      "\n",
      "\n",
      "Evaluating input: 83 of 520\n",
      "\n",
      " Retrying in 1 seconds\n",
      "\n",
      "Output 2895.1126855123666\n",
      "\n",
      "\n",
      "Evaluating input: 84 of 520\n",
      "\n",
      " Retrying in 1 seconds\n",
      "\n",
      "Output 4190.580620538962\n",
      "\n",
      "\n",
      "Evaluating input: 85 of 520\n",
      "\n",
      " Retrying in 1 seconds\n",
      "\n",
      "Output 2817.280481819352\n",
      "\n",
      "\n",
      "Evaluating input: 86 of 520\n",
      "\n",
      " Retrying in 1 seconds\n",
      "\n",
      "Output 4359.594451313249\n",
      "\n",
      "\n",
      "Evaluating input: 87 of 520\n",
      "\n",
      " Retrying in 1 seconds\n",
      "\n",
      "Output 3099.981646825397\n",
      "\n",
      "\n",
      "Evaluating input: 88 of 520\n",
      "\n",
      " Retrying in 1 seconds\n",
      "\n",
      "Output 2432.735119477905\n",
      "\n",
      "\n",
      "Evaluating input: 89 of 520\n",
      "\n",
      " Retrying in 1 seconds\n",
      "\n",
      "Output 3761.6465111865705\n",
      "\n",
      "\n",
      "Evaluating input: 90 of 520\n",
      "\n",
      " Retrying in 1 seconds\n",
      "\n",
      "Output 2282.803617376773\n",
      "\n",
      "\n",
      "Evaluating input: 91 of 520\n",
      "\n",
      " Retrying in 1 seconds\n",
      "\n",
      "Output 3455.7241677320385\n",
      "\n",
      "\n",
      "Evaluating input: 92 of 520\n",
      "\n",
      " Retrying in 1 seconds\n",
      "\n",
      "Output 4970.74774587222\n",
      "\n",
      "\n",
      "Evaluating input: 93 of 520\n",
      "\n",
      " Retrying in 1 seconds\n",
      "\n",
      "Output 2499.969018373607\n",
      "\n",
      "\n",
      "Evaluating input: 94 of 520\n",
      "\n",
      " Retrying in 1 seconds\n",
      "\n",
      "Output 4251.256459958723\n",
      "\n",
      "\n",
      "Evaluating input: 95 of 520\n",
      "\n",
      " Retrying in 1 seconds\n",
      "\n",
      "Output 4916.466934327841\n",
      "\n",
      "\n",
      "Evaluating input: 96 of 520\n",
      "\n",
      " Retrying in 1 seconds\n",
      "\n",
      "Output 4866.2787565445105\n",
      "\n",
      "\n",
      "Evaluating input: 97 of 520\n",
      "\n",
      " Retrying in 1 seconds\n"
     ]
    },
    {
     "name": "stdout",
     "output_type": "stream",
     "text": [
      "\n",
      "Output 3178.8590843621446\n",
      "\n",
      "\n",
      "Evaluating input: 98 of 520\n",
      "\n",
      " Retrying in 1 seconds\n",
      "\n",
      "Output 2351.462857142855\n",
      "\n",
      "\n",
      "Evaluating input: 99 of 520\n",
      "\n",
      " Retrying in 1 seconds\n",
      "\n",
      "Output 2373.598487261148\n",
      "\n",
      "\n",
      "Evaluating input: 100 of 520\n",
      "\n",
      " Retrying in 1 seconds\n",
      "\n",
      "Output 2927.6106303084443\n",
      "\n",
      "\n",
      "Evaluating input: 101 of 520\n",
      "\n",
      " Retrying in 1 seconds\n",
      "\n",
      "Output 2032.5512450240096\n",
      "\n",
      "\n",
      "Evaluating input: 102 of 520\n",
      "\n",
      " Retrying in 1 seconds\n",
      "\n",
      "Output 3825.9932528070444\n",
      "\n",
      "\n",
      "Evaluating input: 103 of 520\n",
      "\n",
      " Retrying in 1 seconds\n",
      "\n",
      "Output 4952.3093945270975\n",
      "\n",
      "\n",
      "Evaluating input: 104 of 520\n",
      "\n",
      " Retrying in 1 seconds\n",
      "\n",
      "Output 4548.3677188815755\n",
      "\n",
      "\n",
      "Evaluating input: 105 of 520\n",
      "\n",
      " Retrying in 1 seconds\n",
      "\n",
      "Output 3390.0144728533087\n",
      "\n",
      "\n",
      "Evaluating input: 106 of 520\n",
      "\n",
      " Retrying in 1 seconds\n",
      "\n",
      "Output 5146.968696128564\n",
      "\n",
      "\n",
      "Evaluating input: 107 of 520\n",
      "\n",
      " Retrying in 1 seconds\n",
      "\n",
      "Output 2393.968950574384\n",
      "\n",
      "\n",
      "Evaluating input: 108 of 520\n",
      "\n",
      " Retrying in 1 seconds\n",
      "\n",
      "Output 2662.3221485333675\n",
      "\n",
      "\n",
      "Evaluating input: 109 of 520\n",
      "\n",
      " Retrying in 1 seconds\n",
      "\n",
      "Output 3612.2742244525316\n",
      "\n",
      "\n",
      "Evaluating input: 110 of 520\n",
      "\n",
      " Retrying in 1 seconds\n",
      "\n",
      "Output 4289.51400485437\n",
      "\n",
      "\n",
      "Evaluating input: 111 of 520\n",
      "\n",
      " Retrying in 1 seconds\n",
      "\n",
      "Output 3207.00640776699\n",
      "\n",
      "\n",
      "Evaluating input: 112 of 520\n",
      "\n",
      " Retrying in 1 seconds\n",
      "\n",
      "Output 4063.591366128211\n",
      "\n",
      "\n",
      "Evaluating input: 113 of 520\n",
      "\n",
      " Retrying in 1 seconds\n",
      "\n",
      "Output 3419.2061087769944\n",
      "\n",
      "\n",
      "Evaluating input: 114 of 520\n",
      "\n",
      " Retrying in 1 seconds\n",
      "\n",
      "Output 4563.46001410138\n",
      "\n",
      "\n",
      "Evaluating input: 115 of 520\n",
      "\n",
      " Retrying in 1 seconds\n",
      "\n",
      "Output 3089.5806836383163\n",
      "\n",
      "\n",
      "Evaluating input: 116 of 520\n",
      "\n",
      " Retrying in 1 seconds\n",
      "\n",
      "Output 3848.5628112449835\n",
      "\n",
      "\n",
      "Evaluating input: 117 of 520\n",
      "\n",
      " Retrying in 1 seconds\n",
      "\n",
      "Output 4454.869648232099\n",
      "\n",
      "\n",
      "Evaluating input: 118 of 520\n",
      "\n",
      " Retrying in 1 seconds\n",
      "\n",
      "Output 3194.285754827118\n",
      "\n",
      "\n",
      "Evaluating input: 119 of 520\n",
      "\n",
      " Retrying in 1 seconds\n",
      "\n",
      "Output 2529.9287629260793\n",
      "\n",
      "\n",
      "Evaluating input: 120 of 520\n",
      "\n",
      " Retrying in 1 seconds\n",
      "\n",
      "Output 2925.8663997246404\n",
      "\n",
      "\n",
      "Evaluating input: 121 of 520\n",
      "\n",
      " Retrying in 1 seconds\n",
      "\n",
      "Output 3735.719886779111\n",
      "\n",
      "\n",
      "Evaluating input: 122 of 520\n",
      "\n",
      " Retrying in 1 seconds\n",
      "\n",
      "Output 5496.6089479905495\n",
      "\n",
      "\n",
      "Evaluating input: 123 of 520\n",
      "\n",
      " Retrying in 1 seconds\n",
      "\n",
      "Output 2300.2110978692626\n",
      "\n",
      "\n",
      "Evaluating input: 124 of 520\n",
      "\n",
      " Retrying in 1 seconds\n",
      "\n",
      "Output 4834.210175117079\n",
      "\n",
      "\n",
      "Evaluating input: 125 of 520\n",
      "\n",
      " Retrying in 1 seconds\n",
      "\n",
      "Output 4077.2953513884167\n",
      "\n",
      "\n",
      "Evaluating input: 126 of 520\n",
      "\n",
      " Retrying in 1 seconds\n",
      "\n",
      "Output 2663.20371107425\n",
      "\n",
      "\n",
      "Evaluating input: 127 of 520\n",
      "\n",
      " Retrying in 1 seconds\n",
      "\n",
      "Output 4771.85442161291\n",
      "\n",
      "\n",
      "Evaluating input: 128 of 520\n",
      "\n",
      " Retrying in 1 seconds\n",
      "\n",
      "Output 4354.224372990367\n",
      "\n",
      "\n",
      "Evaluating input: 129 of 520\n",
      "\n",
      " Retrying in 1 seconds\n",
      "\n",
      "Output 2640.3607737690922\n",
      "\n",
      "\n",
      "Evaluating input: 130 of 520\n",
      "\n",
      " Retrying in 1 seconds\n",
      "\n",
      "Output 2133.9690833035306\n",
      "\n",
      "\n",
      "Evaluating input: 131 of 520\n",
      "\n",
      " Retrying in 1 seconds\n",
      "\n",
      "Output 3063.6797014544477\n",
      "\n",
      "\n",
      "Evaluating input: 132 of 520\n",
      "\n",
      " Retrying in 1 seconds\n",
      "\n",
      "Output 2874.138665495661\n",
      "\n",
      "\n",
      "Evaluating input: 133 of 520\n",
      "\n",
      " Retrying in 1 seconds\n",
      "\n",
      "Output 3242.609023696683\n",
      "\n",
      "\n",
      "Evaluating input: 134 of 520\n",
      "\n",
      " Retrying in 1 seconds\n",
      "\n",
      "Output 4475.371057157312\n",
      "\n",
      "\n",
      "Evaluating input: 135 of 520\n",
      "\n",
      " Retrying in 1 seconds\n",
      "\n",
      "Output 4369.732115611118\n",
      "\n",
      "\n",
      "Evaluating input: 136 of 520\n",
      "\n",
      " Retrying in 1 seconds\n",
      "\n",
      "Output 3026.6285494223366\n",
      "\n",
      "\n",
      "Evaluating input: 137 of 520\n",
      "\n",
      " Retrying in 1 seconds\n",
      "\n",
      "Output 3567.6366480446745\n",
      "\n",
      "\n",
      "Evaluating input: 138 of 520\n",
      "\n",
      " Retrying in 1 seconds\n",
      "\n",
      "Output 3117.2119583320527\n",
      "\n",
      "\n",
      "Evaluating input: 139 of 520\n",
      "\n",
      " Retrying in 1 seconds\n",
      "\n",
      "Output 3052.53449531516\n",
      "\n",
      "\n",
      "Evaluating input: 140 of 520\n",
      "\n",
      " Retrying in 1 seconds\n",
      "\n",
      "Output 2535.991093167712\n",
      "\n",
      "\n",
      "Evaluating input: 141 of 520\n",
      "\n",
      " Retrying in 1 seconds\n",
      "\n",
      "Output 4510.150243931934\n",
      "\n",
      "\n",
      "Evaluating input: 142 of 520\n",
      "\n",
      " Retrying in 1 seconds\n",
      "\n",
      "Output 3870.6084629853494\n",
      "\n",
      "\n",
      "Evaluating input: 143 of 520\n",
      "\n",
      " Retrying in 1 seconds\n",
      "\n",
      "Output 2811.134567520708\n",
      "\n",
      "\n",
      "Evaluating input: 144 of 520\n",
      "\n",
      " Retrying in 1 seconds\n",
      "\n",
      "Output 3376.458191264202\n",
      "\n",
      "\n",
      "Evaluating input: 145 of 520\n",
      "\n",
      " Retrying in 1 seconds\n",
      "\n",
      "Output 3594.280511261913\n",
      "\n",
      "\n",
      "Evaluating input: 146 of 520\n",
      "\n",
      " Retrying in 1 seconds\n",
      "\n",
      "Output 3804.2304738410685\n",
      "\n",
      "\n",
      "Evaluating input: 147 of 520\n",
      "\n",
      " Retrying in 1 seconds\n",
      "\n",
      "Output 4825.648173350598\n",
      "\n",
      "\n",
      "Evaluating input: 148 of 520\n",
      "\n",
      " Retrying in 1 seconds\n",
      "\n",
      "Output 4597.150767946585\n",
      "\n",
      "\n",
      "Evaluating input: 149 of 520\n",
      "\n",
      " Retrying in 1 seconds\n",
      "\n",
      "Output 2950.6665384912944\n",
      "\n",
      "\n",
      "Evaluating input: 150 of 520\n",
      "\n",
      " Retrying in 1 seconds\n",
      "\n",
      "Output 4487.347626459143\n",
      "\n",
      "\n",
      "Evaluating input: 151 of 520\n",
      "\n",
      " Retrying in 1 seconds\n",
      "\n",
      "Output 3748.992788006319\n",
      "\n",
      "\n",
      "Evaluating input: 152 of 520\n",
      "\n",
      " Retrying in 1 seconds\n",
      "\n",
      "Output 3927.414818652846\n",
      "\n",
      "\n",
      "Evaluating input: 153 of 520\n",
      "\n",
      " Retrying in 1 seconds\n",
      "\n",
      "Output 3415.6625466511027\n",
      "\n",
      "\n",
      "Evaluating input: 154 of 520\n",
      "\n",
      " Retrying in 1 seconds\n",
      "\n",
      "Output 3827.8034483189394\n",
      "\n",
      "\n",
      "Evaluating input: 155 of 520\n",
      "\n",
      " Retrying in 1 seconds\n",
      "\n",
      "Output 2522.619477657153\n",
      "\n",
      "\n",
      "Evaluating input: 156 of 520\n",
      "\n",
      " Retrying in 1 seconds\n",
      "\n",
      "Output 2059.935038774103\n",
      "\n",
      "\n",
      "Evaluating input: 157 of 520\n",
      "\n",
      " Retrying in 1 seconds\n",
      "\n",
      "Output 2469.9466503906237\n",
      "\n",
      "\n",
      "Evaluating input: 158 of 520\n",
      "\n",
      " Retrying in 1 seconds\n",
      "\n",
      "Output 2305.935211855105\n",
      "\n",
      "\n",
      "Evaluating input: 159 of 520\n",
      "\n",
      " Retrying in 1 seconds\n",
      "\n",
      "Output 4684.705396419436\n",
      "\n",
      "\n",
      "Evaluating input: 160 of 520\n",
      "\n",
      " Retrying in 1 seconds\n",
      "\n",
      "Output 5043.094357557737\n",
      "\n",
      "\n",
      "Evaluating input: 161 of 520\n",
      "\n",
      " Retrying in 1 seconds\n",
      "\n",
      "Output 3673.181777276981\n",
      "\n",
      "\n",
      "Evaluating input: 162 of 520\n",
      "\n",
      " Retrying in 1 seconds\n",
      "\n",
      "Output 3123.506188741722\n",
      "\n",
      "\n",
      "Evaluating input: 163 of 520\n",
      "\n",
      " Retrying in 1 seconds\n",
      "\n",
      "Output 4810.48389909153\n",
      "\n",
      "\n",
      "Evaluating input: 164 of 520\n",
      "\n",
      " Retrying in 1 seconds\n",
      "\n",
      "Output 2993.515747126437\n",
      "\n",
      "\n",
      "Evaluating input: 165 of 520\n",
      "\n",
      " Retrying in 1 seconds\n",
      "\n",
      "Output 3282.2519301675975\n",
      "\n",
      "\n",
      "Evaluating input: 166 of 520\n",
      "\n",
      " Retrying in 1 seconds\n",
      "\n",
      "Output 3547.94168532334\n",
      "\n",
      "\n",
      "Evaluating input: 167 of 520\n",
      "\n",
      " Retrying in 1 seconds\n",
      "\n",
      "Output 3113.5635296991018\n",
      "\n",
      "\n",
      "Evaluating input: 168 of 520\n",
      "\n",
      " Retrying in 1 seconds\n",
      "\n",
      "Output 2465.972517780934\n",
      "\n",
      "\n",
      "Evaluating input: 169 of 520\n",
      "\n",
      " Retrying in 1 seconds\n",
      "\n",
      "Output 1925.8773567853914\n",
      "\n",
      "\n",
      "Evaluating input: 170 of 520\n",
      "\n",
      " Retrying in 1 seconds\n",
      "\n",
      "Output 2272.1535283018884\n",
      "\n",
      "\n",
      "Evaluating input: 171 of 520\n",
      "\n",
      " Retrying in 1 seconds\n",
      "\n",
      "Output 4403.616440677963\n",
      "\n",
      "\n",
      "Evaluating input: 172 of 520\n",
      "\n",
      " Retrying in 1 seconds\n",
      "\n",
      "Output 3924.803173791244\n",
      "\n",
      "\n",
      "Evaluating input: 173 of 520\n",
      "\n",
      " Retrying in 1 seconds\n",
      "\n",
      "Output 4554.952345705416\n",
      "\n",
      "\n",
      "Evaluating input: 174 of 520\n",
      "\n",
      " Retrying in 1 seconds\n",
      "\n",
      "Output 4667.3063063063055\n",
      "\n",
      "\n",
      "Evaluating input: 175 of 520\n",
      "\n",
      " Retrying in 1 seconds\n",
      "\n",
      "Output 2494.48629566087\n",
      "\n",
      "\n",
      "Evaluating input: 176 of 520\n",
      "\n",
      " Retrying in 1 seconds\n",
      "\n",
      "Output 2832.7818101588578\n",
      "\n",
      "\n",
      "Evaluating input: 177 of 520\n",
      "\n",
      " Retrying in 1 seconds\n",
      "\n",
      "Output 2796.0432411100664\n",
      "\n",
      "\n",
      "Evaluating input: 178 of 520\n",
      "\n",
      " Retrying in 1 seconds\n",
      "\n",
      "Output 4903.52566619916\n",
      "\n",
      "\n",
      "Evaluating input: 179 of 520\n",
      "\n",
      " Retrying in 1 seconds\n",
      "\n",
      "Output 3870.132138420904\n",
      "\n",
      "\n",
      "Evaluating input: 180 of 520\n",
      "\n",
      " Retrying in 1 seconds\n",
      "\n",
      "Output 3717.0906297029806\n",
      "\n",
      "\n",
      "Evaluating input: 181 of 520\n",
      "\n",
      " Retrying in 1 seconds\n",
      "\n",
      "Output 3125.186356919879\n",
      "\n",
      "\n",
      "Evaluating input: 182 of 520\n",
      "\n",
      " Retrying in 1 seconds\n",
      "\n",
      "Output 2868.6414174323236\n",
      "\n",
      "\n",
      "Evaluating input: 183 of 520\n",
      "\n",
      " Retrying in 1 seconds\n",
      "\n",
      "Output 3741.698843794858\n",
      "\n",
      "\n",
      "Evaluating input: 184 of 520\n",
      "\n",
      " Retrying in 1 seconds\n",
      "\n",
      "Output 2895.2371721739028\n",
      "\n",
      "\n",
      "Evaluating input: 185 of 520\n",
      "\n",
      " Retrying in 1 seconds\n",
      "\n",
      "Output 2983.3216419753103\n",
      "\n",
      "\n",
      "Evaluating input: 186 of 520\n",
      "\n",
      " Retrying in 1 seconds\n",
      "\n",
      "Output 2392.763599999999\n",
      "\n",
      "\n",
      "Evaluating input: 187 of 520\n",
      "\n",
      " Retrying in 1 seconds\n",
      "\n",
      "Output 2953.6923101997577\n",
      "\n",
      "\n",
      "Evaluating input: 188 of 520\n",
      "\n",
      " Retrying in 1 seconds\n",
      "\n",
      "Output 2786.3185138888866\n",
      "\n",
      "\n",
      "Evaluating input: 189 of 520\n",
      "\n",
      " Retrying in 1 seconds\n",
      "\n",
      "Output 3911.03036101083\n",
      "\n",
      "\n",
      "Evaluating input: 190 of 520\n",
      "\n",
      " Retrying in 1 seconds\n",
      "\n",
      "Output 4043.782581307755\n",
      "\n",
      "\n",
      "Evaluating input: 191 of 520\n",
      "\n",
      " Retrying in 1 seconds\n",
      "\n",
      "Output 3782.8347457824684\n",
      "\n",
      "\n",
      "Evaluating input: 192 of 520\n",
      "\n",
      " Retrying in 1 seconds\n",
      "\n",
      "Output 2303.9107881461528\n",
      "\n",
      "\n",
      "Evaluating input: 193 of 520\n",
      "\n",
      " Retrying in 1 seconds\n",
      "\n",
      "Output 2343.9693358925174\n",
      "\n",
      "\n",
      "Evaluating input: 194 of 520\n",
      "\n",
      " Retrying in 1 seconds\n",
      "\n",
      "Output 4611.061909673606\n",
      "\n",
      "\n",
      "Evaluating input: 195 of 520\n",
      "\n",
      " Retrying in 1 seconds\n",
      "\n",
      "Output 4791.369612159332\n",
      "\n",
      "\n",
      "Evaluating input: 196 of 520\n",
      "\n",
      " Retrying in 1 seconds\n",
      "\n",
      "Output 3476.809559743316\n",
      "\n",
      "\n",
      "Evaluating input: 197 of 520\n",
      "\n",
      " Retrying in 1 seconds\n",
      "\n",
      "Output 2964.631780310475\n",
      "\n",
      "\n",
      "Evaluating input: 198 of 520\n",
      "\n",
      " Retrying in 1 seconds\n"
     ]
    },
    {
     "name": "stdout",
     "output_type": "stream",
     "text": [
      "\n",
      "Output 4242.921919111825\n",
      "\n",
      "\n",
      "Evaluating input: 199 of 520\n",
      "\n",
      " Retrying in 1 seconds\n",
      "\n",
      "Output 2896.1631725465\n",
      "\n",
      "\n",
      "Evaluating input: 200 of 520\n",
      "\n",
      " Retrying in 1 seconds\n",
      "\n",
      "Output 3019.6049064764825\n",
      "\n",
      "\n",
      "Evaluating input: 201 of 520\n",
      "\n",
      " Retrying in 1 seconds\n",
      "\n",
      "Output 4623.586606217617\n",
      "\n",
      "\n",
      "Evaluating input: 202 of 520\n",
      "\n",
      " Retrying in 1 seconds\n",
      "\n",
      "Output 5204.933543543539\n",
      "\n",
      "\n",
      "Evaluating input: 203 of 520\n",
      "\n",
      " Retrying in 1 seconds\n",
      "\n",
      "Output 3603.8871464019853\n",
      "\n",
      "\n",
      "Evaluating input: 204 of 520\n",
      "\n",
      " Retrying in 1 seconds\n",
      "\n",
      "Output 3813.7786027568955\n",
      "\n",
      "\n",
      "Evaluating input: 205 of 520\n",
      "\n",
      " Retrying in 1 seconds\n",
      "\n",
      "Output 2578.3906113537096\n",
      "\n",
      "\n",
      "Evaluating input: 206 of 520\n",
      "\n",
      " Retrying in 1 seconds\n",
      "\n",
      "Output 5228.877596671556\n",
      "\n",
      "\n",
      "Evaluating input: 207 of 520\n",
      "\n",
      " Retrying in 1 seconds\n",
      "\n",
      "Output 5493.074543985879\n",
      "\n",
      "\n",
      "Evaluating input: 208 of 520\n",
      "\n",
      " Retrying in 1 seconds\n",
      "\n",
      "Output 4328.723071339819\n",
      "\n",
      "\n",
      "Evaluating input: 209 of 520\n",
      "\n",
      " Retrying in 1 seconds\n",
      "\n",
      "Output 3216.056571112684\n",
      "\n",
      "\n",
      "Evaluating input: 210 of 520\n",
      "\n",
      " Retrying in 1 seconds\n",
      "\n",
      "Output 4795.323545150498\n",
      "\n",
      "\n",
      "Evaluating input: 211 of 520\n",
      "\n",
      " Retrying in 1 seconds\n",
      "\n",
      "Output 2202.7711852659954\n",
      "\n",
      "\n",
      "Evaluating input: 212 of 520\n",
      "\n",
      " Retrying in 1 seconds\n",
      "\n",
      "Output 3163.1071881010416\n",
      "\n",
      "\n",
      "Evaluating input: 213 of 520\n",
      "\n",
      " Retrying in 1 seconds\n",
      "\n",
      "Output 4291.119063790722\n",
      "\n",
      "\n",
      "Evaluating input: 214 of 520\n",
      "\n",
      " Retrying in 1 seconds\n",
      "\n",
      "Output 3742.3257314148723\n",
      "\n",
      "\n",
      "Evaluating input: 215 of 520\n",
      "\n",
      " Retrying in 1 seconds\n",
      "\n",
      "Output 4203.088103418553\n",
      "\n",
      "\n",
      "Evaluating input: 216 of 520\n",
      "\n",
      " Retrying in 1 seconds\n",
      "\n",
      "Output 2561.6245945945952\n",
      "\n",
      "\n",
      "Evaluating input: 217 of 520\n",
      "\n",
      " Retrying in 1 seconds\n",
      "\n",
      "Output 4383.746448868472\n",
      "\n",
      "\n",
      "Evaluating input: 218 of 520\n",
      "\n",
      " Retrying in 1 seconds\n",
      "\n",
      "Output 2903.663571011345\n",
      "\n",
      "\n",
      "Evaluating input: 219 of 520\n",
      "\n",
      " Retrying in 1 seconds\n",
      "\n",
      "Output 3975.621350645964\n",
      "\n",
      "\n",
      "Evaluating input: 220 of 520\n",
      "\n",
      " Retrying in 1 seconds\n",
      "\n",
      "Output 3034.8377913404006\n",
      "\n",
      "\n",
      "Evaluating input: 221 of 520\n",
      "\n",
      " Retrying in 1 seconds\n",
      "\n",
      "Output 2221.4702589390076\n",
      "\n",
      "\n",
      "Evaluating input: 222 of 520\n",
      "\n",
      " Retrying in 1 seconds\n",
      "\n",
      "Output 3714.643337977157\n",
      "\n",
      "\n",
      "Evaluating input: 223 of 520\n",
      "\n",
      " Retrying in 1 seconds\n",
      "\n",
      "Output 2353.7883007334954\n",
      "\n",
      "\n",
      "Evaluating input: 224 of 520\n",
      "\n",
      " Retrying in 1 seconds\n",
      "\n",
      "Output 3046.3249928673304\n",
      "\n",
      "\n",
      "Evaluating input: 225 of 520\n",
      "\n",
      " Retrying in 1 seconds\n",
      "\n",
      "Output 5157.927957967895\n",
      "\n",
      "\n",
      "Evaluating input: 226 of 520\n",
      "\n",
      " Retrying in 1 seconds\n",
      "\n",
      "Output 4216.649944590264\n",
      "\n",
      "\n",
      "Evaluating input: 227 of 520\n",
      "\n",
      " Retrying in 1 seconds\n",
      "\n",
      "Output 5016.766475275671\n",
      "\n",
      "\n",
      "Evaluating input: 228 of 520\n",
      "\n",
      " Retrying in 1 seconds\n",
      "\n",
      "Output 1740.6933731879499\n",
      "\n",
      "\n",
      "Evaluating input: 229 of 520\n",
      "\n",
      " Retrying in 1 seconds\n",
      "\n",
      "Output 3438.0025112256762\n",
      "\n",
      "\n",
      "Evaluating input: 230 of 520\n",
      "\n",
      " Retrying in 1 seconds\n",
      "\n",
      "Output 3700.770683837638\n",
      "\n",
      "\n",
      "Evaluating input: 231 of 520\n",
      "\n",
      " Retrying in 1 seconds\n",
      "\n",
      "Output 2754.7220385587884\n",
      "\n",
      "\n",
      "Evaluating input: 232 of 520\n",
      "\n",
      " Retrying in 1 seconds\n",
      "\n",
      "Output 5322.6937801349995\n",
      "\n",
      "\n",
      "Evaluating input: 233 of 520\n",
      "\n",
      " Retrying in 1 seconds\n",
      "\n",
      "Output 3566.954251167439\n",
      "\n",
      "\n",
      "Evaluating input: 234 of 520\n",
      "\n",
      " Retrying in 1 seconds\n",
      "\n",
      "Output 4784.742462875165\n",
      "\n",
      "\n",
      "Evaluating input: 235 of 520\n",
      "\n",
      " Retrying in 1 seconds\n",
      "\n",
      "Output 3200.718632413481\n",
      "\n",
      "\n",
      "Evaluating input: 236 of 520\n",
      "\n",
      " Retrying in 1 seconds\n",
      "\n",
      "Output 3840.234407635278\n",
      "\n",
      "\n",
      "Evaluating input: 237 of 520\n",
      "\n",
      " Retrying in 1 seconds\n",
      "\n",
      "Output 4019.801816928793\n",
      "\n",
      "\n",
      "Evaluating input: 238 of 520\n",
      "\n",
      " Retrying in 1 seconds\n",
      "\n",
      "Output 2948.32011472029\n",
      "\n",
      "\n",
      "Evaluating input: 239 of 520\n",
      "\n",
      " Retrying in 1 seconds\n",
      "\n",
      "Output 3892.3669052706523\n",
      "\n",
      "\n",
      "Evaluating input: 240 of 520\n",
      "\n",
      " Retrying in 1 seconds\n",
      "\n",
      "Output 3624.3491430745826\n",
      "\n",
      "\n",
      "Evaluating input: 241 of 520\n",
      "\n",
      " Retrying in 1 seconds\n",
      "\n",
      "Output 2578.979372739215\n",
      "\n",
      "\n",
      "Evaluating input: 242 of 520\n",
      "\n",
      " Retrying in 1 seconds\n",
      "\n",
      "Output 4244.113752233469\n",
      "\n",
      "\n",
      "Evaluating input: 243 of 520\n",
      "\n",
      " Retrying in 1 seconds\n",
      "\n",
      "Output 4101.348972227887\n",
      "\n",
      "\n",
      "Evaluating input: 244 of 520\n",
      "\n",
      " Retrying in 1 seconds\n",
      "\n",
      "Output 4479.501835781033\n",
      "\n",
      "\n",
      "Evaluating input: 245 of 520\n",
      "\n",
      " Retrying in 1 seconds\n",
      "\n",
      "Output 3418.4776077325764\n",
      "\n",
      "\n",
      "Evaluating input: 246 of 520\n",
      "\n",
      " Retrying in 1 seconds\n",
      "\n",
      "Output 3965.7200289906623\n",
      "\n",
      "\n",
      "Evaluating input: 247 of 520\n",
      "\n",
      " Retrying in 1 seconds\n",
      "\n",
      "Output 3298.3966043404216\n",
      "\n",
      "\n",
      "Evaluating input: 248 of 520\n",
      "\n",
      " Retrying in 1 seconds\n",
      "\n",
      "Output 3528.0440047021975\n",
      "\n",
      "\n",
      "Evaluating input: 249 of 520\n",
      "\n",
      " Retrying in 1 seconds\n",
      "\n",
      "Output 4328.776324036058\n",
      "\n",
      "\n",
      "Evaluating input: 250 of 520\n",
      "\n",
      " Retrying in 1 seconds\n",
      "\n",
      "Output 4894.244343675419\n",
      "\n",
      "\n",
      "Evaluating input: 251 of 520\n",
      "\n",
      " Retrying in 1 seconds\n",
      "\n",
      "Output 4647.990212819854\n",
      "\n",
      "\n",
      "Evaluating input: 252 of 520\n",
      "\n",
      " Retrying in 1 seconds\n",
      "\n",
      "Output 2444.5188187987906\n",
      "\n",
      "\n",
      "Evaluating input: 253 of 520\n",
      "\n",
      " Retrying in 1 seconds\n",
      "\n",
      "Output 4537.121950877187\n",
      "\n",
      "\n",
      "Evaluating input: 254 of 520\n",
      "\n",
      " Retrying in 1 seconds\n",
      "\n",
      "Output 2979.257385057471\n",
      "\n",
      "\n",
      "Evaluating input: 255 of 520\n",
      "\n",
      " Retrying in 1 seconds\n",
      "\n",
      "Output 4832.63411868594\n",
      "\n",
      "\n",
      "Evaluating input: 256 of 520\n",
      "\n",
      " Retrying in 1 seconds\n",
      "\n",
      "Output 4355.749773095623\n",
      "\n",
      "\n",
      "Evaluating input: 257 of 520\n",
      "\n",
      " Retrying in 1 seconds\n",
      "\n",
      "Output 4373.156929460582\n",
      "\n",
      "\n",
      "Evaluating input: 258 of 520\n",
      "\n",
      " Retrying in 1 seconds\n",
      "\n",
      "Output 4327.750088832492\n",
      "\n",
      "\n",
      "Evaluating input: 259 of 520\n",
      "\n",
      " Retrying in 1 seconds\n",
      "\n",
      "Output 3059.496956289405\n",
      "\n",
      "\n",
      "Evaluating input: 260 of 520\n",
      "\n",
      " Retrying in 1 seconds\n",
      "\n",
      "Output 2255.8289913979097\n",
      "\n",
      "\n",
      "Evaluating input: 261 of 520\n",
      "\n",
      " Retrying in 1 seconds\n",
      "\n",
      "Output 2405.929654452475\n",
      "\n",
      "\n",
      "Evaluating input: 262 of 520\n",
      "\n",
      " Retrying in 1 seconds\n",
      "\n",
      "Output 3894.8125470852056\n",
      "\n",
      "\n",
      "Evaluating input: 263 of 520\n",
      "\n",
      " Retrying in 1 seconds\n",
      "\n",
      "Output 4000.4163495419216\n",
      "\n",
      "\n",
      "Evaluating input: 264 of 520\n",
      "\n",
      " Retrying in 1 seconds\n",
      "\n",
      "Output 4028.6325877245813\n",
      "\n",
      "\n",
      "Evaluating input: 265 of 520\n",
      "\n",
      " Retrying in 1 seconds\n",
      "\n",
      "Output 2086.385448514397\n",
      "\n",
      "\n",
      "Evaluating input: 266 of 520\n",
      "\n",
      " Retrying in 1 seconds\n",
      "\n",
      "Output 4295.941562499995\n",
      "\n",
      "\n",
      "Evaluating input: 267 of 520\n",
      "\n",
      " Retrying in 1 seconds\n",
      "\n",
      "Output 2441.4992537313447\n",
      "\n",
      "\n",
      "Evaluating input: 268 of 520\n",
      "\n",
      " Retrying in 1 seconds\n",
      "\n",
      "Output 2684.7981375403856\n",
      "\n",
      "\n",
      "Evaluating input: 269 of 520\n",
      "\n",
      " Retrying in 1 seconds\n",
      "\n",
      "Output 2891.2048113687565\n",
      "\n",
      "\n",
      "Evaluating input: 270 of 520\n",
      "\n",
      " Retrying in 1 seconds\n",
      "\n",
      "Output 4024.5242504743865\n",
      "\n",
      "\n",
      "Evaluating input: 271 of 520\n",
      "\n",
      " Retrying in 1 seconds\n",
      "\n",
      "Output 3075.560202228761\n",
      "\n",
      "\n",
      "Evaluating input: 272 of 520\n",
      "\n",
      " Retrying in 1 seconds\n",
      "\n",
      "Output 2374.360200907324\n",
      "\n",
      "\n",
      "Evaluating input: 273 of 520\n",
      "\n",
      " Retrying in 1 seconds\n",
      "\n",
      "Output 2898.9606706562186\n",
      "\n",
      "\n",
      "Evaluating input: 274 of 520\n",
      "\n",
      " Retrying in 1 seconds\n",
      "\n",
      "Output 3358.0537606508337\n",
      "\n",
      "\n",
      "Evaluating input: 275 of 520\n",
      "\n",
      " Retrying in 1 seconds\n",
      "\n",
      "Output 4807.1373179271795\n",
      "\n",
      "\n",
      "Evaluating input: 276 of 520\n",
      "\n",
      " Retrying in 1 seconds\n",
      "\n",
      "Output 4462.704370909087\n",
      "\n",
      "\n",
      "Evaluating input: 277 of 520\n",
      "\n",
      " Retrying in 1 seconds\n",
      "\n",
      "Output 3600.9370311070443\n",
      "\n",
      "\n",
      "Evaluating input: 278 of 520\n",
      "\n",
      " Retrying in 1 seconds\n",
      "\n",
      "Output 2321.586952515947\n",
      "\n",
      "\n",
      "Evaluating input: 279 of 520\n",
      "\n",
      " Retrying in 1 seconds\n",
      "\n",
      "Output 3743.030319063006\n",
      "\n",
      "\n",
      "Evaluating input: 280 of 520\n",
      "\n",
      " Retrying in 1 seconds\n",
      "\n",
      "Output 2672.991772113941\n",
      "\n",
      "\n",
      "Evaluating input: 281 of 520\n",
      "\n",
      " Retrying in 1 seconds\n",
      "\n",
      "Output 2941.3553069633253\n",
      "\n",
      "\n",
      "Evaluating input: 282 of 520\n",
      "\n",
      " Retrying in 1 seconds\n",
      "\n",
      "Output 4026.595171790235\n",
      "\n",
      "\n",
      "Evaluating input: 283 of 520\n",
      "\n",
      " Retrying in 1 seconds\n",
      "\n",
      "Output 3883.9084971587413\n",
      "\n",
      "\n",
      "Evaluating input: 284 of 520\n",
      "\n",
      " Retrying in 1 seconds\n",
      "\n",
      "Output 2610.2768653846133\n",
      "\n",
      "\n",
      "Evaluating input: 285 of 520\n",
      "\n",
      " Retrying in 1 seconds\n",
      "\n",
      "Output 3138.300831469805\n",
      "\n",
      "\n",
      "Evaluating input: 286 of 520\n",
      "\n",
      " Retrying in 1 seconds\n",
      "\n",
      "Output 2846.864681462139\n",
      "\n",
      "\n",
      "Evaluating input: 287 of 520\n",
      "\n",
      " Retrying in 1 seconds\n",
      "\n",
      "Output 4495.055562913905\n",
      "\n",
      "\n",
      "Evaluating input: 288 of 520\n",
      "\n",
      " Retrying in 1 seconds\n",
      "\n",
      "Output 2147.0191113887868\n",
      "\n",
      "\n",
      "Evaluating input: 289 of 520\n",
      "\n",
      " Retrying in 1 seconds\n",
      "\n",
      "Output 4574.302138517619\n",
      "\n",
      "\n",
      "Evaluating input: 290 of 520\n",
      "\n",
      " Retrying in 1 seconds\n",
      "\n",
      "Output 2595.356251884969\n",
      "\n",
      "\n",
      "Evaluating input: 291 of 520\n",
      "\n",
      " Retrying in 1 seconds\n",
      "\n",
      "Output 3142.728187499999\n",
      "\n",
      "\n",
      "Evaluating input: 292 of 520\n",
      "\n",
      " Retrying in 1 seconds\n",
      "\n",
      "Output 2806.6071891891875\n",
      "\n",
      "\n",
      "Evaluating input: 293 of 520\n",
      "\n",
      " Retrying in 1 seconds\n",
      "\n",
      "Output 3442.342261904762\n",
      "\n",
      "\n",
      "Evaluating input: 294 of 520\n",
      "\n",
      " Retrying in 1 seconds\n",
      "\n",
      "Output 1998.45344863931\n",
      "\n",
      "\n",
      "Evaluating input: 295 of 520\n",
      "\n",
      " Retrying in 1 seconds\n",
      "\n",
      "Output 5266.399281271594\n",
      "\n",
      "\n",
      "Evaluating input: 296 of 520\n",
      "\n",
      " Retrying in 1 seconds\n",
      "\n",
      "Output 2561.152948508084\n",
      "\n",
      "\n",
      "Evaluating input: 297 of 520\n",
      "\n",
      " Retrying in 1 seconds\n",
      "\n",
      "Output 2037.1138246669543\n",
      "\n",
      "\n",
      "Evaluating input: 298 of 520\n",
      "\n",
      " Retrying in 1 seconds\n",
      "\n",
      "Output 4924.291793087955\n",
      "\n",
      "\n",
      "Evaluating input: 299 of 520\n",
      "\n"
     ]
    },
    {
     "name": "stdout",
     "output_type": "stream",
     "text": [
      " Retrying in 1 seconds\n",
      "\n",
      "Output 4024.5002170292178\n",
      "\n",
      "\n",
      "Evaluating input: 300 of 520\n",
      "\n",
      " Retrying in 1 seconds\n",
      "\n",
      "Output 4469.572397476343\n",
      "\n",
      "\n",
      "Evaluating input: 301 of 520\n",
      "\n",
      " Retrying in 1 seconds\n",
      "\n",
      "Output 3719.348575342465\n",
      "\n",
      "\n",
      "Evaluating input: 302 of 520\n",
      "\n",
      " Retrying in 1 seconds\n",
      "\n",
      "Output 3577.602180038191\n",
      "\n",
      "\n",
      "Evaluating input: 303 of 520\n",
      "\n",
      " Retrying in 1 seconds\n",
      "\n",
      "Output 3253.181257142855\n",
      "\n",
      "\n",
      "Evaluating input: 304 of 520\n",
      "\n",
      " Retrying in 1 seconds\n",
      "\n",
      "Output 2335.026243902443\n",
      "\n",
      "\n",
      "Evaluating input: 305 of 520\n",
      "\n",
      " Retrying in 1 seconds\n",
      "\n",
      "Output 4721.337777508623\n",
      "\n",
      "\n",
      "Evaluating input: 306 of 520\n",
      "\n",
      " Retrying in 1 seconds\n",
      "\n",
      "Output 3287.711804697713\n",
      "\n",
      "\n",
      "Evaluating input: 307 of 520\n",
      "\n",
      " Retrying in 1 seconds\n",
      "\n",
      "Output 3762.3140225431366\n",
      "\n",
      "\n",
      "Evaluating input: 308 of 520\n",
      "\n",
      " Retrying in 1 seconds\n",
      "\n",
      "Output 3070.34266917293\n",
      "\n",
      "\n",
      "Evaluating input: 309 of 520\n",
      "\n",
      " Retrying in 1 seconds\n",
      "\n",
      "Output 2754.7364376590317\n",
      "\n",
      "\n",
      "Evaluating input: 310 of 520\n",
      "\n",
      " Retrying in 1 seconds\n",
      "\n",
      "Output 5202.562447165721\n",
      "\n",
      "\n",
      "Evaluating input: 311 of 520\n",
      "\n",
      " Retrying in 1 seconds\n",
      "\n",
      "Output 3321.4006378935933\n",
      "\n",
      "\n",
      "Evaluating input: 312 of 520\n",
      "\n",
      " Retrying in 1 seconds\n",
      "\n",
      "Output 3793.025199999997\n",
      "\n",
      "\n",
      "Evaluating input: 313 of 520\n",
      "\n",
      " Retrying in 1 seconds\n",
      "\n",
      "Output 3156.887476389534\n",
      "\n",
      "\n",
      "Evaluating input: 314 of 520\n",
      "\n",
      " Retrying in 1 seconds\n",
      "\n",
      "Output 2862.3626655257203\n",
      "\n",
      "\n",
      "Evaluating input: 315 of 520\n",
      "\n",
      " Retrying in 1 seconds\n",
      "\n",
      "Output 2064.5916362683383\n",
      "\n",
      "\n",
      "Evaluating input: 316 of 520\n",
      "\n",
      " Retrying in 1 seconds\n",
      "\n",
      "Output 4095.4656334563374\n",
      "\n",
      "\n",
      "Evaluating input: 317 of 520\n",
      "\n",
      " Retrying in 1 seconds\n",
      "\n",
      "Output 2515.199968315779\n",
      "\n",
      "\n",
      "Evaluating input: 318 of 520\n",
      "\n",
      " Retrying in 1 seconds\n",
      "\n",
      "Output 2109.1964502762435\n",
      "\n",
      "\n",
      "Evaluating input: 319 of 520\n",
      "\n",
      " Retrying in 1 seconds\n",
      "\n",
      "Output 3482.0560417356683\n",
      "\n",
      "\n",
      "Evaluating input: 320 of 520\n",
      "\n",
      " Retrying in 1 seconds\n",
      "\n",
      "Output 4132.806268221571\n",
      "\n",
      "\n",
      "Evaluating input: 321 of 520\n",
      "\n",
      " Retrying in 1 seconds\n",
      "\n",
      "Output 2482.074249699883\n",
      "\n",
      "\n",
      "Evaluating input: 322 of 520\n",
      "\n",
      " Retrying in 1 seconds\n",
      "\n",
      "Output 2861.6762304713498\n",
      "\n",
      "\n",
      "Evaluating input: 323 of 520\n",
      "\n",
      " Retrying in 1 seconds\n",
      "\n",
      "Output 2851.9112351287454\n",
      "\n",
      "\n",
      "Evaluating input: 324 of 520\n",
      "\n",
      " Retrying in 1 seconds\n",
      "\n",
      "Output 4007.4139342775284\n",
      "\n",
      "\n",
      "Evaluating input: 325 of 520\n",
      "\n",
      " Retrying in 1 seconds\n",
      "\n",
      "Output 2842.4688477109976\n",
      "\n",
      "\n",
      "Evaluating input: 326 of 520\n",
      "\n",
      " Retrying in 1 seconds\n",
      "\n",
      "Output 2769.7355944055926\n",
      "\n",
      "\n",
      "Evaluating input: 327 of 520\n",
      "\n",
      " Retrying in 1 seconds\n",
      "\n",
      "Output 3324.4985756971987\n",
      "\n",
      "\n",
      "Evaluating input: 328 of 520\n",
      "\n",
      " Retrying in 1 seconds\n",
      "\n",
      "Output 4338.003782051281\n",
      "\n",
      "\n",
      "Evaluating input: 329 of 520\n",
      "\n",
      " Retrying in 1 seconds\n",
      "\n",
      "Output 4251.143216934491\n",
      "\n",
      "\n",
      "Evaluating input: 330 of 520\n",
      "\n",
      " Retrying in 1 seconds\n",
      "\n",
      "Output 3353.7090085796062\n",
      "\n",
      "\n",
      "Evaluating input: 331 of 520\n",
      "\n",
      " Retrying in 1 seconds\n",
      "\n",
      "Output 3901.3578198392192\n",
      "\n",
      "\n",
      "Evaluating input: 332 of 520\n",
      "\n",
      " Retrying in 1 seconds\n",
      "\n",
      "Output 4834.4291701680495\n",
      "\n",
      "\n",
      "Evaluating input: 333 of 520\n",
      "\n",
      " Retrying in 1 seconds\n",
      "\n",
      "Output 2149.957814748197\n",
      "\n",
      "\n",
      "Evaluating input: 334 of 520\n",
      "\n",
      " Retrying in 1 seconds\n",
      "\n",
      "Output 5140.360199999998\n",
      "\n",
      "\n",
      "Evaluating input: 335 of 520\n",
      "\n",
      " Retrying in 1 seconds\n",
      "\n",
      "Output 4472.59584090909\n",
      "\n",
      "\n",
      "Evaluating input: 336 of 520\n",
      "\n",
      " Retrying in 1 seconds\n",
      "\n",
      "Output 2906.1816517857214\n",
      "\n",
      "\n",
      "Evaluating input: 337 of 520\n",
      "\n",
      " Retrying in 1 seconds\n",
      "\n",
      "Output 2775.286949367093\n",
      "\n",
      "\n",
      "Evaluating input: 338 of 520\n",
      "\n",
      " Retrying in 1 seconds\n",
      "\n",
      "Output 3377.484216149235\n",
      "\n",
      "\n",
      "Evaluating input: 339 of 520\n",
      "\n",
      " Retrying in 1 seconds\n",
      "\n",
      "Output 3190.594043842451\n",
      "\n",
      "\n",
      "Evaluating input: 340 of 520\n",
      "\n",
      " Retrying in 1 seconds\n",
      "\n",
      "Output 3126.2612068965577\n",
      "\n",
      "\n",
      "Evaluating input: 341 of 520\n",
      "\n",
      " Retrying in 1 seconds\n",
      "\n",
      "Output 3968.4202886033136\n",
      "\n",
      "\n",
      "Evaluating input: 342 of 520\n",
      "\n",
      " Retrying in 1 seconds\n",
      "\n",
      "Output 4451.2333089579515\n",
      "\n",
      "\n",
      "Evaluating input: 343 of 520\n",
      "\n",
      " Retrying in 1 seconds\n",
      "\n",
      "Output 4727.305430107527\n",
      "\n",
      "\n",
      "Evaluating input: 344 of 520\n",
      "\n",
      " Retrying in 1 seconds\n",
      "\n",
      "Output 3073.516534883723\n",
      "\n",
      "\n",
      "Evaluating input: 345 of 520\n",
      "\n",
      " Retrying in 1 seconds\n",
      "\n",
      "Output 2745.406596664066\n",
      "\n",
      "\n",
      "Evaluating input: 346 of 520\n",
      "\n",
      " Retrying in 1 seconds\n",
      "\n",
      "Output 2785.075461462934\n",
      "\n",
      "\n",
      "Evaluating input: 347 of 520\n",
      "\n",
      " Retrying in 1 seconds\n",
      "\n",
      "Output 4951.371837114141\n",
      "\n",
      "\n",
      "Evaluating input: 348 of 520\n",
      "\n",
      " Retrying in 1 seconds\n",
      "\n",
      "Output 3486.926579193993\n",
      "\n",
      "\n",
      "Evaluating input: 349 of 520\n",
      "\n",
      " Retrying in 1 seconds\n",
      "\n",
      "Output 2266.3286519114663\n",
      "\n",
      "\n",
      "Evaluating input: 350 of 520\n",
      "\n",
      " Retrying in 1 seconds\n",
      "\n",
      "Output 4889.466027042583\n",
      "\n",
      "\n",
      "Evaluating input: 351 of 520\n",
      "\n",
      " Retrying in 1 seconds\n",
      "\n",
      "Output 2149.3706305092373\n",
      "\n",
      "\n",
      "Evaluating input: 352 of 520\n",
      "\n",
      " Retrying in 1 seconds\n",
      "\n",
      "Output 4056.3712991071498\n",
      "\n",
      "\n",
      "Evaluating input: 353 of 520\n",
      "\n",
      " Retrying in 1 seconds\n",
      "\n",
      "Output 2605.696883593031\n",
      "\n",
      "\n",
      "Evaluating input: 354 of 520\n",
      "\n",
      " Retrying in 1 seconds\n",
      "\n",
      "Output 3340.1176260257853\n",
      "\n",
      "\n",
      "Evaluating input: 355 of 520\n",
      "\n",
      " Retrying in 1 seconds\n",
      "\n",
      "Output 3692.077756369964\n",
      "\n",
      "\n",
      "Evaluating input: 356 of 520\n",
      "\n",
      " Retrying in 1 seconds\n",
      "\n",
      "Output 3183.7763047908206\n",
      "\n",
      "\n",
      "Evaluating input: 357 of 520\n",
      "\n",
      " Retrying in 1 seconds\n",
      "\n",
      "Output 3903.4026060606047\n",
      "\n",
      "\n",
      "Evaluating input: 358 of 520\n",
      "\n",
      " Retrying in 1 seconds\n",
      "\n",
      "Output 3807.1164386792484\n",
      "\n",
      "\n",
      "Evaluating input: 359 of 520\n",
      "\n",
      " Retrying in 1 seconds\n",
      "\n",
      "Output 2181.998938614224\n",
      "\n",
      "\n",
      "Evaluating input: 360 of 520\n",
      "\n",
      " Retrying in 1 seconds\n",
      "\n",
      "Output 3704.121812080536\n",
      "\n",
      "\n",
      "Evaluating input: 361 of 520\n",
      "\n",
      " Retrying in 1 seconds\n",
      "\n",
      "Output 5039.2919004698415\n",
      "\n",
      "\n",
      "Evaluating input: 362 of 520\n",
      "\n",
      " Retrying in 1 seconds\n",
      "\n",
      "Output 4471.51640537288\n",
      "\n",
      "\n",
      "Evaluating input: 363 of 520\n",
      "\n",
      " Retrying in 1 seconds\n",
      "\n",
      "Output 2888.5932166389675\n",
      "\n",
      "\n",
      "Evaluating input: 364 of 520\n",
      "\n",
      " Retrying in 1 seconds\n",
      "\n",
      "Output 3006.7591160365014\n",
      "\n",
      "\n",
      "Evaluating input: 365 of 520\n",
      "\n",
      " Retrying in 1 seconds\n",
      "\n",
      "Output 2655.0250195567155\n",
      "\n",
      "\n",
      "Evaluating input: 366 of 520\n",
      "\n",
      " Retrying in 1 seconds\n",
      "\n",
      "Output 3384.4682678025333\n",
      "\n",
      "\n",
      "Evaluating input: 367 of 520\n",
      "\n",
      " Retrying in 1 seconds\n",
      "\n",
      "Output 4104.310469404172\n",
      "\n",
      "\n",
      "Evaluating input: 368 of 520\n",
      "\n",
      " Retrying in 1 seconds\n",
      "\n",
      "Output 3478.2394674738493\n",
      "\n",
      "\n",
      "Evaluating input: 369 of 520\n",
      "\n",
      " Retrying in 1 seconds\n",
      "\n",
      "Output 5047.101362402732\n",
      "\n",
      "\n",
      "Evaluating input: 370 of 520\n",
      "\n",
      " Retrying in 1 seconds\n",
      "\n",
      "Output 4570.971998979831\n",
      "\n",
      "\n",
      "Evaluating input: 371 of 520\n",
      "\n",
      " Retrying in 1 seconds\n",
      "\n",
      "Output 2740.4060688836094\n",
      "\n",
      "\n",
      "Evaluating input: 372 of 520\n",
      "\n",
      " Retrying in 1 seconds\n",
      "\n",
      "Output 3088.8753220537583\n",
      "\n",
      "\n",
      "Evaluating input: 373 of 520\n",
      "\n",
      " Retrying in 1 seconds\n",
      "\n",
      "Output 2386.475447852173\n",
      "\n",
      "\n",
      "Evaluating input: 374 of 520\n",
      "\n",
      " Retrying in 1 seconds\n",
      "\n",
      "Output 3176.736969086029\n",
      "\n",
      "\n",
      "Evaluating input: 375 of 520\n",
      "\n",
      " Retrying in 1 seconds\n",
      "\n",
      "Output 3204.104607345552\n",
      "\n",
      "\n",
      "Evaluating input: 376 of 520\n",
      "\n",
      " Retrying in 1 seconds\n",
      "\n",
      "Output 2704.7118945760194\n",
      "\n",
      "\n",
      "Evaluating input: 377 of 520\n",
      "\n",
      " Retrying in 1 seconds\n",
      "\n",
      "Output 4730.35889040312\n",
      "\n",
      "\n",
      "Evaluating input: 378 of 520\n",
      "\n",
      " Retrying in 1 seconds\n",
      "\n",
      "Output 4761.965564903853\n",
      "\n",
      "\n",
      "Evaluating input: 379 of 520\n",
      "\n",
      " Retrying in 1 seconds\n",
      "\n",
      "Output 3956.469902912619\n",
      "\n",
      "\n",
      "Evaluating input: 380 of 520\n",
      "\n",
      " Retrying in 1 seconds\n",
      "\n",
      "Output 3916.981724137937\n",
      "\n",
      "\n",
      "Evaluating input: 381 of 520\n",
      "\n",
      " Retrying in 1 seconds\n",
      "\n",
      "Output 4451.968157543395\n",
      "\n",
      "\n",
      "Evaluating input: 382 of 520\n",
      "\n",
      " Retrying in 1 seconds\n",
      "\n",
      "Output 2541.94743295019\n",
      "\n",
      "\n",
      "Evaluating input: 383 of 520\n",
      "\n",
      " Retrying in 1 seconds\n",
      "\n",
      "Output 2956.395246863139\n",
      "\n",
      "\n",
      "Evaluating input: 384 of 520\n",
      "\n",
      " Retrying in 1 seconds\n",
      "\n",
      "Output 3578.9017864141106\n",
      "\n",
      "\n",
      "Evaluating input: 385 of 520\n",
      "\n",
      " Retrying in 1 seconds\n",
      "\n",
      "Output 5772.621849710988\n",
      "\n",
      "\n",
      "Evaluating input: 386 of 520\n",
      "\n",
      " Retrying in 1 seconds\n",
      "\n",
      "Output 2578.2481442093463\n",
      "\n",
      "\n",
      "Evaluating input: 387 of 520\n",
      "\n",
      " Retrying in 1 seconds\n",
      "\n",
      "Output 4841.194643537234\n",
      "\n",
      "\n",
      "Evaluating input: 388 of 520\n",
      "\n",
      " Retrying in 1 seconds\n",
      "\n",
      "Output 5326.826807228932\n",
      "\n",
      "\n",
      "Evaluating input: 389 of 520\n",
      "\n",
      " Retrying in 1 seconds\n",
      "\n",
      "Output 2959.0559829760323\n",
      "\n",
      "\n",
      "Evaluating input: 390 of 520\n",
      "\n",
      " Retrying in 1 seconds\n",
      "\n",
      "Output 2334.687085671233\n",
      "\n",
      "\n",
      "Evaluating input: 391 of 520\n",
      "\n",
      " Retrying in 1 seconds\n",
      "\n",
      "Output 4539.453924642441\n",
      "\n",
      "\n",
      "Evaluating input: 392 of 520\n",
      "\n",
      " Retrying in 1 seconds\n",
      "\n",
      "Output 3462.053842784694\n",
      "\n",
      "\n",
      "Evaluating input: 393 of 520\n",
      "\n",
      " Retrying in 1 seconds\n",
      "\n",
      "Output 3008.1208998371385\n",
      "\n",
      "\n",
      "Evaluating input: 394 of 520\n",
      "\n",
      " Retrying in 1 seconds\n",
      "\n",
      "Output 2759.311494461233\n",
      "\n",
      "\n",
      "Evaluating input: 395 of 520\n",
      "\n",
      " Retrying in 1 seconds\n",
      "\n",
      "Output 4088.9707739891505\n",
      "\n",
      "\n",
      "Evaluating input: 396 of 520\n",
      "\n",
      " Retrying in 1 seconds\n",
      "\n",
      "Output 2770.932817997293\n",
      "\n",
      "\n",
      "Evaluating input: 397 of 520\n",
      "\n",
      " Retrying in 1 seconds\n",
      "\n",
      "Output 2550.6249552589256\n",
      "\n",
      "\n",
      "Evaluating input: 398 of 520\n",
      "\n",
      " Retrying in 1 seconds\n",
      "\n",
      "Output 3039.227672727278\n",
      "\n",
      "\n",
      "Evaluating input: 399 of 520\n",
      "\n",
      " Retrying in 1 seconds\n",
      "\n",
      "Output 2613.4794916434557\n",
      "\n",
      "\n",
      "Evaluating input: 400 of 520\n",
      "\n"
     ]
    },
    {
     "name": "stdout",
     "output_type": "stream",
     "text": [
      " Retrying in 1 seconds\n",
      "\n",
      "Output 4119.731954031903\n",
      "\n",
      "\n",
      "Evaluating input: 401 of 520\n",
      "\n",
      " Retrying in 1 seconds\n",
      "\n",
      "Output 3703.105784237209\n",
      "\n",
      "\n",
      "Evaluating input: 402 of 520\n",
      "\n",
      " Retrying in 1 seconds\n",
      "\n",
      "Output 4652.3442815249255\n",
      "\n",
      "\n",
      "Evaluating input: 403 of 520\n",
      "\n",
      " Retrying in 1 seconds\n",
      "\n",
      "Output 2217.7139577969174\n",
      "\n",
      "\n",
      "Evaluating input: 404 of 520\n",
      "\n",
      " Retrying in 1 seconds\n",
      "\n",
      "Output 2184.8293149259116\n",
      "\n",
      "\n",
      "Evaluating input: 405 of 520\n",
      "\n",
      " Retrying in 1 seconds\n",
      "\n",
      "Output 4668.621301836667\n",
      "\n",
      "\n",
      "Evaluating input: 406 of 520\n",
      "\n",
      " Retrying in 1 seconds\n",
      "\n",
      "Output 3717.1579406220612\n",
      "\n",
      "\n",
      "Evaluating input: 407 of 520\n",
      "\n",
      " Retrying in 1 seconds\n",
      "\n",
      "Output 3427.79356634077\n",
      "\n",
      "\n",
      "Evaluating input: 408 of 520\n",
      "\n",
      " Retrying in 1 seconds\n",
      "\n",
      "Output 3569.828966241313\n",
      "\n",
      "\n",
      "Evaluating input: 409 of 520\n",
      "\n",
      " Retrying in 1 seconds\n",
      "\n",
      "Output 3542.3212256546767\n",
      "\n",
      "\n",
      "Evaluating input: 410 of 520\n",
      "\n",
      " Retrying in 1 seconds\n",
      "\n",
      "Output 3856.572153284676\n",
      "\n",
      "\n",
      "Evaluating input: 411 of 520\n",
      "\n",
      " Retrying in 1 seconds\n",
      "\n",
      "Output 3982.097435451844\n",
      "\n",
      "\n",
      "Evaluating input: 412 of 520\n",
      "\n",
      " Retrying in 1 seconds\n",
      "\n",
      "Output 2119.2183455359414\n",
      "\n",
      "\n",
      "Evaluating input: 413 of 520\n",
      "\n",
      " Retrying in 1 seconds\n",
      "\n",
      "Output 2774.272628998367\n",
      "\n",
      "\n",
      "Evaluating input: 414 of 520\n",
      "\n",
      " Retrying in 1 seconds\n",
      "\n",
      "Output 2716.936788736117\n",
      "\n",
      "\n",
      "Evaluating input: 415 of 520\n",
      "\n",
      " Retrying in 1 seconds\n",
      "\n",
      "Output 4323.687026460848\n",
      "\n",
      "\n",
      "Evaluating input: 416 of 520\n",
      "\n",
      " Retrying in 1 seconds\n",
      "\n",
      "Output 4424.70413876008\n",
      "\n",
      "\n",
      "Evaluating input: 417 of 520\n",
      "\n",
      " Retrying in 1 seconds\n",
      "\n",
      "Output 2711.49008291032\n",
      "\n",
      "\n",
      "Evaluating input: 418 of 520\n",
      "\n",
      " Retrying in 1 seconds\n",
      "\n",
      "Output 3514.8252469901477\n",
      "\n",
      "\n",
      "Evaluating input: 419 of 520\n",
      "\n",
      " Retrying in 1 seconds\n",
      "\n",
      "Output 2675.4422994652396\n",
      "\n",
      "\n",
      "Evaluating input: 420 of 520\n",
      "\n",
      " Retrying in 1 seconds\n",
      "\n",
      "Output 3087.44700548082\n",
      "\n",
      "\n",
      "Evaluating input: 421 of 520\n",
      "\n",
      " Retrying in 1 seconds\n",
      "\n",
      "Output 3061.977147873584\n",
      "\n",
      "\n",
      "Evaluating input: 422 of 520\n",
      "\n",
      " Retrying in 1 seconds\n",
      "\n",
      "Output 5068.316465138952\n",
      "\n",
      "\n",
      "Evaluating input: 423 of 520\n",
      "\n",
      " Retrying in 1 seconds\n",
      "\n",
      "Output 2002.6426843563136\n",
      "\n",
      "\n",
      "Evaluating input: 424 of 520\n",
      "\n",
      " Retrying in 1 seconds\n",
      "\n",
      "Output 3502.8823977695147\n",
      "\n",
      "\n",
      "Evaluating input: 425 of 520\n",
      "\n",
      " Retrying in 1 seconds\n",
      "\n",
      "Output 4604.535015952691\n",
      "\n",
      "\n",
      "Evaluating input: 426 of 520\n",
      "\n",
      " Retrying in 1 seconds\n",
      "\n",
      "Output 4309.184402168812\n",
      "\n",
      "\n",
      "Evaluating input: 427 of 520\n",
      "\n",
      " Retrying in 1 seconds\n",
      "\n",
      "Output 3882.8522005974687\n",
      "\n",
      "\n",
      "Evaluating input: 428 of 520\n",
      "\n",
      " Retrying in 1 seconds\n",
      "\n",
      "Output 3354.2844408589563\n",
      "\n",
      "\n",
      "Evaluating input: 429 of 520\n",
      "\n",
      " Retrying in 1 seconds\n",
      "\n",
      "Output 3582.442551954148\n",
      "\n",
      "\n",
      "Evaluating input: 430 of 520\n",
      "\n",
      " Retrying in 1 seconds\n",
      "\n",
      "Output 3337.326626060179\n",
      "\n",
      "\n",
      "Evaluating input: 431 of 520\n",
      "\n",
      " Retrying in 1 seconds\n",
      "\n",
      "Output 2828.381140939596\n",
      "\n",
      "\n",
      "Evaluating input: 432 of 520\n",
      "\n",
      " Retrying in 1 seconds\n",
      "\n",
      "Output 4209.847950525591\n",
      "\n",
      "\n",
      "Evaluating input: 433 of 520\n",
      "\n",
      " Retrying in 1 seconds\n",
      "\n",
      "Output 4751.04958556732\n",
      "\n",
      "\n",
      "Evaluating input: 434 of 520\n",
      "\n",
      " Retrying in 1 seconds\n",
      "\n",
      "Output 3441.014007744446\n",
      "\n",
      "\n",
      "Evaluating input: 435 of 520\n",
      "\n",
      " Retrying in 1 seconds\n",
      "\n",
      "Output 3554.826591201024\n",
      "\n",
      "\n",
      "Evaluating input: 436 of 520\n",
      "\n",
      " Retrying in 1 seconds\n",
      "\n",
      "Output 2088.799245603096\n",
      "\n",
      "\n",
      "Evaluating input: 437 of 520\n",
      "\n",
      " Retrying in 1 seconds\n",
      "\n",
      "Output 4538.1595131715885\n",
      "\n",
      "\n",
      "Evaluating input: 438 of 520\n",
      "\n",
      " Retrying in 1 seconds\n",
      "\n",
      "Output 2800.8440638207967\n",
      "\n",
      "\n",
      "Evaluating input: 439 of 520\n",
      "\n",
      " Retrying in 1 seconds\n",
      "\n",
      "Output 2154.0115297603766\n",
      "\n",
      "\n",
      "Evaluating input: 440 of 520\n",
      "\n",
      " Retrying in 1 seconds\n",
      "\n",
      "Output 4322.231182266008\n",
      "\n",
      "\n",
      "Evaluating input: 441 of 520\n",
      "\n",
      " Retrying in 1 seconds\n",
      "\n",
      "Output 2840.0348695609437\n",
      "\n",
      "\n",
      "Evaluating input: 442 of 520\n",
      "\n",
      " Retrying in 1 seconds\n",
      "\n",
      "Output 2032.460989899779\n",
      "\n",
      "\n",
      "Evaluating input: 443 of 520\n",
      "\n",
      " Retrying in 1 seconds\n",
      "\n",
      "Output 4439.645897051476\n",
      "\n",
      "\n",
      "Evaluating input: 444 of 520\n",
      "\n",
      " Retrying in 1 seconds\n",
      "\n",
      "Output 3880.928707226937\n",
      "\n",
      "\n",
      "Evaluating input: 445 of 520\n",
      "\n",
      " Retrying in 1 seconds\n",
      "\n",
      "Output 4341.504014291725\n",
      "\n",
      "\n",
      "Evaluating input: 446 of 520\n",
      "\n",
      " Retrying in 1 seconds\n",
      "\n",
      "Output 2686.413896486687\n",
      "\n",
      "\n",
      "Evaluating input: 447 of 520\n",
      "\n",
      " Retrying in 1 seconds\n",
      "\n",
      "Output 4525.783842904289\n",
      "\n",
      "\n",
      "Evaluating input: 448 of 520\n",
      "\n",
      " Retrying in 1 seconds\n",
      "\n",
      "Output 2404.0377673410303\n",
      "\n",
      "\n",
      "Evaluating input: 449 of 520\n",
      "\n",
      " Retrying in 1 seconds\n",
      "\n",
      "Output 3419.1767009528194\n",
      "\n",
      "\n",
      "Evaluating input: 450 of 520\n",
      "\n",
      " Retrying in 1 seconds\n",
      "\n",
      "Output 4422.85396895787\n",
      "\n",
      "\n",
      "Evaluating input: 451 of 520\n",
      "\n",
      " Retrying in 1 seconds\n",
      "\n",
      "Output 4498.909422235192\n",
      "\n",
      "\n",
      "Evaluating input: 452 of 520\n",
      "\n",
      " Retrying in 1 seconds\n",
      "\n",
      "Output 3888.09734598404\n",
      "\n",
      "\n",
      "Evaluating input: 453 of 520\n",
      "\n",
      " Retrying in 1 seconds\n",
      "\n",
      "Output 4679.879513776335\n",
      "\n",
      "\n",
      "Evaluating input: 454 of 520\n",
      "\n",
      " Retrying in 1 seconds\n",
      "\n",
      "Output 4136.8582651072165\n",
      "\n",
      "\n",
      "Evaluating input: 455 of 520\n",
      "\n",
      " Retrying in 1 seconds\n",
      "\n",
      "Output 2612.0709181588795\n",
      "\n",
      "\n",
      "Evaluating input: 456 of 520\n",
      "\n",
      " Retrying in 1 seconds\n",
      "\n",
      "Output 3696.5744626436863\n",
      "\n",
      "\n",
      "Evaluating input: 457 of 520\n",
      "\n",
      " Retrying in 1 seconds\n",
      "\n",
      "Output 4047.406848739502\n",
      "\n",
      "\n",
      "Evaluating input: 458 of 520\n",
      "\n",
      " Retrying in 1 seconds\n",
      "\n",
      "Output 2776.5501325130135\n",
      "\n",
      "\n",
      "Evaluating input: 459 of 520\n",
      "\n",
      " Retrying in 1 seconds\n",
      "\n",
      "Output 3777.8501867816117\n",
      "\n",
      "\n",
      "Evaluating input: 460 of 520\n",
      "\n",
      " Retrying in 1 seconds\n",
      "\n",
      "Output 4075.6143188364063\n",
      "\n",
      "\n",
      "Evaluating input: 461 of 520\n",
      "\n",
      " Retrying in 1 seconds\n",
      "\n",
      "Output 3969.883535298199\n",
      "\n",
      "\n",
      "Evaluating input: 462 of 520\n",
      "\n",
      " Retrying in 1 seconds\n",
      "\n",
      "Output 4214.741691380912\n",
      "\n",
      "\n",
      "Evaluating input: 463 of 520\n",
      "\n",
      " Retrying in 1 seconds\n",
      "\n",
      "Output 2543.9332840601105\n",
      "\n",
      "\n",
      "Evaluating input: 464 of 520\n",
      "\n",
      " Retrying in 1 seconds\n",
      "\n",
      "Output 1921.7491838774204\n",
      "\n",
      "\n",
      "Evaluating input: 465 of 520\n",
      "\n",
      " Retrying in 1 seconds\n",
      "\n",
      "Output 5766.342983257232\n",
      "\n",
      "\n",
      "Evaluating input: 466 of 520\n",
      "\n",
      " Retrying in 1 seconds\n",
      "\n",
      "Output 3625.1852474793754\n",
      "\n",
      "\n",
      "Evaluating input: 467 of 520\n",
      "\n",
      " Retrying in 1 seconds\n",
      "\n",
      "Output 2435.9683177570173\n",
      "\n",
      "\n",
      "Evaluating input: 468 of 520\n",
      "\n",
      " Retrying in 1 seconds\n",
      "\n",
      "Output 4396.066568905988\n",
      "\n",
      "\n",
      "Evaluating input: 469 of 520\n",
      "\n",
      " Retrying in 1 seconds\n",
      "\n",
      "Output 2464.594862939657\n",
      "\n",
      "\n",
      "Evaluating input: 470 of 520\n",
      "\n",
      " Retrying in 1 seconds\n",
      "\n",
      "Output 2678.36576741408\n",
      "\n",
      "\n",
      "Evaluating input: 471 of 520\n",
      "\n",
      " Retrying in 1 seconds\n",
      "\n",
      "Output 3773.4355150339634\n",
      "\n",
      "\n",
      "Evaluating input: 472 of 520\n",
      "\n",
      " Retrying in 1 seconds\n",
      "\n",
      "Output 2573.8391973500643\n",
      "\n",
      "\n",
      "Evaluating input: 473 of 520\n",
      "\n",
      " Retrying in 1 seconds\n",
      "\n",
      "Output 2548.407826206139\n",
      "\n",
      "\n",
      "Evaluating input: 474 of 520\n",
      "\n",
      " Retrying in 1 seconds\n",
      "\n",
      "Output 4583.703992125987\n",
      "\n",
      "\n",
      "Evaluating input: 475 of 520\n",
      "\n",
      " Retrying in 1 seconds\n",
      "\n",
      "Output 3200.9277623717717\n",
      "\n",
      "\n",
      "Evaluating input: 476 of 520\n",
      "\n",
      " Retrying in 1 seconds\n",
      "\n",
      "Output 3469.5891975243776\n",
      "\n",
      "\n",
      "Evaluating input: 477 of 520\n",
      "\n",
      " Retrying in 1 seconds\n",
      "\n",
      "Output 3480.49019512195\n",
      "\n",
      "\n",
      "Evaluating input: 478 of 520\n",
      "\n",
      " Retrying in 1 seconds\n",
      "\n",
      "Output 2196.3121540317807\n",
      "\n",
      "\n",
      "Evaluating input: 479 of 520\n",
      "\n",
      " Retrying in 1 seconds\n",
      "\n",
      "Output 4267.563695253051\n",
      "\n",
      "\n",
      "Evaluating input: 480 of 520\n",
      "\n",
      " Retrying in 1 seconds\n",
      "\n",
      "Output 3071.2156858083513\n",
      "\n",
      "\n",
      "Evaluating input: 481 of 520\n",
      "\n",
      " Retrying in 1 seconds\n",
      "\n",
      "Output 4994.25132674965\n",
      "\n",
      "\n",
      "Evaluating input: 482 of 520\n",
      "\n",
      " Retrying in 1 seconds\n",
      "\n",
      "Output 5269.917553865652\n",
      "\n",
      "\n",
      "Evaluating input: 483 of 520\n",
      "\n",
      " Retrying in 1 seconds\n",
      "\n",
      "Output 3280.89781723144\n",
      "\n",
      "\n",
      "Evaluating input: 484 of 520\n",
      "\n",
      " Retrying in 1 seconds\n",
      "\n",
      "Output 2638.5495142088903\n",
      "\n",
      "\n",
      "Evaluating input: 485 of 520\n",
      "\n",
      " Retrying in 1 seconds\n",
      "\n",
      "Output 4710.070979318737\n",
      "\n",
      "\n",
      "Evaluating input: 486 of 520\n",
      "\n",
      " Retrying in 1 seconds\n",
      "\n",
      "Output 2916.3973689024224\n",
      "\n",
      "\n",
      "Evaluating input: 487 of 520\n",
      "\n",
      " Retrying in 1 seconds\n",
      "\n",
      "Output 5034.2069163763035\n",
      "\n",
      "\n",
      "Evaluating input: 488 of 520\n",
      "\n",
      " Retrying in 1 seconds\n",
      "\n",
      "Output 4734.856240090603\n",
      "\n",
      "\n",
      "Evaluating input: 489 of 520\n",
      "\n",
      " Retrying in 1 seconds\n",
      "\n",
      "Output 2135.7521870718706\n",
      "\n",
      "\n",
      "Evaluating input: 490 of 520\n",
      "\n",
      " Retrying in 1 seconds\n",
      "\n",
      "Output 4718.045150456585\n",
      "\n",
      "\n",
      "Evaluating input: 491 of 520\n",
      "\n",
      " Retrying in 1 seconds\n",
      "\n",
      "Output 3525.854042489528\n",
      "\n",
      "\n",
      "Evaluating input: 492 of 520\n",
      "\n",
      " Retrying in 1 seconds\n",
      "\n",
      "Output 4384.969706244369\n",
      "\n",
      "\n",
      "Evaluating input: 493 of 520\n",
      "\n",
      " Retrying in 1 seconds\n",
      "\n",
      "Output 3596.304290458109\n",
      "\n",
      "\n",
      "Evaluating input: 494 of 520\n",
      "\n",
      " Retrying in 1 seconds\n",
      "\n",
      "Output 2369.7079548306156\n",
      "\n",
      "\n",
      "Evaluating input: 495 of 520\n",
      "\n",
      " Retrying in 1 seconds\n",
      "\n",
      "Output 2605.5351742249613\n",
      "\n",
      "\n",
      "Evaluating input: 496 of 520\n",
      "\n",
      " Retrying in 1 seconds\n",
      "\n",
      "Output 2206.0640778614165\n",
      "\n",
      "\n",
      "Evaluating input: 497 of 520\n",
      "\n",
      " Retrying in 1 seconds\n",
      "\n",
      "Output 4321.299728629586\n",
      "\n",
      "\n",
      "Evaluating input: 498 of 520\n",
      "\n",
      " Retrying in 1 seconds\n",
      "\n",
      "Output 3344.4498075090573\n",
      "\n",
      "\n",
      "Evaluating input: 499 of 520\n",
      "\n",
      " Retrying in 1 seconds\n",
      "\n",
      "Output 3577.320148590959\n",
      "\n",
      "\n",
      "Evaluating input: 500 of 520\n",
      "\n",
      " Retrying in 1 seconds\n",
      "\n",
      "Output 4572.519949244947\n",
      "\n",
      "\n",
      "Evaluating input: 501 of 520\n",
      "\n"
     ]
    },
    {
     "name": "stdout",
     "output_type": "stream",
     "text": [
      " Retrying in 1 seconds\n",
      "\n",
      "Output 3608.6297959104427\n",
      "\n",
      "\n",
      "Evaluating input: 502 of 520\n",
      "\n",
      " Retrying in 1 seconds\n",
      "\n",
      "Output 2394.942411593402\n",
      "\n",
      "\n",
      "Evaluating input: 503 of 520\n",
      "\n",
      " Retrying in 1 seconds\n",
      "\n",
      "Output 2890.0878223708637\n",
      "\n",
      "\n",
      "Evaluating input: 504 of 520\n",
      "\n",
      " Retrying in 1 seconds\n",
      "\n",
      "Output 2407.3551109139344\n",
      "\n",
      "\n",
      "Evaluating input: 505 of 520\n",
      "\n",
      " Retrying in 1 seconds\n",
      "\n",
      "Output 3825.4421404602085\n",
      "\n",
      "\n",
      "Evaluating input: 506 of 520\n",
      "\n",
      " Retrying in 1 seconds\n",
      "\n",
      "Output 3013.5238830383146\n",
      "\n",
      "\n",
      "Evaluating input: 507 of 520\n",
      "\n",
      " Retrying in 1 seconds\n",
      "\n",
      "Output 2238.9588254936134\n",
      "\n",
      "\n",
      "Evaluating input: 508 of 520\n",
      "\n",
      " Retrying in 1 seconds\n",
      "\n",
      "Output 3589.9906201096765\n",
      "\n",
      "\n",
      "Evaluating input: 509 of 520\n",
      "\n",
      " Retrying in 1 seconds\n",
      "\n",
      "Output 3701.3345806945\n",
      "\n",
      "\n",
      "Evaluating input: 510 of 520\n",
      "\n",
      " Retrying in 1 seconds\n",
      "\n",
      "Output 2258.341162690274\n",
      "\n",
      "\n",
      "Evaluating input: 511 of 520\n",
      "\n",
      " Retrying in 1 seconds\n",
      "\n",
      "Output 4859.65384269663\n",
      "\n",
      "\n",
      "Evaluating input: 512 of 520\n",
      "\n",
      " Retrying in 1 seconds\n",
      "\n",
      "Output 4419.020348101258\n",
      "\n",
      "\n",
      "Evaluating input: 513 of 520\n",
      "\n",
      " Retrying in 1 seconds\n",
      "\n",
      "Output 4659.959352380956\n",
      "\n",
      "\n",
      "Evaluating input: 514 of 520\n",
      "\n",
      " Retrying in 1 seconds\n",
      "\n",
      "Output 4245.337339380189\n",
      "\n",
      "\n",
      "Evaluating input: 515 of 520\n",
      "\n",
      " Retrying in 1 seconds\n",
      "\n",
      "Output 3256.4499755381626\n",
      "\n",
      "\n",
      "Evaluating input: 516 of 520\n",
      "\n",
      " Retrying in 1 seconds\n",
      "\n",
      "Output 3112.8821859019185\n",
      "\n",
      "\n",
      "Evaluating input: 517 of 520\n",
      "\n",
      " Retrying in 1 seconds\n",
      "\n",
      "Output 2673.971004021314\n",
      "\n",
      "\n",
      "Evaluating input: 518 of 520\n",
      "\n",
      " Retrying in 1 seconds\n",
      "\n",
      "Output 3251.3064569352127\n",
      "\n",
      "\n",
      "Evaluating input: 519 of 520\n",
      "\n",
      " Retrying in 1 seconds\n",
      "\n",
      "Output 2184.259223780366\n",
      "\n",
      "\n",
      "Evaluating input: 520 of 520\n",
      "\n",
      " Retrying in 1 seconds\n",
      "\n",
      "Output 3078.6373156342142\n",
      "\n"
     ]
    }
   ],
   "source": [
    "#init_X, init_Y = pickle.load(open('bayesian_optimization/init_points/270_init_points_emissions.pkl', 'rb'))\n",
    "\n",
    "\n",
    "design = RandomDesign(parameter_space)\n",
    "num_init_points = 520\n",
    "init_X = design.get_samples(num_init_points)\n",
    "init_Y = user_function_emissions(init_X)\n",
    "init_points = init_X, init_Y\n",
    "with open(f'bayesian_optimization/init_points/{num_init_points}_init_points_emissions.pkl', \"wb\") as f:\n",
    "     pickle.dump(init_points, f)\n"
   ]
  },
  {
   "cell_type": "markdown",
   "metadata": {
    "pycharm": {
     "name": "#%% md\n"
    }
   },
   "source": [
    "To then fit a GP to these points"
   ]
  },
  {
   "cell_type": "code",
   "execution_count": 16,
   "metadata": {
    "pycharm": {
     "name": "#%%\n"
    }
   },
   "outputs": [
    {
     "name": "stderr",
     "output_type": "stream",
     "text": [
      " /Users/Matteo/opt/anaconda3/envs/ml_and_physical/lib/python3.8/site-packages/GPy/kern/src/stationary.py:168: RuntimeWarning:overflow encountered in true_divide\n",
      " /Users/Matteo/opt/anaconda3/envs/ml_and_physical/lib/python3.8/site-packages/GPy/kern/src/rbf.py:52: RuntimeWarning:overflow encountered in square\n",
      " /Users/Matteo/opt/anaconda3/envs/ml_and_physical/lib/python3.8/site-packages/GPy/kern/src/rbf.py:76: RuntimeWarning:invalid value encountered in multiply\n"
     ]
    },
    {
     "name": "stdout",
     "output_type": "stream",
     "text": [
      "Optimization restart 1/5, f = 24586.735957959267\n",
      "Optimization restart 2/5, f = 3104.9173509798766\n",
      "Optimization restart 3/5, f = 6790.620458906006\n",
      "Optimization restart 4/5, f = 3086.0019231072765\n",
      "Optimization restart 5/5, f = 3085.875237865033\n"
     ]
    }
   ],
   "source": [
    "emulator = GPy.models.GPRegression(init_X, init_Y, noise_var=1e-10)\n",
    "emukit_model_random_init = GPyModelWrapper(emulator, n_restarts=5)\n",
    "emukit_model_random_init.optimize()"
   ]
  },
  {
   "cell_type": "markdown",
   "metadata": {
    "pycharm": {
     "name": "#%% md\n"
    }
   },
   "source": [
    "### Experimentally designed emulator with model variance"
   ]
  },
  {
   "cell_type": "markdown",
   "metadata": {},
   "source": [
    "We also load the emulator obtained during experimental design:"
   ]
  },
  {
   "cell_type": "code",
   "execution_count": 17,
   "metadata": {
    "pycharm": {
     "name": "#%%\n"
    }
   },
   "outputs": [],
   "source": [
    "emukit_model_variance = pickle.load(open('experimental_design/models/ms_5param_model_variance_20_init_points_500_loops_co2_per_duration.pkl', 'rb'))"
   ]
  },
  {
   "cell_type": "markdown",
   "metadata": {
    "pycharm": {
     "name": "#%% md\n"
    }
   },
   "source": [
    "### Experimentally designed emulator with integrated variance reduction"
   ]
  },
  {
   "cell_type": "markdown",
   "metadata": {},
   "source": [
    "We also load the emulator obtained during experimental design:"
   ]
  },
  {
   "cell_type": "code",
   "execution_count": 18,
   "metadata": {
    "pycharm": {
     "name": "#%%\n"
    }
   },
   "outputs": [],
   "source": [
    "emukit_model_integrated_variance = pickle.load(open('experimental_design/models/ms_5param_integrated_variance_reduction_20_init_points_500_loops_co2_per_duration.pkl', 'rb'))"
   ]
  },
  {
   "cell_type": "markdown",
   "metadata": {
    "pycharm": {
     "name": "#%% md\n"
    }
   },
   "source": [
    "## Bayesian optimisation"
   ]
  },
  {
   "cell_type": "markdown",
   "metadata": {},
   "source": [
    "We now run bayesian optimisation on the emulators"
   ]
  },
  {
   "cell_type": "code",
   "execution_count": 19,
   "metadata": {
    "pycharm": {
     "name": "#%%\n"
    }
   },
   "outputs": [],
   "source": [
    "n_iter_bo = 50"
   ]
  },
  {
   "cell_type": "markdown",
   "metadata": {
    "pycharm": {
     "name": "#%% md\n"
    }
   },
   "source": [
    "### Acquisition functions"
   ]
  },
  {
   "cell_type": "code",
   "execution_count": 20,
   "metadata": {
    "pycharm": {
     "name": "#%%\n"
    }
   },
   "outputs": [],
   "source": [
    "acquisition_random_init = ExpectedImprovement(emukit_model_random_init)"
   ]
  },
  {
   "cell_type": "code",
   "execution_count": 21,
   "metadata": {},
   "outputs": [],
   "source": [
    "acquisition_model_variance = ExpectedImprovement(emukit_model_variance)"
   ]
  },
  {
   "cell_type": "code",
   "execution_count": 22,
   "metadata": {},
   "outputs": [],
   "source": [
    "acquisition_integrated_variance = ExpectedImprovement(emukit_model_integrated_variance)"
   ]
  },
  {
   "cell_type": "markdown",
   "metadata": {
    "pycharm": {
     "name": "#%% md\n"
    }
   },
   "source": [
    "### Optimisation loop"
   ]
  },
  {
   "cell_type": "code",
   "execution_count": 23,
   "metadata": {
    "pycharm": {
     "name": "#%%\n"
    }
   },
   "outputs": [
    {
     "name": "stderr",
     "output_type": "stream",
     "text": [
      " /Users/Matteo/opt/anaconda3/envs/ml_and_physical/lib/python3.8/site-packages/paramz/transformations.py:111: RuntimeWarning:overflow encountered in expm1\n"
     ]
    },
    {
     "name": "stdout",
     "output_type": "stream",
     "text": [
      "Optimization restart 1/5, f = 3085.875237865033\n",
      "Optimization restart 2/5, f = 4357.285512280114\n",
      "Optimization restart 3/5, f = 3097.704927760546\n",
      "Optimization restart 4/5, f = 3818.6497640896687\n",
      "Optimization restart 5/5, f = 3240.1244522961847\n",
      "[[16.  8. 70.  1.  5.]]\n",
      "\n",
      "User function emissions called with 1 inputs to simulate\n",
      "\n",
      "Evaluating input: 1 of 1\n",
      "\n",
      " Retrying in 1 seconds\n",
      "\n",
      "Output 2046.3772749496873\n",
      "\n"
     ]
    },
    {
     "name": "stderr",
     "output_type": "stream",
     "text": [
      " /Users/Matteo/opt/anaconda3/envs/ml_and_physical/lib/python3.8/site-packages/paramz/transformations.py:111: RuntimeWarning:overflow encountered in expm1\n"
     ]
    },
    {
     "name": "stdout",
     "output_type": "stream",
     "text": [
      "Optimization restart 1/5, f = 3107.8351761718886\n",
      "Optimization restart 2/5, f = 3106.9833153547083\n",
      "Optimization restart 3/5, f = 3106.984520571412\n"
     ]
    },
    {
     "name": "stderr",
     "output_type": "stream",
     "text": [
      " /Users/Matteo/opt/anaconda3/envs/ml_and_physical/lib/python3.8/site-packages/GPy/kern/src/rbf.py:52: RuntimeWarning:overflow encountered in square\n"
     ]
    },
    {
     "name": "stdout",
     "output_type": "stream",
     "text": [
      "Optimization restart 4/5, f = 3107.1398123448134\n",
      "Optimization restart 5/5, f = 3106.9833126586373\n",
      "[[20.          8.         65.23136605  1.          1.5       ]]\n",
      "\n",
      "User function emissions called with 1 inputs to simulate\n",
      "\n",
      "Evaluating input: 1 of 1\n",
      "\n",
      " Retrying in 1 seconds\n",
      "\n",
      "Output 1685.1570083156928\n",
      "\n"
     ]
    },
    {
     "name": "stderr",
     "output_type": "stream",
     "text": [
      " /Users/Matteo/opt/anaconda3/envs/ml_and_physical/lib/python3.8/site-packages/paramz/transformations.py:111: RuntimeWarning:overflow encountered in expm1\n"
     ]
    },
    {
     "name": "stdout",
     "output_type": "stream",
     "text": [
      "Optimization restart 1/5, f = 3112.4672069440735\n",
      "Optimization restart 2/5, f = 4289.506386007304\n",
      "Optimization restart 3/5, f = 3112.471193027557\n",
      "Optimization restart 4/5, f = 3112.4668347145102\n",
      "Optimization restart 5/5, f = 3112.4668511457967\n",
      "[[20.          8.         62.07117014  1.          5.        ]]\n",
      "\n",
      "User function emissions called with 1 inputs to simulate\n",
      "\n",
      "Evaluating input: 1 of 1\n",
      "\n",
      " Retrying in 1 seconds\n",
      "\n",
      "Output 2040.598179334419\n",
      "\n"
     ]
    },
    {
     "name": "stderr",
     "output_type": "stream",
     "text": [
      " /Users/Matteo/opt/anaconda3/envs/ml_and_physical/lib/python3.8/site-packages/paramz/transformations.py:111: RuntimeWarning:overflow encountered in expm1\n"
     ]
    },
    {
     "name": "stdout",
     "output_type": "stream",
     "text": [
      "Optimization restart 1/5, f = 3122.9863375732793\n",
      "Optimization restart 2/5, f = 3123.102995962741\n"
     ]
    },
    {
     "name": "stderr",
     "output_type": "stream",
     "text": [
      " /Users/Matteo/opt/anaconda3/envs/ml_and_physical/lib/python3.8/site-packages/GPy/kern/src/rbf.py:52: RuntimeWarning:overflow encountered in square\n"
     ]
    },
    {
     "name": "stdout",
     "output_type": "stream",
     "text": [
      "Optimization restart 3/5, f = 3122.9855568945195\n"
     ]
    },
    {
     "name": "stderr",
     "output_type": "stream",
     "text": [
      " /Users/Matteo/opt/anaconda3/envs/ml_and_physical/lib/python3.8/site-packages/GPy/kern/src/stationary.py:168: RuntimeWarning:overflow encountered in true_divide\n",
      " /Users/Matteo/opt/anaconda3/envs/ml_and_physical/lib/python3.8/site-packages/GPy/kern/src/rbf.py:76: RuntimeWarning:invalid value encountered in multiply\n"
     ]
    },
    {
     "name": "stdout",
     "output_type": "stream",
     "text": [
      "Optimization restart 4/5, f = 6010.448621226998\n",
      "Optimization restart 5/5, f = 4581.804193563881\n",
      "[[15.          8.26698495 63.30457397  1.          1.73348432]]\n",
      "\n",
      "User function emissions called with 1 inputs to simulate\n",
      "\n",
      "Evaluating input: 1 of 1\n",
      "\n",
      " Retrying in 1 seconds\n",
      "\n",
      "Output 1800.5297095247493\n",
      "\n"
     ]
    },
    {
     "name": "stderr",
     "output_type": "stream",
     "text": [
      " /Users/Matteo/opt/anaconda3/envs/ml_and_physical/lib/python3.8/site-packages/paramz/transformations.py:111: RuntimeWarning:overflow encountered in expm1\n"
     ]
    },
    {
     "name": "stdout",
     "output_type": "stream",
     "text": [
      "Optimization restart 1/5, f = 3128.273975761212\n"
     ]
    },
    {
     "name": "stderr",
     "output_type": "stream",
     "text": [
      " /Users/Matteo/opt/anaconda3/envs/ml_and_physical/lib/python3.8/site-packages/GPy/kern/src/stationary.py:168: RuntimeWarning:overflow encountered in true_divide\n",
      " /Users/Matteo/opt/anaconda3/envs/ml_and_physical/lib/python3.8/site-packages/GPy/kern/src/rbf.py:52: RuntimeWarning:overflow encountered in square\n",
      " /Users/Matteo/opt/anaconda3/envs/ml_and_physical/lib/python3.8/site-packages/GPy/kern/src/rbf.py:76: RuntimeWarning:invalid value encountered in multiply\n"
     ]
    },
    {
     "name": "stdout",
     "output_type": "stream",
     "text": [
      "Optimization restart 2/5, f = 3128.8133256617693\n",
      "Optimization restart 3/5, f = 3128.2740991842015\n",
      "Optimization restart 4/5, f = 3691.056113880333\n",
      "Optimization restart 5/5, f = 3128.2738503563396\n",
      "[[20.          8.         67.69968647  1.          1.5       ]]\n",
      "\n",
      "User function emissions called with 1 inputs to simulate\n",
      "\n",
      "Evaluating input: 1 of 1\n",
      "\n",
      " Retrying in 1 seconds\n",
      "\n",
      "Output 1680.8519595710475\n",
      "\n"
     ]
    },
    {
     "name": "stderr",
     "output_type": "stream",
     "text": [
      " /Users/Matteo/opt/anaconda3/envs/ml_and_physical/lib/python3.8/site-packages/paramz/transformations.py:111: RuntimeWarning:overflow encountered in expm1\n"
     ]
    },
    {
     "name": "stdout",
     "output_type": "stream",
     "text": [
      "Optimization restart 1/5, f = 3133.677520951073\n"
     ]
    },
    {
     "name": "stderr",
     "output_type": "stream",
     "text": [
      " /Users/Matteo/opt/anaconda3/envs/ml_and_physical/lib/python3.8/site-packages/GPy/kern/src/rbf.py:52: RuntimeWarning:overflow encountered in square\n"
     ]
    },
    {
     "name": "stdout",
     "output_type": "stream",
     "text": [
      "Optimization restart 2/5, f = 3133.6799947631544\n",
      "Optimization restart 3/5, f = 3133.678971513909\n",
      "Optimization restart 4/5, f = 3133.6824571329003\n"
     ]
    },
    {
     "name": "stderr",
     "output_type": "stream",
     "text": [
      " /Users/Matteo/opt/anaconda3/envs/ml_and_physical/lib/python3.8/site-packages/GPy/kern/src/stationary.py:168: RuntimeWarning:overflow encountered in true_divide\n",
      " /Users/Matteo/opt/anaconda3/envs/ml_and_physical/lib/python3.8/site-packages/GPy/kern/src/rbf.py:76: RuntimeWarning:invalid value encountered in multiply\n"
     ]
    },
    {
     "name": "stdout",
     "output_type": "stream",
     "text": [
      "Optimization restart 5/5, f = 4011.9065044464337\n",
      "[[20.          8.         66.06406262  1.          1.5       ]]\n",
      "\n",
      "User function emissions called with 1 inputs to simulate\n",
      "\n",
      "Evaluating input: 1 of 1\n",
      "\n",
      " Retrying in 1 seconds\n",
      "\n",
      "Output 1680.3067256357144\n",
      "\n"
     ]
    },
    {
     "name": "stderr",
     "output_type": "stream",
     "text": [
      " /Users/Matteo/opt/anaconda3/envs/ml_and_physical/lib/python3.8/site-packages/paramz/transformations.py:111: RuntimeWarning:overflow encountered in expm1\n"
     ]
    },
    {
     "name": "stdout",
     "output_type": "stream",
     "text": [
      "Optimization restart 1/5, f = 3138.996852884682\n",
      "Optimization restart 2/5, f = 3138.9968555682744\n",
      "Optimization restart 3/5, f = 3910.9325410836764\n"
     ]
    },
    {
     "name": "stderr",
     "output_type": "stream",
     "text": [
      " /Users/Matteo/opt/anaconda3/envs/ml_and_physical/lib/python3.8/site-packages/GPy/kern/src/rbf.py:52: RuntimeWarning:overflow encountered in square\n"
     ]
    },
    {
     "name": "stdout",
     "output_type": "stream",
     "text": [
      "Optimization restart 4/5, f = 3138.9966230614914\n",
      "Optimization restart 5/5, f = 3138.998311441985\n",
      "[[20.          8.         65.79687606  1.          1.5       ]]\n",
      "\n",
      "User function emissions called with 1 inputs to simulate\n",
      "\n",
      "Evaluating input: 1 of 1\n",
      "\n",
      " Retrying in 1 seconds\n",
      "\n",
      "Output 1689.0576644453377\n",
      "\n"
     ]
    },
    {
     "name": "stderr",
     "output_type": "stream",
     "text": [
      " /Users/Matteo/opt/anaconda3/envs/ml_and_physical/lib/python3.8/site-packages/paramz/transformations.py:111: RuntimeWarning:overflow encountered in expm1\n"
     ]
    },
    {
     "name": "stdout",
     "output_type": "stream",
     "text": [
      "Optimization restart 1/5, f = 3144.306681277819\n"
     ]
    },
    {
     "name": "stderr",
     "output_type": "stream",
     "text": [
      " /Users/Matteo/opt/anaconda3/envs/ml_and_physical/lib/python3.8/site-packages/GPy/kern/src/rbf.py:52: RuntimeWarning:overflow encountered in square\n"
     ]
    },
    {
     "name": "stdout",
     "output_type": "stream",
     "text": [
      "Optimization restart 2/5, f = 3162.7267130768\n"
     ]
    },
    {
     "name": "stderr",
     "output_type": "stream",
     "text": [
      " /Users/Matteo/opt/anaconda3/envs/ml_and_physical/lib/python3.8/site-packages/GPy/kern/src/stationary.py:168: RuntimeWarning:overflow encountered in true_divide\n",
      " /Users/Matteo/opt/anaconda3/envs/ml_and_physical/lib/python3.8/site-packages/GPy/kern/src/rbf.py:76: RuntimeWarning:invalid value encountered in multiply\n"
     ]
    },
    {
     "name": "stdout",
     "output_type": "stream",
     "text": [
      "Optimization restart 3/5, f = 3148.2994900882063\n",
      "Optimization restart 4/5, f = 3424.674132293887\n",
      "Optimization restart 5/5, f = 3144.311358351627\n",
      "[[10.  8. 70.  1.  5.]]\n",
      "\n",
      "User function emissions called with 1 inputs to simulate\n",
      "\n",
      "Evaluating input: 1 of 1\n",
      "\n",
      " Retrying in 1 seconds\n",
      "\n",
      "Output 2079.5166168293645\n",
      "\n"
     ]
    },
    {
     "name": "stderr",
     "output_type": "stream",
     "text": [
      " /Users/Matteo/opt/anaconda3/envs/ml_and_physical/lib/python3.8/site-packages/paramz/transformations.py:111: RuntimeWarning:overflow encountered in expm1\n"
     ]
    },
    {
     "name": "stdout",
     "output_type": "stream",
     "text": [
      "Optimization restart 1/5, f = 3155.5307429156796\n",
      "Optimization restart 2/5, f = 3155.274820925141\n"
     ]
    },
    {
     "name": "stderr",
     "output_type": "stream",
     "text": [
      " /Users/Matteo/opt/anaconda3/envs/ml_and_physical/lib/python3.8/site-packages/GPy/kern/src/stationary.py:168: RuntimeWarning:overflow encountered in true_divide\n",
      " /Users/Matteo/opt/anaconda3/envs/ml_and_physical/lib/python3.8/site-packages/GPy/kern/src/rbf.py:52: RuntimeWarning:overflow encountered in square\n",
      " /Users/Matteo/opt/anaconda3/envs/ml_and_physical/lib/python3.8/site-packages/GPy/kern/src/rbf.py:76: RuntimeWarning:invalid value encountered in multiply\n"
     ]
    },
    {
     "name": "stdout",
     "output_type": "stream",
     "text": [
      "Optimization restart 3/5, f = 3541.138200029346\n",
      "Optimization restart 4/5, f = 4380.631508795961\n",
      "Optimization restart 5/5, f = 3155.261608902536\n",
      "[[20.          8.         64.24372574  1.          1.5       ]]\n",
      "\n",
      "User function emissions called with 1 inputs to simulate\n",
      "\n",
      "Evaluating input: 1 of 1\n",
      "\n",
      " Retrying in 1 seconds\n",
      "\n",
      "Output 1696.4930330015504\n",
      "\n"
     ]
    },
    {
     "name": "stderr",
     "output_type": "stream",
     "text": [
      " /Users/Matteo/opt/anaconda3/envs/ml_and_physical/lib/python3.8/site-packages/paramz/transformations.py:111: RuntimeWarning:overflow encountered in expm1\n"
     ]
    },
    {
     "name": "stdout",
     "output_type": "stream",
     "text": [
      "Optimization restart 1/5, f = 3160.590164051903\n",
      "Optimization restart 2/5, f = 3168.0276562231134\n",
      "Optimization restart 3/5, f = 3160.590066061636\n"
     ]
    },
    {
     "name": "stderr",
     "output_type": "stream",
     "text": [
      " /Users/Matteo/opt/anaconda3/envs/ml_and_physical/lib/python3.8/site-packages/GPy/kern/src/stationary.py:168: RuntimeWarning:overflow encountered in true_divide\n",
      " /Users/Matteo/opt/anaconda3/envs/ml_and_physical/lib/python3.8/site-packages/GPy/kern/src/rbf.py:52: RuntimeWarning:overflow encountered in square\n",
      " /Users/Matteo/opt/anaconda3/envs/ml_and_physical/lib/python3.8/site-packages/GPy/kern/src/rbf.py:76: RuntimeWarning:invalid value encountered in multiply\n"
     ]
    },
    {
     "name": "stdout",
     "output_type": "stream",
     "text": [
      "Optimization restart 4/5, f = 3338.3960533163213\n",
      "Optimization restart 5/5, f = 3160.590065906933\n",
      "[[20.         8.        64.4370282  1.         1.5      ]]\n",
      "\n",
      "User function emissions called with 1 inputs to simulate\n",
      "\n",
      "Evaluating input: 1 of 1\n",
      "\n",
      " Retrying in 1 seconds\n",
      "\n",
      "Output 1691.5527333997845\n",
      "\n"
     ]
    },
    {
     "name": "stderr",
     "output_type": "stream",
     "text": [
      " /Users/Matteo/opt/anaconda3/envs/ml_and_physical/lib/python3.8/site-packages/paramz/transformations.py:111: RuntimeWarning:overflow encountered in expm1\n"
     ]
    },
    {
     "name": "stdout",
     "output_type": "stream",
     "text": [
      "Optimization restart 1/5, f = 3165.8770377024366\n"
     ]
    },
    {
     "name": "stderr",
     "output_type": "stream",
     "text": [
      " /Users/Matteo/opt/anaconda3/envs/ml_and_physical/lib/python3.8/site-packages/GPy/kern/src/rbf.py:52: RuntimeWarning:overflow encountered in square\n"
     ]
    },
    {
     "name": "stdout",
     "output_type": "stream",
     "text": [
      "Optimization restart 2/5, f = 3165.8766122883435\n"
     ]
    },
    {
     "name": "stderr",
     "output_type": "stream",
     "text": [
      " /Users/Matteo/opt/anaconda3/envs/ml_and_physical/lib/python3.8/site-packages/GPy/kern/src/stationary.py:168: RuntimeWarning:overflow encountered in true_divide\n",
      " /Users/Matteo/opt/anaconda3/envs/ml_and_physical/lib/python3.8/site-packages/GPy/kern/src/rbf.py:76: RuntimeWarning:invalid value encountered in multiply\n"
     ]
    },
    {
     "name": "stdout",
     "output_type": "stream",
     "text": [
      "Optimization restart 3/5, f = 3180.7354290196827\n",
      "Optimization restart 4/5, f = 3165.876612227396\n",
      "Optimization restart 5/5, f = 3165.8766122655325\n",
      "[[20.          8.         64.52281358  1.          1.5       ]]\n",
      "\n",
      "User function emissions called with 1 inputs to simulate\n",
      "\n",
      "Evaluating input: 1 of 1\n",
      "\n",
      " Retrying in 1 seconds\n",
      "\n",
      "Output 1693.0059980201136\n",
      "\n"
     ]
    },
    {
     "name": "stderr",
     "output_type": "stream",
     "text": [
      " /Users/Matteo/opt/anaconda3/envs/ml_and_physical/lib/python3.8/site-packages/paramz/transformations.py:111: RuntimeWarning:overflow encountered in expm1\n"
     ]
    },
    {
     "name": "stdout",
     "output_type": "stream",
     "text": [
      "Optimization restart 1/5, f = 3171.1528198609367\n"
     ]
    },
    {
     "name": "stderr",
     "output_type": "stream",
     "text": [
      " /Users/Matteo/opt/anaconda3/envs/ml_and_physical/lib/python3.8/site-packages/GPy/kern/src/rbf.py:52: RuntimeWarning:overflow encountered in square\n",
      " /Users/Matteo/opt/anaconda3/envs/ml_and_physical/lib/python3.8/site-packages/GPy/kern/src/stationary.py:168: RuntimeWarning:overflow encountered in true_divide\n",
      " /Users/Matteo/opt/anaconda3/envs/ml_and_physical/lib/python3.8/site-packages/GPy/kern/src/rbf.py:76: RuntimeWarning:invalid value encountered in multiply\n"
     ]
    },
    {
     "name": "stdout",
     "output_type": "stream",
     "text": [
      "Optimization restart 2/5, f = 3172.425416998921\n",
      "Optimization restart 3/5, f = 3644.542391620727\n",
      "Optimization restart 4/5, f = 3171.152342987614\n",
      "Optimization restart 5/5, f = 3171.152342665462\n",
      "[[20.          8.         64.58084999  1.          1.5       ]]\n",
      "\n",
      "User function emissions called with 1 inputs to simulate\n",
      "\n",
      "Evaluating input: 1 of 1\n",
      "\n",
      " Retrying in 1 seconds\n",
      "\n",
      "Output 1693.938753792974\n",
      "\n"
     ]
    },
    {
     "name": "stderr",
     "output_type": "stream",
     "text": [
      " /Users/Matteo/opt/anaconda3/envs/ml_and_physical/lib/python3.8/site-packages/paramz/transformations.py:111: RuntimeWarning:overflow encountered in expm1\n"
     ]
    },
    {
     "name": "stdout",
     "output_type": "stream",
     "text": [
      "Optimization restart 1/5, f = 3176.4189941223135\n",
      "Optimization restart 2/5, f = 3176.4184806499065\n",
      "Optimization restart 3/5, f = 3176.418631146461\n"
     ]
    },
    {
     "name": "stderr",
     "output_type": "stream",
     "text": [
      " /Users/Matteo/opt/anaconda3/envs/ml_and_physical/lib/python3.8/site-packages/GPy/kern/src/stationary.py:168: RuntimeWarning:overflow encountered in true_divide\n",
      " /Users/Matteo/opt/anaconda3/envs/ml_and_physical/lib/python3.8/site-packages/GPy/kern/src/rbf.py:52: RuntimeWarning:overflow encountered in square\n",
      " /Users/Matteo/opt/anaconda3/envs/ml_and_physical/lib/python3.8/site-packages/GPy/kern/src/rbf.py:76: RuntimeWarning:invalid value encountered in multiply\n"
     ]
    },
    {
     "name": "stdout",
     "output_type": "stream",
     "text": [
      "Optimization restart 4/5, f = 3905.556788631405\n",
      "Optimization restart 5/5, f = 3176.4184762102545\n",
      "[[20.          8.         64.61964331  1.          1.5       ]]\n",
      "\n",
      "User function emissions called with 1 inputs to simulate\n",
      "\n",
      "Evaluating input: 1 of 1\n",
      "\n",
      " Retrying in 1 seconds\n",
      "\n",
      "Output 1688.7866213768004\n",
      "\n"
     ]
    },
    {
     "name": "stderr",
     "output_type": "stream",
     "text": [
      " /Users/Matteo/opt/anaconda3/envs/ml_and_physical/lib/python3.8/site-packages/paramz/transformations.py:111: RuntimeWarning:overflow encountered in expm1\n"
     ]
    },
    {
     "name": "stdout",
     "output_type": "stream",
     "text": [
      "Optimization restart 1/5, f = 3181.664948595493\n",
      "Optimization restart 2/5, f = 3181.664363654571\n"
     ]
    },
    {
     "name": "stderr",
     "output_type": "stream",
     "text": [
      " /Users/Matteo/opt/anaconda3/envs/ml_and_physical/lib/python3.8/site-packages/GPy/kern/src/stationary.py:168: RuntimeWarning:overflow encountered in true_divide\n",
      " /Users/Matteo/opt/anaconda3/envs/ml_and_physical/lib/python3.8/site-packages/GPy/kern/src/rbf.py:52: RuntimeWarning:overflow encountered in square\n",
      " /Users/Matteo/opt/anaconda3/envs/ml_and_physical/lib/python3.8/site-packages/GPy/kern/src/rbf.py:76: RuntimeWarning:invalid value encountered in multiply\n"
     ]
    },
    {
     "name": "stdout",
     "output_type": "stream",
     "text": [
      "Optimization restart 3/5, f = 4695.727545494419\n",
      "Optimization restart 4/5, f = 40910.381792590626\n",
      "Optimization restart 5/5, f = 3340.0122817429437\n",
      "[[20.          8.         64.62539846  1.          1.5       ]]\n",
      "\n",
      "User function emissions called with 1 inputs to simulate\n",
      "\n",
      "Evaluating input: 1 of 1\n",
      "\n",
      " Retrying in 1 seconds\n",
      "\n",
      "Output 1691.0881169532724\n",
      "\n"
     ]
    },
    {
     "name": "stderr",
     "output_type": "stream",
     "text": [
      " /Users/Matteo/opt/anaconda3/envs/ml_and_physical/lib/python3.8/site-packages/paramz/transformations.py:111: RuntimeWarning:overflow encountered in expm1\n"
     ]
    },
    {
     "name": "stdout",
     "output_type": "stream",
     "text": [
      "Optimization restart 1/5, f = 3186.907960669032\n",
      "Optimization restart 2/5, f = 3186.9073835434565\n",
      "Optimization restart 3/5, f = 3186.9073828531637\n"
     ]
    },
    {
     "name": "stderr",
     "output_type": "stream",
     "text": [
      " /Users/Matteo/opt/anaconda3/envs/ml_and_physical/lib/python3.8/site-packages/GPy/kern/src/stationary.py:168: RuntimeWarning:overflow encountered in true_divide\n",
      " /Users/Matteo/opt/anaconda3/envs/ml_and_physical/lib/python3.8/site-packages/GPy/kern/src/rbf.py:52: RuntimeWarning:overflow encountered in square\n",
      " /Users/Matteo/opt/anaconda3/envs/ml_and_physical/lib/python3.8/site-packages/GPy/kern/src/rbf.py:76: RuntimeWarning:invalid value encountered in multiply\n"
     ]
    },
    {
     "name": "stdout",
     "output_type": "stream",
     "text": [
      "Optimization restart 4/5, f = 3233.0670494362776\n",
      "Optimization restart 5/5, f = 3186.907383231316\n",
      "[[20.          8.         64.63561014  1.          1.5       ]]\n",
      "\n",
      "User function emissions called with 1 inputs to simulate\n",
      "\n",
      "Evaluating input: 1 of 1\n",
      "\n",
      " Retrying in 1 seconds\n",
      "\n",
      "Output 1687.8260670038012\n",
      "\n"
     ]
    },
    {
     "name": "stderr",
     "output_type": "stream",
     "text": [
      " /Users/Matteo/opt/anaconda3/envs/ml_and_physical/lib/python3.8/site-packages/paramz/transformations.py:111: RuntimeWarning:overflow encountered in expm1\n"
     ]
    },
    {
     "name": "stdout",
     "output_type": "stream",
     "text": [
      "Optimization restart 1/5, f = 3192.1402765241987\n",
      "Optimization restart 2/5, f = 3192.13961889445\n",
      "Optimization restart 3/5, f = 3192.434385800294\n",
      "Optimization restart 4/5, f = 3192.1396258969867\n"
     ]
    },
    {
     "name": "stderr",
     "output_type": "stream",
     "text": [
      " /Users/Matteo/opt/anaconda3/envs/ml_and_physical/lib/python3.8/site-packages/GPy/kern/src/rbf.py:52: RuntimeWarning:overflow encountered in square\n"
     ]
    },
    {
     "name": "stdout",
     "output_type": "stream",
     "text": [
      "Optimization restart 5/5, f = 3192.1413472518716\n",
      "[[20.          8.         64.62927994  1.          1.5       ]]\n",
      "\n",
      "User function emissions called with 1 inputs to simulate\n",
      "\n",
      "Evaluating input: 1 of 1\n",
      "\n",
      " Retrying in 1 seconds\n",
      "\n",
      "Output 1691.0881169532724\n",
      "\n"
     ]
    },
    {
     "name": "stderr",
     "output_type": "stream",
     "text": [
      " /Users/Matteo/opt/anaconda3/envs/ml_and_physical/lib/python3.8/site-packages/paramz/transformations.py:111: RuntimeWarning:overflow encountered in expm1\n"
     ]
    },
    {
     "name": "stdout",
     "output_type": "stream",
     "text": [
      "Optimization restart 1/5, f = 3197.372001803077\n",
      "Optimization restart 2/5, f = 3197.3713799127013\n",
      "Optimization restart 3/5, f = 3609.328044622941\n",
      "Optimization restart 4/5, f = 3197.3713744087745\n",
      "Optimization restart 5/5, f = 3197.3719845694577\n",
      "[[18.          8.14093774 67.27282969  2.          1.69116059]]\n",
      "\n",
      "User function emissions called with 1 inputs to simulate\n",
      "\n",
      "Evaluating input: 1 of 1\n",
      "\n",
      " Retrying in 1 seconds\n",
      "\n",
      "Output 1743.029060569895\n",
      "\n"
     ]
    },
    {
     "name": "stderr",
     "output_type": "stream",
     "text": [
      " /Users/Matteo/opt/anaconda3/envs/ml_and_physical/lib/python3.8/site-packages/paramz/transformations.py:111: RuntimeWarning:overflow encountered in expm1\n"
     ]
    },
    {
     "name": "stdout",
     "output_type": "stream",
     "text": [
      "Optimization restart 1/5, f = 3203.222471994349\n",
      "Optimization restart 2/5, f = 3203.2202101635507\n",
      "Optimization restart 3/5, f = 3203.237756440035\n"
     ]
    },
    {
     "name": "stderr",
     "output_type": "stream",
     "text": [
      " /Users/Matteo/opt/anaconda3/envs/ml_and_physical/lib/python3.8/site-packages/GPy/kern/src/rbf.py:52: RuntimeWarning:overflow encountered in square\n"
     ]
    },
    {
     "name": "stdout",
     "output_type": "stream",
     "text": [
      "Optimization restart 4/5, f = 3203.2202102608253\n",
      "Optimization restart 5/5, f = 3203.220227268549\n",
      "[[20.          8.         66.96060239  1.          1.5       ]]\n",
      "\n",
      "User function emissions called with 1 inputs to simulate\n",
      "\n",
      "Evaluating input: 1 of 1\n",
      "\n",
      " Retrying in 1 seconds\n",
      "\n",
      "Output 1682.5225713222505\n",
      "\n"
     ]
    },
    {
     "name": "stderr",
     "output_type": "stream",
     "text": [
      " /Users/Matteo/opt/anaconda3/envs/ml_and_physical/lib/python3.8/site-packages/paramz/transformations.py:111: RuntimeWarning:overflow encountered in expm1\n"
     ]
    },
    {
     "name": "stdout",
     "output_type": "stream",
     "text": [
      "Optimization restart 1/5, f = 3208.464545040054\n",
      "Optimization restart 2/5, f = 3946.052886576869\n",
      "Optimization restart 3/5, f = 4444.058836694167\n"
     ]
    },
    {
     "name": "stderr",
     "output_type": "stream",
     "text": [
      " /Users/Matteo/opt/anaconda3/envs/ml_and_physical/lib/python3.8/site-packages/GPy/kern/src/rbf.py:52: RuntimeWarning:overflow encountered in square\n"
     ]
    },
    {
     "name": "stdout",
     "output_type": "stream",
     "text": [
      "Optimization restart 4/5, f = 3208.4639234111\n",
      "Optimization restart 5/5, f = 3208.4667688061168\n",
      "[[20.          8.         66.64703368  1.          1.5       ]]\n",
      "\n",
      "User function emissions called with 1 inputs to simulate\n",
      "\n",
      "Evaluating input: 1 of 1\n",
      "\n",
      " Retrying in 1 seconds\n",
      "\n",
      "Output 1681.7538734985567\n",
      "\n"
     ]
    },
    {
     "name": "stderr",
     "output_type": "stream",
     "text": [
      " /Users/Matteo/opt/anaconda3/envs/ml_and_physical/lib/python3.8/site-packages/paramz/transformations.py:111: RuntimeWarning:overflow encountered in expm1\n"
     ]
    },
    {
     "name": "stdout",
     "output_type": "stream",
     "text": [
      "Optimization restart 1/5, f = 3213.695504271393\n",
      "Optimization restart 2/5, f = 3213.809560358407\n"
     ]
    },
    {
     "name": "stderr",
     "output_type": "stream",
     "text": [
      " /Users/Matteo/opt/anaconda3/envs/ml_and_physical/lib/python3.8/site-packages/GPy/kern/src/stationary.py:168: RuntimeWarning:overflow encountered in true_divide\n",
      " /Users/Matteo/opt/anaconda3/envs/ml_and_physical/lib/python3.8/site-packages/GPy/kern/src/rbf.py:52: RuntimeWarning:overflow encountered in square\n",
      " /Users/Matteo/opt/anaconda3/envs/ml_and_physical/lib/python3.8/site-packages/GPy/kern/src/rbf.py:76: RuntimeWarning:invalid value encountered in multiply\n"
     ]
    },
    {
     "name": "stdout",
     "output_type": "stream",
     "text": [
      "Optimization restart 3/5, f = 6042.754940320958\n",
      "Optimization restart 4/5, f = 6244.879613309082\n",
      "Optimization restart 5/5, f = 3215.824562571751\n",
      "[[20.          8.         66.49138771  1.          1.5       ]]\n",
      "\n",
      "User function emissions called with 1 inputs to simulate\n",
      "\n",
      "Evaluating input: 1 of 1\n",
      "\n",
      " Retrying in 1 seconds\n",
      "\n",
      "Output 1687.5197421639184\n",
      "\n"
     ]
    },
    {
     "name": "stderr",
     "output_type": "stream",
     "text": [
      " /Users/Matteo/opt/anaconda3/envs/ml_and_physical/lib/python3.8/site-packages/paramz/transformations.py:111: RuntimeWarning:overflow encountered in expm1\n"
     ]
    },
    {
     "name": "stdout",
     "output_type": "stream",
     "text": [
      "Optimization restart 1/5, f = 3218.9265555461707\n",
      "Optimization restart 2/5, f = 3218.923753424528\n"
     ]
    },
    {
     "name": "stderr",
     "output_type": "stream",
     "text": [
      " /Users/Matteo/opt/anaconda3/envs/ml_and_physical/lib/python3.8/site-packages/GPy/kern/src/stationary.py:168: RuntimeWarning:overflow encountered in true_divide\n",
      " /Users/Matteo/opt/anaconda3/envs/ml_and_physical/lib/python3.8/site-packages/GPy/kern/src/rbf.py:52: RuntimeWarning:overflow encountered in square\n",
      " /Users/Matteo/opt/anaconda3/envs/ml_and_physical/lib/python3.8/site-packages/GPy/kern/src/rbf.py:76: RuntimeWarning:invalid value encountered in multiply\n"
     ]
    },
    {
     "name": "stdout",
     "output_type": "stream",
     "text": [
      "Optimization restart 3/5, f = 3718.332577482894\n",
      "Optimization restart 4/5, f = 3218.9237542995616\n",
      "Optimization restart 5/5, f = 3624.756342835954\n",
      "[[20.         8.        66.2364554  1.         1.5      ]]\n",
      "\n",
      "User function emissions called with 1 inputs to simulate\n",
      "\n",
      "Evaluating input: 1 of 1\n",
      "\n",
      " Retrying in 1 seconds\n",
      "\n",
      "Output 1687.8261660419485\n",
      "\n"
     ]
    },
    {
     "name": "stderr",
     "output_type": "stream",
     "text": [
      " /Users/Matteo/opt/anaconda3/envs/ml_and_physical/lib/python3.8/site-packages/paramz/transformations.py:111: RuntimeWarning:overflow encountered in expm1\n"
     ]
    },
    {
     "name": "stdout",
     "output_type": "stream",
     "text": [
      "Optimization restart 1/5, f = 3224.146615557691\n",
      "Optimization restart 2/5, f = 3224.14592246515\n",
      "Optimization restart 3/5, f = 3224.14591981362\n",
      "Optimization restart 4/5, f = 3739.93839286442\n",
      "Optimization restart 5/5, f = 3224.146487294178\n",
      "[[20.         8.        66.0780005  1.         1.5      ]]\n",
      "\n",
      "User function emissions called with 1 inputs to simulate\n",
      "\n",
      "Evaluating input: 1 of 1\n",
      "\n",
      " Retrying in 1 seconds\n",
      "\n",
      "Output 1679.5200480390401\n",
      "\n"
     ]
    },
    {
     "name": "stderr",
     "output_type": "stream",
     "text": [
      " /Users/Matteo/opt/anaconda3/envs/ml_and_physical/lib/python3.8/site-packages/paramz/transformations.py:111: RuntimeWarning:overflow encountered in expm1\n"
     ]
    },
    {
     "name": "stdout",
     "output_type": "stream",
     "text": [
      "Optimization restart 1/5, f = 3229.358727509405\n",
      "Optimization restart 2/5, f = 3229.3580165077815\n",
      "Optimization restart 3/5, f = 3822.1659774560494\n",
      "Optimization restart 4/5, f = 4003.709229727003\n",
      "Optimization restart 5/5, f = 3229.358345750059\n",
      "[[20.          8.         66.03682247  1.          1.5       ]]\n",
      "\n",
      "User function emissions called with 1 inputs to simulate\n",
      "\n",
      "Evaluating input: 1 of 1\n",
      "\n",
      " Retrying in 1 seconds\n",
      "\n",
      "Output 1687.363048986476\n",
      "\n"
     ]
    },
    {
     "name": "stderr",
     "output_type": "stream",
     "text": [
      " /Users/Matteo/opt/anaconda3/envs/ml_and_physical/lib/python3.8/site-packages/paramz/transformations.py:111: RuntimeWarning:overflow encountered in expm1\n"
     ]
    },
    {
     "name": "stdout",
     "output_type": "stream",
     "text": [
      "Optimization restart 1/5, f = 3234.57195806563\n",
      "Optimization restart 2/5, f = 3234.5712652114007\n",
      "Optimization restart 3/5, f = 3234.5712593676863\n",
      "Optimization restart 4/5, f = 3234.596756049294\n"
     ]
    },
    {
     "name": "stderr",
     "output_type": "stream",
     "text": [
      " /Users/Matteo/opt/anaconda3/envs/ml_and_physical/lib/python3.8/site-packages/GPy/kern/src/stationary.py:168: RuntimeWarning:overflow encountered in true_divide\n",
      " /Users/Matteo/opt/anaconda3/envs/ml_and_physical/lib/python3.8/site-packages/GPy/kern/src/rbf.py:52: RuntimeWarning:overflow encountered in square\n",
      " /Users/Matteo/opt/anaconda3/envs/ml_and_physical/lib/python3.8/site-packages/GPy/kern/src/rbf.py:76: RuntimeWarning:invalid value encountered in multiply\n"
     ]
    },
    {
     "name": "stdout",
     "output_type": "stream",
     "text": [
      "Optimization restart 5/5, f = 3244.808715516151\n",
      "[[20.          8.         65.93387881  1.          1.5       ]]\n",
      "\n",
      "User function emissions called with 1 inputs to simulate\n",
      "\n",
      "Evaluating input: 1 of 1\n",
      "\n",
      " Retrying in 1 seconds\n",
      "\n",
      "Output 1690.6282435226685\n",
      "\n"
     ]
    },
    {
     "name": "stderr",
     "output_type": "stream",
     "text": [
      " /Users/Matteo/opt/anaconda3/envs/ml_and_physical/lib/python3.8/site-packages/paramz/transformations.py:111: RuntimeWarning:overflow encountered in expm1\n"
     ]
    },
    {
     "name": "stdout",
     "output_type": "stream",
     "text": [
      "Optimization restart 1/5, f = 3239.7865165889743\n"
     ]
    },
    {
     "name": "stderr",
     "output_type": "stream",
     "text": [
      " /Users/Matteo/opt/anaconda3/envs/ml_and_physical/lib/python3.8/site-packages/GPy/kern/src/stationary.py:168: RuntimeWarning:overflow encountered in true_divide\n",
      " /Users/Matteo/opt/anaconda3/envs/ml_and_physical/lib/python3.8/site-packages/GPy/kern/src/rbf.py:52: RuntimeWarning:overflow encountered in square\n",
      " /Users/Matteo/opt/anaconda3/envs/ml_and_physical/lib/python3.8/site-packages/GPy/kern/src/rbf.py:76: RuntimeWarning:invalid value encountered in multiply\n"
     ]
    },
    {
     "name": "stdout",
     "output_type": "stream",
     "text": [
      "Optimization restart 2/5, f = 3582.5357458722606\n",
      "Optimization restart 3/5, f = 6587.597220197593\n",
      "Optimization restart 4/5, f = 3246.5525206090224\n",
      "Optimization restart 5/5, f = 3239.786969715479\n",
      "[[20.          8.         65.85715982  1.          1.5       ]]\n",
      "\n",
      "User function emissions called with 1 inputs to simulate\n",
      "\n",
      "Evaluating input: 1 of 1\n",
      "\n",
      " Retrying in 1 seconds\n",
      "\n",
      "Output 1689.2491688977889\n",
      "\n"
     ]
    },
    {
     "name": "stderr",
     "output_type": "stream",
     "text": [
      " /Users/Matteo/opt/anaconda3/envs/ml_and_physical/lib/python3.8/site-packages/paramz/transformations.py:111: RuntimeWarning:overflow encountered in expm1\n"
     ]
    },
    {
     "name": "stdout",
     "output_type": "stream",
     "text": [
      "Optimization restart 1/5, f = 3244.9971206936516\n",
      "Optimization restart 2/5, f = 3244.9943707819693\n",
      "Optimization restart 3/5, f = 3245.3076870287787\n",
      "Optimization restart 4/5, f = 3244.9943826873377\n",
      "Optimization restart 5/5, f = 3244.994475476111\n",
      "[[14.         8.        62.1934001  1.         5.       ]]\n",
      "\n",
      "User function emissions called with 1 inputs to simulate\n",
      "\n",
      "Evaluating input: 1 of 1\n",
      "\n",
      " Retrying in 1 seconds\n",
      "\n",
      "Output 2057.9423098057678\n",
      "\n"
     ]
    },
    {
     "name": "stderr",
     "output_type": "stream",
     "text": [
      " /Users/Matteo/opt/anaconda3/envs/ml_and_physical/lib/python3.8/site-packages/paramz/transformations.py:111: RuntimeWarning:overflow encountered in expm1\n"
     ]
    },
    {
     "name": "stdout",
     "output_type": "stream",
     "text": [
      "Optimization restart 1/5, f = 3254.3612054414843\n",
      "Optimization restart 2/5, f = 3254.6684706458277\n",
      "Optimization restart 3/5, f = 3254.668470614473\n",
      "Optimization restart 4/5, f = 3254.6186274389975\n",
      "Optimization restart 5/5, f = 3254.6684708011217\n",
      "[[20.   8.  70.   1.   1.5]]\n",
      "\n",
      "User function emissions called with 1 inputs to simulate\n",
      "\n",
      "Evaluating input: 1 of 1\n",
      "\n",
      " Retrying in 1 seconds\n",
      "\n",
      "Output 1662.044947592042\n",
      "\n"
     ]
    },
    {
     "name": "stderr",
     "output_type": "stream",
     "text": [
      " /Users/Matteo/opt/anaconda3/envs/ml_and_physical/lib/python3.8/site-packages/paramz/transformations.py:111: RuntimeWarning:overflow encountered in expm1\n"
     ]
    },
    {
     "name": "stdout",
     "output_type": "stream",
     "text": [
      "Optimization restart 1/5, f = 3259.779507860064\n"
     ]
    },
    {
     "name": "stderr",
     "output_type": "stream",
     "text": [
      " /Users/Matteo/opt/anaconda3/envs/ml_and_physical/lib/python3.8/site-packages/GPy/kern/src/rbf.py:52: RuntimeWarning:overflow encountered in square\n"
     ]
    },
    {
     "name": "stdout",
     "output_type": "stream",
     "text": [
      "Optimization restart 2/5, f = 3260.0747587877136\n",
      "Optimization restart 3/5, f = 3260.074776960382\n",
      "Optimization restart 4/5, f = 3260.074759164597\n",
      "Optimization restart 5/5, f = 3263.2343235355797\n",
      "[[20.   8.  70.   1.   1.5]]\n",
      "\n",
      "User function emissions called with 1 inputs to simulate\n",
      "\n",
      "Evaluating input: 1 of 1\n",
      "\n",
      " Retrying in 1 seconds\n",
      "\n",
      "Output 1662.044947592042\n",
      "\n"
     ]
    },
    {
     "name": "stderr",
     "output_type": "stream",
     "text": [
      " /Users/Matteo/opt/anaconda3/envs/ml_and_physical/lib/python3.8/site-packages/paramz/transformations.py:111: RuntimeWarning:overflow encountered in expm1\n"
     ]
    },
    {
     "name": "stdout",
     "output_type": "stream",
     "text": [
      "Optimization restart 1/5, f = 3265.121097396048\n"
     ]
    },
    {
     "name": "stderr",
     "output_type": "stream",
     "text": [
      " /Users/Matteo/opt/anaconda3/envs/ml_and_physical/lib/python3.8/site-packages/GPy/kern/src/rbf.py:52: RuntimeWarning:overflow encountered in square\n"
     ]
    },
    {
     "name": "stdout",
     "output_type": "stream",
     "text": [
      "Optimization restart 2/5, f = 3269.9525451421273\n"
     ]
    },
    {
     "name": "stderr",
     "output_type": "stream",
     "text": [
      " /Users/Matteo/opt/anaconda3/envs/ml_and_physical/lib/python3.8/site-packages/GPy/kern/src/stationary.py:168: RuntimeWarning:overflow encountered in true_divide\n",
      " /Users/Matteo/opt/anaconda3/envs/ml_and_physical/lib/python3.8/site-packages/GPy/kern/src/rbf.py:76: RuntimeWarning:invalid value encountered in multiply\n"
     ]
    },
    {
     "name": "stdout",
     "output_type": "stream",
     "text": [
      "Optimization restart 3/5, f = 3274.409805548149\n",
      "Optimization restart 4/5, f = 3265.3713034567472\n",
      "Optimization restart 5/5, f = 3271.217046157131\n",
      "[[20.   8.  70.   1.   1.5]]\n",
      "\n",
      "User function emissions called with 1 inputs to simulate\n",
      "\n",
      "Evaluating input: 1 of 1\n",
      "\n",
      " Retrying in 1 seconds\n",
      "\n",
      "Output 1662.044947592042\n",
      "\n"
     ]
    },
    {
     "name": "stderr",
     "output_type": "stream",
     "text": [
      " /Users/Matteo/opt/anaconda3/envs/ml_and_physical/lib/python3.8/site-packages/paramz/transformations.py:111: RuntimeWarning:overflow encountered in expm1\n"
     ]
    },
    {
     "name": "stdout",
     "output_type": "stream",
     "text": [
      "Optimization restart 1/5, f = 3270.422811259\n"
     ]
    },
    {
     "name": "stderr",
     "output_type": "stream",
     "text": [
      " /Users/Matteo/opt/anaconda3/envs/ml_and_physical/lib/python3.8/site-packages/GPy/kern/src/stationary.py:168: RuntimeWarning:overflow encountered in true_divide\n",
      " /Users/Matteo/opt/anaconda3/envs/ml_and_physical/lib/python3.8/site-packages/GPy/kern/src/rbf.py:52: RuntimeWarning:overflow encountered in square\n",
      " /Users/Matteo/opt/anaconda3/envs/ml_and_physical/lib/python3.8/site-packages/GPy/kern/src/rbf.py:76: RuntimeWarning:invalid value encountered in multiply\n"
     ]
    },
    {
     "name": "stdout",
     "output_type": "stream",
     "text": [
      "Optimization restart 2/5, f = 3479.4981598095565\n",
      "Optimization restart 3/5, f = 3270.615574444081\n",
      "Optimization restart 4/5, f = 3270.6155787054913\n",
      "Optimization restart 5/5, f = 3270.615574426317\n",
      "[[20.   8.  70.   1.   1.5]]\n",
      "\n",
      "User function emissions called with 1 inputs to simulate\n",
      "\n",
      "Evaluating input: 1 of 1\n",
      "\n",
      " Retrying in 1 seconds\n",
      "\n",
      "Output 1662.044947592042\n",
      "\n"
     ]
    },
    {
     "name": "stderr",
     "output_type": "stream",
     "text": [
      " /Users/Matteo/opt/anaconda3/envs/ml_and_physical/lib/python3.8/site-packages/paramz/transformations.py:111: RuntimeWarning:overflow encountered in expm1\n"
     ]
    },
    {
     "name": "stdout",
     "output_type": "stream",
     "text": [
      "Optimization restart 1/5, f = 3275.7001536712487\n",
      "Optimization restart 2/5, f = 3275.8285598411667\n",
      "Optimization restart 3/5, f = 3275.8285610631547\n",
      "Optimization restart 4/5, f = 3275.8285597866416\n"
     ]
    },
    {
     "name": "stderr",
     "output_type": "stream",
     "text": [
      " /Users/Matteo/opt/anaconda3/envs/ml_and_physical/lib/python3.8/site-packages/GPy/kern/src/stationary.py:168: RuntimeWarning:overflow encountered in true_divide\n",
      " /Users/Matteo/opt/anaconda3/envs/ml_and_physical/lib/python3.8/site-packages/GPy/kern/src/rbf.py:52: RuntimeWarning:overflow encountered in square\n",
      " /Users/Matteo/opt/anaconda3/envs/ml_and_physical/lib/python3.8/site-packages/GPy/kern/src/rbf.py:76: RuntimeWarning:invalid value encountered in multiply\n"
     ]
    },
    {
     "name": "stdout",
     "output_type": "stream",
     "text": [
      "Optimization restart 5/5, f = 4075.847950619572\n",
      "[[20.   8.  30.   3.   1.5]]\n",
      "\n",
      "User function emissions called with 1 inputs to simulate\n",
      "\n",
      "Evaluating input: 1 of 1\n",
      "\n",
      " Retrying in 1 seconds\n",
      "\n",
      "Output 2121.354806356415\n",
      "\n"
     ]
    },
    {
     "name": "stderr",
     "output_type": "stream",
     "text": [
      " /Users/Matteo/opt/anaconda3/envs/ml_and_physical/lib/python3.8/site-packages/paramz/transformations.py:111: RuntimeWarning:overflow encountered in expm1\n"
     ]
    },
    {
     "name": "stdout",
     "output_type": "stream",
     "text": [
      "Optimization restart 1/5, f = 3283.617660803342\n"
     ]
    },
    {
     "name": "stderr",
     "output_type": "stream",
     "text": [
      " /Users/Matteo/opt/anaconda3/envs/ml_and_physical/lib/python3.8/site-packages/GPy/kern/src/stationary.py:168: RuntimeWarning:overflow encountered in true_divide\n",
      " /Users/Matteo/opt/anaconda3/envs/ml_and_physical/lib/python3.8/site-packages/GPy/kern/src/rbf.py:52: RuntimeWarning:overflow encountered in square\n",
      " /Users/Matteo/opt/anaconda3/envs/ml_and_physical/lib/python3.8/site-packages/GPy/kern/src/rbf.py:76: RuntimeWarning:invalid value encountered in multiply\n"
     ]
    },
    {
     "name": "stdout",
     "output_type": "stream",
     "text": [
      "Optimization restart 2/5, f = 3293.2069641189237\n",
      "Optimization restart 3/5, f = 3282.5878266027485\n",
      "Optimization restart 4/5, f = 3282.5878261553153\n",
      "Optimization restart 5/5, f = 3282.587826797942\n",
      "[[20.   8.  70.   1.   1.5]]\n",
      "\n",
      "User function emissions called with 1 inputs to simulate\n",
      "\n",
      "Evaluating input: 1 of 1\n",
      "\n",
      " Retrying in 1 seconds\n",
      "\n",
      "Output 1662.044947592042\n",
      "\n"
     ]
    },
    {
     "name": "stderr",
     "output_type": "stream",
     "text": [
      " /Users/Matteo/opt/anaconda3/envs/ml_and_physical/lib/python3.8/site-packages/paramz/transformations.py:111: RuntimeWarning:overflow encountered in expm1\n"
     ]
    },
    {
     "name": "stdout",
     "output_type": "stream",
     "text": [
      "Optimization restart 1/5, f = 3287.770120220941\n",
      "Optimization restart 2/5, f = 3287.769148674646\n",
      "Optimization restart 3/5, f = 3287.769162334148\n",
      "Optimization restart 4/5, f = 3287.7691486964327\n",
      "Optimization restart 5/5, f = 3287.7691486744598\n",
      "[[20.          8.         58.18623716  1.          1.5       ]]\n",
      "\n",
      "User function emissions called with 1 inputs to simulate\n",
      "\n",
      "Evaluating input: 1 of 1\n",
      "\n",
      " Retrying in 1 seconds\n",
      "\n",
      "Output 1732.044483487715\n",
      "\n"
     ]
    },
    {
     "name": "stderr",
     "output_type": "stream",
     "text": [
      " /Users/Matteo/opt/anaconda3/envs/ml_and_physical/lib/python3.8/site-packages/paramz/transformations.py:111: RuntimeWarning:overflow encountered in expm1\n"
     ]
    },
    {
     "name": "stdout",
     "output_type": "stream",
     "text": [
      "Optimization restart 1/5, f = 3293.143566312883\n"
     ]
    },
    {
     "name": "stderr",
     "output_type": "stream",
     "text": [
      " /Users/Matteo/opt/anaconda3/envs/ml_and_physical/lib/python3.8/site-packages/GPy/kern/src/stationary.py:168: RuntimeWarning:overflow encountered in true_divide\n",
      " /Users/Matteo/opt/anaconda3/envs/ml_and_physical/lib/python3.8/site-packages/GPy/kern/src/rbf.py:52: RuntimeWarning:overflow encountered in square\n",
      " /Users/Matteo/opt/anaconda3/envs/ml_and_physical/lib/python3.8/site-packages/GPy/kern/src/rbf.py:76: RuntimeWarning:invalid value encountered in multiply\n"
     ]
    },
    {
     "name": "stdout",
     "output_type": "stream",
     "text": [
      "Optimization restart 2/5, f = 3313.2306156919453\n",
      "Optimization restart 3/5, f = 3293.143215006382\n",
      "Optimization restart 4/5, f = 3293.143215394792\n",
      "Optimization restart 5/5, f = 3391.992601243046\n",
      "[[20.   8.  70.   1.   1.5]]\n",
      "\n",
      "User function emissions called with 1 inputs to simulate\n",
      "\n",
      "Evaluating input: 1 of 1\n",
      "\n",
      " Retrying in 1 seconds\n",
      "\n",
      "Output 1662.044947592042\n",
      "\n"
     ]
    },
    {
     "name": "stderr",
     "output_type": "stream",
     "text": [
      " /Users/Matteo/opt/anaconda3/envs/ml_and_physical/lib/python3.8/site-packages/paramz/transformations.py:111: RuntimeWarning:overflow encountered in expm1\n"
     ]
    },
    {
     "name": "stdout",
     "output_type": "stream",
     "text": [
      "Optimization restart 1/5, f = 3298.308475196857\n",
      "Optimization restart 2/5, f = 3298.3074961084003\n"
     ]
    },
    {
     "name": "stderr",
     "output_type": "stream",
     "text": [
      " /Users/Matteo/opt/anaconda3/envs/ml_and_physical/lib/python3.8/site-packages/GPy/kern/src/stationary.py:168: RuntimeWarning:overflow encountered in true_divide\n",
      " /Users/Matteo/opt/anaconda3/envs/ml_and_physical/lib/python3.8/site-packages/GPy/kern/src/rbf.py:52: RuntimeWarning:overflow encountered in square\n",
      " /Users/Matteo/opt/anaconda3/envs/ml_and_physical/lib/python3.8/site-packages/GPy/kern/src/rbf.py:76: RuntimeWarning:invalid value encountered in multiply\n"
     ]
    },
    {
     "name": "stdout",
     "output_type": "stream",
     "text": [
      "Optimization restart 3/5, f = 4700.922771535755\n",
      "Optimization restart 4/5, f = 3298.307496114675\n",
      "Optimization restart 5/5, f = 3298.307496111575\n",
      "[[20.   8.  70.   1.   1.5]]\n",
      "\n",
      "User function emissions called with 1 inputs to simulate\n",
      "\n",
      "Evaluating input: 1 of 1\n",
      "\n",
      " Retrying in 1 seconds\n",
      "\n",
      "Output 1662.044947592042\n",
      "\n"
     ]
    },
    {
     "name": "stderr",
     "output_type": "stream",
     "text": [
      " /Users/Matteo/opt/anaconda3/envs/ml_and_physical/lib/python3.8/site-packages/paramz/transformations.py:111: RuntimeWarning:overflow encountered in expm1\n"
     ]
    },
    {
     "name": "stdout",
     "output_type": "stream",
     "text": [
      "Optimization restart 1/5, f = 3303.46140559935\n"
     ]
    },
    {
     "name": "stderr",
     "output_type": "stream",
     "text": [
      " /Users/Matteo/opt/anaconda3/envs/ml_and_physical/lib/python3.8/site-packages/GPy/kern/src/rbf.py:52: RuntimeWarning:overflow encountered in square\n"
     ]
    },
    {
     "name": "stdout",
     "output_type": "stream",
     "text": [
      "Optimization restart 2/5, f = 3345.217560128921\n",
      "Optimization restart 3/5, f = 3303.460433556198\n",
      "Optimization restart 4/5, f = 3303.4604308639596\n",
      "Optimization restart 5/5, f = 3303.460431535638\n",
      "[[20.   8.  70.   1.   1.5]]\n",
      "\n",
      "User function emissions called with 1 inputs to simulate\n",
      "\n",
      "Evaluating input: 1 of 1\n",
      "\n",
      " Retrying in 1 seconds\n",
      "\n",
      "Output 1662.044947592042\n",
      "\n"
     ]
    },
    {
     "name": "stderr",
     "output_type": "stream",
     "text": [
      " /Users/Matteo/opt/anaconda3/envs/ml_and_physical/lib/python3.8/site-packages/paramz/transformations.py:111: RuntimeWarning:overflow encountered in expm1\n"
     ]
    },
    {
     "name": "stdout",
     "output_type": "stream",
     "text": [
      "Optimization restart 1/5, f = 3308.605132042382\n",
      "Optimization restart 2/5, f = 4037.768234675128\n"
     ]
    },
    {
     "name": "stderr",
     "output_type": "stream",
     "text": [
      " /Users/Matteo/opt/anaconda3/envs/ml_and_physical/lib/python3.8/site-packages/GPy/kern/src/stationary.py:168: RuntimeWarning:overflow encountered in true_divide\n",
      " /Users/Matteo/opt/anaconda3/envs/ml_and_physical/lib/python3.8/site-packages/GPy/kern/src/rbf.py:52: RuntimeWarning:overflow encountered in square\n",
      " /Users/Matteo/opt/anaconda3/envs/ml_and_physical/lib/python3.8/site-packages/GPy/kern/src/rbf.py:76: RuntimeWarning:invalid value encountered in multiply\n"
     ]
    },
    {
     "name": "stdout",
     "output_type": "stream",
     "text": [
      "Optimization restart 3/5, f = 3314.8942795808566\n",
      "Optimization restart 4/5, f = 3308.6041517534286\n",
      "Optimization restart 5/5, f = 3308.6041517472086\n",
      "[[20.   8.  70.   1.   1.5]]\n",
      "\n",
      "User function emissions called with 1 inputs to simulate\n",
      "\n",
      "Evaluating input: 1 of 1\n",
      "\n",
      " Retrying in 1 seconds\n",
      "\n",
      "Output 1662.044947592042\n",
      "\n"
     ]
    },
    {
     "name": "stderr",
     "output_type": "stream",
     "text": [
      " /Users/Matteo/opt/anaconda3/envs/ml_and_physical/lib/python3.8/site-packages/paramz/transformations.py:111: RuntimeWarning:overflow encountered in expm1\n"
     ]
    },
    {
     "name": "stdout",
     "output_type": "stream",
     "text": [
      "Optimization restart 1/5, f = 3313.741112292363\n"
     ]
    },
    {
     "name": "stderr",
     "output_type": "stream",
     "text": [
      " /Users/Matteo/opt/anaconda3/envs/ml_and_physical/lib/python3.8/site-packages/GPy/kern/src/rbf.py:52: RuntimeWarning:overflow encountered in square\n"
     ]
    },
    {
     "name": "stdout",
     "output_type": "stream",
     "text": [
      "Optimization restart 2/5, f = 3313.740147409565\n",
      "Optimization restart 3/5, f = 3313.740147261114\n",
      "Optimization restart 4/5, f = 3313.740147254167\n",
      "Optimization restart 5/5, f = 3313.740147250808\n",
      "[[20.   8.  70.   1.   1.5]]\n",
      "\n",
      "User function emissions called with 1 inputs to simulate\n",
      "\n",
      "Evaluating input: 1 of 1\n",
      "\n",
      " Retrying in 1 seconds\n",
      "\n",
      "Output 1662.044947592042\n",
      "\n"
     ]
    },
    {
     "name": "stderr",
     "output_type": "stream",
     "text": [
      " /Users/Matteo/opt/anaconda3/envs/ml_and_physical/lib/python3.8/site-packages/paramz/transformations.py:111: RuntimeWarning:overflow encountered in expm1\n"
     ]
    },
    {
     "name": "stdout",
     "output_type": "stream",
     "text": [
      "Optimization restart 1/5, f = 3318.8704590569787\n",
      "Optimization restart 2/5, f = 3318.869499105623\n",
      "Optimization restart 3/5, f = 3318.869499154086\n"
     ]
    },
    {
     "name": "stderr",
     "output_type": "stream",
     "text": [
      " /Users/Matteo/opt/anaconda3/envs/ml_and_physical/lib/python3.8/site-packages/GPy/kern/src/rbf.py:52: RuntimeWarning:overflow encountered in square\n"
     ]
    },
    {
     "name": "stdout",
     "output_type": "stream",
     "text": [
      "Optimization restart 4/5, f = 3688.197220898578\n",
      "Optimization restart 5/5, f = 3318.8694991065727\n",
      "[[20.   8.  70.   1.   1.5]]\n",
      "\n",
      "User function emissions called with 1 inputs to simulate\n",
      "\n",
      "Evaluating input: 1 of 1\n",
      "\n",
      " Retrying in 1 seconds\n",
      "\n",
      "Output 1662.044947592042\n",
      "\n"
     ]
    },
    {
     "name": "stderr",
     "output_type": "stream",
     "text": [
      " /Users/Matteo/opt/anaconda3/envs/ml_and_physical/lib/python3.8/site-packages/paramz/transformations.py:111: RuntimeWarning:overflow encountered in expm1\n"
     ]
    },
    {
     "name": "stdout",
     "output_type": "stream",
     "text": [
      "Optimization restart 1/5, f = 3323.993971312543\n"
     ]
    },
    {
     "name": "stderr",
     "output_type": "stream",
     "text": [
      " /Users/Matteo/opt/anaconda3/envs/ml_and_physical/lib/python3.8/site-packages/GPy/kern/src/stationary.py:168: RuntimeWarning:overflow encountered in true_divide\n",
      " /Users/Matteo/opt/anaconda3/envs/ml_and_physical/lib/python3.8/site-packages/GPy/kern/src/rbf.py:52: RuntimeWarning:overflow encountered in square\n",
      " /Users/Matteo/opt/anaconda3/envs/ml_and_physical/lib/python3.8/site-packages/GPy/kern/src/rbf.py:76: RuntimeWarning:invalid value encountered in multiply\n"
     ]
    },
    {
     "name": "stdout",
     "output_type": "stream",
     "text": [
      "Optimization restart 2/5, f = 3381.822609570767\n",
      "Optimization restart 3/5, f = 3331.6501513926555\n",
      "Optimization restart 4/5, f = 4030.659869399451\n",
      "Optimization restart 5/5, f = 3323.9930197397744\n",
      "[[20.          8.         50.68295037  3.          1.5       ]]\n",
      "\n",
      "User function emissions called with 1 inputs to simulate\n",
      "\n",
      "Evaluating input: 1 of 1\n",
      "\n",
      " Retrying in 1 seconds\n",
      "\n",
      "Output 1811.364686212539\n",
      "\n"
     ]
    },
    {
     "name": "stderr",
     "output_type": "stream",
     "text": [
      " /Users/Matteo/opt/anaconda3/envs/ml_and_physical/lib/python3.8/site-packages/paramz/transformations.py:111: RuntimeWarning:overflow encountered in expm1\n"
     ]
    },
    {
     "name": "stdout",
     "output_type": "stream",
     "text": [
      "Optimization restart 1/5, f = 3329.4256017232383\n",
      "Optimization restart 2/5, f = 3329.4254117844766\n",
      "Optimization restart 3/5, f = 3329.4254162934767\n",
      "Optimization restart 4/5, f = 3329.4254119085176\n",
      "Optimization restart 5/5, f = 3329.425411804681\n",
      "[[20.   8.  70.   1.   1.5]]\n",
      "\n",
      "User function emissions called with 1 inputs to simulate\n",
      "\n",
      "Evaluating input: 1 of 1\n",
      "\n",
      " Retrying in 1 seconds\n",
      "\n",
      "Output 1662.044947592042\n",
      "\n"
     ]
    },
    {
     "name": "stderr",
     "output_type": "stream",
     "text": [
      " /Users/Matteo/opt/anaconda3/envs/ml_and_physical/lib/python3.8/site-packages/paramz/transformations.py:111: RuntimeWarning:overflow encountered in expm1\n"
     ]
    },
    {
     "name": "stdout",
     "output_type": "stream",
     "text": [
      "Optimization restart 1/5, f = 3334.5439379422905\n",
      "Optimization restart 2/5, f = 3334.543127201925\n",
      "Optimization restart 3/5, f = 3334.543149965192\n",
      "Optimization restart 4/5, f = 3334.543011801505\n",
      "Optimization restart 5/5, f = 3334.5430115949234\n",
      "[[20.   8.  70.   1.   1.5]]\n",
      "\n",
      "User function emissions called with 1 inputs to simulate\n",
      "\n",
      "Evaluating input: 1 of 1\n",
      "\n",
      " Retrying in 1 seconds\n",
      "\n",
      "Output 1662.044947592042\n",
      "\n"
     ]
    },
    {
     "name": "stderr",
     "output_type": "stream",
     "text": [
      " /Users/Matteo/opt/anaconda3/envs/ml_and_physical/lib/python3.8/site-packages/paramz/transformations.py:111: RuntimeWarning:overflow encountered in expm1\n"
     ]
    },
    {
     "name": "stdout",
     "output_type": "stream",
     "text": [
      "Optimization restart 1/5, f = 3339.6568453367213\n"
     ]
    },
    {
     "name": "stderr",
     "output_type": "stream",
     "text": [
      " /Users/Matteo/opt/anaconda3/envs/ml_and_physical/lib/python3.8/site-packages/GPy/kern/src/stationary.py:168: RuntimeWarning:overflow encountered in true_divide\n",
      " /Users/Matteo/opt/anaconda3/envs/ml_and_physical/lib/python3.8/site-packages/GPy/kern/src/rbf.py:52: RuntimeWarning:overflow encountered in square\n",
      " /Users/Matteo/opt/anaconda3/envs/ml_and_physical/lib/python3.8/site-packages/GPy/kern/src/rbf.py:76: RuntimeWarning:invalid value encountered in multiply\n"
     ]
    },
    {
     "name": "stdout",
     "output_type": "stream",
     "text": [
      "Optimization restart 2/5, f = 4699.869554750887\n",
      "Optimization restart 3/5, f = 3339.655918277287\n",
      "Optimization restart 4/5, f = 4067.0071167802894\n",
      "Optimization restart 5/5, f = 3339.655918789897\n",
      "[[20.   8.  70.   1.   1.5]]\n",
      "\n",
      "User function emissions called with 1 inputs to simulate\n",
      "\n",
      "Evaluating input: 1 of 1\n",
      "\n",
      " Retrying in 1 seconds\n",
      "\n",
      "Output 1662.044947592042\n",
      "\n"
     ]
    },
    {
     "name": "stderr",
     "output_type": "stream",
     "text": [
      " /Users/Matteo/opt/anaconda3/envs/ml_and_physical/lib/python3.8/site-packages/paramz/transformations.py:111: RuntimeWarning:overflow encountered in expm1\n"
     ]
    },
    {
     "name": "stdout",
     "output_type": "stream",
     "text": [
      "Optimization restart 1/5, f = 3344.7654499622554\n",
      "Optimization restart 2/5, f = 3344.7645280488496\n",
      "Optimization restart 3/5, f = 3344.7645281179994\n"
     ]
    },
    {
     "name": "stderr",
     "output_type": "stream",
     "text": [
      " /Users/Matteo/opt/anaconda3/envs/ml_and_physical/lib/python3.8/site-packages/GPy/kern/src/rbf.py:52: RuntimeWarning:overflow encountered in square\n"
     ]
    },
    {
     "name": "stdout",
     "output_type": "stream",
     "text": [
      "Optimization restart 4/5, f = 3344.7645286438315\n",
      "Optimization restart 5/5, f = 3344.7645280406296\n",
      "[[20.   8.  70.   1.   1.5]]\n",
      "\n",
      "User function emissions called with 1 inputs to simulate\n",
      "\n",
      "Evaluating input: 1 of 1\n",
      "\n",
      " Retrying in 1 seconds\n",
      "\n",
      "Output 1662.044947592042\n",
      "\n"
     ]
    },
    {
     "name": "stderr",
     "output_type": "stream",
     "text": [
      " /Users/Matteo/opt/anaconda3/envs/ml_and_physical/lib/python3.8/site-packages/paramz/transformations.py:111: RuntimeWarning:overflow encountered in expm1\n"
     ]
    },
    {
     "name": "stdout",
     "output_type": "stream",
     "text": [
      "Optimization restart 1/5, f = 3349.870077062483\n",
      "Optimization restart 2/5, f = 3410.541546941725\n",
      "Optimization restart 3/5, f = 3349.8691646980574\n",
      "Optimization restart 4/5, f = 3349.8691647154383\n",
      "Optimization restart 5/5, f = 3349.8691647096816\n",
      "[[20.   8.  70.   1.   1.5]]\n",
      "\n",
      "User function emissions called with 1 inputs to simulate\n",
      "\n",
      "Evaluating input: 1 of 1\n",
      "\n",
      " Retrying in 1 seconds\n",
      "\n",
      "Output 1662.044947592042\n",
      "\n"
     ]
    },
    {
     "name": "stderr",
     "output_type": "stream",
     "text": [
      " /Users/Matteo/opt/anaconda3/envs/ml_and_physical/lib/python3.8/site-packages/paramz/transformations.py:111: RuntimeWarning:overflow encountered in expm1\n"
     ]
    },
    {
     "name": "stdout",
     "output_type": "stream",
     "text": [
      "Optimization restart 1/5, f = 3354.9710028637955\n",
      "Optimization restart 2/5, f = 3354.970096656592\n",
      "Optimization restart 3/5, f = 3354.970096656442\n",
      "Optimization restart 4/5, f = 3354.9700966583737\n",
      "Optimization restart 5/5, f = 3354.970096718022\n",
      "[[20.   8.  70.   1.   1.5]]\n",
      "\n",
      "User function emissions called with 1 inputs to simulate\n",
      "\n",
      "Evaluating input: 1 of 1\n",
      "\n",
      " Retrying in 1 seconds\n",
      "\n",
      "Output 1662.044947592042\n",
      "\n"
     ]
    },
    {
     "name": "stderr",
     "output_type": "stream",
     "text": [
      " /Users/Matteo/opt/anaconda3/envs/ml_and_physical/lib/python3.8/site-packages/paramz/transformations.py:111: RuntimeWarning:overflow encountered in expm1\n"
     ]
    },
    {
     "name": "stdout",
     "output_type": "stream",
     "text": [
      "Optimization restart 1/5, f = 3360.068450512923\n",
      "Optimization restart 2/5, f = 3360.0675504695805\n"
     ]
    },
    {
     "name": "stderr",
     "output_type": "stream",
     "text": [
      " /Users/Matteo/opt/anaconda3/envs/ml_and_physical/lib/python3.8/site-packages/GPy/kern/src/stationary.py:168: RuntimeWarning:overflow encountered in true_divide\n",
      " /Users/Matteo/opt/anaconda3/envs/ml_and_physical/lib/python3.8/site-packages/GPy/kern/src/rbf.py:52: RuntimeWarning:overflow encountered in square\n",
      " /Users/Matteo/opt/anaconda3/envs/ml_and_physical/lib/python3.8/site-packages/GPy/kern/src/rbf.py:76: RuntimeWarning:invalid value encountered in multiply\n"
     ]
    },
    {
     "name": "stdout",
     "output_type": "stream",
     "text": [
      "Optimization restart 3/5, f = 4697.320048156607\n",
      "Optimization restart 4/5, f = 3360.0675492459395\n",
      "Optimization restart 5/5, f = 3360.9391674381836\n",
      "[[20.   8.  30.   1.   1.5]]\n",
      "\n",
      "User function emissions called with 1 inputs to simulate\n",
      "\n",
      "Evaluating input: 1 of 1\n",
      "\n",
      " Retrying in 1 seconds\n",
      "\n",
      "Output 1938.5044198865419\n",
      "\n"
     ]
    },
    {
     "name": "stderr",
     "output_type": "stream",
     "text": [
      " /Users/Matteo/opt/anaconda3/envs/ml_and_physical/lib/python3.8/site-packages/paramz/transformations.py:111: RuntimeWarning:overflow encountered in expm1\n"
     ]
    },
    {
     "name": "stdout",
     "output_type": "stream",
     "text": [
      "Optimization restart 1/5, f = 3365.8634019362303\n",
      "Optimization restart 2/5, f = 3365.863176578662\n",
      "Optimization restart 3/5, f = 3365.863176746676\n"
     ]
    },
    {
     "name": "stderr",
     "output_type": "stream",
     "text": [
      " /Users/Matteo/opt/anaconda3/envs/ml_and_physical/lib/python3.8/site-packages/GPy/kern/src/stationary.py:168: RuntimeWarning:overflow encountered in true_divide\n",
      " /Users/Matteo/opt/anaconda3/envs/ml_and_physical/lib/python3.8/site-packages/GPy/kern/src/rbf.py:52: RuntimeWarning:overflow encountered in square\n",
      " /Users/Matteo/opt/anaconda3/envs/ml_and_physical/lib/python3.8/site-packages/GPy/kern/src/rbf.py:76: RuntimeWarning:invalid value encountered in multiply\n"
     ]
    },
    {
     "name": "stdout",
     "output_type": "stream",
     "text": [
      "Optimization restart 4/5, f = 4769.142029238214\n",
      "Optimization restart 5/5, f = 6352.441911954162\n",
      "[[20.   8.  70.   1.   1.5]]\n",
      "\n",
      "User function emissions called with 1 inputs to simulate\n",
      "\n",
      "Evaluating input: 1 of 1\n",
      "\n",
      " Retrying in 1 seconds\n",
      "\n",
      "Output 1662.044947592042\n",
      "\n"
     ]
    },
    {
     "name": "stderr",
     "output_type": "stream",
     "text": [
      " /Users/Matteo/opt/anaconda3/envs/ml_and_physical/lib/python3.8/site-packages/paramz/transformations.py:111: RuntimeWarning:overflow encountered in expm1\n"
     ]
    },
    {
     "name": "stdout",
     "output_type": "stream",
     "text": [
      "Optimization restart 1/5, f = 3370.9573488740753\n",
      "Optimization restart 2/5, f = 3370.9564500885435\n",
      "Optimization restart 3/5, f = 3370.9564500927086\n",
      "Optimization restart 4/5, f = 4180.847139257883\n",
      "Optimization restart 5/5, f = 3716.1381053527184\n",
      "[[20.   8.  70.   1.   1.5]]\n",
      "\n",
      "User function emissions called with 1 inputs to simulate\n",
      "\n",
      "Evaluating input: 1 of 1\n",
      "\n",
      " Retrying in 1 seconds\n",
      "\n",
      "Output 1662.044947592042\n",
      "\n"
     ]
    },
    {
     "name": "stderr",
     "output_type": "stream",
     "text": [
      " /Users/Matteo/opt/anaconda3/envs/ml_and_physical/lib/python3.8/site-packages/paramz/transformations.py:111: RuntimeWarning:overflow encountered in expm1\n"
     ]
    },
    {
     "name": "stdout",
     "output_type": "stream",
     "text": [
      "Optimization restart 1/5, f = 3376.0474875373598\n",
      "Optimization restart 2/5, f = 3376.0466003883976\n"
     ]
    },
    {
     "name": "stderr",
     "output_type": "stream",
     "text": [
      " /Users/Matteo/opt/anaconda3/envs/ml_and_physical/lib/python3.8/site-packages/GPy/kern/src/stationary.py:168: RuntimeWarning:overflow encountered in true_divide\n",
      " /Users/Matteo/opt/anaconda3/envs/ml_and_physical/lib/python3.8/site-packages/GPy/kern/src/rbf.py:52: RuntimeWarning:overflow encountered in square\n",
      " /Users/Matteo/opt/anaconda3/envs/ml_and_physical/lib/python3.8/site-packages/GPy/kern/src/rbf.py:76: RuntimeWarning:invalid value encountered in multiply\n"
     ]
    },
    {
     "name": "stdout",
     "output_type": "stream",
     "text": [
      "Optimization restart 3/5, f = 252989.55375879953\n",
      "Optimization restart 4/5, f = 4177.407293751452\n",
      "Optimization restart 5/5, f = 3376.0466003947854\n",
      "[[20.   8.  70.   1.   1.5]]\n",
      "\n",
      "User function emissions called with 1 inputs to simulate\n",
      "\n",
      "Evaluating input: 1 of 1\n",
      "\n",
      " Retrying in 1 seconds\n",
      "\n",
      "Output 1662.044947592042\n",
      "\n"
     ]
    },
    {
     "name": "stderr",
     "output_type": "stream",
     "text": [
      " /Users/Matteo/opt/anaconda3/envs/ml_and_physical/lib/python3.8/site-packages/paramz/transformations.py:111: RuntimeWarning:overflow encountered in expm1\n"
     ]
    },
    {
     "name": "stdout",
     "output_type": "stream",
     "text": [
      "Optimization restart 1/5, f = 3381.134655986939\n"
     ]
    },
    {
     "name": "stderr",
     "output_type": "stream",
     "text": [
      " /Users/Matteo/opt/anaconda3/envs/ml_and_physical/lib/python3.8/site-packages/GPy/kern/src/rbf.py:52: RuntimeWarning:overflow encountered in square\n"
     ]
    },
    {
     "name": "stdout",
     "output_type": "stream",
     "text": [
      "Optimization restart 2/5, f = 3381.1337695520247\n"
     ]
    },
    {
     "name": "stderr",
     "output_type": "stream",
     "text": [
      " /Users/Matteo/opt/anaconda3/envs/ml_and_physical/lib/python3.8/site-packages/GPy/kern/src/stationary.py:168: RuntimeWarning:overflow encountered in true_divide\n",
      " /Users/Matteo/opt/anaconda3/envs/ml_and_physical/lib/python3.8/site-packages/GPy/kern/src/rbf.py:76: RuntimeWarning:invalid value encountered in multiply\n"
     ]
    },
    {
     "name": "stdout",
     "output_type": "stream",
     "text": [
      "Optimization restart 3/5, f = 3381.7738323973795\n",
      "Optimization restart 4/5, f = 3381.133772796604\n",
      "Optimization restart 5/5, f = 3388.28611793666\n"
     ]
    }
   ],
   "source": [
    "bo_random_init = BayesianOptimizationLoop(parameter_space, emukit_model_random_init, acquisition=acquisition_random_init)\n",
    "bo_random_init.run_loop(user_function_emissions, n_iter_bo)"
   ]
  },
  {
   "cell_type": "code",
   "execution_count": 24,
   "metadata": {},
   "outputs": [
    {
     "name": "stdout",
     "output_type": "stream",
     "text": [
      "Optimization restart 1/5, f = 2932.1184404617716\n",
      "Optimization restart 2/5, f = 2932.1431272440227\n",
      "Optimization restart 3/5, f = 2937.248586249671\n",
      "Optimization restart 4/5, f = 2937.248586253984\n",
      "Optimization restart 5/5, f = 2937.248586250742\n",
      "[[14.          8.45953658 63.94908114  1.          1.9438681 ]]\n",
      "\n",
      "User function emissions called with 1 inputs to simulate\n",
      "\n",
      "Evaluating input: 1 of 1\n",
      "\n",
      " Retrying in 1 seconds\n",
      "\n",
      "Output 1859.836003690793\n",
      "\n"
     ]
    },
    {
     "name": "stderr",
     "output_type": "stream",
     "text": [
      " /Users/Matteo/opt/anaconda3/envs/ml_and_physical/lib/python3.8/site-packages/paramz/transformations.py:111: RuntimeWarning:overflow encountered in expm1\n"
     ]
    },
    {
     "name": "stdout",
     "output_type": "stream",
     "text": [
      "Optimization restart 1/5, f = 2946.056239482815\n",
      "Optimization restart 2/5, f = 2945.9498722598605\n",
      "Optimization restart 3/5, f = 2945.759725660637\n",
      "Optimization restart 4/5, f = 2945.94355181051\n"
     ]
    },
    {
     "name": "stderr",
     "output_type": "stream",
     "text": [
      " /Users/Matteo/opt/anaconda3/envs/ml_and_physical/lib/python3.8/site-packages/GPy/kern/src/stationary.py:168: RuntimeWarning:overflow encountered in true_divide\n",
      " /Users/Matteo/opt/anaconda3/envs/ml_and_physical/lib/python3.8/site-packages/GPy/kern/src/rbf.py:76: RuntimeWarning:invalid value encountered in multiply\n"
     ]
    },
    {
     "name": "stdout",
     "output_type": "stream",
     "text": [
      "Optimization restart 5/5, f = 3662.0790115098375\n",
      "[[15.          8.         65.73244627  1.          1.5       ]]\n",
      "\n",
      "User function emissions called with 1 inputs to simulate\n",
      "\n",
      "Evaluating input: 1 of 1\n",
      "\n",
      " Retrying in 1 seconds\n",
      "\n",
      "Output 1728.5867178738658\n",
      "\n"
     ]
    },
    {
     "name": "stderr",
     "output_type": "stream",
     "text": [
      " /Users/Matteo/opt/anaconda3/envs/ml_and_physical/lib/python3.8/site-packages/paramz/transformations.py:111: RuntimeWarning:overflow encountered in expm1\n"
     ]
    },
    {
     "name": "stdout",
     "output_type": "stream",
     "text": [
      "Optimization restart 1/5, f = 2957.2445833415777\n",
      "Optimization restart 2/5, f = 2957.2394114022586\n",
      "Optimization restart 3/5, f = 2957.239411403693\n",
      "Optimization restart 4/5, f = 2957.2394177002802\n"
     ]
    },
    {
     "name": "stderr",
     "output_type": "stream",
     "text": [
      " /Users/Matteo/opt/anaconda3/envs/ml_and_physical/lib/python3.8/site-packages/GPy/kern/src/stationary.py:168: RuntimeWarning:overflow encountered in true_divide\n",
      " /Users/Matteo/opt/anaconda3/envs/ml_and_physical/lib/python3.8/site-packages/GPy/kern/src/rbf.py:76: RuntimeWarning:invalid value encountered in multiply\n"
     ]
    },
    {
     "name": "stdout",
     "output_type": "stream",
     "text": [
      "Optimization restart 5/5, f = 136430.11738855025\n",
      "[[15.          8.         65.95496377  1.          1.5       ]]\n",
      "\n",
      "User function emissions called with 1 inputs to simulate\n",
      "\n",
      "Evaluating input: 1 of 1\n",
      "\n",
      " Retrying in 1 seconds\n",
      "\n",
      "Output 1721.701884176799\n",
      "\n"
     ]
    },
    {
     "name": "stderr",
     "output_type": "stream",
     "text": [
      " /Users/Matteo/opt/anaconda3/envs/ml_and_physical/lib/python3.8/site-packages/paramz/transformations.py:111: RuntimeWarning:overflow encountered in expm1\n"
     ]
    },
    {
     "name": "stdout",
     "output_type": "stream",
     "text": [
      "Optimization restart 1/5, f = 2967.2889512370493\n",
      "Optimization restart 2/5, f = 2967.288480191212\n",
      "Optimization restart 3/5, f = 2967.2884411188297\n",
      "Optimization restart 4/5, f = 2967.2884411255195\n",
      "Optimization restart 5/5, f = 2967.2884413580978\n",
      "[[15.          8.         66.05360921  1.          1.5       ]]\n",
      "\n",
      "User function emissions called with 1 inputs to simulate\n",
      "\n",
      "Evaluating input: 1 of 1\n",
      "\n",
      " Retrying in 1 seconds\n",
      "\n",
      "Output 1729.5930742839564\n",
      "\n"
     ]
    },
    {
     "name": "stderr",
     "output_type": "stream",
     "text": [
      " /Users/Matteo/opt/anaconda3/envs/ml_and_physical/lib/python3.8/site-packages/paramz/transformations.py:111: RuntimeWarning:overflow encountered in expm1\n"
     ]
    },
    {
     "name": "stdout",
     "output_type": "stream",
     "text": [
      "Optimization restart 1/5, f = 2975.640010396599\n",
      "Optimization restart 2/5, f = 2975.6340329193927\n"
     ]
    },
    {
     "name": "stderr",
     "output_type": "stream",
     "text": [
      " /Users/Matteo/opt/anaconda3/envs/ml_and_physical/lib/python3.8/site-packages/GPy/kern/src/rbf.py:52: RuntimeWarning:overflow encountered in square\n"
     ]
    },
    {
     "name": "stdout",
     "output_type": "stream",
     "text": [
      "Optimization restart 3/5, f = 2975.634032910816\n"
     ]
    },
    {
     "name": "stderr",
     "output_type": "stream",
     "text": [
      " /Users/Matteo/opt/anaconda3/envs/ml_and_physical/lib/python3.8/site-packages/GPy/kern/src/stationary.py:168: RuntimeWarning:overflow encountered in true_divide\n",
      " /Users/Matteo/opt/anaconda3/envs/ml_and_physical/lib/python3.8/site-packages/GPy/kern/src/rbf.py:76: RuntimeWarning:invalid value encountered in multiply\n"
     ]
    },
    {
     "name": "stdout",
     "output_type": "stream",
     "text": [
      "Optimization restart 4/5, f = 13928.760947154326\n",
      "Optimization restart 5/5, f = 2975.6340329651675\n",
      "[[15.          8.         66.11666204  1.          1.5       ]]\n",
      "\n",
      "User function emissions called with 1 inputs to simulate\n",
      "\n",
      "Evaluating input: 1 of 1\n",
      "\n",
      " Retrying in 1 seconds\n",
      "\n",
      "Output 1724.0383691423508\n",
      "\n"
     ]
    },
    {
     "name": "stderr",
     "output_type": "stream",
     "text": [
      " /Users/Matteo/opt/anaconda3/envs/ml_and_physical/lib/python3.8/site-packages/paramz/transformations.py:111: RuntimeWarning:overflow encountered in expm1\n"
     ]
    },
    {
     "name": "stdout",
     "output_type": "stream",
     "text": [
      "Optimization restart 1/5, f = 2983.4799528608974\n",
      "Optimization restart 2/5, f = 2983.4773356159185\n",
      "Optimization restart 3/5, f = 2983.4773346527545\n",
      "Optimization restart 4/5, f = 2983.477334614445\n",
      "Optimization restart 5/5, f = 2983.477334604168\n",
      "[[15.          8.         66.16651555  1.          1.5       ]]\n",
      "\n",
      "User function emissions called with 1 inputs to simulate\n",
      "\n",
      "Evaluating input: 1 of 1\n",
      "\n",
      " Retrying in 1 seconds\n",
      "\n",
      "Output 1731.2845783224395\n",
      "\n"
     ]
    },
    {
     "name": "stderr",
     "output_type": "stream",
     "text": [
      " /Users/Matteo/opt/anaconda3/envs/ml_and_physical/lib/python3.8/site-packages/paramz/transformations.py:111: RuntimeWarning:overflow encountered in expm1\n"
     ]
    },
    {
     "name": "stdout",
     "output_type": "stream",
     "text": [
      "Optimization restart 1/5, f = 2990.4111176607835\n",
      "Optimization restart 2/5, f = 2990.410835593419\n",
      "Optimization restart 3/5, f = 3967.467325296776\n"
     ]
    },
    {
     "name": "stderr",
     "output_type": "stream",
     "text": [
      " /Users/Matteo/opt/anaconda3/envs/ml_and_physical/lib/python3.8/site-packages/GPy/kern/src/rbf.py:52: RuntimeWarning:overflow encountered in square\n"
     ]
    },
    {
     "name": "stdout",
     "output_type": "stream",
     "text": [
      "Optimization restart 4/5, f = 2990.4108356919537\n",
      "Optimization restart 5/5, f = 2990.4108355829685\n",
      "[[12.          8.14023381 58.31832823  1.          2.12997339]]\n",
      "\n",
      "User function emissions called with 1 inputs to simulate\n",
      "\n",
      "Evaluating input: 1 of 1\n",
      "\n",
      " Retrying in 1 seconds\n",
      "\n",
      "Output 1867.6801007858899\n",
      "\n"
     ]
    },
    {
     "name": "stderr",
     "output_type": "stream",
     "text": [
      " /Users/Matteo/opt/anaconda3/envs/ml_and_physical/lib/python3.8/site-packages/paramz/transformations.py:111: RuntimeWarning:overflow encountered in expm1\n"
     ]
    },
    {
     "name": "stdout",
     "output_type": "stream",
     "text": [
      "Optimization restart 1/5, f = 2997.4928408610012\n"
     ]
    },
    {
     "name": "stderr",
     "output_type": "stream",
     "text": [
      " /Users/Matteo/opt/anaconda3/envs/ml_and_physical/lib/python3.8/site-packages/GPy/kern/src/stationary.py:168: RuntimeWarning:overflow encountered in true_divide\n",
      " /Users/Matteo/opt/anaconda3/envs/ml_and_physical/lib/python3.8/site-packages/GPy/kern/src/rbf.py:52: RuntimeWarning:overflow encountered in square\n",
      " /Users/Matteo/opt/anaconda3/envs/ml_and_physical/lib/python3.8/site-packages/GPy/kern/src/rbf.py:76: RuntimeWarning:invalid value encountered in multiply\n"
     ]
    },
    {
     "name": "stdout",
     "output_type": "stream",
     "text": [
      "Optimization restart 2/5, f = 4101.475930505298\n",
      "Optimization restart 3/5, f = 2997.491399889953\n",
      "Optimization restart 4/5, f = 3976.915215242147\n",
      "Optimization restart 5/5, f = 3977.2067160640117\n",
      "[[15.          8.         65.84365381  1.          1.5       ]]\n",
      "\n",
      "User function emissions called with 1 inputs to simulate\n",
      "\n",
      "Evaluating input: 1 of 1\n",
      "\n",
      " Retrying in 1 seconds\n",
      "\n",
      "Output 1731.3288640319413\n",
      "\n"
     ]
    },
    {
     "name": "stderr",
     "output_type": "stream",
     "text": [
      " /Users/Matteo/opt/anaconda3/envs/ml_and_physical/lib/python3.8/site-packages/paramz/transformations.py:111: RuntimeWarning:overflow encountered in expm1\n"
     ]
    },
    {
     "name": "stdout",
     "output_type": "stream",
     "text": [
      "Optimization restart 1/5, f = 3003.91378287311\n",
      "Optimization restart 2/5, f = 3003.913659144264\n"
     ]
    },
    {
     "name": "stderr",
     "output_type": "stream",
     "text": [
      " /Users/Matteo/opt/anaconda3/envs/ml_and_physical/lib/python3.8/site-packages/GPy/kern/src/stationary.py:168: RuntimeWarning:overflow encountered in true_divide\n",
      " /Users/Matteo/opt/anaconda3/envs/ml_and_physical/lib/python3.8/site-packages/GPy/kern/src/rbf.py:52: RuntimeWarning:overflow encountered in square\n",
      " /Users/Matteo/opt/anaconda3/envs/ml_and_physical/lib/python3.8/site-packages/GPy/kern/src/rbf.py:76: RuntimeWarning:invalid value encountered in multiply\n"
     ]
    },
    {
     "name": "stdout",
     "output_type": "stream",
     "text": [
      "Optimization restart 3/5, f = 3567.5882100584727\n",
      "Optimization restart 4/5, f = 3687.311286973194\n",
      "Optimization restart 5/5, f = 9166.931658267851\n",
      "[[15.          8.         65.85852408  1.          1.5       ]]\n",
      "\n",
      "User function emissions called with 1 inputs to simulate\n",
      "\n",
      "Evaluating input: 1 of 1\n",
      "\n",
      " Retrying in 1 seconds\n",
      "\n",
      "Output 1726.9614673913024\n",
      "\n"
     ]
    },
    {
     "name": "stderr",
     "output_type": "stream",
     "text": [
      " /Users/Matteo/opt/anaconda3/envs/ml_and_physical/lib/python3.8/site-packages/paramz/transformations.py:111: RuntimeWarning:overflow encountered in expm1\n"
     ]
    },
    {
     "name": "stdout",
     "output_type": "stream",
     "text": [
      "Optimization restart 1/5, f = 3010.215958713337\n"
     ]
    },
    {
     "name": "stderr",
     "output_type": "stream",
     "text": [
      " /Users/Matteo/opt/anaconda3/envs/ml_and_physical/lib/python3.8/site-packages/GPy/kern/src/stationary.py:168: RuntimeWarning:overflow encountered in true_divide\n",
      " /Users/Matteo/opt/anaconda3/envs/ml_and_physical/lib/python3.8/site-packages/GPy/kern/src/rbf.py:52: RuntimeWarning:overflow encountered in square\n",
      " /Users/Matteo/opt/anaconda3/envs/ml_and_physical/lib/python3.8/site-packages/GPy/kern/src/rbf.py:76: RuntimeWarning:invalid value encountered in multiply\n"
     ]
    },
    {
     "name": "stdout",
     "output_type": "stream",
     "text": [
      "Optimization restart 2/5, f = 3014.992168936609\n",
      "Optimization restart 3/5, f = 3010.215799158212\n",
      "Optimization restart 4/5, f = 3010.215799146615\n",
      "Optimization restart 5/5, f = 3010.215799733764\n",
      "[[15.          8.         65.87120372  1.          1.5       ]]\n",
      "\n",
      "User function emissions called with 1 inputs to simulate\n",
      "\n",
      "Evaluating input: 1 of 1\n",
      "\n",
      " Retrying in 1 seconds\n",
      "\n",
      "Output 1728.5726179576961\n",
      "\n"
     ]
    },
    {
     "name": "stderr",
     "output_type": "stream",
     "text": [
      " /Users/Matteo/opt/anaconda3/envs/ml_and_physical/lib/python3.8/site-packages/paramz/transformations.py:111: RuntimeWarning:overflow encountered in expm1\n"
     ]
    },
    {
     "name": "stdout",
     "output_type": "stream",
     "text": [
      "Optimization restart 1/5, f = 3016.2356270156524\n"
     ]
    },
    {
     "name": "stderr",
     "output_type": "stream",
     "text": [
      " /Users/Matteo/opt/anaconda3/envs/ml_and_physical/lib/python3.8/site-packages/GPy/kern/src/rbf.py:52: RuntimeWarning:overflow encountered in square\n"
     ]
    },
    {
     "name": "stdout",
     "output_type": "stream",
     "text": [
      "Optimization restart 2/5, f = 3016.235351867276\n",
      "Optimization restart 3/5, f = 3016.2353518655236\n",
      "Optimization restart 4/5, f = 3024.7085779937015\n",
      "Optimization restart 5/5, f = 3016.235351866325\n",
      "[[15.          8.         65.88139555  1.          1.5       ]]\n",
      "\n",
      "User function emissions called with 1 inputs to simulate\n",
      "\n",
      "Evaluating input: 1 of 1\n",
      "\n",
      " Retrying in 1 seconds\n",
      "\n",
      "Output 1721.4201358173243\n",
      "\n"
     ]
    },
    {
     "name": "stderr",
     "output_type": "stream",
     "text": [
      " /Users/Matteo/opt/anaconda3/envs/ml_and_physical/lib/python3.8/site-packages/paramz/transformations.py:111: RuntimeWarning:overflow encountered in expm1\n"
     ]
    },
    {
     "name": "stdout",
     "output_type": "stream",
     "text": [
      "Optimization restart 1/5, f = 3022.2984547636597\n",
      "Optimization restart 2/5, f = 3022.2982409358383\n"
     ]
    },
    {
     "name": "stderr",
     "output_type": "stream",
     "text": [
      " /Users/Matteo/opt/anaconda3/envs/ml_and_physical/lib/python3.8/site-packages/GPy/kern/src/rbf.py:52: RuntimeWarning:overflow encountered in square\n"
     ]
    },
    {
     "name": "stdout",
     "output_type": "stream",
     "text": [
      "Optimization restart 3/5, f = 3022.2982393238344\n",
      "Optimization restart 4/5, f = 3022.298239329167\n",
      "Optimization restart 5/5, f = 3022.2982393252323\n",
      "[[15.          8.         65.89120408  1.          1.5       ]]\n",
      "\n",
      "User function emissions called with 1 inputs to simulate\n",
      "\n",
      "Evaluating input: 1 of 1\n",
      "\n",
      " Retrying in 1 seconds\n",
      "\n",
      "Output 1729.332511642098\n",
      "\n"
     ]
    },
    {
     "name": "stderr",
     "output_type": "stream",
     "text": [
      " /Users/Matteo/opt/anaconda3/envs/ml_and_physical/lib/python3.8/site-packages/paramz/transformations.py:111: RuntimeWarning:overflow encountered in expm1\n"
     ]
    },
    {
     "name": "stdout",
     "output_type": "stream",
     "text": [
      "Optimization restart 1/5, f = 3027.965957056425\n",
      "Optimization restart 2/5, f = 3027.965449234837\n",
      "Optimization restart 3/5, f = 3027.9654492333193\n",
      "Optimization restart 4/5, f = 3027.96544924361\n",
      "Optimization restart 5/5, f = 3027.9654492341424\n",
      "[[15.          8.         65.89841147  1.          1.5       ]]\n",
      "\n",
      "User function emissions called with 1 inputs to simulate\n",
      "\n",
      "Evaluating input: 1 of 1\n",
      "\n",
      " Retrying in 1 seconds\n",
      "\n",
      "Output 1731.2208975110148\n",
      "\n"
     ]
    },
    {
     "name": "stderr",
     "output_type": "stream",
     "text": [
      " /Users/Matteo/opt/anaconda3/envs/ml_and_physical/lib/python3.8/site-packages/paramz/transformations.py:111: RuntimeWarning:overflow encountered in expm1\n"
     ]
    },
    {
     "name": "stdout",
     "output_type": "stream",
     "text": [
      "Optimization restart 1/5, f = 3033.474902538806\n",
      "Optimization restart 2/5, f = 3033.4742680986337\n",
      "Optimization restart 3/5, f = 3033.474268101814\n"
     ]
    },
    {
     "name": "stderr",
     "output_type": "stream",
     "text": [
      " /Users/Matteo/opt/anaconda3/envs/ml_and_physical/lib/python3.8/site-packages/GPy/kern/src/stationary.py:168: RuntimeWarning:overflow encountered in true_divide\n",
      " /Users/Matteo/opt/anaconda3/envs/ml_and_physical/lib/python3.8/site-packages/GPy/kern/src/rbf.py:52: RuntimeWarning:overflow encountered in square\n",
      " /Users/Matteo/opt/anaconda3/envs/ml_and_physical/lib/python3.8/site-packages/GPy/kern/src/rbf.py:76: RuntimeWarning:invalid value encountered in multiply\n"
     ]
    },
    {
     "name": "stdout",
     "output_type": "stream",
     "text": [
      "Optimization restart 4/5, f = 18187.83912692377\n",
      "Optimization restart 5/5, f = 3033.4742686463646\n",
      "[[15.          8.         65.90444828  1.          1.5       ]]\n",
      "\n",
      "User function emissions called with 1 inputs to simulate\n",
      "\n",
      "Evaluating input: 1 of 1\n",
      "\n",
      " Retrying in 1 seconds\n",
      "\n",
      "Output 1725.189610869166\n",
      "\n"
     ]
    },
    {
     "name": "stderr",
     "output_type": "stream",
     "text": [
      " /Users/Matteo/opt/anaconda3/envs/ml_and_physical/lib/python3.8/site-packages/paramz/transformations.py:111: RuntimeWarning:overflow encountered in expm1\n"
     ]
    },
    {
     "name": "stdout",
     "output_type": "stream",
     "text": [
      "Optimization restart 1/5, f = 3039.041950906648\n",
      "Optimization restart 2/5, f = 3039.0414605241212\n",
      "Optimization restart 3/5, f = 3039.0414605290707\n"
     ]
    },
    {
     "name": "stderr",
     "output_type": "stream",
     "text": [
      " /Users/Matteo/opt/anaconda3/envs/ml_and_physical/lib/python3.8/site-packages/GPy/kern/src/stationary.py:168: RuntimeWarning:overflow encountered in true_divide\n",
      " /Users/Matteo/opt/anaconda3/envs/ml_and_physical/lib/python3.8/site-packages/GPy/kern/src/rbf.py:52: RuntimeWarning:overflow encountered in square\n",
      " /Users/Matteo/opt/anaconda3/envs/ml_and_physical/lib/python3.8/site-packages/GPy/kern/src/rbf.py:76: RuntimeWarning:invalid value encountered in multiply\n"
     ]
    },
    {
     "name": "stdout",
     "output_type": "stream",
     "text": [
      "Optimization restart 4/5, f = 3438.6032969528483\n",
      "Optimization restart 5/5, f = 4038.395044626607\n",
      "[[15.          8.         65.91057877  1.          1.5       ]]\n",
      "\n",
      "User function emissions called with 1 inputs to simulate\n",
      "\n",
      "Evaluating input: 1 of 1\n",
      "\n",
      " Retrying in 1 seconds\n",
      "\n",
      "Output 1723.6408244674067\n",
      "\n"
     ]
    },
    {
     "name": "stderr",
     "output_type": "stream",
     "text": [
      " /Users/Matteo/opt/anaconda3/envs/ml_and_physical/lib/python3.8/site-packages/paramz/transformations.py:111: RuntimeWarning:overflow encountered in expm1\n"
     ]
    },
    {
     "name": "stdout",
     "output_type": "stream",
     "text": [
      "Optimization restart 1/5, f = 3044.55768577244\n",
      "Optimization restart 2/5, f = 3044.557197281254\n",
      "Optimization restart 3/5, f = 3044.557197260275\n",
      "Optimization restart 4/5, f = 3044.557197258514\n"
     ]
    },
    {
     "name": "stderr",
     "output_type": "stream",
     "text": [
      " /Users/Matteo/opt/anaconda3/envs/ml_and_physical/lib/python3.8/site-packages/GPy/kern/src/stationary.py:168: RuntimeWarning:overflow encountered in true_divide\n",
      " /Users/Matteo/opt/anaconda3/envs/ml_and_physical/lib/python3.8/site-packages/GPy/kern/src/rbf.py:52: RuntimeWarning:overflow encountered in square\n",
      " /Users/Matteo/opt/anaconda3/envs/ml_and_physical/lib/python3.8/site-packages/GPy/kern/src/rbf.py:76: RuntimeWarning:invalid value encountered in multiply\n"
     ]
    },
    {
     "name": "stdout",
     "output_type": "stream",
     "text": [
      "Optimization restart 5/5, f = 13720.211897418218\n",
      "[[15.          8.         65.91624978  1.          1.5       ]]\n",
      "\n",
      "User function emissions called with 1 inputs to simulate\n",
      "\n",
      "Evaluating input: 1 of 1\n",
      "\n",
      " Retrying in 1 seconds\n",
      "\n",
      "Output 1724.4993524573408\n",
      "\n"
     ]
    },
    {
     "name": "stderr",
     "output_type": "stream",
     "text": [
      " /Users/Matteo/opt/anaconda3/envs/ml_and_physical/lib/python3.8/site-packages/paramz/transformations.py:111: RuntimeWarning:overflow encountered in expm1\n"
     ]
    },
    {
     "name": "stdout",
     "output_type": "stream",
     "text": [
      "Optimization restart 1/5, f = 3049.974293164826\n"
     ]
    },
    {
     "name": "stderr",
     "output_type": "stream",
     "text": [
      " /Users/Matteo/opt/anaconda3/envs/ml_and_physical/lib/python3.8/site-packages/GPy/kern/src/stationary.py:168: RuntimeWarning:overflow encountered in true_divide\n",
      " /Users/Matteo/opt/anaconda3/envs/ml_and_physical/lib/python3.8/site-packages/GPy/kern/src/rbf.py:52: RuntimeWarning:overflow encountered in square\n",
      " /Users/Matteo/opt/anaconda3/envs/ml_and_physical/lib/python3.8/site-packages/GPy/kern/src/rbf.py:76: RuntimeWarning:invalid value encountered in multiply\n"
     ]
    },
    {
     "name": "stdout",
     "output_type": "stream",
     "text": [
      "Optimization restart 2/5, f = 6417.701976325534\n",
      "Optimization restart 3/5, f = 3049.973735409712\n",
      "Optimization restart 4/5, f = 3903.6272903324\n",
      "Optimization restart 5/5, f = 4057.671598936872\n",
      "[[15.          8.         65.92126932  1.          1.5       ]]\n",
      "\n",
      "User function emissions called with 1 inputs to simulate\n",
      "\n",
      "Evaluating input: 1 of 1\n",
      "\n",
      " Retrying in 1 seconds\n",
      "\n",
      "Output 1726.5502338612666\n",
      "\n"
     ]
    },
    {
     "name": "stderr",
     "output_type": "stream",
     "text": [
      " /Users/Matteo/opt/anaconda3/envs/ml_and_physical/lib/python3.8/site-packages/paramz/transformations.py:111: RuntimeWarning:overflow encountered in expm1\n"
     ]
    },
    {
     "name": "stdout",
     "output_type": "stream",
     "text": [
      "Optimization restart 1/5, f = 3055.2813509890784\n",
      "Optimization restart 2/5, f = 3314.381450892908\n",
      "Optimization restart 3/5, f = 3055.280696919951\n",
      "Optimization restart 4/5, f = 3055.28069705331\n"
     ]
    },
    {
     "name": "stderr",
     "output_type": "stream",
     "text": [
      " /Users/Matteo/opt/anaconda3/envs/ml_and_physical/lib/python3.8/site-packages/GPy/kern/src/stationary.py:168: RuntimeWarning:overflow encountered in true_divide\n",
      " /Users/Matteo/opt/anaconda3/envs/ml_and_physical/lib/python3.8/site-packages/GPy/kern/src/rbf.py:52: RuntimeWarning:overflow encountered in square\n",
      " /Users/Matteo/opt/anaconda3/envs/ml_and_physical/lib/python3.8/site-packages/GPy/kern/src/rbf.py:76: RuntimeWarning:invalid value encountered in multiply\n"
     ]
    },
    {
     "name": "stdout",
     "output_type": "stream",
     "text": [
      "Optimization restart 5/5, f = 3753.3450592571144\n",
      "[[10.          8.62320059 66.23581992  1.          2.39154622]]\n",
      "\n",
      "User function emissions called with 1 inputs to simulate\n",
      "\n",
      "Evaluating input: 1 of 1\n",
      "\n",
      " Retrying in 1 seconds\n",
      "\n",
      "Output 1974.9332604325823\n",
      "\n"
     ]
    },
    {
     "name": "stderr",
     "output_type": "stream",
     "text": [
      " /Users/Matteo/opt/anaconda3/envs/ml_and_physical/lib/python3.8/site-packages/paramz/transformations.py:111: RuntimeWarning:overflow encountered in expm1\n"
     ]
    },
    {
     "name": "stdout",
     "output_type": "stream",
     "text": [
      "Optimization restart 1/5, f = 3060.1513375952177\n"
     ]
    },
    {
     "name": "stderr",
     "output_type": "stream",
     "text": [
      " /Users/Matteo/opt/anaconda3/envs/ml_and_physical/lib/python3.8/site-packages/GPy/kern/src/rbf.py:52: RuntimeWarning:overflow encountered in square\n"
     ]
    },
    {
     "name": "stdout",
     "output_type": "stream",
     "text": [
      "Optimization restart 2/5, f = 3060.150184129915\n"
     ]
    },
    {
     "name": "stderr",
     "output_type": "stream",
     "text": [
      " /Users/Matteo/opt/anaconda3/envs/ml_and_physical/lib/python3.8/site-packages/GPy/kern/src/stationary.py:168: RuntimeWarning:overflow encountered in true_divide\n",
      " /Users/Matteo/opt/anaconda3/envs/ml_and_physical/lib/python3.8/site-packages/GPy/kern/src/rbf.py:76: RuntimeWarning:invalid value encountered in multiply\n"
     ]
    },
    {
     "name": "stdout",
     "output_type": "stream",
     "text": [
      "Optimization restart 3/5, f = 3062.4606184054505\n",
      "Optimization restart 4/5, f = 3060.1501842212037\n",
      "Optimization restart 5/5, f = 3060.150184425672\n",
      "[[15.          8.         65.92717303  1.          1.5       ]]\n",
      "\n",
      "User function emissions called with 1 inputs to simulate\n",
      "\n",
      "Evaluating input: 1 of 1\n",
      "\n",
      " Retrying in 1 seconds\n",
      "\n",
      "Output 1719.7146130845883\n",
      "\n"
     ]
    },
    {
     "name": "stderr",
     "output_type": "stream",
     "text": [
      " /Users/Matteo/opt/anaconda3/envs/ml_and_physical/lib/python3.8/site-packages/paramz/transformations.py:111: RuntimeWarning:overflow encountered in expm1\n"
     ]
    },
    {
     "name": "stdout",
     "output_type": "stream",
     "text": [
      "Optimization restart 1/5, f = 3065.5435353375465\n",
      "Optimization restart 2/5, f = 3065.543096612604\n",
      "Optimization restart 3/5, f = 3065.5430971927153\n"
     ]
    },
    {
     "name": "stderr",
     "output_type": "stream",
     "text": [
      " /Users/Matteo/opt/anaconda3/envs/ml_and_physical/lib/python3.8/site-packages/GPy/kern/src/stationary.py:168: RuntimeWarning:overflow encountered in true_divide\n",
      " /Users/Matteo/opt/anaconda3/envs/ml_and_physical/lib/python3.8/site-packages/GPy/kern/src/rbf.py:52: RuntimeWarning:overflow encountered in square\n",
      " /Users/Matteo/opt/anaconda3/envs/ml_and_physical/lib/python3.8/site-packages/GPy/kern/src/rbf.py:76: RuntimeWarning:invalid value encountered in multiply\n"
     ]
    },
    {
     "name": "stdout",
     "output_type": "stream",
     "text": [
      "Optimization restart 4/5, f = 4062.012923194967\n",
      "Optimization restart 5/5, f = 3065.543096724068\n",
      "[[15.          8.         65.93198804  1.          1.5       ]]\n",
      "\n",
      "User function emissions called with 1 inputs to simulate\n",
      "\n",
      "Evaluating input: 1 of 1\n",
      "\n",
      " Retrying in 1 seconds\n",
      "\n",
      "Output 1732.5816687543106\n",
      "\n"
     ]
    },
    {
     "name": "stderr",
     "output_type": "stream",
     "text": [
      " /Users/Matteo/opt/anaconda3/envs/ml_and_physical/lib/python3.8/site-packages/paramz/transformations.py:111: RuntimeWarning:overflow encountered in expm1\n"
     ]
    },
    {
     "name": "stdout",
     "output_type": "stream",
     "text": [
      "Optimization restart 1/5, f = 3070.6345336453574\n"
     ]
    },
    {
     "name": "stderr",
     "output_type": "stream",
     "text": [
      " /Users/Matteo/opt/anaconda3/envs/ml_and_physical/lib/python3.8/site-packages/GPy/kern/src/stationary.py:168: RuntimeWarning:overflow encountered in true_divide\n",
      " /Users/Matteo/opt/anaconda3/envs/ml_and_physical/lib/python3.8/site-packages/GPy/kern/src/rbf.py:52: RuntimeWarning:overflow encountered in square\n",
      " /Users/Matteo/opt/anaconda3/envs/ml_and_physical/lib/python3.8/site-packages/GPy/kern/src/rbf.py:76: RuntimeWarning:invalid value encountered in multiply\n"
     ]
    },
    {
     "name": "stdout",
     "output_type": "stream",
     "text": [
      "Optimization restart 2/5, f = 3083.3896848787513\n",
      "Optimization restart 3/5, f = 3070.6337013081406\n",
      "Optimization restart 4/5, f = 3070.633701307051\n",
      "Optimization restart 5/5, f = 3070.6337014124256\n",
      "[[15.          8.         65.93488903  1.          1.5       ]]\n",
      "\n",
      "User function emissions called with 1 inputs to simulate\n",
      "\n",
      "Evaluating input: 1 of 1\n",
      "\n",
      " Retrying in 1 seconds\n",
      "\n",
      "Output 1731.9616169166898\n",
      "\n"
     ]
    },
    {
     "name": "stderr",
     "output_type": "stream",
     "text": [
      " /Users/Matteo/opt/anaconda3/envs/ml_and_physical/lib/python3.8/site-packages/paramz/transformations.py:111: RuntimeWarning:overflow encountered in expm1\n"
     ]
    },
    {
     "name": "stdout",
     "output_type": "stream",
     "text": [
      "Optimization restart 1/5, f = 3075.705434441251\n",
      "Optimization restart 2/5, f = 3075.7046131898915\n",
      "Optimization restart 3/5, f = 3075.7046131930956\n",
      "Optimization restart 4/5, f = 3075.704613192898\n"
     ]
    },
    {
     "name": "stderr",
     "output_type": "stream",
     "text": [
      " /Users/Matteo/opt/anaconda3/envs/ml_and_physical/lib/python3.8/site-packages/GPy/kern/src/stationary.py:168: RuntimeWarning:overflow encountered in true_divide\n",
      " /Users/Matteo/opt/anaconda3/envs/ml_and_physical/lib/python3.8/site-packages/GPy/kern/src/rbf.py:52: RuntimeWarning:overflow encountered in square\n",
      " /Users/Matteo/opt/anaconda3/envs/ml_and_physical/lib/python3.8/site-packages/GPy/kern/src/rbf.py:76: RuntimeWarning:invalid value encountered in multiply\n"
     ]
    },
    {
     "name": "stdout",
     "output_type": "stream",
     "text": [
      "Optimization restart 5/5, f = 3762.309434987067\n",
      "[[15.          8.         65.93771325  1.          1.5       ]]\n",
      "\n",
      "User function emissions called with 1 inputs to simulate\n",
      "\n",
      "Evaluating input: 1 of 1\n",
      "\n",
      " Retrying in 1 seconds\n",
      "\n",
      "Output 1722.916325139739\n",
      "\n"
     ]
    },
    {
     "name": "stderr",
     "output_type": "stream",
     "text": [
      " /Users/Matteo/opt/anaconda3/envs/ml_and_physical/lib/python3.8/site-packages/paramz/transformations.py:111: RuntimeWarning:overflow encountered in expm1\n"
     ]
    },
    {
     "name": "stdout",
     "output_type": "stream",
     "text": [
      "Optimization restart 1/5, f = 3080.904330573865\n"
     ]
    },
    {
     "name": "stderr",
     "output_type": "stream",
     "text": [
      " /Users/Matteo/opt/anaconda3/envs/ml_and_physical/lib/python3.8/site-packages/GPy/kern/src/stationary.py:168: RuntimeWarning:overflow encountered in true_divide\n",
      " /Users/Matteo/opt/anaconda3/envs/ml_and_physical/lib/python3.8/site-packages/GPy/kern/src/rbf.py:52: RuntimeWarning:overflow encountered in square\n",
      " /Users/Matteo/opt/anaconda3/envs/ml_and_physical/lib/python3.8/site-packages/GPy/kern/src/rbf.py:76: RuntimeWarning:invalid value encountered in multiply\n"
     ]
    },
    {
     "name": "stdout",
     "output_type": "stream",
     "text": [
      "Optimization restart 2/5, f = 3842.8550034787277\n",
      "Optimization restart 3/5, f = 3080.903740932413\n",
      "Optimization restart 4/5, f = 3080.903740703329\n",
      "Optimization restart 5/5, f = 3080.9037408861077\n",
      "[[15.          8.         65.94117436  1.          1.5       ]]\n",
      "\n",
      "User function emissions called with 1 inputs to simulate\n",
      "\n",
      "Evaluating input: 1 of 1\n",
      "\n",
      " Retrying in 1 seconds\n",
      "\n",
      "Output 1723.59803384551\n",
      "\n"
     ]
    },
    {
     "name": "stderr",
     "output_type": "stream",
     "text": [
      " /Users/Matteo/opt/anaconda3/envs/ml_and_physical/lib/python3.8/site-packages/paramz/transformations.py:111: RuntimeWarning:overflow encountered in expm1\n"
     ]
    },
    {
     "name": "stdout",
     "output_type": "stream",
     "text": [
      "Optimization restart 1/5, f = 3086.055153081062\n"
     ]
    },
    {
     "name": "stderr",
     "output_type": "stream",
     "text": [
      " /Users/Matteo/opt/anaconda3/envs/ml_and_physical/lib/python3.8/site-packages/GPy/kern/src/stationary.py:168: RuntimeWarning:overflow encountered in true_divide\n",
      " /Users/Matteo/opt/anaconda3/envs/ml_and_physical/lib/python3.8/site-packages/GPy/kern/src/rbf.py:52: RuntimeWarning:overflow encountered in square\n",
      " /Users/Matteo/opt/anaconda3/envs/ml_and_physical/lib/python3.8/site-packages/GPy/kern/src/rbf.py:76: RuntimeWarning:invalid value encountered in multiply\n"
     ]
    },
    {
     "name": "stdout",
     "output_type": "stream",
     "text": [
      "Optimization restart 2/5, f = 3089.457684187206\n",
      "Optimization restart 3/5, f = 3086.054525312965\n",
      "Optimization restart 4/5, f = 3520.9691028059906\n",
      "Optimization restart 5/5, f = 3086.0545253873142\n",
      "[[17.          8.14707101 48.47226794  1.          2.13052224]]\n",
      "\n",
      "User function emissions called with 1 inputs to simulate\n",
      "\n",
      "Evaluating input: 1 of 1\n",
      "\n",
      " Retrying in 1 seconds\n",
      "\n",
      "Output 1862.16227691722\n",
      "\n"
     ]
    },
    {
     "name": "stderr",
     "output_type": "stream",
     "text": [
      " /Users/Matteo/opt/anaconda3/envs/ml_and_physical/lib/python3.8/site-packages/paramz/transformations.py:111: RuntimeWarning:overflow encountered in expm1\n"
     ]
    },
    {
     "name": "stdout",
     "output_type": "stream",
     "text": [
      "Optimization restart 1/5, f = 3095.3049163860396\n",
      "Optimization restart 2/5, f = 3095.3047606050764\n",
      "Optimization restart 3/5, f = 3095.3047606414084\n"
     ]
    },
    {
     "name": "stderr",
     "output_type": "stream",
     "text": [
      " /Users/Matteo/opt/anaconda3/envs/ml_and_physical/lib/python3.8/site-packages/GPy/kern/src/rbf.py:52: RuntimeWarning:overflow encountered in square\n"
     ]
    },
    {
     "name": "stdout",
     "output_type": "stream",
     "text": [
      "Optimization restart 4/5, f = 3095.3047615086475\n",
      "Optimization restart 5/5, f = 3095.304760652566\n",
      "[[15.          8.         65.87551996  1.          1.5       ]]\n",
      "\n",
      "User function emissions called with 1 inputs to simulate\n",
      "\n",
      "Evaluating input: 1 of 1\n",
      "\n",
      " Retrying in 1 seconds\n",
      "\n",
      "Output 1725.2698396363621\n",
      "\n"
     ]
    },
    {
     "name": "stderr",
     "output_type": "stream",
     "text": [
      " /Users/Matteo/opt/anaconda3/envs/ml_and_physical/lib/python3.8/site-packages/paramz/transformations.py:111: RuntimeWarning:overflow encountered in expm1\n"
     ]
    },
    {
     "name": "stdout",
     "output_type": "stream",
     "text": [
      "Optimization restart 1/5, f = 3100.396689135282\n",
      "Optimization restart 2/5, f = 3100.3959876629265\n",
      "Optimization restart 3/5, f = 3100.3959879572453\n",
      "Optimization restart 4/5, f = 3100.3959876963\n",
      "Optimization restart 5/5, f = 3100.395987673824\n",
      "[[15.          8.         65.87709637  1.          1.5       ]]\n",
      "\n",
      "User function emissions called with 1 inputs to simulate\n",
      "\n",
      "Evaluating input: 1 of 1\n",
      "\n",
      " Retrying in 1 seconds\n",
      "\n",
      "Output 1725.7299295503915\n",
      "\n"
     ]
    },
    {
     "name": "stderr",
     "output_type": "stream",
     "text": [
      " /Users/Matteo/opt/anaconda3/envs/ml_and_physical/lib/python3.8/site-packages/paramz/transformations.py:111: RuntimeWarning:overflow encountered in expm1\n"
     ]
    },
    {
     "name": "stdout",
     "output_type": "stream",
     "text": [
      "Optimization restart 1/5, f = 3105.4555690624834\n"
     ]
    },
    {
     "name": "stderr",
     "output_type": "stream",
     "text": [
      " /Users/Matteo/opt/anaconda3/envs/ml_and_physical/lib/python3.8/site-packages/GPy/kern/src/stationary.py:168: RuntimeWarning:overflow encountered in true_divide\n",
      " /Users/Matteo/opt/anaconda3/envs/ml_and_physical/lib/python3.8/site-packages/GPy/kern/src/rbf.py:52: RuntimeWarning:overflow encountered in square\n",
      " /Users/Matteo/opt/anaconda3/envs/ml_and_physical/lib/python3.8/site-packages/GPy/kern/src/rbf.py:76: RuntimeWarning:invalid value encountered in multiply\n"
     ]
    },
    {
     "name": "stdout",
     "output_type": "stream",
     "text": [
      "Optimization restart 2/5, f = 3435.972435228602\n",
      "Optimization restart 3/5, f = 3105.454845233726\n",
      "Optimization restart 4/5, f = 3105.4548452325357\n",
      "Optimization restart 5/5, f = 3105.454845233617\n",
      "[[15.          8.         65.87858922  1.          1.5       ]]\n",
      "\n",
      "User function emissions called with 1 inputs to simulate\n",
      "\n",
      "Evaluating input: 1 of 1\n",
      "\n",
      " Retrying in 1 seconds\n",
      "\n",
      "Output 1721.4201358173243\n",
      "\n"
     ]
    },
    {
     "name": "stderr",
     "output_type": "stream",
     "text": [
      " /Users/Matteo/opt/anaconda3/envs/ml_and_physical/lib/python3.8/site-packages/paramz/transformations.py:111: RuntimeWarning:overflow encountered in expm1\n"
     ]
    },
    {
     "name": "stdout",
     "output_type": "stream",
     "text": [
      "Optimization restart 1/5, f = 3110.560997236479\n"
     ]
    },
    {
     "name": "stderr",
     "output_type": "stream",
     "text": [
      " /Users/Matteo/opt/anaconda3/envs/ml_and_physical/lib/python3.8/site-packages/GPy/kern/src/stationary.py:168: RuntimeWarning:overflow encountered in true_divide\n",
      " /Users/Matteo/opt/anaconda3/envs/ml_and_physical/lib/python3.8/site-packages/GPy/kern/src/rbf.py:52: RuntimeWarning:overflow encountered in square\n",
      " /Users/Matteo/opt/anaconda3/envs/ml_and_physical/lib/python3.8/site-packages/GPy/kern/src/rbf.py:76: RuntimeWarning:invalid value encountered in multiply\n"
     ]
    },
    {
     "name": "stdout",
     "output_type": "stream",
     "text": [
      "Optimization restart 2/5, f = 3271.3535547157967\n",
      "Optimization restart 3/5, f = 3110.5603772796944\n",
      "Optimization restart 4/5, f = 3110.560377280932\n",
      "Optimization restart 5/5, f = 3110.560377325812\n",
      "[[15.          8.         65.88018042  1.          1.5       ]]\n",
      "\n",
      "User function emissions called with 1 inputs to simulate\n",
      "\n",
      "Evaluating input: 1 of 1\n",
      "\n",
      " Retrying in 1 seconds\n",
      "\n",
      "Output 1721.4201358173243\n",
      "\n"
     ]
    },
    {
     "name": "stderr",
     "output_type": "stream",
     "text": [
      " /Users/Matteo/opt/anaconda3/envs/ml_and_physical/lib/python3.8/site-packages/paramz/transformations.py:111: RuntimeWarning:overflow encountered in expm1\n"
     ]
    },
    {
     "name": "stdout",
     "output_type": "stream",
     "text": [
      "Optimization restart 1/5, f = 3115.6418951680103\n",
      "Optimization restart 2/5, f = 3115.6412648841188\n",
      "Optimization restart 3/5, f = 3115.641264935004\n",
      "Optimization restart 4/5, f = 3115.641265171028\n",
      "Optimization restart 5/5, f = 3115.6412648792807\n",
      "[[15.         8.        65.8817114  1.         1.5      ]]\n",
      "\n",
      "User function emissions called with 1 inputs to simulate\n",
      "\n",
      "Evaluating input: 1 of 1\n",
      "\n",
      " Retrying in 1 seconds\n",
      "\n",
      "Output 1721.4201358173243\n",
      "\n"
     ]
    },
    {
     "name": "stderr",
     "output_type": "stream",
     "text": [
      " /Users/Matteo/opt/anaconda3/envs/ml_and_physical/lib/python3.8/site-packages/paramz/transformations.py:111: RuntimeWarning:overflow encountered in expm1\n"
     ]
    },
    {
     "name": "stdout",
     "output_type": "stream",
     "text": [
      "Optimization restart 1/5, f = 3120.700462376573\n",
      "Optimization restart 2/5, f = 3120.6998171136574\n",
      "Optimization restart 3/5, f = 3120.699817531536\n",
      "Optimization restart 4/5, f = 3127.5676735601537\n",
      "Optimization restart 5/5, f = 3120.6998173946913\n",
      "[[15.          8.         65.88317401  1.          1.5       ]]\n",
      "\n",
      "User function emissions called with 1 inputs to simulate\n",
      "\n",
      "Evaluating input: 1 of 1\n",
      "\n",
      " Retrying in 1 seconds\n",
      "\n",
      "Output 1721.4201358173243\n",
      "\n"
     ]
    },
    {
     "name": "stderr",
     "output_type": "stream",
     "text": [
      " /Users/Matteo/opt/anaconda3/envs/ml_and_physical/lib/python3.8/site-packages/paramz/transformations.py:111: RuntimeWarning:overflow encountered in expm1\n"
     ]
    },
    {
     "name": "stdout",
     "output_type": "stream",
     "text": [
      "Optimization restart 1/5, f = 3125.7387034398703\n",
      "Optimization restart 2/5, f = 3125.7380460044074\n",
      "Optimization restart 3/5, f = 3125.7380460520367\n"
     ]
    },
    {
     "name": "stderr",
     "output_type": "stream",
     "text": [
      " /Users/Matteo/opt/anaconda3/envs/ml_and_physical/lib/python3.8/site-packages/GPy/kern/src/stationary.py:168: RuntimeWarning:overflow encountered in true_divide\n",
      " /Users/Matteo/opt/anaconda3/envs/ml_and_physical/lib/python3.8/site-packages/GPy/kern/src/rbf.py:52: RuntimeWarning:overflow encountered in square\n",
      " /Users/Matteo/opt/anaconda3/envs/ml_and_physical/lib/python3.8/site-packages/GPy/kern/src/rbf.py:76: RuntimeWarning:invalid value encountered in multiply\n"
     ]
    },
    {
     "name": "stdout",
     "output_type": "stream",
     "text": [
      "Optimization restart 4/5, f = 3847.56607770505\n",
      "Optimization restart 5/5, f = 3125.7380459618657\n",
      "[[15.          8.         65.88457552  1.          1.5       ]]\n",
      "\n",
      "User function emissions called with 1 inputs to simulate\n",
      "\n",
      "Evaluating input: 1 of 1\n",
      "\n",
      " Retrying in 1 seconds\n",
      "\n",
      "Output 1724.615782142197\n",
      "\n"
     ]
    },
    {
     "name": "stderr",
     "output_type": "stream",
     "text": [
      " /Users/Matteo/opt/anaconda3/envs/ml_and_physical/lib/python3.8/site-packages/paramz/transformations.py:111: RuntimeWarning:overflow encountered in expm1\n"
     ]
    },
    {
     "name": "stdout",
     "output_type": "stream",
     "text": [
      "Optimization restart 1/5, f = 3130.7132583142197\n",
      "Optimization restart 2/5, f = 3130.7125226150406\n",
      "Optimization restart 3/5, f = 3130.712522605373\n"
     ]
    },
    {
     "name": "stderr",
     "output_type": "stream",
     "text": [
      " /Users/Matteo/opt/anaconda3/envs/ml_and_physical/lib/python3.8/site-packages/GPy/kern/src/stationary.py:168: RuntimeWarning:overflow encountered in true_divide\n",
      " /Users/Matteo/opt/anaconda3/envs/ml_and_physical/lib/python3.8/site-packages/GPy/kern/src/rbf.py:52: RuntimeWarning:overflow encountered in square\n",
      " /Users/Matteo/opt/anaconda3/envs/ml_and_physical/lib/python3.8/site-packages/GPy/kern/src/rbf.py:76: RuntimeWarning:invalid value encountered in multiply\n"
     ]
    },
    {
     "name": "stdout",
     "output_type": "stream",
     "text": [
      "Optimization restart 4/5, f = 13769.204098485272\n",
      "Optimization restart 5/5, f = 3130.7125226278404\n",
      "[[15.          8.         65.88580084  1.          1.5       ]]\n",
      "\n",
      "User function emissions called with 1 inputs to simulate\n",
      "\n",
      "Evaluating input: 1 of 1\n",
      "\n",
      " Retrying in 1 seconds\n",
      "\n",
      "Output 1725.4271215912502\n",
      "\n"
     ]
    },
    {
     "name": "stderr",
     "output_type": "stream",
     "text": [
      " /Users/Matteo/opt/anaconda3/envs/ml_and_physical/lib/python3.8/site-packages/paramz/transformations.py:111: RuntimeWarning:overflow encountered in expm1\n"
     ]
    },
    {
     "name": "stdout",
     "output_type": "stream",
     "text": [
      "Optimization restart 1/5, f = 3135.662969691772\n",
      "Optimization restart 2/5, f = 3135.662215657522\n"
     ]
    },
    {
     "name": "stderr",
     "output_type": "stream",
     "text": [
      " /Users/Matteo/opt/anaconda3/envs/ml_and_physical/lib/python3.8/site-packages/GPy/kern/src/stationary.py:168: RuntimeWarning:overflow encountered in true_divide\n",
      " /Users/Matteo/opt/anaconda3/envs/ml_and_physical/lib/python3.8/site-packages/GPy/kern/src/rbf.py:52: RuntimeWarning:overflow encountered in square\n",
      " /Users/Matteo/opt/anaconda3/envs/ml_and_physical/lib/python3.8/site-packages/GPy/kern/src/rbf.py:76: RuntimeWarning:invalid value encountered in multiply\n"
     ]
    },
    {
     "name": "stdout",
     "output_type": "stream",
     "text": [
      "Optimization restart 3/5, f = 3286.7335619178584\n",
      "Optimization restart 4/5, f = 3135.6622156611575\n",
      "Optimization restart 5/5, f = 3135.662215646232\n",
      "[[15.          8.         65.88695168  1.          1.5       ]]\n",
      "\n",
      "User function emissions called with 1 inputs to simulate\n",
      "\n",
      "Evaluating input: 1 of 1\n",
      "\n",
      " Retrying in 1 seconds\n",
      "\n",
      "Output 1724.7015567975807\n",
      "\n"
     ]
    },
    {
     "name": "stderr",
     "output_type": "stream",
     "text": [
      " /Users/Matteo/opt/anaconda3/envs/ml_and_physical/lib/python3.8/site-packages/paramz/transformations.py:111: RuntimeWarning:overflow encountered in expm1\n"
     ]
    },
    {
     "name": "stdout",
     "output_type": "stream",
     "text": [
      "Optimization restart 1/5, f = 3140.609060399079\n"
     ]
    },
    {
     "name": "stderr",
     "output_type": "stream",
     "text": [
      " /Users/Matteo/opt/anaconda3/envs/ml_and_physical/lib/python3.8/site-packages/GPy/kern/src/stationary.py:168: RuntimeWarning:overflow encountered in true_divide\n",
      " /Users/Matteo/opt/anaconda3/envs/ml_and_physical/lib/python3.8/site-packages/GPy/kern/src/rbf.py:52: RuntimeWarning:overflow encountered in square\n",
      " /Users/Matteo/opt/anaconda3/envs/ml_and_physical/lib/python3.8/site-packages/GPy/kern/src/rbf.py:76: RuntimeWarning:invalid value encountered in multiply\n"
     ]
    },
    {
     "name": "stdout",
     "output_type": "stream",
     "text": [
      "Optimization restart 2/5, f = 4227.511822430336\n",
      "Optimization restart 3/5, f = 3140.608326228626\n",
      "Optimization restart 4/5, f = 3159.4019421769576\n",
      "Optimization restart 5/5, f = 3140.608318748615\n",
      "[[15.          8.         65.88808451  1.          1.5       ]]\n",
      "\n",
      "User function emissions called with 1 inputs to simulate\n",
      "\n",
      "Evaluating input: 1 of 1\n",
      "\n",
      " Retrying in 1 seconds\n",
      "\n",
      "Output 1724.7015567975807\n",
      "\n"
     ]
    },
    {
     "name": "stderr",
     "output_type": "stream",
     "text": [
      " /Users/Matteo/opt/anaconda3/envs/ml_and_physical/lib/python3.8/site-packages/paramz/transformations.py:111: RuntimeWarning:overflow encountered in expm1\n"
     ]
    },
    {
     "name": "stdout",
     "output_type": "stream",
     "text": [
      "Optimization restart 1/5, f = 3145.542969647002\n",
      "Optimization restart 2/5, f = 3145.542236529659\n",
      "Optimization restart 3/5, f = 3145.5422353137515\n",
      "Optimization restart 4/5, f = 3145.5422354992297\n",
      "Optimization restart 5/5, f = 3145.5422353144986\n",
      "[[15.          8.         65.88918971  1.          1.5       ]]\n",
      "\n",
      "User function emissions called with 1 inputs to simulate\n",
      "\n",
      "Evaluating input: 1 of 1\n",
      "\n",
      " Retrying in 1 seconds\n",
      "\n",
      "Output 1725.761873233331\n",
      "\n"
     ]
    },
    {
     "name": "stderr",
     "output_type": "stream",
     "text": [
      " /Users/Matteo/opt/anaconda3/envs/ml_and_physical/lib/python3.8/site-packages/paramz/transformations.py:111: RuntimeWarning:overflow encountered in expm1\n"
     ]
    },
    {
     "name": "stdout",
     "output_type": "stream",
     "text": [
      "Optimization restart 1/5, f = 3150.453198435018\n",
      "Optimization restart 2/5, f = 3150.4524339737945\n"
     ]
    },
    {
     "name": "stderr",
     "output_type": "stream",
     "text": [
      " /Users/Matteo/opt/anaconda3/envs/ml_and_physical/lib/python3.8/site-packages/GPy/kern/src/rbf.py:52: RuntimeWarning:overflow encountered in square\n"
     ]
    },
    {
     "name": "stdout",
     "output_type": "stream",
     "text": [
      "Optimization restart 3/5, f = 3150.4524339660493\n",
      "Optimization restart 4/5, f = 3150.4524339911177\n"
     ]
    },
    {
     "name": "stderr",
     "output_type": "stream",
     "text": [
      " /Users/Matteo/opt/anaconda3/envs/ml_and_physical/lib/python3.8/site-packages/GPy/kern/src/stationary.py:168: RuntimeWarning:overflow encountered in true_divide\n",
      " /Users/Matteo/opt/anaconda3/envs/ml_and_physical/lib/python3.8/site-packages/GPy/kern/src/rbf.py:76: RuntimeWarning:invalid value encountered in multiply\n"
     ]
    },
    {
     "name": "stdout",
     "output_type": "stream",
     "text": [
      "Optimization restart 5/5, f = 3150.7896682421665\n",
      "[[13.          9.57340093 62.78970629  1.          1.58196468]]\n",
      "\n",
      "User function emissions called with 1 inputs to simulate\n",
      "\n",
      "Evaluating input: 1 of 1\n",
      "\n",
      " Retrying in 1 seconds\n",
      "\n",
      "Output 2106.3272064604703\n",
      "\n"
     ]
    },
    {
     "name": "stderr",
     "output_type": "stream",
     "text": [
      " /Users/Matteo/opt/anaconda3/envs/ml_and_physical/lib/python3.8/site-packages/paramz/transformations.py:111: RuntimeWarning:overflow encountered in expm1\n"
     ]
    },
    {
     "name": "stdout",
     "output_type": "stream",
     "text": [
      "Optimization restart 1/5, f = 3159.3796775865335\n",
      "Optimization restart 2/5, f = 3159.371868322608\n",
      "Optimization restart 3/5, f = 3159.371865380103\n",
      "Optimization restart 4/5, f = 3159.371865060778\n"
     ]
    },
    {
     "name": "stderr",
     "output_type": "stream",
     "text": [
      " /Users/Matteo/opt/anaconda3/envs/ml_and_physical/lib/python3.8/site-packages/GPy/kern/src/stationary.py:168: RuntimeWarning:overflow encountered in true_divide\n",
      " /Users/Matteo/opt/anaconda3/envs/ml_and_physical/lib/python3.8/site-packages/GPy/kern/src/rbf.py:52: RuntimeWarning:overflow encountered in square\n",
      " /Users/Matteo/opt/anaconda3/envs/ml_and_physical/lib/python3.8/site-packages/GPy/kern/src/rbf.py:76: RuntimeWarning:invalid value encountered in multiply\n"
     ]
    },
    {
     "name": "stdout",
     "output_type": "stream",
     "text": [
      "Optimization restart 5/5, f = 3366.919360851781\n",
      "[[15.          8.         66.13463177  1.          1.5       ]]\n",
      "\n",
      "User function emissions called with 1 inputs to simulate\n",
      "\n",
      "Evaluating input: 1 of 1\n",
      "\n",
      " Retrying in 1 seconds\n",
      "\n",
      "Output 1726.4992442645084\n",
      "\n"
     ]
    },
    {
     "name": "stderr",
     "output_type": "stream",
     "text": [
      " /Users/Matteo/opt/anaconda3/envs/ml_and_physical/lib/python3.8/site-packages/paramz/transformations.py:111: RuntimeWarning:overflow encountered in expm1\n"
     ]
    },
    {
     "name": "stdout",
     "output_type": "stream",
     "text": [
      "Optimization restart 1/5, f = 3164.2965191921103\n",
      "Optimization restart 2/5, f = 4238.294797077319\n",
      "Optimization restart 3/5, f = 3164.2957490687963\n",
      "Optimization restart 4/5, f = 3164.29574974757\n",
      "Optimization restart 5/5, f = 3164.2957490465838\n",
      "[[17.          8.30046833 66.84177358  1.          3.58282504]]\n",
      "\n",
      "User function emissions called with 1 inputs to simulate\n",
      "\n",
      "Evaluating input: 1 of 1\n",
      "\n",
      " Retrying in 1 seconds\n",
      "\n",
      "Output 1946.3287861559065\n",
      "\n"
     ]
    },
    {
     "name": "stderr",
     "output_type": "stream",
     "text": [
      " /Users/Matteo/opt/anaconda3/envs/ml_and_physical/lib/python3.8/site-packages/paramz/transformations.py:111: RuntimeWarning:overflow encountered in expm1\n"
     ]
    },
    {
     "name": "stdout",
     "output_type": "stream",
     "text": [
      "Optimization restart 1/5, f = 3169.364753952892\n",
      "Optimization restart 2/5, f = 3169.364717812082\n",
      "Optimization restart 3/5, f = 3169.364717711717\n",
      "Optimization restart 4/5, f = 3169.3647185409272\n",
      "Optimization restart 5/5, f = 3169.3647193841434\n",
      "[[15.          8.         66.14974684  1.          1.5       ]]\n",
      "\n",
      "User function emissions called with 1 inputs to simulate\n",
      "\n",
      "Evaluating input: 1 of 1\n",
      "\n",
      " Retrying in 1 seconds\n",
      "\n",
      "Output 1724.9067388593398\n",
      "\n"
     ]
    },
    {
     "name": "stderr",
     "output_type": "stream",
     "text": [
      " /Users/Matteo/opt/anaconda3/envs/ml_and_physical/lib/python3.8/site-packages/paramz/transformations.py:111: RuntimeWarning:overflow encountered in expm1\n"
     ]
    },
    {
     "name": "stdout",
     "output_type": "stream",
     "text": [
      "Optimization restart 1/5, f = 3174.294501949814\n",
      "Optimization restart 2/5, f = 3174.2937610277263\n",
      "Optimization restart 3/5, f = 3174.2937604868603\n",
      "Optimization restart 4/5, f = 3174.2937606736705\n",
      "Optimization restart 5/5, f = 3174.2937604881927\n",
      "[[15.          8.         66.15760829  1.          1.5       ]]\n",
      "\n",
      "User function emissions called with 1 inputs to simulate\n",
      "\n",
      "Evaluating input: 1 of 1\n",
      "\n",
      " Retrying in 1 seconds\n",
      "\n",
      "Output 1724.7597666063523\n",
      "\n"
     ]
    },
    {
     "name": "stderr",
     "output_type": "stream",
     "text": [
      " /Users/Matteo/opt/anaconda3/envs/ml_and_physical/lib/python3.8/site-packages/paramz/transformations.py:111: RuntimeWarning:overflow encountered in expm1\n"
     ]
    },
    {
     "name": "stdout",
     "output_type": "stream",
     "text": [
      "Optimization restart 1/5, f = 3179.2152690126677\n",
      "Optimization restart 2/5, f = 3179.2145266402936\n"
     ]
    },
    {
     "name": "stderr",
     "output_type": "stream",
     "text": [
      " /Users/Matteo/opt/anaconda3/envs/ml_and_physical/lib/python3.8/site-packages/GPy/kern/src/stationary.py:168: RuntimeWarning:overflow encountered in true_divide\n",
      " /Users/Matteo/opt/anaconda3/envs/ml_and_physical/lib/python3.8/site-packages/GPy/kern/src/rbf.py:52: RuntimeWarning:overflow encountered in square\n",
      " /Users/Matteo/opt/anaconda3/envs/ml_and_physical/lib/python3.8/site-packages/GPy/kern/src/rbf.py:76: RuntimeWarning:invalid value encountered in multiply\n"
     ]
    },
    {
     "name": "stdout",
     "output_type": "stream",
     "text": [
      "Optimization restart 3/5, f = 3572.7821638212577\n",
      "Optimization restart 4/5, f = 3184.5160964556017\n",
      "Optimization restart 5/5, f = 3179.2145268137015\n",
      "[[15.          8.         66.16530806  1.          1.5       ]]\n",
      "\n",
      "User function emissions called with 1 inputs to simulate\n",
      "\n",
      "Evaluating input: 1 of 1\n",
      "\n",
      " Retrying in 1 seconds\n",
      "\n",
      "Output 1731.2845783224395\n",
      "\n"
     ]
    },
    {
     "name": "stderr",
     "output_type": "stream",
     "text": [
      " /Users/Matteo/opt/anaconda3/envs/ml_and_physical/lib/python3.8/site-packages/paramz/transformations.py:111: RuntimeWarning:overflow encountered in expm1\n"
     ]
    },
    {
     "name": "stdout",
     "output_type": "stream",
     "text": [
      "Optimization restart 1/5, f = 3184.0627355452293\n",
      "Optimization restart 2/5, f = 3184.0619087030746\n",
      "Optimization restart 3/5, f = 3184.0619087094205\n"
     ]
    },
    {
     "name": "stderr",
     "output_type": "stream",
     "text": [
      " /Users/Matteo/opt/anaconda3/envs/ml_and_physical/lib/python3.8/site-packages/GPy/kern/src/stationary.py:168: RuntimeWarning:overflow encountered in true_divide\n",
      " /Users/Matteo/opt/anaconda3/envs/ml_and_physical/lib/python3.8/site-packages/GPy/kern/src/rbf.py:52: RuntimeWarning:overflow encountered in square\n",
      " /Users/Matteo/opt/anaconda3/envs/ml_and_physical/lib/python3.8/site-packages/GPy/kern/src/rbf.py:76: RuntimeWarning:invalid value encountered in multiply\n"
     ]
    },
    {
     "name": "stdout",
     "output_type": "stream",
     "text": [
      "Optimization restart 4/5, f = 3962.4771796975456\n",
      "Optimization restart 5/5, f = 3184.0619087141145\n",
      "[[15.         8.        66.1708518  1.         1.5      ]]\n",
      "\n",
      "User function emissions called with 1 inputs to simulate\n",
      "\n",
      "Evaluating input: 1 of 1\n",
      "\n",
      " Retrying in 1 seconds\n",
      "\n",
      "Output 1725.758217894866\n",
      "\n"
     ]
    },
    {
     "name": "stderr",
     "output_type": "stream",
     "text": [
      " /Users/Matteo/opt/anaconda3/envs/ml_and_physical/lib/python3.8/site-packages/paramz/transformations.py:111: RuntimeWarning:overflow encountered in expm1\n"
     ]
    },
    {
     "name": "stdout",
     "output_type": "stream",
     "text": [
      "Optimization restart 1/5, f = 3188.9560876546607\n",
      "Optimization restart 2/5, f = 3188.955329595853\n",
      "Optimization restart 3/5, f = 3188.9553295873775\n",
      "Optimization restart 4/5, f = 3188.9553296038316\n",
      "Optimization restart 5/5, f = 3188.9553295966375\n",
      "[[12.          8.36175134 64.88101592  1.          1.62913061]]\n",
      "\n",
      "User function emissions called with 1 inputs to simulate\n",
      "\n",
      "Evaluating input: 1 of 1\n",
      "\n",
      " Retrying in 1 seconds\n",
      "\n",
      "Output 1835.8426953572905\n",
      "\n"
     ]
    },
    {
     "name": "stderr",
     "output_type": "stream",
     "text": [
      " /Users/Matteo/opt/anaconda3/envs/ml_and_physical/lib/python3.8/site-packages/paramz/transformations.py:111: RuntimeWarning:overflow encountered in expm1\n"
     ]
    },
    {
     "name": "stdout",
     "output_type": "stream",
     "text": [
      "Optimization restart 1/5, f = 3193.7393575922238\n",
      "Optimization restart 2/5, f = 3193.7385643337693\n",
      "Optimization restart 3/5, f = 3193.7385643871366\n",
      "Optimization restart 4/5, f = 3193.7385650854762\n",
      "Optimization restart 5/5, f = 3193.7385643377847\n",
      "[[15.          8.         66.17635667  1.          1.5       ]]\n",
      "\n",
      "User function emissions called with 1 inputs to simulate\n",
      "\n",
      "Evaluating input: 1 of 1\n",
      "\n",
      " Retrying in 1 seconds\n",
      "\n",
      "Output 1721.0045967292697\n",
      "\n"
     ]
    },
    {
     "name": "stderr",
     "output_type": "stream",
     "text": [
      " /Users/Matteo/opt/anaconda3/envs/ml_and_physical/lib/python3.8/site-packages/paramz/transformations.py:111: RuntimeWarning:overflow encountered in expm1\n"
     ]
    },
    {
     "name": "stdout",
     "output_type": "stream",
     "text": [
      "Optimization restart 1/5, f = 3198.677057559056\n"
     ]
    },
    {
     "name": "stderr",
     "output_type": "stream",
     "text": [
      " /Users/Matteo/opt/anaconda3/envs/ml_and_physical/lib/python3.8/site-packages/GPy/kern/src/rbf.py:52: RuntimeWarning:overflow encountered in square\n"
     ]
    },
    {
     "name": "stdout",
     "output_type": "stream",
     "text": [
      "Optimization restart 2/5, f = 3198.676398689483\n",
      "Optimization restart 3/5, f = 3198.6763992465076\n",
      "Optimization restart 4/5, f = 3198.67639876331\n",
      "Optimization restart 5/5, f = 3198.6764008517\n",
      "[[15.          8.         66.18485921  1.          1.5       ]]\n",
      "\n",
      "User function emissions called with 1 inputs to simulate\n",
      "\n",
      "Evaluating input: 1 of 1\n",
      "\n",
      " Retrying in 1 seconds\n",
      "\n",
      "Output 1721.0045967292697\n",
      "\n"
     ]
    },
    {
     "name": "stderr",
     "output_type": "stream",
     "text": [
      " /Users/Matteo/opt/anaconda3/envs/ml_and_physical/lib/python3.8/site-packages/paramz/transformations.py:111: RuntimeWarning:overflow encountered in expm1\n"
     ]
    },
    {
     "name": "stdout",
     "output_type": "stream",
     "text": [
      "Optimization restart 1/5, f = 3203.6051343931504\n"
     ]
    },
    {
     "name": "stderr",
     "output_type": "stream",
     "text": [
      " /Users/Matteo/opt/anaconda3/envs/ml_and_physical/lib/python3.8/site-packages/GPy/kern/src/stationary.py:168: RuntimeWarning:overflow encountered in true_divide\n",
      " /Users/Matteo/opt/anaconda3/envs/ml_and_physical/lib/python3.8/site-packages/GPy/kern/src/rbf.py:52: RuntimeWarning:overflow encountered in square\n",
      " /Users/Matteo/opt/anaconda3/envs/ml_and_physical/lib/python3.8/site-packages/GPy/kern/src/rbf.py:76: RuntimeWarning:invalid value encountered in multiply\n"
     ]
    },
    {
     "name": "stdout",
     "output_type": "stream",
     "text": [
      "Optimization restart 2/5, f = 3572.8432558225295\n",
      "Optimization restart 3/5, f = 3203.6044694905377\n",
      "Optimization restart 4/5, f = 3203.604469493559\n",
      "Optimization restart 5/5, f = 3203.6044721559256\n",
      "[[15.          8.         66.19319121  1.          1.5       ]]\n",
      "\n",
      "User function emissions called with 1 inputs to simulate\n",
      "\n",
      "Evaluating input: 1 of 1\n",
      "\n",
      " Retrying in 1 seconds\n",
      "\n",
      "Output 1730.0824059634638\n",
      "\n"
     ]
    },
    {
     "name": "stderr",
     "output_type": "stream",
     "text": [
      " /Users/Matteo/opt/anaconda3/envs/ml_and_physical/lib/python3.8/site-packages/paramz/transformations.py:111: RuntimeWarning:overflow encountered in expm1\n"
     ]
    },
    {
     "name": "stdout",
     "output_type": "stream",
     "text": [
      "Optimization restart 1/5, f = 3208.434029129602\n"
     ]
    },
    {
     "name": "stderr",
     "output_type": "stream",
     "text": [
      " /Users/Matteo/opt/anaconda3/envs/ml_and_physical/lib/python3.8/site-packages/GPy/kern/src/stationary.py:168: RuntimeWarning:overflow encountered in true_divide\n",
      " /Users/Matteo/opt/anaconda3/envs/ml_and_physical/lib/python3.8/site-packages/GPy/kern/src/rbf.py:52: RuntimeWarning:overflow encountered in square\n",
      " /Users/Matteo/opt/anaconda3/envs/ml_and_physical/lib/python3.8/site-packages/GPy/kern/src/rbf.py:76: RuntimeWarning:invalid value encountered in multiply\n"
     ]
    },
    {
     "name": "stdout",
     "output_type": "stream",
     "text": [
      "Optimization restart 2/5, f = 3574.9916820112453\n",
      "Optimization restart 3/5, f = 3208.433229027207\n",
      "Optimization restart 4/5, f = 3595.4830367384207\n",
      "Optimization restart 5/5, f = 3208.433229206802\n",
      "[[15.          8.         66.19859434  1.          1.5       ]]\n",
      "\n",
      "User function emissions called with 1 inputs to simulate\n",
      "\n",
      "Evaluating input: 1 of 1\n",
      "\n",
      " Retrying in 1 seconds\n",
      "\n",
      "Output 1721.547162744438\n",
      "\n"
     ]
    },
    {
     "name": "stderr",
     "output_type": "stream",
     "text": [
      " /Users/Matteo/opt/anaconda3/envs/ml_and_physical/lib/python3.8/site-packages/paramz/transformations.py:111: RuntimeWarning:overflow encountered in expm1\n"
     ]
    },
    {
     "name": "stdout",
     "output_type": "stream",
     "text": [
      "Optimization restart 1/5, f = 3213.340057188359\n",
      "Optimization restart 2/5, f = 3213.339379154223\n",
      "Optimization restart 3/5, f = 3213.33937915566\n",
      "Optimization restart 4/5, f = 3213.339379154777\n",
      "Optimization restart 5/5, f = 3213.3393791611284\n",
      "[[15.          8.         66.20641999  1.          1.5       ]]\n",
      "\n",
      "User function emissions called with 1 inputs to simulate\n",
      "\n",
      "Evaluating input: 1 of 1\n",
      "\n",
      " Retrying in 1 seconds\n",
      "\n",
      "Output 1724.28838317732\n",
      "\n"
     ]
    },
    {
     "name": "stderr",
     "output_type": "stream",
     "text": [
      " /Users/Matteo/opt/anaconda3/envs/ml_and_physical/lib/python3.8/site-packages/paramz/transformations.py:111: RuntimeWarning:overflow encountered in expm1\n"
     ]
    },
    {
     "name": "stdout",
     "output_type": "stream",
     "text": [
      "Optimization restart 1/5, f = 3218.2087571573893\n",
      "Optimization restart 2/5, f = 3218.2080290305908\n",
      "Optimization restart 3/5, f = 3218.2080290288545\n",
      "Optimization restart 4/5, f = 3218.2080290202694\n"
     ]
    },
    {
     "name": "stderr",
     "output_type": "stream",
     "text": [
      " /Users/Matteo/opt/anaconda3/envs/ml_and_physical/lib/python3.8/site-packages/GPy/kern/src/stationary.py:168: RuntimeWarning:overflow encountered in true_divide\n",
      " /Users/Matteo/opt/anaconda3/envs/ml_and_physical/lib/python3.8/site-packages/GPy/kern/src/rbf.py:52: RuntimeWarning:overflow encountered in square\n",
      " /Users/Matteo/opt/anaconda3/envs/ml_and_physical/lib/python3.8/site-packages/GPy/kern/src/rbf.py:76: RuntimeWarning:invalid value encountered in multiply\n"
     ]
    },
    {
     "name": "stdout",
     "output_type": "stream",
     "text": [
      "Optimization restart 5/5, f = 3330.255578503027\n",
      "[[15.          8.         66.21326751  1.          1.5       ]]\n",
      "\n",
      "User function emissions called with 1 inputs to simulate\n",
      "\n",
      "Evaluating input: 1 of 1\n",
      "\n",
      " Retrying in 1 seconds\n",
      "\n",
      "Output 1718.5519022665358\n",
      "\n"
     ]
    },
    {
     "name": "stderr",
     "output_type": "stream",
     "text": [
      " /Users/Matteo/opt/anaconda3/envs/ml_and_physical/lib/python3.8/site-packages/paramz/transformations.py:111: RuntimeWarning:overflow encountered in expm1\n"
     ]
    },
    {
     "name": "stdout",
     "output_type": "stream",
     "text": [
      "Optimization restart 1/5, f = 3223.1352254374806\n",
      "Optimization restart 2/5, f = 3223.1346016157277\n"
     ]
    },
    {
     "name": "stderr",
     "output_type": "stream",
     "text": [
      " /Users/Matteo/opt/anaconda3/envs/ml_and_physical/lib/python3.8/site-packages/GPy/kern/src/rbf.py:52: RuntimeWarning:overflow encountered in square\n"
     ]
    },
    {
     "name": "stdout",
     "output_type": "stream",
     "text": [
      "Optimization restart 3/5, f = 3223.13460222931\n",
      "Optimization restart 4/5, f = 3223.134601595537\n",
      "Optimization restart 5/5, f = 3223.1346015908857\n",
      "[[15.          8.         66.22197708  1.          1.5       ]]\n",
      "\n",
      "User function emissions called with 1 inputs to simulate\n",
      "\n",
      "Evaluating input: 1 of 1\n",
      "\n",
      " Retrying in 1 seconds\n",
      "\n",
      "Output 1723.7617333840706\n",
      "\n"
     ]
    },
    {
     "name": "stderr",
     "output_type": "stream",
     "text": [
      " /Users/Matteo/opt/anaconda3/envs/ml_and_physical/lib/python3.8/site-packages/paramz/transformations.py:111: RuntimeWarning:overflow encountered in expm1\n"
     ]
    },
    {
     "name": "stdout",
     "output_type": "stream",
     "text": [
      "Optimization restart 1/5, f = 3227.9953760793906\n",
      "Optimization restart 2/5, f = 3227.994652058719\n",
      "Optimization restart 3/5, f = 3227.9946522227433\n",
      "Optimization restart 4/5, f = 3227.994652052437\n",
      "Optimization restart 5/5, f = 3227.9946520574417\n"
     ]
    }
   ],
   "source": [
    "bo_model_variance = BayesianOptimizationLoop(parameter_space, emukit_model_variance, acquisition=acquisition_model_variance)\n",
    "bo_model_variance.run_loop(user_function_emissions, n_iter_bo)"
   ]
  },
  {
   "cell_type": "code",
   "execution_count": 25,
   "metadata": {},
   "outputs": [
    {
     "name": "stdout",
     "output_type": "stream",
     "text": [
      "Optimization restart 1/5, f = 2872.31572980932\n",
      "Optimization restart 2/5, f = 2872.3157298039346\n",
      "Optimization restart 3/5, f = 2872.3157324051763\n",
      "Optimization restart 4/5, f = 2872.315729809092\n"
     ]
    },
    {
     "name": "stderr",
     "output_type": "stream",
     "text": [
      " /Users/Matteo/opt/anaconda3/envs/ml_and_physical/lib/python3.8/site-packages/GPy/kern/src/rbf.py:52: RuntimeWarning:overflow encountered in square\n"
     ]
    },
    {
     "name": "stdout",
     "output_type": "stream",
     "text": [
      "Optimization restart 5/5, f = 2872.3157298117976\n",
      "[[18.   8.  70.   1.   1.5]]\n",
      "\n",
      "User function emissions called with 1 inputs to simulate\n",
      "\n",
      "Evaluating input: 1 of 1\n",
      "\n",
      " Retrying in 1 seconds\n",
      "\n",
      "Output 1678.9463145100683\n",
      "\n"
     ]
    },
    {
     "name": "stderr",
     "output_type": "stream",
     "text": [
      " /Users/Matteo/opt/anaconda3/envs/ml_and_physical/lib/python3.8/site-packages/paramz/transformations.py:111: RuntimeWarning:overflow encountered in expm1\n"
     ]
    },
    {
     "name": "stdout",
     "output_type": "stream",
     "text": [
      "Optimization restart 1/5, f = 2886.629894738568\n"
     ]
    },
    {
     "name": "stderr",
     "output_type": "stream",
     "text": [
      " /Users/Matteo/opt/anaconda3/envs/ml_and_physical/lib/python3.8/site-packages/GPy/kern/src/stationary.py:168: RuntimeWarning:overflow encountered in true_divide\n",
      " /Users/Matteo/opt/anaconda3/envs/ml_and_physical/lib/python3.8/site-packages/GPy/kern/src/rbf.py:52: RuntimeWarning:overflow encountered in square\n",
      " /Users/Matteo/opt/anaconda3/envs/ml_and_physical/lib/python3.8/site-packages/GPy/kern/src/rbf.py:76: RuntimeWarning:invalid value encountered in multiply\n"
     ]
    },
    {
     "name": "stdout",
     "output_type": "stream",
     "text": [
      "Optimization restart 2/5, f = 3564.2380569049906\n",
      "Optimization restart 3/5, f = 3196.56888656399\n",
      "Optimization restart 4/5, f = 2886.6050147511496\n",
      "Optimization restart 5/5, f = 2886.6050083616833\n",
      "[[14.          8.22178781 68.28185638  1.          2.07470602]]\n",
      "\n",
      "User function emissions called with 1 inputs to simulate\n",
      "\n",
      "Evaluating input: 1 of 1\n",
      "\n",
      " Retrying in 1 seconds\n",
      "\n",
      "Output 1776.8574889312372\n",
      "\n"
     ]
    },
    {
     "name": "stderr",
     "output_type": "stream",
     "text": [
      " /Users/Matteo/opt/anaconda3/envs/ml_and_physical/lib/python3.8/site-packages/paramz/transformations.py:111: RuntimeWarning:overflow encountered in expm1\n"
     ]
    },
    {
     "name": "stdout",
     "output_type": "stream",
     "text": [
      "Optimization restart 1/5, f = 2897.4195935397834\n",
      "Optimization restart 2/5, f = 2897.3552807733627\n"
     ]
    },
    {
     "name": "stderr",
     "output_type": "stream",
     "text": [
      " /Users/Matteo/opt/anaconda3/envs/ml_and_physical/lib/python3.8/site-packages/GPy/kern/src/stationary.py:168: RuntimeWarning:overflow encountered in true_divide\n",
      " /Users/Matteo/opt/anaconda3/envs/ml_and_physical/lib/python3.8/site-packages/GPy/kern/src/rbf.py:52: RuntimeWarning:overflow encountered in square\n",
      " /Users/Matteo/opt/anaconda3/envs/ml_and_physical/lib/python3.8/site-packages/GPy/kern/src/rbf.py:76: RuntimeWarning:invalid value encountered in multiply\n"
     ]
    },
    {
     "name": "stdout",
     "output_type": "stream",
     "text": [
      "Optimization restart 3/5, f = 3088.053089317473\n",
      "Optimization restart 4/5, f = 3150.089998639233\n",
      "Optimization restart 5/5, f = 3269.262523253756\n",
      "[[19.          8.08962581 63.86789227  1.          2.03390392]]\n",
      "\n",
      "User function emissions called with 1 inputs to simulate\n",
      "\n",
      "Evaluating input: 1 of 1\n",
      "\n",
      " Retrying in 1 seconds\n",
      "\n",
      "Output 1751.9111572037307\n",
      "\n"
     ]
    },
    {
     "name": "stderr",
     "output_type": "stream",
     "text": [
      " /Users/Matteo/opt/anaconda3/envs/ml_and_physical/lib/python3.8/site-packages/paramz/transformations.py:111: RuntimeWarning:overflow encountered in expm1\n"
     ]
    },
    {
     "name": "stdout",
     "output_type": "stream",
     "text": [
      "Optimization restart 1/5, f = 2909.1941965397727\n",
      "Optimization restart 2/5, f = 2909.1920137925904\n",
      "Optimization restart 3/5, f = 2909.192014052315\n",
      "Optimization restart 4/5, f = 2909.192014299404\n",
      "Optimization restart 5/5, f = 2909.19201379253\n",
      "[[16.          9.43407492 69.65340116  3.          1.50828821]]\n",
      "\n",
      "User function emissions called with 1 inputs to simulate\n",
      "\n",
      "Evaluating input: 1 of 1\n",
      "\n",
      " Retrying in 1 seconds\n",
      "\n",
      "Output 2105.3222608004726\n",
      "\n"
     ]
    },
    {
     "name": "stderr",
     "output_type": "stream",
     "text": [
      " /Users/Matteo/opt/anaconda3/envs/ml_and_physical/lib/python3.8/site-packages/paramz/transformations.py:111: RuntimeWarning:overflow encountered in expm1\n"
     ]
    },
    {
     "name": "stdout",
     "output_type": "stream",
     "text": [
      "Optimization restart 1/5, f = 2914.5410205672374\n",
      "Optimization restart 2/5, f = 2914.538673460593\n",
      "Optimization restart 3/5, f = 2914.538673511673\n"
     ]
    },
    {
     "name": "stderr",
     "output_type": "stream",
     "text": [
      " /Users/Matteo/opt/anaconda3/envs/ml_and_physical/lib/python3.8/site-packages/GPy/kern/src/stationary.py:168: RuntimeWarning:overflow encountered in true_divide\n",
      " /Users/Matteo/opt/anaconda3/envs/ml_and_physical/lib/python3.8/site-packages/GPy/kern/src/rbf.py:52: RuntimeWarning:overflow encountered in square\n",
      " /Users/Matteo/opt/anaconda3/envs/ml_and_physical/lib/python3.8/site-packages/GPy/kern/src/rbf.py:76: RuntimeWarning:invalid value encountered in multiply\n"
     ]
    },
    {
     "name": "stdout",
     "output_type": "stream",
     "text": [
      "Optimization restart 4/5, f = 10143.14263674215\n",
      "Optimization restart 5/5, f = 2914.5386819389937\n",
      "[[ 8.          8.01898309 69.56953847  1.          2.09870809]]\n",
      "\n",
      "User function emissions called with 1 inputs to simulate\n",
      "\n",
      "Evaluating input: 1 of 1\n",
      "\n",
      " Retrying in 1 seconds\n",
      "\n",
      "Output 1822.5891097666417\n",
      "\n"
     ]
    },
    {
     "name": "stderr",
     "output_type": "stream",
     "text": [
      " /Users/Matteo/opt/anaconda3/envs/ml_and_physical/lib/python3.8/site-packages/paramz/transformations.py:111: RuntimeWarning:overflow encountered in expm1\n"
     ]
    },
    {
     "name": "stdout",
     "output_type": "stream",
     "text": [
      "Optimization restart 1/5, f = 2925.5169109339495\n",
      "Optimization restart 2/5, f = 2925.513309988147\n",
      "Optimization restart 3/5, f = 2925.5133099869836\n"
     ]
    },
    {
     "name": "stderr",
     "output_type": "stream",
     "text": [
      " /Users/Matteo/opt/anaconda3/envs/ml_and_physical/lib/python3.8/site-packages/GPy/kern/src/stationary.py:168: RuntimeWarning:overflow encountered in true_divide\n",
      " /Users/Matteo/opt/anaconda3/envs/ml_and_physical/lib/python3.8/site-packages/GPy/kern/src/rbf.py:52: RuntimeWarning:overflow encountered in square\n",
      " /Users/Matteo/opt/anaconda3/envs/ml_and_physical/lib/python3.8/site-packages/GPy/kern/src/rbf.py:76: RuntimeWarning:invalid value encountered in multiply\n"
     ]
    },
    {
     "name": "stdout",
     "output_type": "stream",
     "text": [
      "Optimization restart 4/5, f = 3270.5651610024006\n",
      "Optimization restart 5/5, f = 2925.5133099862533\n",
      "[[20.          8.1784414  63.69510442  1.          2.32927227]]\n",
      "\n",
      "User function emissions called with 1 inputs to simulate\n",
      "\n",
      "Evaluating input: 1 of 1\n",
      "\n",
      " Retrying in 1 seconds\n",
      "\n",
      "Output 1787.5349573160227\n",
      "\n"
     ]
    },
    {
     "name": "stderr",
     "output_type": "stream",
     "text": [
      " /Users/Matteo/opt/anaconda3/envs/ml_and_physical/lib/python3.8/site-packages/paramz/transformations.py:111: RuntimeWarning:overflow encountered in expm1\n"
     ]
    },
    {
     "name": "stdout",
     "output_type": "stream",
     "text": [
      "Optimization restart 1/5, f = 2934.192524376519\n",
      "Optimization restart 2/5, f = 2934.1841523249886\n",
      "Optimization restart 3/5, f = 2934.1841520272055\n"
     ]
    },
    {
     "name": "stderr",
     "output_type": "stream",
     "text": [
      " /Users/Matteo/opt/anaconda3/envs/ml_and_physical/lib/python3.8/site-packages/GPy/kern/src/stationary.py:168: RuntimeWarning:overflow encountered in true_divide\n",
      " /Users/Matteo/opt/anaconda3/envs/ml_and_physical/lib/python3.8/site-packages/GPy/kern/src/rbf.py:52: RuntimeWarning:overflow encountered in square\n",
      " /Users/Matteo/opt/anaconda3/envs/ml_and_physical/lib/python3.8/site-packages/GPy/kern/src/rbf.py:76: RuntimeWarning:invalid value encountered in multiply\n"
     ]
    },
    {
     "name": "stdout",
     "output_type": "stream",
     "text": [
      "Optimization restart 4/5, f = 12125.144706343333\n",
      "Optimization restart 5/5, f = 2934.1841520279554\n",
      "[[20.   8.  70.   1.   1.5]]\n",
      "\n",
      "User function emissions called with 1 inputs to simulate\n",
      "\n",
      "Evaluating input: 1 of 1\n",
      "\n",
      " Retrying in 1 seconds\n",
      "\n",
      "Output 1662.044947592042\n",
      "\n"
     ]
    },
    {
     "name": "stderr",
     "output_type": "stream",
     "text": [
      " /Users/Matteo/opt/anaconda3/envs/ml_and_physical/lib/python3.8/site-packages/paramz/transformations.py:111: RuntimeWarning:overflow encountered in expm1\n"
     ]
    },
    {
     "name": "stdout",
     "output_type": "stream",
     "text": [
      "Optimization restart 1/5, f = 2941.1387942806464\n",
      "Optimization restart 2/5, f = 2941.1317356224686\n"
     ]
    },
    {
     "name": "stderr",
     "output_type": "stream",
     "text": [
      " /Users/Matteo/opt/anaconda3/envs/ml_and_physical/lib/python3.8/site-packages/GPy/kern/src/stationary.py:168: RuntimeWarning:overflow encountered in true_divide\n",
      " /Users/Matteo/opt/anaconda3/envs/ml_and_physical/lib/python3.8/site-packages/GPy/kern/src/rbf.py:52: RuntimeWarning:overflow encountered in square\n",
      " /Users/Matteo/opt/anaconda3/envs/ml_and_physical/lib/python3.8/site-packages/GPy/kern/src/rbf.py:76: RuntimeWarning:invalid value encountered in multiply\n"
     ]
    },
    {
     "name": "stdout",
     "output_type": "stream",
     "text": [
      "Optimization restart 3/5, f = 2941.1752223239546\n",
      "Optimization restart 4/5, f = 2941.1317511151537\n",
      "Optimization restart 5/5, f = 2941.131735795283\n",
      "[[20.   8.  70.   1.   1.5]]\n",
      "\n",
      "User function emissions called with 1 inputs to simulate\n",
      "\n",
      "Evaluating input: 1 of 1\n",
      "\n",
      " Retrying in 1 seconds\n",
      "\n",
      "Output 1662.044947592042\n",
      "\n"
     ]
    },
    {
     "name": "stderr",
     "output_type": "stream",
     "text": [
      " /Users/Matteo/opt/anaconda3/envs/ml_and_physical/lib/python3.8/site-packages/paramz/transformations.py:111: RuntimeWarning:overflow encountered in expm1\n"
     ]
    },
    {
     "name": "stdout",
     "output_type": "stream",
     "text": [
      "Optimization restart 1/5, f = 2946.7130677577657\n",
      "Optimization restart 2/5, f = 2946.712894191824\n",
      "Optimization restart 3/5, f = 2946.7128941585856\n"
     ]
    },
    {
     "name": "stderr",
     "output_type": "stream",
     "text": [
      " /Users/Matteo/opt/anaconda3/envs/ml_and_physical/lib/python3.8/site-packages/GPy/kern/src/stationary.py:168: RuntimeWarning:overflow encountered in true_divide\n",
      " /Users/Matteo/opt/anaconda3/envs/ml_and_physical/lib/python3.8/site-packages/GPy/kern/src/rbf.py:52: RuntimeWarning:overflow encountered in square\n",
      " /Users/Matteo/opt/anaconda3/envs/ml_and_physical/lib/python3.8/site-packages/GPy/kern/src/rbf.py:76: RuntimeWarning:invalid value encountered in multiply\n"
     ]
    },
    {
     "name": "stdout",
     "output_type": "stream",
     "text": [
      "Optimization restart 4/5, f = 2949.7644058485403\n",
      "Optimization restart 5/5, f = 2946.712894157046\n",
      "[[20.   8.  70.   1.   1.5]]\n",
      "\n",
      "User function emissions called with 1 inputs to simulate\n",
      "\n",
      "Evaluating input: 1 of 1\n",
      "\n",
      " Retrying in 1 seconds\n",
      "\n",
      "Output 1662.044947592042\n",
      "\n"
     ]
    },
    {
     "name": "stderr",
     "output_type": "stream",
     "text": [
      " /Users/Matteo/opt/anaconda3/envs/ml_and_physical/lib/python3.8/site-packages/paramz/transformations.py:111: RuntimeWarning:overflow encountered in expm1\n"
     ]
    },
    {
     "name": "stdout",
     "output_type": "stream",
     "text": [
      "Optimization restart 1/5, f = 2951.881259573896\n",
      "Optimization restart 2/5, f = 2951.880627890631\n"
     ]
    },
    {
     "name": "stderr",
     "output_type": "stream",
     "text": [
      " /Users/Matteo/opt/anaconda3/envs/ml_and_physical/lib/python3.8/site-packages/GPy/kern/src/rbf.py:52: RuntimeWarning:overflow encountered in square\n"
     ]
    },
    {
     "name": "stdout",
     "output_type": "stream",
     "text": [
      "Optimization restart 3/5, f = 2951.8806278843913\n"
     ]
    },
    {
     "name": "stderr",
     "output_type": "stream",
     "text": [
      " /Users/Matteo/opt/anaconda3/envs/ml_and_physical/lib/python3.8/site-packages/GPy/kern/src/stationary.py:168: RuntimeWarning:overflow encountered in true_divide\n",
      " /Users/Matteo/opt/anaconda3/envs/ml_and_physical/lib/python3.8/site-packages/GPy/kern/src/rbf.py:76: RuntimeWarning:invalid value encountered in multiply\n"
     ]
    },
    {
     "name": "stdout",
     "output_type": "stream",
     "text": [
      "Optimization restart 4/5, f = 3156.2524174101845\n",
      "Optimization restart 5/5, f = 2951.8806279306577\n",
      "[[19.          8.47352166 62.04766197  1.          2.1221509 ]]\n",
      "\n",
      "User function emissions called with 1 inputs to simulate\n",
      "\n",
      "Evaluating input: 1 of 1\n",
      "\n",
      " Retrying in 1 seconds\n",
      "\n",
      "Output 1859.9848186296406\n",
      "\n"
     ]
    },
    {
     "name": "stderr",
     "output_type": "stream",
     "text": [
      " /Users/Matteo/opt/anaconda3/envs/ml_and_physical/lib/python3.8/site-packages/paramz/transformations.py:111: RuntimeWarning:overflow encountered in expm1\n"
     ]
    },
    {
     "name": "stdout",
     "output_type": "stream",
     "text": [
      "Optimization restart 1/5, f = 2957.669235092018\n",
      "Optimization restart 2/5, f = 2957.668948096108\n",
      "Optimization restart 3/5, f = 2957.66894944336\n",
      "Optimization restart 4/5, f = 2957.668946825891\n",
      "Optimization restart 5/5, f = 2957.6689468189415\n",
      "[[20.          8.33066893 67.64161847  2.          2.03755897]]\n",
      "\n",
      "User function emissions called with 1 inputs to simulate\n",
      "\n",
      "Evaluating input: 1 of 1\n",
      "\n",
      " Retrying in 1 seconds\n",
      "\n",
      "Output 1784.0079957760483\n",
      "\n"
     ]
    },
    {
     "name": "stderr",
     "output_type": "stream",
     "text": [
      " /Users/Matteo/opt/anaconda3/envs/ml_and_physical/lib/python3.8/site-packages/paramz/transformations.py:111: RuntimeWarning:overflow encountered in expm1\n"
     ]
    },
    {
     "name": "stdout",
     "output_type": "stream",
     "text": [
      "Optimization restart 1/5, f = 2966.309618262626\n",
      "Optimization restart 2/5, f = 2966.2813329664773\n"
     ]
    },
    {
     "name": "stderr",
     "output_type": "stream",
     "text": [
      " /Users/Matteo/opt/anaconda3/envs/ml_and_physical/lib/python3.8/site-packages/GPy/kern/src/stationary.py:168: RuntimeWarning:overflow encountered in true_divide\n",
      " /Users/Matteo/opt/anaconda3/envs/ml_and_physical/lib/python3.8/site-packages/GPy/kern/src/rbf.py:52: RuntimeWarning:overflow encountered in square\n",
      " /Users/Matteo/opt/anaconda3/envs/ml_and_physical/lib/python3.8/site-packages/GPy/kern/src/rbf.py:76: RuntimeWarning:invalid value encountered in multiply\n"
     ]
    },
    {
     "name": "stdout",
     "output_type": "stream",
     "text": [
      "Optimization restart 3/5, f = 3640.193133406461\n",
      "Optimization restart 4/5, f = 2966.281332980067\n",
      "Optimization restart 5/5, f = 2974.4859760242443\n",
      "[[17.          8.11247073 65.79050837  2.          1.75847349]]\n",
      "\n",
      "User function emissions called with 1 inputs to simulate\n",
      "\n",
      "Evaluating input: 1 of 1\n",
      "\n",
      " Retrying in 1 seconds\n",
      "\n",
      "Output 1751.5099784233007\n",
      "\n"
     ]
    },
    {
     "name": "stderr",
     "output_type": "stream",
     "text": [
      " /Users/Matteo/opt/anaconda3/envs/ml_and_physical/lib/python3.8/site-packages/paramz/transformations.py:111: RuntimeWarning:overflow encountered in expm1\n"
     ]
    },
    {
     "name": "stdout",
     "output_type": "stream",
     "text": [
      "Optimization restart 1/5, f = 2976.3412240275475\n",
      "Optimization restart 2/5, f = 2976.33978866933\n"
     ]
    },
    {
     "name": "stderr",
     "output_type": "stream",
     "text": [
      " /Users/Matteo/opt/anaconda3/envs/ml_and_physical/lib/python3.8/site-packages/GPy/kern/src/stationary.py:168: RuntimeWarning:overflow encountered in true_divide\n",
      " /Users/Matteo/opt/anaconda3/envs/ml_and_physical/lib/python3.8/site-packages/GPy/kern/src/rbf.py:52: RuntimeWarning:overflow encountered in square\n",
      " /Users/Matteo/opt/anaconda3/envs/ml_and_physical/lib/python3.8/site-packages/GPy/kern/src/rbf.py:76: RuntimeWarning:invalid value encountered in multiply\n"
     ]
    },
    {
     "name": "stdout",
     "output_type": "stream",
     "text": [
      "Optimization restart 3/5, f = 4460.422728935418\n",
      "Optimization restart 4/5, f = 2976.3397886654\n",
      "Optimization restart 5/5, f = 2976.3397886641496\n",
      "[[20.          8.         69.76625996  1.          1.5       ]]\n",
      "\n",
      "User function emissions called with 1 inputs to simulate\n",
      "\n",
      "Evaluating input: 1 of 1\n",
      "\n",
      " Retrying in 1 seconds\n",
      "\n",
      "Output 1667.6742417312246\n",
      "\n"
     ]
    },
    {
     "name": "stderr",
     "output_type": "stream",
     "text": [
      " /Users/Matteo/opt/anaconda3/envs/ml_and_physical/lib/python3.8/site-packages/paramz/transformations.py:111: RuntimeWarning:overflow encountered in expm1\n"
     ]
    },
    {
     "name": "stdout",
     "output_type": "stream",
     "text": [
      "Optimization restart 1/5, f = 2981.129447535433\n"
     ]
    },
    {
     "name": "stderr",
     "output_type": "stream",
     "text": [
      " /Users/Matteo/opt/anaconda3/envs/ml_and_physical/lib/python3.8/site-packages/GPy/kern/src/stationary.py:168: RuntimeWarning:overflow encountered in true_divide\n",
      " /Users/Matteo/opt/anaconda3/envs/ml_and_physical/lib/python3.8/site-packages/GPy/kern/src/rbf.py:52: RuntimeWarning:overflow encountered in square\n",
      " /Users/Matteo/opt/anaconda3/envs/ml_and_physical/lib/python3.8/site-packages/GPy/kern/src/rbf.py:76: RuntimeWarning:invalid value encountered in multiply\n"
     ]
    },
    {
     "name": "stdout",
     "output_type": "stream",
     "text": [
      "Optimization restart 2/5, f = 11813.718326064747\n",
      "Optimization restart 3/5, f = 2981.12841752205\n",
      "Optimization restart 4/5, f = 2984.7495622094675\n",
      "Optimization restart 5/5, f = 2987.361323695187\n",
      "[[17.          8.39013612 63.01896111  2.          1.63594845]]\n",
      "\n",
      "User function emissions called with 1 inputs to simulate\n",
      "\n",
      "Evaluating input: 1 of 1\n",
      "\n",
      " Retrying in 1 seconds\n",
      "\n",
      "Output 1828.7640401259612\n",
      "\n"
     ]
    },
    {
     "name": "stderr",
     "output_type": "stream",
     "text": [
      " /Users/Matteo/opt/anaconda3/envs/ml_and_physical/lib/python3.8/site-packages/paramz/transformations.py:111: RuntimeWarning:overflow encountered in expm1\n"
     ]
    },
    {
     "name": "stdout",
     "output_type": "stream",
     "text": [
      "Optimization restart 1/5, f = 2988.9175472935176\n",
      "Optimization restart 2/5, f = 2988.90569555724\n"
     ]
    },
    {
     "name": "stderr",
     "output_type": "stream",
     "text": [
      " /Users/Matteo/opt/anaconda3/envs/ml_and_physical/lib/python3.8/site-packages/GPy/kern/src/rbf.py:52: RuntimeWarning:overflow encountered in square\n",
      " /Users/Matteo/opt/anaconda3/envs/ml_and_physical/lib/python3.8/site-packages/GPy/kern/src/stationary.py:168: RuntimeWarning:overflow encountered in true_divide\n",
      " /Users/Matteo/opt/anaconda3/envs/ml_and_physical/lib/python3.8/site-packages/GPy/kern/src/rbf.py:76: RuntimeWarning:invalid value encountered in multiply\n"
     ]
    },
    {
     "name": "stdout",
     "output_type": "stream",
     "text": [
      "Optimization restart 3/5, f = 3045.451883233091\n",
      "Optimization restart 4/5, f = 2988.905694298265\n",
      "Optimization restart 5/5, f = 2988.905694271456\n",
      "[[20.          8.         69.36458312  1.          1.5       ]]\n",
      "\n",
      "User function emissions called with 1 inputs to simulate\n",
      "\n",
      "Evaluating input: 1 of 1\n",
      "\n",
      " Retrying in 1 seconds\n",
      "\n",
      "Output 1666.6792193225444\n",
      "\n"
     ]
    },
    {
     "name": "stderr",
     "output_type": "stream",
     "text": [
      " /Users/Matteo/opt/anaconda3/envs/ml_and_physical/lib/python3.8/site-packages/paramz/transformations.py:111: RuntimeWarning:overflow encountered in expm1\n"
     ]
    },
    {
     "name": "stdout",
     "output_type": "stream",
     "text": [
      "Optimization restart 1/5, f = 2993.670021228011\n",
      "Optimization restart 2/5, f = 2993.668834281858\n",
      "Optimization restart 3/5, f = 2993.6688339875936\n",
      "Optimization restart 4/5, f = 2993.668833933843\n",
      "Optimization restart 5/5, f = 2993.668833925977\n",
      "[[14.          8.40823377 68.49999846  1.          2.63241799]]\n",
      "\n",
      "User function emissions called with 1 inputs to simulate\n",
      "\n",
      "Evaluating input: 1 of 1\n",
      "\n",
      " Retrying in 1 seconds\n",
      "\n",
      "Output 1870.8601269925518\n",
      "\n"
     ]
    },
    {
     "name": "stderr",
     "output_type": "stream",
     "text": [
      " /Users/Matteo/opt/anaconda3/envs/ml_and_physical/lib/python3.8/site-packages/paramz/transformations.py:111: RuntimeWarning:overflow encountered in expm1\n"
     ]
    },
    {
     "name": "stdout",
     "output_type": "stream",
     "text": [
      "Optimization restart 1/5, f = 2998.8347885948565\n"
     ]
    },
    {
     "name": "stderr",
     "output_type": "stream",
     "text": [
      " /Users/Matteo/opt/anaconda3/envs/ml_and_physical/lib/python3.8/site-packages/GPy/kern/src/stationary.py:168: RuntimeWarning:overflow encountered in true_divide\n",
      " /Users/Matteo/opt/anaconda3/envs/ml_and_physical/lib/python3.8/site-packages/GPy/kern/src/rbf.py:52: RuntimeWarning:overflow encountered in square\n",
      " /Users/Matteo/opt/anaconda3/envs/ml_and_physical/lib/python3.8/site-packages/GPy/kern/src/rbf.py:76: RuntimeWarning:invalid value encountered in multiply\n"
     ]
    },
    {
     "name": "stdout",
     "output_type": "stream",
     "text": [
      "Optimization restart 2/5, f = 14669.915361325406\n",
      "Optimization restart 3/5, f = 2998.8346081667974\n",
      "Optimization restart 4/5, f = 2998.8346081643995\n",
      "Optimization restart 5/5, f = 2998.8346081769455\n",
      "[[20.          8.         69.32627266  1.          1.5       ]]\n",
      "\n",
      "User function emissions called with 1 inputs to simulate\n",
      "\n",
      "Evaluating input: 1 of 1\n",
      "\n",
      " Retrying in 1 seconds\n",
      "\n",
      "Output 1664.2732234301836\n",
      "\n"
     ]
    },
    {
     "name": "stderr",
     "output_type": "stream",
     "text": [
      " /Users/Matteo/opt/anaconda3/envs/ml_and_physical/lib/python3.8/site-packages/paramz/transformations.py:111: RuntimeWarning:overflow encountered in expm1\n"
     ]
    },
    {
     "name": "stdout",
     "output_type": "stream",
     "text": [
      "Optimization restart 1/5, f = 3003.5922606455056\n",
      "Optimization restart 2/5, f = 3170.157468729071\n",
      "Optimization restart 3/5, f = 3003.5911044996965\n",
      "Optimization restart 4/5, f = 3003.59110353525\n",
      "Optimization restart 5/5, f = 3003.5911035958275\n",
      "[[13.          8.00413829 64.382321    1.          3.75450594]]\n",
      "\n",
      "User function emissions called with 1 inputs to simulate\n",
      "\n",
      "Evaluating input: 1 of 1\n",
      "\n",
      " Retrying in 1 seconds\n",
      "\n",
      "Output 1930.033269786905\n",
      "\n"
     ]
    },
    {
     "name": "stderr",
     "output_type": "stream",
     "text": [
      " /Users/Matteo/opt/anaconda3/envs/ml_and_physical/lib/python3.8/site-packages/paramz/transformations.py:111: RuntimeWarning:overflow encountered in expm1\n"
     ]
    },
    {
     "name": "stdout",
     "output_type": "stream",
     "text": [
      "Optimization restart 1/5, f = 3008.6706460972277\n",
      "Optimization restart 2/5, f = 3008.6695931753543\n",
      "Optimization restart 3/5, f = 3008.6695931631166\n",
      "Optimization restart 4/5, f = 3008.669593184687\n",
      "Optimization restart 5/5, f = 3008.6695931626136\n",
      "[[20.          8.         69.29733726  1.          1.5       ]]\n",
      "\n",
      "User function emissions called with 1 inputs to simulate\n",
      "\n",
      "Evaluating input: 1 of 1\n",
      "\n",
      " Retrying in 1 seconds\n",
      "\n",
      "Output 1665.882916959135\n",
      "\n"
     ]
    },
    {
     "name": "stderr",
     "output_type": "stream",
     "text": [
      " /Users/Matteo/opt/anaconda3/envs/ml_and_physical/lib/python3.8/site-packages/paramz/transformations.py:111: RuntimeWarning:overflow encountered in expm1\n"
     ]
    },
    {
     "name": "stdout",
     "output_type": "stream",
     "text": [
      "Optimization restart 1/5, f = 3013.4024780518084\n"
     ]
    },
    {
     "name": "stderr",
     "output_type": "stream",
     "text": [
      " /Users/Matteo/opt/anaconda3/envs/ml_and_physical/lib/python3.8/site-packages/GPy/kern/src/stationary.py:168: RuntimeWarning:overflow encountered in true_divide\n",
      " /Users/Matteo/opt/anaconda3/envs/ml_and_physical/lib/python3.8/site-packages/GPy/kern/src/rbf.py:52: RuntimeWarning:overflow encountered in square\n",
      " /Users/Matteo/opt/anaconda3/envs/ml_and_physical/lib/python3.8/site-packages/GPy/kern/src/rbf.py:76: RuntimeWarning:invalid value encountered in multiply\n"
     ]
    },
    {
     "name": "stdout",
     "output_type": "stream",
     "text": [
      "Optimization restart 2/5, f = 3202.516078402016\n",
      "Optimization restart 3/5, f = 3013.4014466970616\n",
      "Optimization restart 4/5, f = 3013.4013934869595\n",
      "Optimization restart 5/5, f = 11650.647371372059\n",
      "[[20.          8.07726451 61.47543001  2.          1.81694574]]\n",
      "\n",
      "User function emissions called with 1 inputs to simulate\n",
      "\n",
      "Evaluating input: 1 of 1\n",
      "\n",
      " Retrying in 1 seconds\n",
      "\n",
      "Output 1761.253617386632\n",
      "\n"
     ]
    },
    {
     "name": "stderr",
     "output_type": "stream",
     "text": [
      " /Users/Matteo/opt/anaconda3/envs/ml_and_physical/lib/python3.8/site-packages/paramz/transformations.py:111: RuntimeWarning:overflow encountered in expm1\n"
     ]
    },
    {
     "name": "stdout",
     "output_type": "stream",
     "text": [
      "Optimization restart 1/5, f = 3024.6934066899857\n",
      "Optimization restart 2/5, f = 3024.6092754285983\n",
      "Optimization restart 3/5, f = 3024.609275414055\n"
     ]
    },
    {
     "name": "stderr",
     "output_type": "stream",
     "text": [
      " /Users/Matteo/opt/anaconda3/envs/ml_and_physical/lib/python3.8/site-packages/GPy/kern/src/stationary.py:168: RuntimeWarning:overflow encountered in true_divide\n",
      " /Users/Matteo/opt/anaconda3/envs/ml_and_physical/lib/python3.8/site-packages/GPy/kern/src/rbf.py:52: RuntimeWarning:overflow encountered in square\n",
      " /Users/Matteo/opt/anaconda3/envs/ml_and_physical/lib/python3.8/site-packages/GPy/kern/src/rbf.py:76: RuntimeWarning:invalid value encountered in multiply\n"
     ]
    },
    {
     "name": "stdout",
     "output_type": "stream",
     "text": [
      "Optimization restart 4/5, f = 3222.2927630421973\n",
      "Optimization restart 5/5, f = 3497.151360433637\n",
      "[[ 8.          8.26854723 67.42014812  1.          1.57950788]]\n",
      "\n",
      "User function emissions called with 1 inputs to simulate\n",
      "\n",
      "Evaluating input: 1 of 1\n",
      "\n",
      " Retrying in 1 seconds\n",
      "\n",
      "Output 1913.3165540911561\n",
      "\n"
     ]
    },
    {
     "name": "stderr",
     "output_type": "stream",
     "text": [
      " /Users/Matteo/opt/anaconda3/envs/ml_and_physical/lib/python3.8/site-packages/paramz/transformations.py:111: RuntimeWarning:overflow encountered in expm1\n"
     ]
    },
    {
     "name": "stdout",
     "output_type": "stream",
     "text": [
      "Optimization restart 1/5, f = 3029.8101971287288\n"
     ]
    },
    {
     "name": "stderr",
     "output_type": "stream",
     "text": [
      " /Users/Matteo/opt/anaconda3/envs/ml_and_physical/lib/python3.8/site-packages/GPy/kern/src/stationary.py:168: RuntimeWarning:overflow encountered in true_divide\n",
      " /Users/Matteo/opt/anaconda3/envs/ml_and_physical/lib/python3.8/site-packages/GPy/kern/src/rbf.py:52: RuntimeWarning:overflow encountered in square\n",
      " /Users/Matteo/opt/anaconda3/envs/ml_and_physical/lib/python3.8/site-packages/GPy/kern/src/rbf.py:76: RuntimeWarning:invalid value encountered in multiply\n"
     ]
    },
    {
     "name": "stdout",
     "output_type": "stream",
     "text": [
      "Optimization restart 2/5, f = 3290.4079549344015\n",
      "Optimization restart 3/5, f = 3029.809955716387\n",
      "Optimization restart 4/5, f = 3029.80995571531\n",
      "Optimization restart 5/5, f = 3171.743604149654\n",
      "[[20.          8.         68.69021753  1.          1.5       ]]\n",
      "\n",
      "User function emissions called with 1 inputs to simulate\n",
      "\n",
      "Evaluating input: 1 of 1\n",
      "\n",
      " Retrying in 1 seconds\n",
      "\n",
      "Output 1668.9584406744434\n",
      "\n"
     ]
    },
    {
     "name": "stderr",
     "output_type": "stream",
     "text": [
      " /Users/Matteo/opt/anaconda3/envs/ml_and_physical/lib/python3.8/site-packages/paramz/transformations.py:111: RuntimeWarning:overflow encountered in expm1\n"
     ]
    },
    {
     "name": "stdout",
     "output_type": "stream",
     "text": [
      "Optimization restart 1/5, f = 3034.5299644764314\n",
      "Optimization restart 2/5, f = 3034.5290555525853\n",
      "Optimization restart 3/5, f = 3034.529052101737\n"
     ]
    },
    {
     "name": "stderr",
     "output_type": "stream",
     "text": [
      " /Users/Matteo/opt/anaconda3/envs/ml_and_physical/lib/python3.8/site-packages/GPy/kern/src/rbf.py:52: RuntimeWarning:overflow encountered in square\n"
     ]
    },
    {
     "name": "stdout",
     "output_type": "stream",
     "text": [
      "Optimization restart 4/5, f = 3034.529052255916\n",
      "Optimization restart 5/5, f = 3034.529052102182\n",
      "[[20.          8.         68.68336345  1.          1.5       ]]\n",
      "\n",
      "User function emissions called with 1 inputs to simulate\n",
      "\n",
      "Evaluating input: 1 of 1\n",
      "\n",
      " Retrying in 1 seconds\n",
      "\n",
      "Output 1667.587312008796\n",
      "\n"
     ]
    },
    {
     "name": "stderr",
     "output_type": "stream",
     "text": [
      " /Users/Matteo/opt/anaconda3/envs/ml_and_physical/lib/python3.8/site-packages/paramz/transformations.py:111: RuntimeWarning:overflow encountered in expm1\n"
     ]
    },
    {
     "name": "stdout",
     "output_type": "stream",
     "text": [
      "Optimization restart 1/5, f = 3039.243651072884\n"
     ]
    },
    {
     "name": "stderr",
     "output_type": "stream",
     "text": [
      " /Users/Matteo/opt/anaconda3/envs/ml_and_physical/lib/python3.8/site-packages/GPy/kern/src/stationary.py:168: RuntimeWarning:overflow encountered in true_divide\n",
      " /Users/Matteo/opt/anaconda3/envs/ml_and_physical/lib/python3.8/site-packages/GPy/kern/src/rbf.py:52: RuntimeWarning:overflow encountered in square\n",
      " /Users/Matteo/opt/anaconda3/envs/ml_and_physical/lib/python3.8/site-packages/GPy/kern/src/rbf.py:76: RuntimeWarning:invalid value encountered in multiply\n"
     ]
    },
    {
     "name": "stdout",
     "output_type": "stream",
     "text": [
      "Optimization restart 2/5, f = 4222.195459285489\n",
      "Optimization restart 3/5, f = 3039.2426972604403\n",
      "Optimization restart 4/5, f = 3039.242697266368\n",
      "Optimization restart 5/5, f = 3039.242697364333\n",
      "[[20.         8.        68.6741595  1.         1.5      ]]\n",
      "\n",
      "User function emissions called with 1 inputs to simulate\n",
      "\n",
      "Evaluating input: 1 of 1\n",
      "\n",
      " Retrying in 1 seconds\n",
      "\n",
      "Output 1667.5878052334338\n",
      "\n"
     ]
    },
    {
     "name": "stderr",
     "output_type": "stream",
     "text": [
      " /Users/Matteo/opt/anaconda3/envs/ml_and_physical/lib/python3.8/site-packages/paramz/transformations.py:111: RuntimeWarning:overflow encountered in expm1\n"
     ]
    },
    {
     "name": "stdout",
     "output_type": "stream",
     "text": [
      "Optimization restart 1/5, f = 3043.9506883555437\n",
      "Optimization restart 2/5, f = 3043.9497545695544\n",
      "Optimization restart 3/5, f = 3043.949754568864\n",
      "Optimization restart 4/5, f = 3043.9497545727086\n",
      "Optimization restart 5/5, f = 3043.9497545719128\n",
      "[[20.   8.  30.   1.   1.5]]\n",
      "\n",
      "User function emissions called with 1 inputs to simulate\n",
      "\n",
      "Evaluating input: 1 of 1\n",
      "\n",
      " Retrying in 1 seconds\n",
      "\n",
      "Output 1938.5044198865419\n",
      "\n"
     ]
    },
    {
     "name": "stderr",
     "output_type": "stream",
     "text": [
      " /Users/Matteo/opt/anaconda3/envs/ml_and_physical/lib/python3.8/site-packages/paramz/transformations.py:111: RuntimeWarning:overflow encountered in expm1\n"
     ]
    },
    {
     "name": "stdout",
     "output_type": "stream",
     "text": [
      "Optimization restart 1/5, f = 3049.6156322303\n"
     ]
    },
    {
     "name": "stderr",
     "output_type": "stream",
     "text": [
      " /Users/Matteo/opt/anaconda3/envs/ml_and_physical/lib/python3.8/site-packages/GPy/kern/src/rbf.py:52: RuntimeWarning:overflow encountered in square\n"
     ]
    },
    {
     "name": "stdout",
     "output_type": "stream",
     "text": [
      "Optimization restart 2/5, f = 3049.6022042198474\n"
     ]
    },
    {
     "name": "stderr",
     "output_type": "stream",
     "text": [
      " /Users/Matteo/opt/anaconda3/envs/ml_and_physical/lib/python3.8/site-packages/GPy/kern/src/stationary.py:168: RuntimeWarning:overflow encountered in true_divide\n",
      " /Users/Matteo/opt/anaconda3/envs/ml_and_physical/lib/python3.8/site-packages/GPy/kern/src/rbf.py:76: RuntimeWarning:invalid value encountered in multiply\n"
     ]
    },
    {
     "name": "stdout",
     "output_type": "stream",
     "text": [
      "Optimization restart 3/5, f = 4656.679942427325\n",
      "Optimization restart 4/5, f = 3049.6022042362583\n",
      "Optimization restart 5/5, f = 3049.602204219673\n",
      "[[20.          8.         68.75309901  1.          1.5       ]]\n",
      "\n",
      "User function emissions called with 1 inputs to simulate\n",
      "\n",
      "Evaluating input: 1 of 1\n",
      "\n",
      " Retrying in 1 seconds\n",
      "\n",
      "Output 1667.3057336511415\n",
      "\n"
     ]
    },
    {
     "name": "stderr",
     "output_type": "stream",
     "text": [
      " /Users/Matteo/opt/anaconda3/envs/ml_and_physical/lib/python3.8/site-packages/paramz/transformations.py:111: RuntimeWarning:overflow encountered in expm1\n"
     ]
    },
    {
     "name": "stdout",
     "output_type": "stream",
     "text": [
      "Optimization restart 1/5, f = 3054.310653618366\n",
      "Optimization restart 2/5, f = 3054.309713340262\n"
     ]
    },
    {
     "name": "stderr",
     "output_type": "stream",
     "text": [
      " /Users/Matteo/opt/anaconda3/envs/ml_and_physical/lib/python3.8/site-packages/GPy/kern/src/rbf.py:52: RuntimeWarning:overflow encountered in square\n",
      " /Users/Matteo/opt/anaconda3/envs/ml_and_physical/lib/python3.8/site-packages/GPy/kern/src/stationary.py:168: RuntimeWarning:overflow encountered in true_divide\n",
      " /Users/Matteo/opt/anaconda3/envs/ml_and_physical/lib/python3.8/site-packages/GPy/kern/src/rbf.py:76: RuntimeWarning:invalid value encountered in multiply\n"
     ]
    },
    {
     "name": "stdout",
     "output_type": "stream",
     "text": [
      "Optimization restart 3/5, f = 3060.6810682652495\n",
      "Optimization restart 4/5, f = 3054.309713341735\n",
      "Optimization restart 5/5, f = 3054.3097133744313\n",
      "[[20.          8.         68.74297036  1.          1.5       ]]\n",
      "\n",
      "User function emissions called with 1 inputs to simulate\n",
      "\n",
      "Evaluating input: 1 of 1\n",
      "\n",
      " Retrying in 1 seconds\n",
      "\n",
      "Output 1670.3309766469588\n",
      "\n"
     ]
    },
    {
     "name": "stderr",
     "output_type": "stream",
     "text": [
      " /Users/Matteo/opt/anaconda3/envs/ml_and_physical/lib/python3.8/site-packages/paramz/transformations.py:111: RuntimeWarning:overflow encountered in expm1\n"
     ]
    },
    {
     "name": "stdout",
     "output_type": "stream",
     "text": [
      "Optimization restart 1/5, f = 3059.0103724332166\n",
      "Optimization restart 2/5, f = 3059.0095372595233\n",
      "Optimization restart 3/5, f = 3059.0095366965134\n",
      "Optimization restart 4/5, f = 3059.0095366928917\n",
      "Optimization restart 5/5, f = 3059.0095377898997\n",
      "[[20.          8.         68.73699885  1.          1.5       ]]\n",
      "\n",
      "User function emissions called with 1 inputs to simulate\n",
      "\n",
      "Evaluating input: 1 of 1\n",
      "\n",
      " Retrying in 1 seconds\n",
      "\n",
      "Output 1665.1291267999418\n",
      "\n"
     ]
    },
    {
     "name": "stderr",
     "output_type": "stream",
     "text": [
      " /Users/Matteo/opt/anaconda3/envs/ml_and_physical/lib/python3.8/site-packages/paramz/transformations.py:111: RuntimeWarning:overflow encountered in expm1\n"
     ]
    },
    {
     "name": "stdout",
     "output_type": "stream",
     "text": [
      "Optimization restart 1/5, f = 3063.713208226045\n",
      "Optimization restart 2/5, f = 3063.7122369912113\n",
      "Optimization restart 3/5, f = 3063.7122368185314\n"
     ]
    },
    {
     "name": "stderr",
     "output_type": "stream",
     "text": [
      " /Users/Matteo/opt/anaconda3/envs/ml_and_physical/lib/python3.8/site-packages/GPy/kern/src/rbf.py:52: RuntimeWarning:overflow encountered in square\n"
     ]
    },
    {
     "name": "stdout",
     "output_type": "stream",
     "text": [
      "Optimization restart 4/5, f = 3063.712236926016\n"
     ]
    },
    {
     "name": "stderr",
     "output_type": "stream",
     "text": [
      " /Users/Matteo/opt/anaconda3/envs/ml_and_physical/lib/python3.8/site-packages/GPy/kern/src/stationary.py:168: RuntimeWarning:overflow encountered in true_divide\n",
      " /Users/Matteo/opt/anaconda3/envs/ml_and_physical/lib/python3.8/site-packages/GPy/kern/src/rbf.py:76: RuntimeWarning:invalid value encountered in multiply\n"
     ]
    },
    {
     "name": "stdout",
     "output_type": "stream",
     "text": [
      "Optimization restart 5/5, f = 3876.3548202741486\n",
      "[[20.          8.         68.72488072  1.          1.5       ]]\n",
      "\n",
      "User function emissions called with 1 inputs to simulate\n",
      "\n",
      "Evaluating input: 1 of 1\n",
      "\n",
      " Retrying in 1 seconds\n",
      "\n",
      "Output 1667.6341483259462\n",
      "\n"
     ]
    },
    {
     "name": "stderr",
     "output_type": "stream",
     "text": [
      " /Users/Matteo/opt/anaconda3/envs/ml_and_physical/lib/python3.8/site-packages/paramz/transformations.py:111: RuntimeWarning:overflow encountered in expm1\n"
     ]
    },
    {
     "name": "stdout",
     "output_type": "stream",
     "text": [
      "Optimization restart 1/5, f = 3068.406136232338\n"
     ]
    },
    {
     "name": "stderr",
     "output_type": "stream",
     "text": [
      " /Users/Matteo/opt/anaconda3/envs/ml_and_physical/lib/python3.8/site-packages/GPy/kern/src/stationary.py:168: RuntimeWarning:overflow encountered in true_divide\n",
      " /Users/Matteo/opt/anaconda3/envs/ml_and_physical/lib/python3.8/site-packages/GPy/kern/src/rbf.py:52: RuntimeWarning:overflow encountered in square\n",
      " /Users/Matteo/opt/anaconda3/envs/ml_and_physical/lib/python3.8/site-packages/GPy/kern/src/rbf.py:76: RuntimeWarning:invalid value encountered in multiply\n"
     ]
    },
    {
     "name": "stdout",
     "output_type": "stream",
     "text": [
      "Optimization restart 2/5, f = 3716.578255964039\n",
      "Optimization restart 3/5, f = 3068.4052400378146\n",
      "Optimization restart 4/5, f = 3240.6212514007298\n",
      "Optimization restart 5/5, f = 3068.405240775646\n",
      "[[10.          8.09790696 69.52270832  1.          2.73363613]]\n",
      "\n",
      "User function emissions called with 1 inputs to simulate\n",
      "\n",
      "Evaluating input: 1 of 1\n",
      "\n",
      " Retrying in 1 seconds\n",
      "\n",
      "Output 1855.2274571723399\n",
      "\n"
     ]
    },
    {
     "name": "stderr",
     "output_type": "stream",
     "text": [
      " /Users/Matteo/opt/anaconda3/envs/ml_and_physical/lib/python3.8/site-packages/paramz/transformations.py:111: RuntimeWarning:overflow encountered in expm1\n"
     ]
    },
    {
     "name": "stdout",
     "output_type": "stream",
     "text": [
      "Optimization restart 1/5, f = 3074.151716138761\n",
      "Optimization restart 2/5, f = 3074.151492156767\n",
      "Optimization restart 3/5, f = 3074.151492155404\n",
      "Optimization restart 4/5, f = 3074.151492155966\n",
      "Optimization restart 5/5, f = 3074.1514921548082\n",
      "[[16.          9.47166861 65.80419695  1.          1.72578102]]\n",
      "\n",
      "User function emissions called with 1 inputs to simulate\n",
      "\n",
      "Evaluating input: 1 of 1\n",
      "\n",
      " Retrying in 1 seconds\n",
      "\n",
      "Output 2054.8805941200003\n",
      "\n"
     ]
    },
    {
     "name": "stderr",
     "output_type": "stream",
     "text": [
      " /Users/Matteo/opt/anaconda3/envs/ml_and_physical/lib/python3.8/site-packages/paramz/transformations.py:111: RuntimeWarning:overflow encountered in expm1\n"
     ]
    },
    {
     "name": "stdout",
     "output_type": "stream",
     "text": [
      "Optimization restart 1/5, f = 3081.354008390557\n",
      "Optimization restart 2/5, f = 3081.352712411396\n",
      "Optimization restart 3/5, f = 3081.3527124106045\n",
      "Optimization restart 4/5, f = 3081.352712925351\n",
      "Optimization restart 5/5, f = 3081.3527124095663\n",
      "[[20.          8.         69.11087729  1.          1.5       ]]\n",
      "\n",
      "User function emissions called with 1 inputs to simulate\n",
      "\n",
      "Evaluating input: 1 of 1\n",
      "\n",
      " Retrying in 1 seconds\n",
      "\n",
      "Output 1669.3922877571035\n",
      "\n"
     ]
    },
    {
     "name": "stderr",
     "output_type": "stream",
     "text": [
      " /Users/Matteo/opt/anaconda3/envs/ml_and_physical/lib/python3.8/site-packages/paramz/transformations.py:111: RuntimeWarning:overflow encountered in expm1\n"
     ]
    },
    {
     "name": "stdout",
     "output_type": "stream",
     "text": [
      "Optimization restart 1/5, f = 3086.0500763056048\n",
      "Optimization restart 2/5, f = 3086.0492065150875\n",
      "Optimization restart 3/5, f = 3086.04920654551\n",
      "Optimization restart 4/5, f = 3086.0492065151006\n"
     ]
    },
    {
     "name": "stderr",
     "output_type": "stream",
     "text": [
      " /Users/Matteo/opt/anaconda3/envs/ml_and_physical/lib/python3.8/site-packages/GPy/kern/src/stationary.py:168: RuntimeWarning:overflow encountered in true_divide\n",
      " /Users/Matteo/opt/anaconda3/envs/ml_and_physical/lib/python3.8/site-packages/GPy/kern/src/rbf.py:52: RuntimeWarning:overflow encountered in square\n",
      " /Users/Matteo/opt/anaconda3/envs/ml_and_physical/lib/python3.8/site-packages/GPy/kern/src/rbf.py:76: RuntimeWarning:invalid value encountered in multiply\n"
     ]
    },
    {
     "name": "stdout",
     "output_type": "stream",
     "text": [
      "Optimization restart 5/5, f = 3388.296526419464\n",
      "[[20.          8.         69.09960663  1.          1.5       ]]\n",
      "\n",
      "User function emissions called with 1 inputs to simulate\n",
      "\n",
      "Evaluating input: 1 of 1\n",
      "\n",
      " Retrying in 1 seconds\n",
      "\n",
      "Output 1665.9277682421127\n",
      "\n"
     ]
    },
    {
     "name": "stderr",
     "output_type": "stream",
     "text": [
      " /Users/Matteo/opt/anaconda3/envs/ml_and_physical/lib/python3.8/site-packages/paramz/transformations.py:111: RuntimeWarning:overflow encountered in expm1\n"
     ]
    },
    {
     "name": "stdout",
     "output_type": "stream",
     "text": [
      "Optimization restart 1/5, f = 3090.7494752249627\n"
     ]
    },
    {
     "name": "stderr",
     "output_type": "stream",
     "text": [
      " /Users/Matteo/opt/anaconda3/envs/ml_and_physical/lib/python3.8/site-packages/GPy/kern/src/stationary.py:168: RuntimeWarning:overflow encountered in true_divide\n",
      " /Users/Matteo/opt/anaconda3/envs/ml_and_physical/lib/python3.8/site-packages/GPy/kern/src/rbf.py:52: RuntimeWarning:overflow encountered in square\n",
      " /Users/Matteo/opt/anaconda3/envs/ml_and_physical/lib/python3.8/site-packages/GPy/kern/src/rbf.py:76: RuntimeWarning:invalid value encountered in multiply\n"
     ]
    },
    {
     "name": "stdout",
     "output_type": "stream",
     "text": [
      "Optimization restart 2/5, f = 3399.6924400729113\n",
      "Optimization restart 3/5, f = 3090.7485929414274\n",
      "Optimization restart 4/5, f = 3090.748581866884\n",
      "Optimization restart 5/5, f = 4090.5728441175297\n",
      "[[20.          8.53999586 67.99600852  1.          2.08417277]]\n",
      "\n",
      "User function emissions called with 1 inputs to simulate\n",
      "\n",
      "Evaluating input: 1 of 1\n",
      "\n",
      " Retrying in 1 seconds\n",
      "\n",
      "Output 1837.8407315302654\n",
      "\n"
     ]
    },
    {
     "name": "stderr",
     "output_type": "stream",
     "text": [
      " /Users/Matteo/opt/anaconda3/envs/ml_and_physical/lib/python3.8/site-packages/paramz/transformations.py:111: RuntimeWarning:overflow encountered in expm1\n"
     ]
    },
    {
     "name": "stdout",
     "output_type": "stream",
     "text": [
      "Optimization restart 1/5, f = 3095.6785122981514\n",
      "Optimization restart 2/5, f = 3095.6783904083604\n",
      "Optimization restart 3/5, f = 3095.6783904111667\n"
     ]
    },
    {
     "name": "stderr",
     "output_type": "stream",
     "text": [
      " /Users/Matteo/opt/anaconda3/envs/ml_and_physical/lib/python3.8/site-packages/GPy/kern/src/stationary.py:168: RuntimeWarning:overflow encountered in true_divide\n",
      " /Users/Matteo/opt/anaconda3/envs/ml_and_physical/lib/python3.8/site-packages/GPy/kern/src/rbf.py:52: RuntimeWarning:overflow encountered in square\n",
      " /Users/Matteo/opt/anaconda3/envs/ml_and_physical/lib/python3.8/site-packages/GPy/kern/src/rbf.py:76: RuntimeWarning:invalid value encountered in multiply\n"
     ]
    },
    {
     "name": "stdout",
     "output_type": "stream",
     "text": [
      "Optimization restart 4/5, f = 3101.4085946199443\n",
      "Optimization restart 5/5, f = 3095.678390415714\n",
      "[[14.          8.49067007 63.84365146  1.          2.28709591]]\n",
      "\n",
      "User function emissions called with 1 inputs to simulate\n",
      "\n",
      "Evaluating input: 1 of 1\n",
      "\n",
      " Retrying in 1 seconds\n",
      "\n",
      "Output 1891.256105035812\n",
      "\n"
     ]
    },
    {
     "name": "stderr",
     "output_type": "stream",
     "text": [
      " /Users/Matteo/opt/anaconda3/envs/ml_and_physical/lib/python3.8/site-packages/paramz/transformations.py:111: RuntimeWarning:overflow encountered in expm1\n"
     ]
    },
    {
     "name": "stdout",
     "output_type": "stream",
     "text": [
      "Optimization restart 1/5, f = 3100.8851526466856\n",
      "Optimization restart 2/5, f = 3100.8840069718544\n",
      "Optimization restart 3/5, f = 3100.8840068582804\n",
      "Optimization restart 4/5, f = 3100.884006737953\n"
     ]
    },
    {
     "name": "stderr",
     "output_type": "stream",
     "text": [
      " /Users/Matteo/opt/anaconda3/envs/ml_and_physical/lib/python3.8/site-packages/GPy/kern/src/stationary.py:168: RuntimeWarning:overflow encountered in true_divide\n",
      " /Users/Matteo/opt/anaconda3/envs/ml_and_physical/lib/python3.8/site-packages/GPy/kern/src/rbf.py:52: RuntimeWarning:overflow encountered in square\n",
      " /Users/Matteo/opt/anaconda3/envs/ml_and_physical/lib/python3.8/site-packages/GPy/kern/src/rbf.py:76: RuntimeWarning:invalid value encountered in multiply\n"
     ]
    },
    {
     "name": "stdout",
     "output_type": "stream",
     "text": [
      "Optimization restart 5/5, f = 3672.5657433298343\n",
      "[[12.          8.22339682 68.44084307  2.          1.90183885]]\n",
      "\n",
      "User function emissions called with 1 inputs to simulate\n",
      "\n",
      "Evaluating input: 1 of 1\n",
      "\n",
      " Retrying in 1 seconds\n",
      "\n",
      "Output 1813.433948267207\n",
      "\n"
     ]
    },
    {
     "name": "stderr",
     "output_type": "stream",
     "text": [
      " /Users/Matteo/opt/anaconda3/envs/ml_and_physical/lib/python3.8/site-packages/paramz/transformations.py:111: RuntimeWarning:overflow encountered in expm1\n"
     ]
    },
    {
     "name": "stdout",
     "output_type": "stream",
     "text": [
      "Optimization restart 1/5, f = 3108.1387619177276\n",
      "Optimization restart 2/5, f = 3108.132540786135\n"
     ]
    },
    {
     "name": "stderr",
     "output_type": "stream",
     "text": [
      " /Users/Matteo/opt/anaconda3/envs/ml_and_physical/lib/python3.8/site-packages/GPy/kern/src/stationary.py:168: RuntimeWarning:overflow encountered in true_divide\n",
      " /Users/Matteo/opt/anaconda3/envs/ml_and_physical/lib/python3.8/site-packages/GPy/kern/src/rbf.py:52: RuntimeWarning:overflow encountered in square\n",
      " /Users/Matteo/opt/anaconda3/envs/ml_and_physical/lib/python3.8/site-packages/GPy/kern/src/rbf.py:76: RuntimeWarning:invalid value encountered in multiply\n"
     ]
    },
    {
     "name": "stdout",
     "output_type": "stream",
     "text": [
      "Optimization restart 3/5, f = 3876.1830048948113\n",
      "Optimization restart 4/5, f = 3256.2841636856183\n",
      "Optimization restart 5/5, f = 12213.810640569542\n",
      "[[20.         8.        69.1887184  1.         1.5      ]]\n",
      "\n",
      "User function emissions called with 1 inputs to simulate\n",
      "\n",
      "Evaluating input: 1 of 1\n",
      "\n",
      " Retrying in 1 seconds\n",
      "\n",
      "Output 1662.0488558738002\n",
      "\n"
     ]
    },
    {
     "name": "stderr",
     "output_type": "stream",
     "text": [
      " /Users/Matteo/opt/anaconda3/envs/ml_and_physical/lib/python3.8/site-packages/paramz/transformations.py:111: RuntimeWarning:overflow encountered in expm1\n"
     ]
    },
    {
     "name": "stdout",
     "output_type": "stream",
     "text": [
      "Optimization restart 1/5, f = 3112.8543136347666\n"
     ]
    },
    {
     "name": "stderr",
     "output_type": "stream",
     "text": [
      " /Users/Matteo/opt/anaconda3/envs/ml_and_physical/lib/python3.8/site-packages/GPy/kern/src/rbf.py:52: RuntimeWarning:overflow encountered in square\n"
     ]
    },
    {
     "name": "stdout",
     "output_type": "stream",
     "text": [
      "Optimization restart 2/5, f = 3112.8534789722867\n",
      "Optimization restart 3/5, f = 3112.8534790085596\n",
      "Optimization restart 4/5, f = 3112.853478984127\n",
      "Optimization restart 5/5, f = 3112.853478968839\n",
      "[[20.          8.         69.18549306  1.          1.5       ]]\n",
      "\n",
      "User function emissions called with 1 inputs to simulate\n",
      "\n",
      "Evaluating input: 1 of 1\n",
      "\n",
      " Retrying in 1 seconds\n",
      "\n",
      "Output 1666.85846109133\n",
      "\n"
     ]
    },
    {
     "name": "stderr",
     "output_type": "stream",
     "text": [
      " /Users/Matteo/opt/anaconda3/envs/ml_and_physical/lib/python3.8/site-packages/paramz/transformations.py:111: RuntimeWarning:overflow encountered in expm1\n"
     ]
    },
    {
     "name": "stdout",
     "output_type": "stream",
     "text": [
      "Optimization restart 1/5, f = 3117.550880974034\n"
     ]
    },
    {
     "name": "stderr",
     "output_type": "stream",
     "text": [
      " /Users/Matteo/opt/anaconda3/envs/ml_and_physical/lib/python3.8/site-packages/GPy/kern/src/stationary.py:168: RuntimeWarning:overflow encountered in true_divide\n",
      " /Users/Matteo/opt/anaconda3/envs/ml_and_physical/lib/python3.8/site-packages/GPy/kern/src/rbf.py:52: RuntimeWarning:overflow encountered in square\n",
      " /Users/Matteo/opt/anaconda3/envs/ml_and_physical/lib/python3.8/site-packages/GPy/kern/src/rbf.py:76: RuntimeWarning:invalid value encountered in multiply\n"
     ]
    },
    {
     "name": "stdout",
     "output_type": "stream",
     "text": [
      "Optimization restart 2/5, f = 11325.215519354959\n",
      "Optimization restart 3/5, f = 3117.5500197831843\n",
      "Optimization restart 4/5, f = 3117.5500197227957\n",
      "Optimization restart 5/5, f = 3117.5500197991523\n",
      "[[20.          8.         69.17696154  1.          1.5       ]]\n",
      "\n",
      "User function emissions called with 1 inputs to simulate\n",
      "\n",
      "Evaluating input: 1 of 1\n",
      "\n",
      " Retrying in 1 seconds\n",
      "\n",
      "Output 1661.2993951063625\n",
      "\n"
     ]
    },
    {
     "name": "stderr",
     "output_type": "stream",
     "text": [
      " /Users/Matteo/opt/anaconda3/envs/ml_and_physical/lib/python3.8/site-packages/paramz/transformations.py:111: RuntimeWarning:overflow encountered in expm1\n"
     ]
    },
    {
     "name": "stdout",
     "output_type": "stream",
     "text": [
      "Optimization restart 1/5, f = 3122.2657868532297\n",
      "Optimization restart 2/5, f = 3122.2649560937502\n",
      "Optimization restart 3/5, f = 3122.264956079955\n",
      "Optimization restart 4/5, f = 3122.2649560781747\n"
     ]
    },
    {
     "name": "stderr",
     "output_type": "stream",
     "text": [
      " /Users/Matteo/opt/anaconda3/envs/ml_and_physical/lib/python3.8/site-packages/GPy/kern/src/stationary.py:168: RuntimeWarning:overflow encountered in true_divide\n",
      " /Users/Matteo/opt/anaconda3/envs/ml_and_physical/lib/python3.8/site-packages/GPy/kern/src/rbf.py:52: RuntimeWarning:overflow encountered in square\n",
      " /Users/Matteo/opt/anaconda3/envs/ml_and_physical/lib/python3.8/site-packages/GPy/kern/src/rbf.py:76: RuntimeWarning:invalid value encountered in multiply\n"
     ]
    },
    {
     "name": "stdout",
     "output_type": "stream",
     "text": [
      "Optimization restart 5/5, f = 3889.0493592949815\n",
      "[[19.          9.30171921 63.86238119  1.          1.61139195]]\n",
      "\n",
      "User function emissions called with 1 inputs to simulate\n",
      "\n",
      "Evaluating input: 1 of 1\n",
      "\n",
      " Retrying in 1 seconds\n",
      "\n",
      "Output 1978.7665578109832\n",
      "\n"
     ]
    },
    {
     "name": "stderr",
     "output_type": "stream",
     "text": [
      " /Users/Matteo/opt/anaconda3/envs/ml_and_physical/lib/python3.8/site-packages/paramz/transformations.py:111: RuntimeWarning:overflow encountered in expm1\n"
     ]
    },
    {
     "name": "stdout",
     "output_type": "stream",
     "text": [
      "Optimization restart 1/5, f = 3127.8448959044217\n",
      "Optimization restart 2/5, f = 3127.844752170249\n",
      "Optimization restart 3/5, f = 3127.844752090141\n",
      "Optimization restart 4/5, f = 3127.8447520571826\n",
      "Optimization restart 5/5, f = 3127.8447520852274\n",
      "[[18.          8.44662538 69.58155394  2.          2.3847351 ]]\n",
      "\n",
      "User function emissions called with 1 inputs to simulate\n",
      "\n",
      "Evaluating input: 1 of 1\n",
      "\n",
      " Retrying in 1 seconds\n",
      "\n",
      "Output 1856.063994423597\n",
      "\n"
     ]
    },
    {
     "name": "stderr",
     "output_type": "stream",
     "text": [
      " /Users/Matteo/opt/anaconda3/envs/ml_and_physical/lib/python3.8/site-packages/paramz/transformations.py:111: RuntimeWarning:overflow encountered in expm1\n"
     ]
    },
    {
     "name": "stdout",
     "output_type": "stream",
     "text": [
      "Optimization restart 1/5, f = 3133.3768629729493\n",
      "Optimization restart 2/5, f = 3133.373214781497\n",
      "Optimization restart 3/5, f = 3133.3732147799847\n"
     ]
    },
    {
     "name": "stderr",
     "output_type": "stream",
     "text": [
      " /Users/Matteo/opt/anaconda3/envs/ml_and_physical/lib/python3.8/site-packages/GPy/kern/src/rbf.py:52: RuntimeWarning:overflow encountered in square\n"
     ]
    },
    {
     "name": "stdout",
     "output_type": "stream",
     "text": [
      "Optimization restart 4/5, f = 3133.373214798011\n",
      "Optimization restart 5/5, f = 3133.3732147860455\n",
      "[[20.          8.         69.85224688  1.          1.5       ]]\n",
      "\n",
      "User function emissions called with 1 inputs to simulate\n",
      "\n",
      "Evaluating input: 1 of 1\n",
      "\n",
      " Retrying in 1 seconds\n",
      "\n",
      "Output 1663.8784340731154\n",
      "\n"
     ]
    },
    {
     "name": "stderr",
     "output_type": "stream",
     "text": [
      " /Users/Matteo/opt/anaconda3/envs/ml_and_physical/lib/python3.8/site-packages/paramz/transformations.py:111: RuntimeWarning:overflow encountered in expm1\n"
     ]
    },
    {
     "name": "stdout",
     "output_type": "stream",
     "text": [
      "Optimization restart 1/5, f = 3138.08169563682\n",
      "Optimization restart 2/5, f = 3138.0809931442836\n",
      "Optimization restart 3/5, f = 3138.080992836466\n",
      "Optimization restart 4/5, f = 3138.080993413995\n"
     ]
    },
    {
     "name": "stderr",
     "output_type": "stream",
     "text": [
      " /Users/Matteo/opt/anaconda3/envs/ml_and_physical/lib/python3.8/site-packages/GPy/kern/src/stationary.py:168: RuntimeWarning:overflow encountered in true_divide\n",
      " /Users/Matteo/opt/anaconda3/envs/ml_and_physical/lib/python3.8/site-packages/GPy/kern/src/rbf.py:52: RuntimeWarning:overflow encountered in square\n",
      " /Users/Matteo/opt/anaconda3/envs/ml_and_physical/lib/python3.8/site-packages/GPy/kern/src/rbf.py:76: RuntimeWarning:invalid value encountered in multiply\n"
     ]
    },
    {
     "name": "stdout",
     "output_type": "stream",
     "text": [
      "Optimization restart 5/5, f = 3139.442915106509\n",
      "[[14.          8.21278876 63.30724154  1.          2.24412919]]\n",
      "\n",
      "User function emissions called with 1 inputs to simulate\n",
      "\n",
      "Evaluating input: 1 of 1\n",
      "\n",
      " Retrying in 1 seconds\n",
      "\n",
      "Output 1817.4182748895573\n",
      "\n"
     ]
    },
    {
     "name": "stderr",
     "output_type": "stream",
     "text": [
      " /Users/Matteo/opt/anaconda3/envs/ml_and_physical/lib/python3.8/site-packages/paramz/transformations.py:111: RuntimeWarning:overflow encountered in expm1\n"
     ]
    },
    {
     "name": "stdout",
     "output_type": "stream",
     "text": [
      "Optimization restart 1/5, f = 3144.3452620164103\n",
      "Optimization restart 2/5, f = 3144.3410941141074\n",
      "Optimization restart 3/5, f = 3144.3410989740823\n",
      "Optimization restart 4/5, f = 3144.341094157083\n",
      "Optimization restart 5/5, f = 3144.3410981776187\n",
      "[[20.          8.         69.81140022  1.          1.5       ]]\n",
      "\n",
      "User function emissions called with 1 inputs to simulate\n",
      "\n",
      "Evaluating input: 1 of 1\n",
      "\n",
      " Retrying in 1 seconds\n",
      "\n",
      "Output 1663.878097638667\n",
      "\n"
     ]
    },
    {
     "name": "stderr",
     "output_type": "stream",
     "text": [
      " /Users/Matteo/opt/anaconda3/envs/ml_and_physical/lib/python3.8/site-packages/paramz/transformations.py:111: RuntimeWarning:overflow encountered in expm1\n"
     ]
    },
    {
     "name": "stdout",
     "output_type": "stream",
     "text": [
      "Optimization restart 1/5, f = 3149.047052030353\n"
     ]
    },
    {
     "name": "stderr",
     "output_type": "stream",
     "text": [
      " /Users/Matteo/opt/anaconda3/envs/ml_and_physical/lib/python3.8/site-packages/GPy/kern/src/rbf.py:52: RuntimeWarning:overflow encountered in square\n"
     ]
    },
    {
     "name": "stdout",
     "output_type": "stream",
     "text": [
      "Optimization restart 2/5, f = 3149.0463297194374\n",
      "Optimization restart 3/5, f = 3149.0463296834305\n",
      "Optimization restart 4/5, f = 3149.046330530652\n",
      "Optimization restart 5/5, f = 3149.046329681916\n",
      "[[20.          8.         69.82139737  1.          1.5       ]]\n",
      "\n",
      "User function emissions called with 1 inputs to simulate\n",
      "\n",
      "Evaluating input: 1 of 1\n",
      "\n",
      " Retrying in 1 seconds\n",
      "\n",
      "Output 1662.8325720009304\n",
      "\n"
     ]
    },
    {
     "name": "stderr",
     "output_type": "stream",
     "text": [
      " /Users/Matteo/opt/anaconda3/envs/ml_and_physical/lib/python3.8/site-packages/paramz/transformations.py:111: RuntimeWarning:overflow encountered in expm1\n"
     ]
    },
    {
     "name": "stdout",
     "output_type": "stream",
     "text": [
      "Optimization restart 1/5, f = 3153.75179984769\n",
      "Optimization restart 2/5, f = 3153.75110942381\n"
     ]
    },
    {
     "name": "stderr",
     "output_type": "stream",
     "text": [
      " /Users/Matteo/opt/anaconda3/envs/ml_and_physical/lib/python3.8/site-packages/GPy/kern/src/stationary.py:168: RuntimeWarning:overflow encountered in true_divide\n",
      " /Users/Matteo/opt/anaconda3/envs/ml_and_physical/lib/python3.8/site-packages/GPy/kern/src/rbf.py:52: RuntimeWarning:overflow encountered in square\n",
      " /Users/Matteo/opt/anaconda3/envs/ml_and_physical/lib/python3.8/site-packages/GPy/kern/src/rbf.py:76: RuntimeWarning:invalid value encountered in multiply\n"
     ]
    },
    {
     "name": "stdout",
     "output_type": "stream",
     "text": [
      "Optimization restart 3/5, f = 3501.2835845455284\n",
      "Optimization restart 4/5, f = 3153.7510917688423\n",
      "Optimization restart 5/5, f = 3153.7510917640875\n",
      "[[20.          8.         69.83506779  1.          1.5       ]]\n",
      "\n",
      "User function emissions called with 1 inputs to simulate\n",
      "\n",
      "Evaluating input: 1 of 1\n",
      "\n",
      " Retrying in 1 seconds\n",
      "\n",
      "Output 1665.0922021602319\n",
      "\n"
     ]
    },
    {
     "name": "stderr",
     "output_type": "stream",
     "text": [
      " /Users/Matteo/opt/anaconda3/envs/ml_and_physical/lib/python3.8/site-packages/paramz/transformations.py:111: RuntimeWarning:overflow encountered in expm1\n"
     ]
    },
    {
     "name": "stdout",
     "output_type": "stream",
     "text": [
      "Optimization restart 1/5, f = 3158.445965106328\n"
     ]
    },
    {
     "name": "stderr",
     "output_type": "stream",
     "text": [
      " /Users/Matteo/opt/anaconda3/envs/ml_and_physical/lib/python3.8/site-packages/GPy/kern/src/rbf.py:52: RuntimeWarning:overflow encountered in square\n"
     ]
    },
    {
     "name": "stdout",
     "output_type": "stream",
     "text": [
      "Optimization restart 2/5, f = 3205.29254860341\n",
      "Optimization restart 3/5, f = 3158.445211930293\n"
     ]
    },
    {
     "name": "stderr",
     "output_type": "stream",
     "text": [
      " /Users/Matteo/opt/anaconda3/envs/ml_and_physical/lib/python3.8/site-packages/GPy/kern/src/stationary.py:168: RuntimeWarning:overflow encountered in true_divide\n",
      " /Users/Matteo/opt/anaconda3/envs/ml_and_physical/lib/python3.8/site-packages/GPy/kern/src/rbf.py:76: RuntimeWarning:invalid value encountered in multiply\n"
     ]
    },
    {
     "name": "stdout",
     "output_type": "stream",
     "text": [
      "Optimization restart 4/5, f = 3740.5627444890574\n",
      "Optimization restart 5/5, f = 12274.297742761739\n",
      "[[20.          8.         69.83502861  1.          1.5       ]]\n",
      "\n",
      "User function emissions called with 1 inputs to simulate\n",
      "\n",
      "Evaluating input: 1 of 1\n",
      "\n",
      " Retrying in 1 seconds\n",
      "\n",
      "Output 1665.0922021602319\n",
      "\n"
     ]
    },
    {
     "name": "stderr",
     "output_type": "stream",
     "text": [
      " /Users/Matteo/opt/anaconda3/envs/ml_and_physical/lib/python3.8/site-packages/paramz/transformations.py:111: RuntimeWarning:overflow encountered in expm1\n"
     ]
    },
    {
     "name": "stdout",
     "output_type": "stream",
     "text": [
      "Optimization restart 1/5, f = 3163.1366291121294\n",
      "Optimization restart 2/5, f = 3163.1358728161945\n",
      "Optimization restart 3/5, f = 3163.135872767828\n",
      "Optimization restart 4/5, f = 3163.1358727722773\n",
      "Optimization restart 5/5, f = 3163.1358730980983\n",
      "[[20.          8.         69.83404863  1.          1.5       ]]\n",
      "\n",
      "User function emissions called with 1 inputs to simulate\n",
      "\n",
      "Evaluating input: 1 of 1\n",
      "\n",
      " Retrying in 1 seconds\n",
      "\n",
      "Output 1662.1538231233383\n",
      "\n"
     ]
    },
    {
     "name": "stderr",
     "output_type": "stream",
     "text": [
      " /Users/Matteo/opt/anaconda3/envs/ml_and_physical/lib/python3.8/site-packages/paramz/transformations.py:111: RuntimeWarning:overflow encountered in expm1\n"
     ]
    },
    {
     "name": "stdout",
     "output_type": "stream",
     "text": [
      "Optimization restart 1/5, f = 3167.8325696600127\n"
     ]
    },
    {
     "name": "stderr",
     "output_type": "stream",
     "text": [
      " /Users/Matteo/opt/anaconda3/envs/ml_and_physical/lib/python3.8/site-packages/GPy/kern/src/stationary.py:168: RuntimeWarning:overflow encountered in true_divide\n",
      " /Users/Matteo/opt/anaconda3/envs/ml_and_physical/lib/python3.8/site-packages/GPy/kern/src/rbf.py:52: RuntimeWarning:overflow encountered in square\n",
      " /Users/Matteo/opt/anaconda3/envs/ml_and_physical/lib/python3.8/site-packages/GPy/kern/src/rbf.py:76: RuntimeWarning:invalid value encountered in multiply\n"
     ]
    },
    {
     "name": "stdout",
     "output_type": "stream",
     "text": [
      "Optimization restart 2/5, f = 3676.4484116399835\n",
      "Optimization restart 3/5, f = 3167.8318549834635\n",
      "Optimization restart 4/5, f = 3167.8318549519054\n",
      "Optimization restart 5/5, f = 3167.831854953216\n",
      "[[16.          8.95388938 68.03517441  2.          1.89321521]]\n",
      "\n",
      "User function emissions called with 1 inputs to simulate\n",
      "\n",
      "Evaluating input: 1 of 1\n",
      "\n",
      " Retrying in 1 seconds\n",
      "\n",
      "Output 1984.7051383877372\n",
      "\n"
     ]
    },
    {
     "name": "stderr",
     "output_type": "stream",
     "text": [
      " /Users/Matteo/opt/anaconda3/envs/ml_and_physical/lib/python3.8/site-packages/paramz/transformations.py:111: RuntimeWarning:overflow encountered in expm1\n"
     ]
    },
    {
     "name": "stdout",
     "output_type": "stream",
     "text": [
      "Optimization restart 1/5, f = 3173.151892269631\n",
      "Optimization restart 2/5, f = 3173.1515188481676\n",
      "Optimization restart 3/5, f = 3173.1515181637865\n"
     ]
    },
    {
     "name": "stderr",
     "output_type": "stream",
     "text": [
      " /Users/Matteo/opt/anaconda3/envs/ml_and_physical/lib/python3.8/site-packages/GPy/kern/src/stationary.py:168: RuntimeWarning:overflow encountered in true_divide\n",
      " /Users/Matteo/opt/anaconda3/envs/ml_and_physical/lib/python3.8/site-packages/GPy/kern/src/rbf.py:52: RuntimeWarning:overflow encountered in square\n",
      " /Users/Matteo/opt/anaconda3/envs/ml_and_physical/lib/python3.8/site-packages/GPy/kern/src/rbf.py:76: RuntimeWarning:invalid value encountered in multiply\n"
     ]
    },
    {
     "name": "stdout",
     "output_type": "stream",
     "text": [
      "Optimization restart 4/5, f = 3313.612416464289\n",
      "Optimization restart 5/5, f = 3173.151518416793\n",
      "[[20.          8.         69.91418364  1.          1.5       ]]\n",
      "\n",
      "User function emissions called with 1 inputs to simulate\n",
      "\n",
      "Evaluating input: 1 of 1\n",
      "\n",
      " Retrying in 1 seconds\n",
      "\n",
      "Output 1663.1325559684565\n",
      "\n"
     ]
    },
    {
     "name": "stderr",
     "output_type": "stream",
     "text": [
      " /Users/Matteo/opt/anaconda3/envs/ml_and_physical/lib/python3.8/site-packages/paramz/transformations.py:111: RuntimeWarning:overflow encountered in expm1\n"
     ]
    },
    {
     "name": "stdout",
     "output_type": "stream",
     "text": [
      "Optimization restart 1/5, f = 3177.843922898459\n",
      "Optimization restart 2/5, f = 3177.8432001177503\n",
      "Optimization restart 3/5, f = 3177.8432001091073\n",
      "Optimization restart 4/5, f = 3177.8432001086503\n"
     ]
    },
    {
     "name": "stderr",
     "output_type": "stream",
     "text": [
      " /Users/Matteo/opt/anaconda3/envs/ml_and_physical/lib/python3.8/site-packages/GPy/kern/src/stationary.py:168: RuntimeWarning:overflow encountered in true_divide\n",
      " /Users/Matteo/opt/anaconda3/envs/ml_and_physical/lib/python3.8/site-packages/GPy/kern/src/rbf.py:52: RuntimeWarning:overflow encountered in square\n",
      " /Users/Matteo/opt/anaconda3/envs/ml_and_physical/lib/python3.8/site-packages/GPy/kern/src/rbf.py:76: RuntimeWarning:invalid value encountered in multiply\n"
     ]
    },
    {
     "name": "stdout",
     "output_type": "stream",
     "text": [
      "Optimization restart 5/5, f = 3582.8200898044383\n"
     ]
    }
   ],
   "source": [
    "bo_integrated_variance = BayesianOptimizationLoop(parameter_space, emukit_model_integrated_variance, acquisition=acquisition_integrated_variance)\n",
    "bo_integrated_variance.run_loop(user_function_emissions, n_iter_bo)"
   ]
  },
  {
   "cell_type": "markdown",
   "metadata": {},
   "source": [
    "## Results"
   ]
  },
  {
   "cell_type": "code",
   "execution_count": 26,
   "metadata": {},
   "outputs": [],
   "source": [
    "parameters_name = ['Size of the grid', 'Speed limit in the net (m/s)', 'Length of the roads (m)', 'Number of lanes', 'Accelleration (m/s^2)']"
   ]
  },
  {
   "cell_type": "markdown",
   "metadata": {},
   "source": [
    "### Results on the random initialised emulator"
   ]
  },
  {
   "cell_type": "code",
   "execution_count": 27,
   "metadata": {},
   "outputs": [],
   "source": [
    "results_random_init = bo_random_init.get_results()"
   ]
  },
  {
   "cell_type": "code",
   "execution_count": 28,
   "metadata": {},
   "outputs": [
    {
     "data": {
      "text/html": [
       "<div>\n",
       "<style scoped>\n",
       "    .dataframe tbody tr th:only-of-type {\n",
       "        vertical-align: middle;\n",
       "    }\n",
       "\n",
       "    .dataframe tbody tr th {\n",
       "        vertical-align: top;\n",
       "    }\n",
       "\n",
       "    .dataframe thead th {\n",
       "        text-align: right;\n",
       "    }\n",
       "</style>\n",
       "<table border=\"1\" class=\"dataframe\">\n",
       "  <thead>\n",
       "    <tr style=\"text-align: right;\">\n",
       "      <th></th>\n",
       "      <th>Size of the grid</th>\n",
       "      <th>Speed limit in the net (m/s)</th>\n",
       "      <th>Length of the roads (m)</th>\n",
       "      <th>Number of lanes</th>\n",
       "      <th>Accelleration (m/s^2)</th>\n",
       "    </tr>\n",
       "  </thead>\n",
       "  <tbody>\n",
       "    <tr>\n",
       "      <th>0</th>\n",
       "      <td>20.0</td>\n",
       "      <td>8.0</td>\n",
       "      <td>70.0</td>\n",
       "      <td>1.0</td>\n",
       "      <td>1.5</td>\n",
       "    </tr>\n",
       "  </tbody>\n",
       "</table>\n",
       "</div>"
      ],
      "text/plain": [
       "   Size of the grid  Speed limit in the net (m/s)  Length of the roads (m)  \\\n",
       "0              20.0                           8.0                     70.0   \n",
       "\n",
       "   Number of lanes  Accelleration (m/s^2)  \n",
       "0              1.0                    1.5  "
      ]
     },
     "execution_count": 28,
     "metadata": {},
     "output_type": "execute_result"
    }
   ],
   "source": [
    "results_random_init_df = pd.DataFrame(results_random_init.minimum_location.reshape(1,-1))\n",
    "results_random_init_df.columns = parameters_name\n",
    "results_random_init_df"
   ]
  },
  {
   "cell_type": "code",
   "execution_count": 29,
   "metadata": {},
   "outputs": [
    {
     "data": {
      "text/plain": [
       "1662.044947592042"
      ]
     },
     "execution_count": 29,
     "metadata": {},
     "output_type": "execute_result"
    }
   ],
   "source": [
    "results_random_init.minimum_value"
   ]
  },
  {
   "cell_type": "markdown",
   "metadata": {},
   "source": [
    "### Results on the experimentally designed emulator with model variance"
   ]
  },
  {
   "cell_type": "code",
   "execution_count": 30,
   "metadata": {},
   "outputs": [],
   "source": [
    "results_model_variance = bo_model_variance.get_results()"
   ]
  },
  {
   "cell_type": "code",
   "execution_count": 31,
   "metadata": {},
   "outputs": [
    {
     "data": {
      "text/html": [
       "<div>\n",
       "<style scoped>\n",
       "    .dataframe tbody tr th:only-of-type {\n",
       "        vertical-align: middle;\n",
       "    }\n",
       "\n",
       "    .dataframe tbody tr th {\n",
       "        vertical-align: top;\n",
       "    }\n",
       "\n",
       "    .dataframe thead th {\n",
       "        text-align: right;\n",
       "    }\n",
       "</style>\n",
       "<table border=\"1\" class=\"dataframe\">\n",
       "  <thead>\n",
       "    <tr style=\"text-align: right;\">\n",
       "      <th></th>\n",
       "      <th>Size of the grid</th>\n",
       "      <th>Speed limit in the net (m/s)</th>\n",
       "      <th>Length of the roads (m)</th>\n",
       "      <th>Number of lanes</th>\n",
       "      <th>Accelleration (m/s^2)</th>\n",
       "    </tr>\n",
       "  </thead>\n",
       "  <tbody>\n",
       "    <tr>\n",
       "      <th>0</th>\n",
       "      <td>15.0</td>\n",
       "      <td>8.0</td>\n",
       "      <td>66.213268</td>\n",
       "      <td>1.0</td>\n",
       "      <td>1.5</td>\n",
       "    </tr>\n",
       "  </tbody>\n",
       "</table>\n",
       "</div>"
      ],
      "text/plain": [
       "   Size of the grid  Speed limit in the net (m/s)  Length of the roads (m)  \\\n",
       "0              15.0                           8.0                66.213268   \n",
       "\n",
       "   Number of lanes  Accelleration (m/s^2)  \n",
       "0              1.0                    1.5  "
      ]
     },
     "execution_count": 31,
     "metadata": {},
     "output_type": "execute_result"
    }
   ],
   "source": [
    "results_random_init_df = pd.DataFrame(results_model_variance.minimum_location.reshape(1,-1))\n",
    "results_random_init_df.columns = parameters_name\n",
    "results_random_init_df"
   ]
  },
  {
   "cell_type": "code",
   "execution_count": 32,
   "metadata": {},
   "outputs": [
    {
     "data": {
      "text/plain": [
       "1718.5519022665358"
      ]
     },
     "execution_count": 32,
     "metadata": {},
     "output_type": "execute_result"
    }
   ],
   "source": [
    "results_model_variance.minimum_value"
   ]
  },
  {
   "cell_type": "markdown",
   "metadata": {},
   "source": [
    "### Results on the experimentally designed emulator with integrated variance reduction"
   ]
  },
  {
   "cell_type": "code",
   "execution_count": 33,
   "metadata": {},
   "outputs": [],
   "source": [
    "results_integrated_variance = bo_integrated_variance.get_results()"
   ]
  },
  {
   "cell_type": "code",
   "execution_count": 34,
   "metadata": {},
   "outputs": [
    {
     "data": {
      "text/html": [
       "<div>\n",
       "<style scoped>\n",
       "    .dataframe tbody tr th:only-of-type {\n",
       "        vertical-align: middle;\n",
       "    }\n",
       "\n",
       "    .dataframe tbody tr th {\n",
       "        vertical-align: top;\n",
       "    }\n",
       "\n",
       "    .dataframe thead th {\n",
       "        text-align: right;\n",
       "    }\n",
       "</style>\n",
       "<table border=\"1\" class=\"dataframe\">\n",
       "  <thead>\n",
       "    <tr style=\"text-align: right;\">\n",
       "      <th></th>\n",
       "      <th>Size of the grid</th>\n",
       "      <th>Speed limit in the net (m/s)</th>\n",
       "      <th>Length of the roads (m)</th>\n",
       "      <th>Number of lanes</th>\n",
       "      <th>Accelleration (m/s^2)</th>\n",
       "    </tr>\n",
       "  </thead>\n",
       "  <tbody>\n",
       "    <tr>\n",
       "      <th>0</th>\n",
       "      <td>20.0</td>\n",
       "      <td>8.0</td>\n",
       "      <td>69.176962</td>\n",
       "      <td>1.0</td>\n",
       "      <td>1.5</td>\n",
       "    </tr>\n",
       "  </tbody>\n",
       "</table>\n",
       "</div>"
      ],
      "text/plain": [
       "   Size of the grid  Speed limit in the net (m/s)  Length of the roads (m)  \\\n",
       "0              20.0                           8.0                69.176962   \n",
       "\n",
       "   Number of lanes  Accelleration (m/s^2)  \n",
       "0              1.0                    1.5  "
      ]
     },
     "execution_count": 34,
     "metadata": {},
     "output_type": "execute_result"
    }
   ],
   "source": [
    "results_random_init_df = pd.DataFrame(results_integrated_variance.minimum_location.reshape(1,-1))\n",
    "results_random_init_df.columns = parameters_name\n",
    "results_random_init_df"
   ]
  },
  {
   "cell_type": "code",
   "execution_count": 35,
   "metadata": {},
   "outputs": [
    {
     "data": {
      "text/plain": [
       "1661.2993951063625"
      ]
     },
     "execution_count": 35,
     "metadata": {},
     "output_type": "execute_result"
    }
   ],
   "source": [
    "results_integrated_variance.minimum_value"
   ]
  },
  {
   "cell_type": "markdown",
   "metadata": {},
   "source": [
    "## Save stuff"
   ]
  },
  {
   "cell_type": "code",
   "execution_count": 36,
   "metadata": {},
   "outputs": [],
   "source": [
    "with open(f'bayesian_optimization/bayesian_opt_results/results_random_init_emissions.pkl', \"wb\") as f:\n",
    "     pickle.dump(results_random_init, f)\n",
    "\n",
    "with open(f'bayesian_optimization/bayesian_opt_results/results_model_variance_emissions.pkl', \"wb\") as f:\n",
    "     pickle.dump(results_model_variance, f)\n",
    "        \n",
    "with open(f'bayesian_optimization/bayesian_opt_results/results_integrated_variance_emissions.pkl', \"wb\") as f:\n",
    "     pickle.dump(results_integrated_variance, f)"
   ]
  },
  {
   "cell_type": "code",
   "execution_count": 37,
   "metadata": {},
   "outputs": [],
   "source": [
    "with open(f'bayesian_optimization/models/520_random_init_50_bay_opt_emissions.pkl', \"wb\") as f:\n",
    "     pickle.dump(emukit_model_random_init, f)\n",
    "\n",
    "with open(f'bayesian_optimization/models/520_model_variance_50_bay_emissions.pkl', \"wb\") as f:\n",
    "     pickle.dump(emukit_model_variance, f)\n",
    "        \n",
    "with open(f'bayesian_optimization/models/520_integrated_variance_50_bay_emissions.pkl', \"wb\") as f:\n",
    "     pickle.dump(emukit_model_integrated_variance, f)"
   ]
  }
 ],
 "metadata": {
  "kernelspec": {
   "display_name": "ml_and_physical",
   "language": "python",
   "name": "ml_and_physical"
  },
  "language_info": {
   "codemirror_mode": {
    "name": "ipython",
    "version": 3
   },
   "file_extension": ".py",
   "mimetype": "text/x-python",
   "name": "python",
   "nbconvert_exporter": "python",
   "pygments_lexer": "ipython3",
   "version": "3.8.5"
  }
 },
 "nbformat": 4,
 "nbformat_minor": 4
}
