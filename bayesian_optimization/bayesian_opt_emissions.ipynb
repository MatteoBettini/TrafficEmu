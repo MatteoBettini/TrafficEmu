{
 "cells": [
  {
   "cell_type": "code",
   "execution_count": 1,
   "metadata": {},
   "outputs": [
    {
     "name": "stdout",
     "output_type": "stream",
     "text": [
      "/Users/Matteo/PycharmProjects/TrafficEmu\n"
     ]
    }
   ],
   "source": [
    "%cd .."
   ]
  },
  {
   "cell_type": "markdown",
   "metadata": {},
   "source": [
    "# Bayesian optimization: finding the minimum emission"
   ]
  },
  {
   "cell_type": "markdown",
   "metadata": {},
   "source": [
    "In this notebook we will performing bayesian optimization on the emulator trained on our sumo simulation. We are interested in identifying the parameters which enable us to obtain the minimum travel time. Our emulator is a gaussian process with an **rbf** kernel.\n"
   ]
  },
  {
   "cell_type": "markdown",
   "metadata": {},
   "source": [
    "## Imports"
   ]
  },
  {
   "cell_type": "code",
   "execution_count": 30,
   "metadata": {},
   "outputs": [],
   "source": [
    "import pickle\n",
    "import numpy as np\n",
    "import emukit as ek\n",
    "import GPy\n",
    "import pandas as pd\n",
    "\n",
    "from emukit.model_wrappers import GPyModelWrapper\n",
    "from emukit.core.initial_designs import RandomDesign\n",
    "from emukit.core import ParameterSpace, ContinuousParameter, DiscreteParameter\n",
    "from emukit.bayesian_optimization.acquisitions import ExpectedImprovement\n",
    "from emukit.bayesian_optimization.loops import BayesianOptimizationLoop\n",
    "\n",
    "from experimental_design import config\n",
    "from sumo_grid_simulation.grid_simulation import Simulator"
   ]
  },
  {
   "cell_type": "markdown",
   "metadata": {},
   "source": [
    "## Simulator"
   ]
  },
  {
   "cell_type": "markdown",
   "metadata": {},
   "source": [
    "We start by initialising our simulation."
   ]
  },
  {
   "cell_type": "code",
   "execution_count": 3,
   "metadata": {},
   "outputs": [],
   "source": [
    "simulator = Simulator(end_time=300)"
   ]
  },
  {
   "cell_type": "markdown",
   "metadata": {},
   "source": [
    "We then define the two user functions in which we are interested:"
   ]
  },
  {
   "cell_type": "code",
   "execution_count": 4,
   "metadata": {},
   "outputs": [],
   "source": [
    "def user_function_emissions(X):\n",
    "    \"\"\"  X = inputs - emukit doesnt pass named args, just an NxM ndarray, N is the number of points to evaluate, M is the number of parameters per each point \"\"\"\n",
    "    result = []\n",
    "    i = 0\n",
    "    \n",
    "    print(X)\n",
    "    print(f'\\nUser function emissions called with {X.shape[0]} inputs to simulate')\n",
    "\n",
    "    \n",
    "    for gridSize, edgeMaxSpeed, maxSpeed, edgeLength, numLanes, accel in X:\n",
    "        print(f'\\nEvaluating input: {i+1} of {X.shape[0]}\\n')\n",
    "        \n",
    "        alpha = 0.005\n",
    "        max_number_of_vehicles = ((gridSize - 1) * gridSize * 2 + 4 * gridSize) * edgeLength / 5\n",
    "        period = 300/(max_number_of_vehicles * alpha)\n",
    "        \n",
    "        s = simulator.simulate(\n",
    "            gridSize      = int(gridSize),\n",
    "            edgeMaxSpeed  = edgeMaxSpeed,\n",
    "            maxSpeed      = maxSpeed,\n",
    "            edgeLength    = edgeLength,\n",
    "            numberOfLanes = int(numLanes),\n",
    "            accel         = accel,\n",
    "            trips_generator_period = period\n",
    "        )\n",
    "\n",
    "        CO2 = s['CO2']/s['num_emissions_samples']\n",
    "        result.append(CO2/s['duration'])\n",
    "        print(f'\\nOutput {result[-1]}\\n')\n",
    "        i += 1\n",
    "        \n",
    "    # expand dims is essential or the acquition function breaks\n",
    "    return np.expand_dims(np.array(result), 1)  "
   ]
  },
  {
   "cell_type": "markdown",
   "metadata": {
    "pycharm": {
     "name": "#%% md\n"
    }
   },
   "source": [
    "We then load the parameters' space from our configuration file:"
   ]
  },
  {
   "cell_type": "code",
   "execution_count": 5,
   "metadata": {
    "pycharm": {
     "name": "#%%\n"
    }
   },
   "outputs": [],
   "source": [
    "parameter_space = config.get_parameter_space()"
   ]
  },
  {
   "cell_type": "markdown",
   "metadata": {
    "pycharm": {
     "name": "#%% md\n"
    }
   },
   "source": [
    "## Emulator"
   ]
  },
  {
   "cell_type": "markdown",
   "metadata": {},
   "source": [
    "### Rnadomly initialised emulator"
   ]
  },
  {
   "cell_type": "markdown",
   "metadata": {},
   "source": [
    "The first emulator we are going to analyse is the one that is just initilised with random points"
   ]
  },
  {
   "cell_type": "markdown",
   "metadata": {},
   "source": [
    "We first sample at random 200 datapoints from the parameter space:"
   ]
  },
  {
   "cell_type": "code",
   "execution_count": 6,
   "metadata": {
    "pycharm": {
     "name": "#%%\n"
    }
   },
   "outputs": [
    {
     "name": "stdout",
     "output_type": "stream",
     "text": [
      "[[ 3.         13.45629089 12.62279017 31.88002303  3.          3.29806164]\n",
      " [11.         24.84758826 10.4733427  44.62352234  1.          4.43758246]\n",
      " [15.         14.38873192 16.87062442 46.33469437  1.          3.26889924]\n",
      " ...\n",
      " [10.         15.45422557 22.5955133  30.3372117   2.          4.18152089]\n",
      " [ 9.         18.66407347 22.65891601 41.91541962  3.          2.96242485]\n",
      " [15.         19.70927053 23.73218336 65.60162907  3.          3.01234321]]\n",
      "\n",
      "User function emissions called with 270 inputs to simulate\n",
      "\n",
      "Evaluating input: 1 of 270\n",
      "\n",
      " Retrying in 1 seconds\n",
      "\n",
      "Output 320.8279111111111\n",
      "\n",
      "\n",
      "Evaluating input: 2 of 270\n",
      "\n",
      " Retrying in 1 seconds\n",
      "\n",
      "Output 51.16088719744498\n",
      "\n",
      "\n",
      "Evaluating input: 3 of 270\n",
      "\n",
      " Retrying in 1 seconds\n",
      "\n",
      "Output 62.926845939696406\n",
      "\n",
      "\n",
      "Evaluating input: 4 of 270\n",
      "\n",
      " Retrying in 1 seconds\n",
      "\n",
      "Output 81.64658838900145\n",
      "\n",
      "\n",
      "Evaluating input: 5 of 270\n",
      "\n",
      " Retrying in 1 seconds\n",
      "\n",
      "Output 39.136407752497654\n",
      "\n",
      "\n",
      "Evaluating input: 6 of 270\n",
      "\n",
      " Retrying in 1 seconds\n",
      "\n",
      "Output 67.52764370413911\n",
      "\n",
      "\n",
      "Evaluating input: 7 of 270\n",
      "\n",
      " Retrying in 1 seconds\n",
      "\n",
      "Output 123.07019909741321\n",
      "\n",
      "\n",
      "Evaluating input: 8 of 270\n",
      "\n",
      " Retrying in 1 seconds\n",
      "\n",
      "Output 98.22451503632048\n",
      "\n",
      "\n",
      "Evaluating input: 9 of 270\n",
      "\n",
      " Retrying in 1 seconds\n",
      "\n",
      "Output 37.229554257264034\n",
      "\n",
      "\n",
      "Evaluating input: 10 of 270\n",
      "\n",
      " Retrying in 1 seconds\n",
      "\n",
      "Output 145.54485198000768\n",
      "\n",
      "\n",
      "Evaluating input: 11 of 270\n",
      "\n",
      " Retrying in 1 seconds\n",
      "\n",
      "Output 14.612238084883089\n",
      "\n",
      "\n",
      "Evaluating input: 12 of 270\n",
      "\n",
      " Retrying in 1 seconds\n",
      "\n",
      "Output 57.71263536709526\n",
      "\n",
      "\n",
      "Evaluating input: 13 of 270\n",
      "\n",
      " Retrying in 1 seconds\n",
      "\n",
      "Output 40.17640441433239\n",
      "\n",
      "\n",
      "Evaluating input: 14 of 270\n",
      "\n",
      " Retrying in 1 seconds\n",
      "\n",
      "Output 25.428989101814842\n",
      "\n",
      "\n",
      "Evaluating input: 15 of 270\n",
      "\n",
      " Retrying in 1 seconds\n",
      "\n",
      "Output 65.08491165907813\n",
      "\n",
      "\n",
      "Evaluating input: 16 of 270\n",
      "\n",
      " Retrying in 1 seconds\n",
      "\n",
      "Output 100.84265558075083\n",
      "\n",
      "\n",
      "Evaluating input: 17 of 270\n",
      "\n",
      " Retrying in 1 seconds\n",
      "\n",
      "Output 111.3446600953306\n",
      "\n",
      "\n",
      "Evaluating input: 18 of 270\n",
      "\n",
      " Retrying in 1 seconds\n",
      "\n",
      "Output 225.1255924899969\n",
      "\n",
      "\n",
      "Evaluating input: 19 of 270\n",
      "\n",
      " Retrying in 1 seconds\n",
      "\n",
      "Output 25.769767011930274\n",
      "\n",
      "\n",
      "Evaluating input: 20 of 270\n",
      "\n",
      " Retrying in 1 seconds\n",
      "\n",
      "Output 42.518049191806185\n",
      "\n",
      "\n",
      "Evaluating input: 21 of 270\n",
      "\n",
      " Retrying in 1 seconds\n",
      "\n",
      "Output 99.78597985160133\n",
      "\n",
      "\n",
      "Evaluating input: 22 of 270\n",
      "\n",
      " Retrying in 1 seconds\n",
      "\n",
      "Output 68.84827535342838\n",
      "\n",
      "\n",
      "Evaluating input: 23 of 270\n",
      "\n",
      " Retrying in 1 seconds\n",
      "\n",
      "Output 9.418474659777328\n",
      "\n",
      "\n",
      "Evaluating input: 24 of 270\n",
      "\n",
      " Retrying in 1 seconds\n",
      "\n",
      "Output 27.432240219609536\n",
      "\n",
      "\n",
      "Evaluating input: 25 of 270\n",
      "\n",
      " Retrying in 1 seconds\n",
      "\n",
      "Output 13.172189325346517\n",
      "\n",
      "\n",
      "Evaluating input: 26 of 270\n",
      "\n",
      " Retrying in 1 seconds\n",
      "\n",
      "Output 45.61118147448015\n",
      "\n",
      "\n",
      "Evaluating input: 27 of 270\n",
      "\n",
      " Retrying in 1 seconds\n",
      "\n",
      "Output 157.38984277866155\n",
      "\n",
      "\n",
      "Evaluating input: 28 of 270\n",
      "\n",
      " Retrying in 1 seconds\n",
      "\n",
      "Output 96.69958998248903\n",
      "\n",
      "\n",
      "Evaluating input: 29 of 270\n",
      "\n",
      " Retrying in 1 seconds\n",
      "\n",
      "Output 59.46913848472075\n",
      "\n",
      "\n",
      "Evaluating input: 30 of 270\n",
      "\n",
      " Retrying in 1 seconds\n",
      "\n",
      "Output 132.80439241597242\n",
      "\n",
      "\n",
      "Evaluating input: 31 of 270\n",
      "\n",
      " Retrying in 1 seconds\n",
      "\n",
      "Output 9.068423607438364\n",
      "\n",
      "\n",
      "Evaluating input: 32 of 270\n",
      "\n",
      " Retrying in 1 seconds\n",
      "\n",
      "Output 71.09062760416667\n",
      "\n",
      "\n",
      "Evaluating input: 33 of 270\n",
      "\n",
      " Retrying in 1 seconds\n",
      "\n",
      "Output 51.29983936571532\n",
      "\n",
      "\n",
      "Evaluating input: 34 of 270\n",
      "\n",
      " Retrying in 1 seconds\n",
      "\n",
      "Output 31.060866408543742\n",
      "\n",
      "\n",
      "Evaluating input: 35 of 270\n",
      "\n",
      " Retrying in 1 seconds\n",
      "\n",
      "Output 25.461041190211724\n",
      "\n",
      "\n",
      "Evaluating input: 36 of 270\n",
      "\n",
      " Retrying in 1 seconds\n",
      "\n",
      "Output 101.15692685604958\n",
      "\n",
      "\n",
      "Evaluating input: 37 of 270\n",
      "\n",
      " Retrying in 1 seconds\n",
      "\n",
      "Output 22.37069283836668\n",
      "\n",
      "\n",
      "Evaluating input: 38 of 270\n",
      "\n",
      " Retrying in 1 seconds\n",
      "\n",
      "Output 65.18019535486401\n",
      "\n",
      "\n",
      "Evaluating input: 39 of 270\n",
      "\n",
      " Retrying in 1 seconds\n",
      "\n",
      "Output 14.580700524426446\n",
      "\n",
      "\n",
      "Evaluating input: 40 of 270\n",
      "\n",
      " Retrying in 1 seconds\n",
      "\n",
      "Output 24.535529379551946\n",
      "\n",
      "\n",
      "Evaluating input: 41 of 270\n",
      "\n",
      " Retrying in 1 seconds\n",
      "\n",
      "Output 79.43453661999956\n",
      "\n",
      "\n",
      "Evaluating input: 42 of 270\n",
      "\n",
      " Retrying in 1 seconds\n",
      "\n",
      "Output 16.44836963705634\n",
      "\n",
      "\n",
      "Evaluating input: 43 of 270\n",
      "\n",
      " Retrying in 1 seconds\n",
      "\n",
      "Output 39.7286154049412\n",
      "\n",
      "\n",
      "Evaluating input: 44 of 270\n",
      "\n",
      " Retrying in 1 seconds\n",
      "\n",
      "Output 138.6648090277778\n",
      "\n",
      "\n",
      "Evaluating input: 45 of 270\n",
      "\n",
      " Retrying in 1 seconds\n",
      "\n",
      "Output 148.73577085736255\n",
      "\n",
      "\n",
      "Evaluating input: 46 of 270\n",
      "\n",
      " Retrying in 1 seconds\n",
      "\n",
      "Output 16.870003274069738\n",
      "\n",
      "\n",
      "Evaluating input: 47 of 270\n",
      "\n",
      " Retrying in 1 seconds\n",
      "\n",
      "Output 92.27484583920227\n",
      "\n",
      "\n",
      "Evaluating input: 48 of 270\n",
      "\n",
      " Retrying in 1 seconds\n",
      "\n",
      "Output 119.95213600103027\n",
      "\n",
      "\n",
      "Evaluating input: 49 of 270\n",
      "\n",
      " Retrying in 1 seconds\n",
      "\n",
      "Output 58.38371134888659\n",
      "\n",
      "\n",
      "Evaluating input: 50 of 270\n",
      "\n",
      " Retrying in 1 seconds\n",
      "\n",
      "Output 30.35538746953255\n",
      "\n",
      "\n",
      "Evaluating input: 51 of 270\n",
      "\n",
      " Retrying in 1 seconds\n",
      "\n",
      "Output 21.762437281430582\n",
      "\n",
      "\n",
      "Evaluating input: 52 of 270\n",
      "\n",
      " Retrying in 1 seconds\n",
      "\n",
      "Output 118.92677696078428\n",
      "\n",
      "\n",
      "Evaluating input: 53 of 270\n",
      "\n",
      " Retrying in 1 seconds\n",
      "\n",
      "Output 51.54473754255722\n",
      "\n",
      "\n",
      "Evaluating input: 54 of 270\n",
      "\n",
      " Retrying in 1 seconds\n",
      "\n",
      "Output 78.95807792311396\n",
      "\n",
      "\n",
      "Evaluating input: 55 of 270\n",
      "\n",
      " Retrying in 1 seconds\n",
      "\n",
      "Output 31.76504705369106\n",
      "\n",
      "\n",
      "Evaluating input: 56 of 270\n",
      "\n",
      " Retrying in 1 seconds\n",
      "\n",
      "Output 102.51248165046616\n",
      "\n",
      "\n",
      "Evaluating input: 57 of 270\n",
      "\n",
      " Retrying in 1 seconds\n",
      "\n",
      "Output 46.63623072897799\n",
      "\n",
      "\n",
      "Evaluating input: 58 of 270\n",
      "\n",
      " Retrying in 1 seconds\n",
      "\n",
      "Output 216.42637914517096\n",
      "\n",
      "\n",
      "Evaluating input: 59 of 270\n",
      "\n",
      " Retrying in 1 seconds\n",
      "\n",
      "Output 29.708659398245782\n",
      "\n",
      "\n",
      "Evaluating input: 60 of 270\n",
      "\n",
      " Retrying in 1 seconds\n",
      "\n",
      "Output 20.22522688673639\n",
      "\n",
      "\n",
      "Evaluating input: 61 of 270\n",
      "\n",
      " Retrying in 1 seconds\n",
      "\n",
      "Output 59.01723875432523\n",
      "\n",
      "\n",
      "Evaluating input: 62 of 270\n",
      "\n",
      " Retrying in 1 seconds\n",
      "\n",
      "Output 88.85280808465356\n",
      "\n",
      "\n",
      "Evaluating input: 63 of 270\n",
      "\n",
      " Retrying in 1 seconds\n",
      "\n",
      "Output 12.273133140230659\n",
      "\n",
      "\n",
      "Evaluating input: 64 of 270\n",
      "\n",
      " Retrying in 1 seconds\n",
      "\n",
      "Output 29.91006216448427\n",
      "\n",
      "\n",
      "Evaluating input: 65 of 270\n",
      "\n",
      " Retrying in 1 seconds\n",
      "\n",
      "Output 94.07030243261015\n",
      "\n",
      "\n",
      "Evaluating input: 66 of 270\n",
      "\n",
      " Retrying in 1 seconds\n",
      "\n",
      "Output 68.97029984862286\n",
      "\n",
      "\n",
      "Evaluating input: 67 of 270\n",
      "\n",
      " Retrying in 1 seconds\n",
      "\n",
      "Output 41.14396758558025\n",
      "\n",
      "\n",
      "Evaluating input: 68 of 270\n",
      "\n",
      " Retrying in 1 seconds\n",
      "\n",
      "Output 36.16641866760712\n",
      "\n",
      "\n",
      "Evaluating input: 69 of 270\n",
      "\n",
      " Retrying in 1 seconds\n",
      "\n",
      "Output 83.94176646301894\n",
      "\n",
      "\n",
      "Evaluating input: 70 of 270\n",
      "\n",
      " Retrying in 1 seconds\n",
      "\n",
      "Output 7.584845945711381\n",
      "\n",
      "\n",
      "Evaluating input: 71 of 270\n",
      "\n",
      " Retrying in 1 seconds\n",
      "\n",
      "Output 23.187320103583822\n",
      "\n",
      "\n",
      "Evaluating input: 72 of 270\n",
      "\n",
      " Retrying in 1 seconds\n",
      "\n",
      "Output 49.21158458214832\n",
      "\n",
      "\n",
      "Evaluating input: 73 of 270\n",
      "\n",
      " Retrying in 1 seconds\n",
      "\n",
      "Output 23.895220567119075\n",
      "\n",
      "\n",
      "Evaluating input: 74 of 270\n",
      "\n",
      " Retrying in 1 seconds\n",
      "\n",
      "Output 109.22283837512094\n",
      "\n",
      "\n",
      "Evaluating input: 75 of 270\n",
      "\n",
      " Retrying in 1 seconds\n",
      "\n",
      "Output 153.72515383107972\n",
      "\n",
      "\n",
      "Evaluating input: 76 of 270\n",
      "\n",
      " Retrying in 1 seconds\n",
      "\n",
      "Output 77.28123217839868\n",
      "\n",
      "\n",
      "Evaluating input: 77 of 270\n",
      "\n",
      " Retrying in 1 seconds\n",
      "\n",
      "Output 16.505424347161277\n",
      "\n",
      "\n",
      "Evaluating input: 78 of 270\n",
      "\n",
      " Retrying in 1 seconds\n",
      "\n",
      "Output 53.70770120854491\n",
      "\n",
      "\n",
      "Evaluating input: 79 of 270\n",
      "\n",
      " Retrying in 1 seconds\n",
      "\n",
      "Output 113.16389122952707\n",
      "\n",
      "\n",
      "Evaluating input: 80 of 270\n",
      "\n",
      " Retrying in 1 seconds\n",
      "\n",
      "Output 18.30682374831894\n",
      "\n",
      "\n",
      "Evaluating input: 81 of 270\n",
      "\n",
      " Retrying in 1 seconds\n",
      "\n",
      "Output 111.17827928370386\n",
      "\n",
      "\n",
      "Evaluating input: 82 of 270\n",
      "\n",
      " Retrying in 1 seconds\n",
      "\n",
      "Output 45.49783897688854\n",
      "\n",
      "\n",
      "Evaluating input: 83 of 270\n",
      "\n",
      " Retrying in 1 seconds\n",
      "\n",
      "Output 155.89845484548462\n",
      "\n",
      "\n",
      "Evaluating input: 84 of 270\n",
      "\n",
      " Retrying in 1 seconds\n",
      "\n",
      "Output 75.20897073194226\n",
      "\n",
      "\n",
      "Evaluating input: 85 of 270\n",
      "\n",
      " Retrying in 1 seconds\n",
      "\n",
      "Output 75.35242927144965\n",
      "\n",
      "\n",
      "Evaluating input: 86 of 270\n",
      "\n",
      " Retrying in 1 seconds\n",
      "\n",
      "Output 45.54064149278786\n",
      "\n",
      "\n",
      "Evaluating input: 87 of 270\n",
      "\n",
      " Retrying in 1 seconds\n",
      "\n",
      "Output 28.804278294707988\n",
      "\n",
      "\n",
      "Evaluating input: 88 of 270\n",
      "\n",
      " Retrying in 1 seconds\n",
      "\n",
      "Output 74.84578779003736\n",
      "\n",
      "\n",
      "Evaluating input: 89 of 270\n",
      "\n",
      " Retrying in 1 seconds\n",
      "\n",
      "Output 29.946289670640898\n",
      "\n",
      "\n",
      "Evaluating input: 90 of 270\n",
      "\n",
      " Retrying in 1 seconds\n",
      "\n",
      "Output 66.70490158835965\n",
      "\n",
      "\n",
      "Evaluating input: 91 of 270\n",
      "\n",
      " Retrying in 1 seconds\n",
      "\n",
      "Output 79.75455728300038\n",
      "\n",
      "\n",
      "Evaluating input: 92 of 270\n",
      "\n",
      " Retrying in 1 seconds\n",
      "\n",
      "Output 42.37920878152361\n",
      "\n",
      "\n",
      "Evaluating input: 93 of 270\n",
      "\n",
      " Retrying in 1 seconds\n",
      "\n",
      "Output 56.21942063236631\n",
      "\n",
      "\n",
      "Evaluating input: 94 of 270\n",
      "\n",
      " Retrying in 1 seconds\n",
      "\n",
      "Output 25.98130452452232\n",
      "\n",
      "\n",
      "Evaluating input: 95 of 270\n",
      "\n",
      " Retrying in 1 seconds\n",
      "\n",
      "Output 42.057766685898564\n",
      "\n",
      "\n",
      "Evaluating input: 96 of 270\n",
      "\n",
      " Retrying in 1 seconds\n"
     ]
    },
    {
     "name": "stdout",
     "output_type": "stream",
     "text": [
      "\n",
      "Output 76.86669505821557\n",
      "\n",
      "\n",
      "Evaluating input: 97 of 270\n",
      "\n",
      " Retrying in 1 seconds\n",
      "\n",
      "Output 12.107707399503429\n",
      "\n",
      "\n",
      "Evaluating input: 98 of 270\n",
      "\n",
      " Retrying in 1 seconds\n",
      "\n",
      "Output 114.73066666666669\n",
      "\n",
      "\n",
      "Evaluating input: 99 of 270\n",
      "\n",
      " Retrying in 1 seconds\n",
      "\n",
      "Output 135.0811788021597\n",
      "\n",
      "\n",
      "Evaluating input: 100 of 270\n",
      "\n",
      " Retrying in 1 seconds\n",
      "\n",
      "Output 66.39930346527107\n",
      "\n",
      "\n",
      "Evaluating input: 101 of 270\n",
      "\n",
      " Retrying in 1 seconds\n",
      "\n",
      "Output 52.890672810146675\n",
      "\n",
      "\n",
      "Evaluating input: 102 of 270\n",
      "\n",
      " Retrying in 1 seconds\n",
      "\n",
      "Output 63.65292845338777\n",
      "\n",
      "\n",
      "Evaluating input: 103 of 270\n",
      "\n",
      " Retrying in 1 seconds\n",
      "\n",
      "Output 28.59618503546401\n",
      "\n",
      "\n",
      "Evaluating input: 104 of 270\n",
      "\n",
      " Retrying in 1 seconds\n",
      "\n",
      "Output 98.79417517006797\n",
      "\n",
      "\n",
      "Evaluating input: 105 of 270\n",
      "\n",
      " Retrying in 1 seconds\n",
      "\n",
      "Output 144.5017336498146\n",
      "\n",
      "\n",
      "Evaluating input: 106 of 270\n",
      "\n",
      " Retrying in 1 seconds\n",
      "\n",
      "Output 132.38868184134532\n",
      "\n",
      "\n",
      "Evaluating input: 107 of 270\n",
      "\n",
      " Retrying in 1 seconds\n",
      "\n",
      "Output 65.40056498428875\n",
      "\n",
      "\n",
      "Evaluating input: 108 of 270\n",
      "\n",
      " Retrying in 1 seconds\n",
      "\n",
      "Output 66.4098255669482\n",
      "\n",
      "\n",
      "Evaluating input: 109 of 270\n",
      "\n",
      " Retrying in 1 seconds\n",
      "\n",
      "Output 61.838110288065835\n",
      "\n",
      "\n",
      "Evaluating input: 110 of 270\n",
      "\n",
      " Retrying in 1 seconds\n",
      "\n",
      "Output 23.988983274503763\n",
      "\n",
      "\n",
      "Evaluating input: 111 of 270\n",
      "\n",
      " Retrying in 1 seconds\n",
      "\n",
      "Output 142.4049021153313\n",
      "\n",
      "\n",
      "Evaluating input: 112 of 270\n",
      "\n",
      " Retrying in 1 seconds\n",
      "\n",
      "Output 34.23405881553135\n",
      "\n",
      "\n",
      "Evaluating input: 113 of 270\n",
      "\n",
      " Retrying in 1 seconds\n",
      "\n",
      "Output 27.125380388571408\n",
      "\n",
      "\n",
      "Evaluating input: 114 of 270\n",
      "\n",
      " Retrying in 1 seconds\n",
      "\n",
      "Output 110.35968883043789\n",
      "\n",
      "\n",
      "Evaluating input: 115 of 270\n",
      "\n",
      " Retrying in 1 seconds\n",
      "\n",
      "Output 24.308439616826195\n",
      "\n",
      "\n",
      "Evaluating input: 116 of 270\n",
      "\n",
      " Retrying in 1 seconds\n",
      "\n",
      "Output 94.2359613695385\n",
      "\n",
      "\n",
      "Evaluating input: 117 of 270\n",
      "\n",
      " Retrying in 1 seconds\n",
      "\n",
      "Output 80.20612536696527\n",
      "\n",
      "\n",
      "Evaluating input: 118 of 270\n",
      "\n",
      " Retrying in 1 seconds\n",
      "\n",
      "Output 32.85074933353601\n",
      "\n",
      "\n",
      "Evaluating input: 119 of 270\n",
      "\n",
      " Retrying in 1 seconds\n",
      "\n",
      "Output 33.21043540037315\n",
      "\n",
      "\n",
      "Evaluating input: 120 of 270\n",
      "\n",
      " Retrying in 1 seconds\n",
      "\n",
      "Output 43.94128515980662\n",
      "\n",
      "\n",
      "Evaluating input: 121 of 270\n",
      "\n",
      " Retrying in 1 seconds\n",
      "\n",
      "Output 79.7629652873961\n",
      "\n",
      "\n",
      "Evaluating input: 122 of 270\n",
      "\n",
      " Retrying in 1 seconds\n",
      "\n",
      "Output 21.632600301265466\n",
      "\n",
      "\n",
      "Evaluating input: 123 of 270\n",
      "\n",
      " Retrying in 1 seconds\n",
      "\n",
      "Output 58.95096369005978\n",
      "\n",
      "\n",
      "Evaluating input: 124 of 270\n",
      "\n",
      " Retrying in 1 seconds\n",
      "\n",
      "Output 53.089683881474386\n",
      "\n",
      "\n",
      "Evaluating input: 125 of 270\n",
      "\n",
      " Retrying in 1 seconds\n",
      "\n",
      "Output 161.31809230083238\n",
      "\n",
      "\n",
      "Evaluating input: 126 of 270\n",
      "\n",
      " Retrying in 1 seconds\n",
      "\n",
      "Output 21.63902536651233\n",
      "\n",
      "\n",
      "Evaluating input: 127 of 270\n",
      "\n",
      " Retrying in 1 seconds\n",
      "\n",
      "Output 142.2727796296297\n",
      "\n",
      "\n",
      "Evaluating input: 128 of 270\n",
      "\n",
      " Retrying in 1 seconds\n",
      "\n",
      "Output 19.405125331081596\n",
      "\n",
      "\n",
      "Evaluating input: 129 of 270\n",
      "\n",
      " Retrying in 1 seconds\n",
      "\n",
      "Output 22.490328693003658\n",
      "\n",
      "\n",
      "Evaluating input: 130 of 270\n",
      "\n",
      " Retrying in 1 seconds\n",
      "\n",
      "Output 74.67624696926606\n",
      "\n",
      "\n",
      "Evaluating input: 131 of 270\n",
      "\n",
      " Retrying in 1 seconds\n",
      "\n",
      "Output 36.592271148289626\n",
      "\n",
      "\n",
      "Evaluating input: 132 of 270\n",
      "\n",
      " Retrying in 1 seconds\n",
      "\n",
      "Output 56.106805691614206\n",
      "\n",
      "\n",
      "Evaluating input: 133 of 270\n",
      "\n",
      " Retrying in 1 seconds\n",
      "\n",
      "Output 21.028397128805857\n",
      "\n",
      "\n",
      "Evaluating input: 134 of 270\n",
      "\n",
      " Retrying in 1 seconds\n",
      "\n",
      "Output 34.16807737939633\n",
      "\n",
      "\n",
      "Evaluating input: 135 of 270\n",
      "\n",
      " Retrying in 1 seconds\n",
      "\n",
      "Output 125.84753943944581\n",
      "\n",
      "\n",
      "Evaluating input: 136 of 270\n",
      "\n",
      " Retrying in 1 seconds\n",
      "\n",
      "Output 136.1133868475592\n",
      "\n",
      "\n",
      "Evaluating input: 137 of 270\n",
      "\n",
      " Retrying in 1 seconds\n",
      "\n",
      "Output 31.38538370322709\n",
      "\n",
      "\n",
      "Evaluating input: 138 of 270\n",
      "\n",
      " Retrying in 1 seconds\n",
      "\n",
      "Output 96.0049733333333\n",
      "\n",
      "\n",
      "Evaluating input: 139 of 270\n",
      "\n",
      " Retrying in 1 seconds\n",
      "\n",
      "Output 17.919973152579008\n",
      "\n",
      "\n",
      "Evaluating input: 140 of 270\n",
      "\n",
      " Retrying in 1 seconds\n",
      "\n",
      "Output 59.471989386871876\n",
      "\n",
      "\n",
      "Evaluating input: 141 of 270\n",
      "\n",
      " Retrying in 1 seconds\n",
      "\n",
      "Output 17.76506702726694\n",
      "\n",
      "\n",
      "Evaluating input: 142 of 270\n",
      "\n",
      " Retrying in 1 seconds\n",
      "\n",
      "Output 52.04239206662284\n",
      "\n",
      "\n",
      "Evaluating input: 143 of 270\n",
      "\n",
      " Retrying in 1 seconds\n",
      "\n",
      "Output 29.90989578416208\n",
      "\n",
      "\n",
      "Evaluating input: 144 of 270\n",
      "\n",
      " Retrying in 1 seconds\n",
      "\n",
      "Output 34.190708884688085\n",
      "\n",
      "\n",
      "Evaluating input: 145 of 270\n",
      "\n",
      " Retrying in 1 seconds\n",
      "\n",
      "Output 75.1893008492181\n",
      "\n",
      "\n",
      "Evaluating input: 146 of 270\n",
      "\n",
      " Retrying in 1 seconds\n",
      "\n",
      "Output 89.92330048076931\n",
      "\n",
      "\n",
      "Evaluating input: 147 of 270\n",
      "\n",
      " Retrying in 1 seconds\n",
      "\n",
      "Output 11.04796738770384\n",
      "\n",
      "\n",
      "Evaluating input: 148 of 270\n",
      "\n",
      " Retrying in 1 seconds\n",
      "\n",
      "Output 37.74937964872804\n",
      "\n",
      "\n",
      "Evaluating input: 149 of 270\n",
      "\n",
      " Retrying in 1 seconds\n",
      "\n",
      "Output 22.119171041525316\n",
      "\n",
      "\n",
      "Evaluating input: 150 of 270\n",
      "\n",
      " Retrying in 1 seconds\n",
      "\n",
      "Output 42.741577521086526\n",
      "\n",
      "\n",
      "Evaluating input: 151 of 270\n",
      "\n",
      " Retrying in 1 seconds\n",
      "\n",
      "Output 39.12663621762174\n",
      "\n",
      "\n",
      "Evaluating input: 152 of 270\n",
      "\n",
      " Retrying in 1 seconds\n",
      "\n",
      "Output 75.9092361894658\n",
      "\n",
      "\n",
      "Evaluating input: 153 of 270\n",
      "\n",
      " Retrying in 1 seconds\n",
      "\n",
      "Output 70.23797472357998\n",
      "\n",
      "\n",
      "Evaluating input: 154 of 270\n",
      "\n",
      " Retrying in 1 seconds\n",
      "\n",
      "Output 10.311090853355035\n",
      "\n",
      "\n",
      "Evaluating input: 155 of 270\n",
      "\n",
      " Retrying in 1 seconds\n",
      "\n",
      "Output 66.57144973012139\n",
      "\n",
      "\n",
      "Evaluating input: 156 of 270\n",
      "\n",
      " Retrying in 1 seconds\n",
      "\n",
      "Output 47.85935653073286\n",
      "\n",
      "\n",
      "Evaluating input: 157 of 270\n",
      "\n",
      " Retrying in 1 seconds\n",
      "\n",
      "Output 22.862447825970346\n",
      "\n",
      "\n",
      "Evaluating input: 158 of 270\n",
      "\n",
      " Retrying in 1 seconds\n",
      "\n",
      "Output 92.35849020877589\n",
      "\n",
      "\n",
      "Evaluating input: 159 of 270\n",
      "\n",
      " Retrying in 1 seconds\n",
      "\n",
      "Output 136.00042314049588\n",
      "\n",
      "\n",
      "Evaluating input: 160 of 270\n",
      "\n",
      " Retrying in 1 seconds\n",
      "\n",
      "Output 54.071751920752966\n",
      "\n",
      "\n",
      "Evaluating input: 161 of 270\n",
      "\n",
      " Retrying in 1 seconds\n",
      "\n",
      "Output 37.8426568973456\n",
      "\n",
      "\n",
      "Evaluating input: 162 of 270\n",
      "\n",
      " Retrying in 1 seconds\n",
      "\n",
      "Output 43.39652246136164\n",
      "\n",
      "\n",
      "Evaluating input: 163 of 270\n",
      "\n",
      " Retrying in 1 seconds\n",
      "\n",
      "Output 86.27655190739755\n",
      "\n",
      "\n",
      "Evaluating input: 164 of 270\n",
      "\n",
      " Retrying in 1 seconds\n",
      "\n",
      "Output 28.55318630834799\n",
      "\n",
      "\n",
      "Evaluating input: 165 of 270\n",
      "\n",
      " Retrying in 1 seconds\n",
      "\n",
      "Output 136.07506383392072\n",
      "\n",
      "\n",
      "Evaluating input: 166 of 270\n",
      "\n",
      " Retrying in 1 seconds\n",
      "\n",
      "Output 51.27130217594026\n",
      "\n",
      "\n",
      "Evaluating input: 167 of 270\n",
      "\n",
      " Retrying in 1 seconds\n",
      "\n",
      "Output 50.07173324017243\n",
      "\n",
      "\n",
      "Evaluating input: 168 of 270\n",
      "\n",
      " Retrying in 1 seconds\n",
      "\n",
      "Output 72.18334192014818\n",
      "\n",
      "\n",
      "Evaluating input: 169 of 270\n",
      "\n",
      " Retrying in 1 seconds\n",
      "\n",
      "Output 86.23756679529714\n",
      "\n",
      "\n",
      "Evaluating input: 170 of 270\n",
      "\n",
      " Retrying in 1 seconds\n",
      "\n",
      "Output 112.30190199070437\n",
      "\n",
      "\n",
      "Evaluating input: 171 of 270\n",
      "\n",
      " Retrying in 1 seconds\n",
      "\n",
      "Output 90.97229440371635\n",
      "\n",
      "\n",
      "Evaluating input: 172 of 270\n",
      "\n",
      " Retrying in 1 seconds\n",
      "\n",
      "Output 37.02343150632478\n",
      "\n",
      "\n",
      "Evaluating input: 173 of 270\n",
      "\n",
      " Retrying in 1 seconds\n",
      "\n",
      "Output 31.554121560502093\n",
      "\n",
      "\n",
      "Evaluating input: 174 of 270\n",
      "\n",
      " Retrying in 1 seconds\n",
      "\n",
      "Output 70.71516097642481\n",
      "\n",
      "\n",
      "Evaluating input: 175 of 270\n",
      "\n",
      " Retrying in 1 seconds\n",
      "\n",
      "Output 42.55735053170956\n",
      "\n",
      "\n",
      "Evaluating input: 176 of 270\n",
      "\n",
      " Retrying in 1 seconds\n",
      "\n",
      "Output 247.53210550506796\n",
      "\n",
      "\n",
      "Evaluating input: 177 of 270\n",
      "\n",
      " Retrying in 1 seconds\n",
      "\n",
      "Output 52.240686442361735\n",
      "\n",
      "\n",
      "Evaluating input: 178 of 270\n",
      "\n",
      " Retrying in 1 seconds\n",
      "\n",
      "Output 90.04364013497168\n",
      "\n",
      "\n",
      "Evaluating input: 179 of 270\n",
      "\n",
      " Retrying in 1 seconds\n",
      "\n",
      "Output 306.96626297577853\n",
      "\n",
      "\n",
      "Evaluating input: 180 of 270\n",
      "\n",
      " Retrying in 1 seconds\n",
      "\n",
      "Output 97.34574921449692\n",
      "\n",
      "\n",
      "Evaluating input: 181 of 270\n",
      "\n",
      " Retrying in 1 seconds\n",
      "\n",
      "Output 16.97607481035739\n",
      "\n",
      "\n",
      "Evaluating input: 182 of 270\n",
      "\n",
      " Retrying in 1 seconds\n",
      "\n",
      "Output 27.22001656802962\n",
      "\n",
      "\n",
      "Evaluating input: 183 of 270\n",
      "\n",
      " Retrying in 1 seconds\n",
      "\n",
      "Output 159.2575775034294\n",
      "\n",
      "\n",
      "Evaluating input: 184 of 270\n",
      "\n",
      " Retrying in 1 seconds\n",
      "\n",
      "Output 123.31069846291837\n",
      "\n",
      "\n",
      "Evaluating input: 185 of 270\n",
      "\n",
      " Retrying in 1 seconds\n",
      "\n",
      "Output 187.3804049640757\n",
      "\n",
      "\n",
      "Evaluating input: 186 of 270\n",
      "\n",
      " Retrying in 1 seconds\n",
      "\n",
      "Output 70.22878911564624\n",
      "\n",
      "\n",
      "Evaluating input: 187 of 270\n",
      "\n",
      " Retrying in 1 seconds\n",
      "\n",
      "Output 48.10083932016305\n",
      "\n",
      "\n",
      "Evaluating input: 188 of 270\n",
      "\n",
      " Retrying in 1 seconds\n",
      "\n",
      "Output 82.36447916666668\n",
      "\n",
      "\n",
      "Evaluating input: 189 of 270\n",
      "\n",
      " Retrying in 1 seconds\n",
      "\n",
      "Output 94.52323537306881\n",
      "\n",
      "\n",
      "Evaluating input: 190 of 270\n",
      "\n",
      " Retrying in 1 seconds\n",
      "\n",
      "Output 100.97840706302242\n",
      "\n",
      "\n",
      "Evaluating input: 191 of 270\n",
      "\n",
      " Retrying in 1 seconds\n",
      "\n",
      "Output 52.17498102410562\n",
      "\n",
      "\n",
      "Evaluating input: 192 of 270\n",
      "\n",
      " Retrying in 1 seconds\n",
      "\n",
      "Output 87.18864518014668\n",
      "\n",
      "\n",
      "Evaluating input: 193 of 270\n",
      "\n",
      " Retrying in 1 seconds\n",
      "\n",
      "Output 110.8693215195399\n",
      "\n",
      "\n",
      "Evaluating input: 194 of 270\n",
      "\n",
      " Retrying in 1 seconds\n",
      "\n",
      "Output 220.27014399999993\n",
      "\n",
      "\n",
      "Evaluating input: 195 of 270\n",
      "\n",
      " Retrying in 1 seconds\n",
      "\n",
      "Output 264.3251128472222\n",
      "\n",
      "\n",
      "Evaluating input: 196 of 270\n",
      "\n",
      " Retrying in 1 seconds\n",
      "\n",
      "Output 19.125721650546783\n",
      "\n",
      "\n",
      "Evaluating input: 197 of 270\n",
      "\n",
      " Retrying in 1 seconds\n"
     ]
    },
    {
     "name": "stdout",
     "output_type": "stream",
     "text": [
      "\n",
      "Output 15.773382453007859\n",
      "\n",
      "\n",
      "Evaluating input: 198 of 270\n",
      "\n",
      " Retrying in 1 seconds\n",
      "\n",
      "Output 28.127017978928194\n",
      "\n",
      "\n",
      "Evaluating input: 199 of 270\n",
      "\n",
      " Retrying in 1 seconds\n",
      "\n",
      "Output 40.504534293552815\n",
      "\n",
      "\n",
      "Evaluating input: 200 of 270\n",
      "\n",
      " Retrying in 1 seconds\n",
      "\n",
      "Output 78.34497676248316\n",
      "\n",
      "\n",
      "Evaluating input: 201 of 270\n",
      "\n",
      " Retrying in 1 seconds\n",
      "\n",
      "Output 142.066853111615\n",
      "\n",
      "\n",
      "Evaluating input: 202 of 270\n",
      "\n",
      " Retrying in 1 seconds\n",
      "\n",
      "Output 163.72343750000002\n",
      "\n",
      "\n",
      "Evaluating input: 203 of 270\n",
      "\n",
      " Retrying in 1 seconds\n",
      "\n",
      "Output 58.623671348035344\n",
      "\n",
      "\n",
      "Evaluating input: 204 of 270\n",
      "\n",
      " Retrying in 1 seconds\n",
      "\n",
      "Output 119.90218311427938\n",
      "\n",
      "\n",
      "Evaluating input: 205 of 270\n",
      "\n",
      " Retrying in 1 seconds\n",
      "\n",
      "Output 26.09636080147253\n",
      "\n",
      "\n",
      "Evaluating input: 206 of 270\n",
      "\n",
      " Retrying in 1 seconds\n",
      "\n",
      "Output 35.56760484301561\n",
      "\n",
      "\n",
      "Evaluating input: 207 of 270\n",
      "\n",
      " Retrying in 1 seconds\n",
      "\n",
      "Output 63.22352032136104\n",
      "\n",
      "\n",
      "Evaluating input: 208 of 270\n",
      "\n",
      " Retrying in 1 seconds\n",
      "\n",
      "Output 146.82328656929357\n",
      "\n",
      "\n",
      "Evaluating input: 209 of 270\n",
      "\n",
      " Retrying in 1 seconds\n",
      "\n",
      "Output 96.83490981555215\n",
      "\n",
      "\n",
      "Evaluating input: 210 of 270\n",
      "\n",
      " Retrying in 1 seconds\n",
      "\n",
      "Output 64.45401104466875\n",
      "\n",
      "\n",
      "Evaluating input: 211 of 270\n",
      "\n",
      " Retrying in 1 seconds\n",
      "\n",
      "Output 21.011948148427265\n",
      "\n",
      "\n",
      "Evaluating input: 212 of 270\n",
      "\n",
      " Retrying in 1 seconds\n",
      "\n",
      "Output 72.37604667296746\n",
      "\n",
      "\n",
      "Evaluating input: 213 of 270\n",
      "\n",
      " Retrying in 1 seconds\n",
      "\n",
      "Output 45.176485788926534\n",
      "\n",
      "\n",
      "Evaluating input: 214 of 270\n",
      "\n",
      " Retrying in 1 seconds\n",
      "\n",
      "Output 114.44805583675219\n",
      "\n",
      "\n",
      "Evaluating input: 215 of 270\n",
      "\n",
      " Retrying in 1 seconds\n",
      "\n",
      "Output 57.75333623624642\n",
      "\n",
      "\n",
      "Evaluating input: 216 of 270\n",
      "\n",
      " Retrying in 1 seconds\n",
      "\n",
      "Output 68.35427555555552\n",
      "\n",
      "\n",
      "Evaluating input: 217 of 270\n",
      "\n",
      " Retrying in 1 seconds\n",
      "\n",
      "Output 99.62124497327086\n",
      "\n",
      "\n",
      "Evaluating input: 218 of 270\n",
      "\n",
      " Retrying in 1 seconds\n",
      "\n",
      "Output 105.82855993051965\n",
      "\n",
      "\n",
      "Evaluating input: 219 of 270\n",
      "\n",
      " Retrying in 1 seconds\n",
      "\n",
      "Output 14.649911189590007\n",
      "\n",
      "\n",
      "Evaluating input: 220 of 270\n",
      "\n",
      " Retrying in 1 seconds\n",
      "\n",
      "Output 60.80138207076108\n",
      "\n",
      "\n",
      "Evaluating input: 221 of 270\n",
      "\n",
      " Retrying in 1 seconds\n",
      "\n",
      "Output 101.42968039649428\n",
      "\n",
      "\n",
      "Evaluating input: 222 of 270\n",
      "\n",
      " Retrying in 1 seconds\n",
      "\n",
      "Output 64.32505416981608\n",
      "\n",
      "\n",
      "Evaluating input: 223 of 270\n",
      "\n",
      " Retrying in 1 seconds\n",
      "\n",
      "Output 28.9565048861882\n",
      "\n",
      "\n",
      "Evaluating input: 224 of 270\n",
      "\n",
      " Retrying in 1 seconds\n",
      "\n",
      "Output 21.88012144139382\n",
      "\n",
      "\n",
      "Evaluating input: 225 of 270\n",
      "\n",
      " Retrying in 1 seconds\n",
      "\n",
      "Output 147.4573028571428\n",
      "\n",
      "\n",
      "Evaluating input: 226 of 270\n",
      "\n",
      " Retrying in 1 seconds\n",
      "\n",
      "Output 9.266142469790424\n",
      "\n",
      "\n",
      "Evaluating input: 227 of 270\n",
      "\n",
      " Retrying in 1 seconds\n",
      "\n",
      "Output 183.9040868636526\n",
      "\n",
      "\n",
      "Evaluating input: 228 of 270\n",
      "\n",
      " Retrying in 1 seconds\n",
      "\n",
      "Output 50.77351685050852\n",
      "\n",
      "\n",
      "Evaluating input: 229 of 270\n",
      "\n",
      " Retrying in 1 seconds\n",
      "\n",
      "Output 71.2713319458897\n",
      "\n",
      "\n",
      "Evaluating input: 230 of 270\n",
      "\n",
      " Retrying in 1 seconds\n",
      "\n",
      "Output 49.046151322841624\n",
      "\n",
      "\n",
      "Evaluating input: 231 of 270\n",
      "\n",
      " Retrying in 1 seconds\n",
      "\n",
      "Output 42.85542934624928\n",
      "\n",
      "\n",
      "Evaluating input: 232 of 270\n",
      "\n",
      " Retrying in 1 seconds\n",
      "\n",
      "Output 10.017931871611236\n",
      "\n",
      "\n",
      "Evaluating input: 233 of 270\n",
      "\n",
      " Retrying in 1 seconds\n",
      "\n",
      "Output 16.737026840582153\n",
      "\n",
      "\n",
      "Evaluating input: 234 of 270\n",
      "\n",
      " Retrying in 1 seconds\n",
      "\n",
      "Output 61.49211311568741\n",
      "\n",
      "\n",
      "Evaluating input: 235 of 270\n",
      "\n",
      " Retrying in 1 seconds\n",
      "\n",
      "Output 80.7966715405691\n",
      "\n",
      "\n",
      "Evaluating input: 236 of 270\n",
      "\n",
      " Retrying in 1 seconds\n",
      "\n",
      "Output 136.32678393485503\n",
      "\n",
      "\n",
      "Evaluating input: 237 of 270\n",
      "\n",
      " Retrying in 1 seconds\n",
      "\n",
      "Output 87.62022373236812\n",
      "\n",
      "\n",
      "Evaluating input: 238 of 270\n",
      "\n",
      " Retrying in 1 seconds\n",
      "\n",
      "Output 61.39998053500575\n",
      "\n",
      "\n",
      "Evaluating input: 239 of 270\n",
      "\n",
      " Retrying in 1 seconds\n",
      "\n",
      "Output 35.41467492214737\n",
      "\n",
      "\n",
      "Evaluating input: 240 of 270\n",
      "\n",
      " Retrying in 1 seconds\n",
      "\n",
      "Output 35.956881574112366\n",
      "\n",
      "\n",
      "Evaluating input: 241 of 270\n",
      "\n",
      " Retrying in 1 seconds\n",
      "\n",
      "Output 145.1918462100933\n",
      "\n",
      "\n",
      "Evaluating input: 242 of 270\n",
      "\n",
      " Retrying in 1 seconds\n",
      "\n",
      "Output 210.73473337250977\n",
      "\n",
      "\n",
      "Evaluating input: 243 of 270\n",
      "\n",
      " Retrying in 1 seconds\n",
      "\n",
      "Output 24.186723185678165\n",
      "\n",
      "\n",
      "Evaluating input: 244 of 270\n",
      "\n",
      " Retrying in 1 seconds\n",
      "\n",
      "Output 228.10195967233776\n",
      "\n",
      "\n",
      "Evaluating input: 245 of 270\n",
      "\n",
      " Retrying in 1 seconds\n",
      "\n",
      "Output 34.30179894355441\n",
      "\n",
      "\n",
      "Evaluating input: 246 of 270\n",
      "\n",
      " Retrying in 1 seconds\n",
      "\n",
      "Output 104.90673631766806\n",
      "\n",
      "\n",
      "Evaluating input: 247 of 270\n",
      "\n",
      " Retrying in 1 seconds\n",
      "\n",
      "Output 19.83105272076716\n",
      "\n",
      "\n",
      "Evaluating input: 248 of 270\n",
      "\n",
      " Retrying in 1 seconds\n",
      "\n",
      "Output 103.66036668271218\n",
      "\n",
      "\n",
      "Evaluating input: 249 of 270\n",
      "\n",
      " Retrying in 1 seconds\n",
      "\n",
      "Output 84.34691739144736\n",
      "\n",
      "\n",
      "Evaluating input: 250 of 270\n",
      "\n",
      " Retrying in 1 seconds\n",
      "\n",
      "Output 77.73168879106285\n",
      "\n",
      "\n",
      "Evaluating input: 251 of 270\n",
      "\n",
      " Retrying in 1 seconds\n",
      "\n",
      "Output 80.3898868010968\n",
      "\n",
      "\n",
      "Evaluating input: 252 of 270\n",
      "\n",
      " Retrying in 1 seconds\n",
      "\n",
      "Output 33.71572088992061\n",
      "\n",
      "\n",
      "Evaluating input: 253 of 270\n",
      "\n",
      " Retrying in 1 seconds\n",
      "\n",
      "Output 70.63668103038404\n",
      "\n",
      "\n",
      "Evaluating input: 254 of 270\n",
      "\n",
      " Retrying in 1 seconds\n",
      "\n",
      "Output 65.17503791296058\n",
      "\n",
      "\n",
      "Evaluating input: 255 of 270\n",
      "\n",
      " Retrying in 1 seconds\n",
      "\n",
      "Output 17.524745548390094\n",
      "\n",
      "\n",
      "Evaluating input: 256 of 270\n",
      "\n",
      " Retrying in 1 seconds\n",
      "\n",
      "Output 78.35403933109079\n",
      "\n",
      "\n",
      "Evaluating input: 257 of 270\n",
      "\n",
      " Retrying in 1 seconds\n",
      "\n",
      "Output 55.33264045429854\n",
      "\n",
      "\n",
      "Evaluating input: 258 of 270\n",
      "\n",
      " Retrying in 1 seconds\n",
      "\n",
      "Output 123.2947241087244\n",
      "\n",
      "\n",
      "Evaluating input: 259 of 270\n",
      "\n",
      " Retrying in 1 seconds\n",
      "\n",
      "Output 37.30215184866194\n",
      "\n",
      "\n",
      "Evaluating input: 260 of 270\n",
      "\n",
      " Retrying in 1 seconds\n",
      "\n",
      "Output 58.820453404347916\n",
      "\n",
      "\n",
      "Evaluating input: 261 of 270\n",
      "\n",
      " Retrying in 1 seconds\n",
      "\n",
      "Output 18.725473487782658\n",
      "\n",
      "\n",
      "Evaluating input: 262 of 270\n",
      "\n",
      " Retrying in 1 seconds\n",
      "\n",
      "Output 18.330421092975428\n",
      "\n",
      "\n",
      "Evaluating input: 263 of 270\n",
      "\n",
      " Retrying in 1 seconds\n",
      "\n",
      "Output 92.55529876443853\n",
      "\n",
      "\n",
      "Evaluating input: 264 of 270\n",
      "\n",
      " Retrying in 1 seconds\n",
      "\n",
      "Output 28.037764461460295\n",
      "\n",
      "\n",
      "Evaluating input: 265 of 270\n",
      "\n",
      " Retrying in 1 seconds\n",
      "\n",
      "Output 34.93196070004474\n",
      "\n",
      "\n",
      "Evaluating input: 266 of 270\n",
      "\n",
      " Retrying in 1 seconds\n",
      "\n",
      "Output 88.48984845196759\n",
      "\n",
      "\n",
      "Evaluating input: 267 of 270\n",
      "\n",
      " Retrying in 1 seconds\n",
      "\n",
      "Output 46.28334327828667\n",
      "\n",
      "\n",
      "Evaluating input: 268 of 270\n",
      "\n",
      " Retrying in 1 seconds\n",
      "\n",
      "Output 133.40152925548483\n",
      "\n",
      "\n",
      "Evaluating input: 269 of 270\n",
      "\n",
      " Retrying in 1 seconds\n",
      "\n",
      "Output 117.29523504273504\n",
      "\n",
      "\n",
      "Evaluating input: 270 of 270\n",
      "\n",
      " Retrying in 1 seconds\n",
      "\n",
      "Output 64.68811494792644\n",
      "\n"
     ]
    }
   ],
   "source": [
    "init_X, init_Y = pickle.load(open('bayesian_optimization/init_points/270_init_points_emissions.pkl', 'rb'))\n",
    "\n",
    "'''\n",
    "design = RandomDesign(parameter_space)\n",
    "num_init_points = 270\n",
    "init_X = design.get_samples(num_init_points)\n",
    "init_Y = user_function_emissions(init_X)\n",
    "init_points = init_X, init_Y\n",
    "with open(f'bayesian_optimization/init_points/{num_init_points}_init_points_emissions.pkl', \"wb\") as f:\n",
    "     pickle.dump(init_points, f)\n",
    "'''"
   ]
  },
  {
   "cell_type": "markdown",
   "metadata": {
    "pycharm": {
     "name": "#%% md\n"
    }
   },
   "source": [
    "To then fit a GP to these points"
   ]
  },
  {
   "cell_type": "code",
   "execution_count": 7,
   "metadata": {
    "pycharm": {
     "name": "#%%\n"
    }
   },
   "outputs": [
    {
     "name": "stdout",
     "output_type": "stream",
     "text": [
      "Optimization restart 1/5, f = 1297.6948600888115\n",
      "Optimization restart 2/5, f = 1201.127032490439\n"
     ]
    },
    {
     "name": "stderr",
     "output_type": "stream",
     "text": [
      " /Users/Matteo/opt/anaconda3/envs/ml_and_physical/lib/python3.8/site-packages/GPy/kern/src/stationary.py:168: RuntimeWarning:overflow encountered in true_divide\n",
      " /Users/Matteo/opt/anaconda3/envs/ml_and_physical/lib/python3.8/site-packages/GPy/kern/src/rbf.py:76: RuntimeWarning:invalid value encountered in multiply\n"
     ]
    },
    {
     "name": "stdout",
     "output_type": "stream",
     "text": [
      "Optimization restart 3/5, f = 1202.2664897844352\n",
      "Optimization restart 4/5, f = 1201.127032492374\n",
      "Optimization restart 5/5, f = 1201.1270324898426\n"
     ]
    }
   ],
   "source": [
    "emulator = GPy.models.GPRegression(init_X, init_Y, noise_var=1e-10)\n",
    "emukit_model_random_init = GPyModelWrapper(emulator, n_restarts=5)\n",
    "emukit_model_random_init.optimize()"
   ]
  },
  {
   "cell_type": "markdown",
   "metadata": {
    "pycharm": {
     "name": "#%% md\n"
    }
   },
   "source": [
    "### Experimentally designed emulator with model variance"
   ]
  },
  {
   "cell_type": "markdown",
   "metadata": {},
   "source": [
    "We also load the emulator obtained during experimental design:"
   ]
  },
  {
   "cell_type": "code",
   "execution_count": 8,
   "metadata": {
    "pycharm": {
     "name": "#%%\n"
    }
   },
   "outputs": [],
   "source": [
    "emukit_model_variance = pickle.load(open('experimental_design/models/model_variance_20_init_points_250_loops_co2.pkl', 'rb'))"
   ]
  },
  {
   "cell_type": "markdown",
   "metadata": {
    "pycharm": {
     "name": "#%% md\n"
    }
   },
   "source": [
    "### Experimentally designed emulator with integrated variance reduction"
   ]
  },
  {
   "cell_type": "markdown",
   "metadata": {},
   "source": [
    "We also load the emulator obtained during experimental design:"
   ]
  },
  {
   "cell_type": "code",
   "execution_count": 9,
   "metadata": {
    "pycharm": {
     "name": "#%%\n"
    }
   },
   "outputs": [],
   "source": [
    "emukit_model_integrated_variance = pickle.load(open('experimental_design/models/integrated_variance_reduction_20_init_points_250_loops_co2.pkl', 'rb'))"
   ]
  },
  {
   "cell_type": "markdown",
   "metadata": {
    "pycharm": {
     "name": "#%% md\n"
    }
   },
   "source": [
    "## Bayesian optimisation"
   ]
  },
  {
   "cell_type": "markdown",
   "metadata": {},
   "source": [
    "We now run bayesian optimisation on the emulators"
   ]
  },
  {
   "cell_type": "code",
   "execution_count": 10,
   "metadata": {
    "pycharm": {
     "name": "#%%\n"
    }
   },
   "outputs": [],
   "source": [
    "n_iter_bo = 40"
   ]
  },
  {
   "cell_type": "markdown",
   "metadata": {
    "pycharm": {
     "name": "#%% md\n"
    }
   },
   "source": [
    "### Acquisition functions"
   ]
  },
  {
   "cell_type": "code",
   "execution_count": 11,
   "metadata": {
    "pycharm": {
     "name": "#%%\n"
    }
   },
   "outputs": [],
   "source": [
    "acquisition_random_init = ExpectedImprovement(emukit_model_random_init)"
   ]
  },
  {
   "cell_type": "code",
   "execution_count": 12,
   "metadata": {},
   "outputs": [],
   "source": [
    "acquisition_model_variance = ExpectedImprovement(emukit_model_variance)"
   ]
  },
  {
   "cell_type": "code",
   "execution_count": 13,
   "metadata": {},
   "outputs": [],
   "source": [
    "acquisition_integrated_variance = ExpectedImprovement(emukit_model_integrated_variance)"
   ]
  },
  {
   "cell_type": "markdown",
   "metadata": {
    "pycharm": {
     "name": "#%% md\n"
    }
   },
   "source": [
    "### Optimisation loop"
   ]
  },
  {
   "cell_type": "code",
   "execution_count": 14,
   "metadata": {
    "pycharm": {
     "name": "#%%\n"
    }
   },
   "outputs": [
    {
     "name": "stdout",
     "output_type": "stream",
     "text": [
      "Optimization restart 1/5, f = 1201.1270324898426\n"
     ]
    },
    {
     "name": "stderr",
     "output_type": "stream",
     "text": [
      " /Users/Matteo/opt/anaconda3/envs/ml_and_physical/lib/python3.8/site-packages/paramz/transformations.py:111: RuntimeWarning:overflow encountered in expm1\n"
     ]
    },
    {
     "name": "stdout",
     "output_type": "stream",
     "text": [
      "Optimization restart 2/5, f = 1201.1270324923057\n",
      "Optimization restart 3/5, f = 1201.1270324894372\n",
      "Optimization restart 4/5, f = 1201.1270324953118\n",
      "Optimization restart 5/5, f = 1201.1270328608696\n",
      "[[12. 25.  5. 70.  3.  5.]]\n",
      "\n",
      "User function emissions called with 1 inputs to simulate\n",
      "\n",
      "Evaluating input: 1 of 1\n",
      "\n",
      " Retrying in 1 seconds\n",
      "\n",
      "Output 8.876725628276361\n",
      "\n",
      "Optimization restart 1/5, f = 1206.0713284704955\n"
     ]
    },
    {
     "name": "stderr",
     "output_type": "stream",
     "text": [
      " /Users/Matteo/opt/anaconda3/envs/ml_and_physical/lib/python3.8/site-packages/paramz/transformations.py:111: RuntimeWarning:overflow encountered in expm1\n",
      " /Users/Matteo/opt/anaconda3/envs/ml_and_physical/lib/python3.8/site-packages/GPy/kern/src/stationary.py:168: RuntimeWarning:overflow encountered in true_divide\n",
      " /Users/Matteo/opt/anaconda3/envs/ml_and_physical/lib/python3.8/site-packages/GPy/kern/src/rbf.py:76: RuntimeWarning:invalid value encountered in multiply\n"
     ]
    },
    {
     "name": "stdout",
     "output_type": "stream",
     "text": [
      "Optimization restart 2/5, f = 1444.982267500398\n",
      "Optimization restart 3/5, f = 1206.0575002271908\n",
      "Optimization restart 4/5, f = 1206.0575003027875\n",
      "Optimization restart 5/5, f = 1206.0575002306584\n",
      "[[12.         25.          5.         44.51789748  1.          1.5       ]]\n",
      "\n",
      "User function emissions called with 1 inputs to simulate\n",
      "\n",
      "Evaluating input: 1 of 1\n",
      "\n",
      " Retrying in 1 seconds\n",
      "\n",
      "Output 13.27183348369983\n",
      "\n",
      "Optimization restart 1/5, f = 1211.4398420933435\n"
     ]
    },
    {
     "name": "stderr",
     "output_type": "stream",
     "text": [
      " /Users/Matteo/opt/anaconda3/envs/ml_and_physical/lib/python3.8/site-packages/paramz/transformations.py:111: RuntimeWarning:overflow encountered in expm1\n"
     ]
    },
    {
     "name": "stdout",
     "output_type": "stream",
     "text": [
      "Optimization restart 2/5, f = 1211.3613414956467\n",
      "Optimization restart 3/5, f = 1211.3613414936242\n"
     ]
    },
    {
     "name": "stderr",
     "output_type": "stream",
     "text": [
      " /Users/Matteo/opt/anaconda3/envs/ml_and_physical/lib/python3.8/site-packages/GPy/kern/src/stationary.py:168: RuntimeWarning:overflow encountered in true_divide\n",
      " /Users/Matteo/opt/anaconda3/envs/ml_and_physical/lib/python3.8/site-packages/GPy/kern/src/rbf.py:76: RuntimeWarning:invalid value encountered in multiply\n"
     ]
    },
    {
     "name": "stdout",
     "output_type": "stream",
     "text": [
      "Optimization restart 4/5, f = 1463.6592085353045\n"
     ]
    },
    {
     "name": "stderr",
     "output_type": "stream",
     "text": [
      " /Users/Matteo/opt/anaconda3/envs/ml_and_physical/lib/python3.8/site-packages/GPy/kern/src/rbf.py:52: RuntimeWarning:overflow encountered in square\n"
     ]
    },
    {
     "name": "stdout",
     "output_type": "stream",
     "text": [
      "Optimization restart 5/5, f = 1211.3613414932868\n",
      "[[ 7.  25.   5.  70.   3.   1.5]]\n",
      "\n",
      "User function emissions called with 1 inputs to simulate\n",
      "\n",
      "Evaluating input: 1 of 1\n",
      "\n",
      " Retrying in 1 seconds\n",
      "\n",
      "Output 14.494902074248596\n",
      "\n",
      "Optimization restart 1/5, f = 1215.8121302261306\n"
     ]
    },
    {
     "name": "stderr",
     "output_type": "stream",
     "text": [
      " /Users/Matteo/opt/anaconda3/envs/ml_and_physical/lib/python3.8/site-packages/paramz/transformations.py:111: RuntimeWarning:overflow encountered in expm1\n"
     ]
    },
    {
     "name": "stdout",
     "output_type": "stream",
     "text": [
      "Optimization restart 2/5, f = 1215.8115750071809\n",
      "Optimization restart 3/5, f = 1215.8115785246557\n",
      "Optimization restart 4/5, f = 1609.2823466552518\n",
      "Optimization restart 5/5, f = 1215.8115750178872\n",
      "[[13.          8.         27.         54.79322106  1.          1.5       ]]\n",
      "\n",
      "User function emissions called with 1 inputs to simulate\n",
      "\n",
      "Evaluating input: 1 of 1\n",
      "\n",
      " Retrying in 1 seconds\n",
      "\n",
      "Output 19.59188283790451\n",
      "\n"
     ]
    },
    {
     "name": "stderr",
     "output_type": "stream",
     "text": [
      " /Users/Matteo/opt/anaconda3/envs/ml_and_physical/lib/python3.8/site-packages/paramz/transformations.py:111: RuntimeWarning:overflow encountered in expm1\n"
     ]
    },
    {
     "name": "stdout",
     "output_type": "stream",
     "text": [
      "Optimization restart 1/5, f = 1222.6046506015846\n",
      "Optimization restart 2/5, f = 1222.4562368144416\n",
      "Optimization restart 3/5, f = 1222.456236816483\n",
      "Optimization restart 4/5, f = 1222.4562372591977\n",
      "Optimization restart 5/5, f = 1222.456236815869\n",
      "[[11.          8.          5.         39.16935341  1.          5.        ]]\n",
      "\n",
      "User function emissions called with 1 inputs to simulate\n",
      "\n",
      "Evaluating input: 1 of 1\n",
      "\n",
      " Retrying in 1 seconds\n",
      "\n",
      "Output 14.644159562536315\n",
      "\n",
      "Optimization restart 1/5, f = 1227.0351192331486\n"
     ]
    },
    {
     "name": "stderr",
     "output_type": "stream",
     "text": [
      " /Users/Matteo/opt/anaconda3/envs/ml_and_physical/lib/python3.8/site-packages/paramz/transformations.py:111: RuntimeWarning:overflow encountered in expm1\n"
     ]
    },
    {
     "name": "stdout",
     "output_type": "stream",
     "text": [
      "Optimization restart 2/5, f = 1227.026111157883\n",
      "Optimization restart 3/5, f = 1227.0261112662802\n",
      "Optimization restart 4/5, f = 1227.0261111425493\n"
     ]
    },
    {
     "name": "stderr",
     "output_type": "stream",
     "text": [
      " /Users/Matteo/opt/anaconda3/envs/ml_and_physical/lib/python3.8/site-packages/GPy/kern/src/stationary.py:168: RuntimeWarning:overflow encountered in true_divide\n",
      " /Users/Matteo/opt/anaconda3/envs/ml_and_physical/lib/python3.8/site-packages/GPy/kern/src/rbf.py:76: RuntimeWarning:invalid value encountered in multiply\n"
     ]
    },
    {
     "name": "stdout",
     "output_type": "stream",
     "text": [
      "Optimization restart 5/5, f = 1441.9278083831223\n",
      "[[20.         25.          5.         59.28767525  3.          5.        ]]\n",
      "\n",
      "User function emissions called with 1 inputs to simulate\n",
      "\n",
      "Evaluating input: 1 of 1\n",
      "\n",
      " Retrying in 1 seconds\n",
      "\n",
      "Output 7.44264449272756\n",
      "\n",
      "Optimization restart 1/5, f = 1231.1891742957328\n"
     ]
    },
    {
     "name": "stderr",
     "output_type": "stream",
     "text": [
      " /Users/Matteo/opt/anaconda3/envs/ml_and_physical/lib/python3.8/site-packages/paramz/transformations.py:111: RuntimeWarning:overflow encountered in expm1\n"
     ]
    },
    {
     "name": "stdout",
     "output_type": "stream",
     "text": [
      "Optimization restart 2/5, f = 1625.5013450683514\n",
      "Optimization restart 3/5, f = 1231.1891682635162\n",
      "Optimization restart 4/5, f = 1231.189168267695\n",
      "Optimization restart 5/5, f = 1231.1891682632854\n",
      "[[20.         14.31106179  5.         60.84915267  3.          5.        ]]\n",
      "\n",
      "User function emissions called with 1 inputs to simulate\n",
      "\n",
      "Evaluating input: 1 of 1\n",
      "\n",
      " Retrying in 1 seconds\n",
      "\n",
      "Output 7.094976924222027\n",
      "\n",
      "Optimization restart 1/5, f = 1235.1906326368733\n"
     ]
    },
    {
     "name": "stderr",
     "output_type": "stream",
     "text": [
      " /Users/Matteo/opt/anaconda3/envs/ml_and_physical/lib/python3.8/site-packages/paramz/transformations.py:111: RuntimeWarning:overflow encountered in expm1\n"
     ]
    },
    {
     "name": "stdout",
     "output_type": "stream",
     "text": [
      "Optimization restart 2/5, f = 1235.1903888829393\n",
      "Optimization restart 3/5, f = 1235.190388836226\n",
      "Optimization restart 4/5, f = 1235.1903888356042\n",
      "Optimization restart 5/5, f = 1235.1903888390661\n",
      "[[11.         25.          5.         61.92517542  3.          1.5       ]]\n",
      "\n",
      "User function emissions called with 1 inputs to simulate\n",
      "\n",
      "Evaluating input: 1 of 1\n",
      "\n",
      " Retrying in 1 seconds\n",
      "\n",
      "Output 9.840621531348635\n",
      "\n",
      "Optimization restart 1/5, f = 1239.209175055661\n"
     ]
    },
    {
     "name": "stderr",
     "output_type": "stream",
     "text": [
      " /Users/Matteo/opt/anaconda3/envs/ml_and_physical/lib/python3.8/site-packages/paramz/transformations.py:111: RuntimeWarning:overflow encountered in expm1\n"
     ]
    },
    {
     "name": "stdout",
     "output_type": "stream",
     "text": [
      "Optimization restart 2/5, f = 1239.2088221177892\n",
      "Optimization restart 3/5, f = 1239.2088220864227\n",
      "Optimization restart 4/5, f = 1239.2088220852763\n",
      "Optimization restart 5/5, f = 1239.2088220973674\n",
      "[[18.        25.         5.        40.3953179  3.         5.       ]]\n",
      "\n",
      "User function emissions called with 1 inputs to simulate\n",
      "\n",
      "Evaluating input: 1 of 1\n",
      "\n",
      " Retrying in 1 seconds\n",
      "\n",
      "Output 11.115161377366693\n",
      "\n",
      "Optimization restart 1/5, f = 1243.256706316787\n"
     ]
    },
    {
     "name": "stderr",
     "output_type": "stream",
     "text": [
      " /Users/Matteo/opt/anaconda3/envs/ml_and_physical/lib/python3.8/site-packages/paramz/transformations.py:111: RuntimeWarning:overflow encountered in expm1\n"
     ]
    },
    {
     "name": "stdout",
     "output_type": "stream",
     "text": [
      "Optimization restart 2/5, f = 1243.256228463747\n",
      "Optimization restart 3/5, f = 1243.2562284634366\n",
      "Optimization restart 4/5, f = 1243.2562284625817\n",
      "Optimization restart 5/5, f = 1243.2562284621706\n",
      "[[20.         16.55009605  5.         61.49898997  1.          5.        ]]\n",
      "\n",
      "User function emissions called with 1 inputs to simulate\n",
      "\n",
      "Evaluating input: 1 of 1\n",
      "\n",
      " Retrying in 1 seconds\n",
      "\n",
      "Output 6.378279910544435\n",
      "\n",
      "Optimization restart 1/5, f = 1247.1282516768176\n"
     ]
    },
    {
     "name": "stderr",
     "output_type": "stream",
     "text": [
      " /Users/Matteo/opt/anaconda3/envs/ml_and_physical/lib/python3.8/site-packages/paramz/transformations.py:111: RuntimeWarning:overflow encountered in expm1\n"
     ]
    },
    {
     "name": "stdout",
     "output_type": "stream",
     "text": [
      "Optimization restart 2/5, f = 1647.0655947440312\n",
      "Optimization restart 3/5, f = 1247.128183016989\n",
      "Optimization restart 4/5, f = 1247.1281830193261\n",
      "Optimization restart 5/5, f = 1247.1281830062317\n",
      "[[14.         25.          5.         64.07392662  1.          5.        ]]\n",
      "\n",
      "User function emissions called with 1 inputs to simulate\n",
      "\n",
      "Evaluating input: 1 of 1\n",
      "\n",
      " Retrying in 1 seconds\n",
      "\n",
      "Output 8.005009566585317\n",
      "\n",
      "Optimization restart 1/5, f = 1250.9918216891087\n"
     ]
    },
    {
     "name": "stderr",
     "output_type": "stream",
     "text": [
      " /Users/Matteo/opt/anaconda3/envs/ml_and_physical/lib/python3.8/site-packages/paramz/transformations.py:111: RuntimeWarning:overflow encountered in expm1\n"
     ]
    },
    {
     "name": "stdout",
     "output_type": "stream",
     "text": [
      "Optimization restart 2/5, f = 1250.9917599852615\n",
      "Optimization restart 3/5, f = 1250.9917582535397\n",
      "Optimization restart 4/5, f = 1250.9917584221341\n",
      "Optimization restart 5/5, f = 1250.9917582589615\n",
      "[[15.        17.5674747  5.        62.7905177  3.         5.       ]]\n",
      "\n",
      "User function emissions called with 1 inputs to simulate\n",
      "\n",
      "Evaluating input: 1 of 1\n",
      "\n",
      " Retrying in 1 seconds\n",
      "\n",
      "Output 7.997992921861625\n",
      "\n",
      "Optimization restart 1/5, f = 1254.8029998646873\n"
     ]
    },
    {
     "name": "stderr",
     "output_type": "stream",
     "text": [
      " /Users/Matteo/opt/anaconda3/envs/ml_and_physical/lib/python3.8/site-packages/paramz/transformations.py:111: RuntimeWarning:overflow encountered in expm1\n"
     ]
    },
    {
     "name": "stdout",
     "output_type": "stream",
     "text": [
      "Optimization restart 2/5, f = 1254.802761872947\n",
      "Optimization restart 3/5, f = 1254.8027612949863\n",
      "Optimization restart 4/5, f = 1254.8027615945964\n"
     ]
    },
    {
     "name": "stderr",
     "output_type": "stream",
     "text": [
      " /Users/Matteo/opt/anaconda3/envs/ml_and_physical/lib/python3.8/site-packages/GPy/kern/src/stationary.py:168: RuntimeWarning:overflow encountered in true_divide\n",
      " /Users/Matteo/opt/anaconda3/envs/ml_and_physical/lib/python3.8/site-packages/GPy/kern/src/rbf.py:76: RuntimeWarning:invalid value encountered in multiply\n"
     ]
    },
    {
     "name": "stdout",
     "output_type": "stream",
     "text": [
      "Optimization restart 5/5, f = 1256.7862298068185\n",
      "[[15.         18.53272921  5.         62.48416274  3.          5.        ]]\n",
      "\n",
      "User function emissions called with 1 inputs to simulate\n",
      "\n",
      "Evaluating input: 1 of 1\n",
      "\n",
      " Retrying in 1 seconds\n",
      "\n",
      "Output 8.268756967581261\n",
      "\n",
      "Optimization restart 1/5, f = 1258.5553061458654\n"
     ]
    },
    {
     "name": "stderr",
     "output_type": "stream",
     "text": [
      " /Users/Matteo/opt/anaconda3/envs/ml_and_physical/lib/python3.8/site-packages/paramz/transformations.py:111: RuntimeWarning:overflow encountered in expm1\n"
     ]
    },
    {
     "name": "stdout",
     "output_type": "stream",
     "text": [
      "Optimization restart 2/5, f = 1258.5550802891296\n",
      "Optimization restart 3/5, f = 1258.5550802871958\n",
      "Optimization restart 4/5, f = 1258.5550802871012\n",
      "Optimization restart 5/5, f = 1258.5550803719193\n",
      "[[20.          8.          5.         62.99660123  1.          5.        ]]\n",
      "\n",
      "User function emissions called with 1 inputs to simulate\n",
      "\n",
      "Evaluating input: 1 of 1\n",
      "\n",
      " Retrying in 1 seconds\n",
      "\n",
      "Output 6.201480140478191\n",
      "\n"
     ]
    },
    {
     "name": "stderr",
     "output_type": "stream",
     "text": [
      " /Users/Matteo/opt/anaconda3/envs/ml_and_physical/lib/python3.8/site-packages/paramz/transformations.py:111: RuntimeWarning:overflow encountered in expm1\n"
     ]
    },
    {
     "name": "stdout",
     "output_type": "stream",
     "text": [
      "Optimization restart 1/5, f = 1262.4896298461222\n",
      "Optimization restart 2/5, f = 1262.4896297039454\n",
      "Optimization restart 3/5, f = 1262.4896297022883\n",
      "Optimization restart 4/5, f = 1262.4896297018581\n",
      "Optimization restart 5/5, f = 1262.4896297809032\n",
      "[[11.          8.         27.         63.63771091  3.          1.5       ]]\n",
      "\n",
      "User function emissions called with 1 inputs to simulate\n",
      "\n",
      "Evaluating input: 1 of 1\n",
      "\n",
      " Retrying in 1 seconds\n",
      "\n",
      "Output 19.08554390796357\n",
      "\n"
     ]
    },
    {
     "name": "stderr",
     "output_type": "stream",
     "text": [
      " /Users/Matteo/opt/anaconda3/envs/ml_and_physical/lib/python3.8/site-packages/paramz/transformations.py:111: RuntimeWarning:overflow encountered in expm1\n"
     ]
    },
    {
     "name": "stdout",
     "output_type": "stream",
     "text": [
      "Optimization restart 1/5, f = 1267.0750970195638\n",
      "Optimization restart 2/5, f = 1267.0669274682673\n",
      "Optimization restart 3/5, f = 1267.0669274858517\n",
      "Optimization restart 4/5, f = 1267.0669275261632\n",
      "Optimization restart 5/5, f = 1267.06692750029\n",
      "[[14.         25.          5.         62.66313201  1.          5.        ]]\n",
      "\n",
      "User function emissions called with 1 inputs to simulate\n",
      "\n",
      "Evaluating input: 1 of 1\n",
      "\n",
      " Retrying in 1 seconds\n",
      "\n",
      "Output 8.218262194106615\n",
      "\n",
      "Optimization restart 1/5, f = 1270.8277984801532\n"
     ]
    },
    {
     "name": "stderr",
     "output_type": "stream",
     "text": [
      " /Users/Matteo/opt/anaconda3/envs/ml_and_physical/lib/python3.8/site-packages/paramz/transformations.py:111: RuntimeWarning:overflow encountered in expm1\n"
     ]
    },
    {
     "name": "stdout",
     "output_type": "stream",
     "text": [
      "Optimization restart 2/5, f = 1270.8277305024542\n",
      "Optimization restart 3/5, f = 1270.8295138001793\n",
      "Optimization restart 4/5, f = 1679.3731334495917\n"
     ]
    },
    {
     "name": "stderr",
     "output_type": "stream",
     "text": [
      " /Users/Matteo/opt/anaconda3/envs/ml_and_physical/lib/python3.8/site-packages/GPy/kern/src/stationary.py:168: RuntimeWarning:overflow encountered in true_divide\n",
      " /Users/Matteo/opt/anaconda3/envs/ml_and_physical/lib/python3.8/site-packages/GPy/kern/src/rbf.py:76: RuntimeWarning:invalid value encountered in multiply\n"
     ]
    },
    {
     "name": "stdout",
     "output_type": "stream",
     "text": [
      "Optimization restart 5/5, f = 1479.0341417453237\n",
      "[[20.         16.60343671  5.         56.34970293  3.          5.        ]]\n",
      "\n",
      "User function emissions called with 1 inputs to simulate\n",
      "\n",
      "Evaluating input: 1 of 1\n",
      "\n",
      " Retrying in 1 seconds\n",
      "\n",
      "Output 7.9090926531826335\n",
      "\n",
      "Optimization restart 1/5, f = 1274.590776697344\n"
     ]
    },
    {
     "name": "stderr",
     "output_type": "stream",
     "text": [
      " /Users/Matteo/opt/anaconda3/envs/ml_and_physical/lib/python3.8/site-packages/paramz/transformations.py:111: RuntimeWarning:overflow encountered in expm1\n"
     ]
    },
    {
     "name": "stdout",
     "output_type": "stream",
     "text": [
      "Optimization restart 2/5, f = 1274.5904128711322\n",
      "Optimization restart 3/5, f = 1274.5904126716212\n",
      "Optimization restart 4/5, f = 1274.5904126700789\n",
      "Optimization restart 5/5, f = 1274.5904126703317\n",
      "[[10.  8.  5. 70.  3.  5.]]\n",
      "\n",
      "User function emissions called with 1 inputs to simulate\n",
      "\n",
      "Evaluating input: 1 of 1\n",
      "\n",
      " Retrying in 1 seconds\n",
      "\n",
      "Output 11.0431590477371\n",
      "\n",
      "Optimization restart 1/5, f = 1278.6956679741722\n"
     ]
    },
    {
     "name": "stderr",
     "output_type": "stream",
     "text": [
      " /Users/Matteo/opt/anaconda3/envs/ml_and_physical/lib/python3.8/site-packages/paramz/transformations.py:111: RuntimeWarning:overflow encountered in expm1\n"
     ]
    },
    {
     "name": "stdout",
     "output_type": "stream",
     "text": [
      "Optimization restart 2/5, f = 1278.6956487681468\n",
      "Optimization restart 3/5, f = 1278.6956487681196\n",
      "Optimization restart 4/5, f = 1278.6956487709008\n",
      "Optimization restart 5/5, f = 1278.6956487694151\n",
      "[[12.         25.          5.         43.27814302  3.          1.5       ]]\n",
      "\n",
      "User function emissions called with 1 inputs to simulate\n",
      "\n",
      "Evaluating input: 1 of 1\n",
      "\n",
      " Retrying in 1 seconds\n",
      "\n",
      "Output 16.24360047168202\n",
      "\n"
     ]
    },
    {
     "name": "stderr",
     "output_type": "stream",
     "text": [
      " /Users/Matteo/opt/anaconda3/envs/ml_and_physical/lib/python3.8/site-packages/paramz/transformations.py:111: RuntimeWarning:overflow encountered in expm1\n"
     ]
    },
    {
     "name": "stdout",
     "output_type": "stream",
     "text": [
      "Optimization restart 1/5, f = 1282.7683768208879\n",
      "Optimization restart 2/5, f = 1282.75879487561\n",
      "Optimization restart 3/5, f = 1282.7587948769062\n",
      "Optimization restart 4/5, f = 1282.7587949077074\n",
      "Optimization restart 5/5, f = 1282.758794890582\n",
      "[[17.   8.  27.  30.   1.   1.5]]\n",
      "\n",
      "User function emissions called with 1 inputs to simulate\n",
      "\n",
      "Evaluating input: 1 of 1\n",
      "\n",
      " Retrying in 1 seconds\n",
      "\n",
      "Output 27.19553973200424\n",
      "\n",
      "Optimization restart 1/5, f = 1287.4446360703496\n"
     ]
    },
    {
     "name": "stderr",
     "output_type": "stream",
     "text": [
      " /Users/Matteo/opt/anaconda3/envs/ml_and_physical/lib/python3.8/site-packages/paramz/transformations.py:111: RuntimeWarning:overflow encountered in expm1\n"
     ]
    },
    {
     "name": "stdout",
     "output_type": "stream",
     "text": [
      "Optimization restart 2/5, f = 1287.4425481282412\n",
      "Optimization restart 3/5, f = 1287.4425481761627\n",
      "Optimization restart 4/5, f = 1287.4425481274359\n",
      "Optimization restart 5/5, f = 1287.4425482018687\n",
      "[[20.         17.18495692  5.         57.64809268  1.          5.        ]]\n",
      "\n",
      "User function emissions called with 1 inputs to simulate\n",
      "\n",
      "Evaluating input: 1 of 1\n",
      "\n",
      " Retrying in 1 seconds\n",
      "\n",
      "Output 6.8943527500123905\n",
      "\n"
     ]
    },
    {
     "name": "stderr",
     "output_type": "stream",
     "text": [
      " /Users/Matteo/opt/anaconda3/envs/ml_and_physical/lib/python3.8/site-packages/paramz/transformations.py:111: RuntimeWarning:overflow encountered in expm1\n"
     ]
    },
    {
     "name": "stdout",
     "output_type": "stream",
     "text": [
      "Optimization restart 1/5, f = 1291.1789364488607\n",
      "Optimization restart 2/5, f = 1291.1789259026416\n",
      "Optimization restart 3/5, f = 1291.178925905499\n",
      "Optimization restart 4/5, f = 1291.1789259026316\n",
      "Optimization restart 5/5, f = 1706.2962667308848\n",
      "[[14.         16.64657803  5.         38.77240886  1.          5.        ]]\n",
      "\n",
      "User function emissions called with 1 inputs to simulate\n",
      "\n",
      "Evaluating input: 1 of 1\n",
      "\n",
      " Retrying in 1 seconds\n",
      "\n",
      "Output 12.89454299217853\n",
      "\n",
      "Optimization restart 1/5, f = 1295.0990041243376\n"
     ]
    },
    {
     "name": "stderr",
     "output_type": "stream",
     "text": [
      " /Users/Matteo/opt/anaconda3/envs/ml_and_physical/lib/python3.8/site-packages/paramz/transformations.py:111: RuntimeWarning:overflow encountered in expm1\n"
     ]
    },
    {
     "name": "stdout",
     "output_type": "stream",
     "text": [
      "Optimization restart 2/5, f = 1295.0988828755549\n",
      "Optimization restart 3/5, f = 1295.0988828738882\n",
      "Optimization restart 4/5, f = 1295.0988829158784\n"
     ]
    },
    {
     "name": "stderr",
     "output_type": "stream",
     "text": [
      " /Users/Matteo/opt/anaconda3/envs/ml_and_physical/lib/python3.8/site-packages/GPy/kern/src/rbf.py:52: RuntimeWarning:overflow encountered in square\n",
      " /Users/Matteo/opt/anaconda3/envs/ml_and_physical/lib/python3.8/site-packages/GPy/kern/src/stationary.py:168: RuntimeWarning:overflow encountered in true_divide\n",
      " /Users/Matteo/opt/anaconda3/envs/ml_and_physical/lib/python3.8/site-packages/GPy/kern/src/rbf.py:76: RuntimeWarning:invalid value encountered in multiply\n"
     ]
    },
    {
     "name": "stdout",
     "output_type": "stream",
     "text": [
      "Optimization restart 5/5, f = 1494.6662968123944\n",
      "[[20.         14.93580816  5.         59.79799481  1.          5.        ]]\n",
      "\n",
      "User function emissions called with 1 inputs to simulate\n",
      "\n",
      "Evaluating input: 1 of 1\n",
      "\n",
      " Retrying in 1 seconds\n",
      "\n",
      "Output 6.591405544310674\n",
      "\n"
     ]
    },
    {
     "name": "stderr",
     "output_type": "stream",
     "text": [
      " /Users/Matteo/opt/anaconda3/envs/ml_and_physical/lib/python3.8/site-packages/paramz/transformations.py:111: RuntimeWarning:overflow encountered in expm1\n"
     ]
    },
    {
     "name": "stdout",
     "output_type": "stream",
     "text": [
      "Optimization restart 1/5, f = 1298.7690165428835\n",
      "Optimization restart 2/5, f = 1298.7689696307216\n",
      "Optimization restart 3/5, f = 1298.7689695402112\n",
      "Optimization restart 4/5, f = 1298.768969540217\n",
      "Optimization restart 5/5, f = 1298.768969548055\n",
      "[[15.         17.93311549  5.         61.82988254  1.          5.        ]]\n",
      "\n",
      "User function emissions called with 1 inputs to simulate\n",
      "\n",
      "Evaluating input: 1 of 1\n",
      "\n",
      " Retrying in 1 seconds\n",
      "\n",
      "Output 7.466743818669427\n",
      "\n",
      "Optimization restart 1/5, f = 1302.4238804022445\n"
     ]
    },
    {
     "name": "stderr",
     "output_type": "stream",
     "text": [
      " /Users/Matteo/opt/anaconda3/envs/ml_and_physical/lib/python3.8/site-packages/paramz/transformations.py:111: RuntimeWarning:overflow encountered in expm1\n"
     ]
    },
    {
     "name": "stdout",
     "output_type": "stream",
     "text": [
      "Optimization restart 2/5, f = 1302.4238511910128\n",
      "Optimization restart 3/5, f = 1302.4238488332735\n",
      "Optimization restart 4/5, f = 1302.423848833544\n",
      "Optimization restart 5/5, f = 1302.4238494256645\n",
      "[[13.        25.         5.        63.0957128  3.         5.       ]]\n",
      "\n",
      "User function emissions called with 1 inputs to simulate\n",
      "\n",
      "Evaluating input: 1 of 1\n",
      "\n",
      " Retrying in 1 seconds\n",
      "\n",
      "Output 9.286900893567584\n",
      "\n"
     ]
    },
    {
     "name": "stderr",
     "output_type": "stream",
     "text": [
      " /Users/Matteo/opt/anaconda3/envs/ml_and_physical/lib/python3.8/site-packages/paramz/transformations.py:111: RuntimeWarning:overflow encountered in expm1\n"
     ]
    },
    {
     "name": "stdout",
     "output_type": "stream",
     "text": [
      "Optimization restart 1/5, f = 1306.1630042026818\n",
      "Optimization restart 2/5, f = 1306.1628770003272\n",
      "Optimization restart 3/5, f = 1306.1628769788058\n",
      "Optimization restart 4/5, f = 1306.1628769792164\n",
      "Optimization restart 5/5, f = 1306.1628769788106\n",
      "[[10.         25.          5.         42.90575389  1.          1.5       ]]\n",
      "\n",
      "User function emissions called with 1 inputs to simulate\n",
      "\n",
      "Evaluating input: 1 of 1\n",
      "\n",
      " Retrying in 1 seconds\n",
      "\n",
      "Output 17.75940748475096\n",
      "\n"
     ]
    },
    {
     "name": "stderr",
     "output_type": "stream",
     "text": [
      " /Users/Matteo/opt/anaconda3/envs/ml_and_physical/lib/python3.8/site-packages/paramz/transformations.py:111: RuntimeWarning:overflow encountered in expm1\n"
     ]
    },
    {
     "name": "stdout",
     "output_type": "stream",
     "text": [
      "Optimization restart 1/5, f = 1310.134736269659\n",
      "Optimization restart 2/5, f = 1310.1316874707238\n",
      "Optimization restart 3/5, f = 1310.1316874795484\n"
     ]
    },
    {
     "name": "stderr",
     "output_type": "stream",
     "text": [
      " /Users/Matteo/opt/anaconda3/envs/ml_and_physical/lib/python3.8/site-packages/GPy/kern/src/rbf.py:52: RuntimeWarning:overflow encountered in square\n",
      " /Users/Matteo/opt/anaconda3/envs/ml_and_physical/lib/python3.8/site-packages/GPy/kern/src/stationary.py:168: RuntimeWarning:overflow encountered in true_divide\n",
      " /Users/Matteo/opt/anaconda3/envs/ml_and_physical/lib/python3.8/site-packages/GPy/kern/src/rbf.py:76: RuntimeWarning:invalid value encountered in multiply\n"
     ]
    },
    {
     "name": "stdout",
     "output_type": "stream",
     "text": [
      "Optimization restart 4/5, f = 1493.6816097729643\n",
      "Optimization restart 5/5, f = 1310.1316874706908\n",
      "[[20.          8.          5.         61.66805086  1.          5.        ]]\n",
      "\n",
      "User function emissions called with 1 inputs to simulate\n",
      "\n",
      "Evaluating input: 1 of 1\n",
      "\n",
      " Retrying in 1 seconds\n",
      "\n",
      "Output 6.381737021064493\n",
      "\n"
     ]
    },
    {
     "name": "stderr",
     "output_type": "stream",
     "text": [
      " /Users/Matteo/opt/anaconda3/envs/ml_and_physical/lib/python3.8/site-packages/paramz/transformations.py:111: RuntimeWarning:overflow encountered in expm1\n"
     ]
    },
    {
     "name": "stdout",
     "output_type": "stream",
     "text": [
      "Optimization restart 1/5, f = 1313.8826522188788\n",
      "Optimization restart 2/5, f = 1738.4967101445882\n",
      "Optimization restart 3/5, f = 1313.8826354455664\n",
      "Optimization restart 4/5, f = 1313.882648690389\n",
      "Optimization restart 5/5, f = 1313.8826354643263\n",
      "[[13.         16.29984986  5.         62.00694892  3.          5.        ]]\n",
      "\n",
      "User function emissions called with 1 inputs to simulate\n",
      "\n",
      "Evaluating input: 1 of 1\n",
      "\n",
      " Retrying in 1 seconds\n",
      "\n",
      "Output 9.567686855839975\n",
      "\n"
     ]
    },
    {
     "name": "stderr",
     "output_type": "stream",
     "text": [
      " /Users/Matteo/opt/anaconda3/envs/ml_and_physical/lib/python3.8/site-packages/paramz/transformations.py:111: RuntimeWarning:overflow encountered in expm1\n"
     ]
    },
    {
     "name": "stdout",
     "output_type": "stream",
     "text": [
      "Optimization restart 1/5, f = 1317.5656021110672\n",
      "Optimization restart 2/5, f = 1317.565573232728\n",
      "Optimization restart 3/5, f = 1317.5655732026116\n",
      "Optimization restart 4/5, f = 1317.5655783988507\n",
      "Optimization restart 5/5, f = 1317.5655732029218\n",
      "[[17.         19.94091923  5.         59.58009451  1.          5.        ]]\n",
      "\n",
      "User function emissions called with 1 inputs to simulate\n",
      "\n",
      "Evaluating input: 1 of 1\n",
      "\n",
      " Retrying in 1 seconds\n",
      "\n",
      "Output 6.625433710428547\n",
      "\n"
     ]
    },
    {
     "name": "stderr",
     "output_type": "stream",
     "text": [
      " /Users/Matteo/opt/anaconda3/envs/ml_and_physical/lib/python3.8/site-packages/paramz/transformations.py:111: RuntimeWarning:overflow encountered in expm1\n"
     ]
    },
    {
     "name": "stdout",
     "output_type": "stream",
     "text": [
      "Optimization restart 1/5, f = 1321.1753218538358\n",
      "Optimization restart 2/5, f = 1749.2099828264659\n",
      "Optimization restart 3/5, f = 1321.175309075468\n",
      "Optimization restart 4/5, f = 1321.175309414105\n",
      "Optimization restart 5/5, f = 1321.1753090677767\n",
      "[[20.         25.          5.         54.96423725  1.          5.        ]]\n",
      "\n",
      "User function emissions called with 1 inputs to simulate\n",
      "\n",
      "Evaluating input: 1 of 1\n",
      "\n",
      " Retrying in 1 seconds\n",
      "\n",
      "Output 7.2358944559995\n",
      "\n"
     ]
    },
    {
     "name": "stderr",
     "output_type": "stream",
     "text": [
      " /Users/Matteo/opt/anaconda3/envs/ml_and_physical/lib/python3.8/site-packages/paramz/transformations.py:111: RuntimeWarning:overflow encountered in expm1\n"
     ]
    },
    {
     "name": "stdout",
     "output_type": "stream",
     "text": [
      "Optimization restart 1/5, f = 1325.002035007471\n",
      "Optimization restart 2/5, f = 1325.0020130868481\n",
      "Optimization restart 3/5, f = 1325.002013098736\n",
      "Optimization restart 4/5, f = 1325.0020130833855\n",
      "Optimization restart 5/5, f = 1325.0020130831135\n",
      "[[20.         16.98550565  5.         57.3782582   1.          5.        ]]\n",
      "\n",
      "User function emissions called with 1 inputs to simulate\n",
      "\n",
      "Evaluating input: 1 of 1\n",
      "\n",
      " Retrying in 1 seconds\n",
      "\n",
      "Output 6.9263317781538785\n",
      "\n"
     ]
    },
    {
     "name": "stderr",
     "output_type": "stream",
     "text": [
      " /Users/Matteo/opt/anaconda3/envs/ml_and_physical/lib/python3.8/site-packages/paramz/transformations.py:111: RuntimeWarning:overflow encountered in expm1\n"
     ]
    },
    {
     "name": "stdout",
     "output_type": "stream",
     "text": [
      "Optimization restart 1/5, f = 1328.6273674518307\n",
      "Optimization restart 2/5, f = 1328.627361463146\n",
      "Optimization restart 3/5, f = 1328.6273614598153\n",
      "Optimization restart 4/5, f = 1328.627361435695\n",
      "Optimization restart 5/5, f = 1328.627361433076\n",
      "[[12.         25.          5.         63.25888474  3.          5.        ]]\n",
      "\n",
      "User function emissions called with 1 inputs to simulate\n",
      "\n",
      "Evaluating input: 1 of 1\n",
      "\n",
      " Retrying in 1 seconds\n",
      "\n",
      "Output 10.372693338403806\n",
      "\n"
     ]
    },
    {
     "name": "stderr",
     "output_type": "stream",
     "text": [
      " /Users/Matteo/opt/anaconda3/envs/ml_and_physical/lib/python3.8/site-packages/paramz/transformations.py:111: RuntimeWarning:overflow encountered in expm1\n"
     ]
    },
    {
     "name": "stdout",
     "output_type": "stream",
     "text": [
      "Optimization restart 1/5, f = 1332.3188580307256\n",
      "Optimization restart 2/5, f = 1332.3187736282207\n",
      "Optimization restart 3/5, f = 1332.3187734947433\n",
      "Optimization restart 4/5, f = 1332.318773497472\n",
      "Optimization restart 5/5, f = 1332.3187734934818\n",
      "[[11.        25.         5.        64.1825664  1.         1.5      ]]\n",
      "\n",
      "User function emissions called with 1 inputs to simulate\n",
      "\n",
      "Evaluating input: 1 of 1\n",
      "\n",
      " Retrying in 1 seconds\n",
      "\n",
      "Output 8.723518116304877\n",
      "\n"
     ]
    },
    {
     "name": "stderr",
     "output_type": "stream",
     "text": [
      " /Users/Matteo/opt/anaconda3/envs/ml_and_physical/lib/python3.8/site-packages/paramz/transformations.py:111: RuntimeWarning:overflow encountered in expm1\n"
     ]
    },
    {
     "name": "stdout",
     "output_type": "stream",
     "text": [
      "Optimization restart 1/5, f = 1336.0433111169914\n",
      "Optimization restart 2/5, f = 1336.0432960648618\n",
      "Optimization restart 3/5, f = 1336.043296039424\n",
      "Optimization restart 4/5, f = 1336.0432960394355\n",
      "Optimization restart 5/5, f = 1336.0432960523476\n",
      "[[20.  8.  5. 70.  1.  5.]]\n",
      "\n",
      "User function emissions called with 1 inputs to simulate\n",
      "\n",
      "Evaluating input: 1 of 1\n",
      "\n",
      " Retrying in 1 seconds\n",
      "\n",
      "Output 5.54770372540081\n",
      "\n"
     ]
    },
    {
     "name": "stderr",
     "output_type": "stream",
     "text": [
      " /Users/Matteo/opt/anaconda3/envs/ml_and_physical/lib/python3.8/site-packages/paramz/transformations.py:111: RuntimeWarning:overflow encountered in expm1\n"
     ]
    },
    {
     "name": "stdout",
     "output_type": "stream",
     "text": [
      "Optimization restart 1/5, f = 1340.0212375469541\n",
      "Optimization restart 2/5, f = 1340.0212171970418\n",
      "Optimization restart 3/5, f = 1340.021212493585\n"
     ]
    },
    {
     "name": "stderr",
     "output_type": "stream",
     "text": [
      " /Users/Matteo/opt/anaconda3/envs/ml_and_physical/lib/python3.8/site-packages/GPy/kern/src/rbf.py:52: RuntimeWarning:overflow encountered in square\n"
     ]
    },
    {
     "name": "stdout",
     "output_type": "stream",
     "text": [
      "Optimization restart 4/5, f = 1340.0212124270467\n",
      "Optimization restart 5/5, f = 1340.0212124420214\n",
      "[[16.  8.  5. 30.  1.  5.]]\n",
      "\n",
      "User function emissions called with 1 inputs to simulate\n",
      "\n",
      "Evaluating input: 1 of 1\n",
      "\n",
      " Retrying in 1 seconds\n",
      "\n",
      "Output 16.38893232319484\n",
      "\n"
     ]
    },
    {
     "name": "stderr",
     "output_type": "stream",
     "text": [
      " /Users/Matteo/opt/anaconda3/envs/ml_and_physical/lib/python3.8/site-packages/paramz/transformations.py:111: RuntimeWarning:overflow encountered in expm1\n"
     ]
    },
    {
     "name": "stdout",
     "output_type": "stream",
     "text": [
      "Optimization restart 1/5, f = 1344.157370059775\n",
      "Optimization restart 2/5, f = 1344.1572450238145\n",
      "Optimization restart 3/5, f = 1344.1572444350952\n",
      "Optimization restart 4/5, f = 1344.1572444314666\n",
      "Optimization restart 5/5, f = 1344.1572445216798\n",
      "[[20.         20.67146785  5.         45.48716866  3.          5.        ]]\n",
      "\n",
      "User function emissions called with 1 inputs to simulate\n",
      "\n",
      "Evaluating input: 1 of 1\n",
      "\n",
      " Retrying in 1 seconds\n",
      "\n",
      "Output 9.865207933424728\n",
      "\n",
      "Optimization restart 1/5, f = 1347.9113908341162\n"
     ]
    },
    {
     "name": "stderr",
     "output_type": "stream",
     "text": [
      " /Users/Matteo/opt/anaconda3/envs/ml_and_physical/lib/python3.8/site-packages/paramz/transformations.py:111: RuntimeWarning:overflow encountered in expm1\n"
     ]
    },
    {
     "name": "stdout",
     "output_type": "stream",
     "text": [
      "Optimization restart 2/5, f = 1347.9111032615667\n",
      "Optimization restart 3/5, f = 1347.9111032464064\n",
      "Optimization restart 4/5, f = 1347.911103796466\n",
      "Optimization restart 5/5, f = 1347.9111061109265\n",
      "[[20.          8.         10.46298121 70.          1.          5.        ]]\n",
      "\n",
      "User function emissions called with 1 inputs to simulate\n",
      "\n",
      "Evaluating input: 1 of 1\n",
      "\n",
      " Retrying in 1 seconds\n",
      "\n",
      "Output 12.26377149818613\n",
      "\n"
     ]
    },
    {
     "name": "stderr",
     "output_type": "stream",
     "text": [
      " /Users/Matteo/opt/anaconda3/envs/ml_and_physical/lib/python3.8/site-packages/paramz/transformations.py:111: RuntimeWarning:overflow encountered in expm1\n"
     ]
    },
    {
     "name": "stdout",
     "output_type": "stream",
     "text": [
      "Optimization restart 1/5, f = 1351.7708355571672\n",
      "Optimization restart 2/5, f = 1351.7707723570004\n",
      "Optimization restart 3/5, f = 1351.7707723402705\n",
      "Optimization restart 4/5, f = 1351.7707723350384\n",
      "Optimization restart 5/5, f = 1351.943060228462\n",
      "[[ 9.          8.          5.         40.01293234  1.          5.        ]]\n",
      "\n",
      "User function emissions called with 1 inputs to simulate\n",
      "\n",
      "Evaluating input: 1 of 1\n",
      "\n",
      " Retrying in 1 seconds\n",
      "\n",
      "Output 16.421538581952657\n",
      "\n",
      "Optimization restart 1/5, f = 1355.7502177250879\n"
     ]
    },
    {
     "name": "stderr",
     "output_type": "stream",
     "text": [
      " /Users/Matteo/opt/anaconda3/envs/ml_and_physical/lib/python3.8/site-packages/paramz/transformations.py:111: RuntimeWarning:overflow encountered in expm1\n"
     ]
    },
    {
     "name": "stdout",
     "output_type": "stream",
     "text": [
      "Optimization restart 2/5, f = 1355.7489764101292\n"
     ]
    },
    {
     "name": "stderr",
     "output_type": "stream",
     "text": [
      " /Users/Matteo/opt/anaconda3/envs/ml_and_physical/lib/python3.8/site-packages/GPy/kern/src/stationary.py:168: RuntimeWarning:overflow encountered in true_divide\n",
      " /Users/Matteo/opt/anaconda3/envs/ml_and_physical/lib/python3.8/site-packages/GPy/kern/src/rbf.py:52: RuntimeWarning:overflow encountered in square\n",
      " /Users/Matteo/opt/anaconda3/envs/ml_and_physical/lib/python3.8/site-packages/GPy/kern/src/rbf.py:76: RuntimeWarning:invalid value encountered in multiply\n"
     ]
    },
    {
     "name": "stdout",
     "output_type": "stream",
     "text": [
      "Optimization restart 3/5, f = 1621.0380777339115\n",
      "Optimization restart 4/5, f = 1355.7489772792687\n",
      "Optimization restart 5/5, f = 1355.748976448252\n",
      "[[15.         17.03589328  5.         61.26840156  1.          5.        ]]\n",
      "\n",
      "User function emissions called with 1 inputs to simulate\n",
      "\n",
      "Evaluating input: 1 of 1\n",
      "\n",
      " Retrying in 1 seconds\n",
      "\n",
      "Output 7.559185045990194\n",
      "\n"
     ]
    },
    {
     "name": "stderr",
     "output_type": "stream",
     "text": [
      " /Users/Matteo/opt/anaconda3/envs/ml_and_physical/lib/python3.8/site-packages/paramz/transformations.py:111: RuntimeWarning:overflow encountered in expm1\n"
     ]
    },
    {
     "name": "stdout",
     "output_type": "stream",
     "text": [
      "Optimization restart 1/5, f = 1359.3319011597266\n",
      "Optimization restart 2/5, f = 1359.3318803524821\n",
      "Optimization restart 3/5, f = 1359.3318803344052\n",
      "Optimization restart 4/5, f = 1359.3318803286124\n",
      "Optimization restart 5/5, f = 1359.3318803529019\n",
      "[[20.   8.   5.  70.   3.   1.5]]\n",
      "\n",
      "User function emissions called with 1 inputs to simulate\n",
      "\n",
      "Evaluating input: 1 of 1\n",
      "\n",
      " Retrying in 1 seconds\n",
      "\n",
      "Output 5.952162774388234\n",
      "\n",
      "Optimization restart 1/5, f = 1363.46097438045\n"
     ]
    },
    {
     "name": "stderr",
     "output_type": "stream",
     "text": [
      " /Users/Matteo/opt/anaconda3/envs/ml_and_physical/lib/python3.8/site-packages/paramz/transformations.py:111: RuntimeWarning:overflow encountered in expm1\n"
     ]
    },
    {
     "name": "stdout",
     "output_type": "stream",
     "text": [
      "Optimization restart 2/5, f = 1363.460189392102\n",
      "Optimization restart 3/5, f = 1363.4601785180737\n",
      "Optimization restart 4/5, f = 1363.4601785220473\n",
      "Optimization restart 5/5, f = 1363.4601785345094\n"
     ]
    }
   ],
   "source": [
    "bo_random_init = BayesianOptimizationLoop(parameter_space, emukit_model_random_init, acquisition=acquisition_random_init)\n",
    "bo_random_init.run_loop(user_function_emissions, n_iter_bo)"
   ]
  },
  {
   "cell_type": "code",
   "execution_count": 15,
   "metadata": {},
   "outputs": [
    {
     "name": "stdout",
     "output_type": "stream",
     "text": [
      "Optimization restart 1/5, f = 1299.81783983801\n",
      "Optimization restart 2/5, f = 1299.8178398382338\n",
      "Optimization restart 3/5, f = 1342.8604332834736\n",
      "Optimization restart 4/5, f = 1299.8178402451185\n",
      "Optimization restart 5/5, f = 1299.817839934829\n",
      "[[20.         14.40071822  5.         61.21447956  1.          1.5       ]]\n",
      "\n",
      "User function emissions called with 1 inputs to simulate\n",
      "\n",
      "Evaluating input: 1 of 1\n",
      "\n",
      " Retrying in 1 seconds\n",
      "\n",
      "Output 6.309442696463182\n",
      "\n"
     ]
    },
    {
     "name": "stderr",
     "output_type": "stream",
     "text": [
      " /Users/Matteo/opt/anaconda3/envs/ml_and_physical/lib/python3.8/site-packages/paramz/transformations.py:111: RuntimeWarning:overflow encountered in expm1\n"
     ]
    },
    {
     "name": "stdout",
     "output_type": "stream",
     "text": [
      "Optimization restart 1/5, f = 1303.6917234756843\n",
      "Optimization restart 2/5, f = 1631.0258018633267\n",
      "Optimization restart 3/5, f = 1303.6916963765552\n",
      "Optimization restart 4/5, f = 1303.6916963765477\n",
      "Optimization restart 5/5, f = 1303.6916963815688\n",
      "[[20.         25.          5.         64.32342619  1.          5.        ]]\n",
      "\n",
      "User function emissions called with 1 inputs to simulate\n",
      "\n",
      "Evaluating input: 1 of 1\n",
      "\n",
      " Retrying in 1 seconds\n",
      "\n",
      "Output 5.954431324805468\n",
      "\n",
      "Optimization restart 1/5, f = 1307.5551846858834\n"
     ]
    },
    {
     "name": "stderr",
     "output_type": "stream",
     "text": [
      " /Users/Matteo/opt/anaconda3/envs/ml_and_physical/lib/python3.8/site-packages/paramz/transformations.py:111: RuntimeWarning:overflow encountered in expm1\n"
     ]
    },
    {
     "name": "stdout",
     "output_type": "stream",
     "text": [
      "Optimization restart 2/5, f = 1350.2615632163324\n",
      "Optimization restart 3/5, f = 1307.5551485085673\n",
      "Optimization restart 4/5, f = 1307.555152236819\n"
     ]
    },
    {
     "name": "stderr",
     "output_type": "stream",
     "text": [
      " /Users/Matteo/opt/anaconda3/envs/ml_and_physical/lib/python3.8/site-packages/GPy/kern/src/rbf.py:52: RuntimeWarning:overflow encountered in square\n"
     ]
    },
    {
     "name": "stdout",
     "output_type": "stream",
     "text": [
      "Optimization restart 5/5, f = 1307.5551485190801\n",
      "[[20.         25.          5.         64.30764964  1.          5.        ]]\n",
      "\n",
      "User function emissions called with 1 inputs to simulate\n",
      "\n",
      "Evaluating input: 1 of 1\n",
      "\n",
      " Retrying in 1 seconds\n",
      "\n",
      "Output 5.948127021449078\n",
      "\n",
      "Optimization restart 1/5, f = 1311.3199402444295\n"
     ]
    },
    {
     "name": "stderr",
     "output_type": "stream",
     "text": [
      " /Users/Matteo/opt/anaconda3/envs/ml_and_physical/lib/python3.8/site-packages/paramz/transformations.py:111: RuntimeWarning:overflow encountered in expm1\n"
     ]
    },
    {
     "name": "stdout",
     "output_type": "stream",
     "text": [
      "Optimization restart 2/5, f = 1311.3198920734596\n"
     ]
    },
    {
     "name": "stderr",
     "output_type": "stream",
     "text": [
      " /Users/Matteo/opt/anaconda3/envs/ml_and_physical/lib/python3.8/site-packages/GPy/kern/src/rbf.py:52: RuntimeWarning:overflow encountered in square\n"
     ]
    },
    {
     "name": "stdout",
     "output_type": "stream",
     "text": [
      "Optimization restart 3/5, f = 1311.3198920734214\n",
      "Optimization restart 4/5, f = 1311.319892074506\n",
      "Optimization restart 5/5, f = 1347.5671058271366\n",
      "[[20.          8.          5.         56.16411779  1.          1.5       ]]\n",
      "\n",
      "User function emissions called with 1 inputs to simulate\n",
      "\n",
      "Evaluating input: 1 of 1\n",
      "\n",
      " Retrying in 1 seconds\n",
      "\n",
      "Output 7.026805427974513\n",
      "\n"
     ]
    },
    {
     "name": "stderr",
     "output_type": "stream",
     "text": [
      " /Users/Matteo/opt/anaconda3/envs/ml_and_physical/lib/python3.8/site-packages/paramz/transformations.py:111: RuntimeWarning:overflow encountered in expm1\n"
     ]
    },
    {
     "name": "stdout",
     "output_type": "stream",
     "text": [
      "Optimization restart 1/5, f = 1315.1648521421366\n",
      "Optimization restart 2/5, f = 1351.1153547418198\n",
      "Optimization restart 3/5, f = 1351.1153538356575\n",
      "Optimization restart 4/5, f = 1315.164834179326\n"
     ]
    },
    {
     "name": "stderr",
     "output_type": "stream",
     "text": [
      " /Users/Matteo/opt/anaconda3/envs/ml_and_physical/lib/python3.8/site-packages/GPy/kern/src/stationary.py:168: RuntimeWarning:overflow encountered in true_divide\n",
      " /Users/Matteo/opt/anaconda3/envs/ml_and_physical/lib/python3.8/site-packages/GPy/kern/src/rbf.py:52: RuntimeWarning:overflow encountered in square\n",
      " /Users/Matteo/opt/anaconda3/envs/ml_and_physical/lib/python3.8/site-packages/GPy/kern/src/rbf.py:76: RuntimeWarning:invalid value encountered in multiply\n"
     ]
    },
    {
     "name": "stdout",
     "output_type": "stream",
     "text": [
      "Optimization restart 5/5, f = 1572.187923024962\n",
      "[[13.         25.          5.         66.60312209  1.          5.        ]]\n",
      "\n",
      "User function emissions called with 1 inputs to simulate\n",
      "\n",
      "Evaluating input: 1 of 1\n",
      "\n",
      " Retrying in 1 seconds\n",
      "\n",
      "Output 8.02690783678036\n",
      "\n",
      "Optimization restart 1/5, f = 1318.976052944919\n"
     ]
    },
    {
     "name": "stderr",
     "output_type": "stream",
     "text": [
      " /Users/Matteo/opt/anaconda3/envs/ml_and_physical/lib/python3.8/site-packages/paramz/transformations.py:111: RuntimeWarning:overflow encountered in expm1\n",
      " /Users/Matteo/opt/anaconda3/envs/ml_and_physical/lib/python3.8/site-packages/GPy/kern/src/rbf.py:52: RuntimeWarning:overflow encountered in square\n"
     ]
    },
    {
     "name": "stdout",
     "output_type": "stream",
     "text": [
      "Optimization restart 2/5, f = 1318.9759940907481\n",
      "Optimization restart 3/5, f = 1680.6615781218607\n",
      "Optimization restart 4/5, f = 1354.5856356250385\n",
      "Optimization restart 5/5, f = 1318.9759940727106\n",
      "[[20.         15.85002576  5.         61.29847157  1.          1.5       ]]\n",
      "\n",
      "User function emissions called with 1 inputs to simulate\n",
      "\n",
      "Evaluating input: 1 of 1\n",
      "\n",
      " Retrying in 1 seconds\n",
      "\n",
      "Output 6.288956989850962\n",
      "\n",
      "Optimization restart 1/5, f = 1322.7215901556501\n"
     ]
    },
    {
     "name": "stderr",
     "output_type": "stream",
     "text": [
      " /Users/Matteo/opt/anaconda3/envs/ml_and_physical/lib/python3.8/site-packages/paramz/transformations.py:111: RuntimeWarning:overflow encountered in expm1\n"
     ]
    },
    {
     "name": "stdout",
     "output_type": "stream",
     "text": [
      "Optimization restart 2/5, f = 1322.7215686649297\n",
      "Optimization restart 3/5, f = 1356.7324034425878\n",
      "Optimization restart 4/5, f = 1322.7215769857967\n",
      "Optimization restart 5/5, f = 1356.7324040092954\n",
      "[[20.         15.49419318  5.         61.12674261  1.          1.5       ]]\n",
      "\n",
      "User function emissions called with 1 inputs to simulate\n",
      "\n",
      "Evaluating input: 1 of 1\n",
      "\n",
      " Retrying in 1 seconds\n",
      "\n",
      "Output 6.335967598087921\n",
      "\n",
      "Optimization restart 1/5, f = 1326.419667542289\n"
     ]
    },
    {
     "name": "stderr",
     "output_type": "stream",
     "text": [
      " /Users/Matteo/opt/anaconda3/envs/ml_and_physical/lib/python3.8/site-packages/paramz/transformations.py:111: RuntimeWarning:overflow encountered in expm1\n"
     ]
    },
    {
     "name": "stdout",
     "output_type": "stream",
     "text": [
      "Optimization restart 2/5, f = 1356.7055675805757\n",
      "Optimization restart 3/5, f = 1356.705658615683\n",
      "Optimization restart 4/5, f = 1356.7056584862696\n",
      "Optimization restart 5/5, f = 1326.4196222765588\n",
      "[[20.          8.          5.         53.88514498  1.          1.5       ]]\n",
      "\n",
      "User function emissions called with 1 inputs to simulate\n",
      "\n",
      "Evaluating input: 1 of 1\n",
      "\n",
      " Retrying in 1 seconds\n",
      "\n",
      "Output 7.330423855054621\n",
      "\n",
      "Optimization restart 1/5, f = 1330.1631806050245\n"
     ]
    },
    {
     "name": "stderr",
     "output_type": "stream",
     "text": [
      " /Users/Matteo/opt/anaconda3/envs/ml_and_physical/lib/python3.8/site-packages/paramz/transformations.py:111: RuntimeWarning:overflow encountered in expm1\n"
     ]
    },
    {
     "name": "stdout",
     "output_type": "stream",
     "text": [
      "Optimization restart 2/5, f = 1358.6185329092518\n",
      "Optimization restart 3/5, f = 1358.6186213667042\n",
      "Optimization restart 4/5, f = 1358.618620309477\n",
      "Optimization restart 5/5, f = 1330.1631644589033\n",
      "[[20.         16.62868048  5.         62.61586572  1.          1.5       ]]\n",
      "\n",
      "User function emissions called with 1 inputs to simulate\n",
      "\n",
      "Evaluating input: 1 of 1\n",
      "\n",
      " Retrying in 1 seconds\n",
      "\n",
      "Output 6.161136422719933\n",
      "\n",
      "Optimization restart 1/5, f = 1333.8287681768247\n"
     ]
    },
    {
     "name": "stderr",
     "output_type": "stream",
     "text": [
      " /Users/Matteo/opt/anaconda3/envs/ml_and_physical/lib/python3.8/site-packages/paramz/transformations.py:111: RuntimeWarning:overflow encountered in expm1\n"
     ]
    },
    {
     "name": "stdout",
     "output_type": "stream",
     "text": [
      "Optimization restart 2/5, f = 1359.1011765357637\n",
      "Optimization restart 3/5, f = 1359.10122857123\n",
      "Optimization restart 4/5, f = 1359.1012672643603\n"
     ]
    },
    {
     "name": "stderr",
     "output_type": "stream",
     "text": [
      " /Users/Matteo/opt/anaconda3/envs/ml_and_physical/lib/python3.8/site-packages/GPy/kern/src/stationary.py:168: RuntimeWarning:overflow encountered in true_divide\n",
      " /Users/Matteo/opt/anaconda3/envs/ml_and_physical/lib/python3.8/site-packages/GPy/kern/src/rbf.py:52: RuntimeWarning:overflow encountered in square\n",
      " /Users/Matteo/opt/anaconda3/envs/ml_and_physical/lib/python3.8/site-packages/GPy/kern/src/rbf.py:76: RuntimeWarning:invalid value encountered in multiply\n"
     ]
    },
    {
     "name": "stdout",
     "output_type": "stream",
     "text": [
      "Optimization restart 5/5, f = 1451.8515046190737\n",
      "[[20.         21.90940338  5.         65.52219653  3.          5.        ]]\n",
      "\n",
      "User function emissions called with 1 inputs to simulate\n",
      "\n",
      "Evaluating input: 1 of 1\n",
      "\n",
      " Retrying in 1 seconds\n",
      "\n",
      "Output 6.405830481931851\n",
      "\n"
     ]
    },
    {
     "name": "stderr",
     "output_type": "stream",
     "text": [
      " /Users/Matteo/opt/anaconda3/envs/ml_and_physical/lib/python3.8/site-packages/paramz/transformations.py:111: RuntimeWarning:overflow encountered in expm1\n"
     ]
    },
    {
     "name": "stdout",
     "output_type": "stream",
     "text": [
      "Optimization restart 1/5, f = 1337.537846062092\n",
      "Optimization restart 2/5, f = 1362.3250460678996\n",
      "Optimization restart 3/5, f = 1337.537759768789\n",
      "Optimization restart 4/5, f = 1362.3249541959879\n",
      "Optimization restart 5/5, f = 1362.3248632313764\n",
      "[[14.         22.47855442  5.         38.98371942  3.          5.        ]]\n",
      "\n",
      "User function emissions called with 1 inputs to simulate\n",
      "\n",
      "Evaluating input: 1 of 1\n",
      "\n",
      " Retrying in 1 seconds\n",
      "\n",
      "Output 14.863956849000411\n",
      "\n"
     ]
    },
    {
     "name": "stderr",
     "output_type": "stream",
     "text": [
      " /Users/Matteo/opt/anaconda3/envs/ml_and_physical/lib/python3.8/site-packages/paramz/transformations.py:111: RuntimeWarning:overflow encountered in expm1\n"
     ]
    },
    {
     "name": "stdout",
     "output_type": "stream",
     "text": [
      "Optimization restart 1/5, f = 1341.5163374914096\n",
      "Optimization restart 2/5, f = 1365.8900866241518\n",
      "Optimization restart 3/5, f = 1341.516337487213\n",
      "Optimization restart 4/5, f = 1365.889904760145\n",
      "Optimization restart 5/5, f = 1365.889913433246\n",
      "[[12.       25.        5.       65.633152  1.        5.      ]]\n",
      "\n",
      "User function emissions called with 1 inputs to simulate\n",
      "\n",
      "Evaluating input: 1 of 1\n",
      "\n",
      " Retrying in 1 seconds\n",
      "\n",
      "Output 9.029359622331762\n",
      "\n"
     ]
    },
    {
     "name": "stderr",
     "output_type": "stream",
     "text": [
      " /Users/Matteo/opt/anaconda3/envs/ml_and_physical/lib/python3.8/site-packages/paramz/transformations.py:111: RuntimeWarning:overflow encountered in expm1\n"
     ]
    },
    {
     "name": "stdout",
     "output_type": "stream",
     "text": [
      "Optimization restart 1/5, f = 1345.244798086293\n",
      "Optimization restart 2/5, f = 1345.2447201725447\n",
      "Optimization restart 3/5, f = 1345.2447201728467\n",
      "Optimization restart 4/5, f = 1345.2447201840969\n",
      "Optimization restart 5/5, f = 1367.6789252061867\n",
      "[[20.         15.59245448  5.         57.30436458  1.          1.5       ]]\n",
      "\n",
      "User function emissions called with 1 inputs to simulate\n",
      "\n",
      "Evaluating input: 1 of 1\n",
      "\n",
      " Retrying in 1 seconds\n",
      "\n",
      "Output 6.823685404316464\n",
      "\n"
     ]
    },
    {
     "name": "stderr",
     "output_type": "stream",
     "text": [
      " /Users/Matteo/opt/anaconda3/envs/ml_and_physical/lib/python3.8/site-packages/paramz/transformations.py:111: RuntimeWarning:overflow encountered in expm1\n"
     ]
    },
    {
     "name": "stdout",
     "output_type": "stream",
     "text": [
      "Optimization restart 1/5, f = 1348.9018907189336\n",
      "Optimization restart 2/5, f = 1348.9018841454917\n",
      "Optimization restart 3/5, f = 1369.6141821492945\n",
      "Optimization restart 4/5, f = 1369.6140805296022\n",
      "Optimization restart 5/5, f = 1348.9018841413983\n",
      "[[20.   8.   5.  70.   3.   1.5]]\n",
      "\n",
      "User function emissions called with 1 inputs to simulate\n",
      "\n",
      "Evaluating input: 1 of 1\n",
      "\n",
      " Retrying in 1 seconds\n",
      "\n",
      "Output 5.952162774388234\n",
      "\n",
      "Optimization restart 1/5, f = 1352.677116835882\n"
     ]
    },
    {
     "name": "stderr",
     "output_type": "stream",
     "text": [
      " /Users/Matteo/opt/anaconda3/envs/ml_and_physical/lib/python3.8/site-packages/paramz/transformations.py:111: RuntimeWarning:overflow encountered in expm1\n"
     ]
    },
    {
     "name": "stdout",
     "output_type": "stream",
     "text": [
      "Optimization restart 2/5, f = 1352.6770833114101\n"
     ]
    },
    {
     "name": "stderr",
     "output_type": "stream",
     "text": [
      " /Users/Matteo/opt/anaconda3/envs/ml_and_physical/lib/python3.8/site-packages/GPy/kern/src/rbf.py:52: RuntimeWarning:overflow encountered in square\n"
     ]
    },
    {
     "name": "stdout",
     "output_type": "stream",
     "text": [
      "Optimization restart 3/5, f = 1352.677056588034\n",
      "Optimization restart 4/5, f = 1352.6770565987267\n",
      "Optimization restart 5/5, f = 1361.6692019988527\n",
      "[[20.         12.56160952  5.         70.          3.          5.        ]]\n",
      "\n",
      "User function emissions called with 1 inputs to simulate\n",
      "\n",
      "Evaluating input: 1 of 1\n",
      "\n",
      " Retrying in 1 seconds\n",
      "\n",
      "Output 6.044647309364609\n",
      "\n",
      "Optimization restart 1/5, f = 1356.3860687521747\n"
     ]
    },
    {
     "name": "stderr",
     "output_type": "stream",
     "text": [
      " /Users/Matteo/opt/anaconda3/envs/ml_and_physical/lib/python3.8/site-packages/paramz/transformations.py:111: RuntimeWarning:overflow encountered in expm1\n"
     ]
    },
    {
     "name": "stdout",
     "output_type": "stream",
     "text": [
      "Optimization restart 2/5, f = 1363.8159247816025\n",
      "Optimization restart 3/5, f = 1363.8160642685368\n",
      "Optimization restart 4/5, f = 1363.8164241747272\n",
      "Optimization restart 5/5, f = 1363.8164242480675\n",
      "[[20.   8.   5.  70.   1.   1.5]]\n",
      "\n",
      "User function emissions called with 1 inputs to simulate\n",
      "\n",
      "Evaluating input: 1 of 1\n",
      "\n",
      " Retrying in 1 seconds\n",
      "\n",
      "Output 5.469575516984683\n",
      "\n",
      "Optimization restart 1/5, f = 1360.1540490498735\n"
     ]
    },
    {
     "name": "stderr",
     "output_type": "stream",
     "text": [
      " /Users/Matteo/opt/anaconda3/envs/ml_and_physical/lib/python3.8/site-packages/paramz/transformations.py:111: RuntimeWarning:overflow encountered in expm1\n"
     ]
    },
    {
     "name": "stdout",
     "output_type": "stream",
     "text": [
      "Optimization restart 2/5, f = 1366.9137341239232\n",
      "Optimization restart 3/5, f = 1360.153962104225\n",
      "Optimization restart 4/5, f = 1366.9134603037114\n",
      "Optimization restart 5/5, f = 1366.9134705077122\n",
      "[[11.         21.61106137  5.         55.09161644  1.          5.        ]]\n",
      "\n",
      "User function emissions called with 1 inputs to simulate\n",
      "\n",
      "Evaluating input: 1 of 1\n",
      "\n",
      " Retrying in 1 seconds\n",
      "\n",
      "Output 10.365342535015708\n",
      "\n"
     ]
    },
    {
     "name": "stderr",
     "output_type": "stream",
     "text": [
      " /Users/Matteo/opt/anaconda3/envs/ml_and_physical/lib/python3.8/site-packages/paramz/transformations.py:111: RuntimeWarning:overflow encountered in expm1\n"
     ]
    },
    {
     "name": "stdout",
     "output_type": "stream",
     "text": [
      "Optimization restart 1/5, f = 1363.919479578029\n",
      "Optimization restart 2/5, f = 1363.9194763779499\n",
      "Optimization restart 3/5, f = 1370.5055345414294\n",
      "Optimization restart 4/5, f = 1370.5056254981973\n",
      "Optimization restart 5/5, f = 1370.5054474761873\n",
      "[[20.         12.50102478  5.         70.          3.          1.5       ]]\n",
      "\n",
      "User function emissions called with 1 inputs to simulate\n",
      "\n",
      "Evaluating input: 1 of 1\n",
      "\n",
      " Retrying in 1 seconds\n",
      "\n",
      "Output 5.92480416043588\n",
      "\n"
     ]
    },
    {
     "name": "stderr",
     "output_type": "stream",
     "text": [
      " /Users/Matteo/opt/anaconda3/envs/ml_and_physical/lib/python3.8/site-packages/paramz/transformations.py:111: RuntimeWarning:overflow encountered in expm1\n"
     ]
    },
    {
     "name": "stdout",
     "output_type": "stream",
     "text": [
      "Optimization restart 1/5, f = 1367.583165263811\n"
     ]
    },
    {
     "name": "stderr",
     "output_type": "stream",
     "text": [
      " /Users/Matteo/opt/anaconda3/envs/ml_and_physical/lib/python3.8/site-packages/GPy/kern/src/rbf.py:52: RuntimeWarning:overflow encountered in square\n"
     ]
    },
    {
     "name": "stdout",
     "output_type": "stream",
     "text": [
      "Optimization restart 2/5, f = 1367.5831406550833\n",
      "Optimization restart 3/5, f = 1373.0548622144368\n",
      "Optimization restart 4/5, f = 1373.0546802883962\n",
      "Optimization restart 5/5, f = 1373.0548621778848\n",
      "[[20.          8.          5.         52.02659492  1.          1.5       ]]\n",
      "\n",
      "User function emissions called with 1 inputs to simulate\n",
      "\n",
      "Evaluating input: 1 of 1\n",
      "\n",
      " Retrying in 1 seconds\n",
      "\n",
      "Output 7.610336314898712\n",
      "\n",
      "Optimization restart 1/5, f = 1371.244680098627\n"
     ]
    },
    {
     "name": "stderr",
     "output_type": "stream",
     "text": [
      " /Users/Matteo/opt/anaconda3/envs/ml_and_physical/lib/python3.8/site-packages/paramz/transformations.py:111: RuntimeWarning:overflow encountered in expm1\n"
     ]
    },
    {
     "name": "stdout",
     "output_type": "stream",
     "text": [
      "Optimization restart 2/5, f = 1371.2446533626298\n",
      "Optimization restart 3/5, f = 1371.2446533626305\n",
      "Optimization restart 4/5, f = 1371.244653561999\n",
      "Optimization restart 5/5, f = 1373.8407679596187\n",
      "[[14. 25.  5. 70.  1.  5.]]\n",
      "\n",
      "User function emissions called with 1 inputs to simulate\n",
      "\n",
      "Evaluating input: 1 of 1\n",
      "\n",
      " Retrying in 1 seconds\n",
      "\n",
      "Output 7.059802299171902\n",
      "\n"
     ]
    },
    {
     "name": "stderr",
     "output_type": "stream",
     "text": [
      " /Users/Matteo/opt/anaconda3/envs/ml_and_physical/lib/python3.8/site-packages/paramz/transformations.py:111: RuntimeWarning:overflow encountered in expm1\n"
     ]
    },
    {
     "name": "stdout",
     "output_type": "stream",
     "text": [
      "Optimization restart 1/5, f = 1374.9264987255578\n"
     ]
    },
    {
     "name": "stderr",
     "output_type": "stream",
     "text": [
      " /Users/Matteo/opt/anaconda3/envs/ml_and_physical/lib/python3.8/site-packages/GPy/kern/src/stationary.py:168: RuntimeWarning:overflow encountered in true_divide\n",
      " /Users/Matteo/opt/anaconda3/envs/ml_and_physical/lib/python3.8/site-packages/GPy/kern/src/rbf.py:52: RuntimeWarning:overflow encountered in square\n",
      " /Users/Matteo/opt/anaconda3/envs/ml_and_physical/lib/python3.8/site-packages/GPy/kern/src/rbf.py:76: RuntimeWarning:invalid value encountered in multiply\n"
     ]
    },
    {
     "name": "stdout",
     "output_type": "stream",
     "text": [
      "Optimization restart 2/5, f = 1608.700514766194\n",
      "Optimization restart 3/5, f = 1376.453545051651\n",
      "Optimization restart 4/5, f = 1687.8475746097374\n",
      "Optimization restart 5/5, f = 1374.9264779535984\n",
      "[[20.         12.32921344  5.         70.          3.          1.5       ]]\n",
      "\n",
      "User function emissions called with 1 inputs to simulate\n",
      "\n",
      "Evaluating input: 1 of 1\n",
      "\n",
      " Retrying in 1 seconds\n",
      "\n",
      "Output 5.9179948735860295\n",
      "\n",
      "Optimization restart 1/5, f = 1378.543164971973\n"
     ]
    },
    {
     "name": "stderr",
     "output_type": "stream",
     "text": [
      " /Users/Matteo/opt/anaconda3/envs/ml_and_physical/lib/python3.8/site-packages/paramz/transformations.py:111: RuntimeWarning:overflow encountered in expm1\n"
     ]
    },
    {
     "name": "stdout",
     "output_type": "stream",
     "text": [
      "Optimization restart 2/5, f = 1374.8355563518905\n",
      "Optimization restart 3/5, f = 1378.543131024635\n"
     ]
    },
    {
     "name": "stderr",
     "output_type": "stream",
     "text": [
      " /Users/Matteo/opt/anaconda3/envs/ml_and_physical/lib/python3.8/site-packages/GPy/kern/src/stationary.py:168: RuntimeWarning:overflow encountered in true_divide\n",
      " /Users/Matteo/opt/anaconda3/envs/ml_and_physical/lib/python3.8/site-packages/GPy/kern/src/rbf.py:52: RuntimeWarning:overflow encountered in square\n",
      " /Users/Matteo/opt/anaconda3/envs/ml_and_physical/lib/python3.8/site-packages/GPy/kern/src/rbf.py:76: RuntimeWarning:invalid value encountered in multiply\n"
     ]
    },
    {
     "name": "stdout",
     "output_type": "stream",
     "text": [
      "Optimization restart 4/5, f = 1692.7485257235026\n",
      "Optimization restart 5/5, f = 1374.8354941885066\n",
      "[[ 9.         24.62761359  5.         37.55395153  3.          5.        ]]\n",
      "\n",
      "User function emissions called with 1 inputs to simulate\n",
      "\n",
      "Evaluating input: 1 of 1\n",
      "\n",
      " Retrying in 1 seconds\n",
      "\n",
      "Output 21.565733552681657\n",
      "\n"
     ]
    },
    {
     "name": "stderr",
     "output_type": "stream",
     "text": [
      " /Users/Matteo/opt/anaconda3/envs/ml_and_physical/lib/python3.8/site-packages/paramz/transformations.py:111: RuntimeWarning:overflow encountered in expm1\n"
     ]
    },
    {
     "name": "stdout",
     "output_type": "stream",
     "text": [
      "Optimization restart 1/5, f = 1384.0255500547305\n",
      "Optimization restart 2/5, f = 1383.8585607962605\n",
      "Optimization restart 3/5, f = 1383.858378946909\n",
      "Optimization restart 4/5, f = 1383.8584336406882\n",
      "Optimization restart 5/5, f = 1382.3339362647107\n",
      "[[20.         17.29982295  5.         62.07179371  1.          1.5       ]]\n",
      "\n",
      "User function emissions called with 1 inputs to simulate\n",
      "\n",
      "Evaluating input: 1 of 1\n",
      "\n",
      " Retrying in 1 seconds\n",
      "\n",
      "Output 6.218355865489435\n",
      "\n",
      "Optimization restart 1/5, f = 1385.9150630040053\n"
     ]
    },
    {
     "name": "stderr",
     "output_type": "stream",
     "text": [
      " /Users/Matteo/opt/anaconda3/envs/ml_and_physical/lib/python3.8/site-packages/paramz/transformations.py:111: RuntimeWarning:overflow encountered in expm1\n"
     ]
    },
    {
     "name": "stdout",
     "output_type": "stream",
     "text": [
      "Optimization restart 2/5, f = 1383.9731714186662\n",
      "Optimization restart 3/5, f = 1385.9150237064819\n",
      "Optimization restart 4/5, f = 1385.9150236915777\n",
      "Optimization restart 5/5, f = 1385.9150236916544\n",
      "[[18.         25.          5.         42.91849819  1.          1.5       ]]\n",
      "\n",
      "User function emissions called with 1 inputs to simulate\n",
      "\n",
      "Evaluating input: 1 of 1\n",
      "\n",
      " Retrying in 1 seconds\n",
      "\n",
      "Output 9.033007489699376\n",
      "\n",
      "Optimization restart 1/5, f = 1388.3239910229188\n"
     ]
    },
    {
     "name": "stderr",
     "output_type": "stream",
     "text": [
      " /Users/Matteo/opt/anaconda3/envs/ml_and_physical/lib/python3.8/site-packages/paramz/transformations.py:111: RuntimeWarning:overflow encountered in expm1\n"
     ]
    },
    {
     "name": "stdout",
     "output_type": "stream",
     "text": [
      "Optimization restart 2/5, f = 1388.3215890575782\n",
      "Optimization restart 3/5, f = 1388.3212253323195\n"
     ]
    },
    {
     "name": "stderr",
     "output_type": "stream",
     "text": [
      " /Users/Matteo/opt/anaconda3/envs/ml_and_physical/lib/python3.8/site-packages/GPy/kern/src/rbf.py:52: RuntimeWarning:overflow encountered in square\n"
     ]
    },
    {
     "name": "stdout",
     "output_type": "stream",
     "text": [
      "Optimization restart 4/5, f = 1388.3213162430557\n",
      "Optimization restart 5/5, f = 1388.3213299524125\n",
      "[[15.         25.          5.         56.83253968  3.          1.5       ]]\n",
      "\n",
      "User function emissions called with 1 inputs to simulate\n",
      "\n",
      "Evaluating input: 1 of 1\n",
      "\n",
      " Retrying in 1 seconds\n",
      "\n",
      "Output 9.458802495493966\n",
      "\n"
     ]
    },
    {
     "name": "stderr",
     "output_type": "stream",
     "text": [
      " /Users/Matteo/opt/anaconda3/envs/ml_and_physical/lib/python3.8/site-packages/paramz/transformations.py:111: RuntimeWarning:overflow encountered in expm1\n"
     ]
    },
    {
     "name": "stdout",
     "output_type": "stream",
     "text": [
      "Optimization restart 1/5, f = 1392.0347253959535\n",
      "Optimization restart 2/5, f = 1392.0342967382512\n",
      "Optimization restart 3/5, f = 1392.0343934853497\n",
      "Optimization restart 4/5, f = 1393.5780296166904\n",
      "Optimization restart 5/5, f = 1392.0343868557004\n",
      "[[15.         12.99372773  5.         65.63719978  1.          5.        ]]\n",
      "\n",
      "User function emissions called with 1 inputs to simulate\n",
      "\n",
      "Evaluating input: 1 of 1\n",
      "\n",
      " Retrying in 1 seconds\n",
      "\n",
      "Output 6.864016181912105\n",
      "\n"
     ]
    },
    {
     "name": "stderr",
     "output_type": "stream",
     "text": [
      " /Users/Matteo/opt/anaconda3/envs/ml_and_physical/lib/python3.8/site-packages/paramz/transformations.py:111: RuntimeWarning:overflow encountered in expm1\n"
     ]
    },
    {
     "name": "stdout",
     "output_type": "stream",
     "text": [
      "Optimization restart 1/5, f = 1395.4032065960232\n",
      "Optimization restart 2/5, f = 1395.4027862743633\n",
      "Optimization restart 3/5, f = 1395.4026953514397\n"
     ]
    },
    {
     "name": "stderr",
     "output_type": "stream",
     "text": [
      " /Users/Matteo/opt/anaconda3/envs/ml_and_physical/lib/python3.8/site-packages/GPy/kern/src/stationary.py:168: RuntimeWarning:overflow encountered in true_divide\n",
      " /Users/Matteo/opt/anaconda3/envs/ml_and_physical/lib/python3.8/site-packages/GPy/kern/src/rbf.py:52: RuntimeWarning:overflow encountered in square\n",
      " /Users/Matteo/opt/anaconda3/envs/ml_and_physical/lib/python3.8/site-packages/GPy/kern/src/rbf.py:76: RuntimeWarning:invalid value encountered in multiply\n"
     ]
    },
    {
     "name": "stdout",
     "output_type": "stream",
     "text": [
      "Optimization restart 4/5, f = 1401.5492555485766\n",
      "Optimization restart 5/5, f = 1397.2374393814437\n",
      "[[11.         16.30155924  5.         30.          1.          5.        ]]\n",
      "\n",
      "User function emissions called with 1 inputs to simulate\n",
      "\n",
      "Evaluating input: 1 of 1\n",
      "\n",
      " Retrying in 1 seconds\n",
      "\n",
      "Output 17.488921705989526\n",
      "\n"
     ]
    },
    {
     "name": "stderr",
     "output_type": "stream",
     "text": [
      " /Users/Matteo/opt/anaconda3/envs/ml_and_physical/lib/python3.8/site-packages/paramz/transformations.py:111: RuntimeWarning:overflow encountered in expm1\n"
     ]
    },
    {
     "name": "stdout",
     "output_type": "stream",
     "text": [
      "Optimization restart 1/5, f = 1399.4178063324962\n",
      "Optimization restart 2/5, f = 1401.0862647930574\n",
      "Optimization restart 3/5, f = 1399.4162756047335\n",
      "Optimization restart 4/5, f = 1401.0862647897352\n",
      "Optimization restart 5/5, f = 1399.416379207146\n",
      "[[20.         25.          5.         50.39521032  1.          5.        ]]\n",
      "\n",
      "User function emissions called with 1 inputs to simulate\n",
      "\n",
      "Evaluating input: 1 of 1\n",
      "\n",
      " Retrying in 1 seconds\n",
      "\n",
      "Output 7.892747039131971\n",
      "\n"
     ]
    },
    {
     "name": "stderr",
     "output_type": "stream",
     "text": [
      " /Users/Matteo/opt/anaconda3/envs/ml_and_physical/lib/python3.8/site-packages/paramz/transformations.py:111: RuntimeWarning:overflow encountered in expm1\n"
     ]
    },
    {
     "name": "stdout",
     "output_type": "stream",
     "text": [
      "Optimization restart 1/5, f = 1403.2183889789103\n",
      "Optimization restart 2/5, f = 1403.2180625429733\n",
      "Optimization restart 3/5, f = 1403.2178517142756\n",
      "Optimization restart 4/5, f = 1404.843239937982\n",
      "Optimization restart 5/5, f = 1404.8432397818954\n",
      "[[ 9.         12.84283716  5.         58.05517596  1.          1.5       ]]\n",
      "\n",
      "User function emissions called with 1 inputs to simulate\n",
      "\n",
      "Evaluating input: 1 of 1\n",
      "\n",
      " Retrying in 1 seconds\n",
      "\n",
      "Output 10.682522246423272\n",
      "\n"
     ]
    },
    {
     "name": "stderr",
     "output_type": "stream",
     "text": [
      " /Users/Matteo/opt/anaconda3/envs/ml_and_physical/lib/python3.8/site-packages/paramz/transformations.py:111: RuntimeWarning:overflow encountered in expm1\n"
     ]
    },
    {
     "name": "stdout",
     "output_type": "stream",
     "text": [
      "Optimization restart 1/5, f = 1406.9477090047412\n",
      "Optimization restart 2/5, f = 1406.947752895106\n",
      "Optimization restart 3/5, f = 1406.947792781668\n",
      "Optimization restart 4/5, f = 1406.9476901534035\n",
      "Optimization restart 5/5, f = 1408.5194442676218\n",
      "[[10.          8.         25.008789   50.53672731  3.          5.        ]]\n",
      "\n",
      "User function emissions called with 1 inputs to simulate\n",
      "\n",
      "Evaluating input: 1 of 1\n",
      "\n",
      " Retrying in 1 seconds\n",
      "\n",
      "Output 34.26811183431953\n",
      "\n",
      "Optimization restart 1/5, f = 1411.5836005808555\n"
     ]
    },
    {
     "name": "stderr",
     "output_type": "stream",
     "text": [
      " /Users/Matteo/opt/anaconda3/envs/ml_and_physical/lib/python3.8/site-packages/paramz/transformations.py:111: RuntimeWarning:overflow encountered in expm1\n"
     ]
    },
    {
     "name": "stdout",
     "output_type": "stream",
     "text": [
      "Optimization restart 2/5, f = 1412.9955333631046\n",
      "Optimization restart 3/5, f = 1411.5796893511729\n",
      "Optimization restart 4/5, f = 1412.9955333631265\n"
     ]
    },
    {
     "name": "stderr",
     "output_type": "stream",
     "text": [
      " /Users/Matteo/opt/anaconda3/envs/ml_and_physical/lib/python3.8/site-packages/GPy/kern/src/stationary.py:168: RuntimeWarning:overflow encountered in true_divide\n",
      " /Users/Matteo/opt/anaconda3/envs/ml_and_physical/lib/python3.8/site-packages/GPy/kern/src/rbf.py:52: RuntimeWarning:overflow encountered in square\n",
      " /Users/Matteo/opt/anaconda3/envs/ml_and_physical/lib/python3.8/site-packages/GPy/kern/src/rbf.py:76: RuntimeWarning:invalid value encountered in multiply\n"
     ]
    },
    {
     "name": "stdout",
     "output_type": "stream",
     "text": [
      "Optimization restart 5/5, f = 1691.8301809385036\n",
      "[[13.         19.32050709  5.         70.          1.          5.        ]]\n",
      "\n",
      "User function emissions called with 1 inputs to simulate\n",
      "\n",
      "Evaluating input: 1 of 1\n",
      "\n",
      " Retrying in 1 seconds\n",
      "\n",
      "Output 7.501729452868674\n",
      "\n"
     ]
    },
    {
     "name": "stderr",
     "output_type": "stream",
     "text": [
      " /Users/Matteo/opt/anaconda3/envs/ml_and_physical/lib/python3.8/site-packages/paramz/transformations.py:111: RuntimeWarning:overflow encountered in expm1\n"
     ]
    },
    {
     "name": "stdout",
     "output_type": "stream",
     "text": [
      "Optimization restart 1/5, f = 1414.8105348178615\n",
      "Optimization restart 2/5, f = 1414.810384573114\n",
      "Optimization restart 3/5, f = 1416.6368487198579\n",
      "Optimization restart 4/5, f = 1414.810269272492\n",
      "Optimization restart 5/5, f = 1416.636899369994\n",
      "[[20.          8.         24.8223036  55.10528511  1.          1.5       ]]\n",
      "\n",
      "User function emissions called with 1 inputs to simulate\n",
      "\n",
      "Evaluating input: 1 of 1\n",
      "\n",
      " Retrying in 1 seconds\n",
      "\n",
      "Output 14.695953073598586\n",
      "\n",
      "Optimization restart 1/5, f = 1418.7045928780944\n"
     ]
    },
    {
     "name": "stderr",
     "output_type": "stream",
     "text": [
      " /Users/Matteo/opt/anaconda3/envs/ml_and_physical/lib/python3.8/site-packages/paramz/transformations.py:111: RuntimeWarning:overflow encountered in expm1\n"
     ]
    },
    {
     "name": "stdout",
     "output_type": "stream",
     "text": [
      "Optimization restart 2/5, f = 1420.3399571370082\n",
      "Optimization restart 3/5, f = 1420.3399571355594\n",
      "Optimization restart 4/5, f = 1420.3399571539164\n",
      "Optimization restart 5/5, f = 1420.339957135396\n",
      "[[14.          8.          5.         60.65169638  1.          1.5       ]]\n",
      "\n",
      "User function emissions called with 1 inputs to simulate\n",
      "\n",
      "Evaluating input: 1 of 1\n",
      "\n",
      " Retrying in 1 seconds\n",
      "\n",
      "Output 8.53577413085444\n",
      "\n",
      "Optimization restart 1/5, f = 1422.2111229945126\n"
     ]
    },
    {
     "name": "stderr",
     "output_type": "stream",
     "text": [
      " /Users/Matteo/opt/anaconda3/envs/ml_and_physical/lib/python3.8/site-packages/paramz/transformations.py:111: RuntimeWarning:overflow encountered in expm1\n"
     ]
    },
    {
     "name": "stdout",
     "output_type": "stream",
     "text": [
      "Optimization restart 2/5, f = 1424.0442370467904\n",
      "Optimization restart 3/5, f = 1424.0442370467597\n",
      "Optimization restart 4/5, f = 1424.0442371306606\n",
      "Optimization restart 5/5, f = 1422.2112003517211\n",
      "[[15.         12.11830824  5.78816251 69.94394033  3.          1.50400563]]\n",
      "\n",
      "User function emissions called with 1 inputs to simulate\n",
      "\n",
      "Evaluating input: 1 of 1\n",
      "\n",
      " Retrying in 1 seconds\n",
      "\n",
      "Output 8.30238214215197\n",
      "\n"
     ]
    },
    {
     "name": "stderr",
     "output_type": "stream",
     "text": [
      " /Users/Matteo/opt/anaconda3/envs/ml_and_physical/lib/python3.8/site-packages/paramz/transformations.py:111: RuntimeWarning:overflow encountered in expm1\n"
     ]
    },
    {
     "name": "stdout",
     "output_type": "stream",
     "text": [
      "Optimization restart 1/5, f = 1425.2571543558206\n",
      "Optimization restart 2/5, f = 1425.2573818960323\n",
      "Optimization restart 3/5, f = 1425.2570357462075\n",
      "Optimization restart 4/5, f = 1425.2572726822705\n",
      "Optimization restart 5/5, f = 1425.257108760394\n",
      "[[20.         13.70693112  5.         70.          1.          5.        ]]\n",
      "\n",
      "User function emissions called with 1 inputs to simulate\n",
      "\n",
      "Evaluating input: 1 of 1\n",
      "\n",
      " Retrying in 1 seconds\n",
      "\n",
      "Output 5.54770372540081\n",
      "\n"
     ]
    },
    {
     "name": "stderr",
     "output_type": "stream",
     "text": [
      " /Users/Matteo/opt/anaconda3/envs/ml_and_physical/lib/python3.8/site-packages/paramz/transformations.py:111: RuntimeWarning:overflow encountered in expm1\n"
     ]
    },
    {
     "name": "stdout",
     "output_type": "stream",
     "text": [
      "Optimization restart 1/5, f = 1428.0004240845542\n",
      "Optimization restart 2/5, f = 1431.2984113131456\n",
      "Optimization restart 3/5, f = 1431.298411314572\n",
      "Optimization restart 4/5, f = 1431.2984113198872\n",
      "Optimization restart 5/5, f = 1431.298411317528\n",
      "[[20.         8.         5.        62.4601678  1.         5.       ]]\n",
      "\n",
      "User function emissions called with 1 inputs to simulate\n",
      "\n",
      "Evaluating input: 1 of 1\n",
      "\n",
      " Retrying in 1 seconds\n",
      "\n",
      "Output 6.282054444907506\n",
      "\n"
     ]
    },
    {
     "name": "stderr",
     "output_type": "stream",
     "text": [
      " /Users/Matteo/opt/anaconda3/envs/ml_and_physical/lib/python3.8/site-packages/paramz/transformations.py:111: RuntimeWarning:overflow encountered in expm1\n"
     ]
    },
    {
     "name": "stdout",
     "output_type": "stream",
     "text": [
      "Optimization restart 1/5, f = 1430.9337299689041\n",
      "Optimization restart 2/5, f = 1434.9655167036312\n"
     ]
    },
    {
     "name": "stderr",
     "output_type": "stream",
     "text": [
      " /Users/Matteo/opt/anaconda3/envs/ml_and_physical/lib/python3.8/site-packages/GPy/kern/src/rbf.py:52: RuntimeWarning:overflow encountered in square\n"
     ]
    },
    {
     "name": "stdout",
     "output_type": "stream",
     "text": [
      "Optimization restart 3/5, f = 1430.9339031124246\n"
     ]
    },
    {
     "name": "stderr",
     "output_type": "stream",
     "text": [
      " /Users/Matteo/opt/anaconda3/envs/ml_and_physical/lib/python3.8/site-packages/GPy/kern/src/stationary.py:168: RuntimeWarning:overflow encountered in true_divide\n",
      " /Users/Matteo/opt/anaconda3/envs/ml_and_physical/lib/python3.8/site-packages/GPy/kern/src/rbf.py:76: RuntimeWarning:invalid value encountered in multiply\n"
     ]
    },
    {
     "name": "stdout",
     "output_type": "stream",
     "text": [
      "Optimization restart 4/5, f = 2625.9605934638103\n",
      "Optimization restart 5/5, f = 1430.9338270492094\n",
      "[[20.         21.49850243  5.         35.46171617  1.          1.5       ]]\n",
      "\n",
      "User function emissions called with 1 inputs to simulate\n",
      "\n",
      "Evaluating input: 1 of 1\n",
      "\n",
      " Retrying in 1 seconds\n",
      "\n",
      "Output 11.362267027207064\n",
      "\n"
     ]
    },
    {
     "name": "stderr",
     "output_type": "stream",
     "text": [
      " /Users/Matteo/opt/anaconda3/envs/ml_and_physical/lib/python3.8/site-packages/paramz/transformations.py:111: RuntimeWarning:overflow encountered in expm1\n"
     ]
    },
    {
     "name": "stdout",
     "output_type": "stream",
     "text": [
      "Optimization restart 1/5, f = 1434.8588226117315\n",
      "Optimization restart 2/5, f = 1438.6529988004936\n",
      "Optimization restart 3/5, f = 1434.858573520051\n",
      "Optimization restart 4/5, f = 1438.6529987583192\n",
      "Optimization restart 5/5, f = 1434.8586643315418\n",
      "[[14.          8.         14.35860666 70.          1.          1.5       ]]\n",
      "\n",
      "User function emissions called with 1 inputs to simulate\n",
      "\n",
      "Evaluating input: 1 of 1\n",
      "\n",
      " Retrying in 1 seconds\n",
      "\n",
      "Output 14.552225309300598\n",
      "\n",
      "Optimization restart 1/5, f = 1438.5025711203107\n"
     ]
    },
    {
     "name": "stderr",
     "output_type": "stream",
     "text": [
      " /Users/Matteo/opt/anaconda3/envs/ml_and_physical/lib/python3.8/site-packages/paramz/transformations.py:111: RuntimeWarning:overflow encountered in expm1\n"
     ]
    },
    {
     "name": "stdout",
     "output_type": "stream",
     "text": [
      "Optimization restart 2/5, f = 1438.5021956770424\n",
      "Optimization restart 3/5, f = 1438.5020419525008\n",
      "Optimization restart 4/5, f = 1438.502013763216\n",
      "Optimization restart 5/5, f = 1442.3460731870255\n",
      "[[16.          8.         20.56095533 70.          3.          5.        ]]\n",
      "\n",
      "User function emissions called with 1 inputs to simulate\n",
      "\n",
      "Evaluating input: 1 of 1\n",
      "\n",
      " Retrying in 1 seconds\n",
      "\n",
      "Output 16.151996535065773\n",
      "\n"
     ]
    },
    {
     "name": "stderr",
     "output_type": "stream",
     "text": [
      " /Users/Matteo/opt/anaconda3/envs/ml_and_physical/lib/python3.8/site-packages/paramz/transformations.py:111: RuntimeWarning:overflow encountered in expm1\n"
     ]
    },
    {
     "name": "stdout",
     "output_type": "stream",
     "text": [
      "Optimization restart 1/5, f = 1442.2996197272635\n",
      "Optimization restart 2/5, f = 1446.0421751429335\n",
      "Optimization restart 3/5, f = 1442.2996429136385\n",
      "Optimization restart 4/5, f = 1442.2996430327307\n",
      "Optimization restart 5/5, f = 1442.2996427177668\n",
      "[[14.          8.          5.         64.94296831  3.          5.        ]]\n",
      "\n",
      "User function emissions called with 1 inputs to simulate\n",
      "\n",
      "Evaluating input: 1 of 1\n",
      "\n",
      " Retrying in 1 seconds\n",
      "\n",
      "Output 8.532123387415917\n",
      "\n"
     ]
    },
    {
     "name": "stderr",
     "output_type": "stream",
     "text": [
      " /Users/Matteo/opt/anaconda3/envs/ml_and_physical/lib/python3.8/site-packages/paramz/transformations.py:111: RuntimeWarning:overflow encountered in expm1\n"
     ]
    },
    {
     "name": "stdout",
     "output_type": "stream",
     "text": [
      "Optimization restart 1/5, f = 1445.6012416997537\n",
      "Optimization restart 2/5, f = 1445.6011459246463\n",
      "Optimization restart 3/5, f = 1445.6013287869628\n",
      "Optimization restart 4/5, f = 1445.6012414515712\n",
      "Optimization restart 5/5, f = 1449.712389537633\n"
     ]
    }
   ],
   "source": [
    "bo_model_variance = BayesianOptimizationLoop(parameter_space, emukit_model_variance, acquisition=acquisition_model_variance)\n",
    "bo_model_variance.run_loop(user_function_emissions, n_iter_bo)"
   ]
  },
  {
   "cell_type": "code",
   "execution_count": 16,
   "metadata": {},
   "outputs": [
    {
     "name": "stdout",
     "output_type": "stream",
     "text": [
      "Optimization restart 1/5, f = 1281.5336113895025\n",
      "Optimization restart 2/5, f = 1281.5336113959763\n",
      "Optimization restart 3/5, f = 1281.5336113859976\n",
      "Optimization restart 4/5, f = 1281.5336113860421\n",
      "Optimization restart 5/5, f = 1281.5336113861576\n",
      "[[11.         25.          5.         37.01832727  3.          1.5       ]]\n",
      "\n",
      "User function emissions called with 1 inputs to simulate\n",
      "\n",
      "Evaluating input: 1 of 1\n",
      "\n",
      " Retrying in 1 seconds\n",
      "\n",
      "Output 18.396061576246655\n",
      "\n"
     ]
    },
    {
     "name": "stderr",
     "output_type": "stream",
     "text": [
      " /Users/Matteo/opt/anaconda3/envs/ml_and_physical/lib/python3.8/site-packages/paramz/transformations.py:111: RuntimeWarning:overflow encountered in expm1\n"
     ]
    },
    {
     "name": "stdout",
     "output_type": "stream",
     "text": [
      "Optimization restart 1/5, f = 1287.175666539175\n",
      "Optimization restart 2/5, f = 1287.1625546165722\n",
      "Optimization restart 3/5, f = 1287.1625544433264\n",
      "Optimization restart 4/5, f = 1287.1625544475148\n",
      "Optimization restart 5/5, f = 1287.1625546275231\n",
      "[[20.          8.          5.         53.90881708  1.          5.        ]]\n",
      "\n",
      "User function emissions called with 1 inputs to simulate\n",
      "\n",
      "Evaluating input: 1 of 1\n",
      "\n",
      " Retrying in 1 seconds\n",
      "\n",
      "Output 7.378808786874681\n",
      "\n"
     ]
    },
    {
     "name": "stderr",
     "output_type": "stream",
     "text": [
      " /Users/Matteo/opt/anaconda3/envs/ml_and_physical/lib/python3.8/site-packages/paramz/transformations.py:111: RuntimeWarning:overflow encountered in expm1\n"
     ]
    },
    {
     "name": "stdout",
     "output_type": "stream",
     "text": [
      "Optimization restart 1/5, f = 1291.3311815346433\n"
     ]
    },
    {
     "name": "stderr",
     "output_type": "stream",
     "text": [
      " /Users/Matteo/opt/anaconda3/envs/ml_and_physical/lib/python3.8/site-packages/GPy/kern/src/stationary.py:168: RuntimeWarning:overflow encountered in true_divide\n",
      " /Users/Matteo/opt/anaconda3/envs/ml_and_physical/lib/python3.8/site-packages/GPy/kern/src/rbf.py:52: RuntimeWarning:overflow encountered in square\n",
      " /Users/Matteo/opt/anaconda3/envs/ml_and_physical/lib/python3.8/site-packages/GPy/kern/src/rbf.py:76: RuntimeWarning:invalid value encountered in multiply\n"
     ]
    },
    {
     "name": "stdout",
     "output_type": "stream",
     "text": [
      "Optimization restart 2/5, f = 1414.31968479859\n",
      "Optimization restart 3/5, f = 1291.3311808057856\n",
      "Optimization restart 4/5, f = 1291.3311808064077\n",
      "Optimization restart 5/5, f = 1291.3311808056856\n",
      "[[ 9.  25.   5.  70.   1.   1.5]]\n",
      "\n",
      "User function emissions called with 1 inputs to simulate\n",
      "\n",
      "Evaluating input: 1 of 1\n",
      "\n",
      " Retrying in 1 seconds\n",
      "\n",
      "Output 9.498267342104846\n",
      "\n",
      "Optimization restart 1/5, f = 1295.6107197063523\n"
     ]
    },
    {
     "name": "stderr",
     "output_type": "stream",
     "text": [
      " /Users/Matteo/opt/anaconda3/envs/ml_and_physical/lib/python3.8/site-packages/paramz/transformations.py:111: RuntimeWarning:overflow encountered in expm1\n"
     ]
    },
    {
     "name": "stdout",
     "output_type": "stream",
     "text": [
      "Optimization restart 2/5, f = 1295.6090077856645\n"
     ]
    },
    {
     "name": "stderr",
     "output_type": "stream",
     "text": [
      " /Users/Matteo/opt/anaconda3/envs/ml_and_physical/lib/python3.8/site-packages/GPy/kern/src/stationary.py:168: RuntimeWarning:overflow encountered in true_divide\n",
      " /Users/Matteo/opt/anaconda3/envs/ml_and_physical/lib/python3.8/site-packages/GPy/kern/src/rbf.py:52: RuntimeWarning:overflow encountered in square\n",
      " /Users/Matteo/opt/anaconda3/envs/ml_and_physical/lib/python3.8/site-packages/GPy/kern/src/rbf.py:76: RuntimeWarning:invalid value encountered in multiply\n"
     ]
    },
    {
     "name": "stdout",
     "output_type": "stream",
     "text": [
      "Optimization restart 3/5, f = 1300.917045640392\n",
      "Optimization restart 4/5, f = 1295.6090076216153\n",
      "Optimization restart 5/5, f = 1296.0469206498638\n",
      "[[14.         23.90685092  5.         44.24567183  3.          5.        ]]\n",
      "\n",
      "User function emissions called with 1 inputs to simulate\n",
      "\n",
      "Evaluating input: 1 of 1\n",
      "\n",
      " Retrying in 1 seconds\n",
      "\n",
      "Output 12.694911121072698\n",
      "\n",
      "Optimization restart 1/5, f = 1299.9469407385075\n"
     ]
    },
    {
     "name": "stderr",
     "output_type": "stream",
     "text": [
      " /Users/Matteo/opt/anaconda3/envs/ml_and_physical/lib/python3.8/site-packages/paramz/transformations.py:111: RuntimeWarning:overflow encountered in expm1\n"
     ]
    },
    {
     "name": "stdout",
     "output_type": "stream",
     "text": [
      "Optimization restart 2/5, f = 1299.9462505361823\n",
      "Optimization restart 3/5, f = 1299.946250535989\n",
      "Optimization restart 4/5, f = 1299.9462505361548\n",
      "Optimization restart 5/5, f = 1299.9462505359945\n",
      "[[20.         20.46370457  5.         44.18128765  1.          5.        ]]\n",
      "\n",
      "User function emissions called with 1 inputs to simulate\n",
      "\n",
      "Evaluating input: 1 of 1\n",
      "\n",
      " Retrying in 1 seconds\n",
      "\n",
      "Output 8.913303677199714\n",
      "\n",
      "Optimization restart 1/5, f = 1304.1091262508799\n"
     ]
    },
    {
     "name": "stderr",
     "output_type": "stream",
     "text": [
      " /Users/Matteo/opt/anaconda3/envs/ml_and_physical/lib/python3.8/site-packages/paramz/transformations.py:111: RuntimeWarning:overflow encountered in expm1\n"
     ]
    },
    {
     "name": "stdout",
     "output_type": "stream",
     "text": [
      "Optimization restart 2/5, f = 1304.1087725778295\n",
      "Optimization restart 3/5, f = 1304.1087725769985\n",
      "Optimization restart 4/5, f = 1304.1087725770058\n",
      "Optimization restart 5/5, f = 1304.1087725797495\n",
      "[[20.         19.87790162  5.         48.40332507  3.          5.        ]]\n",
      "\n",
      "User function emissions called with 1 inputs to simulate\n",
      "\n",
      "Evaluating input: 1 of 1\n",
      "\n",
      " Retrying in 1 seconds\n",
      "\n",
      "Output 9.171022017351687\n",
      "\n",
      "Optimization restart 1/5, f = 1308.1216033745882\n"
     ]
    },
    {
     "name": "stderr",
     "output_type": "stream",
     "text": [
      " /Users/Matteo/opt/anaconda3/envs/ml_and_physical/lib/python3.8/site-packages/paramz/transformations.py:111: RuntimeWarning:overflow encountered in expm1\n"
     ]
    },
    {
     "name": "stdout",
     "output_type": "stream",
     "text": [
      "Optimization restart 2/5, f = 1308.1215106529448\n",
      "Optimization restart 3/5, f = 1308.1215096076046\n",
      "Optimization restart 4/5, f = 1308.1215096077242\n",
      "Optimization restart 5/5, f = 1308.1215096089425\n",
      "[[ 7.          8.          5.         56.88777849  3.          5.        ]]\n",
      "\n",
      "User function emissions called with 1 inputs to simulate\n",
      "\n",
      "Evaluating input: 1 of 1\n",
      "\n",
      " Retrying in 1 seconds\n",
      "\n",
      "Output 19.431486670245985\n",
      "\n",
      "Optimization restart 1/5, f = 1312.5925335806355\n"
     ]
    },
    {
     "name": "stderr",
     "output_type": "stream",
     "text": [
      " /Users/Matteo/opt/anaconda3/envs/ml_and_physical/lib/python3.8/site-packages/paramz/transformations.py:111: RuntimeWarning:overflow encountered in expm1\n"
     ]
    },
    {
     "name": "stdout",
     "output_type": "stream",
     "text": [
      "Optimization restart 2/5, f = 1312.5911126695682\n",
      "Optimization restart 3/5, f = 1312.5911126490003\n",
      "Optimization restart 4/5, f = 1312.5911126482172\n",
      "Optimization restart 5/5, f = 1312.591112649397\n",
      "[[20.         21.14826426  5.         44.06502132  1.          5.        ]]\n",
      "\n",
      "User function emissions called with 1 inputs to simulate\n",
      "\n",
      "Evaluating input: 1 of 1\n",
      "\n",
      " Retrying in 1 seconds\n",
      "\n",
      "Output 8.922109955034973\n",
      "\n",
      "Optimization restart 1/5, f = 1316.5813168869531\n"
     ]
    },
    {
     "name": "stderr",
     "output_type": "stream",
     "text": [
      " /Users/Matteo/opt/anaconda3/envs/ml_and_physical/lib/python3.8/site-packages/paramz/transformations.py:111: RuntimeWarning:overflow encountered in expm1\n"
     ]
    },
    {
     "name": "stdout",
     "output_type": "stream",
     "text": [
      "Optimization restart 2/5, f = 1316.581242734567\n",
      "Optimization restart 3/5, f = 1316.5812427350786\n",
      "Optimization restart 4/5, f = 1316.5812427345209\n",
      "Optimization restart 5/5, f = 1316.5812430012634\n",
      "[[ 9.         25.          5.         43.42187442  3.          1.5       ]]\n",
      "\n",
      "User function emissions called with 1 inputs to simulate\n",
      "\n",
      "Evaluating input: 1 of 1\n",
      "\n",
      " Retrying in 1 seconds\n",
      "\n",
      "Output 18.110975501770966\n",
      "\n"
     ]
    },
    {
     "name": "stderr",
     "output_type": "stream",
     "text": [
      " /Users/Matteo/opt/anaconda3/envs/ml_and_physical/lib/python3.8/site-packages/paramz/transformations.py:111: RuntimeWarning:overflow encountered in expm1\n"
     ]
    },
    {
     "name": "stdout",
     "output_type": "stream",
     "text": [
      "Optimization restart 1/5, f = 1321.0264061711498\n",
      "Optimization restart 2/5, f = 1321.0249567508429\n",
      "Optimization restart 3/5, f = 1321.0249567510655\n",
      "Optimization restart 4/5, f = 1321.0249567782103\n",
      "Optimization restart 5/5, f = 1321.0249567513324\n",
      "[[13.          8.         27.         32.20304558  1.          1.5       ]]\n",
      "\n",
      "User function emissions called with 1 inputs to simulate\n",
      "\n",
      "Evaluating input: 1 of 1\n",
      "\n",
      " Retrying in 1 seconds\n",
      "\n",
      "Output 45.30290588219934\n",
      "\n"
     ]
    },
    {
     "name": "stderr",
     "output_type": "stream",
     "text": [
      " /Users/Matteo/opt/anaconda3/envs/ml_and_physical/lib/python3.8/site-packages/paramz/transformations.py:111: RuntimeWarning:overflow encountered in expm1\n"
     ]
    },
    {
     "name": "stdout",
     "output_type": "stream",
     "text": [
      "Optimization restart 1/5, f = 1327.1971622025278\n",
      "Optimization restart 2/5, f = 1327.1816066796387\n",
      "Optimization restart 3/5, f = 1327.1816067554594\n",
      "Optimization restart 4/5, f = 1327.1816066756128\n",
      "Optimization restart 5/5, f = 1327.181606669843\n",
      "[[20. 25.  5. 70.  3.  5.]]\n",
      "\n",
      "User function emissions called with 1 inputs to simulate\n",
      "\n",
      "Evaluating input: 1 of 1\n",
      "\n",
      " Retrying in 1 seconds\n",
      "\n",
      "Output 6.0454656513684935\n",
      "\n",
      "Optimization restart 1/5, f = 1331.4502938224382\n"
     ]
    },
    {
     "name": "stderr",
     "output_type": "stream",
     "text": [
      " /Users/Matteo/opt/anaconda3/envs/ml_and_physical/lib/python3.8/site-packages/paramz/transformations.py:111: RuntimeWarning:overflow encountered in expm1\n"
     ]
    },
    {
     "name": "stdout",
     "output_type": "stream",
     "text": [
      "Optimization restart 2/5, f = 1331.4501975599965\n",
      "Optimization restart 3/5, f = 1331.450197561403\n",
      "Optimization restart 4/5, f = 1331.4501975624507\n",
      "Optimization restart 5/5, f = 1688.1419557821384\n",
      "[[20.         18.8539339   5.         63.75363382  3.          5.        ]]\n",
      "\n",
      "User function emissions called with 1 inputs to simulate\n",
      "\n",
      "Evaluating input: 1 of 1\n",
      "\n",
      " Retrying in 1 seconds\n",
      "\n",
      "Output 6.647284149395864\n",
      "\n",
      "Optimization restart 1/5, f = 1335.4698017371115\n"
     ]
    },
    {
     "name": "stderr",
     "output_type": "stream",
     "text": [
      " /Users/Matteo/opt/anaconda3/envs/ml_and_physical/lib/python3.8/site-packages/paramz/transformations.py:111: RuntimeWarning:overflow encountered in expm1\n"
     ]
    },
    {
     "name": "stdout",
     "output_type": "stream",
     "text": [
      "Optimization restart 2/5, f = 1335.4696495574103\n"
     ]
    },
    {
     "name": "stderr",
     "output_type": "stream",
     "text": [
      " /Users/Matteo/opt/anaconda3/envs/ml_and_physical/lib/python3.8/site-packages/GPy/kern/src/stationary.py:168: RuntimeWarning:overflow encountered in true_divide\n",
      " /Users/Matteo/opt/anaconda3/envs/ml_and_physical/lib/python3.8/site-packages/GPy/kern/src/rbf.py:52: RuntimeWarning:overflow encountered in square\n",
      " /Users/Matteo/opt/anaconda3/envs/ml_and_physical/lib/python3.8/site-packages/GPy/kern/src/rbf.py:76: RuntimeWarning:invalid value encountered in multiply\n"
     ]
    },
    {
     "name": "stdout",
     "output_type": "stream",
     "text": [
      "Optimization restart 3/5, f = 1583.1539758369809\n",
      "Optimization restart 4/5, f = 1335.4696495720661\n",
      "Optimization restart 5/5, f = 1335.4696495775252\n",
      "[[20.         21.58336479  5.         41.23955055  1.          1.5       ]]\n",
      "\n",
      "User function emissions called with 1 inputs to simulate\n",
      "\n",
      "Evaluating input: 1 of 1\n",
      "\n",
      " Retrying in 1 seconds\n",
      "\n",
      "Output 9.604891264828183\n",
      "\n",
      "Optimization restart 1/5, f = 1339.4588995887286\n"
     ]
    },
    {
     "name": "stderr",
     "output_type": "stream",
     "text": [
      " /Users/Matteo/opt/anaconda3/envs/ml_and_physical/lib/python3.8/site-packages/paramz/transformations.py:111: RuntimeWarning:overflow encountered in expm1\n"
     ]
    },
    {
     "name": "stdout",
     "output_type": "stream",
     "text": [
      "Optimization restart 2/5, f = 1339.4588830002956\n",
      "Optimization restart 3/5, f = 1339.4588827924354\n",
      "Optimization restart 4/5, f = 1339.458882691044\n",
      "Optimization restart 5/5, f = 1339.458882696376\n",
      "[[14.         22.56072031  5.         47.02835904  3.          5.        ]]\n",
      "\n",
      "User function emissions called with 1 inputs to simulate\n",
      "\n",
      "Evaluating input: 1 of 1\n",
      "\n",
      " Retrying in 1 seconds\n",
      "\n",
      "Output 12.204603091549911\n",
      "\n",
      "Optimization restart 1/5, f = 1343.4468139840997\n"
     ]
    },
    {
     "name": "stderr",
     "output_type": "stream",
     "text": [
      " /Users/Matteo/opt/anaconda3/envs/ml_and_physical/lib/python3.8/site-packages/paramz/transformations.py:111: RuntimeWarning:overflow encountered in expm1\n"
     ]
    },
    {
     "name": "stdout",
     "output_type": "stream",
     "text": [
      "Optimization restart 2/5, f = 1343.446801178397\n",
      "Optimization restart 3/5, f = 1343.446801178143\n",
      "Optimization restart 4/5, f = 1343.4468011802398\n",
      "Optimization restart 5/5, f = 1343.446801178509\n",
      "[[20.  8.  5. 70.  1.  5.]]\n",
      "\n",
      "User function emissions called with 1 inputs to simulate\n",
      "\n",
      "Evaluating input: 1 of 1\n",
      "\n",
      " Retrying in 1 seconds\n",
      "\n",
      "Output 5.54770372540081\n",
      "\n",
      "Optimization restart 1/5, f = 1347.7088543915245\n"
     ]
    },
    {
     "name": "stderr",
     "output_type": "stream",
     "text": [
      " /Users/Matteo/opt/anaconda3/envs/ml_and_physical/lib/python3.8/site-packages/paramz/transformations.py:111: RuntimeWarning:overflow encountered in expm1\n"
     ]
    },
    {
     "name": "stdout",
     "output_type": "stream",
     "text": [
      "Optimization restart 2/5, f = 1347.7086232232527\n",
      "Optimization restart 3/5, f = 1347.7086232231684\n"
     ]
    },
    {
     "name": "stderr",
     "output_type": "stream",
     "text": [
      " /Users/Matteo/opt/anaconda3/envs/ml_and_physical/lib/python3.8/site-packages/GPy/kern/src/rbf.py:52: RuntimeWarning:overflow encountered in square\n"
     ]
    },
    {
     "name": "stdout",
     "output_type": "stream",
     "text": [
      "Optimization restart 4/5, f = 1347.7086232246147\n",
      "Optimization restart 5/5, f = 1347.708623259845\n",
      "[[11.          8.         27.         69.17415577  1.          1.5       ]]\n",
      "\n",
      "User function emissions called with 1 inputs to simulate\n",
      "\n",
      "Evaluating input: 1 of 1\n",
      "\n",
      " Retrying in 1 seconds\n",
      "\n",
      "Output 16.583121050167843\n",
      "\n"
     ]
    },
    {
     "name": "stderr",
     "output_type": "stream",
     "text": [
      " /Users/Matteo/opt/anaconda3/envs/ml_and_physical/lib/python3.8/site-packages/paramz/transformations.py:111: RuntimeWarning:overflow encountered in expm1\n"
     ]
    },
    {
     "name": "stdout",
     "output_type": "stream",
     "text": [
      "Optimization restart 1/5, f = 1352.1194257555567\n",
      "Optimization restart 2/5, f = 1352.1191550510164\n",
      "Optimization restart 3/5, f = 1352.119155050208\n",
      "Optimization restart 4/5, f = 1352.1191550551375\n",
      "Optimization restart 5/5, f = 1352.1191550508597\n",
      "[[ 9.  25.   5.  70.   1.   1.5]]\n",
      "\n",
      "User function emissions called with 1 inputs to simulate\n",
      "\n",
      "Evaluating input: 1 of 1\n",
      "\n",
      " Retrying in 1 seconds\n",
      "\n",
      "Output 9.498267342104846\n",
      "\n",
      "Optimization restart 1/5, f = 1356.128341973286\n"
     ]
    },
    {
     "name": "stderr",
     "output_type": "stream",
     "text": [
      " /Users/Matteo/opt/anaconda3/envs/ml_and_physical/lib/python3.8/site-packages/paramz/transformations.py:111: RuntimeWarning:overflow encountered in expm1\n",
      " /Users/Matteo/opt/anaconda3/envs/ml_and_physical/lib/python3.8/site-packages/GPy/kern/src/rbf.py:52: RuntimeWarning:overflow encountered in square\n"
     ]
    },
    {
     "name": "stdout",
     "output_type": "stream",
     "text": [
      "Optimization restart 2/5, f = 1356.1283058155022\n",
      "Optimization restart 3/5, f = 1356.1283058075055\n"
     ]
    },
    {
     "name": "stderr",
     "output_type": "stream",
     "text": [
      " /Users/Matteo/opt/anaconda3/envs/ml_and_physical/lib/python3.8/site-packages/GPy/kern/src/stationary.py:168: RuntimeWarning:overflow encountered in true_divide\n",
      " /Users/Matteo/opt/anaconda3/envs/ml_and_physical/lib/python3.8/site-packages/GPy/kern/src/rbf.py:76: RuntimeWarning:invalid value encountered in multiply\n"
     ]
    },
    {
     "name": "stdout",
     "output_type": "stream",
     "text": [
      "Optimization restart 4/5, f = 1598.8059750254288\n",
      "Optimization restart 5/5, f = 1356.128305798428\n",
      "[[20.          8.          5.         65.59556758  3.          5.        ]]\n",
      "\n",
      "User function emissions called with 1 inputs to simulate\n",
      "\n",
      "Evaluating input: 1 of 1\n",
      "\n",
      " Retrying in 1 seconds\n",
      "\n",
      "Output 6.419574996001713\n",
      "\n"
     ]
    },
    {
     "name": "stderr",
     "output_type": "stream",
     "text": [
      " /Users/Matteo/opt/anaconda3/envs/ml_and_physical/lib/python3.8/site-packages/paramz/transformations.py:111: RuntimeWarning:overflow encountered in expm1\n"
     ]
    },
    {
     "name": "stdout",
     "output_type": "stream",
     "text": [
      "Optimization restart 1/5, f = 1360.0967010477937\n",
      "Optimization restart 2/5, f = 1360.0966981435133\n",
      "Optimization restart 3/5, f = 1360.0966981434908\n",
      "Optimization restart 4/5, f = 1360.0966981436159\n",
      "Optimization restart 5/5, f = 1360.096698659177\n",
      "[[20.          8.          5.         65.02796449  1.          5.        ]]\n",
      "\n",
      "User function emissions called with 1 inputs to simulate\n",
      "\n",
      "Evaluating input: 1 of 1\n",
      "\n",
      " Retrying in 1 seconds\n",
      "\n",
      "Output 5.895724137600902\n",
      "\n"
     ]
    },
    {
     "name": "stderr",
     "output_type": "stream",
     "text": [
      " /Users/Matteo/opt/anaconda3/envs/ml_and_physical/lib/python3.8/site-packages/paramz/transformations.py:111: RuntimeWarning:overflow encountered in expm1\n"
     ]
    },
    {
     "name": "stdout",
     "output_type": "stream",
     "text": [
      "Optimization restart 1/5, f = 1364.009288238335\n",
      "Optimization restart 2/5, f = 1364.009287072995\n"
     ]
    },
    {
     "name": "stderr",
     "output_type": "stream",
     "text": [
      " /Users/Matteo/opt/anaconda3/envs/ml_and_physical/lib/python3.8/site-packages/GPy/kern/src/stationary.py:168: RuntimeWarning:overflow encountered in true_divide\n",
      " /Users/Matteo/opt/anaconda3/envs/ml_and_physical/lib/python3.8/site-packages/GPy/kern/src/rbf.py:52: RuntimeWarning:overflow encountered in square\n",
      " /Users/Matteo/opt/anaconda3/envs/ml_and_physical/lib/python3.8/site-packages/GPy/kern/src/rbf.py:76: RuntimeWarning:invalid value encountered in multiply\n"
     ]
    },
    {
     "name": "stdout",
     "output_type": "stream",
     "text": [
      "Optimization restart 3/5, f = 1549.9473060976613\n",
      "Optimization restart 4/5, f = 1364.0092871136653\n",
      "Optimization restart 5/5, f = 1364.0092870723079\n",
      "[[20.         21.27048245  5.         48.25724632  1.          5.        ]]\n",
      "\n",
      "User function emissions called with 1 inputs to simulate\n",
      "\n",
      "Evaluating input: 1 of 1\n",
      "\n",
      " Retrying in 1 seconds\n",
      "\n",
      "Output 8.082702514856788\n",
      "\n"
     ]
    },
    {
     "name": "stderr",
     "output_type": "stream",
     "text": [
      " /Users/Matteo/opt/anaconda3/envs/ml_and_physical/lib/python3.8/site-packages/paramz/transformations.py:111: RuntimeWarning:overflow encountered in expm1\n"
     ]
    },
    {
     "name": "stdout",
     "output_type": "stream",
     "text": [
      "Optimization restart 1/5, f = 1367.8953225632106\n",
      "Optimization restart 2/5, f = 1367.8953146463814\n",
      "Optimization restart 3/5, f = 1367.8953146662614\n",
      "Optimization restart 4/5, f = 1367.895314643291\n",
      "Optimization restart 5/5, f = 1367.8953146427943\n",
      "[[20.  25.   5.  70.   3.   1.5]]\n",
      "\n",
      "User function emissions called with 1 inputs to simulate\n",
      "\n",
      "Evaluating input: 1 of 1\n",
      "\n",
      " Retrying in 1 seconds\n",
      "\n",
      "Output 5.965663954428923\n",
      "\n",
      "Optimization restart 1/5, f = 1371.916042772752\n"
     ]
    },
    {
     "name": "stderr",
     "output_type": "stream",
     "text": [
      " /Users/Matteo/opt/anaconda3/envs/ml_and_physical/lib/python3.8/site-packages/paramz/transformations.py:111: RuntimeWarning:overflow encountered in expm1\n"
     ]
    },
    {
     "name": "stdout",
     "output_type": "stream",
     "text": [
      "Optimization restart 2/5, f = 1371.916038440647\n",
      "Optimization restart 3/5, f = 1371.9160384408044\n",
      "Optimization restart 4/5, f = 1371.9160384446432\n",
      "Optimization restart 5/5, f = 1371.9160384403503\n",
      "[[11.  25.   5.  70.   3.   1.5]]\n",
      "\n",
      "User function emissions called with 1 inputs to simulate\n",
      "\n",
      "Evaluating input: 1 of 1\n",
      "\n",
      " Retrying in 1 seconds\n",
      "\n",
      "Output 8.999837508750645\n",
      "\n"
     ]
    },
    {
     "name": "stderr",
     "output_type": "stream",
     "text": [
      " /Users/Matteo/opt/anaconda3/envs/ml_and_physical/lib/python3.8/site-packages/paramz/transformations.py:111: RuntimeWarning:overflow encountered in expm1\n"
     ]
    },
    {
     "name": "stdout",
     "output_type": "stream",
     "text": [
      "Optimization restart 1/5, f = 1375.8928791906712\n",
      "Optimization restart 2/5, f = 1375.892878582413\n",
      "Optimization restart 3/5, f = 1375.8928785823387\n",
      "Optimization restart 4/5, f = 1375.8928785821497\n",
      "Optimization restart 5/5, f = 1375.8928785821502\n",
      "[[20.         21.77346177  5.         65.57884466  1.          5.        ]]\n",
      "\n",
      "User function emissions called with 1 inputs to simulate\n",
      "\n",
      "Evaluating input: 1 of 1\n",
      "\n",
      " Retrying in 1 seconds\n",
      "\n",
      "Output 5.84507455309405\n",
      "\n"
     ]
    },
    {
     "name": "stderr",
     "output_type": "stream",
     "text": [
      " /Users/Matteo/opt/anaconda3/envs/ml_and_physical/lib/python3.8/site-packages/paramz/transformations.py:111: RuntimeWarning:overflow encountered in expm1\n"
     ]
    },
    {
     "name": "stdout",
     "output_type": "stream",
     "text": [
      "Optimization restart 1/5, f = 1379.8524243558727\n",
      "Optimization restart 2/5, f = 1379.8524090422793\n",
      "Optimization restart 3/5, f = 1379.8524090415049\n",
      "Optimization restart 4/5, f = 1379.8524090471367\n",
      "Optimization restart 5/5, f = 1379.8524090459523\n",
      "[[20. 25.  5. 70.  3.  5.]]\n",
      "\n",
      "User function emissions called with 1 inputs to simulate\n",
      "\n",
      "Evaluating input: 1 of 1\n",
      "\n",
      " Retrying in 1 seconds\n",
      "\n",
      "Output 6.0454656513684935\n",
      "\n"
     ]
    },
    {
     "name": "stderr",
     "output_type": "stream",
     "text": [
      " /Users/Matteo/opt/anaconda3/envs/ml_and_physical/lib/python3.8/site-packages/paramz/transformations.py:111: RuntimeWarning:overflow encountered in expm1\n"
     ]
    },
    {
     "name": "stdout",
     "output_type": "stream",
     "text": [
      "Optimization restart 1/5, f = 1383.8006250203655\n",
      "Optimization restart 2/5, f = 1383.800623877694\n",
      "Optimization restart 3/5, f = 1383.8006238676614\n",
      "Optimization restart 4/5, f = 1383.8006238703902\n",
      "Optimization restart 5/5, f = 1383.8006239808258\n",
      "[[11.  25.   5.  70.   3.   1.5]]\n",
      "\n",
      "User function emissions called with 1 inputs to simulate\n",
      "\n",
      "Evaluating input: 1 of 1\n",
      "\n",
      " Retrying in 1 seconds\n",
      "\n",
      "Output 8.999837508750645\n",
      "\n"
     ]
    },
    {
     "name": "stderr",
     "output_type": "stream",
     "text": [
      " /Users/Matteo/opt/anaconda3/envs/ml_and_physical/lib/python3.8/site-packages/paramz/transformations.py:111: RuntimeWarning:overflow encountered in expm1\n"
     ]
    },
    {
     "name": "stdout",
     "output_type": "stream",
     "text": [
      "Optimization restart 1/5, f = 1387.6912689216847\n",
      "Optimization restart 2/5, f = 1387.6912687457802\n",
      "Optimization restart 3/5, f = 1387.691268745813\n",
      "Optimization restart 4/5, f = 1387.6912687458962\n",
      "Optimization restart 5/5, f = 1387.691268776561\n",
      "[[20.         17.31974913  5.         59.60578747  1.          1.5       ]]\n",
      "\n",
      "User function emissions called with 1 inputs to simulate\n",
      "\n",
      "Evaluating input: 1 of 1\n",
      "\n",
      " Retrying in 1 seconds\n",
      "\n",
      "Output 6.562967237644311\n",
      "\n"
     ]
    },
    {
     "name": "stderr",
     "output_type": "stream",
     "text": [
      " /Users/Matteo/opt/anaconda3/envs/ml_and_physical/lib/python3.8/site-packages/paramz/transformations.py:111: RuntimeWarning:overflow encountered in expm1\n"
     ]
    },
    {
     "name": "stdout",
     "output_type": "stream",
     "text": [
      "Optimization restart 1/5, f = 1391.6066355046066\n"
     ]
    },
    {
     "name": "stderr",
     "output_type": "stream",
     "text": [
      " /Users/Matteo/opt/anaconda3/envs/ml_and_physical/lib/python3.8/site-packages/GPy/kern/src/stationary.py:168: RuntimeWarning:overflow encountered in true_divide\n",
      " /Users/Matteo/opt/anaconda3/envs/ml_and_physical/lib/python3.8/site-packages/GPy/kern/src/rbf.py:52: RuntimeWarning:overflow encountered in square\n",
      " /Users/Matteo/opt/anaconda3/envs/ml_and_physical/lib/python3.8/site-packages/GPy/kern/src/rbf.py:76: RuntimeWarning:invalid value encountered in multiply\n"
     ]
    },
    {
     "name": "stdout",
     "output_type": "stream",
     "text": [
      "Optimization restart 2/5, f = 1659.8323187097355\n",
      "Optimization restart 3/5, f = 1391.6065584044104\n",
      "Optimization restart 4/5, f = 1391.6065584318953\n",
      "Optimization restart 5/5, f = 1391.606561858945\n",
      "[[20.         21.4383799   5.         63.98315402  3.          5.        ]]\n",
      "\n",
      "User function emissions called with 1 inputs to simulate\n",
      "\n",
      "Evaluating input: 1 of 1\n",
      "\n",
      " Retrying in 1 seconds\n",
      "\n",
      "Output 6.588436514560783\n",
      "\n"
     ]
    },
    {
     "name": "stderr",
     "output_type": "stream",
     "text": [
      " /Users/Matteo/opt/anaconda3/envs/ml_and_physical/lib/python3.8/site-packages/paramz/transformations.py:111: RuntimeWarning:overflow encountered in expm1\n"
     ]
    },
    {
     "name": "stdout",
     "output_type": "stream",
     "text": [
      "Optimization restart 1/5, f = 1395.4716154256407\n",
      "Optimization restart 2/5, f = 1395.4715769742359\n",
      "Optimization restart 3/5, f = 1395.4715769817767\n",
      "Optimization restart 4/5, f = 1395.4715769736224\n",
      "Optimization restart 5/5, f = 1395.47157697661\n",
      "[[20.         20.98256926  5.         65.31445953  3.          5.        ]]\n",
      "\n",
      "User function emissions called with 1 inputs to simulate\n",
      "\n",
      "Evaluating input: 1 of 1\n",
      "\n",
      " Retrying in 1 seconds\n",
      "\n",
      "Output 6.472345519361184\n",
      "\n",
      "Optimization restart 1/5, f = 1399.2969176623906\n"
     ]
    },
    {
     "name": "stderr",
     "output_type": "stream",
     "text": [
      " /Users/Matteo/opt/anaconda3/envs/ml_and_physical/lib/python3.8/site-packages/paramz/transformations.py:111: RuntimeWarning:overflow encountered in expm1\n",
      " /Users/Matteo/opt/anaconda3/envs/ml_and_physical/lib/python3.8/site-packages/GPy/kern/src/stationary.py:168: RuntimeWarning:overflow encountered in true_divide\n",
      " /Users/Matteo/opt/anaconda3/envs/ml_and_physical/lib/python3.8/site-packages/GPy/kern/src/rbf.py:52: RuntimeWarning:overflow encountered in square\n",
      " /Users/Matteo/opt/anaconda3/envs/ml_and_physical/lib/python3.8/site-packages/GPy/kern/src/rbf.py:76: RuntimeWarning:invalid value encountered in multiply\n"
     ]
    },
    {
     "name": "stdout",
     "output_type": "stream",
     "text": [
      "Optimization restart 2/5, f = 1399.3196570722025\n",
      "Optimization restart 3/5, f = 1399.2969134654584\n",
      "Optimization restart 4/5, f = 1399.2969141592241\n",
      "Optimization restart 5/5, f = 1399.296913466156\n",
      "[[20.         18.69673551  5.         49.90895518  1.          1.5       ]]\n",
      "\n",
      "User function emissions called with 1 inputs to simulate\n",
      "\n",
      "Evaluating input: 1 of 1\n",
      "\n",
      " Retrying in 1 seconds\n",
      "\n",
      "Output 7.9064784554612855\n",
      "\n"
     ]
    },
    {
     "name": "stderr",
     "output_type": "stream",
     "text": [
      " /Users/Matteo/opt/anaconda3/envs/ml_and_physical/lib/python3.8/site-packages/paramz/transformations.py:111: RuntimeWarning:overflow encountered in expm1\n"
     ]
    },
    {
     "name": "stdout",
     "output_type": "stream",
     "text": [
      "Optimization restart 1/5, f = 1403.159658359604\n",
      "Optimization restart 2/5, f = 1403.1596214033684\n",
      "Optimization restart 3/5, f = 1403.1596214269584\n",
      "Optimization restart 4/5, f = 1403.1596214375077\n",
      "Optimization restart 5/5, f = 1403.1596214207239\n",
      "[[20.         20.66017046  5.         70.          3.          5.        ]]\n",
      "\n",
      "User function emissions called with 1 inputs to simulate\n",
      "\n",
      "Evaluating input: 1 of 1\n",
      "\n",
      " Retrying in 1 seconds\n",
      "\n",
      "Output 6.061683085647992\n",
      "\n",
      "Optimization restart 1/5, f = 1407.0213167699935\n"
     ]
    },
    {
     "name": "stderr",
     "output_type": "stream",
     "text": [
      " /Users/Matteo/opt/anaconda3/envs/ml_and_physical/lib/python3.8/site-packages/paramz/transformations.py:111: RuntimeWarning:overflow encountered in expm1\n"
     ]
    },
    {
     "name": "stdout",
     "output_type": "stream",
     "text": [
      "Optimization restart 2/5, f = 1407.0213110184236\n",
      "Optimization restart 3/5, f = 1407.0213149091362\n",
      "Optimization restart 4/5, f = 1407.021311011045\n",
      "Optimization restart 5/5, f = 1407.0213110112566\n",
      "[[20.         19.31890814  5.         47.72097853  1.          1.5       ]]\n",
      "\n",
      "User function emissions called with 1 inputs to simulate\n",
      "\n",
      "Evaluating input: 1 of 1\n",
      "\n",
      " Retrying in 1 seconds\n",
      "\n",
      "Output 8.04835346595111\n",
      "\n"
     ]
    },
    {
     "name": "stderr",
     "output_type": "stream",
     "text": [
      " /Users/Matteo/opt/anaconda3/envs/ml_and_physical/lib/python3.8/site-packages/paramz/transformations.py:111: RuntimeWarning:overflow encountered in expm1\n"
     ]
    },
    {
     "name": "stdout",
     "output_type": "stream",
     "text": [
      "Optimization restart 1/5, f = 1410.8444164777236\n",
      "Optimization restart 2/5, f = 1410.844411326582\n",
      "Optimization restart 3/5, f = 1410.8444113280561\n",
      "Optimization restart 4/5, f = 1410.844411349147\n",
      "Optimization restart 5/5, f = 1410.8444113260866\n",
      "[[20.          8.          5.         64.19820072  1.          1.5       ]]\n",
      "\n",
      "User function emissions called with 1 inputs to simulate\n",
      "\n",
      "Evaluating input: 1 of 1\n",
      "\n",
      " Retrying in 1 seconds\n",
      "\n",
      "Output 5.949387486749738\n",
      "\n"
     ]
    },
    {
     "name": "stderr",
     "output_type": "stream",
     "text": [
      " /Users/Matteo/opt/anaconda3/envs/ml_and_physical/lib/python3.8/site-packages/paramz/transformations.py:111: RuntimeWarning:overflow encountered in expm1\n"
     ]
    },
    {
     "name": "stdout",
     "output_type": "stream",
     "text": [
      "Optimization restart 1/5, f = 1414.7444213513031\n",
      "Optimization restart 2/5, f = 1414.7444254076677\n",
      "Optimization restart 3/5, f = 1414.7444211816944\n",
      "Optimization restart 4/5, f = 1414.7444211805232\n",
      "Optimization restart 5/5, f = 1414.7444211806198\n",
      "[[20.         18.5148985   5.         63.75326864  3.          1.5       ]]\n",
      "\n",
      "User function emissions called with 1 inputs to simulate\n",
      "\n",
      "Evaluating input: 1 of 1\n",
      "\n",
      " Retrying in 1 seconds\n",
      "\n",
      "Output 6.554373025032187\n",
      "\n"
     ]
    },
    {
     "name": "stderr",
     "output_type": "stream",
     "text": [
      " /Users/Matteo/opt/anaconda3/envs/ml_and_physical/lib/python3.8/site-packages/paramz/transformations.py:111: RuntimeWarning:overflow encountered in expm1\n"
     ]
    },
    {
     "name": "stdout",
     "output_type": "stream",
     "text": [
      "Optimization restart 1/5, f = 1418.5835603998235\n",
      "Optimization restart 2/5, f = 1418.5835469917936\n",
      "Optimization restart 3/5, f = 1418.5835469918543\n"
     ]
    },
    {
     "name": "stderr",
     "output_type": "stream",
     "text": [
      " /Users/Matteo/opt/anaconda3/envs/ml_and_physical/lib/python3.8/site-packages/GPy/kern/src/stationary.py:168: RuntimeWarning:overflow encountered in true_divide\n",
      " /Users/Matteo/opt/anaconda3/envs/ml_and_physical/lib/python3.8/site-packages/GPy/kern/src/rbf.py:52: RuntimeWarning:overflow encountered in square\n",
      " /Users/Matteo/opt/anaconda3/envs/ml_and_physical/lib/python3.8/site-packages/GPy/kern/src/rbf.py:76: RuntimeWarning:invalid value encountered in multiply\n"
     ]
    },
    {
     "name": "stdout",
     "output_type": "stream",
     "text": [
      "Optimization restart 4/5, f = 1572.2419620935252\n",
      "Optimization restart 5/5, f = 1418.583549687381\n",
      "[[20.  8.  5. 70.  1.  5.]]\n",
      "\n",
      "User function emissions called with 1 inputs to simulate\n",
      "\n",
      "Evaluating input: 1 of 1\n",
      "\n",
      " Retrying in 1 seconds\n",
      "\n",
      "Output 5.54770372540081\n",
      "\n"
     ]
    },
    {
     "name": "stderr",
     "output_type": "stream",
     "text": [
      " /Users/Matteo/opt/anaconda3/envs/ml_and_physical/lib/python3.8/site-packages/paramz/transformations.py:111: RuntimeWarning:overflow encountered in expm1\n"
     ]
    },
    {
     "name": "stdout",
     "output_type": "stream",
     "text": [
      "Optimization restart 1/5, f = 1422.4987532471307\n",
      "Optimization restart 2/5, f = 1422.498752626461\n",
      "Optimization restart 3/5, f = 1422.49875261204\n",
      "Optimization restart 4/5, f = 1422.4987523611821\n"
     ]
    },
    {
     "name": "stderr",
     "output_type": "stream",
     "text": [
      " /Users/Matteo/opt/anaconda3/envs/ml_and_physical/lib/python3.8/site-packages/GPy/kern/src/rbf.py:52: RuntimeWarning:overflow encountered in square\n"
     ]
    },
    {
     "name": "stdout",
     "output_type": "stream",
     "text": [
      "Optimization restart 5/5, f = 1422.498752360763\n",
      "[[12.         22.12641583  5.         46.7096287   3.          5.        ]]\n",
      "\n",
      "User function emissions called with 1 inputs to simulate\n",
      "\n",
      "Evaluating input: 1 of 1\n",
      "\n",
      " Retrying in 1 seconds\n",
      "\n",
      "Output 15.13096414314337\n",
      "\n",
      "Optimization restart 1/5, f = 1426.479465344331\n"
     ]
    },
    {
     "name": "stderr",
     "output_type": "stream",
     "text": [
      " /Users/Matteo/opt/anaconda3/envs/ml_and_physical/lib/python3.8/site-packages/paramz/transformations.py:111: RuntimeWarning:overflow encountered in expm1\n"
     ]
    },
    {
     "name": "stdout",
     "output_type": "stream",
     "text": [
      "Optimization restart 2/5, f = 1426.479451924804\n",
      "Optimization restart 3/5, f = 1465.6530018395479\n",
      "Optimization restart 4/5, f = 1426.4794519238505\n"
     ]
    },
    {
     "name": "stderr",
     "output_type": "stream",
     "text": [
      " /Users/Matteo/opt/anaconda3/envs/ml_and_physical/lib/python3.8/site-packages/GPy/kern/src/stationary.py:168: RuntimeWarning:overflow encountered in true_divide\n",
      " /Users/Matteo/opt/anaconda3/envs/ml_and_physical/lib/python3.8/site-packages/GPy/kern/src/rbf.py:52: RuntimeWarning:overflow encountered in square\n",
      " /Users/Matteo/opt/anaconda3/envs/ml_and_physical/lib/python3.8/site-packages/GPy/kern/src/rbf.py:76: RuntimeWarning:invalid value encountered in multiply\n"
     ]
    },
    {
     "name": "stdout",
     "output_type": "stream",
     "text": [
      "Optimization restart 5/5, f = 1691.7868409224584\n",
      "[[20.         16.40120451  5.         63.11348022  1.          1.5       ]]\n",
      "\n",
      "User function emissions called with 1 inputs to simulate\n",
      "\n",
      "Evaluating input: 1 of 1\n",
      "\n",
      " Retrying in 1 seconds\n",
      "\n",
      "Output 6.049309572336506\n",
      "\n"
     ]
    },
    {
     "name": "stderr",
     "output_type": "stream",
     "text": [
      " /Users/Matteo/opt/anaconda3/envs/ml_and_physical/lib/python3.8/site-packages/paramz/transformations.py:111: RuntimeWarning:overflow encountered in expm1\n"
     ]
    },
    {
     "name": "stdout",
     "output_type": "stream",
     "text": [
      "Optimization restart 1/5, f = 1430.2905815485865\n",
      "Optimization restart 2/5, f = 1430.2905777970932\n",
      "Optimization restart 3/5, f = 1430.2905778008671\n",
      "Optimization restart 4/5, f = 1430.290577775644\n",
      "Optimization restart 5/5, f = 1430.2905778526033\n",
      "[[ 8.          8.          5.         61.68697709  1.          5.        ]]\n",
      "\n",
      "User function emissions called with 1 inputs to simulate\n",
      "\n",
      "Evaluating input: 1 of 1\n",
      "\n",
      " Retrying in 1 seconds\n",
      "\n",
      "Output 15.58546625885294\n",
      "\n"
     ]
    },
    {
     "name": "stderr",
     "output_type": "stream",
     "text": [
      " /Users/Matteo/opt/anaconda3/envs/ml_and_physical/lib/python3.8/site-packages/paramz/transformations.py:111: RuntimeWarning:overflow encountered in expm1\n"
     ]
    },
    {
     "name": "stdout",
     "output_type": "stream",
     "text": [
      "Optimization restart 1/5, f = 1434.3520090314953\n",
      "Optimization restart 2/5, f = 1434.351924289962\n",
      "Optimization restart 3/5, f = 1434.3519243043809\n",
      "Optimization restart 4/5, f = 1434.3519242912816\n",
      "Optimization restart 5/5, f = 1434.3519242899954\n",
      "[[20.          8.          5.         63.47758547  3.          1.5       ]]\n",
      "\n",
      "User function emissions called with 1 inputs to simulate\n",
      "\n",
      "Evaluating input: 1 of 1\n",
      "\n",
      " Retrying in 1 seconds\n",
      "\n",
      "Output 6.581907148745653\n",
      "\n"
     ]
    },
    {
     "name": "stderr",
     "output_type": "stream",
     "text": [
      " /Users/Matteo/opt/anaconda3/envs/ml_and_physical/lib/python3.8/site-packages/paramz/transformations.py:111: RuntimeWarning:overflow encountered in expm1\n"
     ]
    },
    {
     "name": "stdout",
     "output_type": "stream",
     "text": [
      "Optimization restart 1/5, f = 1438.2193988703143\n"
     ]
    },
    {
     "name": "stderr",
     "output_type": "stream",
     "text": [
      " /Users/Matteo/opt/anaconda3/envs/ml_and_physical/lib/python3.8/site-packages/GPy/kern/src/stationary.py:168: RuntimeWarning:overflow encountered in true_divide\n",
      " /Users/Matteo/opt/anaconda3/envs/ml_and_physical/lib/python3.8/site-packages/GPy/kern/src/rbf.py:52: RuntimeWarning:overflow encountered in square\n",
      " /Users/Matteo/opt/anaconda3/envs/ml_and_physical/lib/python3.8/site-packages/GPy/kern/src/rbf.py:76: RuntimeWarning:invalid value encountered in multiply\n"
     ]
    },
    {
     "name": "stdout",
     "output_type": "stream",
     "text": [
      "Optimization restart 2/5, f = 1673.1323028343554\n",
      "Optimization restart 3/5, f = 1438.219398824935\n",
      "Optimization restart 4/5, f = 1438.2193988244574\n",
      "Optimization restart 5/5, f = 1438.2193991414574\n",
      "[[20.         25.          5.         66.04380617  3.          5.        ]]\n",
      "\n",
      "User function emissions called with 1 inputs to simulate\n",
      "\n",
      "Evaluating input: 1 of 1\n",
      "\n",
      " Retrying in 1 seconds\n",
      "\n",
      "Output 6.393258244766027\n",
      "\n"
     ]
    },
    {
     "name": "stderr",
     "output_type": "stream",
     "text": [
      " /Users/Matteo/opt/anaconda3/envs/ml_and_physical/lib/python3.8/site-packages/paramz/transformations.py:111: RuntimeWarning:overflow encountered in expm1\n"
     ]
    },
    {
     "name": "stdout",
     "output_type": "stream",
     "text": [
      "Optimization restart 1/5, f = 1442.0535910945086\n",
      "Optimization restart 2/5, f = 1442.0535746304545\n",
      "Optimization restart 3/5, f = 1442.0535744385688\n",
      "Optimization restart 4/5, f = 1442.0535744384806\n",
      "Optimization restart 5/5, f = 1442.0535744387325\n",
      "[[20.         17.94714644  5.         63.42762328  3.          1.5       ]]\n",
      "\n",
      "User function emissions called with 1 inputs to simulate\n",
      "\n",
      "Evaluating input: 1 of 1\n",
      "\n",
      " Retrying in 1 seconds\n",
      "\n",
      "Output 6.657298918849945\n",
      "\n"
     ]
    },
    {
     "name": "stderr",
     "output_type": "stream",
     "text": [
      " /Users/Matteo/opt/anaconda3/envs/ml_and_physical/lib/python3.8/site-packages/paramz/transformations.py:111: RuntimeWarning:overflow encountered in expm1\n"
     ]
    },
    {
     "name": "stdout",
     "output_type": "stream",
     "text": [
      "Optimization restart 1/5, f = 1445.8398842901497\n",
      "Optimization restart 2/5, f = 1445.8398834357058\n",
      "Optimization restart 3/5, f = 1445.8398834192333\n",
      "Optimization restart 4/5, f = 1481.0911863997148\n",
      "Optimization restart 5/5, f = 1445.8687045246434\n"
     ]
    },
    {
     "name": "stderr",
     "output_type": "stream",
     "text": [
      " /Users/Matteo/opt/anaconda3/envs/ml_and_physical/lib/python3.8/site-packages/GPy/kern/src/stationary.py:168: RuntimeWarning:overflow encountered in true_divide\n",
      " /Users/Matteo/opt/anaconda3/envs/ml_and_physical/lib/python3.8/site-packages/GPy/kern/src/rbf.py:52: RuntimeWarning:overflow encountered in square\n",
      " /Users/Matteo/opt/anaconda3/envs/ml_and_physical/lib/python3.8/site-packages/GPy/kern/src/rbf.py:76: RuntimeWarning:invalid value encountered in multiply\n"
     ]
    }
   ],
   "source": [
    "bo_integrated_variance = BayesianOptimizationLoop(parameter_space, emukit_model_integrated_variance, acquisition=acquisition_integrated_variance)\n",
    "bo_integrated_variance.run_loop(user_function_emissions, n_iter_bo)"
   ]
  },
  {
   "cell_type": "markdown",
   "metadata": {},
   "source": [
    "## Results"
   ]
  },
  {
   "cell_type": "code",
   "execution_count": 27,
   "metadata": {},
   "outputs": [],
   "source": [
    "parameters_name = ['Size of the grid', 'Speed limit in the net (m/s)', 'Max vehicles speed (m/s)', 'Length of the roads (m)', 'Number of lanes', 'Accelleration (m/s^2)']"
   ]
  },
  {
   "cell_type": "markdown",
   "metadata": {},
   "source": [
    "### Results on the random initialised emulator"
   ]
  },
  {
   "cell_type": "code",
   "execution_count": 40,
   "metadata": {},
   "outputs": [],
   "source": [
    "results_random_init = bo_random_init.get_results()"
   ]
  },
  {
   "cell_type": "code",
   "execution_count": 41,
   "metadata": {},
   "outputs": [
    {
     "data": {
      "text/html": [
       "<div>\n",
       "<style scoped>\n",
       "    .dataframe tbody tr th:only-of-type {\n",
       "        vertical-align: middle;\n",
       "    }\n",
       "\n",
       "    .dataframe tbody tr th {\n",
       "        vertical-align: top;\n",
       "    }\n",
       "\n",
       "    .dataframe thead th {\n",
       "        text-align: right;\n",
       "    }\n",
       "</style>\n",
       "<table border=\"1\" class=\"dataframe\">\n",
       "  <thead>\n",
       "    <tr style=\"text-align: right;\">\n",
       "      <th></th>\n",
       "      <th>Size of the grid</th>\n",
       "      <th>Speed limit in the net (m/s)</th>\n",
       "      <th>Max vehicles speed (m/s)</th>\n",
       "      <th>Length of the roads (m)</th>\n",
       "      <th>Number of lanes</th>\n",
       "      <th>Accelleration (m/s^2)</th>\n",
       "    </tr>\n",
       "  </thead>\n",
       "  <tbody>\n",
       "    <tr>\n",
       "      <th>0</th>\n",
       "      <td>20.0</td>\n",
       "      <td>8.0</td>\n",
       "      <td>5.0</td>\n",
       "      <td>70.0</td>\n",
       "      <td>1.0</td>\n",
       "      <td>5.0</td>\n",
       "    </tr>\n",
       "  </tbody>\n",
       "</table>\n",
       "</div>"
      ],
      "text/plain": [
       "   Size of the grid  Speed limit in the net (m/s)  Max vehicles speed (m/s)  \\\n",
       "0              20.0                           8.0                       5.0   \n",
       "\n",
       "   Length of the roads (m)  Number of lanes  Accelleration (m/s^2)  \n",
       "0                     70.0              1.0                    5.0  "
      ]
     },
     "execution_count": 41,
     "metadata": {},
     "output_type": "execute_result"
    }
   ],
   "source": [
    "results_random_init_df = pd.DataFrame(results_random_init.minimum_location.reshape(1,-1))\n",
    "results_random_init_df.columns = parameters_name\n",
    "results_random_init_df"
   ]
  },
  {
   "cell_type": "code",
   "execution_count": 42,
   "metadata": {},
   "outputs": [
    {
     "data": {
      "text/plain": [
       "5.54770372540081"
      ]
     },
     "execution_count": 42,
     "metadata": {},
     "output_type": "execute_result"
    }
   ],
   "source": [
    "results_random_init.minimum_value"
   ]
  },
  {
   "cell_type": "markdown",
   "metadata": {},
   "source": [
    "### Results on the experimentally designed emulator with model variance"
   ]
  },
  {
   "cell_type": "code",
   "execution_count": 43,
   "metadata": {},
   "outputs": [],
   "source": [
    "results_model_variance = bo_model_variance.get_results()"
   ]
  },
  {
   "cell_type": "code",
   "execution_count": 44,
   "metadata": {},
   "outputs": [
    {
     "data": {
      "text/html": [
       "<div>\n",
       "<style scoped>\n",
       "    .dataframe tbody tr th:only-of-type {\n",
       "        vertical-align: middle;\n",
       "    }\n",
       "\n",
       "    .dataframe tbody tr th {\n",
       "        vertical-align: top;\n",
       "    }\n",
       "\n",
       "    .dataframe thead th {\n",
       "        text-align: right;\n",
       "    }\n",
       "</style>\n",
       "<table border=\"1\" class=\"dataframe\">\n",
       "  <thead>\n",
       "    <tr style=\"text-align: right;\">\n",
       "      <th></th>\n",
       "      <th>Size of the grid</th>\n",
       "      <th>Speed limit in the net (m/s)</th>\n",
       "      <th>Max vehicles speed (m/s)</th>\n",
       "      <th>Length of the roads (m)</th>\n",
       "      <th>Number of lanes</th>\n",
       "      <th>Accelleration (m/s^2)</th>\n",
       "    </tr>\n",
       "  </thead>\n",
       "  <tbody>\n",
       "    <tr>\n",
       "      <th>0</th>\n",
       "      <td>20.0</td>\n",
       "      <td>25.0</td>\n",
       "      <td>5.0</td>\n",
       "      <td>70.0</td>\n",
       "      <td>1.0</td>\n",
       "      <td>1.5</td>\n",
       "    </tr>\n",
       "  </tbody>\n",
       "</table>\n",
       "</div>"
      ],
      "text/plain": [
       "   Size of the grid  Speed limit in the net (m/s)  Max vehicles speed (m/s)  \\\n",
       "0              20.0                          25.0                       5.0   \n",
       "\n",
       "   Length of the roads (m)  Number of lanes  Accelleration (m/s^2)  \n",
       "0                     70.0              1.0                    1.5  "
      ]
     },
     "execution_count": 44,
     "metadata": {},
     "output_type": "execute_result"
    }
   ],
   "source": [
    "results_random_init_df = pd.DataFrame(results_model_variance.minimum_location.reshape(1,-1))\n",
    "results_random_init_df.columns = parameters_name\n",
    "results_random_init_df"
   ]
  },
  {
   "cell_type": "code",
   "execution_count": 45,
   "metadata": {},
   "outputs": [
    {
     "data": {
      "text/plain": [
       "5.469575516984683"
      ]
     },
     "execution_count": 45,
     "metadata": {},
     "output_type": "execute_result"
    }
   ],
   "source": [
    "results_model_variance.minimum_value"
   ]
  },
  {
   "cell_type": "markdown",
   "metadata": {},
   "source": [
    "### Results on the experimentally designed emulator with integrated variance reduction"
   ]
  },
  {
   "cell_type": "code",
   "execution_count": 46,
   "metadata": {},
   "outputs": [],
   "source": [
    "results_integrated_variance = bo_integrated_variance.get_results()"
   ]
  },
  {
   "cell_type": "code",
   "execution_count": 47,
   "metadata": {},
   "outputs": [
    {
     "data": {
      "text/html": [
       "<div>\n",
       "<style scoped>\n",
       "    .dataframe tbody tr th:only-of-type {\n",
       "        vertical-align: middle;\n",
       "    }\n",
       "\n",
       "    .dataframe tbody tr th {\n",
       "        vertical-align: top;\n",
       "    }\n",
       "\n",
       "    .dataframe thead th {\n",
       "        text-align: right;\n",
       "    }\n",
       "</style>\n",
       "<table border=\"1\" class=\"dataframe\">\n",
       "  <thead>\n",
       "    <tr style=\"text-align: right;\">\n",
       "      <th></th>\n",
       "      <th>Size of the grid</th>\n",
       "      <th>Speed limit in the net (m/s)</th>\n",
       "      <th>Max vehicles speed (m/s)</th>\n",
       "      <th>Length of the roads (m)</th>\n",
       "      <th>Number of lanes</th>\n",
       "      <th>Accelleration (m/s^2)</th>\n",
       "    </tr>\n",
       "  </thead>\n",
       "  <tbody>\n",
       "    <tr>\n",
       "      <th>0</th>\n",
       "      <td>20.0</td>\n",
       "      <td>25.0</td>\n",
       "      <td>5.0</td>\n",
       "      <td>70.0</td>\n",
       "      <td>1.0</td>\n",
       "      <td>1.5</td>\n",
       "    </tr>\n",
       "  </tbody>\n",
       "</table>\n",
       "</div>"
      ],
      "text/plain": [
       "   Size of the grid  Speed limit in the net (m/s)  Max vehicles speed (m/s)  \\\n",
       "0              20.0                          25.0                       5.0   \n",
       "\n",
       "   Length of the roads (m)  Number of lanes  Accelleration (m/s^2)  \n",
       "0                     70.0              1.0                    1.5  "
      ]
     },
     "execution_count": 47,
     "metadata": {},
     "output_type": "execute_result"
    }
   ],
   "source": [
    "results_random_init_df = pd.DataFrame(results_integrated_variance.minimum_location.reshape(1,-1))\n",
    "results_random_init_df.columns = parameters_name\n",
    "results_random_init_df"
   ]
  },
  {
   "cell_type": "code",
   "execution_count": 48,
   "metadata": {},
   "outputs": [
    {
     "data": {
      "text/plain": [
       "5.469575516984683"
      ]
     },
     "execution_count": 48,
     "metadata": {},
     "output_type": "execute_result"
    }
   ],
   "source": [
    "results_integrated_variance.minimum_value"
   ]
  },
  {
   "cell_type": "markdown",
   "metadata": {},
   "source": [
    "## Save stuff"
   ]
  },
  {
   "cell_type": "code",
   "execution_count": 26,
   "metadata": {},
   "outputs": [],
   "source": [
    "with open(f'bayesian_optimization/bayesian_opt_results/results_random_init_emissions.pkl', \"wb\") as f:\n",
    "     pickle.dump(results_random_init, f)\n",
    "\n",
    "with open(f'bayesian_optimization/bayesian_opt_results/results_model_variance_emissions.pkl', \"wb\") as f:\n",
    "     pickle.dump(results_model_variance, f)\n",
    "        \n",
    "with open(f'bayesian_optimization/bayesian_opt_results/results_integrated_variance_emissions.pkl', \"wb\") as f:\n",
    "     pickle.dump(results_integrated_variance, f)"
   ]
  }
 ],
 "metadata": {
  "kernelspec": {
   "display_name": "ml_and_physical",
   "language": "python",
   "name": "ml_and_physical"
  },
  "language_info": {
   "codemirror_mode": {
    "name": "ipython",
    "version": 3
   },
   "file_extension": ".py",
   "mimetype": "text/x-python",
   "name": "python",
   "nbconvert_exporter": "python",
   "pygments_lexer": "ipython3",
   "version": "3.8.5"
  }
 },
 "nbformat": 4,
 "nbformat_minor": 4
}
