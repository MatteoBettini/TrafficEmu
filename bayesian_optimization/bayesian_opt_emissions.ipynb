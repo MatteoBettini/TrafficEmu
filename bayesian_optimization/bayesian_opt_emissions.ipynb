{
 "cells": [
  {
   "cell_type": "code",
   "execution_count": 1,
   "metadata": {},
   "outputs": [
    {
     "name": "stdout",
     "output_type": "stream",
     "text": [
      "/Users/Matteo/PycharmProjects/TrafficEmu\n"
     ]
    }
   ],
   "source": [
    "%cd .."
   ]
  },
  {
   "cell_type": "markdown",
   "metadata": {},
   "source": [
    "# Bayesian optimization: finding the minimum emission"
   ]
  },
  {
   "cell_type": "markdown",
   "metadata": {},
   "source": [
    "In this notebook we will performing bayesian optimization on the emulator trained on our sumo simulation. We are interested in identifying the parameters which enable us to obtain the minimum travel time. Our emulator is a gaussian process with an **rbf** kernel.\n"
   ]
  },
  {
   "cell_type": "markdown",
   "metadata": {},
   "source": [
    "## Imports"
   ]
  },
  {
   "cell_type": "code",
   "execution_count": 2,
   "metadata": {},
   "outputs": [
    {
     "name": "stdout",
     "output_type": "stream",
     "text": [
      "warning in stationary: failed to import cython module: falling back to numpy\n",
      "warning in coregionalize: failed to import cython module: falling back to numpy\n",
      "warning in choleskies: failed to import cython module: falling back to numpy\n"
     ]
    }
   ],
   "source": [
    "import pickle\n",
    "import numpy as np\n",
    "import emukit as ek\n",
    "import GPy\n",
    "\n",
    "from emukit.model_wrappers import GPyModelWrapper\n",
    "from emukit.core.initial_designs import RandomDesign\n",
    "from emukit.core import ParameterSpace, ContinuousParameter, DiscreteParameter\n",
    "from emukit.bayesian_optimization.acquisitions import ExpectedImprovement\n",
    "from emukit.bayesian_optimization.loops import BayesianOptimizationLoop\n",
    "\n",
    "from experimental_design import config\n",
    "from sumo_grid_simulation.grid_simulation import Simulator"
   ]
  },
  {
   "cell_type": "markdown",
   "metadata": {},
   "source": [
    "## Simulator"
   ]
  },
  {
   "cell_type": "markdown",
   "metadata": {},
   "source": [
    "We start by initialising our simulation."
   ]
  },
  {
   "cell_type": "code",
   "execution_count": 3,
   "metadata": {},
   "outputs": [],
   "source": [
    "simulator = Simulator(end_time=300)"
   ]
  },
  {
   "cell_type": "markdown",
   "metadata": {},
   "source": [
    "We then define the two user functions in which we are interested:"
   ]
  },
  {
   "cell_type": "code",
   "execution_count": 4,
   "metadata": {},
   "outputs": [],
   "source": [
    "def user_function_emissions(X):\n",
    "    \"\"\"  X = inputs - emukit doesnt pass named args, just an NxM ndarray, N is the number of points to evaluate, M is the number of parameters per each point \"\"\"\n",
    "    result = []\n",
    "    i = 0\n",
    "    \n",
    "    print(X)\n",
    "    print(f'\\nUser function emissions called with {X.shape[0]} inputs to simulate')\n",
    "\n",
    "    \n",
    "    for gridSize, edgeMaxSpeed, numLanes, accel in X:\n",
    "        print(f'\\nEvaluating input: {i+1} of {X.shape[0]}\\n')\n",
    "        \n",
    "        alpha = 0.005\n",
    "        max_number_of_vehicles = ((gridSize - 1) * gridSize * 2 + 4 * gridSize) * 50 / 5\n",
    "        period = 300/(max_number_of_vehicles * alpha)\n",
    "        \n",
    "        s = simulator.simulate(\n",
    "            gridSize      = int(gridSize),\n",
    "            edgeMaxSpeed  = edgeMaxSpeed,\n",
    "            numberOfLanes = int(numLanes),\n",
    "            accel         = accel,\n",
    "            trips_generator_period = period\n",
    "        )\n",
    "        # average co2 / average route duration\n",
    "        CO2 = s['CO2']/s['num_emissions_samples']\n",
    "        # average emissions / average route length\n",
    "        result.append(CO2/s['duration'])\n",
    "        i += 1\n",
    "        \n",
    "    # expand dims is essential or the acquition function breaks\n",
    "    return np.expand_dims(np.array(result), 1)  "
   ]
  },
  {
   "cell_type": "markdown",
   "metadata": {
    "pycharm": {
     "name": "#%% md\n"
    }
   },
   "source": [
    "We then load the parameters' space from our configuration file:"
   ]
  },
  {
   "cell_type": "code",
   "execution_count": 5,
   "metadata": {
    "pycharm": {
     "name": "#%%\n"
    }
   },
   "outputs": [],
   "source": [
    "gridSize = DiscreteParameter('gridSize', domain=[3, 4, 5, 6, 7, 8, 9, 10])\n",
    "edgeMaxSpeed = ContinuousParameter('edgeMaxSpeed', min_value=8, max_value=20)  # 28.8 km/h to 72 km/h\n",
    "numberOfLanes = DiscreteParameter('numberOfLanes', domain=[1, 2, 3])\n",
    "accel = ContinuousParameter('accel', 1., 3.)\n",
    "\n",
    "parameter_space = ParameterSpace([gridSize, edgeMaxSpeed, numberOfLanes, accel])\n",
    "#parameter_space = config.get_parameter_space()"
   ]
  },
  {
   "cell_type": "markdown",
   "metadata": {
    "pycharm": {
     "name": "#%% md\n"
    }
   },
   "source": [
    "## Emulator"
   ]
  },
  {
   "cell_type": "markdown",
   "metadata": {},
   "source": [
    "### Rnadomly initialised emulator"
   ]
  },
  {
   "cell_type": "markdown",
   "metadata": {},
   "source": [
    "The first emulator we are going to analyse is the one that is just initilised with random points"
   ]
  },
  {
   "cell_type": "markdown",
   "metadata": {},
   "source": [
    "We first sample at random 200 datapoints from the parameter space:"
   ]
  },
  {
   "cell_type": "code",
   "execution_count": 6,
   "metadata": {
    "pycharm": {
     "name": "#%%\n"
    }
   },
   "outputs": [
    {
     "name": "stdout",
     "output_type": "stream",
     "text": [
      "[[10.         14.3941175   3.          2.40989451]\n",
      " [ 6.         16.50534565  2.          2.32691315]\n",
      " [ 3.          9.48907108  1.          1.31720028]\n",
      " [ 7.         18.89699467  2.          1.51799023]\n",
      " [ 3.         17.32917171  2.          2.2122406 ]\n",
      " [ 5.          9.46855122  1.          2.13461924]\n",
      " [ 7.          9.06985734  1.          2.15313339]\n",
      " [ 9.         15.68064139  3.          1.78260641]\n",
      " [ 3.         16.26846333  1.          1.27120255]\n",
      " [ 4.         16.74902719  1.          2.89326729]\n",
      " [ 9.         17.14986084  3.          2.45904413]\n",
      " [ 9.         12.70028713  3.          2.65184914]\n",
      " [ 7.         19.1526701   1.          1.73478691]\n",
      " [ 4.         18.58545858  1.          1.06861139]\n",
      " [ 4.         10.36490701  3.          1.32492648]\n",
      " [ 3.         13.40256781  1.          1.22098735]\n",
      " [ 4.         13.67923539  1.          1.58760885]\n",
      " [ 7.         12.58067027  1.          2.63925179]\n",
      " [ 7.         10.17494264  3.          1.90317068]\n",
      " [ 4.         12.47105278  1.          1.4837601 ]\n",
      " [ 6.         11.51420661  1.          1.49675598]\n",
      " [ 8.         17.6607588   2.          1.28794392]\n",
      " [ 8.         14.86789571  2.          1.82635137]\n",
      " [ 6.         11.12841083  2.          1.61318506]\n",
      " [ 4.         15.85242687  3.          2.1837339 ]\n",
      " [ 7.         15.78037471  1.          2.60795026]\n",
      " [10.          9.8389554   3.          1.03198123]\n",
      " [10.         14.94603383  1.          2.13299414]\n",
      " [10.         19.18403679  3.          2.3089326 ]\n",
      " [ 9.          8.91544636  3.          2.26439405]\n",
      " [ 8.         19.30374495  3.          2.77369228]\n",
      " [ 6.         16.7233733   1.          1.67239894]\n",
      " [ 6.         17.84047341  3.          2.85056122]\n",
      " [ 9.         15.36672853  3.          2.96923908]\n",
      " [ 5.         17.77956412  3.          1.35992278]\n",
      " [ 6.         11.6168867   1.          1.60787523]\n",
      " [ 6.         13.88087848  3.          1.97126597]\n",
      " [ 3.         19.97398016  3.          2.94870322]\n",
      " [ 6.          9.00454217  2.          1.21212308]\n",
      " [ 5.         18.86481714  1.          2.88870071]\n",
      " [ 6.         19.4438675   1.          1.91636003]\n",
      " [ 5.         17.48942148  2.          1.9445587 ]\n",
      " [ 5.         10.62832325  3.          1.74398014]\n",
      " [ 8.         17.37592947  1.          1.28769986]\n",
      " [ 3.         13.25544322  1.          1.39173636]\n",
      " [ 5.         13.64515817  3.          1.61894834]\n",
      " [ 8.         17.27737985  3.          2.16028401]\n",
      " [ 8.         12.39626419  1.          2.92189188]\n",
      " [ 6.          9.19185884  2.          2.33261826]\n",
      " [ 5.         19.63317369  1.          2.3082633 ]\n",
      " [10.         19.02343151  1.          2.67619366]\n",
      " [ 6.         11.87830632  1.          2.65352599]\n",
      " [ 5.         14.53978881  1.          1.58719479]\n",
      " [ 4.          9.58620026  3.          2.77619996]\n",
      " [ 8.         17.60350968  1.          2.59068111]\n",
      " [ 3.          9.63800196  2.          1.48902868]\n",
      " [ 7.         12.69549496  2.          2.91055035]\n",
      " [ 9.         12.47640006  3.          2.2526306 ]\n",
      " [ 9.          8.81034123  3.          1.00055797]\n",
      " [ 9.         10.11755717  2.          1.79619513]\n",
      " [ 7.         12.21620989  3.          2.9738886 ]\n",
      " [ 4.         18.99078451  2.          1.03666818]\n",
      " [ 6.         16.26955787  1.          2.72430183]\n",
      " [ 7.         19.21172931  2.          2.35437951]\n",
      " [10.         16.42338697  2.          2.40594872]\n",
      " [10.         18.88293877  1.          2.99963323]\n",
      " [ 4.         10.90291584  2.          2.6018682 ]\n",
      " [ 7.         10.82620603  3.          1.33921764]\n",
      " [ 3.         14.80897565  1.          1.49688246]\n",
      " [ 7.         13.90041986  2.          2.56831667]\n",
      " [ 7.         11.62512906  3.          1.9004334 ]\n",
      " [ 3.         15.60813358  2.          1.77911333]\n",
      " [ 5.         11.95184829  2.          1.70499703]\n",
      " [ 7.          9.12462475  2.          2.18414822]\n",
      " [ 6.         15.31820494  1.          1.9936877 ]\n",
      " [ 3.          8.3032897   1.          2.16050446]\n",
      " [ 3.         14.84823749  2.          2.18458659]\n",
      " [10.         13.41329644  1.          1.04714616]\n",
      " [ 3.         10.08820179  2.          1.80758353]\n",
      " [ 4.         11.99647762  2.          1.34353413]\n",
      " [10.         14.76031261  1.          1.72025965]\n",
      " [ 8.          8.30367532  1.          2.44174385]\n",
      " [ 6.         10.57477022  1.          1.40070237]\n",
      " [10.         10.14408718  3.          2.95909147]\n",
      " [ 4.          8.97492489  2.          2.62621914]\n",
      " [ 6.         17.55226488  1.          2.31164511]\n",
      " [10.         12.40921358  3.          2.15051899]\n",
      " [ 9.         17.00091614  3.          1.46750277]\n",
      " [ 5.         18.35013892  3.          2.32526662]\n",
      " [ 6.         14.13339782  2.          2.7213781 ]\n",
      " [10.         14.24192634  2.          2.55075437]\n",
      " [10.         19.40316973  2.          2.20442497]\n",
      " [ 3.         18.12902796  3.          2.15621705]\n",
      " [ 3.         15.45149384  2.          2.29240274]\n",
      " [10.         18.46943889  2.          1.52843652]\n",
      " [ 5.         12.17631003  3.          1.49339168]\n",
      " [ 7.         12.25831319  2.          1.93236877]\n",
      " [ 8.         16.74597691  1.          1.76831346]\n",
      " [ 7.          9.84912178  1.          2.83881225]\n",
      " [ 8.         19.58804987  3.          2.29062253]\n",
      " [ 3.         18.07119939  1.          2.64744065]\n",
      " [ 9.         17.57864438  3.          1.59132727]\n",
      " [ 4.          8.61717611  1.          2.64112081]\n",
      " [ 8.         13.62515304  1.          2.19702135]\n",
      " [ 5.          8.05698524  1.          2.34481188]\n",
      " [ 7.         15.34798165  1.          2.76754865]\n",
      " [ 5.         14.7840667   3.          2.00207402]\n",
      " [10.         11.22467304  1.          1.43044504]\n",
      " [ 4.         15.10006976  3.          1.66112512]\n",
      " [ 5.          8.38021517  3.          2.48499912]\n",
      " [ 6.         11.8629088   2.          2.25833799]\n",
      " [ 7.         14.7887681   1.          1.1165097 ]\n",
      " [ 9.         11.00104457  2.          1.39853928]\n",
      " [ 3.         10.83608808  1.          1.39216696]\n",
      " [10.         15.20017389  2.          1.94187147]\n",
      " [ 4.         18.18183457  2.          1.25109299]\n",
      " [10.         17.42537841  2.          1.4818438 ]\n",
      " [ 4.         11.99810969  1.          1.66802079]\n",
      " [ 9.         12.74914836  2.          1.24329648]\n",
      " [ 7.         19.98666919  1.          2.57240295]\n",
      " [ 3.         17.01649536  1.          2.33603992]\n",
      " [ 9.         17.44875574  3.          2.76894374]\n",
      " [ 3.         18.69860069  1.          1.61320549]\n",
      " [ 7.          9.54701504  3.          2.65400174]\n",
      " [ 4.         15.03013918  1.          1.45160736]\n",
      " [ 8.         19.95141776  3.          2.56095511]\n",
      " [ 5.         11.36389404  1.          2.9976941 ]\n",
      " [10.         18.64729395  3.          2.98402506]\n",
      " [10.          8.99296644  1.          2.37546833]\n",
      " [10.         12.90548921  1.          1.40473836]\n",
      " [ 4.         13.83346627  2.          1.27726866]\n",
      " [ 4.         13.30964734  1.          1.5858844 ]\n",
      " [ 7.         10.45411793  2.          2.0041691 ]\n",
      " [ 7.         14.43826043  1.          1.44364003]\n",
      " [ 5.         12.85848673  2.          2.76559897]\n",
      " [ 8.         19.10258059  3.          1.80973287]\n",
      " [ 6.         18.51827622  2.          2.24016835]\n",
      " [ 6.         11.55837548  3.          2.48921739]\n",
      " [ 9.          8.79491296  3.          1.57806475]\n",
      " [ 4.         13.03954066  1.          1.64290462]\n",
      " [ 6.         12.29281755  1.          2.17882639]\n",
      " [ 5.         14.86687571  2.          1.59216486]\n",
      " [ 7.         15.17984558  2.          2.51008887]\n",
      " [10.         17.68264397  2.          2.32548451]\n",
      " [ 7.         16.31805296  1.          2.98420519]\n",
      " [ 5.         14.37273152  2.          1.8185146 ]\n",
      " [ 7.         12.27974923  2.          1.18585386]\n",
      " [ 7.         18.82472286  1.          1.80358495]\n",
      " [ 8.         18.52311359  2.          1.2318145 ]\n",
      " [ 8.          8.22092078  1.          2.63168534]\n",
      " [ 5.          8.20412162  1.          1.1657571 ]\n",
      " [ 4.         14.66982519  3.          2.78729781]\n",
      " [ 8.          9.58862674  1.          2.9106298 ]\n",
      " [ 7.         11.19659877  1.          1.79657485]\n",
      " [ 7.         10.97537955  3.          1.29156207]\n",
      " [ 5.         11.36140945  1.          1.92513628]\n",
      " [ 3.         17.3436653   3.          2.21493635]\n",
      " [ 4.         19.52166699  3.          1.70768999]\n",
      " [ 5.         13.20651467  2.          1.52328104]\n",
      " [10.         16.70413253  1.          1.0342478 ]\n",
      " [ 9.         12.50896285  2.          2.53686371]\n",
      " [10.         15.9033493   3.          2.91934297]\n",
      " [10.         10.20734966  2.          2.73997924]\n",
      " [10.         11.18599274  2.          1.98092262]\n",
      " [ 9.         13.07105638  1.          1.66395079]\n",
      " [ 4.         16.60818637  3.          2.16514247]\n",
      " [ 3.         14.49918666  3.          1.5017994 ]\n",
      " [ 3.         17.02319663  1.          2.89050125]\n",
      " [ 8.         19.20336402  1.          2.38786302]\n",
      " [ 5.         18.12927512  1.          1.85362601]\n",
      " [ 8.         15.11380286  1.          2.73661703]\n",
      " [ 4.         10.89311006  3.          2.98062185]\n",
      " [ 3.         18.49772566  3.          2.77007328]\n",
      " [10.         17.04672933  3.          1.48208287]\n",
      " [ 6.         18.81515898  1.          2.07264312]\n",
      " [ 8.         12.74276899  3.          2.22241241]\n",
      " [ 5.         18.4766447   2.          1.44210005]\n",
      " [ 4.         18.4978741   1.          1.08793929]\n",
      " [ 6.         12.60313697  3.          1.66008323]\n",
      " [ 8.         12.69409044  2.          2.74411807]\n",
      " [ 8.          8.15435743  3.          1.72814032]\n",
      " [ 7.         18.47677433  2.          2.31034297]\n",
      " [ 3.         11.16314981  1.          1.2505484 ]\n",
      " [ 5.         17.10445122  1.          1.14328935]\n",
      " [ 6.         14.76406578  3.          1.79233671]\n",
      " [10.         16.60421434  3.          1.14891912]\n",
      " [ 7.         10.34786155  2.          1.55825784]\n",
      " [ 6.         17.42253029  2.          2.65996609]\n",
      " [ 4.         18.80039218  1.          1.67193211]\n",
      " [ 8.         17.28811525  1.          2.327249  ]\n",
      " [ 8.         15.26564821  3.          2.2669016 ]\n",
      " [ 3.         14.68569153  1.          1.65896198]\n",
      " [ 6.          8.18511282  2.          1.54749273]\n",
      " [ 4.         16.22465128  3.          1.74070199]\n",
      " [ 5.         11.05508313  2.          1.76163521]\n",
      " [ 4.         17.15198833  2.          2.05383974]\n",
      " [10.          8.81816473  3.          1.81081029]\n",
      " [ 5.         15.64772068  2.          1.46283878]\n",
      " [ 9.         16.78684223  1.          2.24642868]\n",
      " [ 7.          8.5277424   3.          1.41539486]\n",
      " [ 7.         18.6265647   1.          2.95766775]\n",
      " [ 6.         13.47235597  2.          1.25583651]\n",
      " [10.         17.55527836  3.          2.66668045]\n",
      " [ 5.          9.44538094  1.          2.5958916 ]\n",
      " [ 6.         15.22475979  1.          2.66480307]\n",
      " [ 3.         16.80260009  2.          1.27811742]\n",
      " [ 4.         15.7383557   2.          1.08429299]\n",
      " [ 4.         13.7143768   1.          2.21163998]\n",
      " [ 5.         15.92386984  2.          2.02281802]\n",
      " [ 5.         12.11099034  2.          1.40670687]\n",
      " [ 5.         19.70330229  3.          1.5244103 ]\n",
      " [ 5.         14.48245119  1.          1.88659904]\n",
      " [ 6.         16.79191613  3.          2.36118098]\n",
      " [ 3.         14.93333012  2.          2.10169923]\n",
      " [10.         10.60023552  1.          2.0469903 ]\n",
      " [ 6.         10.08244088  1.          1.29708198]\n",
      " [ 4.         16.25128503  3.          1.91700189]\n",
      " [ 8.         14.29336526  3.          1.82253678]\n",
      " [ 5.         11.30942239  1.          1.90278035]\n",
      " [ 8.         13.93055156  3.          1.65028126]\n",
      " [ 6.          9.16353069  3.          2.54596661]\n",
      " [ 8.         17.86957136  1.          2.22274899]\n",
      " [ 6.         10.32995266  3.          2.68522953]\n",
      " [ 5.         17.51212988  1.          2.23866064]\n",
      " [10.          9.97458611  1.          2.36288034]\n",
      " [ 5.          8.52806044  2.          2.12445207]\n",
      " [ 8.         15.31086163  3.          1.3956334 ]\n",
      " [ 7.         15.32093237  1.          2.7164105 ]\n",
      " [ 6.         14.58871222  1.          1.35551102]\n",
      " [ 3.         12.84231612  3.          1.85412576]\n",
      " [ 6.         15.86439291  1.          2.86121365]\n",
      " [ 8.         17.48119981  2.          1.2436135 ]\n",
      " [ 9.         15.86201767  2.          1.05458056]\n",
      " [ 3.         19.16052775  2.          1.40418104]\n",
      " [ 9.         10.74391403  1.          1.58716687]\n",
      " [ 4.         13.48324955  1.          2.78429184]\n",
      " [ 8.         18.81984384  1.          1.74274072]\n",
      " [ 6.          9.4323552   3.          2.36035979]\n",
      " [10.          9.64648781  2.          1.79641988]\n",
      " [ 7.         12.30523214  1.          2.95551179]\n",
      " [ 9.          9.21228781  1.          1.32199565]\n",
      " [ 5.          9.46000447  2.          1.165623  ]\n",
      " [ 3.         18.5813942   3.          2.77804312]\n",
      " [ 3.         12.53275442  2.          2.61282867]\n",
      " [ 7.         14.82609102  2.          2.81743201]\n",
      " [ 7.         16.65700807  2.          1.90816554]\n",
      " [ 7.         16.95141792  3.          1.98307154]\n",
      " [ 6.          8.74751214  1.          1.74428633]\n",
      " [ 7.          9.55390725  1.          2.74049304]\n",
      " [ 8.         17.00610106  3.          1.71284269]]\n",
      "\n",
      "User function emissions called with 250 inputs to simulate\n",
      "\n",
      "Evaluating input: 1 of 250\n",
      "\n"
     ]
    },
    {
     "name": "stdout",
     "output_type": "stream",
     "text": [
      " Retrying in 1 seconds\n",
      "\n",
      "Evaluating input: 2 of 250\n",
      "\n",
      " Retrying in 1 seconds\n",
      "\n",
      "Evaluating input: 3 of 250\n",
      "\n",
      " Retrying in 1 seconds\n",
      "\n",
      "Evaluating input: 4 of 250\n",
      "\n",
      " Retrying in 1 seconds\n",
      "\n",
      "Evaluating input: 5 of 250\n",
      "\n",
      " Retrying in 1 seconds\n",
      "\n",
      "Evaluating input: 6 of 250\n",
      "\n",
      " Retrying in 1 seconds\n",
      "\n",
      "Evaluating input: 7 of 250\n",
      "\n",
      " Retrying in 1 seconds\n",
      "\n",
      "Evaluating input: 8 of 250\n",
      "\n",
      " Retrying in 1 seconds\n",
      "\n",
      "Evaluating input: 9 of 250\n",
      "\n",
      " Retrying in 1 seconds\n",
      "\n",
      "Evaluating input: 10 of 250\n",
      "\n",
      " Retrying in 1 seconds\n",
      "\n",
      "Evaluating input: 11 of 250\n",
      "\n",
      " Retrying in 1 seconds\n",
      "\n",
      "Evaluating input: 12 of 250\n",
      "\n",
      " Retrying in 1 seconds\n",
      "\n",
      "Evaluating input: 13 of 250\n",
      "\n",
      " Retrying in 1 seconds\n",
      "\n",
      "Evaluating input: 14 of 250\n",
      "\n",
      " Retrying in 1 seconds\n",
      "\n",
      "Evaluating input: 15 of 250\n",
      "\n",
      " Retrying in 1 seconds\n",
      "\n",
      "Evaluating input: 16 of 250\n",
      "\n",
      " Retrying in 1 seconds\n",
      "\n",
      "Evaluating input: 17 of 250\n",
      "\n",
      " Retrying in 1 seconds\n",
      "\n",
      "Evaluating input: 18 of 250\n",
      "\n",
      " Retrying in 1 seconds\n",
      "\n",
      "Evaluating input: 19 of 250\n",
      "\n",
      " Retrying in 1 seconds\n",
      "\n",
      "Evaluating input: 20 of 250\n",
      "\n",
      " Retrying in 1 seconds\n",
      "\n",
      "Evaluating input: 21 of 250\n",
      "\n",
      " Retrying in 1 seconds\n",
      "\n",
      "Evaluating input: 22 of 250\n",
      "\n",
      " Retrying in 1 seconds\n",
      "\n",
      "Evaluating input: 23 of 250\n",
      "\n",
      " Retrying in 1 seconds\n",
      "\n",
      "Evaluating input: 24 of 250\n",
      "\n",
      " Retrying in 1 seconds\n",
      "\n",
      "Evaluating input: 25 of 250\n",
      "\n",
      " Retrying in 1 seconds\n",
      "\n",
      "Evaluating input: 26 of 250\n",
      "\n",
      " Retrying in 1 seconds\n",
      "\n",
      "Evaluating input: 27 of 250\n",
      "\n",
      " Retrying in 1 seconds\n",
      "\n",
      "Evaluating input: 28 of 250\n",
      "\n",
      " Retrying in 1 seconds\n",
      "\n",
      "Evaluating input: 29 of 250\n",
      "\n",
      " Retrying in 1 seconds\n",
      "\n",
      "Evaluating input: 30 of 250\n",
      "\n",
      " Retrying in 1 seconds\n",
      "\n",
      "Evaluating input: 31 of 250\n",
      "\n",
      " Retrying in 1 seconds\n",
      "\n",
      "Evaluating input: 32 of 250\n",
      "\n",
      " Retrying in 1 seconds\n",
      "\n",
      "Evaluating input: 33 of 250\n",
      "\n",
      " Retrying in 1 seconds\n",
      "\n",
      "Evaluating input: 34 of 250\n",
      "\n",
      " Retrying in 1 seconds\n",
      "\n",
      "Evaluating input: 35 of 250\n",
      "\n",
      " Retrying in 1 seconds\n",
      "\n",
      "Evaluating input: 36 of 250\n",
      "\n",
      " Retrying in 1 seconds\n",
      "\n",
      "Evaluating input: 37 of 250\n",
      "\n",
      " Retrying in 1 seconds\n",
      "\n",
      "Evaluating input: 38 of 250\n",
      "\n",
      " Retrying in 1 seconds\n",
      "\n",
      "Evaluating input: 39 of 250\n",
      "\n",
      " Retrying in 1 seconds\n",
      "\n",
      "Evaluating input: 40 of 250\n",
      "\n",
      " Retrying in 1 seconds\n",
      "\n",
      "Evaluating input: 41 of 250\n",
      "\n",
      " Retrying in 1 seconds\n",
      "\n",
      "Evaluating input: 42 of 250\n",
      "\n",
      " Retrying in 1 seconds\n",
      "\n",
      "Evaluating input: 43 of 250\n",
      "\n",
      " Retrying in 1 seconds\n",
      "\n",
      "Evaluating input: 44 of 250\n",
      "\n",
      " Retrying in 1 seconds\n",
      "\n",
      "Evaluating input: 45 of 250\n",
      "\n",
      " Retrying in 1 seconds\n",
      "\n",
      "Evaluating input: 46 of 250\n",
      "\n",
      " Retrying in 1 seconds\n",
      "\n",
      "Evaluating input: 47 of 250\n",
      "\n",
      " Retrying in 1 seconds\n",
      "\n",
      "Evaluating input: 48 of 250\n",
      "\n",
      " Retrying in 1 seconds\n",
      "\n",
      "Evaluating input: 49 of 250\n",
      "\n",
      " Retrying in 1 seconds\n",
      "\n",
      "Evaluating input: 50 of 250\n",
      "\n",
      " Retrying in 1 seconds\n",
      "\n",
      "Evaluating input: 51 of 250\n",
      "\n",
      " Retrying in 1 seconds\n",
      "\n",
      "Evaluating input: 52 of 250\n",
      "\n",
      " Retrying in 1 seconds\n",
      "\n",
      "Evaluating input: 53 of 250\n",
      "\n",
      " Retrying in 1 seconds\n",
      "\n",
      "Evaluating input: 54 of 250\n",
      "\n",
      " Retrying in 1 seconds\n",
      "\n",
      "Evaluating input: 55 of 250\n",
      "\n",
      " Retrying in 1 seconds\n",
      "\n",
      "Evaluating input: 56 of 250\n",
      "\n",
      " Retrying in 1 seconds\n",
      "\n",
      "Evaluating input: 57 of 250\n",
      "\n",
      " Retrying in 1 seconds\n",
      "\n",
      "Evaluating input: 58 of 250\n",
      "\n",
      " Retrying in 1 seconds\n",
      "\n",
      "Evaluating input: 59 of 250\n",
      "\n",
      " Retrying in 1 seconds\n",
      "\n",
      "Evaluating input: 60 of 250\n",
      "\n",
      " Retrying in 1 seconds\n",
      "\n",
      "Evaluating input: 61 of 250\n",
      "\n",
      " Retrying in 1 seconds\n",
      "\n",
      "Evaluating input: 62 of 250\n",
      "\n",
      " Retrying in 1 seconds\n",
      "\n",
      "Evaluating input: 63 of 250\n",
      "\n",
      " Retrying in 1 seconds\n",
      "\n",
      "Evaluating input: 64 of 250\n",
      "\n",
      " Retrying in 1 seconds\n",
      "\n",
      "Evaluating input: 65 of 250\n",
      "\n",
      " Retrying in 1 seconds\n",
      "\n",
      "Evaluating input: 66 of 250\n",
      "\n",
      " Retrying in 1 seconds\n",
      "\n",
      "Evaluating input: 67 of 250\n",
      "\n",
      " Retrying in 1 seconds\n",
      "\n",
      "Evaluating input: 68 of 250\n",
      "\n",
      " Retrying in 1 seconds\n",
      "\n",
      "Evaluating input: 69 of 250\n",
      "\n",
      " Retrying in 1 seconds\n",
      "\n",
      "Evaluating input: 70 of 250\n",
      "\n",
      " Retrying in 1 seconds\n",
      "\n",
      "Evaluating input: 71 of 250\n",
      "\n",
      " Retrying in 1 seconds\n",
      "\n",
      "Evaluating input: 72 of 250\n",
      "\n",
      " Retrying in 1 seconds\n",
      "\n",
      "Evaluating input: 73 of 250\n",
      "\n",
      " Retrying in 1 seconds\n",
      "\n",
      "Evaluating input: 74 of 250\n",
      "\n",
      " Retrying in 1 seconds\n",
      "\n",
      "Evaluating input: 75 of 250\n",
      "\n",
      " Retrying in 1 seconds\n",
      "\n",
      "Evaluating input: 76 of 250\n",
      "\n",
      " Retrying in 1 seconds\n",
      "\n",
      "Evaluating input: 77 of 250\n",
      "\n",
      " Retrying in 1 seconds\n",
      "\n",
      "Evaluating input: 78 of 250\n",
      "\n",
      " Retrying in 1 seconds\n",
      "\n",
      "Evaluating input: 79 of 250\n",
      "\n",
      " Retrying in 1 seconds\n",
      "\n",
      "Evaluating input: 80 of 250\n",
      "\n",
      " Retrying in 1 seconds\n",
      "\n",
      "Evaluating input: 81 of 250\n",
      "\n",
      " Retrying in 1 seconds\n",
      "\n",
      "Evaluating input: 82 of 250\n",
      "\n",
      " Retrying in 1 seconds\n",
      "\n",
      "Evaluating input: 83 of 250\n",
      "\n",
      " Retrying in 1 seconds\n",
      "\n",
      "Evaluating input: 84 of 250\n",
      "\n",
      " Retrying in 1 seconds\n",
      "\n",
      "Evaluating input: 85 of 250\n",
      "\n",
      " Retrying in 1 seconds\n",
      "\n",
      "Evaluating input: 86 of 250\n",
      "\n",
      " Retrying in 1 seconds\n",
      "\n",
      "Evaluating input: 87 of 250\n",
      "\n",
      " Retrying in 1 seconds\n",
      "\n",
      "Evaluating input: 88 of 250\n",
      "\n",
      " Retrying in 1 seconds\n",
      "\n",
      "Evaluating input: 89 of 250\n",
      "\n",
      " Retrying in 1 seconds\n",
      "\n",
      "Evaluating input: 90 of 250\n",
      "\n",
      " Retrying in 1 seconds\n",
      "\n",
      "Evaluating input: 91 of 250\n",
      "\n",
      " Retrying in 1 seconds\n",
      "\n",
      "Evaluating input: 92 of 250\n",
      "\n",
      " Retrying in 1 seconds\n",
      "\n",
      "Evaluating input: 93 of 250\n",
      "\n",
      " Retrying in 1 seconds\n",
      "\n",
      "Evaluating input: 94 of 250\n",
      "\n",
      " Retrying in 1 seconds\n",
      "\n",
      "Evaluating input: 95 of 250\n",
      "\n",
      " Retrying in 1 seconds\n",
      "\n",
      "Evaluating input: 96 of 250\n",
      "\n",
      " Retrying in 1 seconds\n",
      "\n",
      "Evaluating input: 97 of 250\n",
      "\n",
      " Retrying in 1 seconds\n",
      "\n",
      "Evaluating input: 98 of 250\n",
      "\n",
      " Retrying in 1 seconds\n",
      "\n",
      "Evaluating input: 99 of 250\n",
      "\n",
      " Retrying in 1 seconds\n",
      "\n",
      "Evaluating input: 100 of 250\n",
      "\n",
      " Retrying in 1 seconds\n",
      "\n",
      "Evaluating input: 101 of 250\n",
      "\n",
      " Retrying in 1 seconds\n",
      "\n",
      "Evaluating input: 102 of 250\n",
      "\n",
      " Retrying in 1 seconds\n",
      "\n",
      "Evaluating input: 103 of 250\n",
      "\n",
      " Retrying in 1 seconds\n",
      "\n",
      "Evaluating input: 104 of 250\n",
      "\n",
      " Retrying in 1 seconds\n",
      "\n",
      "Evaluating input: 105 of 250\n",
      "\n",
      " Retrying in 1 seconds\n",
      "\n",
      "Evaluating input: 106 of 250\n",
      "\n",
      " Retrying in 1 seconds\n",
      "\n",
      "Evaluating input: 107 of 250\n",
      "\n",
      " Retrying in 1 seconds\n",
      "\n",
      "Evaluating input: 108 of 250\n",
      "\n",
      " Retrying in 1 seconds\n",
      "\n",
      "Evaluating input: 109 of 250\n",
      "\n",
      " Retrying in 1 seconds\n",
      "\n",
      "Evaluating input: 110 of 250\n",
      "\n",
      " Retrying in 1 seconds\n",
      "\n",
      "Evaluating input: 111 of 250\n",
      "\n",
      " Retrying in 1 seconds\n",
      "\n",
      "Evaluating input: 112 of 250\n",
      "\n",
      " Retrying in 1 seconds\n",
      "\n",
      "Evaluating input: 113 of 250\n",
      "\n",
      " Retrying in 1 seconds\n",
      "\n",
      "Evaluating input: 114 of 250\n",
      "\n",
      " Retrying in 1 seconds\n",
      "\n",
      "Evaluating input: 115 of 250\n",
      "\n",
      " Retrying in 1 seconds\n",
      "\n",
      "Evaluating input: 116 of 250\n",
      "\n",
      " Retrying in 1 seconds\n",
      "\n",
      "Evaluating input: 117 of 250\n",
      "\n",
      " Retrying in 1 seconds\n",
      "\n",
      "Evaluating input: 118 of 250\n",
      "\n",
      " Retrying in 1 seconds\n",
      "\n",
      "Evaluating input: 119 of 250\n",
      "\n",
      " Retrying in 1 seconds\n",
      "\n",
      "Evaluating input: 120 of 250\n",
      "\n",
      " Retrying in 1 seconds\n",
      "\n",
      "Evaluating input: 121 of 250\n",
      "\n",
      " Retrying in 1 seconds\n",
      "\n",
      "Evaluating input: 122 of 250\n",
      "\n",
      " Retrying in 1 seconds\n",
      "\n",
      "Evaluating input: 123 of 250\n",
      "\n",
      " Retrying in 1 seconds\n",
      "\n",
      "Evaluating input: 124 of 250\n",
      "\n",
      " Retrying in 1 seconds\n",
      "\n",
      "Evaluating input: 125 of 250\n",
      "\n",
      " Retrying in 1 seconds\n",
      "\n",
      "Evaluating input: 126 of 250\n",
      "\n",
      " Retrying in 1 seconds\n",
      "\n",
      "Evaluating input: 127 of 250\n",
      "\n",
      " Retrying in 1 seconds\n",
      "\n",
      "Evaluating input: 128 of 250\n",
      "\n",
      " Retrying in 1 seconds\n",
      "\n",
      "Evaluating input: 129 of 250\n",
      "\n",
      " Retrying in 1 seconds\n",
      "\n",
      "Evaluating input: 130 of 250\n",
      "\n",
      " Retrying in 1 seconds\n",
      "\n",
      "Evaluating input: 131 of 250\n",
      "\n",
      " Retrying in 1 seconds\n",
      "\n",
      "Evaluating input: 132 of 250\n",
      "\n",
      " Retrying in 1 seconds\n",
      "\n",
      "Evaluating input: 133 of 250\n",
      "\n",
      " Retrying in 1 seconds\n",
      "\n",
      "Evaluating input: 134 of 250\n",
      "\n",
      " Retrying in 1 seconds\n",
      "\n",
      "Evaluating input: 135 of 250\n",
      "\n",
      " Retrying in 1 seconds\n",
      "\n",
      "Evaluating input: 136 of 250\n",
      "\n",
      " Retrying in 1 seconds\n",
      "\n",
      "Evaluating input: 137 of 250\n",
      "\n",
      " Retrying in 1 seconds\n",
      "\n",
      "Evaluating input: 138 of 250\n",
      "\n",
      " Retrying in 1 seconds\n",
      "\n",
      "Evaluating input: 139 of 250\n",
      "\n",
      " Retrying in 1 seconds\n",
      "\n",
      "Evaluating input: 140 of 250\n",
      "\n",
      " Retrying in 1 seconds\n",
      "\n",
      "Evaluating input: 141 of 250\n",
      "\n",
      " Retrying in 1 seconds\n",
      "\n",
      "Evaluating input: 142 of 250\n",
      "\n",
      " Retrying in 1 seconds\n",
      "\n",
      "Evaluating input: 143 of 250\n",
      "\n",
      " Retrying in 1 seconds\n",
      "\n",
      "Evaluating input: 144 of 250\n",
      "\n",
      " Retrying in 1 seconds\n",
      "\n",
      "Evaluating input: 145 of 250\n",
      "\n",
      " Retrying in 1 seconds\n",
      "\n",
      "Evaluating input: 146 of 250\n",
      "\n",
      " Retrying in 1 seconds\n",
      "\n",
      "Evaluating input: 147 of 250\n",
      "\n",
      " Retrying in 1 seconds\n",
      "\n",
      "Evaluating input: 148 of 250\n",
      "\n",
      " Retrying in 1 seconds\n",
      "\n",
      "Evaluating input: 149 of 250\n",
      "\n",
      " Retrying in 1 seconds\n",
      "\n",
      "Evaluating input: 150 of 250\n",
      "\n",
      " Retrying in 1 seconds\n",
      "\n",
      "Evaluating input: 151 of 250\n",
      "\n",
      " Retrying in 1 seconds\n",
      "\n",
      "Evaluating input: 152 of 250\n",
      "\n",
      " Retrying in 1 seconds\n",
      "\n",
      "Evaluating input: 153 of 250\n",
      "\n",
      " Retrying in 1 seconds\n",
      "\n",
      "Evaluating input: 154 of 250\n",
      "\n",
      " Retrying in 1 seconds\n",
      "\n",
      "Evaluating input: 155 of 250\n",
      "\n"
     ]
    },
    {
     "name": "stdout",
     "output_type": "stream",
     "text": [
      " Retrying in 1 seconds\n",
      "\n",
      "Evaluating input: 156 of 250\n",
      "\n",
      " Retrying in 1 seconds\n",
      "\n",
      "Evaluating input: 157 of 250\n",
      "\n",
      " Retrying in 1 seconds\n",
      "\n",
      "Evaluating input: 158 of 250\n",
      "\n",
      " Retrying in 1 seconds\n",
      "\n",
      "Evaluating input: 159 of 250\n",
      "\n",
      " Retrying in 1 seconds\n",
      "\n",
      "Evaluating input: 160 of 250\n",
      "\n",
      " Retrying in 1 seconds\n",
      "\n",
      "Evaluating input: 161 of 250\n",
      "\n",
      " Retrying in 1 seconds\n",
      "\n",
      "Evaluating input: 162 of 250\n",
      "\n",
      " Retrying in 1 seconds\n",
      "\n",
      "Evaluating input: 163 of 250\n",
      "\n",
      " Retrying in 1 seconds\n",
      "\n",
      "Evaluating input: 164 of 250\n",
      "\n",
      " Retrying in 1 seconds\n",
      "\n",
      "Evaluating input: 165 of 250\n",
      "\n",
      " Retrying in 1 seconds\n",
      "\n",
      "Evaluating input: 166 of 250\n",
      "\n",
      " Retrying in 1 seconds\n",
      "\n",
      "Evaluating input: 167 of 250\n",
      "\n",
      " Retrying in 1 seconds\n",
      "\n",
      "Evaluating input: 168 of 250\n",
      "\n",
      " Retrying in 1 seconds\n",
      "\n",
      "Evaluating input: 169 of 250\n",
      "\n",
      " Retrying in 1 seconds\n",
      "\n",
      "Evaluating input: 170 of 250\n",
      "\n",
      " Retrying in 1 seconds\n",
      "\n",
      "Evaluating input: 171 of 250\n",
      "\n",
      " Retrying in 1 seconds\n",
      "\n",
      "Evaluating input: 172 of 250\n",
      "\n",
      " Retrying in 1 seconds\n",
      "\n",
      "Evaluating input: 173 of 250\n",
      "\n",
      " Retrying in 1 seconds\n",
      "\n",
      "Evaluating input: 174 of 250\n",
      "\n",
      " Retrying in 1 seconds\n",
      "\n",
      "Evaluating input: 175 of 250\n",
      "\n",
      " Retrying in 1 seconds\n",
      "\n",
      "Evaluating input: 176 of 250\n",
      "\n",
      " Retrying in 1 seconds\n",
      "\n",
      "Evaluating input: 177 of 250\n",
      "\n",
      "\n",
      "Evaluating input: 178 of 250\n",
      "\n",
      " Retrying in 1 seconds\n",
      "\n",
      "Evaluating input: 179 of 250\n",
      "\n",
      " Retrying in 1 seconds\n",
      "\n",
      "Evaluating input: 180 of 250\n",
      "\n",
      " Retrying in 1 seconds\n",
      "\n",
      "Evaluating input: 181 of 250\n",
      "\n",
      " Retrying in 1 seconds\n",
      "\n",
      "Evaluating input: 182 of 250\n",
      "\n",
      " Retrying in 1 seconds\n",
      "\n",
      "Evaluating input: 183 of 250\n",
      "\n",
      " Retrying in 1 seconds\n",
      "\n",
      "Evaluating input: 184 of 250\n",
      "\n",
      " Retrying in 1 seconds\n",
      "\n",
      "Evaluating input: 185 of 250\n",
      "\n",
      " Retrying in 1 seconds\n",
      "\n",
      "Evaluating input: 186 of 250\n",
      "\n",
      " Retrying in 1 seconds\n",
      "\n",
      "Evaluating input: 187 of 250\n",
      "\n",
      " Retrying in 1 seconds\n",
      "\n",
      "Evaluating input: 188 of 250\n",
      "\n",
      " Retrying in 1 seconds\n",
      "\n",
      "Evaluating input: 189 of 250\n",
      "\n",
      " Retrying in 1 seconds\n",
      "\n",
      "Evaluating input: 190 of 250\n",
      "\n",
      " Retrying in 1 seconds\n",
      "\n",
      "Evaluating input: 191 of 250\n",
      "\n",
      " Retrying in 1 seconds\n",
      "\n",
      "Evaluating input: 192 of 250\n",
      "\n",
      " Retrying in 1 seconds\n",
      "\n",
      "Evaluating input: 193 of 250\n",
      "\n",
      " Retrying in 1 seconds\n",
      "\n",
      "Evaluating input: 194 of 250\n",
      "\n",
      " Retrying in 1 seconds\n",
      "\n",
      "Evaluating input: 195 of 250\n",
      "\n",
      " Retrying in 1 seconds\n",
      "\n",
      "Evaluating input: 196 of 250\n",
      "\n",
      " Retrying in 1 seconds\n",
      "\n",
      "Evaluating input: 197 of 250\n",
      "\n",
      " Retrying in 1 seconds\n",
      "\n",
      "Evaluating input: 198 of 250\n",
      "\n",
      " Retrying in 1 seconds\n",
      "\n",
      "Evaluating input: 199 of 250\n",
      "\n",
      " Retrying in 1 seconds\n",
      "\n",
      "Evaluating input: 200 of 250\n",
      "\n",
      " Retrying in 1 seconds\n",
      "\n",
      "Evaluating input: 201 of 250\n",
      "\n",
      " Retrying in 1 seconds\n",
      "\n",
      "Evaluating input: 202 of 250\n",
      "\n",
      " Retrying in 1 seconds\n",
      "\n",
      "Evaluating input: 203 of 250\n",
      "\n",
      " Retrying in 1 seconds\n",
      "\n",
      "Evaluating input: 204 of 250\n",
      "\n",
      " Retrying in 1 seconds\n",
      "\n",
      "Evaluating input: 205 of 250\n",
      "\n",
      " Retrying in 1 seconds\n",
      "\n",
      "Evaluating input: 206 of 250\n",
      "\n",
      " Retrying in 1 seconds\n",
      "\n",
      "Evaluating input: 207 of 250\n",
      "\n",
      " Retrying in 1 seconds\n",
      "\n",
      "Evaluating input: 208 of 250\n",
      "\n",
      " Retrying in 1 seconds\n",
      "\n",
      "Evaluating input: 209 of 250\n",
      "\n",
      " Retrying in 1 seconds\n",
      "\n",
      "Evaluating input: 210 of 250\n",
      "\n",
      " Retrying in 1 seconds\n",
      "\n",
      "Evaluating input: 211 of 250\n",
      "\n",
      " Retrying in 1 seconds\n",
      "\n",
      "Evaluating input: 212 of 250\n",
      "\n",
      " Retrying in 1 seconds\n",
      "\n",
      "Evaluating input: 213 of 250\n",
      "\n",
      " Retrying in 1 seconds\n",
      "\n",
      "Evaluating input: 214 of 250\n",
      "\n",
      " Retrying in 1 seconds\n",
      "\n",
      "Evaluating input: 215 of 250\n",
      "\n",
      " Retrying in 1 seconds\n",
      "\n",
      "Evaluating input: 216 of 250\n",
      "\n",
      " Retrying in 1 seconds\n",
      "\n",
      "Evaluating input: 217 of 250\n",
      "\n",
      " Retrying in 1 seconds\n",
      "\n",
      "Evaluating input: 218 of 250\n",
      "\n",
      " Retrying in 1 seconds\n",
      "\n",
      "Evaluating input: 219 of 250\n",
      "\n",
      " Retrying in 1 seconds\n",
      "\n",
      "Evaluating input: 220 of 250\n",
      "\n",
      " Retrying in 1 seconds\n",
      "\n",
      "Evaluating input: 221 of 250\n",
      "\n",
      " Retrying in 1 seconds\n",
      "\n",
      "Evaluating input: 222 of 250\n",
      "\n",
      " Retrying in 1 seconds\n",
      "\n",
      "Evaluating input: 223 of 250\n",
      "\n",
      " Retrying in 1 seconds\n",
      "\n",
      "Evaluating input: 224 of 250\n",
      "\n",
      " Retrying in 1 seconds\n",
      "\n",
      "Evaluating input: 225 of 250\n",
      "\n",
      " Retrying in 1 seconds\n",
      "\n",
      "Evaluating input: 226 of 250\n",
      "\n",
      " Retrying in 1 seconds\n",
      "\n",
      "Evaluating input: 227 of 250\n",
      "\n",
      " Retrying in 1 seconds\n",
      "\n",
      "Evaluating input: 228 of 250\n",
      "\n",
      " Retrying in 1 seconds\n",
      "\n",
      "Evaluating input: 229 of 250\n",
      "\n",
      " Retrying in 1 seconds\n",
      "\n",
      "Evaluating input: 230 of 250\n",
      "\n",
      " Retrying in 1 seconds\n",
      "\n",
      "Evaluating input: 231 of 250\n",
      "\n",
      " Retrying in 1 seconds\n",
      "\n",
      "Evaluating input: 232 of 250\n",
      "\n",
      " Retrying in 1 seconds\n",
      "\n",
      "Evaluating input: 233 of 250\n",
      "\n",
      " Retrying in 1 seconds\n",
      "\n",
      "Evaluating input: 234 of 250\n",
      "\n",
      " Retrying in 1 seconds\n",
      "\n",
      "Evaluating input: 235 of 250\n",
      "\n",
      " Retrying in 1 seconds\n",
      "\n",
      "Evaluating input: 236 of 250\n",
      "\n",
      " Retrying in 1 seconds\n",
      "\n",
      "Evaluating input: 237 of 250\n",
      "\n",
      " Retrying in 1 seconds\n",
      "\n",
      "Evaluating input: 238 of 250\n",
      "\n",
      " Retrying in 1 seconds\n",
      "\n",
      "Evaluating input: 239 of 250\n",
      "\n",
      " Retrying in 1 seconds\n",
      "\n",
      "Evaluating input: 240 of 250\n",
      "\n",
      " Retrying in 1 seconds\n",
      "\n",
      "Evaluating input: 241 of 250\n",
      "\n",
      " Retrying in 1 seconds\n",
      "\n",
      "Evaluating input: 242 of 250\n",
      "\n",
      " Retrying in 1 seconds\n",
      "\n",
      "Evaluating input: 243 of 250\n",
      "\n",
      " Retrying in 1 seconds\n",
      "\n",
      "Evaluating input: 244 of 250\n",
      "\n",
      " Retrying in 1 seconds\n",
      "\n",
      "Evaluating input: 245 of 250\n",
      "\n",
      " Retrying in 1 seconds\n",
      "\n",
      "Evaluating input: 246 of 250\n",
      "\n",
      " Retrying in 1 seconds\n",
      "\n",
      "Evaluating input: 247 of 250\n",
      "\n",
      " Retrying in 1 seconds\n",
      "\n",
      "Evaluating input: 248 of 250\n",
      "\n",
      " Retrying in 1 seconds\n",
      "\n",
      "Evaluating input: 249 of 250\n",
      "\n",
      " Retrying in 1 seconds\n",
      "\n",
      "Evaluating input: 250 of 250\n",
      "\n",
      " Retrying in 1 seconds\n"
     ]
    }
   ],
   "source": [
    "#init_X, init_Y = pickle.load(open('bayesian_optimization/init_points/emissions_200_init_points.pkl', 'rb'))\n",
    "\n",
    "design = RandomDesign(parameter_space) \n",
    "num_init_points = 250\n",
    "init_X = design.get_samples(num_init_points)\n",
    "init_Y = user_function_emissions(init_X)"
   ]
  },
  {
   "cell_type": "markdown",
   "metadata": {
    "pycharm": {
     "name": "#%% md\n"
    }
   },
   "source": [
    "To then fit a GP to these points"
   ]
  },
  {
   "cell_type": "code",
   "execution_count": 7,
   "metadata": {
    "pycharm": {
     "name": "#%%\n"
    }
   },
   "outputs": [
    {
     "name": "stdout",
     "output_type": "stream",
     "text": [
      "Optimization restart 1/5, f = 1119.4230495971256\n"
     ]
    },
    {
     "name": "stderr",
     "output_type": "stream",
     "text": [
      " /Users/Matteo/opt/anaconda3/envs/ml_and_physical/lib/python3.8/site-packages/GPy/kern/src/rbf.py:52: RuntimeWarning:overflow encountered in square\n"
     ]
    },
    {
     "name": "stdout",
     "output_type": "stream",
     "text": [
      "Optimization restart 2/5, f = 1042.0469196786814\n",
      "Optimization restart 3/5, f = 1042.0469196080724\n",
      "Optimization restart 4/5, f = 1042.0469196074794\n",
      "Optimization restart 5/5, f = 1042.0469196074744\n"
     ]
    }
   ],
   "source": [
    "emulator = GPy.models.GPRegression(init_X, init_Y, noise_var=1e-10)\n",
    "emukit_model_random_init = GPyModelWrapper(emulator, n_restarts=5)\n",
    "emukit_model_random_init.optimize()"
   ]
  },
  {
   "cell_type": "markdown",
   "metadata": {
    "pycharm": {
     "name": "#%% md\n"
    }
   },
   "source": [
    "### Experimentally designed emulator"
   ]
  },
  {
   "cell_type": "markdown",
   "metadata": {},
   "source": [
    "We also load the emulator obtained during experimental design:"
   ]
  },
  {
   "cell_type": "code",
   "execution_count": 8,
   "metadata": {
    "pycharm": {
     "name": "#%%\n"
    }
   },
   "outputs": [],
   "source": [
    "emukit_model_exp_design = pickle.load(open('experimental_design/models/model_variance_20_init_points_250_loops_co2.pkl', 'rb'))"
   ]
  },
  {
   "cell_type": "markdown",
   "metadata": {
    "pycharm": {
     "name": "#%% md\n"
    }
   },
   "source": [
    "## Bayesian optimisation"
   ]
  },
  {
   "cell_type": "markdown",
   "metadata": {},
   "source": [
    "We now run bayesian optimisation on the emulators"
   ]
  },
  {
   "cell_type": "code",
   "execution_count": 9,
   "metadata": {
    "pycharm": {
     "name": "#%%\n"
    }
   },
   "outputs": [],
   "source": [
    "n_iter_bo = 40"
   ]
  },
  {
   "cell_type": "markdown",
   "metadata": {
    "pycharm": {
     "name": "#%% md\n"
    }
   },
   "source": [
    "### Acquisition functions"
   ]
  },
  {
   "cell_type": "code",
   "execution_count": 10,
   "metadata": {
    "pycharm": {
     "name": "#%%\n"
    }
   },
   "outputs": [],
   "source": [
    "acquisition_random_init = ExpectedImprovement(emukit_model_random_init)"
   ]
  },
  {
   "cell_type": "code",
   "execution_count": 11,
   "metadata": {},
   "outputs": [],
   "source": [
    "acquisition_exp_design = ExpectedImprovement(emukit_model_exp_design)"
   ]
  },
  {
   "cell_type": "markdown",
   "metadata": {
    "pycharm": {
     "name": "#%% md\n"
    }
   },
   "source": [
    "### Optimisation loop"
   ]
  },
  {
   "cell_type": "code",
   "execution_count": null,
   "metadata": {
    "pycharm": {
     "name": "#%%\n"
    }
   },
   "outputs": [
    {
     "name": "stdout",
     "output_type": "stream",
     "text": [
      "Optimization restart 1/5, f = 1042.0469196074744\n"
     ]
    },
    {
     "name": "stderr",
     "output_type": "stream",
     "text": [
      " /Users/Matteo/opt/anaconda3/envs/ml_and_physical/lib/python3.8/site-packages/paramz/transformations.py:111: RuntimeWarning:overflow encountered in expm1\n"
     ]
    },
    {
     "name": "stdout",
     "output_type": "stream",
     "text": [
      "Optimization restart 2/5, f = 1042.0469196074987\n",
      "Optimization restart 3/5, f = 1042.38086665382\n",
      "Optimization restart 4/5, f = 1042.0469196942913\n",
      "Optimization restart 5/5, f = 1042.0469196138695\n",
      "[[10.  8.  1.  1.]]\n",
      "\n",
      "User function emissions called with 1 inputs to simulate\n",
      "\n",
      "Evaluating input: 1 of 1\n",
      "\n",
      " Retrying in 1 seconds\n"
     ]
    },
    {
     "name": "stderr",
     "output_type": "stream",
     "text": [
      " /Users/Matteo/opt/anaconda3/envs/ml_and_physical/lib/python3.8/site-packages/paramz/transformations.py:111: RuntimeWarning:overflow encountered in expm1\n"
     ]
    },
    {
     "name": "stdout",
     "output_type": "stream",
     "text": [
      "Optimization restart 1/5, f = 1046.0170961130543\n",
      "Optimization restart 2/5, f = 1046.0110271343656\n",
      "Optimization restart 3/5, f = 1046.011027139721\n",
      "Optimization restart 4/5, f = 1046.0110271630924\n",
      "Optimization restart 5/5, f = 1046.0110281846978\n",
      "[[10.  8.  1.  1.]]\n",
      "\n",
      "User function emissions called with 1 inputs to simulate\n",
      "\n",
      "Evaluating input: 1 of 1\n",
      "\n",
      " Retrying in 1 seconds\n"
     ]
    },
    {
     "name": "stderr",
     "output_type": "stream",
     "text": [
      " /Users/Matteo/opt/anaconda3/envs/ml_and_physical/lib/python3.8/site-packages/paramz/transformations.py:111: RuntimeWarning:overflow encountered in expm1\n"
     ]
    },
    {
     "name": "stdout",
     "output_type": "stream",
     "text": [
      "Optimization restart 1/5, f = 1049.7047666850483\n",
      "Optimization restart 2/5, f = 1049.704310499683\n",
      "Optimization restart 3/5, f = 1049.704310632337\n",
      "Optimization restart 4/5, f = 1049.7043104770073\n",
      "Optimization restart 5/5, f = 1049.7043104783534\n",
      "[[10.  8.  1.  1.]]\n",
      "\n",
      "User function emissions called with 1 inputs to simulate\n",
      "\n",
      "Evaluating input: 1 of 1\n",
      "\n",
      " Retrying in 1 seconds\n"
     ]
    },
    {
     "name": "stderr",
     "output_type": "stream",
     "text": [
      " /Users/Matteo/opt/anaconda3/envs/ml_and_physical/lib/python3.8/site-packages/paramz/transformations.py:111: RuntimeWarning:overflow encountered in expm1\n"
     ]
    },
    {
     "name": "stdout",
     "output_type": "stream",
     "text": [
      "Optimization restart 1/5, f = 1053.3106312257953\n",
      "Optimization restart 2/5, f = 1053.3105207907136\n",
      "Optimization restart 3/5, f = 1053.3105206535888\n",
      "Optimization restart 4/5, f = 1053.3105206544485\n",
      "Optimization restart 5/5, f = 1053.3105206541427\n",
      "[[10.  8.  1.  1.]]\n",
      "\n",
      "User function emissions called with 1 inputs to simulate\n",
      "\n",
      "Evaluating input: 1 of 1\n",
      "\n",
      " Retrying in 1 seconds\n"
     ]
    },
    {
     "name": "stderr",
     "output_type": "stream",
     "text": [
      " /Users/Matteo/opt/anaconda3/envs/ml_and_physical/lib/python3.8/site-packages/paramz/transformations.py:111: RuntimeWarning:overflow encountered in expm1\n"
     ]
    },
    {
     "name": "stdout",
     "output_type": "stream",
     "text": [
      "Optimization restart 1/5, f = 1056.8724458885588\n",
      "Optimization restart 2/5, f = 1056.8724020944462\n",
      "Optimization restart 3/5, f = 1056.8724020848813\n",
      "Optimization restart 4/5, f = 1056.872402083966\n",
      "Optimization restart 5/5, f = 1056.872402084888\n",
      "[[10.  8.  1.  1.]]\n",
      "\n",
      "User function emissions called with 1 inputs to simulate\n",
      "\n",
      "Evaluating input: 1 of 1\n",
      "\n",
      " Retrying in 1 seconds\n"
     ]
    },
    {
     "name": "stderr",
     "output_type": "stream",
     "text": [
      " /Users/Matteo/opt/anaconda3/envs/ml_and_physical/lib/python3.8/site-packages/paramz/transformations.py:111: RuntimeWarning:overflow encountered in expm1\n"
     ]
    },
    {
     "name": "stdout",
     "output_type": "stream",
     "text": [
      "Optimization restart 1/5, f = 1060.4068103653813\n",
      "Optimization restart 2/5, f = 1060.4067874611792\n",
      "Optimization restart 3/5, f = 1060.406787461106\n",
      "Optimization restart 4/5, f = 1060.4067874610857\n",
      "Optimization restart 5/5, f = 1060.4067874610841\n",
      "[[10.  8.  3.  3.]]\n",
      "\n",
      "User function emissions called with 1 inputs to simulate\n",
      "\n",
      "Evaluating input: 1 of 1\n",
      "\n",
      " Retrying in 1 seconds\n"
     ]
    },
    {
     "name": "stderr",
     "output_type": "stream",
     "text": [
      " /Users/Matteo/opt/anaconda3/envs/ml_and_physical/lib/python3.8/site-packages/paramz/transformations.py:111: RuntimeWarning:overflow encountered in expm1\n"
     ]
    },
    {
     "name": "stdout",
     "output_type": "stream",
     "text": [
      "Optimization restart 1/5, f = 1064.2169226885774\n",
      "Optimization restart 2/5, f = 1064.216468978536\n"
     ]
    },
    {
     "name": "stderr",
     "output_type": "stream",
     "text": [
      " /Users/Matteo/opt/anaconda3/envs/ml_and_physical/lib/python3.8/site-packages/GPy/kern/src/stationary.py:168: RuntimeWarning:overflow encountered in true_divide\n",
      " /Users/Matteo/opt/anaconda3/envs/ml_and_physical/lib/python3.8/site-packages/GPy/kern/src/rbf.py:52: RuntimeWarning:overflow encountered in square\n",
      " /Users/Matteo/opt/anaconda3/envs/ml_and_physical/lib/python3.8/site-packages/GPy/kern/src/rbf.py:76: RuntimeWarning:invalid value encountered in multiply\n"
     ]
    },
    {
     "name": "stdout",
     "output_type": "stream",
     "text": [
      "Optimization restart 3/5, f = 1207.0847621612947\n",
      "Optimization restart 4/5, f = 1064.2164690204288\n",
      "Optimization restart 5/5, f = 1064.2164689415233\n",
      "[[10.  8.  1.  1.]]\n",
      "\n",
      "User function emissions called with 1 inputs to simulate\n",
      "\n",
      "Evaluating input: 1 of 1\n",
      "\n",
      " Retrying in 1 seconds\n"
     ]
    },
    {
     "name": "stderr",
     "output_type": "stream",
     "text": [
      " /Users/Matteo/opt/anaconda3/envs/ml_and_physical/lib/python3.8/site-packages/paramz/transformations.py:111: RuntimeWarning:overflow encountered in expm1\n"
     ]
    },
    {
     "name": "stdout",
     "output_type": "stream",
     "text": [
      "Optimization restart 1/5, f = 1067.7304096210205\n",
      "Optimization restart 2/5, f = 1067.7303948402096\n",
      "Optimization restart 3/5, f = 1067.7303948403198\n",
      "Optimization restart 4/5, f = 1067.7303948572358\n",
      "Optimization restart 5/5, f = 1067.730394840578\n",
      "[[10.  8.  3.  1.]]\n",
      "\n",
      "User function emissions called with 1 inputs to simulate\n",
      "\n",
      "Evaluating input: 1 of 1\n",
      "\n",
      " Retrying in 1 seconds\n"
     ]
    },
    {
     "name": "stderr",
     "output_type": "stream",
     "text": [
      " /Users/Matteo/opt/anaconda3/envs/ml_and_physical/lib/python3.8/site-packages/paramz/transformations.py:111: RuntimeWarning:overflow encountered in expm1\n"
     ]
    },
    {
     "name": "stdout",
     "output_type": "stream",
     "text": [
      "Optimization restart 1/5, f = 1071.364325490987\n",
      "Optimization restart 2/5, f = 1071.364324334332\n",
      "Optimization restart 3/5, f = 1071.3643243343613\n",
      "Optimization restart 4/5, f = 1071.364326703809\n",
      "Optimization restart 5/5, f = 1071.364324334304\n",
      "[[10.  8.  1.  1.]]\n",
      "\n",
      "User function emissions called with 1 inputs to simulate\n",
      "\n",
      "Evaluating input: 1 of 1\n",
      "\n",
      " Retrying in 1 seconds\n"
     ]
    },
    {
     "name": "stderr",
     "output_type": "stream",
     "text": [
      " /Users/Matteo/opt/anaconda3/envs/ml_and_physical/lib/python3.8/site-packages/paramz/transformations.py:111: RuntimeWarning:overflow encountered in expm1\n"
     ]
    },
    {
     "name": "stdout",
     "output_type": "stream",
     "text": [
      "Optimization restart 1/5, f = 1074.860896611171\n",
      "Optimization restart 2/5, f = 1074.8608878140926\n"
     ]
    },
    {
     "name": "stderr",
     "output_type": "stream",
     "text": [
      " /Users/Matteo/opt/anaconda3/envs/ml_and_physical/lib/python3.8/site-packages/GPy/kern/src/rbf.py:52: RuntimeWarning:overflow encountered in square\n"
     ]
    },
    {
     "name": "stdout",
     "output_type": "stream",
     "text": [
      "Optimization restart 3/5, f = 1074.860887813718\n",
      "Optimization restart 4/5, f = 1074.8608878548002\n",
      "Optimization restart 5/5, f = 1074.8608878137172\n",
      "[[10.  8.  1.  1.]]\n",
      "\n",
      "User function emissions called with 1 inputs to simulate\n",
      "\n",
      "Evaluating input: 1 of 1\n",
      "\n",
      " Retrying in 1 seconds\n"
     ]
    },
    {
     "name": "stderr",
     "output_type": "stream",
     "text": [
      " /Users/Matteo/opt/anaconda3/envs/ml_and_physical/lib/python3.8/site-packages/paramz/transformations.py:111: RuntimeWarning:overflow encountered in expm1\n"
     ]
    },
    {
     "name": "stdout",
     "output_type": "stream",
     "text": [
      "Optimization restart 1/5, f = 1078.3463913366008\n",
      "Optimization restart 2/5, f = 1078.3463846257978\n",
      "Optimization restart 3/5, f = 1078.3463847281646\n",
      "Optimization restart 4/5, f = 1076.3107787942802\n"
     ]
    },
    {
     "name": "stderr",
     "output_type": "stream",
     "text": [
      " /Users/Matteo/opt/anaconda3/envs/ml_and_physical/lib/python3.8/site-packages/GPy/kern/src/stationary.py:168: RuntimeWarning:overflow encountered in true_divide\n",
      " /Users/Matteo/opt/anaconda3/envs/ml_and_physical/lib/python3.8/site-packages/GPy/kern/src/rbf.py:52: RuntimeWarning:overflow encountered in square\n",
      " /Users/Matteo/opt/anaconda3/envs/ml_and_physical/lib/python3.8/site-packages/GPy/kern/src/rbf.py:76: RuntimeWarning:invalid value encountered in multiply\n"
     ]
    },
    {
     "name": "stdout",
     "output_type": "stream",
     "text": [
      "Optimization restart 5/5, f = 1078.663280741122\n",
      "[[7. 8. 1. 1.]]\n",
      "\n",
      "User function emissions called with 1 inputs to simulate\n",
      "\n",
      "Evaluating input: 1 of 1\n",
      "\n",
      " Retrying in 1 seconds\n"
     ]
    },
    {
     "name": "stderr",
     "output_type": "stream",
     "text": [
      " /Users/Matteo/opt/anaconda3/envs/ml_and_physical/lib/python3.8/site-packages/paramz/transformations.py:111: RuntimeWarning:overflow encountered in expm1\n"
     ]
    },
    {
     "name": "stdout",
     "output_type": "stream",
     "text": [
      "Optimization restart 1/5, f = 1080.8629727571981\n",
      "Optimization restart 2/5, f = 1082.0460136847216\n",
      "Optimization restart 3/5, f = 1082.0460136839079\n",
      "Optimization restart 4/5, f = 1082.0460136838697\n",
      "Optimization restart 5/5, f = 1082.0460147228296\n",
      "[[3. 8. 3. 1.]]\n",
      "\n",
      "User function emissions called with 1 inputs to simulate\n",
      "\n",
      "Evaluating input: 1 of 1\n",
      "\n",
      " Retrying in 1 seconds\n"
     ]
    },
    {
     "name": "stderr",
     "output_type": "stream",
     "text": [
      " /Users/Matteo/opt/anaconda3/envs/ml_and_physical/lib/python3.8/site-packages/paramz/transformations.py:111: RuntimeWarning:overflow encountered in expm1\n"
     ]
    },
    {
     "name": "stdout",
     "output_type": "stream",
     "text": [
      "Optimization restart 1/5, f = 1085.9102781952774\n",
      "Optimization restart 2/5, f = 1085.9768766786356\n",
      "Optimization restart 3/5, f = 1085.976876678444\n",
      "Optimization restart 4/5, f = 1085.9768766812322\n",
      "Optimization restart 5/5, f = 1085.9768766823272\n",
      "[[10. 20.  1.  1.]]\n",
      "\n",
      "User function emissions called with 1 inputs to simulate\n",
      "\n",
      "Evaluating input: 1 of 1\n",
      "\n",
      " Retrying in 1 seconds\n"
     ]
    },
    {
     "name": "stderr",
     "output_type": "stream",
     "text": [
      " /Users/Matteo/opt/anaconda3/envs/ml_and_physical/lib/python3.8/site-packages/paramz/transformations.py:111: RuntimeWarning:overflow encountered in expm1\n"
     ]
    },
    {
     "name": "stdout",
     "output_type": "stream",
     "text": [
      "Optimization restart 1/5, f = 1090.895391304995\n",
      "Optimization restart 2/5, f = 1089.8567342551003\n",
      "Optimization restart 3/5, f = 1089.8567342557458\n",
      "Optimization restart 4/5, f = 1089.8567342638655\n",
      "Optimization restart 5/5, f = 1089.8567342556626\n",
      "[[10.  8.  1.  1.]]\n",
      "\n",
      "User function emissions called with 1 inputs to simulate\n",
      "\n",
      "Evaluating input: 1 of 1\n",
      "\n",
      " Retrying in 1 seconds\n"
     ]
    },
    {
     "name": "stderr",
     "output_type": "stream",
     "text": [
      " /Users/Matteo/opt/anaconda3/envs/ml_and_physical/lib/python3.8/site-packages/paramz/transformations.py:111: RuntimeWarning:overflow encountered in expm1\n"
     ]
    },
    {
     "name": "stdout",
     "output_type": "stream",
     "text": [
      "Optimization restart 1/5, f = 1093.3279311536749\n",
      "Optimization restart 2/5, f = 1093.327927034105\n",
      "Optimization restart 3/5, f = 1093.3279270308924\n",
      "Optimization restart 4/5, f = 1093.4943617422994\n",
      "Optimization restart 5/5, f = 1093.3279270320445\n",
      "[[10.  8.  3.  1.]]\n",
      "\n",
      "User function emissions called with 1 inputs to simulate\n",
      "\n",
      "Evaluating input: 1 of 1\n",
      "\n",
      " Retrying in 1 seconds\n"
     ]
    },
    {
     "name": "stderr",
     "output_type": "stream",
     "text": [
      " /Users/Matteo/opt/anaconda3/envs/ml_and_physical/lib/python3.8/site-packages/paramz/transformations.py:111: RuntimeWarning:overflow encountered in expm1\n"
     ]
    },
    {
     "name": "stdout",
     "output_type": "stream",
     "text": [
      "Optimization restart 1/5, f = 1096.8868386097065\n",
      "Optimization restart 2/5, f = 1096.8868393124167\n",
      "Optimization restart 3/5, f = 1096.8868385032536\n"
     ]
    },
    {
     "name": "stderr",
     "output_type": "stream",
     "text": [
      " /Users/Matteo/opt/anaconda3/envs/ml_and_physical/lib/python3.8/site-packages/GPy/kern/src/stationary.py:168: RuntimeWarning:overflow encountered in true_divide\n",
      " /Users/Matteo/opt/anaconda3/envs/ml_and_physical/lib/python3.8/site-packages/GPy/kern/src/rbf.py:52: RuntimeWarning:overflow encountered in square\n",
      " /Users/Matteo/opt/anaconda3/envs/ml_and_physical/lib/python3.8/site-packages/GPy/kern/src/rbf.py:76: RuntimeWarning:invalid value encountered in multiply\n"
     ]
    },
    {
     "name": "stdout",
     "output_type": "stream",
     "text": [
      "Optimization restart 4/5, f = 1335.445915084038\n",
      "Optimization restart 5/5, f = 1096.8868386008996\n",
      "[[10.          8.04578304  1.          1.        ]]\n",
      "\n",
      "User function emissions called with 1 inputs to simulate\n",
      "\n",
      "Evaluating input: 1 of 1\n",
      "\n",
      " Retrying in 1 seconds\n"
     ]
    },
    {
     "name": "stderr",
     "output_type": "stream",
     "text": [
      " /Users/Matteo/opt/anaconda3/envs/ml_and_physical/lib/python3.8/site-packages/paramz/transformations.py:111: RuntimeWarning:overflow encountered in expm1\n"
     ]
    },
    {
     "name": "stdout",
     "output_type": "stream",
     "text": [
      "Optimization restart 1/5, f = 1100.3493727024472\n",
      "Optimization restart 2/5, f = 1100.3493670025453\n",
      "Optimization restart 3/5, f = 1100.3493670890562\n",
      "Optimization restart 4/5, f = 1100.3493669914442\n",
      "Optimization restart 5/5, f = 1100.3493669921013\n",
      "[[10.          8.10915856  1.          1.        ]]\n",
      "\n",
      "User function emissions called with 1 inputs to simulate\n",
      "\n",
      "Evaluating input: 1 of 1\n",
      "\n",
      " Retrying in 1 seconds\n"
     ]
    },
    {
     "name": "stderr",
     "output_type": "stream",
     "text": [
      " /Users/Matteo/opt/anaconda3/envs/ml_and_physical/lib/python3.8/site-packages/paramz/transformations.py:111: RuntimeWarning:overflow encountered in expm1\n"
     ]
    },
    {
     "name": "stdout",
     "output_type": "stream",
     "text": [
      "Optimization restart 1/5, f = 1103.8103569192028\n",
      "Optimization restart 2/5, f = 1103.8103493316253\n",
      "Optimization restart 3/5, f = 1103.810349332122\n",
      "Optimization restart 4/5, f = 1103.8103493322124\n",
      "Optimization restart 5/5, f = 1103.8103493315207\n",
      "[[10.          8.15950989  1.          1.        ]]\n",
      "\n",
      "User function emissions called with 1 inputs to simulate\n",
      "\n",
      "Evaluating input: 1 of 1\n",
      "\n",
      " Retrying in 1 seconds\n"
     ]
    },
    {
     "name": "stderr",
     "output_type": "stream",
     "text": [
      " /Users/Matteo/opt/anaconda3/envs/ml_and_physical/lib/python3.8/site-packages/paramz/transformations.py:111: RuntimeWarning:overflow encountered in expm1\n"
     ]
    },
    {
     "name": "stdout",
     "output_type": "stream",
     "text": [
      "Optimization restart 1/5, f = 1107.272029321061\n",
      "Optimization restart 2/5, f = 1107.272020985902\n",
      "Optimization restart 3/5, f = 1107.2720209863028\n",
      "Optimization restart 4/5, f = 1107.2720209860581\n",
      "Optimization restart 5/5, f = 1107.2720209857014\n",
      "[[10.          8.19620415  1.          1.        ]]\n",
      "\n",
      "User function emissions called with 1 inputs to simulate\n",
      "\n",
      "Evaluating input: 1 of 1\n",
      "\n",
      " Retrying in 1 seconds\n"
     ]
    },
    {
     "name": "stderr",
     "output_type": "stream",
     "text": [
      " /Users/Matteo/opt/anaconda3/envs/ml_and_physical/lib/python3.8/site-packages/paramz/transformations.py:111: RuntimeWarning:overflow encountered in expm1\n"
     ]
    },
    {
     "name": "stdout",
     "output_type": "stream",
     "text": [
      "Optimization restart 1/5, f = 1110.7300702771\n",
      "Optimization restart 2/5, f = 1110.7300629337715\n",
      "Optimization restart 3/5, f = 1110.7300629105036\n",
      "Optimization restart 4/5, f = 1110.730062885108\n",
      "Optimization restart 5/5, f = 1110.7300628852654\n",
      "[[10.          8.22100186  1.          1.        ]]\n",
      "\n",
      "User function emissions called with 1 inputs to simulate\n",
      "\n",
      "Evaluating input: 1 of 1\n",
      "\n",
      " Retrying in 1 seconds\n"
     ]
    },
    {
     "name": "stderr",
     "output_type": "stream",
     "text": [
      " /Users/Matteo/opt/anaconda3/envs/ml_and_physical/lib/python3.8/site-packages/paramz/transformations.py:111: RuntimeWarning:overflow encountered in expm1\n"
     ]
    },
    {
     "name": "stdout",
     "output_type": "stream",
     "text": [
      "Optimization restart 1/5, f = 1114.1832490270829\n",
      "Optimization restart 2/5, f = 1114.1832425546054\n",
      "Optimization restart 3/5, f = 1114.1832425549565\n",
      "Optimization restart 4/5, f = 1114.1832425536695\n",
      "Optimization restart 5/5, f = 1114.1832425536609\n",
      "[[10.  8.  3.  3.]]\n",
      "\n",
      "User function emissions called with 1 inputs to simulate\n",
      "\n",
      "Evaluating input: 1 of 1\n",
      "\n",
      " Retrying in 1 seconds\n"
     ]
    },
    {
     "name": "stderr",
     "output_type": "stream",
     "text": [
      " /Users/Matteo/opt/anaconda3/envs/ml_and_physical/lib/python3.8/site-packages/paramz/transformations.py:111: RuntimeWarning:overflow encountered in expm1\n"
     ]
    },
    {
     "name": "stdout",
     "output_type": "stream",
     "text": [
      "Optimization restart 1/5, f = 1117.793598270533\n",
      "Optimization restart 2/5, f = 1117.793597934358\n",
      "Optimization restart 3/5, f = 1117.7935979342506\n",
      "Optimization restart 4/5, f = 1117.7935979566669\n",
      "Optimization restart 5/5, f = 1117.7935979344622\n",
      "[[10.          8.22949836  1.          1.        ]]\n",
      "\n",
      "User function emissions called with 1 inputs to simulate\n",
      "\n",
      "Evaluating input: 1 of 1\n",
      "\n",
      " Retrying in 1 seconds\n"
     ]
    },
    {
     "name": "stderr",
     "output_type": "stream",
     "text": [
      " /Users/Matteo/opt/anaconda3/envs/ml_and_physical/lib/python3.8/site-packages/paramz/transformations.py:111: RuntimeWarning:overflow encountered in expm1\n"
     ]
    },
    {
     "name": "stdout",
     "output_type": "stream",
     "text": [
      "Optimization restart 1/5, f = 1121.2398476552426\n",
      "Optimization restart 2/5, f = 1121.2398419113692\n",
      "Optimization restart 3/5, f = 1121.2398414102663\n",
      "Optimization restart 4/5, f = 1121.2398414091099\n",
      "Optimization restart 5/5, f = 1121.2398414078566\n",
      "[[10.          8.24563535  1.          1.        ]]\n",
      "\n",
      "User function emissions called with 1 inputs to simulate\n",
      "\n",
      "Evaluating input: 1 of 1\n",
      "\n",
      " Retrying in 1 seconds\n"
     ]
    },
    {
     "name": "stderr",
     "output_type": "stream",
     "text": [
      " /Users/Matteo/opt/anaconda3/envs/ml_and_physical/lib/python3.8/site-packages/paramz/transformations.py:111: RuntimeWarning:overflow encountered in expm1\n"
     ]
    },
    {
     "name": "stdout",
     "output_type": "stream",
     "text": [
      "Optimization restart 1/5, f = 1124.6812089054222\n",
      "Optimization restart 2/5, f = 1124.6812032722603\n",
      "Optimization restart 3/5, f = 1124.6812032379744\n",
      "Optimization restart 4/5, f = 1124.6812032377543\n",
      "Optimization restart 5/5, f = 1124.6812032408557\n",
      "[[10.          8.25788175  1.          1.        ]]\n",
      "\n",
      "User function emissions called with 1 inputs to simulate\n",
      "\n",
      "Evaluating input: 1 of 1\n",
      "\n",
      " Retrying in 1 seconds\n"
     ]
    },
    {
     "name": "stderr",
     "output_type": "stream",
     "text": [
      " /Users/Matteo/opt/anaconda3/envs/ml_and_physical/lib/python3.8/site-packages/paramz/transformations.py:111: RuntimeWarning:overflow encountered in expm1\n"
     ]
    },
    {
     "name": "stdout",
     "output_type": "stream",
     "text": [
      "Optimization restart 1/5, f = 1128.1176504838525\n",
      "Optimization restart 2/5, f = 1128.1176453018122\n",
      "Optimization restart 3/5, f = 1128.117645301794\n",
      "Optimization restart 4/5, f = 1128.1176454418585\n",
      "Optimization restart 5/5, f = 1128.117645301811\n",
      "[[10.          8.26764549  1.          1.        ]]\n",
      "\n",
      "User function emissions called with 1 inputs to simulate\n",
      "\n",
      "Evaluating input: 1 of 1\n",
      "\n",
      " Retrying in 1 seconds\n"
     ]
    },
    {
     "name": "stderr",
     "output_type": "stream",
     "text": [
      " /Users/Matteo/opt/anaconda3/envs/ml_and_physical/lib/python3.8/site-packages/paramz/transformations.py:111: RuntimeWarning:overflow encountered in expm1\n"
     ]
    },
    {
     "name": "stdout",
     "output_type": "stream",
     "text": [
      "Optimization restart 1/5, f = 1131.5594750152716\n",
      "Optimization restart 2/5, f = 1131.5594687851149\n",
      "Optimization restart 3/5, f = 1131.5594688129604\n",
      "Optimization restart 4/5, f = 1131.5594687866726\n",
      "Optimization restart 5/5, f = 1131.5594687867722\n",
      "[[10.          8.27296718  1.          1.        ]]\n",
      "\n",
      "User function emissions called with 1 inputs to simulate\n",
      "\n",
      "Evaluating input: 1 of 1\n",
      "\n",
      " Retrying in 1 seconds\n"
     ]
    },
    {
     "name": "stderr",
     "output_type": "stream",
     "text": [
      " /Users/Matteo/opt/anaconda3/envs/ml_and_physical/lib/python3.8/site-packages/paramz/transformations.py:111: RuntimeWarning:overflow encountered in expm1\n"
     ]
    },
    {
     "name": "stdout",
     "output_type": "stream",
     "text": [
      "Optimization restart 1/5, f = 1134.9958637569725\n",
      "Optimization restart 2/5, f = 1135.2449879499318\n",
      "Optimization restart 3/5, f = 1134.9958578994429\n",
      "Optimization restart 4/5, f = 1134.995857983623\n",
      "Optimization restart 5/5, f = 1134.995857913545\n",
      "[[10.  8.  3.  1.]]\n",
      "\n",
      "User function emissions called with 1 inputs to simulate\n",
      "\n",
      "Evaluating input: 1 of 1\n",
      "\n",
      " Retrying in 1 seconds\n"
     ]
    },
    {
     "name": "stderr",
     "output_type": "stream",
     "text": [
      " /Users/Matteo/opt/anaconda3/envs/ml_and_physical/lib/python3.8/site-packages/paramz/transformations.py:111: RuntimeWarning:overflow encountered in expm1\n"
     ]
    },
    {
     "name": "stdout",
     "output_type": "stream",
     "text": [
      "Optimization restart 1/5, f = 1138.4971396689302\n",
      "Optimization restart 2/5, f = 1138.4971398295252\n",
      "Optimization restart 3/5, f = 1138.4971396136348\n",
      "Optimization restart 4/5, f = 1138.49713961362\n",
      "Optimization restart 5/5, f = 1138.4971397128256\n",
      "[[10.          8.27771725  1.          1.        ]]\n",
      "\n",
      "User function emissions called with 1 inputs to simulate\n",
      "\n",
      "Evaluating input: 1 of 1\n",
      "\n",
      " Retrying in 1 seconds\n"
     ]
    },
    {
     "name": "stderr",
     "output_type": "stream",
     "text": [
      " /Users/Matteo/opt/anaconda3/envs/ml_and_physical/lib/python3.8/site-packages/paramz/transformations.py:111: RuntimeWarning:overflow encountered in expm1\n"
     ]
    },
    {
     "name": "stdout",
     "output_type": "stream",
     "text": [
      "Optimization restart 1/5, f = 1141.9237782367338\n",
      "Optimization restart 2/5, f = 1141.9237731272262\n",
      "Optimization restart 3/5, f = 1141.9237731272244\n",
      "Optimization restart 4/5, f = 1141.9237731272865\n",
      "Optimization restart 5/5, f = 1141.923773127402\n",
      "[[10.  8.  3.  3.]]\n",
      "\n",
      "User function emissions called with 1 inputs to simulate\n",
      "\n",
      "Evaluating input: 1 of 1\n",
      "\n",
      " Retrying in 1 seconds\n"
     ]
    },
    {
     "name": "stderr",
     "output_type": "stream",
     "text": [
      " /Users/Matteo/opt/anaconda3/envs/ml_and_physical/lib/python3.8/site-packages/paramz/transformations.py:111: RuntimeWarning:overflow encountered in expm1\n"
     ]
    },
    {
     "name": "stdout",
     "output_type": "stream",
     "text": [
      "Optimization restart 1/5, f = 1145.4555604997156\n",
      "Optimization restart 2/5, f = 1145.4555590445414\n",
      "Optimization restart 3/5, f = 1145.4555590040031\n",
      "Optimization restart 4/5, f = 1145.455559004046\n",
      "Optimization restart 5/5, f = 1145.4555590039445\n",
      "[[10.          8.28943557  1.          1.        ]]\n",
      "\n",
      "User function emissions called with 1 inputs to simulate\n",
      "\n",
      "Evaluating input: 1 of 1\n",
      "\n",
      " Retrying in 1 seconds\n"
     ]
    },
    {
     "name": "stderr",
     "output_type": "stream",
     "text": [
      " /Users/Matteo/opt/anaconda3/envs/ml_and_physical/lib/python3.8/site-packages/paramz/transformations.py:111: RuntimeWarning:overflow encountered in expm1\n"
     ]
    },
    {
     "name": "stdout",
     "output_type": "stream",
     "text": [
      "Optimization restart 1/5, f = 1148.8814587535799\n",
      "Optimization restart 2/5, f = 1148.88145313553\n",
      "Optimization restart 3/5, f = 1148.8814531469418\n",
      "Optimization restart 4/5, f = 1148.8814531355713\n",
      "Optimization restart 5/5, f = 1148.8814531369462\n",
      "[[10.          8.28981206  1.          1.        ]]\n",
      "\n",
      "User function emissions called with 1 inputs to simulate\n",
      "\n",
      "Evaluating input: 1 of 1\n",
      "\n",
      " Retrying in 1 seconds\n"
     ]
    },
    {
     "name": "stderr",
     "output_type": "stream",
     "text": [
      " /Users/Matteo/opt/anaconda3/envs/ml_and_physical/lib/python3.8/site-packages/paramz/transformations.py:111: RuntimeWarning:overflow encountered in expm1\n"
     ]
    },
    {
     "name": "stdout",
     "output_type": "stream",
     "text": [
      "Optimization restart 1/5, f = 1152.3026591409343\n",
      "Optimization restart 2/5, f = 1152.3026536332354\n",
      "Optimization restart 3/5, f = 1152.3026536335356\n",
      "Optimization restart 4/5, f = 1152.3026536321881\n",
      "Optimization restart 5/5, f = 1152.3026536538453\n",
      "[[10.          8.29112603  1.          1.        ]]\n",
      "\n",
      "User function emissions called with 1 inputs to simulate\n",
      "\n",
      "Evaluating input: 1 of 1\n",
      "\n",
      " Retrying in 1 seconds\n"
     ]
    },
    {
     "name": "stderr",
     "output_type": "stream",
     "text": [
      " /Users/Matteo/opt/anaconda3/envs/ml_and_physical/lib/python3.8/site-packages/paramz/transformations.py:111: RuntimeWarning:overflow encountered in expm1\n"
     ]
    },
    {
     "name": "stdout",
     "output_type": "stream",
     "text": [
      "Optimization restart 1/5, f = 1155.7194395163606\n",
      "Optimization restart 2/5, f = 1155.7194341273575\n",
      "Optimization restart 3/5, f = 1155.7194341232412\n",
      "Optimization restart 4/5, f = 1155.719434124482\n",
      "Optimization restart 5/5, f = 1155.7194341230074\n",
      "[[10.  8.  3.  1.]]\n",
      "\n",
      "User function emissions called with 1 inputs to simulate\n",
      "\n",
      "Evaluating input: 1 of 1\n",
      "\n",
      " Retrying in 1 seconds\n"
     ]
    },
    {
     "name": "stderr",
     "output_type": "stream",
     "text": [
      " /Users/Matteo/opt/anaconda3/envs/ml_and_physical/lib/python3.8/site-packages/paramz/transformations.py:111: RuntimeWarning:overflow encountered in expm1\n"
     ]
    },
    {
     "name": "stdout",
     "output_type": "stream",
     "text": [
      "Optimization restart 1/5, f = 1159.1880106042188\n",
      "Optimization restart 2/5, f = 1159.1880107540394\n",
      "Optimization restart 3/5, f = 1159.1880102503499\n",
      "Optimization restart 4/5, f = 1159.188010278495\n",
      "Optimization restart 5/5, f = 1159.1880102495516\n",
      "[[10.          8.29577351  1.          1.        ]]\n",
      "\n",
      "User function emissions called with 1 inputs to simulate\n",
      "\n",
      "Evaluating input: 1 of 1\n",
      "\n",
      " Retrying in 1 seconds\n"
     ]
    },
    {
     "name": "stderr",
     "output_type": "stream",
     "text": [
      " /Users/Matteo/opt/anaconda3/envs/ml_and_physical/lib/python3.8/site-packages/paramz/transformations.py:111: RuntimeWarning:overflow encountered in expm1\n"
     ]
    },
    {
     "name": "stdout",
     "output_type": "stream",
     "text": [
      "Optimization restart 1/5, f = 1162.5953328364749\n",
      "Optimization restart 2/5, f = 1162.5953280013928\n",
      "Optimization restart 3/5, f = 1162.5953280020835\n",
      "Optimization restart 4/5, f = 1162.5953280013873\n",
      "Optimization restart 5/5, f = 1162.5953280033364\n",
      "[[10.          8.29809177  1.          1.        ]]\n",
      "\n",
      "User function emissions called with 1 inputs to simulate\n",
      "\n",
      "Evaluating input: 1 of 1\n",
      "\n",
      " Retrying in 1 seconds\n"
     ]
    },
    {
     "name": "stderr",
     "output_type": "stream",
     "text": [
      " /Users/Matteo/opt/anaconda3/envs/ml_and_physical/lib/python3.8/site-packages/paramz/transformations.py:111: RuntimeWarning:overflow encountered in expm1\n"
     ]
    },
    {
     "name": "stdout",
     "output_type": "stream",
     "text": [
      "Optimization restart 1/5, f = 1165.9988909600495\n",
      "Optimization restart 2/5, f = 1165.9988861589777\n",
      "Optimization restart 3/5, f = 1165.9988861576335\n",
      "Optimization restart 4/5, f = 1165.9988867266168\n",
      "Optimization restart 5/5, f = 1165.9988861715567\n",
      "[[10.  8.  3.  1.]]\n",
      "\n",
      "User function emissions called with 1 inputs to simulate\n",
      "\n",
      "Evaluating input: 1 of 1\n",
      "\n",
      " Retrying in 1 seconds\n"
     ]
    },
    {
     "name": "stderr",
     "output_type": "stream",
     "text": [
      " /Users/Matteo/opt/anaconda3/envs/ml_and_physical/lib/python3.8/site-packages/paramz/transformations.py:111: RuntimeWarning:overflow encountered in expm1\n"
     ]
    },
    {
     "name": "stdout",
     "output_type": "stream",
     "text": [
      "Optimization restart 1/5, f = 1169.4471482019808\n",
      "Optimization restart 2/5, f = 1169.4471474534537\n",
      "Optimization restart 3/5, f = 1169.447147453525\n",
      "Optimization restart 4/5, f = 1169.4471474534994\n",
      "Optimization restart 5/5, f = 1169.4471474534776\n",
      "[[10.  8.  3.  1.]]\n",
      "\n",
      "User function emissions called with 1 inputs to simulate\n",
      "\n",
      "Evaluating input: 1 of 1\n",
      "\n",
      " Retrying in 1 seconds\n"
     ]
    },
    {
     "name": "stderr",
     "output_type": "stream",
     "text": [
      " /Users/Matteo/opt/anaconda3/envs/ml_and_physical/lib/python3.8/site-packages/paramz/transformations.py:111: RuntimeWarning:overflow encountered in expm1\n"
     ]
    },
    {
     "name": "stdout",
     "output_type": "stream",
     "text": [
      "Optimization restart 1/5, f = 1172.882864330274\n",
      "Optimization restart 2/5, f = 1172.8828632264867\n",
      "Optimization restart 3/5, f = 1172.8828632265713\n",
      "Optimization restart 4/5, f = 1172.8828632264003\n"
     ]
    }
   ],
   "source": [
    "bo_random_init = BayesianOptimizationLoop(parameter_space, emukit_model_random_init, acquisition=acquisition_random_init)\n",
    "bo_random_init.run_loop(user_function_emissions, n_iter_bo)"
   ]
  },
  {
   "cell_type": "code",
   "execution_count": null,
   "metadata": {},
   "outputs": [],
   "source": [
    "bo_exp_design = BayesianOptimizationLoop(parameter_space, emukit_model_exp_design, acquisition=acquisition_exp_design)\n",
    "bo_exp_design.run_loop(user_function_emissions, n_iter_bo)"
   ]
  },
  {
   "cell_type": "markdown",
   "metadata": {},
   "source": [
    "## Results"
   ]
  },
  {
   "cell_type": "markdown",
   "metadata": {},
   "source": [
    "### Results on the random initialised emulator"
   ]
  },
  {
   "cell_type": "code",
   "execution_count": null,
   "metadata": {},
   "outputs": [],
   "source": [
    "results_random_init = bo_random_init.get_results()"
   ]
  },
  {
   "cell_type": "code",
   "execution_count": null,
   "metadata": {},
   "outputs": [],
   "source": [
    "results_random_init.minimum_location"
   ]
  },
  {
   "cell_type": "code",
   "execution_count": null,
   "metadata": {},
   "outputs": [],
   "source": [
    "results_random_init.minimum_value*100"
   ]
  },
  {
   "cell_type": "markdown",
   "metadata": {},
   "source": [
    "### Results on the experimentally designed emulator"
   ]
  },
  {
   "cell_type": "code",
   "execution_count": null,
   "metadata": {},
   "outputs": [],
   "source": [
    "results_exp_design = bo_exp_design.get_results()"
   ]
  },
  {
   "cell_type": "code",
   "execution_count": null,
   "metadata": {},
   "outputs": [],
   "source": [
    "results_exp_design.minimum_location"
   ]
  },
  {
   "cell_type": "code",
   "execution_count": null,
   "metadata": {},
   "outputs": [],
   "source": [
    "results_exp_design.minimum_value*100"
   ]
  }
 ],
 "metadata": {
  "kernelspec": {
   "display_name": "ml_and_physical",
   "language": "python",
   "name": "ml_and_physical"
  },
  "language_info": {
   "codemirror_mode": {
    "name": "ipython",
    "version": 3
   },
   "file_extension": ".py",
   "mimetype": "text/x-python",
   "name": "python",
   "nbconvert_exporter": "python",
   "pygments_lexer": "ipython3",
   "version": "3.8.5"
  }
 },
 "nbformat": 4,
 "nbformat_minor": 4
}
