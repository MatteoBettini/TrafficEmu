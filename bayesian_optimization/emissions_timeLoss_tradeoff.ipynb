{
 "cells": [
  {
   "cell_type": "code",
   "execution_count": 1,
   "metadata": {},
   "outputs": [
    {
     "name": "stdout",
     "output_type": "stream",
     "text": [
      "/Users/Matteo/PycharmProjects/TrafficEmu\n"
     ]
    }
   ],
   "source": [
    "%cd .."
   ]
  },
  {
   "cell_type": "code",
   "execution_count": 2,
   "metadata": {},
   "outputs": [],
   "source": [
    "import matplotlib\n",
    "import matplotlib.pyplot as plt\n",
    "%matplotlib inline"
   ]
  },
  {
   "cell_type": "code",
   "execution_count": 3,
   "metadata": {},
   "outputs": [],
   "source": [
    "plt.rcParams['figure.figsize'] = (15.0, 10.0)\n",
    "plt.rcParams['figure.facecolor'] = 'white'\n",
    "plt.rcParams['figure.subplot.bottom'] = 0.125\n",
    "plt.rcParams['figure.edgecolor'] = 'white'\n",
    "\n",
    "plt.rcParams[\"savefig.dpi\"] = 300\n",
    "plt.rcParams[\"savefig.bbox\"] = 'tight'\n",
    "plt.rcParams[\"savefig.pad_inches\"] = 0.1\n",
    "\n",
    "plt.rcParams['font.size'] = 15\n",
    "plt.rcParams['axes.labelsize'] = 15\n",
    "plt.rcParams['xtick.labelsize'] = 15\n",
    "plt.rcParams['ytick.labelsize'] = 15"
   ]
  },
  {
   "cell_type": "code",
   "execution_count": 4,
   "metadata": {},
   "outputs": [
    {
     "name": "stdout",
     "output_type": "stream",
     "text": [
      "warning in stationary: failed to import cython module: falling back to numpy\n",
      "warning in coregionalize: failed to import cython module: falling back to numpy\n",
      "warning in choleskies: failed to import cython module: falling back to numpy\n"
     ]
    }
   ],
   "source": [
    "import pickle\n",
    "import numpy as np\n",
    "import emukit as ek\n",
    "import GPy\n",
    "import pandas as pd\n",
    "import matplotlib.pyplot as plty\n",
    "\n",
    "from emukit.model_wrappers import GPyModelWrapper\n",
    "from emukit.core.initial_designs import RandomDesign\n",
    "from emukit.core import ParameterSpace, ContinuousParameter, DiscreteParameter\n",
    "from emukit.bayesian_optimization.acquisitions import ExpectedImprovement\n",
    "from emukit.bayesian_optimization.loops import BayesianOptimizationLoop\n",
    "\n",
    "from sumo_grid_simulation.grid_simulation import Simulator"
   ]
  },
  {
   "cell_type": "code",
   "execution_count": 5,
   "metadata": {},
   "outputs": [],
   "source": [
    "simulator = Simulator(end_time=300)"
   ]
  },
  {
   "cell_type": "code",
   "execution_count": 6,
   "metadata": {},
   "outputs": [],
   "source": [
    "def user_function_timeLoss(X):\n",
    "    \"\"\"  X = inputs - emukit doesnt pass named args, just an NxM ndarray, N is the number of points to evaluate, M is the number of parameters per each point \"\"\"\n",
    "    result = []\n",
    "    i = 0\n",
    "    \n",
    "    for gridSize, edgeMaxSpeed, edgeLength, numLanes, accel in X:\n",
    "        \n",
    "        beta = 0.05\n",
    "        max_number_of_vehicles = ((gridSize - 1) * gridSize * 2 + 4 * gridSize) * edgeLength / 5\n",
    "        period = 300/(max_number_of_vehicles * beta)\n",
    "        \n",
    "        s = simulator.simulate(\n",
    "            junctionType  = 1,\n",
    "            tlType        = 2, \n",
    "            gridSize      = int(gridSize),\n",
    "            edgeMaxSpeed  = edgeMaxSpeed,\n",
    "            edgeLength    = edgeLength,\n",
    "            numberOfLanes = int(numLanes),\n",
    "            accel         = accel,\n",
    "            trips_generator_period = period\n",
    "        )\n",
    "       \n",
    "        result.append(s['timeLoss']/s['duration'])\n",
    "\n",
    "    \n",
    "        i += 1\n",
    "        \n",
    "    \n",
    "    return result  "
   ]
  },
  {
   "cell_type": "code",
   "execution_count": 7,
   "metadata": {},
   "outputs": [],
   "source": [
    "def user_function_emissions(X):\n",
    "    \"\"\"  X = inputs - emukit doesnt pass named args, just an NxM ndarray, N is the number of points to evaluate, M is the number of parameters per each point \"\"\"\n",
    "    result = []\n",
    "    i = 0\n",
    "    \n",
    "    for gridSize, edgeMaxSpeed, edgeLength, numLanes, accel in X:\n",
    "        \n",
    "        beta = 0.05\n",
    "        max_number_of_vehicles = ((gridSize - 1) * gridSize * 2 + 4 * gridSize) * edgeLength / 5\n",
    "        period = 300/(max_number_of_vehicles * beta)\n",
    "        \n",
    "        s = simulator.simulate(\n",
    "            junctionType  = 2,\n",
    "            tlType        = 2, \n",
    "            gridSize      = int(gridSize),\n",
    "            edgeMaxSpeed  = edgeMaxSpeed,\n",
    "            edgeLength    = edgeLength,\n",
    "            numberOfLanes = int(numLanes),\n",
    "            accel         = accel,\n",
    "            trips_generator_period = period\n",
    "        )\n",
    "       \n",
    "        result.append(s['CO2'] / (max_number_of_vehicles * beta * s['duration']))\n",
    "    \n",
    "        i += 1\n",
    "        \n",
    "    \n",
    "    return result  "
   ]
  },
  {
   "cell_type": "code",
   "execution_count": 8,
   "metadata": {},
   "outputs": [],
   "source": [
    "results_timeLoss = pickle.load(open('bayesian_optimization/bayesian_opt_results/results_integrated_variance_timeLoss.pkl', 'rb'))\n",
    "results_co2 = pickle.load(open('bayesian_optimization/bayesian_opt_results/results_400_BO_loops_500_integrated_variance_CO2_ARD.pkl', 'rb'))"
   ]
  },
  {
   "cell_type": "code",
   "execution_count": 9,
   "metadata": {},
   "outputs": [],
   "source": [
    "parameters_name = ['Size of the grid', 'Speed limit in the net (m/s)', 'Length of the roads (m)', 'Number of lanes', 'Accelleration (m/s^2)']"
   ]
  },
  {
   "cell_type": "code",
   "execution_count": 10,
   "metadata": {},
   "outputs": [
    {
     "data": {
      "text/html": [
       "<div>\n",
       "<style scoped>\n",
       "    .dataframe tbody tr th:only-of-type {\n",
       "        vertical-align: middle;\n",
       "    }\n",
       "\n",
       "    .dataframe tbody tr th {\n",
       "        vertical-align: top;\n",
       "    }\n",
       "\n",
       "    .dataframe thead th {\n",
       "        text-align: right;\n",
       "    }\n",
       "</style>\n",
       "<table border=\"1\" class=\"dataframe\">\n",
       "  <thead>\n",
       "    <tr style=\"text-align: right;\">\n",
       "      <th></th>\n",
       "      <th>Size of the grid</th>\n",
       "      <th>Speed limit in the net (m/s)</th>\n",
       "      <th>Length of the roads (m)</th>\n",
       "      <th>Number of lanes</th>\n",
       "      <th>Accelleration (m/s^2)</th>\n",
       "    </tr>\n",
       "  </thead>\n",
       "  <tbody>\n",
       "    <tr>\n",
       "      <th>0</th>\n",
       "      <td>10.0</td>\n",
       "      <td>8.0</td>\n",
       "      <td>70.0</td>\n",
       "      <td>2.0</td>\n",
       "      <td>1.862688</td>\n",
       "    </tr>\n",
       "  </tbody>\n",
       "</table>\n",
       "</div>"
      ],
      "text/plain": [
       "   Size of the grid  Speed limit in the net (m/s)  Length of the roads (m)  \\\n",
       "0              10.0                           8.0                     70.0   \n",
       "\n",
       "   Number of lanes  Accelleration (m/s^2)  \n",
       "0              2.0               1.862688  "
      ]
     },
     "execution_count": 10,
     "metadata": {},
     "output_type": "execute_result"
    }
   ],
   "source": [
    "results_timeLoss_df = pd.DataFrame(results_timeLoss.minimum_location.reshape(1,-1))\n",
    "results_timeLoss_df.columns = parameters_name\n",
    "results_timeLoss_df"
   ]
  },
  {
   "cell_type": "code",
   "execution_count": 11,
   "metadata": {},
   "outputs": [
    {
     "data": {
      "text/plain": [
       "8.0"
      ]
     },
     "execution_count": 11,
     "metadata": {},
     "output_type": "execute_result"
    }
   ],
   "source": [
    "results_timeLoss_df.iloc[0][1]"
   ]
  },
  {
   "cell_type": "code",
   "execution_count": 12,
   "metadata": {},
   "outputs": [
    {
     "data": {
      "text/html": [
       "<div>\n",
       "<style scoped>\n",
       "    .dataframe tbody tr th:only-of-type {\n",
       "        vertical-align: middle;\n",
       "    }\n",
       "\n",
       "    .dataframe tbody tr th {\n",
       "        vertical-align: top;\n",
       "    }\n",
       "\n",
       "    .dataframe thead th {\n",
       "        text-align: right;\n",
       "    }\n",
       "</style>\n",
       "<table border=\"1\" class=\"dataframe\">\n",
       "  <thead>\n",
       "    <tr style=\"text-align: right;\">\n",
       "      <th></th>\n",
       "      <th>Size of the grid</th>\n",
       "      <th>Speed limit in the net (m/s)</th>\n",
       "      <th>Length of the roads (m)</th>\n",
       "      <th>Number of lanes</th>\n",
       "      <th>Accelleration (m/s^2)</th>\n",
       "    </tr>\n",
       "  </thead>\n",
       "  <tbody>\n",
       "    <tr>\n",
       "      <th>0</th>\n",
       "      <td>20.0</td>\n",
       "      <td>8.0</td>\n",
       "      <td>61.368174</td>\n",
       "      <td>1.0</td>\n",
       "      <td>2.692604</td>\n",
       "    </tr>\n",
       "  </tbody>\n",
       "</table>\n",
       "</div>"
      ],
      "text/plain": [
       "   Size of the grid  Speed limit in the net (m/s)  Length of the roads (m)  \\\n",
       "0              20.0                           8.0                61.368174   \n",
       "\n",
       "   Number of lanes  Accelleration (m/s^2)  \n",
       "0              1.0               2.692604  "
      ]
     },
     "execution_count": 12,
     "metadata": {},
     "output_type": "execute_result"
    }
   ],
   "source": [
    "results_emissions_df = pd.DataFrame(results_co2.minimum_location.reshape(1,-1))\n",
    "results_emissions_df.columns = parameters_name\n",
    "results_emissions_df"
   ]
  },
  {
   "cell_type": "code",
   "execution_count": 13,
   "metadata": {},
   "outputs": [
    {
     "data": {
      "text/plain": [
       "array([[ 8.        , 65.68408723,  1.        ,  2.27764566]])"
      ]
     },
     "execution_count": 13,
     "metadata": {},
     "output_type": "execute_result"
    }
   ],
   "source": [
    "optimal_point = np.array([np.mean([results_timeLoss_df.iloc[0][1], results_emissions_df.iloc[0][1]]),\n",
    "                          np.mean([results_timeLoss_df.iloc[0][2], results_emissions_df.iloc[0][2]]), \n",
    "                          int(np.mean([results_timeLoss_df.iloc[0][3], results_emissions_df.iloc[0][3]])), \n",
    "                          np.mean([results_timeLoss_df.iloc[0][4], results_emissions_df.iloc[0][4]])]).reshape(1,-1)\n",
    "optimal_point"
   ]
  },
  {
   "cell_type": "code",
   "execution_count": null,
   "metadata": {},
   "outputs": [
    {
     "name": "stdout",
     "output_type": "stream",
     "text": [
      " Retrying in 1 seconds\n",
      " Retrying in 1 seconds\n",
      " Retrying in 1 seconds\n",
      " Retrying in 1 seconds\n",
      " Retrying in 1 seconds\n",
      " Retrying in 1 seconds\n",
      " Retrying in 1 seconds\n",
      " Retrying in 1 seconds\n",
      " Retrying in 1 seconds\n",
      " Retrying in 1 seconds\n",
      " Retrying in 1 seconds\n",
      " Retrying in 1 seconds\n",
      " Retrying in 1 seconds\n",
      " Retrying in 1 seconds\n",
      " Retrying in 1 seconds\n",
      " Retrying in 1 seconds\n",
      " Retrying in 1 seconds\n",
      " Retrying in 1 seconds\n",
      " Retrying in 1 seconds\n",
      " Retrying in 1 seconds\n",
      " Retrying in 1 seconds\n",
      " Retrying in 1 seconds\n",
      " Retrying in 1 seconds\n"
     ]
    }
   ],
   "source": [
    "timeLosses = []\n",
    "emissions = []\n",
    "\n",
    "\n",
    "for gridSize in range(9, 21):\n",
    "    X = np.hstack([np.array([gridSize]).reshape(1,-1), optimal_point])\n",
    "    y_time = user_function_timeLoss(X)\n",
    "    y_emissions = user_function_emissions(X)\n",
    "    \n",
    "    timeLosses.append(y_time * 100)\n",
    "    emissions.append(y_emissions)\n",
    "    "
   ]
  },
  {
   "cell_type": "code",
   "execution_count": null,
   "metadata": {},
   "outputs": [],
   "source": [
    "fig, ax = plt.subplots()\n",
    "\n",
    "blue = [0, 0.4470, 0.7410]\n",
    "orange = [0.8500, 0.3250, 0.0980]\n",
    "\n",
    "ax.plot(np.arange(9,21,1), timeLosses)\n",
    "ax.set_ylabel('Average percentage of time lost (%)', color=blue) \n",
    "\n",
    "ax2 = ax.twinx() \n",
    "ax2.plot(np.arange(9,21,1), emissions, color=orange)\n",
    "ax2.set_ylabel('Milligrams of $CO_2$ produced per second ($mg/s$)', color=orange) \n",
    "\n",
    "ax.set_xlabel('gridSize $N_G$')\n",
    "ax.set_title('Trade-off between timeLoss and emissions in the optimal point')\n",
    "fig.legend(['timeLoss','emissions'])\n",
    "plt.xticks(np.arange(9,21,1))\n",
    "fig.tight_layout()  \n",
    "\n",
    "fig.savefig('trade-off.png')"
   ]
  }
 ],
 "metadata": {
  "kernelspec": {
   "display_name": "ml_and_physical",
   "language": "python",
   "name": "ml_and_physical"
  },
  "language_info": {
   "codemirror_mode": {
    "name": "ipython",
    "version": 3
   },
   "file_extension": ".py",
   "mimetype": "text/x-python",
   "name": "python",
   "nbconvert_exporter": "python",
   "pygments_lexer": "ipython3",
   "version": "3.8.5"
  }
 },
 "nbformat": 4,
 "nbformat_minor": 4
}
