{
 "cells": [
  {
   "cell_type": "code",
   "execution_count": 1,
   "metadata": {},
   "outputs": [],
   "source": [
    "# the TestEnv environment is used to simply simulate the network\n",
    "from flow.envs import TestEnv\n",
    "\n",
    "# the Experiment class is used for running simulations\n",
    "from flow.core.experiment import Experiment\n",
    "\n",
    "# all other imports are standard\n",
    "from flow.core.params import VehicleParams\n",
    "from flow.core.params import NetParams\n",
    "from flow.core.params import InitialConfig\n",
    "from flow.core.params import EnvParams\n",
    "from flow.core.params import SumoParams"
   ]
  },
  {
   "cell_type": "markdown",
   "metadata": {},
   "source": [
    "## 1. Running a Default Simulation\n",
    "\n",
    "In order to create a scenario object in Flow with network features depicted from OpenStreetMap, we will use the base `Scenario` class. This class can sufficiently support the generation of any .osm file."
   ]
  },
  {
   "cell_type": "code",
   "execution_count": 2,
   "metadata": {},
   "outputs": [],
   "source": [
    "from flow.scenarios import Scenario\n",
    "from osm_scenario import OSMScenario"
   ]
  },
  {
   "cell_type": "markdown",
   "metadata": {},
   "source": [
    "In order to recreate the network features of a specific osm file, the path to the osm file must be specified in `NetParams`. For this example, we will use an osm file extracted from the section of the Bay Bridge as depicted in Figure 1.\n",
    "\n",
    "In order to specify the path to the osm file, simply fill in the `osm_path` attribute with the path to the .osm file as follows:"
   ]
  },
  {
   "cell_type": "code",
   "execution_count": 3,
   "metadata": {},
   "outputs": [],
   "source": [
    "# net_params = NetParams(\n",
    "#     osm_path='osm_bbox.osm.xml'\n",
    "# )"
   ]
  },
  {
   "cell_type": "code",
   "execution_count": 4,
   "metadata": {},
   "outputs": [],
   "source": [
    "# # create the remainding parameters\n",
    "# env_params = EnvParams()\n",
    "# sim_params = SumoParams(render=True)\n",
    "# initial_config = InitialConfig()\n",
    "# vehicles = VehicleParams()\n",
    "# vehicles.add('human', num_vehicles=100)\n",
    "\n",
    "# # create the scenario\n",
    "# scenario = Scenario(\n",
    "#     name='cambridge',\n",
    "#     net_params=net_params,\n",
    "#     initial_config=initial_config,\n",
    "#     vehicles=vehicles\n",
    "# )"
   ]
  },
  {
   "cell_type": "markdown",
   "metadata": {},
   "source": [
    "We are finally ready to test our scenario in simulation. In order to do so, we create an `Experiment` object and run the simulation for a number of steps. This is done in the cell below."
   ]
  },
  {
   "cell_type": "code",
   "execution_count": 5,
   "metadata": {},
   "outputs": [],
   "source": [
    "# # create the environment\n",
    "# env = TestEnv(\n",
    "#     env_params=env_params,\n",
    "#     sim_params=sim_params,\n",
    "#     scenario=scenario\n",
    "# )\n",
    "\n",
    "# # run the simulation for 1000 steps\n",
    "# exp = Experiment(env=env)\n",
    "# exp.run(1, 1000)"
   ]
  },
  {
   "cell_type": "markdown",
   "metadata": {},
   "source": [
    "## 2 Running a simulation using existing files"
   ]
  },
  {
   "cell_type": "code",
   "execution_count": 6,
   "metadata": {},
   "outputs": [],
   "source": [
    "sim_params = SumoParams(render=True, sim_step=1)"
   ]
  },
  {
   "cell_type": "markdown",
   "metadata": {},
   "source": [
    "### 3.1 Importing Network (\\*.net.xml) Files\n",
    "\n",
    "The \\*.net.xml file covers the network geometry within a simulation, and can be imported independently of the SUMO route file. This can be done through the `template` parameter within `NetParams` as follows:"
   ]
  },
  {
   "cell_type": "code",
   "execution_count": 7,
   "metadata": {},
   "outputs": [],
   "source": [
    "import os\n",
    "\n",
    "net_params = NetParams(\n",
    "    template={\n",
    "        # network geometry features\n",
    "        \"net\": os.path.join(os.getcwd() , \"osm.net.xml\"),\n",
    "        # features associated with the properties of drivers\n",
    "        \"vtype\": \"vtypes2040.add.xml\",\n",
    "        # features associated with the routes vehicles take\n",
    "        \"rou\": [\"routes.rou.xml\"]\n",
    "    }\n",
    ")\n",
    "\n",
    "vehicles = VehicleParams()"
   ]
  },
  {
   "cell_type": "markdown",
   "metadata": {},
   "source": [
    "Note that, when vehicle information is being imported from a template file, the `VehicleParams` object does not need be modified, unless you would like additionally vehicles to enter the network as well."
   ]
  },
  {
   "cell_type": "code",
   "execution_count": 8,
   "metadata": {},
   "outputs": [
    {
     "name": "stdout",
     "output_type": "stream",
     "text": [
      "Round 0, return: 0\n",
      "Average, std return: 0.0, 0.0\n",
      "Average, std speed: 9.134281523960103, 0.0\n"
     ]
    }
   ],
   "source": [
    "# create the scenario\n",
    "scenario = OSMScenario(\n",
    "    name=\"template\",\n",
    "    net_params=net_params,\n",
    "    vehicles=vehicles\n",
    ")\n",
    "\n",
    "# create the environment\n",
    "env_params = EnvParams()\n",
    "env = TestEnv(\n",
    "    env_params=env_params,\n",
    "    sim_params=sim_params,\n",
    "    scenario=scenario\n",
    ")\n",
    "\n",
    "# run the simulation for 100000 steps\n",
    "exp = Experiment(env=env)\n",
    "_ = exp.run(1, 1000)"
   ]
  }
 ],
 "metadata": {
  "kernelspec": {
   "display_name": "Python 3",
   "language": "python",
   "name": "python3"
  },
  "language_info": {
   "codemirror_mode": {
    "name": "ipython",
    "version": 3
   },
   "file_extension": ".py",
   "mimetype": "text/x-python",
   "name": "python",
   "nbconvert_exporter": "python",
   "pygments_lexer": "ipython3",
   "version": "3.6.8"
  }
 },
 "nbformat": 4,
 "nbformat_minor": 4
}
