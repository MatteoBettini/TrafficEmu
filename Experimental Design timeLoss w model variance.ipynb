{
 "cells": [
  {
   "cell_type": "code",
   "execution_count": 1,
   "metadata": {},
   "outputs": [],
   "source": [
    "# If you get a SciPy error when installing Emukit, build it from source:\n",
    "\n",
    "# git clone https://github.com/amzn/Emukit.git\n",
    "# cd Emukit\n",
    "# pip install -r requirements/requirements.txt\n",
    "# python setup.py develop"
   ]
  },
  {
   "cell_type": "code",
   "execution_count": 1,
   "metadata": {},
   "outputs": [],
   "source": [
    "import numpy as np\n",
    "import emukit as ek\n",
    "import GPy\n",
    "\n",
    "from emukit.model_wrappers import GPyModelWrapper\n",
    "from emukit.experimental_design.experimental_design_loop import ExperimentalDesignLoop\n",
    "from emukit.core import ParameterSpace, ContinuousParameter, DiscreteParameter\n",
    "from emukit.core.initial_designs import RandomDesign, latin_design\n",
    "from emukit.experimental_design.acquisitions import ModelVariance\n",
    "from emukit.core.loop import UserFunctionWrapper\n",
    "from emukit.bayesian_optimization.acquisitions import ExpectedImprovement\n",
    "from emukit.bayesian_optimization.loops import BayesianOptimizationLoop\n",
    "\n",
    "from sumo_grid_simulation.grid_simulation import Simulator"
   ]
  },
  {
   "cell_type": "markdown",
   "metadata": {},
   "source": [
    "### Pseudocode\n",
    "\n",
    "Fitting a gaussian process to a simulator using Emukit takes the following form (taken from L48 lectures):\n",
    "\n",
    "```\n",
    "initialize GP with some randomly chosen points\n",
    "while stopping condition is not met:\n",
    "    compute candidate point(s) using GP and acquisition funciton (model_variance) -> new point\n",
    "    evaluate this new point with our simulator/user function -> observation\n",
    "    update model with new observation -> new GP\n",
    "```"
   ]
  },
  {
   "cell_type": "markdown",
   "metadata": {},
   "source": [
    "### Simulator"
   ]
  },
  {
   "cell_type": "code",
   "execution_count": 2,
   "metadata": {},
   "outputs": [],
   "source": [
    "simulator = Simulator()"
   ]
  },
  {
   "cell_type": "markdown",
   "metadata": {},
   "source": [
    "### User Function\n",
    " \n",
    "This is the function we want to understand. Namedly, how are CO2 emissions and timeLoss (the time lost due to driving below the ideal speed) affected by the following parameters: \n",
    "\n",
    "```\n",
    "edgeMaxSpeed: legal speed limit in m/s - this can be exceeded (11.11 == 40km/h)\n",
    "maxSpeed: the absolute maximum velocity of any vehicle in m/s (55.55 == 200 km/h)\n",
    "edgeLength: length of the roads between intersections in meters\n",
    "numLanes: number of lanes per road\n",
    "accel: The acceleration ability of vehicles in m/s^2.\n",
    "```\n",
    "\n",
    "*A complete list of parmeters analysed is discussed in our report.*"
   ]
  },
  {
   "cell_type": "code",
   "execution_count": 3,
   "metadata": {},
   "outputs": [],
   "source": [
    "def user_function_time_loss(X):\n",
    "    \"\"\"  X = inputs - emukit doesnt pass named args, just an NxM ndarray \"\"\"\n",
    "    result = []\n",
    "    print(X)\n",
    "    \n",
    "    for gridSize, edgeMaxSpeed, maxSpeed, edgeLength, numLanes, accel in X:\n",
    "        s = simulator.simulate(\n",
    "            gridSize      = int(gridSize),\n",
    "            edgeMaxSpeed  = edgeMaxSpeed,\n",
    "            maxSpeed      = maxSpeed,\n",
    "            edgeLength    = int(edgeLength),\n",
    "            numberOfLanes = int(numLanes),\n",
    "            accel         = accel\n",
    "        )\n",
    "        result.append(s['timeLoss'])\n",
    "        \n",
    "    # expand dims is essential or the acquition function breaks\n",
    "    return np.expand_dims(np.array(result), 1)  "
   ]
  },
  {
   "cell_type": "markdown",
   "metadata": {},
   "source": [
    "### Model (GP)"
   ]
  },
  {
   "cell_type": "markdown",
   "metadata": {},
   "source": [
    "Our surrogate model is our emulator. In this case, a gaussian process. I think that emukit handles categorical/discrete inputs using one-hot encodings."
   ]
  },
  {
   "cell_type": "markdown",
   "metadata": {},
   "source": [
    "#### Model Inputs"
   ]
  },
  {
   "cell_type": "code",
   "execution_count": 5,
   "metadata": {},
   "outputs": [],
   "source": [
    "gridSize = ContinuousParameter('gridSize', min_value=3, max_value=25)\n",
    "edgeMaxSpeed = ContinuousParameter('edgeMaxSpeed', min_value=1, max_value=25)\n",
    "maxSpeed = ContinuousParameter('maxSpeed', min_value=1, max_value=25)\n",
    "edgeLength = ContinuousParameter('edgeLength', min_value=2, max_value=250)\n",
    "numberOfLanes = DiscreteParameter('numberOfLanes', domain=[1,2,3,4])\n",
    "accel = ContinuousParameter('accel', 0.2, 10)\n",
    "\n",
    "parameter_space = ParameterSpace([gridSize, edgeMaxSpeed, maxSpeed, edgeLength, numberOfLanes, accel])"
   ]
  },
  {
   "cell_type": "markdown",
   "metadata": {},
   "source": [
    "#### Initialize Model / Emulator (GP)"
   ]
  },
  {
   "cell_type": "code",
   "execution_count": 6,
   "metadata": {},
   "outputs": [
    {
     "name": "stdout",
     "output_type": "stream",
     "text": [
      "[[ 15.07301289   1.98353131  22.62517987 162.12772275   4.\n",
      "    7.15171609]\n",
      " [  8.85289705  15.84590847   5.36980788 137.21952764   4.\n",
      "    7.21996077]\n",
      " [ 10.03239852   4.50754156  17.0547725   61.25773676   3.\n",
      "    7.43640295]\n",
      " [  8.94157628  20.4729841    4.40364854 234.93636703   1.\n",
      "    7.03497571]\n",
      " [  6.75046592  12.53254475   5.0060201  116.80839185   2.\n",
      "    9.26260887]\n",
      " [ 14.7438653   21.11457771  23.78893208 170.21070316   4.\n",
      "    9.73512645]\n",
      " [ 12.76892073  20.04400091   7.48239245 186.74216417   3.\n",
      "    2.915376  ]\n",
      " [ 22.78773654   9.2482371    1.39325413 185.15766495   4.\n",
      "    7.23390271]\n",
      " [  4.75883662   1.75115132  19.75706724  55.72665967   2.\n",
      "    0.89619117]\n",
      " [  3.5095607   23.42706265   4.55726009  41.4986788    3.\n",
      "    3.12628421]]\n",
      "Success.\n",
      "\n",
      "calling /usr/local/Cellar/sumo/1.8.0/share/sumo/bin/duarouter -n /Users/harrysonghurst/Documents/Coursework/L48 Machine Learning and the Physical World/TrafficEmu/sumo_grid_simulation/simulation_input_files/grid.net.xml -r /Users/harrysonghurst/Documents/Coursework/L48 Machine Learning and the Physical World/TrafficEmu/sumo_grid_simulation/simulation_input_files/veh_passenger.trips.xml --ignore-errors --begin 0.0 --end 3600.0 --no-step-log --additional-files /Users/harrysonghurst/Documents/Coursework/L48 Machine Learning and the Physical World/TrafficEmu/sumo_grid_simulation/simulation_input_files/veh.add.xml --no-warnings -o /Users/harrysonghurst/Documents/Coursework/L48 Machine Learning and the Physical World/TrafficEmu/sumo_grid_simulation/simulation_input_files/veh_passenger.rou.xml\n",
      "Success.\n",
      "calling /usr/local/Cellar/sumo/1.8.0/share/sumo/bin/duarouter -n /Users/harrysonghurst/Documents/Coursework/L48 Machine Learning and the Physical World/TrafficEmu/sumo_grid_simulation/simulation_input_files/grid.net.xml -r /Users/harrysonghurst/Documents/Coursework/L48 Machine Learning and the Physical World/TrafficEmu/sumo_grid_simulation/simulation_input_files/veh_passenger.trips.xml --ignore-errors --begin 0.0 --end 3600.0 --no-step-log --additional-files /Users/harrysonghurst/Documents/Coursework/L48 Machine Learning and the Physical World/TrafficEmu/sumo_grid_simulation/simulation_input_files/veh.add.xml --no-warnings -o /Users/harrysonghurst/Documents/Coursework/L48 Machine Learning and the Physical World/TrafficEmu/sumo_grid_simulation/simulation_input_files/veh_passenger.trips.xml.tmp --write-trips\n",
      "Success.\n",
      "\n",
      " Retrying in 1 seconds\n",
      "Success.\n",
      "\n",
      "calling /usr/local/Cellar/sumo/1.8.0/share/sumo/bin/duarouter -n /Users/harrysonghurst/Documents/Coursework/L48 Machine Learning and the Physical World/TrafficEmu/sumo_grid_simulation/simulation_input_files/grid.net.xml -r /Users/harrysonghurst/Documents/Coursework/L48 Machine Learning and the Physical World/TrafficEmu/sumo_grid_simulation/simulation_input_files/veh_passenger.trips.xml --ignore-errors --begin 0.0 --end 3600.0 --no-step-log --additional-files /Users/harrysonghurst/Documents/Coursework/L48 Machine Learning and the Physical World/TrafficEmu/sumo_grid_simulation/simulation_input_files/veh.add.xml --no-warnings -o /Users/harrysonghurst/Documents/Coursework/L48 Machine Learning and the Physical World/TrafficEmu/sumo_grid_simulation/simulation_input_files/veh_passenger.rou.xml\n",
      "Success.\n",
      "calling /usr/local/Cellar/sumo/1.8.0/share/sumo/bin/duarouter -n /Users/harrysonghurst/Documents/Coursework/L48 Machine Learning and the Physical World/TrafficEmu/sumo_grid_simulation/simulation_input_files/grid.net.xml -r /Users/harrysonghurst/Documents/Coursework/L48 Machine Learning and the Physical World/TrafficEmu/sumo_grid_simulation/simulation_input_files/veh_passenger.trips.xml --ignore-errors --begin 0.0 --end 3600.0 --no-step-log --additional-files /Users/harrysonghurst/Documents/Coursework/L48 Machine Learning and the Physical World/TrafficEmu/sumo_grid_simulation/simulation_input_files/veh.add.xml --no-warnings -o /Users/harrysonghurst/Documents/Coursework/L48 Machine Learning and the Physical World/TrafficEmu/sumo_grid_simulation/simulation_input_files/veh_passenger.trips.xml.tmp --write-trips\n",
      "Success.\n",
      "\n",
      " Retrying in 1 seconds\n",
      "Success.\n",
      "\n",
      "calling /usr/local/Cellar/sumo/1.8.0/share/sumo/bin/duarouter -n /Users/harrysonghurst/Documents/Coursework/L48 Machine Learning and the Physical World/TrafficEmu/sumo_grid_simulation/simulation_input_files/grid.net.xml -r /Users/harrysonghurst/Documents/Coursework/L48 Machine Learning and the Physical World/TrafficEmu/sumo_grid_simulation/simulation_input_files/veh_passenger.trips.xml --ignore-errors --begin 0.0 --end 3600.0 --no-step-log --additional-files /Users/harrysonghurst/Documents/Coursework/L48 Machine Learning and the Physical World/TrafficEmu/sumo_grid_simulation/simulation_input_files/veh.add.xml --no-warnings -o /Users/harrysonghurst/Documents/Coursework/L48 Machine Learning and the Physical World/TrafficEmu/sumo_grid_simulation/simulation_input_files/veh_passenger.rou.xml\n",
      "Success.\n",
      "calling /usr/local/Cellar/sumo/1.8.0/share/sumo/bin/duarouter -n /Users/harrysonghurst/Documents/Coursework/L48 Machine Learning and the Physical World/TrafficEmu/sumo_grid_simulation/simulation_input_files/grid.net.xml -r /Users/harrysonghurst/Documents/Coursework/L48 Machine Learning and the Physical World/TrafficEmu/sumo_grid_simulation/simulation_input_files/veh_passenger.trips.xml --ignore-errors --begin 0.0 --end 3600.0 --no-step-log --additional-files /Users/harrysonghurst/Documents/Coursework/L48 Machine Learning and the Physical World/TrafficEmu/sumo_grid_simulation/simulation_input_files/veh.add.xml --no-warnings -o /Users/harrysonghurst/Documents/Coursework/L48 Machine Learning and the Physical World/TrafficEmu/sumo_grid_simulation/simulation_input_files/veh_passenger.trips.xml.tmp --write-trips\n",
      "Success.\n",
      "\n",
      " Retrying in 1 seconds\n",
      "Success.\n",
      "\n",
      "calling /usr/local/Cellar/sumo/1.8.0/share/sumo/bin/duarouter -n /Users/harrysonghurst/Documents/Coursework/L48 Machine Learning and the Physical World/TrafficEmu/sumo_grid_simulation/simulation_input_files/grid.net.xml -r /Users/harrysonghurst/Documents/Coursework/L48 Machine Learning and the Physical World/TrafficEmu/sumo_grid_simulation/simulation_input_files/veh_passenger.trips.xml --ignore-errors --begin 0.0 --end 3600.0 --no-step-log --additional-files /Users/harrysonghurst/Documents/Coursework/L48 Machine Learning and the Physical World/TrafficEmu/sumo_grid_simulation/simulation_input_files/veh.add.xml --no-warnings -o /Users/harrysonghurst/Documents/Coursework/L48 Machine Learning and the Physical World/TrafficEmu/sumo_grid_simulation/simulation_input_files/veh_passenger.rou.xml\n",
      "Success.\n",
      "calling /usr/local/Cellar/sumo/1.8.0/share/sumo/bin/duarouter -n /Users/harrysonghurst/Documents/Coursework/L48 Machine Learning and the Physical World/TrafficEmu/sumo_grid_simulation/simulation_input_files/grid.net.xml -r /Users/harrysonghurst/Documents/Coursework/L48 Machine Learning and the Physical World/TrafficEmu/sumo_grid_simulation/simulation_input_files/veh_passenger.trips.xml --ignore-errors --begin 0.0 --end 3600.0 --no-step-log --additional-files /Users/harrysonghurst/Documents/Coursework/L48 Machine Learning and the Physical World/TrafficEmu/sumo_grid_simulation/simulation_input_files/veh.add.xml --no-warnings -o /Users/harrysonghurst/Documents/Coursework/L48 Machine Learning and the Physical World/TrafficEmu/sumo_grid_simulation/simulation_input_files/veh_passenger.trips.xml.tmp --write-trips\n",
      "Success.\n",
      "\n",
      " Retrying in 1 seconds\n",
      "Success.\n",
      "\n",
      "calling /usr/local/Cellar/sumo/1.8.0/share/sumo/bin/duarouter -n /Users/harrysonghurst/Documents/Coursework/L48 Machine Learning and the Physical World/TrafficEmu/sumo_grid_simulation/simulation_input_files/grid.net.xml -r /Users/harrysonghurst/Documents/Coursework/L48 Machine Learning and the Physical World/TrafficEmu/sumo_grid_simulation/simulation_input_files/veh_passenger.trips.xml --ignore-errors --begin 0.0 --end 3600.0 --no-step-log --additional-files /Users/harrysonghurst/Documents/Coursework/L48 Machine Learning and the Physical World/TrafficEmu/sumo_grid_simulation/simulation_input_files/veh.add.xml --no-warnings -o /Users/harrysonghurst/Documents/Coursework/L48 Machine Learning and the Physical World/TrafficEmu/sumo_grid_simulation/simulation_input_files/veh_passenger.rou.xml\n",
      "Success.\n",
      "calling /usr/local/Cellar/sumo/1.8.0/share/sumo/bin/duarouter -n /Users/harrysonghurst/Documents/Coursework/L48 Machine Learning and the Physical World/TrafficEmu/sumo_grid_simulation/simulation_input_files/grid.net.xml -r /Users/harrysonghurst/Documents/Coursework/L48 Machine Learning and the Physical World/TrafficEmu/sumo_grid_simulation/simulation_input_files/veh_passenger.trips.xml --ignore-errors --begin 0.0 --end 3600.0 --no-step-log --additional-files /Users/harrysonghurst/Documents/Coursework/L48 Machine Learning and the Physical World/TrafficEmu/sumo_grid_simulation/simulation_input_files/veh.add.xml --no-warnings -o /Users/harrysonghurst/Documents/Coursework/L48 Machine Learning and the Physical World/TrafficEmu/sumo_grid_simulation/simulation_input_files/veh_passenger.trips.xml.tmp --write-trips\n",
      "Success.\n",
      "\n",
      " Retrying in 1 seconds\n"
     ]
    },
    {
     "name": "stdout",
     "output_type": "stream",
     "text": [
      "Success.\n",
      "\n",
      "calling /usr/local/Cellar/sumo/1.8.0/share/sumo/bin/duarouter -n /Users/harrysonghurst/Documents/Coursework/L48 Machine Learning and the Physical World/TrafficEmu/sumo_grid_simulation/simulation_input_files/grid.net.xml -r /Users/harrysonghurst/Documents/Coursework/L48 Machine Learning and the Physical World/TrafficEmu/sumo_grid_simulation/simulation_input_files/veh_passenger.trips.xml --ignore-errors --begin 0.0 --end 3600.0 --no-step-log --additional-files /Users/harrysonghurst/Documents/Coursework/L48 Machine Learning and the Physical World/TrafficEmu/sumo_grid_simulation/simulation_input_files/veh.add.xml --no-warnings -o /Users/harrysonghurst/Documents/Coursework/L48 Machine Learning and the Physical World/TrafficEmu/sumo_grid_simulation/simulation_input_files/veh_passenger.rou.xml\n",
      "Success.\n",
      "calling /usr/local/Cellar/sumo/1.8.0/share/sumo/bin/duarouter -n /Users/harrysonghurst/Documents/Coursework/L48 Machine Learning and the Physical World/TrafficEmu/sumo_grid_simulation/simulation_input_files/grid.net.xml -r /Users/harrysonghurst/Documents/Coursework/L48 Machine Learning and the Physical World/TrafficEmu/sumo_grid_simulation/simulation_input_files/veh_passenger.trips.xml --ignore-errors --begin 0.0 --end 3600.0 --no-step-log --additional-files /Users/harrysonghurst/Documents/Coursework/L48 Machine Learning and the Physical World/TrafficEmu/sumo_grid_simulation/simulation_input_files/veh.add.xml --no-warnings -o /Users/harrysonghurst/Documents/Coursework/L48 Machine Learning and the Physical World/TrafficEmu/sumo_grid_simulation/simulation_input_files/veh_passenger.trips.xml.tmp --write-trips\n",
      "Success.\n",
      "\n",
      " Retrying in 1 seconds\n",
      "Success.\n",
      "\n",
      "calling /usr/local/Cellar/sumo/1.8.0/share/sumo/bin/duarouter -n /Users/harrysonghurst/Documents/Coursework/L48 Machine Learning and the Physical World/TrafficEmu/sumo_grid_simulation/simulation_input_files/grid.net.xml -r /Users/harrysonghurst/Documents/Coursework/L48 Machine Learning and the Physical World/TrafficEmu/sumo_grid_simulation/simulation_input_files/veh_passenger.trips.xml --ignore-errors --begin 0.0 --end 3600.0 --no-step-log --additional-files /Users/harrysonghurst/Documents/Coursework/L48 Machine Learning and the Physical World/TrafficEmu/sumo_grid_simulation/simulation_input_files/veh.add.xml --no-warnings -o /Users/harrysonghurst/Documents/Coursework/L48 Machine Learning and the Physical World/TrafficEmu/sumo_grid_simulation/simulation_input_files/veh_passenger.rou.xml\n",
      "Success.\n",
      "calling /usr/local/Cellar/sumo/1.8.0/share/sumo/bin/duarouter -n /Users/harrysonghurst/Documents/Coursework/L48 Machine Learning and the Physical World/TrafficEmu/sumo_grid_simulation/simulation_input_files/grid.net.xml -r /Users/harrysonghurst/Documents/Coursework/L48 Machine Learning and the Physical World/TrafficEmu/sumo_grid_simulation/simulation_input_files/veh_passenger.trips.xml --ignore-errors --begin 0.0 --end 3600.0 --no-step-log --additional-files /Users/harrysonghurst/Documents/Coursework/L48 Machine Learning and the Physical World/TrafficEmu/sumo_grid_simulation/simulation_input_files/veh.add.xml --no-warnings -o /Users/harrysonghurst/Documents/Coursework/L48 Machine Learning and the Physical World/TrafficEmu/sumo_grid_simulation/simulation_input_files/veh_passenger.trips.xml.tmp --write-trips\n",
      "Success.\n",
      "\n",
      " Retrying in 1 seconds\n",
      "Success.\n",
      "\n",
      "calling /usr/local/Cellar/sumo/1.8.0/share/sumo/bin/duarouter -n /Users/harrysonghurst/Documents/Coursework/L48 Machine Learning and the Physical World/TrafficEmu/sumo_grid_simulation/simulation_input_files/grid.net.xml -r /Users/harrysonghurst/Documents/Coursework/L48 Machine Learning and the Physical World/TrafficEmu/sumo_grid_simulation/simulation_input_files/veh_passenger.trips.xml --ignore-errors --begin 0.0 --end 3600.0 --no-step-log --additional-files /Users/harrysonghurst/Documents/Coursework/L48 Machine Learning and the Physical World/TrafficEmu/sumo_grid_simulation/simulation_input_files/veh.add.xml --no-warnings -o /Users/harrysonghurst/Documents/Coursework/L48 Machine Learning and the Physical World/TrafficEmu/sumo_grid_simulation/simulation_input_files/veh_passenger.rou.xml\n",
      "Success.\n",
      "calling /usr/local/Cellar/sumo/1.8.0/share/sumo/bin/duarouter -n /Users/harrysonghurst/Documents/Coursework/L48 Machine Learning and the Physical World/TrafficEmu/sumo_grid_simulation/simulation_input_files/grid.net.xml -r /Users/harrysonghurst/Documents/Coursework/L48 Machine Learning and the Physical World/TrafficEmu/sumo_grid_simulation/simulation_input_files/veh_passenger.trips.xml --ignore-errors --begin 0.0 --end 3600.0 --no-step-log --additional-files /Users/harrysonghurst/Documents/Coursework/L48 Machine Learning and the Physical World/TrafficEmu/sumo_grid_simulation/simulation_input_files/veh.add.xml --no-warnings -o /Users/harrysonghurst/Documents/Coursework/L48 Machine Learning and the Physical World/TrafficEmu/sumo_grid_simulation/simulation_input_files/veh_passenger.trips.xml.tmp --write-trips\n",
      "Success.\n",
      "\n",
      " Retrying in 1 seconds\n",
      "Success.\n",
      "\n",
      "calling /usr/local/Cellar/sumo/1.8.0/share/sumo/bin/duarouter -n /Users/harrysonghurst/Documents/Coursework/L48 Machine Learning and the Physical World/TrafficEmu/sumo_grid_simulation/simulation_input_files/grid.net.xml -r /Users/harrysonghurst/Documents/Coursework/L48 Machine Learning and the Physical World/TrafficEmu/sumo_grid_simulation/simulation_input_files/veh_passenger.trips.xml --ignore-errors --begin 0.0 --end 3600.0 --no-step-log --additional-files /Users/harrysonghurst/Documents/Coursework/L48 Machine Learning and the Physical World/TrafficEmu/sumo_grid_simulation/simulation_input_files/veh.add.xml --no-warnings -o /Users/harrysonghurst/Documents/Coursework/L48 Machine Learning and the Physical World/TrafficEmu/sumo_grid_simulation/simulation_input_files/veh_passenger.rou.xml\n",
      "Success.\n",
      "calling /usr/local/Cellar/sumo/1.8.0/share/sumo/bin/duarouter -n /Users/harrysonghurst/Documents/Coursework/L48 Machine Learning and the Physical World/TrafficEmu/sumo_grid_simulation/simulation_input_files/grid.net.xml -r /Users/harrysonghurst/Documents/Coursework/L48 Machine Learning and the Physical World/TrafficEmu/sumo_grid_simulation/simulation_input_files/veh_passenger.trips.xml --ignore-errors --begin 0.0 --end 3600.0 --no-step-log --additional-files /Users/harrysonghurst/Documents/Coursework/L48 Machine Learning and the Physical World/TrafficEmu/sumo_grid_simulation/simulation_input_files/veh.add.xml --no-warnings -o /Users/harrysonghurst/Documents/Coursework/L48 Machine Learning and the Physical World/TrafficEmu/sumo_grid_simulation/simulation_input_files/veh_passenger.trips.xml.tmp --write-trips\n",
      "Success.\n",
      "\n",
      " Retrying in 1 seconds\n",
      "Success.\n",
      "\n",
      "calling /usr/local/Cellar/sumo/1.8.0/share/sumo/bin/duarouter -n /Users/harrysonghurst/Documents/Coursework/L48 Machine Learning and the Physical World/TrafficEmu/sumo_grid_simulation/simulation_input_files/grid.net.xml -r /Users/harrysonghurst/Documents/Coursework/L48 Machine Learning and the Physical World/TrafficEmu/sumo_grid_simulation/simulation_input_files/veh_passenger.trips.xml --ignore-errors --begin 0.0 --end 3600.0 --no-step-log --additional-files /Users/harrysonghurst/Documents/Coursework/L48 Machine Learning and the Physical World/TrafficEmu/sumo_grid_simulation/simulation_input_files/veh.add.xml --no-warnings -o /Users/harrysonghurst/Documents/Coursework/L48 Machine Learning and the Physical World/TrafficEmu/sumo_grid_simulation/simulation_input_files/veh_passenger.rou.xml\n",
      "Success.\n",
      "calling /usr/local/Cellar/sumo/1.8.0/share/sumo/bin/duarouter -n /Users/harrysonghurst/Documents/Coursework/L48 Machine Learning and the Physical World/TrafficEmu/sumo_grid_simulation/simulation_input_files/grid.net.xml -r /Users/harrysonghurst/Documents/Coursework/L48 Machine Learning and the Physical World/TrafficEmu/sumo_grid_simulation/simulation_input_files/veh_passenger.trips.xml --ignore-errors --begin 0.0 --end 3600.0 --no-step-log --additional-files /Users/harrysonghurst/Documents/Coursework/L48 Machine Learning and the Physical World/TrafficEmu/sumo_grid_simulation/simulation_input_files/veh.add.xml --no-warnings -o /Users/harrysonghurst/Documents/Coursework/L48 Machine Learning and the Physical World/TrafficEmu/sumo_grid_simulation/simulation_input_files/veh_passenger.trips.xml.tmp --write-trips\n",
      "Success.\n",
      "\n",
      " Retrying in 1 seconds\n"
     ]
    }
   ],
   "source": [
    "design = RandomDesign(parameter_space)  # initialize with random points\n",
    "num_data_points = 10\n",
    "init_X = design.get_samples(num_data_points)\n",
    "init_Y = user_function_time_loss(init_X)"
   ]
  },
  {
   "cell_type": "code",
   "execution_count": 7,
   "metadata": {},
   "outputs": [
    {
     "data": {
      "text/plain": [
       "((10, 6), (10, 1))"
      ]
     },
     "execution_count": 7,
     "metadata": {},
     "output_type": "execute_result"
    }
   ],
   "source": [
    "init_X.shape, init_Y.shape"
   ]
  },
  {
   "cell_type": "code",
   "execution_count": 8,
   "metadata": {},
   "outputs": [
    {
     "data": {
      "text/plain": [
       "(array([[ 15.07301289,   1.98353131,  22.62517987, 162.12772275,\n",
       "           4.        ,   7.15171609],\n",
       "        [  8.85289705,  15.84590847,   5.36980788, 137.21952764,\n",
       "           4.        ,   7.21996077],\n",
       "        [ 10.03239852,   4.50754156,  17.0547725 ,  61.25773676,\n",
       "           3.        ,   7.43640295],\n",
       "        [  8.94157628,  20.4729841 ,   4.40364854, 234.93636703,\n",
       "           1.        ,   7.03497571],\n",
       "        [  6.75046592,  12.53254475,   5.0060201 , 116.80839185,\n",
       "           2.        ,   9.26260887],\n",
       "        [ 14.7438653 ,  21.11457771,  23.78893208, 170.21070316,\n",
       "           4.        ,   9.73512645],\n",
       "        [ 12.76892073,  20.04400091,   7.48239245, 186.74216417,\n",
       "           3.        ,   2.915376  ],\n",
       "        [ 22.78773654,   9.2482371 ,   1.39325413, 185.15766495,\n",
       "           4.        ,   7.23390271],\n",
       "        [  4.75883662,   1.75115132,  19.75706724,  55.72665967,\n",
       "           2.        ,   0.89619117],\n",
       "        [  3.5095607 ,  23.42706265,   4.55726009,  41.4986788 ,\n",
       "           3.        ,   3.12628421]]),\n",
       " array([[346.44],\n",
       "        [ 64.71],\n",
       "        [ 37.59],\n",
       "        [142.22],\n",
       "        [ 49.69],\n",
       "        [ 30.62],\n",
       "        [ 32.97],\n",
       "        [789.23],\n",
       "        [ 25.48],\n",
       "        [  7.11]]))"
      ]
     },
     "execution_count": 8,
     "metadata": {},
     "output_type": "execute_result"
    }
   ],
   "source": [
    "init_X, init_Y"
   ]
  },
  {
   "cell_type": "code",
   "execution_count": 9,
   "metadata": {},
   "outputs": [
    {
     "data": {
      "text/html": [
       "<style type=\"text/css\">\n",
       ".pd{\n",
       "    font-family: \"Courier New\", Courier, monospace !important;\n",
       "    width: 100%;\n",
       "    padding: 3px;\n",
       "}\n",
       "</style>\n",
       "\n",
       "<p class=pd>\n",
       "<b>Model</b>: GP regression<br>\n",
       "<b>Objective</b>: 193493.9219038535<br>\n",
       "<b>Number of Parameters</b>: 3<br>\n",
       "<b>Number of Optimization Parameters</b>: 3<br>\n",
       "<b>Updates</b>: True<br>\n",
       "</p>\n",
       "<style type=\"text/css\">\n",
       ".tg  {font-family:\"Courier New\", Courier, monospace !important;padding:2px 3px;word-break:normal;border-collapse:collapse;border-spacing:0;border-color:#DCDCDC;margin:0px auto;width:100%;}\n",
       ".tg td{font-family:\"Courier New\", Courier, monospace !important;font-weight:bold;color:#444;background-color:#F7FDFA;border-style:solid;border-width:1px;overflow:hidden;word-break:normal;border-color:#DCDCDC;}\n",
       ".tg th{font-family:\"Courier New\", Courier, monospace !important;font-weight:normal;color:#fff;background-color:#26ADE4;border-style:solid;border-width:1px;overflow:hidden;word-break:normal;border-color:#DCDCDC;}\n",
       ".tg .tg-left{font-family:\"Courier New\", Courier, monospace !important;font-weight:normal;text-align:left;}\n",
       ".tg .tg-center{font-family:\"Courier New\", Courier, monospace !important;font-weight:normal;text-align:center;}\n",
       ".tg .tg-right{font-family:\"Courier New\", Courier, monospace !important;font-weight:normal;text-align:right;}\n",
       "</style>\n",
       "<table class=\"tg\"><tr><th><b>  GP_regression.         </b></th><th><b>value</b></th><th><b>constraints</b></th><th><b>priors</b></th></tr>\n",
       "<tr><td class=tg-left>  rbf.variance           </td><td class=tg-right>  1.0</td><td class=tg-center>    +ve    </td><td class=tg-center>      </td></tr>\n",
       "<tr><td class=tg-left>  rbf.lengthscale        </td><td class=tg-right>  1.0</td><td class=tg-center>    +ve    </td><td class=tg-center>      </td></tr>\n",
       "<tr><td class=tg-left>  Gaussian_noise.variance</td><td class=tg-right>  1.0</td><td class=tg-center>    +ve    </td><td class=tg-center>      </td></tr>\n",
       "</table>"
      ],
      "text/plain": [
       "<GPy.models.gp_regression.GPRegression at 0x7fe7c07f88b0>"
      ]
     },
     "execution_count": 9,
     "metadata": {},
     "output_type": "execute_result"
    }
   ],
   "source": [
    "emulator = GPy.models.GPRegression(init_X, init_Y)\n",
    "emukit_model = GPyModelWrapper(emulator)\n",
    "emulator"
   ]
  },
  {
   "cell_type": "markdown",
   "metadata": {},
   "source": [
    "### Optimization"
   ]
  },
  {
   "cell_type": "markdown",
   "metadata": {},
   "source": [
    "#### Acquisition Function"
   ]
  },
  {
   "cell_type": "code",
   "execution_count": 10,
   "metadata": {},
   "outputs": [],
   "source": [
    "model_variance = ModelVariance(model=emukit_model)"
   ]
  },
  {
   "cell_type": "markdown",
   "metadata": {},
   "source": [
    "#### Experimental Design"
   ]
  },
  {
   "cell_type": "code",
   "execution_count": 11,
   "metadata": {},
   "outputs": [],
   "source": [
    "ed_loop = ExperimentalDesignLoop(\n",
    "    model = emukit_model,\n",
    "    space = parameter_space,\n",
    "    acquisition = model_variance,\n",
    "    batch_size = 1\n",
    ")"
   ]
  },
  {
   "cell_type": "code",
   "execution_count": 12,
   "metadata": {
    "scrolled": true
   },
   "outputs": [
    {
     "name": "stdout",
     "output_type": "stream",
     "text": [
      "Optimization restart 1/1, f = 70.47921643407683\n",
      "[[ 15.19220884  18.89779499   6.19947531 165.52303985   2.\n",
      "    5.91080032]]\n",
      "Success.\n",
      "\n",
      "calling /usr/local/Cellar/sumo/1.8.0/share/sumo/bin/duarouter -n /Users/harrysonghurst/Documents/Coursework/L48 Machine Learning and the Physical World/TrafficEmu/sumo_grid_simulation/simulation_input_files/grid.net.xml -r /Users/harrysonghurst/Documents/Coursework/L48 Machine Learning and the Physical World/TrafficEmu/sumo_grid_simulation/simulation_input_files/veh_passenger.trips.xml --ignore-errors --begin 0.0 --end 3600.0 --no-step-log --additional-files /Users/harrysonghurst/Documents/Coursework/L48 Machine Learning and the Physical World/TrafficEmu/sumo_grid_simulation/simulation_input_files/veh.add.xml --no-warnings -o /Users/harrysonghurst/Documents/Coursework/L48 Machine Learning and the Physical World/TrafficEmu/sumo_grid_simulation/simulation_input_files/veh_passenger.rou.xml\n",
      "Success.\n",
      "calling /usr/local/Cellar/sumo/1.8.0/share/sumo/bin/duarouter -n /Users/harrysonghurst/Documents/Coursework/L48 Machine Learning and the Physical World/TrafficEmu/sumo_grid_simulation/simulation_input_files/grid.net.xml -r /Users/harrysonghurst/Documents/Coursework/L48 Machine Learning and the Physical World/TrafficEmu/sumo_grid_simulation/simulation_input_files/veh_passenger.trips.xml --ignore-errors --begin 0.0 --end 3600.0 --no-step-log --additional-files /Users/harrysonghurst/Documents/Coursework/L48 Machine Learning and the Physical World/TrafficEmu/sumo_grid_simulation/simulation_input_files/veh.add.xml --no-warnings -o /Users/harrysonghurst/Documents/Coursework/L48 Machine Learning and the Physical World/TrafficEmu/sumo_grid_simulation/simulation_input_files/veh_passenger.trips.xml.tmp --write-trips\n",
      "Success.\n",
      "\n",
      " Retrying in 1 seconds\n"
     ]
    },
    {
     "name": "stderr",
     "output_type": "stream",
     "text": [
      " /Users/harrysonghurst/opt/anaconda3/envs/traffic/lib/python3.8/site-packages/paramz/transformations.py:111: RuntimeWarning:overflow encountered in expm1\n"
     ]
    },
    {
     "name": "stdout",
     "output_type": "stream",
     "text": [
      "Optimization restart 1/1, f = 77.08478872977899\n",
      "[[ 7.80524181  9.34994746 15.52808304 96.00400239  4.          4.45493238]]\n",
      "Success.\n",
      "\n",
      "calling /usr/local/Cellar/sumo/1.8.0/share/sumo/bin/duarouter -n /Users/harrysonghurst/Documents/Coursework/L48 Machine Learning and the Physical World/TrafficEmu/sumo_grid_simulation/simulation_input_files/grid.net.xml -r /Users/harrysonghurst/Documents/Coursework/L48 Machine Learning and the Physical World/TrafficEmu/sumo_grid_simulation/simulation_input_files/veh_passenger.trips.xml --ignore-errors --begin 0.0 --end 3600.0 --no-step-log --additional-files /Users/harrysonghurst/Documents/Coursework/L48 Machine Learning and the Physical World/TrafficEmu/sumo_grid_simulation/simulation_input_files/veh.add.xml --no-warnings -o /Users/harrysonghurst/Documents/Coursework/L48 Machine Learning and the Physical World/TrafficEmu/sumo_grid_simulation/simulation_input_files/veh_passenger.rou.xml\n",
      "Success.\n",
      "calling /usr/local/Cellar/sumo/1.8.0/share/sumo/bin/duarouter -n /Users/harrysonghurst/Documents/Coursework/L48 Machine Learning and the Physical World/TrafficEmu/sumo_grid_simulation/simulation_input_files/grid.net.xml -r /Users/harrysonghurst/Documents/Coursework/L48 Machine Learning and the Physical World/TrafficEmu/sumo_grid_simulation/simulation_input_files/veh_passenger.trips.xml --ignore-errors --begin 0.0 --end 3600.0 --no-step-log --additional-files /Users/harrysonghurst/Documents/Coursework/L48 Machine Learning and the Physical World/TrafficEmu/sumo_grid_simulation/simulation_input_files/veh.add.xml --no-warnings -o /Users/harrysonghurst/Documents/Coursework/L48 Machine Learning and the Physical World/TrafficEmu/sumo_grid_simulation/simulation_input_files/veh_passenger.trips.xml.tmp --write-trips\n",
      "Success.\n",
      "\n",
      " Retrying in 1 seconds\n"
     ]
    },
    {
     "name": "stderr",
     "output_type": "stream",
     "text": [
      " /Users/harrysonghurst/opt/anaconda3/envs/traffic/lib/python3.8/site-packages/paramz/transformations.py:111: RuntimeWarning:overflow encountered in expm1\n"
     ]
    },
    {
     "name": "stdout",
     "output_type": "stream",
     "text": [
      "Optimization restart 1/1, f = 83.60784236582968\n",
      "[[ 24.78334912  19.04630394  18.56478727 197.25065362   4.\n",
      "    2.4450965 ]]\n",
      "Success.\n",
      "\n",
      "calling /usr/local/Cellar/sumo/1.8.0/share/sumo/bin/duarouter -n /Users/harrysonghurst/Documents/Coursework/L48 Machine Learning and the Physical World/TrafficEmu/sumo_grid_simulation/simulation_input_files/grid.net.xml -r /Users/harrysonghurst/Documents/Coursework/L48 Machine Learning and the Physical World/TrafficEmu/sumo_grid_simulation/simulation_input_files/veh_passenger.trips.xml --ignore-errors --begin 0.0 --end 3600.0 --no-step-log --additional-files /Users/harrysonghurst/Documents/Coursework/L48 Machine Learning and the Physical World/TrafficEmu/sumo_grid_simulation/simulation_input_files/veh.add.xml --no-warnings -o /Users/harrysonghurst/Documents/Coursework/L48 Machine Learning and the Physical World/TrafficEmu/sumo_grid_simulation/simulation_input_files/veh_passenger.rou.xml\n",
      "Success.\n",
      "calling /usr/local/Cellar/sumo/1.8.0/share/sumo/bin/duarouter -n /Users/harrysonghurst/Documents/Coursework/L48 Machine Learning and the Physical World/TrafficEmu/sumo_grid_simulation/simulation_input_files/grid.net.xml -r /Users/harrysonghurst/Documents/Coursework/L48 Machine Learning and the Physical World/TrafficEmu/sumo_grid_simulation/simulation_input_files/veh_passenger.trips.xml --ignore-errors --begin 0.0 --end 3600.0 --no-step-log --additional-files /Users/harrysonghurst/Documents/Coursework/L48 Machine Learning and the Physical World/TrafficEmu/sumo_grid_simulation/simulation_input_files/veh.add.xml --no-warnings -o /Users/harrysonghurst/Documents/Coursework/L48 Machine Learning and the Physical World/TrafficEmu/sumo_grid_simulation/simulation_input_files/veh_passenger.trips.xml.tmp --write-trips\n",
      "Success.\n",
      "\n",
      " Retrying in 1 seconds\n"
     ]
    },
    {
     "name": "stderr",
     "output_type": "stream",
     "text": [
      " /Users/harrysonghurst/opt/anaconda3/envs/traffic/lib/python3.8/site-packages/paramz/transformations.py:111: RuntimeWarning:overflow encountered in expm1\n"
     ]
    },
    {
     "name": "stdout",
     "output_type": "stream",
     "text": [
      "Optimization restart 1/1, f = 90.03485110406855\n",
      "[[ 14.98996026  15.63030083   1.47111275 220.76220843   3.\n",
      "    6.68299511]]\n",
      "Success.\n",
      "\n",
      "calling /usr/local/Cellar/sumo/1.8.0/share/sumo/bin/duarouter -n /Users/harrysonghurst/Documents/Coursework/L48 Machine Learning and the Physical World/TrafficEmu/sumo_grid_simulation/simulation_input_files/grid.net.xml -r /Users/harrysonghurst/Documents/Coursework/L48 Machine Learning and the Physical World/TrafficEmu/sumo_grid_simulation/simulation_input_files/veh_passenger.trips.xml --ignore-errors --begin 0.0 --end 3600.0 --no-step-log --additional-files /Users/harrysonghurst/Documents/Coursework/L48 Machine Learning and the Physical World/TrafficEmu/sumo_grid_simulation/simulation_input_files/veh.add.xml --no-warnings -o /Users/harrysonghurst/Documents/Coursework/L48 Machine Learning and the Physical World/TrafficEmu/sumo_grid_simulation/simulation_input_files/veh_passenger.rou.xml\n",
      "Success.\n",
      "calling /usr/local/Cellar/sumo/1.8.0/share/sumo/bin/duarouter -n /Users/harrysonghurst/Documents/Coursework/L48 Machine Learning and the Physical World/TrafficEmu/sumo_grid_simulation/simulation_input_files/grid.net.xml -r /Users/harrysonghurst/Documents/Coursework/L48 Machine Learning and the Physical World/TrafficEmu/sumo_grid_simulation/simulation_input_files/veh_passenger.trips.xml --ignore-errors --begin 0.0 --end 3600.0 --no-step-log --additional-files /Users/harrysonghurst/Documents/Coursework/L48 Machine Learning and the Physical World/TrafficEmu/sumo_grid_simulation/simulation_input_files/veh.add.xml --no-warnings -o /Users/harrysonghurst/Documents/Coursework/L48 Machine Learning and the Physical World/TrafficEmu/sumo_grid_simulation/simulation_input_files/veh_passenger.trips.xml.tmp --write-trips\n",
      "Success.\n",
      "\n",
      " Retrying in 1 seconds\n"
     ]
    },
    {
     "name": "stderr",
     "output_type": "stream",
     "text": [
      " /Users/harrysonghurst/opt/anaconda3/envs/traffic/lib/python3.8/site-packages/paramz/transformations.py:111: RuntimeWarning:overflow encountered in expm1\n"
     ]
    },
    {
     "name": "stdout",
     "output_type": "stream",
     "text": [
      "Optimization restart 1/1, f = 99.12107269881032\n",
      "[[ 20.21287272  14.77872737   4.80610078 120.49378922   2.\n",
      "    5.14422465]]\n",
      "Success.\n",
      "\n",
      "calling /usr/local/Cellar/sumo/1.8.0/share/sumo/bin/duarouter -n /Users/harrysonghurst/Documents/Coursework/L48 Machine Learning and the Physical World/TrafficEmu/sumo_grid_simulation/simulation_input_files/grid.net.xml -r /Users/harrysonghurst/Documents/Coursework/L48 Machine Learning and the Physical World/TrafficEmu/sumo_grid_simulation/simulation_input_files/veh_passenger.trips.xml --ignore-errors --begin 0.0 --end 3600.0 --no-step-log --additional-files /Users/harrysonghurst/Documents/Coursework/L48 Machine Learning and the Physical World/TrafficEmu/sumo_grid_simulation/simulation_input_files/veh.add.xml --no-warnings -o /Users/harrysonghurst/Documents/Coursework/L48 Machine Learning and the Physical World/TrafficEmu/sumo_grid_simulation/simulation_input_files/veh_passenger.rou.xml\n",
      "Success.\n",
      "calling /usr/local/Cellar/sumo/1.8.0/share/sumo/bin/duarouter -n /Users/harrysonghurst/Documents/Coursework/L48 Machine Learning and the Physical World/TrafficEmu/sumo_grid_simulation/simulation_input_files/grid.net.xml -r /Users/harrysonghurst/Documents/Coursework/L48 Machine Learning and the Physical World/TrafficEmu/sumo_grid_simulation/simulation_input_files/veh_passenger.trips.xml --ignore-errors --begin 0.0 --end 3600.0 --no-step-log --additional-files /Users/harrysonghurst/Documents/Coursework/L48 Machine Learning and the Physical World/TrafficEmu/sumo_grid_simulation/simulation_input_files/veh.add.xml --no-warnings -o /Users/harrysonghurst/Documents/Coursework/L48 Machine Learning and the Physical World/TrafficEmu/sumo_grid_simulation/simulation_input_files/veh_passenger.trips.xml.tmp --write-trips\n",
      "Success.\n",
      "\n",
      " Retrying in 1 seconds\n"
     ]
    },
    {
     "name": "stderr",
     "output_type": "stream",
     "text": [
      " /Users/harrysonghurst/opt/anaconda3/envs/traffic/lib/python3.8/site-packages/paramz/transformations.py:111: RuntimeWarning:overflow encountered in expm1\n"
     ]
    },
    {
     "name": "stdout",
     "output_type": "stream",
     "text": [
      "Optimization restart 1/1, f = 105.78949058169142\n",
      "[[21.43310936 13.2519298  24.2424271  79.42774825  1.          9.92517372]]\n",
      "Success.\n",
      "\n",
      "calling /usr/local/Cellar/sumo/1.8.0/share/sumo/bin/duarouter -n /Users/harrysonghurst/Documents/Coursework/L48 Machine Learning and the Physical World/TrafficEmu/sumo_grid_simulation/simulation_input_files/grid.net.xml -r /Users/harrysonghurst/Documents/Coursework/L48 Machine Learning and the Physical World/TrafficEmu/sumo_grid_simulation/simulation_input_files/veh_passenger.trips.xml --ignore-errors --begin 0.0 --end 3600.0 --no-step-log --additional-files /Users/harrysonghurst/Documents/Coursework/L48 Machine Learning and the Physical World/TrafficEmu/sumo_grid_simulation/simulation_input_files/veh.add.xml --no-warnings -o /Users/harrysonghurst/Documents/Coursework/L48 Machine Learning and the Physical World/TrafficEmu/sumo_grid_simulation/simulation_input_files/veh_passenger.rou.xml\n",
      "Success.\n",
      "calling /usr/local/Cellar/sumo/1.8.0/share/sumo/bin/duarouter -n /Users/harrysonghurst/Documents/Coursework/L48 Machine Learning and the Physical World/TrafficEmu/sumo_grid_simulation/simulation_input_files/grid.net.xml -r /Users/harrysonghurst/Documents/Coursework/L48 Machine Learning and the Physical World/TrafficEmu/sumo_grid_simulation/simulation_input_files/veh_passenger.trips.xml --ignore-errors --begin 0.0 --end 3600.0 --no-step-log --additional-files /Users/harrysonghurst/Documents/Coursework/L48 Machine Learning and the Physical World/TrafficEmu/sumo_grid_simulation/simulation_input_files/veh.add.xml --no-warnings -o /Users/harrysonghurst/Documents/Coursework/L48 Machine Learning and the Physical World/TrafficEmu/sumo_grid_simulation/simulation_input_files/veh_passenger.trips.xml.tmp --write-trips\n",
      "Success.\n",
      "\n",
      " Retrying in 1 seconds\n"
     ]
    },
    {
     "name": "stderr",
     "output_type": "stream",
     "text": [
      " /Users/harrysonghurst/opt/anaconda3/envs/traffic/lib/python3.8/site-packages/paramz/transformations.py:111: RuntimeWarning:overflow encountered in expm1\n"
     ]
    },
    {
     "name": "stdout",
     "output_type": "stream",
     "text": [
      "Optimization restart 1/1, f = 112.33227563596418\n",
      "[[ 23.66050927   6.08287549  17.89919497 163.48673713   3.\n",
      "    1.879365  ]]\n",
      "Success.\n",
      "\n",
      "calling /usr/local/Cellar/sumo/1.8.0/share/sumo/bin/duarouter -n /Users/harrysonghurst/Documents/Coursework/L48 Machine Learning and the Physical World/TrafficEmu/sumo_grid_simulation/simulation_input_files/grid.net.xml -r /Users/harrysonghurst/Documents/Coursework/L48 Machine Learning and the Physical World/TrafficEmu/sumo_grid_simulation/simulation_input_files/veh_passenger.trips.xml --ignore-errors --begin 0.0 --end 3600.0 --no-step-log --additional-files /Users/harrysonghurst/Documents/Coursework/L48 Machine Learning and the Physical World/TrafficEmu/sumo_grid_simulation/simulation_input_files/veh.add.xml --no-warnings -o /Users/harrysonghurst/Documents/Coursework/L48 Machine Learning and the Physical World/TrafficEmu/sumo_grid_simulation/simulation_input_files/veh_passenger.rou.xml\n",
      "Success.\n",
      "calling /usr/local/Cellar/sumo/1.8.0/share/sumo/bin/duarouter -n /Users/harrysonghurst/Documents/Coursework/L48 Machine Learning and the Physical World/TrafficEmu/sumo_grid_simulation/simulation_input_files/grid.net.xml -r /Users/harrysonghurst/Documents/Coursework/L48 Machine Learning and the Physical World/TrafficEmu/sumo_grid_simulation/simulation_input_files/veh_passenger.trips.xml --ignore-errors --begin 0.0 --end 3600.0 --no-step-log --additional-files /Users/harrysonghurst/Documents/Coursework/L48 Machine Learning and the Physical World/TrafficEmu/sumo_grid_simulation/simulation_input_files/veh.add.xml --no-warnings -o /Users/harrysonghurst/Documents/Coursework/L48 Machine Learning and the Physical World/TrafficEmu/sumo_grid_simulation/simulation_input_files/veh_passenger.trips.xml.tmp --write-trips\n",
      "Success.\n",
      "\n",
      " Retrying in 1 seconds\n"
     ]
    },
    {
     "name": "stderr",
     "output_type": "stream",
     "text": [
      " /Users/harrysonghurst/opt/anaconda3/envs/traffic/lib/python3.8/site-packages/paramz/transformations.py:111: RuntimeWarning:overflow encountered in expm1\n"
     ]
    },
    {
     "name": "stdout",
     "output_type": "stream",
     "text": [
      "Optimization restart 1/1, f = 118.88017875611646\n",
      "[[ 8.1370433   5.04416523 20.21408958 18.11780881  4.          7.40842848]]\n",
      "Success.\n",
      "\n",
      "Warning: Intersecting left turns at junction 'n10' from lane 'n5ton10_2' and lane 'n17ton10_2' (increase junction radius to avoid this).\n",
      "Warning: Intersecting left turns at junction 'n11' from lane 'n6ton11_2' and lane 'n18ton11_2' (increase junction radius to avoid this).\n",
      "Warning: Intersecting left turns at junction 'n12' from lane 'n7ton12_2' and lane 'n19ton12_2' (increase junction radius to avoid this).\n",
      "Warning: Intersecting left turns at junction 'n13' from lane 'n20ton13_2' and lane 'n14ton13_2' (increase junction radius to avoid this).\n",
      "Warning: Intersecting left turns at junction 'n14' from lane 'n15ton14_2' and lane 'n13ton14_2' (increase junction radius to avoid this).\n",
      "Warning: 60 total messages of type: Intersecting left turns at junction '%' from lane '%' and lane '%' (increase junction radius to avoid this).\n",
      "\n",
      "calling /usr/local/Cellar/sumo/1.8.0/share/sumo/bin/duarouter -n /Users/harrysonghurst/Documents/Coursework/L48 Machine Learning and the Physical World/TrafficEmu/sumo_grid_simulation/simulation_input_files/grid.net.xml -r /Users/harrysonghurst/Documents/Coursework/L48 Machine Learning and the Physical World/TrafficEmu/sumo_grid_simulation/simulation_input_files/veh_passenger.trips.xml --ignore-errors --begin 0.0 --end 3600.0 --no-step-log --additional-files /Users/harrysonghurst/Documents/Coursework/L48 Machine Learning and the Physical World/TrafficEmu/sumo_grid_simulation/simulation_input_files/veh.add.xml --no-warnings -o /Users/harrysonghurst/Documents/Coursework/L48 Machine Learning and the Physical World/TrafficEmu/sumo_grid_simulation/simulation_input_files/veh_passenger.rou.xml\n",
      "Success.\n",
      "calling /usr/local/Cellar/sumo/1.8.0/share/sumo/bin/duarouter -n /Users/harrysonghurst/Documents/Coursework/L48 Machine Learning and the Physical World/TrafficEmu/sumo_grid_simulation/simulation_input_files/grid.net.xml -r /Users/harrysonghurst/Documents/Coursework/L48 Machine Learning and the Physical World/TrafficEmu/sumo_grid_simulation/simulation_input_files/veh_passenger.trips.xml --ignore-errors --begin 0.0 --end 3600.0 --no-step-log --additional-files /Users/harrysonghurst/Documents/Coursework/L48 Machine Learning and the Physical World/TrafficEmu/sumo_grid_simulation/simulation_input_files/veh.add.xml --no-warnings -o /Users/harrysonghurst/Documents/Coursework/L48 Machine Learning and the Physical World/TrafficEmu/sumo_grid_simulation/simulation_input_files/veh_passenger.trips.xml.tmp --write-trips\n",
      "Success.\n",
      "\n",
      " Retrying in 1 seconds\n"
     ]
    },
    {
     "name": "stderr",
     "output_type": "stream",
     "text": [
      " /Users/harrysonghurst/opt/anaconda3/envs/traffic/lib/python3.8/site-packages/paramz/transformations.py:111: RuntimeWarning:overflow encountered in expm1\n"
     ]
    },
    {
     "name": "stdout",
     "output_type": "stream",
     "text": [
      "Optimization restart 1/1, f = 125.33785223518146\n",
      "[[ 11.90627504   8.8124585   20.01060446 175.85396336   4.\n",
      "    6.70813284]]\n",
      "Success.\n",
      "\n",
      "calling /usr/local/Cellar/sumo/1.8.0/share/sumo/bin/duarouter -n /Users/harrysonghurst/Documents/Coursework/L48 Machine Learning and the Physical World/TrafficEmu/sumo_grid_simulation/simulation_input_files/grid.net.xml -r /Users/harrysonghurst/Documents/Coursework/L48 Machine Learning and the Physical World/TrafficEmu/sumo_grid_simulation/simulation_input_files/veh_passenger.trips.xml --ignore-errors --begin 0.0 --end 3600.0 --no-step-log --additional-files /Users/harrysonghurst/Documents/Coursework/L48 Machine Learning and the Physical World/TrafficEmu/sumo_grid_simulation/simulation_input_files/veh.add.xml --no-warnings -o /Users/harrysonghurst/Documents/Coursework/L48 Machine Learning and the Physical World/TrafficEmu/sumo_grid_simulation/simulation_input_files/veh_passenger.rou.xml\n",
      "Success.\n",
      "calling /usr/local/Cellar/sumo/1.8.0/share/sumo/bin/duarouter -n /Users/harrysonghurst/Documents/Coursework/L48 Machine Learning and the Physical World/TrafficEmu/sumo_grid_simulation/simulation_input_files/grid.net.xml -r /Users/harrysonghurst/Documents/Coursework/L48 Machine Learning and the Physical World/TrafficEmu/sumo_grid_simulation/simulation_input_files/veh_passenger.trips.xml --ignore-errors --begin 0.0 --end 3600.0 --no-step-log --additional-files /Users/harrysonghurst/Documents/Coursework/L48 Machine Learning and the Physical World/TrafficEmu/sumo_grid_simulation/simulation_input_files/veh.add.xml --no-warnings -o /Users/harrysonghurst/Documents/Coursework/L48 Machine Learning and the Physical World/TrafficEmu/sumo_grid_simulation/simulation_input_files/veh_passenger.trips.xml.tmp --write-trips\n",
      "Success.\n",
      "\n",
      " Retrying in 1 seconds\n"
     ]
    },
    {
     "name": "stderr",
     "output_type": "stream",
     "text": [
      " /Users/harrysonghurst/opt/anaconda3/envs/traffic/lib/python3.8/site-packages/paramz/transformations.py:111: RuntimeWarning:overflow encountered in expm1\n"
     ]
    },
    {
     "name": "stdout",
     "output_type": "stream",
     "text": [
      "Optimization restart 1/1, f = 131.80049359546135\n",
      "[[12.44158612  8.55263894 13.7077243  90.10429668  3.          2.30113006]]\n",
      "Success.\n",
      "\n",
      "calling /usr/local/Cellar/sumo/1.8.0/share/sumo/bin/duarouter -n /Users/harrysonghurst/Documents/Coursework/L48 Machine Learning and the Physical World/TrafficEmu/sumo_grid_simulation/simulation_input_files/grid.net.xml -r /Users/harrysonghurst/Documents/Coursework/L48 Machine Learning and the Physical World/TrafficEmu/sumo_grid_simulation/simulation_input_files/veh_passenger.trips.xml --ignore-errors --begin 0.0 --end 3600.0 --no-step-log --additional-files /Users/harrysonghurst/Documents/Coursework/L48 Machine Learning and the Physical World/TrafficEmu/sumo_grid_simulation/simulation_input_files/veh.add.xml --no-warnings -o /Users/harrysonghurst/Documents/Coursework/L48 Machine Learning and the Physical World/TrafficEmu/sumo_grid_simulation/simulation_input_files/veh_passenger.rou.xml\n",
      "Success.\n",
      "calling /usr/local/Cellar/sumo/1.8.0/share/sumo/bin/duarouter -n /Users/harrysonghurst/Documents/Coursework/L48 Machine Learning and the Physical World/TrafficEmu/sumo_grid_simulation/simulation_input_files/grid.net.xml -r /Users/harrysonghurst/Documents/Coursework/L48 Machine Learning and the Physical World/TrafficEmu/sumo_grid_simulation/simulation_input_files/veh_passenger.trips.xml --ignore-errors --begin 0.0 --end 3600.0 --no-step-log --additional-files /Users/harrysonghurst/Documents/Coursework/L48 Machine Learning and the Physical World/TrafficEmu/sumo_grid_simulation/simulation_input_files/veh.add.xml --no-warnings -o /Users/harrysonghurst/Documents/Coursework/L48 Machine Learning and the Physical World/TrafficEmu/sumo_grid_simulation/simulation_input_files/veh_passenger.trips.xml.tmp --write-trips\n",
      "Success.\n",
      "\n",
      " Retrying in 1 seconds\n"
     ]
    },
    {
     "name": "stderr",
     "output_type": "stream",
     "text": [
      " /Users/harrysonghurst/opt/anaconda3/envs/traffic/lib/python3.8/site-packages/paramz/transformations.py:111: RuntimeWarning:overflow encountered in expm1\n"
     ]
    },
    {
     "name": "stdout",
     "output_type": "stream",
     "text": [
      "Optimization restart 1/1, f = 138.2414187139466\n",
      "[[ 15.28211617   2.23097047  14.10973413 110.04402779   2.\n",
      "    9.19989199]]\n",
      "Success.\n",
      "\n",
      "calling /usr/local/Cellar/sumo/1.8.0/share/sumo/bin/duarouter -n /Users/harrysonghurst/Documents/Coursework/L48 Machine Learning and the Physical World/TrafficEmu/sumo_grid_simulation/simulation_input_files/grid.net.xml -r /Users/harrysonghurst/Documents/Coursework/L48 Machine Learning and the Physical World/TrafficEmu/sumo_grid_simulation/simulation_input_files/veh_passenger.trips.xml --ignore-errors --begin 0.0 --end 3600.0 --no-step-log --additional-files /Users/harrysonghurst/Documents/Coursework/L48 Machine Learning and the Physical World/TrafficEmu/sumo_grid_simulation/simulation_input_files/veh.add.xml --no-warnings -o /Users/harrysonghurst/Documents/Coursework/L48 Machine Learning and the Physical World/TrafficEmu/sumo_grid_simulation/simulation_input_files/veh_passenger.rou.xml\n",
      "Success.\n",
      "calling /usr/local/Cellar/sumo/1.8.0/share/sumo/bin/duarouter -n /Users/harrysonghurst/Documents/Coursework/L48 Machine Learning and the Physical World/TrafficEmu/sumo_grid_simulation/simulation_input_files/grid.net.xml -r /Users/harrysonghurst/Documents/Coursework/L48 Machine Learning and the Physical World/TrafficEmu/sumo_grid_simulation/simulation_input_files/veh_passenger.trips.xml --ignore-errors --begin 0.0 --end 3600.0 --no-step-log --additional-files /Users/harrysonghurst/Documents/Coursework/L48 Machine Learning and the Physical World/TrafficEmu/sumo_grid_simulation/simulation_input_files/veh.add.xml --no-warnings -o /Users/harrysonghurst/Documents/Coursework/L48 Machine Learning and the Physical World/TrafficEmu/sumo_grid_simulation/simulation_input_files/veh_passenger.trips.xml.tmp --write-trips\n",
      "Success.\n",
      "\n",
      " Retrying in 1 seconds\n"
     ]
    },
    {
     "name": "stderr",
     "output_type": "stream",
     "text": [
      " /Users/harrysonghurst/opt/anaconda3/envs/traffic/lib/python3.8/site-packages/paramz/transformations.py:111: RuntimeWarning:overflow encountered in expm1\n"
     ]
    },
    {
     "name": "stdout",
     "output_type": "stream",
     "text": [
      "Optimization restart 1/1, f = 145.02776390172977\n",
      "[[20.96521465 17.42212067  2.0525084  28.746745    4.          4.30072554]]\n",
      "Success.\n",
      "\n",
      "calling /usr/local/Cellar/sumo/1.8.0/share/sumo/bin/duarouter -n /Users/harrysonghurst/Documents/Coursework/L48 Machine Learning and the Physical World/TrafficEmu/sumo_grid_simulation/simulation_input_files/grid.net.xml -r /Users/harrysonghurst/Documents/Coursework/L48 Machine Learning and the Physical World/TrafficEmu/sumo_grid_simulation/simulation_input_files/veh_passenger.trips.xml --ignore-errors --begin 0.0 --end 3600.0 --no-step-log --additional-files /Users/harrysonghurst/Documents/Coursework/L48 Machine Learning and the Physical World/TrafficEmu/sumo_grid_simulation/simulation_input_files/veh.add.xml --no-warnings -o /Users/harrysonghurst/Documents/Coursework/L48 Machine Learning and the Physical World/TrafficEmu/sumo_grid_simulation/simulation_input_files/veh_passenger.rou.xml\n",
      "Success.\n",
      "calling /usr/local/Cellar/sumo/1.8.0/share/sumo/bin/duarouter -n /Users/harrysonghurst/Documents/Coursework/L48 Machine Learning and the Physical World/TrafficEmu/sumo_grid_simulation/simulation_input_files/grid.net.xml -r /Users/harrysonghurst/Documents/Coursework/L48 Machine Learning and the Physical World/TrafficEmu/sumo_grid_simulation/simulation_input_files/veh_passenger.trips.xml --ignore-errors --begin 0.0 --end 3600.0 --no-step-log --additional-files /Users/harrysonghurst/Documents/Coursework/L48 Machine Learning and the Physical World/TrafficEmu/sumo_grid_simulation/simulation_input_files/veh.add.xml --no-warnings -o /Users/harrysonghurst/Documents/Coursework/L48 Machine Learning and the Physical World/TrafficEmu/sumo_grid_simulation/simulation_input_files/veh_passenger.trips.xml.tmp --write-trips\n",
      "Success.\n",
      "\n",
      " Retrying in 1 seconds\n"
     ]
    },
    {
     "name": "stderr",
     "output_type": "stream",
     "text": [
      " /Users/harrysonghurst/opt/anaconda3/envs/traffic/lib/python3.8/site-packages/paramz/transformations.py:111: RuntimeWarning:overflow encountered in expm1\n"
     ]
    },
    {
     "name": "stdout",
     "output_type": "stream",
     "text": [
      "Optimization restart 1/1, f = 151.57390869930495\n",
      "[[ 11.57479907  23.09228113   9.30585848 245.31335015   2.\n",
      "    1.06787651]]\n",
      "Success.\n",
      "\n",
      "calling /usr/local/Cellar/sumo/1.8.0/share/sumo/bin/duarouter -n /Users/harrysonghurst/Documents/Coursework/L48 Machine Learning and the Physical World/TrafficEmu/sumo_grid_simulation/simulation_input_files/grid.net.xml -r /Users/harrysonghurst/Documents/Coursework/L48 Machine Learning and the Physical World/TrafficEmu/sumo_grid_simulation/simulation_input_files/veh_passenger.trips.xml --ignore-errors --begin 0.0 --end 3600.0 --no-step-log --additional-files /Users/harrysonghurst/Documents/Coursework/L48 Machine Learning and the Physical World/TrafficEmu/sumo_grid_simulation/simulation_input_files/veh.add.xml --no-warnings -o /Users/harrysonghurst/Documents/Coursework/L48 Machine Learning and the Physical World/TrafficEmu/sumo_grid_simulation/simulation_input_files/veh_passenger.rou.xml\n",
      "Success.\n",
      "calling /usr/local/Cellar/sumo/1.8.0/share/sumo/bin/duarouter -n /Users/harrysonghurst/Documents/Coursework/L48 Machine Learning and the Physical World/TrafficEmu/sumo_grid_simulation/simulation_input_files/grid.net.xml -r /Users/harrysonghurst/Documents/Coursework/L48 Machine Learning and the Physical World/TrafficEmu/sumo_grid_simulation/simulation_input_files/veh_passenger.trips.xml --ignore-errors --begin 0.0 --end 3600.0 --no-step-log --additional-files /Users/harrysonghurst/Documents/Coursework/L48 Machine Learning and the Physical World/TrafficEmu/sumo_grid_simulation/simulation_input_files/veh.add.xml --no-warnings -o /Users/harrysonghurst/Documents/Coursework/L48 Machine Learning and the Physical World/TrafficEmu/sumo_grid_simulation/simulation_input_files/veh_passenger.trips.xml.tmp --write-trips\n",
      "Success.\n",
      "\n",
      " Retrying in 1 seconds\n"
     ]
    },
    {
     "name": "stderr",
     "output_type": "stream",
     "text": [
      " /Users/harrysonghurst/opt/anaconda3/envs/traffic/lib/python3.8/site-packages/paramz/transformations.py:111: RuntimeWarning:overflow encountered in expm1\n"
     ]
    },
    {
     "name": "stdout",
     "output_type": "stream",
     "text": [
      "Optimization restart 1/1, f = 157.9613306146666\n",
      "[[  8.7014138   22.15661327  23.6303924  142.62641925   4.\n",
      "    9.44928913]]\n",
      "Success.\n",
      "\n",
      "calling /usr/local/Cellar/sumo/1.8.0/share/sumo/bin/duarouter -n /Users/harrysonghurst/Documents/Coursework/L48 Machine Learning and the Physical World/TrafficEmu/sumo_grid_simulation/simulation_input_files/grid.net.xml -r /Users/harrysonghurst/Documents/Coursework/L48 Machine Learning and the Physical World/TrafficEmu/sumo_grid_simulation/simulation_input_files/veh_passenger.trips.xml --ignore-errors --begin 0.0 --end 3600.0 --no-step-log --additional-files /Users/harrysonghurst/Documents/Coursework/L48 Machine Learning and the Physical World/TrafficEmu/sumo_grid_simulation/simulation_input_files/veh.add.xml --no-warnings -o /Users/harrysonghurst/Documents/Coursework/L48 Machine Learning and the Physical World/TrafficEmu/sumo_grid_simulation/simulation_input_files/veh_passenger.rou.xml\n",
      "Success.\n",
      "calling /usr/local/Cellar/sumo/1.8.0/share/sumo/bin/duarouter -n /Users/harrysonghurst/Documents/Coursework/L48 Machine Learning and the Physical World/TrafficEmu/sumo_grid_simulation/simulation_input_files/grid.net.xml -r /Users/harrysonghurst/Documents/Coursework/L48 Machine Learning and the Physical World/TrafficEmu/sumo_grid_simulation/simulation_input_files/veh_passenger.trips.xml --ignore-errors --begin 0.0 --end 3600.0 --no-step-log --additional-files /Users/harrysonghurst/Documents/Coursework/L48 Machine Learning and the Physical World/TrafficEmu/sumo_grid_simulation/simulation_input_files/veh.add.xml --no-warnings -o /Users/harrysonghurst/Documents/Coursework/L48 Machine Learning and the Physical World/TrafficEmu/sumo_grid_simulation/simulation_input_files/veh_passenger.trips.xml.tmp --write-trips\n",
      "Success.\n",
      "\n",
      " Retrying in 1 seconds\n"
     ]
    },
    {
     "name": "stderr",
     "output_type": "stream",
     "text": [
      " /Users/harrysonghurst/opt/anaconda3/envs/traffic/lib/python3.8/site-packages/paramz/transformations.py:111: RuntimeWarning:overflow encountered in expm1\n"
     ]
    },
    {
     "name": "stdout",
     "output_type": "stream",
     "text": [
      "Optimization restart 1/1, f = 164.31706562337024\n",
      "[[  7.99245888  14.91678701  17.82530285 204.64135258   4.\n",
      "    2.9955782 ]]\n",
      "Success.\n",
      "\n",
      "calling /usr/local/Cellar/sumo/1.8.0/share/sumo/bin/duarouter -n /Users/harrysonghurst/Documents/Coursework/L48 Machine Learning and the Physical World/TrafficEmu/sumo_grid_simulation/simulation_input_files/grid.net.xml -r /Users/harrysonghurst/Documents/Coursework/L48 Machine Learning and the Physical World/TrafficEmu/sumo_grid_simulation/simulation_input_files/veh_passenger.trips.xml --ignore-errors --begin 0.0 --end 3600.0 --no-step-log --additional-files /Users/harrysonghurst/Documents/Coursework/L48 Machine Learning and the Physical World/TrafficEmu/sumo_grid_simulation/simulation_input_files/veh.add.xml --no-warnings -o /Users/harrysonghurst/Documents/Coursework/L48 Machine Learning and the Physical World/TrafficEmu/sumo_grid_simulation/simulation_input_files/veh_passenger.rou.xml\n",
      "Success.\n",
      "calling /usr/local/Cellar/sumo/1.8.0/share/sumo/bin/duarouter -n /Users/harrysonghurst/Documents/Coursework/L48 Machine Learning and the Physical World/TrafficEmu/sumo_grid_simulation/simulation_input_files/grid.net.xml -r /Users/harrysonghurst/Documents/Coursework/L48 Machine Learning and the Physical World/TrafficEmu/sumo_grid_simulation/simulation_input_files/veh_passenger.trips.xml --ignore-errors --begin 0.0 --end 3600.0 --no-step-log --additional-files /Users/harrysonghurst/Documents/Coursework/L48 Machine Learning and the Physical World/TrafficEmu/sumo_grid_simulation/simulation_input_files/veh.add.xml --no-warnings -o /Users/harrysonghurst/Documents/Coursework/L48 Machine Learning and the Physical World/TrafficEmu/sumo_grid_simulation/simulation_input_files/veh_passenger.trips.xml.tmp --write-trips\n",
      "Success.\n",
      "\n",
      " Retrying in 1 seconds\n"
     ]
    },
    {
     "name": "stderr",
     "output_type": "stream",
     "text": [
      " /Users/harrysonghurst/opt/anaconda3/envs/traffic/lib/python3.8/site-packages/paramz/transformations.py:111: RuntimeWarning:overflow encountered in expm1\n"
     ]
    },
    {
     "name": "stdout",
     "output_type": "stream",
     "text": [
      "Optimization restart 1/1, f = 170.66097296246411\n",
      "[[  5.22911399  18.0836449    9.93812621 235.41293856   4.\n",
      "    3.05687084]]\n",
      "Success.\n",
      "\n",
      "calling /usr/local/Cellar/sumo/1.8.0/share/sumo/bin/duarouter -n /Users/harrysonghurst/Documents/Coursework/L48 Machine Learning and the Physical World/TrafficEmu/sumo_grid_simulation/simulation_input_files/grid.net.xml -r /Users/harrysonghurst/Documents/Coursework/L48 Machine Learning and the Physical World/TrafficEmu/sumo_grid_simulation/simulation_input_files/veh_passenger.trips.xml --ignore-errors --begin 0.0 --end 3600.0 --no-step-log --additional-files /Users/harrysonghurst/Documents/Coursework/L48 Machine Learning and the Physical World/TrafficEmu/sumo_grid_simulation/simulation_input_files/veh.add.xml --no-warnings -o /Users/harrysonghurst/Documents/Coursework/L48 Machine Learning and the Physical World/TrafficEmu/sumo_grid_simulation/simulation_input_files/veh_passenger.rou.xml\n",
      "Success.\n",
      "calling /usr/local/Cellar/sumo/1.8.0/share/sumo/bin/duarouter -n /Users/harrysonghurst/Documents/Coursework/L48 Machine Learning and the Physical World/TrafficEmu/sumo_grid_simulation/simulation_input_files/grid.net.xml -r /Users/harrysonghurst/Documents/Coursework/L48 Machine Learning and the Physical World/TrafficEmu/sumo_grid_simulation/simulation_input_files/veh_passenger.trips.xml --ignore-errors --begin 0.0 --end 3600.0 --no-step-log --additional-files /Users/harrysonghurst/Documents/Coursework/L48 Machine Learning and the Physical World/TrafficEmu/sumo_grid_simulation/simulation_input_files/veh.add.xml --no-warnings -o /Users/harrysonghurst/Documents/Coursework/L48 Machine Learning and the Physical World/TrafficEmu/sumo_grid_simulation/simulation_input_files/veh_passenger.trips.xml.tmp --write-trips\n",
      "Success.\n",
      "\n",
      " Retrying in 1 seconds\n"
     ]
    },
    {
     "name": "stderr",
     "output_type": "stream",
     "text": [
      " /Users/harrysonghurst/opt/anaconda3/envs/traffic/lib/python3.8/site-packages/paramz/transformations.py:111: RuntimeWarning:overflow encountered in expm1\n"
     ]
    },
    {
     "name": "stdout",
     "output_type": "stream",
     "text": [
      "Optimization restart 1/1, f = 176.97525371682013\n",
      "[[  5.81258952  21.89903922  24.47559715 169.46947464   2.\n",
      "    9.55755828]]\n",
      "Success.\n",
      "\n",
      "calling /usr/local/Cellar/sumo/1.8.0/share/sumo/bin/duarouter -n /Users/harrysonghurst/Documents/Coursework/L48 Machine Learning and the Physical World/TrafficEmu/sumo_grid_simulation/simulation_input_files/grid.net.xml -r /Users/harrysonghurst/Documents/Coursework/L48 Machine Learning and the Physical World/TrafficEmu/sumo_grid_simulation/simulation_input_files/veh_passenger.trips.xml --ignore-errors --begin 0.0 --end 3600.0 --no-step-log --additional-files /Users/harrysonghurst/Documents/Coursework/L48 Machine Learning and the Physical World/TrafficEmu/sumo_grid_simulation/simulation_input_files/veh.add.xml --no-warnings -o /Users/harrysonghurst/Documents/Coursework/L48 Machine Learning and the Physical World/TrafficEmu/sumo_grid_simulation/simulation_input_files/veh_passenger.rou.xml\n",
      "Success.\n",
      "calling /usr/local/Cellar/sumo/1.8.0/share/sumo/bin/duarouter -n /Users/harrysonghurst/Documents/Coursework/L48 Machine Learning and the Physical World/TrafficEmu/sumo_grid_simulation/simulation_input_files/grid.net.xml -r /Users/harrysonghurst/Documents/Coursework/L48 Machine Learning and the Physical World/TrafficEmu/sumo_grid_simulation/simulation_input_files/veh_passenger.trips.xml --ignore-errors --begin 0.0 --end 3600.0 --no-step-log --additional-files /Users/harrysonghurst/Documents/Coursework/L48 Machine Learning and the Physical World/TrafficEmu/sumo_grid_simulation/simulation_input_files/veh.add.xml --no-warnings -o /Users/harrysonghurst/Documents/Coursework/L48 Machine Learning and the Physical World/TrafficEmu/sumo_grid_simulation/simulation_input_files/veh_passenger.trips.xml.tmp --write-trips\n",
      "Success.\n",
      "\n",
      " Retrying in 1 seconds\n"
     ]
    },
    {
     "name": "stderr",
     "output_type": "stream",
     "text": [
      " /Users/harrysonghurst/opt/anaconda3/envs/traffic/lib/python3.8/site-packages/paramz/transformations.py:111: RuntimeWarning:overflow encountered in expm1\n"
     ]
    },
    {
     "name": "stdout",
     "output_type": "stream",
     "text": [
      "Optimization restart 1/1, f = 183.28002020337686\n",
      "[[ 19.54736195  21.84123185  10.63673024 212.66528902   2.\n",
      "    2.73124655]]\n",
      "Success.\n",
      "\n",
      "calling /usr/local/Cellar/sumo/1.8.0/share/sumo/bin/duarouter -n /Users/harrysonghurst/Documents/Coursework/L48 Machine Learning and the Physical World/TrafficEmu/sumo_grid_simulation/simulation_input_files/grid.net.xml -r /Users/harrysonghurst/Documents/Coursework/L48 Machine Learning and the Physical World/TrafficEmu/sumo_grid_simulation/simulation_input_files/veh_passenger.trips.xml --ignore-errors --begin 0.0 --end 3600.0 --no-step-log --additional-files /Users/harrysonghurst/Documents/Coursework/L48 Machine Learning and the Physical World/TrafficEmu/sumo_grid_simulation/simulation_input_files/veh.add.xml --no-warnings -o /Users/harrysonghurst/Documents/Coursework/L48 Machine Learning and the Physical World/TrafficEmu/sumo_grid_simulation/simulation_input_files/veh_passenger.rou.xml\n",
      "Success.\n",
      "calling /usr/local/Cellar/sumo/1.8.0/share/sumo/bin/duarouter -n /Users/harrysonghurst/Documents/Coursework/L48 Machine Learning and the Physical World/TrafficEmu/sumo_grid_simulation/simulation_input_files/grid.net.xml -r /Users/harrysonghurst/Documents/Coursework/L48 Machine Learning and the Physical World/TrafficEmu/sumo_grid_simulation/simulation_input_files/veh_passenger.trips.xml --ignore-errors --begin 0.0 --end 3600.0 --no-step-log --additional-files /Users/harrysonghurst/Documents/Coursework/L48 Machine Learning and the Physical World/TrafficEmu/sumo_grid_simulation/simulation_input_files/veh.add.xml --no-warnings -o /Users/harrysonghurst/Documents/Coursework/L48 Machine Learning and the Physical World/TrafficEmu/sumo_grid_simulation/simulation_input_files/veh_passenger.trips.xml.tmp --write-trips\n",
      "Success.\n",
      "\n",
      " Retrying in 1 seconds\n"
     ]
    },
    {
     "name": "stderr",
     "output_type": "stream",
     "text": [
      " /Users/harrysonghurst/opt/anaconda3/envs/traffic/lib/python3.8/site-packages/paramz/transformations.py:111: RuntimeWarning:overflow encountered in expm1\n"
     ]
    },
    {
     "name": "stdout",
     "output_type": "stream",
     "text": [
      "Optimization restart 1/1, f = 189.5663210823432\n",
      "[[ 4.4010923  23.32331364 19.74834111  8.36795491  2.          2.36552898]]\n",
      "Success.\n",
      "\n",
      "Warning: Intersecting left turns at junction 'n11' from lane 'n12ton11_1' and lane 'n10ton11_1' (increase junction radius to avoid this).\n",
      "Warning: Intersecting left turns at junction 'n11' from lane 'o6ton11_1' and lane 'n6ton11_1' (increase junction radius to avoid this).\n",
      "Warning: Intersecting left turns at junction 'n12' from lane 'n13ton12_1' and lane 'n11ton12_1' (increase junction radius to avoid this).\n",
      "Warning: Intersecting left turns at junction 'n12' from lane 'o7ton12_1' and lane 'n7ton12_1' (increase junction radius to avoid this).\n",
      "Warning: Intersecting left turns at junction 'n14' from lane 'o10ton14_1' and lane 'n7ton14_1' (increase junction radius to avoid this).\n",
      "Warning: 24 total messages of type: Intersecting left turns at junction '%' from lane '%' and lane '%' (increase junction radius to avoid this).\n",
      "\n",
      "calling /usr/local/Cellar/sumo/1.8.0/share/sumo/bin/duarouter -n /Users/harrysonghurst/Documents/Coursework/L48 Machine Learning and the Physical World/TrafficEmu/sumo_grid_simulation/simulation_input_files/grid.net.xml -r /Users/harrysonghurst/Documents/Coursework/L48 Machine Learning and the Physical World/TrafficEmu/sumo_grid_simulation/simulation_input_files/veh_passenger.trips.xml --ignore-errors --begin 0.0 --end 3600.0 --no-step-log --additional-files /Users/harrysonghurst/Documents/Coursework/L48 Machine Learning and the Physical World/TrafficEmu/sumo_grid_simulation/simulation_input_files/veh.add.xml --no-warnings -o /Users/harrysonghurst/Documents/Coursework/L48 Machine Learning and the Physical World/TrafficEmu/sumo_grid_simulation/simulation_input_files/veh_passenger.rou.xml\n",
      "Success.\n",
      "calling /usr/local/Cellar/sumo/1.8.0/share/sumo/bin/duarouter -n /Users/harrysonghurst/Documents/Coursework/L48 Machine Learning and the Physical World/TrafficEmu/sumo_grid_simulation/simulation_input_files/grid.net.xml -r /Users/harrysonghurst/Documents/Coursework/L48 Machine Learning and the Physical World/TrafficEmu/sumo_grid_simulation/simulation_input_files/veh_passenger.trips.xml --ignore-errors --begin 0.0 --end 3600.0 --no-step-log --additional-files /Users/harrysonghurst/Documents/Coursework/L48 Machine Learning and the Physical World/TrafficEmu/sumo_grid_simulation/simulation_input_files/veh.add.xml --no-warnings -o /Users/harrysonghurst/Documents/Coursework/L48 Machine Learning and the Physical World/TrafficEmu/sumo_grid_simulation/simulation_input_files/veh_passenger.trips.xml.tmp --write-trips\n",
      "Success.\n",
      "\n",
      " Retrying in 1 seconds\n"
     ]
    },
    {
     "name": "stderr",
     "output_type": "stream",
     "text": [
      " /Users/harrysonghurst/opt/anaconda3/envs/traffic/lib/python3.8/site-packages/paramz/transformations.py:111: RuntimeWarning:overflow encountered in expm1\n"
     ]
    },
    {
     "name": "stdout",
     "output_type": "stream",
     "text": [
      "Optimization restart 1/1, f = 195.83322324379304\n",
      "[[  5.03458699   2.22948336  21.15245696 172.74798226   4.\n",
      "    2.54544414]]\n",
      "Success.\n",
      "\n",
      "calling /usr/local/Cellar/sumo/1.8.0/share/sumo/bin/duarouter -n /Users/harrysonghurst/Documents/Coursework/L48 Machine Learning and the Physical World/TrafficEmu/sumo_grid_simulation/simulation_input_files/grid.net.xml -r /Users/harrysonghurst/Documents/Coursework/L48 Machine Learning and the Physical World/TrafficEmu/sumo_grid_simulation/simulation_input_files/veh_passenger.trips.xml --ignore-errors --begin 0.0 --end 3600.0 --no-step-log --additional-files /Users/harrysonghurst/Documents/Coursework/L48 Machine Learning and the Physical World/TrafficEmu/sumo_grid_simulation/simulation_input_files/veh.add.xml --no-warnings -o /Users/harrysonghurst/Documents/Coursework/L48 Machine Learning and the Physical World/TrafficEmu/sumo_grid_simulation/simulation_input_files/veh_passenger.rou.xml\n",
      "Success.\n",
      "calling /usr/local/Cellar/sumo/1.8.0/share/sumo/bin/duarouter -n /Users/harrysonghurst/Documents/Coursework/L48 Machine Learning and the Physical World/TrafficEmu/sumo_grid_simulation/simulation_input_files/grid.net.xml -r /Users/harrysonghurst/Documents/Coursework/L48 Machine Learning and the Physical World/TrafficEmu/sumo_grid_simulation/simulation_input_files/veh_passenger.trips.xml --ignore-errors --begin 0.0 --end 3600.0 --no-step-log --additional-files /Users/harrysonghurst/Documents/Coursework/L48 Machine Learning and the Physical World/TrafficEmu/sumo_grid_simulation/simulation_input_files/veh.add.xml --no-warnings -o /Users/harrysonghurst/Documents/Coursework/L48 Machine Learning and the Physical World/TrafficEmu/sumo_grid_simulation/simulation_input_files/veh_passenger.trips.xml.tmp --write-trips\n",
      "Success.\n",
      "\n",
      " Retrying in 1 seconds\n"
     ]
    },
    {
     "name": "stderr",
     "output_type": "stream",
     "text": [
      " /Users/harrysonghurst/opt/anaconda3/envs/traffic/lib/python3.8/site-packages/paramz/transformations.py:111: RuntimeWarning:overflow encountered in expm1\n"
     ]
    },
    {
     "name": "stdout",
     "output_type": "stream",
     "text": [
      "Optimization restart 1/1, f = 202.33265083245075\n",
      "[[  6.41308413   6.19996239  20.73344651 117.15988797   3.\n",
      "    3.27373406]]\n",
      "Success.\n",
      "\n",
      "calling /usr/local/Cellar/sumo/1.8.0/share/sumo/bin/duarouter -n /Users/harrysonghurst/Documents/Coursework/L48 Machine Learning and the Physical World/TrafficEmu/sumo_grid_simulation/simulation_input_files/grid.net.xml -r /Users/harrysonghurst/Documents/Coursework/L48 Machine Learning and the Physical World/TrafficEmu/sumo_grid_simulation/simulation_input_files/veh_passenger.trips.xml --ignore-errors --begin 0.0 --end 3600.0 --no-step-log --additional-files /Users/harrysonghurst/Documents/Coursework/L48 Machine Learning and the Physical World/TrafficEmu/sumo_grid_simulation/simulation_input_files/veh.add.xml --no-warnings -o /Users/harrysonghurst/Documents/Coursework/L48 Machine Learning and the Physical World/TrafficEmu/sumo_grid_simulation/simulation_input_files/veh_passenger.rou.xml\n",
      "Success.\n",
      "calling /usr/local/Cellar/sumo/1.8.0/share/sumo/bin/duarouter -n /Users/harrysonghurst/Documents/Coursework/L48 Machine Learning and the Physical World/TrafficEmu/sumo_grid_simulation/simulation_input_files/grid.net.xml -r /Users/harrysonghurst/Documents/Coursework/L48 Machine Learning and the Physical World/TrafficEmu/sumo_grid_simulation/simulation_input_files/veh_passenger.trips.xml --ignore-errors --begin 0.0 --end 3600.0 --no-step-log --additional-files /Users/harrysonghurst/Documents/Coursework/L48 Machine Learning and the Physical World/TrafficEmu/sumo_grid_simulation/simulation_input_files/veh.add.xml --no-warnings -o /Users/harrysonghurst/Documents/Coursework/L48 Machine Learning and the Physical World/TrafficEmu/sumo_grid_simulation/simulation_input_files/veh_passenger.trips.xml.tmp --write-trips\n",
      "Success.\n",
      "\n",
      " Retrying in 1 seconds\n"
     ]
    },
    {
     "name": "stderr",
     "output_type": "stream",
     "text": [
      " /Users/harrysonghurst/opt/anaconda3/envs/traffic/lib/python3.8/site-packages/paramz/transformations.py:111: RuntimeWarning:overflow encountered in expm1\n"
     ]
    },
    {
     "name": "stdout",
     "output_type": "stream",
     "text": [
      "Optimization restart 1/1, f = 208.57585487901682\n",
      "[[  3.77110709  21.98460294   2.32766667 191.57968657   3.\n",
      "    3.37894467]]\n",
      "Success.\n",
      "\n",
      "calling /usr/local/Cellar/sumo/1.8.0/share/sumo/bin/duarouter -n /Users/harrysonghurst/Documents/Coursework/L48 Machine Learning and the Physical World/TrafficEmu/sumo_grid_simulation/simulation_input_files/grid.net.xml -r /Users/harrysonghurst/Documents/Coursework/L48 Machine Learning and the Physical World/TrafficEmu/sumo_grid_simulation/simulation_input_files/veh_passenger.trips.xml --ignore-errors --begin 0.0 --end 3600.0 --no-step-log --additional-files /Users/harrysonghurst/Documents/Coursework/L48 Machine Learning and the Physical World/TrafficEmu/sumo_grid_simulation/simulation_input_files/veh.add.xml --no-warnings -o /Users/harrysonghurst/Documents/Coursework/L48 Machine Learning and the Physical World/TrafficEmu/sumo_grid_simulation/simulation_input_files/veh_passenger.rou.xml\n",
      "Success.\n",
      "calling /usr/local/Cellar/sumo/1.8.0/share/sumo/bin/duarouter -n /Users/harrysonghurst/Documents/Coursework/L48 Machine Learning and the Physical World/TrafficEmu/sumo_grid_simulation/simulation_input_files/grid.net.xml -r /Users/harrysonghurst/Documents/Coursework/L48 Machine Learning and the Physical World/TrafficEmu/sumo_grid_simulation/simulation_input_files/veh_passenger.trips.xml --ignore-errors --begin 0.0 --end 3600.0 --no-step-log --additional-files /Users/harrysonghurst/Documents/Coursework/L48 Machine Learning and the Physical World/TrafficEmu/sumo_grid_simulation/simulation_input_files/veh.add.xml --no-warnings -o /Users/harrysonghurst/Documents/Coursework/L48 Machine Learning and the Physical World/TrafficEmu/sumo_grid_simulation/simulation_input_files/veh_passenger.trips.xml.tmp --write-trips\n",
      "Success.\n",
      "\n",
      " Retrying in 1 seconds\n"
     ]
    },
    {
     "name": "stderr",
     "output_type": "stream",
     "text": [
      " /Users/harrysonghurst/opt/anaconda3/envs/traffic/lib/python3.8/site-packages/paramz/transformations.py:111: RuntimeWarning:overflow encountered in expm1\n"
     ]
    },
    {
     "name": "stdout",
     "output_type": "stream",
     "text": [
      "Optimization restart 1/1, f = 214.94749652620402\n",
      "[[ 8.83495897 20.43389397 10.4309083  26.39076237  1.          6.34369589]]\n",
      "Success.\n",
      "\n",
      "calling /usr/local/Cellar/sumo/1.8.0/share/sumo/bin/duarouter -n /Users/harrysonghurst/Documents/Coursework/L48 Machine Learning and the Physical World/TrafficEmu/sumo_grid_simulation/simulation_input_files/grid.net.xml -r /Users/harrysonghurst/Documents/Coursework/L48 Machine Learning and the Physical World/TrafficEmu/sumo_grid_simulation/simulation_input_files/veh_passenger.trips.xml --ignore-errors --begin 0.0 --end 3600.0 --no-step-log --additional-files /Users/harrysonghurst/Documents/Coursework/L48 Machine Learning and the Physical World/TrafficEmu/sumo_grid_simulation/simulation_input_files/veh.add.xml --no-warnings -o /Users/harrysonghurst/Documents/Coursework/L48 Machine Learning and the Physical World/TrafficEmu/sumo_grid_simulation/simulation_input_files/veh_passenger.rou.xml\n",
      "Success.\n",
      "calling /usr/local/Cellar/sumo/1.8.0/share/sumo/bin/duarouter -n /Users/harrysonghurst/Documents/Coursework/L48 Machine Learning and the Physical World/TrafficEmu/sumo_grid_simulation/simulation_input_files/grid.net.xml -r /Users/harrysonghurst/Documents/Coursework/L48 Machine Learning and the Physical World/TrafficEmu/sumo_grid_simulation/simulation_input_files/veh_passenger.trips.xml --ignore-errors --begin 0.0 --end 3600.0 --no-step-log --additional-files /Users/harrysonghurst/Documents/Coursework/L48 Machine Learning and the Physical World/TrafficEmu/sumo_grid_simulation/simulation_input_files/veh.add.xml --no-warnings -o /Users/harrysonghurst/Documents/Coursework/L48 Machine Learning and the Physical World/TrafficEmu/sumo_grid_simulation/simulation_input_files/veh_passenger.trips.xml.tmp --write-trips\n",
      "Success.\n",
      "\n",
      " Retrying in 1 seconds\n"
     ]
    },
    {
     "name": "stderr",
     "output_type": "stream",
     "text": [
      " /Users/harrysonghurst/opt/anaconda3/envs/traffic/lib/python3.8/site-packages/paramz/transformations.py:111: RuntimeWarning:overflow encountered in expm1\n"
     ]
    },
    {
     "name": "stdout",
     "output_type": "stream",
     "text": [
      "Optimization restart 1/1, f = 221.1575921767585\n",
      "[[  6.6354925   24.97742052  13.85676491 241.5781193    4.\n",
      "    3.84081328]]\n",
      "Success.\n",
      "\n",
      "calling /usr/local/Cellar/sumo/1.8.0/share/sumo/bin/duarouter -n /Users/harrysonghurst/Documents/Coursework/L48 Machine Learning and the Physical World/TrafficEmu/sumo_grid_simulation/simulation_input_files/grid.net.xml -r /Users/harrysonghurst/Documents/Coursework/L48 Machine Learning and the Physical World/TrafficEmu/sumo_grid_simulation/simulation_input_files/veh_passenger.trips.xml --ignore-errors --begin 0.0 --end 3600.0 --no-step-log --additional-files /Users/harrysonghurst/Documents/Coursework/L48 Machine Learning and the Physical World/TrafficEmu/sumo_grid_simulation/simulation_input_files/veh.add.xml --no-warnings -o /Users/harrysonghurst/Documents/Coursework/L48 Machine Learning and the Physical World/TrafficEmu/sumo_grid_simulation/simulation_input_files/veh_passenger.rou.xml\n",
      "Success.\n",
      "calling /usr/local/Cellar/sumo/1.8.0/share/sumo/bin/duarouter -n /Users/harrysonghurst/Documents/Coursework/L48 Machine Learning and the Physical World/TrafficEmu/sumo_grid_simulation/simulation_input_files/grid.net.xml -r /Users/harrysonghurst/Documents/Coursework/L48 Machine Learning and the Physical World/TrafficEmu/sumo_grid_simulation/simulation_input_files/veh_passenger.trips.xml --ignore-errors --begin 0.0 --end 3600.0 --no-step-log --additional-files /Users/harrysonghurst/Documents/Coursework/L48 Machine Learning and the Physical World/TrafficEmu/sumo_grid_simulation/simulation_input_files/veh.add.xml --no-warnings -o /Users/harrysonghurst/Documents/Coursework/L48 Machine Learning and the Physical World/TrafficEmu/sumo_grid_simulation/simulation_input_files/veh_passenger.trips.xml.tmp --write-trips\n",
      "Success.\n",
      "\n",
      " Retrying in 1 seconds\n"
     ]
    },
    {
     "name": "stderr",
     "output_type": "stream",
     "text": [
      " /Users/harrysonghurst/opt/anaconda3/envs/traffic/lib/python3.8/site-packages/paramz/transformations.py:111: RuntimeWarning:overflow encountered in expm1\n"
     ]
    },
    {
     "name": "stdout",
     "output_type": "stream",
     "text": [
      "Optimization restart 1/1, f = 227.3554308505287\n",
      "[[ 10.24889819  10.62773858  13.00242817 174.89800773   2.\n",
      "    4.12609851]]\n",
      "Success.\n",
      "\n",
      "calling /usr/local/Cellar/sumo/1.8.0/share/sumo/bin/duarouter -n /Users/harrysonghurst/Documents/Coursework/L48 Machine Learning and the Physical World/TrafficEmu/sumo_grid_simulation/simulation_input_files/grid.net.xml -r /Users/harrysonghurst/Documents/Coursework/L48 Machine Learning and the Physical World/TrafficEmu/sumo_grid_simulation/simulation_input_files/veh_passenger.trips.xml --ignore-errors --begin 0.0 --end 3600.0 --no-step-log --additional-files /Users/harrysonghurst/Documents/Coursework/L48 Machine Learning and the Physical World/TrafficEmu/sumo_grid_simulation/simulation_input_files/veh.add.xml --no-warnings -o /Users/harrysonghurst/Documents/Coursework/L48 Machine Learning and the Physical World/TrafficEmu/sumo_grid_simulation/simulation_input_files/veh_passenger.rou.xml\n",
      "Success.\n",
      "calling /usr/local/Cellar/sumo/1.8.0/share/sumo/bin/duarouter -n /Users/harrysonghurst/Documents/Coursework/L48 Machine Learning and the Physical World/TrafficEmu/sumo_grid_simulation/simulation_input_files/grid.net.xml -r /Users/harrysonghurst/Documents/Coursework/L48 Machine Learning and the Physical World/TrafficEmu/sumo_grid_simulation/simulation_input_files/veh_passenger.trips.xml --ignore-errors --begin 0.0 --end 3600.0 --no-step-log --additional-files /Users/harrysonghurst/Documents/Coursework/L48 Machine Learning and the Physical World/TrafficEmu/sumo_grid_simulation/simulation_input_files/veh.add.xml --no-warnings -o /Users/harrysonghurst/Documents/Coursework/L48 Machine Learning and the Physical World/TrafficEmu/sumo_grid_simulation/simulation_input_files/veh_passenger.trips.xml.tmp --write-trips\n",
      "Success.\n",
      "\n",
      " Retrying in 1 seconds\n"
     ]
    },
    {
     "name": "stderr",
     "output_type": "stream",
     "text": [
      " /Users/harrysonghurst/opt/anaconda3/envs/traffic/lib/python3.8/site-packages/paramz/transformations.py:111: RuntimeWarning:overflow encountered in expm1\n"
     ]
    },
    {
     "name": "stdout",
     "output_type": "stream",
     "text": [
      "Optimization restart 1/1, f = 233.54221379561469\n",
      "[[ 5.95931117 15.06021689  3.49803161 67.01089837  1.          5.9217964 ]]\n",
      "Success.\n",
      "\n",
      "calling /usr/local/Cellar/sumo/1.8.0/share/sumo/bin/duarouter -n /Users/harrysonghurst/Documents/Coursework/L48 Machine Learning and the Physical World/TrafficEmu/sumo_grid_simulation/simulation_input_files/grid.net.xml -r /Users/harrysonghurst/Documents/Coursework/L48 Machine Learning and the Physical World/TrafficEmu/sumo_grid_simulation/simulation_input_files/veh_passenger.trips.xml --ignore-errors --begin 0.0 --end 3600.0 --no-step-log --additional-files /Users/harrysonghurst/Documents/Coursework/L48 Machine Learning and the Physical World/TrafficEmu/sumo_grid_simulation/simulation_input_files/veh.add.xml --no-warnings -o /Users/harrysonghurst/Documents/Coursework/L48 Machine Learning and the Physical World/TrafficEmu/sumo_grid_simulation/simulation_input_files/veh_passenger.rou.xml\n",
      "Success.\n",
      "calling /usr/local/Cellar/sumo/1.8.0/share/sumo/bin/duarouter -n /Users/harrysonghurst/Documents/Coursework/L48 Machine Learning and the Physical World/TrafficEmu/sumo_grid_simulation/simulation_input_files/grid.net.xml -r /Users/harrysonghurst/Documents/Coursework/L48 Machine Learning and the Physical World/TrafficEmu/sumo_grid_simulation/simulation_input_files/veh_passenger.trips.xml --ignore-errors --begin 0.0 --end 3600.0 --no-step-log --additional-files /Users/harrysonghurst/Documents/Coursework/L48 Machine Learning and the Physical World/TrafficEmu/sumo_grid_simulation/simulation_input_files/veh.add.xml --no-warnings -o /Users/harrysonghurst/Documents/Coursework/L48 Machine Learning and the Physical World/TrafficEmu/sumo_grid_simulation/simulation_input_files/veh_passenger.trips.xml.tmp --write-trips\n",
      "Success.\n",
      "\n",
      " Retrying in 1 seconds\n"
     ]
    },
    {
     "name": "stderr",
     "output_type": "stream",
     "text": [
      " /Users/harrysonghurst/opt/anaconda3/envs/traffic/lib/python3.8/site-packages/paramz/transformations.py:111: RuntimeWarning:overflow encountered in expm1\n"
     ]
    },
    {
     "name": "stdout",
     "output_type": "stream",
     "text": [
      "Optimization restart 1/1, f = 239.72700338535518\n",
      "[[  5.83500698   8.02361877  12.26112834 183.03770819   4.\n",
      "    7.81241802]]\n",
      "Success.\n",
      "\n",
      "calling /usr/local/Cellar/sumo/1.8.0/share/sumo/bin/duarouter -n /Users/harrysonghurst/Documents/Coursework/L48 Machine Learning and the Physical World/TrafficEmu/sumo_grid_simulation/simulation_input_files/grid.net.xml -r /Users/harrysonghurst/Documents/Coursework/L48 Machine Learning and the Physical World/TrafficEmu/sumo_grid_simulation/simulation_input_files/veh_passenger.trips.xml --ignore-errors --begin 0.0 --end 3600.0 --no-step-log --additional-files /Users/harrysonghurst/Documents/Coursework/L48 Machine Learning and the Physical World/TrafficEmu/sumo_grid_simulation/simulation_input_files/veh.add.xml --no-warnings -o /Users/harrysonghurst/Documents/Coursework/L48 Machine Learning and the Physical World/TrafficEmu/sumo_grid_simulation/simulation_input_files/veh_passenger.rou.xml\n",
      "Success.\n",
      "calling /usr/local/Cellar/sumo/1.8.0/share/sumo/bin/duarouter -n /Users/harrysonghurst/Documents/Coursework/L48 Machine Learning and the Physical World/TrafficEmu/sumo_grid_simulation/simulation_input_files/grid.net.xml -r /Users/harrysonghurst/Documents/Coursework/L48 Machine Learning and the Physical World/TrafficEmu/sumo_grid_simulation/simulation_input_files/veh_passenger.trips.xml --ignore-errors --begin 0.0 --end 3600.0 --no-step-log --additional-files /Users/harrysonghurst/Documents/Coursework/L48 Machine Learning and the Physical World/TrafficEmu/sumo_grid_simulation/simulation_input_files/veh.add.xml --no-warnings -o /Users/harrysonghurst/Documents/Coursework/L48 Machine Learning and the Physical World/TrafficEmu/sumo_grid_simulation/simulation_input_files/veh_passenger.trips.xml.tmp --write-trips\n",
      "Success.\n",
      "\n",
      " Retrying in 1 seconds\n"
     ]
    },
    {
     "name": "stderr",
     "output_type": "stream",
     "text": [
      " /Users/harrysonghurst/opt/anaconda3/envs/traffic/lib/python3.8/site-packages/paramz/transformations.py:111: RuntimeWarning:overflow encountered in expm1\n"
     ]
    },
    {
     "name": "stdout",
     "output_type": "stream",
     "text": [
      "Optimization restart 1/1, f = 245.9065305783288\n",
      "[[ 9.32259315 17.97017971  6.62307096 39.43741645  2.          5.5431153 ]]\n",
      "Success.\n",
      "\n",
      "calling /usr/local/Cellar/sumo/1.8.0/share/sumo/bin/duarouter -n /Users/harrysonghurst/Documents/Coursework/L48 Machine Learning and the Physical World/TrafficEmu/sumo_grid_simulation/simulation_input_files/grid.net.xml -r /Users/harrysonghurst/Documents/Coursework/L48 Machine Learning and the Physical World/TrafficEmu/sumo_grid_simulation/simulation_input_files/veh_passenger.trips.xml --ignore-errors --begin 0.0 --end 3600.0 --no-step-log --additional-files /Users/harrysonghurst/Documents/Coursework/L48 Machine Learning and the Physical World/TrafficEmu/sumo_grid_simulation/simulation_input_files/veh.add.xml --no-warnings -o /Users/harrysonghurst/Documents/Coursework/L48 Machine Learning and the Physical World/TrafficEmu/sumo_grid_simulation/simulation_input_files/veh_passenger.rou.xml\n",
      "Success.\n",
      "calling /usr/local/Cellar/sumo/1.8.0/share/sumo/bin/duarouter -n /Users/harrysonghurst/Documents/Coursework/L48 Machine Learning and the Physical World/TrafficEmu/sumo_grid_simulation/simulation_input_files/grid.net.xml -r /Users/harrysonghurst/Documents/Coursework/L48 Machine Learning and the Physical World/TrafficEmu/sumo_grid_simulation/simulation_input_files/veh_passenger.trips.xml --ignore-errors --begin 0.0 --end 3600.0 --no-step-log --additional-files /Users/harrysonghurst/Documents/Coursework/L48 Machine Learning and the Physical World/TrafficEmu/sumo_grid_simulation/simulation_input_files/veh.add.xml --no-warnings -o /Users/harrysonghurst/Documents/Coursework/L48 Machine Learning and the Physical World/TrafficEmu/sumo_grid_simulation/simulation_input_files/veh_passenger.trips.xml.tmp --write-trips\n",
      "Success.\n",
      "\n",
      " Retrying in 1 seconds\n"
     ]
    },
    {
     "name": "stderr",
     "output_type": "stream",
     "text": [
      " /Users/harrysonghurst/opt/anaconda3/envs/traffic/lib/python3.8/site-packages/paramz/transformations.py:111: RuntimeWarning:overflow encountered in expm1\n"
     ]
    },
    {
     "name": "stdout",
     "output_type": "stream",
     "text": [
      "Optimization restart 1/1, f = 252.04889584773477\n",
      "[[ 9.83720168 20.92888175  4.53702471 16.15413707  1.          9.14632309]]\n",
      "Success.\n",
      "\n",
      "calling /usr/local/Cellar/sumo/1.8.0/share/sumo/bin/duarouter -n /Users/harrysonghurst/Documents/Coursework/L48 Machine Learning and the Physical World/TrafficEmu/sumo_grid_simulation/simulation_input_files/grid.net.xml -r /Users/harrysonghurst/Documents/Coursework/L48 Machine Learning and the Physical World/TrafficEmu/sumo_grid_simulation/simulation_input_files/veh_passenger.trips.xml --ignore-errors --begin 0.0 --end 3600.0 --no-step-log --additional-files /Users/harrysonghurst/Documents/Coursework/L48 Machine Learning and the Physical World/TrafficEmu/sumo_grid_simulation/simulation_input_files/veh.add.xml --no-warnings -o /Users/harrysonghurst/Documents/Coursework/L48 Machine Learning and the Physical World/TrafficEmu/sumo_grid_simulation/simulation_input_files/veh_passenger.rou.xml\n",
      "Success.\n",
      "calling /usr/local/Cellar/sumo/1.8.0/share/sumo/bin/duarouter -n /Users/harrysonghurst/Documents/Coursework/L48 Machine Learning and the Physical World/TrafficEmu/sumo_grid_simulation/simulation_input_files/grid.net.xml -r /Users/harrysonghurst/Documents/Coursework/L48 Machine Learning and the Physical World/TrafficEmu/sumo_grid_simulation/simulation_input_files/veh_passenger.trips.xml --ignore-errors --begin 0.0 --end 3600.0 --no-step-log --additional-files /Users/harrysonghurst/Documents/Coursework/L48 Machine Learning and the Physical World/TrafficEmu/sumo_grid_simulation/simulation_input_files/veh.add.xml --no-warnings -o /Users/harrysonghurst/Documents/Coursework/L48 Machine Learning and the Physical World/TrafficEmu/sumo_grid_simulation/simulation_input_files/veh_passenger.trips.xml.tmp --write-trips\n",
      "Success.\n",
      "\n",
      " Retrying in 1 seconds\n"
     ]
    },
    {
     "name": "stderr",
     "output_type": "stream",
     "text": [
      " /Users/harrysonghurst/opt/anaconda3/envs/traffic/lib/python3.8/site-packages/paramz/transformations.py:111: RuntimeWarning:overflow encountered in expm1\n"
     ]
    },
    {
     "name": "stdout",
     "output_type": "stream",
     "text": [
      "Optimization restart 1/1, f = 258.17679636871424\n",
      "[[14.41885118 12.43932283 22.98322371 28.10741539  3.          4.52262115]]\n",
      "Success.\n",
      "\n",
      "calling /usr/local/Cellar/sumo/1.8.0/share/sumo/bin/duarouter -n /Users/harrysonghurst/Documents/Coursework/L48 Machine Learning and the Physical World/TrafficEmu/sumo_grid_simulation/simulation_input_files/grid.net.xml -r /Users/harrysonghurst/Documents/Coursework/L48 Machine Learning and the Physical World/TrafficEmu/sumo_grid_simulation/simulation_input_files/veh_passenger.trips.xml --ignore-errors --begin 0.0 --end 3600.0 --no-step-log --additional-files /Users/harrysonghurst/Documents/Coursework/L48 Machine Learning and the Physical World/TrafficEmu/sumo_grid_simulation/simulation_input_files/veh.add.xml --no-warnings -o /Users/harrysonghurst/Documents/Coursework/L48 Machine Learning and the Physical World/TrafficEmu/sumo_grid_simulation/simulation_input_files/veh_passenger.rou.xml\n",
      "Success.\n",
      "calling /usr/local/Cellar/sumo/1.8.0/share/sumo/bin/duarouter -n /Users/harrysonghurst/Documents/Coursework/L48 Machine Learning and the Physical World/TrafficEmu/sumo_grid_simulation/simulation_input_files/grid.net.xml -r /Users/harrysonghurst/Documents/Coursework/L48 Machine Learning and the Physical World/TrafficEmu/sumo_grid_simulation/simulation_input_files/veh_passenger.trips.xml --ignore-errors --begin 0.0 --end 3600.0 --no-step-log --additional-files /Users/harrysonghurst/Documents/Coursework/L48 Machine Learning and the Physical World/TrafficEmu/sumo_grid_simulation/simulation_input_files/veh.add.xml --no-warnings -o /Users/harrysonghurst/Documents/Coursework/L48 Machine Learning and the Physical World/TrafficEmu/sumo_grid_simulation/simulation_input_files/veh_passenger.trips.xml.tmp --write-trips\n",
      "Success.\n",
      "\n",
      " Retrying in 1 seconds\n"
     ]
    },
    {
     "name": "stderr",
     "output_type": "stream",
     "text": [
      " /Users/harrysonghurst/opt/anaconda3/envs/traffic/lib/python3.8/site-packages/paramz/transformations.py:111: RuntimeWarning:overflow encountered in expm1\n"
     ]
    },
    {
     "name": "stdout",
     "output_type": "stream",
     "text": [
      "Optimization restart 1/1, f = 264.29503918623436\n",
      "[[ 24.83298816  15.08649572  17.28459745 119.25206827   4.\n",
      "    7.78079046]]\n",
      "Success.\n",
      "\n",
      "calling /usr/local/Cellar/sumo/1.8.0/share/sumo/bin/duarouter -n /Users/harrysonghurst/Documents/Coursework/L48 Machine Learning and the Physical World/TrafficEmu/sumo_grid_simulation/simulation_input_files/grid.net.xml -r /Users/harrysonghurst/Documents/Coursework/L48 Machine Learning and the Physical World/TrafficEmu/sumo_grid_simulation/simulation_input_files/veh_passenger.trips.xml --ignore-errors --begin 0.0 --end 3600.0 --no-step-log --additional-files /Users/harrysonghurst/Documents/Coursework/L48 Machine Learning and the Physical World/TrafficEmu/sumo_grid_simulation/simulation_input_files/veh.add.xml --no-warnings -o /Users/harrysonghurst/Documents/Coursework/L48 Machine Learning and the Physical World/TrafficEmu/sumo_grid_simulation/simulation_input_files/veh_passenger.rou.xml\n",
      "Success.\n",
      "calling /usr/local/Cellar/sumo/1.8.0/share/sumo/bin/duarouter -n /Users/harrysonghurst/Documents/Coursework/L48 Machine Learning and the Physical World/TrafficEmu/sumo_grid_simulation/simulation_input_files/grid.net.xml -r /Users/harrysonghurst/Documents/Coursework/L48 Machine Learning and the Physical World/TrafficEmu/sumo_grid_simulation/simulation_input_files/veh_passenger.trips.xml --ignore-errors --begin 0.0 --end 3600.0 --no-step-log --additional-files /Users/harrysonghurst/Documents/Coursework/L48 Machine Learning and the Physical World/TrafficEmu/sumo_grid_simulation/simulation_input_files/veh.add.xml --no-warnings -o /Users/harrysonghurst/Documents/Coursework/L48 Machine Learning and the Physical World/TrafficEmu/sumo_grid_simulation/simulation_input_files/veh_passenger.trips.xml.tmp --write-trips\n",
      "Success.\n",
      "\n",
      " Retrying in 1 seconds\n"
     ]
    },
    {
     "name": "stderr",
     "output_type": "stream",
     "text": [
      " /Users/harrysonghurst/opt/anaconda3/envs/traffic/lib/python3.8/site-packages/paramz/transformations.py:111: RuntimeWarning:overflow encountered in expm1\n"
     ]
    },
    {
     "name": "stdout",
     "output_type": "stream",
     "text": [
      "Optimization restart 1/1, f = 270.42540433997783\n",
      "[[  4.02937318  17.46062066  18.17598645 229.45835031   4.\n",
      "    9.55430257]]\n",
      "Success.\n",
      "\n",
      "calling /usr/local/Cellar/sumo/1.8.0/share/sumo/bin/duarouter -n /Users/harrysonghurst/Documents/Coursework/L48 Machine Learning and the Physical World/TrafficEmu/sumo_grid_simulation/simulation_input_files/grid.net.xml -r /Users/harrysonghurst/Documents/Coursework/L48 Machine Learning and the Physical World/TrafficEmu/sumo_grid_simulation/simulation_input_files/veh_passenger.trips.xml --ignore-errors --begin 0.0 --end 3600.0 --no-step-log --additional-files /Users/harrysonghurst/Documents/Coursework/L48 Machine Learning and the Physical World/TrafficEmu/sumo_grid_simulation/simulation_input_files/veh.add.xml --no-warnings -o /Users/harrysonghurst/Documents/Coursework/L48 Machine Learning and the Physical World/TrafficEmu/sumo_grid_simulation/simulation_input_files/veh_passenger.rou.xml\n",
      "Success.\n",
      "calling /usr/local/Cellar/sumo/1.8.0/share/sumo/bin/duarouter -n /Users/harrysonghurst/Documents/Coursework/L48 Machine Learning and the Physical World/TrafficEmu/sumo_grid_simulation/simulation_input_files/grid.net.xml -r /Users/harrysonghurst/Documents/Coursework/L48 Machine Learning and the Physical World/TrafficEmu/sumo_grid_simulation/simulation_input_files/veh_passenger.trips.xml --ignore-errors --begin 0.0 --end 3600.0 --no-step-log --additional-files /Users/harrysonghurst/Documents/Coursework/L48 Machine Learning and the Physical World/TrafficEmu/sumo_grid_simulation/simulation_input_files/veh.add.xml --no-warnings -o /Users/harrysonghurst/Documents/Coursework/L48 Machine Learning and the Physical World/TrafficEmu/sumo_grid_simulation/simulation_input_files/veh_passenger.trips.xml.tmp --write-trips\n",
      "Success.\n",
      "\n",
      " Retrying in 1 seconds\n"
     ]
    },
    {
     "name": "stderr",
     "output_type": "stream",
     "text": [
      " /Users/harrysonghurst/opt/anaconda3/envs/traffic/lib/python3.8/site-packages/paramz/transformations.py:111: RuntimeWarning:overflow encountered in expm1\n"
     ]
    },
    {
     "name": "stdout",
     "output_type": "stream",
     "text": [
      "Optimization restart 1/1, f = 276.5196843994558\n",
      "[[  9.62442671  18.17308211  23.25736547 186.54766314   2.\n",
      "    2.80398526]]\n",
      "Success.\n",
      "\n",
      "calling /usr/local/Cellar/sumo/1.8.0/share/sumo/bin/duarouter -n /Users/harrysonghurst/Documents/Coursework/L48 Machine Learning and the Physical World/TrafficEmu/sumo_grid_simulation/simulation_input_files/grid.net.xml -r /Users/harrysonghurst/Documents/Coursework/L48 Machine Learning and the Physical World/TrafficEmu/sumo_grid_simulation/simulation_input_files/veh_passenger.trips.xml --ignore-errors --begin 0.0 --end 3600.0 --no-step-log --additional-files /Users/harrysonghurst/Documents/Coursework/L48 Machine Learning and the Physical World/TrafficEmu/sumo_grid_simulation/simulation_input_files/veh.add.xml --no-warnings -o /Users/harrysonghurst/Documents/Coursework/L48 Machine Learning and the Physical World/TrafficEmu/sumo_grid_simulation/simulation_input_files/veh_passenger.rou.xml\n",
      "Success.\n",
      "calling /usr/local/Cellar/sumo/1.8.0/share/sumo/bin/duarouter -n /Users/harrysonghurst/Documents/Coursework/L48 Machine Learning and the Physical World/TrafficEmu/sumo_grid_simulation/simulation_input_files/grid.net.xml -r /Users/harrysonghurst/Documents/Coursework/L48 Machine Learning and the Physical World/TrafficEmu/sumo_grid_simulation/simulation_input_files/veh_passenger.trips.xml --ignore-errors --begin 0.0 --end 3600.0 --no-step-log --additional-files /Users/harrysonghurst/Documents/Coursework/L48 Machine Learning and the Physical World/TrafficEmu/sumo_grid_simulation/simulation_input_files/veh.add.xml --no-warnings -o /Users/harrysonghurst/Documents/Coursework/L48 Machine Learning and the Physical World/TrafficEmu/sumo_grid_simulation/simulation_input_files/veh_passenger.trips.xml.tmp --write-trips\n",
      "Success.\n",
      "\n",
      " Retrying in 1 seconds\n"
     ]
    },
    {
     "name": "stderr",
     "output_type": "stream",
     "text": [
      " /Users/harrysonghurst/opt/anaconda3/envs/traffic/lib/python3.8/site-packages/paramz/transformations.py:111: RuntimeWarning:overflow encountered in expm1\n"
     ]
    },
    {
     "name": "stdout",
     "output_type": "stream",
     "text": [
      "Optimization restart 1/1, f = 282.6061288517598\n",
      "[[ 7.91793126 14.2149063  21.90838226 63.51256065  2.          7.10728086]]\n",
      "Success.\n",
      "\n",
      "calling /usr/local/Cellar/sumo/1.8.0/share/sumo/bin/duarouter -n /Users/harrysonghurst/Documents/Coursework/L48 Machine Learning and the Physical World/TrafficEmu/sumo_grid_simulation/simulation_input_files/grid.net.xml -r /Users/harrysonghurst/Documents/Coursework/L48 Machine Learning and the Physical World/TrafficEmu/sumo_grid_simulation/simulation_input_files/veh_passenger.trips.xml --ignore-errors --begin 0.0 --end 3600.0 --no-step-log --additional-files /Users/harrysonghurst/Documents/Coursework/L48 Machine Learning and the Physical World/TrafficEmu/sumo_grid_simulation/simulation_input_files/veh.add.xml --no-warnings -o /Users/harrysonghurst/Documents/Coursework/L48 Machine Learning and the Physical World/TrafficEmu/sumo_grid_simulation/simulation_input_files/veh_passenger.rou.xml\n",
      "Success.\n",
      "calling /usr/local/Cellar/sumo/1.8.0/share/sumo/bin/duarouter -n /Users/harrysonghurst/Documents/Coursework/L48 Machine Learning and the Physical World/TrafficEmu/sumo_grid_simulation/simulation_input_files/grid.net.xml -r /Users/harrysonghurst/Documents/Coursework/L48 Machine Learning and the Physical World/TrafficEmu/sumo_grid_simulation/simulation_input_files/veh_passenger.trips.xml --ignore-errors --begin 0.0 --end 3600.0 --no-step-log --additional-files /Users/harrysonghurst/Documents/Coursework/L48 Machine Learning and the Physical World/TrafficEmu/sumo_grid_simulation/simulation_input_files/veh.add.xml --no-warnings -o /Users/harrysonghurst/Documents/Coursework/L48 Machine Learning and the Physical World/TrafficEmu/sumo_grid_simulation/simulation_input_files/veh_passenger.trips.xml.tmp --write-trips\n",
      "Success.\n",
      "\n",
      " Retrying in 1 seconds\n"
     ]
    },
    {
     "name": "stderr",
     "output_type": "stream",
     "text": [
      " /Users/harrysonghurst/opt/anaconda3/envs/traffic/lib/python3.8/site-packages/paramz/transformations.py:111: RuntimeWarning:overflow encountered in expm1\n"
     ]
    },
    {
     "name": "stdout",
     "output_type": "stream",
     "text": [
      "Optimization restart 1/1, f = 288.6748435166219\n",
      "[[22.80676429 10.4079222  16.40639417 58.96471513  1.          2.78850876]]\n",
      "Success.\n",
      "\n",
      "calling /usr/local/Cellar/sumo/1.8.0/share/sumo/bin/duarouter -n /Users/harrysonghurst/Documents/Coursework/L48 Machine Learning and the Physical World/TrafficEmu/sumo_grid_simulation/simulation_input_files/grid.net.xml -r /Users/harrysonghurst/Documents/Coursework/L48 Machine Learning and the Physical World/TrafficEmu/sumo_grid_simulation/simulation_input_files/veh_passenger.trips.xml --ignore-errors --begin 0.0 --end 3600.0 --no-step-log --additional-files /Users/harrysonghurst/Documents/Coursework/L48 Machine Learning and the Physical World/TrafficEmu/sumo_grid_simulation/simulation_input_files/veh.add.xml --no-warnings -o /Users/harrysonghurst/Documents/Coursework/L48 Machine Learning and the Physical World/TrafficEmu/sumo_grid_simulation/simulation_input_files/veh_passenger.rou.xml\n",
      "Success.\n",
      "calling /usr/local/Cellar/sumo/1.8.0/share/sumo/bin/duarouter -n /Users/harrysonghurst/Documents/Coursework/L48 Machine Learning and the Physical World/TrafficEmu/sumo_grid_simulation/simulation_input_files/grid.net.xml -r /Users/harrysonghurst/Documents/Coursework/L48 Machine Learning and the Physical World/TrafficEmu/sumo_grid_simulation/simulation_input_files/veh_passenger.trips.xml --ignore-errors --begin 0.0 --end 3600.0 --no-step-log --additional-files /Users/harrysonghurst/Documents/Coursework/L48 Machine Learning and the Physical World/TrafficEmu/sumo_grid_simulation/simulation_input_files/veh.add.xml --no-warnings -o /Users/harrysonghurst/Documents/Coursework/L48 Machine Learning and the Physical World/TrafficEmu/sumo_grid_simulation/simulation_input_files/veh_passenger.trips.xml.tmp --write-trips\n",
      "Success.\n",
      "\n",
      " Retrying in 1 seconds\n"
     ]
    },
    {
     "name": "stderr",
     "output_type": "stream",
     "text": [
      " /Users/harrysonghurst/opt/anaconda3/envs/traffic/lib/python3.8/site-packages/paramz/transformations.py:111: RuntimeWarning:overflow encountered in expm1\n"
     ]
    },
    {
     "name": "stdout",
     "output_type": "stream",
     "text": [
      "Optimization restart 1/1, f = 294.73647875677216\n",
      "[[  9.98285334   6.82305091   1.7183425  155.17979979   3.\n",
      "    1.45542624]]\n",
      "Success.\n",
      "\n",
      "calling /usr/local/Cellar/sumo/1.8.0/share/sumo/bin/duarouter -n /Users/harrysonghurst/Documents/Coursework/L48 Machine Learning and the Physical World/TrafficEmu/sumo_grid_simulation/simulation_input_files/grid.net.xml -r /Users/harrysonghurst/Documents/Coursework/L48 Machine Learning and the Physical World/TrafficEmu/sumo_grid_simulation/simulation_input_files/veh_passenger.trips.xml --ignore-errors --begin 0.0 --end 3600.0 --no-step-log --additional-files /Users/harrysonghurst/Documents/Coursework/L48 Machine Learning and the Physical World/TrafficEmu/sumo_grid_simulation/simulation_input_files/veh.add.xml --no-warnings -o /Users/harrysonghurst/Documents/Coursework/L48 Machine Learning and the Physical World/TrafficEmu/sumo_grid_simulation/simulation_input_files/veh_passenger.rou.xml\n",
      "Success.\n",
      "calling /usr/local/Cellar/sumo/1.8.0/share/sumo/bin/duarouter -n /Users/harrysonghurst/Documents/Coursework/L48 Machine Learning and the Physical World/TrafficEmu/sumo_grid_simulation/simulation_input_files/grid.net.xml -r /Users/harrysonghurst/Documents/Coursework/L48 Machine Learning and the Physical World/TrafficEmu/sumo_grid_simulation/simulation_input_files/veh_passenger.trips.xml --ignore-errors --begin 0.0 --end 3600.0 --no-step-log --additional-files /Users/harrysonghurst/Documents/Coursework/L48 Machine Learning and the Physical World/TrafficEmu/sumo_grid_simulation/simulation_input_files/veh.add.xml --no-warnings -o /Users/harrysonghurst/Documents/Coursework/L48 Machine Learning and the Physical World/TrafficEmu/sumo_grid_simulation/simulation_input_files/veh_passenger.trips.xml.tmp --write-trips\n",
      "Success.\n",
      "\n",
      " Retrying in 1 seconds\n"
     ]
    },
    {
     "name": "stderr",
     "output_type": "stream",
     "text": [
      " /Users/harrysonghurst/opt/anaconda3/envs/traffic/lib/python3.8/site-packages/paramz/transformations.py:111: RuntimeWarning:overflow encountered in expm1\n"
     ]
    },
    {
     "name": "stdout",
     "output_type": "stream",
     "text": [
      "Optimization restart 1/1, f = 301.5370191781557\n",
      "[[ 15.63363788  24.38833871  10.77874241 132.64146419   3.\n",
      "    2.22632122]]\n",
      "Success.\n",
      "\n",
      "calling /usr/local/Cellar/sumo/1.8.0/share/sumo/bin/duarouter -n /Users/harrysonghurst/Documents/Coursework/L48 Machine Learning and the Physical World/TrafficEmu/sumo_grid_simulation/simulation_input_files/grid.net.xml -r /Users/harrysonghurst/Documents/Coursework/L48 Machine Learning and the Physical World/TrafficEmu/sumo_grid_simulation/simulation_input_files/veh_passenger.trips.xml --ignore-errors --begin 0.0 --end 3600.0 --no-step-log --additional-files /Users/harrysonghurst/Documents/Coursework/L48 Machine Learning and the Physical World/TrafficEmu/sumo_grid_simulation/simulation_input_files/veh.add.xml --no-warnings -o /Users/harrysonghurst/Documents/Coursework/L48 Machine Learning and the Physical World/TrafficEmu/sumo_grid_simulation/simulation_input_files/veh_passenger.rou.xml\n",
      "Success.\n",
      "calling /usr/local/Cellar/sumo/1.8.0/share/sumo/bin/duarouter -n /Users/harrysonghurst/Documents/Coursework/L48 Machine Learning and the Physical World/TrafficEmu/sumo_grid_simulation/simulation_input_files/grid.net.xml -r /Users/harrysonghurst/Documents/Coursework/L48 Machine Learning and the Physical World/TrafficEmu/sumo_grid_simulation/simulation_input_files/veh_passenger.trips.xml --ignore-errors --begin 0.0 --end 3600.0 --no-step-log --additional-files /Users/harrysonghurst/Documents/Coursework/L48 Machine Learning and the Physical World/TrafficEmu/sumo_grid_simulation/simulation_input_files/veh.add.xml --no-warnings -o /Users/harrysonghurst/Documents/Coursework/L48 Machine Learning and the Physical World/TrafficEmu/sumo_grid_simulation/simulation_input_files/veh_passenger.trips.xml.tmp --write-trips\n",
      "Success.\n",
      "\n",
      " Retrying in 1 seconds\n"
     ]
    },
    {
     "name": "stderr",
     "output_type": "stream",
     "text": [
      " /Users/harrysonghurst/opt/anaconda3/envs/traffic/lib/python3.8/site-packages/paramz/transformations.py:111: RuntimeWarning:overflow encountered in expm1\n"
     ]
    },
    {
     "name": "stdout",
     "output_type": "stream",
     "text": [
      "Optimization restart 1/1, f = 307.5940338877753\n",
      "[[12.33406961  4.05443832 17.19856769 42.18888842  1.          2.75457709]]\n",
      "Success.\n",
      "\n",
      "calling /usr/local/Cellar/sumo/1.8.0/share/sumo/bin/duarouter -n /Users/harrysonghurst/Documents/Coursework/L48 Machine Learning and the Physical World/TrafficEmu/sumo_grid_simulation/simulation_input_files/grid.net.xml -r /Users/harrysonghurst/Documents/Coursework/L48 Machine Learning and the Physical World/TrafficEmu/sumo_grid_simulation/simulation_input_files/veh_passenger.trips.xml --ignore-errors --begin 0.0 --end 3600.0 --no-step-log --additional-files /Users/harrysonghurst/Documents/Coursework/L48 Machine Learning and the Physical World/TrafficEmu/sumo_grid_simulation/simulation_input_files/veh.add.xml --no-warnings -o /Users/harrysonghurst/Documents/Coursework/L48 Machine Learning and the Physical World/TrafficEmu/sumo_grid_simulation/simulation_input_files/veh_passenger.rou.xml\n",
      "Success.\n",
      "calling /usr/local/Cellar/sumo/1.8.0/share/sumo/bin/duarouter -n /Users/harrysonghurst/Documents/Coursework/L48 Machine Learning and the Physical World/TrafficEmu/sumo_grid_simulation/simulation_input_files/grid.net.xml -r /Users/harrysonghurst/Documents/Coursework/L48 Machine Learning and the Physical World/TrafficEmu/sumo_grid_simulation/simulation_input_files/veh_passenger.trips.xml --ignore-errors --begin 0.0 --end 3600.0 --no-step-log --additional-files /Users/harrysonghurst/Documents/Coursework/L48 Machine Learning and the Physical World/TrafficEmu/sumo_grid_simulation/simulation_input_files/veh.add.xml --no-warnings -o /Users/harrysonghurst/Documents/Coursework/L48 Machine Learning and the Physical World/TrafficEmu/sumo_grid_simulation/simulation_input_files/veh_passenger.trips.xml.tmp --write-trips\n",
      "Success.\n",
      "\n",
      " Retrying in 1 seconds\n"
     ]
    },
    {
     "name": "stderr",
     "output_type": "stream",
     "text": [
      " /Users/harrysonghurst/opt/anaconda3/envs/traffic/lib/python3.8/site-packages/paramz/transformations.py:111: RuntimeWarning:overflow encountered in expm1\n"
     ]
    },
    {
     "name": "stdout",
     "output_type": "stream",
     "text": [
      "Optimization restart 1/1, f = 313.64201499797537\n",
      "[[16.9171733  17.63005674 13.8594065  90.82512622  1.          4.65575312]]\n",
      "Success.\n",
      "\n",
      "calling /usr/local/Cellar/sumo/1.8.0/share/sumo/bin/duarouter -n /Users/harrysonghurst/Documents/Coursework/L48 Machine Learning and the Physical World/TrafficEmu/sumo_grid_simulation/simulation_input_files/grid.net.xml -r /Users/harrysonghurst/Documents/Coursework/L48 Machine Learning and the Physical World/TrafficEmu/sumo_grid_simulation/simulation_input_files/veh_passenger.trips.xml --ignore-errors --begin 0.0 --end 3600.0 --no-step-log --additional-files /Users/harrysonghurst/Documents/Coursework/L48 Machine Learning and the Physical World/TrafficEmu/sumo_grid_simulation/simulation_input_files/veh.add.xml --no-warnings -o /Users/harrysonghurst/Documents/Coursework/L48 Machine Learning and the Physical World/TrafficEmu/sumo_grid_simulation/simulation_input_files/veh_passenger.rou.xml\n",
      "Success.\n",
      "calling /usr/local/Cellar/sumo/1.8.0/share/sumo/bin/duarouter -n /Users/harrysonghurst/Documents/Coursework/L48 Machine Learning and the Physical World/TrafficEmu/sumo_grid_simulation/simulation_input_files/grid.net.xml -r /Users/harrysonghurst/Documents/Coursework/L48 Machine Learning and the Physical World/TrafficEmu/sumo_grid_simulation/simulation_input_files/veh_passenger.trips.xml --ignore-errors --begin 0.0 --end 3600.0 --no-step-log --additional-files /Users/harrysonghurst/Documents/Coursework/L48 Machine Learning and the Physical World/TrafficEmu/sumo_grid_simulation/simulation_input_files/veh.add.xml --no-warnings -o /Users/harrysonghurst/Documents/Coursework/L48 Machine Learning and the Physical World/TrafficEmu/sumo_grid_simulation/simulation_input_files/veh_passenger.trips.xml.tmp --write-trips\n",
      "Success.\n",
      "\n",
      " Retrying in 1 seconds\n"
     ]
    },
    {
     "name": "stderr",
     "output_type": "stream",
     "text": [
      " /Users/harrysonghurst/opt/anaconda3/envs/traffic/lib/python3.8/site-packages/paramz/transformations.py:111: RuntimeWarning:overflow encountered in expm1\n"
     ]
    },
    {
     "name": "stdout",
     "output_type": "stream",
     "text": [
      "Optimization restart 1/1, f = 319.67920431587004\n",
      "[[21.24136638 19.49473908  5.10998815 82.65488064  1.          5.92838624]]\n",
      "Success.\n",
      "\n",
      "calling /usr/local/Cellar/sumo/1.8.0/share/sumo/bin/duarouter -n /Users/harrysonghurst/Documents/Coursework/L48 Machine Learning and the Physical World/TrafficEmu/sumo_grid_simulation/simulation_input_files/grid.net.xml -r /Users/harrysonghurst/Documents/Coursework/L48 Machine Learning and the Physical World/TrafficEmu/sumo_grid_simulation/simulation_input_files/veh_passenger.trips.xml --ignore-errors --begin 0.0 --end 3600.0 --no-step-log --additional-files /Users/harrysonghurst/Documents/Coursework/L48 Machine Learning and the Physical World/TrafficEmu/sumo_grid_simulation/simulation_input_files/veh.add.xml --no-warnings -o /Users/harrysonghurst/Documents/Coursework/L48 Machine Learning and the Physical World/TrafficEmu/sumo_grid_simulation/simulation_input_files/veh_passenger.rou.xml\n",
      "Success.\n",
      "calling /usr/local/Cellar/sumo/1.8.0/share/sumo/bin/duarouter -n /Users/harrysonghurst/Documents/Coursework/L48 Machine Learning and the Physical World/TrafficEmu/sumo_grid_simulation/simulation_input_files/grid.net.xml -r /Users/harrysonghurst/Documents/Coursework/L48 Machine Learning and the Physical World/TrafficEmu/sumo_grid_simulation/simulation_input_files/veh_passenger.trips.xml --ignore-errors --begin 0.0 --end 3600.0 --no-step-log --additional-files /Users/harrysonghurst/Documents/Coursework/L48 Machine Learning and the Physical World/TrafficEmu/sumo_grid_simulation/simulation_input_files/veh.add.xml --no-warnings -o /Users/harrysonghurst/Documents/Coursework/L48 Machine Learning and the Physical World/TrafficEmu/sumo_grid_simulation/simulation_input_files/veh_passenger.trips.xml.tmp --write-trips\n",
      "Success.\n",
      "\n",
      " Retrying in 1 seconds\n"
     ]
    },
    {
     "name": "stderr",
     "output_type": "stream",
     "text": [
      " /Users/harrysonghurst/opt/anaconda3/envs/traffic/lib/python3.8/site-packages/paramz/transformations.py:111: RuntimeWarning:overflow encountered in expm1\n"
     ]
    },
    {
     "name": "stdout",
     "output_type": "stream",
     "text": [
      "Optimization restart 1/1, f = 325.85892033932987\n",
      "[[ 18.53061726  13.31096098   4.74810911 139.34615995   3.\n",
      "    8.69102479]]\n",
      "Success.\n",
      "\n",
      "calling /usr/local/Cellar/sumo/1.8.0/share/sumo/bin/duarouter -n /Users/harrysonghurst/Documents/Coursework/L48 Machine Learning and the Physical World/TrafficEmu/sumo_grid_simulation/simulation_input_files/grid.net.xml -r /Users/harrysonghurst/Documents/Coursework/L48 Machine Learning and the Physical World/TrafficEmu/sumo_grid_simulation/simulation_input_files/veh_passenger.trips.xml --ignore-errors --begin 0.0 --end 3600.0 --no-step-log --additional-files /Users/harrysonghurst/Documents/Coursework/L48 Machine Learning and the Physical World/TrafficEmu/sumo_grid_simulation/simulation_input_files/veh.add.xml --no-warnings -o /Users/harrysonghurst/Documents/Coursework/L48 Machine Learning and the Physical World/TrafficEmu/sumo_grid_simulation/simulation_input_files/veh_passenger.rou.xml\n",
      "Success.\n",
      "calling /usr/local/Cellar/sumo/1.8.0/share/sumo/bin/duarouter -n /Users/harrysonghurst/Documents/Coursework/L48 Machine Learning and the Physical World/TrafficEmu/sumo_grid_simulation/simulation_input_files/grid.net.xml -r /Users/harrysonghurst/Documents/Coursework/L48 Machine Learning and the Physical World/TrafficEmu/sumo_grid_simulation/simulation_input_files/veh_passenger.trips.xml --ignore-errors --begin 0.0 --end 3600.0 --no-step-log --additional-files /Users/harrysonghurst/Documents/Coursework/L48 Machine Learning and the Physical World/TrafficEmu/sumo_grid_simulation/simulation_input_files/veh.add.xml --no-warnings -o /Users/harrysonghurst/Documents/Coursework/L48 Machine Learning and the Physical World/TrafficEmu/sumo_grid_simulation/simulation_input_files/veh_passenger.trips.xml.tmp --write-trips\n",
      "Success.\n",
      "\n",
      " Retrying in 1 seconds\n"
     ]
    },
    {
     "name": "stderr",
     "output_type": "stream",
     "text": [
      " /Users/harrysonghurst/opt/anaconda3/envs/traffic/lib/python3.8/site-packages/paramz/transformations.py:111: RuntimeWarning:overflow encountered in expm1\n"
     ]
    },
    {
     "name": "stdout",
     "output_type": "stream",
     "text": [
      "Optimization restart 1/1, f = 332.2550976268599\n",
      "[[3.2547075  5.13142712 7.92965239 4.6503097  1.         5.18354999]]\n",
      "Success.\n",
      "\n",
      "Warning: Intersecting left turns at junction 'n1' from lane 'o1ton1_0' and lane 'n4ton1_0' (increase junction radius to avoid this).\n",
      "Warning: Intersecting left turns at junction 'n1' from lane 'o12ton1_0' and lane 'n2ton1_0' (increase junction radius to avoid this).\n",
      "Warning: Intersecting left turns at junction 'n2' from lane 'n5ton2_0' and lane 'n1ton2_0' (increase junction radius to avoid this).\n",
      "Warning: Intersecting left turns at junction 'n2' from lane 'o2ton2_0' and lane 'n3ton2_0' (increase junction radius to avoid this).\n",
      "Warning: Intersecting left turns at junction 'n4' from lane 'o11ton4_0' and lane 'n3ton4_0' (increase junction radius to avoid this).\n",
      "Warning: 15 total messages of type: Intersecting left turns at junction '%' from lane '%' and lane '%' (increase junction radius to avoid this).\n",
      "\n",
      "calling /usr/local/Cellar/sumo/1.8.0/share/sumo/bin/duarouter -n /Users/harrysonghurst/Documents/Coursework/L48 Machine Learning and the Physical World/TrafficEmu/sumo_grid_simulation/simulation_input_files/grid.net.xml -r /Users/harrysonghurst/Documents/Coursework/L48 Machine Learning and the Physical World/TrafficEmu/sumo_grid_simulation/simulation_input_files/veh_passenger.trips.xml --ignore-errors --begin 0.0 --end 3600.0 --no-step-log --additional-files /Users/harrysonghurst/Documents/Coursework/L48 Machine Learning and the Physical World/TrafficEmu/sumo_grid_simulation/simulation_input_files/veh.add.xml --no-warnings -o /Users/harrysonghurst/Documents/Coursework/L48 Machine Learning and the Physical World/TrafficEmu/sumo_grid_simulation/simulation_input_files/veh_passenger.rou.xml\n",
      "Success.\n",
      "calling /usr/local/Cellar/sumo/1.8.0/share/sumo/bin/duarouter -n /Users/harrysonghurst/Documents/Coursework/L48 Machine Learning and the Physical World/TrafficEmu/sumo_grid_simulation/simulation_input_files/grid.net.xml -r /Users/harrysonghurst/Documents/Coursework/L48 Machine Learning and the Physical World/TrafficEmu/sumo_grid_simulation/simulation_input_files/veh_passenger.trips.xml --ignore-errors --begin 0.0 --end 3600.0 --no-step-log --additional-files /Users/harrysonghurst/Documents/Coursework/L48 Machine Learning and the Physical World/TrafficEmu/sumo_grid_simulation/simulation_input_files/veh.add.xml --no-warnings -o /Users/harrysonghurst/Documents/Coursework/L48 Machine Learning and the Physical World/TrafficEmu/sumo_grid_simulation/simulation_input_files/veh_passenger.trips.xml.tmp --write-trips\n",
      "Success.\n",
      "\n",
      " Retrying in 1 seconds\n"
     ]
    },
    {
     "name": "stderr",
     "output_type": "stream",
     "text": [
      " /Users/harrysonghurst/opt/anaconda3/envs/traffic/lib/python3.8/site-packages/paramz/transformations.py:111: RuntimeWarning:overflow encountered in expm1\n"
     ]
    },
    {
     "name": "stdout",
     "output_type": "stream",
     "text": [
      "Optimization restart 1/1, f = 338.2640311375794\n",
      "[[18.02959794  8.82479498 22.75539845 14.13773922  4.          4.93896877]]\n",
      "Success.\n",
      "\n",
      "Warning: Intersecting left turns at junction 'n1' from lane 'o72ton1_2' and lane 'n2ton1_2' (increase junction radius to avoid this).\n",
      "Warning: Intersecting left turns at junction 'n10' from lane 'n5ton10_2' and lane 'n17ton10_2' (increase junction radius to avoid this).\n",
      "Warning: Intersecting left turns at junction 'n100' from lane 'o63ton100_2' and lane 'n99ton100_2' (increase junction radius to avoid this).\n",
      "Warning: Intersecting left turns at junction 'n101' from lane 'n82ton101_2' and lane 'n122ton101_2' (increase junction radius to avoid this).\n",
      "Warning: Intersecting left turns at junction 'n102' from lane 'n83ton102_2' and lane 'n123ton102_2' (increase junction radius to avoid this).\n",
      "Warning: 836 total messages of type: Intersecting left turns at junction '%' from lane '%' and lane '%' (increase junction radius to avoid this).\n",
      "\n",
      "calling /usr/local/Cellar/sumo/1.8.0/share/sumo/bin/duarouter -n /Users/harrysonghurst/Documents/Coursework/L48 Machine Learning and the Physical World/TrafficEmu/sumo_grid_simulation/simulation_input_files/grid.net.xml -r /Users/harrysonghurst/Documents/Coursework/L48 Machine Learning and the Physical World/TrafficEmu/sumo_grid_simulation/simulation_input_files/veh_passenger.trips.xml --ignore-errors --begin 0.0 --end 3600.0 --no-step-log --additional-files /Users/harrysonghurst/Documents/Coursework/L48 Machine Learning and the Physical World/TrafficEmu/sumo_grid_simulation/simulation_input_files/veh.add.xml --no-warnings -o /Users/harrysonghurst/Documents/Coursework/L48 Machine Learning and the Physical World/TrafficEmu/sumo_grid_simulation/simulation_input_files/veh_passenger.rou.xml\n",
      "Success.\n",
      "calling /usr/local/Cellar/sumo/1.8.0/share/sumo/bin/duarouter -n /Users/harrysonghurst/Documents/Coursework/L48 Machine Learning and the Physical World/TrafficEmu/sumo_grid_simulation/simulation_input_files/grid.net.xml -r /Users/harrysonghurst/Documents/Coursework/L48 Machine Learning and the Physical World/TrafficEmu/sumo_grid_simulation/simulation_input_files/veh_passenger.trips.xml --ignore-errors --begin 0.0 --end 3600.0 --no-step-log --additional-files /Users/harrysonghurst/Documents/Coursework/L48 Machine Learning and the Physical World/TrafficEmu/sumo_grid_simulation/simulation_input_files/veh.add.xml --no-warnings -o /Users/harrysonghurst/Documents/Coursework/L48 Machine Learning and the Physical World/TrafficEmu/sumo_grid_simulation/simulation_input_files/veh_passenger.trips.xml.tmp --write-trips\n",
      "Success.\n",
      "\n",
      " Retrying in 1 seconds\n"
     ]
    },
    {
     "name": "stderr",
     "output_type": "stream",
     "text": [
      " /Users/harrysonghurst/opt/anaconda3/envs/traffic/lib/python3.8/site-packages/paramz/transformations.py:111: RuntimeWarning:overflow encountered in expm1\n"
     ]
    },
    {
     "name": "stdout",
     "output_type": "stream",
     "text": [
      "Optimization restart 1/1, f = 344.27317369096795\n",
      "[[20.7377507  19.16971074 10.34941555  8.13157763  2.          3.05326641]]\n",
      "Success.\n",
      "\n",
      "Warning: Intersecting left turns at junction 'n10' from lane 'o4ton10_1' and lane 'n11ton10_1' (increase junction radius to avoid this).\n",
      "Warning: Intersecting left turns at junction 'n10' from lane 'n5ton10_1' and lane 'n17ton10_1' (increase junction radius to avoid this).\n",
      "Warning: Intersecting left turns at junction 'n100' from lane 'n81ton100_1' and lane 'n121ton100_1' (increase junction radius to avoid this).\n",
      "Warning: Intersecting left turns at junction 'n100' from lane 'o71ton100_1' and lane 'n99ton100_1' (increase junction radius to avoid this).\n",
      "Warning: Intersecting left turns at junction 'n101' from lane 'o11ton101_1' and lane 'n102ton101_1' (increase junction radius to avoid this).\n",
      "Warning: 792 total messages of type: Intersecting left turns at junction '%' from lane '%' and lane '%' (increase junction radius to avoid this).\n",
      "\n",
      "calling /usr/local/Cellar/sumo/1.8.0/share/sumo/bin/duarouter -n /Users/harrysonghurst/Documents/Coursework/L48 Machine Learning and the Physical World/TrafficEmu/sumo_grid_simulation/simulation_input_files/grid.net.xml -r /Users/harrysonghurst/Documents/Coursework/L48 Machine Learning and the Physical World/TrafficEmu/sumo_grid_simulation/simulation_input_files/veh_passenger.trips.xml --ignore-errors --begin 0.0 --end 3600.0 --no-step-log --additional-files /Users/harrysonghurst/Documents/Coursework/L48 Machine Learning and the Physical World/TrafficEmu/sumo_grid_simulation/simulation_input_files/veh.add.xml --no-warnings -o /Users/harrysonghurst/Documents/Coursework/L48 Machine Learning and the Physical World/TrafficEmu/sumo_grid_simulation/simulation_input_files/veh_passenger.rou.xml\n",
      "Success.\n",
      "calling /usr/local/Cellar/sumo/1.8.0/share/sumo/bin/duarouter -n /Users/harrysonghurst/Documents/Coursework/L48 Machine Learning and the Physical World/TrafficEmu/sumo_grid_simulation/simulation_input_files/grid.net.xml -r /Users/harrysonghurst/Documents/Coursework/L48 Machine Learning and the Physical World/TrafficEmu/sumo_grid_simulation/simulation_input_files/veh_passenger.trips.xml --ignore-errors --begin 0.0 --end 3600.0 --no-step-log --additional-files /Users/harrysonghurst/Documents/Coursework/L48 Machine Learning and the Physical World/TrafficEmu/sumo_grid_simulation/simulation_input_files/veh.add.xml --no-warnings -o /Users/harrysonghurst/Documents/Coursework/L48 Machine Learning and the Physical World/TrafficEmu/sumo_grid_simulation/simulation_input_files/veh_passenger.trips.xml.tmp --write-trips\n",
      "Success.\n",
      "\n",
      " Retrying in 1 seconds\n"
     ]
    },
    {
     "name": "stderr",
     "output_type": "stream",
     "text": [
      " /Users/harrysonghurst/opt/anaconda3/envs/traffic/lib/python3.8/site-packages/paramz/transformations.py:111: RuntimeWarning:overflow encountered in expm1\n"
     ]
    },
    {
     "name": "stdout",
     "output_type": "stream",
     "text": [
      "Optimization restart 1/1, f = 350.26576063666363\n",
      "[[  5.74068578  16.52035595   2.63292048 145.97624461   3.\n",
      "    7.67024045]]\n",
      "Success.\n",
      "\n",
      "calling /usr/local/Cellar/sumo/1.8.0/share/sumo/bin/duarouter -n /Users/harrysonghurst/Documents/Coursework/L48 Machine Learning and the Physical World/TrafficEmu/sumo_grid_simulation/simulation_input_files/grid.net.xml -r /Users/harrysonghurst/Documents/Coursework/L48 Machine Learning and the Physical World/TrafficEmu/sumo_grid_simulation/simulation_input_files/veh_passenger.trips.xml --ignore-errors --begin 0.0 --end 3600.0 --no-step-log --additional-files /Users/harrysonghurst/Documents/Coursework/L48 Machine Learning and the Physical World/TrafficEmu/sumo_grid_simulation/simulation_input_files/veh.add.xml --no-warnings -o /Users/harrysonghurst/Documents/Coursework/L48 Machine Learning and the Physical World/TrafficEmu/sumo_grid_simulation/simulation_input_files/veh_passenger.rou.xml\n",
      "Success.\n",
      "calling /usr/local/Cellar/sumo/1.8.0/share/sumo/bin/duarouter -n /Users/harrysonghurst/Documents/Coursework/L48 Machine Learning and the Physical World/TrafficEmu/sumo_grid_simulation/simulation_input_files/grid.net.xml -r /Users/harrysonghurst/Documents/Coursework/L48 Machine Learning and the Physical World/TrafficEmu/sumo_grid_simulation/simulation_input_files/veh_passenger.trips.xml --ignore-errors --begin 0.0 --end 3600.0 --no-step-log --additional-files /Users/harrysonghurst/Documents/Coursework/L48 Machine Learning and the Physical World/TrafficEmu/sumo_grid_simulation/simulation_input_files/veh.add.xml --no-warnings -o /Users/harrysonghurst/Documents/Coursework/L48 Machine Learning and the Physical World/TrafficEmu/sumo_grid_simulation/simulation_input_files/veh_passenger.trips.xml.tmp --write-trips\n",
      "Success.\n",
      "\n",
      " Retrying in 1 seconds\n"
     ]
    },
    {
     "name": "stderr",
     "output_type": "stream",
     "text": [
      " /Users/harrysonghurst/opt/anaconda3/envs/traffic/lib/python3.8/site-packages/paramz/transformations.py:111: RuntimeWarning:overflow encountered in expm1\n"
     ]
    },
    {
     "name": "stdout",
     "output_type": "stream",
     "text": [
      "Optimization restart 1/1, f = 356.46488834791154\n",
      "[[  4.61950539   6.11913876   7.3818038  215.21524864   4.\n",
      "    0.66444035]]\n",
      "Success.\n",
      "\n",
      "calling /usr/local/Cellar/sumo/1.8.0/share/sumo/bin/duarouter -n /Users/harrysonghurst/Documents/Coursework/L48 Machine Learning and the Physical World/TrafficEmu/sumo_grid_simulation/simulation_input_files/grid.net.xml -r /Users/harrysonghurst/Documents/Coursework/L48 Machine Learning and the Physical World/TrafficEmu/sumo_grid_simulation/simulation_input_files/veh_passenger.trips.xml --ignore-errors --begin 0.0 --end 3600.0 --no-step-log --additional-files /Users/harrysonghurst/Documents/Coursework/L48 Machine Learning and the Physical World/TrafficEmu/sumo_grid_simulation/simulation_input_files/veh.add.xml --no-warnings -o /Users/harrysonghurst/Documents/Coursework/L48 Machine Learning and the Physical World/TrafficEmu/sumo_grid_simulation/simulation_input_files/veh_passenger.rou.xml\n",
      "Success.\n",
      "calling /usr/local/Cellar/sumo/1.8.0/share/sumo/bin/duarouter -n /Users/harrysonghurst/Documents/Coursework/L48 Machine Learning and the Physical World/TrafficEmu/sumo_grid_simulation/simulation_input_files/grid.net.xml -r /Users/harrysonghurst/Documents/Coursework/L48 Machine Learning and the Physical World/TrafficEmu/sumo_grid_simulation/simulation_input_files/veh_passenger.trips.xml --ignore-errors --begin 0.0 --end 3600.0 --no-step-log --additional-files /Users/harrysonghurst/Documents/Coursework/L48 Machine Learning and the Physical World/TrafficEmu/sumo_grid_simulation/simulation_input_files/veh.add.xml --no-warnings -o /Users/harrysonghurst/Documents/Coursework/L48 Machine Learning and the Physical World/TrafficEmu/sumo_grid_simulation/simulation_input_files/veh_passenger.trips.xml.tmp --write-trips\n",
      "Success.\n",
      "\n",
      " Retrying in 1 seconds\n"
     ]
    },
    {
     "name": "stderr",
     "output_type": "stream",
     "text": [
      " /Users/harrysonghurst/opt/anaconda3/envs/traffic/lib/python3.8/site-packages/paramz/transformations.py:111: RuntimeWarning:overflow encountered in expm1\n"
     ]
    },
    {
     "name": "stdout",
     "output_type": "stream",
     "text": [
      "Optimization restart 1/1, f = 362.4435328997888\n",
      "[[10.66400004 17.7540798  11.4493767  21.32637824  2.          7.65435825]]\n",
      "Success.\n",
      "\n",
      "calling /usr/local/Cellar/sumo/1.8.0/share/sumo/bin/duarouter -n /Users/harrysonghurst/Documents/Coursework/L48 Machine Learning and the Physical World/TrafficEmu/sumo_grid_simulation/simulation_input_files/grid.net.xml -r /Users/harrysonghurst/Documents/Coursework/L48 Machine Learning and the Physical World/TrafficEmu/sumo_grid_simulation/simulation_input_files/veh_passenger.trips.xml --ignore-errors --begin 0.0 --end 3600.0 --no-step-log --additional-files /Users/harrysonghurst/Documents/Coursework/L48 Machine Learning and the Physical World/TrafficEmu/sumo_grid_simulation/simulation_input_files/veh.add.xml --no-warnings -o /Users/harrysonghurst/Documents/Coursework/L48 Machine Learning and the Physical World/TrafficEmu/sumo_grid_simulation/simulation_input_files/veh_passenger.rou.xml\n",
      "Success.\n",
      "calling /usr/local/Cellar/sumo/1.8.0/share/sumo/bin/duarouter -n /Users/harrysonghurst/Documents/Coursework/L48 Machine Learning and the Physical World/TrafficEmu/sumo_grid_simulation/simulation_input_files/grid.net.xml -r /Users/harrysonghurst/Documents/Coursework/L48 Machine Learning and the Physical World/TrafficEmu/sumo_grid_simulation/simulation_input_files/veh_passenger.trips.xml --ignore-errors --begin 0.0 --end 3600.0 --no-step-log --additional-files /Users/harrysonghurst/Documents/Coursework/L48 Machine Learning and the Physical World/TrafficEmu/sumo_grid_simulation/simulation_input_files/veh.add.xml --no-warnings -o /Users/harrysonghurst/Documents/Coursework/L48 Machine Learning and the Physical World/TrafficEmu/sumo_grid_simulation/simulation_input_files/veh_passenger.trips.xml.tmp --write-trips\n",
      "Success.\n",
      "\n",
      " Retrying in 1 seconds\n"
     ]
    },
    {
     "name": "stderr",
     "output_type": "stream",
     "text": [
      " /Users/harrysonghurst/opt/anaconda3/envs/traffic/lib/python3.8/site-packages/paramz/transformations.py:111: RuntimeWarning:overflow encountered in expm1\n"
     ]
    },
    {
     "name": "stdout",
     "output_type": "stream",
     "text": [
      "Optimization restart 1/1, f = 368.4140329507673\n",
      "[[22.92680628  2.77908162 11.41153576 94.94767359  4.          9.6690971 ]]\n",
      "Success.\n",
      "\n",
      "calling /usr/local/Cellar/sumo/1.8.0/share/sumo/bin/duarouter -n /Users/harrysonghurst/Documents/Coursework/L48 Machine Learning and the Physical World/TrafficEmu/sumo_grid_simulation/simulation_input_files/grid.net.xml -r /Users/harrysonghurst/Documents/Coursework/L48 Machine Learning and the Physical World/TrafficEmu/sumo_grid_simulation/simulation_input_files/veh_passenger.trips.xml --ignore-errors --begin 0.0 --end 3600.0 --no-step-log --additional-files /Users/harrysonghurst/Documents/Coursework/L48 Machine Learning and the Physical World/TrafficEmu/sumo_grid_simulation/simulation_input_files/veh.add.xml --no-warnings -o /Users/harrysonghurst/Documents/Coursework/L48 Machine Learning and the Physical World/TrafficEmu/sumo_grid_simulation/simulation_input_files/veh_passenger.rou.xml\n",
      "Success.\n",
      "calling /usr/local/Cellar/sumo/1.8.0/share/sumo/bin/duarouter -n /Users/harrysonghurst/Documents/Coursework/L48 Machine Learning and the Physical World/TrafficEmu/sumo_grid_simulation/simulation_input_files/grid.net.xml -r /Users/harrysonghurst/Documents/Coursework/L48 Machine Learning and the Physical World/TrafficEmu/sumo_grid_simulation/simulation_input_files/veh_passenger.trips.xml --ignore-errors --begin 0.0 --end 3600.0 --no-step-log --additional-files /Users/harrysonghurst/Documents/Coursework/L48 Machine Learning and the Physical World/TrafficEmu/sumo_grid_simulation/simulation_input_files/veh.add.xml --no-warnings -o /Users/harrysonghurst/Documents/Coursework/L48 Machine Learning and the Physical World/TrafficEmu/sumo_grid_simulation/simulation_input_files/veh_passenger.trips.xml.tmp --write-trips\n",
      "Success.\n",
      "\n",
      " Retrying in 1 seconds\n"
     ]
    },
    {
     "name": "stderr",
     "output_type": "stream",
     "text": [
      " /Users/harrysonghurst/opt/anaconda3/envs/traffic/lib/python3.8/site-packages/paramz/transformations.py:111: RuntimeWarning:overflow encountered in expm1\n"
     ]
    },
    {
     "name": "stdout",
     "output_type": "stream",
     "text": [
      "Optimization restart 1/1, f = 375.14507578030344\n",
      "[[ 7.2868524  14.42568418 21.26782016 74.30771905  4.          3.78782194]]\n",
      "Success.\n",
      "\n",
      "calling /usr/local/Cellar/sumo/1.8.0/share/sumo/bin/duarouter -n /Users/harrysonghurst/Documents/Coursework/L48 Machine Learning and the Physical World/TrafficEmu/sumo_grid_simulation/simulation_input_files/grid.net.xml -r /Users/harrysonghurst/Documents/Coursework/L48 Machine Learning and the Physical World/TrafficEmu/sumo_grid_simulation/simulation_input_files/veh_passenger.trips.xml --ignore-errors --begin 0.0 --end 3600.0 --no-step-log --additional-files /Users/harrysonghurst/Documents/Coursework/L48 Machine Learning and the Physical World/TrafficEmu/sumo_grid_simulation/simulation_input_files/veh.add.xml --no-warnings -o /Users/harrysonghurst/Documents/Coursework/L48 Machine Learning and the Physical World/TrafficEmu/sumo_grid_simulation/simulation_input_files/veh_passenger.rou.xml\n",
      "Success.\n",
      "calling /usr/local/Cellar/sumo/1.8.0/share/sumo/bin/duarouter -n /Users/harrysonghurst/Documents/Coursework/L48 Machine Learning and the Physical World/TrafficEmu/sumo_grid_simulation/simulation_input_files/grid.net.xml -r /Users/harrysonghurst/Documents/Coursework/L48 Machine Learning and the Physical World/TrafficEmu/sumo_grid_simulation/simulation_input_files/veh_passenger.trips.xml --ignore-errors --begin 0.0 --end 3600.0 --no-step-log --additional-files /Users/harrysonghurst/Documents/Coursework/L48 Machine Learning and the Physical World/TrafficEmu/sumo_grid_simulation/simulation_input_files/veh.add.xml --no-warnings -o /Users/harrysonghurst/Documents/Coursework/L48 Machine Learning and the Physical World/TrafficEmu/sumo_grid_simulation/simulation_input_files/veh_passenger.trips.xml.tmp --write-trips\n",
      "Success.\n",
      "\n",
      " Retrying in 1 seconds\n"
     ]
    },
    {
     "name": "stderr",
     "output_type": "stream",
     "text": [
      " /Users/harrysonghurst/opt/anaconda3/envs/traffic/lib/python3.8/site-packages/paramz/transformations.py:111: RuntimeWarning:overflow encountered in expm1\n"
     ]
    },
    {
     "name": "stdout",
     "output_type": "stream",
     "text": [
      "Optimization restart 1/1, f = 381.1124081337638\n",
      "[[ 24.68826908  13.97772726  18.51200352 249.55948479   4.\n",
      "    4.67472738]]\n",
      "Success.\n",
      "\n",
      "calling /usr/local/Cellar/sumo/1.8.0/share/sumo/bin/duarouter -n /Users/harrysonghurst/Documents/Coursework/L48 Machine Learning and the Physical World/TrafficEmu/sumo_grid_simulation/simulation_input_files/grid.net.xml -r /Users/harrysonghurst/Documents/Coursework/L48 Machine Learning and the Physical World/TrafficEmu/sumo_grid_simulation/simulation_input_files/veh_passenger.trips.xml --ignore-errors --begin 0.0 --end 3600.0 --no-step-log --additional-files /Users/harrysonghurst/Documents/Coursework/L48 Machine Learning and the Physical World/TrafficEmu/sumo_grid_simulation/simulation_input_files/veh.add.xml --no-warnings -o /Users/harrysonghurst/Documents/Coursework/L48 Machine Learning and the Physical World/TrafficEmu/sumo_grid_simulation/simulation_input_files/veh_passenger.rou.xml\n",
      "Success.\n",
      "calling /usr/local/Cellar/sumo/1.8.0/share/sumo/bin/duarouter -n /Users/harrysonghurst/Documents/Coursework/L48 Machine Learning and the Physical World/TrafficEmu/sumo_grid_simulation/simulation_input_files/grid.net.xml -r /Users/harrysonghurst/Documents/Coursework/L48 Machine Learning and the Physical World/TrafficEmu/sumo_grid_simulation/simulation_input_files/veh_passenger.trips.xml --ignore-errors --begin 0.0 --end 3600.0 --no-step-log --additional-files /Users/harrysonghurst/Documents/Coursework/L48 Machine Learning and the Physical World/TrafficEmu/sumo_grid_simulation/simulation_input_files/veh.add.xml --no-warnings -o /Users/harrysonghurst/Documents/Coursework/L48 Machine Learning and the Physical World/TrafficEmu/sumo_grid_simulation/simulation_input_files/veh_passenger.trips.xml.tmp --write-trips\n",
      "Success.\n",
      "\n",
      " Retrying in 1 seconds\n"
     ]
    },
    {
     "name": "stderr",
     "output_type": "stream",
     "text": [
      " /Users/harrysonghurst/opt/anaconda3/envs/traffic/lib/python3.8/site-packages/paramz/transformations.py:111: RuntimeWarning:overflow encountered in expm1\n"
     ]
    },
    {
     "name": "stdout",
     "output_type": "stream",
     "text": [
      "Optimization restart 1/1, f = 387.12662422282636\n",
      "[[ 15.9819065   16.93318446  24.50702437 237.94139116   1.\n",
      "    9.34359143]]\n",
      "Success.\n",
      "\n",
      "calling /usr/local/Cellar/sumo/1.8.0/share/sumo/bin/duarouter -n /Users/harrysonghurst/Documents/Coursework/L48 Machine Learning and the Physical World/TrafficEmu/sumo_grid_simulation/simulation_input_files/grid.net.xml -r /Users/harrysonghurst/Documents/Coursework/L48 Machine Learning and the Physical World/TrafficEmu/sumo_grid_simulation/simulation_input_files/veh_passenger.trips.xml --ignore-errors --begin 0.0 --end 3600.0 --no-step-log --additional-files /Users/harrysonghurst/Documents/Coursework/L48 Machine Learning and the Physical World/TrafficEmu/sumo_grid_simulation/simulation_input_files/veh.add.xml --no-warnings -o /Users/harrysonghurst/Documents/Coursework/L48 Machine Learning and the Physical World/TrafficEmu/sumo_grid_simulation/simulation_input_files/veh_passenger.rou.xml\n",
      "Success.\n",
      "calling /usr/local/Cellar/sumo/1.8.0/share/sumo/bin/duarouter -n /Users/harrysonghurst/Documents/Coursework/L48 Machine Learning and the Physical World/TrafficEmu/sumo_grid_simulation/simulation_input_files/grid.net.xml -r /Users/harrysonghurst/Documents/Coursework/L48 Machine Learning and the Physical World/TrafficEmu/sumo_grid_simulation/simulation_input_files/veh_passenger.trips.xml --ignore-errors --begin 0.0 --end 3600.0 --no-step-log --additional-files /Users/harrysonghurst/Documents/Coursework/L48 Machine Learning and the Physical World/TrafficEmu/sumo_grid_simulation/simulation_input_files/veh.add.xml --no-warnings -o /Users/harrysonghurst/Documents/Coursework/L48 Machine Learning and the Physical World/TrafficEmu/sumo_grid_simulation/simulation_input_files/veh_passenger.trips.xml.tmp --write-trips\n",
      "Success.\n",
      "\n",
      " Retrying in 1 seconds\n"
     ]
    },
    {
     "name": "stderr",
     "output_type": "stream",
     "text": [
      " /Users/harrysonghurst/opt/anaconda3/envs/traffic/lib/python3.8/site-packages/paramz/transformations.py:111: RuntimeWarning:overflow encountered in expm1\n"
     ]
    },
    {
     "name": "stdout",
     "output_type": "stream",
     "text": [
      "Optimization restart 1/1, f = 393.11460901090265\n",
      "[[  6.80405791   7.53668026  12.50029175 127.504846     2.\n",
      "    5.0403748 ]]\n",
      "Success.\n",
      "\n",
      "calling /usr/local/Cellar/sumo/1.8.0/share/sumo/bin/duarouter -n /Users/harrysonghurst/Documents/Coursework/L48 Machine Learning and the Physical World/TrafficEmu/sumo_grid_simulation/simulation_input_files/grid.net.xml -r /Users/harrysonghurst/Documents/Coursework/L48 Machine Learning and the Physical World/TrafficEmu/sumo_grid_simulation/simulation_input_files/veh_passenger.trips.xml --ignore-errors --begin 0.0 --end 3600.0 --no-step-log --additional-files /Users/harrysonghurst/Documents/Coursework/L48 Machine Learning and the Physical World/TrafficEmu/sumo_grid_simulation/simulation_input_files/veh.add.xml --no-warnings -o /Users/harrysonghurst/Documents/Coursework/L48 Machine Learning and the Physical World/TrafficEmu/sumo_grid_simulation/simulation_input_files/veh_passenger.rou.xml\n",
      "Success.\n",
      "calling /usr/local/Cellar/sumo/1.8.0/share/sumo/bin/duarouter -n /Users/harrysonghurst/Documents/Coursework/L48 Machine Learning and the Physical World/TrafficEmu/sumo_grid_simulation/simulation_input_files/grid.net.xml -r /Users/harrysonghurst/Documents/Coursework/L48 Machine Learning and the Physical World/TrafficEmu/sumo_grid_simulation/simulation_input_files/veh_passenger.trips.xml --ignore-errors --begin 0.0 --end 3600.0 --no-step-log --additional-files /Users/harrysonghurst/Documents/Coursework/L48 Machine Learning and the Physical World/TrafficEmu/sumo_grid_simulation/simulation_input_files/veh.add.xml --no-warnings -o /Users/harrysonghurst/Documents/Coursework/L48 Machine Learning and the Physical World/TrafficEmu/sumo_grid_simulation/simulation_input_files/veh_passenger.trips.xml.tmp --write-trips\n",
      "Success.\n",
      "\n",
      " Retrying in 1 seconds\n"
     ]
    },
    {
     "name": "stderr",
     "output_type": "stream",
     "text": [
      " /Users/harrysonghurst/opt/anaconda3/envs/traffic/lib/python3.8/site-packages/paramz/transformations.py:111: RuntimeWarning:overflow encountered in expm1\n"
     ]
    },
    {
     "name": "stdout",
     "output_type": "stream",
     "text": [
      "Optimization restart 1/1, f = 399.06714939556963\n",
      "[[  3.06658509   1.14848923  22.66310871 240.17243204   3.\n",
      "    9.79300948]]\n",
      "Success.\n",
      "\n",
      "calling /usr/local/Cellar/sumo/1.8.0/share/sumo/bin/duarouter -n /Users/harrysonghurst/Documents/Coursework/L48 Machine Learning and the Physical World/TrafficEmu/sumo_grid_simulation/simulation_input_files/grid.net.xml -r /Users/harrysonghurst/Documents/Coursework/L48 Machine Learning and the Physical World/TrafficEmu/sumo_grid_simulation/simulation_input_files/veh_passenger.trips.xml --ignore-errors --begin 0.0 --end 3600.0 --no-step-log --additional-files /Users/harrysonghurst/Documents/Coursework/L48 Machine Learning and the Physical World/TrafficEmu/sumo_grid_simulation/simulation_input_files/veh.add.xml --no-warnings -o /Users/harrysonghurst/Documents/Coursework/L48 Machine Learning and the Physical World/TrafficEmu/sumo_grid_simulation/simulation_input_files/veh_passenger.rou.xml\n",
      "Success.\n",
      "calling /usr/local/Cellar/sumo/1.8.0/share/sumo/bin/duarouter -n /Users/harrysonghurst/Documents/Coursework/L48 Machine Learning and the Physical World/TrafficEmu/sumo_grid_simulation/simulation_input_files/grid.net.xml -r /Users/harrysonghurst/Documents/Coursework/L48 Machine Learning and the Physical World/TrafficEmu/sumo_grid_simulation/simulation_input_files/veh_passenger.trips.xml --ignore-errors --begin 0.0 --end 3600.0 --no-step-log --additional-files /Users/harrysonghurst/Documents/Coursework/L48 Machine Learning and the Physical World/TrafficEmu/sumo_grid_simulation/simulation_input_files/veh.add.xml --no-warnings -o /Users/harrysonghurst/Documents/Coursework/L48 Machine Learning and the Physical World/TrafficEmu/sumo_grid_simulation/simulation_input_files/veh_passenger.trips.xml.tmp --write-trips\n",
      "Success.\n",
      "\n",
      " Retrying in 1 seconds\n"
     ]
    },
    {
     "name": "stderr",
     "output_type": "stream",
     "text": [
      " /Users/harrysonghurst/opt/anaconda3/envs/traffic/lib/python3.8/site-packages/paramz/transformations.py:111: RuntimeWarning:overflow encountered in expm1\n"
     ]
    },
    {
     "name": "stdout",
     "output_type": "stream",
     "text": [
      "Optimization restart 1/1, f = 406.8304189414046\n",
      "[[ 19.21194427  13.0443462    9.61548793 168.59196871   2.\n",
      "    9.76262665]]\n",
      "Success.\n",
      "\n",
      "calling /usr/local/Cellar/sumo/1.8.0/share/sumo/bin/duarouter -n /Users/harrysonghurst/Documents/Coursework/L48 Machine Learning and the Physical World/TrafficEmu/sumo_grid_simulation/simulation_input_files/grid.net.xml -r /Users/harrysonghurst/Documents/Coursework/L48 Machine Learning and the Physical World/TrafficEmu/sumo_grid_simulation/simulation_input_files/veh_passenger.trips.xml --ignore-errors --begin 0.0 --end 3600.0 --no-step-log --additional-files /Users/harrysonghurst/Documents/Coursework/L48 Machine Learning and the Physical World/TrafficEmu/sumo_grid_simulation/simulation_input_files/veh.add.xml --no-warnings -o /Users/harrysonghurst/Documents/Coursework/L48 Machine Learning and the Physical World/TrafficEmu/sumo_grid_simulation/simulation_input_files/veh_passenger.rou.xml\n",
      "Success.\n",
      "calling /usr/local/Cellar/sumo/1.8.0/share/sumo/bin/duarouter -n /Users/harrysonghurst/Documents/Coursework/L48 Machine Learning and the Physical World/TrafficEmu/sumo_grid_simulation/simulation_input_files/grid.net.xml -r /Users/harrysonghurst/Documents/Coursework/L48 Machine Learning and the Physical World/TrafficEmu/sumo_grid_simulation/simulation_input_files/veh_passenger.trips.xml --ignore-errors --begin 0.0 --end 3600.0 --no-step-log --additional-files /Users/harrysonghurst/Documents/Coursework/L48 Machine Learning and the Physical World/TrafficEmu/sumo_grid_simulation/simulation_input_files/veh.add.xml --no-warnings -o /Users/harrysonghurst/Documents/Coursework/L48 Machine Learning and the Physical World/TrafficEmu/sumo_grid_simulation/simulation_input_files/veh_passenger.trips.xml.tmp --write-trips\n",
      "Success.\n",
      "\n",
      " Retrying in 1 seconds\n"
     ]
    },
    {
     "name": "stderr",
     "output_type": "stream",
     "text": [
      " /Users/harrysonghurst/opt/anaconda3/envs/traffic/lib/python3.8/site-packages/paramz/transformations.py:111: RuntimeWarning:overflow encountered in expm1\n"
     ]
    },
    {
     "name": "stdout",
     "output_type": "stream",
     "text": [
      "Optimization restart 1/1, f = 412.99431301211337\n",
      "[[ 12.82618214  13.43612254  23.78225346 152.32819359   3.\n",
      "    0.61998079]]\n",
      "Success.\n",
      "\n",
      "calling /usr/local/Cellar/sumo/1.8.0/share/sumo/bin/duarouter -n /Users/harrysonghurst/Documents/Coursework/L48 Machine Learning and the Physical World/TrafficEmu/sumo_grid_simulation/simulation_input_files/grid.net.xml -r /Users/harrysonghurst/Documents/Coursework/L48 Machine Learning and the Physical World/TrafficEmu/sumo_grid_simulation/simulation_input_files/veh_passenger.trips.xml --ignore-errors --begin 0.0 --end 3600.0 --no-step-log --additional-files /Users/harrysonghurst/Documents/Coursework/L48 Machine Learning and the Physical World/TrafficEmu/sumo_grid_simulation/simulation_input_files/veh.add.xml --no-warnings -o /Users/harrysonghurst/Documents/Coursework/L48 Machine Learning and the Physical World/TrafficEmu/sumo_grid_simulation/simulation_input_files/veh_passenger.rou.xml\n",
      "Success.\n",
      "calling /usr/local/Cellar/sumo/1.8.0/share/sumo/bin/duarouter -n /Users/harrysonghurst/Documents/Coursework/L48 Machine Learning and the Physical World/TrafficEmu/sumo_grid_simulation/simulation_input_files/grid.net.xml -r /Users/harrysonghurst/Documents/Coursework/L48 Machine Learning and the Physical World/TrafficEmu/sumo_grid_simulation/simulation_input_files/veh_passenger.trips.xml --ignore-errors --begin 0.0 --end 3600.0 --no-step-log --additional-files /Users/harrysonghurst/Documents/Coursework/L48 Machine Learning and the Physical World/TrafficEmu/sumo_grid_simulation/simulation_input_files/veh.add.xml --no-warnings -o /Users/harrysonghurst/Documents/Coursework/L48 Machine Learning and the Physical World/TrafficEmu/sumo_grid_simulation/simulation_input_files/veh_passenger.trips.xml.tmp --write-trips\n",
      "Success.\n",
      "\n",
      " Retrying in 1 seconds\n"
     ]
    },
    {
     "name": "stderr",
     "output_type": "stream",
     "text": [
      " /Users/harrysonghurst/opt/anaconda3/envs/traffic/lib/python3.8/site-packages/paramz/transformations.py:111: RuntimeWarning:overflow encountered in expm1\n"
     ]
    },
    {
     "name": "stdout",
     "output_type": "stream",
     "text": [
      "Optimization restart 1/1, f = 418.9942866712653\n",
      "[[  6.60390595  15.92354851  19.18769837 220.95562817   4.\n",
      "    6.25686823]]\n",
      "Success.\n",
      "\n",
      "calling /usr/local/Cellar/sumo/1.8.0/share/sumo/bin/duarouter -n /Users/harrysonghurst/Documents/Coursework/L48 Machine Learning and the Physical World/TrafficEmu/sumo_grid_simulation/simulation_input_files/grid.net.xml -r /Users/harrysonghurst/Documents/Coursework/L48 Machine Learning and the Physical World/TrafficEmu/sumo_grid_simulation/simulation_input_files/veh_passenger.trips.xml --ignore-errors --begin 0.0 --end 3600.0 --no-step-log --additional-files /Users/harrysonghurst/Documents/Coursework/L48 Machine Learning and the Physical World/TrafficEmu/sumo_grid_simulation/simulation_input_files/veh.add.xml --no-warnings -o /Users/harrysonghurst/Documents/Coursework/L48 Machine Learning and the Physical World/TrafficEmu/sumo_grid_simulation/simulation_input_files/veh_passenger.rou.xml\n",
      "Success.\n",
      "calling /usr/local/Cellar/sumo/1.8.0/share/sumo/bin/duarouter -n /Users/harrysonghurst/Documents/Coursework/L48 Machine Learning and the Physical World/TrafficEmu/sumo_grid_simulation/simulation_input_files/grid.net.xml -r /Users/harrysonghurst/Documents/Coursework/L48 Machine Learning and the Physical World/TrafficEmu/sumo_grid_simulation/simulation_input_files/veh_passenger.trips.xml --ignore-errors --begin 0.0 --end 3600.0 --no-step-log --additional-files /Users/harrysonghurst/Documents/Coursework/L48 Machine Learning and the Physical World/TrafficEmu/sumo_grid_simulation/simulation_input_files/veh.add.xml --no-warnings -o /Users/harrysonghurst/Documents/Coursework/L48 Machine Learning and the Physical World/TrafficEmu/sumo_grid_simulation/simulation_input_files/veh_passenger.trips.xml.tmp --write-trips\n",
      "Success.\n",
      "\n",
      " Retrying in 1 seconds\n"
     ]
    },
    {
     "name": "stderr",
     "output_type": "stream",
     "text": [
      " /Users/harrysonghurst/opt/anaconda3/envs/traffic/lib/python3.8/site-packages/paramz/transformations.py:111: RuntimeWarning:overflow encountered in expm1\n"
     ]
    },
    {
     "name": "stdout",
     "output_type": "stream",
     "text": [
      "Optimization restart 1/1, f = 424.94370390486785\n",
      "[[14.73296626  1.22288855  3.61012226 13.32534585  3.          0.99677208]]\n",
      "Success.\n",
      "\n",
      "calling /usr/local/Cellar/sumo/1.8.0/share/sumo/bin/duarouter -n /Users/harrysonghurst/Documents/Coursework/L48 Machine Learning and the Physical World/TrafficEmu/sumo_grid_simulation/simulation_input_files/grid.net.xml -r /Users/harrysonghurst/Documents/Coursework/L48 Machine Learning and the Physical World/TrafficEmu/sumo_grid_simulation/simulation_input_files/veh_passenger.trips.xml --ignore-errors --begin 0.0 --end 3600.0 --no-step-log --additional-files /Users/harrysonghurst/Documents/Coursework/L48 Machine Learning and the Physical World/TrafficEmu/sumo_grid_simulation/simulation_input_files/veh.add.xml --no-warnings -o /Users/harrysonghurst/Documents/Coursework/L48 Machine Learning and the Physical World/TrafficEmu/sumo_grid_simulation/simulation_input_files/veh_passenger.rou.xml\n",
      "Success.\n",
      "calling /usr/local/Cellar/sumo/1.8.0/share/sumo/bin/duarouter -n /Users/harrysonghurst/Documents/Coursework/L48 Machine Learning and the Physical World/TrafficEmu/sumo_grid_simulation/simulation_input_files/grid.net.xml -r /Users/harrysonghurst/Documents/Coursework/L48 Machine Learning and the Physical World/TrafficEmu/sumo_grid_simulation/simulation_input_files/veh_passenger.trips.xml --ignore-errors --begin 0.0 --end 3600.0 --no-step-log --additional-files /Users/harrysonghurst/Documents/Coursework/L48 Machine Learning and the Physical World/TrafficEmu/sumo_grid_simulation/simulation_input_files/veh.add.xml --no-warnings -o /Users/harrysonghurst/Documents/Coursework/L48 Machine Learning and the Physical World/TrafficEmu/sumo_grid_simulation/simulation_input_files/veh_passenger.trips.xml.tmp --write-trips\n",
      "Success.\n",
      "\n",
      " Retrying in 1 seconds\n"
     ]
    },
    {
     "name": "stderr",
     "output_type": "stream",
     "text": [
      " /Users/harrysonghurst/opt/anaconda3/envs/traffic/lib/python3.8/site-packages/paramz/transformations.py:111: RuntimeWarning:overflow encountered in expm1\n"
     ]
    },
    {
     "name": "stdout",
     "output_type": "stream",
     "text": [
      "Optimization restart 1/1, f = 430.9331849470469\n",
      "[[18.42377357 12.00020045  4.02757553 40.45983673  4.          1.80712154]]\n",
      "Success.\n",
      "\n",
      "calling /usr/local/Cellar/sumo/1.8.0/share/sumo/bin/duarouter -n /Users/harrysonghurst/Documents/Coursework/L48 Machine Learning and the Physical World/TrafficEmu/sumo_grid_simulation/simulation_input_files/grid.net.xml -r /Users/harrysonghurst/Documents/Coursework/L48 Machine Learning and the Physical World/TrafficEmu/sumo_grid_simulation/simulation_input_files/veh_passenger.trips.xml --ignore-errors --begin 0.0 --end 3600.0 --no-step-log --additional-files /Users/harrysonghurst/Documents/Coursework/L48 Machine Learning and the Physical World/TrafficEmu/sumo_grid_simulation/simulation_input_files/veh.add.xml --no-warnings -o /Users/harrysonghurst/Documents/Coursework/L48 Machine Learning and the Physical World/TrafficEmu/sumo_grid_simulation/simulation_input_files/veh_passenger.rou.xml\n",
      "Success.\n",
      "calling /usr/local/Cellar/sumo/1.8.0/share/sumo/bin/duarouter -n /Users/harrysonghurst/Documents/Coursework/L48 Machine Learning and the Physical World/TrafficEmu/sumo_grid_simulation/simulation_input_files/grid.net.xml -r /Users/harrysonghurst/Documents/Coursework/L48 Machine Learning and the Physical World/TrafficEmu/sumo_grid_simulation/simulation_input_files/veh_passenger.trips.xml --ignore-errors --begin 0.0 --end 3600.0 --no-step-log --additional-files /Users/harrysonghurst/Documents/Coursework/L48 Machine Learning and the Physical World/TrafficEmu/sumo_grid_simulation/simulation_input_files/veh.add.xml --no-warnings -o /Users/harrysonghurst/Documents/Coursework/L48 Machine Learning and the Physical World/TrafficEmu/sumo_grid_simulation/simulation_input_files/veh_passenger.trips.xml.tmp --write-trips\n",
      "Success.\n",
      "\n",
      " Retrying in 1 seconds\n"
     ]
    },
    {
     "name": "stderr",
     "output_type": "stream",
     "text": [
      " /Users/harrysonghurst/opt/anaconda3/envs/traffic/lib/python3.8/site-packages/paramz/transformations.py:111: RuntimeWarning:overflow encountered in expm1\n"
     ]
    },
    {
     "name": "stdout",
     "output_type": "stream",
     "text": [
      "Optimization restart 1/1, f = 436.8685363209445\n",
      "[[11.24900568  5.20478142  9.63700975 11.27363952  1.          2.28255002]]\n",
      "Success.\n",
      "\n",
      "calling /usr/local/Cellar/sumo/1.8.0/share/sumo/bin/duarouter -n /Users/harrysonghurst/Documents/Coursework/L48 Machine Learning and the Physical World/TrafficEmu/sumo_grid_simulation/simulation_input_files/grid.net.xml -r /Users/harrysonghurst/Documents/Coursework/L48 Machine Learning and the Physical World/TrafficEmu/sumo_grid_simulation/simulation_input_files/veh_passenger.trips.xml --ignore-errors --begin 0.0 --end 3600.0 --no-step-log --additional-files /Users/harrysonghurst/Documents/Coursework/L48 Machine Learning and the Physical World/TrafficEmu/sumo_grid_simulation/simulation_input_files/veh.add.xml --no-warnings -o /Users/harrysonghurst/Documents/Coursework/L48 Machine Learning and the Physical World/TrafficEmu/sumo_grid_simulation/simulation_input_files/veh_passenger.rou.xml\n",
      "Success.\n",
      "calling /usr/local/Cellar/sumo/1.8.0/share/sumo/bin/duarouter -n /Users/harrysonghurst/Documents/Coursework/L48 Machine Learning and the Physical World/TrafficEmu/sumo_grid_simulation/simulation_input_files/grid.net.xml -r /Users/harrysonghurst/Documents/Coursework/L48 Machine Learning and the Physical World/TrafficEmu/sumo_grid_simulation/simulation_input_files/veh_passenger.trips.xml --ignore-errors --begin 0.0 --end 3600.0 --no-step-log --additional-files /Users/harrysonghurst/Documents/Coursework/L48 Machine Learning and the Physical World/TrafficEmu/sumo_grid_simulation/simulation_input_files/veh.add.xml --no-warnings -o /Users/harrysonghurst/Documents/Coursework/L48 Machine Learning and the Physical World/TrafficEmu/sumo_grid_simulation/simulation_input_files/veh_passenger.trips.xml.tmp --write-trips\n",
      "Success.\n",
      "\n",
      " Retrying in 1 seconds\n"
     ]
    },
    {
     "name": "stderr",
     "output_type": "stream",
     "text": [
      " /Users/harrysonghurst/opt/anaconda3/envs/traffic/lib/python3.8/site-packages/paramz/transformations.py:111: RuntimeWarning:overflow encountered in expm1\n"
     ]
    },
    {
     "name": "stdout",
     "output_type": "stream",
     "text": [
      "Optimization restart 1/1, f = 442.78979228904774\n",
      "[[ 9.76471831 21.20071914 20.31816495 84.3250139   4.          1.4471804 ]]\n",
      "Success.\n",
      "\n",
      "calling /usr/local/Cellar/sumo/1.8.0/share/sumo/bin/duarouter -n /Users/harrysonghurst/Documents/Coursework/L48 Machine Learning and the Physical World/TrafficEmu/sumo_grid_simulation/simulation_input_files/grid.net.xml -r /Users/harrysonghurst/Documents/Coursework/L48 Machine Learning and the Physical World/TrafficEmu/sumo_grid_simulation/simulation_input_files/veh_passenger.trips.xml --ignore-errors --begin 0.0 --end 3600.0 --no-step-log --additional-files /Users/harrysonghurst/Documents/Coursework/L48 Machine Learning and the Physical World/TrafficEmu/sumo_grid_simulation/simulation_input_files/veh.add.xml --no-warnings -o /Users/harrysonghurst/Documents/Coursework/L48 Machine Learning and the Physical World/TrafficEmu/sumo_grid_simulation/simulation_input_files/veh_passenger.rou.xml\n",
      "Success.\n",
      "calling /usr/local/Cellar/sumo/1.8.0/share/sumo/bin/duarouter -n /Users/harrysonghurst/Documents/Coursework/L48 Machine Learning and the Physical World/TrafficEmu/sumo_grid_simulation/simulation_input_files/grid.net.xml -r /Users/harrysonghurst/Documents/Coursework/L48 Machine Learning and the Physical World/TrafficEmu/sumo_grid_simulation/simulation_input_files/veh_passenger.trips.xml --ignore-errors --begin 0.0 --end 3600.0 --no-step-log --additional-files /Users/harrysonghurst/Documents/Coursework/L48 Machine Learning and the Physical World/TrafficEmu/sumo_grid_simulation/simulation_input_files/veh.add.xml --no-warnings -o /Users/harrysonghurst/Documents/Coursework/L48 Machine Learning and the Physical World/TrafficEmu/sumo_grid_simulation/simulation_input_files/veh_passenger.trips.xml.tmp --write-trips\n",
      "Success.\n",
      "\n",
      " Retrying in 1 seconds\n"
     ]
    },
    {
     "name": "stderr",
     "output_type": "stream",
     "text": [
      " /Users/harrysonghurst/opt/anaconda3/envs/traffic/lib/python3.8/site-packages/paramz/transformations.py:111: RuntimeWarning:overflow encountered in expm1\n"
     ]
    },
    {
     "name": "stdout",
     "output_type": "stream",
     "text": [
      "Optimization restart 1/1, f = 448.72561412617574\n",
      "[[ 11.43367547  20.01962816  12.95436233 191.0823963    2.\n",
      "    6.61276832]]\n",
      "Success.\n",
      "\n",
      "calling /usr/local/Cellar/sumo/1.8.0/share/sumo/bin/duarouter -n /Users/harrysonghurst/Documents/Coursework/L48 Machine Learning and the Physical World/TrafficEmu/sumo_grid_simulation/simulation_input_files/grid.net.xml -r /Users/harrysonghurst/Documents/Coursework/L48 Machine Learning and the Physical World/TrafficEmu/sumo_grid_simulation/simulation_input_files/veh_passenger.trips.xml --ignore-errors --begin 0.0 --end 3600.0 --no-step-log --additional-files /Users/harrysonghurst/Documents/Coursework/L48 Machine Learning and the Physical World/TrafficEmu/sumo_grid_simulation/simulation_input_files/veh.add.xml --no-warnings -o /Users/harrysonghurst/Documents/Coursework/L48 Machine Learning and the Physical World/TrafficEmu/sumo_grid_simulation/simulation_input_files/veh_passenger.rou.xml\n",
      "Success.\n",
      "calling /usr/local/Cellar/sumo/1.8.0/share/sumo/bin/duarouter -n /Users/harrysonghurst/Documents/Coursework/L48 Machine Learning and the Physical World/TrafficEmu/sumo_grid_simulation/simulation_input_files/grid.net.xml -r /Users/harrysonghurst/Documents/Coursework/L48 Machine Learning and the Physical World/TrafficEmu/sumo_grid_simulation/simulation_input_files/veh_passenger.trips.xml --ignore-errors --begin 0.0 --end 3600.0 --no-step-log --additional-files /Users/harrysonghurst/Documents/Coursework/L48 Machine Learning and the Physical World/TrafficEmu/sumo_grid_simulation/simulation_input_files/veh.add.xml --no-warnings -o /Users/harrysonghurst/Documents/Coursework/L48 Machine Learning and the Physical World/TrafficEmu/sumo_grid_simulation/simulation_input_files/veh_passenger.trips.xml.tmp --write-trips\n",
      "Success.\n",
      "\n",
      " Retrying in 1 seconds\n"
     ]
    },
    {
     "name": "stderr",
     "output_type": "stream",
     "text": [
      " /Users/harrysonghurst/opt/anaconda3/envs/traffic/lib/python3.8/site-packages/paramz/transformations.py:111: RuntimeWarning:overflow encountered in expm1\n"
     ]
    },
    {
     "name": "stdout",
     "output_type": "stream",
     "text": [
      "Optimization restart 1/1, f = 454.65585190012655\n",
      "[[16.23354226 21.33221845 13.15805063 64.1268573   4.          9.61121518]]\n",
      "Success.\n",
      "\n",
      "calling /usr/local/Cellar/sumo/1.8.0/share/sumo/bin/duarouter -n /Users/harrysonghurst/Documents/Coursework/L48 Machine Learning and the Physical World/TrafficEmu/sumo_grid_simulation/simulation_input_files/grid.net.xml -r /Users/harrysonghurst/Documents/Coursework/L48 Machine Learning and the Physical World/TrafficEmu/sumo_grid_simulation/simulation_input_files/veh_passenger.trips.xml --ignore-errors --begin 0.0 --end 3600.0 --no-step-log --additional-files /Users/harrysonghurst/Documents/Coursework/L48 Machine Learning and the Physical World/TrafficEmu/sumo_grid_simulation/simulation_input_files/veh.add.xml --no-warnings -o /Users/harrysonghurst/Documents/Coursework/L48 Machine Learning and the Physical World/TrafficEmu/sumo_grid_simulation/simulation_input_files/veh_passenger.rou.xml\n",
      "Success.\n",
      "calling /usr/local/Cellar/sumo/1.8.0/share/sumo/bin/duarouter -n /Users/harrysonghurst/Documents/Coursework/L48 Machine Learning and the Physical World/TrafficEmu/sumo_grid_simulation/simulation_input_files/grid.net.xml -r /Users/harrysonghurst/Documents/Coursework/L48 Machine Learning and the Physical World/TrafficEmu/sumo_grid_simulation/simulation_input_files/veh_passenger.trips.xml --ignore-errors --begin 0.0 --end 3600.0 --no-step-log --additional-files /Users/harrysonghurst/Documents/Coursework/L48 Machine Learning and the Physical World/TrafficEmu/sumo_grid_simulation/simulation_input_files/veh.add.xml --no-warnings -o /Users/harrysonghurst/Documents/Coursework/L48 Machine Learning and the Physical World/TrafficEmu/sumo_grid_simulation/simulation_input_files/veh_passenger.trips.xml.tmp --write-trips\n",
      "Success.\n",
      "\n",
      " Retrying in 1 seconds\n"
     ]
    },
    {
     "name": "stderr",
     "output_type": "stream",
     "text": [
      " /Users/harrysonghurst/opt/anaconda3/envs/traffic/lib/python3.8/site-packages/paramz/transformations.py:111: RuntimeWarning:overflow encountered in expm1\n"
     ]
    },
    {
     "name": "stdout",
     "output_type": "stream",
     "text": [
      "Optimization restart 1/1, f = 460.5720301005084\n",
      "[[21.0680334  23.61990705 11.55894239 68.56174287  4.          1.80794924]]\n",
      "Success.\n",
      "\n",
      "calling /usr/local/Cellar/sumo/1.8.0/share/sumo/bin/duarouter -n /Users/harrysonghurst/Documents/Coursework/L48 Machine Learning and the Physical World/TrafficEmu/sumo_grid_simulation/simulation_input_files/grid.net.xml -r /Users/harrysonghurst/Documents/Coursework/L48 Machine Learning and the Physical World/TrafficEmu/sumo_grid_simulation/simulation_input_files/veh_passenger.trips.xml --ignore-errors --begin 0.0 --end 3600.0 --no-step-log --additional-files /Users/harrysonghurst/Documents/Coursework/L48 Machine Learning and the Physical World/TrafficEmu/sumo_grid_simulation/simulation_input_files/veh.add.xml --no-warnings -o /Users/harrysonghurst/Documents/Coursework/L48 Machine Learning and the Physical World/TrafficEmu/sumo_grid_simulation/simulation_input_files/veh_passenger.rou.xml\n",
      "Success.\n",
      "calling /usr/local/Cellar/sumo/1.8.0/share/sumo/bin/duarouter -n /Users/harrysonghurst/Documents/Coursework/L48 Machine Learning and the Physical World/TrafficEmu/sumo_grid_simulation/simulation_input_files/grid.net.xml -r /Users/harrysonghurst/Documents/Coursework/L48 Machine Learning and the Physical World/TrafficEmu/sumo_grid_simulation/simulation_input_files/veh_passenger.trips.xml --ignore-errors --begin 0.0 --end 3600.0 --no-step-log --additional-files /Users/harrysonghurst/Documents/Coursework/L48 Machine Learning and the Physical World/TrafficEmu/sumo_grid_simulation/simulation_input_files/veh.add.xml --no-warnings -o /Users/harrysonghurst/Documents/Coursework/L48 Machine Learning and the Physical World/TrafficEmu/sumo_grid_simulation/simulation_input_files/veh_passenger.trips.xml.tmp --write-trips\n",
      "Success.\n",
      "\n",
      " Retrying in 1 seconds\n"
     ]
    },
    {
     "name": "stderr",
     "output_type": "stream",
     "text": [
      " /Users/harrysonghurst/opt/anaconda3/envs/traffic/lib/python3.8/site-packages/paramz/transformations.py:111: RuntimeWarning:overflow encountered in expm1\n"
     ]
    },
    {
     "name": "stdout",
     "output_type": "stream",
     "text": [
      "Optimization restart 1/1, f = 466.47915720701695\n",
      "[[ 7.02433013  1.07040151  8.03884548 96.60599145  1.          9.27197797]]\n",
      "Success.\n",
      "\n",
      "calling /usr/local/Cellar/sumo/1.8.0/share/sumo/bin/duarouter -n /Users/harrysonghurst/Documents/Coursework/L48 Machine Learning and the Physical World/TrafficEmu/sumo_grid_simulation/simulation_input_files/grid.net.xml -r /Users/harrysonghurst/Documents/Coursework/L48 Machine Learning and the Physical World/TrafficEmu/sumo_grid_simulation/simulation_input_files/veh_passenger.trips.xml --ignore-errors --begin 0.0 --end 3600.0 --no-step-log --additional-files /Users/harrysonghurst/Documents/Coursework/L48 Machine Learning and the Physical World/TrafficEmu/sumo_grid_simulation/simulation_input_files/veh.add.xml --no-warnings -o /Users/harrysonghurst/Documents/Coursework/L48 Machine Learning and the Physical World/TrafficEmu/sumo_grid_simulation/simulation_input_files/veh_passenger.rou.xml\n",
      "Success.\n",
      "calling /usr/local/Cellar/sumo/1.8.0/share/sumo/bin/duarouter -n /Users/harrysonghurst/Documents/Coursework/L48 Machine Learning and the Physical World/TrafficEmu/sumo_grid_simulation/simulation_input_files/grid.net.xml -r /Users/harrysonghurst/Documents/Coursework/L48 Machine Learning and the Physical World/TrafficEmu/sumo_grid_simulation/simulation_input_files/veh_passenger.trips.xml --ignore-errors --begin 0.0 --end 3600.0 --no-step-log --additional-files /Users/harrysonghurst/Documents/Coursework/L48 Machine Learning and the Physical World/TrafficEmu/sumo_grid_simulation/simulation_input_files/veh.add.xml --no-warnings -o /Users/harrysonghurst/Documents/Coursework/L48 Machine Learning and the Physical World/TrafficEmu/sumo_grid_simulation/simulation_input_files/veh_passenger.trips.xml.tmp --write-trips\n",
      "Success.\n",
      "\n",
      " Retrying in 1 seconds\n"
     ]
    },
    {
     "name": "stderr",
     "output_type": "stream",
     "text": [
      " /Users/harrysonghurst/opt/anaconda3/envs/traffic/lib/python3.8/site-packages/paramz/transformations.py:111: RuntimeWarning:overflow encountered in expm1\n"
     ]
    },
    {
     "name": "stdout",
     "output_type": "stream",
     "text": [
      "Optimization restart 1/1, f = 473.50160873673474\n",
      "[[11.93680086 17.5618185  14.05522921 60.18379033  1.          6.72393159]]\n",
      "Success.\n",
      "\n",
      "calling /usr/local/Cellar/sumo/1.8.0/share/sumo/bin/duarouter -n /Users/harrysonghurst/Documents/Coursework/L48 Machine Learning and the Physical World/TrafficEmu/sumo_grid_simulation/simulation_input_files/grid.net.xml -r /Users/harrysonghurst/Documents/Coursework/L48 Machine Learning and the Physical World/TrafficEmu/sumo_grid_simulation/simulation_input_files/veh_passenger.trips.xml --ignore-errors --begin 0.0 --end 3600.0 --no-step-log --additional-files /Users/harrysonghurst/Documents/Coursework/L48 Machine Learning and the Physical World/TrafficEmu/sumo_grid_simulation/simulation_input_files/veh.add.xml --no-warnings -o /Users/harrysonghurst/Documents/Coursework/L48 Machine Learning and the Physical World/TrafficEmu/sumo_grid_simulation/simulation_input_files/veh_passenger.rou.xml\n",
      "Success.\n",
      "calling /usr/local/Cellar/sumo/1.8.0/share/sumo/bin/duarouter -n /Users/harrysonghurst/Documents/Coursework/L48 Machine Learning and the Physical World/TrafficEmu/sumo_grid_simulation/simulation_input_files/grid.net.xml -r /Users/harrysonghurst/Documents/Coursework/L48 Machine Learning and the Physical World/TrafficEmu/sumo_grid_simulation/simulation_input_files/veh_passenger.trips.xml --ignore-errors --begin 0.0 --end 3600.0 --no-step-log --additional-files /Users/harrysonghurst/Documents/Coursework/L48 Machine Learning and the Physical World/TrafficEmu/sumo_grid_simulation/simulation_input_files/veh.add.xml --no-warnings -o /Users/harrysonghurst/Documents/Coursework/L48 Machine Learning and the Physical World/TrafficEmu/sumo_grid_simulation/simulation_input_files/veh_passenger.trips.xml.tmp --write-trips\n",
      "Success.\n",
      "\n",
      " Retrying in 1 seconds\n"
     ]
    },
    {
     "name": "stderr",
     "output_type": "stream",
     "text": [
      " /Users/harrysonghurst/opt/anaconda3/envs/traffic/lib/python3.8/site-packages/paramz/transformations.py:111: RuntimeWarning:overflow encountered in expm1\n"
     ]
    },
    {
     "name": "stdout",
     "output_type": "stream",
     "text": [
      "Optimization restart 1/1, f = 479.403085928552\n",
      "[[20.02028265 20.73199041  2.08304532 37.82400111  4.          0.56768024]]\n",
      "Success.\n",
      "\n",
      "calling /usr/local/Cellar/sumo/1.8.0/share/sumo/bin/duarouter -n /Users/harrysonghurst/Documents/Coursework/L48 Machine Learning and the Physical World/TrafficEmu/sumo_grid_simulation/simulation_input_files/grid.net.xml -r /Users/harrysonghurst/Documents/Coursework/L48 Machine Learning and the Physical World/TrafficEmu/sumo_grid_simulation/simulation_input_files/veh_passenger.trips.xml --ignore-errors --begin 0.0 --end 3600.0 --no-step-log --additional-files /Users/harrysonghurst/Documents/Coursework/L48 Machine Learning and the Physical World/TrafficEmu/sumo_grid_simulation/simulation_input_files/veh.add.xml --no-warnings -o /Users/harrysonghurst/Documents/Coursework/L48 Machine Learning and the Physical World/TrafficEmu/sumo_grid_simulation/simulation_input_files/veh_passenger.rou.xml\n",
      "Success.\n",
      "calling /usr/local/Cellar/sumo/1.8.0/share/sumo/bin/duarouter -n /Users/harrysonghurst/Documents/Coursework/L48 Machine Learning and the Physical World/TrafficEmu/sumo_grid_simulation/simulation_input_files/grid.net.xml -r /Users/harrysonghurst/Documents/Coursework/L48 Machine Learning and the Physical World/TrafficEmu/sumo_grid_simulation/simulation_input_files/veh_passenger.trips.xml --ignore-errors --begin 0.0 --end 3600.0 --no-step-log --additional-files /Users/harrysonghurst/Documents/Coursework/L48 Machine Learning and the Physical World/TrafficEmu/sumo_grid_simulation/simulation_input_files/veh.add.xml --no-warnings -o /Users/harrysonghurst/Documents/Coursework/L48 Machine Learning and the Physical World/TrafficEmu/sumo_grid_simulation/simulation_input_files/veh_passenger.trips.xml.tmp --write-trips\n",
      "Success.\n",
      "\n",
      " Retrying in 1 seconds\n"
     ]
    },
    {
     "name": "stderr",
     "output_type": "stream",
     "text": [
      " /Users/harrysonghurst/opt/anaconda3/envs/traffic/lib/python3.8/site-packages/paramz/transformations.py:111: RuntimeWarning:overflow encountered in expm1\n"
     ]
    },
    {
     "name": "stdout",
     "output_type": "stream",
     "text": [
      "Optimization restart 1/1, f = 485.30792499479014\n",
      "[[  7.5428031   14.81429193  23.42531224 165.71035828   2.\n",
      "    8.43768673]]\n",
      "Success.\n",
      "\n",
      "calling /usr/local/Cellar/sumo/1.8.0/share/sumo/bin/duarouter -n /Users/harrysonghurst/Documents/Coursework/L48 Machine Learning and the Physical World/TrafficEmu/sumo_grid_simulation/simulation_input_files/grid.net.xml -r /Users/harrysonghurst/Documents/Coursework/L48 Machine Learning and the Physical World/TrafficEmu/sumo_grid_simulation/simulation_input_files/veh_passenger.trips.xml --ignore-errors --begin 0.0 --end 3600.0 --no-step-log --additional-files /Users/harrysonghurst/Documents/Coursework/L48 Machine Learning and the Physical World/TrafficEmu/sumo_grid_simulation/simulation_input_files/veh.add.xml --no-warnings -o /Users/harrysonghurst/Documents/Coursework/L48 Machine Learning and the Physical World/TrafficEmu/sumo_grid_simulation/simulation_input_files/veh_passenger.rou.xml\n",
      "Success.\n",
      "calling /usr/local/Cellar/sumo/1.8.0/share/sumo/bin/duarouter -n /Users/harrysonghurst/Documents/Coursework/L48 Machine Learning and the Physical World/TrafficEmu/sumo_grid_simulation/simulation_input_files/grid.net.xml -r /Users/harrysonghurst/Documents/Coursework/L48 Machine Learning and the Physical World/TrafficEmu/sumo_grid_simulation/simulation_input_files/veh_passenger.trips.xml --ignore-errors --begin 0.0 --end 3600.0 --no-step-log --additional-files /Users/harrysonghurst/Documents/Coursework/L48 Machine Learning and the Physical World/TrafficEmu/sumo_grid_simulation/simulation_input_files/veh.add.xml --no-warnings -o /Users/harrysonghurst/Documents/Coursework/L48 Machine Learning and the Physical World/TrafficEmu/sumo_grid_simulation/simulation_input_files/veh_passenger.trips.xml.tmp --write-trips\n",
      "Success.\n",
      "\n",
      " Retrying in 1 seconds\n"
     ]
    },
    {
     "name": "stderr",
     "output_type": "stream",
     "text": [
      " /Users/harrysonghurst/opt/anaconda3/envs/traffic/lib/python3.8/site-packages/paramz/transformations.py:111: RuntimeWarning:overflow encountered in expm1\n"
     ]
    },
    {
     "name": "stdout",
     "output_type": "stream",
     "text": [
      "Optimization restart 1/1, f = 491.2007110295828\n",
      "[[  7.68051191   1.99303176   4.3879605  205.82010375   4.\n",
      "    8.17495865]]\n",
      "Success.\n",
      "\n",
      "calling /usr/local/Cellar/sumo/1.8.0/share/sumo/bin/duarouter -n /Users/harrysonghurst/Documents/Coursework/L48 Machine Learning and the Physical World/TrafficEmu/sumo_grid_simulation/simulation_input_files/grid.net.xml -r /Users/harrysonghurst/Documents/Coursework/L48 Machine Learning and the Physical World/TrafficEmu/sumo_grid_simulation/simulation_input_files/veh_passenger.trips.xml --ignore-errors --begin 0.0 --end 3600.0 --no-step-log --additional-files /Users/harrysonghurst/Documents/Coursework/L48 Machine Learning and the Physical World/TrafficEmu/sumo_grid_simulation/simulation_input_files/veh.add.xml --no-warnings -o /Users/harrysonghurst/Documents/Coursework/L48 Machine Learning and the Physical World/TrafficEmu/sumo_grid_simulation/simulation_input_files/veh_passenger.rou.xml\n",
      "Success.\n",
      "calling /usr/local/Cellar/sumo/1.8.0/share/sumo/bin/duarouter -n /Users/harrysonghurst/Documents/Coursework/L48 Machine Learning and the Physical World/TrafficEmu/sumo_grid_simulation/simulation_input_files/grid.net.xml -r /Users/harrysonghurst/Documents/Coursework/L48 Machine Learning and the Physical World/TrafficEmu/sumo_grid_simulation/simulation_input_files/veh_passenger.trips.xml --ignore-errors --begin 0.0 --end 3600.0 --no-step-log --additional-files /Users/harrysonghurst/Documents/Coursework/L48 Machine Learning and the Physical World/TrafficEmu/sumo_grid_simulation/simulation_input_files/veh.add.xml --no-warnings -o /Users/harrysonghurst/Documents/Coursework/L48 Machine Learning and the Physical World/TrafficEmu/sumo_grid_simulation/simulation_input_files/veh_passenger.trips.xml.tmp --write-trips\n",
      "Success.\n",
      "\n",
      " Retrying in 1 seconds\n"
     ]
    },
    {
     "name": "stderr",
     "output_type": "stream",
     "text": [
      " /Users/harrysonghurst/opt/anaconda3/envs/traffic/lib/python3.8/site-packages/paramz/transformations.py:111: RuntimeWarning:overflow encountered in expm1\n"
     ]
    },
    {
     "name": "stdout",
     "output_type": "stream",
     "text": [
      "Optimization restart 1/1, f = 498.5477379973438\n",
      "[[ 20.48006719  15.61797015   4.97088573 171.94138856   4.\n",
      "    5.70704752]]\n",
      "Success.\n",
      "\n",
      "calling /usr/local/Cellar/sumo/1.8.0/share/sumo/bin/duarouter -n /Users/harrysonghurst/Documents/Coursework/L48 Machine Learning and the Physical World/TrafficEmu/sumo_grid_simulation/simulation_input_files/grid.net.xml -r /Users/harrysonghurst/Documents/Coursework/L48 Machine Learning and the Physical World/TrafficEmu/sumo_grid_simulation/simulation_input_files/veh_passenger.trips.xml --ignore-errors --begin 0.0 --end 3600.0 --no-step-log --additional-files /Users/harrysonghurst/Documents/Coursework/L48 Machine Learning and the Physical World/TrafficEmu/sumo_grid_simulation/simulation_input_files/veh.add.xml --no-warnings -o /Users/harrysonghurst/Documents/Coursework/L48 Machine Learning and the Physical World/TrafficEmu/sumo_grid_simulation/simulation_input_files/veh_passenger.rou.xml\n",
      "Success.\n",
      "calling /usr/local/Cellar/sumo/1.8.0/share/sumo/bin/duarouter -n /Users/harrysonghurst/Documents/Coursework/L48 Machine Learning and the Physical World/TrafficEmu/sumo_grid_simulation/simulation_input_files/grid.net.xml -r /Users/harrysonghurst/Documents/Coursework/L48 Machine Learning and the Physical World/TrafficEmu/sumo_grid_simulation/simulation_input_files/veh_passenger.trips.xml --ignore-errors --begin 0.0 --end 3600.0 --no-step-log --additional-files /Users/harrysonghurst/Documents/Coursework/L48 Machine Learning and the Physical World/TrafficEmu/sumo_grid_simulation/simulation_input_files/veh.add.xml --no-warnings -o /Users/harrysonghurst/Documents/Coursework/L48 Machine Learning and the Physical World/TrafficEmu/sumo_grid_simulation/simulation_input_files/veh_passenger.trips.xml.tmp --write-trips\n",
      "Success.\n",
      "\n",
      " Retrying in 1 seconds\n"
     ]
    },
    {
     "name": "stderr",
     "output_type": "stream",
     "text": [
      " /Users/harrysonghurst/opt/anaconda3/envs/traffic/lib/python3.8/site-packages/paramz/transformations.py:111: RuntimeWarning:overflow encountered in expm1\n"
     ]
    },
    {
     "name": "stdout",
     "output_type": "stream",
     "text": [
      "Optimization restart 1/1, f = 505.306118025703\n",
      "[[19.69264799  6.0697407   7.49555703 28.24563854  4.          1.27445485]]\n",
      "Success.\n",
      "\n",
      "calling /usr/local/Cellar/sumo/1.8.0/share/sumo/bin/duarouter -n /Users/harrysonghurst/Documents/Coursework/L48 Machine Learning and the Physical World/TrafficEmu/sumo_grid_simulation/simulation_input_files/grid.net.xml -r /Users/harrysonghurst/Documents/Coursework/L48 Machine Learning and the Physical World/TrafficEmu/sumo_grid_simulation/simulation_input_files/veh_passenger.trips.xml --ignore-errors --begin 0.0 --end 3600.0 --no-step-log --additional-files /Users/harrysonghurst/Documents/Coursework/L48 Machine Learning and the Physical World/TrafficEmu/sumo_grid_simulation/simulation_input_files/veh.add.xml --no-warnings -o /Users/harrysonghurst/Documents/Coursework/L48 Machine Learning and the Physical World/TrafficEmu/sumo_grid_simulation/simulation_input_files/veh_passenger.rou.xml\n",
      "Success.\n",
      "calling /usr/local/Cellar/sumo/1.8.0/share/sumo/bin/duarouter -n /Users/harrysonghurst/Documents/Coursework/L48 Machine Learning and the Physical World/TrafficEmu/sumo_grid_simulation/simulation_input_files/grid.net.xml -r /Users/harrysonghurst/Documents/Coursework/L48 Machine Learning and the Physical World/TrafficEmu/sumo_grid_simulation/simulation_input_files/veh_passenger.trips.xml --ignore-errors --begin 0.0 --end 3600.0 --no-step-log --additional-files /Users/harrysonghurst/Documents/Coursework/L48 Machine Learning and the Physical World/TrafficEmu/sumo_grid_simulation/simulation_input_files/veh.add.xml --no-warnings -o /Users/harrysonghurst/Documents/Coursework/L48 Machine Learning and the Physical World/TrafficEmu/sumo_grid_simulation/simulation_input_files/veh_passenger.trips.xml.tmp --write-trips\n",
      "Success.\n",
      "\n",
      " Retrying in 1 seconds\n"
     ]
    },
    {
     "name": "stderr",
     "output_type": "stream",
     "text": [
      " /Users/harrysonghurst/opt/anaconda3/envs/traffic/lib/python3.8/site-packages/paramz/transformations.py:111: RuntimeWarning:overflow encountered in expm1\n"
     ]
    },
    {
     "name": "stdout",
     "output_type": "stream",
     "text": [
      "Optimization restart 1/1, f = 511.23922751390853\n",
      "[[ 23.00479676  20.59006201  18.12895687 131.28140034   4.\n",
      "    6.97760931]]\n",
      "Success.\n",
      "\n",
      "calling /usr/local/Cellar/sumo/1.8.0/share/sumo/bin/duarouter -n /Users/harrysonghurst/Documents/Coursework/L48 Machine Learning and the Physical World/TrafficEmu/sumo_grid_simulation/simulation_input_files/grid.net.xml -r /Users/harrysonghurst/Documents/Coursework/L48 Machine Learning and the Physical World/TrafficEmu/sumo_grid_simulation/simulation_input_files/veh_passenger.trips.xml --ignore-errors --begin 0.0 --end 3600.0 --no-step-log --additional-files /Users/harrysonghurst/Documents/Coursework/L48 Machine Learning and the Physical World/TrafficEmu/sumo_grid_simulation/simulation_input_files/veh.add.xml --no-warnings -o /Users/harrysonghurst/Documents/Coursework/L48 Machine Learning and the Physical World/TrafficEmu/sumo_grid_simulation/simulation_input_files/veh_passenger.rou.xml\n",
      "Success.\n",
      "calling /usr/local/Cellar/sumo/1.8.0/share/sumo/bin/duarouter -n /Users/harrysonghurst/Documents/Coursework/L48 Machine Learning and the Physical World/TrafficEmu/sumo_grid_simulation/simulation_input_files/grid.net.xml -r /Users/harrysonghurst/Documents/Coursework/L48 Machine Learning and the Physical World/TrafficEmu/sumo_grid_simulation/simulation_input_files/veh_passenger.trips.xml --ignore-errors --begin 0.0 --end 3600.0 --no-step-log --additional-files /Users/harrysonghurst/Documents/Coursework/L48 Machine Learning and the Physical World/TrafficEmu/sumo_grid_simulation/simulation_input_files/veh.add.xml --no-warnings -o /Users/harrysonghurst/Documents/Coursework/L48 Machine Learning and the Physical World/TrafficEmu/sumo_grid_simulation/simulation_input_files/veh_passenger.trips.xml.tmp --write-trips\n",
      "Success.\n",
      "\n",
      " Retrying in 1 seconds\n"
     ]
    },
    {
     "name": "stderr",
     "output_type": "stream",
     "text": [
      " /Users/harrysonghurst/opt/anaconda3/envs/traffic/lib/python3.8/site-packages/paramz/transformations.py:111: RuntimeWarning:overflow encountered in expm1\n"
     ]
    },
    {
     "name": "stdout",
     "output_type": "stream",
     "text": [
      "Optimization restart 1/1, f = 517.1576187772473\n",
      "[[22.20947341 18.12192882 10.67926216 34.04397099  4.          2.54976541]]\n",
      "Success.\n",
      "\n",
      "calling /usr/local/Cellar/sumo/1.8.0/share/sumo/bin/duarouter -n /Users/harrysonghurst/Documents/Coursework/L48 Machine Learning and the Physical World/TrafficEmu/sumo_grid_simulation/simulation_input_files/grid.net.xml -r /Users/harrysonghurst/Documents/Coursework/L48 Machine Learning and the Physical World/TrafficEmu/sumo_grid_simulation/simulation_input_files/veh_passenger.trips.xml --ignore-errors --begin 0.0 --end 3600.0 --no-step-log --additional-files /Users/harrysonghurst/Documents/Coursework/L48 Machine Learning and the Physical World/TrafficEmu/sumo_grid_simulation/simulation_input_files/veh.add.xml --no-warnings -o /Users/harrysonghurst/Documents/Coursework/L48 Machine Learning and the Physical World/TrafficEmu/sumo_grid_simulation/simulation_input_files/veh_passenger.rou.xml\n",
      "Success.\n",
      "calling /usr/local/Cellar/sumo/1.8.0/share/sumo/bin/duarouter -n /Users/harrysonghurst/Documents/Coursework/L48 Machine Learning and the Physical World/TrafficEmu/sumo_grid_simulation/simulation_input_files/grid.net.xml -r /Users/harrysonghurst/Documents/Coursework/L48 Machine Learning and the Physical World/TrafficEmu/sumo_grid_simulation/simulation_input_files/veh_passenger.trips.xml --ignore-errors --begin 0.0 --end 3600.0 --no-step-log --additional-files /Users/harrysonghurst/Documents/Coursework/L48 Machine Learning and the Physical World/TrafficEmu/sumo_grid_simulation/simulation_input_files/veh.add.xml --no-warnings -o /Users/harrysonghurst/Documents/Coursework/L48 Machine Learning and the Physical World/TrafficEmu/sumo_grid_simulation/simulation_input_files/veh_passenger.trips.xml.tmp --write-trips\n",
      "Success.\n",
      "\n",
      " Retrying in 1 seconds\n"
     ]
    },
    {
     "name": "stderr",
     "output_type": "stream",
     "text": [
      " /Users/harrysonghurst/opt/anaconda3/envs/traffic/lib/python3.8/site-packages/paramz/transformations.py:111: RuntimeWarning:overflow encountered in expm1\n"
     ]
    },
    {
     "name": "stdout",
     "output_type": "stream",
     "text": [
      "Optimization restart 1/1, f = 523.0634959663212\n",
      "[[ 23.20386384   9.3681948   14.61562828 118.01215922   1.\n",
      "    8.45327277]]\n",
      "Success.\n",
      "\n",
      "calling /usr/local/Cellar/sumo/1.8.0/share/sumo/bin/duarouter -n /Users/harrysonghurst/Documents/Coursework/L48 Machine Learning and the Physical World/TrafficEmu/sumo_grid_simulation/simulation_input_files/grid.net.xml -r /Users/harrysonghurst/Documents/Coursework/L48 Machine Learning and the Physical World/TrafficEmu/sumo_grid_simulation/simulation_input_files/veh_passenger.trips.xml --ignore-errors --begin 0.0 --end 3600.0 --no-step-log --additional-files /Users/harrysonghurst/Documents/Coursework/L48 Machine Learning and the Physical World/TrafficEmu/sumo_grid_simulation/simulation_input_files/veh.add.xml --no-warnings -o /Users/harrysonghurst/Documents/Coursework/L48 Machine Learning and the Physical World/TrafficEmu/sumo_grid_simulation/simulation_input_files/veh_passenger.rou.xml\n",
      "Success.\n",
      "calling /usr/local/Cellar/sumo/1.8.0/share/sumo/bin/duarouter -n /Users/harrysonghurst/Documents/Coursework/L48 Machine Learning and the Physical World/TrafficEmu/sumo_grid_simulation/simulation_input_files/grid.net.xml -r /Users/harrysonghurst/Documents/Coursework/L48 Machine Learning and the Physical World/TrafficEmu/sumo_grid_simulation/simulation_input_files/veh_passenger.trips.xml --ignore-errors --begin 0.0 --end 3600.0 --no-step-log --additional-files /Users/harrysonghurst/Documents/Coursework/L48 Machine Learning and the Physical World/TrafficEmu/sumo_grid_simulation/simulation_input_files/veh.add.xml --no-warnings -o /Users/harrysonghurst/Documents/Coursework/L48 Machine Learning and the Physical World/TrafficEmu/sumo_grid_simulation/simulation_input_files/veh_passenger.trips.xml.tmp --write-trips\n",
      "Success.\n",
      "\n",
      " Retrying in 1 seconds\n"
     ]
    },
    {
     "name": "stderr",
     "output_type": "stream",
     "text": [
      " /Users/harrysonghurst/opt/anaconda3/envs/traffic/lib/python3.8/site-packages/paramz/transformations.py:111: RuntimeWarning:overflow encountered in expm1\n"
     ]
    },
    {
     "name": "stdout",
     "output_type": "stream",
     "text": [
      "Optimization restart 1/1, f = 529.0809543188213\n",
      "[[21.0808726  19.5437432  24.62724955 94.83968371  1.          1.62989075]]\n",
      "Success.\n",
      "\n",
      "calling /usr/local/Cellar/sumo/1.8.0/share/sumo/bin/duarouter -n /Users/harrysonghurst/Documents/Coursework/L48 Machine Learning and the Physical World/TrafficEmu/sumo_grid_simulation/simulation_input_files/grid.net.xml -r /Users/harrysonghurst/Documents/Coursework/L48 Machine Learning and the Physical World/TrafficEmu/sumo_grid_simulation/simulation_input_files/veh_passenger.trips.xml --ignore-errors --begin 0.0 --end 3600.0 --no-step-log --additional-files /Users/harrysonghurst/Documents/Coursework/L48 Machine Learning and the Physical World/TrafficEmu/sumo_grid_simulation/simulation_input_files/veh.add.xml --no-warnings -o /Users/harrysonghurst/Documents/Coursework/L48 Machine Learning and the Physical World/TrafficEmu/sumo_grid_simulation/simulation_input_files/veh_passenger.rou.xml\n",
      "Success.\n",
      "calling /usr/local/Cellar/sumo/1.8.0/share/sumo/bin/duarouter -n /Users/harrysonghurst/Documents/Coursework/L48 Machine Learning and the Physical World/TrafficEmu/sumo_grid_simulation/simulation_input_files/grid.net.xml -r /Users/harrysonghurst/Documents/Coursework/L48 Machine Learning and the Physical World/TrafficEmu/sumo_grid_simulation/simulation_input_files/veh_passenger.trips.xml --ignore-errors --begin 0.0 --end 3600.0 --no-step-log --additional-files /Users/harrysonghurst/Documents/Coursework/L48 Machine Learning and the Physical World/TrafficEmu/sumo_grid_simulation/simulation_input_files/veh.add.xml --no-warnings -o /Users/harrysonghurst/Documents/Coursework/L48 Machine Learning and the Physical World/TrafficEmu/sumo_grid_simulation/simulation_input_files/veh_passenger.trips.xml.tmp --write-trips\n",
      "Success.\n",
      "\n",
      " Retrying in 1 seconds\n"
     ]
    },
    {
     "name": "stderr",
     "output_type": "stream",
     "text": [
      " /Users/harrysonghurst/opt/anaconda3/envs/traffic/lib/python3.8/site-packages/paramz/transformations.py:111: RuntimeWarning:overflow encountered in expm1\n"
     ]
    },
    {
     "name": "stdout",
     "output_type": "stream",
     "text": [
      "Optimization restart 1/1, f = 535.0091602091032\n",
      "[[ 5.86106516  6.54768834 17.80457708 75.82315807  1.          7.04410574]]\n",
      "Success.\n",
      "\n",
      "calling /usr/local/Cellar/sumo/1.8.0/share/sumo/bin/duarouter -n /Users/harrysonghurst/Documents/Coursework/L48 Machine Learning and the Physical World/TrafficEmu/sumo_grid_simulation/simulation_input_files/grid.net.xml -r /Users/harrysonghurst/Documents/Coursework/L48 Machine Learning and the Physical World/TrafficEmu/sumo_grid_simulation/simulation_input_files/veh_passenger.trips.xml --ignore-errors --begin 0.0 --end 3600.0 --no-step-log --additional-files /Users/harrysonghurst/Documents/Coursework/L48 Machine Learning and the Physical World/TrafficEmu/sumo_grid_simulation/simulation_input_files/veh.add.xml --no-warnings -o /Users/harrysonghurst/Documents/Coursework/L48 Machine Learning and the Physical World/TrafficEmu/sumo_grid_simulation/simulation_input_files/veh_passenger.rou.xml\n",
      "Success.\n",
      "calling /usr/local/Cellar/sumo/1.8.0/share/sumo/bin/duarouter -n /Users/harrysonghurst/Documents/Coursework/L48 Machine Learning and the Physical World/TrafficEmu/sumo_grid_simulation/simulation_input_files/grid.net.xml -r /Users/harrysonghurst/Documents/Coursework/L48 Machine Learning and the Physical World/TrafficEmu/sumo_grid_simulation/simulation_input_files/veh_passenger.trips.xml --ignore-errors --begin 0.0 --end 3600.0 --no-step-log --additional-files /Users/harrysonghurst/Documents/Coursework/L48 Machine Learning and the Physical World/TrafficEmu/sumo_grid_simulation/simulation_input_files/veh.add.xml --no-warnings -o /Users/harrysonghurst/Documents/Coursework/L48 Machine Learning and the Physical World/TrafficEmu/sumo_grid_simulation/simulation_input_files/veh_passenger.trips.xml.tmp --write-trips\n",
      "Success.\n",
      "\n",
      " Retrying in 1 seconds\n"
     ]
    },
    {
     "name": "stderr",
     "output_type": "stream",
     "text": [
      " /Users/harrysonghurst/opt/anaconda3/envs/traffic/lib/python3.8/site-packages/paramz/transformations.py:111: RuntimeWarning:overflow encountered in expm1\n"
     ]
    },
    {
     "name": "stdout",
     "output_type": "stream",
     "text": [
      "Optimization restart 1/1, f = 540.8886110860394\n",
      "[[  7.93727219  10.93156688   6.82163082 246.52885706   2.\n",
      "    6.1844938 ]]\n",
      "Success.\n",
      "\n",
      "calling /usr/local/Cellar/sumo/1.8.0/share/sumo/bin/duarouter -n /Users/harrysonghurst/Documents/Coursework/L48 Machine Learning and the Physical World/TrafficEmu/sumo_grid_simulation/simulation_input_files/grid.net.xml -r /Users/harrysonghurst/Documents/Coursework/L48 Machine Learning and the Physical World/TrafficEmu/sumo_grid_simulation/simulation_input_files/veh_passenger.trips.xml --ignore-errors --begin 0.0 --end 3600.0 --no-step-log --additional-files /Users/harrysonghurst/Documents/Coursework/L48 Machine Learning and the Physical World/TrafficEmu/sumo_grid_simulation/simulation_input_files/veh.add.xml --no-warnings -o /Users/harrysonghurst/Documents/Coursework/L48 Machine Learning and the Physical World/TrafficEmu/sumo_grid_simulation/simulation_input_files/veh_passenger.rou.xml\n",
      "Success.\n",
      "calling /usr/local/Cellar/sumo/1.8.0/share/sumo/bin/duarouter -n /Users/harrysonghurst/Documents/Coursework/L48 Machine Learning and the Physical World/TrafficEmu/sumo_grid_simulation/simulation_input_files/grid.net.xml -r /Users/harrysonghurst/Documents/Coursework/L48 Machine Learning and the Physical World/TrafficEmu/sumo_grid_simulation/simulation_input_files/veh_passenger.trips.xml --ignore-errors --begin 0.0 --end 3600.0 --no-step-log --additional-files /Users/harrysonghurst/Documents/Coursework/L48 Machine Learning and the Physical World/TrafficEmu/sumo_grid_simulation/simulation_input_files/veh.add.xml --no-warnings -o /Users/harrysonghurst/Documents/Coursework/L48 Machine Learning and the Physical World/TrafficEmu/sumo_grid_simulation/simulation_input_files/veh_passenger.trips.xml.tmp --write-trips\n",
      "Success.\n",
      "\n",
      " Retrying in 1 seconds\n"
     ]
    },
    {
     "name": "stderr",
     "output_type": "stream",
     "text": [
      " /Users/harrysonghurst/opt/anaconda3/envs/traffic/lib/python3.8/site-packages/paramz/transformations.py:111: RuntimeWarning:overflow encountered in expm1\n"
     ]
    },
    {
     "name": "stdout",
     "output_type": "stream",
     "text": [
      "Optimization restart 1/1, f = 546.9070631257181\n",
      "[[18.81371624 14.41743495 20.27403117 82.62294181  2.          5.4610081 ]]\n",
      "Success.\n",
      "\n",
      "calling /usr/local/Cellar/sumo/1.8.0/share/sumo/bin/duarouter -n /Users/harrysonghurst/Documents/Coursework/L48 Machine Learning and the Physical World/TrafficEmu/sumo_grid_simulation/simulation_input_files/grid.net.xml -r /Users/harrysonghurst/Documents/Coursework/L48 Machine Learning and the Physical World/TrafficEmu/sumo_grid_simulation/simulation_input_files/veh_passenger.trips.xml --ignore-errors --begin 0.0 --end 3600.0 --no-step-log --additional-files /Users/harrysonghurst/Documents/Coursework/L48 Machine Learning and the Physical World/TrafficEmu/sumo_grid_simulation/simulation_input_files/veh.add.xml --no-warnings -o /Users/harrysonghurst/Documents/Coursework/L48 Machine Learning and the Physical World/TrafficEmu/sumo_grid_simulation/simulation_input_files/veh_passenger.rou.xml\n",
      "Success.\n",
      "calling /usr/local/Cellar/sumo/1.8.0/share/sumo/bin/duarouter -n /Users/harrysonghurst/Documents/Coursework/L48 Machine Learning and the Physical World/TrafficEmu/sumo_grid_simulation/simulation_input_files/grid.net.xml -r /Users/harrysonghurst/Documents/Coursework/L48 Machine Learning and the Physical World/TrafficEmu/sumo_grid_simulation/simulation_input_files/veh_passenger.trips.xml --ignore-errors --begin 0.0 --end 3600.0 --no-step-log --additional-files /Users/harrysonghurst/Documents/Coursework/L48 Machine Learning and the Physical World/TrafficEmu/sumo_grid_simulation/simulation_input_files/veh.add.xml --no-warnings -o /Users/harrysonghurst/Documents/Coursework/L48 Machine Learning and the Physical World/TrafficEmu/sumo_grid_simulation/simulation_input_files/veh_passenger.trips.xml.tmp --write-trips\n",
      "Success.\n",
      "\n",
      " Retrying in 1 seconds\n"
     ]
    },
    {
     "name": "stderr",
     "output_type": "stream",
     "text": [
      " /Users/harrysonghurst/opt/anaconda3/envs/traffic/lib/python3.8/site-packages/paramz/transformations.py:111: RuntimeWarning:overflow encountered in expm1\n"
     ]
    },
    {
     "name": "stdout",
     "output_type": "stream",
     "text": [
      "Optimization restart 1/1, f = 552.777104467025\n",
      "[[  3.43451804   5.05090261   9.86725291 100.2415509    4.\n",
      "    4.46242147]]\n",
      "Success.\n",
      "\n",
      "calling /usr/local/Cellar/sumo/1.8.0/share/sumo/bin/duarouter -n /Users/harrysonghurst/Documents/Coursework/L48 Machine Learning and the Physical World/TrafficEmu/sumo_grid_simulation/simulation_input_files/grid.net.xml -r /Users/harrysonghurst/Documents/Coursework/L48 Machine Learning and the Physical World/TrafficEmu/sumo_grid_simulation/simulation_input_files/veh_passenger.trips.xml --ignore-errors --begin 0.0 --end 3600.0 --no-step-log --additional-files /Users/harrysonghurst/Documents/Coursework/L48 Machine Learning and the Physical World/TrafficEmu/sumo_grid_simulation/simulation_input_files/veh.add.xml --no-warnings -o /Users/harrysonghurst/Documents/Coursework/L48 Machine Learning and the Physical World/TrafficEmu/sumo_grid_simulation/simulation_input_files/veh_passenger.rou.xml\n",
      "Success.\n",
      "calling /usr/local/Cellar/sumo/1.8.0/share/sumo/bin/duarouter -n /Users/harrysonghurst/Documents/Coursework/L48 Machine Learning and the Physical World/TrafficEmu/sumo_grid_simulation/simulation_input_files/grid.net.xml -r /Users/harrysonghurst/Documents/Coursework/L48 Machine Learning and the Physical World/TrafficEmu/sumo_grid_simulation/simulation_input_files/veh_passenger.trips.xml --ignore-errors --begin 0.0 --end 3600.0 --no-step-log --additional-files /Users/harrysonghurst/Documents/Coursework/L48 Machine Learning and the Physical World/TrafficEmu/sumo_grid_simulation/simulation_input_files/veh.add.xml --no-warnings -o /Users/harrysonghurst/Documents/Coursework/L48 Machine Learning and the Physical World/TrafficEmu/sumo_grid_simulation/simulation_input_files/veh_passenger.trips.xml.tmp --write-trips\n",
      "Success.\n",
      "\n",
      " Retrying in 1 seconds\n"
     ]
    },
    {
     "name": "stderr",
     "output_type": "stream",
     "text": [
      " /Users/harrysonghurst/opt/anaconda3/envs/traffic/lib/python3.8/site-packages/paramz/transformations.py:111: RuntimeWarning:overflow encountered in expm1\n"
     ]
    },
    {
     "name": "stdout",
     "output_type": "stream",
     "text": [
      "Optimization restart 1/1, f = 558.6411949640377\n",
      "[[15.51539194  4.13202051 14.82805782 53.14813145  4.          2.72245023]]\n",
      "Success.\n",
      "\n",
      "calling /usr/local/Cellar/sumo/1.8.0/share/sumo/bin/duarouter -n /Users/harrysonghurst/Documents/Coursework/L48 Machine Learning and the Physical World/TrafficEmu/sumo_grid_simulation/simulation_input_files/grid.net.xml -r /Users/harrysonghurst/Documents/Coursework/L48 Machine Learning and the Physical World/TrafficEmu/sumo_grid_simulation/simulation_input_files/veh_passenger.trips.xml --ignore-errors --begin 0.0 --end 3600.0 --no-step-log --additional-files /Users/harrysonghurst/Documents/Coursework/L48 Machine Learning and the Physical World/TrafficEmu/sumo_grid_simulation/simulation_input_files/veh.add.xml --no-warnings -o /Users/harrysonghurst/Documents/Coursework/L48 Machine Learning and the Physical World/TrafficEmu/sumo_grid_simulation/simulation_input_files/veh_passenger.rou.xml\n",
      "Success.\n",
      "calling /usr/local/Cellar/sumo/1.8.0/share/sumo/bin/duarouter -n /Users/harrysonghurst/Documents/Coursework/L48 Machine Learning and the Physical World/TrafficEmu/sumo_grid_simulation/simulation_input_files/grid.net.xml -r /Users/harrysonghurst/Documents/Coursework/L48 Machine Learning and the Physical World/TrafficEmu/sumo_grid_simulation/simulation_input_files/veh_passenger.trips.xml --ignore-errors --begin 0.0 --end 3600.0 --no-step-log --additional-files /Users/harrysonghurst/Documents/Coursework/L48 Machine Learning and the Physical World/TrafficEmu/sumo_grid_simulation/simulation_input_files/veh.add.xml --no-warnings -o /Users/harrysonghurst/Documents/Coursework/L48 Machine Learning and the Physical World/TrafficEmu/sumo_grid_simulation/simulation_input_files/veh_passenger.trips.xml.tmp --write-trips\n",
      "Success.\n",
      "\n",
      " Retrying in 1 seconds\n"
     ]
    },
    {
     "name": "stderr",
     "output_type": "stream",
     "text": [
      " /Users/harrysonghurst/opt/anaconda3/envs/traffic/lib/python3.8/site-packages/paramz/transformations.py:111: RuntimeWarning:overflow encountered in expm1\n"
     ]
    },
    {
     "name": "stdout",
     "output_type": "stream",
     "text": [
      "Optimization restart 1/1, f = 541.9948647938509\n",
      "[[2.5e+01 1.0e+00 2.5e+01 2.5e+02 4.0e+00 2.0e-01]]\n",
      "Success.\n",
      "\n",
      "calling /usr/local/Cellar/sumo/1.8.0/share/sumo/bin/duarouter -n /Users/harrysonghurst/Documents/Coursework/L48 Machine Learning and the Physical World/TrafficEmu/sumo_grid_simulation/simulation_input_files/grid.net.xml -r /Users/harrysonghurst/Documents/Coursework/L48 Machine Learning and the Physical World/TrafficEmu/sumo_grid_simulation/simulation_input_files/veh_passenger.trips.xml --ignore-errors --begin 0.0 --end 3600.0 --no-step-log --additional-files /Users/harrysonghurst/Documents/Coursework/L48 Machine Learning and the Physical World/TrafficEmu/sumo_grid_simulation/simulation_input_files/veh.add.xml --no-warnings -o /Users/harrysonghurst/Documents/Coursework/L48 Machine Learning and the Physical World/TrafficEmu/sumo_grid_simulation/simulation_input_files/veh_passenger.rou.xml\n",
      "Success.\n",
      "calling /usr/local/Cellar/sumo/1.8.0/share/sumo/bin/duarouter -n /Users/harrysonghurst/Documents/Coursework/L48 Machine Learning and the Physical World/TrafficEmu/sumo_grid_simulation/simulation_input_files/grid.net.xml -r /Users/harrysonghurst/Documents/Coursework/L48 Machine Learning and the Physical World/TrafficEmu/sumo_grid_simulation/simulation_input_files/veh_passenger.trips.xml --ignore-errors --begin 0.0 --end 3600.0 --no-step-log --additional-files /Users/harrysonghurst/Documents/Coursework/L48 Machine Learning and the Physical World/TrafficEmu/sumo_grid_simulation/simulation_input_files/veh.add.xml --no-warnings -o /Users/harrysonghurst/Documents/Coursework/L48 Machine Learning and the Physical World/TrafficEmu/sumo_grid_simulation/simulation_input_files/veh_passenger.trips.xml.tmp --write-trips\n",
      "Success.\n",
      "\n",
      " Retrying in 1 seconds\n"
     ]
    },
    {
     "name": "stderr",
     "output_type": "stream",
     "text": [
      " /Users/harrysonghurst/opt/anaconda3/envs/traffic/lib/python3.8/site-packages/paramz/transformations.py:111: RuntimeWarning:overflow encountered in expm1\n"
     ]
    },
    {
     "name": "stdout",
     "output_type": "stream",
     "text": [
      "Optimization restart 1/1, f = 548.2049831607054\n",
      "[[ 25.   1.   1. 250.   4.  10.]]\n",
      "Success.\n",
      "\n",
      "calling /usr/local/Cellar/sumo/1.8.0/share/sumo/bin/duarouter -n /Users/harrysonghurst/Documents/Coursework/L48 Machine Learning and the Physical World/TrafficEmu/sumo_grid_simulation/simulation_input_files/grid.net.xml -r /Users/harrysonghurst/Documents/Coursework/L48 Machine Learning and the Physical World/TrafficEmu/sumo_grid_simulation/simulation_input_files/veh_passenger.trips.xml --ignore-errors --begin 0.0 --end 3600.0 --no-step-log --additional-files /Users/harrysonghurst/Documents/Coursework/L48 Machine Learning and the Physical World/TrafficEmu/sumo_grid_simulation/simulation_input_files/veh.add.xml --no-warnings -o /Users/harrysonghurst/Documents/Coursework/L48 Machine Learning and the Physical World/TrafficEmu/sumo_grid_simulation/simulation_input_files/veh_passenger.rou.xml\n",
      "Success.\n",
      "calling /usr/local/Cellar/sumo/1.8.0/share/sumo/bin/duarouter -n /Users/harrysonghurst/Documents/Coursework/L48 Machine Learning and the Physical World/TrafficEmu/sumo_grid_simulation/simulation_input_files/grid.net.xml -r /Users/harrysonghurst/Documents/Coursework/L48 Machine Learning and the Physical World/TrafficEmu/sumo_grid_simulation/simulation_input_files/veh_passenger.trips.xml --ignore-errors --begin 0.0 --end 3600.0 --no-step-log --additional-files /Users/harrysonghurst/Documents/Coursework/L48 Machine Learning and the Physical World/TrafficEmu/sumo_grid_simulation/simulation_input_files/veh.add.xml --no-warnings -o /Users/harrysonghurst/Documents/Coursework/L48 Machine Learning and the Physical World/TrafficEmu/sumo_grid_simulation/simulation_input_files/veh_passenger.trips.xml.tmp --write-trips\n",
      "Success.\n",
      "\n",
      " Retrying in 1 seconds\n"
     ]
    },
    {
     "name": "stderr",
     "output_type": "stream",
     "text": [
      " /Users/harrysonghurst/opt/anaconda3/envs/traffic/lib/python3.8/site-packages/paramz/transformations.py:111: RuntimeWarning:overflow encountered in expm1\n"
     ]
    },
    {
     "name": "stdout",
     "output_type": "stream",
     "text": [
      "Optimization restart 1/1, f = 579.7137477118645\n",
      "[[ 25.           1.          25.         216.70632458   1.\n",
      "   10.        ]]\n",
      "Success.\n",
      "\n",
      "calling /usr/local/Cellar/sumo/1.8.0/share/sumo/bin/duarouter -n /Users/harrysonghurst/Documents/Coursework/L48 Machine Learning and the Physical World/TrafficEmu/sumo_grid_simulation/simulation_input_files/grid.net.xml -r /Users/harrysonghurst/Documents/Coursework/L48 Machine Learning and the Physical World/TrafficEmu/sumo_grid_simulation/simulation_input_files/veh_passenger.trips.xml --ignore-errors --begin 0.0 --end 3600.0 --no-step-log --additional-files /Users/harrysonghurst/Documents/Coursework/L48 Machine Learning and the Physical World/TrafficEmu/sumo_grid_simulation/simulation_input_files/veh.add.xml --no-warnings -o /Users/harrysonghurst/Documents/Coursework/L48 Machine Learning and the Physical World/TrafficEmu/sumo_grid_simulation/simulation_input_files/veh_passenger.rou.xml\n",
      "Success.\n",
      "calling /usr/local/Cellar/sumo/1.8.0/share/sumo/bin/duarouter -n /Users/harrysonghurst/Documents/Coursework/L48 Machine Learning and the Physical World/TrafficEmu/sumo_grid_simulation/simulation_input_files/grid.net.xml -r /Users/harrysonghurst/Documents/Coursework/L48 Machine Learning and the Physical World/TrafficEmu/sumo_grid_simulation/simulation_input_files/veh_passenger.trips.xml --ignore-errors --begin 0.0 --end 3600.0 --no-step-log --additional-files /Users/harrysonghurst/Documents/Coursework/L48 Machine Learning and the Physical World/TrafficEmu/sumo_grid_simulation/simulation_input_files/veh.add.xml --no-warnings -o /Users/harrysonghurst/Documents/Coursework/L48 Machine Learning and the Physical World/TrafficEmu/sumo_grid_simulation/simulation_input_files/veh_passenger.trips.xml.tmp --write-trips\n",
      "Success.\n",
      "\n",
      " Retrying in 1 seconds\n"
     ]
    },
    {
     "name": "stderr",
     "output_type": "stream",
     "text": [
      " /Users/harrysonghurst/opt/anaconda3/envs/traffic/lib/python3.8/site-packages/paramz/transformations.py:111: RuntimeWarning:overflow encountered in expm1\n"
     ]
    },
    {
     "name": "stdout",
     "output_type": "stream",
     "text": [
      "Optimization restart 1/1, f = 591.1673095696524\n",
      "[[25.  1.  1.  2.  1. 10.]]\n",
      "Success.\n",
      "\n",
      "Warning: Intersecting left turns at junction 'n1' from lane 'o100ton1_0' and lane 'n2ton1_0' (increase junction radius to avoid this).\n",
      "Warning: Intersecting left turns at junction 'n10' from lane 'o4ton10_0' and lane 'n11ton10_0' (increase junction radius to avoid this).\n",
      "Warning: Intersecting left turns at junction 'n10' from lane 'n5ton10_0' and lane 'n17ton10_0' (increase junction radius to avoid this).\n",
      "Warning: Intersecting left turns at junction 'n100' from lane 'n81ton100_0' and lane 'n121ton100_0' (increase junction radius to avoid this).\n",
      "Warning: Intersecting left turns at junction 'n100' from lane 'o91ton100_0' and lane 'n99ton100_0' (increase junction radius to avoid this).\n",
      "Warning: 188 total messages of type: Intersecting left turns at junction '%' from lane '%' and lane '%' (increase junction radius to avoid this).\n",
      "\n",
      "calling /usr/local/Cellar/sumo/1.8.0/share/sumo/bin/duarouter -n /Users/harrysonghurst/Documents/Coursework/L48 Machine Learning and the Physical World/TrafficEmu/sumo_grid_simulation/simulation_input_files/grid.net.xml -r /Users/harrysonghurst/Documents/Coursework/L48 Machine Learning and the Physical World/TrafficEmu/sumo_grid_simulation/simulation_input_files/veh_passenger.trips.xml --ignore-errors --begin 0.0 --end 3600.0 --no-step-log --additional-files /Users/harrysonghurst/Documents/Coursework/L48 Machine Learning and the Physical World/TrafficEmu/sumo_grid_simulation/simulation_input_files/veh.add.xml --no-warnings -o /Users/harrysonghurst/Documents/Coursework/L48 Machine Learning and the Physical World/TrafficEmu/sumo_grid_simulation/simulation_input_files/veh_passenger.rou.xml\n",
      "Success.\n",
      "calling /usr/local/Cellar/sumo/1.8.0/share/sumo/bin/duarouter -n /Users/harrysonghurst/Documents/Coursework/L48 Machine Learning and the Physical World/TrafficEmu/sumo_grid_simulation/simulation_input_files/grid.net.xml -r /Users/harrysonghurst/Documents/Coursework/L48 Machine Learning and the Physical World/TrafficEmu/sumo_grid_simulation/simulation_input_files/veh_passenger.trips.xml --ignore-errors --begin 0.0 --end 3600.0 --no-step-log --additional-files /Users/harrysonghurst/Documents/Coursework/L48 Machine Learning and the Physical World/TrafficEmu/sumo_grid_simulation/simulation_input_files/veh.add.xml --no-warnings -o /Users/harrysonghurst/Documents/Coursework/L48 Machine Learning and the Physical World/TrafficEmu/sumo_grid_simulation/simulation_input_files/veh_passenger.trips.xml.tmp --write-trips\n",
      "Success.\n",
      "\n",
      " Retrying in 1 seconds\n"
     ]
    },
    {
     "name": "stderr",
     "output_type": "stream",
     "text": [
      " /Users/harrysonghurst/opt/anaconda3/envs/traffic/lib/python3.8/site-packages/paramz/transformations.py:111: RuntimeWarning:overflow encountered in expm1\n"
     ]
    },
    {
     "name": "stdout",
     "output_type": "stream",
     "text": [
      "Optimization restart 1/1, f = 597.8336585611485\n",
      "[[2.50000000e+01 1.00000000e+00 1.00000000e+00 2.25991931e+02\n",
      "  1.00000000e+00 2.00000000e-01]]\n",
      "Success.\n",
      "\n",
      "calling /usr/local/Cellar/sumo/1.8.0/share/sumo/bin/duarouter -n /Users/harrysonghurst/Documents/Coursework/L48 Machine Learning and the Physical World/TrafficEmu/sumo_grid_simulation/simulation_input_files/grid.net.xml -r /Users/harrysonghurst/Documents/Coursework/L48 Machine Learning and the Physical World/TrafficEmu/sumo_grid_simulation/simulation_input_files/veh_passenger.trips.xml --ignore-errors --begin 0.0 --end 3600.0 --no-step-log --additional-files /Users/harrysonghurst/Documents/Coursework/L48 Machine Learning and the Physical World/TrafficEmu/sumo_grid_simulation/simulation_input_files/veh.add.xml --no-warnings -o /Users/harrysonghurst/Documents/Coursework/L48 Machine Learning and the Physical World/TrafficEmu/sumo_grid_simulation/simulation_input_files/veh_passenger.rou.xml\n",
      "Success.\n",
      "calling /usr/local/Cellar/sumo/1.8.0/share/sumo/bin/duarouter -n /Users/harrysonghurst/Documents/Coursework/L48 Machine Learning and the Physical World/TrafficEmu/sumo_grid_simulation/simulation_input_files/grid.net.xml -r /Users/harrysonghurst/Documents/Coursework/L48 Machine Learning and the Physical World/TrafficEmu/sumo_grid_simulation/simulation_input_files/veh_passenger.trips.xml --ignore-errors --begin 0.0 --end 3600.0 --no-step-log --additional-files /Users/harrysonghurst/Documents/Coursework/L48 Machine Learning and the Physical World/TrafficEmu/sumo_grid_simulation/simulation_input_files/veh.add.xml --no-warnings -o /Users/harrysonghurst/Documents/Coursework/L48 Machine Learning and the Physical World/TrafficEmu/sumo_grid_simulation/simulation_input_files/veh_passenger.trips.xml.tmp --write-trips\n",
      "Success.\n",
      "\n",
      " Retrying in 1 seconds\n"
     ]
    },
    {
     "name": "stderr",
     "output_type": "stream",
     "text": [
      " /Users/harrysonghurst/opt/anaconda3/envs/traffic/lib/python3.8/site-packages/paramz/transformations.py:111: RuntimeWarning:overflow encountered in expm1\n"
     ]
    },
    {
     "name": "stdout",
     "output_type": "stream",
     "text": [
      "Optimization restart 1/1, f = 620.0816919187388\n",
      "[[3.0e+00 2.5e+01 1.0e+00 2.5e+02 1.0e+00 2.0e-01]]\n",
      "Success.\n",
      "\n",
      "calling /usr/local/Cellar/sumo/1.8.0/share/sumo/bin/duarouter -n /Users/harrysonghurst/Documents/Coursework/L48 Machine Learning and the Physical World/TrafficEmu/sumo_grid_simulation/simulation_input_files/grid.net.xml -r /Users/harrysonghurst/Documents/Coursework/L48 Machine Learning and the Physical World/TrafficEmu/sumo_grid_simulation/simulation_input_files/veh_passenger.trips.xml --ignore-errors --begin 0.0 --end 3600.0 --no-step-log --additional-files /Users/harrysonghurst/Documents/Coursework/L48 Machine Learning and the Physical World/TrafficEmu/sumo_grid_simulation/simulation_input_files/veh.add.xml --no-warnings -o /Users/harrysonghurst/Documents/Coursework/L48 Machine Learning and the Physical World/TrafficEmu/sumo_grid_simulation/simulation_input_files/veh_passenger.rou.xml\n",
      "Success.\n",
      "calling /usr/local/Cellar/sumo/1.8.0/share/sumo/bin/duarouter -n /Users/harrysonghurst/Documents/Coursework/L48 Machine Learning and the Physical World/TrafficEmu/sumo_grid_simulation/simulation_input_files/grid.net.xml -r /Users/harrysonghurst/Documents/Coursework/L48 Machine Learning and the Physical World/TrafficEmu/sumo_grid_simulation/simulation_input_files/veh_passenger.trips.xml --ignore-errors --begin 0.0 --end 3600.0 --no-step-log --additional-files /Users/harrysonghurst/Documents/Coursework/L48 Machine Learning and the Physical World/TrafficEmu/sumo_grid_simulation/simulation_input_files/veh.add.xml --no-warnings -o /Users/harrysonghurst/Documents/Coursework/L48 Machine Learning and the Physical World/TrafficEmu/sumo_grid_simulation/simulation_input_files/veh_passenger.trips.xml.tmp --write-trips\n",
      "Success.\n",
      "\n",
      " Retrying in 1 seconds\n"
     ]
    },
    {
     "name": "stderr",
     "output_type": "stream",
     "text": [
      " /Users/harrysonghurst/opt/anaconda3/envs/traffic/lib/python3.8/site-packages/paramz/transformations.py:111: RuntimeWarning:overflow encountered in expm1\n"
     ]
    },
    {
     "name": "stdout",
     "output_type": "stream",
     "text": [
      "Optimization restart 1/1, f = 626.358254611503\n",
      "[[25. 25. 25.  2.  1. 10.]]\n",
      "Success.\n",
      "\n",
      "Warning: Intersecting left turns at junction 'n1' from lane 'o100ton1_0' and lane 'n2ton1_0' (increase junction radius to avoid this).\n",
      "Warning: Intersecting left turns at junction 'n10' from lane 'o4ton10_0' and lane 'n11ton10_0' (increase junction radius to avoid this).\n",
      "Warning: Intersecting left turns at junction 'n10' from lane 'n5ton10_0' and lane 'n17ton10_0' (increase junction radius to avoid this).\n",
      "Warning: Intersecting left turns at junction 'n100' from lane 'n81ton100_0' and lane 'n121ton100_0' (increase junction radius to avoid this).\n",
      "Warning: Intersecting left turns at junction 'n100' from lane 'o91ton100_0' and lane 'n99ton100_0' (increase junction radius to avoid this).\n",
      "Warning: 188 total messages of type: Intersecting left turns at junction '%' from lane '%' and lane '%' (increase junction radius to avoid this).\n",
      "\n",
      "calling /usr/local/Cellar/sumo/1.8.0/share/sumo/bin/duarouter -n /Users/harrysonghurst/Documents/Coursework/L48 Machine Learning and the Physical World/TrafficEmu/sumo_grid_simulation/simulation_input_files/grid.net.xml -r /Users/harrysonghurst/Documents/Coursework/L48 Machine Learning and the Physical World/TrafficEmu/sumo_grid_simulation/simulation_input_files/veh_passenger.trips.xml --ignore-errors --begin 0.0 --end 3600.0 --no-step-log --additional-files /Users/harrysonghurst/Documents/Coursework/L48 Machine Learning and the Physical World/TrafficEmu/sumo_grid_simulation/simulation_input_files/veh.add.xml --no-warnings -o /Users/harrysonghurst/Documents/Coursework/L48 Machine Learning and the Physical World/TrafficEmu/sumo_grid_simulation/simulation_input_files/veh_passenger.rou.xml\n",
      "Success.\n",
      "calling /usr/local/Cellar/sumo/1.8.0/share/sumo/bin/duarouter -n /Users/harrysonghurst/Documents/Coursework/L48 Machine Learning and the Physical World/TrafficEmu/sumo_grid_simulation/simulation_input_files/grid.net.xml -r /Users/harrysonghurst/Documents/Coursework/L48 Machine Learning and the Physical World/TrafficEmu/sumo_grid_simulation/simulation_input_files/veh_passenger.trips.xml --ignore-errors --begin 0.0 --end 3600.0 --no-step-log --additional-files /Users/harrysonghurst/Documents/Coursework/L48 Machine Learning and the Physical World/TrafficEmu/sumo_grid_simulation/simulation_input_files/veh.add.xml --no-warnings -o /Users/harrysonghurst/Documents/Coursework/L48 Machine Learning and the Physical World/TrafficEmu/sumo_grid_simulation/simulation_input_files/veh_passenger.trips.xml.tmp --write-trips\n",
      "Success.\n",
      "\n",
      " Retrying in 1 seconds\n"
     ]
    },
    {
     "name": "stderr",
     "output_type": "stream",
     "text": [
      " /Users/harrysonghurst/opt/anaconda3/envs/traffic/lib/python3.8/site-packages/paramz/transformations.py:111: RuntimeWarning:overflow encountered in expm1\n"
     ]
    },
    {
     "name": "stdout",
     "output_type": "stream",
     "text": [
      "Optimization restart 1/1, f = 632.943569306249\n",
      "[[ 25.          1.         25.        128.8557195   4.          0.2      ]]\n",
      "Success.\n",
      "\n",
      "calling /usr/local/Cellar/sumo/1.8.0/share/sumo/bin/duarouter -n /Users/harrysonghurst/Documents/Coursework/L48 Machine Learning and the Physical World/TrafficEmu/sumo_grid_simulation/simulation_input_files/grid.net.xml -r /Users/harrysonghurst/Documents/Coursework/L48 Machine Learning and the Physical World/TrafficEmu/sumo_grid_simulation/simulation_input_files/veh_passenger.trips.xml --ignore-errors --begin 0.0 --end 3600.0 --no-step-log --additional-files /Users/harrysonghurst/Documents/Coursework/L48 Machine Learning and the Physical World/TrafficEmu/sumo_grid_simulation/simulation_input_files/veh.add.xml --no-warnings -o /Users/harrysonghurst/Documents/Coursework/L48 Machine Learning and the Physical World/TrafficEmu/sumo_grid_simulation/simulation_input_files/veh_passenger.rou.xml\n",
      "Success.\n",
      "calling /usr/local/Cellar/sumo/1.8.0/share/sumo/bin/duarouter -n /Users/harrysonghurst/Documents/Coursework/L48 Machine Learning and the Physical World/TrafficEmu/sumo_grid_simulation/simulation_input_files/grid.net.xml -r /Users/harrysonghurst/Documents/Coursework/L48 Machine Learning and the Physical World/TrafficEmu/sumo_grid_simulation/simulation_input_files/veh_passenger.trips.xml --ignore-errors --begin 0.0 --end 3600.0 --no-step-log --additional-files /Users/harrysonghurst/Documents/Coursework/L48 Machine Learning and the Physical World/TrafficEmu/sumo_grid_simulation/simulation_input_files/veh.add.xml --no-warnings -o /Users/harrysonghurst/Documents/Coursework/L48 Machine Learning and the Physical World/TrafficEmu/sumo_grid_simulation/simulation_input_files/veh_passenger.trips.xml.tmp --write-trips\n",
      "Success.\n",
      "\n",
      " Retrying in 1 seconds\n"
     ]
    },
    {
     "name": "stderr",
     "output_type": "stream",
     "text": [
      " /Users/harrysonghurst/opt/anaconda3/envs/traffic/lib/python3.8/site-packages/paramz/transformations.py:111: RuntimeWarning:overflow encountered in expm1\n"
     ]
    },
    {
     "name": "stdout",
     "output_type": "stream",
     "text": [
      "Optimization restart 1/1, f = 639.4033985239143\n",
      "[[2.50000000e+01 2.50000000e+01 2.50000000e+01 2.31969678e+02\n",
      "  4.00000000e+00 2.00000000e-01]]\n",
      "Success.\n",
      "\n",
      "calling /usr/local/Cellar/sumo/1.8.0/share/sumo/bin/duarouter -n /Users/harrysonghurst/Documents/Coursework/L48 Machine Learning and the Physical World/TrafficEmu/sumo_grid_simulation/simulation_input_files/grid.net.xml -r /Users/harrysonghurst/Documents/Coursework/L48 Machine Learning and the Physical World/TrafficEmu/sumo_grid_simulation/simulation_input_files/veh_passenger.trips.xml --ignore-errors --begin 0.0 --end 3600.0 --no-step-log --additional-files /Users/harrysonghurst/Documents/Coursework/L48 Machine Learning and the Physical World/TrafficEmu/sumo_grid_simulation/simulation_input_files/veh.add.xml --no-warnings -o /Users/harrysonghurst/Documents/Coursework/L48 Machine Learning and the Physical World/TrafficEmu/sumo_grid_simulation/simulation_input_files/veh_passenger.rou.xml\n",
      "Success.\n",
      "calling /usr/local/Cellar/sumo/1.8.0/share/sumo/bin/duarouter -n /Users/harrysonghurst/Documents/Coursework/L48 Machine Learning and the Physical World/TrafficEmu/sumo_grid_simulation/simulation_input_files/grid.net.xml -r /Users/harrysonghurst/Documents/Coursework/L48 Machine Learning and the Physical World/TrafficEmu/sumo_grid_simulation/simulation_input_files/veh_passenger.trips.xml --ignore-errors --begin 0.0 --end 3600.0 --no-step-log --additional-files /Users/harrysonghurst/Documents/Coursework/L48 Machine Learning and the Physical World/TrafficEmu/sumo_grid_simulation/simulation_input_files/veh.add.xml --no-warnings -o /Users/harrysonghurst/Documents/Coursework/L48 Machine Learning and the Physical World/TrafficEmu/sumo_grid_simulation/simulation_input_files/veh_passenger.trips.xml.tmp --write-trips\n",
      "Success.\n",
      "\n",
      " Retrying in 1 seconds\n"
     ]
    },
    {
     "name": "stderr",
     "output_type": "stream",
     "text": [
      " /Users/harrysonghurst/opt/anaconda3/envs/traffic/lib/python3.8/site-packages/paramz/transformations.py:111: RuntimeWarning:overflow encountered in expm1\n"
     ]
    },
    {
     "name": "stdout",
     "output_type": "stream",
     "text": [
      "Optimization restart 1/1, f = 650.3806347518066\n",
      "[[25.          1.          1.         58.84121763  1.         10.        ]]\n",
      "Success.\n",
      "\n",
      "calling /usr/local/Cellar/sumo/1.8.0/share/sumo/bin/duarouter -n /Users/harrysonghurst/Documents/Coursework/L48 Machine Learning and the Physical World/TrafficEmu/sumo_grid_simulation/simulation_input_files/grid.net.xml -r /Users/harrysonghurst/Documents/Coursework/L48 Machine Learning and the Physical World/TrafficEmu/sumo_grid_simulation/simulation_input_files/veh_passenger.trips.xml --ignore-errors --begin 0.0 --end 3600.0 --no-step-log --additional-files /Users/harrysonghurst/Documents/Coursework/L48 Machine Learning and the Physical World/TrafficEmu/sumo_grid_simulation/simulation_input_files/veh.add.xml --no-warnings -o /Users/harrysonghurst/Documents/Coursework/L48 Machine Learning and the Physical World/TrafficEmu/sumo_grid_simulation/simulation_input_files/veh_passenger.rou.xml\n",
      "Success.\n",
      "calling /usr/local/Cellar/sumo/1.8.0/share/sumo/bin/duarouter -n /Users/harrysonghurst/Documents/Coursework/L48 Machine Learning and the Physical World/TrafficEmu/sumo_grid_simulation/simulation_input_files/grid.net.xml -r /Users/harrysonghurst/Documents/Coursework/L48 Machine Learning and the Physical World/TrafficEmu/sumo_grid_simulation/simulation_input_files/veh_passenger.trips.xml --ignore-errors --begin 0.0 --end 3600.0 --no-step-log --additional-files /Users/harrysonghurst/Documents/Coursework/L48 Machine Learning and the Physical World/TrafficEmu/sumo_grid_simulation/simulation_input_files/veh.add.xml --no-warnings -o /Users/harrysonghurst/Documents/Coursework/L48 Machine Learning and the Physical World/TrafficEmu/sumo_grid_simulation/simulation_input_files/veh_passenger.trips.xml.tmp --write-trips\n",
      "Success.\n",
      "\n",
      " Retrying in 1 seconds\n"
     ]
    },
    {
     "name": "stderr",
     "output_type": "stream",
     "text": [
      " /Users/harrysonghurst/opt/anaconda3/envs/traffic/lib/python3.8/site-packages/paramz/transformations.py:111: RuntimeWarning:overflow encountered in expm1\n"
     ]
    },
    {
     "name": "stdout",
     "output_type": "stream",
     "text": [
      "Optimization restart 1/1, f = 657.2309458688468\n",
      "[[25. 25.  1.  2.  4. 10.]]\n",
      "Success.\n",
      "\n",
      "Warning: Intersecting left turns at junction 'n1' from lane 'o100ton1_3' and lane 'n2ton1_2' (increase junction radius to avoid this).\n",
      "Warning: Intersecting left turns at junction 'n10' from lane 'n5ton10_3' and lane 'n17ton10_2' (increase junction radius to avoid this).\n",
      "Warning: Intersecting left turns at junction 'n101' from lane 'n82ton101_3' and lane 'n122ton101_2' (increase junction radius to avoid this).\n",
      "Warning: Intersecting left turns at junction 'n121' from lane 'n144ton121_3' and lane 'n100ton121_3' (increase junction radius to avoid this).\n",
      "Warning: Intersecting left turns at junction 'n144' from lane 'n169ton144_3' and lane 'n121ton144_3' (increase junction radius to avoid this).\n",
      "Warning: 25 total messages of type: Intersecting left turns at junction '%' from lane '%' and lane '%' (increase junction radius to avoid this).\n",
      "\n",
      "calling /usr/local/Cellar/sumo/1.8.0/share/sumo/bin/duarouter -n /Users/harrysonghurst/Documents/Coursework/L48 Machine Learning and the Physical World/TrafficEmu/sumo_grid_simulation/simulation_input_files/grid.net.xml -r /Users/harrysonghurst/Documents/Coursework/L48 Machine Learning and the Physical World/TrafficEmu/sumo_grid_simulation/simulation_input_files/veh_passenger.trips.xml --ignore-errors --begin 0.0 --end 3600.0 --no-step-log --additional-files /Users/harrysonghurst/Documents/Coursework/L48 Machine Learning and the Physical World/TrafficEmu/sumo_grid_simulation/simulation_input_files/veh.add.xml --no-warnings -o /Users/harrysonghurst/Documents/Coursework/L48 Machine Learning and the Physical World/TrafficEmu/sumo_grid_simulation/simulation_input_files/veh_passenger.rou.xml\n",
      "Success.\n",
      "calling /usr/local/Cellar/sumo/1.8.0/share/sumo/bin/duarouter -n /Users/harrysonghurst/Documents/Coursework/L48 Machine Learning and the Physical World/TrafficEmu/sumo_grid_simulation/simulation_input_files/grid.net.xml -r /Users/harrysonghurst/Documents/Coursework/L48 Machine Learning and the Physical World/TrafficEmu/sumo_grid_simulation/simulation_input_files/veh_passenger.trips.xml --ignore-errors --begin 0.0 --end 3600.0 --no-step-log --additional-files /Users/harrysonghurst/Documents/Coursework/L48 Machine Learning and the Physical World/TrafficEmu/sumo_grid_simulation/simulation_input_files/veh.add.xml --no-warnings -o /Users/harrysonghurst/Documents/Coursework/L48 Machine Learning and the Physical World/TrafficEmu/sumo_grid_simulation/simulation_input_files/veh_passenger.trips.xml.tmp --write-trips\n",
      "Success.\n",
      "\n",
      " Retrying in 1 seconds\n"
     ]
    },
    {
     "name": "stderr",
     "output_type": "stream",
     "text": [
      " /Users/harrysonghurst/opt/anaconda3/envs/traffic/lib/python3.8/site-packages/paramz/transformations.py:111: RuntimeWarning:overflow encountered in expm1\n"
     ]
    },
    {
     "name": "stdout",
     "output_type": "stream",
     "text": [
      "Optimization restart 1/1, f = 663.5161474351386\n",
      "[[  3.  25.  25. 250.   1.  10.]]\n",
      "Success.\n",
      "\n",
      "calling /usr/local/Cellar/sumo/1.8.0/share/sumo/bin/duarouter -n /Users/harrysonghurst/Documents/Coursework/L48 Machine Learning and the Physical World/TrafficEmu/sumo_grid_simulation/simulation_input_files/grid.net.xml -r /Users/harrysonghurst/Documents/Coursework/L48 Machine Learning and the Physical World/TrafficEmu/sumo_grid_simulation/simulation_input_files/veh_passenger.trips.xml --ignore-errors --begin 0.0 --end 3600.0 --no-step-log --additional-files /Users/harrysonghurst/Documents/Coursework/L48 Machine Learning and the Physical World/TrafficEmu/sumo_grid_simulation/simulation_input_files/veh.add.xml --no-warnings -o /Users/harrysonghurst/Documents/Coursework/L48 Machine Learning and the Physical World/TrafficEmu/sumo_grid_simulation/simulation_input_files/veh_passenger.rou.xml\n",
      "Success.\n",
      "calling /usr/local/Cellar/sumo/1.8.0/share/sumo/bin/duarouter -n /Users/harrysonghurst/Documents/Coursework/L48 Machine Learning and the Physical World/TrafficEmu/sumo_grid_simulation/simulation_input_files/grid.net.xml -r /Users/harrysonghurst/Documents/Coursework/L48 Machine Learning and the Physical World/TrafficEmu/sumo_grid_simulation/simulation_input_files/veh_passenger.trips.xml --ignore-errors --begin 0.0 --end 3600.0 --no-step-log --additional-files /Users/harrysonghurst/Documents/Coursework/L48 Machine Learning and the Physical World/TrafficEmu/sumo_grid_simulation/simulation_input_files/veh.add.xml --no-warnings -o /Users/harrysonghurst/Documents/Coursework/L48 Machine Learning and the Physical World/TrafficEmu/sumo_grid_simulation/simulation_input_files/veh_passenger.trips.xml.tmp --write-trips\n",
      "Success.\n",
      "\n",
      " Retrying in 1 seconds\n"
     ]
    },
    {
     "name": "stderr",
     "output_type": "stream",
     "text": [
      " /Users/harrysonghurst/opt/anaconda3/envs/traffic/lib/python3.8/site-packages/paramz/transformations.py:111: RuntimeWarning:overflow encountered in expm1\n"
     ]
    },
    {
     "name": "stdout",
     "output_type": "stream",
     "text": [
      "Optimization restart 1/1, f = 670.2041859079553\n",
      "[[25.         25.         25.         43.24919427  1.         10.        ]]\n",
      "Success.\n",
      "\n",
      "calling /usr/local/Cellar/sumo/1.8.0/share/sumo/bin/duarouter -n /Users/harrysonghurst/Documents/Coursework/L48 Machine Learning and the Physical World/TrafficEmu/sumo_grid_simulation/simulation_input_files/grid.net.xml -r /Users/harrysonghurst/Documents/Coursework/L48 Machine Learning and the Physical World/TrafficEmu/sumo_grid_simulation/simulation_input_files/veh_passenger.trips.xml --ignore-errors --begin 0.0 --end 3600.0 --no-step-log --additional-files /Users/harrysonghurst/Documents/Coursework/L48 Machine Learning and the Physical World/TrafficEmu/sumo_grid_simulation/simulation_input_files/veh.add.xml --no-warnings -o /Users/harrysonghurst/Documents/Coursework/L48 Machine Learning and the Physical World/TrafficEmu/sumo_grid_simulation/simulation_input_files/veh_passenger.rou.xml\n",
      "Success.\n",
      "calling /usr/local/Cellar/sumo/1.8.0/share/sumo/bin/duarouter -n /Users/harrysonghurst/Documents/Coursework/L48 Machine Learning and the Physical World/TrafficEmu/sumo_grid_simulation/simulation_input_files/grid.net.xml -r /Users/harrysonghurst/Documents/Coursework/L48 Machine Learning and the Physical World/TrafficEmu/sumo_grid_simulation/simulation_input_files/veh_passenger.trips.xml --ignore-errors --begin 0.0 --end 3600.0 --no-step-log --additional-files /Users/harrysonghurst/Documents/Coursework/L48 Machine Learning and the Physical World/TrafficEmu/sumo_grid_simulation/simulation_input_files/veh.add.xml --no-warnings -o /Users/harrysonghurst/Documents/Coursework/L48 Machine Learning and the Physical World/TrafficEmu/sumo_grid_simulation/simulation_input_files/veh_passenger.trips.xml.tmp --write-trips\n",
      "Success.\n",
      "\n",
      " Retrying in 1 seconds\n"
     ]
    },
    {
     "name": "stderr",
     "output_type": "stream",
     "text": [
      " /Users/harrysonghurst/opt/anaconda3/envs/traffic/lib/python3.8/site-packages/paramz/transformations.py:111: RuntimeWarning:overflow encountered in expm1\n"
     ]
    },
    {
     "name": "stdout",
     "output_type": "stream",
     "text": [
      "Optimization restart 1/1, f = 676.6010654661575\n",
      "[[ 3.  25.   1.   2.   4.   0.2]]\n",
      "Success.\n",
      "\n",
      "Warning: Intersecting left turns at junction 'n1' from lane 'o12ton1_3' and lane 'n2ton1_2' (increase junction radius to avoid this).\n",
      "Warning: Intersecting left turns at junction 'n4' from lane 'n9ton4_3' and lane 'n1ton4_3' (increase junction radius to avoid this).\n",
      "Warning: Intersecting left turns at junction 'n7' from lane 'o6ton7_3' and lane 'n8ton7_2' (increase junction radius to avoid this).\n",
      "\n",
      "calling /usr/local/Cellar/sumo/1.8.0/share/sumo/bin/duarouter -n /Users/harrysonghurst/Documents/Coursework/L48 Machine Learning and the Physical World/TrafficEmu/sumo_grid_simulation/simulation_input_files/grid.net.xml -r /Users/harrysonghurst/Documents/Coursework/L48 Machine Learning and the Physical World/TrafficEmu/sumo_grid_simulation/simulation_input_files/veh_passenger.trips.xml --ignore-errors --begin 0.0 --end 3600.0 --no-step-log --additional-files /Users/harrysonghurst/Documents/Coursework/L48 Machine Learning and the Physical World/TrafficEmu/sumo_grid_simulation/simulation_input_files/veh.add.xml --no-warnings -o /Users/harrysonghurst/Documents/Coursework/L48 Machine Learning and the Physical World/TrafficEmu/sumo_grid_simulation/simulation_input_files/veh_passenger.rou.xml\n",
      "Success.\n",
      "calling /usr/local/Cellar/sumo/1.8.0/share/sumo/bin/duarouter -n /Users/harrysonghurst/Documents/Coursework/L48 Machine Learning and the Physical World/TrafficEmu/sumo_grid_simulation/simulation_input_files/grid.net.xml -r /Users/harrysonghurst/Documents/Coursework/L48 Machine Learning and the Physical World/TrafficEmu/sumo_grid_simulation/simulation_input_files/veh_passenger.trips.xml --ignore-errors --begin 0.0 --end 3600.0 --no-step-log --additional-files /Users/harrysonghurst/Documents/Coursework/L48 Machine Learning and the Physical World/TrafficEmu/sumo_grid_simulation/simulation_input_files/veh.add.xml --no-warnings -o /Users/harrysonghurst/Documents/Coursework/L48 Machine Learning and the Physical World/TrafficEmu/sumo_grid_simulation/simulation_input_files/veh_passenger.trips.xml.tmp --write-trips\n",
      "Success.\n",
      "\n",
      " Retrying in 1 seconds\n"
     ]
    },
    {
     "name": "stderr",
     "output_type": "stream",
     "text": [
      " /Users/harrysonghurst/opt/anaconda3/envs/traffic/lib/python3.8/site-packages/paramz/transformations.py:111: RuntimeWarning:overflow encountered in expm1\n"
     ]
    },
    {
     "name": "stdout",
     "output_type": "stream",
     "text": [
      "Optimization restart 1/1, f = 683.0833338223616\n",
      "[[ 25.  25.   1. 250.   4.  10.]]\n",
      "Success.\n",
      "\n",
      "calling /usr/local/Cellar/sumo/1.8.0/share/sumo/bin/duarouter -n /Users/harrysonghurst/Documents/Coursework/L48 Machine Learning and the Physical World/TrafficEmu/sumo_grid_simulation/simulation_input_files/grid.net.xml -r /Users/harrysonghurst/Documents/Coursework/L48 Machine Learning and the Physical World/TrafficEmu/sumo_grid_simulation/simulation_input_files/veh_passenger.trips.xml --ignore-errors --begin 0.0 --end 3600.0 --no-step-log --additional-files /Users/harrysonghurst/Documents/Coursework/L48 Machine Learning and the Physical World/TrafficEmu/sumo_grid_simulation/simulation_input_files/veh.add.xml --no-warnings -o /Users/harrysonghurst/Documents/Coursework/L48 Machine Learning and the Physical World/TrafficEmu/sumo_grid_simulation/simulation_input_files/veh_passenger.rou.xml\n",
      "Success.\n",
      "calling /usr/local/Cellar/sumo/1.8.0/share/sumo/bin/duarouter -n /Users/harrysonghurst/Documents/Coursework/L48 Machine Learning and the Physical World/TrafficEmu/sumo_grid_simulation/simulation_input_files/grid.net.xml -r /Users/harrysonghurst/Documents/Coursework/L48 Machine Learning and the Physical World/TrafficEmu/sumo_grid_simulation/simulation_input_files/veh_passenger.trips.xml --ignore-errors --begin 0.0 --end 3600.0 --no-step-log --additional-files /Users/harrysonghurst/Documents/Coursework/L48 Machine Learning and the Physical World/TrafficEmu/sumo_grid_simulation/simulation_input_files/veh.add.xml --no-warnings -o /Users/harrysonghurst/Documents/Coursework/L48 Machine Learning and the Physical World/TrafficEmu/sumo_grid_simulation/simulation_input_files/veh_passenger.trips.xml.tmp --write-trips\n",
      "Success.\n",
      "\n",
      " Retrying in 1 seconds\n"
     ]
    },
    {
     "name": "stderr",
     "output_type": "stream",
     "text": [
      " /Users/harrysonghurst/opt/anaconda3/envs/traffic/lib/python3.8/site-packages/paramz/transformations.py:111: RuntimeWarning:overflow encountered in expm1\n"
     ]
    },
    {
     "name": "stdout",
     "output_type": "stream",
     "text": [
      "Optimization restart 1/1, f = 696.5078953990104\n",
      "[[25.  1. 25.  2.  1. 10.]]\n",
      "Success.\n",
      "\n",
      "Warning: Intersecting left turns at junction 'n1' from lane 'o100ton1_0' and lane 'n2ton1_0' (increase junction radius to avoid this).\n",
      "Warning: Intersecting left turns at junction 'n10' from lane 'o4ton10_0' and lane 'n11ton10_0' (increase junction radius to avoid this).\n",
      "Warning: Intersecting left turns at junction 'n10' from lane 'n5ton10_0' and lane 'n17ton10_0' (increase junction radius to avoid this).\n",
      "Warning: Intersecting left turns at junction 'n100' from lane 'n81ton100_0' and lane 'n121ton100_0' (increase junction radius to avoid this).\n",
      "Warning: Intersecting left turns at junction 'n100' from lane 'o91ton100_0' and lane 'n99ton100_0' (increase junction radius to avoid this).\n",
      "Warning: 188 total messages of type: Intersecting left turns at junction '%' from lane '%' and lane '%' (increase junction radius to avoid this).\n",
      "\n",
      "calling /usr/local/Cellar/sumo/1.8.0/share/sumo/bin/duarouter -n /Users/harrysonghurst/Documents/Coursework/L48 Machine Learning and the Physical World/TrafficEmu/sumo_grid_simulation/simulation_input_files/grid.net.xml -r /Users/harrysonghurst/Documents/Coursework/L48 Machine Learning and the Physical World/TrafficEmu/sumo_grid_simulation/simulation_input_files/veh_passenger.trips.xml --ignore-errors --begin 0.0 --end 3600.0 --no-step-log --additional-files /Users/harrysonghurst/Documents/Coursework/L48 Machine Learning and the Physical World/TrafficEmu/sumo_grid_simulation/simulation_input_files/veh.add.xml --no-warnings -o /Users/harrysonghurst/Documents/Coursework/L48 Machine Learning and the Physical World/TrafficEmu/sumo_grid_simulation/simulation_input_files/veh_passenger.rou.xml\n",
      "Success.\n",
      "calling /usr/local/Cellar/sumo/1.8.0/share/sumo/bin/duarouter -n /Users/harrysonghurst/Documents/Coursework/L48 Machine Learning and the Physical World/TrafficEmu/sumo_grid_simulation/simulation_input_files/grid.net.xml -r /Users/harrysonghurst/Documents/Coursework/L48 Machine Learning and the Physical World/TrafficEmu/sumo_grid_simulation/simulation_input_files/veh_passenger.trips.xml --ignore-errors --begin 0.0 --end 3600.0 --no-step-log --additional-files /Users/harrysonghurst/Documents/Coursework/L48 Machine Learning and the Physical World/TrafficEmu/sumo_grid_simulation/simulation_input_files/veh.add.xml --no-warnings -o /Users/harrysonghurst/Documents/Coursework/L48 Machine Learning and the Physical World/TrafficEmu/sumo_grid_simulation/simulation_input_files/veh_passenger.trips.xml.tmp --write-trips\n",
      "Success.\n",
      "\n",
      " Retrying in 1 seconds\n"
     ]
    },
    {
     "name": "stderr",
     "output_type": "stream",
     "text": [
      " /Users/harrysonghurst/opt/anaconda3/envs/traffic/lib/python3.8/site-packages/paramz/transformations.py:111: RuntimeWarning:overflow encountered in expm1\n"
     ]
    },
    {
     "name": "stdout",
     "output_type": "stream",
     "text": [
      "Optimization restart 1/1, f = 702.8192976330595\n",
      "[[ 3. 25. 25.  2.  1. 10.]]\n",
      "Success.\n",
      "\n",
      "Warning: Intersecting left turns at junction 'n1' from lane 'o12ton1_0' and lane 'n2ton1_0' (increase junction radius to avoid this).\n",
      "Warning: Intersecting left turns at junction 'n2' from lane 'n5ton2_0' and lane 'n1ton2_0' (increase junction radius to avoid this).\n",
      "Warning: Intersecting left turns at junction 'n2' from lane 'o2ton2_0' and lane 'n3ton2_0' (increase junction radius to avoid this).\n",
      "Warning: Intersecting left turns at junction 'n4' from lane 'n9ton4_0' and lane 'n1ton4_0' (increase junction radius to avoid this).\n",
      "Warning: Intersecting left turns at junction 'n4' from lane 'o11ton4_0' and lane 'n3ton4_0' (increase junction radius to avoid this).\n",
      "Warning: 12 total messages of type: Intersecting left turns at junction '%' from lane '%' and lane '%' (increase junction radius to avoid this).\n",
      "\n",
      "calling /usr/local/Cellar/sumo/1.8.0/share/sumo/bin/duarouter -n /Users/harrysonghurst/Documents/Coursework/L48 Machine Learning and the Physical World/TrafficEmu/sumo_grid_simulation/simulation_input_files/grid.net.xml -r /Users/harrysonghurst/Documents/Coursework/L48 Machine Learning and the Physical World/TrafficEmu/sumo_grid_simulation/simulation_input_files/veh_passenger.trips.xml --ignore-errors --begin 0.0 --end 3600.0 --no-step-log --additional-files /Users/harrysonghurst/Documents/Coursework/L48 Machine Learning and the Physical World/TrafficEmu/sumo_grid_simulation/simulation_input_files/veh.add.xml --no-warnings -o /Users/harrysonghurst/Documents/Coursework/L48 Machine Learning and the Physical World/TrafficEmu/sumo_grid_simulation/simulation_input_files/veh_passenger.rou.xml\n",
      "Success.\n",
      "calling /usr/local/Cellar/sumo/1.8.0/share/sumo/bin/duarouter -n /Users/harrysonghurst/Documents/Coursework/L48 Machine Learning and the Physical World/TrafficEmu/sumo_grid_simulation/simulation_input_files/grid.net.xml -r /Users/harrysonghurst/Documents/Coursework/L48 Machine Learning and the Physical World/TrafficEmu/sumo_grid_simulation/simulation_input_files/veh_passenger.trips.xml --ignore-errors --begin 0.0 --end 3600.0 --no-step-log --additional-files /Users/harrysonghurst/Documents/Coursework/L48 Machine Learning and the Physical World/TrafficEmu/sumo_grid_simulation/simulation_input_files/veh.add.xml --no-warnings -o /Users/harrysonghurst/Documents/Coursework/L48 Machine Learning and the Physical World/TrafficEmu/sumo_grid_simulation/simulation_input_files/veh_passenger.trips.xml.tmp --write-trips\n",
      "Success.\n",
      "\n",
      " Retrying in 1 seconds\n"
     ]
    },
    {
     "name": "stderr",
     "output_type": "stream",
     "text": [
      " /Users/harrysonghurst/opt/anaconda3/envs/traffic/lib/python3.8/site-packages/paramz/transformations.py:111: RuntimeWarning:overflow encountered in expm1\n"
     ]
    },
    {
     "name": "stdout",
     "output_type": "stream",
     "text": [
      "Optimization restart 1/1, f = 708.9659629960461\n",
      "[[25.          1.         25.         88.61103182  1.          0.2       ]]\n",
      "Success.\n",
      "\n",
      "calling /usr/local/Cellar/sumo/1.8.0/share/sumo/bin/duarouter -n /Users/harrysonghurst/Documents/Coursework/L48 Machine Learning and the Physical World/TrafficEmu/sumo_grid_simulation/simulation_input_files/grid.net.xml -r /Users/harrysonghurst/Documents/Coursework/L48 Machine Learning and the Physical World/TrafficEmu/sumo_grid_simulation/simulation_input_files/veh_passenger.trips.xml --ignore-errors --begin 0.0 --end 3600.0 --no-step-log --additional-files /Users/harrysonghurst/Documents/Coursework/L48 Machine Learning and the Physical World/TrafficEmu/sumo_grid_simulation/simulation_input_files/veh.add.xml --no-warnings -o /Users/harrysonghurst/Documents/Coursework/L48 Machine Learning and the Physical World/TrafficEmu/sumo_grid_simulation/simulation_input_files/veh_passenger.rou.xml\n",
      "Success.\n",
      "calling /usr/local/Cellar/sumo/1.8.0/share/sumo/bin/duarouter -n /Users/harrysonghurst/Documents/Coursework/L48 Machine Learning and the Physical World/TrafficEmu/sumo_grid_simulation/simulation_input_files/grid.net.xml -r /Users/harrysonghurst/Documents/Coursework/L48 Machine Learning and the Physical World/TrafficEmu/sumo_grid_simulation/simulation_input_files/veh_passenger.trips.xml --ignore-errors --begin 0.0 --end 3600.0 --no-step-log --additional-files /Users/harrysonghurst/Documents/Coursework/L48 Machine Learning and the Physical World/TrafficEmu/sumo_grid_simulation/simulation_input_files/veh.add.xml --no-warnings -o /Users/harrysonghurst/Documents/Coursework/L48 Machine Learning and the Physical World/TrafficEmu/sumo_grid_simulation/simulation_input_files/veh_passenger.trips.xml.tmp --write-trips\n",
      "Success.\n",
      "\n",
      " Retrying in 1 seconds\n"
     ]
    },
    {
     "name": "stderr",
     "output_type": "stream",
     "text": [
      " /Users/harrysonghurst/opt/anaconda3/envs/traffic/lib/python3.8/site-packages/paramz/transformations.py:111: RuntimeWarning:overflow encountered in expm1\n"
     ]
    },
    {
     "name": "stdout",
     "output_type": "stream",
     "text": [
      "Optimization restart 1/1, f = 715.3242385555301\n",
      "[[  3.          25.          25.         116.11560722   1.\n",
      "    0.2       ]]\n",
      "Success.\n",
      "\n",
      "calling /usr/local/Cellar/sumo/1.8.0/share/sumo/bin/duarouter -n /Users/harrysonghurst/Documents/Coursework/L48 Machine Learning and the Physical World/TrafficEmu/sumo_grid_simulation/simulation_input_files/grid.net.xml -r /Users/harrysonghurst/Documents/Coursework/L48 Machine Learning and the Physical World/TrafficEmu/sumo_grid_simulation/simulation_input_files/veh_passenger.trips.xml --ignore-errors --begin 0.0 --end 3600.0 --no-step-log --additional-files /Users/harrysonghurst/Documents/Coursework/L48 Machine Learning and the Physical World/TrafficEmu/sumo_grid_simulation/simulation_input_files/veh.add.xml --no-warnings -o /Users/harrysonghurst/Documents/Coursework/L48 Machine Learning and the Physical World/TrafficEmu/sumo_grid_simulation/simulation_input_files/veh_passenger.rou.xml\n",
      "Success.\n",
      "calling /usr/local/Cellar/sumo/1.8.0/share/sumo/bin/duarouter -n /Users/harrysonghurst/Documents/Coursework/L48 Machine Learning and the Physical World/TrafficEmu/sumo_grid_simulation/simulation_input_files/grid.net.xml -r /Users/harrysonghurst/Documents/Coursework/L48 Machine Learning and the Physical World/TrafficEmu/sumo_grid_simulation/simulation_input_files/veh_passenger.trips.xml --ignore-errors --begin 0.0 --end 3600.0 --no-step-log --additional-files /Users/harrysonghurst/Documents/Coursework/L48 Machine Learning and the Physical World/TrafficEmu/sumo_grid_simulation/simulation_input_files/veh.add.xml --no-warnings -o /Users/harrysonghurst/Documents/Coursework/L48 Machine Learning and the Physical World/TrafficEmu/sumo_grid_simulation/simulation_input_files/veh_passenger.trips.xml.tmp --write-trips\n",
      "Success.\n",
      "\n",
      " Retrying in 1 seconds\n"
     ]
    },
    {
     "name": "stderr",
     "output_type": "stream",
     "text": [
      " /Users/harrysonghurst/opt/anaconda3/envs/traffic/lib/python3.8/site-packages/paramz/transformations.py:111: RuntimeWarning:overflow encountered in expm1\n"
     ]
    },
    {
     "name": "stdout",
     "output_type": "stream",
     "text": [
      "Optimization restart 1/1, f = 722.3615059552094\n",
      "[[  3.          25.           1.         102.68225459   4.\n",
      "    0.2       ]]\n",
      "Success.\n",
      "\n",
      "calling /usr/local/Cellar/sumo/1.8.0/share/sumo/bin/duarouter -n /Users/harrysonghurst/Documents/Coursework/L48 Machine Learning and the Physical World/TrafficEmu/sumo_grid_simulation/simulation_input_files/grid.net.xml -r /Users/harrysonghurst/Documents/Coursework/L48 Machine Learning and the Physical World/TrafficEmu/sumo_grid_simulation/simulation_input_files/veh_passenger.trips.xml --ignore-errors --begin 0.0 --end 3600.0 --no-step-log --additional-files /Users/harrysonghurst/Documents/Coursework/L48 Machine Learning and the Physical World/TrafficEmu/sumo_grid_simulation/simulation_input_files/veh.add.xml --no-warnings -o /Users/harrysonghurst/Documents/Coursework/L48 Machine Learning and the Physical World/TrafficEmu/sumo_grid_simulation/simulation_input_files/veh_passenger.rou.xml\n",
      "Success.\n",
      "calling /usr/local/Cellar/sumo/1.8.0/share/sumo/bin/duarouter -n /Users/harrysonghurst/Documents/Coursework/L48 Machine Learning and the Physical World/TrafficEmu/sumo_grid_simulation/simulation_input_files/grid.net.xml -r /Users/harrysonghurst/Documents/Coursework/L48 Machine Learning and the Physical World/TrafficEmu/sumo_grid_simulation/simulation_input_files/veh_passenger.trips.xml --ignore-errors --begin 0.0 --end 3600.0 --no-step-log --additional-files /Users/harrysonghurst/Documents/Coursework/L48 Machine Learning and the Physical World/TrafficEmu/sumo_grid_simulation/simulation_input_files/veh.add.xml --no-warnings -o /Users/harrysonghurst/Documents/Coursework/L48 Machine Learning and the Physical World/TrafficEmu/sumo_grid_simulation/simulation_input_files/veh_passenger.trips.xml.tmp --write-trips\n",
      "Success.\n",
      "\n",
      " Retrying in 1 seconds\n"
     ]
    },
    {
     "name": "stderr",
     "output_type": "stream",
     "text": [
      " /Users/harrysonghurst/opt/anaconda3/envs/traffic/lib/python3.8/site-packages/paramz/transformations.py:111: RuntimeWarning:overflow encountered in expm1\n"
     ]
    },
    {
     "name": "stdout",
     "output_type": "stream",
     "text": [
      "Optimization restart 1/1, f = 728.9264913691766\n",
      "[[ 3.   1.  25.   2.   1.   0.2]]\n",
      "Success.\n",
      "\n",
      "Warning: Intersecting left turns at junction 'n1' from lane 'o12ton1_0' and lane 'n2ton1_0' (increase junction radius to avoid this).\n",
      "Warning: Intersecting left turns at junction 'n2' from lane 'n5ton2_0' and lane 'n1ton2_0' (increase junction radius to avoid this).\n",
      "Warning: Intersecting left turns at junction 'n2' from lane 'o2ton2_0' and lane 'n3ton2_0' (increase junction radius to avoid this).\n",
      "Warning: Intersecting left turns at junction 'n4' from lane 'n9ton4_0' and lane 'n1ton4_0' (increase junction radius to avoid this).\n",
      "Warning: Intersecting left turns at junction 'n4' from lane 'o11ton4_0' and lane 'n3ton4_0' (increase junction radius to avoid this).\n",
      "Warning: 12 total messages of type: Intersecting left turns at junction '%' from lane '%' and lane '%' (increase junction radius to avoid this).\n",
      "\n",
      "calling /usr/local/Cellar/sumo/1.8.0/share/sumo/bin/duarouter -n /Users/harrysonghurst/Documents/Coursework/L48 Machine Learning and the Physical World/TrafficEmu/sumo_grid_simulation/simulation_input_files/grid.net.xml -r /Users/harrysonghurst/Documents/Coursework/L48 Machine Learning and the Physical World/TrafficEmu/sumo_grid_simulation/simulation_input_files/veh_passenger.trips.xml --ignore-errors --begin 0.0 --end 3600.0 --no-step-log --additional-files /Users/harrysonghurst/Documents/Coursework/L48 Machine Learning and the Physical World/TrafficEmu/sumo_grid_simulation/simulation_input_files/veh.add.xml --no-warnings -o /Users/harrysonghurst/Documents/Coursework/L48 Machine Learning and the Physical World/TrafficEmu/sumo_grid_simulation/simulation_input_files/veh_passenger.rou.xml\n",
      "Success.\n",
      "calling /usr/local/Cellar/sumo/1.8.0/share/sumo/bin/duarouter -n /Users/harrysonghurst/Documents/Coursework/L48 Machine Learning and the Physical World/TrafficEmu/sumo_grid_simulation/simulation_input_files/grid.net.xml -r /Users/harrysonghurst/Documents/Coursework/L48 Machine Learning and the Physical World/TrafficEmu/sumo_grid_simulation/simulation_input_files/veh_passenger.trips.xml --ignore-errors --begin 0.0 --end 3600.0 --no-step-log --additional-files /Users/harrysonghurst/Documents/Coursework/L48 Machine Learning and the Physical World/TrafficEmu/sumo_grid_simulation/simulation_input_files/veh.add.xml --no-warnings -o /Users/harrysonghurst/Documents/Coursework/L48 Machine Learning and the Physical World/TrafficEmu/sumo_grid_simulation/simulation_input_files/veh_passenger.trips.xml.tmp --write-trips\n",
      "Success.\n",
      "\n",
      " Retrying in 1 seconds\n"
     ]
    },
    {
     "name": "stderr",
     "output_type": "stream",
     "text": [
      " /Users/harrysonghurst/opt/anaconda3/envs/traffic/lib/python3.8/site-packages/paramz/transformations.py:111: RuntimeWarning:overflow encountered in expm1\n"
     ]
    },
    {
     "name": "stdout",
     "output_type": "stream",
     "text": [
      "Optimization restart 1/1, f = 735.2865071978624\n",
      "[[ 25.          25.           1.         149.03595167   1.\n",
      "    0.2       ]]\n",
      "Success.\n",
      "\n",
      "calling /usr/local/Cellar/sumo/1.8.0/share/sumo/bin/duarouter -n /Users/harrysonghurst/Documents/Coursework/L48 Machine Learning and the Physical World/TrafficEmu/sumo_grid_simulation/simulation_input_files/grid.net.xml -r /Users/harrysonghurst/Documents/Coursework/L48 Machine Learning and the Physical World/TrafficEmu/sumo_grid_simulation/simulation_input_files/veh_passenger.trips.xml --ignore-errors --begin 0.0 --end 3600.0 --no-step-log --additional-files /Users/harrysonghurst/Documents/Coursework/L48 Machine Learning and the Physical World/TrafficEmu/sumo_grid_simulation/simulation_input_files/veh.add.xml --no-warnings -o /Users/harrysonghurst/Documents/Coursework/L48 Machine Learning and the Physical World/TrafficEmu/sumo_grid_simulation/simulation_input_files/veh_passenger.rou.xml\n",
      "Success.\n",
      "calling /usr/local/Cellar/sumo/1.8.0/share/sumo/bin/duarouter -n /Users/harrysonghurst/Documents/Coursework/L48 Machine Learning and the Physical World/TrafficEmu/sumo_grid_simulation/simulation_input_files/grid.net.xml -r /Users/harrysonghurst/Documents/Coursework/L48 Machine Learning and the Physical World/TrafficEmu/sumo_grid_simulation/simulation_input_files/veh_passenger.trips.xml --ignore-errors --begin 0.0 --end 3600.0 --no-step-log --additional-files /Users/harrysonghurst/Documents/Coursework/L48 Machine Learning and the Physical World/TrafficEmu/sumo_grid_simulation/simulation_input_files/veh.add.xml --no-warnings -o /Users/harrysonghurst/Documents/Coursework/L48 Machine Learning and the Physical World/TrafficEmu/sumo_grid_simulation/simulation_input_files/veh_passenger.trips.xml.tmp --write-trips\n",
      "Success.\n",
      "\n",
      " Retrying in 1 seconds\n"
     ]
    },
    {
     "name": "stderr",
     "output_type": "stream",
     "text": [
      " /Users/harrysonghurst/opt/anaconda3/envs/traffic/lib/python3.8/site-packages/paramz/transformations.py:111: RuntimeWarning:overflow encountered in expm1\n"
     ]
    },
    {
     "name": "stdout",
     "output_type": "stream",
     "text": [
      "Optimization restart 1/1, f = 741.5149518174167\n",
      "[[ 25.   1.  25. 250.   1.  10.]]\n",
      "Success.\n",
      "\n",
      "calling /usr/local/Cellar/sumo/1.8.0/share/sumo/bin/duarouter -n /Users/harrysonghurst/Documents/Coursework/L48 Machine Learning and the Physical World/TrafficEmu/sumo_grid_simulation/simulation_input_files/grid.net.xml -r /Users/harrysonghurst/Documents/Coursework/L48 Machine Learning and the Physical World/TrafficEmu/sumo_grid_simulation/simulation_input_files/veh_passenger.trips.xml --ignore-errors --begin 0.0 --end 3600.0 --no-step-log --additional-files /Users/harrysonghurst/Documents/Coursework/L48 Machine Learning and the Physical World/TrafficEmu/sumo_grid_simulation/simulation_input_files/veh.add.xml --no-warnings -o /Users/harrysonghurst/Documents/Coursework/L48 Machine Learning and the Physical World/TrafficEmu/sumo_grid_simulation/simulation_input_files/veh_passenger.rou.xml\n",
      "Success.\n",
      "calling /usr/local/Cellar/sumo/1.8.0/share/sumo/bin/duarouter -n /Users/harrysonghurst/Documents/Coursework/L48 Machine Learning and the Physical World/TrafficEmu/sumo_grid_simulation/simulation_input_files/grid.net.xml -r /Users/harrysonghurst/Documents/Coursework/L48 Machine Learning and the Physical World/TrafficEmu/sumo_grid_simulation/simulation_input_files/veh_passenger.trips.xml --ignore-errors --begin 0.0 --end 3600.0 --no-step-log --additional-files /Users/harrysonghurst/Documents/Coursework/L48 Machine Learning and the Physical World/TrafficEmu/sumo_grid_simulation/simulation_input_files/veh.add.xml --no-warnings -o /Users/harrysonghurst/Documents/Coursework/L48 Machine Learning and the Physical World/TrafficEmu/sumo_grid_simulation/simulation_input_files/veh_passenger.trips.xml.tmp --write-trips\n",
      "Success.\n",
      "\n",
      " Retrying in 1 seconds\n"
     ]
    },
    {
     "name": "stderr",
     "output_type": "stream",
     "text": [
      " /Users/harrysonghurst/opt/anaconda3/envs/traffic/lib/python3.8/site-packages/paramz/transformations.py:111: RuntimeWarning:overflow encountered in expm1\n"
     ]
    },
    {
     "name": "stdout",
     "output_type": "stream",
     "text": [
      "Optimization restart 1/1, f = 769.6034940404992\n",
      "[[  3.           1.          25.         203.35374172   1.\n",
      "   10.        ]]\n",
      "Success.\n",
      "\n",
      "calling /usr/local/Cellar/sumo/1.8.0/share/sumo/bin/duarouter -n /Users/harrysonghurst/Documents/Coursework/L48 Machine Learning and the Physical World/TrafficEmu/sumo_grid_simulation/simulation_input_files/grid.net.xml -r /Users/harrysonghurst/Documents/Coursework/L48 Machine Learning and the Physical World/TrafficEmu/sumo_grid_simulation/simulation_input_files/veh_passenger.trips.xml --ignore-errors --begin 0.0 --end 3600.0 --no-step-log --additional-files /Users/harrysonghurst/Documents/Coursework/L48 Machine Learning and the Physical World/TrafficEmu/sumo_grid_simulation/simulation_input_files/veh.add.xml --no-warnings -o /Users/harrysonghurst/Documents/Coursework/L48 Machine Learning and the Physical World/TrafficEmu/sumo_grid_simulation/simulation_input_files/veh_passenger.rou.xml\n",
      "Success.\n",
      "calling /usr/local/Cellar/sumo/1.8.0/share/sumo/bin/duarouter -n /Users/harrysonghurst/Documents/Coursework/L48 Machine Learning and the Physical World/TrafficEmu/sumo_grid_simulation/simulation_input_files/grid.net.xml -r /Users/harrysonghurst/Documents/Coursework/L48 Machine Learning and the Physical World/TrafficEmu/sumo_grid_simulation/simulation_input_files/veh_passenger.trips.xml --ignore-errors --begin 0.0 --end 3600.0 --no-step-log --additional-files /Users/harrysonghurst/Documents/Coursework/L48 Machine Learning and the Physical World/TrafficEmu/sumo_grid_simulation/simulation_input_files/veh.add.xml --no-warnings -o /Users/harrysonghurst/Documents/Coursework/L48 Machine Learning and the Physical World/TrafficEmu/sumo_grid_simulation/simulation_input_files/veh_passenger.trips.xml.tmp --write-trips\n",
      "Success.\n",
      "\n",
      " Retrying in 1 seconds\n"
     ]
    },
    {
     "name": "stderr",
     "output_type": "stream",
     "text": [
      " /Users/harrysonghurst/opt/anaconda3/envs/traffic/lib/python3.8/site-packages/paramz/transformations.py:111: RuntimeWarning:overflow encountered in expm1\n"
     ]
    },
    {
     "name": "stdout",
     "output_type": "stream",
     "text": [
      "Optimization restart 1/1, f = 776.3639782406592\n",
      "[[25.          1.         25.         34.47731861  1.         10.        ]]\n",
      "Success.\n",
      "\n",
      "calling /usr/local/Cellar/sumo/1.8.0/share/sumo/bin/duarouter -n /Users/harrysonghurst/Documents/Coursework/L48 Machine Learning and the Physical World/TrafficEmu/sumo_grid_simulation/simulation_input_files/grid.net.xml -r /Users/harrysonghurst/Documents/Coursework/L48 Machine Learning and the Physical World/TrafficEmu/sumo_grid_simulation/simulation_input_files/veh_passenger.trips.xml --ignore-errors --begin 0.0 --end 3600.0 --no-step-log --additional-files /Users/harrysonghurst/Documents/Coursework/L48 Machine Learning and the Physical World/TrafficEmu/sumo_grid_simulation/simulation_input_files/veh.add.xml --no-warnings -o /Users/harrysonghurst/Documents/Coursework/L48 Machine Learning and the Physical World/TrafficEmu/sumo_grid_simulation/simulation_input_files/veh_passenger.rou.xml\n",
      "Success.\n",
      "calling /usr/local/Cellar/sumo/1.8.0/share/sumo/bin/duarouter -n /Users/harrysonghurst/Documents/Coursework/L48 Machine Learning and the Physical World/TrafficEmu/sumo_grid_simulation/simulation_input_files/grid.net.xml -r /Users/harrysonghurst/Documents/Coursework/L48 Machine Learning and the Physical World/TrafficEmu/sumo_grid_simulation/simulation_input_files/veh_passenger.trips.xml --ignore-errors --begin 0.0 --end 3600.0 --no-step-log --additional-files /Users/harrysonghurst/Documents/Coursework/L48 Machine Learning and the Physical World/TrafficEmu/sumo_grid_simulation/simulation_input_files/veh.add.xml --no-warnings -o /Users/harrysonghurst/Documents/Coursework/L48 Machine Learning and the Physical World/TrafficEmu/sumo_grid_simulation/simulation_input_files/veh_passenger.trips.xml.tmp --write-trips\n",
      "Success.\n",
      "\n",
      " Retrying in 1 seconds\n"
     ]
    },
    {
     "name": "stderr",
     "output_type": "stream",
     "text": [
      " /Users/harrysonghurst/opt/anaconda3/envs/traffic/lib/python3.8/site-packages/paramz/transformations.py:111: RuntimeWarning:overflow encountered in expm1\n"
     ]
    },
    {
     "name": "stdout",
     "output_type": "stream",
     "text": [
      "Optimization restart 1/1, f = 782.9833175081162\n",
      "[[3.0e+00 1.0e+00 2.5e+01 2.5e+02 1.0e+00 2.0e-01]]\n",
      "Success.\n",
      "\n",
      "calling /usr/local/Cellar/sumo/1.8.0/share/sumo/bin/duarouter -n /Users/harrysonghurst/Documents/Coursework/L48 Machine Learning and the Physical World/TrafficEmu/sumo_grid_simulation/simulation_input_files/grid.net.xml -r /Users/harrysonghurst/Documents/Coursework/L48 Machine Learning and the Physical World/TrafficEmu/sumo_grid_simulation/simulation_input_files/veh_passenger.trips.xml --ignore-errors --begin 0.0 --end 3600.0 --no-step-log --additional-files /Users/harrysonghurst/Documents/Coursework/L48 Machine Learning and the Physical World/TrafficEmu/sumo_grid_simulation/simulation_input_files/veh.add.xml --no-warnings -o /Users/harrysonghurst/Documents/Coursework/L48 Machine Learning and the Physical World/TrafficEmu/sumo_grid_simulation/simulation_input_files/veh_passenger.rou.xml\n",
      "Success.\n",
      "calling /usr/local/Cellar/sumo/1.8.0/share/sumo/bin/duarouter -n /Users/harrysonghurst/Documents/Coursework/L48 Machine Learning and the Physical World/TrafficEmu/sumo_grid_simulation/simulation_input_files/grid.net.xml -r /Users/harrysonghurst/Documents/Coursework/L48 Machine Learning and the Physical World/TrafficEmu/sumo_grid_simulation/simulation_input_files/veh_passenger.trips.xml --ignore-errors --begin 0.0 --end 3600.0 --no-step-log --additional-files /Users/harrysonghurst/Documents/Coursework/L48 Machine Learning and the Physical World/TrafficEmu/sumo_grid_simulation/simulation_input_files/veh.add.xml --no-warnings -o /Users/harrysonghurst/Documents/Coursework/L48 Machine Learning and the Physical World/TrafficEmu/sumo_grid_simulation/simulation_input_files/veh_passenger.trips.xml.tmp --write-trips\n",
      "Success.\n",
      "\n",
      " Retrying in 1 seconds\n"
     ]
    },
    {
     "name": "stderr",
     "output_type": "stream",
     "text": [
      " /Users/harrysonghurst/opt/anaconda3/envs/traffic/lib/python3.8/site-packages/paramz/transformations.py:111: RuntimeWarning:overflow encountered in expm1\n"
     ]
    },
    {
     "name": "stdout",
     "output_type": "stream",
     "text": [
      "Optimization restart 1/1, f = 790.0713847309295\n",
      "[[3.0e+00 1.0e+00 1.0e+00 2.5e+02 4.0e+00 2.0e-01]]\n",
      "Success.\n",
      "\n",
      "calling /usr/local/Cellar/sumo/1.8.0/share/sumo/bin/duarouter -n /Users/harrysonghurst/Documents/Coursework/L48 Machine Learning and the Physical World/TrafficEmu/sumo_grid_simulation/simulation_input_files/grid.net.xml -r /Users/harrysonghurst/Documents/Coursework/L48 Machine Learning and the Physical World/TrafficEmu/sumo_grid_simulation/simulation_input_files/veh_passenger.trips.xml --ignore-errors --begin 0.0 --end 3600.0 --no-step-log --additional-files /Users/harrysonghurst/Documents/Coursework/L48 Machine Learning and the Physical World/TrafficEmu/sumo_grid_simulation/simulation_input_files/veh.add.xml --no-warnings -o /Users/harrysonghurst/Documents/Coursework/L48 Machine Learning and the Physical World/TrafficEmu/sumo_grid_simulation/simulation_input_files/veh_passenger.rou.xml\n",
      "Success.\n",
      "calling /usr/local/Cellar/sumo/1.8.0/share/sumo/bin/duarouter -n /Users/harrysonghurst/Documents/Coursework/L48 Machine Learning and the Physical World/TrafficEmu/sumo_grid_simulation/simulation_input_files/grid.net.xml -r /Users/harrysonghurst/Documents/Coursework/L48 Machine Learning and the Physical World/TrafficEmu/sumo_grid_simulation/simulation_input_files/veh_passenger.trips.xml --ignore-errors --begin 0.0 --end 3600.0 --no-step-log --additional-files /Users/harrysonghurst/Documents/Coursework/L48 Machine Learning and the Physical World/TrafficEmu/sumo_grid_simulation/simulation_input_files/veh.add.xml --no-warnings -o /Users/harrysonghurst/Documents/Coursework/L48 Machine Learning and the Physical World/TrafficEmu/sumo_grid_simulation/simulation_input_files/veh_passenger.trips.xml.tmp --write-trips\n",
      "Success.\n",
      "\n",
      " Retrying in 1 seconds\n"
     ]
    },
    {
     "name": "stderr",
     "output_type": "stream",
     "text": [
      " /Users/harrysonghurst/opt/anaconda3/envs/traffic/lib/python3.8/site-packages/paramz/transformations.py:111: RuntimeWarning:overflow encountered in expm1\n"
     ]
    },
    {
     "name": "stdout",
     "output_type": "stream",
     "text": [
      "Optimization restart 1/1, f = 796.5816520433702\n",
      "[[ 25.           1.           1.         130.28275991   4.\n",
      "    0.2       ]]\n",
      "Success.\n",
      "\n",
      "calling /usr/local/Cellar/sumo/1.8.0/share/sumo/bin/duarouter -n /Users/harrysonghurst/Documents/Coursework/L48 Machine Learning and the Physical World/TrafficEmu/sumo_grid_simulation/simulation_input_files/grid.net.xml -r /Users/harrysonghurst/Documents/Coursework/L48 Machine Learning and the Physical World/TrafficEmu/sumo_grid_simulation/simulation_input_files/veh_passenger.trips.xml --ignore-errors --begin 0.0 --end 3600.0 --no-step-log --additional-files /Users/harrysonghurst/Documents/Coursework/L48 Machine Learning and the Physical World/TrafficEmu/sumo_grid_simulation/simulation_input_files/veh.add.xml --no-warnings -o /Users/harrysonghurst/Documents/Coursework/L48 Machine Learning and the Physical World/TrafficEmu/sumo_grid_simulation/simulation_input_files/veh_passenger.rou.xml\n",
      "Success.\n",
      "calling /usr/local/Cellar/sumo/1.8.0/share/sumo/bin/duarouter -n /Users/harrysonghurst/Documents/Coursework/L48 Machine Learning and the Physical World/TrafficEmu/sumo_grid_simulation/simulation_input_files/grid.net.xml -r /Users/harrysonghurst/Documents/Coursework/L48 Machine Learning and the Physical World/TrafficEmu/sumo_grid_simulation/simulation_input_files/veh_passenger.trips.xml --ignore-errors --begin 0.0 --end 3600.0 --no-step-log --additional-files /Users/harrysonghurst/Documents/Coursework/L48 Machine Learning and the Physical World/TrafficEmu/sumo_grid_simulation/simulation_input_files/veh.add.xml --no-warnings -o /Users/harrysonghurst/Documents/Coursework/L48 Machine Learning and the Physical World/TrafficEmu/sumo_grid_simulation/simulation_input_files/veh_passenger.trips.xml.tmp --write-trips\n",
      "Success.\n",
      "\n",
      " Retrying in 1 seconds\n"
     ]
    },
    {
     "name": "stderr",
     "output_type": "stream",
     "text": [
      " /Users/harrysonghurst/opt/anaconda3/envs/traffic/lib/python3.8/site-packages/paramz/transformations.py:111: RuntimeWarning:overflow encountered in expm1\n"
     ]
    },
    {
     "name": "stdout",
     "output_type": "stream",
     "text": [
      "Optimization restart 1/1, f = 803.1115489227074\n",
      "[[ 25.           1.          25.         192.55260977   1.\n",
      "    0.2       ]]\n",
      "Success.\n",
      "\n",
      "calling /usr/local/Cellar/sumo/1.8.0/share/sumo/bin/duarouter -n /Users/harrysonghurst/Documents/Coursework/L48 Machine Learning and the Physical World/TrafficEmu/sumo_grid_simulation/simulation_input_files/grid.net.xml -r /Users/harrysonghurst/Documents/Coursework/L48 Machine Learning and the Physical World/TrafficEmu/sumo_grid_simulation/simulation_input_files/veh_passenger.trips.xml --ignore-errors --begin 0.0 --end 3600.0 --no-step-log --additional-files /Users/harrysonghurst/Documents/Coursework/L48 Machine Learning and the Physical World/TrafficEmu/sumo_grid_simulation/simulation_input_files/veh.add.xml --no-warnings -o /Users/harrysonghurst/Documents/Coursework/L48 Machine Learning and the Physical World/TrafficEmu/sumo_grid_simulation/simulation_input_files/veh_passenger.rou.xml\n",
      "Success.\n",
      "calling /usr/local/Cellar/sumo/1.8.0/share/sumo/bin/duarouter -n /Users/harrysonghurst/Documents/Coursework/L48 Machine Learning and the Physical World/TrafficEmu/sumo_grid_simulation/simulation_input_files/grid.net.xml -r /Users/harrysonghurst/Documents/Coursework/L48 Machine Learning and the Physical World/TrafficEmu/sumo_grid_simulation/simulation_input_files/veh_passenger.trips.xml --ignore-errors --begin 0.0 --end 3600.0 --no-step-log --additional-files /Users/harrysonghurst/Documents/Coursework/L48 Machine Learning and the Physical World/TrafficEmu/sumo_grid_simulation/simulation_input_files/veh.add.xml --no-warnings -o /Users/harrysonghurst/Documents/Coursework/L48 Machine Learning and the Physical World/TrafficEmu/sumo_grid_simulation/simulation_input_files/veh_passenger.trips.xml.tmp --write-trips\n",
      "Success.\n",
      "\n",
      " Retrying in 1 seconds\n"
     ]
    },
    {
     "name": "stderr",
     "output_type": "stream",
     "text": [
      " /Users/harrysonghurst/opt/anaconda3/envs/traffic/lib/python3.8/site-packages/paramz/transformations.py:111: RuntimeWarning:overflow encountered in expm1\n"
     ]
    },
    {
     "name": "stdout",
     "output_type": "stream",
     "text": [
      "Optimization restart 1/1, f = 810.5953295214966\n",
      "[[ 25.          25.           1.         106.59878665   4.\n",
      "   10.        ]]\n",
      "Success.\n",
      "\n",
      "calling /usr/local/Cellar/sumo/1.8.0/share/sumo/bin/duarouter -n /Users/harrysonghurst/Documents/Coursework/L48 Machine Learning and the Physical World/TrafficEmu/sumo_grid_simulation/simulation_input_files/grid.net.xml -r /Users/harrysonghurst/Documents/Coursework/L48 Machine Learning and the Physical World/TrafficEmu/sumo_grid_simulation/simulation_input_files/veh_passenger.trips.xml --ignore-errors --begin 0.0 --end 3600.0 --no-step-log --additional-files /Users/harrysonghurst/Documents/Coursework/L48 Machine Learning and the Physical World/TrafficEmu/sumo_grid_simulation/simulation_input_files/veh.add.xml --no-warnings -o /Users/harrysonghurst/Documents/Coursework/L48 Machine Learning and the Physical World/TrafficEmu/sumo_grid_simulation/simulation_input_files/veh_passenger.rou.xml\n",
      "Success.\n",
      "calling /usr/local/Cellar/sumo/1.8.0/share/sumo/bin/duarouter -n /Users/harrysonghurst/Documents/Coursework/L48 Machine Learning and the Physical World/TrafficEmu/sumo_grid_simulation/simulation_input_files/grid.net.xml -r /Users/harrysonghurst/Documents/Coursework/L48 Machine Learning and the Physical World/TrafficEmu/sumo_grid_simulation/simulation_input_files/veh_passenger.trips.xml --ignore-errors --begin 0.0 --end 3600.0 --no-step-log --additional-files /Users/harrysonghurst/Documents/Coursework/L48 Machine Learning and the Physical World/TrafficEmu/sumo_grid_simulation/simulation_input_files/veh.add.xml --no-warnings -o /Users/harrysonghurst/Documents/Coursework/L48 Machine Learning and the Physical World/TrafficEmu/sumo_grid_simulation/simulation_input_files/veh_passenger.trips.xml.tmp --write-trips\n",
      "Success.\n",
      "\n",
      " Retrying in 1 seconds\n"
     ]
    },
    {
     "name": "stderr",
     "output_type": "stream",
     "text": [
      " /Users/harrysonghurst/opt/anaconda3/envs/traffic/lib/python3.8/site-packages/paramz/transformations.py:111: RuntimeWarning:overflow encountered in expm1\n"
     ]
    },
    {
     "name": "stdout",
     "output_type": "stream",
     "text": [
      "Optimization restart 1/1, f = 818.7040336282387\n",
      "[[  3.         25.          1.        163.5881938   4.          0.2      ]]\n",
      "Success.\n",
      "\n",
      "calling /usr/local/Cellar/sumo/1.8.0/share/sumo/bin/duarouter -n /Users/harrysonghurst/Documents/Coursework/L48 Machine Learning and the Physical World/TrafficEmu/sumo_grid_simulation/simulation_input_files/grid.net.xml -r /Users/harrysonghurst/Documents/Coursework/L48 Machine Learning and the Physical World/TrafficEmu/sumo_grid_simulation/simulation_input_files/veh_passenger.trips.xml --ignore-errors --begin 0.0 --end 3600.0 --no-step-log --additional-files /Users/harrysonghurst/Documents/Coursework/L48 Machine Learning and the Physical World/TrafficEmu/sumo_grid_simulation/simulation_input_files/veh.add.xml --no-warnings -o /Users/harrysonghurst/Documents/Coursework/L48 Machine Learning and the Physical World/TrafficEmu/sumo_grid_simulation/simulation_input_files/veh_passenger.rou.xml\n",
      "Success.\n",
      "calling /usr/local/Cellar/sumo/1.8.0/share/sumo/bin/duarouter -n /Users/harrysonghurst/Documents/Coursework/L48 Machine Learning and the Physical World/TrafficEmu/sumo_grid_simulation/simulation_input_files/grid.net.xml -r /Users/harrysonghurst/Documents/Coursework/L48 Machine Learning and the Physical World/TrafficEmu/sumo_grid_simulation/simulation_input_files/veh_passenger.trips.xml --ignore-errors --begin 0.0 --end 3600.0 --no-step-log --additional-files /Users/harrysonghurst/Documents/Coursework/L48 Machine Learning and the Physical World/TrafficEmu/sumo_grid_simulation/simulation_input_files/veh.add.xml --no-warnings -o /Users/harrysonghurst/Documents/Coursework/L48 Machine Learning and the Physical World/TrafficEmu/sumo_grid_simulation/simulation_input_files/veh_passenger.trips.xml.tmp --write-trips\n",
      "Success.\n",
      "\n",
      " Retrying in 1 seconds\n"
     ]
    },
    {
     "name": "stderr",
     "output_type": "stream",
     "text": [
      " /Users/harrysonghurst/opt/anaconda3/envs/traffic/lib/python3.8/site-packages/paramz/transformations.py:111: RuntimeWarning:overflow encountered in expm1\n"
     ]
    },
    {
     "name": "stdout",
     "output_type": "stream",
     "text": [
      "Optimization restart 1/1, f = 825.1246867622355\n",
      "[[  3.           1.           1.         167.48968466   1.\n",
      "   10.        ]]\n",
      "Success.\n",
      "\n",
      "calling /usr/local/Cellar/sumo/1.8.0/share/sumo/bin/duarouter -n /Users/harrysonghurst/Documents/Coursework/L48 Machine Learning and the Physical World/TrafficEmu/sumo_grid_simulation/simulation_input_files/grid.net.xml -r /Users/harrysonghurst/Documents/Coursework/L48 Machine Learning and the Physical World/TrafficEmu/sumo_grid_simulation/simulation_input_files/veh_passenger.trips.xml --ignore-errors --begin 0.0 --end 3600.0 --no-step-log --additional-files /Users/harrysonghurst/Documents/Coursework/L48 Machine Learning and the Physical World/TrafficEmu/sumo_grid_simulation/simulation_input_files/veh.add.xml --no-warnings -o /Users/harrysonghurst/Documents/Coursework/L48 Machine Learning and the Physical World/TrafficEmu/sumo_grid_simulation/simulation_input_files/veh_passenger.rou.xml\n",
      "Success.\n",
      "calling /usr/local/Cellar/sumo/1.8.0/share/sumo/bin/duarouter -n /Users/harrysonghurst/Documents/Coursework/L48 Machine Learning and the Physical World/TrafficEmu/sumo_grid_simulation/simulation_input_files/grid.net.xml -r /Users/harrysonghurst/Documents/Coursework/L48 Machine Learning and the Physical World/TrafficEmu/sumo_grid_simulation/simulation_input_files/veh_passenger.trips.xml --ignore-errors --begin 0.0 --end 3600.0 --no-step-log --additional-files /Users/harrysonghurst/Documents/Coursework/L48 Machine Learning and the Physical World/TrafficEmu/sumo_grid_simulation/simulation_input_files/veh.add.xml --no-warnings -o /Users/harrysonghurst/Documents/Coursework/L48 Machine Learning and the Physical World/TrafficEmu/sumo_grid_simulation/simulation_input_files/veh_passenger.trips.xml.tmp --write-trips\n",
      "Success.\n",
      "\n",
      " Retrying in 1 seconds\n"
     ]
    },
    {
     "name": "stderr",
     "output_type": "stream",
     "text": [
      " /Users/harrysonghurst/opt/anaconda3/envs/traffic/lib/python3.8/site-packages/paramz/transformations.py:111: RuntimeWarning:overflow encountered in expm1\n"
     ]
    },
    {
     "name": "stdout",
     "output_type": "stream",
     "text": [
      "Optimization restart 1/1, f = 831.4675106821185\n",
      "[[ 3.          1.          1.         35.91687589  1.          0.2       ]]\n",
      "Success.\n",
      "\n",
      "calling /usr/local/Cellar/sumo/1.8.0/share/sumo/bin/duarouter -n /Users/harrysonghurst/Documents/Coursework/L48 Machine Learning and the Physical World/TrafficEmu/sumo_grid_simulation/simulation_input_files/grid.net.xml -r /Users/harrysonghurst/Documents/Coursework/L48 Machine Learning and the Physical World/TrafficEmu/sumo_grid_simulation/simulation_input_files/veh_passenger.trips.xml --ignore-errors --begin 0.0 --end 3600.0 --no-step-log --additional-files /Users/harrysonghurst/Documents/Coursework/L48 Machine Learning and the Physical World/TrafficEmu/sumo_grid_simulation/simulation_input_files/veh.add.xml --no-warnings -o /Users/harrysonghurst/Documents/Coursework/L48 Machine Learning and the Physical World/TrafficEmu/sumo_grid_simulation/simulation_input_files/veh_passenger.rou.xml\n",
      "Success.\n",
      "calling /usr/local/Cellar/sumo/1.8.0/share/sumo/bin/duarouter -n /Users/harrysonghurst/Documents/Coursework/L48 Machine Learning and the Physical World/TrafficEmu/sumo_grid_simulation/simulation_input_files/grid.net.xml -r /Users/harrysonghurst/Documents/Coursework/L48 Machine Learning and the Physical World/TrafficEmu/sumo_grid_simulation/simulation_input_files/veh_passenger.trips.xml --ignore-errors --begin 0.0 --end 3600.0 --no-step-log --additional-files /Users/harrysonghurst/Documents/Coursework/L48 Machine Learning and the Physical World/TrafficEmu/sumo_grid_simulation/simulation_input_files/veh.add.xml --no-warnings -o /Users/harrysonghurst/Documents/Coursework/L48 Machine Learning and the Physical World/TrafficEmu/sumo_grid_simulation/simulation_input_files/veh_passenger.trips.xml.tmp --write-trips\n",
      "Success.\n",
      "\n",
      " Retrying in 1 seconds\n"
     ]
    },
    {
     "name": "stderr",
     "output_type": "stream",
     "text": [
      " /Users/harrysonghurst/opt/anaconda3/envs/traffic/lib/python3.8/site-packages/paramz/transformations.py:111: RuntimeWarning:overflow encountered in expm1\n"
     ]
    },
    {
     "name": "stdout",
     "output_type": "stream",
     "text": [
      "Optimization restart 1/1, f = 837.9718546536873\n",
      "[[3.00000000e+00 2.50000000e+01 2.50000000e+01 2.16322839e+02\n",
      "  1.00000000e+00 2.00000000e-01]]\n",
      "Success.\n",
      "\n",
      "calling /usr/local/Cellar/sumo/1.8.0/share/sumo/bin/duarouter -n /Users/harrysonghurst/Documents/Coursework/L48 Machine Learning and the Physical World/TrafficEmu/sumo_grid_simulation/simulation_input_files/grid.net.xml -r /Users/harrysonghurst/Documents/Coursework/L48 Machine Learning and the Physical World/TrafficEmu/sumo_grid_simulation/simulation_input_files/veh_passenger.trips.xml --ignore-errors --begin 0.0 --end 3600.0 --no-step-log --additional-files /Users/harrysonghurst/Documents/Coursework/L48 Machine Learning and the Physical World/TrafficEmu/sumo_grid_simulation/simulation_input_files/veh.add.xml --no-warnings -o /Users/harrysonghurst/Documents/Coursework/L48 Machine Learning and the Physical World/TrafficEmu/sumo_grid_simulation/simulation_input_files/veh_passenger.rou.xml\n",
      "Success.\n",
      "calling /usr/local/Cellar/sumo/1.8.0/share/sumo/bin/duarouter -n /Users/harrysonghurst/Documents/Coursework/L48 Machine Learning and the Physical World/TrafficEmu/sumo_grid_simulation/simulation_input_files/grid.net.xml -r /Users/harrysonghurst/Documents/Coursework/L48 Machine Learning and the Physical World/TrafficEmu/sumo_grid_simulation/simulation_input_files/veh_passenger.trips.xml --ignore-errors --begin 0.0 --end 3600.0 --no-step-log --additional-files /Users/harrysonghurst/Documents/Coursework/L48 Machine Learning and the Physical World/TrafficEmu/sumo_grid_simulation/simulation_input_files/veh.add.xml --no-warnings -o /Users/harrysonghurst/Documents/Coursework/L48 Machine Learning and the Physical World/TrafficEmu/sumo_grid_simulation/simulation_input_files/veh_passenger.trips.xml.tmp --write-trips\n",
      "Success.\n",
      "\n",
      " Retrying in 1 seconds\n"
     ]
    },
    {
     "name": "stderr",
     "output_type": "stream",
     "text": [
      " /Users/harrysonghurst/opt/anaconda3/envs/traffic/lib/python3.8/site-packages/paramz/transformations.py:111: RuntimeWarning:overflow encountered in expm1\n"
     ]
    },
    {
     "name": "stdout",
     "output_type": "stream",
     "text": [
      "Optimization restart 1/1, f = 844.5036764150931\n",
      "[[ 25.           1.          10.83159831 232.63067876   1.\n",
      "   10.        ]]\n",
      "Success.\n",
      "\n",
      "calling /usr/local/Cellar/sumo/1.8.0/share/sumo/bin/duarouter -n /Users/harrysonghurst/Documents/Coursework/L48 Machine Learning and the Physical World/TrafficEmu/sumo_grid_simulation/simulation_input_files/grid.net.xml -r /Users/harrysonghurst/Documents/Coursework/L48 Machine Learning and the Physical World/TrafficEmu/sumo_grid_simulation/simulation_input_files/veh_passenger.trips.xml --ignore-errors --begin 0.0 --end 3600.0 --no-step-log --additional-files /Users/harrysonghurst/Documents/Coursework/L48 Machine Learning and the Physical World/TrafficEmu/sumo_grid_simulation/simulation_input_files/veh.add.xml --no-warnings -o /Users/harrysonghurst/Documents/Coursework/L48 Machine Learning and the Physical World/TrafficEmu/sumo_grid_simulation/simulation_input_files/veh_passenger.rou.xml\n",
      "Success.\n",
      "calling /usr/local/Cellar/sumo/1.8.0/share/sumo/bin/duarouter -n /Users/harrysonghurst/Documents/Coursework/L48 Machine Learning and the Physical World/TrafficEmu/sumo_grid_simulation/simulation_input_files/grid.net.xml -r /Users/harrysonghurst/Documents/Coursework/L48 Machine Learning and the Physical World/TrafficEmu/sumo_grid_simulation/simulation_input_files/veh_passenger.trips.xml --ignore-errors --begin 0.0 --end 3600.0 --no-step-log --additional-files /Users/harrysonghurst/Documents/Coursework/L48 Machine Learning and the Physical World/TrafficEmu/sumo_grid_simulation/simulation_input_files/veh.add.xml --no-warnings -o /Users/harrysonghurst/Documents/Coursework/L48 Machine Learning and the Physical World/TrafficEmu/sumo_grid_simulation/simulation_input_files/veh_passenger.trips.xml.tmp --write-trips\n",
      "Success.\n",
      "\n",
      " Retrying in 1 seconds\n"
     ]
    },
    {
     "name": "stderr",
     "output_type": "stream",
     "text": [
      " /Users/harrysonghurst/opt/anaconda3/envs/traffic/lib/python3.8/site-packages/paramz/transformations.py:111: RuntimeWarning:overflow encountered in expm1\n"
     ]
    },
    {
     "name": "stdout",
     "output_type": "stream",
     "text": [
      "Optimization restart 1/1, f = 852.2684590987155\n",
      "[[25.         1.         1.        96.4422142  1.         0.2      ]]\n",
      "Success.\n",
      "\n",
      "calling /usr/local/Cellar/sumo/1.8.0/share/sumo/bin/duarouter -n /Users/harrysonghurst/Documents/Coursework/L48 Machine Learning and the Physical World/TrafficEmu/sumo_grid_simulation/simulation_input_files/grid.net.xml -r /Users/harrysonghurst/Documents/Coursework/L48 Machine Learning and the Physical World/TrafficEmu/sumo_grid_simulation/simulation_input_files/veh_passenger.trips.xml --ignore-errors --begin 0.0 --end 3600.0 --no-step-log --additional-files /Users/harrysonghurst/Documents/Coursework/L48 Machine Learning and the Physical World/TrafficEmu/sumo_grid_simulation/simulation_input_files/veh.add.xml --no-warnings -o /Users/harrysonghurst/Documents/Coursework/L48 Machine Learning and the Physical World/TrafficEmu/sumo_grid_simulation/simulation_input_files/veh_passenger.rou.xml\n",
      "Success.\n",
      "calling /usr/local/Cellar/sumo/1.8.0/share/sumo/bin/duarouter -n /Users/harrysonghurst/Documents/Coursework/L48 Machine Learning and the Physical World/TrafficEmu/sumo_grid_simulation/simulation_input_files/grid.net.xml -r /Users/harrysonghurst/Documents/Coursework/L48 Machine Learning and the Physical World/TrafficEmu/sumo_grid_simulation/simulation_input_files/veh_passenger.trips.xml --ignore-errors --begin 0.0 --end 3600.0 --no-step-log --additional-files /Users/harrysonghurst/Documents/Coursework/L48 Machine Learning and the Physical World/TrafficEmu/sumo_grid_simulation/simulation_input_files/veh.add.xml --no-warnings -o /Users/harrysonghurst/Documents/Coursework/L48 Machine Learning and the Physical World/TrafficEmu/sumo_grid_simulation/simulation_input_files/veh_passenger.trips.xml.tmp --write-trips\n",
      "Success.\n",
      "\n",
      " Retrying in 1 seconds\n"
     ]
    },
    {
     "name": "stderr",
     "output_type": "stream",
     "text": [
      " /Users/harrysonghurst/opt/anaconda3/envs/traffic/lib/python3.8/site-packages/paramz/transformations.py:111: RuntimeWarning:overflow encountered in expm1\n"
     ]
    },
    {
     "name": "stdout",
     "output_type": "stream",
     "text": [
      "Optimization restart 1/1, f = 858.699808413364\n",
      "[[  3.          25.          25.         201.53367459   4.\n",
      "   10.        ]]\n",
      "Success.\n",
      "\n",
      "calling /usr/local/Cellar/sumo/1.8.0/share/sumo/bin/duarouter -n /Users/harrysonghurst/Documents/Coursework/L48 Machine Learning and the Physical World/TrafficEmu/sumo_grid_simulation/simulation_input_files/grid.net.xml -r /Users/harrysonghurst/Documents/Coursework/L48 Machine Learning and the Physical World/TrafficEmu/sumo_grid_simulation/simulation_input_files/veh_passenger.trips.xml --ignore-errors --begin 0.0 --end 3600.0 --no-step-log --additional-files /Users/harrysonghurst/Documents/Coursework/L48 Machine Learning and the Physical World/TrafficEmu/sumo_grid_simulation/simulation_input_files/veh.add.xml --no-warnings -o /Users/harrysonghurst/Documents/Coursework/L48 Machine Learning and the Physical World/TrafficEmu/sumo_grid_simulation/simulation_input_files/veh_passenger.rou.xml\n",
      "Success.\n",
      "calling /usr/local/Cellar/sumo/1.8.0/share/sumo/bin/duarouter -n /Users/harrysonghurst/Documents/Coursework/L48 Machine Learning and the Physical World/TrafficEmu/sumo_grid_simulation/simulation_input_files/grid.net.xml -r /Users/harrysonghurst/Documents/Coursework/L48 Machine Learning and the Physical World/TrafficEmu/sumo_grid_simulation/simulation_input_files/veh_passenger.trips.xml --ignore-errors --begin 0.0 --end 3600.0 --no-step-log --additional-files /Users/harrysonghurst/Documents/Coursework/L48 Machine Learning and the Physical World/TrafficEmu/sumo_grid_simulation/simulation_input_files/veh.add.xml --no-warnings -o /Users/harrysonghurst/Documents/Coursework/L48 Machine Learning and the Physical World/TrafficEmu/sumo_grid_simulation/simulation_input_files/veh_passenger.trips.xml.tmp --write-trips\n",
      "Success.\n",
      "\n",
      " Retrying in 1 seconds\n"
     ]
    },
    {
     "name": "stderr",
     "output_type": "stream",
     "text": [
      " /Users/harrysonghurst/opt/anaconda3/envs/traffic/lib/python3.8/site-packages/paramz/transformations.py:111: RuntimeWarning:overflow encountered in expm1\n"
     ]
    },
    {
     "name": "stdout",
     "output_type": "stream",
     "text": [
      "Optimization restart 1/1, f = 865.5064394347771\n",
      "[[2.500000e+01 2.500000e+01 1.000000e+00 2.308622e+02 4.000000e+00\n",
      "  2.000000e-01]]\n",
      "Success.\n",
      "\n",
      "calling /usr/local/Cellar/sumo/1.8.0/share/sumo/bin/duarouter -n /Users/harrysonghurst/Documents/Coursework/L48 Machine Learning and the Physical World/TrafficEmu/sumo_grid_simulation/simulation_input_files/grid.net.xml -r /Users/harrysonghurst/Documents/Coursework/L48 Machine Learning and the Physical World/TrafficEmu/sumo_grid_simulation/simulation_input_files/veh_passenger.trips.xml --ignore-errors --begin 0.0 --end 3600.0 --no-step-log --additional-files /Users/harrysonghurst/Documents/Coursework/L48 Machine Learning and the Physical World/TrafficEmu/sumo_grid_simulation/simulation_input_files/veh.add.xml --no-warnings -o /Users/harrysonghurst/Documents/Coursework/L48 Machine Learning and the Physical World/TrafficEmu/sumo_grid_simulation/simulation_input_files/veh_passenger.rou.xml\n",
      "Success.\n",
      "calling /usr/local/Cellar/sumo/1.8.0/share/sumo/bin/duarouter -n /Users/harrysonghurst/Documents/Coursework/L48 Machine Learning and the Physical World/TrafficEmu/sumo_grid_simulation/simulation_input_files/grid.net.xml -r /Users/harrysonghurst/Documents/Coursework/L48 Machine Learning and the Physical World/TrafficEmu/sumo_grid_simulation/simulation_input_files/veh_passenger.trips.xml --ignore-errors --begin 0.0 --end 3600.0 --no-step-log --additional-files /Users/harrysonghurst/Documents/Coursework/L48 Machine Learning and the Physical World/TrafficEmu/sumo_grid_simulation/simulation_input_files/veh.add.xml --no-warnings -o /Users/harrysonghurst/Documents/Coursework/L48 Machine Learning and the Physical World/TrafficEmu/sumo_grid_simulation/simulation_input_files/veh_passenger.trips.xml.tmp --write-trips\n",
      "Success.\n",
      "\n",
      " Retrying in 1 seconds\n"
     ]
    },
    {
     "name": "stderr",
     "output_type": "stream",
     "text": [
      " /Users/harrysonghurst/opt/anaconda3/envs/traffic/lib/python3.8/site-packages/paramz/transformations.py:111: RuntimeWarning:overflow encountered in expm1\n"
     ]
    },
    {
     "name": "stdout",
     "output_type": "stream",
     "text": [
      "Optimization restart 1/1, f = 875.8203463533529\n",
      "[[  3.           1.           1.         190.01938435   1.\n",
      "    0.2       ]]\n",
      "Success.\n",
      "\n",
      "calling /usr/local/Cellar/sumo/1.8.0/share/sumo/bin/duarouter -n /Users/harrysonghurst/Documents/Coursework/L48 Machine Learning and the Physical World/TrafficEmu/sumo_grid_simulation/simulation_input_files/grid.net.xml -r /Users/harrysonghurst/Documents/Coursework/L48 Machine Learning and the Physical World/TrafficEmu/sumo_grid_simulation/simulation_input_files/veh_passenger.trips.xml --ignore-errors --begin 0.0 --end 3600.0 --no-step-log --additional-files /Users/harrysonghurst/Documents/Coursework/L48 Machine Learning and the Physical World/TrafficEmu/sumo_grid_simulation/simulation_input_files/veh.add.xml --no-warnings -o /Users/harrysonghurst/Documents/Coursework/L48 Machine Learning and the Physical World/TrafficEmu/sumo_grid_simulation/simulation_input_files/veh_passenger.rou.xml\n",
      "Success.\n",
      "calling /usr/local/Cellar/sumo/1.8.0/share/sumo/bin/duarouter -n /Users/harrysonghurst/Documents/Coursework/L48 Machine Learning and the Physical World/TrafficEmu/sumo_grid_simulation/simulation_input_files/grid.net.xml -r /Users/harrysonghurst/Documents/Coursework/L48 Machine Learning and the Physical World/TrafficEmu/sumo_grid_simulation/simulation_input_files/veh_passenger.trips.xml --ignore-errors --begin 0.0 --end 3600.0 --no-step-log --additional-files /Users/harrysonghurst/Documents/Coursework/L48 Machine Learning and the Physical World/TrafficEmu/sumo_grid_simulation/simulation_input_files/veh.add.xml --no-warnings -o /Users/harrysonghurst/Documents/Coursework/L48 Machine Learning and the Physical World/TrafficEmu/sumo_grid_simulation/simulation_input_files/veh_passenger.trips.xml.tmp --write-trips\n",
      "Success.\n",
      "\n",
      " Retrying in 1 seconds\n"
     ]
    },
    {
     "name": "stderr",
     "output_type": "stream",
     "text": [
      " /Users/harrysonghurst/opt/anaconda3/envs/traffic/lib/python3.8/site-packages/paramz/transformations.py:111: RuntimeWarning:overflow encountered in expm1\n"
     ]
    },
    {
     "name": "stdout",
     "output_type": "stream",
     "text": [
      "Optimization restart 1/1, f = 882.2464482234824\n",
      "[[  3.           1.          25.         137.66673417   1.\n",
      "   10.        ]]\n",
      "Success.\n",
      "\n",
      "calling /usr/local/Cellar/sumo/1.8.0/share/sumo/bin/duarouter -n /Users/harrysonghurst/Documents/Coursework/L48 Machine Learning and the Physical World/TrafficEmu/sumo_grid_simulation/simulation_input_files/grid.net.xml -r /Users/harrysonghurst/Documents/Coursework/L48 Machine Learning and the Physical World/TrafficEmu/sumo_grid_simulation/simulation_input_files/veh_passenger.trips.xml --ignore-errors --begin 0.0 --end 3600.0 --no-step-log --additional-files /Users/harrysonghurst/Documents/Coursework/L48 Machine Learning and the Physical World/TrafficEmu/sumo_grid_simulation/simulation_input_files/veh.add.xml --no-warnings -o /Users/harrysonghurst/Documents/Coursework/L48 Machine Learning and the Physical World/TrafficEmu/sumo_grid_simulation/simulation_input_files/veh_passenger.rou.xml\n",
      "Success.\n",
      "calling /usr/local/Cellar/sumo/1.8.0/share/sumo/bin/duarouter -n /Users/harrysonghurst/Documents/Coursework/L48 Machine Learning and the Physical World/TrafficEmu/sumo_grid_simulation/simulation_input_files/grid.net.xml -r /Users/harrysonghurst/Documents/Coursework/L48 Machine Learning and the Physical World/TrafficEmu/sumo_grid_simulation/simulation_input_files/veh_passenger.trips.xml --ignore-errors --begin 0.0 --end 3600.0 --no-step-log --additional-files /Users/harrysonghurst/Documents/Coursework/L48 Machine Learning and the Physical World/TrafficEmu/sumo_grid_simulation/simulation_input_files/veh.add.xml --no-warnings -o /Users/harrysonghurst/Documents/Coursework/L48 Machine Learning and the Physical World/TrafficEmu/sumo_grid_simulation/simulation_input_files/veh_passenger.trips.xml.tmp --write-trips\n",
      "Success.\n",
      "\n",
      " Retrying in 1 seconds\n"
     ]
    },
    {
     "name": "stderr",
     "output_type": "stream",
     "text": [
      " /Users/harrysonghurst/opt/anaconda3/envs/traffic/lib/python3.8/site-packages/paramz/transformations.py:111: RuntimeWarning:overflow encountered in expm1\n"
     ]
    },
    {
     "name": "stdout",
     "output_type": "stream",
     "text": [
      "Optimization restart 1/1, f = 888.8652141150587\n",
      "[[ 3.         25.         25.         43.71559062  4.          0.2       ]]\n",
      "Success.\n",
      "\n",
      "calling /usr/local/Cellar/sumo/1.8.0/share/sumo/bin/duarouter -n /Users/harrysonghurst/Documents/Coursework/L48 Machine Learning and the Physical World/TrafficEmu/sumo_grid_simulation/simulation_input_files/grid.net.xml -r /Users/harrysonghurst/Documents/Coursework/L48 Machine Learning and the Physical World/TrafficEmu/sumo_grid_simulation/simulation_input_files/veh_passenger.trips.xml --ignore-errors --begin 0.0 --end 3600.0 --no-step-log --additional-files /Users/harrysonghurst/Documents/Coursework/L48 Machine Learning and the Physical World/TrafficEmu/sumo_grid_simulation/simulation_input_files/veh.add.xml --no-warnings -o /Users/harrysonghurst/Documents/Coursework/L48 Machine Learning and the Physical World/TrafficEmu/sumo_grid_simulation/simulation_input_files/veh_passenger.rou.xml\n",
      "Success.\n",
      "calling /usr/local/Cellar/sumo/1.8.0/share/sumo/bin/duarouter -n /Users/harrysonghurst/Documents/Coursework/L48 Machine Learning and the Physical World/TrafficEmu/sumo_grid_simulation/simulation_input_files/grid.net.xml -r /Users/harrysonghurst/Documents/Coursework/L48 Machine Learning and the Physical World/TrafficEmu/sumo_grid_simulation/simulation_input_files/veh_passenger.trips.xml --ignore-errors --begin 0.0 --end 3600.0 --no-step-log --additional-files /Users/harrysonghurst/Documents/Coursework/L48 Machine Learning and the Physical World/TrafficEmu/sumo_grid_simulation/simulation_input_files/veh.add.xml --no-warnings -o /Users/harrysonghurst/Documents/Coursework/L48 Machine Learning and the Physical World/TrafficEmu/sumo_grid_simulation/simulation_input_files/veh_passenger.trips.xml.tmp --write-trips\n",
      "Success.\n",
      "\n",
      " Retrying in 1 seconds\n"
     ]
    },
    {
     "name": "stderr",
     "output_type": "stream",
     "text": [
      " /Users/harrysonghurst/opt/anaconda3/envs/traffic/lib/python3.8/site-packages/paramz/transformations.py:111: RuntimeWarning:overflow encountered in expm1\n"
     ]
    },
    {
     "name": "stdout",
     "output_type": "stream",
     "text": [
      "Optimization restart 1/1, f = 895.3441389569268\n",
      "[[ 25.  25.  25. 250.   1.  10.]]\n",
      "Success.\n",
      "\n",
      "calling /usr/local/Cellar/sumo/1.8.0/share/sumo/bin/duarouter -n /Users/harrysonghurst/Documents/Coursework/L48 Machine Learning and the Physical World/TrafficEmu/sumo_grid_simulation/simulation_input_files/grid.net.xml -r /Users/harrysonghurst/Documents/Coursework/L48 Machine Learning and the Physical World/TrafficEmu/sumo_grid_simulation/simulation_input_files/veh_passenger.trips.xml --ignore-errors --begin 0.0 --end 3600.0 --no-step-log --additional-files /Users/harrysonghurst/Documents/Coursework/L48 Machine Learning and the Physical World/TrafficEmu/sumo_grid_simulation/simulation_input_files/veh.add.xml --no-warnings -o /Users/harrysonghurst/Documents/Coursework/L48 Machine Learning and the Physical World/TrafficEmu/sumo_grid_simulation/simulation_input_files/veh_passenger.rou.xml\n",
      "Success.\n",
      "calling /usr/local/Cellar/sumo/1.8.0/share/sumo/bin/duarouter -n /Users/harrysonghurst/Documents/Coursework/L48 Machine Learning and the Physical World/TrafficEmu/sumo_grid_simulation/simulation_input_files/grid.net.xml -r /Users/harrysonghurst/Documents/Coursework/L48 Machine Learning and the Physical World/TrafficEmu/sumo_grid_simulation/simulation_input_files/veh_passenger.trips.xml --ignore-errors --begin 0.0 --end 3600.0 --no-step-log --additional-files /Users/harrysonghurst/Documents/Coursework/L48 Machine Learning and the Physical World/TrafficEmu/sumo_grid_simulation/simulation_input_files/veh.add.xml --no-warnings -o /Users/harrysonghurst/Documents/Coursework/L48 Machine Learning and the Physical World/TrafficEmu/sumo_grid_simulation/simulation_input_files/veh_passenger.trips.xml.tmp --write-trips\n",
      "Success.\n",
      "\n",
      " Retrying in 1 seconds\n"
     ]
    },
    {
     "name": "stderr",
     "output_type": "stream",
     "text": [
      " /Users/harrysonghurst/opt/anaconda3/envs/traffic/lib/python3.8/site-packages/paramz/transformations.py:111: RuntimeWarning:overflow encountered in expm1\n"
     ]
    },
    {
     "name": "stdout",
     "output_type": "stream",
     "text": [
      "Optimization restart 1/1, f = 902.016794383931\n",
      "[[ 3.         25.          1.         85.11826441  4.         10.        ]]\n",
      "Success.\n",
      "\n",
      "calling /usr/local/Cellar/sumo/1.8.0/share/sumo/bin/duarouter -n /Users/harrysonghurst/Documents/Coursework/L48 Machine Learning and the Physical World/TrafficEmu/sumo_grid_simulation/simulation_input_files/grid.net.xml -r /Users/harrysonghurst/Documents/Coursework/L48 Machine Learning and the Physical World/TrafficEmu/sumo_grid_simulation/simulation_input_files/veh_passenger.trips.xml --ignore-errors --begin 0.0 --end 3600.0 --no-step-log --additional-files /Users/harrysonghurst/Documents/Coursework/L48 Machine Learning and the Physical World/TrafficEmu/sumo_grid_simulation/simulation_input_files/veh.add.xml --no-warnings -o /Users/harrysonghurst/Documents/Coursework/L48 Machine Learning and the Physical World/TrafficEmu/sumo_grid_simulation/simulation_input_files/veh_passenger.rou.xml\n",
      "Success.\n",
      "calling /usr/local/Cellar/sumo/1.8.0/share/sumo/bin/duarouter -n /Users/harrysonghurst/Documents/Coursework/L48 Machine Learning and the Physical World/TrafficEmu/sumo_grid_simulation/simulation_input_files/grid.net.xml -r /Users/harrysonghurst/Documents/Coursework/L48 Machine Learning and the Physical World/TrafficEmu/sumo_grid_simulation/simulation_input_files/veh_passenger.trips.xml --ignore-errors --begin 0.0 --end 3600.0 --no-step-log --additional-files /Users/harrysonghurst/Documents/Coursework/L48 Machine Learning and the Physical World/TrafficEmu/sumo_grid_simulation/simulation_input_files/veh.add.xml --no-warnings -o /Users/harrysonghurst/Documents/Coursework/L48 Machine Learning and the Physical World/TrafficEmu/sumo_grid_simulation/simulation_input_files/veh_passenger.trips.xml.tmp --write-trips\n",
      "Success.\n",
      "\n",
      " Retrying in 1 seconds\n"
     ]
    },
    {
     "name": "stderr",
     "output_type": "stream",
     "text": [
      " /Users/harrysonghurst/opt/anaconda3/envs/traffic/lib/python3.8/site-packages/paramz/transformations.py:111: RuntimeWarning:overflow encountered in expm1\n"
     ]
    },
    {
     "name": "stdout",
     "output_type": "stream",
     "text": [
      "Optimization restart 1/1, f = 908.4448963640361\n",
      "[[  3.           1.           1.         126.33862139   1.\n",
      "    0.2       ]]\n",
      "Success.\n",
      "\n",
      "calling /usr/local/Cellar/sumo/1.8.0/share/sumo/bin/duarouter -n /Users/harrysonghurst/Documents/Coursework/L48 Machine Learning and the Physical World/TrafficEmu/sumo_grid_simulation/simulation_input_files/grid.net.xml -r /Users/harrysonghurst/Documents/Coursework/L48 Machine Learning and the Physical World/TrafficEmu/sumo_grid_simulation/simulation_input_files/veh_passenger.trips.xml --ignore-errors --begin 0.0 --end 3600.0 --no-step-log --additional-files /Users/harrysonghurst/Documents/Coursework/L48 Machine Learning and the Physical World/TrafficEmu/sumo_grid_simulation/simulation_input_files/veh.add.xml --no-warnings -o /Users/harrysonghurst/Documents/Coursework/L48 Machine Learning and the Physical World/TrafficEmu/sumo_grid_simulation/simulation_input_files/veh_passenger.rou.xml\n",
      "Success.\n",
      "calling /usr/local/Cellar/sumo/1.8.0/share/sumo/bin/duarouter -n /Users/harrysonghurst/Documents/Coursework/L48 Machine Learning and the Physical World/TrafficEmu/sumo_grid_simulation/simulation_input_files/grid.net.xml -r /Users/harrysonghurst/Documents/Coursework/L48 Machine Learning and the Physical World/TrafficEmu/sumo_grid_simulation/simulation_input_files/veh_passenger.trips.xml --ignore-errors --begin 0.0 --end 3600.0 --no-step-log --additional-files /Users/harrysonghurst/Documents/Coursework/L48 Machine Learning and the Physical World/TrafficEmu/sumo_grid_simulation/simulation_input_files/veh.add.xml --no-warnings -o /Users/harrysonghurst/Documents/Coursework/L48 Machine Learning and the Physical World/TrafficEmu/sumo_grid_simulation/simulation_input_files/veh_passenger.trips.xml.tmp --write-trips\n",
      "Success.\n",
      "\n",
      " Retrying in 1 seconds\n"
     ]
    },
    {
     "name": "stderr",
     "output_type": "stream",
     "text": [
      " /Users/harrysonghurst/opt/anaconda3/envs/traffic/lib/python3.8/site-packages/paramz/transformations.py:111: RuntimeWarning:overflow encountered in expm1\n"
     ]
    },
    {
     "name": "stdout",
     "output_type": "stream",
     "text": [
      "Optimization restart 1/1, f = 914.8306196269432\n",
      "[[ 25.          25.          25.         213.07339348   4.\n",
      "   10.        ]]\n",
      "Success.\n",
      "\n",
      "calling /usr/local/Cellar/sumo/1.8.0/share/sumo/bin/duarouter -n /Users/harrysonghurst/Documents/Coursework/L48 Machine Learning and the Physical World/TrafficEmu/sumo_grid_simulation/simulation_input_files/grid.net.xml -r /Users/harrysonghurst/Documents/Coursework/L48 Machine Learning and the Physical World/TrafficEmu/sumo_grid_simulation/simulation_input_files/veh_passenger.trips.xml --ignore-errors --begin 0.0 --end 3600.0 --no-step-log --additional-files /Users/harrysonghurst/Documents/Coursework/L48 Machine Learning and the Physical World/TrafficEmu/sumo_grid_simulation/simulation_input_files/veh.add.xml --no-warnings -o /Users/harrysonghurst/Documents/Coursework/L48 Machine Learning and the Physical World/TrafficEmu/sumo_grid_simulation/simulation_input_files/veh_passenger.rou.xml\n",
      "Success.\n",
      "calling /usr/local/Cellar/sumo/1.8.0/share/sumo/bin/duarouter -n /Users/harrysonghurst/Documents/Coursework/L48 Machine Learning and the Physical World/TrafficEmu/sumo_grid_simulation/simulation_input_files/grid.net.xml -r /Users/harrysonghurst/Documents/Coursework/L48 Machine Learning and the Physical World/TrafficEmu/sumo_grid_simulation/simulation_input_files/veh_passenger.trips.xml --ignore-errors --begin 0.0 --end 3600.0 --no-step-log --additional-files /Users/harrysonghurst/Documents/Coursework/L48 Machine Learning and the Physical World/TrafficEmu/sumo_grid_simulation/simulation_input_files/veh.add.xml --no-warnings -o /Users/harrysonghurst/Documents/Coursework/L48 Machine Learning and the Physical World/TrafficEmu/sumo_grid_simulation/simulation_input_files/veh_passenger.trips.xml.tmp --write-trips\n",
      "Success.\n",
      "\n",
      " Retrying in 1 seconds\n"
     ]
    },
    {
     "name": "stderr",
     "output_type": "stream",
     "text": [
      " /Users/harrysonghurst/opt/anaconda3/envs/traffic/lib/python3.8/site-packages/paramz/transformations.py:111: RuntimeWarning:overflow encountered in expm1\n"
     ]
    },
    {
     "name": "stdout",
     "output_type": "stream",
     "text": [
      "Optimization restart 1/1, f = 922.7443798697834\n",
      "[[ 25.         25.         25.        153.0217599   1.         10.       ]]\n",
      "Success.\n",
      "\n",
      "calling /usr/local/Cellar/sumo/1.8.0/share/sumo/bin/duarouter -n /Users/harrysonghurst/Documents/Coursework/L48 Machine Learning and the Physical World/TrafficEmu/sumo_grid_simulation/simulation_input_files/grid.net.xml -r /Users/harrysonghurst/Documents/Coursework/L48 Machine Learning and the Physical World/TrafficEmu/sumo_grid_simulation/simulation_input_files/veh_passenger.trips.xml --ignore-errors --begin 0.0 --end 3600.0 --no-step-log --additional-files /Users/harrysonghurst/Documents/Coursework/L48 Machine Learning and the Physical World/TrafficEmu/sumo_grid_simulation/simulation_input_files/veh.add.xml --no-warnings -o /Users/harrysonghurst/Documents/Coursework/L48 Machine Learning and the Physical World/TrafficEmu/sumo_grid_simulation/simulation_input_files/veh_passenger.rou.xml\n",
      "Success.\n",
      "calling /usr/local/Cellar/sumo/1.8.0/share/sumo/bin/duarouter -n /Users/harrysonghurst/Documents/Coursework/L48 Machine Learning and the Physical World/TrafficEmu/sumo_grid_simulation/simulation_input_files/grid.net.xml -r /Users/harrysonghurst/Documents/Coursework/L48 Machine Learning and the Physical World/TrafficEmu/sumo_grid_simulation/simulation_input_files/veh_passenger.trips.xml --ignore-errors --begin 0.0 --end 3600.0 --no-step-log --additional-files /Users/harrysonghurst/Documents/Coursework/L48 Machine Learning and the Physical World/TrafficEmu/sumo_grid_simulation/simulation_input_files/veh.add.xml --no-warnings -o /Users/harrysonghurst/Documents/Coursework/L48 Machine Learning and the Physical World/TrafficEmu/sumo_grid_simulation/simulation_input_files/veh_passenger.trips.xml.tmp --write-trips\n",
      "Success.\n",
      "\n",
      " Retrying in 1 seconds\n"
     ]
    },
    {
     "name": "stderr",
     "output_type": "stream",
     "text": [
      " /Users/harrysonghurst/opt/anaconda3/envs/traffic/lib/python3.8/site-packages/paramz/transformations.py:111: RuntimeWarning:overflow encountered in expm1\n"
     ]
    },
    {
     "name": "stdout",
     "output_type": "stream",
     "text": [
      "Optimization restart 1/1, f = 929.023563843665\n",
      "[[25.         25.         25.         60.47069013  4.          0.2       ]]\n",
      "Success.\n",
      "\n",
      "calling /usr/local/Cellar/sumo/1.8.0/share/sumo/bin/duarouter -n /Users/harrysonghurst/Documents/Coursework/L48 Machine Learning and the Physical World/TrafficEmu/sumo_grid_simulation/simulation_input_files/grid.net.xml -r /Users/harrysonghurst/Documents/Coursework/L48 Machine Learning and the Physical World/TrafficEmu/sumo_grid_simulation/simulation_input_files/veh_passenger.trips.xml --ignore-errors --begin 0.0 --end 3600.0 --no-step-log --additional-files /Users/harrysonghurst/Documents/Coursework/L48 Machine Learning and the Physical World/TrafficEmu/sumo_grid_simulation/simulation_input_files/veh.add.xml --no-warnings -o /Users/harrysonghurst/Documents/Coursework/L48 Machine Learning and the Physical World/TrafficEmu/sumo_grid_simulation/simulation_input_files/veh_passenger.rou.xml\n",
      "Success.\n",
      "calling /usr/local/Cellar/sumo/1.8.0/share/sumo/bin/duarouter -n /Users/harrysonghurst/Documents/Coursework/L48 Machine Learning and the Physical World/TrafficEmu/sumo_grid_simulation/simulation_input_files/grid.net.xml -r /Users/harrysonghurst/Documents/Coursework/L48 Machine Learning and the Physical World/TrafficEmu/sumo_grid_simulation/simulation_input_files/veh_passenger.trips.xml --ignore-errors --begin 0.0 --end 3600.0 --no-step-log --additional-files /Users/harrysonghurst/Documents/Coursework/L48 Machine Learning and the Physical World/TrafficEmu/sumo_grid_simulation/simulation_input_files/veh.add.xml --no-warnings -o /Users/harrysonghurst/Documents/Coursework/L48 Machine Learning and the Physical World/TrafficEmu/sumo_grid_simulation/simulation_input_files/veh_passenger.trips.xml.tmp --write-trips\n",
      "Success.\n",
      "\n",
      " Retrying in 1 seconds\n"
     ]
    },
    {
     "name": "stderr",
     "output_type": "stream",
     "text": [
      " /Users/harrysonghurst/opt/anaconda3/envs/traffic/lib/python3.8/site-packages/paramz/transformations.py:111: RuntimeWarning:overflow encountered in expm1\n"
     ]
    },
    {
     "name": "stdout",
     "output_type": "stream",
     "text": [
      "Optimization restart 1/1, f = 935.3951309945151\n",
      "[[3.00000000e+00 1.00000000e+00 2.50000000e+01 2.23919252e+02\n",
      "  1.00000000e+00 2.00000000e-01]]\n",
      "Success.\n",
      "\n",
      "calling /usr/local/Cellar/sumo/1.8.0/share/sumo/bin/duarouter -n /Users/harrysonghurst/Documents/Coursework/L48 Machine Learning and the Physical World/TrafficEmu/sumo_grid_simulation/simulation_input_files/grid.net.xml -r /Users/harrysonghurst/Documents/Coursework/L48 Machine Learning and the Physical World/TrafficEmu/sumo_grid_simulation/simulation_input_files/veh_passenger.trips.xml --ignore-errors --begin 0.0 --end 3600.0 --no-step-log --additional-files /Users/harrysonghurst/Documents/Coursework/L48 Machine Learning and the Physical World/TrafficEmu/sumo_grid_simulation/simulation_input_files/veh.add.xml --no-warnings -o /Users/harrysonghurst/Documents/Coursework/L48 Machine Learning and the Physical World/TrafficEmu/sumo_grid_simulation/simulation_input_files/veh_passenger.rou.xml\n",
      "Success.\n",
      "calling /usr/local/Cellar/sumo/1.8.0/share/sumo/bin/duarouter -n /Users/harrysonghurst/Documents/Coursework/L48 Machine Learning and the Physical World/TrafficEmu/sumo_grid_simulation/simulation_input_files/grid.net.xml -r /Users/harrysonghurst/Documents/Coursework/L48 Machine Learning and the Physical World/TrafficEmu/sumo_grid_simulation/simulation_input_files/veh_passenger.trips.xml --ignore-errors --begin 0.0 --end 3600.0 --no-step-log --additional-files /Users/harrysonghurst/Documents/Coursework/L48 Machine Learning and the Physical World/TrafficEmu/sumo_grid_simulation/simulation_input_files/veh.add.xml --no-warnings -o /Users/harrysonghurst/Documents/Coursework/L48 Machine Learning and the Physical World/TrafficEmu/sumo_grid_simulation/simulation_input_files/veh_passenger.trips.xml.tmp --write-trips\n",
      "Success.\n",
      "\n",
      " Retrying in 1 seconds\n"
     ]
    },
    {
     "name": "stderr",
     "output_type": "stream",
     "text": [
      " /Users/harrysonghurst/opt/anaconda3/envs/traffic/lib/python3.8/site-packages/paramz/transformations.py:111: RuntimeWarning:overflow encountered in expm1\n"
     ]
    },
    {
     "name": "stdout",
     "output_type": "stream",
     "text": [
      "Optimization restart 1/1, f = 941.8006030842375\n",
      "[[ 3.          1.          1.         73.00870183  4.          0.2       ]]\n",
      "Success.\n",
      "\n",
      "calling /usr/local/Cellar/sumo/1.8.0/share/sumo/bin/duarouter -n /Users/harrysonghurst/Documents/Coursework/L48 Machine Learning and the Physical World/TrafficEmu/sumo_grid_simulation/simulation_input_files/grid.net.xml -r /Users/harrysonghurst/Documents/Coursework/L48 Machine Learning and the Physical World/TrafficEmu/sumo_grid_simulation/simulation_input_files/veh_passenger.trips.xml --ignore-errors --begin 0.0 --end 3600.0 --no-step-log --additional-files /Users/harrysonghurst/Documents/Coursework/L48 Machine Learning and the Physical World/TrafficEmu/sumo_grid_simulation/simulation_input_files/veh.add.xml --no-warnings -o /Users/harrysonghurst/Documents/Coursework/L48 Machine Learning and the Physical World/TrafficEmu/sumo_grid_simulation/simulation_input_files/veh_passenger.rou.xml\n",
      "Success.\n",
      "calling /usr/local/Cellar/sumo/1.8.0/share/sumo/bin/duarouter -n /Users/harrysonghurst/Documents/Coursework/L48 Machine Learning and the Physical World/TrafficEmu/sumo_grid_simulation/simulation_input_files/grid.net.xml -r /Users/harrysonghurst/Documents/Coursework/L48 Machine Learning and the Physical World/TrafficEmu/sumo_grid_simulation/simulation_input_files/veh_passenger.trips.xml --ignore-errors --begin 0.0 --end 3600.0 --no-step-log --additional-files /Users/harrysonghurst/Documents/Coursework/L48 Machine Learning and the Physical World/TrafficEmu/sumo_grid_simulation/simulation_input_files/veh.add.xml --no-warnings -o /Users/harrysonghurst/Documents/Coursework/L48 Machine Learning and the Physical World/TrafficEmu/sumo_grid_simulation/simulation_input_files/veh_passenger.trips.xml.tmp --write-trips\n",
      "Success.\n",
      "\n",
      " Retrying in 1 seconds\n"
     ]
    },
    {
     "name": "stderr",
     "output_type": "stream",
     "text": [
      " /Users/harrysonghurst/opt/anaconda3/envs/traffic/lib/python3.8/site-packages/paramz/transformations.py:111: RuntimeWarning:overflow encountered in expm1\n"
     ]
    },
    {
     "name": "stdout",
     "output_type": "stream",
     "text": [
      "Optimization restart 1/1, f = 948.2122433894117\n",
      "[[ 3.         25.         25.         99.10486416  1.         10.        ]]\n",
      "Success.\n",
      "\n",
      "calling /usr/local/Cellar/sumo/1.8.0/share/sumo/bin/duarouter -n /Users/harrysonghurst/Documents/Coursework/L48 Machine Learning and the Physical World/TrafficEmu/sumo_grid_simulation/simulation_input_files/grid.net.xml -r /Users/harrysonghurst/Documents/Coursework/L48 Machine Learning and the Physical World/TrafficEmu/sumo_grid_simulation/simulation_input_files/veh_passenger.trips.xml --ignore-errors --begin 0.0 --end 3600.0 --no-step-log --additional-files /Users/harrysonghurst/Documents/Coursework/L48 Machine Learning and the Physical World/TrafficEmu/sumo_grid_simulation/simulation_input_files/veh.add.xml --no-warnings -o /Users/harrysonghurst/Documents/Coursework/L48 Machine Learning and the Physical World/TrafficEmu/sumo_grid_simulation/simulation_input_files/veh_passenger.rou.xml\n",
      "Success.\n",
      "calling /usr/local/Cellar/sumo/1.8.0/share/sumo/bin/duarouter -n /Users/harrysonghurst/Documents/Coursework/L48 Machine Learning and the Physical World/TrafficEmu/sumo_grid_simulation/simulation_input_files/grid.net.xml -r /Users/harrysonghurst/Documents/Coursework/L48 Machine Learning and the Physical World/TrafficEmu/sumo_grid_simulation/simulation_input_files/veh_passenger.trips.xml --ignore-errors --begin 0.0 --end 3600.0 --no-step-log --additional-files /Users/harrysonghurst/Documents/Coursework/L48 Machine Learning and the Physical World/TrafficEmu/sumo_grid_simulation/simulation_input_files/veh.add.xml --no-warnings -o /Users/harrysonghurst/Documents/Coursework/L48 Machine Learning and the Physical World/TrafficEmu/sumo_grid_simulation/simulation_input_files/veh_passenger.trips.xml.tmp --write-trips\n",
      "Success.\n",
      "\n",
      " Retrying in 1 seconds\n"
     ]
    },
    {
     "name": "stderr",
     "output_type": "stream",
     "text": [
      " /Users/harrysonghurst/opt/anaconda3/envs/traffic/lib/python3.8/site-packages/paramz/transformations.py:111: RuntimeWarning:overflow encountered in expm1\n"
     ]
    },
    {
     "name": "stdout",
     "output_type": "stream",
     "text": [
      "Optimization restart 1/1, f = 954.641400423004\n",
      "[[25.         25.          1.         51.13723514  1.         10.        ]]\n",
      "Success.\n",
      "\n",
      "calling /usr/local/Cellar/sumo/1.8.0/share/sumo/bin/duarouter -n /Users/harrysonghurst/Documents/Coursework/L48 Machine Learning and the Physical World/TrafficEmu/sumo_grid_simulation/simulation_input_files/grid.net.xml -r /Users/harrysonghurst/Documents/Coursework/L48 Machine Learning and the Physical World/TrafficEmu/sumo_grid_simulation/simulation_input_files/veh_passenger.trips.xml --ignore-errors --begin 0.0 --end 3600.0 --no-step-log --additional-files /Users/harrysonghurst/Documents/Coursework/L48 Machine Learning and the Physical World/TrafficEmu/sumo_grid_simulation/simulation_input_files/veh.add.xml --no-warnings -o /Users/harrysonghurst/Documents/Coursework/L48 Machine Learning and the Physical World/TrafficEmu/sumo_grid_simulation/simulation_input_files/veh_passenger.rou.xml\n",
      "Success.\n",
      "calling /usr/local/Cellar/sumo/1.8.0/share/sumo/bin/duarouter -n /Users/harrysonghurst/Documents/Coursework/L48 Machine Learning and the Physical World/TrafficEmu/sumo_grid_simulation/simulation_input_files/grid.net.xml -r /Users/harrysonghurst/Documents/Coursework/L48 Machine Learning and the Physical World/TrafficEmu/sumo_grid_simulation/simulation_input_files/veh_passenger.trips.xml --ignore-errors --begin 0.0 --end 3600.0 --no-step-log --additional-files /Users/harrysonghurst/Documents/Coursework/L48 Machine Learning and the Physical World/TrafficEmu/sumo_grid_simulation/simulation_input_files/veh.add.xml --no-warnings -o /Users/harrysonghurst/Documents/Coursework/L48 Machine Learning and the Physical World/TrafficEmu/sumo_grid_simulation/simulation_input_files/veh_passenger.trips.xml.tmp --write-trips\n",
      "Success.\n",
      "\n",
      " Retrying in 1 seconds\n"
     ]
    },
    {
     "name": "stderr",
     "output_type": "stream",
     "text": [
      " /Users/harrysonghurst/opt/anaconda3/envs/traffic/lib/python3.8/site-packages/paramz/transformations.py:111: RuntimeWarning:overflow encountered in expm1\n"
     ]
    },
    {
     "name": "stdout",
     "output_type": "stream",
     "text": [
      "Optimization restart 1/1, f = 961.4431133183418\n",
      "[[3.00000000e+00 2.50000000e+01 1.00000000e+00 2.15872267e+02\n",
      "  1.00000000e+00 2.00000000e-01]]\n",
      "Success.\n",
      "\n",
      "calling /usr/local/Cellar/sumo/1.8.0/share/sumo/bin/duarouter -n /Users/harrysonghurst/Documents/Coursework/L48 Machine Learning and the Physical World/TrafficEmu/sumo_grid_simulation/simulation_input_files/grid.net.xml -r /Users/harrysonghurst/Documents/Coursework/L48 Machine Learning and the Physical World/TrafficEmu/sumo_grid_simulation/simulation_input_files/veh_passenger.trips.xml --ignore-errors --begin 0.0 --end 3600.0 --no-step-log --additional-files /Users/harrysonghurst/Documents/Coursework/L48 Machine Learning and the Physical World/TrafficEmu/sumo_grid_simulation/simulation_input_files/veh.add.xml --no-warnings -o /Users/harrysonghurst/Documents/Coursework/L48 Machine Learning and the Physical World/TrafficEmu/sumo_grid_simulation/simulation_input_files/veh_passenger.rou.xml\n",
      "Success.\n",
      "calling /usr/local/Cellar/sumo/1.8.0/share/sumo/bin/duarouter -n /Users/harrysonghurst/Documents/Coursework/L48 Machine Learning and the Physical World/TrafficEmu/sumo_grid_simulation/simulation_input_files/grid.net.xml -r /Users/harrysonghurst/Documents/Coursework/L48 Machine Learning and the Physical World/TrafficEmu/sumo_grid_simulation/simulation_input_files/veh_passenger.trips.xml --ignore-errors --begin 0.0 --end 3600.0 --no-step-log --additional-files /Users/harrysonghurst/Documents/Coursework/L48 Machine Learning and the Physical World/TrafficEmu/sumo_grid_simulation/simulation_input_files/veh.add.xml --no-warnings -o /Users/harrysonghurst/Documents/Coursework/L48 Machine Learning and the Physical World/TrafficEmu/sumo_grid_simulation/simulation_input_files/veh_passenger.trips.xml.tmp --write-trips\n",
      "Success.\n",
      "\n",
      " Retrying in 1 seconds\n"
     ]
    },
    {
     "name": "stderr",
     "output_type": "stream",
     "text": [
      " /Users/harrysonghurst/opt/anaconda3/envs/traffic/lib/python3.8/site-packages/paramz/transformations.py:111: RuntimeWarning:overflow encountered in expm1\n"
     ]
    },
    {
     "name": "stdout",
     "output_type": "stream",
     "text": [
      "Optimization restart 1/1, f = 967.8010293660232\n",
      "[[ 25.          25.           1.         197.17600801   1.\n",
      "   10.        ]]\n",
      "Success.\n",
      "\n",
      "calling /usr/local/Cellar/sumo/1.8.0/share/sumo/bin/duarouter -n /Users/harrysonghurst/Documents/Coursework/L48 Machine Learning and the Physical World/TrafficEmu/sumo_grid_simulation/simulation_input_files/grid.net.xml -r /Users/harrysonghurst/Documents/Coursework/L48 Machine Learning and the Physical World/TrafficEmu/sumo_grid_simulation/simulation_input_files/veh_passenger.trips.xml --ignore-errors --begin 0.0 --end 3600.0 --no-step-log --additional-files /Users/harrysonghurst/Documents/Coursework/L48 Machine Learning and the Physical World/TrafficEmu/sumo_grid_simulation/simulation_input_files/veh.add.xml --no-warnings -o /Users/harrysonghurst/Documents/Coursework/L48 Machine Learning and the Physical World/TrafficEmu/sumo_grid_simulation/simulation_input_files/veh_passenger.rou.xml\n",
      "Success.\n",
      "calling /usr/local/Cellar/sumo/1.8.0/share/sumo/bin/duarouter -n /Users/harrysonghurst/Documents/Coursework/L48 Machine Learning and the Physical World/TrafficEmu/sumo_grid_simulation/simulation_input_files/grid.net.xml -r /Users/harrysonghurst/Documents/Coursework/L48 Machine Learning and the Physical World/TrafficEmu/sumo_grid_simulation/simulation_input_files/veh_passenger.trips.xml --ignore-errors --begin 0.0 --end 3600.0 --no-step-log --additional-files /Users/harrysonghurst/Documents/Coursework/L48 Machine Learning and the Physical World/TrafficEmu/sumo_grid_simulation/simulation_input_files/veh.add.xml --no-warnings -o /Users/harrysonghurst/Documents/Coursework/L48 Machine Learning and the Physical World/TrafficEmu/sumo_grid_simulation/simulation_input_files/veh_passenger.trips.xml.tmp --write-trips\n",
      "Success.\n",
      "\n",
      " Retrying in 1 seconds\n"
     ]
    },
    {
     "name": "stderr",
     "output_type": "stream",
     "text": [
      " /Users/harrysonghurst/opt/anaconda3/envs/traffic/lib/python3.8/site-packages/paramz/transformations.py:111: RuntimeWarning:overflow encountered in expm1\n"
     ]
    },
    {
     "name": "stdout",
     "output_type": "stream",
     "text": [
      "Optimization restart 1/1, f = 979.6240879135032\n",
      "[[25.   1.   1.   2.   1.   0.2]]\n",
      "Success.\n",
      "\n",
      "Warning: Intersecting left turns at junction 'n1' from lane 'o100ton1_0' and lane 'n2ton1_0' (increase junction radius to avoid this).\n",
      "Warning: Intersecting left turns at junction 'n10' from lane 'o4ton10_0' and lane 'n11ton10_0' (increase junction radius to avoid this).\n",
      "Warning: Intersecting left turns at junction 'n10' from lane 'n5ton10_0' and lane 'n17ton10_0' (increase junction radius to avoid this).\n",
      "Warning: Intersecting left turns at junction 'n100' from lane 'n81ton100_0' and lane 'n121ton100_0' (increase junction radius to avoid this).\n",
      "Warning: Intersecting left turns at junction 'n100' from lane 'o91ton100_0' and lane 'n99ton100_0' (increase junction radius to avoid this).\n",
      "Warning: 188 total messages of type: Intersecting left turns at junction '%' from lane '%' and lane '%' (increase junction radius to avoid this).\n",
      "\n",
      "calling /usr/local/Cellar/sumo/1.8.0/share/sumo/bin/duarouter -n /Users/harrysonghurst/Documents/Coursework/L48 Machine Learning and the Physical World/TrafficEmu/sumo_grid_simulation/simulation_input_files/grid.net.xml -r /Users/harrysonghurst/Documents/Coursework/L48 Machine Learning and the Physical World/TrafficEmu/sumo_grid_simulation/simulation_input_files/veh_passenger.trips.xml --ignore-errors --begin 0.0 --end 3600.0 --no-step-log --additional-files /Users/harrysonghurst/Documents/Coursework/L48 Machine Learning and the Physical World/TrafficEmu/sumo_grid_simulation/simulation_input_files/veh.add.xml --no-warnings -o /Users/harrysonghurst/Documents/Coursework/L48 Machine Learning and the Physical World/TrafficEmu/sumo_grid_simulation/simulation_input_files/veh_passenger.rou.xml\n",
      "Success.\n",
      "calling /usr/local/Cellar/sumo/1.8.0/share/sumo/bin/duarouter -n /Users/harrysonghurst/Documents/Coursework/L48 Machine Learning and the Physical World/TrafficEmu/sumo_grid_simulation/simulation_input_files/grid.net.xml -r /Users/harrysonghurst/Documents/Coursework/L48 Machine Learning and the Physical World/TrafficEmu/sumo_grid_simulation/simulation_input_files/veh_passenger.trips.xml --ignore-errors --begin 0.0 --end 3600.0 --no-step-log --additional-files /Users/harrysonghurst/Documents/Coursework/L48 Machine Learning and the Physical World/TrafficEmu/sumo_grid_simulation/simulation_input_files/veh.add.xml --no-warnings -o /Users/harrysonghurst/Documents/Coursework/L48 Machine Learning and the Physical World/TrafficEmu/sumo_grid_simulation/simulation_input_files/veh_passenger.trips.xml.tmp --write-trips\n",
      "Success.\n",
      "\n",
      " Retrying in 1 seconds\n"
     ]
    },
    {
     "name": "stderr",
     "output_type": "stream",
     "text": [
      " /Users/harrysonghurst/opt/anaconda3/envs/traffic/lib/python3.8/site-packages/paramz/transformations.py:111: RuntimeWarning:overflow encountered in expm1\n"
     ]
    },
    {
     "name": "stdout",
     "output_type": "stream",
     "text": [
      "Optimization restart 1/1, f = 985.7805812546738\n",
      "[[2.5e+01 1.0e+00 1.0e+00 2.5e+02 1.0e+00 2.0e-01]]\n",
      "Success.\n",
      "\n",
      "calling /usr/local/Cellar/sumo/1.8.0/share/sumo/bin/duarouter -n /Users/harrysonghurst/Documents/Coursework/L48 Machine Learning and the Physical World/TrafficEmu/sumo_grid_simulation/simulation_input_files/grid.net.xml -r /Users/harrysonghurst/Documents/Coursework/L48 Machine Learning and the Physical World/TrafficEmu/sumo_grid_simulation/simulation_input_files/veh_passenger.trips.xml --ignore-errors --begin 0.0 --end 3600.0 --no-step-log --additional-files /Users/harrysonghurst/Documents/Coursework/L48 Machine Learning and the Physical World/TrafficEmu/sumo_grid_simulation/simulation_input_files/veh.add.xml --no-warnings -o /Users/harrysonghurst/Documents/Coursework/L48 Machine Learning and the Physical World/TrafficEmu/sumo_grid_simulation/simulation_input_files/veh_passenger.rou.xml\n",
      "Success.\n",
      "calling /usr/local/Cellar/sumo/1.8.0/share/sumo/bin/duarouter -n /Users/harrysonghurst/Documents/Coursework/L48 Machine Learning and the Physical World/TrafficEmu/sumo_grid_simulation/simulation_input_files/grid.net.xml -r /Users/harrysonghurst/Documents/Coursework/L48 Machine Learning and the Physical World/TrafficEmu/sumo_grid_simulation/simulation_input_files/veh_passenger.trips.xml --ignore-errors --begin 0.0 --end 3600.0 --no-step-log --additional-files /Users/harrysonghurst/Documents/Coursework/L48 Machine Learning and the Physical World/TrafficEmu/sumo_grid_simulation/simulation_input_files/veh.add.xml --no-warnings -o /Users/harrysonghurst/Documents/Coursework/L48 Machine Learning and the Physical World/TrafficEmu/sumo_grid_simulation/simulation_input_files/veh_passenger.trips.xml.tmp --write-trips\n",
      "Success.\n",
      "\n",
      " Retrying in 1 seconds\n"
     ]
    },
    {
     "name": "stderr",
     "output_type": "stream",
     "text": [
      " /Users/harrysonghurst/opt/anaconda3/envs/traffic/lib/python3.8/site-packages/paramz/transformations.py:111: RuntimeWarning:overflow encountered in expm1\n"
     ]
    },
    {
     "name": "stdout",
     "output_type": "stream",
     "text": [
      "Optimization restart 1/1, f = 993.1309005949979\n",
      "[[ 25.           1.           1.         207.16047638   1.\n",
      "   10.        ]]\n",
      "Success.\n",
      "\n",
      "calling /usr/local/Cellar/sumo/1.8.0/share/sumo/bin/duarouter -n /Users/harrysonghurst/Documents/Coursework/L48 Machine Learning and the Physical World/TrafficEmu/sumo_grid_simulation/simulation_input_files/grid.net.xml -r /Users/harrysonghurst/Documents/Coursework/L48 Machine Learning and the Physical World/TrafficEmu/sumo_grid_simulation/simulation_input_files/veh_passenger.trips.xml --ignore-errors --begin 0.0 --end 3600.0 --no-step-log --additional-files /Users/harrysonghurst/Documents/Coursework/L48 Machine Learning and the Physical World/TrafficEmu/sumo_grid_simulation/simulation_input_files/veh.add.xml --no-warnings -o /Users/harrysonghurst/Documents/Coursework/L48 Machine Learning and the Physical World/TrafficEmu/sumo_grid_simulation/simulation_input_files/veh_passenger.rou.xml\n",
      "Success.\n",
      "calling /usr/local/Cellar/sumo/1.8.0/share/sumo/bin/duarouter -n /Users/harrysonghurst/Documents/Coursework/L48 Machine Learning and the Physical World/TrafficEmu/sumo_grid_simulation/simulation_input_files/grid.net.xml -r /Users/harrysonghurst/Documents/Coursework/L48 Machine Learning and the Physical World/TrafficEmu/sumo_grid_simulation/simulation_input_files/veh_passenger.trips.xml --ignore-errors --begin 0.0 --end 3600.0 --no-step-log --additional-files /Users/harrysonghurst/Documents/Coursework/L48 Machine Learning and the Physical World/TrafficEmu/sumo_grid_simulation/simulation_input_files/veh.add.xml --no-warnings -o /Users/harrysonghurst/Documents/Coursework/L48 Machine Learning and the Physical World/TrafficEmu/sumo_grid_simulation/simulation_input_files/veh_passenger.trips.xml.tmp --write-trips\n",
      "Success.\n",
      "\n",
      " Retrying in 1 seconds\n"
     ]
    },
    {
     "name": "stderr",
     "output_type": "stream",
     "text": [
      " /Users/harrysonghurst/opt/anaconda3/envs/traffic/lib/python3.8/site-packages/paramz/transformations.py:111: RuntimeWarning:overflow encountered in expm1\n"
     ]
    },
    {
     "name": "stdout",
     "output_type": "stream",
     "text": [
      "Optimization restart 1/1, f = 999.4846643546382\n",
      "[[25.  25.  25.   2.   1.   0.2]]\n",
      "Success.\n",
      "\n",
      "Warning: Intersecting left turns at junction 'n1' from lane 'o100ton1_0' and lane 'n2ton1_0' (increase junction radius to avoid this).\n",
      "Warning: Intersecting left turns at junction 'n10' from lane 'o4ton10_0' and lane 'n11ton10_0' (increase junction radius to avoid this).\n",
      "Warning: Intersecting left turns at junction 'n10' from lane 'n5ton10_0' and lane 'n17ton10_0' (increase junction radius to avoid this).\n",
      "Warning: Intersecting left turns at junction 'n100' from lane 'n81ton100_0' and lane 'n121ton100_0' (increase junction radius to avoid this).\n",
      "Warning: Intersecting left turns at junction 'n100' from lane 'o91ton100_0' and lane 'n99ton100_0' (increase junction radius to avoid this).\n",
      "Warning: 188 total messages of type: Intersecting left turns at junction '%' from lane '%' and lane '%' (increase junction radius to avoid this).\n",
      "\n",
      "calling /usr/local/Cellar/sumo/1.8.0/share/sumo/bin/duarouter -n /Users/harrysonghurst/Documents/Coursework/L48 Machine Learning and the Physical World/TrafficEmu/sumo_grid_simulation/simulation_input_files/grid.net.xml -r /Users/harrysonghurst/Documents/Coursework/L48 Machine Learning and the Physical World/TrafficEmu/sumo_grid_simulation/simulation_input_files/veh_passenger.trips.xml --ignore-errors --begin 0.0 --end 3600.0 --no-step-log --additional-files /Users/harrysonghurst/Documents/Coursework/L48 Machine Learning and the Physical World/TrafficEmu/sumo_grid_simulation/simulation_input_files/veh.add.xml --no-warnings -o /Users/harrysonghurst/Documents/Coursework/L48 Machine Learning and the Physical World/TrafficEmu/sumo_grid_simulation/simulation_input_files/veh_passenger.rou.xml\n",
      "Success.\n",
      "calling /usr/local/Cellar/sumo/1.8.0/share/sumo/bin/duarouter -n /Users/harrysonghurst/Documents/Coursework/L48 Machine Learning and the Physical World/TrafficEmu/sumo_grid_simulation/simulation_input_files/grid.net.xml -r /Users/harrysonghurst/Documents/Coursework/L48 Machine Learning and the Physical World/TrafficEmu/sumo_grid_simulation/simulation_input_files/veh_passenger.trips.xml --ignore-errors --begin 0.0 --end 3600.0 --no-step-log --additional-files /Users/harrysonghurst/Documents/Coursework/L48 Machine Learning and the Physical World/TrafficEmu/sumo_grid_simulation/simulation_input_files/veh.add.xml --no-warnings -o /Users/harrysonghurst/Documents/Coursework/L48 Machine Learning and the Physical World/TrafficEmu/sumo_grid_simulation/simulation_input_files/veh_passenger.trips.xml.tmp --write-trips\n",
      "Success.\n",
      "\n",
      " Retrying in 1 seconds\n"
     ]
    },
    {
     "name": "stderr",
     "output_type": "stream",
     "text": [
      " /Users/harrysonghurst/opt/anaconda3/envs/traffic/lib/python3.8/site-packages/paramz/transformations.py:111: RuntimeWarning:overflow encountered in expm1\n"
     ]
    },
    {
     "name": "stdout",
     "output_type": "stream",
     "text": [
      "Optimization restart 1/1, f = 1005.6622441100674\n",
      "[[25.          1.          1.         30.28752902  1.         10.        ]]\n",
      "Success.\n",
      "\n",
      "calling /usr/local/Cellar/sumo/1.8.0/share/sumo/bin/duarouter -n /Users/harrysonghurst/Documents/Coursework/L48 Machine Learning and the Physical World/TrafficEmu/sumo_grid_simulation/simulation_input_files/grid.net.xml -r /Users/harrysonghurst/Documents/Coursework/L48 Machine Learning and the Physical World/TrafficEmu/sumo_grid_simulation/simulation_input_files/veh_passenger.trips.xml --ignore-errors --begin 0.0 --end 3600.0 --no-step-log --additional-files /Users/harrysonghurst/Documents/Coursework/L48 Machine Learning and the Physical World/TrafficEmu/sumo_grid_simulation/simulation_input_files/veh.add.xml --no-warnings -o /Users/harrysonghurst/Documents/Coursework/L48 Machine Learning and the Physical World/TrafficEmu/sumo_grid_simulation/simulation_input_files/veh_passenger.rou.xml\n",
      "Success.\n",
      "calling /usr/local/Cellar/sumo/1.8.0/share/sumo/bin/duarouter -n /Users/harrysonghurst/Documents/Coursework/L48 Machine Learning and the Physical World/TrafficEmu/sumo_grid_simulation/simulation_input_files/grid.net.xml -r /Users/harrysonghurst/Documents/Coursework/L48 Machine Learning and the Physical World/TrafficEmu/sumo_grid_simulation/simulation_input_files/veh_passenger.trips.xml --ignore-errors --begin 0.0 --end 3600.0 --no-step-log --additional-files /Users/harrysonghurst/Documents/Coursework/L48 Machine Learning and the Physical World/TrafficEmu/sumo_grid_simulation/simulation_input_files/veh.add.xml --no-warnings -o /Users/harrysonghurst/Documents/Coursework/L48 Machine Learning and the Physical World/TrafficEmu/sumo_grid_simulation/simulation_input_files/veh_passenger.trips.xml.tmp --write-trips\n",
      "Success.\n",
      "\n",
      " Retrying in 1 seconds\n"
     ]
    },
    {
     "name": "stderr",
     "output_type": "stream",
     "text": [
      " /Users/harrysonghurst/opt/anaconda3/envs/traffic/lib/python3.8/site-packages/paramz/transformations.py:111: RuntimeWarning:overflow encountered in expm1\n"
     ]
    },
    {
     "name": "stdout",
     "output_type": "stream",
     "text": [
      "Optimization restart 1/1, f = 1012.2171346507282\n",
      "[[ 25.          1.         25.        141.3479367   4.         10.       ]]\n",
      "Success.\n",
      "\n",
      "calling /usr/local/Cellar/sumo/1.8.0/share/sumo/bin/duarouter -n /Users/harrysonghurst/Documents/Coursework/L48 Machine Learning and the Physical World/TrafficEmu/sumo_grid_simulation/simulation_input_files/grid.net.xml -r /Users/harrysonghurst/Documents/Coursework/L48 Machine Learning and the Physical World/TrafficEmu/sumo_grid_simulation/simulation_input_files/veh_passenger.trips.xml --ignore-errors --begin 0.0 --end 3600.0 --no-step-log --additional-files /Users/harrysonghurst/Documents/Coursework/L48 Machine Learning and the Physical World/TrafficEmu/sumo_grid_simulation/simulation_input_files/veh.add.xml --no-warnings -o /Users/harrysonghurst/Documents/Coursework/L48 Machine Learning and the Physical World/TrafficEmu/sumo_grid_simulation/simulation_input_files/veh_passenger.rou.xml\n",
      "Success.\n",
      "calling /usr/local/Cellar/sumo/1.8.0/share/sumo/bin/duarouter -n /Users/harrysonghurst/Documents/Coursework/L48 Machine Learning and the Physical World/TrafficEmu/sumo_grid_simulation/simulation_input_files/grid.net.xml -r /Users/harrysonghurst/Documents/Coursework/L48 Machine Learning and the Physical World/TrafficEmu/sumo_grid_simulation/simulation_input_files/veh_passenger.trips.xml --ignore-errors --begin 0.0 --end 3600.0 --no-step-log --additional-files /Users/harrysonghurst/Documents/Coursework/L48 Machine Learning and the Physical World/TrafficEmu/sumo_grid_simulation/simulation_input_files/veh.add.xml --no-warnings -o /Users/harrysonghurst/Documents/Coursework/L48 Machine Learning and the Physical World/TrafficEmu/sumo_grid_simulation/simulation_input_files/veh_passenger.trips.xml.tmp --write-trips\n",
      "Success.\n",
      "\n",
      " Retrying in 1 seconds\n"
     ]
    },
    {
     "name": "stderr",
     "output_type": "stream",
     "text": [
      " /Users/harrysonghurst/opt/anaconda3/envs/traffic/lib/python3.8/site-packages/paramz/transformations.py:111: RuntimeWarning:overflow encountered in expm1\n"
     ]
    },
    {
     "name": "stdout",
     "output_type": "stream",
     "text": [
      "Optimization restart 1/1, f = 1021.6922630582309\n",
      "[[ 25.           1.           1.         167.87635173   1.\n",
      "    0.2       ]]\n",
      "Success.\n",
      "\n",
      "calling /usr/local/Cellar/sumo/1.8.0/share/sumo/bin/duarouter -n /Users/harrysonghurst/Documents/Coursework/L48 Machine Learning and the Physical World/TrafficEmu/sumo_grid_simulation/simulation_input_files/grid.net.xml -r /Users/harrysonghurst/Documents/Coursework/L48 Machine Learning and the Physical World/TrafficEmu/sumo_grid_simulation/simulation_input_files/veh_passenger.trips.xml --ignore-errors --begin 0.0 --end 3600.0 --no-step-log --additional-files /Users/harrysonghurst/Documents/Coursework/L48 Machine Learning and the Physical World/TrafficEmu/sumo_grid_simulation/simulation_input_files/veh.add.xml --no-warnings -o /Users/harrysonghurst/Documents/Coursework/L48 Machine Learning and the Physical World/TrafficEmu/sumo_grid_simulation/simulation_input_files/veh_passenger.rou.xml\n",
      "Success.\n",
      "calling /usr/local/Cellar/sumo/1.8.0/share/sumo/bin/duarouter -n /Users/harrysonghurst/Documents/Coursework/L48 Machine Learning and the Physical World/TrafficEmu/sumo_grid_simulation/simulation_input_files/grid.net.xml -r /Users/harrysonghurst/Documents/Coursework/L48 Machine Learning and the Physical World/TrafficEmu/sumo_grid_simulation/simulation_input_files/veh_passenger.trips.xml --ignore-errors --begin 0.0 --end 3600.0 --no-step-log --additional-files /Users/harrysonghurst/Documents/Coursework/L48 Machine Learning and the Physical World/TrafficEmu/sumo_grid_simulation/simulation_input_files/veh.add.xml --no-warnings -o /Users/harrysonghurst/Documents/Coursework/L48 Machine Learning and the Physical World/TrafficEmu/sumo_grid_simulation/simulation_input_files/veh_passenger.trips.xml.tmp --write-trips\n",
      "Success.\n",
      "\n",
      " Retrying in 1 seconds\n"
     ]
    },
    {
     "name": "stderr",
     "output_type": "stream",
     "text": [
      " /Users/harrysonghurst/opt/anaconda3/envs/traffic/lib/python3.8/site-packages/paramz/transformations.py:111: RuntimeWarning:overflow encountered in expm1\n"
     ]
    },
    {
     "name": "stdout",
     "output_type": "stream",
     "text": [
      "Optimization restart 1/1, f = 1028.0265229093613\n",
      "[[25.         25.         25.         95.89710659  4.         10.        ]]\n",
      "Success.\n",
      "\n",
      "calling /usr/local/Cellar/sumo/1.8.0/share/sumo/bin/duarouter -n /Users/harrysonghurst/Documents/Coursework/L48 Machine Learning and the Physical World/TrafficEmu/sumo_grid_simulation/simulation_input_files/grid.net.xml -r /Users/harrysonghurst/Documents/Coursework/L48 Machine Learning and the Physical World/TrafficEmu/sumo_grid_simulation/simulation_input_files/veh_passenger.trips.xml --ignore-errors --begin 0.0 --end 3600.0 --no-step-log --additional-files /Users/harrysonghurst/Documents/Coursework/L48 Machine Learning and the Physical World/TrafficEmu/sumo_grid_simulation/simulation_input_files/veh.add.xml --no-warnings -o /Users/harrysonghurst/Documents/Coursework/L48 Machine Learning and the Physical World/TrafficEmu/sumo_grid_simulation/simulation_input_files/veh_passenger.rou.xml\n",
      "Success.\n",
      "calling /usr/local/Cellar/sumo/1.8.0/share/sumo/bin/duarouter -n /Users/harrysonghurst/Documents/Coursework/L48 Machine Learning and the Physical World/TrafficEmu/sumo_grid_simulation/simulation_input_files/grid.net.xml -r /Users/harrysonghurst/Documents/Coursework/L48 Machine Learning and the Physical World/TrafficEmu/sumo_grid_simulation/simulation_input_files/veh_passenger.trips.xml --ignore-errors --begin 0.0 --end 3600.0 --no-step-log --additional-files /Users/harrysonghurst/Documents/Coursework/L48 Machine Learning and the Physical World/TrafficEmu/sumo_grid_simulation/simulation_input_files/veh.add.xml --no-warnings -o /Users/harrysonghurst/Documents/Coursework/L48 Machine Learning and the Physical World/TrafficEmu/sumo_grid_simulation/simulation_input_files/veh_passenger.trips.xml.tmp --write-trips\n",
      "Success.\n",
      "\n",
      " Retrying in 1 seconds\n"
     ]
    },
    {
     "name": "stderr",
     "output_type": "stream",
     "text": [
      " /Users/harrysonghurst/opt/anaconda3/envs/traffic/lib/python3.8/site-packages/paramz/transformations.py:111: RuntimeWarning:overflow encountered in expm1\n"
     ]
    },
    {
     "name": "stdout",
     "output_type": "stream",
     "text": [
      "Optimization restart 1/1, f = 1034.268433703826\n",
      "[[ 3.          1.         25.         93.14608845  1.          0.2       ]]\n",
      "Success.\n",
      "\n",
      "calling /usr/local/Cellar/sumo/1.8.0/share/sumo/bin/duarouter -n /Users/harrysonghurst/Documents/Coursework/L48 Machine Learning and the Physical World/TrafficEmu/sumo_grid_simulation/simulation_input_files/grid.net.xml -r /Users/harrysonghurst/Documents/Coursework/L48 Machine Learning and the Physical World/TrafficEmu/sumo_grid_simulation/simulation_input_files/veh_passenger.trips.xml --ignore-errors --begin 0.0 --end 3600.0 --no-step-log --additional-files /Users/harrysonghurst/Documents/Coursework/L48 Machine Learning and the Physical World/TrafficEmu/sumo_grid_simulation/simulation_input_files/veh.add.xml --no-warnings -o /Users/harrysonghurst/Documents/Coursework/L48 Machine Learning and the Physical World/TrafficEmu/sumo_grid_simulation/simulation_input_files/veh_passenger.rou.xml\n",
      "Success.\n",
      "calling /usr/local/Cellar/sumo/1.8.0/share/sumo/bin/duarouter -n /Users/harrysonghurst/Documents/Coursework/L48 Machine Learning and the Physical World/TrafficEmu/sumo_grid_simulation/simulation_input_files/grid.net.xml -r /Users/harrysonghurst/Documents/Coursework/L48 Machine Learning and the Physical World/TrafficEmu/sumo_grid_simulation/simulation_input_files/veh_passenger.trips.xml --ignore-errors --begin 0.0 --end 3600.0 --no-step-log --additional-files /Users/harrysonghurst/Documents/Coursework/L48 Machine Learning and the Physical World/TrafficEmu/sumo_grid_simulation/simulation_input_files/veh.add.xml --no-warnings -o /Users/harrysonghurst/Documents/Coursework/L48 Machine Learning and the Physical World/TrafficEmu/sumo_grid_simulation/simulation_input_files/veh_passenger.trips.xml.tmp --write-trips\n",
      "Success.\n",
      "\n",
      " Retrying in 1 seconds\n"
     ]
    },
    {
     "name": "stderr",
     "output_type": "stream",
     "text": [
      " /Users/harrysonghurst/opt/anaconda3/envs/traffic/lib/python3.8/site-packages/paramz/transformations.py:111: RuntimeWarning:overflow encountered in expm1\n"
     ]
    },
    {
     "name": "stdout",
     "output_type": "stream",
     "text": [
      "Optimization restart 1/1, f = 1040.6526152185586\n",
      "[[ 25.           1.           1.         116.04137231   4.\n",
      "   10.        ]]\n",
      "Success.\n",
      "\n",
      "calling /usr/local/Cellar/sumo/1.8.0/share/sumo/bin/duarouter -n /Users/harrysonghurst/Documents/Coursework/L48 Machine Learning and the Physical World/TrafficEmu/sumo_grid_simulation/simulation_input_files/grid.net.xml -r /Users/harrysonghurst/Documents/Coursework/L48 Machine Learning and the Physical World/TrafficEmu/sumo_grid_simulation/simulation_input_files/veh_passenger.trips.xml --ignore-errors --begin 0.0 --end 3600.0 --no-step-log --additional-files /Users/harrysonghurst/Documents/Coursework/L48 Machine Learning and the Physical World/TrafficEmu/sumo_grid_simulation/simulation_input_files/veh.add.xml --no-warnings -o /Users/harrysonghurst/Documents/Coursework/L48 Machine Learning and the Physical World/TrafficEmu/sumo_grid_simulation/simulation_input_files/veh_passenger.rou.xml\n",
      "Success.\n",
      "calling /usr/local/Cellar/sumo/1.8.0/share/sumo/bin/duarouter -n /Users/harrysonghurst/Documents/Coursework/L48 Machine Learning and the Physical World/TrafficEmu/sumo_grid_simulation/simulation_input_files/grid.net.xml -r /Users/harrysonghurst/Documents/Coursework/L48 Machine Learning and the Physical World/TrafficEmu/sumo_grid_simulation/simulation_input_files/veh_passenger.trips.xml --ignore-errors --begin 0.0 --end 3600.0 --no-step-log --additional-files /Users/harrysonghurst/Documents/Coursework/L48 Machine Learning and the Physical World/TrafficEmu/sumo_grid_simulation/simulation_input_files/veh.add.xml --no-warnings -o /Users/harrysonghurst/Documents/Coursework/L48 Machine Learning and the Physical World/TrafficEmu/sumo_grid_simulation/simulation_input_files/veh_passenger.trips.xml.tmp --write-trips\n",
      "Success.\n",
      "\n",
      " Retrying in 1 seconds\n"
     ]
    },
    {
     "name": "stderr",
     "output_type": "stream",
     "text": [
      " /Users/harrysonghurst/opt/anaconda3/envs/traffic/lib/python3.8/site-packages/paramz/transformations.py:111: RuntimeWarning:overflow encountered in expm1\n"
     ]
    },
    {
     "name": "stdout",
     "output_type": "stream",
     "text": [
      "Optimization restart 1/1, f = 1049.2257095275488\n",
      "[[ 25.          25.          25.         171.67735166   4.\n",
      "    0.2       ]]\n",
      "Success.\n",
      "\n",
      "calling /usr/local/Cellar/sumo/1.8.0/share/sumo/bin/duarouter -n /Users/harrysonghurst/Documents/Coursework/L48 Machine Learning and the Physical World/TrafficEmu/sumo_grid_simulation/simulation_input_files/grid.net.xml -r /Users/harrysonghurst/Documents/Coursework/L48 Machine Learning and the Physical World/TrafficEmu/sumo_grid_simulation/simulation_input_files/veh_passenger.trips.xml --ignore-errors --begin 0.0 --end 3600.0 --no-step-log --additional-files /Users/harrysonghurst/Documents/Coursework/L48 Machine Learning and the Physical World/TrafficEmu/sumo_grid_simulation/simulation_input_files/veh.add.xml --no-warnings -o /Users/harrysonghurst/Documents/Coursework/L48 Machine Learning and the Physical World/TrafficEmu/sumo_grid_simulation/simulation_input_files/veh_passenger.rou.xml\n",
      "Success.\n",
      "calling /usr/local/Cellar/sumo/1.8.0/share/sumo/bin/duarouter -n /Users/harrysonghurst/Documents/Coursework/L48 Machine Learning and the Physical World/TrafficEmu/sumo_grid_simulation/simulation_input_files/grid.net.xml -r /Users/harrysonghurst/Documents/Coursework/L48 Machine Learning and the Physical World/TrafficEmu/sumo_grid_simulation/simulation_input_files/veh_passenger.trips.xml --ignore-errors --begin 0.0 --end 3600.0 --no-step-log --additional-files /Users/harrysonghurst/Documents/Coursework/L48 Machine Learning and the Physical World/TrafficEmu/sumo_grid_simulation/simulation_input_files/veh.add.xml --no-warnings -o /Users/harrysonghurst/Documents/Coursework/L48 Machine Learning and the Physical World/TrafficEmu/sumo_grid_simulation/simulation_input_files/veh_passenger.trips.xml.tmp --write-trips\n",
      "Success.\n",
      "\n",
      " Retrying in 1 seconds\n"
     ]
    },
    {
     "name": "stderr",
     "output_type": "stream",
     "text": [
      " /Users/harrysonghurst/opt/anaconda3/envs/traffic/lib/python3.8/site-packages/paramz/transformations.py:111: RuntimeWarning:overflow encountered in expm1\n"
     ]
    },
    {
     "name": "stdout",
     "output_type": "stream",
     "text": [
      "Optimization restart 1/1, f = 1057.2580366801185\n",
      "[[ 3.         25.         25.         70.81204135  1.         10.        ]]\n",
      "Success.\n",
      "\n",
      "calling /usr/local/Cellar/sumo/1.8.0/share/sumo/bin/duarouter -n /Users/harrysonghurst/Documents/Coursework/L48 Machine Learning and the Physical World/TrafficEmu/sumo_grid_simulation/simulation_input_files/grid.net.xml -r /Users/harrysonghurst/Documents/Coursework/L48 Machine Learning and the Physical World/TrafficEmu/sumo_grid_simulation/simulation_input_files/veh_passenger.trips.xml --ignore-errors --begin 0.0 --end 3600.0 --no-step-log --additional-files /Users/harrysonghurst/Documents/Coursework/L48 Machine Learning and the Physical World/TrafficEmu/sumo_grid_simulation/simulation_input_files/veh.add.xml --no-warnings -o /Users/harrysonghurst/Documents/Coursework/L48 Machine Learning and the Physical World/TrafficEmu/sumo_grid_simulation/simulation_input_files/veh_passenger.rou.xml\n",
      "Success.\n",
      "calling /usr/local/Cellar/sumo/1.8.0/share/sumo/bin/duarouter -n /Users/harrysonghurst/Documents/Coursework/L48 Machine Learning and the Physical World/TrafficEmu/sumo_grid_simulation/simulation_input_files/grid.net.xml -r /Users/harrysonghurst/Documents/Coursework/L48 Machine Learning and the Physical World/TrafficEmu/sumo_grid_simulation/simulation_input_files/veh_passenger.trips.xml --ignore-errors --begin 0.0 --end 3600.0 --no-step-log --additional-files /Users/harrysonghurst/Documents/Coursework/L48 Machine Learning and the Physical World/TrafficEmu/sumo_grid_simulation/simulation_input_files/veh.add.xml --no-warnings -o /Users/harrysonghurst/Documents/Coursework/L48 Machine Learning and the Physical World/TrafficEmu/sumo_grid_simulation/simulation_input_files/veh_passenger.trips.xml.tmp --write-trips\n",
      "Success.\n",
      "\n",
      " Retrying in 1 seconds\n"
     ]
    },
    {
     "name": "stderr",
     "output_type": "stream",
     "text": [
      " /Users/harrysonghurst/opt/anaconda3/envs/traffic/lib/python3.8/site-packages/paramz/transformations.py:111: RuntimeWarning:overflow encountered in expm1\n"
     ]
    },
    {
     "name": "stdout",
     "output_type": "stream",
     "text": [
      "Optimization restart 1/1, f = 1063.392180843619\n",
      "[[25.      25.      25.      22.85841  1.       0.2    ]]\n",
      "Success.\n",
      "\n",
      "calling /usr/local/Cellar/sumo/1.8.0/share/sumo/bin/duarouter -n /Users/harrysonghurst/Documents/Coursework/L48 Machine Learning and the Physical World/TrafficEmu/sumo_grid_simulation/simulation_input_files/grid.net.xml -r /Users/harrysonghurst/Documents/Coursework/L48 Machine Learning and the Physical World/TrafficEmu/sumo_grid_simulation/simulation_input_files/veh_passenger.trips.xml --ignore-errors --begin 0.0 --end 3600.0 --no-step-log --additional-files /Users/harrysonghurst/Documents/Coursework/L48 Machine Learning and the Physical World/TrafficEmu/sumo_grid_simulation/simulation_input_files/veh.add.xml --no-warnings -o /Users/harrysonghurst/Documents/Coursework/L48 Machine Learning and the Physical World/TrafficEmu/sumo_grid_simulation/simulation_input_files/veh_passenger.rou.xml\n",
      "Success.\n",
      "calling /usr/local/Cellar/sumo/1.8.0/share/sumo/bin/duarouter -n /Users/harrysonghurst/Documents/Coursework/L48 Machine Learning and the Physical World/TrafficEmu/sumo_grid_simulation/simulation_input_files/grid.net.xml -r /Users/harrysonghurst/Documents/Coursework/L48 Machine Learning and the Physical World/TrafficEmu/sumo_grid_simulation/simulation_input_files/veh_passenger.trips.xml --ignore-errors --begin 0.0 --end 3600.0 --no-step-log --additional-files /Users/harrysonghurst/Documents/Coursework/L48 Machine Learning and the Physical World/TrafficEmu/sumo_grid_simulation/simulation_input_files/veh.add.xml --no-warnings -o /Users/harrysonghurst/Documents/Coursework/L48 Machine Learning and the Physical World/TrafficEmu/sumo_grid_simulation/simulation_input_files/veh_passenger.trips.xml.tmp --write-trips\n",
      "Success.\n",
      "\n",
      " Retrying in 1 seconds\n"
     ]
    },
    {
     "name": "stderr",
     "output_type": "stream",
     "text": [
      " /Users/harrysonghurst/opt/anaconda3/envs/traffic/lib/python3.8/site-packages/paramz/transformations.py:111: RuntimeWarning:overflow encountered in expm1\n"
     ]
    },
    {
     "name": "stdout",
     "output_type": "stream",
     "text": [
      "Optimization restart 1/1, f = 1069.7332814547171\n",
      "[[ 25.           1.           1.         199.61595416   4.\n",
      "    0.2       ]]\n",
      "Success.\n",
      "\n",
      "calling /usr/local/Cellar/sumo/1.8.0/share/sumo/bin/duarouter -n /Users/harrysonghurst/Documents/Coursework/L48 Machine Learning and the Physical World/TrafficEmu/sumo_grid_simulation/simulation_input_files/grid.net.xml -r /Users/harrysonghurst/Documents/Coursework/L48 Machine Learning and the Physical World/TrafficEmu/sumo_grid_simulation/simulation_input_files/veh_passenger.trips.xml --ignore-errors --begin 0.0 --end 3600.0 --no-step-log --additional-files /Users/harrysonghurst/Documents/Coursework/L48 Machine Learning and the Physical World/TrafficEmu/sumo_grid_simulation/simulation_input_files/veh.add.xml --no-warnings -o /Users/harrysonghurst/Documents/Coursework/L48 Machine Learning and the Physical World/TrafficEmu/sumo_grid_simulation/simulation_input_files/veh_passenger.rou.xml\n",
      "Success.\n",
      "calling /usr/local/Cellar/sumo/1.8.0/share/sumo/bin/duarouter -n /Users/harrysonghurst/Documents/Coursework/L48 Machine Learning and the Physical World/TrafficEmu/sumo_grid_simulation/simulation_input_files/grid.net.xml -r /Users/harrysonghurst/Documents/Coursework/L48 Machine Learning and the Physical World/TrafficEmu/sumo_grid_simulation/simulation_input_files/veh_passenger.trips.xml --ignore-errors --begin 0.0 --end 3600.0 --no-step-log --additional-files /Users/harrysonghurst/Documents/Coursework/L48 Machine Learning and the Physical World/TrafficEmu/sumo_grid_simulation/simulation_input_files/veh.add.xml --no-warnings -o /Users/harrysonghurst/Documents/Coursework/L48 Machine Learning and the Physical World/TrafficEmu/sumo_grid_simulation/simulation_input_files/veh_passenger.trips.xml.tmp --write-trips\n",
      "Success.\n",
      "\n",
      " Retrying in 1 seconds\n"
     ]
    },
    {
     "name": "stderr",
     "output_type": "stream",
     "text": [
      " /Users/harrysonghurst/opt/anaconda3/envs/traffic/lib/python3.8/site-packages/paramz/transformations.py:111: RuntimeWarning:overflow encountered in expm1\n"
     ]
    },
    {
     "name": "stdout",
     "output_type": "stream",
     "text": [
      "Optimization restart 1/1, f = 1078.4361725308945\n",
      "[[ 3.         25.         25.         28.00052629  4.         10.        ]]\n",
      "Success.\n",
      "\n",
      "calling /usr/local/Cellar/sumo/1.8.0/share/sumo/bin/duarouter -n /Users/harrysonghurst/Documents/Coursework/L48 Machine Learning and the Physical World/TrafficEmu/sumo_grid_simulation/simulation_input_files/grid.net.xml -r /Users/harrysonghurst/Documents/Coursework/L48 Machine Learning and the Physical World/TrafficEmu/sumo_grid_simulation/simulation_input_files/veh_passenger.trips.xml --ignore-errors --begin 0.0 --end 3600.0 --no-step-log --additional-files /Users/harrysonghurst/Documents/Coursework/L48 Machine Learning and the Physical World/TrafficEmu/sumo_grid_simulation/simulation_input_files/veh.add.xml --no-warnings -o /Users/harrysonghurst/Documents/Coursework/L48 Machine Learning and the Physical World/TrafficEmu/sumo_grid_simulation/simulation_input_files/veh_passenger.rou.xml\n",
      "Success.\n",
      "calling /usr/local/Cellar/sumo/1.8.0/share/sumo/bin/duarouter -n /Users/harrysonghurst/Documents/Coursework/L48 Machine Learning and the Physical World/TrafficEmu/sumo_grid_simulation/simulation_input_files/grid.net.xml -r /Users/harrysonghurst/Documents/Coursework/L48 Machine Learning and the Physical World/TrafficEmu/sumo_grid_simulation/simulation_input_files/veh_passenger.trips.xml --ignore-errors --begin 0.0 --end 3600.0 --no-step-log --additional-files /Users/harrysonghurst/Documents/Coursework/L48 Machine Learning and the Physical World/TrafficEmu/sumo_grid_simulation/simulation_input_files/veh.add.xml --no-warnings -o /Users/harrysonghurst/Documents/Coursework/L48 Machine Learning and the Physical World/TrafficEmu/sumo_grid_simulation/simulation_input_files/veh_passenger.trips.xml.tmp --write-trips\n",
      "Success.\n",
      "\n",
      " Retrying in 1 seconds\n"
     ]
    },
    {
     "name": "stderr",
     "output_type": "stream",
     "text": [
      " /Users/harrysonghurst/opt/anaconda3/envs/traffic/lib/python3.8/site-packages/paramz/transformations.py:111: RuntimeWarning:overflow encountered in expm1\n"
     ]
    },
    {
     "name": "stdout",
     "output_type": "stream",
     "text": [
      "Optimization restart 1/1, f = 1084.6756172660569\n",
      "[[  3.          25.          25.         154.33862734   4.\n",
      "    0.2       ]]\n",
      "Success.\n",
      "\n",
      "calling /usr/local/Cellar/sumo/1.8.0/share/sumo/bin/duarouter -n /Users/harrysonghurst/Documents/Coursework/L48 Machine Learning and the Physical World/TrafficEmu/sumo_grid_simulation/simulation_input_files/grid.net.xml -r /Users/harrysonghurst/Documents/Coursework/L48 Machine Learning and the Physical World/TrafficEmu/sumo_grid_simulation/simulation_input_files/veh_passenger.trips.xml --ignore-errors --begin 0.0 --end 3600.0 --no-step-log --additional-files /Users/harrysonghurst/Documents/Coursework/L48 Machine Learning and the Physical World/TrafficEmu/sumo_grid_simulation/simulation_input_files/veh.add.xml --no-warnings -o /Users/harrysonghurst/Documents/Coursework/L48 Machine Learning and the Physical World/TrafficEmu/sumo_grid_simulation/simulation_input_files/veh_passenger.rou.xml\n",
      "Success.\n",
      "calling /usr/local/Cellar/sumo/1.8.0/share/sumo/bin/duarouter -n /Users/harrysonghurst/Documents/Coursework/L48 Machine Learning and the Physical World/TrafficEmu/sumo_grid_simulation/simulation_input_files/grid.net.xml -r /Users/harrysonghurst/Documents/Coursework/L48 Machine Learning and the Physical World/TrafficEmu/sumo_grid_simulation/simulation_input_files/veh_passenger.trips.xml --ignore-errors --begin 0.0 --end 3600.0 --no-step-log --additional-files /Users/harrysonghurst/Documents/Coursework/L48 Machine Learning and the Physical World/TrafficEmu/sumo_grid_simulation/simulation_input_files/veh.add.xml --no-warnings -o /Users/harrysonghurst/Documents/Coursework/L48 Machine Learning and the Physical World/TrafficEmu/sumo_grid_simulation/simulation_input_files/veh_passenger.trips.xml.tmp --write-trips\n",
      "Success.\n",
      "\n",
      " Retrying in 1 seconds\n"
     ]
    },
    {
     "name": "stderr",
     "output_type": "stream",
     "text": [
      " /Users/harrysonghurst/opt/anaconda3/envs/traffic/lib/python3.8/site-packages/paramz/transformations.py:111: RuntimeWarning:overflow encountered in expm1\n"
     ]
    },
    {
     "name": "stdout",
     "output_type": "stream",
     "text": [
      "Optimization restart 1/1, f = 1090.854021156868\n",
      "[[ 3.  1.  1.  2.  4. 10.]]\n",
      "Success.\n",
      "\n",
      "Warning: Intersecting left turns at junction 'n1' from lane 'o12ton1_3' and lane 'n2ton1_2' (increase junction radius to avoid this).\n",
      "Warning: Intersecting left turns at junction 'n4' from lane 'n9ton4_3' and lane 'n1ton4_3' (increase junction radius to avoid this).\n",
      "Warning: Intersecting left turns at junction 'n7' from lane 'o6ton7_3' and lane 'n8ton7_2' (increase junction radius to avoid this).\n",
      "\n",
      "calling /usr/local/Cellar/sumo/1.8.0/share/sumo/bin/duarouter -n /Users/harrysonghurst/Documents/Coursework/L48 Machine Learning and the Physical World/TrafficEmu/sumo_grid_simulation/simulation_input_files/grid.net.xml -r /Users/harrysonghurst/Documents/Coursework/L48 Machine Learning and the Physical World/TrafficEmu/sumo_grid_simulation/simulation_input_files/veh_passenger.trips.xml --ignore-errors --begin 0.0 --end 3600.0 --no-step-log --additional-files /Users/harrysonghurst/Documents/Coursework/L48 Machine Learning and the Physical World/TrafficEmu/sumo_grid_simulation/simulation_input_files/veh.add.xml --no-warnings -o /Users/harrysonghurst/Documents/Coursework/L48 Machine Learning and the Physical World/TrafficEmu/sumo_grid_simulation/simulation_input_files/veh_passenger.rou.xml\n",
      "Success.\n",
      "calling /usr/local/Cellar/sumo/1.8.0/share/sumo/bin/duarouter -n /Users/harrysonghurst/Documents/Coursework/L48 Machine Learning and the Physical World/TrafficEmu/sumo_grid_simulation/simulation_input_files/grid.net.xml -r /Users/harrysonghurst/Documents/Coursework/L48 Machine Learning and the Physical World/TrafficEmu/sumo_grid_simulation/simulation_input_files/veh_passenger.trips.xml --ignore-errors --begin 0.0 --end 3600.0 --no-step-log --additional-files /Users/harrysonghurst/Documents/Coursework/L48 Machine Learning and the Physical World/TrafficEmu/sumo_grid_simulation/simulation_input_files/veh.add.xml --no-warnings -o /Users/harrysonghurst/Documents/Coursework/L48 Machine Learning and the Physical World/TrafficEmu/sumo_grid_simulation/simulation_input_files/veh_passenger.trips.xml.tmp --write-trips\n",
      "Success.\n",
      "\n",
      " Retrying in 1 seconds\n"
     ]
    },
    {
     "name": "stderr",
     "output_type": "stream",
     "text": [
      " /Users/harrysonghurst/opt/anaconda3/envs/traffic/lib/python3.8/site-packages/paramz/transformations.py:111: RuntimeWarning:overflow encountered in expm1\n"
     ]
    },
    {
     "name": "stdout",
     "output_type": "stream",
     "text": [
      "Optimization restart 1/1, f = 1096.8045579696538\n",
      "[[  3.   1.   1. 250.   4.  10.]]\n",
      "Success.\n",
      "\n",
      "calling /usr/local/Cellar/sumo/1.8.0/share/sumo/bin/duarouter -n /Users/harrysonghurst/Documents/Coursework/L48 Machine Learning and the Physical World/TrafficEmu/sumo_grid_simulation/simulation_input_files/grid.net.xml -r /Users/harrysonghurst/Documents/Coursework/L48 Machine Learning and the Physical World/TrafficEmu/sumo_grid_simulation/simulation_input_files/veh_passenger.trips.xml --ignore-errors --begin 0.0 --end 3600.0 --no-step-log --additional-files /Users/harrysonghurst/Documents/Coursework/L48 Machine Learning and the Physical World/TrafficEmu/sumo_grid_simulation/simulation_input_files/veh.add.xml --no-warnings -o /Users/harrysonghurst/Documents/Coursework/L48 Machine Learning and the Physical World/TrafficEmu/sumo_grid_simulation/simulation_input_files/veh_passenger.rou.xml\n",
      "Success.\n",
      "calling /usr/local/Cellar/sumo/1.8.0/share/sumo/bin/duarouter -n /Users/harrysonghurst/Documents/Coursework/L48 Machine Learning and the Physical World/TrafficEmu/sumo_grid_simulation/simulation_input_files/grid.net.xml -r /Users/harrysonghurst/Documents/Coursework/L48 Machine Learning and the Physical World/TrafficEmu/sumo_grid_simulation/simulation_input_files/veh_passenger.trips.xml --ignore-errors --begin 0.0 --end 3600.0 --no-step-log --additional-files /Users/harrysonghurst/Documents/Coursework/L48 Machine Learning and the Physical World/TrafficEmu/sumo_grid_simulation/simulation_input_files/veh.add.xml --no-warnings -o /Users/harrysonghurst/Documents/Coursework/L48 Machine Learning and the Physical World/TrafficEmu/sumo_grid_simulation/simulation_input_files/veh_passenger.trips.xml.tmp --write-trips\n",
      "Success.\n",
      "\n",
      " Retrying in 1 seconds\n",
      "Optimization restart 1/1, f = 1102.976783438395\n"
     ]
    },
    {
     "name": "stderr",
     "output_type": "stream",
     "text": [
      " /Users/harrysonghurst/opt/anaconda3/envs/traffic/lib/python3.8/site-packages/paramz/transformations.py:111: RuntimeWarning:overflow encountered in expm1\n"
     ]
    }
   ],
   "source": [
    "ed_loop.run_loop(user_function_time_loss, 150)"
   ]
  },
  {
   "cell_type": "markdown",
   "metadata": {},
   "source": [
    "### Evaluate"
   ]
  },
  {
   "cell_type": "markdown",
   "metadata": {},
   "source": [
    "#### Validate on init points"
   ]
  },
  {
   "cell_type": "code",
   "execution_count": 21,
   "metadata": {},
   "outputs": [
    {
     "name": "stdout",
     "output_type": "stream",
     "text": [
      "Root mean squared error:  1.1247524857947935e-10\n"
     ]
    }
   ],
   "source": [
    "pred_Y, pred_Y_variance = emukit_model.predict(init_X)\n",
    "mse = np.sqrt(np.mean((pred_Y-init_Y)**2))\n",
    "print('Root mean squared error: ', mse)"
   ]
  },
  {
   "cell_type": "code",
   "execution_count": 22,
   "metadata": {},
   "outputs": [
    {
     "data": {
      "text/plain": [
       "array([[346.44],\n",
       "       [ 64.71],\n",
       "       [ 37.59],\n",
       "       [142.22],\n",
       "       [ 49.69],\n",
       "       [ 30.62],\n",
       "       [ 32.97],\n",
       "       [789.23],\n",
       "       [ 25.48],\n",
       "       [  7.11]])"
      ]
     },
     "execution_count": 22,
     "metadata": {},
     "output_type": "execute_result"
    }
   ],
   "source": [
    "pred_Y"
   ]
  },
  {
   "cell_type": "code",
   "execution_count": 20,
   "metadata": {},
   "outputs": [
    {
     "data": {
      "text/plain": [
       "array([[346.44],\n",
       "       [ 64.71],\n",
       "       [ 37.59],\n",
       "       [142.22],\n",
       "       [ 49.69],\n",
       "       [ 30.62],\n",
       "       [ 32.97],\n",
       "       [789.23],\n",
       "       [ 25.48],\n",
       "       [  7.11]])"
      ]
     },
     "execution_count": 20,
     "metadata": {},
     "output_type": "execute_result"
    }
   ],
   "source": [
    "init_Y"
   ]
  },
  {
   "cell_type": "markdown",
   "metadata": {},
   "source": [
    "#### Test on 10 randomly chosen points"
   ]
  },
  {
   "cell_type": "code",
   "execution_count": 13,
   "metadata": {},
   "outputs": [
    {
     "name": "stdout",
     "output_type": "stream",
     "text": [
      "[[ 18.1557065    9.12428222  24.92405944  11.45844227   1.\n",
      "    6.77365423]\n",
      " [ 15.89638014   6.07019038   4.57656477  72.06162579   2.\n",
      "    5.42312269]\n",
      " [ 19.98974798   4.37581374  24.33778989 172.22587872   3.\n",
      "    6.21870606]\n",
      " [ 11.328174     7.74227395   7.74693695 237.72957631   1.\n",
      "    9.98320769]\n",
      " [  7.65715866  21.71753093  13.95268199 168.34128953   3.\n",
      "    6.88639092]\n",
      " [ 20.33567444  12.94538418   3.98119761  90.31075225   2.\n",
      "    4.84705051]\n",
      " [ 15.81481182   9.7330655   21.27931198  73.88789736   3.\n",
      "    2.6620262 ]\n",
      " [ 23.4886678    2.15407706  21.14933399  65.04910418   4.\n",
      "    9.89067377]\n",
      " [  6.52684648   4.31910695  18.34546411 143.57252883   3.\n",
      "    7.48633289]\n",
      " [ 16.93314639  10.78143097  21.96106567  39.49743927   1.\n",
      "    0.57932673]]\n",
      "Success.\n",
      "\n",
      "calling /usr/local/Cellar/sumo/1.8.0/share/sumo/bin/duarouter -n /Users/harrysonghurst/Documents/Coursework/L48 Machine Learning and the Physical World/TrafficEmu/sumo_grid_simulation/simulation_input_files/grid.net.xml -r /Users/harrysonghurst/Documents/Coursework/L48 Machine Learning and the Physical World/TrafficEmu/sumo_grid_simulation/simulation_input_files/veh_passenger.trips.xml --ignore-errors --begin 0.0 --end 3600.0 --no-step-log --additional-files /Users/harrysonghurst/Documents/Coursework/L48 Machine Learning and the Physical World/TrafficEmu/sumo_grid_simulation/simulation_input_files/veh.add.xml --no-warnings -o /Users/harrysonghurst/Documents/Coursework/L48 Machine Learning and the Physical World/TrafficEmu/sumo_grid_simulation/simulation_input_files/veh_passenger.rou.xml\n",
      "Success.\n",
      "calling /usr/local/Cellar/sumo/1.8.0/share/sumo/bin/duarouter -n /Users/harrysonghurst/Documents/Coursework/L48 Machine Learning and the Physical World/TrafficEmu/sumo_grid_simulation/simulation_input_files/grid.net.xml -r /Users/harrysonghurst/Documents/Coursework/L48 Machine Learning and the Physical World/TrafficEmu/sumo_grid_simulation/simulation_input_files/veh_passenger.trips.xml --ignore-errors --begin 0.0 --end 3600.0 --no-step-log --additional-files /Users/harrysonghurst/Documents/Coursework/L48 Machine Learning and the Physical World/TrafficEmu/sumo_grid_simulation/simulation_input_files/veh.add.xml --no-warnings -o /Users/harrysonghurst/Documents/Coursework/L48 Machine Learning and the Physical World/TrafficEmu/sumo_grid_simulation/simulation_input_files/veh_passenger.trips.xml.tmp --write-trips\n",
      "Success.\n",
      "\n",
      " Retrying in 1 seconds\n",
      "Success.\n",
      "\n",
      "calling /usr/local/Cellar/sumo/1.8.0/share/sumo/bin/duarouter -n /Users/harrysonghurst/Documents/Coursework/L48 Machine Learning and the Physical World/TrafficEmu/sumo_grid_simulation/simulation_input_files/grid.net.xml -r /Users/harrysonghurst/Documents/Coursework/L48 Machine Learning and the Physical World/TrafficEmu/sumo_grid_simulation/simulation_input_files/veh_passenger.trips.xml --ignore-errors --begin 0.0 --end 3600.0 --no-step-log --additional-files /Users/harrysonghurst/Documents/Coursework/L48 Machine Learning and the Physical World/TrafficEmu/sumo_grid_simulation/simulation_input_files/veh.add.xml --no-warnings -o /Users/harrysonghurst/Documents/Coursework/L48 Machine Learning and the Physical World/TrafficEmu/sumo_grid_simulation/simulation_input_files/veh_passenger.rou.xml\n",
      "Success.\n",
      "calling /usr/local/Cellar/sumo/1.8.0/share/sumo/bin/duarouter -n /Users/harrysonghurst/Documents/Coursework/L48 Machine Learning and the Physical World/TrafficEmu/sumo_grid_simulation/simulation_input_files/grid.net.xml -r /Users/harrysonghurst/Documents/Coursework/L48 Machine Learning and the Physical World/TrafficEmu/sumo_grid_simulation/simulation_input_files/veh_passenger.trips.xml --ignore-errors --begin 0.0 --end 3600.0 --no-step-log --additional-files /Users/harrysonghurst/Documents/Coursework/L48 Machine Learning and the Physical World/TrafficEmu/sumo_grid_simulation/simulation_input_files/veh.add.xml --no-warnings -o /Users/harrysonghurst/Documents/Coursework/L48 Machine Learning and the Physical World/TrafficEmu/sumo_grid_simulation/simulation_input_files/veh_passenger.trips.xml.tmp --write-trips\n",
      "Success.\n",
      "\n",
      " Retrying in 1 seconds\n",
      "Success.\n",
      "\n",
      "calling /usr/local/Cellar/sumo/1.8.0/share/sumo/bin/duarouter -n /Users/harrysonghurst/Documents/Coursework/L48 Machine Learning and the Physical World/TrafficEmu/sumo_grid_simulation/simulation_input_files/grid.net.xml -r /Users/harrysonghurst/Documents/Coursework/L48 Machine Learning and the Physical World/TrafficEmu/sumo_grid_simulation/simulation_input_files/veh_passenger.trips.xml --ignore-errors --begin 0.0 --end 3600.0 --no-step-log --additional-files /Users/harrysonghurst/Documents/Coursework/L48 Machine Learning and the Physical World/TrafficEmu/sumo_grid_simulation/simulation_input_files/veh.add.xml --no-warnings -o /Users/harrysonghurst/Documents/Coursework/L48 Machine Learning and the Physical World/TrafficEmu/sumo_grid_simulation/simulation_input_files/veh_passenger.rou.xml\n",
      "Success.\n",
      "calling /usr/local/Cellar/sumo/1.8.0/share/sumo/bin/duarouter -n /Users/harrysonghurst/Documents/Coursework/L48 Machine Learning and the Physical World/TrafficEmu/sumo_grid_simulation/simulation_input_files/grid.net.xml -r /Users/harrysonghurst/Documents/Coursework/L48 Machine Learning and the Physical World/TrafficEmu/sumo_grid_simulation/simulation_input_files/veh_passenger.trips.xml --ignore-errors --begin 0.0 --end 3600.0 --no-step-log --additional-files /Users/harrysonghurst/Documents/Coursework/L48 Machine Learning and the Physical World/TrafficEmu/sumo_grid_simulation/simulation_input_files/veh.add.xml --no-warnings -o /Users/harrysonghurst/Documents/Coursework/L48 Machine Learning and the Physical World/TrafficEmu/sumo_grid_simulation/simulation_input_files/veh_passenger.trips.xml.tmp --write-trips\n",
      "Success.\n",
      "\n",
      " Retrying in 1 seconds\n",
      "Success.\n",
      "\n",
      "calling /usr/local/Cellar/sumo/1.8.0/share/sumo/bin/duarouter -n /Users/harrysonghurst/Documents/Coursework/L48 Machine Learning and the Physical World/TrafficEmu/sumo_grid_simulation/simulation_input_files/grid.net.xml -r /Users/harrysonghurst/Documents/Coursework/L48 Machine Learning and the Physical World/TrafficEmu/sumo_grid_simulation/simulation_input_files/veh_passenger.trips.xml --ignore-errors --begin 0.0 --end 3600.0 --no-step-log --additional-files /Users/harrysonghurst/Documents/Coursework/L48 Machine Learning and the Physical World/TrafficEmu/sumo_grid_simulation/simulation_input_files/veh.add.xml --no-warnings -o /Users/harrysonghurst/Documents/Coursework/L48 Machine Learning and the Physical World/TrafficEmu/sumo_grid_simulation/simulation_input_files/veh_passenger.rou.xml\n",
      "Success.\n",
      "calling /usr/local/Cellar/sumo/1.8.0/share/sumo/bin/duarouter -n /Users/harrysonghurst/Documents/Coursework/L48 Machine Learning and the Physical World/TrafficEmu/sumo_grid_simulation/simulation_input_files/grid.net.xml -r /Users/harrysonghurst/Documents/Coursework/L48 Machine Learning and the Physical World/TrafficEmu/sumo_grid_simulation/simulation_input_files/veh_passenger.trips.xml --ignore-errors --begin 0.0 --end 3600.0 --no-step-log --additional-files /Users/harrysonghurst/Documents/Coursework/L48 Machine Learning and the Physical World/TrafficEmu/sumo_grid_simulation/simulation_input_files/veh.add.xml --no-warnings -o /Users/harrysonghurst/Documents/Coursework/L48 Machine Learning and the Physical World/TrafficEmu/sumo_grid_simulation/simulation_input_files/veh_passenger.trips.xml.tmp --write-trips\n",
      "Success.\n",
      "\n",
      " Retrying in 1 seconds\n",
      "Success.\n",
      "\n",
      "calling /usr/local/Cellar/sumo/1.8.0/share/sumo/bin/duarouter -n /Users/harrysonghurst/Documents/Coursework/L48 Machine Learning and the Physical World/TrafficEmu/sumo_grid_simulation/simulation_input_files/grid.net.xml -r /Users/harrysonghurst/Documents/Coursework/L48 Machine Learning and the Physical World/TrafficEmu/sumo_grid_simulation/simulation_input_files/veh_passenger.trips.xml --ignore-errors --begin 0.0 --end 3600.0 --no-step-log --additional-files /Users/harrysonghurst/Documents/Coursework/L48 Machine Learning and the Physical World/TrafficEmu/sumo_grid_simulation/simulation_input_files/veh.add.xml --no-warnings -o /Users/harrysonghurst/Documents/Coursework/L48 Machine Learning and the Physical World/TrafficEmu/sumo_grid_simulation/simulation_input_files/veh_passenger.rou.xml\n",
      "Success.\n",
      "calling /usr/local/Cellar/sumo/1.8.0/share/sumo/bin/duarouter -n /Users/harrysonghurst/Documents/Coursework/L48 Machine Learning and the Physical World/TrafficEmu/sumo_grid_simulation/simulation_input_files/grid.net.xml -r /Users/harrysonghurst/Documents/Coursework/L48 Machine Learning and the Physical World/TrafficEmu/sumo_grid_simulation/simulation_input_files/veh_passenger.trips.xml --ignore-errors --begin 0.0 --end 3600.0 --no-step-log --additional-files /Users/harrysonghurst/Documents/Coursework/L48 Machine Learning and the Physical World/TrafficEmu/sumo_grid_simulation/simulation_input_files/veh.add.xml --no-warnings -o /Users/harrysonghurst/Documents/Coursework/L48 Machine Learning and the Physical World/TrafficEmu/sumo_grid_simulation/simulation_input_files/veh_passenger.trips.xml.tmp --write-trips\n",
      "Success.\n",
      "\n",
      " Retrying in 1 seconds\n"
     ]
    },
    {
     "name": "stdout",
     "output_type": "stream",
     "text": [
      "Success.\n",
      "\n",
      "calling /usr/local/Cellar/sumo/1.8.0/share/sumo/bin/duarouter -n /Users/harrysonghurst/Documents/Coursework/L48 Machine Learning and the Physical World/TrafficEmu/sumo_grid_simulation/simulation_input_files/grid.net.xml -r /Users/harrysonghurst/Documents/Coursework/L48 Machine Learning and the Physical World/TrafficEmu/sumo_grid_simulation/simulation_input_files/veh_passenger.trips.xml --ignore-errors --begin 0.0 --end 3600.0 --no-step-log --additional-files /Users/harrysonghurst/Documents/Coursework/L48 Machine Learning and the Physical World/TrafficEmu/sumo_grid_simulation/simulation_input_files/veh.add.xml --no-warnings -o /Users/harrysonghurst/Documents/Coursework/L48 Machine Learning and the Physical World/TrafficEmu/sumo_grid_simulation/simulation_input_files/veh_passenger.rou.xml\n",
      "Success.\n",
      "calling /usr/local/Cellar/sumo/1.8.0/share/sumo/bin/duarouter -n /Users/harrysonghurst/Documents/Coursework/L48 Machine Learning and the Physical World/TrafficEmu/sumo_grid_simulation/simulation_input_files/grid.net.xml -r /Users/harrysonghurst/Documents/Coursework/L48 Machine Learning and the Physical World/TrafficEmu/sumo_grid_simulation/simulation_input_files/veh_passenger.trips.xml --ignore-errors --begin 0.0 --end 3600.0 --no-step-log --additional-files /Users/harrysonghurst/Documents/Coursework/L48 Machine Learning and the Physical World/TrafficEmu/sumo_grid_simulation/simulation_input_files/veh.add.xml --no-warnings -o /Users/harrysonghurst/Documents/Coursework/L48 Machine Learning and the Physical World/TrafficEmu/sumo_grid_simulation/simulation_input_files/veh_passenger.trips.xml.tmp --write-trips\n",
      "Success.\n",
      "\n",
      " Retrying in 1 seconds\n",
      "Success.\n",
      "\n",
      "calling /usr/local/Cellar/sumo/1.8.0/share/sumo/bin/duarouter -n /Users/harrysonghurst/Documents/Coursework/L48 Machine Learning and the Physical World/TrafficEmu/sumo_grid_simulation/simulation_input_files/grid.net.xml -r /Users/harrysonghurst/Documents/Coursework/L48 Machine Learning and the Physical World/TrafficEmu/sumo_grid_simulation/simulation_input_files/veh_passenger.trips.xml --ignore-errors --begin 0.0 --end 3600.0 --no-step-log --additional-files /Users/harrysonghurst/Documents/Coursework/L48 Machine Learning and the Physical World/TrafficEmu/sumo_grid_simulation/simulation_input_files/veh.add.xml --no-warnings -o /Users/harrysonghurst/Documents/Coursework/L48 Machine Learning and the Physical World/TrafficEmu/sumo_grid_simulation/simulation_input_files/veh_passenger.rou.xml\n",
      "Success.\n",
      "calling /usr/local/Cellar/sumo/1.8.0/share/sumo/bin/duarouter -n /Users/harrysonghurst/Documents/Coursework/L48 Machine Learning and the Physical World/TrafficEmu/sumo_grid_simulation/simulation_input_files/grid.net.xml -r /Users/harrysonghurst/Documents/Coursework/L48 Machine Learning and the Physical World/TrafficEmu/sumo_grid_simulation/simulation_input_files/veh_passenger.trips.xml --ignore-errors --begin 0.0 --end 3600.0 --no-step-log --additional-files /Users/harrysonghurst/Documents/Coursework/L48 Machine Learning and the Physical World/TrafficEmu/sumo_grid_simulation/simulation_input_files/veh.add.xml --no-warnings -o /Users/harrysonghurst/Documents/Coursework/L48 Machine Learning and the Physical World/TrafficEmu/sumo_grid_simulation/simulation_input_files/veh_passenger.trips.xml.tmp --write-trips\n",
      "Success.\n",
      "\n",
      " Retrying in 1 seconds\n",
      "Success.\n",
      "\n",
      "calling /usr/local/Cellar/sumo/1.8.0/share/sumo/bin/duarouter -n /Users/harrysonghurst/Documents/Coursework/L48 Machine Learning and the Physical World/TrafficEmu/sumo_grid_simulation/simulation_input_files/grid.net.xml -r /Users/harrysonghurst/Documents/Coursework/L48 Machine Learning and the Physical World/TrafficEmu/sumo_grid_simulation/simulation_input_files/veh_passenger.trips.xml --ignore-errors --begin 0.0 --end 3600.0 --no-step-log --additional-files /Users/harrysonghurst/Documents/Coursework/L48 Machine Learning and the Physical World/TrafficEmu/sumo_grid_simulation/simulation_input_files/veh.add.xml --no-warnings -o /Users/harrysonghurst/Documents/Coursework/L48 Machine Learning and the Physical World/TrafficEmu/sumo_grid_simulation/simulation_input_files/veh_passenger.rou.xml\n",
      "Success.\n",
      "calling /usr/local/Cellar/sumo/1.8.0/share/sumo/bin/duarouter -n /Users/harrysonghurst/Documents/Coursework/L48 Machine Learning and the Physical World/TrafficEmu/sumo_grid_simulation/simulation_input_files/grid.net.xml -r /Users/harrysonghurst/Documents/Coursework/L48 Machine Learning and the Physical World/TrafficEmu/sumo_grid_simulation/simulation_input_files/veh_passenger.trips.xml --ignore-errors --begin 0.0 --end 3600.0 --no-step-log --additional-files /Users/harrysonghurst/Documents/Coursework/L48 Machine Learning and the Physical World/TrafficEmu/sumo_grid_simulation/simulation_input_files/veh.add.xml --no-warnings -o /Users/harrysonghurst/Documents/Coursework/L48 Machine Learning and the Physical World/TrafficEmu/sumo_grid_simulation/simulation_input_files/veh_passenger.trips.xml.tmp --write-trips\n",
      "Success.\n",
      "\n",
      " Retrying in 1 seconds\n",
      "Success.\n",
      "\n",
      "calling /usr/local/Cellar/sumo/1.8.0/share/sumo/bin/duarouter -n /Users/harrysonghurst/Documents/Coursework/L48 Machine Learning and the Physical World/TrafficEmu/sumo_grid_simulation/simulation_input_files/grid.net.xml -r /Users/harrysonghurst/Documents/Coursework/L48 Machine Learning and the Physical World/TrafficEmu/sumo_grid_simulation/simulation_input_files/veh_passenger.trips.xml --ignore-errors --begin 0.0 --end 3600.0 --no-step-log --additional-files /Users/harrysonghurst/Documents/Coursework/L48 Machine Learning and the Physical World/TrafficEmu/sumo_grid_simulation/simulation_input_files/veh.add.xml --no-warnings -o /Users/harrysonghurst/Documents/Coursework/L48 Machine Learning and the Physical World/TrafficEmu/sumo_grid_simulation/simulation_input_files/veh_passenger.rou.xml\n",
      "Success.\n",
      "calling /usr/local/Cellar/sumo/1.8.0/share/sumo/bin/duarouter -n /Users/harrysonghurst/Documents/Coursework/L48 Machine Learning and the Physical World/TrafficEmu/sumo_grid_simulation/simulation_input_files/grid.net.xml -r /Users/harrysonghurst/Documents/Coursework/L48 Machine Learning and the Physical World/TrafficEmu/sumo_grid_simulation/simulation_input_files/veh_passenger.trips.xml --ignore-errors --begin 0.0 --end 3600.0 --no-step-log --additional-files /Users/harrysonghurst/Documents/Coursework/L48 Machine Learning and the Physical World/TrafficEmu/sumo_grid_simulation/simulation_input_files/veh.add.xml --no-warnings -o /Users/harrysonghurst/Documents/Coursework/L48 Machine Learning and the Physical World/TrafficEmu/sumo_grid_simulation/simulation_input_files/veh_passenger.trips.xml.tmp --write-trips\n",
      "Success.\n",
      "\n",
      " Retrying in 1 seconds\n",
      "Success.\n",
      "\n",
      "calling /usr/local/Cellar/sumo/1.8.0/share/sumo/bin/duarouter -n /Users/harrysonghurst/Documents/Coursework/L48 Machine Learning and the Physical World/TrafficEmu/sumo_grid_simulation/simulation_input_files/grid.net.xml -r /Users/harrysonghurst/Documents/Coursework/L48 Machine Learning and the Physical World/TrafficEmu/sumo_grid_simulation/simulation_input_files/veh_passenger.trips.xml --ignore-errors --begin 0.0 --end 3600.0 --no-step-log --additional-files /Users/harrysonghurst/Documents/Coursework/L48 Machine Learning and the Physical World/TrafficEmu/sumo_grid_simulation/simulation_input_files/veh.add.xml --no-warnings -o /Users/harrysonghurst/Documents/Coursework/L48 Machine Learning and the Physical World/TrafficEmu/sumo_grid_simulation/simulation_input_files/veh_passenger.rou.xml\n",
      "Success.\n",
      "calling /usr/local/Cellar/sumo/1.8.0/share/sumo/bin/duarouter -n /Users/harrysonghurst/Documents/Coursework/L48 Machine Learning and the Physical World/TrafficEmu/sumo_grid_simulation/simulation_input_files/grid.net.xml -r /Users/harrysonghurst/Documents/Coursework/L48 Machine Learning and the Physical World/TrafficEmu/sumo_grid_simulation/simulation_input_files/veh_passenger.trips.xml --ignore-errors --begin 0.0 --end 3600.0 --no-step-log --additional-files /Users/harrysonghurst/Documents/Coursework/L48 Machine Learning and the Physical World/TrafficEmu/sumo_grid_simulation/simulation_input_files/veh.add.xml --no-warnings -o /Users/harrysonghurst/Documents/Coursework/L48 Machine Learning and the Physical World/TrafficEmu/sumo_grid_simulation/simulation_input_files/veh_passenger.trips.xml.tmp --write-trips\n",
      "Success.\n",
      "\n",
      " Retrying in 1 seconds\n"
     ]
    },
    {
     "name": "stdout",
     "output_type": "stream",
     "text": [
      "Avg error:  14590.332586718278\n"
     ]
    }
   ],
   "source": [
    "design = RandomDesign(parameter_space)  # initialize with random points\n",
    "num_data_points = 10\n",
    "test_X = design.get_samples(num_data_points)\n",
    "test_Y = user_function_time_loss(test_X)\n",
    "pred_Y, pred_Y_variance = emukit_model.predict(test_X)"
   ]
  },
  {
   "cell_type": "code",
   "execution_count": 17,
   "metadata": {},
   "outputs": [
    {
     "name": "stdout",
     "output_type": "stream",
     "text": [
      "Root mean squared error:  120.79044907076998\n"
     ]
    }
   ],
   "source": [
    "mse = np.sqrt(np.mean((pred_Y-test_Y)**2))\n",
    "print('Root mean squared error: ', mse)"
   ]
  },
  {
   "cell_type": "code",
   "execution_count": 18,
   "metadata": {},
   "outputs": [
    {
     "data": {
      "text/plain": [
       "array([[ 16.91759537],\n",
       "       [ 98.20844845],\n",
       "       [199.90890357],\n",
       "       [451.0270485 ],\n",
       "       [-28.17991988],\n",
       "       [128.2077359 ],\n",
       "       [ 55.37131318],\n",
       "       [114.40630853],\n",
       "       [221.84629298],\n",
       "       [-11.62902689]])"
      ]
     },
     "execution_count": 18,
     "metadata": {},
     "output_type": "execute_result"
    }
   ],
   "source": [
    "pred_Y"
   ]
  },
  {
   "cell_type": "code",
   "execution_count": 19,
   "metadata": {},
   "outputs": [
    {
     "data": {
      "text/plain": [
       "array([[  8.93],\n",
       "       [ 67.04],\n",
       "       [203.99],\n",
       "       [113.52],\n",
       "       [ 20.03],\n",
       "       [124.3 ],\n",
       "       [ 17.3 ],\n",
       "       [166.18],\n",
       "       [ 69.86],\n",
       "       [ 25.4 ]])"
      ]
     },
     "execution_count": 19,
     "metadata": {},
     "output_type": "execute_result"
    }
   ],
   "source": [
    "test_Y"
   ]
  }
 ],
 "metadata": {
  "kernelspec": {
   "display_name": "Python 3",
   "language": "python",
   "name": "python3"
  },
  "language_info": {
   "codemirror_mode": {
    "name": "ipython",
    "version": 3
   },
   "file_extension": ".py",
   "mimetype": "text/x-python",
   "name": "python",
   "nbconvert_exporter": "python",
   "pygments_lexer": "ipython3",
   "version": "3.8.3"
  }
 },
 "nbformat": 4,
 "nbformat_minor": 4
}
